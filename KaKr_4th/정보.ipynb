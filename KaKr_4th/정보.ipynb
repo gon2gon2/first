{
 "cells": [
  {
   "cell_type": "markdown",
   "metadata": {},
   "source": [
    "# KaKr 값 처리\n",
    "- ?값 처리\n",
    "- max값이 99999? 한번 열어볼 가치가 있다 (outlier)\n",
    "- workclass, occupation, native_country 컬럼의 결측치 \n"
   ]
  },
  {
   "cell_type": "markdown",
   "metadata": {},
   "source": [
    "# 보통 쓰이는 방식\n",
    "- 다른 columns의 값으로 회귀하여 결측치 처리하는 방식\n",
    "- 각 범주마다 필터링해서 최빈값 처리 make sense\n",
    "- 범주형은 만만한게 최빈값처리"
   ]
  },
  {
   "cell_type": "code",
   "execution_count": null,
   "metadata": {},
   "outputs": [],
   "source": [
    "for c in has_na_columns:\n",
    "    # 안전하게 하기 위해서 조건은 train, 실제 적용은 tmp_train에 \n",
    "    tmp_train.loc[train[c]== '?',c] = train[c].mode()[0]\n",
    "    tmp_test.loc[test[c]== '?',c] = test[c].mode()[0]"
   ]
  },
  {
   "cell_type": "markdown",
   "metadata": {},
   "source": [
    "# Code\n",
    "- loc : 조건으로 인덱싱(True, False) loc[행 조건, 열 조건]\n",
    "- df.reset_index(drop=True): 인덱스 초기화, drop: 기존 index를 새로운 columns으로 만들 것인가, drop할 것인가\n",
    "- [c for c,t in zip(tmp_train.dtypes.index, tmp_train.dtypes) if t == 'O']\n",
    "\n",
    "### train_test_split (x, y, stratify = y) \n",
    "- stratify --> 분류할 때 기존 label의 비율을 유지하겠다\n",
    "\n",
    "### StandardScaler()\n",
    "- fit은 train에\n",
    "- transform은 train, test 둘 다\n",
    "- 둘 다 하고나서 describe로 mean, std 확인해보깅\n",
    "\n",
    "### One-hot encoding\n",
    "- 라벨인코딩을 하고 원핫을 해야 함\n",
    "- 범주형 변수를 수치형으로 인코딩, 범주형 변수에는 Onehot Encoding\n",
    "- 각 범주가 독립적이라고 생각 되면 해도 됨\n",
    "- 트리기반은 \n",
    "- 차원의 저주 (학습하기에 차원이 너무 큰 경우, sparse한 경우)\n"
   ]
  },
  {
   "cell_type": "code",
   "execution_count": null,
   "metadata": {},
   "outputs": [],
   "source": []
  },
  {
   "cell_type": "code",
   "execution_count": null,
   "metadata": {},
   "outputs": [],
   "source": [
    "ss = StandardScaler()\n",
    "tmp_train[num_columns] = scaler.fit(tmp_train[num_columns])"
   ]
  },
  {
   "cell_type": "markdown",
   "metadata": {},
   "source": [
    "# Insights\n",
    "- capital loss와 gain을 그냥 하나로 합치자.gain - loss로"
   ]
  },
  {
   "cell_type": "code",
   "execution_count": null,
   "metadata": {},
   "outputs": [],
   "source": []
  }
 ],
 "metadata": {
  "kernelspec": {
   "display_name": "Python 3",
   "language": "python",
   "name": "python3"
  },
  "language_info": {
   "codemirror_mode": {
    "name": "ipython",
    "version": 3
   },
   "file_extension": ".py",
   "mimetype": "text/x-python",
   "name": "python",
   "nbconvert_exporter": "python",
   "pygments_lexer": "ipython3",
   "version": "3.7.6"
  }
 },
 "nbformat": 4,
 "nbformat_minor": 4
}
