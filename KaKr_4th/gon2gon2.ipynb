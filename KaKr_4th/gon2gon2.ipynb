{
 "cells": [
  {
   "cell_type": "code",
   "execution_count": 1,
   "metadata": {
    "_cell_guid": "b1076dfc-b9ad-4769-8c92-a6c4dae69d19",
    "_uuid": "8f2839f25d086af736a60e9eeb907d3b93b6e0e5",
    "id": "bEzQ6tBe2IXf"
   },
   "outputs": [
    {
     "name": "stderr",
     "output_type": "stream",
     "text": [
      "\n",
      "Bad key \"axes.titlelocation\" on line 10 in\n",
      "C:\\Users\\gon2gon2\\.matplotlib\\stylelib\\mystyle.mplstyle.\n",
      "You probably need to get an updated matplotlibrc file from\n",
      "https://github.com/matplotlib/matplotlib/blob/v3.1.3/matplotlibrc.template\n",
      "or from the matplotlib source distribution\n",
      "\n",
      "Bad key \"axes.titlecolor\" on line 13 in\n",
      "C:\\Users\\gon2gon2\\.matplotlib\\stylelib\\mystyle.mplstyle.\n",
      "You probably need to get an updated matplotlibrc file from\n",
      "https://github.com/matplotlib/matplotlib/blob/v3.1.3/matplotlibrc.template\n",
      "or from the matplotlib source distribution\n"
     ]
    }
   ],
   "source": [
    "import numpy as np \n",
    "import pandas as pd\n",
    "import matplotlib.pyplot as plt\n",
    "import seaborn as sns\n",
    "import missingno as msno\n",
    "import warnings\n",
    "warnings.filterwarnings('ignore')\n",
    "import os"
   ]
  },
  {
   "cell_type": "code",
   "execution_count": 2,
   "metadata": {},
   "outputs": [
    {
     "data": {
      "text/plain": [
       "'c:\\\\kaggle\\\\KaKr_4th'"
      ]
     },
     "execution_count": 2,
     "metadata": {},
     "output_type": "execute_result"
    }
   ],
   "source": [
    "os.getcwd()"
   ]
  },
  {
   "cell_type": "code",
   "execution_count": 3,
   "metadata": {
    "colab": {
     "base_uri": "https://localhost:8080/"
    },
    "id": "pbnJNcpz2IXn",
    "outputId": "d9f93344-a171-4b22-f3fc-a4546af03d44"
   },
   "outputs": [
    {
     "name": "stdout",
     "output_type": "stream",
     "text": [
      "['sample_submission.csv', 'test.csv', 'train.csv']\n"
     ]
    }
   ],
   "source": [
    "path = './data'\n",
    "f_list = os.listdir(path)\n",
    "print(f_list)"
   ]
  },
  {
   "cell_type": "code",
   "execution_count": 4,
   "metadata": {
    "_cell_guid": "79c7e3d0-c299-4dcb-8224-4455121ee9b0",
    "_uuid": "d629ff2d2480ee46fbb7e2d37f6b5fab8052498a",
    "id": "csR4O4jG2IXs"
   },
   "outputs": [],
   "source": [
    "train = pd.read_csv(os.path.join(path,f_list[2]))\n",
    "test = pd.read_csv(os.path.join(path,f_list[1]))\n",
    "sample = pd.read_csv(os.path.join(path,f_list[0]))"
   ]
  },
  {
   "cell_type": "code",
   "execution_count": 5,
   "metadata": {
    "colab": {
     "base_uri": "https://localhost:8080/",
     "height": 562
    },
    "id": "xLAXgZXv2IXw",
    "outputId": "4e376545-5046-489d-916d-6b610de23681"
   },
   "outputs": [
    {
     "data": {
      "text/html": [
       "<div>\n",
       "<style scoped>\n",
       "    .dataframe tbody tr th:only-of-type {\n",
       "        vertical-align: middle;\n",
       "    }\n",
       "\n",
       "    .dataframe tbody tr th {\n",
       "        vertical-align: top;\n",
       "    }\n",
       "\n",
       "    .dataframe thead th {\n",
       "        text-align: right;\n",
       "    }\n",
       "</style>\n",
       "<table border=\"1\" class=\"dataframe\">\n",
       "  <thead>\n",
       "    <tr style=\"text-align: right;\">\n",
       "      <th></th>\n",
       "      <th>id</th>\n",
       "      <th>age</th>\n",
       "      <th>workclass</th>\n",
       "      <th>fnlwgt</th>\n",
       "      <th>education</th>\n",
       "      <th>education_num</th>\n",
       "      <th>marital_status</th>\n",
       "      <th>occupation</th>\n",
       "      <th>relationship</th>\n",
       "      <th>race</th>\n",
       "      <th>sex</th>\n",
       "      <th>capital_gain</th>\n",
       "      <th>capital_loss</th>\n",
       "      <th>hours_per_week</th>\n",
       "      <th>native_country</th>\n",
       "      <th>income</th>\n",
       "    </tr>\n",
       "  </thead>\n",
       "  <tbody>\n",
       "    <tr>\n",
       "      <th>0</th>\n",
       "      <td>0</td>\n",
       "      <td>40</td>\n",
       "      <td>Private</td>\n",
       "      <td>168538</td>\n",
       "      <td>HS-grad</td>\n",
       "      <td>9</td>\n",
       "      <td>Married-civ-spouse</td>\n",
       "      <td>Sales</td>\n",
       "      <td>Husband</td>\n",
       "      <td>White</td>\n",
       "      <td>Male</td>\n",
       "      <td>0</td>\n",
       "      <td>0</td>\n",
       "      <td>60</td>\n",
       "      <td>United-States</td>\n",
       "      <td>&gt;50K</td>\n",
       "    </tr>\n",
       "    <tr>\n",
       "      <th>1</th>\n",
       "      <td>1</td>\n",
       "      <td>17</td>\n",
       "      <td>Private</td>\n",
       "      <td>101626</td>\n",
       "      <td>9th</td>\n",
       "      <td>5</td>\n",
       "      <td>Never-married</td>\n",
       "      <td>Machine-op-inspct</td>\n",
       "      <td>Own-child</td>\n",
       "      <td>White</td>\n",
       "      <td>Male</td>\n",
       "      <td>0</td>\n",
       "      <td>0</td>\n",
       "      <td>20</td>\n",
       "      <td>United-States</td>\n",
       "      <td>&lt;=50K</td>\n",
       "    </tr>\n",
       "    <tr>\n",
       "      <th>2</th>\n",
       "      <td>2</td>\n",
       "      <td>18</td>\n",
       "      <td>Private</td>\n",
       "      <td>353358</td>\n",
       "      <td>Some-college</td>\n",
       "      <td>10</td>\n",
       "      <td>Never-married</td>\n",
       "      <td>Other-service</td>\n",
       "      <td>Own-child</td>\n",
       "      <td>White</td>\n",
       "      <td>Male</td>\n",
       "      <td>0</td>\n",
       "      <td>0</td>\n",
       "      <td>16</td>\n",
       "      <td>United-States</td>\n",
       "      <td>&lt;=50K</td>\n",
       "    </tr>\n",
       "    <tr>\n",
       "      <th>3</th>\n",
       "      <td>3</td>\n",
       "      <td>21</td>\n",
       "      <td>Private</td>\n",
       "      <td>151158</td>\n",
       "      <td>Some-college</td>\n",
       "      <td>10</td>\n",
       "      <td>Never-married</td>\n",
       "      <td>Prof-specialty</td>\n",
       "      <td>Own-child</td>\n",
       "      <td>White</td>\n",
       "      <td>Female</td>\n",
       "      <td>0</td>\n",
       "      <td>0</td>\n",
       "      <td>25</td>\n",
       "      <td>United-States</td>\n",
       "      <td>&lt;=50K</td>\n",
       "    </tr>\n",
       "    <tr>\n",
       "      <th>4</th>\n",
       "      <td>4</td>\n",
       "      <td>24</td>\n",
       "      <td>Private</td>\n",
       "      <td>122234</td>\n",
       "      <td>Some-college</td>\n",
       "      <td>10</td>\n",
       "      <td>Never-married</td>\n",
       "      <td>Adm-clerical</td>\n",
       "      <td>Not-in-family</td>\n",
       "      <td>Black</td>\n",
       "      <td>Female</td>\n",
       "      <td>0</td>\n",
       "      <td>0</td>\n",
       "      <td>20</td>\n",
       "      <td>?</td>\n",
       "      <td>&lt;=50K</td>\n",
       "    </tr>\n",
       "  </tbody>\n",
       "</table>\n",
       "</div>"
      ],
      "text/plain": [
       "   id  age workclass  fnlwgt     education  education_num      marital_status  \\\n",
       "0   0   40   Private  168538       HS-grad              9  Married-civ-spouse   \n",
       "1   1   17   Private  101626           9th              5       Never-married   \n",
       "2   2   18   Private  353358  Some-college             10       Never-married   \n",
       "3   3   21   Private  151158  Some-college             10       Never-married   \n",
       "4   4   24   Private  122234  Some-college             10       Never-married   \n",
       "\n",
       "          occupation   relationship   race     sex  capital_gain  \\\n",
       "0              Sales        Husband  White    Male             0   \n",
       "1  Machine-op-inspct      Own-child  White    Male             0   \n",
       "2      Other-service      Own-child  White    Male             0   \n",
       "3     Prof-specialty      Own-child  White  Female             0   \n",
       "4       Adm-clerical  Not-in-family  Black  Female             0   \n",
       "\n",
       "   capital_loss  hours_per_week native_country income  \n",
       "0             0              60  United-States   >50K  \n",
       "1             0              20  United-States  <=50K  \n",
       "2             0              16  United-States  <=50K  \n",
       "3             0              25  United-States  <=50K  \n",
       "4             0              20              ?  <=50K  "
      ]
     },
     "metadata": {},
     "output_type": "display_data"
    },
    {
     "data": {
      "text/html": [
       "<div>\n",
       "<style scoped>\n",
       "    .dataframe tbody tr th:only-of-type {\n",
       "        vertical-align: middle;\n",
       "    }\n",
       "\n",
       "    .dataframe tbody tr th {\n",
       "        vertical-align: top;\n",
       "    }\n",
       "\n",
       "    .dataframe thead th {\n",
       "        text-align: right;\n",
       "    }\n",
       "</style>\n",
       "<table border=\"1\" class=\"dataframe\">\n",
       "  <thead>\n",
       "    <tr style=\"text-align: right;\">\n",
       "      <th></th>\n",
       "      <th>id</th>\n",
       "      <th>age</th>\n",
       "      <th>workclass</th>\n",
       "      <th>fnlwgt</th>\n",
       "      <th>education</th>\n",
       "      <th>education_num</th>\n",
       "      <th>marital_status</th>\n",
       "      <th>occupation</th>\n",
       "      <th>relationship</th>\n",
       "      <th>race</th>\n",
       "      <th>sex</th>\n",
       "      <th>capital_gain</th>\n",
       "      <th>capital_loss</th>\n",
       "      <th>hours_per_week</th>\n",
       "      <th>native_country</th>\n",
       "    </tr>\n",
       "  </thead>\n",
       "  <tbody>\n",
       "    <tr>\n",
       "      <th>0</th>\n",
       "      <td>0</td>\n",
       "      <td>28</td>\n",
       "      <td>Private</td>\n",
       "      <td>67661</td>\n",
       "      <td>Some-college</td>\n",
       "      <td>10</td>\n",
       "      <td>Never-married</td>\n",
       "      <td>Adm-clerical</td>\n",
       "      <td>Other-relative</td>\n",
       "      <td>White</td>\n",
       "      <td>Female</td>\n",
       "      <td>0</td>\n",
       "      <td>0</td>\n",
       "      <td>40</td>\n",
       "      <td>United-States</td>\n",
       "    </tr>\n",
       "    <tr>\n",
       "      <th>1</th>\n",
       "      <td>1</td>\n",
       "      <td>40</td>\n",
       "      <td>Self-emp-inc</td>\n",
       "      <td>37869</td>\n",
       "      <td>HS-grad</td>\n",
       "      <td>9</td>\n",
       "      <td>Married-civ-spouse</td>\n",
       "      <td>Exec-managerial</td>\n",
       "      <td>Husband</td>\n",
       "      <td>White</td>\n",
       "      <td>Male</td>\n",
       "      <td>0</td>\n",
       "      <td>0</td>\n",
       "      <td>50</td>\n",
       "      <td>United-States</td>\n",
       "    </tr>\n",
       "    <tr>\n",
       "      <th>2</th>\n",
       "      <td>2</td>\n",
       "      <td>20</td>\n",
       "      <td>Private</td>\n",
       "      <td>109952</td>\n",
       "      <td>Some-college</td>\n",
       "      <td>10</td>\n",
       "      <td>Never-married</td>\n",
       "      <td>Handlers-cleaners</td>\n",
       "      <td>Own-child</td>\n",
       "      <td>White</td>\n",
       "      <td>Male</td>\n",
       "      <td>0</td>\n",
       "      <td>0</td>\n",
       "      <td>25</td>\n",
       "      <td>United-States</td>\n",
       "    </tr>\n",
       "    <tr>\n",
       "      <th>3</th>\n",
       "      <td>3</td>\n",
       "      <td>40</td>\n",
       "      <td>Private</td>\n",
       "      <td>114537</td>\n",
       "      <td>Assoc-voc</td>\n",
       "      <td>11</td>\n",
       "      <td>Married-civ-spouse</td>\n",
       "      <td>Exec-managerial</td>\n",
       "      <td>Husband</td>\n",
       "      <td>White</td>\n",
       "      <td>Male</td>\n",
       "      <td>0</td>\n",
       "      <td>0</td>\n",
       "      <td>50</td>\n",
       "      <td>United-States</td>\n",
       "    </tr>\n",
       "    <tr>\n",
       "      <th>4</th>\n",
       "      <td>4</td>\n",
       "      <td>37</td>\n",
       "      <td>Private</td>\n",
       "      <td>51264</td>\n",
       "      <td>Doctorate</td>\n",
       "      <td>16</td>\n",
       "      <td>Married-civ-spouse</td>\n",
       "      <td>Prof-specialty</td>\n",
       "      <td>Husband</td>\n",
       "      <td>White</td>\n",
       "      <td>Male</td>\n",
       "      <td>0</td>\n",
       "      <td>0</td>\n",
       "      <td>99</td>\n",
       "      <td>France</td>\n",
       "    </tr>\n",
       "  </tbody>\n",
       "</table>\n",
       "</div>"
      ],
      "text/plain": [
       "   id  age     workclass  fnlwgt     education  education_num  \\\n",
       "0   0   28       Private   67661  Some-college             10   \n",
       "1   1   40  Self-emp-inc   37869       HS-grad              9   \n",
       "2   2   20       Private  109952  Some-college             10   \n",
       "3   3   40       Private  114537     Assoc-voc             11   \n",
       "4   4   37       Private   51264     Doctorate             16   \n",
       "\n",
       "       marital_status         occupation    relationship   race     sex  \\\n",
       "0       Never-married       Adm-clerical  Other-relative  White  Female   \n",
       "1  Married-civ-spouse    Exec-managerial         Husband  White    Male   \n",
       "2       Never-married  Handlers-cleaners       Own-child  White    Male   \n",
       "3  Married-civ-spouse    Exec-managerial         Husband  White    Male   \n",
       "4  Married-civ-spouse     Prof-specialty         Husband  White    Male   \n",
       "\n",
       "   capital_gain  capital_loss  hours_per_week native_country  \n",
       "0             0             0              40  United-States  \n",
       "1             0             0              50  United-States  \n",
       "2             0             0              25  United-States  \n",
       "3             0             0              50  United-States  \n",
       "4             0             0              99         France  "
      ]
     },
     "metadata": {},
     "output_type": "display_data"
    }
   ],
   "source": [
    "display(train.head())\n",
    "display(test.head())"
   ]
  },
  {
   "cell_type": "code",
   "execution_count": 6,
   "metadata": {
    "colab": {
     "base_uri": "https://localhost:8080/"
    },
    "id": "pZOjxTuI2IXz",
    "outputId": "2803a7d1-47e6-4068-bbd2-35904c8b3cde"
   },
   "outputs": [
    {
     "data": {
      "text/plain": [
       "Index(['id', 'age', 'workclass', 'fnlwgt', 'education', 'education_num',\n",
       "       'marital_status', 'occupation', 'relationship', 'race', 'sex',\n",
       "       'capital_gain', 'capital_loss', 'hours_per_week', 'native_country',\n",
       "       'income'],\n",
       "      dtype='object')"
      ]
     },
     "execution_count": 6,
     "metadata": {},
     "output_type": "execute_result"
    }
   ],
   "source": [
    "train.columns"
   ]
  },
  {
   "cell_type": "code",
   "execution_count": 7,
   "metadata": {
    "colab": {
     "base_uri": "https://localhost:8080/"
    },
    "id": "Op20cnBQ2IX2",
    "outputId": "bf4569e1-ff66-446e-caa2-c4d5bf20086a"
   },
   "outputs": [
    {
     "name": "stdout",
     "output_type": "stream",
     "text": [
      "<class 'pandas.core.frame.DataFrame'>\n",
      "RangeIndex: 26049 entries, 0 to 26048\n",
      "Data columns (total 16 columns):\n",
      " #   Column          Non-Null Count  Dtype \n",
      "---  ------          --------------  ----- \n",
      " 0   id              26049 non-null  int64 \n",
      " 1   age             26049 non-null  int64 \n",
      " 2   workclass       26049 non-null  object\n",
      " 3   fnlwgt          26049 non-null  int64 \n",
      " 4   education       26049 non-null  object\n",
      " 5   education_num   26049 non-null  int64 \n",
      " 6   marital_status  26049 non-null  object\n",
      " 7   occupation      26049 non-null  object\n",
      " 8   relationship    26049 non-null  object\n",
      " 9   race            26049 non-null  object\n",
      " 10  sex             26049 non-null  object\n",
      " 11  capital_gain    26049 non-null  int64 \n",
      " 12  capital_loss    26049 non-null  int64 \n",
      " 13  hours_per_week  26049 non-null  int64 \n",
      " 14  native_country  26049 non-null  object\n",
      " 15  income          26049 non-null  object\n",
      "dtypes: int64(7), object(9)\n",
      "memory usage: 3.2+ MB\n"
     ]
    }
   ],
   "source": [
    "train.info()"
   ]
  },
  {
   "cell_type": "code",
   "execution_count": 8,
   "metadata": {
    "colab": {
     "base_uri": "https://localhost:8080/",
     "height": 540
    },
    "id": "wJzudW492IX5",
    "outputId": "07abd18b-ab36-4994-b675-8bf8cbb8860f"
   },
   "outputs": [
    {
     "data": {
      "text/plain": [
       "<matplotlib.axes._subplots.AxesSubplot at 0x1fc76413288>"
      ]
     },
     "execution_count": 8,
     "metadata": {},
     "output_type": "execute_result"
    },
    {
     "data": {
      "image/png": "[encoded data removed]",
      "text/plain": [
       "<Figure size 1800x720 with 2 Axes>"
      ]
     },
     "metadata": {
      "needs_background": "light"
     },
     "output_type": "display_data"
    }
   ],
   "source": [
    "msno.matrix(train)"
   ]
  },
  {
   "cell_type": "code",
   "execution_count": 9,
   "metadata": {
    "colab": {
     "base_uri": "https://localhost:8080/"
    },
    "id": "TFPcLdfw2IX9",
    "outputId": "899f4d2e-fa7a-42d5-d221-b2aa9a93217c"
   },
   "outputs": [
    {
     "data": {
      "text/plain": [
       "str"
      ]
     },
     "execution_count": 9,
     "metadata": {},
     "output_type": "execute_result"
    }
   ],
   "source": [
    "type(train['income'][1])"
   ]
  },
  {
   "cell_type": "code",
   "execution_count": 10,
   "metadata": {
    "id": "bjkJv1W92IYB"
   },
   "outputs": [],
   "source": [
    "train.loc[train['income']=='>50K', 'income'] = 1\n",
    "train.loc[train['income']=='<=50K', 'income'] = 0"
   ]
  },
  {
   "cell_type": "code",
   "execution_count": null,
   "metadata": {},
   "outputs": [],
   "source": [
    "# 다른 방법 1\n",
    "train.income.map(lambda x: int(x=='>50k'))\n",
    "# 다른 방법 2\n",
    "label = label.map(lambda x: 1 if x == '>50K' else 0)"
   ]
  },
  {
   "cell_type": "code",
   "execution_count": 11,
   "metadata": {
    "colab": {
     "base_uri": "https://localhost:8080/",
     "height": 299
    },
    "id": "Vl7JaktX2IYE",
    "outputId": "770ff220-c074-4a81-a5fe-850ddc8da9d1"
   },
   "outputs": [
    {
     "data": {
      "text/html": [
       "<div>\n",
       "<style scoped>\n",
       "    .dataframe tbody tr th:only-of-type {\n",
       "        vertical-align: middle;\n",
       "    }\n",
       "\n",
       "    .dataframe tbody tr th {\n",
       "        vertical-align: top;\n",
       "    }\n",
       "\n",
       "    .dataframe thead th {\n",
       "        text-align: right;\n",
       "    }\n",
       "</style>\n",
       "<table border=\"1\" class=\"dataframe\">\n",
       "  <thead>\n",
       "    <tr style=\"text-align: right;\">\n",
       "      <th></th>\n",
       "      <th>id</th>\n",
       "      <th>age</th>\n",
       "      <th>workclass</th>\n",
       "      <th>fnlwgt</th>\n",
       "      <th>education</th>\n",
       "      <th>education_num</th>\n",
       "      <th>marital_status</th>\n",
       "      <th>occupation</th>\n",
       "      <th>relationship</th>\n",
       "      <th>race</th>\n",
       "      <th>sex</th>\n",
       "      <th>capital_gain</th>\n",
       "      <th>capital_loss</th>\n",
       "      <th>hours_per_week</th>\n",
       "      <th>native_country</th>\n",
       "      <th>income</th>\n",
       "    </tr>\n",
       "  </thead>\n",
       "  <tbody>\n",
       "    <tr>\n",
       "      <th>0</th>\n",
       "      <td>0</td>\n",
       "      <td>40</td>\n",
       "      <td>Private</td>\n",
       "      <td>168538</td>\n",
       "      <td>HS-grad</td>\n",
       "      <td>9</td>\n",
       "      <td>Married-civ-spouse</td>\n",
       "      <td>Sales</td>\n",
       "      <td>Husband</td>\n",
       "      <td>White</td>\n",
       "      <td>Male</td>\n",
       "      <td>0</td>\n",
       "      <td>0</td>\n",
       "      <td>60</td>\n",
       "      <td>United-States</td>\n",
       "      <td>1</td>\n",
       "    </tr>\n",
       "    <tr>\n",
       "      <th>1</th>\n",
       "      <td>1</td>\n",
       "      <td>17</td>\n",
       "      <td>Private</td>\n",
       "      <td>101626</td>\n",
       "      <td>9th</td>\n",
       "      <td>5</td>\n",
       "      <td>Never-married</td>\n",
       "      <td>Machine-op-inspct</td>\n",
       "      <td>Own-child</td>\n",
       "      <td>White</td>\n",
       "      <td>Male</td>\n",
       "      <td>0</td>\n",
       "      <td>0</td>\n",
       "      <td>20</td>\n",
       "      <td>United-States</td>\n",
       "      <td>0</td>\n",
       "    </tr>\n",
       "    <tr>\n",
       "      <th>2</th>\n",
       "      <td>2</td>\n",
       "      <td>18</td>\n",
       "      <td>Private</td>\n",
       "      <td>353358</td>\n",
       "      <td>Some-college</td>\n",
       "      <td>10</td>\n",
       "      <td>Never-married</td>\n",
       "      <td>Other-service</td>\n",
       "      <td>Own-child</td>\n",
       "      <td>White</td>\n",
       "      <td>Male</td>\n",
       "      <td>0</td>\n",
       "      <td>0</td>\n",
       "      <td>16</td>\n",
       "      <td>United-States</td>\n",
       "      <td>0</td>\n",
       "    </tr>\n",
       "    <tr>\n",
       "      <th>3</th>\n",
       "      <td>3</td>\n",
       "      <td>21</td>\n",
       "      <td>Private</td>\n",
       "      <td>151158</td>\n",
       "      <td>Some-college</td>\n",
       "      <td>10</td>\n",
       "      <td>Never-married</td>\n",
       "      <td>Prof-specialty</td>\n",
       "      <td>Own-child</td>\n",
       "      <td>White</td>\n",
       "      <td>Female</td>\n",
       "      <td>0</td>\n",
       "      <td>0</td>\n",
       "      <td>25</td>\n",
       "      <td>United-States</td>\n",
       "      <td>0</td>\n",
       "    </tr>\n",
       "    <tr>\n",
       "      <th>4</th>\n",
       "      <td>4</td>\n",
       "      <td>24</td>\n",
       "      <td>Private</td>\n",
       "      <td>122234</td>\n",
       "      <td>Some-college</td>\n",
       "      <td>10</td>\n",
       "      <td>Never-married</td>\n",
       "      <td>Adm-clerical</td>\n",
       "      <td>Not-in-family</td>\n",
       "      <td>Black</td>\n",
       "      <td>Female</td>\n",
       "      <td>0</td>\n",
       "      <td>0</td>\n",
       "      <td>20</td>\n",
       "      <td>?</td>\n",
       "      <td>0</td>\n",
       "    </tr>\n",
       "  </tbody>\n",
       "</table>\n",
       "</div>"
      ],
      "text/plain": [
       "   id  age workclass  fnlwgt     education  education_num      marital_status  \\\n",
       "0   0   40   Private  168538       HS-grad              9  Married-civ-spouse   \n",
       "1   1   17   Private  101626           9th              5       Never-married   \n",
       "2   2   18   Private  353358  Some-college             10       Never-married   \n",
       "3   3   21   Private  151158  Some-college             10       Never-married   \n",
       "4   4   24   Private  122234  Some-college             10       Never-married   \n",
       "\n",
       "          occupation   relationship   race     sex  capital_gain  \\\n",
       "0              Sales        Husband  White    Male             0   \n",
       "1  Machine-op-inspct      Own-child  White    Male             0   \n",
       "2      Other-service      Own-child  White    Male             0   \n",
       "3     Prof-specialty      Own-child  White  Female             0   \n",
       "4       Adm-clerical  Not-in-family  Black  Female             0   \n",
       "\n",
       "   capital_loss  hours_per_week native_country income  \n",
       "0             0              60  United-States      1  \n",
       "1             0              20  United-States      0  \n",
       "2             0              16  United-States      0  \n",
       "3             0              25  United-States      0  \n",
       "4             0              20              ?      0  "
      ]
     },
     "execution_count": 11,
     "metadata": {},
     "output_type": "execute_result"
    }
   ],
   "source": [
    "train.head()"
   ]
  },
  {
   "cell_type": "code",
   "execution_count": 16,
   "metadata": {},
   "outputs": [
    {
     "data": {
      "text/html": [
       "<div>\n",
       "<style scoped>\n",
       "    .dataframe tbody tr th:only-of-type {\n",
       "        vertical-align: middle;\n",
       "    }\n",
       "\n",
       "    .dataframe tbody tr th {\n",
       "        vertical-align: top;\n",
       "    }\n",
       "\n",
       "    .dataframe thead th {\n",
       "        text-align: right;\n",
       "    }\n",
       "</style>\n",
       "<table border=\"1\" class=\"dataframe\">\n",
       "  <thead>\n",
       "    <tr style=\"text-align: right;\">\n",
       "      <th></th>\n",
       "      <th>id</th>\n",
       "      <th>age</th>\n",
       "      <th>fnlwgt</th>\n",
       "      <th>education_num</th>\n",
       "      <th>capital_gain</th>\n",
       "      <th>capital_loss</th>\n",
       "      <th>hours_per_week</th>\n",
       "    </tr>\n",
       "  </thead>\n",
       "  <tbody>\n",
       "    <tr>\n",
       "      <th>count</th>\n",
       "      <td>26049.000000</td>\n",
       "      <td>26049.000000</td>\n",
       "      <td>2.604900e+04</td>\n",
       "      <td>26049.000000</td>\n",
       "      <td>26049.00000</td>\n",
       "      <td>26049.000000</td>\n",
       "      <td>26049.000000</td>\n",
       "    </tr>\n",
       "    <tr>\n",
       "      <th>mean</th>\n",
       "      <td>13024.000000</td>\n",
       "      <td>38.569235</td>\n",
       "      <td>1.903045e+05</td>\n",
       "      <td>10.088372</td>\n",
       "      <td>1087.68970</td>\n",
       "      <td>87.732734</td>\n",
       "      <td>40.443126</td>\n",
       "    </tr>\n",
       "    <tr>\n",
       "      <th>std</th>\n",
       "      <td>7519.842917</td>\n",
       "      <td>13.671489</td>\n",
       "      <td>1.059663e+05</td>\n",
       "      <td>2.567610</td>\n",
       "      <td>7388.85469</td>\n",
       "      <td>403.230205</td>\n",
       "      <td>12.361850</td>\n",
       "    </tr>\n",
       "    <tr>\n",
       "      <th>min</th>\n",
       "      <td>0.000000</td>\n",
       "      <td>17.000000</td>\n",
       "      <td>1.376900e+04</td>\n",
       "      <td>1.000000</td>\n",
       "      <td>0.00000</td>\n",
       "      <td>0.000000</td>\n",
       "      <td>1.000000</td>\n",
       "    </tr>\n",
       "    <tr>\n",
       "      <th>25%</th>\n",
       "      <td>6512.000000</td>\n",
       "      <td>28.000000</td>\n",
       "      <td>1.181080e+05</td>\n",
       "      <td>9.000000</td>\n",
       "      <td>0.00000</td>\n",
       "      <td>0.000000</td>\n",
       "      <td>40.000000</td>\n",
       "    </tr>\n",
       "    <tr>\n",
       "      <th>50%</th>\n",
       "      <td>13024.000000</td>\n",
       "      <td>37.000000</td>\n",
       "      <td>1.788660e+05</td>\n",
       "      <td>10.000000</td>\n",
       "      <td>0.00000</td>\n",
       "      <td>0.000000</td>\n",
       "      <td>40.000000</td>\n",
       "    </tr>\n",
       "    <tr>\n",
       "      <th>75%</th>\n",
       "      <td>19536.000000</td>\n",
       "      <td>48.000000</td>\n",
       "      <td>2.377350e+05</td>\n",
       "      <td>12.000000</td>\n",
       "      <td>0.00000</td>\n",
       "      <td>0.000000</td>\n",
       "      <td>45.000000</td>\n",
       "    </tr>\n",
       "    <tr>\n",
       "      <th>max</th>\n",
       "      <td>26048.000000</td>\n",
       "      <td>90.000000</td>\n",
       "      <td>1.484705e+06</td>\n",
       "      <td>16.000000</td>\n",
       "      <td>99999.00000</td>\n",
       "      <td>4356.000000</td>\n",
       "      <td>99.000000</td>\n",
       "    </tr>\n",
       "  </tbody>\n",
       "</table>\n",
       "</div>"
      ],
      "text/plain": [
       "                 id           age        fnlwgt  education_num  capital_gain  \\\n",
       "count  26049.000000  26049.000000  2.604900e+04   26049.000000   26049.00000   \n",
       "mean   13024.000000     38.569235  1.903045e+05      10.088372    1087.68970   \n",
       "std     7519.842917     13.671489  1.059663e+05       2.567610    7388.85469   \n",
       "min        0.000000     17.000000  1.376900e+04       1.000000       0.00000   \n",
       "25%     6512.000000     28.000000  1.181080e+05       9.000000       0.00000   \n",
       "50%    13024.000000     37.000000  1.788660e+05      10.000000       0.00000   \n",
       "75%    19536.000000     48.000000  2.377350e+05      12.000000       0.00000   \n",
       "max    26048.000000     90.000000  1.484705e+06      16.000000   99999.00000   \n",
       "\n",
       "       capital_loss  hours_per_week  \n",
       "count  26049.000000    26049.000000  \n",
       "mean      87.732734       40.443126  \n",
       "std      403.230205       12.361850  \n",
       "min        0.000000        1.000000  \n",
       "25%        0.000000       40.000000  \n",
       "50%        0.000000       40.000000  \n",
       "75%        0.000000       45.000000  \n",
       "max     4356.000000       99.000000  "
      ]
     },
     "execution_count": 16,
     "metadata": {},
     "output_type": "execute_result"
    }
   ],
   "source": [
    "train.describe()"
   ]
  },
  {
   "cell_type": "code",
   "execution_count": null,
   "metadata": {},
   "outputs": [],
   "source": []
  },
  {
   "cell_type": "markdown",
   "metadata": {},
   "source": [
    "# 1. Age\n",
    "### 나이를 구간별로 나눠서 생각해보자구\n",
    "1. ~33\n",
    "2. 34~47\n",
    "3. 48~55\n",
    "4. 56~62\n",
    "5. 63~"
   ]
  },
  {
   "cell_type": "code",
   "execution_count": 27,
   "metadata": {},
   "outputs": [
    {
     "data": {
      "image/png": "[encoded data removed]",
      "text/plain": [
       "<Figure size 1440x720 with 2 Axes>"
      ]
     },
     "metadata": {
      "needs_background": "light"
     },
     "output_type": "display_data"
    }
   ],
   "source": [
    "f,ax = plt.subplots(1,2,figsize=(20,10))\n",
    "train[train['income']==0].age.plot.hist(ax=ax[0],bins=10,edgecolor='black',color='red')\n",
    "ax[0].set_title('Under 50K')\n",
    "x1=list(range(0,85,5))\n",
    "ax[0].set_xticks(x1)\n",
    "train[train['income']==1].age.plot.hist(ax=ax[1],color='green', bins=10, edgecolor='black')\n",
    "ax[1].set_title('Over 50K')\n",
    "x2=list(range(0,85,5))\n",
    "ax[1].set_xticks(x2)\n",
    "plt.show()"
   ]
  },
  {
   "cell_type": "code",
   "execution_count": 30,
   "metadata": {},
   "outputs": [],
   "source": [
    "train.loc[train['age']<=33,'age'] = 1\n",
    "train.loc[(train['age']>=34)&(train['age']<=47),'age'] = 2\n",
    "train.loc[(train['age']>=48)&(train['age']<=55),'age'] = 3\n",
    "train.loc[(train['age']>=56)&(train['age']<=62),'age'] = 4\n",
    "train.loc[train['age']>=63,'age'] = 5"
   ]
  },
  {
   "cell_type": "code",
   "execution_count": 32,
   "metadata": {},
   "outputs": [
    {
     "data": {
      "text/plain": [
       "1    10570\n",
       "2     8935\n",
       "3     3270\n",
       "4     1835\n",
       "5     1439\n",
       "Name: age, dtype: int64"
      ]
     },
     "execution_count": 32,
     "metadata": {},
     "output_type": "execute_result"
    }
   ],
   "source": [
    "train['age'].value_counts()"
   ]
  },
  {
   "cell_type": "code",
   "execution_count": 58,
   "metadata": {
    "colab": {
     "base_uri": "https://localhost:8080/",
     "height": 284
    },
    "id": "l6p6nCOG2IYG",
    "outputId": "c39cc0fd-aabd-4aec-885a-4cbfdd59c0b6",
    "scrolled": true
   },
   "outputs": [
    {
     "data": {
      "text/html": [
       "<div>\n",
       "<style scoped>\n",
       "    .dataframe tbody tr th:only-of-type {\n",
       "        vertical-align: middle;\n",
       "    }\n",
       "\n",
       "    .dataframe tbody tr th {\n",
       "        vertical-align: top;\n",
       "    }\n",
       "\n",
       "    .dataframe thead th {\n",
       "        text-align: right;\n",
       "    }\n",
       "</style>\n",
       "<table border=\"1\" class=\"dataframe\">\n",
       "  <thead>\n",
       "    <tr style=\"text-align: right;\">\n",
       "      <th></th>\n",
       "      <th>id</th>\n",
       "      <th>age</th>\n",
       "      <th>fnlwgt</th>\n",
       "      <th>education_num</th>\n",
       "      <th>capital_gain</th>\n",
       "      <th>capital_loss</th>\n",
       "      <th>hours_per_week</th>\n",
       "    </tr>\n",
       "  </thead>\n",
       "  <tbody>\n",
       "    <tr>\n",
       "      <th>count</th>\n",
       "      <td>26049.000000</td>\n",
       "      <td>26049.000000</td>\n",
       "      <td>2.604900e+04</td>\n",
       "      <td>26049.000000</td>\n",
       "      <td>26049.00000</td>\n",
       "      <td>26049.000000</td>\n",
       "      <td>26049.000000</td>\n",
       "    </tr>\n",
       "    <tr>\n",
       "      <th>mean</th>\n",
       "      <td>13024.000000</td>\n",
       "      <td>38.569235</td>\n",
       "      <td>1.903045e+05</td>\n",
       "      <td>10.088372</td>\n",
       "      <td>1087.68970</td>\n",
       "      <td>87.732734</td>\n",
       "      <td>40.443126</td>\n",
       "    </tr>\n",
       "    <tr>\n",
       "      <th>std</th>\n",
       "      <td>7519.842917</td>\n",
       "      <td>13.671489</td>\n",
       "      <td>1.059663e+05</td>\n",
       "      <td>2.567610</td>\n",
       "      <td>7388.85469</td>\n",
       "      <td>403.230205</td>\n",
       "      <td>12.361850</td>\n",
       "    </tr>\n",
       "    <tr>\n",
       "      <th>min</th>\n",
       "      <td>0.000000</td>\n",
       "      <td>17.000000</td>\n",
       "      <td>1.376900e+04</td>\n",
       "      <td>1.000000</td>\n",
       "      <td>0.00000</td>\n",
       "      <td>0.000000</td>\n",
       "      <td>1.000000</td>\n",
       "    </tr>\n",
       "    <tr>\n",
       "      <th>25%</th>\n",
       "      <td>6512.000000</td>\n",
       "      <td>28.000000</td>\n",
       "      <td>1.181080e+05</td>\n",
       "      <td>9.000000</td>\n",
       "      <td>0.00000</td>\n",
       "      <td>0.000000</td>\n",
       "      <td>40.000000</td>\n",
       "    </tr>\n",
       "    <tr>\n",
       "      <th>50%</th>\n",
       "      <td>13024.000000</td>\n",
       "      <td>37.000000</td>\n",
       "      <td>1.788660e+05</td>\n",
       "      <td>10.000000</td>\n",
       "      <td>0.00000</td>\n",
       "      <td>0.000000</td>\n",
       "      <td>40.000000</td>\n",
       "    </tr>\n",
       "    <tr>\n",
       "      <th>75%</th>\n",
       "      <td>19536.000000</td>\n",
       "      <td>48.000000</td>\n",
       "      <td>2.377350e+05</td>\n",
       "      <td>12.000000</td>\n",
       "      <td>0.00000</td>\n",
       "      <td>0.000000</td>\n",
       "      <td>45.000000</td>\n",
       "    </tr>\n",
       "    <tr>\n",
       "      <th>max</th>\n",
       "      <td>26048.000000</td>\n",
       "      <td>90.000000</td>\n",
       "      <td>1.484705e+06</td>\n",
       "      <td>16.000000</td>\n",
       "      <td>99999.00000</td>\n",
       "      <td>4356.000000</td>\n",
       "      <td>99.000000</td>\n",
       "    </tr>\n",
       "  </tbody>\n",
       "</table>\n",
       "</div>"
      ],
      "text/plain": [
       "                 id           age  ...  capital_loss  hours_per_week\n",
       "count  26049.000000  26049.000000  ...  26049.000000    26049.000000\n",
       "mean   13024.000000     38.569235  ...     87.732734       40.443126\n",
       "std     7519.842917     13.671489  ...    403.230205       12.361850\n",
       "min        0.000000     17.000000  ...      0.000000        1.000000\n",
       "25%     6512.000000     28.000000  ...      0.000000       40.000000\n",
       "50%    13024.000000     37.000000  ...      0.000000       40.000000\n",
       "75%    19536.000000     48.000000  ...      0.000000       45.000000\n",
       "max    26048.000000     90.000000  ...   4356.000000       99.000000\n",
       "\n",
       "[8 rows x 7 columns]"
      ]
     },
     "execution_count": 58,
     "metadata": {
      "tags": []
     },
     "output_type": "execute_result"
    }
   ],
   "source": [
    "train.describe()"
   ]
  },
  {
   "cell_type": "code",
   "execution_count": 59,
   "metadata": {
    "colab": {
     "base_uri": "https://localhost:8080/"
    },
    "id": "OXUiCSvF2IYJ",
    "outputId": "7203a42b-0c60-4f5f-f614-71bb256af529"
   },
   "outputs": [
    {
     "data": {
      "text/plain": [
       "Index(['id', 'age', 'workclass', 'fnlwgt', 'education', 'education_num',\n",
       "       'marital_status', 'occupation', 'relationship', 'race', 'sex',\n",
       "       'capital_gain', 'capital_loss', 'hours_per_week', 'native_country',\n",
       "       'income'],\n",
       "      dtype='object')"
      ]
     },
     "execution_count": 59,
     "metadata": {
      "tags": []
     },
     "output_type": "execute_result"
    }
   ],
   "source": [
    "train.columns"
   ]
  },
  {
   "cell_type": "code",
   "execution_count": 60,
   "metadata": {
    "colab": {
     "base_uri": "https://localhost:8080/"
    },
    "id": "5sqCDJK92ncX",
    "outputId": "ae21f95f-75db-42cc-e68e-36d70818e7b8"
   },
   "outputs": [
    {
     "data": {
      "text/plain": [
       "Index(['id', 'age', 'fnlwgt', 'education_num', 'capital_gain', 'capital_loss',\n",
       "       'hours_per_week'],\n",
       "      dtype='object')"
      ]
     },
     "execution_count": 60,
     "metadata": {
      "tags": []
     },
     "output_type": "execute_result"
    }
   ],
   "source": [
    "train.describe().columns"
   ]
  },
  {
   "cell_type": "markdown",
   "metadata": {
    "id": "v55XOxjY2xpw"
   },
   "source": []
  },
  {
   "cell_type": "code",
   "execution_count": 61,
   "metadata": {
    "colab": {
     "base_uri": "https://localhost:8080/"
    },
    "id": "Z66ScEvb2qQa",
    "outputId": "3f9a904b-9d43-4218-903d-2d209204f0dd"
   },
   "outputs": [
    {
     "data": {
      "text/plain": [
       "{'education',\n",
       " 'income',\n",
       " 'marital_status',\n",
       " 'native_country',\n",
       " 'occupation',\n",
       " 'race',\n",
       " 'relationship',\n",
       " 'sex',\n",
       " 'workclass'}"
      ]
     },
     "execution_count": 61,
     "metadata": {
      "tags": []
     },
     "output_type": "execute_result"
    }
   ],
   "source": [
    "set(train.columns).difference(set(train.describe().columns))"
   ]
  },
  {
   "cell_type": "code",
   "execution_count": 62,
   "metadata": {
    "colab": {
     "base_uri": "https://localhost:8080/"
    },
    "id": "3mINcSve3NsD",
    "outputId": "842a75a8-6a5d-42e8-be67-026ee34793fc"
   },
   "outputs": [
    {
     "name": "stdout",
     "output_type": "stream",
     "text": [
      "<class 'pandas.core.frame.DataFrame'>\n",
      "RangeIndex: 26049 entries, 0 to 26048\n",
      "Data columns (total 16 columns):\n",
      " #   Column          Non-Null Count  Dtype \n",
      "---  ------          --------------  ----- \n",
      " 0   id              26049 non-null  int64 \n",
      " 1   age             26049 non-null  int64 \n",
      " 2   workclass       26049 non-null  object\n",
      " 3   fnlwgt          26049 non-null  int64 \n",
      " 4   education       26049 non-null  object\n",
      " 5   education_num   26049 non-null  int64 \n",
      " 6   marital_status  26049 non-null  object\n",
      " 7   occupation      26049 non-null  object\n",
      " 8   relationship    26049 non-null  object\n",
      " 9   race            26049 non-null  object\n",
      " 10  sex             26049 non-null  object\n",
      " 11  capital_gain    26049 non-null  int64 \n",
      " 12  capital_loss    26049 non-null  int64 \n",
      " 13  hours_per_week  26049 non-null  int64 \n",
      " 14  native_country  26049 non-null  object\n",
      " 15  income          26049 non-null  object\n",
      "dtypes: int64(7), object(9)\n",
      "memory usage: 3.2+ MB\n"
     ]
    }
   ],
   "source": [
    "train.info()"
   ]
  },
  {
   "cell_type": "code",
   "execution_count": 63,
   "metadata": {
    "colab": {
     "base_uri": "https://localhost:8080/"
    },
    "id": "4Qp4LRWX3FZ-",
    "outputId": "1473ee2b-5f64-4263-bd53-bf20fbaa8537"
   },
   "outputs": [
    {
     "data": {
      "text/plain": [
       "HS-grad         8433\n",
       "Some-college    5800\n",
       "Bachelors       4344\n",
       "Masters         1378\n",
       "Assoc-voc       1096\n",
       "11th             922\n",
       "Assoc-acdm       842\n",
       "10th             731\n",
       "7th-8th          505\n",
       "Prof-school      466\n",
       "9th              418\n",
       "12th             359\n",
       "Doctorate        316\n",
       "5th-6th          265\n",
       "1st-4th          134\n",
       "Preschool         40\n",
       "Name: education, dtype: int64"
      ]
     },
     "execution_count": 63,
     "metadata": {
      "tags": []
     },
     "output_type": "execute_result"
    }
   ],
   "source": [
    "train['education'].value_counts()"
   ]
  },
  {
   "cell_type": "markdown",
   "metadata": {
    "id": "AQhIvs303VRG"
   },
   "source": [
    "# Education\n",
    "- HS-grad         8433\n",
    "- Some-college    5800\n",
    "- Bachelors       4344\n",
    "- Masters         1378\n",
    "- Assoc-voc       1096\n",
    "- 11th             922\n",
    "- Assoc-acdm       842\n",
    "- 10th             731\n",
    "- 7th-8th          505\n",
    "- Prof-school      466\n",
    "- 9th              418\n",
    "- 12th             359\n",
    "- Doctorate        316\n",
    "- 5th-6th          265\n",
    "- 1st-4th          134\n",
    "- Preschool         40"
   ]
  },
  {
   "cell_type": "code",
   "execution_count": 34,
   "metadata": {
    "id": "sYyN41fz4WEB"
   },
   "outputs": [],
   "source": [
    "edu = list(train['education'].values)"
   ]
  },
  {
   "cell_type": "code",
   "execution_count": 65,
   "metadata": {
    "colab": {
     "base_uri": "https://localhost:8080/"
    },
    "id": "jB4Fvn244bXh",
    "outputId": "a11a3e9f-3563-4f22-a1ae-1e610425556d"
   },
   "outputs": [
    {
     "name": "stdout",
     "output_type": "stream",
     "text": [
      "['HS-grad', '9th', 'Some-college', 'Some-college', 'Some-college', 'HS-grad', 'Bachelors', '11th', 'HS-grad', 'Some-college', '1st-4th', 'Some-college', 'Some-college', '11th', '5th-6th', 'HS-grad', 'Bachelors', 'HS-grad', 'Bachelors', 'Bachelors', 'Assoc-acdm', 'Bachelors', '10th', 'Assoc-acdm', 'HS-grad', 'HS-grad', 'HS-grad', 'HS-grad', 'Bachelors', 'Bachelors', 'Some-college', 'HS-grad', '5th-6th', 'Some-college', 'HS-grad', '5th-6th', 'Some-college', '10th', '1st-4th', 'Prof-school', '11th', '9th', 'Bachelors', '7th-8th', 'HS-grad', 'Some-college', 'HS-grad', 'Bachelors', 'Masters', 'Some-college', 'Bachelors', 'Bachelors', 'Assoc-voc', 'Prof-school', 'Bachelors', 'HS-grad', 'Doctorate', 'HS-grad', 'Bachelors', 'Bachelors', 'Assoc-voc', 'Masters', 'HS-grad', 'Assoc-acdm', '9th', 'Masters', 'HS-grad', 'HS-grad', 'Bachelors', 'HS-grad', 'Bachelors', 'Some-college', 'Some-college', '11th', 'HS-grad', 'Bachelors', 'Some-college', 'HS-grad', 'Some-college', 'Some-college', 'HS-grad', '7th-8th', '10th', 'HS-grad', 'Bachelors', 'HS-grad', 'Bachelors', 'Some-college', 'HS-grad', 'HS-grad', 'HS-grad', 'HS-grad', 'HS-grad', 'Some-college', 'Some-college', '7th-8th', 'HS-grad', '11th', 'HS-grad', 'HS-grad', 'HS-grad', '12th', 'Prof-school', 'HS-grad', 'Some-college', 'HS-grad', 'Masters', 'Some-college', 'Bachelors', 'HS-grad', 'Prof-school', 'Some-college', 'Doctorate', 'Some-college', 'Bachelors', 'Bachelors', '10th', 'HS-grad', 'HS-grad', 'HS-grad', 'HS-grad', '11th', '7th-8th', 'Prof-school', 'HS-grad', 'Some-college', 'HS-grad', 'HS-grad', 'Some-college', 'HS-grad', 'Some-college', 'Bachelors', 'Some-college', 'Prof-school', '11th', 'Bachelors', '7th-8th', 'Some-college', '10th', 'Bachelors', 'Assoc-voc', 'Bachelors', 'Prof-school', 'Some-college', 'Masters', '10th', 'HS-grad', '9th', 'Some-college', 'Some-college', 'Some-college', 'Some-college', '10th', 'HS-grad', 'Bachelors', 'HS-grad', 'Bachelors', 'Bachelors', 'HS-grad', 'Bachelors', 'Some-college', 'HS-grad', 'Some-college', 'Some-college', 'HS-grad', 'Masters', 'HS-grad', '10th', 'HS-grad', 'HS-grad', '5th-6th', 'HS-grad', 'Bachelors', 'Assoc-voc', 'Some-college', 'Masters', 'HS-grad', '12th', 'Assoc-acdm', 'HS-grad', 'Bachelors', 'HS-grad', 'HS-grad', 'HS-grad', 'Some-college', 'Prof-school', 'Assoc-acdm', '11th', 'Prof-school', 'Prof-school', 'Some-college', 'Some-college', 'Assoc-voc', 'HS-grad', 'HS-grad', 'Masters', 'HS-grad', 'HS-grad', '11th', 'Bachelors', '11th', 'HS-grad', '11th', 'Prof-school', 'HS-grad', '11th', 'Assoc-acdm', 'Some-college', 'Some-college', 'Bachelors', 'HS-grad', 'Some-college', 'Bachelors', 'Bachelors', 'Assoc-voc', 'HS-grad', 'Some-college', 'HS-grad', 'Doctorate', 'Some-college', 'Bachelors', 'Some-college', '10th', 'HS-grad', 'Some-college', '11th', 'Some-college', 'Some-college', '9th', '10th', 'HS-grad', 'HS-grad', 'Bachelors', 'Bachelors', '9th', '10th', 'HS-grad', 'HS-grad', 'Some-college', 'HS-grad', 'Doctorate', 'Bachelors', 'HS-grad', '9th', 'HS-grad', 'Some-college', 'Assoc-voc', '9th', 'Assoc-acdm', 'Some-college', '9th', '5th-6th', 'Some-college', '11th', 'Some-college', 'Some-college', 'Some-college', 'HS-grad', 'Bachelors', 'Masters', 'Masters', '7th-8th', 'HS-grad', 'Some-college', 'HS-grad', 'Some-college', 'Masters', 'HS-grad', 'HS-grad', 'HS-grad', 'HS-grad', 'HS-grad', 'Some-college', 'Some-college', 'HS-grad', 'Bachelors', 'Bachelors', 'HS-grad', 'HS-grad', 'HS-grad', 'Assoc-acdm', 'Masters', '10th', 'Some-college', 'Masters', 'Some-college', '9th', 'Bachelors', 'Masters', 'Bachelors', 'Some-college', 'HS-grad', 'Some-college', 'HS-grad', 'HS-grad', '5th-6th', 'Some-college', 'HS-grad', 'Bachelors', '11th', 'Some-college', '11th', '11th', 'HS-grad', 'Bachelors', 'Some-college', 'Bachelors', 'HS-grad', 'HS-grad', 'Some-college', 'Some-college', 'HS-grad', '11th', 'Assoc-voc', 'HS-grad', 'HS-grad', 'Some-college', 'HS-grad', 'HS-grad', 'Some-college', 'HS-grad', 'HS-grad', 'Bachelors', 'Bachelors', 'HS-grad', 'Doctorate', '11th', 'HS-grad', '11th', 'HS-grad', 'Some-college', '7th-8th', 'HS-grad', 'Doctorate', 'Some-college', '7th-8th', 'Prof-school', 'Bachelors', 'Some-college', 'HS-grad', 'Masters', 'Some-college', 'Bachelors', 'Assoc-voc', 'HS-grad', 'Bachelors', 'HS-grad', 'Some-college', 'Bachelors', 'Bachelors', 'HS-grad', 'Bachelors', 'Prof-school', 'Bachelors', 'HS-grad', 'Assoc-voc', 'HS-grad', '11th', 'HS-grad', 'Some-college', 'HS-grad', 'Some-college', 'Masters', '10th', 'HS-grad', 'Assoc-acdm', 'HS-grad', 'Masters', 'HS-grad', 'HS-grad', 'Some-college', 'HS-grad', 'Assoc-voc', '10th', '5th-6th', 'HS-grad', 'Some-college', 'Prof-school', 'Bachelors', '11th', 'HS-grad', 'HS-grad', 'HS-grad', 'Bachelors', 'Bachelors', 'HS-grad', 'HS-grad', 'HS-grad', 'Bachelors', 'Some-college', 'Some-college', 'Bachelors', 'Bachelors', 'Bachelors', 'Bachelors', 'Some-college', 'Assoc-voc', 'HS-grad', 'HS-grad', 'Some-college', 'HS-grad', 'Assoc-voc', 'Assoc-acdm', 'Some-college', 'Some-college', 'Masters', 'Assoc-acdm', 'Bachelors', 'Assoc-voc', 'HS-grad', 'HS-grad', 'Bachelors', 'Some-college', 'Doctorate', 'HS-grad', 'Some-college', 'Some-college', 'HS-grad', 'Bachelors', '5th-6th', '10th', 'Bachelors', 'Some-college', 'Bachelors', 'Some-college', 'Bachelors', 'HS-grad', 'HS-grad', 'Some-college', 'Bachelors', '9th', 'HS-grad', 'Bachelors', '9th', 'HS-grad', 'HS-grad', 'Some-college', 'Some-college', 'Some-college', 'Some-college', 'HS-grad', 'HS-grad', 'Assoc-voc', '11th', 'HS-grad', 'Masters', 'Bachelors', 'HS-grad', 'Assoc-voc', 'Some-college', '11th', '11th', 'Some-college', '11th', 'HS-grad', 'Some-college', 'HS-grad', 'HS-grad', 'Bachelors', 'Masters', 'HS-grad', 'HS-grad', '10th', 'HS-grad', 'Bachelors', '10th', 'Some-college', 'Bachelors', 'HS-grad', 'Bachelors', '10th', 'Some-college', 'Assoc-acdm', 'HS-grad', 'Masters', 'Assoc-acdm', 'Assoc-voc', 'HS-grad', 'HS-grad', 'Bachelors', 'Bachelors', 'Some-college', 'Prof-school', 'HS-grad', '12th', 'Bachelors', 'HS-grad', 'Masters', 'Some-college', 'HS-grad', '12th', '7th-8th', 'HS-grad', 'HS-grad', 'HS-grad', 'HS-grad', 'Bachelors', 'Bachelors', 'Some-college', 'HS-grad', 'HS-grad', '10th', 'Bachelors', 'HS-grad', 'Some-college', 'Some-college', 'HS-grad', 'Some-college', 'Some-college', 'HS-grad', 'Bachelors', 'Assoc-voc', 'Bachelors', 'HS-grad', 'HS-grad', 'Some-college', 'Assoc-voc', 'HS-grad', '7th-8th', 'Bachelors', '10th', 'Some-college', 'Bachelors', '11th', '1st-4th', 'Bachelors', 'Assoc-acdm', 'Assoc-voc', 'Masters', 'HS-grad', 'HS-grad', '10th', 'Bachelors', 'Assoc-acdm', 'HS-grad', '12th', 'Some-college', 'HS-grad', '1st-4th', 'HS-grad', 'Masters', 'Some-college', '9th', 'HS-grad', 'Bachelors', '7th-8th', 'Some-college', '10th', 'HS-grad', 'HS-grad', 'HS-grad', 'HS-grad', '7th-8th', 'HS-grad', 'HS-grad', 'Bachelors', 'Bachelors', 'HS-grad', 'HS-grad', 'Assoc-acdm', '1st-4th', '11th', 'HS-grad', 'HS-grad', 'HS-grad', 'HS-grad', 'HS-grad', 'HS-grad', 'Bachelors', 'HS-grad', 'Some-college', 'Some-college', '12th', 'Bachelors', 'HS-grad', 'HS-grad', 'Some-college', 'HS-grad', 'HS-grad', 'Bachelors', 'Bachelors', 'HS-grad', 'HS-grad', 'HS-grad', 'HS-grad', 'Doctorate', 'Assoc-acdm', 'Some-college', 'HS-grad', '11th', 'Some-college', 'Some-college', 'Bachelors', 'Some-college', '7th-8th', '11th', 'Bachelors', 'Some-college', 'Some-college', 'HS-grad', '1st-4th', 'HS-grad', 'HS-grad', 'Some-college', 'Some-college', 'HS-grad', 'Some-college', '12th', 'HS-grad', '11th', 'Some-college', 'HS-grad', 'Assoc-voc', '7th-8th', 'Some-college', '9th', 'Some-college', 'Bachelors', 'Some-college', '12th', 'Assoc-voc', 'Assoc-voc', 'Assoc-voc', 'Bachelors', 'Prof-school', 'HS-grad', 'HS-grad', '11th', 'HS-grad', '10th', 'HS-grad', 'Some-college', 'Assoc-voc', 'HS-grad', 'Prof-school', 'Bachelors', 'Masters', 'HS-grad', 'Bachelors', 'Bachelors', 'HS-grad', 'Bachelors', '9th', 'Prof-school', 'HS-grad', 'Doctorate', 'HS-grad', '10th', 'HS-grad', '11th', 'Assoc-acdm', 'Bachelors', 'Some-college', 'Masters', 'HS-grad', 'Assoc-voc', 'HS-grad', 'Bachelors', 'HS-grad', 'Some-college', 'Some-college', 'HS-grad', 'HS-grad', 'Bachelors', 'Bachelors', 'Some-college', 'HS-grad', '11th', '10th', 'Some-college', 'Some-college', 'Some-college', 'HS-grad', 'Some-college', 'Some-college', 'Some-college', 'Bachelors', '11th', 'HS-grad', 'Some-college', 'HS-grad', 'HS-grad', 'Some-college', 'HS-grad', 'HS-grad', 'HS-grad', 'Some-college', 'Assoc-acdm', 'Assoc-voc', 'HS-grad', 'Some-college', 'Preschool', 'HS-grad', 'HS-grad', 'Some-college', 'Some-college', 'HS-grad', 'Some-college', 'Some-college', 'Some-college', 'HS-grad', 'HS-grad', 'Some-college', '10th', 'Bachelors', 'HS-grad', 'HS-grad', 'Assoc-voc', 'Some-college', '11th', 'HS-grad', 'HS-grad', 'Some-college', 'HS-grad', 'HS-grad', 'Bachelors', 'HS-grad', 'Assoc-voc', 'HS-grad', 'HS-grad', 'HS-grad', 'HS-grad', 'HS-grad', '10th', 'HS-grad', 'Masters', 'Some-college', 'HS-grad', 'Bachelors', 'HS-grad', 'HS-grad', 'HS-grad', 'Some-college', 'HS-grad', 'HS-grad', 'Assoc-voc', 'HS-grad', 'Bachelors', 'Bachelors', 'Bachelors', 'Some-college', 'Bachelors', '10th', 'HS-grad', 'HS-grad', 'HS-grad', 'Some-college', 'HS-grad', '7th-8th', 'Some-college', 'Some-college', 'Assoc-acdm', 'Some-college', 'HS-grad', 'Some-college', '11th', 'Bachelors', 'Bachelors', 'Some-college', 'HS-grad', 'HS-grad', 'Some-college', 'Bachelors', '10th', 'Bachelors', 'Some-college', 'Assoc-voc', 'Bachelors', 'HS-grad', 'Bachelors', 'Some-college', 'HS-grad', '9th', 'Bachelors', 'Masters', 'HS-grad', 'Masters', 'HS-grad', '7th-8th', 'HS-grad', 'Assoc-voc', 'HS-grad', 'Bachelors', 'Some-college', 'Bachelors', 'Masters', 'Assoc-voc', 'Assoc-voc', 'Bachelors', 'Masters', 'HS-grad', 'Some-college', '9th', '9th', '7th-8th', 'HS-grad', 'Prof-school', 'Assoc-voc', 'HS-grad', 'Bachelors', 'Bachelors', 'Some-college', 'HS-grad', 'Assoc-acdm', 'Some-college', 'HS-grad', 'Some-college', '5th-6th', '9th', 'Bachelors', 'HS-grad', 'Masters', 'Bachelors', 'Some-college', 'HS-grad', 'Masters', 'Masters', 'HS-grad', 'Some-college', 'Bachelors', 'Some-college', 'HS-grad', 'Some-college', 'Prof-school', 'HS-grad', 'HS-grad', '10th', 'Some-college', 'Bachelors', 'Bachelors', 'Bachelors', 'Assoc-acdm', '10th', '11th', 'HS-grad', 'Assoc-acdm', 'Assoc-voc', 'Some-college', 'Some-college', 'Masters', 'Assoc-voc', 'Prof-school', 'HS-grad', 'HS-grad', 'Bachelors', 'HS-grad', 'Bachelors', 'HS-grad', 'HS-grad', 'Bachelors', 'HS-grad', 'Some-college', 'Bachelors', 'Bachelors', 'Bachelors', 'HS-grad', 'Assoc-acdm', 'HS-grad', 'Some-college', 'Assoc-voc', 'Some-college', 'Bachelors', 'HS-grad', 'Some-college', 'Bachelors', 'Some-college', 'Some-college', 'HS-grad', 'HS-grad', 'HS-grad', 'HS-grad', 'HS-grad', '7th-8th', 'HS-grad', '12th', 'Bachelors', 'Bachelors', 'HS-grad', 'Some-college', 'Bachelors', 'Masters', 'HS-grad', 'Bachelors', 'HS-grad', '11th', 'Some-college', 'Assoc-acdm', 'Some-college', 'Prof-school', 'Bachelors', 'Bachelors', '7th-8th', 'Bachelors', 'Some-college', 'HS-grad', '10th', 'HS-grad', '11th', 'HS-grad', 'Doctorate', 'Some-college', 'Assoc-voc', '7th-8th', 'HS-grad', 'Some-college', 'Bachelors', 'Some-college', 'HS-grad', 'Bachelors', 'Some-college', 'Assoc-voc', 'Bachelors', 'Bachelors', 'Masters', '11th', 'Assoc-voc', 'HS-grad', 'Bachelors', 'Bachelors', 'Some-college', 'Bachelors', 'HS-grad', 'Bachelors', 'HS-grad', 'HS-grad', '11th', '12th', 'HS-grad', 'Some-college', 'Bachelors', 'Some-college', 'Assoc-voc', 'Bachelors', 'Some-college', 'HS-grad', 'Some-college', 'Bachelors', 'HS-grad', 'Bachelors', 'Bachelors', '7th-8th', 'Assoc-voc', 'HS-grad', 'HS-grad', 'HS-grad', 'HS-grad', 'Assoc-acdm', 'Bachelors', 'Bachelors', 'Some-college', '11th', 'Bachelors', 'Some-college', 'HS-grad', 'HS-grad', 'HS-grad', 'Bachelors', '7th-8th', '7th-8th', 'Bachelors', '11th', 'HS-grad', '12th', 'Some-college', '10th', '7th-8th', 'Some-college', 'Bachelors', 'HS-grad', 'Masters', 'Some-college', 'Bachelors', '11th', 'Some-college', 'Bachelors', 'Assoc-voc', 'Some-college', 'Prof-school', 'HS-grad', 'HS-grad', '9th', 'Assoc-acdm', 'HS-grad', 'HS-grad', 'HS-grad', 'Assoc-voc', 'HS-grad', 'Bachelors', 'HS-grad', 'Assoc-voc', 'Some-college', 'HS-grad', 'Bachelors', 'Assoc-voc', 'Some-college', 'Some-college', 'Some-college', '1st-4th', '7th-8th', 'HS-grad', 'Some-college', 'HS-grad', 'HS-grad', 'HS-grad', 'HS-grad', 'Some-college', 'Doctorate', 'HS-grad', 'Bachelors', 'Bachelors', 'HS-grad', 'Some-college', 'HS-grad', 'Bachelors', 'HS-grad', 'Assoc-acdm', 'HS-grad', 'HS-grad', 'Bachelors', 'Some-college', 'Masters', 'HS-grad', 'HS-grad', 'Masters', 'Some-college', 'HS-grad', 'HS-grad', 'HS-grad', 'Doctorate', 'Prof-school', 'Bachelors', '11th', 'HS-grad', 'HS-grad', 'Some-college', 'Some-college', 'HS-grad', '11th', 'HS-grad', 'HS-grad', 'Bachelors', 'HS-grad', 'HS-grad', 'Some-college', 'Some-college', 'HS-grad', 'Some-college', 'Some-college', 'Some-college', 'Some-college', 'HS-grad', 'HS-grad', 'Some-college', '7th-8th', 'HS-grad', 'Masters', 'HS-grad', '9th', 'Some-college', 'Bachelors', 'Bachelors', 'Assoc-acdm', 'Bachelors', 'Bachelors', 'Some-college', 'Some-college', 'Assoc-acdm', 'Some-college', 'HS-grad', 'Doctorate', 'Some-college', 'Some-college', 'HS-grad', 'Bachelors', 'Some-college', 'HS-grad', '11th', 'Assoc-acdm', 'Some-college', 'Doctorate', 'Bachelors', 'HS-grad', 'Some-college', 'Some-college', 'HS-grad', 'HS-grad', 'Some-college', 'Bachelors', 'Prof-school', 'Bachelors', 'HS-grad', 'Some-college', 'Some-college', 'HS-grad', 'Assoc-voc', 'HS-grad', 'Some-college', 'Bachelors', 'HS-grad', 'Some-college', '5th-6th', 'Assoc-voc', 'Some-college', 'Masters', 'HS-grad', '9th', 'HS-grad', 'Some-college', 'Bachelors', 'Some-college', '11th', '9th', 'Some-college', 'Assoc-acdm', 'Bachelors', 'HS-grad', 'Bachelors', 'HS-grad', 'Bachelors', 'Some-college', 'HS-grad', 'HS-grad', '12th', 'Assoc-acdm', '10th', 'Some-college', '11th', 'Some-college', 'Some-college', '11th', 'Some-college', 'Some-college', '10th', 'Assoc-voc', '11th', '12th', 'Some-college', 'HS-grad', 'Bachelors', 'Masters', 'Masters', '7th-8th', '10th', 'HS-grad', 'HS-grad', 'HS-grad', 'Bachelors', 'HS-grad', 'Bachelors', 'Some-college', 'Assoc-voc', 'Masters', 'Bachelors', 'Some-college', 'HS-grad', 'Bachelors', 'Some-college', 'Doctorate', 'Bachelors', 'Masters', 'HS-grad', 'Bachelors', 'HS-grad', 'Some-college', 'Some-college', 'HS-grad', 'Bachelors', 'Some-college', 'Masters', '5th-6th', 'Bachelors', '9th', 'Some-college', 'HS-grad', 'Bachelors', '7th-8th', 'Some-college', '10th', 'HS-grad', '11th', 'HS-grad', 'Assoc-voc', 'Bachelors', '11th', '7th-8th', 'HS-grad', 'Some-college', 'Bachelors', 'HS-grad', 'Some-college', 'Assoc-voc', '10th', '9th', 'Some-college', '10th', '12th', 'HS-grad', 'Bachelors', 'HS-grad', 'HS-grad', 'HS-grad', 'HS-grad', '11th', 'Some-college', 'HS-grad', 'HS-grad', 'Bachelors', 'Bachelors', 'Some-college', 'Assoc-acdm', 'HS-grad', 'HS-grad', 'HS-grad', 'HS-grad', 'Masters', 'Some-college', 'HS-grad', 'HS-grad', 'HS-grad', 'Bachelors', 'Bachelors', 'HS-grad', 'HS-grad', 'Masters', 'Some-college', 'Assoc-acdm', 'Prof-school', 'HS-grad', '10th', 'HS-grad', 'HS-grad', 'Bachelors', 'HS-grad', 'HS-grad', 'HS-grad', 'Prof-school', 'HS-grad', 'Some-college', 'Some-college', 'HS-grad', 'Some-college', 'HS-grad', 'Assoc-voc', 'Masters', 'HS-grad', '5th-6th', 'HS-grad', 'HS-grad', 'Bachelors', 'Bachelors', 'HS-grad', 'HS-grad', 'HS-grad', 'Some-college', 'HS-grad', 'HS-grad', 'HS-grad', 'HS-grad', 'HS-grad', 'HS-grad', 'Bachelors', 'Some-college', 'HS-grad', 'Bachelors', 'HS-grad', 'Some-college', 'Masters', 'HS-grad', 'Some-college', 'Masters', 'HS-grad', 'HS-grad', '9th', 'Bachelors', 'Bachelors', 'Assoc-voc', 'HS-grad', 'Bachelors', 'Some-college', 'Some-college', 'HS-grad', '10th', 'Some-college', 'Assoc-voc', 'Bachelors', 'Bachelors', 'Some-college', 'Some-college', '12th', 'Some-college', 'HS-grad', 'Masters', 'HS-grad', 'Some-college', 'HS-grad', 'Bachelors', 'Some-college', 'Bachelors', '10th', 'HS-grad', 'HS-grad', 'Bachelors', 'Some-college', 'HS-grad', 'HS-grad', 'Some-college', 'Bachelors', 'Assoc-acdm', 'Bachelors', '10th', 'Prof-school', 'HS-grad', 'HS-grad', 'Bachelors', 'Masters', 'Some-college', 'Some-college', '9th', 'Bachelors', 'Some-college', 'Some-college', 'Assoc-acdm', 'Some-college', 'Some-college', 'Some-college', 'HS-grad', 'HS-grad', 'Some-college', 'HS-grad', 'HS-grad', 'Some-college', 'HS-grad', '11th', 'Some-college', 'HS-grad', '12th', 'HS-grad', 'Bachelors', 'Bachelors', 'HS-grad', 'Assoc-acdm', '10th', 'HS-grad', 'Assoc-acdm', 'HS-grad', 'HS-grad', 'Prof-school', 'Some-college', 'Some-college', '9th', 'Some-college', 'Bachelors', 'Some-college', 'HS-grad', '7th-8th', 'HS-grad', '7th-8th', 'Bachelors', 'Some-college', 'HS-grad', 'Assoc-acdm', 'Some-college', 'HS-grad', 'HS-grad', 'Assoc-voc', 'HS-grad', '11th', 'Some-college', 'HS-grad', 'HS-grad', 'HS-grad', 'HS-grad', 'Bachelors', 'Bachelors', 'Bachelors', 'Assoc-voc', '7th-8th', 'Some-college', 'HS-grad', 'HS-grad', '7th-8th', 'Preschool', '11th', 'Some-college', 'Masters', 'Masters', 'HS-grad', 'Assoc-acdm', 'Assoc-voc', 'Assoc-acdm', 'Bachelors', 'Bachelors', 'Doctorate', 'Some-college', 'HS-grad', 'Assoc-acdm', 'Bachelors', 'Bachelors', '12th', 'HS-grad', 'HS-grad', '7th-8th', 'Some-college', '11th', 'Bachelors', 'HS-grad', 'HS-grad', 'Bachelors', '7th-8th', 'Some-college', 'HS-grad', 'HS-grad', 'Assoc-voc', 'Assoc-acdm', 'Some-college', 'HS-grad', 'Some-college', 'HS-grad', 'Some-college', 'HS-grad', 'Assoc-acdm', '11th', 'HS-grad', 'Assoc-acdm', 'HS-grad', 'Some-college', 'HS-grad', 'Some-college', 'Some-college', 'HS-grad', '9th', 'HS-grad', 'Bachelors', 'Some-college', 'HS-grad', '7th-8th', 'Some-college', 'HS-grad', '11th', 'Some-college', 'HS-grad', 'Bachelors', 'Some-college', '11th', '7th-8th', 'HS-grad', 'Some-college', 'HS-grad', 'HS-grad', 'HS-grad', 'HS-grad', 'Bachelors', 'HS-grad', 'HS-grad', 'Assoc-voc', 'HS-grad', 'HS-grad', 'Assoc-acdm', 'Bachelors', 'HS-grad', 'HS-grad', 'Masters', 'HS-grad', 'HS-grad', 'Masters', '5th-6th', '5th-6th', 'Masters', 'Bachelors', 'Assoc-voc', 'Bachelors', 'Some-college', 'Bachelors', 'Masters', 'Assoc-voc', 'Some-college', 'HS-grad', 'HS-grad', 'Some-college', 'Some-college', 'Masters', '10th', 'Bachelors', 'HS-grad', 'Some-college', 'Bachelors', 'Masters', 'HS-grad', 'Some-college', 'Bachelors', 'HS-grad', 'HS-grad', 'HS-grad', 'HS-grad', 'Assoc-voc', 'HS-grad', 'HS-grad', 'Prof-school', 'HS-grad', 'HS-grad', '11th', 'Some-college', 'Bachelors', '7th-8th', 'Some-college', 'Bachelors', 'Bachelors', '12th', '9th', 'Bachelors', 'Assoc-voc', 'HS-grad', '11th', 'HS-grad', 'Some-college', 'Assoc-acdm', 'HS-grad', 'Masters', 'HS-grad', 'Some-college', 'Some-college', 'Some-college', 'HS-grad', 'HS-grad', 'Some-college', 'Assoc-voc', 'HS-grad', 'HS-grad', 'Assoc-voc', '1st-4th', '11th', 'Some-college', 'Prof-school', 'Some-college', 'HS-grad', 'Some-college', 'Bachelors', 'HS-grad', 'Assoc-voc', 'HS-grad', 'HS-grad', 'Prof-school', 'Some-college', 'HS-grad', 'HS-grad', 'Some-college', '11th', '5th-6th', 'HS-grad', '10th', '10th', 'HS-grad', 'Masters', 'HS-grad', 'HS-grad', 'HS-grad', 'Assoc-voc', 'HS-grad', 'Some-college', 'Some-college', 'Some-college', 'HS-grad', 'Assoc-voc', '10th', 'Bachelors', 'HS-grad', '11th', '11th', 'HS-grad', 'HS-grad', 'Masters', 'Prof-school', 'HS-grad', '11th', 'Bachelors', 'Some-college', 'Some-college', 'Assoc-voc', 'Some-college', 'Masters', 'HS-grad', 'Some-college', '10th', '9th', 'HS-grad', 'Bachelors', '10th', 'HS-grad', 'HS-grad', 'Bachelors', '9th', 'HS-grad', 'Bachelors', 'Assoc-voc', 'Some-college', 'Masters', '12th', 'Some-college', '10th', 'Prof-school', '7th-8th', 'HS-grad', 'HS-grad', 'HS-grad', 'HS-grad', 'Bachelors', 'HS-grad', 'HS-grad', 'Assoc-voc', '10th', 'HS-grad', 'HS-grad', 'HS-grad', '1st-4th', 'Some-college', 'Some-college', 'HS-grad', 'Masters', 'Some-college', 'Some-college', 'Some-college', 'Some-college', '10th', 'Some-college', 'Bachelors', 'Masters', '12th', 'HS-grad', 'Assoc-acdm', 'HS-grad', 'Some-college', '10th', 'HS-grad', 'Some-college', 'Bachelors', 'Bachelors', 'HS-grad', 'Assoc-voc', 'HS-grad', 'HS-grad', 'Masters', 'HS-grad', 'Assoc-voc', 'Bachelors', 'HS-grad', 'Some-college', 'HS-grad', '7th-8th', 'HS-grad', 'Bachelors', '7th-8th', 'Some-college', 'HS-grad', 'HS-grad', 'Some-college', 'HS-grad', 'Bachelors', 'Bachelors', 'Assoc-voc', '5th-6th', 'Bachelors', 'HS-grad', 'HS-grad', '11th', 'HS-grad', 'HS-grad', 'Bachelors', 'Masters', '11th', 'Some-college', 'Doctorate', 'HS-grad', 'HS-grad', 'HS-grad', 'HS-grad', 'Some-college', '7th-8th', 'HS-grad', 'Some-college', 'HS-grad', '9th', 'Assoc-acdm', 'Some-college', 'HS-grad', 'Some-college', 'Bachelors', '9th', 'Bachelors', 'HS-grad', 'HS-grad', 'Some-college', 'HS-grad', 'Bachelors', '9th', 'HS-grad', 'Bachelors', 'Assoc-acdm', '9th', 'Bachelors', 'Bachelors', 'Some-college', 'Assoc-acdm', 'Assoc-acdm', 'Some-college', 'Some-college', 'Bachelors', 'Bachelors', 'Assoc-acdm', 'Assoc-voc', 'Some-college', 'Some-college', 'Bachelors', '10th', '12th', '11th', '9th', 'Bachelors', 'Some-college', 'Some-college', 'Some-college', 'HS-grad', 'Some-college', 'HS-grad', 'HS-grad', 'Some-college', 'HS-grad', 'Bachelors', 'HS-grad', 'Some-college', '9th', 'HS-grad', 'Some-college', 'HS-grad', 'Some-college', 'Masters', 'Some-college', 'Some-college', 'Masters', 'Bachelors', 'HS-grad', 'Some-college', '12th', 'HS-grad', 'Assoc-acdm', '1st-4th', '10th', 'Some-college', 'HS-grad', 'Some-college', 'HS-grad', 'HS-grad', '11th', 'Some-college', 'Doctorate', 'Some-college', 'HS-grad', 'Masters', 'HS-grad', 'Some-college', 'Bachelors', 'Bachelors', 'HS-grad', 'HS-grad', 'HS-grad', 'Some-college', 'HS-grad', 'Some-college', 'Assoc-voc', 'HS-grad', 'Some-college', 'Bachelors', 'Some-college', 'Bachelors', 'Masters', 'HS-grad', 'Some-college', 'Some-college', '5th-6th', '10th', 'Some-college', 'Some-college', 'Some-college', 'Doctorate', 'Doctorate', 'Bachelors', '10th', 'Masters', 'Some-college', '9th', 'Bachelors', 'HS-grad', 'HS-grad', 'HS-grad', 'Masters', 'Bachelors', 'HS-grad', 'HS-grad', 'Bachelors', 'Bachelors', 'Assoc-voc', 'Doctorate', 'HS-grad', 'Assoc-voc', '9th', 'HS-grad', 'Some-college', 'Some-college', 'Some-college', 'HS-grad', 'Bachelors', 'HS-grad', 'Masters', 'Bachelors', 'Bachelors', 'HS-grad', 'HS-grad', 'HS-grad', 'HS-grad', 'Masters', 'Some-college', 'Masters', 'HS-grad', 'Masters', 'HS-grad', 'Bachelors', 'Bachelors', 'HS-grad', 'Some-college', 'HS-grad', 'Bachelors', 'Assoc-acdm', 'HS-grad', 'HS-grad', 'HS-grad', 'Some-college', 'HS-grad', 'HS-grad', 'Some-college', 'Doctorate', 'HS-grad', 'Some-college', 'Some-college', 'HS-grad', 'HS-grad', 'Some-college', 'HS-grad', '11th', 'Some-college', 'Some-college', 'Some-college', 'Assoc-voc', 'HS-grad', 'HS-grad', 'HS-grad', 'HS-grad', 'HS-grad', 'Assoc-voc', 'Masters', 'Bachelors', 'Bachelors', 'HS-grad', 'Some-college', 'HS-grad', 'HS-grad', 'Some-college', 'HS-grad', 'HS-grad', 'Some-college', '11th', 'Some-college', 'Bachelors', 'HS-grad', 'Some-college', '11th', 'Assoc-voc', 'Assoc-acdm', 'HS-grad', 'HS-grad', 'HS-grad', 'Bachelors', 'HS-grad', 'Bachelors', 'Doctorate', 'Bachelors', 'Bachelors', 'HS-grad', 'Some-college', 'HS-grad', 'Some-college', 'Masters', 'Some-college', '11th', 'Some-college', 'Bachelors', 'HS-grad', 'HS-grad', 'Prof-school', '11th', 'HS-grad', 'Bachelors', 'Some-college', 'Masters', 'Assoc-acdm', 'Some-college', 'Masters', 'Assoc-voc', 'Some-college', 'Assoc-voc', 'Some-college', 'Masters', 'HS-grad', 'Some-college', 'HS-grad', 'Doctorate', 'HS-grad', 'Some-college', 'Assoc-voc', '10th', 'Assoc-acdm', 'HS-grad', 'HS-grad', 'HS-grad', 'HS-grad', 'HS-grad', 'Some-college', 'Bachelors', 'Masters', 'Bachelors', '11th', '5th-6th', '12th', 'Some-college', 'Bachelors', 'Masters', 'HS-grad', 'HS-grad', 'Some-college', 'Some-college', 'Some-college', 'HS-grad', 'Bachelors', 'Assoc-voc', 'Assoc-acdm', 'HS-grad', 'HS-grad', 'HS-grad', 'HS-grad', '7th-8th', '11th', 'Some-college', '7th-8th', 'Masters', 'HS-grad', 'HS-grad', 'HS-grad', 'HS-grad', 'Bachelors', 'HS-grad', 'Assoc-acdm', 'Assoc-voc', 'Assoc-acdm', 'Doctorate', '7th-8th', 'HS-grad', '10th', 'Bachelors', '7th-8th', 'HS-grad', 'HS-grad', 'HS-grad', 'HS-grad', 'HS-grad', 'Some-college', 'Bachelors', 'Bachelors', 'Some-college', 'HS-grad', 'Bachelors', '11th', 'HS-grad', 'Some-college', 'HS-grad', 'Bachelors', 'HS-grad', '11th', 'Assoc-acdm', 'Masters', 'HS-grad', 'Bachelors', '11th', 'HS-grad', 'Bachelors', 'HS-grad', 'Some-college', 'Bachelors', 'Bachelors', 'HS-grad', 'Bachelors', 'Masters', 'HS-grad', 'Some-college', '11th', 'Some-college', 'Bachelors', 'Assoc-voc', 'HS-grad', 'Some-college', 'Some-college', 'HS-grad', 'Some-college', '10th', 'HS-grad', 'Assoc-voc', 'Bachelors', 'HS-grad', 'Assoc-acdm', 'HS-grad', 'Assoc-voc', 'HS-grad', '7th-8th', 'HS-grad', 'Assoc-acdm', 'Some-college', 'Prof-school', 'Some-college', 'Some-college', 'HS-grad', 'HS-grad', 'Assoc-voc', 'HS-grad', 'Bachelors', 'Some-college', 'Some-college', '12th', '11th', '9th', '10th', 'Some-college', 'Some-college', 'Assoc-acdm', 'HS-grad', 'Bachelors', 'Masters', 'HS-grad', '9th', 'HS-grad', 'Bachelors', 'Bachelors', 'HS-grad', '11th', 'HS-grad', 'Some-college', 'Assoc-acdm', 'Some-college', 'HS-grad', 'Some-college', 'Bachelors', 'Prof-school', 'Masters', 'Doctorate', 'Bachelors', 'Bachelors', 'Some-college', 'Bachelors', 'Bachelors', '11th', 'Bachelors', 'Bachelors', 'Some-college', 'Assoc-acdm', 'HS-grad', 'HS-grad', 'Some-college', 'Some-college', 'Some-college', 'Some-college', 'Assoc-acdm', 'HS-grad', 'HS-grad', 'HS-grad', 'HS-grad', 'Assoc-acdm', 'Bachelors', 'HS-grad', 'Bachelors', 'HS-grad', 'Some-college', 'HS-grad', 'Doctorate', 'Assoc-voc', 'HS-grad', 'HS-grad', 'Bachelors', 'Some-college', 'Bachelors', 'Some-college', 'Prof-school', 'Bachelors', 'Bachelors', 'HS-grad', '12th', 'Bachelors', 'Some-college', 'HS-grad', 'Some-college', '7th-8th', 'Bachelors', 'Assoc-acdm', '11th', 'HS-grad', '7th-8th', 'Bachelors', 'HS-grad', 'Bachelors', 'Doctorate', 'Bachelors', 'HS-grad', 'HS-grad', 'Masters', 'HS-grad', 'HS-grad', 'Assoc-acdm', 'Masters', 'HS-grad', 'Some-college', 'Some-college', 'HS-grad', 'HS-grad', 'HS-grad', 'Assoc-acdm', 'Bachelors', 'HS-grad', 'Some-college', '11th', 'HS-grad', 'HS-grad', 'Bachelors', 'Assoc-voc', 'HS-grad', 'Bachelors', 'Assoc-voc', 'HS-grad', 'HS-grad', 'Bachelors', 'HS-grad', 'HS-grad', 'Some-college', 'Some-college', 'Some-college', 'HS-grad', '9th', 'Bachelors', 'HS-grad', 'HS-grad', 'HS-grad', 'HS-grad', 'HS-grad', 'Doctorate', 'Bachelors', 'Some-college', 'Masters', '10th', 'Masters', '11th', 'Masters', 'Assoc-acdm', 'Bachelors', 'HS-grad', 'Assoc-voc', '10th', '12th', 'Some-college', 'HS-grad', 'Masters', 'Some-college', 'HS-grad', 'Prof-school', 'Assoc-voc', 'Bachelors', 'Some-college', 'Some-college', 'Masters', 'Bachelors', 'Some-college', 'Bachelors', 'Some-college', '11th', 'Some-college', 'HS-grad', 'Masters', 'Some-college', 'Some-college', 'HS-grad', '10th', 'Masters', '9th', 'HS-grad', 'HS-grad', 'HS-grad', 'Bachelors', 'HS-grad', 'Some-college', 'HS-grad', 'Some-college', 'Masters', 'Assoc-voc', 'HS-grad', 'HS-grad', 'HS-grad', 'HS-grad', 'Bachelors', '11th', 'Assoc-voc', 'Bachelors', 'Some-college', 'Doctorate', 'HS-grad', 'HS-grad', 'HS-grad', '11th', 'HS-grad', 'Bachelors', 'Some-college', 'HS-grad', 'HS-grad', 'Bachelors', 'HS-grad', 'HS-grad', 'Bachelors', 'Assoc-voc', 'Masters', 'HS-grad', 'HS-grad', 'Some-college', 'Bachelors', 'Bachelors', 'Some-college', 'Masters', 'Prof-school', 'HS-grad', 'Some-college', 'HS-grad', 'HS-grad', 'Bachelors', 'Some-college', 'Bachelors', 'Some-college', 'HS-grad', 'Bachelors', 'HS-grad', 'Assoc-voc', 'HS-grad', 'HS-grad', 'Some-college', 'Assoc-acdm', 'Bachelors', 'HS-grad', '10th', 'HS-grad', 'Some-college', 'Assoc-acdm', 'Prof-school', '9th', 'Masters', 'Bachelors', 'HS-grad', 'HS-grad', 'Masters', 'Some-college', 'HS-grad', 'Assoc-voc', '7th-8th', 'Bachelors', 'Prof-school', '9th', '10th', '10th', 'Bachelors', 'HS-grad', 'Bachelors', '11th', 'Some-college', 'Some-college', 'Masters', 'HS-grad', 'HS-grad', 'HS-grad', 'HS-grad', 'Masters', 'HS-grad', 'Assoc-acdm', 'Masters', 'Bachelors', 'HS-grad', 'HS-grad', 'HS-grad', 'Bachelors', 'Some-college', 'HS-grad', 'HS-grad', 'Assoc-voc', 'Bachelors', '9th', 'HS-grad', 'Some-college', 'Bachelors', 'Bachelors', 'Masters', '7th-8th', 'HS-grad', 'HS-grad', 'Some-college', 'Masters', 'Some-college', 'HS-grad', 'HS-grad', 'Masters', 'HS-grad', 'Bachelors', 'HS-grad', 'Bachelors', 'Assoc-voc', 'HS-grad', '11th', '7th-8th', 'HS-grad', 'Bachelors', 'Assoc-acdm', '5th-6th', 'HS-grad', 'Assoc-voc', 'Some-college', 'HS-grad', 'HS-grad', 'Assoc-acdm', 'Bachelors', 'Assoc-voc', 'HS-grad', 'Bachelors', 'Bachelors', '7th-8th', 'Bachelors', 'HS-grad', 'HS-grad', 'Some-college', 'Prof-school', 'HS-grad', 'Bachelors', 'HS-grad', 'Some-college', 'Some-college', 'Prof-school', 'Some-college', 'HS-grad', '7th-8th', '5th-6th', 'HS-grad', 'HS-grad', 'Assoc-voc', 'Assoc-voc', 'HS-grad', 'Some-college', 'Some-college', 'HS-grad', '11th', 'Assoc-acdm', 'HS-grad', 'HS-grad', 'HS-grad', 'Some-college', 'HS-grad', 'HS-grad', 'Bachelors', 'HS-grad', 'Masters', 'Bachelors', 'HS-grad', 'HS-grad', 'Assoc-acdm', 'HS-grad', 'HS-grad', '7th-8th', '10th', 'Some-college', 'Some-college', 'Assoc-voc', 'Doctorate', 'Masters', 'Some-college', 'Assoc-acdm', 'HS-grad', 'HS-grad', 'Some-college', 'Some-college', 'HS-grad', 'HS-grad', 'HS-grad', 'HS-grad', 'Some-college', '10th', 'Some-college', 'HS-grad', 'HS-grad', 'Some-college', '12th', 'Some-college', 'HS-grad', 'Bachelors', 'HS-grad', 'HS-grad', 'Masters', 'Assoc-voc', 'HS-grad', 'Some-college', 'Bachelors', 'HS-grad', 'Bachelors', 'Some-college', 'Bachelors', 'HS-grad', '11th', 'HS-grad', '10th', 'HS-grad', 'HS-grad', 'Bachelors', '11th', 'HS-grad', 'Some-college', 'Some-college', 'Some-college', 'Bachelors', 'HS-grad', 'HS-grad', '12th', 'HS-grad', 'Some-college', 'HS-grad', 'HS-grad', 'Some-college', 'Bachelors', 'Some-college', 'Bachelors', '11th', '11th', 'Some-college', 'Some-college', 'Bachelors', 'Assoc-voc', 'Some-college', 'Bachelors', 'HS-grad', 'Masters', '11th', 'Some-college', 'HS-grad', 'HS-grad', 'Some-college', 'Some-college', 'HS-grad', 'Some-college', '7th-8th', 'HS-grad', 'Doctorate', 'Bachelors', 'Assoc-voc', 'Some-college', 'Some-college', 'HS-grad', 'Bachelors', 'Some-college', 'Some-college', '1st-4th', '7th-8th', 'Some-college', 'HS-grad', 'Some-college', 'Some-college', 'Prof-school', 'Some-college', 'Bachelors', 'Doctorate', 'Some-college', 'Bachelors', 'HS-grad', 'HS-grad', '10th', 'HS-grad', 'Some-college', 'Bachelors', 'Masters', 'Bachelors', 'HS-grad', 'Masters', 'HS-grad', 'HS-grad', 'Bachelors', 'Masters', 'Bachelors', 'Bachelors', 'Some-college', 'Prof-school', 'Some-college', 'HS-grad', 'HS-grad', 'Masters', 'Bachelors', 'Bachelors', 'HS-grad', 'HS-grad', '11th', 'Bachelors', 'Bachelors', '11th', 'Bachelors', 'HS-grad', 'HS-grad', 'Bachelors', 'Bachelors', 'HS-grad', 'Some-college', 'HS-grad', 'Bachelors', 'Prof-school', 'HS-grad', 'HS-grad', 'Assoc-voc', '10th', 'HS-grad', 'Some-college', 'Masters', 'Some-college', 'HS-grad', 'Assoc-voc', 'Bachelors', 'Doctorate', 'Bachelors', 'Some-college', 'HS-grad', '9th', 'Some-college', '11th', 'HS-grad', 'Some-college', 'HS-grad', 'Bachelors', 'Bachelors', '11th', 'Bachelors', 'Some-college', '12th', 'Assoc-acdm', 'HS-grad', 'HS-grad', '1st-4th', 'Assoc-voc', '12th', 'Some-college', 'HS-grad', 'Some-college', 'Assoc-acdm', 'Bachelors', '11th', 'HS-grad', 'Some-college', 'HS-grad', '12th', 'HS-grad', 'Doctorate', 'Bachelors', 'HS-grad', 'Bachelors', 'Some-college', 'Some-college', 'HS-grad', 'Bachelors', 'Assoc-voc', 'Some-college', 'HS-grad', 'Assoc-voc', 'Some-college', 'Bachelors', 'Some-college', 'Prof-school', 'HS-grad', 'Bachelors', 'HS-grad', 'Some-college', 'Bachelors', 'Prof-school', 'Bachelors', 'HS-grad', 'Assoc-voc', 'HS-grad', 'Masters', 'HS-grad', 'Bachelors', 'Masters', 'Some-college', 'Some-college', 'Prof-school', 'HS-grad', 'Some-college', 'Bachelors', 'Some-college', 'Bachelors', 'HS-grad', 'Masters', 'HS-grad', 'HS-grad', 'Bachelors', 'HS-grad', 'Bachelors', 'Some-college', 'Bachelors', '11th', 'Assoc-acdm', 'Assoc-acdm', 'Some-college', '10th', 'HS-grad', 'HS-grad', 'Some-college', 'HS-grad', 'Bachelors', 'HS-grad', 'HS-grad', 'HS-grad', 'HS-grad', 'Bachelors', 'HS-grad', 'HS-grad', 'Bachelors', 'Prof-school', 'Some-college', '10th', 'HS-grad', 'HS-grad', '7th-8th', 'Some-college', 'HS-grad', 'HS-grad', 'Assoc-voc', '9th', 'HS-grad', 'Some-college', 'HS-grad', 'Bachelors', 'HS-grad', 'Bachelors', 'Masters', 'HS-grad', 'HS-grad', 'Assoc-acdm', 'HS-grad', 'Assoc-acdm', 'HS-grad', 'HS-grad', 'Assoc-voc', 'HS-grad', '9th', 'HS-grad', 'Some-college', 'Bachelors', 'HS-grad', 'Some-college', 'HS-grad', '11th', 'HS-grad', 'Masters', 'Bachelors', 'HS-grad', 'Some-college', 'HS-grad', '11th', 'Bachelors', 'Some-college', 'HS-grad', '5th-6th', 'HS-grad', 'Assoc-voc', '11th', 'HS-grad', 'Assoc-voc', 'Masters', 'Masters', 'Assoc-voc', 'HS-grad', 'Bachelors', '1st-4th', 'HS-grad', '11th', 'Some-college', 'HS-grad', '12th', 'Bachelors', 'HS-grad', 'HS-grad', 'HS-grad', 'Bachelors', 'HS-grad', 'Doctorate', 'Masters', 'Masters', 'HS-grad', '11th', 'Some-college', 'HS-grad', 'Masters', 'Doctorate', 'Some-college', 'Some-college', '10th', 'HS-grad', 'HS-grad', 'Assoc-voc', 'Bachelors', 'HS-grad', 'HS-grad', 'Some-college', 'Some-college', 'HS-grad', 'Some-college', 'HS-grad', 'HS-grad', 'HS-grad', 'Some-college', 'Bachelors', 'HS-grad', 'Some-college', 'HS-grad', 'Some-college', '10th', 'HS-grad', 'Bachelors', 'Assoc-acdm', 'Some-college', 'Bachelors', 'Some-college', 'Assoc-voc', 'Assoc-voc', 'Bachelors', 'Masters', 'Assoc-acdm', 'Bachelors', 'Some-college', 'Bachelors', 'Masters', 'Some-college', 'Some-college', 'Some-college', 'Bachelors', 'Some-college', 'Bachelors', 'HS-grad', 'HS-grad', 'HS-grad', 'Some-college', 'Masters', 'Assoc-acdm', 'Some-college', 'HS-grad', '7th-8th', 'Some-college', 'Some-college', 'Some-college', 'Bachelors', 'Some-college', 'HS-grad', 'Some-college', 'Bachelors', 'Bachelors', 'Bachelors', '9th', 'HS-grad', 'HS-grad', '11th', 'Bachelors', 'HS-grad', 'Some-college', 'Bachelors', 'HS-grad', 'Some-college', 'HS-grad', 'Some-college', 'HS-grad', 'Assoc-voc', '11th', 'Bachelors', 'HS-grad', '10th', '1st-4th', 'HS-grad', 'HS-grad', 'Masters', 'Some-college', 'Bachelors', 'Some-college', 'HS-grad', 'HS-grad', 'Masters', 'Some-college', '5th-6th', 'Some-college', 'Bachelors', 'Bachelors', 'Assoc-voc', 'Prof-school', 'HS-grad', 'Assoc-voc', 'Some-college', 'HS-grad', 'HS-grad', 'Some-college', '7th-8th', 'HS-grad', 'Assoc-acdm', 'HS-grad', 'Doctorate', '11th', 'Some-college', 'HS-grad', 'Some-college', 'Some-college', 'HS-grad', 'Some-college', 'HS-grad', 'Bachelors', 'Assoc-acdm', 'HS-grad', 'Bachelors', 'HS-grad', 'Some-college', 'Prof-school', 'HS-grad', 'HS-grad', 'HS-grad', 'Assoc-voc', 'Assoc-voc', 'HS-grad', 'Bachelors', 'Some-college', 'HS-grad', 'HS-grad', '10th', 'Bachelors', 'Some-college', 'HS-grad', 'Bachelors', 'HS-grad', 'Assoc-voc', 'Bachelors', 'Bachelors', 'Some-college', 'HS-grad', 'HS-grad', 'HS-grad', 'Some-college', '9th', 'Some-college', 'Assoc-voc', '10th', 'HS-grad', 'Doctorate', 'HS-grad', 'HS-grad', 'Masters', '5th-6th', 'Bachelors', '10th', 'Some-college', '10th', 'Some-college', 'HS-grad', '11th', 'Some-college', 'Some-college', 'Masters', 'Some-college', 'Assoc-voc', 'Bachelors', 'Some-college', 'HS-grad', '9th', 'HS-grad', 'Some-college', 'Assoc-acdm', 'Bachelors', 'HS-grad', 'Assoc-acdm', 'HS-grad', 'Masters', 'Bachelors', '10th', 'HS-grad', 'Assoc-acdm', 'Some-college', 'Assoc-voc', 'Some-college', 'HS-grad', 'Some-college', 'Some-college', 'HS-grad', 'Some-college', 'Bachelors', 'Some-college', 'Bachelors', 'HS-grad', 'Bachelors', '1st-4th', '11th', 'Masters', 'HS-grad', 'Bachelors', 'Some-college', 'HS-grad', 'Bachelors', 'HS-grad', 'Bachelors', '11th', 'HS-grad', 'Assoc-acdm', 'HS-grad', '10th', '9th', 'Bachelors', 'Some-college', 'Doctorate', 'Some-college', '11th', 'Some-college', 'Assoc-voc', 'Some-college', 'HS-grad', 'Bachelors', 'Bachelors', 'HS-grad', 'Assoc-acdm', '7th-8th', 'Bachelors', 'HS-grad', 'HS-grad', 'Some-college', 'Bachelors', 'Some-college', 'HS-grad', 'HS-grad', 'Some-college', 'Some-college', 'Some-college', 'HS-grad', '11th', 'Some-college', 'HS-grad', 'Some-college', 'Bachelors', 'Masters', 'Bachelors', 'Bachelors', 'HS-grad', '1st-4th', 'Some-college', 'Assoc-voc', 'HS-grad', 'Some-college', 'HS-grad', 'Assoc-voc', 'Bachelors', 'Some-college', 'Bachelors', 'HS-grad', 'HS-grad', '7th-8th', 'HS-grad', 'Some-college', 'HS-grad', 'Assoc-acdm', 'HS-grad', 'HS-grad', 'Bachelors', 'Bachelors', 'HS-grad', 'HS-grad', 'HS-grad', '11th', 'Bachelors', 'HS-grad', 'Assoc-voc', 'HS-grad', '12th', 'Some-college', '7th-8th', 'Assoc-voc', 'HS-grad', 'Masters', 'Masters', 'HS-grad', 'HS-grad', 'HS-grad', 'Some-college', 'HS-grad', 'Assoc-voc', '10th', '11th', 'Bachelors', 'HS-grad', 'Some-college', '9th', 'HS-grad', 'Some-college', 'HS-grad', 'HS-grad', 'Some-college', 'HS-grad', 'Masters', 'Masters', 'Assoc-voc', 'Masters', 'HS-grad', 'HS-grad', '9th', 'HS-grad', 'Some-college', '7th-8th', 'Some-college', 'HS-grad', 'Some-college', 'Assoc-voc', 'HS-grad', 'Some-college', 'Bachelors', 'HS-grad', 'HS-grad', '5th-6th', 'HS-grad', 'Some-college', 'Some-college', 'HS-grad', 'Prof-school', 'Bachelors', '7th-8th', '11th', 'Bachelors', 'Some-college', 'Some-college', '5th-6th', 'Some-college', 'Masters', '10th', '11th', '9th', 'Some-college', 'HS-grad', 'HS-grad', '7th-8th', 'Masters', 'HS-grad', 'HS-grad', 'HS-grad', 'HS-grad', 'HS-grad', 'HS-grad', 'Preschool', 'Assoc-voc', 'Bachelors', '11th', 'Bachelors', 'Some-college', '5th-6th', 'HS-grad', 'Masters', 'HS-grad', 'HS-grad', '5th-6th', 'HS-grad', 'Some-college', 'HS-grad', 'HS-grad', 'HS-grad', 'HS-grad', 'Some-college', 'Bachelors', 'Some-college', 'HS-grad', 'HS-grad', 'HS-grad', 'Bachelors', 'Bachelors', 'Bachelors', 'Doctorate', 'HS-grad', 'Bachelors', 'HS-grad', 'Some-college', '12th', '10th', '11th', 'Bachelors', 'Assoc-acdm', 'Bachelors', 'HS-grad', 'Some-college', 'HS-grad', 'Some-college', '11th', '11th', 'HS-grad', '7th-8th', 'HS-grad', 'Some-college', 'Some-college', 'Bachelors', 'Some-college', 'Assoc-voc', 'HS-grad', 'HS-grad', '7th-8th', 'HS-grad', '12th', 'HS-grad', 'Assoc-voc', 'HS-grad', '7th-8th', 'HS-grad', 'Doctorate', 'HS-grad', 'Bachelors', 'Some-college', 'Some-college', 'HS-grad', 'HS-grad', '11th', 'HS-grad', 'HS-grad', 'HS-grad', 'Bachelors', '12th', 'Bachelors', 'HS-grad', 'Prof-school', 'Some-college', 'Some-college', '12th', 'HS-grad', 'Some-college', 'HS-grad', 'Assoc-voc', 'HS-grad', 'Bachelors', 'Bachelors', '11th', 'Assoc-voc', 'HS-grad', 'HS-grad', 'Some-college', '9th', 'Some-college', '1st-4th', '10th', 'Some-college', 'Masters', 'HS-grad', 'HS-grad', 'Bachelors', 'Bachelors', 'Bachelors', 'Assoc-acdm', '7th-8th', 'Assoc-acdm', 'HS-grad', 'Assoc-voc', '10th', 'Bachelors', 'HS-grad', 'Some-college', 'HS-grad', 'Assoc-acdm', 'HS-grad', '11th', 'Some-college', 'HS-grad', 'Assoc-acdm', 'Bachelors', 'Some-college', 'HS-grad', 'Masters', 'HS-grad', 'Assoc-voc', 'HS-grad', 'HS-grad', 'Assoc-voc', 'Masters', '12th', '9th', 'Doctorate', 'Some-college', 'Some-college', 'Bachelors', 'Assoc-voc', '5th-6th', 'Masters', 'HS-grad', 'HS-grad', 'HS-grad', 'Bachelors', 'Assoc-voc', 'Bachelors', 'Some-college', 'HS-grad', 'HS-grad', '9th', 'Bachelors', 'HS-grad', 'Assoc-acdm', 'HS-grad', 'Assoc-acdm', 'Some-college', 'Assoc-acdm', 'Bachelors', 'Some-college', 'HS-grad', '7th-8th', '7th-8th', 'Some-college', 'HS-grad', 'Bachelors', 'HS-grad', 'Some-college', 'Assoc-voc', 'Some-college', 'HS-grad', 'HS-grad', 'Bachelors', 'HS-grad', 'Some-college', 'Bachelors', 'Some-college', 'Some-college', 'HS-grad', 'Bachelors', 'Some-college', 'Bachelors', '12th', 'Bachelors', 'Bachelors', 'Bachelors', 'HS-grad', 'Doctorate', 'Some-college', '11th', '12th', 'Some-college', 'Assoc-acdm', 'HS-grad', 'HS-grad', 'Assoc-voc', 'Some-college', '10th', 'Bachelors', 'HS-grad', 'Bachelors', 'HS-grad', 'Prof-school', 'Some-college', '9th', 'Some-college', 'Some-college', 'HS-grad', 'Some-college', 'Bachelors', 'Bachelors', 'HS-grad', 'HS-grad', 'Some-college', 'HS-grad', 'Some-college', 'Bachelors', 'Some-college', '10th', 'Some-college', 'Some-college', 'Bachelors', 'Masters', 'Doctorate', '7th-8th', 'HS-grad', 'HS-grad', 'Assoc-acdm', 'HS-grad', 'Bachelors', 'HS-grad', 'HS-grad', 'Assoc-acdm', 'Masters', 'HS-grad', 'Some-college', 'Bachelors', 'Some-college', 'HS-grad', 'HS-grad', 'Some-college', 'Bachelors', 'Some-college', 'HS-grad', '11th', 'Some-college', 'Masters', 'Bachelors', 'Bachelors', 'Some-college', 'Assoc-voc', 'HS-grad', 'HS-grad', 'Some-college', 'HS-grad', 'HS-grad', 'HS-grad', 'HS-grad', '12th', 'HS-grad', 'Some-college', 'Bachelors', 'HS-grad', 'Some-college', '10th', 'HS-grad', 'Masters', 'Masters', 'Some-college', '11th', 'HS-grad', 'Some-college', '11th', 'Assoc-acdm', 'HS-grad', 'HS-grad', 'Bachelors', 'Assoc-acdm', 'Assoc-voc', 'Some-college', 'Some-college', 'Bachelors', 'Assoc-voc', 'Some-college', 'Bachelors', 'Masters', 'Bachelors', 'Some-college', 'Assoc-voc', '5th-6th', 'HS-grad', 'Some-college', 'Masters', 'HS-grad', 'HS-grad', 'Some-college', 'HS-grad', 'HS-grad', '11th', 'HS-grad', 'HS-grad', 'Bachelors', '11th', 'Prof-school', 'HS-grad', '10th', '10th', 'HS-grad', 'HS-grad', 'Some-college', '9th', 'HS-grad', '11th', 'HS-grad', '10th', 'Bachelors', 'HS-grad', 'HS-grad', 'HS-grad', 'Doctorate', 'Doctorate', 'Bachelors', 'Masters', 'HS-grad', 'HS-grad', 'HS-grad', 'HS-grad', 'Masters', 'HS-grad', 'Some-college', 'HS-grad', 'HS-grad', 'HS-grad', 'HS-grad', 'HS-grad', 'HS-grad', 'HS-grad', 'Some-college', '11th', 'HS-grad', 'Some-college', 'Bachelors', '12th', 'HS-grad', '9th', 'Some-college', 'Some-college', '7th-8th', 'Bachelors', 'Some-college', 'HS-grad', 'Bachelors', 'HS-grad', 'Assoc-voc', 'Assoc-voc', 'Masters', 'HS-grad', 'HS-grad', 'Bachelors', 'Some-college', 'Assoc-voc', 'HS-grad', '11th', 'Some-college', 'Some-college', 'Bachelors', 'Bachelors', 'Bachelors', '11th', 'Bachelors', 'Bachelors', 'Bachelors', 'HS-grad', 'HS-grad', 'Some-college', 'Masters', 'HS-grad', 'HS-grad', 'HS-grad', 'Assoc-acdm', 'Bachelors', 'Some-college', 'Some-college', 'Some-college', '7th-8th', 'Bachelors', 'Some-college', 'HS-grad', 'HS-grad', 'HS-grad', 'HS-grad', 'HS-grad', 'Assoc-acdm', 'HS-grad', 'Assoc-acdm', 'Doctorate', 'HS-grad', 'HS-grad', 'Some-college', 'Bachelors', 'Bachelors', 'Assoc-voc', 'Some-college', 'HS-grad', 'HS-grad', 'Prof-school', 'Bachelors', 'HS-grad', 'HS-grad', 'Some-college', 'Some-college', '11th', 'Prof-school', 'Prof-school', 'Masters', 'HS-grad', 'Bachelors', 'HS-grad', 'Masters', '11th', 'Some-college', 'Some-college', 'Some-college', 'Bachelors', 'Some-college', 'Some-college', '10th', 'Bachelors', 'Some-college', '9th', 'Bachelors', 'Some-college', 'HS-grad', '11th', 'HS-grad', 'HS-grad', 'Bachelors', 'Assoc-voc', 'Bachelors', 'HS-grad', 'Some-college', 'Bachelors', 'HS-grad', 'Bachelors', 'HS-grad', 'Masters', 'Some-college', '12th', 'HS-grad', 'HS-grad', 'HS-grad', 'HS-grad', 'HS-grad', 'HS-grad', 'HS-grad', 'HS-grad', '12th', 'Preschool', 'HS-grad', 'Some-college', 'Bachelors', 'HS-grad', 'HS-grad', 'Some-college', 'HS-grad', 'Some-college', 'Bachelors', 'Some-college', 'HS-grad', 'Masters', 'HS-grad', 'HS-grad', 'Some-college', 'HS-grad', 'Doctorate', '10th', 'HS-grad', 'HS-grad', 'HS-grad', 'Some-college', 'HS-grad', 'Some-college', 'HS-grad', 'HS-grad', 'Some-college', 'Some-college', 'HS-grad', 'Bachelors', 'Bachelors', 'HS-grad', '10th', 'Some-college', 'Assoc-acdm', 'Masters', 'Some-college', 'Assoc-voc', 'HS-grad', 'Bachelors', 'HS-grad', 'HS-grad', 'HS-grad', 'HS-grad', 'Bachelors', 'HS-grad', 'Preschool', 'HS-grad', 'Masters', 'HS-grad', '7th-8th', 'Bachelors', 'HS-grad', 'Prof-school', 'Bachelors', 'Bachelors', 'Some-college', '9th', 'HS-grad', 'Some-college', 'Bachelors', 'HS-grad', 'Assoc-acdm', 'Some-college', 'Masters', 'Some-college', 'HS-grad', 'Prof-school', 'Assoc-voc', 'HS-grad', 'HS-grad', '10th', 'HS-grad', 'Prof-school', '11th', '11th', '9th', 'Bachelors', '11th', 'Assoc-acdm', '11th', 'Assoc-acdm', 'Some-college', 'HS-grad', 'Assoc-acdm', 'Some-college', 'Masters', 'Assoc-acdm', 'HS-grad', 'Some-college', '10th', 'Bachelors', 'HS-grad', 'HS-grad', 'Assoc-acdm', 'Some-college', 'HS-grad', 'Prof-school', 'Doctorate', 'HS-grad', 'Some-college', 'HS-grad', 'Bachelors', 'HS-grad', 'Masters', 'Bachelors', 'HS-grad', '12th', 'Masters', 'Masters', 'HS-grad', 'Some-college', 'HS-grad', 'Some-college', 'Assoc-voc', 'Bachelors', 'Some-college', 'HS-grad', 'Some-college', 'Some-college', 'Some-college', 'Masters', 'HS-grad', 'HS-grad', 'HS-grad', 'Some-college', 'Bachelors', 'Some-college', 'Some-college', 'Assoc-voc', 'HS-grad', 'Assoc-voc', 'Assoc-voc', 'Bachelors', 'HS-grad', 'Assoc-acdm', 'HS-grad', 'Some-college', 'HS-grad', '9th', 'HS-grad', '12th', 'Masters', 'Assoc-voc', 'Bachelors', 'Bachelors', 'HS-grad', '11th', '10th', 'HS-grad', 'Some-college', '9th', 'Bachelors', 'HS-grad', 'HS-grad', 'HS-grad', 'HS-grad', 'Some-college', 'Bachelors', 'Masters', 'Bachelors', 'HS-grad', '10th', 'Some-college', 'Some-college', 'Some-college', 'HS-grad', '10th', 'HS-grad', 'Some-college', 'Bachelors', 'Some-college', 'HS-grad', 'HS-grad', '11th', '11th', 'Some-college', 'Some-college', 'HS-grad', 'HS-grad', 'Doctorate', 'HS-grad', '1st-4th', 'HS-grad', 'HS-grad', 'HS-grad', 'HS-grad', 'HS-grad', 'HS-grad', 'Some-college', 'HS-grad', 'HS-grad', 'HS-grad', 'Some-college', 'HS-grad', 'Some-college', 'Some-college', 'Bachelors', 'HS-grad', 'Some-college', '5th-6th', '9th', 'Some-college', 'Some-college', '12th', 'Bachelors', 'Assoc-acdm', 'HS-grad', 'Some-college', 'HS-grad', 'Assoc-acdm', 'Some-college', 'Assoc-voc', 'Bachelors', 'Bachelors', 'Some-college', 'Some-college', 'Some-college', 'Some-college', 'HS-grad', 'Some-college', 'Masters', 'HS-grad', 'Bachelors', '10th', 'Assoc-acdm', 'HS-grad', 'Assoc-voc', 'HS-grad', 'HS-grad', '11th', 'HS-grad', 'Bachelors', 'HS-grad', 'HS-grad', 'Some-college', '9th', 'Bachelors', 'Masters', 'Some-college', 'Some-college', '11th', '11th', 'HS-grad', 'Some-college', 'HS-grad', 'Assoc-acdm', 'HS-grad', 'HS-grad', 'Some-college', 'HS-grad', 'HS-grad', 'HS-grad', 'HS-grad', '10th', '11th', 'Bachelors', 'Some-college', 'Bachelors', '10th', 'Bachelors', 'Some-college', 'HS-grad', 'Bachelors', '7th-8th', 'Assoc-acdm', 'Masters', 'HS-grad', 'Assoc-voc', 'Masters', 'HS-grad', 'Some-college', 'Some-college', '12th', 'Bachelors', '11th', '10th', 'HS-grad', 'HS-grad', '10th', 'Assoc-voc', 'Assoc-acdm', 'Assoc-voc', 'Some-college', 'Bachelors', 'Assoc-voc', 'HS-grad', 'HS-grad', 'HS-grad', 'HS-grad', 'Bachelors', 'HS-grad', 'HS-grad', 'Assoc-acdm', 'HS-grad', 'HS-grad', 'Assoc-voc', 'Bachelors', 'Masters', 'HS-grad', 'Assoc-acdm', 'Bachelors', 'Some-college', 'Some-college', '10th', 'Bachelors', 'Assoc-voc', 'HS-grad', 'Some-college', 'HS-grad', '10th', 'Assoc-voc', 'Some-college', 'Bachelors', 'Doctorate', 'Bachelors', 'Masters', 'HS-grad', 'Some-college', 'Bachelors', 'HS-grad', 'Assoc-voc', 'Some-college', 'Assoc-voc', '10th', 'Some-college', 'HS-grad', 'HS-grad', 'HS-grad', 'Masters', 'HS-grad', 'HS-grad', 'HS-grad', 'Bachelors', 'Bachelors', '11th', 'Some-college', '9th', 'HS-grad', 'HS-grad', 'Prof-school', 'HS-grad', '11th', 'Bachelors', 'Assoc-acdm', 'Bachelors', 'HS-grad', 'HS-grad', 'Assoc-voc', 'HS-grad', 'HS-grad', 'Some-college', 'Bachelors', 'Bachelors', 'Assoc-acdm', 'Some-college', 'Some-college', 'HS-grad', 'HS-grad', 'HS-grad', 'Some-college', 'Some-college', 'Bachelors', 'Prof-school', 'Bachelors', 'HS-grad', 'Some-college', 'Some-college', 'Some-college', 'HS-grad', 'Some-college', 'Some-college', 'HS-grad', 'Some-college', 'Some-college', 'HS-grad', 'Some-college', 'Masters', 'HS-grad', 'Assoc-voc', 'HS-grad', 'HS-grad', '12th', 'HS-grad', 'HS-grad', 'HS-grad', '9th', '11th', 'Bachelors', 'HS-grad', 'Assoc-voc', 'Some-college', 'Some-college', 'Doctorate', 'HS-grad', 'HS-grad', '10th', 'Assoc-voc', 'Assoc-voc', 'Masters', 'HS-grad', 'HS-grad', 'Some-college', 'Doctorate', 'HS-grad', 'Some-college', 'Bachelors', 'HS-grad', '7th-8th', '10th', 'Bachelors', 'HS-grad', 'HS-grad', 'HS-grad', 'Some-college', 'Some-college', 'Bachelors', 'Bachelors', 'Some-college', '7th-8th', 'HS-grad', 'Some-college', 'Assoc-voc', 'Assoc-voc', 'Assoc-acdm', 'Assoc-acdm', 'Some-college', 'Masters', 'Some-college', 'HS-grad', 'Prof-school', 'Some-college', 'Some-college', 'Masters', '9th', 'Some-college', 'HS-grad', 'HS-grad', 'Assoc-voc', 'Some-college', 'Bachelors', 'Assoc-voc', 'Bachelors', 'HS-grad', 'Some-college', 'Assoc-acdm', 'Bachelors', 'Bachelors', '10th', 'Bachelors', 'HS-grad', 'Bachelors', 'Some-college', 'HS-grad', 'Some-college', 'Some-college', 'Some-college', 'Prof-school', 'HS-grad', 'Masters', '5th-6th', 'Bachelors', 'HS-grad', 'Bachelors', 'Some-college', 'Bachelors', '11th', 'Some-college', 'HS-grad', 'Some-college', 'Masters', 'Assoc-acdm', 'Some-college', 'Some-college', 'Some-college', 'HS-grad', 'Prof-school', 'Some-college', '11th', 'HS-grad', 'Bachelors', 'HS-grad', 'HS-grad', 'Bachelors', 'Bachelors', 'Assoc-acdm', 'HS-grad', 'Bachelors', 'HS-grad', 'HS-grad', 'Bachelors', 'Assoc-voc', 'HS-grad', 'HS-grad', 'HS-grad', 'HS-grad', 'HS-grad', 'HS-grad', '5th-6th', 'Bachelors', 'HS-grad', 'Some-college', 'HS-grad', 'Masters', 'HS-grad', 'Some-college', '7th-8th', 'HS-grad', '12th', '11th', 'Some-college', '9th', 'Bachelors', 'Some-college', '10th', 'Bachelors', 'HS-grad', 'Assoc-acdm', 'Some-college', 'Some-college', 'HS-grad', '11th', 'Bachelors', 'HS-grad', 'HS-grad', '10th', 'HS-grad', '12th', 'Some-college', 'HS-grad', 'Bachelors', 'Some-college', 'HS-grad', '11th', 'HS-grad', 'Some-college', 'Some-college', 'HS-grad', 'Some-college', 'Some-college', 'HS-grad', 'Masters', 'HS-grad', 'Bachelors', 'HS-grad', 'HS-grad', 'Bachelors', 'Bachelors', 'Some-college', 'Bachelors', 'Some-college', 'HS-grad', 'Bachelors', '11th', 'Some-college', 'Masters', 'HS-grad', 'HS-grad', 'Assoc-voc', 'Some-college', 'Bachelors', 'Assoc-voc', 'HS-grad', 'Assoc-acdm', '11th', 'Bachelors', 'Some-college', 'Bachelors', 'Some-college', 'Bachelors', 'Some-college', 'Masters', '7th-8th', 'Some-college', '7th-8th', 'Masters', 'HS-grad', 'HS-grad', 'Some-college', 'HS-grad', 'HS-grad', 'Some-college', 'Bachelors', '7th-8th', 'Doctorate', '10th', 'Assoc-voc', 'HS-grad', 'HS-grad', '7th-8th', '7th-8th', '11th', 'Bachelors', 'HS-grad', '11th', '12th', 'Bachelors', 'Bachelors', '11th', 'Bachelors', '10th', 'Bachelors', 'HS-grad', 'Assoc-acdm', 'Masters', '10th', 'HS-grad', 'Bachelors', 'Some-college', 'Some-college', '12th', 'Some-college', 'Some-college', 'Some-college', 'Prof-school', 'HS-grad', 'Masters', 'Assoc-acdm', 'Some-college', 'Bachelors', '11th', 'Assoc-acdm', 'HS-grad', 'HS-grad', 'Masters', 'HS-grad', 'Masters', '7th-8th', 'Some-college', 'HS-grad', 'Bachelors', 'HS-grad', 'Doctorate', 'Some-college', 'Assoc-voc', 'Bachelors', 'Masters', 'Masters', 'Bachelors', 'HS-grad', 'Some-college', 'Assoc-voc', 'HS-grad', 'HS-grad', 'Bachelors', 'Bachelors', 'Masters', 'HS-grad', '9th', 'HS-grad', 'Doctorate', 'HS-grad', 'HS-grad', 'Bachelors', 'Some-college', 'HS-grad', 'Some-college', 'Some-college', 'Some-college', 'Some-college', 'HS-grad', 'Some-college', 'Masters', 'HS-grad', 'HS-grad', 'HS-grad', 'Bachelors', 'Some-college', 'Some-college', 'HS-grad', '12th', 'Bachelors', 'Some-college', 'HS-grad', 'Bachelors', 'HS-grad', 'Bachelors', 'HS-grad', 'Masters', 'HS-grad', 'Assoc-acdm', 'HS-grad', 'Masters', 'HS-grad', 'Some-college', 'Assoc-voc', 'Prof-school', 'Some-college', 'Some-college', 'HS-grad', 'Some-college', 'Doctorate', 'Some-college', 'HS-grad', 'HS-grad', 'Bachelors', 'HS-grad', '7th-8th', 'HS-grad', 'Bachelors', 'Bachelors', 'Bachelors', '9th', 'Some-college', '7th-8th', 'Some-college', 'Prof-school', 'HS-grad', 'HS-grad', '7th-8th', 'HS-grad', 'HS-grad', 'Bachelors', 'Some-college', 'HS-grad', 'Some-college', 'Some-college', 'Some-college', '10th', 'Bachelors', 'Bachelors', 'HS-grad', 'Some-college', 'HS-grad', 'Bachelors', 'Bachelors', '10th', '12th', '10th', 'HS-grad', 'HS-grad', 'Bachelors', 'HS-grad', 'HS-grad', 'Assoc-voc', 'HS-grad', 'HS-grad', 'HS-grad', 'Bachelors', 'Some-college', 'Bachelors', 'Assoc-voc', 'Some-college', 'Assoc-acdm', '11th', 'Bachelors', 'HS-grad', 'Some-college', 'Bachelors', '9th', 'Bachelors', '9th', 'HS-grad', 'HS-grad', 'Bachelors', 'HS-grad', 'Assoc-voc', 'Some-college', 'HS-grad', 'HS-grad', 'HS-grad', 'HS-grad', 'HS-grad', 'HS-grad', 'Masters', 'Bachelors', 'HS-grad', 'Some-college', 'Bachelors', 'HS-grad', 'HS-grad', 'HS-grad', 'HS-grad', 'Prof-school', 'Bachelors', 'Some-college', 'HS-grad', 'Masters', 'HS-grad', 'Assoc-voc', 'HS-grad', '9th', 'Bachelors', 'Assoc-voc', 'Some-college', 'Some-college', 'HS-grad', '9th', 'HS-grad', 'Some-college', 'Some-college', '10th', 'Some-college', 'Assoc-voc', 'Some-college', 'HS-grad', 'Bachelors', 'Some-college', 'Some-college', 'Some-college', 'HS-grad', 'Some-college', 'HS-grad', 'Bachelors', '12th', 'HS-grad', 'HS-grad', 'HS-grad', '7th-8th', 'HS-grad', 'Some-college', 'Bachelors', '11th', 'HS-grad', 'HS-grad', 'HS-grad', 'Some-college', 'HS-grad', 'Bachelors', 'Bachelors', 'HS-grad', 'HS-grad', 'HS-grad', 'Prof-school', '11th', '11th', 'HS-grad', 'HS-grad', 'HS-grad', 'HS-grad', 'Some-college', 'Bachelors', 'Some-college', 'Prof-school', 'Some-college', 'Bachelors', 'HS-grad', '7th-8th', 'Assoc-acdm', 'HS-grad', 'Masters', 'Some-college', 'HS-grad', 'HS-grad', 'HS-grad', 'Assoc-voc', 'Some-college', 'HS-grad', 'Some-college', 'Bachelors', 'Masters', 'Some-college', 'HS-grad', '11th', 'Some-college', 'Some-college', 'HS-grad', '11th', 'HS-grad', '9th', 'HS-grad', 'Bachelors', 'HS-grad', 'HS-grad', 'Assoc-voc', 'Bachelors', 'HS-grad', 'Some-college', 'HS-grad', 'Some-college', 'HS-grad', 'Some-college', 'Doctorate', 'Prof-school', 'HS-grad', 'Assoc-voc', 'Some-college', '1st-4th', 'HS-grad', 'Bachelors', 'Some-college', 'HS-grad', '10th', 'Masters', 'HS-grad', 'Masters', 'Masters', '7th-8th', 'HS-grad', 'Assoc-voc', 'Prof-school', '10th', 'Doctorate', 'Some-college', '11th', '5th-6th', '10th', 'Bachelors', 'Bachelors', 'Some-college', 'HS-grad', 'Some-college', 'Assoc-acdm', 'Some-college', 'HS-grad', 'HS-grad', 'Some-college', '7th-8th', 'HS-grad', 'HS-grad', '1st-4th', 'HS-grad', 'Bachelors', 'Some-college', 'HS-grad', 'HS-grad', 'Some-college', 'HS-grad', '11th', 'HS-grad', '11th', 'Prof-school', '11th', 'Prof-school', 'HS-grad', 'HS-grad', 'Doctorate', '9th', 'HS-grad', 'HS-grad', 'Some-college', 'Bachelors', 'Some-college', 'HS-grad', 'Some-college', 'Prof-school', 'HS-grad', 'Bachelors', 'HS-grad', 'HS-grad', 'Bachelors', 'Bachelors', 'Bachelors', 'Assoc-acdm', 'Bachelors', 'HS-grad', 'HS-grad', '12th', 'Bachelors', 'Some-college', 'Doctorate', '7th-8th', 'Some-college', 'HS-grad', 'HS-grad', 'Assoc-acdm', 'HS-grad', 'Assoc-voc', 'HS-grad', 'HS-grad', 'HS-grad', 'Some-college', 'Assoc-voc', 'Some-college', '7th-8th', '11th', 'Some-college', 'Some-college', '11th', 'Assoc-voc', '10th', 'Some-college', 'HS-grad', '12th', 'Bachelors', '12th', 'Bachelors', 'Bachelors', 'HS-grad', 'Bachelors', 'HS-grad', 'Assoc-acdm', 'HS-grad', 'Bachelors', 'Some-college', 'HS-grad', 'Assoc-voc', 'HS-grad', 'HS-grad', 'Some-college', 'HS-grad', 'HS-grad', 'Prof-school', 'HS-grad', 'HS-grad', 'HS-grad', 'HS-grad', 'Bachelors', 'Bachelors', 'HS-grad', 'HS-grad', 'Masters', 'Bachelors', 'Assoc-voc', 'Masters', 'Masters', 'Some-college', 'Some-college', 'Some-college', 'Bachelors', 'Masters', 'HS-grad', 'Some-college', '12th', 'Some-college', 'Assoc-voc', '11th', 'Masters', 'Assoc-voc', 'HS-grad', 'Some-college', 'Some-college', 'Some-college', '9th', 'HS-grad', 'Bachelors', '9th', 'Assoc-acdm', 'Some-college', 'Some-college', 'HS-grad', '10th', 'HS-grad', 'Some-college', 'HS-grad', 'HS-grad', 'Some-college', 'Doctorate', 'Assoc-acdm', 'HS-grad', 'HS-grad', 'Bachelors', '9th', 'Some-college', 'HS-grad', 'Assoc-voc', 'HS-grad', 'Bachelors', 'HS-grad', 'Bachelors', 'Bachelors', 'Some-college', 'HS-grad', 'HS-grad', 'Bachelors', 'HS-grad', 'Some-college', 'Bachelors', 'HS-grad', 'Some-college', 'Some-college', 'HS-grad', 'Masters', '10th', '5th-6th', '7th-8th', 'HS-grad', 'Some-college', 'Some-college', 'Some-college', 'Some-college', 'HS-grad', 'HS-grad', 'HS-grad', 'Bachelors', 'HS-grad', 'Bachelors', 'HS-grad', 'Assoc-acdm', 'Bachelors', '10th', 'Some-college', 'Bachelors', 'HS-grad', 'Some-college', 'Masters', 'Some-college', 'Bachelors', 'Assoc-acdm', 'Some-college', 'Some-college', 'Bachelors', 'HS-grad', 'Prof-school', 'Masters', 'HS-grad', 'Some-college', '10th', 'Some-college', 'Masters', 'Some-college', 'Doctorate', 'HS-grad', 'Prof-school', 'HS-grad', 'Assoc-voc', 'HS-grad', 'Bachelors', 'Bachelors', 'Masters', 'Bachelors', 'Bachelors', '11th', 'Some-college', 'HS-grad', 'Some-college', 'Bachelors', 'Bachelors', 'Assoc-voc', 'Doctorate', 'Some-college', 'Masters', 'Bachelors', 'Bachelors', 'HS-grad', '12th', '12th', 'Assoc-voc', 'HS-grad', 'Masters', 'Some-college', 'Masters', 'HS-grad', 'Bachelors', 'Some-college', 'Some-college', 'HS-grad', 'Some-college', 'HS-grad', 'Some-college', 'HS-grad', 'Bachelors', 'HS-grad', 'Some-college', 'Assoc-acdm', '10th', 'HS-grad', '10th', 'Masters', 'Masters', 'HS-grad', '10th', 'HS-grad', 'Some-college', 'Assoc-voc', 'Assoc-voc', 'HS-grad', 'Assoc-voc', 'HS-grad', 'HS-grad', 'Some-college', 'HS-grad', 'HS-grad', 'Some-college', 'HS-grad', 'Bachelors', '11th', 'Masters', 'Masters', '11th', 'Some-college', '5th-6th', 'HS-grad', 'Assoc-acdm', 'Assoc-voc', 'Some-college', 'Masters', 'Assoc-voc', 'Some-college', 'HS-grad', '11th', 'HS-grad', 'Some-college', 'Assoc-voc', 'Bachelors', 'HS-grad', 'Some-college', '10th', 'Some-college', 'Assoc-acdm', 'HS-grad', 'Prof-school', 'Assoc-voc', 'Masters', 'Bachelors', 'HS-grad', 'Masters', 'HS-grad', 'Bachelors', 'Bachelors', '5th-6th', 'HS-grad', 'Some-college', 'Masters', 'Some-college', 'Some-college', 'HS-grad', 'HS-grad', 'Masters', 'HS-grad', 'HS-grad', 'Assoc-acdm', 'Assoc-voc', '11th', 'HS-grad', 'Some-college', 'HS-grad', 'HS-grad', 'Some-college', 'Some-college', 'HS-grad', 'Some-college', 'HS-grad', '11th', 'HS-grad', 'HS-grad', '11th', 'HS-grad', 'HS-grad', 'Masters', 'Masters', 'Some-college', 'Assoc-acdm', 'Masters', 'Some-college', 'HS-grad', 'Some-college', '11th', 'HS-grad', '9th', 'Bachelors', 'Some-college', 'HS-grad', 'HS-grad', 'Bachelors', 'Masters', 'HS-grad', '10th', 'Bachelors', 'Assoc-acdm', '7th-8th', '5th-6th', 'HS-grad', 'Some-college', 'Assoc-acdm', 'Some-college', 'Some-college', 'Bachelors', 'Assoc-acdm', 'HS-grad', 'Some-college', 'HS-grad', '7th-8th', 'Bachelors', 'HS-grad', 'Bachelors', 'Assoc-acdm', '10th', '7th-8th', 'Some-college', 'Some-college', 'HS-grad', 'Bachelors', 'Assoc-voc', 'Masters', 'Masters', '12th', 'Masters', 'HS-grad', 'Bachelors', '11th', '12th', 'Some-college', 'Some-college', 'Some-college', 'HS-grad', 'Assoc-acdm', 'HS-grad', 'Masters', 'HS-grad', 'HS-grad', 'Bachelors', 'Some-college', 'Bachelors', '7th-8th', 'Masters', 'Some-college', 'Some-college', 'HS-grad', 'HS-grad', 'Some-college', 'HS-grad', '11th', '12th', 'HS-grad', 'Some-college', 'HS-grad', 'Assoc-voc', 'Masters', 'Some-college', 'Bachelors', 'Some-college', 'Some-college', 'HS-grad', 'HS-grad', 'Some-college', 'Some-college', 'HS-grad', 'HS-grad', 'Some-college', 'HS-grad', 'HS-grad', 'Bachelors', 'Some-college', '11th', 'Assoc-acdm', 'Doctorate', 'Bachelors', 'HS-grad', 'HS-grad', 'Some-college', 'HS-grad', 'HS-grad', '10th', 'HS-grad', 'Bachelors', 'Masters', 'HS-grad', 'Some-college', 'Some-college', 'Bachelors', 'HS-grad', 'Some-college', 'HS-grad', '7th-8th', 'Some-college', '7th-8th', 'Some-college', 'HS-grad', 'HS-grad', 'HS-grad', 'Bachelors', 'HS-grad', '10th', 'Some-college', '5th-6th', 'Prof-school', 'Some-college', 'HS-grad', 'HS-grad', '12th', 'Bachelors', 'HS-grad', 'Bachelors', 'HS-grad', 'Assoc-acdm', 'Assoc-acdm', '11th', 'HS-grad', 'Bachelors', 'Assoc-acdm', '10th', 'Bachelors', 'Bachelors', 'Bachelors', 'HS-grad', '5th-6th', 'Some-college', 'Masters', 'Bachelors', 'Some-college', 'Some-college', 'Some-college', 'Some-college', 'Some-college', 'Some-college', 'Bachelors', 'Some-college', 'Some-college', 'Bachelors', 'HS-grad', 'HS-grad', 'Some-college', 'Masters', 'Bachelors', 'Some-college', 'HS-grad', 'Bachelors', 'HS-grad', 'Some-college', 'HS-grad', 'Some-college', 'Some-college', 'Some-college', 'HS-grad', 'HS-grad', 'Doctorate', '12th', 'Assoc-voc', 'Prof-school', 'HS-grad', 'HS-grad', 'HS-grad', 'Assoc-acdm', 'HS-grad', 'HS-grad', 'Some-college', 'HS-grad', 'Some-college', 'Bachelors', 'Bachelors', 'HS-grad', 'Bachelors', 'HS-grad', 'HS-grad', 'Bachelors', 'Bachelors', 'HS-grad', 'HS-grad', 'HS-grad', '12th', 'Bachelors', 'Some-college', 'HS-grad', 'Some-college', 'HS-grad', '10th', 'Bachelors', 'Bachelors', '7th-8th', '7th-8th', 'Some-college', '12th', 'HS-grad', '7th-8th', 'Some-college', 'Assoc-acdm', 'Some-college', 'Some-college', 'Bachelors', 'Some-college', 'HS-grad', 'Bachelors', 'Some-college', 'Bachelors', 'Masters', '9th', 'Assoc-voc', 'Bachelors', 'HS-grad', 'Some-college', 'Bachelors', 'Masters', '11th', '1st-4th', 'HS-grad', 'Bachelors', 'Some-college', 'Some-college', 'Masters', 'Bachelors', 'Some-college', 'Some-college', 'HS-grad', 'Some-college', 'HS-grad', 'Some-college', '10th', 'Some-college', 'Doctorate', 'Bachelors', 'HS-grad', 'Bachelors', 'Assoc-voc', '9th', 'Some-college', 'Some-college', 'HS-grad', 'HS-grad', 'Doctorate', 'HS-grad', 'Some-college', 'Bachelors', 'Some-college', 'HS-grad', 'HS-grad', '9th', 'Some-college', 'Assoc-acdm', 'Some-college', 'Bachelors', 'HS-grad', 'HS-grad', 'HS-grad', 'HS-grad', 'HS-grad', 'Assoc-acdm', 'Some-college', 'HS-grad', 'HS-grad', 'Some-college', 'Masters', 'Assoc-voc', 'HS-grad', '12th', '11th', '12th', 'HS-grad', 'HS-grad', 'Assoc-acdm', 'HS-grad', '10th', 'HS-grad', 'HS-grad', 'Some-college', '10th', '1st-4th', 'Bachelors', 'Some-college', 'HS-grad', 'Masters', 'Some-college', 'Assoc-acdm', 'Masters', 'Some-college', 'Bachelors', 'Bachelors', 'HS-grad', 'Bachelors', 'HS-grad', 'Bachelors', 'HS-grad', 'HS-grad', '12th', 'Bachelors', 'Bachelors', 'Some-college', 'Some-college', 'HS-grad', 'Bachelors', 'Masters', 'Some-college', 'Masters', 'HS-grad', 'Assoc-acdm', '11th', 'HS-grad', 'Bachelors', 'Assoc-acdm', 'HS-grad', 'Masters', 'Masters', 'HS-grad', 'Bachelors', 'HS-grad', 'Assoc-voc', 'Bachelors', 'Doctorate', 'Some-college', 'Bachelors', 'Bachelors', 'Bachelors', 'Assoc-acdm', 'Bachelors', 'HS-grad', 'HS-grad', 'Bachelors', 'Bachelors', 'Masters', 'Some-college', 'Some-college', 'Assoc-acdm', 'HS-grad', 'HS-grad', 'Bachelors', '11th', 'HS-grad', 'Some-college', '10th', 'HS-grad', 'Bachelors', 'Bachelors', 'HS-grad', 'Masters', 'Some-college', 'Bachelors', 'Some-college', 'Assoc-voc', 'HS-grad', 'Some-college', 'Some-college', 'Bachelors', 'Assoc-acdm', 'HS-grad', 'Bachelors', '7th-8th', 'HS-grad', 'HS-grad', 'HS-grad', 'Bachelors', 'Some-college', 'Bachelors', 'Some-college', 'Masters', 'HS-grad', 'Bachelors', 'Masters', 'Some-college', 'Masters', 'HS-grad', 'Some-college', 'Some-college', 'Prof-school', 'Some-college', 'Masters', 'Bachelors', 'Some-college', 'Bachelors', '7th-8th', 'Some-college', 'Some-college', 'Some-college', 'HS-grad', '12th', 'Bachelors', 'Prof-school', '11th', '10th', 'HS-grad', 'Some-college', 'Some-college', 'Bachelors', 'HS-grad', 'Some-college', 'Some-college', 'Doctorate', 'Some-college', 'Assoc-acdm', 'HS-grad', 'HS-grad', 'HS-grad', 'HS-grad', 'Bachelors', '12th', 'HS-grad', 'Masters', 'Some-college', 'HS-grad', 'Preschool', 'Some-college', 'HS-grad', 'HS-grad', 'HS-grad', 'Bachelors', 'Assoc-voc', 'HS-grad', 'HS-grad', 'Assoc-voc', 'HS-grad', 'HS-grad', 'Some-college', 'Bachelors', 'Assoc-acdm', 'Some-college', 'Some-college', 'Bachelors', 'HS-grad', 'HS-grad', 'Some-college', '11th', '10th', 'Masters', 'HS-grad', 'Bachelors', 'HS-grad', 'HS-grad', 'HS-grad', 'Some-college', 'Bachelors', '11th', 'Assoc-acdm', 'Bachelors', 'HS-grad', 'Bachelors', '11th', 'Some-college', 'Assoc-voc', '11th', 'Some-college', 'Some-college', 'Some-college', 'Masters', 'Assoc-acdm', '7th-8th', 'Masters', '10th', 'HS-grad', 'HS-grad', 'HS-grad', '7th-8th', 'HS-grad', 'Assoc-voc', 'Bachelors', 'HS-grad', '12th', 'HS-grad', 'Some-college', '7th-8th', 'Assoc-acdm', 'Bachelors', 'Some-college', 'HS-grad', 'Bachelors', 'HS-grad', 'Some-college', 'HS-grad', 'Bachelors', 'Some-college', 'HS-grad', 'Some-college', 'Some-college', 'HS-grad', '11th', '7th-8th', 'Some-college', 'Some-college', 'Some-college', '5th-6th', 'HS-grad', 'Assoc-voc', '9th', 'Bachelors', 'Bachelors', 'Assoc-voc', '1st-4th', 'Some-college', 'HS-grad', 'HS-grad', 'Some-college', 'Some-college', 'HS-grad', 'Bachelors', 'HS-grad', 'Some-college', '7th-8th', 'Some-college', 'Some-college', 'HS-grad', 'Bachelors', '11th', 'HS-grad', 'Bachelors', 'Masters', 'HS-grad', 'Bachelors', '10th', 'Bachelors', '11th', 'Masters', 'Bachelors', 'Bachelors', 'HS-grad', 'Some-college', 'HS-grad', 'Bachelors', 'HS-grad', 'HS-grad', 'HS-grad', 'HS-grad', 'Some-college', 'HS-grad', 'HS-grad', 'HS-grad', 'HS-grad', 'HS-grad', 'HS-grad', 'HS-grad', 'HS-grad', 'HS-grad', 'HS-grad', 'Assoc-voc', '10th', 'Assoc-acdm', 'Bachelors', 'HS-grad', 'Assoc-voc', 'Masters', 'HS-grad', 'Bachelors', 'Bachelors', 'HS-grad', 'Some-college', 'HS-grad', 'HS-grad', 'Bachelors', 'HS-grad', 'Bachelors', 'Bachelors', '10th', 'HS-grad', 'Bachelors', 'Assoc-voc', 'HS-grad', 'Bachelors', 'HS-grad', 'HS-grad', 'HS-grad', '12th', 'Bachelors', 'Assoc-acdm', 'Some-college', 'Bachelors', 'HS-grad', 'Some-college', 'Doctorate', 'Bachelors', '11th', '5th-6th', 'Assoc-voc', '11th', '5th-6th', 'HS-grad', 'Bachelors', 'HS-grad', 'Prof-school', 'HS-grad', 'Doctorate', 'Assoc-acdm', 'Bachelors', 'Bachelors', 'Bachelors', 'HS-grad', 'Some-college', 'Some-college', 'Assoc-acdm', 'Some-college', 'Some-college', 'HS-grad', 'HS-grad', 'HS-grad', 'Assoc-acdm', 'HS-grad', 'Some-college', 'Masters', 'Assoc-acdm', 'Assoc-acdm', 'Some-college', 'Bachelors', 'HS-grad', 'Some-college', 'Some-college', 'Assoc-acdm', 'Some-college', 'Bachelors', 'Assoc-voc', 'Some-college', 'Bachelors', 'Masters', 'Assoc-acdm', '5th-6th', '7th-8th', 'Bachelors', 'Masters', 'Bachelors', 'Some-college', '9th', 'Assoc-voc', 'Prof-school', 'Assoc-voc', 'Bachelors', 'HS-grad', 'Masters', 'Some-college', 'HS-grad', 'HS-grad', 'Masters', 'Some-college', '11th', 'Assoc-voc', 'HS-grad', '7th-8th', 'HS-grad', 'Bachelors', 'Masters', 'Some-college', '11th', 'Some-college', 'Some-college', 'Some-college', '11th', 'Doctorate', 'HS-grad', 'Bachelors', 'HS-grad', 'Some-college', 'Some-college', '7th-8th', 'Some-college', 'Bachelors', 'Some-college', 'Bachelors', 'Some-college', 'Assoc-acdm', 'HS-grad', 'Some-college', 'Bachelors', 'Bachelors', '11th', 'Bachelors', 'Some-college', 'Bachelors', 'HS-grad', 'HS-grad', 'Assoc-acdm', 'HS-grad', 'Doctorate', 'HS-grad', 'Bachelors', 'Bachelors', 'Assoc-acdm', '10th', 'Bachelors', 'Masters', 'Some-college', 'Bachelors', 'HS-grad', 'Assoc-acdm', 'Masters', 'Doctorate', 'Bachelors', 'HS-grad', 'Some-college', '10th', '10th', 'HS-grad', 'HS-grad', 'Masters', 'HS-grad', 'HS-grad', 'HS-grad', 'HS-grad', '9th', 'HS-grad', 'Masters', 'Some-college', 'Some-college', 'Bachelors', 'Some-college', '7th-8th', 'Some-college', 'Doctorate', 'HS-grad', 'Masters', 'Masters', '11th', 'Some-college', 'Some-college', 'Assoc-voc', 'Assoc-acdm', 'Assoc-voc', 'HS-grad', 'Bachelors', '10th', '9th', 'HS-grad', 'Some-college', 'HS-grad', '10th', 'Bachelors', 'Assoc-voc', 'Some-college', 'Prof-school', 'Some-college', 'HS-grad', 'Bachelors', '11th', '10th', 'Bachelors', 'HS-grad', 'Assoc-voc', 'Assoc-acdm', 'Prof-school', 'Bachelors', 'HS-grad', 'Bachelors', 'HS-grad', 'HS-grad', 'Masters', '11th', 'HS-grad', 'Masters', 'Some-college', 'HS-grad', '10th', 'Some-college', 'Bachelors', '5th-6th', 'HS-grad', 'Bachelors', 'Bachelors', 'HS-grad', 'Assoc-acdm', 'Some-college', 'Masters', 'HS-grad', 'HS-grad', 'Bachelors', 'Assoc-voc', 'Prof-school', 'Some-college', 'Some-college', '7th-8th', 'Bachelors', 'Some-college', 'Bachelors', 'Some-college', 'Masters', 'Some-college', 'Some-college', 'HS-grad', 'Assoc-voc', 'Bachelors', 'Bachelors', 'Some-college', 'Prof-school', 'Some-college', 'Bachelors', '7th-8th', 'Some-college', 'HS-grad', 'Doctorate', 'Some-college', 'HS-grad', 'Some-college', 'HS-grad', 'HS-grad', 'Masters', 'Masters', '11th', '5th-6th', 'Some-college', 'HS-grad', 'Bachelors', 'Masters', 'HS-grad', 'HS-grad', 'Bachelors', 'HS-grad', 'Some-college', 'Bachelors', '12th', 'HS-grad', 'HS-grad', 'HS-grad', 'Some-college', 'Some-college', '10th', 'Some-college', 'HS-grad', 'HS-grad', '9th', 'Bachelors', '11th', '5th-6th', 'HS-grad', 'HS-grad', 'HS-grad', 'Bachelors', 'Some-college', 'Bachelors', '12th', 'HS-grad', 'Bachelors', 'Some-college', 'HS-grad', 'HS-grad', 'Some-college', 'HS-grad', 'Some-college', 'Assoc-voc', 'Some-college', 'Assoc-acdm', 'Bachelors', 'Assoc-acdm', 'Bachelors', 'Some-college', 'HS-grad', 'Doctorate', '12th', 'Bachelors', 'Some-college', 'HS-grad', 'Some-college', 'HS-grad', 'Bachelors', 'Some-college', 'Some-college', 'HS-grad', 'HS-grad', 'Some-college', 'HS-grad', 'HS-grad', 'HS-grad', 'Bachelors', 'HS-grad', 'Some-college', 'Bachelors', 'Bachelors', 'Some-college', 'HS-grad', 'Bachelors', '12th', 'Bachelors', 'HS-grad', 'HS-grad', 'Some-college', 'Some-college', 'Bachelors', 'Some-college', '1st-4th', '7th-8th', 'Assoc-acdm', 'Bachelors', 'HS-grad', 'Some-college', 'HS-grad', 'Some-college', '7th-8th', 'Bachelors', 'HS-grad', 'HS-grad', '5th-6th', '5th-6th', 'Masters', 'HS-grad', 'HS-grad', 'Some-college', 'HS-grad', 'HS-grad', 'Bachelors', 'HS-grad', 'Assoc-acdm', 'Bachelors', 'Some-college', 'Bachelors', 'HS-grad', 'Assoc-acdm', 'Some-college', 'HS-grad', 'Bachelors', 'Some-college', 'Some-college', 'Bachelors', 'Some-college', 'Some-college', 'HS-grad', 'Prof-school', 'HS-grad', 'HS-grad', 'Some-college', 'Some-college', 'Masters', 'HS-grad', 'Bachelors', 'Some-college', '9th', 'Masters', 'Bachelors', 'Some-college', 'HS-grad', 'Some-college', '10th', '7th-8th', 'HS-grad', 'Some-college', 'HS-grad', 'Assoc-voc', 'HS-grad', 'Some-college', 'HS-grad', 'HS-grad', 'Doctorate', 'Some-college', 'Bachelors', 'Prof-school', 'HS-grad', 'HS-grad', 'HS-grad', 'Some-college', 'Some-college', 'Assoc-voc', 'Bachelors', 'HS-grad', '11th', 'Bachelors', 'Bachelors', 'Prof-school', 'Masters', 'Assoc-acdm', 'HS-grad', 'Bachelors', '7th-8th', 'HS-grad', 'HS-grad', '12th', 'HS-grad', 'Masters', 'HS-grad', 'Assoc-voc', 'Some-college', 'HS-grad', 'HS-grad', 'Some-college', 'HS-grad', 'HS-grad', 'Some-college', 'Some-college', 'Doctorate', 'Bachelors', 'HS-grad', 'Some-college', '9th', '12th', 'Bachelors', 'HS-grad', 'Bachelors', '10th', 'Assoc-voc', '12th', 'HS-grad', 'HS-grad', 'HS-grad', '10th', 'Some-college', 'Some-college', 'Some-college', '7th-8th', 'Some-college', 'Masters', '10th', 'Some-college', 'Some-college', '1st-4th', 'Some-college', 'HS-grad', 'HS-grad', 'Bachelors', 'Doctorate', 'Doctorate', 'Bachelors', 'HS-grad', 'Bachelors', 'Some-college', 'HS-grad', 'Bachelors', 'HS-grad', '1st-4th', '11th', 'Some-college', 'HS-grad', 'HS-grad', 'Bachelors', 'HS-grad', 'Some-college', 'Some-college', 'HS-grad', 'Masters', '10th', 'HS-grad', 'HS-grad', 'Assoc-voc', 'Masters', '12th', 'HS-grad', 'Prof-school', 'Some-college', 'HS-grad', 'Masters', 'Assoc-acdm', 'HS-grad', 'HS-grad', 'Some-college', '1st-4th', '9th', '11th', 'Masters', 'Some-college', 'Some-college', 'HS-grad', 'Some-college', 'Bachelors', 'Bachelors', 'Bachelors', 'HS-grad', '7th-8th', 'Some-college', 'Bachelors', 'Some-college', 'Bachelors', 'HS-grad', 'HS-grad', 'HS-grad', 'Assoc-acdm', 'Bachelors', 'HS-grad', 'Some-college', 'Assoc-acdm', 'HS-grad', 'HS-grad', 'HS-grad', 'Bachelors', 'HS-grad', 'HS-grad', 'HS-grad', 'HS-grad', '12th', '9th', 'Some-college', 'Bachelors', 'Some-college', '11th', 'HS-grad', '7th-8th', 'Prof-school', 'HS-grad', 'Assoc-acdm', 'Doctorate', 'HS-grad', 'HS-grad', 'Some-college', 'Bachelors', 'HS-grad', 'Some-college', 'Some-college', 'Bachelors', 'HS-grad', 'Some-college', 'Assoc-voc', 'Some-college', 'Some-college', 'HS-grad', 'HS-grad', 'Some-college', 'HS-grad', 'HS-grad', 'Bachelors', 'Some-college', 'Some-college', 'Some-college', 'HS-grad', 'HS-grad', '9th', 'Some-college', 'HS-grad', '11th', 'Some-college', 'Some-college', 'HS-grad', 'Some-college', 'Some-college', '1st-4th', '10th', 'HS-grad', 'Prof-school', 'Some-college', 'HS-grad', '11th', 'Bachelors', 'Some-college', 'HS-grad', 'Bachelors', '11th', 'Bachelors', 'Some-college', '11th', 'Prof-school', 'HS-grad', 'HS-grad', 'Bachelors', 'HS-grad', 'Assoc-voc', 'Some-college', '1st-4th', 'Bachelors', 'Bachelors', 'HS-grad', 'Some-college', 'HS-grad', 'HS-grad', 'Assoc-acdm', 'HS-grad', '9th', '10th', 'HS-grad', 'Bachelors', '9th', 'Some-college', 'HS-grad', 'Some-college', 'Masters', 'HS-grad', 'Some-college', 'HS-grad', 'Some-college', 'Assoc-acdm', 'HS-grad', 'Some-college', 'HS-grad', 'HS-grad', '10th', 'HS-grad', 'HS-grad', 'Some-college', 'Some-college', 'Some-college', 'Bachelors', 'Bachelors', 'HS-grad', 'HS-grad', 'Bachelors', 'HS-grad', 'Some-college', 'Bachelors', 'HS-grad', 'HS-grad', 'HS-grad', 'Some-college', 'HS-grad', 'Some-college', 'Assoc-acdm', 'Some-college', 'Some-college', 'Some-college', 'Assoc-acdm', 'Some-college', 'HS-grad', 'HS-grad', 'HS-grad', 'Doctorate', '12th', 'Prof-school', 'HS-grad', 'Bachelors', 'Some-college', '11th', 'Some-college', 'Bachelors', 'Prof-school', 'HS-grad', 'Bachelors', 'HS-grad', 'HS-grad', 'Some-college', 'HS-grad', 'Bachelors', 'Masters', '12th', 'HS-grad', '10th', 'Bachelors', 'Bachelors', 'Masters', 'Assoc-acdm', 'Some-college', 'Masters', 'Bachelors', 'HS-grad', '9th', '11th', 'HS-grad', 'Bachelors', 'Bachelors', 'Bachelors', 'Some-college', 'HS-grad', 'Bachelors', 'HS-grad', '11th', 'HS-grad', 'HS-grad', 'Some-college', 'HS-grad', 'HS-grad', 'Bachelors', '10th', 'Bachelors', 'HS-grad', 'HS-grad', 'Some-college', '7th-8th', 'Bachelors', 'HS-grad', '7th-8th', '11th', 'Some-college', '11th', 'Bachelors', 'HS-grad', 'HS-grad', 'Masters', 'Bachelors', 'Bachelors', 'HS-grad', 'Bachelors', 'Assoc-voc', 'Some-college', 'Some-college', 'HS-grad', '9th', 'HS-grad', 'Some-college', 'HS-grad', '11th', 'Bachelors', 'Bachelors', 'HS-grad', 'Some-college', 'Bachelors', 'Bachelors', 'Some-college', 'Some-college', 'Some-college', '7th-8th', 'Prof-school', 'Assoc-acdm', 'Prof-school', 'HS-grad', 'Bachelors', 'Bachelors', 'HS-grad', 'HS-grad', 'Bachelors', 'Masters', 'Some-college', 'Assoc-voc', '10th', 'Some-college', 'HS-grad', 'Assoc-acdm', 'Bachelors', 'HS-grad', 'Prof-school', 'HS-grad', 'HS-grad', 'Some-college', 'HS-grad', 'HS-grad', 'HS-grad', 'Bachelors', 'Masters', 'HS-grad', 'HS-grad', 'HS-grad', 'HS-grad', 'HS-grad', '7th-8th', 'Bachelors', 'Some-college', 'Bachelors', 'HS-grad', 'Some-college', 'HS-grad', 'HS-grad', 'HS-grad', 'HS-grad', 'HS-grad', 'Assoc-voc', 'Some-college', 'Some-college', '10th', 'Masters', 'HS-grad', 'Bachelors', 'Bachelors', 'Bachelors', 'Some-college', 'Bachelors', 'Some-college', 'HS-grad', 'Some-college', 'Some-college', 'Doctorate', 'Some-college', 'Some-college', 'Bachelors', 'Some-college', 'HS-grad', 'Some-college', '11th', 'HS-grad', '5th-6th', 'HS-grad', 'HS-grad', 'Bachelors', 'HS-grad', 'HS-grad', 'HS-grad', 'Bachelors', 'HS-grad', 'Bachelors', 'HS-grad', 'Bachelors', 'HS-grad', 'Some-college', '7th-8th', 'HS-grad', 'Some-college', 'HS-grad', 'Some-college', 'HS-grad', '5th-6th', 'Some-college', 'Masters', 'Bachelors', 'HS-grad', '10th', 'Bachelors', 'HS-grad', 'HS-grad', 'Bachelors', 'Bachelors', 'Prof-school', '10th', 'Some-college', 'Assoc-voc', 'HS-grad', 'HS-grad', 'HS-grad', 'HS-grad', 'HS-grad', 'Some-college', 'HS-grad', 'Some-college', 'Doctorate', '10th', 'HS-grad', 'Assoc-voc', 'HS-grad', 'Assoc-acdm', 'HS-grad', 'HS-grad', 'HS-grad', 'HS-grad', 'HS-grad', 'Bachelors', 'Some-college', 'HS-grad', 'HS-grad', '7th-8th', 'HS-grad', 'HS-grad', 'HS-grad', 'Some-college', 'Assoc-voc', 'Some-college', 'Bachelors', 'Some-college', '11th', 'Bachelors', 'Prof-school', 'Some-college', 'HS-grad', 'Masters', 'Bachelors', 'Masters', 'Some-college', 'HS-grad', 'HS-grad', 'HS-grad', 'Bachelors', 'Assoc-voc', 'Some-college', 'Assoc-voc', 'Some-college', 'Bachelors', 'Some-college', 'Assoc-voc', 'HS-grad', 'Bachelors', 'Prof-school', 'Assoc-acdm', 'Some-college', 'HS-grad', 'Some-college', '11th', 'Masters', 'Assoc-voc', 'Assoc-voc', 'HS-grad', 'Some-college', 'Bachelors', 'HS-grad', 'HS-grad', 'Bachelors', 'Some-college', 'Bachelors', '10th', 'HS-grad', 'HS-grad', 'HS-grad', 'HS-grad', 'HS-grad', '7th-8th', 'Bachelors', 'Some-college', 'Bachelors', 'Some-college', 'Some-college', '5th-6th', 'Bachelors', 'Masters', 'Some-college', 'Some-college', 'HS-grad', '10th', 'Assoc-acdm', 'Bachelors', 'Some-college', 'HS-grad', 'HS-grad', 'Some-college', 'Some-college', 'Bachelors', 'HS-grad', 'HS-grad', 'Some-college', 'Some-college', 'Some-college', 'Some-college', 'HS-grad', 'Assoc-voc', 'Some-college', 'Some-college', 'HS-grad', 'HS-grad', 'Bachelors', 'Doctorate', 'HS-grad', 'HS-grad', 'HS-grad', 'HS-grad', 'HS-grad', 'Some-college', 'Bachelors', 'HS-grad', 'Some-college', 'Some-college', 'HS-grad', 'Some-college', 'HS-grad', 'Some-college', 'Assoc-acdm', 'Some-college', '11th', 'HS-grad', 'Some-college', 'Masters', 'Some-college', 'HS-grad', 'HS-grad', 'HS-grad', 'HS-grad', 'HS-grad', 'Masters', 'HS-grad', 'Some-college', '12th', 'Bachelors', 'HS-grad', 'HS-grad', 'HS-grad', 'HS-grad', 'HS-grad', 'HS-grad', 'HS-grad', 'Bachelors', 'Some-college', '5th-6th', 'Bachelors', 'Masters', 'HS-grad', 'HS-grad', 'Masters', 'Doctorate', '5th-6th', '11th', 'Doctorate', '7th-8th', 'Some-college', 'HS-grad', 'HS-grad', '5th-6th', 'Bachelors', 'Assoc-voc', '7th-8th', 'Bachelors', 'Bachelors', 'Some-college', 'HS-grad', '7th-8th', '5th-6th', 'Bachelors', 'Some-college', 'Some-college', 'Some-college', 'Bachelors', 'Masters', 'Some-college', 'Bachelors', 'HS-grad', 'Bachelors', 'HS-grad', 'Assoc-acdm', 'HS-grad', 'Masters', 'Assoc-voc', 'Masters', 'Some-college', 'HS-grad', 'Bachelors', 'HS-grad', 'Some-college', 'HS-grad', 'Some-college', 'HS-grad', 'Bachelors', '10th', 'Some-college', 'HS-grad', 'HS-grad', 'HS-grad', 'Bachelors', 'HS-grad', '7th-8th', 'HS-grad', 'HS-grad', 'Some-college', 'Masters', 'Some-college', 'HS-grad', 'Some-college', 'HS-grad', 'Masters', 'Assoc-voc', 'Some-college', 'Bachelors', 'HS-grad', 'Bachelors', 'HS-grad', 'HS-grad', 'HS-grad', 'HS-grad', 'HS-grad', 'Assoc-voc', 'Bachelors', 'Bachelors', 'Some-college', 'Some-college', '7th-8th', 'HS-grad', 'Bachelors', 'Bachelors', 'HS-grad', 'Masters', 'Some-college', '10th', 'HS-grad', 'HS-grad', '9th', '11th', 'Prof-school', 'Assoc-acdm', 'Bachelors', '5th-6th', 'HS-grad', 'Masters', 'Assoc-acdm', '10th', 'Assoc-voc', 'HS-grad', 'HS-grad', 'HS-grad', 'HS-grad', 'Bachelors', 'Some-college', 'HS-grad', '11th', 'Bachelors', 'HS-grad', 'Prof-school', 'Masters', 'Doctorate', 'Some-college', 'Some-college', 'Bachelors', 'Some-college', 'Some-college', 'HS-grad', 'Bachelors', 'Some-college', 'Some-college', 'HS-grad', 'HS-grad', 'HS-grad', 'Some-college', 'Assoc-acdm', 'HS-grad', 'Some-college', 'Assoc-voc', 'Bachelors', 'Assoc-voc', 'Bachelors', 'Some-college', 'HS-grad', 'Doctorate', 'Some-college', 'HS-grad', 'HS-grad', 'HS-grad', 'Masters', 'Masters', 'Some-college', 'Assoc-acdm', 'HS-grad', 'Bachelors', 'HS-grad', 'HS-grad', 'HS-grad', 'Some-college', 'Some-college', 'HS-grad', 'Bachelors', 'Bachelors', 'HS-grad', 'HS-grad', 'HS-grad', 'Bachelors', 'Bachelors', '11th', 'HS-grad', 'Bachelors', 'Masters', 'Assoc-acdm', 'HS-grad', 'Masters', 'Assoc-voc', 'HS-grad', 'Bachelors', 'HS-grad', 'HS-grad', 'Masters', 'HS-grad', 'Some-college', 'Some-college', '12th', 'Some-college', 'Masters', 'HS-grad', 'HS-grad', 'Some-college', 'Some-college', 'Some-college', 'Some-college', '11th', 'Some-college', 'HS-grad', '10th', 'Some-college', 'HS-grad', 'HS-grad', 'Assoc-acdm', 'Bachelors', 'Bachelors', 'Some-college', 'HS-grad', 'Some-college', 'HS-grad', 'HS-grad', 'Some-college', 'Assoc-voc', 'HS-grad', '5th-6th', 'HS-grad', 'Some-college', 'Some-college', 'Some-college', 'HS-grad', 'HS-grad', 'Masters', 'HS-grad', 'Some-college', 'Some-college', '12th', 'Masters', 'Bachelors', 'Some-college', '1st-4th', 'HS-grad', 'Bachelors', 'HS-grad', 'Some-college', 'Doctorate', 'HS-grad', 'Some-college', 'HS-grad', '9th', 'Assoc-acdm', 'Bachelors', 'Bachelors', 'HS-grad', 'Some-college', 'Bachelors', '11th', 'HS-grad', 'Some-college', 'Masters', '11th', 'Some-college', 'HS-grad', 'Some-college', 'HS-grad', '7th-8th', '12th', 'Assoc-voc', '5th-6th', 'HS-grad', 'HS-grad', 'Some-college', 'HS-grad', '11th', 'Some-college', 'Some-college', '9th', 'Bachelors', 'Some-college', 'Assoc-acdm', 'Masters', 'HS-grad', 'HS-grad', 'HS-grad', 'Some-college', 'HS-grad', 'Some-college', 'Some-college', 'Doctorate', '11th', 'Some-college', '11th', 'HS-grad', '5th-6th', 'Bachelors', 'HS-grad', 'HS-grad', 'HS-grad', 'Some-college', 'HS-grad', 'Some-college', 'Some-college', 'HS-grad', 'Some-college', 'Bachelors', 'Bachelors', 'Bachelors', 'Assoc-acdm', 'Bachelors', 'HS-grad', 'HS-grad', 'Some-college', 'HS-grad', 'HS-grad', 'HS-grad', 'HS-grad', 'Bachelors', 'Bachelors', 'Prof-school', 'Bachelors', 'Masters', 'Assoc-acdm', 'Some-college', '9th', 'Some-college', '5th-6th', 'HS-grad', 'Some-college', 'Bachelors', 'Prof-school', 'HS-grad', 'Some-college', '12th', 'Some-college', 'HS-grad', 'HS-grad', 'Some-college', 'Masters', '11th', 'Some-college', 'Some-college', 'Assoc-acdm', 'Some-college', 'Masters', 'Some-college', 'Some-college', 'Some-college', 'HS-grad', 'Some-college', 'Masters', 'Some-college', 'Bachelors', 'Some-college', 'HS-grad', 'Bachelors', 'Some-college', 'Bachelors', 'HS-grad', 'Some-college', 'HS-grad', 'Some-college', 'HS-grad', 'HS-grad', 'Some-college', 'HS-grad', '10th', 'Bachelors', 'Some-college', '11th', 'Some-college', 'Masters', 'HS-grad', 'Masters', 'HS-grad', 'HS-grad', 'HS-grad', 'Some-college', 'Masters', 'Prof-school', '11th', 'Bachelors', 'Bachelors', 'HS-grad', 'Some-college', 'HS-grad', 'Some-college', 'HS-grad', 'Some-college', 'Bachelors', '9th', 'HS-grad', 'Some-college', 'HS-grad', 'HS-grad', 'HS-grad', '11th', 'HS-grad', 'Bachelors', 'HS-grad', '10th', 'Some-college', 'Some-college', 'HS-grad', 'HS-grad', 'Assoc-acdm', 'Bachelors', 'Some-college', 'Bachelors', '7th-8th', 'Bachelors', 'Assoc-acdm', '10th', '1st-4th', '10th', '10th', 'HS-grad', 'Bachelors', 'Prof-school', '11th', 'HS-grad', 'Bachelors', 'Some-college', 'Some-college', 'HS-grad', 'Assoc-voc', 'Assoc-voc', 'Some-college', 'Some-college', 'Some-college', 'Some-college', 'Bachelors', 'Some-college', 'Bachelors', 'Bachelors', 'Assoc-voc', 'HS-grad', '12th', 'Assoc-acdm', 'Some-college', 'Bachelors', 'Bachelors', '11th', 'HS-grad', 'Assoc-voc', 'HS-grad', 'HS-grad', 'Bachelors', 'Bachelors', '9th', 'HS-grad', 'HS-grad', 'Some-college', 'HS-grad', '10th', 'HS-grad', 'Bachelors', '5th-6th', 'Masters', 'Masters', 'Some-college', 'Assoc-voc', 'HS-grad', 'Some-college', 'HS-grad', '9th', 'Some-college', 'HS-grad', 'HS-grad', 'HS-grad', 'Prof-school', '11th', 'Some-college', 'HS-grad', 'HS-grad', 'HS-grad', 'HS-grad', 'Prof-school', 'Some-college', 'Bachelors', 'HS-grad', 'Some-college', 'HS-grad', '10th', '7th-8th', 'HS-grad', 'HS-grad', 'HS-grad', '9th', 'Some-college', 'HS-grad', 'Bachelors', 'Bachelors', 'Bachelors', 'Bachelors', 'Bachelors', 'Some-college', 'HS-grad', 'HS-grad', '12th', 'Some-college', 'HS-grad', 'Some-college', 'Bachelors', 'HS-grad', '5th-6th', 'HS-grad', 'HS-grad', '12th', 'Some-college', 'Assoc-acdm', 'HS-grad', 'Some-college', 'Bachelors', 'Assoc-voc', 'Some-college', 'Bachelors', 'Some-college', 'HS-grad', 'HS-grad', 'Assoc-acdm', 'HS-grad', 'Assoc-acdm', 'Preschool', 'Assoc-voc', 'HS-grad', 'HS-grad', 'Assoc-voc', 'Some-college', 'Some-college', 'Assoc-voc', 'HS-grad', 'Bachelors', '5th-6th', 'Bachelors', 'HS-grad', 'Assoc-voc', 'Bachelors', 'HS-grad', 'Bachelors', 'Some-college', 'Masters', 'HS-grad', 'Bachelors', 'HS-grad', 'HS-grad', 'Assoc-voc', 'HS-grad', 'Some-college', 'Some-college', 'HS-grad', 'Some-college', 'HS-grad', 'Assoc-voc', 'HS-grad', 'Bachelors', 'Bachelors', 'HS-grad', '10th', 'Some-college', 'Some-college', 'Prof-school', 'Some-college', 'HS-grad', 'Some-college', 'HS-grad', 'Assoc-acdm', 'Some-college', 'Bachelors', 'HS-grad', '12th', 'HS-grad', 'Assoc-acdm', 'Some-college', '7th-8th', 'Some-college', 'HS-grad', 'Some-college', '9th', 'HS-grad', '7th-8th', 'HS-grad', '9th', '12th', 'HS-grad', 'Some-college', 'Bachelors', 'HS-grad', 'Some-college', 'Masters', 'Some-college', 'Some-college', 'Bachelors', 'Some-college', 'HS-grad', 'Bachelors', '9th', 'HS-grad', 'Bachelors', 'HS-grad', 'HS-grad', 'HS-grad', 'HS-grad', 'Some-college', '7th-8th', '11th', 'HS-grad', 'Bachelors', 'Bachelors', 'HS-grad', 'Masters', 'Assoc-acdm', 'HS-grad', 'HS-grad', 'Bachelors', '7th-8th', '12th', 'Some-college', 'HS-grad', 'Some-college', 'Bachelors', 'HS-grad', 'Bachelors', 'HS-grad', 'Assoc-acdm', 'Some-college', 'Assoc-acdm', 'Some-college', 'Doctorate', 'Bachelors', '9th', 'Assoc-voc', 'HS-grad', 'HS-grad', 'Bachelors', '11th', '9th', 'Bachelors', 'HS-grad', 'HS-grad', 'Bachelors', 'Assoc-acdm', 'Bachelors', 'Some-college', 'Some-college', '10th', '10th', 'HS-grad', 'HS-grad', 'Some-college', 'HS-grad', 'HS-grad', '10th', 'HS-grad', 'Some-college', 'Assoc-voc', 'HS-grad', 'Assoc-voc', 'Some-college', 'HS-grad', 'Bachelors', 'Some-college', 'HS-grad', 'HS-grad', 'HS-grad', 'Some-college', 'HS-grad', 'HS-grad', 'Bachelors', 'Some-college', 'HS-grad', 'Assoc-voc', '9th', 'Masters', 'Some-college', 'Some-college', 'Preschool', '7th-8th', 'Bachelors', 'HS-grad', 'HS-grad', '9th', 'HS-grad', 'Bachelors', 'Masters', 'HS-grad', 'HS-grad', '10th', 'HS-grad', '11th', 'Masters', 'Some-college', 'Bachelors', 'Prof-school', 'HS-grad', 'Bachelors', 'Bachelors', 'Some-college', 'Some-college', 'Some-college', 'HS-grad', 'Bachelors', 'Bachelors', 'Some-college', 'Assoc-voc', 'Bachelors', 'Bachelors', 'HS-grad', 'Some-college', 'HS-grad', 'HS-grad', 'Some-college', 'HS-grad', '7th-8th', '11th', 'Some-college', 'HS-grad', '11th', 'HS-grad', 'Some-college', 'Some-college', '7th-8th', 'HS-grad', 'HS-grad', 'Some-college', 'HS-grad', 'Masters', 'Some-college', '5th-6th', 'Bachelors', 'HS-grad', 'HS-grad', 'Doctorate', '11th', 'Prof-school', 'HS-grad', 'HS-grad', 'Some-college', 'Bachelors', 'Assoc-acdm', 'HS-grad', 'Some-college', 'Some-college', 'HS-grad', 'Bachelors', 'Bachelors', 'HS-grad', 'Some-college', 'HS-grad', 'HS-grad', 'HS-grad', 'Assoc-acdm', 'HS-grad', 'HS-grad', '9th', 'HS-grad', 'Some-college', 'Some-college', 'Some-college', 'Some-college', 'Bachelors', 'Bachelors', '9th', 'HS-grad', 'Masters', '12th', 'Some-college', 'Bachelors', 'HS-grad', 'HS-grad', 'Bachelors', 'HS-grad', 'Assoc-acdm', 'HS-grad', 'Some-college', 'Masters', '10th', 'Assoc-voc', 'Some-college', '11th', 'HS-grad', 'HS-grad', 'Bachelors', 'Bachelors', 'Some-college', 'Masters', 'HS-grad', '12th', 'HS-grad', 'Bachelors', 'Assoc-voc', 'Some-college', 'HS-grad', 'Doctorate', 'Some-college', 'Bachelors', 'Bachelors', 'Some-college', 'Some-college', 'Some-college', 'Some-college', 'Masters', 'HS-grad', 'Masters', 'Bachelors', 'HS-grad', 'Bachelors', 'HS-grad', 'Assoc-acdm', 'Bachelors', '7th-8th', 'Assoc-acdm', 'Some-college', 'Some-college', 'HS-grad', 'HS-grad', 'Doctorate', 'HS-grad', 'HS-grad', '7th-8th', 'Bachelors', 'Bachelors', '10th', 'Some-college', 'Bachelors', 'Bachelors', 'Doctorate', 'HS-grad', 'Assoc-acdm', '10th', 'Some-college', 'HS-grad', 'HS-grad', 'Bachelors', 'Assoc-voc', 'HS-grad', 'Prof-school', 'HS-grad', 'Bachelors', 'Some-college', 'Some-college', 'Bachelors', 'HS-grad', 'Assoc-voc', 'Some-college', 'HS-grad', 'HS-grad', 'Some-college', 'Bachelors', 'Some-college', 'Masters', 'HS-grad', 'Bachelors', 'HS-grad', 'Some-college', 'Some-college', 'Bachelors', 'Bachelors', 'HS-grad', 'Some-college', '11th', '12th', '10th', '11th', 'Some-college', 'Assoc-acdm', '10th', 'Bachelors', 'HS-grad', 'HS-grad', 'Assoc-voc', '10th', 'Some-college', 'Some-college', '11th', 'HS-grad', 'Some-college', 'Prof-school', '12th', 'Masters', 'Assoc-voc', 'Doctorate', '7th-8th', 'HS-grad', 'HS-grad', 'HS-grad', 'HS-grad', 'Assoc-voc', '5th-6th', '5th-6th', '5th-6th', 'Bachelors', 'Bachelors', 'Assoc-acdm', 'HS-grad', 'Masters', 'HS-grad', 'Assoc-acdm', '11th', 'Assoc-acdm', 'HS-grad', 'Bachelors', 'HS-grad', 'Bachelors', '10th', 'Preschool', 'HS-grad', 'HS-grad', 'Bachelors', 'Bachelors', '10th', 'Bachelors', 'HS-grad', 'HS-grad', 'Some-college', '9th', '10th', 'Some-college', 'Bachelors', 'Bachelors', 'HS-grad', 'Some-college', 'Some-college', 'HS-grad', 'HS-grad', 'Bachelors', 'HS-grad', 'Some-college', 'Bachelors', 'Prof-school', 'Bachelors', 'Assoc-acdm', 'HS-grad', 'Some-college', 'Bachelors', 'Some-college', 'Masters', 'HS-grad', '7th-8th', '11th', '7th-8th', 'Some-college', 'Doctorate', '10th', 'Some-college', 'HS-grad', 'HS-grad', 'Assoc-acdm', 'Some-college', 'Bachelors', 'Masters', 'Some-college', 'Some-college', 'Some-college', 'Some-college', '10th', 'HS-grad', '12th', 'HS-grad', 'Some-college', 'Bachelors', 'HS-grad', 'Some-college', '11th', 'Prof-school', 'Bachelors', 'Assoc-voc', 'Some-college', 'Bachelors', 'Some-college', 'HS-grad', 'Some-college', '9th', 'Some-college', 'Some-college', 'Bachelors', 'HS-grad', 'Bachelors', 'Masters', 'HS-grad', '7th-8th', 'HS-grad', 'Bachelors', 'Some-college', 'HS-grad', 'Doctorate', 'Bachelors', 'Some-college', 'HS-grad', 'HS-grad', 'Doctorate', 'HS-grad', 'Masters', 'Bachelors', 'Bachelors', 'Doctorate', 'Bachelors', 'HS-grad', 'HS-grad', '10th', 'Bachelors', 'Bachelors', '11th', 'Bachelors', 'Assoc-voc', 'Bachelors', 'Masters', 'Some-college', 'Bachelors', 'Bachelors', 'Some-college', 'Doctorate', 'HS-grad', 'Bachelors', '12th', 'HS-grad', 'Some-college', 'HS-grad', '9th', 'Bachelors', 'Some-college', 'Some-college', 'Bachelors', 'Some-college', '5th-6th', 'HS-grad', 'HS-grad', '7th-8th', 'Some-college', 'Assoc-acdm', 'Bachelors', 'Bachelors', 'Bachelors', 'HS-grad', 'HS-grad', 'HS-grad', '11th', 'HS-grad', 'Bachelors', 'Some-college', 'Bachelors', 'Masters', 'Some-college', 'Masters', 'Bachelors', 'HS-grad', 'Doctorate', 'Some-college', '11th', 'Some-college', 'Bachelors', 'HS-grad', 'Some-college', 'HS-grad', 'Masters', 'Bachelors', 'Some-college', 'Bachelors', 'Bachelors', '12th', 'Some-college', 'Bachelors', 'HS-grad', 'HS-grad', 'Bachelors', 'Some-college', 'HS-grad', 'HS-grad', 'Masters', 'Masters', 'Some-college', 'Assoc-acdm', '11th', 'Doctorate', 'Some-college', 'HS-grad', 'Bachelors', 'Some-college', 'Bachelors', 'HS-grad', 'HS-grad', 'Bachelors', 'Some-college', 'HS-grad', 'Some-college', 'HS-grad', 'Bachelors', '11th', 'Some-college', 'HS-grad', 'Bachelors', 'Masters', 'HS-grad', 'HS-grad', 'Some-college', 'HS-grad', 'HS-grad', 'Assoc-voc', 'HS-grad', 'Some-college', 'HS-grad', 'HS-grad', 'HS-grad', '12th', 'Assoc-acdm', '11th', 'Bachelors', 'Some-college', 'HS-grad', '10th', 'Some-college', 'HS-grad', 'HS-grad', 'HS-grad', '9th', 'Some-college', 'Some-college', 'HS-grad', 'Assoc-acdm', 'HS-grad', 'Assoc-acdm', 'Bachelors', 'Bachelors', 'Some-college', 'HS-grad', 'HS-grad', 'HS-grad', 'HS-grad', '5th-6th', 'Some-college', 'Some-college', 'Some-college', 'Assoc-voc', 'Bachelors', 'Bachelors', 'Bachelors', 'Assoc-voc', 'Some-college', 'HS-grad', 'Bachelors', 'Masters', 'Assoc-voc', 'Some-college', 'Masters', 'HS-grad', 'HS-grad', 'Some-college', 'Bachelors', 'Masters', 'Bachelors', '11th', 'HS-grad', '12th', 'Bachelors', 'Some-college', 'HS-grad', 'HS-grad', 'HS-grad', 'Bachelors', '5th-6th', 'Some-college', 'HS-grad', 'HS-grad', 'Some-college', 'Some-college', '11th', 'Some-college', 'Some-college', 'Some-college', 'HS-grad', '5th-6th', 'Some-college', 'HS-grad', 'Masters', 'HS-grad', 'Some-college', 'HS-grad', '11th', 'HS-grad', 'Some-college', 'Assoc-acdm', 'Masters', 'Some-college', 'HS-grad', 'Bachelors', 'Bachelors', 'Assoc-acdm', 'HS-grad', 'Some-college', 'HS-grad', 'Some-college', 'Bachelors', 'Bachelors', 'Masters', 'HS-grad', 'Some-college', 'Bachelors', 'HS-grad', 'HS-grad', 'HS-grad', 'HS-grad', 'HS-grad', 'Masters', 'HS-grad', 'Some-college', 'Bachelors', '12th', 'Bachelors', '5th-6th', 'Some-college', 'Assoc-acdm', 'HS-grad', 'Some-college', 'HS-grad', 'HS-grad', 'Bachelors', 'HS-grad', 'Doctorate', 'HS-grad', 'HS-grad', 'HS-grad', 'HS-grad', 'HS-grad', 'Some-college', 'Some-college', '9th', 'Assoc-acdm', 'Some-college', '9th', 'Some-college', '12th', 'Some-college', 'HS-grad', 'HS-grad', 'Some-college', 'Some-college', 'Bachelors', 'Doctorate', 'Bachelors', 'Bachelors', 'HS-grad', 'HS-grad', 'Some-college', '7th-8th', 'HS-grad', '10th', 'HS-grad', 'HS-grad', 'HS-grad', 'Assoc-acdm', 'Some-college', 'HS-grad', 'HS-grad', 'Some-college', 'Some-college', '11th', 'HS-grad', 'Some-college', 'Bachelors', '11th', 'Some-college', 'Bachelors', 'HS-grad', 'HS-grad', 'HS-grad', 'HS-grad', 'HS-grad', 'Bachelors', 'Masters', 'Some-college', 'Some-college', 'HS-grad', 'Bachelors', 'HS-grad', 'Masters', '7th-8th', 'Bachelors', 'HS-grad', 'Some-college', 'HS-grad', 'Some-college', '10th', 'HS-grad', 'Some-college', 'HS-grad', 'HS-grad', 'Bachelors', 'Some-college', 'Assoc-acdm', 'Some-college', 'Bachelors', 'Some-college', 'Some-college', 'Prof-school', '10th', 'Some-college', 'HS-grad', 'Assoc-acdm', 'HS-grad', 'Bachelors', 'HS-grad', '9th', 'Some-college', 'Masters', 'Bachelors', 'HS-grad', '10th', 'Some-college', 'Some-college', 'Assoc-voc', '11th', 'Some-college', 'HS-grad', 'HS-grad', 'HS-grad', 'Assoc-acdm', 'HS-grad', '11th', 'HS-grad', 'Some-college', 'HS-grad', 'Some-college', 'Some-college', 'Prof-school', 'Assoc-acdm', '11th', 'Some-college', 'Bachelors', '10th', 'HS-grad', 'Assoc-voc', 'Assoc-voc', 'HS-grad', 'Bachelors', '5th-6th', 'Doctorate', '11th', 'HS-grad', 'Masters', 'Doctorate', 'HS-grad', 'Some-college', 'Bachelors', '10th', 'Masters', 'Bachelors', 'HS-grad', 'Prof-school', 'Bachelors', '11th', 'HS-grad', 'Masters', 'HS-grad', 'Bachelors', 'HS-grad', '5th-6th', 'Doctorate', '10th', 'Assoc-voc', 'HS-grad', 'HS-grad', 'Some-college', '5th-6th', 'HS-grad', 'HS-grad', 'HS-grad', 'Some-college', 'Some-college', 'Some-college', 'Some-college', '9th', 'Some-college', 'Some-college', 'HS-grad', '11th', 'HS-grad', 'Bachelors', 'HS-grad', 'Assoc-voc', 'Some-college', 'Bachelors', 'Some-college', 'HS-grad', 'Doctorate', '10th', 'HS-grad', 'HS-grad', 'Assoc-acdm', 'Bachelors', 'Some-college', 'HS-grad', 'Masters', 'HS-grad', 'Some-college', 'HS-grad', 'HS-grad', 'Bachelors', 'Assoc-voc', 'Assoc-voc', 'Bachelors', 'Masters', 'HS-grad', 'HS-grad', 'Bachelors', 'Assoc-acdm', 'Bachelors', 'Assoc-acdm', 'HS-grad', 'Assoc-voc', 'Some-college', 'Some-college', 'Bachelors', 'Some-college', '7th-8th', 'Some-college', 'Bachelors', 'Assoc-acdm', 'Some-college', 'Some-college', 'Assoc-acdm', 'Masters', 'Bachelors', 'HS-grad', 'HS-grad', 'Bachelors', 'HS-grad', 'Bachelors', '10th', 'Some-college', '7th-8th', 'Bachelors', 'Bachelors', 'Masters', 'Bachelors', 'Bachelors', 'Masters', 'HS-grad', 'HS-grad', 'Bachelors', '11th', 'HS-grad', 'Masters', 'Some-college', 'Doctorate', 'Masters', 'Bachelors', 'Bachelors', 'Some-college', 'Masters', 'Bachelors', 'Some-college', 'HS-grad', 'Bachelors', 'Assoc-acdm', 'HS-grad', 'Bachelors', 'Assoc-acdm', 'Bachelors', 'HS-grad', 'HS-grad', 'Some-college', 'Some-college', '7th-8th', 'HS-grad', 'Masters', 'Some-college', '11th', 'Bachelors', 'Bachelors', 'Some-college', '11th', 'Some-college', '10th', 'HS-grad', '5th-6th', 'Doctorate', '5th-6th', 'Some-college', 'Bachelors', 'Masters', 'Some-college', '11th', 'Bachelors', 'Bachelors', 'Some-college', 'HS-grad', 'HS-grad', 'Bachelors', '10th', 'HS-grad', 'HS-grad', 'Some-college', 'Masters', 'Assoc-acdm', 'Some-college', 'Bachelors', '10th', 'HS-grad', 'Some-college', 'HS-grad', 'HS-grad', 'Some-college', '7th-8th', 'Some-college', 'HS-grad', 'Some-college', 'Some-college', 'Bachelors', 'Bachelors', 'HS-grad', 'Bachelors', 'HS-grad', 'HS-grad', 'Masters', 'Masters', 'HS-grad', '11th', 'HS-grad', 'HS-grad', 'HS-grad', 'HS-grad', '10th', 'Assoc-acdm', 'Some-college', '10th', 'Bachelors', 'Masters', '10th', '10th', 'Bachelors', 'HS-grad', '11th', 'HS-grad', 'HS-grad', 'Prof-school', 'Bachelors', 'Bachelors', '5th-6th', 'Masters', 'Bachelors', 'HS-grad', 'Bachelors', '7th-8th', 'Bachelors', 'HS-grad', 'HS-grad', 'HS-grad', '9th', 'HS-grad', 'Bachelors', 'HS-grad', 'HS-grad', 'HS-grad', 'Some-college', 'HS-grad', 'Some-college', 'Bachelors', 'HS-grad', 'Masters', 'HS-grad', 'Bachelors', 'Masters', '10th', 'Bachelors', 'HS-grad', 'HS-grad', 'HS-grad', 'Some-college', 'Bachelors', 'Bachelors', 'HS-grad', 'Bachelors', 'Masters', 'Bachelors', '11th', 'Bachelors', 'HS-grad', 'Masters', 'HS-grad', 'Masters', 'Masters', '7th-8th', 'HS-grad', 'Masters', 'HS-grad', 'HS-grad', 'HS-grad', 'HS-grad', 'HS-grad', 'HS-grad', 'Some-college', 'Bachelors', 'HS-grad', 'Some-college', 'HS-grad', 'Bachelors', 'Some-college', 'HS-grad', 'HS-grad', 'Some-college', 'Some-college', 'Assoc-voc', 'Bachelors', 'Some-college', 'Assoc-acdm', 'HS-grad', 'Masters', 'Prof-school', 'HS-grad', 'Assoc-voc', 'Masters', 'Masters', 'Assoc-voc', 'HS-grad', 'Masters', 'HS-grad', 'Some-college', 'HS-grad', 'Assoc-voc', 'Some-college', 'HS-grad', 'Assoc-voc', 'Bachelors', 'Some-college', 'Some-college', '11th', 'Some-college', '10th', 'Some-college', 'HS-grad', 'Bachelors', 'Some-college', 'Bachelors', 'Some-college', 'HS-grad', 'HS-grad', 'Assoc-voc', 'Bachelors', 'Assoc-acdm', 'Some-college', 'Some-college', '7th-8th', 'Bachelors', 'Some-college', 'HS-grad', '5th-6th', '10th', 'Some-college', 'Bachelors', 'Bachelors', 'Bachelors', 'HS-grad', 'Bachelors', 'HS-grad', 'Some-college', 'HS-grad', '7th-8th', '9th', 'Assoc-voc', 'Assoc-voc', 'Bachelors', 'Masters', 'Masters', 'Some-college', 'Prof-school', 'Some-college', 'Assoc-acdm', 'Bachelors', 'Assoc-acdm', 'Bachelors', 'HS-grad', 'Bachelors', 'Some-college', 'HS-grad', 'Assoc-acdm', 'HS-grad', 'Some-college', 'HS-grad', 'Bachelors', 'HS-grad', 'Some-college', 'Masters', 'Bachelors', 'HS-grad', 'HS-grad', 'HS-grad', 'HS-grad', '10th', '1st-4th', 'HS-grad', 'HS-grad', 'Masters', 'Some-college', 'Some-college', '9th', 'HS-grad', 'Some-college', 'HS-grad', 'Assoc-acdm', 'HS-grad', 'Assoc-voc', 'HS-grad', 'HS-grad', 'HS-grad', 'HS-grad', 'HS-grad', 'Some-college', 'HS-grad', 'HS-grad', 'Some-college', '11th', 'HS-grad', 'HS-grad', 'HS-grad', 'HS-grad', 'HS-grad', 'HS-grad', 'Bachelors', 'HS-grad', 'Some-college', 'Preschool', 'HS-grad', 'Assoc-voc', 'Some-college', 'HS-grad', 'Bachelors', 'Masters', 'Assoc-voc', 'HS-grad', 'Prof-school', 'Bachelors', '11th', 'Bachelors', 'Bachelors', 'Some-college', 'Some-college', 'HS-grad', 'HS-grad', 'Assoc-voc', 'Bachelors', 'Bachelors', 'Some-college', '11th', 'Assoc-voc', 'Some-college', 'HS-grad', 'HS-grad', 'HS-grad', 'HS-grad', '9th', 'Some-college', '10th', 'HS-grad', 'Bachelors', 'HS-grad', 'Some-college', 'HS-grad', 'Bachelors', '5th-6th', 'Some-college', 'Masters', '10th', 'Bachelors', 'Some-college', 'HS-grad', 'HS-grad', 'Masters', 'Assoc-acdm', 'HS-grad', 'HS-grad', 'Some-college', 'Bachelors', 'Masters', 'Assoc-voc', 'Bachelors', 'Bachelors', 'Masters', 'HS-grad', 'Bachelors', 'Some-college', 'Bachelors', '7th-8th', '5th-6th', 'Some-college', 'Masters', '5th-6th', 'HS-grad', 'Assoc-acdm', 'HS-grad', 'Bachelors', 'Some-college', '10th', 'HS-grad', 'Doctorate', 'Some-college', 'HS-grad', 'Some-college', '11th', 'Some-college', 'Masters', 'Prof-school', 'HS-grad', 'Some-college', '9th', 'Bachelors', '12th', 'HS-grad', '7th-8th', '11th', '10th', 'HS-grad', '12th', 'Bachelors', 'HS-grad', 'Some-college', 'HS-grad', '11th', 'Bachelors', 'Some-college', 'Bachelors', 'Masters', 'Some-college', 'Bachelors', 'Assoc-voc', 'Bachelors', 'Some-college', 'Prof-school', 'Bachelors', 'Some-college', 'HS-grad', '12th', 'HS-grad', 'HS-grad', 'Some-college', 'HS-grad', 'Some-college', 'Masters', 'HS-grad', 'Prof-school', 'Some-college', 'HS-grad', 'HS-grad', 'HS-grad', 'Some-college', 'HS-grad', 'HS-grad', 'Bachelors', 'Bachelors', 'Bachelors', 'Assoc-acdm', 'Some-college', 'Some-college', 'HS-grad', 'Some-college', 'HS-grad', 'Bachelors', 'HS-grad', 'HS-grad', 'Bachelors', 'Assoc-voc', '7th-8th', '9th', 'Some-college', 'Some-college', 'Assoc-voc', 'HS-grad', 'Bachelors', 'Bachelors', 'Some-college', '10th', 'Some-college', 'Masters', 'HS-grad', '10th', 'HS-grad', 'Some-college', 'Bachelors', 'Some-college', 'Some-college', 'HS-grad', 'HS-grad', 'Some-college', 'HS-grad', 'HS-grad', 'Some-college', '9th', 'Masters', '10th', 'HS-grad', 'Bachelors', '11th', 'Doctorate', 'HS-grad', 'Bachelors', 'Some-college', 'HS-grad', 'Some-college', 'Prof-school', 'Assoc-acdm', '10th', '5th-6th', 'HS-grad', '7th-8th', 'HS-grad', 'Some-college', 'HS-grad', 'Some-college', 'Assoc-acdm', 'Doctorate', 'Some-college', 'HS-grad', 'Some-college', 'Bachelors', 'Some-college', 'HS-grad', 'HS-grad', 'HS-grad', 'HS-grad', 'HS-grad', 'HS-grad', 'HS-grad', '10th', 'Some-college', 'Some-college', 'HS-grad', 'Some-college', 'HS-grad', 'HS-grad', 'Some-college', 'Doctorate', 'Some-college', 'Assoc-voc', 'Some-college', 'HS-grad', 'Bachelors', 'Assoc-voc', '10th', 'Bachelors', 'HS-grad', 'HS-grad', 'Some-college', 'Masters', 'Bachelors', 'HS-grad', 'Bachelors', 'Some-college', 'HS-grad', '11th', 'Some-college', 'HS-grad', 'Some-college', '11th', '9th', 'HS-grad', 'HS-grad', 'HS-grad', 'HS-grad', 'Prof-school', '12th', '11th', '7th-8th', 'Bachelors', 'Assoc-voc', '9th', '11th', 'HS-grad', 'HS-grad', 'Masters', '11th', 'HS-grad', 'Some-college', '11th', 'Bachelors', 'Bachelors', 'Bachelors', 'Some-college', '11th', 'HS-grad', 'Bachelors', 'HS-grad', '9th', 'Some-college', 'Some-college', 'Bachelors', 'HS-grad', 'HS-grad', 'HS-grad', 'Bachelors', 'Some-college', 'HS-grad', 'Bachelors', 'Masters', 'Some-college', 'HS-grad', 'HS-grad', 'Doctorate', 'Some-college', 'HS-grad', 'HS-grad', 'Bachelors', 'HS-grad', 'Some-college', 'Doctorate', 'Bachelors', 'HS-grad', 'HS-grad', 'Assoc-voc', 'Assoc-voc', '10th', 'Prof-school', 'Some-college', 'Some-college', 'HS-grad', 'HS-grad', 'Some-college', 'HS-grad', 'Masters', 'HS-grad', 'Assoc-acdm', 'HS-grad', 'Bachelors', 'Prof-school', 'HS-grad', 'Some-college', 'Masters', 'Bachelors', 'HS-grad', '10th', 'Some-college', 'HS-grad', 'Some-college', 'Some-college', 'HS-grad', 'Bachelors', 'HS-grad', 'HS-grad', 'Masters', 'Some-college', 'Bachelors', 'HS-grad', 'HS-grad', 'Masters', '11th', 'HS-grad', 'HS-grad', 'HS-grad', 'HS-grad', 'HS-grad', 'Assoc-acdm', 'Some-college', '10th', 'Assoc-acdm', 'HS-grad', 'Some-college', '7th-8th', 'Bachelors', 'Doctorate', 'HS-grad', 'Some-college', '10th', 'HS-grad', 'Bachelors', 'HS-grad', 'Some-college', 'HS-grad', 'Some-college', 'HS-grad', 'Some-college', 'HS-grad', 'HS-grad', 'HS-grad', 'Some-college', 'Some-college', 'Some-college', 'Bachelors', 'Prof-school', 'Some-college', 'HS-grad', 'Some-college', 'HS-grad', '7th-8th', 'HS-grad', 'Assoc-voc', '12th', 'Some-college', 'HS-grad', 'HS-grad', 'HS-grad', '1st-4th', 'HS-grad', 'Bachelors', 'HS-grad', 'Some-college', 'Assoc-acdm', '11th', 'HS-grad', 'Bachelors', 'HS-grad', 'HS-grad', 'Bachelors', 'HS-grad', 'HS-grad', 'Some-college', 'Assoc-voc', 'Bachelors', 'Some-college', 'HS-grad', 'Assoc-acdm', 'HS-grad', 'Bachelors', 'Bachelors', 'Bachelors', '9th', 'HS-grad', '9th', 'Some-college', 'Bachelors', 'HS-grad', 'Bachelors', 'HS-grad', 'HS-grad', 'HS-grad', 'HS-grad', 'Some-college', 'Some-college', 'Bachelors', '12th', 'Some-college', 'Bachelors', '7th-8th', 'HS-grad', 'HS-grad', 'Prof-school', 'Bachelors', 'Some-college', 'Some-college', 'Doctorate', 'Some-college', 'HS-grad', 'Some-college', 'HS-grad', 'HS-grad', 'Some-college', 'Bachelors', 'Bachelors', 'Bachelors', 'Some-college', 'Bachelors', 'Bachelors', 'HS-grad', 'Some-college', 'Some-college', 'Some-college', '10th', 'Bachelors', 'Bachelors', 'HS-grad', 'Some-college', 'HS-grad', 'HS-grad', '10th', 'Some-college', 'HS-grad', 'Some-college', 'Prof-school', 'Some-college', 'Bachelors', 'Masters', 'Masters', 'Prof-school', 'Assoc-voc', '11th', 'Some-college', 'Some-college', 'Bachelors', 'Assoc-acdm', 'Some-college', 'HS-grad', 'Bachelors', 'Masters', 'Bachelors', 'Bachelors', 'Some-college', 'Bachelors', 'Some-college', '5th-6th', 'HS-grad', 'Some-college', 'Assoc-voc', 'HS-grad', 'Some-college', 'Some-college', 'Bachelors', 'Some-college', 'HS-grad', 'HS-grad', 'HS-grad', 'Some-college', 'HS-grad', 'Some-college', 'Bachelors', 'HS-grad', 'Prof-school', 'Some-college', 'Masters', '10th', 'HS-grad', 'Some-college', 'HS-grad', 'HS-grad', 'Some-college', '1st-4th', 'Some-college', '12th', 'HS-grad', 'Bachelors', '11th', 'Some-college', 'Masters', 'Bachelors', 'HS-grad', 'Bachelors', 'Assoc-voc', 'Some-college', 'Masters', 'HS-grad', 'HS-grad', 'HS-grad', 'HS-grad', 'Bachelors', 'Bachelors', 'Masters', 'HS-grad', 'HS-grad', 'Some-college', 'HS-grad', 'Masters', 'HS-grad', 'HS-grad', 'Bachelors', 'Some-college', 'HS-grad', 'HS-grad', 'Assoc-acdm', 'HS-grad', '7th-8th', 'Some-college', 'Bachelors', 'Assoc-acdm', 'Some-college', 'Assoc-voc', 'HS-grad', 'Some-college', 'Bachelors', 'HS-grad', 'Masters', 'Bachelors', 'Prof-school', '11th', 'Some-college', 'Some-college', 'Some-college', 'HS-grad', 'Some-college', 'HS-grad', 'Bachelors', 'Doctorate', 'HS-grad', 'HS-grad', 'Bachelors', '7th-8th', 'Some-college', '11th', 'Bachelors', 'Some-college', 'HS-grad', 'Bachelors', 'HS-grad', 'HS-grad', 'Bachelors', 'Some-college', 'HS-grad', 'HS-grad', '5th-6th', 'Bachelors', 'Masters', 'Bachelors', 'HS-grad', 'HS-grad', 'Doctorate', 'HS-grad', 'Some-college', 'Bachelors', 'Bachelors', 'Some-college', 'Prof-school', 'HS-grad', 'Some-college', '5th-6th', 'Some-college', 'Some-college', 'Assoc-voc', 'Some-college', 'Masters', 'Some-college', 'Some-college', 'Some-college', 'Bachelors', 'HS-grad', 'HS-grad', 'Assoc-voc', 'HS-grad', 'Some-college', 'Some-college', 'HS-grad', '11th', 'HS-grad', 'Assoc-voc', 'HS-grad', 'Bachelors', 'Assoc-acdm', 'HS-grad', 'HS-grad', 'Bachelors', '10th', 'HS-grad', '5th-6th', 'Assoc-acdm', 'Some-college', 'HS-grad', 'HS-grad', 'Some-college', 'Some-college', 'Bachelors', 'HS-grad', 'Assoc-acdm', 'HS-grad', 'Bachelors', 'HS-grad', 'HS-grad', '9th', 'Bachelors', 'Assoc-acdm', 'Some-college', '9th', 'HS-grad', 'HS-grad', '7th-8th', 'Bachelors', 'HS-grad', 'Assoc-voc', 'HS-grad', 'HS-grad', 'Bachelors', 'Masters', 'HS-grad', 'Some-college', '11th', '11th', 'HS-grad', 'Bachelors', 'Bachelors', '1st-4th', 'HS-grad', 'HS-grad', '10th', 'Some-college', 'Doctorate', 'HS-grad', 'HS-grad', 'Some-college', 'Bachelors', 'HS-grad', 'Masters', 'Bachelors', '11th', 'HS-grad', '11th', 'Bachelors', 'Some-college', 'HS-grad', 'Masters', 'Bachelors', 'Some-college', 'Bachelors', 'HS-grad', 'Some-college', 'Bachelors', 'HS-grad', '11th', '10th', 'Some-college', '9th', '10th', 'Bachelors', 'Bachelors', 'Bachelors', 'Some-college', '10th', 'Some-college', 'Bachelors', 'Some-college', 'HS-grad', 'Bachelors', 'HS-grad', 'Bachelors', 'HS-grad', 'Some-college', 'HS-grad', 'Some-college', '7th-8th', 'Bachelors', 'Some-college', 'Some-college', '1st-4th', '11th', 'Some-college', '9th', 'Bachelors', 'Some-college', 'Bachelors', 'HS-grad', 'Some-college', '11th', '5th-6th', 'Some-college', 'HS-grad', 'HS-grad', 'Some-college', '10th', 'Assoc-voc', 'HS-grad', 'Bachelors', 'Some-college', 'Assoc-acdm', 'HS-grad', 'Some-college', 'HS-grad', 'Some-college', 'HS-grad', 'Some-college', '7th-8th', 'Assoc-voc', 'Some-college', '11th', 'Bachelors', 'HS-grad', 'Assoc-acdm', 'Assoc-acdm', 'Bachelors', 'HS-grad', 'HS-grad', 'Some-college', 'Bachelors', '9th', 'Some-college', 'Some-college', 'Some-college', 'Masters', 'Some-college', 'Masters', '12th', 'Some-college', 'Bachelors', 'HS-grad', 'Some-college', 'Bachelors', 'HS-grad', 'HS-grad', 'Masters', 'HS-grad', 'HS-grad', 'HS-grad', 'HS-grad', 'Assoc-voc', 'HS-grad', 'Some-college', 'Bachelors', 'HS-grad', '10th', '12th', 'Assoc-voc', 'Bachelors', 'Assoc-voc', 'Assoc-voc', 'Assoc-acdm', '7th-8th', 'HS-grad', 'Some-college', 'HS-grad', 'Masters', 'HS-grad', 'Masters', 'Assoc-acdm', 'Some-college', 'Bachelors', 'Bachelors', 'Bachelors', 'HS-grad', 'Masters', 'Bachelors', 'Assoc-voc', 'Assoc-acdm', 'HS-grad', 'HS-grad', 'Masters', 'Prof-school', 'Some-college', 'HS-grad', 'HS-grad', 'Assoc-voc', 'Some-college', 'HS-grad', 'Bachelors', 'Bachelors', 'HS-grad', 'Some-college', 'Masters', 'Some-college', 'Assoc-acdm', 'Some-college', '12th', 'Some-college', '11th', 'HS-grad', 'Some-college', 'HS-grad', 'Masters', 'Bachelors', 'Some-college', 'Bachelors', 'Some-college', 'HS-grad', 'HS-grad', 'Assoc-acdm', 'HS-grad', 'HS-grad', 'HS-grad', 'HS-grad', 'Some-college', 'HS-grad', 'Some-college', 'Assoc-voc', 'Assoc-acdm', 'Some-college', 'HS-grad', 'Assoc-acdm', 'Masters', 'Some-college', '9th', 'Assoc-acdm', 'HS-grad', 'HS-grad', 'HS-grad', 'HS-grad', 'HS-grad', 'HS-grad', '12th', 'Bachelors', 'HS-grad', 'Some-college', '10th', 'Bachelors', '11th', 'HS-grad', 'Some-college', 'Prof-school', 'HS-grad', 'HS-grad', 'Some-college', 'Bachelors', 'Doctorate', 'Some-college', 'HS-grad', 'HS-grad', '5th-6th', 'Assoc-voc', 'HS-grad', 'Masters', 'Some-college', '11th', 'Assoc-acdm', '11th', 'Some-college', 'HS-grad', 'HS-grad', 'Masters', 'HS-grad', 'Some-college', 'Masters', 'Some-college', 'Assoc-voc', 'Prof-school', 'Bachelors', 'Some-college', '7th-8th', '12th', 'Bachelors', 'Some-college', 'Assoc-voc', 'HS-grad', 'HS-grad', 'Assoc-acdm', 'Some-college', 'Some-college', 'Some-college', 'HS-grad', 'HS-grad', 'Bachelors', 'Some-college', 'Some-college', 'Assoc-voc', 'Assoc-voc', '7th-8th', '11th', 'Assoc-acdm', 'HS-grad', '10th', 'Masters', 'Some-college', 'Some-college', 'Masters', 'HS-grad', 'HS-grad', 'HS-grad', '11th', 'Bachelors', 'Some-college', 'Some-college', 'HS-grad', 'HS-grad', 'HS-grad', 'HS-grad', 'HS-grad', 'Bachelors', 'HS-grad', 'Bachelors', 'Some-college', 'HS-grad', 'Some-college', 'Bachelors', 'HS-grad', 'HS-grad', 'Bachelors', 'HS-grad', 'Assoc-voc', '12th', '9th', 'HS-grad', 'Bachelors', 'Some-college', 'Bachelors', 'HS-grad', 'Some-college', '7th-8th', 'HS-grad', '12th', 'Prof-school', 'Some-college', 'Masters', 'Some-college', 'Some-college', 'Some-college', 'HS-grad', 'Bachelors', 'HS-grad', 'Bachelors', 'Bachelors', 'HS-grad', '11th', '7th-8th', 'HS-grad', 'Some-college', 'Assoc-voc', 'Bachelors', 'HS-grad', 'HS-grad', 'Prof-school', 'HS-grad', 'Assoc-voc', 'Bachelors', 'HS-grad', 'HS-grad', 'HS-grad', '5th-6th', 'Bachelors', '10th', 'Bachelors', 'Bachelors', 'Some-college', 'Bachelors', 'Some-college', 'HS-grad', 'Assoc-voc', 'HS-grad', 'Bachelors', 'Some-college', '7th-8th', 'Some-college', 'Some-college', 'HS-grad', 'HS-grad', 'HS-grad', 'Bachelors', 'Bachelors', 'Assoc-acdm', 'Bachelors', 'Some-college', 'Some-college', '9th', 'HS-grad', 'Masters', 'Some-college', '11th', 'Bachelors', 'Assoc-voc', 'HS-grad', '10th', 'HS-grad', 'HS-grad', 'HS-grad', 'Bachelors', 'Assoc-voc', '10th', 'Assoc-acdm', 'Assoc-acdm', 'Bachelors', 'Bachelors', 'Some-college', 'HS-grad', 'HS-grad', 'HS-grad', 'HS-grad', 'Some-college', 'Some-college', 'Bachelors', 'Bachelors', 'Some-college', 'HS-grad', 'Some-college', 'Bachelors', 'Bachelors', '7th-8th', 'HS-grad', 'HS-grad', '10th', 'HS-grad', '9th', '12th', 'HS-grad', 'Assoc-voc', 'Bachelors', 'Some-college', 'Bachelors', 'Masters', '7th-8th', 'Some-college', '11th', 'Some-college', 'Some-college', 'Bachelors', '9th', 'HS-grad', 'Some-college', '10th', 'Bachelors', 'HS-grad', 'HS-grad', 'Prof-school', 'HS-grad', 'Assoc-acdm', 'HS-grad', 'Some-college', 'HS-grad', 'HS-grad', 'HS-grad', 'HS-grad', 'Some-college', 'HS-grad', 'HS-grad', 'Bachelors', 'HS-grad', 'HS-grad', 'HS-grad', 'Some-college', 'HS-grad', 'Bachelors', '11th', 'Bachelors', 'Bachelors', 'HS-grad', '11th', 'HS-grad', 'Assoc-voc', 'Some-college', 'Bachelors', 'Assoc-acdm', 'HS-grad', 'HS-grad', 'Assoc-voc', 'Some-college', 'HS-grad', 'HS-grad', 'Some-college', 'Some-college', 'Bachelors', 'Prof-school', '11th', '7th-8th', 'Masters', 'Doctorate', '11th', 'Masters', 'Assoc-voc', 'Some-college', '10th', 'Masters', 'Bachelors', 'HS-grad', 'Some-college', 'HS-grad', '11th', 'Assoc-voc', 'HS-grad', 'HS-grad', '7th-8th', 'Bachelors', 'HS-grad', 'HS-grad', 'Assoc-voc', 'Masters', 'HS-grad', 'Bachelors', 'HS-grad', 'Some-college', 'HS-grad', 'HS-grad', 'Masters', 'Masters', 'Bachelors', 'Prof-school', 'HS-grad', 'HS-grad', 'HS-grad', '1st-4th', 'Some-college', 'Bachelors', 'HS-grad', 'Some-college', 'Some-college', 'Doctorate', 'Some-college', 'Some-college', '12th', 'HS-grad', 'Masters', '9th', 'HS-grad', '5th-6th', '7th-8th', 'HS-grad', 'Assoc-voc', 'HS-grad', 'Bachelors', 'HS-grad', 'Bachelors', 'Some-college', 'Some-college', 'Assoc-voc', 'Some-college', 'HS-grad', 'Bachelors', 'Some-college', 'Some-college', 'Masters', 'Doctorate', '10th', 'Prof-school', 'HS-grad', 'Assoc-voc', '7th-8th', '12th', 'Some-college', 'Masters', 'Bachelors', 'HS-grad', 'HS-grad', 'Assoc-voc', 'Some-college', 'HS-grad', 'Prof-school', 'Some-college', 'HS-grad', 'HS-grad', 'HS-grad', 'HS-grad', 'Some-college', 'HS-grad', 'Bachelors', 'Bachelors', 'HS-grad', '11th', 'HS-grad', '10th', 'HS-grad', 'Some-college', '10th', '1st-4th', 'HS-grad', 'Some-college', 'HS-grad', '5th-6th', 'Assoc-acdm', 'Some-college', 'Masters', 'Some-college', 'Masters', 'HS-grad', 'HS-grad', 'HS-grad', 'HS-grad', 'HS-grad', 'HS-grad', '10th', 'Masters', 'Some-college', 'HS-grad', '11th', 'Some-college', 'Some-college', 'Some-college', 'Some-college', 'Bachelors', 'HS-grad', '1st-4th', '11th', '10th', '9th', 'Some-college', 'Bachelors', 'Masters', 'Assoc-acdm', '9th', 'HS-grad', 'Some-college', 'HS-grad', 'HS-grad', '12th', 'HS-grad', 'HS-grad', '12th', 'HS-grad', 'Some-college', 'HS-grad', '11th', 'Some-college', 'Some-college', 'Bachelors', 'HS-grad', 'Some-college', 'HS-grad', 'Some-college', 'Bachelors', 'Doctorate', 'HS-grad', 'Bachelors', 'Bachelors', 'HS-grad', 'Assoc-acdm', 'Bachelors', '11th', 'Bachelors', 'Some-college', 'HS-grad', 'Bachelors', 'HS-grad', 'HS-grad', 'HS-grad', 'Assoc-voc', 'HS-grad', 'Masters', 'Masters', '10th', 'Masters', 'HS-grad', 'Bachelors', 'Doctorate', '10th', '12th', 'HS-grad', 'HS-grad', 'HS-grad', 'Some-college', 'Some-college', 'HS-grad', '11th', 'Some-college', 'Bachelors', 'Assoc-voc', '10th', 'Some-college', 'Masters', '11th', 'Bachelors', 'Bachelors', 'Some-college', 'Some-college', 'Bachelors', 'Assoc-acdm', 'Bachelors', 'HS-grad', 'Some-college', 'Bachelors', 'Some-college', 'Bachelors', 'Assoc-voc', '10th', 'Assoc-voc', 'Prof-school', 'Bachelors', 'Bachelors', 'Prof-school', 'HS-grad', 'Bachelors', 'Some-college', 'HS-grad', 'Some-college', 'HS-grad', 'Bachelors', 'HS-grad', 'Bachelors', 'HS-grad', '10th', 'Assoc-acdm', 'Some-college', 'Some-college', 'Some-college', 'HS-grad', 'HS-grad', '11th', 'Bachelors', 'HS-grad', '9th', 'Some-college', 'HS-grad', 'HS-grad', 'Some-college', 'Bachelors', 'Some-college', 'Masters', 'HS-grad', 'HS-grad', '10th', 'HS-grad', 'HS-grad', 'HS-grad', 'Assoc-voc', 'Some-college', 'HS-grad', 'HS-grad', 'HS-grad', 'HS-grad', '5th-6th', 'Some-college', 'HS-grad', 'Some-college', 'Masters', '7th-8th', 'HS-grad', 'HS-grad', 'HS-grad', 'HS-grad', 'HS-grad', 'HS-grad', 'HS-grad', 'Bachelors', 'Some-college', 'HS-grad', 'HS-grad', '11th', 'Masters', 'HS-grad', 'Bachelors', 'HS-grad', 'Bachelors', 'Some-college', 'Assoc-acdm', '11th', 'Preschool', 'HS-grad', '10th', 'Some-college', 'Some-college', '10th', 'HS-grad', 'HS-grad', '10th', 'HS-grad', '10th', 'Bachelors', 'Bachelors', 'Some-college', 'HS-grad', 'Bachelors', 'Bachelors', 'Masters', 'Bachelors', 'Some-college', 'Some-college', '11th', 'HS-grad', 'Some-college', '7th-8th', 'Bachelors', '12th', 'HS-grad', 'Some-college', 'Assoc-acdm', 'Some-college', 'HS-grad', 'HS-grad', 'Some-college', 'Some-college', '11th', '9th', 'HS-grad', 'Bachelors', 'HS-grad', 'Some-college', 'Some-college', '12th', 'Some-college', '11th', '1st-4th', 'Some-college', 'Some-college', 'Bachelors', '7th-8th', 'Some-college', '12th', 'HS-grad', '5th-6th', 'HS-grad', 'Bachelors', 'Some-college', '11th', 'Bachelors', 'Assoc-acdm', '11th', 'Some-college', 'HS-grad', 'Assoc-acdm', 'HS-grad', '7th-8th', '7th-8th', 'HS-grad', 'Bachelors', 'Masters', 'Some-college', 'Some-college', 'HS-grad', 'Assoc-voc', 'Some-college', '10th', 'Bachelors', 'HS-grad', 'HS-grad', 'HS-grad', 'HS-grad', 'Bachelors', 'HS-grad', 'Some-college', 'Some-college', 'Bachelors', '9th', 'Prof-school', 'Some-college', 'Bachelors', '9th', 'HS-grad', '11th', 'Some-college', 'Doctorate', 'HS-grad', '10th', 'Some-college', 'HS-grad', 'HS-grad', 'HS-grad', 'Bachelors', 'Assoc-acdm', 'HS-grad', 'Some-college', 'Masters', '7th-8th', 'Some-college', '11th', 'HS-grad', '11th', 'Some-college', 'Some-college', 'Some-college', 'Some-college', 'HS-grad', 'HS-grad', '12th', 'Masters', 'HS-grad', 'Some-college', 'Prof-school', 'Masters', 'Some-college', 'HS-grad', 'Some-college', 'HS-grad', 'Bachelors', 'HS-grad', 'Some-college', 'HS-grad', 'Doctorate', '10th', 'Bachelors', 'Bachelors', 'Bachelors', 'HS-grad', 'Bachelors', 'Masters', 'HS-grad', 'HS-grad', 'HS-grad', 'Some-college', '11th', '7th-8th', 'Bachelors', 'HS-grad', 'Some-college', 'Some-college', 'Some-college', 'HS-grad', '10th', '12th', 'Some-college', 'Bachelors', 'HS-grad', '11th', 'HS-grad', 'HS-grad', 'Bachelors', 'Masters', 'HS-grad', 'HS-grad', 'Assoc-voc', 'Some-college', 'Bachelors', '11th', 'Bachelors', 'Some-college', 'HS-grad', 'Assoc-voc', 'Some-college', 'HS-grad', 'Bachelors', 'Assoc-acdm', 'HS-grad', 'Assoc-acdm', 'HS-grad', 'Masters', 'Some-college', 'HS-grad', 'Some-college', 'Bachelors', 'Some-college', 'Some-college', '12th', 'Some-college', 'HS-grad', 'Bachelors', 'Assoc-acdm', 'HS-grad', 'Bachelors', 'HS-grad', 'Assoc-voc', '11th', 'HS-grad', 'HS-grad', 'HS-grad', 'Doctorate', '10th', 'Bachelors', 'HS-grad', 'HS-grad', '5th-6th', 'Masters', 'Bachelors', 'Bachelors', 'Assoc-voc', 'Bachelors', 'Some-college', 'Some-college', 'Some-college', 'HS-grad', 'Bachelors', 'HS-grad', 'Bachelors', '9th', 'Some-college', 'Bachelors', 'Some-college', 'HS-grad', '10th', 'Masters', 'Some-college', '5th-6th', 'Bachelors', 'HS-grad', 'HS-grad', 'Bachelors', 'Assoc-acdm', 'Assoc-voc', 'HS-grad', 'Bachelors', 'Bachelors', 'Some-college', 'HS-grad', 'HS-grad', 'Bachelors', 'HS-grad', 'Masters', 'Bachelors', 'Bachelors', 'HS-grad', 'Some-college', '10th', 'HS-grad', 'Some-college', 'Bachelors', 'Bachelors', 'Assoc-voc', '1st-4th', 'Some-college', 'Masters', '7th-8th', 'Some-college', 'HS-grad', 'Prof-school', 'HS-grad', 'HS-grad', 'HS-grad', 'Bachelors', 'HS-grad', '7th-8th', '12th', 'HS-grad', 'Some-college', 'Assoc-voc', 'Assoc-voc', '10th', 'Some-college', 'Bachelors', 'Prof-school', 'HS-grad', 'HS-grad', 'HS-grad', 'Some-college', 'Some-college', 'HS-grad', '9th', 'Some-college', 'HS-grad', 'Bachelors', 'HS-grad', 'Some-college', 'Assoc-acdm', 'HS-grad', 'HS-grad', 'HS-grad', '10th', '10th', 'HS-grad', 'Bachelors', 'HS-grad', 'HS-grad', '11th', 'Bachelors', 'Bachelors', 'HS-grad', 'Some-college', 'Bachelors', 'Bachelors', '11th', 'HS-grad', 'Doctorate', 'Assoc-acdm', 'HS-grad', 'Assoc-acdm', 'Bachelors', 'Some-college', 'Masters', 'HS-grad', 'Bachelors', '12th', 'HS-grad', 'HS-grad', 'Assoc-acdm', 'Bachelors', 'Bachelors', 'Some-college', 'Bachelors', '11th', 'HS-grad', 'HS-grad', 'HS-grad', 'Assoc-acdm', 'Masters', 'HS-grad', '9th', 'HS-grad', 'Bachelors', '10th', 'Some-college', 'HS-grad', 'Some-college', 'HS-grad', 'Some-college', 'HS-grad', '1st-4th', 'HS-grad', 'HS-grad', 'HS-grad', 'HS-grad', 'HS-grad', 'Assoc-acdm', 'Bachelors', 'Some-college', '11th', 'Bachelors', 'Some-college', 'HS-grad', 'Some-college', 'Some-college', 'Masters', 'HS-grad', 'Assoc-acdm', 'HS-grad', 'Masters', 'Bachelors', 'Bachelors', 'HS-grad', 'Some-college', 'Bachelors', '7th-8th', 'Some-college', 'Some-college', 'Masters', 'HS-grad', 'Some-college', 'Some-college', 'HS-grad', 'Bachelors', 'HS-grad', 'Bachelors', 'Some-college', 'Bachelors', 'HS-grad', 'Some-college', 'Assoc-voc', 'HS-grad', 'Masters', 'Bachelors', 'Bachelors', 'HS-grad', 'HS-grad', 'HS-grad', 'Masters', 'Some-college', 'Some-college', '10th', 'Assoc-voc', 'Some-college', 'Some-college', '7th-8th', 'Assoc-voc', 'Bachelors', 'Bachelors', 'Some-college', 'HS-grad', '11th', 'Assoc-voc', 'Some-college', 'Some-college', 'HS-grad', 'Some-college', 'Bachelors', 'Bachelors', 'HS-grad', 'HS-grad', 'Some-college', 'HS-grad', 'HS-grad', 'HS-grad', 'Bachelors', 'HS-grad', 'Some-college', 'Masters', 'Some-college', 'HS-grad', '9th', 'Masters', 'Bachelors', 'Some-college', 'Some-college', 'Assoc-acdm', 'HS-grad', 'HS-grad', 'HS-grad', 'HS-grad', 'Bachelors', 'Bachelors', 'Bachelors', 'HS-grad', 'HS-grad', 'HS-grad', 'Some-college', 'Some-college', 'HS-grad', 'HS-grad', '5th-6th', '7th-8th', 'Masters', 'HS-grad', 'Assoc-voc', 'Bachelors', 'HS-grad', 'Some-college', '9th', 'Some-college', 'Bachelors', 'HS-grad', 'Some-college', 'HS-grad', 'HS-grad', 'Prof-school', 'Some-college', 'Prof-school', 'HS-grad', '11th', 'Doctorate', '9th', 'HS-grad', '11th', 'Some-college', 'Assoc-acdm', '10th', 'Bachelors', 'Preschool', 'Bachelors', 'Some-college', 'Bachelors', 'HS-grad', 'HS-grad', 'Assoc-voc', 'Bachelors', 'Some-college', 'Some-college', '11th', 'HS-grad', 'HS-grad', '10th', '10th', 'HS-grad', 'Prof-school', 'Assoc-voc', 'Some-college', 'Some-college', 'Bachelors', 'HS-grad', 'Bachelors', 'Some-college', '7th-8th', 'HS-grad', 'Bachelors', 'Some-college', '7th-8th', 'HS-grad', 'Assoc-voc', 'Some-college', 'Masters', 'Bachelors', 'Bachelors', 'Some-college', 'Bachelors', 'Bachelors', 'HS-grad', '10th', 'HS-grad', 'Bachelors', 'Assoc-acdm', 'HS-grad', 'Bachelors', 'HS-grad', 'Assoc-voc', 'Some-college', 'Assoc-acdm', 'Bachelors', 'HS-grad', 'Bachelors', 'HS-grad', 'HS-grad', 'Some-college', 'HS-grad', 'Some-college', 'Assoc-voc', 'Bachelors', 'Doctorate', 'Bachelors', 'Some-college', 'HS-grad', 'HS-grad', 'HS-grad', '10th', '1st-4th', 'Prof-school', 'HS-grad', 'Some-college', 'HS-grad', 'Some-college', 'Some-college', '11th', 'HS-grad', 'Masters', '11th', 'HS-grad', '10th', 'Some-college', 'HS-grad', 'Some-college', '12th', 'Prof-school', 'Bachelors', 'HS-grad', 'HS-grad', 'Bachelors', 'HS-grad', 'HS-grad', 'Some-college', 'Bachelors', 'Bachelors', 'Prof-school', 'Some-college', 'Bachelors', 'Some-college', 'HS-grad', '11th', 'HS-grad', 'HS-grad', 'HS-grad', 'HS-grad', 'Masters', 'Prof-school', '12th', 'Bachelors', 'Masters', 'HS-grad', 'HS-grad', 'Some-college', 'Assoc-voc', 'Bachelors', 'Assoc-voc', '9th', '11th', 'Bachelors', 'Some-college', 'Bachelors', '5th-6th', '5th-6th', 'Bachelors', 'HS-grad', '11th', 'Prof-school', 'HS-grad', 'Some-college', 'Some-college', 'HS-grad', 'Some-college', 'HS-grad', 'Bachelors', 'HS-grad', 'HS-grad', 'Some-college', 'Some-college', '12th', 'HS-grad', 'Some-college', 'HS-grad', 'HS-grad', 'Bachelors', '11th', 'HS-grad', 'HS-grad', 'Bachelors', 'Some-college', 'HS-grad', '11th', 'Some-college', 'HS-grad', 'Some-college', 'Masters', 'Assoc-voc', 'HS-grad', 'HS-grad', 'Some-college', '11th', 'Some-college', 'Bachelors', 'HS-grad', 'Bachelors', 'Bachelors', 'Assoc-voc', 'Masters', 'HS-grad', 'Some-college', 'HS-grad', 'HS-grad', 'Some-college', '11th', 'HS-grad', 'Bachelors', 'Masters', 'Some-college', '1st-4th', 'Some-college', 'HS-grad', 'HS-grad', 'HS-grad', 'HS-grad', 'HS-grad', '7th-8th', 'Bachelors', 'HS-grad', '11th', 'Bachelors', 'HS-grad', 'Masters', 'Prof-school', 'Some-college', 'Some-college', 'Bachelors', 'Prof-school', 'Prof-school', 'HS-grad', '11th', 'Bachelors', 'HS-grad', '5th-6th', 'Assoc-acdm', 'Some-college', 'Some-college', '7th-8th', 'HS-grad', 'Some-college', 'Assoc-acdm', 'Bachelors', '10th', 'HS-grad', 'HS-grad', 'Masters', 'Some-college', 'Some-college', 'HS-grad', 'Assoc-voc', 'Some-college', 'Some-college', '1st-4th', 'Bachelors', 'Bachelors', 'Some-college', 'Some-college', 'Some-college', 'HS-grad', 'HS-grad', 'Some-college', 'HS-grad', 'Some-college', 'Some-college', 'Bachelors', 'HS-grad', 'Bachelors', 'Assoc-voc', '11th', 'HS-grad', 'Bachelors', 'HS-grad', 'HS-grad', 'Doctorate', 'HS-grad', 'HS-grad', 'HS-grad', 'Some-college', '9th', 'Some-college', 'Bachelors', 'Bachelors', 'HS-grad', 'HS-grad', 'HS-grad', 'Some-college', 'Assoc-acdm', 'Masters', 'Doctorate', 'HS-grad', 'HS-grad', 'Some-college', 'HS-grad', 'Bachelors', 'HS-grad', '11th', 'Masters', 'Bachelors', 'Doctorate', 'Some-college', 'Some-college', 'Some-college', 'Some-college', 'Some-college', 'HS-grad', 'HS-grad', 'Some-college', 'Some-college', 'Some-college', 'Bachelors', 'HS-grad', 'Some-college', 'HS-grad', 'Bachelors', 'Some-college', 'Bachelors', 'HS-grad', 'Prof-school', 'HS-grad', 'HS-grad', 'HS-grad', 'Assoc-voc', 'Some-college', 'HS-grad', 'Bachelors', 'HS-grad', 'Bachelors', 'HS-grad', '9th', 'Masters', '7th-8th', 'HS-grad', 'Some-college', 'Bachelors', 'HS-grad', 'HS-grad', 'Bachelors', 'HS-grad', 'HS-grad', 'Masters', 'Some-college', 'Some-college', '9th', '1st-4th', 'Some-college', 'Bachelors', 'Some-college', 'Some-college', 'Some-college', '7th-8th', '11th', '11th', 'HS-grad', 'Bachelors', 'HS-grad', 'Bachelors', 'HS-grad', 'Masters', 'Some-college', 'Bachelors', 'Assoc-acdm', 'Assoc-voc', '11th', 'Bachelors', 'HS-grad', '11th', 'HS-grad', 'Masters', 'Bachelors', 'Bachelors', 'Bachelors', 'Bachelors', 'Bachelors', 'Bachelors', 'Assoc-voc', 'Doctorate', 'HS-grad', 'Some-college', 'Prof-school', 'Some-college', 'Bachelors', 'Some-college', 'Bachelors', 'HS-grad', '10th', 'Bachelors', 'Some-college', 'Bachelors', 'Bachelors', 'Some-college', 'HS-grad', 'Some-college', 'HS-grad', 'Some-college', '7th-8th', 'Some-college', 'Some-college', '9th', 'Assoc-acdm', 'Some-college', 'Assoc-acdm', 'HS-grad', 'HS-grad', 'Doctorate', 'Bachelors', 'Assoc-acdm', 'Some-college', 'HS-grad', 'HS-grad', 'Bachelors', 'Some-college', 'Some-college', 'Some-college', 'Some-college', 'Some-college', 'HS-grad', 'Masters', 'Bachelors', '7th-8th', 'Some-college', 'HS-grad', 'Doctorate', '11th', 'HS-grad', 'Some-college', 'HS-grad', 'Masters', 'Bachelors', 'HS-grad', 'Some-college', 'Doctorate', '10th', 'Some-college', 'HS-grad', 'Assoc-acdm', 'Bachelors', 'HS-grad', 'HS-grad', 'Assoc-voc', 'Bachelors', 'Bachelors', 'Some-college', 'HS-grad', 'Bachelors', 'Assoc-voc', 'HS-grad', 'HS-grad', 'Assoc-acdm', 'HS-grad', 'Bachelors', 'Bachelors', 'Assoc-voc', 'HS-grad', 'Masters', 'Doctorate', 'HS-grad', 'Bachelors', 'Bachelors', 'HS-grad', 'Bachelors', 'HS-grad', 'HS-grad', 'Assoc-voc', 'HS-grad', 'HS-grad', 'Assoc-acdm', 'Some-college', 'Some-college', 'Bachelors', 'Some-college', '10th', 'Bachelors', 'Assoc-voc', 'HS-grad', 'Some-college', 'HS-grad', 'Doctorate', 'HS-grad', 'HS-grad', 'HS-grad', '7th-8th', 'Some-college', 'HS-grad', 'Some-college', 'Bachelors', 'Bachelors', 'Some-college', 'Some-college', 'Some-college', 'Bachelors', 'HS-grad', 'Some-college', 'Bachelors', 'Some-college', 'Bachelors', 'HS-grad', 'Bachelors', 'Bachelors', '9th', 'Bachelors', 'HS-grad', 'HS-grad', 'HS-grad', 'Some-college', 'Bachelors', 'Some-college', 'Bachelors', 'HS-grad', '7th-8th', 'Bachelors', 'HS-grad', 'HS-grad', 'Masters', 'HS-grad', 'HS-grad', 'Some-college', '12th', 'Assoc-voc', '11th', 'Some-college', 'Some-college', '10th', 'Some-college', 'Bachelors', '10th', 'Some-college', 'Some-college', 'Some-college', 'HS-grad', 'Some-college', 'Bachelors', 'HS-grad', 'HS-grad', '12th', 'Some-college', 'HS-grad', 'HS-grad', 'Masters', 'Bachelors', 'Assoc-acdm', 'HS-grad', 'Assoc-voc', 'HS-grad', '11th', 'HS-grad', 'Bachelors', '7th-8th', 'HS-grad', 'HS-grad', '7th-8th', 'HS-grad', 'Masters', 'Bachelors', 'Some-college', 'Some-college', 'Masters', 'Bachelors', 'Bachelors', 'Bachelors', 'Bachelors', '10th', 'Some-college', 'Some-college', 'Some-college', 'Some-college', 'Bachelors', 'Masters', 'HS-grad', 'Assoc-voc', 'Bachelors', 'Masters', 'Some-college', 'Some-college', 'Some-college', 'Some-college', 'Some-college', '9th', 'HS-grad', 'Some-college', 'HS-grad', 'HS-grad', 'Bachelors', 'Masters', 'Bachelors', '5th-6th', 'Bachelors', 'Bachelors', 'Some-college', 'Some-college', 'HS-grad', 'Bachelors', '9th', 'Masters', 'Masters', 'HS-grad', 'HS-grad', 'Some-college', 'HS-grad', 'HS-grad', 'HS-grad', 'Masters', 'HS-grad', 'HS-grad', 'Assoc-voc', 'HS-grad', 'Bachelors', '10th', 'Bachelors', '10th', 'HS-grad', 'HS-grad', 'Bachelors', 'HS-grad', 'HS-grad', 'HS-grad', 'Some-college', '7th-8th', 'HS-grad', 'Bachelors', 'HS-grad', 'HS-grad', 'Some-college', 'Bachelors', 'Some-college', 'Bachelors', 'Bachelors', 'HS-grad', 'Bachelors', 'HS-grad', 'HS-grad', 'Masters', 'Some-college', 'Some-college', 'Assoc-voc', 'Assoc-acdm', 'HS-grad', 'HS-grad', 'Bachelors', 'HS-grad', 'HS-grad', 'Some-college', 'Some-college', 'Some-college', 'HS-grad', 'Masters', 'Some-college', 'Some-college', '10th', 'HS-grad', 'Some-college', 'Bachelors', 'Bachelors', 'HS-grad', 'Assoc-voc', 'Some-college', 'Bachelors', 'HS-grad', 'HS-grad', 'Bachelors', 'Some-college', '11th', '12th', 'Bachelors', 'Assoc-voc', 'HS-grad', 'Some-college', 'Bachelors', 'HS-grad', 'Some-college', 'Masters', 'HS-grad', '5th-6th', 'HS-grad', 'HS-grad', 'Some-college', 'Bachelors', 'HS-grad', 'HS-grad', 'Masters', 'Some-college', 'Some-college', 'Some-college', '10th', 'Some-college', 'Some-college', '11th', 'Some-college', 'Bachelors', 'Some-college', 'HS-grad', '10th', 'Bachelors', '9th', 'HS-grad', '7th-8th', '11th', 'HS-grad', '12th', 'Bachelors', 'Bachelors', 'HS-grad', 'HS-grad', 'Bachelors', 'Masters', 'Bachelors', '11th', 'Bachelors', 'Some-college', 'HS-grad', 'Some-college', '5th-6th', '12th', 'HS-grad', 'Some-college', 'HS-grad', 'Bachelors', 'Some-college', 'Assoc-voc', 'Bachelors', 'HS-grad', 'HS-grad', 'Assoc-voc', 'Bachelors', 'Prof-school', 'Masters', 'Assoc-voc', 'HS-grad', 'HS-grad', '10th', 'Some-college', 'Some-college', 'HS-grad', 'HS-grad', 'HS-grad', 'HS-grad', 'Bachelors', 'Bachelors', 'Some-college', 'Bachelors', 'Some-college', 'HS-grad', 'HS-grad', 'Prof-school', 'Assoc-acdm', 'HS-grad', '11th', 'HS-grad', 'Bachelors', '10th', 'HS-grad', 'Some-college', 'Bachelors', 'Some-college', 'Assoc-acdm', 'Doctorate', 'Assoc-acdm', '7th-8th', 'HS-grad', 'HS-grad', '9th', 'Some-college', 'Bachelors', 'Some-college', 'Bachelors', '9th', 'HS-grad', 'HS-grad', 'Some-college', 'HS-grad', 'Bachelors', 'Some-college', 'Assoc-voc', 'Some-college', '11th', 'HS-grad', 'HS-grad', 'Bachelors', 'HS-grad', 'HS-grad', 'Some-college', 'Some-college', 'HS-grad', 'Bachelors', 'Assoc-acdm', 'Some-college', 'Masters', 'Some-college', 'HS-grad', 'Bachelors', 'HS-grad', 'Bachelors', '7th-8th', 'HS-grad', 'HS-grad', 'HS-grad', 'HS-grad', '10th', 'Bachelors', 'HS-grad', 'Assoc-acdm', 'HS-grad', 'Some-college', 'Bachelors', 'HS-grad', 'Some-college', 'Masters', 'HS-grad', 'Masters', 'Assoc-acdm', 'Assoc-voc', 'Some-college', 'Bachelors', 'HS-grad', 'HS-grad', 'Bachelors', 'Bachelors', 'HS-grad', 'Assoc-acdm', 'HS-grad', 'Some-college', 'Bachelors', 'Masters', '7th-8th', 'Some-college', 'HS-grad', 'Assoc-acdm', 'Bachelors', 'Doctorate', 'Some-college', 'Some-college', 'Some-college', '10th', 'HS-grad', 'Some-college', 'Assoc-voc', 'Some-college', 'HS-grad', '11th', '11th', 'HS-grad', 'HS-grad', '11th', 'Prof-school', 'Bachelors', 'HS-grad', '10th', 'HS-grad', 'HS-grad', 'Some-college', 'HS-grad', 'Assoc-acdm', '9th', 'HS-grad', 'HS-grad', 'Some-college', 'Bachelors', 'Assoc-acdm', '11th', 'Some-college', 'Assoc-acdm', 'HS-grad', 'HS-grad', 'HS-grad', 'Some-college', 'Masters', 'Some-college', 'HS-grad', 'HS-grad', 'HS-grad', 'HS-grad', 'HS-grad', 'Doctorate', 'HS-grad', 'Assoc-voc', 'Bachelors', 'Some-college', 'Some-college', 'HS-grad', 'Bachelors', 'HS-grad', 'HS-grad', 'Some-college', 'Prof-school', 'Bachelors', '10th', 'Bachelors', 'Some-college', 'HS-grad', '10th', 'Masters', 'HS-grad', 'HS-grad', 'Doctorate', 'HS-grad', 'Bachelors', 'HS-grad', 'Some-college', 'Some-college', 'HS-grad', 'Bachelors', 'Assoc-voc', 'Bachelors', 'Bachelors', 'HS-grad', 'HS-grad', 'HS-grad', 'Assoc-voc', 'HS-grad', 'HS-grad', 'Bachelors', 'Bachelors', 'Some-college', 'Doctorate', 'Some-college', '10th', 'Doctorate', '7th-8th', 'Bachelors', '1st-4th', '11th', 'Bachelors', 'Some-college', 'HS-grad', 'Bachelors', 'HS-grad', 'Some-college', 'Masters', 'HS-grad', 'Some-college', 'HS-grad', '7th-8th', 'Bachelors', 'Bachelors', 'HS-grad', 'HS-grad', '11th', 'Some-college', 'HS-grad', 'HS-grad', 'Some-college', '10th', 'Some-college', 'Some-college', 'Masters', 'HS-grad', 'Some-college', 'Some-college', 'HS-grad', 'Bachelors', '11th', 'HS-grad', 'HS-grad', 'Bachelors', 'Prof-school', '12th', 'HS-grad', 'Some-college', 'HS-grad', 'Some-college', '11th', 'Bachelors', 'HS-grad', 'HS-grad', 'Assoc-acdm', 'HS-grad', 'Some-college', 'Some-college', 'Some-college', '10th', 'HS-grad', 'Bachelors', 'Some-college', 'HS-grad', 'Bachelors', '10th', 'Some-college', '11th', '7th-8th', 'Bachelors', 'HS-grad', 'Some-college', 'Assoc-voc', 'HS-grad', 'HS-grad', 'Bachelors', 'HS-grad', 'HS-grad', 'HS-grad', '11th', 'Some-college', 'HS-grad', '11th', 'Some-college', 'Bachelors', 'Some-college', 'Bachelors', 'Some-college', 'Some-college', 'Some-college', 'Some-college', 'HS-grad', 'Bachelors', 'HS-grad', 'Some-college', 'Some-college', 'Bachelors', 'HS-grad', 'Prof-school', 'Bachelors', '12th', 'Some-college', 'Bachelors', 'HS-grad', 'HS-grad', 'Some-college', 'HS-grad', '12th', 'HS-grad', '9th', 'HS-grad', 'Some-college', 'Assoc-acdm', 'Some-college', 'HS-grad', 'Assoc-acdm', 'Assoc-acdm', 'Prof-school', 'Bachelors', 'Some-college', 'Bachelors', 'HS-grad', '12th', 'HS-grad', '7th-8th', 'HS-grad', 'Bachelors', 'HS-grad', 'Bachelors', 'Some-college', '9th', 'HS-grad', 'HS-grad', 'Some-college', 'Assoc-voc', 'HS-grad', 'Masters', 'Bachelors', '5th-6th', 'Some-college', 'Masters', 'Prof-school', 'Some-college', 'HS-grad', 'Bachelors', '11th', 'HS-grad', 'HS-grad', 'HS-grad', 'Some-college', '9th', 'Assoc-voc', 'Some-college', 'Some-college', 'HS-grad', 'Some-college', 'HS-grad', 'HS-grad', 'HS-grad', 'Some-college', 'HS-grad', 'HS-grad', 'HS-grad', 'Bachelors', 'Some-college', 'HS-grad', 'HS-grad', 'Some-college', 'HS-grad', 'HS-grad', '11th', 'Some-college', 'Bachelors', 'Bachelors', 'Bachelors', 'Bachelors', 'HS-grad', 'Bachelors', 'Bachelors', 'Some-college', 'Bachelors', 'Assoc-acdm', 'Assoc-acdm', 'Some-college', 'HS-grad', 'Masters', 'HS-grad', 'Some-college', 'Some-college', 'Doctorate', 'Some-college', 'Doctorate', 'HS-grad', 'HS-grad', '5th-6th', 'Some-college', 'Bachelors', 'HS-grad', 'Some-college', '11th', 'Bachelors', 'Some-college', 'Assoc-acdm', 'Some-college', 'Bachelors', 'Some-college', 'Bachelors', 'Assoc-voc', 'HS-grad', 'HS-grad', 'HS-grad', 'Some-college', 'HS-grad', 'HS-grad', '5th-6th', 'Some-college', 'Some-college', 'Bachelors', 'HS-grad', 'HS-grad', '5th-6th', 'HS-grad', 'HS-grad', 'HS-grad', 'Bachelors', 'HS-grad', 'Assoc-voc', '7th-8th', '7th-8th', 'HS-grad', 'Bachelors', 'Masters', 'Masters', 'HS-grad', 'Masters', 'Some-college', 'Some-college', '11th', 'Bachelors', 'Bachelors', 'Assoc-acdm', '9th', 'Assoc-voc', 'Prof-school', 'HS-grad', 'Bachelors', '11th', 'Assoc-voc', 'Bachelors', 'Assoc-acdm', 'Some-college', 'HS-grad', 'HS-grad', '12th', 'HS-grad', 'HS-grad', 'Masters', 'Assoc-voc', 'HS-grad', 'Assoc-voc', 'HS-grad', '10th', 'Bachelors', 'HS-grad', '5th-6th', 'HS-grad', '11th', 'Bachelors', 'Some-college', 'HS-grad', 'Bachelors', 'HS-grad', '11th', 'HS-grad', 'Assoc-acdm', '9th', 'HS-grad', 'Bachelors', 'Assoc-acdm', 'Bachelors', 'HS-grad', 'Some-college', 'Bachelors', 'Some-college', 'Bachelors', 'Some-college', 'Some-college', 'Bachelors', 'Some-college', 'Bachelors', 'Some-college', '10th', 'HS-grad', 'HS-grad', 'Some-college', 'Masters', '11th', 'Bachelors', 'HS-grad', 'Bachelors', 'Some-college', 'Bachelors', 'HS-grad', 'HS-grad', 'HS-grad', 'Bachelors', 'Assoc-acdm', '12th', 'HS-grad', 'Doctorate', 'Assoc-voc', 'HS-grad', 'Bachelors', 'Prof-school', 'Bachelors', 'Masters', 'HS-grad', '5th-6th', 'Masters', 'HS-grad', '11th', 'Some-college', 'HS-grad', 'Assoc-acdm', 'HS-grad', 'Bachelors', 'Some-college', 'HS-grad', 'Some-college', 'Some-college', 'HS-grad', 'Bachelors', 'Assoc-acdm', 'Bachelors', '11th', 'HS-grad', 'Some-college', 'Some-college', 'Bachelors', 'HS-grad', 'Some-college', 'Preschool', '9th', 'HS-grad', 'Some-college', 'Bachelors', '11th', 'HS-grad', 'HS-grad', 'Bachelors', 'HS-grad', 'Some-college', 'HS-grad', 'HS-grad', '7th-8th', 'Masters', 'HS-grad', 'HS-grad', 'Some-college', 'HS-grad', '10th', '7th-8th', 'Bachelors', 'Doctorate', 'Bachelors', 'HS-grad', 'HS-grad', '10th', 'HS-grad', 'Bachelors', 'Some-college', '7th-8th', 'HS-grad', 'Some-college', 'Bachelors', 'HS-grad', '11th', '7th-8th', 'Bachelors', 'HS-grad', 'HS-grad', '9th', 'Masters', 'Some-college', 'Bachelors', 'Some-college', 'Some-college', 'Assoc-acdm', 'Some-college', 'HS-grad', 'HS-grad', 'Assoc-acdm', 'HS-grad', 'HS-grad', 'HS-grad', 'Bachelors', 'HS-grad', 'Masters', 'HS-grad', 'HS-grad', 'HS-grad', 'Doctorate', 'Bachelors', '9th', 'Some-college', '10th', 'Some-college', 'Bachelors', 'HS-grad', 'Some-college', 'HS-grad', 'Assoc-acdm', 'Some-college', 'HS-grad', 'Some-college', 'HS-grad', 'Some-college', 'Masters', 'HS-grad', 'Some-college', 'HS-grad', 'Some-college', 'Bachelors', 'Some-college', 'Masters', 'HS-grad', 'Some-college', '10th', 'HS-grad', 'Some-college', 'HS-grad', 'Some-college', '10th', 'HS-grad', 'HS-grad', '5th-6th', 'HS-grad', '7th-8th', 'HS-grad', '11th', 'Bachelors', 'Some-college', 'Some-college', 'HS-grad', 'Bachelors', 'HS-grad', 'Assoc-acdm', 'Some-college', '5th-6th', 'HS-grad', 'HS-grad', 'HS-grad', 'HS-grad', 'Bachelors', 'Assoc-voc', 'HS-grad', 'Prof-school', 'HS-grad', 'Prof-school', 'Some-college', 'Some-college', 'HS-grad', 'HS-grad', 'Masters', 'HS-grad', 'HS-grad', 'Bachelors', 'HS-grad', 'Some-college', '12th', '7th-8th', 'Bachelors', 'Masters', 'Doctorate', 'HS-grad', 'Some-college', 'Some-college', 'HS-grad', 'Some-college', 'Masters', 'Masters', 'Some-college', 'Some-college', '11th', 'Masters', 'HS-grad', 'Prof-school', '11th', 'Prof-school', 'Bachelors', 'HS-grad', '11th', 'Some-college', 'Masters', 'HS-grad', 'Bachelors', 'Assoc-acdm', 'Assoc-acdm', 'HS-grad', 'HS-grad', 'HS-grad', 'Bachelors', 'HS-grad', 'Some-college', 'HS-grad', 'Bachelors', 'HS-grad', 'Bachelors', 'HS-grad', 'Some-college', 'HS-grad', 'Assoc-acdm', 'Masters', 'HS-grad', 'HS-grad', 'HS-grad', 'HS-grad', 'Bachelors', 'HS-grad', '7th-8th', 'Bachelors', 'HS-grad', 'HS-grad', 'Bachelors', 'Prof-school', 'Bachelors', '12th', 'Masters', 'Some-college', 'Some-college', 'Bachelors', 'Some-college', 'HS-grad', 'Some-college', 'HS-grad', 'HS-grad', 'Some-college', 'HS-grad', 'HS-grad', 'Assoc-voc', 'Some-college', 'HS-grad', '1st-4th', 'Some-college', 'Assoc-voc', 'HS-grad', 'HS-grad', 'Some-college', 'Bachelors', '12th', 'Some-college', '9th', 'HS-grad', '10th', 'Some-college', 'Bachelors', 'HS-grad', 'Some-college', '5th-6th', 'HS-grad', 'Bachelors', 'Some-college', 'Some-college', 'Bachelors', '1st-4th', '10th', 'HS-grad', 'Some-college', 'Bachelors', 'HS-grad', '12th', 'HS-grad', 'Some-college', '11th', 'Assoc-voc', 'Bachelors', '9th', 'HS-grad', 'HS-grad', 'Some-college', 'Some-college', 'Bachelors', 'HS-grad', 'Some-college', 'Bachelors', 'Some-college', 'HS-grad', 'HS-grad', 'HS-grad', 'Masters', '11th', 'Some-college', 'HS-grad', 'HS-grad', 'Bachelors', 'HS-grad', 'Some-college', 'Some-college', 'Bachelors', 'HS-grad', '9th', 'HS-grad', 'Doctorate', 'Some-college', 'Assoc-acdm', 'Some-college', 'Bachelors', 'HS-grad', '10th', 'Some-college', '12th', 'Masters', 'Some-college', 'HS-grad', 'Some-college', 'Bachelors', 'Bachelors', 'HS-grad', 'Bachelors', 'Assoc-voc', '1st-4th', 'Some-college', 'HS-grad', 'Some-college', 'Some-college', 'HS-grad', 'HS-grad', 'HS-grad', 'Masters', 'HS-grad', 'Bachelors', 'Bachelors', '9th', 'Assoc-acdm', 'Some-college', 'HS-grad', 'Assoc-acdm', 'Masters', 'HS-grad', 'HS-grad', 'Some-college', 'Bachelors', 'HS-grad', 'Some-college', 'Some-college', '10th', 'HS-grad', 'Preschool', 'HS-grad', 'Masters', '7th-8th', 'Some-college', 'Some-college', 'HS-grad', 'Some-college', 'HS-grad', 'Some-college', 'Some-college', 'Bachelors', 'Bachelors', 'HS-grad', 'HS-grad', 'Some-college', 'Masters', 'HS-grad', 'HS-grad', 'Bachelors', 'Some-college', 'HS-grad', '9th', 'Assoc-acdm', 'HS-grad', 'Masters', 'Bachelors', 'Bachelors', 'Assoc-voc', '11th', '11th', 'Some-college', 'Masters', '12th', 'HS-grad', '10th', 'HS-grad', 'Doctorate', 'HS-grad', 'HS-grad', 'Assoc-acdm', 'Some-college', '7th-8th', 'HS-grad', 'Masters', 'HS-grad', 'Assoc-voc', '11th', 'Doctorate', 'HS-grad', 'Bachelors', 'Assoc-acdm', 'Bachelors', 'HS-grad', 'Bachelors', 'Some-college', 'Some-college', 'Some-college', '11th', '12th', 'HS-grad', '11th', 'Bachelors', 'Some-college', 'Assoc-voc', 'Bachelors', 'HS-grad', 'HS-grad', 'HS-grad', 'HS-grad', 'Masters', '1st-4th', 'HS-grad', 'Assoc-voc', 'HS-grad', 'Bachelors', 'HS-grad', 'Some-college', 'Bachelors', 'HS-grad', 'HS-grad', 'Bachelors', 'HS-grad', 'Some-college', 'HS-grad', 'HS-grad', 'HS-grad', 'Masters', 'Some-college', '9th', 'Some-college', 'HS-grad', '9th', 'HS-grad', 'Masters', 'HS-grad', 'HS-grad', 'Some-college', 'Some-college', 'Bachelors', 'HS-grad', 'Masters', 'Bachelors', '10th', 'Bachelors', 'Bachelors', 'Some-college', 'Some-college', '9th', 'HS-grad', '11th', '10th', 'HS-grad', 'HS-grad', 'Assoc-voc', 'Bachelors', 'HS-grad', 'Assoc-acdm', 'HS-grad', 'Some-college', 'Bachelors', 'HS-grad', 'Assoc-voc', 'Some-college', 'Some-college', 'Some-college', 'Bachelors', '11th', 'Doctorate', 'Doctorate', 'HS-grad', 'Doctorate', 'Masters', '7th-8th', 'Bachelors', 'HS-grad', 'Bachelors', 'Bachelors', 'Some-college', 'Some-college', 'Bachelors', 'Masters', 'Some-college', 'HS-grad', 'Some-college', 'HS-grad', 'HS-grad', 'Some-college', 'Some-college', 'HS-grad', 'HS-grad', 'Some-college', 'Some-college', 'HS-grad', 'Assoc-voc', 'HS-grad', 'Bachelors', 'HS-grad', 'Assoc-voc', 'Some-college', 'HS-grad', 'HS-grad', 'Prof-school', 'Bachelors', 'Bachelors', 'Some-college', 'Masters', 'Prof-school', 'Some-college', 'Bachelors', 'Bachelors', 'HS-grad', 'Some-college', 'Some-college', 'Bachelors', 'Bachelors', 'Masters', 'HS-grad', 'Assoc-acdm', 'Assoc-voc', 'Bachelors', 'Prof-school', 'Masters', 'Bachelors', 'HS-grad', 'HS-grad', 'Assoc-voc', 'Assoc-voc', '11th', 'HS-grad', 'Bachelors', 'HS-grad', 'Some-college', 'Some-college', 'Bachelors', 'Some-college', 'HS-grad', 'HS-grad', 'Some-college', 'Some-college', 'Some-college', '12th', 'Masters', 'HS-grad', 'Some-college', 'Bachelors', 'Some-college', 'HS-grad', 'HS-grad', 'HS-grad', 'Some-college', 'Some-college', 'Prof-school', 'Doctorate', 'Some-college', 'Bachelors', 'HS-grad', 'Masters', '12th', 'Some-college', '11th', '11th', '11th', 'Bachelors', 'HS-grad', 'Bachelors', 'Some-college', 'HS-grad', 'Some-college', 'HS-grad', '5th-6th', 'HS-grad', 'Some-college', '11th', 'HS-grad', 'Some-college', '12th', 'Some-college', 'HS-grad', 'Some-college', 'HS-grad', '11th', 'HS-grad', 'HS-grad', 'Bachelors', 'HS-grad', 'Assoc-acdm', 'Bachelors', 'HS-grad', '12th', 'Prof-school', 'HS-grad', '10th', 'Masters', 'HS-grad', 'Assoc-acdm', 'HS-grad', '9th', 'Some-college', 'Bachelors', 'Bachelors', 'Some-college', 'Bachelors', 'HS-grad', 'Bachelors', 'Bachelors', 'Bachelors', 'Bachelors', 'HS-grad', 'HS-grad', 'Some-college', 'HS-grad', '10th', 'Bachelors', 'Bachelors', 'Doctorate', 'Masters', 'Assoc-voc', 'Some-college', 'Masters', '12th', 'HS-grad', 'Bachelors', 'Assoc-voc', 'Bachelors', 'Masters', 'HS-grad', 'Some-college', 'Bachelors', 'HS-grad', 'Bachelors', 'Bachelors', '12th', '5th-6th', 'Bachelors', 'Bachelors', 'HS-grad', 'HS-grad', 'Bachelors', 'Some-college', 'Some-college', 'Bachelors', 'HS-grad', '10th', 'HS-grad', 'Some-college', 'Bachelors', 'HS-grad', 'Bachelors', '10th', 'Some-college', 'Masters', 'Assoc-acdm', '10th', 'Assoc-acdm', 'Bachelors', 'Some-college', 'HS-grad', 'HS-grad', '9th', 'Assoc-voc', 'Prof-school', 'HS-grad', 'HS-grad', 'Some-college', 'HS-grad', 'Bachelors', 'Some-college', 'HS-grad', 'HS-grad', 'HS-grad', 'Prof-school', 'HS-grad', 'Bachelors', '11th', 'HS-grad', 'Some-college', '7th-8th', 'HS-grad', 'Bachelors', 'Some-college', 'Some-college', 'Some-college', 'Bachelors', 'HS-grad', 'Some-college', '11th', 'HS-grad', 'Bachelors', 'HS-grad', 'HS-grad', 'HS-grad', 'Some-college', 'Prof-school', 'HS-grad', 'Some-college', 'HS-grad', 'HS-grad', 'Some-college', 'Some-college', 'Bachelors', 'Bachelors', 'Bachelors', 'Some-college', 'HS-grad', 'Masters', 'Bachelors', 'Assoc-voc', 'HS-grad', '1st-4th', 'HS-grad', 'HS-grad', 'HS-grad', '11th', 'HS-grad', 'Some-college', 'Bachelors', 'HS-grad', 'Some-college', 'HS-grad', 'Some-college', 'Some-college', 'Some-college', 'HS-grad', 'HS-grad', 'HS-grad', 'Bachelors', 'HS-grad', 'Assoc-acdm', 'Bachelors', 'Masters', 'Bachelors', 'HS-grad', 'HS-grad', 'HS-grad', 'Bachelors', 'Some-college', 'Bachelors', 'HS-grad', 'HS-grad', '12th', '12th', 'Bachelors', '5th-6th', 'Some-college', 'Assoc-voc', 'Some-college', '10th', 'Assoc-acdm', 'Assoc-acdm', 'HS-grad', 'HS-grad', 'HS-grad', '9th', 'HS-grad', 'Some-college', 'Some-college', 'HS-grad', 'Bachelors', 'Bachelors', 'Some-college', 'Some-college', 'Assoc-voc', 'HS-grad', 'Prof-school', 'Masters', 'Some-college', 'Assoc-voc', 'Bachelors', 'Some-college', 'HS-grad', 'HS-grad', 'HS-grad', '7th-8th', '10th', 'Bachelors', 'Some-college', 'HS-grad', 'HS-grad', 'Assoc-voc', 'HS-grad', 'HS-grad', 'Bachelors', 'Doctorate', 'Masters', 'Some-college', '5th-6th', 'Assoc-voc', 'Masters', 'Bachelors', 'HS-grad', 'Bachelors', 'Assoc-acdm', 'Some-college', 'HS-grad', '11th', 'Bachelors', 'Bachelors', '11th', 'Some-college', 'Prof-school', '7th-8th', 'Some-college', 'HS-grad', 'Assoc-voc', '10th', 'HS-grad', 'Bachelors', 'Some-college', 'Bachelors', 'HS-grad', 'Some-college', 'Assoc-acdm', 'Bachelors', 'Some-college', '9th', 'Bachelors', 'Some-college', 'Assoc-voc', 'Assoc-voc', 'Some-college', 'HS-grad', 'Some-college', 'Some-college', '11th', 'Bachelors', 'Some-college', 'HS-grad', 'HS-grad', 'HS-grad', 'Bachelors', 'Some-college', 'Masters', 'Bachelors', 'Assoc-voc', '5th-6th', 'Some-college', 'Bachelors', 'Bachelors', 'HS-grad', 'Some-college', '12th', 'Bachelors', 'Masters', 'Assoc-voc', 'Bachelors', '11th', '10th', 'HS-grad', '10th', 'Prof-school', 'Some-college', 'HS-grad', 'HS-grad', '11th', 'Bachelors', 'HS-grad', 'HS-grad', 'Bachelors', 'HS-grad', 'Preschool', 'Assoc-voc', 'Some-college', 'Assoc-voc', 'Some-college', 'HS-grad', 'HS-grad', 'Bachelors', 'Bachelors', 'HS-grad', 'HS-grad', 'Prof-school', 'Assoc-acdm', 'HS-grad', '10th', 'Bachelors', '7th-8th', 'HS-grad', 'Some-college', 'HS-grad', 'HS-grad', 'Bachelors', 'HS-grad', 'HS-grad', 'Assoc-voc', 'Some-college', 'HS-grad', 'Some-college', 'Some-college', '5th-6th', 'Masters', 'Bachelors', 'Some-college', 'HS-grad', 'Bachelors', 'HS-grad', 'Bachelors', 'Bachelors', 'Some-college', 'Bachelors', 'HS-grad', 'Bachelors', 'HS-grad', 'HS-grad', 'Bachelors', 'Assoc-voc', 'Some-college', 'HS-grad', 'Masters', 'HS-grad', 'HS-grad', 'Some-college', 'Some-college', 'Assoc-voc', 'HS-grad', 'Masters', 'Assoc-voc', 'Masters', 'Assoc-voc', '7th-8th', 'Bachelors', 'Some-college', '5th-6th', 'Bachelors', 'Assoc-voc', 'HS-grad', 'HS-grad', 'Assoc-voc', 'HS-grad', 'Some-college', 'Assoc-acdm', '9th', 'Assoc-voc', '11th', 'HS-grad', 'Assoc-acdm', 'Bachelors', '10th', 'HS-grad', 'Assoc-acdm', '11th', 'HS-grad', 'HS-grad', 'Some-college', 'Prof-school', 'HS-grad', 'Some-college', '12th', 'Some-college', 'Assoc-acdm', 'HS-grad', 'HS-grad', 'Some-college', 'Prof-school', 'HS-grad', 'Bachelors', 'Some-college', 'HS-grad', 'HS-grad', 'HS-grad', 'Bachelors', 'Some-college', '12th', 'Masters', '12th', 'Bachelors', 'Bachelors', 'Assoc-voc', 'Assoc-voc', 'HS-grad', 'Some-college', 'HS-grad', 'Some-college', 'HS-grad', 'Some-college', 'Bachelors', '7th-8th', 'Some-college', 'Bachelors', 'HS-grad', 'Masters', 'Assoc-acdm', 'Some-college', 'HS-grad', '11th', 'HS-grad', 'HS-grad', 'HS-grad', 'HS-grad', 'Bachelors', 'Bachelors', 'HS-grad', 'Bachelors', 'Doctorate', 'HS-grad', 'Some-college', 'Bachelors', 'HS-grad', 'Assoc-voc', 'Some-college', 'Some-college', 'Assoc-voc', 'Some-college', 'HS-grad', '7th-8th', 'Some-college', 'HS-grad', 'Some-college', 'HS-grad', '9th', '5th-6th', 'Some-college', 'Some-college', 'Assoc-voc', 'Some-college', 'HS-grad', 'HS-grad', 'HS-grad', 'Bachelors', '10th', 'Some-college', 'HS-grad', 'Doctorate', 'Some-college', '11th', 'Assoc-voc', 'Some-college', 'HS-grad', 'HS-grad', 'Prof-school', 'Bachelors', 'Masters', 'HS-grad', 'HS-grad', 'Assoc-voc', 'Some-college', 'HS-grad', 'Assoc-voc', 'Bachelors', 'Bachelors', 'Some-college', 'Masters', 'Bachelors', 'HS-grad', 'Masters', 'Masters', 'Some-college', 'Some-college', 'Bachelors', 'HS-grad', 'HS-grad', 'Bachelors', 'Bachelors', 'HS-grad', 'HS-grad', 'HS-grad', '12th', 'HS-grad', 'Bachelors', 'Some-college', 'Some-college', 'Some-college', 'Doctorate', 'Bachelors', 'HS-grad', 'Prof-school', '10th', 'Some-college', 'HS-grad', 'Some-college', 'Some-college', 'Bachelors', 'HS-grad', 'Assoc-acdm', 'HS-grad', 'HS-grad', 'Some-college', 'Some-college', 'Doctorate', 'Masters', 'HS-grad', 'Masters', 'HS-grad', '9th', 'Masters', 'HS-grad', 'Some-college', 'HS-grad', 'Some-college', '11th', 'Masters', 'HS-grad', 'HS-grad', 'Bachelors', '11th', 'Bachelors', '12th', 'Bachelors', 'Bachelors', 'Bachelors', 'Some-college', 'HS-grad', 'Some-college', 'Prof-school', 'Bachelors', '12th', 'Some-college', 'Some-college', 'HS-grad', 'HS-grad', 'Assoc-voc', 'HS-grad', 'Assoc-voc', 'HS-grad', 'Some-college', 'Some-college', '12th', '1st-4th', 'Masters', 'HS-grad', 'Some-college', 'Some-college', 'HS-grad', 'Masters', 'HS-grad', 'Bachelors', '10th', 'HS-grad', 'Masters', 'Masters', 'HS-grad', 'Assoc-acdm', 'Bachelors', 'Some-college', 'HS-grad', 'HS-grad', 'Doctorate', 'Bachelors', 'Bachelors', 'Bachelors', 'Some-college', 'Some-college', 'Assoc-voc', 'HS-grad', 'Bachelors', 'Bachelors', 'Some-college', 'HS-grad', 'HS-grad', '12th', 'Bachelors', 'Doctorate', '7th-8th', 'Bachelors', 'Some-college', 'HS-grad', 'Some-college', 'Masters', 'Some-college', 'Bachelors', 'Bachelors', 'Assoc-voc', 'HS-grad', 'Some-college', 'Bachelors', 'HS-grad', 'HS-grad', 'Some-college', 'HS-grad', 'HS-grad', 'Bachelors', 'Bachelors', 'HS-grad', 'HS-grad', 'HS-grad', 'HS-grad', 'Masters', 'HS-grad', 'Assoc-acdm', 'Some-college', 'HS-grad', 'Bachelors', '7th-8th', 'Bachelors', 'HS-grad', 'HS-grad', '12th', 'Bachelors', 'Bachelors', 'Some-college', 'HS-grad', 'HS-grad', 'Some-college', 'Bachelors', 'HS-grad', 'Some-college', 'HS-grad', 'Some-college', '5th-6th', 'HS-grad', 'Some-college', 'Bachelors', '1st-4th', 'HS-grad', 'HS-grad', 'Assoc-voc', 'Bachelors', 'Assoc-acdm', 'HS-grad', 'HS-grad', 'Masters', 'HS-grad', 'Some-college', 'HS-grad', 'Some-college', 'Masters', 'HS-grad', '12th', 'Some-college', 'HS-grad', '5th-6th', 'HS-grad', 'HS-grad', '12th', 'Bachelors', 'Some-college', 'HS-grad', 'HS-grad', 'Assoc-acdm', 'Some-college', 'Some-college', 'HS-grad', 'HS-grad', '9th', 'HS-grad', 'HS-grad', 'Assoc-voc', '12th', 'Some-college', 'Some-college', 'HS-grad', 'Bachelors', '7th-8th', 'Preschool', 'HS-grad', 'Prof-school', 'HS-grad', 'HS-grad', 'Bachelors', 'HS-grad', 'Doctorate', 'Bachelors', 'Some-college', 'Prof-school', 'Masters', 'HS-grad', 'HS-grad', '11th', 'Some-college', 'HS-grad', 'Some-college', 'Assoc-acdm', 'Bachelors', 'Assoc-voc', 'Bachelors', 'HS-grad', 'Bachelors', 'Masters', 'Assoc-acdm', 'Some-college', '10th', 'Some-college', '9th', 'Some-college', '7th-8th', 'Assoc-acdm', 'HS-grad', '9th', 'Assoc-acdm', 'HS-grad', 'Prof-school', 'Some-college', 'Bachelors', 'Assoc-voc', '10th', 'HS-grad', 'HS-grad', 'HS-grad', 'Bachelors', 'HS-grad', 'HS-grad', '7th-8th', 'Some-college', 'HS-grad', 'HS-grad', 'HS-grad', 'HS-grad', 'Some-college', '5th-6th', 'Some-college', 'HS-grad', 'Some-college', 'Some-college', 'HS-grad', 'HS-grad', '11th', 'Bachelors', 'Some-college', 'Assoc-voc', 'Bachelors', 'HS-grad', 'HS-grad', '11th', 'Bachelors', 'Doctorate', 'Some-college', 'HS-grad', 'HS-grad', 'Prof-school', 'Bachelors', 'Masters', 'Bachelors', 'HS-grad', '9th', '11th', 'HS-grad', 'HS-grad', 'HS-grad', 'HS-grad', 'HS-grad', 'HS-grad', 'HS-grad', 'HS-grad', 'Assoc-voc', 'Bachelors', '12th', 'Bachelors', 'HS-grad', 'Some-college', '11th', '10th', 'HS-grad', 'Masters', '11th', 'HS-grad', 'Bachelors', 'Bachelors', 'Bachelors', 'HS-grad', 'Some-college', 'Bachelors', 'Assoc-voc', 'HS-grad', 'Assoc-acdm', 'Some-college', 'Assoc-acdm', 'HS-grad', 'Some-college', 'Some-college', 'Some-college', 'Some-college', 'HS-grad', '10th', 'Assoc-voc', 'HS-grad', 'Assoc-acdm', 'HS-grad', 'Bachelors', 'Preschool', 'Some-college', '9th', 'Some-college', 'Some-college', 'Some-college', 'Masters', 'Masters', 'HS-grad', 'Bachelors', 'Some-college', 'Some-college', 'Some-college', '11th', 'Bachelors', 'HS-grad', 'Some-college', 'Masters', 'Bachelors', 'Assoc-voc', 'Some-college', '7th-8th', 'Assoc-voc', 'HS-grad', 'Some-college', '7th-8th', 'Some-college', 'HS-grad', 'Masters', 'HS-grad', 'Some-college', 'HS-grad', 'Doctorate', 'HS-grad', 'Some-college', 'HS-grad', 'HS-grad', 'HS-grad', 'HS-grad', 'Bachelors', 'HS-grad', 'Some-college', 'HS-grad', 'Some-college', 'Some-college', 'Bachelors', 'HS-grad', 'Some-college', 'HS-grad', 'Some-college', 'HS-grad', 'Bachelors', '10th', 'Bachelors', 'Masters', 'Some-college', 'Bachelors', 'Masters', 'Some-college', 'Assoc-voc', 'HS-grad', 'Bachelors', 'Bachelors', 'HS-grad', 'Prof-school', 'HS-grad', '11th', 'Bachelors', 'HS-grad', 'Some-college', 'HS-grad', 'Assoc-voc', 'Some-college', 'Assoc-voc', '1st-4th', 'Some-college', 'Bachelors', 'Some-college', 'HS-grad', 'HS-grad', 'HS-grad', 'Some-college', '7th-8th', 'Some-college', 'Bachelors', 'Prof-school', 'Masters', '9th', 'Some-college', 'Assoc-acdm', 'HS-grad', 'HS-grad', 'HS-grad', 'HS-grad', 'Bachelors', 'Assoc-voc', 'Some-college', 'Bachelors', 'Assoc-voc', 'Some-college', 'Some-college', 'HS-grad', 'Bachelors', 'Some-college', 'Bachelors', 'HS-grad', 'Some-college', 'Assoc-voc', 'Bachelors', 'Bachelors', 'HS-grad', 'Some-college', 'HS-grad', 'Some-college', '9th', 'HS-grad', '11th', 'HS-grad', 'Bachelors', 'HS-grad', 'Bachelors', 'HS-grad', '9th', 'Some-college', 'Bachelors', 'Assoc-acdm', 'HS-grad', 'Assoc-voc', 'HS-grad', 'HS-grad', 'Some-college', 'HS-grad', 'Bachelors', 'Some-college', 'Some-college', 'Masters', 'HS-grad', 'HS-grad', 'HS-grad', 'HS-grad', 'HS-grad', 'Masters', '7th-8th', 'Bachelors', 'HS-grad', 'Some-college', 'Assoc-acdm', 'Doctorate', 'Some-college', 'Bachelors', 'Bachelors', 'HS-grad', 'Some-college', 'HS-grad', 'HS-grad', 'Bachelors', 'Some-college', 'Assoc-acdm', 'HS-grad', 'HS-grad', 'Some-college', 'Some-college', 'HS-grad', 'Assoc-acdm', 'HS-grad', 'HS-grad', 'Bachelors', 'Masters', 'HS-grad', 'Masters', 'HS-grad', 'HS-grad', 'Bachelors', 'HS-grad', 'Masters', 'Assoc-acdm', '7th-8th', '9th', 'Bachelors', 'Bachelors', '11th', 'HS-grad', 'Assoc-voc', 'Some-college', 'Some-college', '11th', 'Bachelors', 'HS-grad', 'Assoc-acdm', '10th', 'HS-grad', 'Some-college', '10th', '1st-4th', 'Bachelors', 'Bachelors', 'HS-grad', '11th', 'HS-grad', 'Bachelors', 'Assoc-acdm', 'Some-college', 'HS-grad', 'Some-college', 'HS-grad', '11th', 'HS-grad', 'Some-college', 'HS-grad', '10th', 'HS-grad', 'Some-college', 'Assoc-acdm', '7th-8th', 'Bachelors', 'Some-college', 'HS-grad', 'HS-grad', 'Bachelors', 'Some-college', 'HS-grad', 'Bachelors', 'HS-grad', 'HS-grad', 'HS-grad', 'HS-grad', 'Assoc-acdm', '10th', '5th-6th', 'Assoc-voc', 'Some-college', 'HS-grad', 'Assoc-voc', '10th', 'Some-college', 'Assoc-voc', 'Prof-school', 'Assoc-voc', 'HS-grad', 'HS-grad', 'Bachelors', 'Some-college', '1st-4th', 'Some-college', 'Assoc-voc', 'HS-grad', 'Some-college', 'HS-grad', 'Bachelors', 'Some-college', 'HS-grad', '5th-6th', '12th', 'Masters', 'Some-college', 'HS-grad', 'Some-college', 'HS-grad', 'Bachelors', 'Assoc-voc', 'Bachelors', '11th', 'Some-college', 'Doctorate', 'Assoc-voc', 'Bachelors', 'Bachelors', 'Some-college', 'HS-grad', 'Some-college', 'HS-grad', '7th-8th', 'HS-grad', 'HS-grad', 'Bachelors', 'Bachelors', 'Some-college', 'Bachelors', 'Bachelors', 'Some-college', 'HS-grad', 'HS-grad', 'Assoc-acdm', 'Doctorate', 'Assoc-voc', 'HS-grad', 'Bachelors', 'HS-grad', 'Masters', 'HS-grad', 'Bachelors', 'Some-college', '10th', 'HS-grad', 'HS-grad', 'HS-grad', 'HS-grad', 'Bachelors', '10th', 'Some-college', 'Assoc-voc', 'Some-college', 'Some-college', 'HS-grad', 'Bachelors', 'HS-grad', '7th-8th', 'HS-grad', 'Bachelors', 'Some-college', 'Assoc-voc', 'HS-grad', 'Some-college', 'Some-college', 'Bachelors', 'Assoc-voc', 'Prof-school', 'Some-college', '5th-6th', 'HS-grad', 'Some-college', 'Masters', 'Some-college', 'Some-college', 'Prof-school', 'HS-grad', 'HS-grad', '9th', 'Some-college', 'HS-grad', 'HS-grad', 'Some-college', 'Bachelors', '10th', 'Bachelors', 'Bachelors', 'HS-grad', 'Some-college', 'Bachelors', '1st-4th', 'HS-grad', 'HS-grad', 'HS-grad', 'Some-college', 'HS-grad', 'Some-college', 'HS-grad', 'HS-grad', 'Bachelors', '10th', 'Bachelors', 'HS-grad', 'Bachelors', 'Some-college', 'Doctorate', '7th-8th', 'HS-grad', 'HS-grad', 'Some-college', 'HS-grad', 'HS-grad', '9th', 'Bachelors', 'Some-college', 'HS-grad', 'HS-grad', 'HS-grad', 'HS-grad', 'Bachelors', 'HS-grad', 'Masters', 'HS-grad', 'HS-grad', 'Bachelors', 'Assoc-voc', 'Assoc-voc', 'Bachelors', 'Some-college', '11th', '10th', 'Bachelors', 'Bachelors', 'Some-college', 'Bachelors', 'HS-grad', 'HS-grad', 'Some-college', 'HS-grad', 'Bachelors', '7th-8th', '11th', 'Some-college', 'Some-college', 'Masters', 'Assoc-voc', 'Some-college', 'Masters', '11th', 'HS-grad', 'HS-grad', 'Assoc-voc', 'Assoc-voc', '9th', 'Doctorate', '1st-4th', 'HS-grad', 'Some-college', 'HS-grad', 'Some-college', 'Assoc-voc', 'Some-college', 'Bachelors', 'Prof-school', 'Some-college', 'Assoc-voc', 'HS-grad', 'HS-grad', '10th', 'HS-grad', 'Assoc-voc', 'Some-college', 'HS-grad', 'HS-grad', 'HS-grad', 'HS-grad', 'Bachelors', 'Some-college', 'Some-college', 'Bachelors', 'Some-college', 'Some-college', 'HS-grad', 'Masters', '10th', 'HS-grad', 'Assoc-voc', 'HS-grad', 'HS-grad', 'Bachelors', 'HS-grad', '11th', 'HS-grad', 'HS-grad', 'Bachelors', 'HS-grad', 'HS-grad', 'HS-grad', 'Bachelors', '11th', 'HS-grad', 'Doctorate', 'HS-grad', 'Bachelors', 'HS-grad', 'Some-college', '10th', '10th', 'Some-college', 'Bachelors', 'Assoc-voc', 'Masters', 'HS-grad', '9th', 'Bachelors', '7th-8th', 'HS-grad', '1st-4th', 'Assoc-acdm', 'Some-college', 'HS-grad', 'Masters', 'HS-grad', 'HS-grad', 'HS-grad', 'HS-grad', 'HS-grad', '1st-4th', 'HS-grad', 'HS-grad', 'HS-grad', '11th', 'Some-college', 'HS-grad', 'Some-college', 'Some-college', 'Some-college', 'Some-college', 'Bachelors', 'HS-grad', 'HS-grad', 'Some-college', 'Bachelors', 'Bachelors', 'Some-college', 'Masters', 'Some-college', 'HS-grad', 'Bachelors', 'Some-college', 'Bachelors', 'HS-grad', 'HS-grad', '11th', 'Masters', 'Bachelors', 'Some-college', 'HS-grad', 'Some-college', 'Some-college', '11th', 'Masters', 'Bachelors', 'Bachelors', 'HS-grad', 'Masters', 'Bachelors', 'Some-college', 'Bachelors', 'Bachelors', 'HS-grad', 'Masters', 'Bachelors', 'Assoc-acdm', 'HS-grad', 'HS-grad', 'Some-college', '12th', 'Masters', 'HS-grad', 'Some-college', 'Some-college', 'Bachelors', 'Assoc-acdm', 'HS-grad', '9th', 'Some-college', '12th', '11th', 'Bachelors', '5th-6th', 'HS-grad', 'HS-grad', 'Some-college', 'Some-college', 'HS-grad', 'Bachelors', 'Bachelors', 'Some-college', 'Some-college', 'Some-college', 'Bachelors', '11th', '7th-8th', '9th', 'Assoc-acdm', 'Bachelors', 'Some-college', '10th', 'Assoc-voc', 'HS-grad', 'HS-grad', '12th', 'HS-grad', 'Doctorate', 'Bachelors', 'Some-college', 'Assoc-acdm', 'Bachelors', 'HS-grad', 'Bachelors', 'HS-grad', 'Some-college', '12th', 'Some-college', '9th', 'Some-college', 'Some-college', 'Some-college', 'Some-college', '1st-4th', 'Some-college', 'HS-grad', 'Bachelors', 'Bachelors', 'Some-college', '7th-8th', 'Prof-school', 'Some-college', 'Bachelors', 'Some-college', 'Assoc-acdm', 'HS-grad', 'Some-college', '9th', 'Some-college', 'Some-college', 'Some-college', 'Bachelors', 'Some-college', 'HS-grad', 'Bachelors', 'HS-grad', 'Assoc-voc', 'Doctorate', 'HS-grad', 'HS-grad', 'Some-college', 'Bachelors', 'HS-grad', 'Assoc-acdm', 'HS-grad', 'Assoc-acdm', 'Bachelors', 'HS-grad', 'HS-grad', '11th', 'Bachelors', 'Masters', 'Bachelors', '11th', 'Doctorate', 'Some-college', 'Some-college', 'Bachelors', 'Some-college', 'Bachelors', 'Some-college', 'Bachelors', 'Some-college', 'Bachelors', 'Some-college', 'Some-college', 'HS-grad', 'Some-college', 'Some-college', '10th', 'HS-grad', '10th', 'Bachelors', 'HS-grad', 'Some-college', '10th', '10th', 'Some-college', 'Bachelors', 'Some-college', 'Some-college', 'Bachelors', 'Assoc-voc', 'Some-college', 'Bachelors', 'Some-college', 'Some-college', 'Some-college', 'HS-grad', '9th', 'Some-college', 'Bachelors', 'Some-college', 'HS-grad', '7th-8th', 'HS-grad', '10th', 'HS-grad', 'Bachelors', 'Assoc-voc', '10th', 'HS-grad', 'Some-college', 'Masters', 'Bachelors', 'Some-college', 'Bachelors', 'Some-college', 'Some-college', 'HS-grad', 'Bachelors', 'HS-grad', 'HS-grad', 'Some-college', 'Some-college', 'Assoc-acdm', 'Assoc-acdm', 'Masters', 'Some-college', '10th', 'Some-college', 'Bachelors', 'Bachelors', 'Some-college', 'Some-college', 'HS-grad', 'Bachelors', 'HS-grad', 'HS-grad', 'HS-grad', 'Bachelors', 'Some-college', 'HS-grad', 'Assoc-voc', '10th', 'Bachelors', 'Assoc-acdm', 'Some-college', 'Some-college', 'HS-grad', 'HS-grad', '9th', '11th', 'Some-college', '11th', 'Some-college', 'HS-grad', 'HS-grad', 'Bachelors', '7th-8th', '11th', 'Some-college', 'Some-college', 'Bachelors', 'Some-college', 'Some-college', 'HS-grad', 'HS-grad', 'Prof-school', 'Masters', 'HS-grad', 'Some-college', 'Some-college', 'HS-grad', 'Some-college', 'HS-grad', 'Masters', 'Assoc-acdm', 'HS-grad', 'Assoc-acdm', 'HS-grad', 'HS-grad', 'Some-college', 'Bachelors', 'HS-grad', 'HS-grad', 'Bachelors', '10th', '12th', '10th', 'HS-grad', 'Bachelors', 'HS-grad', 'HS-grad', 'Assoc-voc', 'Some-college', 'Some-college', 'Bachelors', '9th', 'HS-grad', 'HS-grad', 'HS-grad', 'Some-college', 'Some-college', 'Some-college', '7th-8th', 'HS-grad', 'Some-college', 'Some-college', 'HS-grad', 'Some-college', 'HS-grad', 'HS-grad', 'HS-grad', 'Bachelors', '10th', 'HS-grad', '11th', '11th', 'Some-college', 'Some-college', 'Bachelors', 'Some-college', 'Assoc-voc', 'Assoc-voc', 'Masters', 'Some-college', 'HS-grad', 'Bachelors', 'Some-college', 'Bachelors', 'Some-college', 'HS-grad', 'HS-grad', '10th', 'Some-college', 'Some-college', 'Some-college', 'HS-grad', 'Some-college', 'HS-grad', 'Masters', 'HS-grad', 'HS-grad', 'Preschool', 'Bachelors', 'HS-grad', 'Assoc-voc', '9th', 'HS-grad', 'Bachelors', 'Bachelors', 'Masters', 'Some-college', 'Masters', 'Some-college', 'Assoc-acdm', 'Assoc-voc', 'HS-grad', '11th', 'Bachelors', '12th', 'Some-college', 'Assoc-acdm', 'HS-grad', 'HS-grad', 'Some-college', 'Prof-school', 'HS-grad', 'Some-college', 'Some-college', 'HS-grad', 'Some-college', 'Assoc-voc', 'HS-grad', 'HS-grad', 'HS-grad', '7th-8th', 'Bachelors', 'HS-grad', 'Masters', 'Bachelors', 'Some-college', 'Assoc-voc', 'HS-grad', 'Some-college', 'Some-college', 'HS-grad', '11th', 'Preschool', 'HS-grad', 'Prof-school', 'Bachelors', 'Assoc-voc', '11th', 'HS-grad', 'Assoc-voc', '9th', 'Masters', 'HS-grad', 'HS-grad', 'Some-college', 'HS-grad', 'Some-college', 'Bachelors', '11th', 'Some-college', 'HS-grad', '10th', 'Assoc-voc', 'Bachelors', 'HS-grad', 'Bachelors', 'HS-grad', '11th', 'Some-college', 'HS-grad', 'HS-grad', 'HS-grad', 'Masters', 'Bachelors', 'Some-college', 'HS-grad', 'Bachelors', 'Some-college', 'Some-college', 'Masters', '12th', 'Assoc-voc', 'Bachelors', 'Bachelors', 'Bachelors', 'HS-grad', '12th', 'HS-grad', 'Bachelors', 'HS-grad', 'Preschool', 'Some-college', 'Assoc-acdm', 'HS-grad', 'Bachelors', 'Masters', 'Masters', 'HS-grad', 'HS-grad', 'Some-college', 'Some-college', 'HS-grad', 'HS-grad', 'Some-college', 'HS-grad', 'HS-grad', 'HS-grad', 'HS-grad', 'Some-college', 'HS-grad', 'HS-grad', 'HS-grad', 'Some-college', 'HS-grad', 'Some-college', 'HS-grad', 'Some-college', 'Masters', '10th', '1st-4th', 'Bachelors', '11th', 'Bachelors', 'HS-grad', '10th', '11th', '11th', 'Bachelors', 'Bachelors', 'HS-grad', 'HS-grad', 'Some-college', 'Some-college', 'Preschool', 'HS-grad', 'Some-college', 'HS-grad', 'Assoc-acdm', 'HS-grad', 'Prof-school', 'HS-grad', '11th', 'HS-grad', 'Some-college', '11th', 'HS-grad', 'HS-grad', '10th', 'Some-college', '11th', '11th', 'Some-college', 'HS-grad', 'HS-grad', '9th', 'HS-grad', 'Bachelors', 'Prof-school', 'Some-college', 'Bachelors', 'HS-grad', '7th-8th', 'Some-college', 'Assoc-acdm', 'Bachelors', 'Assoc-voc', 'Some-college', 'Masters', 'HS-grad', 'Bachelors', 'Some-college', 'Masters', '10th', '9th', 'Bachelors', 'Some-college', 'Some-college', 'Some-college', '12th', 'HS-grad', 'HS-grad', 'HS-grad', '10th', 'HS-grad', 'HS-grad', '11th', 'Masters', 'HS-grad', 'Masters', '11th', 'Some-college', 'HS-grad', 'Bachelors', 'Bachelors', 'HS-grad', 'HS-grad', 'HS-grad', 'Assoc-acdm', 'Bachelors', 'HS-grad', 'Bachelors', 'Some-college', 'HS-grad', 'Some-college', 'HS-grad', 'Some-college', 'Some-college', 'HS-grad', 'Prof-school', 'Assoc-voc', 'Assoc-voc', 'Assoc-acdm', 'HS-grad', 'Some-college', 'Masters', 'Assoc-voc', 'HS-grad', 'Some-college', 'HS-grad', '9th', 'Bachelors', 'Prof-school', 'Bachelors', 'HS-grad', 'Bachelors', '7th-8th', '11th', 'Some-college', 'Some-college', 'HS-grad', 'HS-grad', 'HS-grad', 'HS-grad', 'Some-college', 'Some-college', 'HS-grad', '5th-6th', 'Some-college', 'Assoc-voc', 'Bachelors', 'HS-grad', 'Bachelors', 'HS-grad', 'Some-college', '9th', 'HS-grad', 'HS-grad', 'Some-college', 'Some-college', '7th-8th', 'Bachelors', 'Some-college', 'Assoc-voc', 'Prof-school', 'Masters', 'Some-college', 'Masters', 'HS-grad', 'HS-grad', 'Some-college', 'HS-grad', 'HS-grad', 'Bachelors', 'Some-college', 'HS-grad', 'Some-college', 'HS-grad', 'Bachelors', 'HS-grad', 'HS-grad', 'Masters', 'Some-college', 'Bachelors', 'HS-grad', 'HS-grad', 'Some-college', 'Some-college', 'Bachelors', 'Preschool', 'HS-grad', 'Some-college', 'HS-grad', 'HS-grad', 'Some-college', 'Some-college', '9th', 'Assoc-voc', 'Assoc-acdm', 'Some-college', 'HS-grad', 'HS-grad', 'Masters', 'HS-grad', 'Assoc-voc', '7th-8th', 'Some-college', 'Some-college', 'Assoc-voc', 'Assoc-voc', 'Assoc-voc', 'Bachelors', '11th', 'Some-college', 'Bachelors', 'HS-grad', 'HS-grad', 'HS-grad', 'Bachelors', 'HS-grad', 'Bachelors', '9th', 'Some-college', 'Some-college', 'Bachelors', 'Prof-school', 'HS-grad', 'HS-grad', 'Some-college', 'HS-grad', 'Some-college', 'Assoc-acdm', 'HS-grad', 'Some-college', 'HS-grad', 'HS-grad', 'Masters', 'HS-grad', 'Bachelors', '10th', 'Bachelors', 'HS-grad', 'Some-college', '10th', 'HS-grad', '7th-8th', 'Assoc-voc', 'HS-grad', 'Some-college', 'HS-grad', 'HS-grad', 'Bachelors', 'Assoc-acdm', '11th', '11th', 'HS-grad', 'Assoc-voc', 'HS-grad', 'Some-college', 'HS-grad', '10th', 'HS-grad', '10th', 'HS-grad', 'Some-college', 'Bachelors', 'HS-grad', 'Some-college', '11th', '9th', 'Some-college', 'Bachelors', 'HS-grad', 'Some-college', 'Masters', 'Masters', 'Some-college', 'Prof-school', 'HS-grad', '11th', 'HS-grad', 'Masters', 'Some-college', 'Some-college', 'Bachelors', 'Some-college', 'Some-college', 'HS-grad', '12th', 'Masters', 'HS-grad', 'Assoc-acdm', '9th', 'HS-grad', 'Some-college', 'Some-college', 'Bachelors', '7th-8th', 'Some-college', 'HS-grad', 'HS-grad', 'HS-grad', 'Bachelors', 'Some-college', 'Assoc-voc', '11th', 'Some-college', '10th', 'Some-college', 'Assoc-voc', 'HS-grad', 'Some-college', '12th', 'Some-college', 'HS-grad', 'Bachelors', 'Some-college', 'Bachelors', 'Some-college', 'HS-grad', 'HS-grad', '10th', 'Some-college', 'Some-college', 'Assoc-voc', 'Assoc-voc', 'HS-grad', 'Doctorate', 'Bachelors', 'HS-grad', 'Assoc-voc', 'Masters', 'HS-grad', 'Bachelors', 'Doctorate', 'Some-college', 'Some-college', 'HS-grad', 'Some-college', '10th', 'Some-college', 'HS-grad', 'Bachelors', 'Bachelors', 'HS-grad', '10th', 'Doctorate', 'Some-college', 'Masters', 'Some-college', 'HS-grad', 'Masters', 'HS-grad', 'Bachelors', 'Bachelors', 'Some-college', 'HS-grad', 'HS-grad', 'Some-college', 'Bachelors', 'HS-grad', 'Doctorate', '9th', 'Bachelors', 'HS-grad', 'Masters', 'Assoc-voc', '11th', 'Some-college', 'Assoc-voc', 'HS-grad', '7th-8th', 'Bachelors', 'Bachelors', '10th', 'Bachelors', 'HS-grad', 'Some-college', 'Prof-school', 'Masters', 'HS-grad', 'Masters', 'Masters', 'Some-college', 'HS-grad', 'Assoc-acdm', '5th-6th', 'HS-grad', 'HS-grad', 'Some-college', 'Masters', '11th', 'Some-college', '11th', '1st-4th', '5th-6th', 'Prof-school', 'Bachelors', 'Bachelors', 'HS-grad', 'Some-college', 'Masters', 'Bachelors', 'Bachelors', 'Some-college', 'Masters', 'Assoc-voc', 'HS-grad', '11th', 'HS-grad', 'Some-college', '11th', 'Some-college', 'Bachelors', 'HS-grad', 'Some-college', 'HS-grad', 'HS-grad', 'Assoc-acdm', 'Some-college', 'Assoc-acdm', 'HS-grad', 'Masters', '5th-6th', 'Masters', '12th', 'Bachelors', 'HS-grad', 'Assoc-acdm', 'Some-college', 'Some-college', 'HS-grad', 'Bachelors', 'Some-college', '7th-8th', 'Some-college', 'HS-grad', 'HS-grad', 'Some-college', 'Some-college', '11th', 'HS-grad', 'Some-college', 'HS-grad', 'HS-grad', 'HS-grad', 'Bachelors', 'Bachelors', 'HS-grad', 'HS-grad', 'Assoc-voc', 'Some-college', 'HS-grad', 'Some-college', 'Masters', 'HS-grad', 'HS-grad', 'Some-college', 'Masters', '10th', 'Masters', 'HS-grad', '10th', 'HS-grad', 'Bachelors', 'Bachelors', 'HS-grad', 'Assoc-voc', '9th', '11th', 'HS-grad', 'HS-grad', 'Masters', 'Masters', 'Masters', 'HS-grad', 'HS-grad', 'HS-grad', 'Some-college', 'HS-grad', 'Bachelors', 'HS-grad', 'Some-college', 'Some-college', 'Assoc-voc', 'HS-grad', 'Some-college', 'HS-grad', 'Bachelors', 'HS-grad', 'HS-grad', 'HS-grad', 'Some-college', 'Masters', 'HS-grad', 'HS-grad', 'HS-grad', 'Assoc-voc', 'Bachelors', 'Some-college', 'Some-college', 'Some-college', 'Some-college', 'Some-college', '12th', 'HS-grad', 'Masters', 'HS-grad', 'Masters', 'Some-college', 'Bachelors', 'HS-grad', 'Doctorate', 'Doctorate', 'HS-grad', 'HS-grad', 'Bachelors', 'Some-college', 'Bachelors', 'Some-college', 'Some-college', '11th', '1st-4th', '1st-4th', 'HS-grad', 'HS-grad', 'Some-college', 'Bachelors', 'HS-grad', 'HS-grad', 'HS-grad', 'HS-grad', '11th', 'HS-grad', 'Some-college', 'HS-grad', 'Masters', 'HS-grad', 'HS-grad', 'Some-college', 'Some-college', '9th', 'Some-college', 'Some-college', 'HS-grad', 'Bachelors', 'HS-grad', 'HS-grad', 'HS-grad', 'Masters', 'HS-grad', 'Some-college', 'Bachelors', 'HS-grad', 'Masters', 'Some-college', 'HS-grad', '11th', 'Masters', '11th', 'HS-grad', '12th', 'Masters', 'Some-college', 'Assoc-acdm', '7th-8th', 'HS-grad', 'Bachelors', 'HS-grad', 'HS-grad', 'Assoc-acdm', 'HS-grad', 'Bachelors', 'Some-college', 'Some-college', 'Assoc-voc', 'HS-grad', '12th', 'Bachelors', 'HS-grad', 'HS-grad', 'HS-grad', 'Assoc-voc', 'Prof-school', 'Bachelors', 'Masters', 'Bachelors', '11th', 'HS-grad', 'Doctorate', 'HS-grad', 'HS-grad', 'Some-college', 'Some-college', 'Some-college', 'Bachelors', '10th', 'Bachelors', 'HS-grad', 'Some-college', 'Bachelors', 'HS-grad', 'HS-grad', 'Some-college', 'Some-college', 'HS-grad', '5th-6th', 'Prof-school', 'HS-grad', 'HS-grad', 'Some-college', 'HS-grad', '11th', 'Bachelors', 'Masters', 'HS-grad', 'HS-grad', 'HS-grad', 'Some-college', 'Some-college', 'Some-college', 'HS-grad', 'Some-college', 'Bachelors', 'Some-college', 'HS-grad', 'HS-grad', 'Bachelors', 'Some-college', 'Prof-school', 'HS-grad', 'Bachelors', 'Bachelors', 'HS-grad', 'HS-grad', 'Assoc-acdm', 'HS-grad', 'Bachelors', 'Bachelors', 'HS-grad', 'Some-college', 'Bachelors', 'HS-grad', 'Bachelors', 'Assoc-voc', 'Bachelors', 'Some-college', 'Masters', 'Bachelors', '7th-8th', 'HS-grad', 'Masters', 'Masters', 'Masters', '11th', 'Some-college', 'Some-college', 'Bachelors', 'Some-college', 'Some-college', 'Bachelors', 'HS-grad', 'HS-grad', 'Some-college', '7th-8th', 'HS-grad', 'Some-college', 'Assoc-acdm', 'Assoc-voc', 'HS-grad', 'Assoc-voc', 'Some-college', '9th', 'Assoc-voc', 'Masters', 'Some-college', 'Assoc-acdm', 'HS-grad', 'HS-grad', '11th', 'HS-grad', '7th-8th', 'Assoc-acdm', '10th', 'Masters', 'HS-grad', 'Prof-school', 'Bachelors', '11th', 'Masters', 'HS-grad', 'Bachelors', '12th', 'Assoc-voc', 'Some-college', '10th', 'HS-grad', 'Some-college', 'Some-college', '11th', 'HS-grad', 'HS-grad', 'Some-college', 'Assoc-acdm', 'Some-college', 'HS-grad', 'Masters', 'Masters', 'HS-grad', 'HS-grad', 'Assoc-voc', 'HS-grad', 'HS-grad', 'Bachelors', 'Assoc-voc', 'Bachelors', 'Some-college', 'HS-grad', 'Bachelors', '10th', 'HS-grad', 'Assoc-voc', 'Some-college', 'HS-grad', '11th', 'Bachelors', '12th', 'Bachelors', 'HS-grad', 'Bachelors', 'Some-college', 'HS-grad', 'HS-grad', 'Bachelors', 'HS-grad', 'Some-college', '10th', 'Masters', 'HS-grad', 'HS-grad', 'Bachelors', 'Some-college', 'HS-grad', 'Some-college', 'HS-grad', 'HS-grad', 'Bachelors', 'Some-college', 'HS-grad', 'Some-college', 'Some-college', 'Masters', 'HS-grad', 'Some-college', 'HS-grad', 'Bachelors', 'Bachelors', '11th', 'Assoc-voc', '10th', 'Some-college', '9th', 'HS-grad', 'HS-grad', 'Masters', 'HS-grad', 'HS-grad', 'Some-college', 'Bachelors', 'Some-college', 'HS-grad', 'HS-grad', 'HS-grad', 'Bachelors', 'HS-grad', 'HS-grad', 'Some-college', 'Bachelors', 'Some-college', '10th', 'Some-college', 'HS-grad', 'Some-college', 'HS-grad', 'Bachelors', 'Some-college', 'HS-grad', 'HS-grad', 'Masters', 'Some-college', 'HS-grad', 'HS-grad', 'HS-grad', 'Some-college', '1st-4th', 'Some-college', 'HS-grad', 'HS-grad', '7th-8th', 'HS-grad', '10th', 'Some-college', 'Prof-school', 'Assoc-acdm', 'Some-college', 'Prof-school', 'Prof-school', 'Some-college', 'Bachelors', 'HS-grad', 'Some-college', 'Bachelors', 'Some-college', 'HS-grad', 'Bachelors', 'Masters', 'Bachelors', '10th', 'HS-grad', 'Some-college', 'Some-college', 'Bachelors', 'Bachelors', 'Some-college', '12th', 'HS-grad', '1st-4th', 'Some-college', 'Some-college', '11th', 'HS-grad', 'HS-grad', 'Masters', 'Assoc-acdm', 'HS-grad', 'Some-college', 'HS-grad', '11th', 'HS-grad', 'HS-grad', 'Some-college', 'Some-college', 'Bachelors', 'Some-college', 'Some-college', 'Some-college', 'HS-grad', 'HS-grad', 'Some-college', 'HS-grad', 'Prof-school', 'Some-college', 'Some-college', 'Bachelors', 'HS-grad', 'HS-grad', 'Bachelors', 'Bachelors', 'HS-grad', '5th-6th', 'HS-grad', 'HS-grad', 'Assoc-voc', 'HS-grad', 'Some-college', 'HS-grad', 'Some-college', 'Doctorate', '10th', '9th', 'Bachelors', 'Some-college', '10th', 'Some-college', 'Bachelors', 'Some-college', '5th-6th', 'HS-grad', 'HS-grad', 'Some-college', 'Some-college', 'Some-college', 'Some-college', 'HS-grad', 'Assoc-acdm', '1st-4th', 'Some-college', 'Bachelors', '11th', 'Assoc-voc', 'HS-grad', 'Assoc-acdm', 'Bachelors', 'HS-grad', 'Masters', 'Masters', 'Prof-school', '11th', 'Masters', '11th', 'Prof-school', 'HS-grad', 'Assoc-acdm', '7th-8th', 'Assoc-voc', 'HS-grad', 'Bachelors', 'HS-grad', '11th', 'Some-college', 'Some-college', 'Bachelors', '10th', 'HS-grad', 'HS-grad', 'HS-grad', 'Bachelors', 'HS-grad', 'Bachelors', '12th', 'Some-college', 'Some-college', 'Bachelors', 'HS-grad', 'HS-grad', 'HS-grad', 'Masters', 'Some-college', 'Bachelors', 'Prof-school', 'HS-grad', '10th', '7th-8th', 'Some-college', 'Bachelors', 'Masters', '11th', 'Bachelors', 'HS-grad', 'Some-college', 'HS-grad', 'HS-grad', 'Some-college', 'HS-grad', 'Bachelors', 'HS-grad', 'Bachelors', 'HS-grad', 'Masters', 'Some-college', 'Some-college', 'HS-grad', 'Prof-school', 'HS-grad', '12th', 'Bachelors', '12th', 'Assoc-voc', 'HS-grad', 'Bachelors', 'HS-grad', 'HS-grad', 'HS-grad', 'HS-grad', 'Bachelors', 'HS-grad', '5th-6th', 'Some-college', 'Some-college', 'Bachelors', 'Some-college', 'Assoc-voc', 'Some-college', 'Assoc-voc', 'HS-grad', 'Some-college', '10th', 'Bachelors', 'HS-grad', 'HS-grad', 'HS-grad', 'Assoc-voc', 'HS-grad', 'Assoc-acdm', '11th', 'Some-college', 'HS-grad', '12th', 'Some-college', 'Bachelors', 'Some-college', 'HS-grad', 'Some-college', 'Some-college', 'HS-grad', 'Bachelors', 'Assoc-voc', 'Assoc-voc', 'Masters', 'HS-grad', 'Bachelors', 'Assoc-acdm', 'Some-college', '11th', 'Some-college', 'Some-college', '5th-6th', 'Some-college', 'Bachelors', 'Some-college', 'HS-grad', 'Bachelors', 'HS-grad', 'Some-college', 'Some-college', 'Bachelors', 'HS-grad', 'HS-grad', 'Assoc-voc', 'HS-grad', 'Masters', 'Masters', 'Masters', 'Some-college', 'HS-grad', 'HS-grad', 'Some-college', 'Some-college', '1st-4th', 'HS-grad', 'HS-grad', 'HS-grad', 'HS-grad', 'HS-grad', 'Bachelors', 'HS-grad', 'Some-college', 'Some-college', 'Some-college', 'Assoc-voc', 'Masters', 'Some-college', 'HS-grad', 'Some-college', 'Some-college', 'HS-grad', 'Masters', 'Some-college', 'Bachelors', 'HS-grad', 'Bachelors', '7th-8th', 'HS-grad', 'Bachelors', 'HS-grad', 'Assoc-acdm', '5th-6th', 'Assoc-acdm', 'Masters', 'HS-grad', 'HS-grad', 'HS-grad', 'HS-grad', 'HS-grad', 'Some-college', 'HS-grad', 'HS-grad', 'Masters', 'Bachelors', 'Some-college', 'Masters', 'HS-grad', 'Doctorate', 'Some-college', 'HS-grad', 'Some-college', 'Bachelors', '10th', '11th', 'Assoc-voc', 'Prof-school', 'Assoc-acdm', 'Masters', 'Some-college', 'Bachelors', 'HS-grad', 'HS-grad', '11th', 'Bachelors', '12th', 'Bachelors', 'Some-college', 'Some-college', '11th', 'Some-college', 'Some-college', 'HS-grad', 'Assoc-voc', 'HS-grad', 'Bachelors', 'HS-grad', 'Assoc-voc', '7th-8th', 'Some-college', 'HS-grad', 'Bachelors', 'HS-grad', 'Masters', 'Bachelors', 'HS-grad', 'HS-grad', '9th', 'HS-grad', 'Some-college', 'HS-grad', 'HS-grad', 'Bachelors', 'Bachelors', 'HS-grad', 'Bachelors', '11th', 'Some-college', 'Assoc-voc', 'Some-college', 'HS-grad', 'Assoc-voc', 'HS-grad', 'Some-college', 'Some-college', 'Bachelors', 'Masters', 'Bachelors', 'Bachelors', '5th-6th', 'Bachelors', 'Bachelors', 'HS-grad', 'Masters', '9th', 'Bachelors', 'Some-college', 'Assoc-voc', 'Some-college', 'HS-grad', 'Bachelors', 'Bachelors', '11th', 'HS-grad', 'Some-college', 'Some-college', 'Bachelors', 'HS-grad', 'HS-grad', 'Some-college', 'Assoc-voc', 'HS-grad', 'HS-grad', '11th', 'Assoc-voc', '7th-8th', '7th-8th', 'Some-college', 'Some-college', 'HS-grad', 'Some-college', 'Some-college', '10th', 'Bachelors', 'Assoc-acdm', 'Some-college', 'Bachelors', 'Bachelors', 'Masters', 'Some-college', 'HS-grad', 'HS-grad', 'HS-grad', 'Masters', 'Bachelors', '11th', 'Some-college', 'Some-college', 'Bachelors', 'Bachelors', 'HS-grad', '1st-4th', 'Some-college', 'Some-college', 'HS-grad', 'Assoc-acdm', 'Masters', 'Bachelors', 'Some-college', 'Some-college', 'HS-grad', 'Assoc-acdm', 'Some-college', 'Assoc-voc', 'HS-grad', 'Some-college', 'Some-college', 'Masters', 'HS-grad', 'Some-college', 'HS-grad', 'Some-college', 'Assoc-voc', 'Some-college', 'Assoc-voc', 'Assoc-voc', 'Some-college', '5th-6th', 'HS-grad', 'Bachelors', 'HS-grad', 'Some-college', 'Some-college', 'HS-grad', 'Masters', 'Bachelors', 'Some-college', 'Bachelors', 'HS-grad', 'Bachelors', 'HS-grad', '10th', 'HS-grad', 'Bachelors', '11th', 'Some-college', 'HS-grad', 'HS-grad', 'HS-grad', 'HS-grad', 'Masters', 'HS-grad', '10th', 'HS-grad', 'Some-college', 'Bachelors', 'HS-grad', 'HS-grad', 'Doctorate', 'HS-grad', 'HS-grad', 'Bachelors', 'Some-college', 'HS-grad', '10th', 'Assoc-acdm', 'Bachelors', 'HS-grad', 'Some-college', 'HS-grad', 'HS-grad', '11th', 'Some-college', 'HS-grad', 'HS-grad', 'Masters', 'HS-grad', 'HS-grad', 'Some-college', 'Bachelors', 'Bachelors', 'HS-grad', 'Some-college', 'Some-college', 'Bachelors', 'HS-grad', 'HS-grad', 'Assoc-voc', 'HS-grad', 'HS-grad', 'Some-college', 'Some-college', 'HS-grad', 'Some-college', 'HS-grad', 'Some-college', 'HS-grad', 'Assoc-voc', 'HS-grad', 'Bachelors', 'HS-grad', 'Bachelors', 'Masters', 'HS-grad', 'Some-college', 'Bachelors', 'Some-college', 'HS-grad', '11th', 'HS-grad', 'HS-grad', '5th-6th', 'HS-grad', 'Bachelors', 'Some-college', 'Bachelors', 'HS-grad', 'Prof-school', 'Masters', 'Some-college', 'Some-college', 'HS-grad', 'HS-grad', 'HS-grad', 'Bachelors', 'Prof-school', '9th', 'Assoc-acdm', '9th', 'HS-grad', 'Assoc-acdm', 'Some-college', 'Bachelors', 'Some-college', 'Some-college', '10th', 'Doctorate', 'Bachelors', 'HS-grad', 'HS-grad', '12th', 'Some-college', 'HS-grad', 'HS-grad', 'HS-grad', 'HS-grad', 'HS-grad', 'Doctorate', 'Masters', 'Some-college', 'HS-grad', 'Doctorate', 'HS-grad', 'Bachelors', 'Some-college', 'Some-college', 'HS-grad', 'HS-grad', 'Assoc-acdm', 'Doctorate', 'Some-college', 'Bachelors', '5th-6th', 'Masters', 'HS-grad', 'Some-college', 'Bachelors', '7th-8th', 'Some-college', '9th', 'Some-college', 'Bachelors', 'HS-grad', 'Bachelors', 'Bachelors', 'Some-college', 'Assoc-voc', 'Bachelors', 'Some-college', 'Some-college', 'HS-grad', 'Bachelors', '11th', 'HS-grad', 'Assoc-acdm', 'HS-grad', 'Some-college', 'Some-college', 'Some-college', 'Bachelors', 'Some-college', '10th', 'HS-grad', '12th', 'HS-grad', 'Some-college', 'HS-grad', '9th', 'Doctorate', 'Some-college', 'Prof-school', 'HS-grad', 'HS-grad', 'Bachelors', 'Bachelors', 'Some-college', 'Assoc-acdm', 'HS-grad', 'HS-grad', 'HS-grad', 'Some-college', 'Some-college', 'Some-college', 'Bachelors', 'Assoc-voc', 'Bachelors', 'Some-college', 'Bachelors', 'Assoc-voc', '7th-8th', 'HS-grad', 'HS-grad', 'Some-college', 'HS-grad', 'HS-grad', '10th', 'Bachelors', 'Some-college', 'Some-college', 'HS-grad', 'Masters', '7th-8th', 'HS-grad', 'HS-grad', 'HS-grad', 'Bachelors', 'HS-grad', 'Bachelors', 'Bachelors', 'Bachelors', 'Bachelors', 'HS-grad', 'HS-grad', 'Prof-school', 'Bachelors', 'Masters', '5th-6th', 'HS-grad', 'HS-grad', 'Some-college', 'Bachelors', 'Bachelors', 'Bachelors', 'HS-grad', '10th', 'HS-grad', '10th', 'Bachelors', 'HS-grad', 'Masters', 'Masters', 'HS-grad', 'Some-college', 'Masters', 'HS-grad', 'HS-grad', 'HS-grad', 'HS-grad', '11th', 'Masters', 'HS-grad', 'Bachelors', 'HS-grad', 'Bachelors', 'Bachelors', 'Assoc-voc', 'HS-grad', 'Some-college', '7th-8th', 'Assoc-acdm', 'HS-grad', 'Some-college', '12th', 'Bachelors', 'HS-grad', 'Some-college', 'Masters', 'Some-college', 'Bachelors', 'Bachelors', 'Bachelors', 'Bachelors', 'HS-grad', '10th', 'Assoc-voc', 'Bachelors', 'Some-college', 'HS-grad', 'Masters', 'Some-college', 'HS-grad', 'Some-college', 'Bachelors', 'Bachelors', 'Bachelors', '12th', 'Assoc-voc', 'Masters', 'HS-grad', 'Bachelors', 'Some-college', 'Some-college', 'HS-grad', 'Bachelors', 'Some-college', 'HS-grad', '11th', 'HS-grad', 'Bachelors', 'Some-college', 'Some-college', 'Some-college', 'Prof-school', 'Assoc-acdm', 'Some-college', 'Some-college', 'HS-grad', 'Bachelors', 'Some-college', '9th', 'Bachelors', 'Some-college', 'Bachelors', 'HS-grad', '1st-4th', 'Bachelors', 'Bachelors', 'HS-grad', 'HS-grad', 'Some-college', '10th', 'HS-grad', 'Masters', '12th', 'Bachelors', 'HS-grad', 'Masters', 'Some-college', '7th-8th', 'HS-grad', 'Bachelors', 'Bachelors', 'Bachelors', 'Some-college', 'HS-grad', 'Some-college', 'HS-grad', 'HS-grad', 'Assoc-acdm', 'Bachelors', 'HS-grad', 'HS-grad', 'Some-college', 'HS-grad', 'HS-grad', '9th', 'Some-college', 'HS-grad', 'HS-grad', 'HS-grad', '11th', 'HS-grad', '5th-6th', 'Doctorate', 'Bachelors', '11th', '10th', 'Assoc-acdm', 'HS-grad', '11th', 'Assoc-voc', 'HS-grad', 'Bachelors', 'Bachelors', 'Assoc-acdm', '9th', 'Bachelors', 'HS-grad', 'Bachelors', 'Some-college', 'HS-grad', 'Some-college', 'Masters', 'Some-college', 'HS-grad', 'Bachelors', 'Assoc-voc', 'Bachelors', 'Assoc-voc', 'Bachelors', 'Assoc-voc', '5th-6th', 'Masters', 'Prof-school', 'Bachelors', 'Assoc-voc', 'Some-college', 'HS-grad', 'HS-grad', 'Bachelors', 'Some-college', '7th-8th', '10th', 'HS-grad', 'Prof-school', 'Bachelors', 'HS-grad', 'Assoc-voc', 'Bachelors', 'HS-grad', 'Some-college', 'Prof-school', 'Bachelors', 'Bachelors', '1st-4th', 'HS-grad', 'Masters', 'HS-grad', 'Some-college', 'HS-grad', 'Assoc-voc', 'Some-college', '5th-6th', 'HS-grad', 'HS-grad', 'HS-grad', 'Bachelors', '10th', 'Some-college', 'Some-college', 'Some-college', 'Assoc-acdm', 'HS-grad', 'Bachelors', 'HS-grad', '10th', 'HS-grad', 'HS-grad', 'Bachelors', '7th-8th', 'Assoc-acdm', '11th', 'Bachelors', 'Some-college', 'Assoc-voc', 'Bachelors', 'Bachelors', '11th', 'Some-college', 'Some-college', 'HS-grad', 'HS-grad', 'HS-grad', '12th', 'HS-grad', 'HS-grad', 'Masters', 'HS-grad', 'HS-grad', 'Masters', 'Some-college', 'Bachelors', 'Some-college', 'HS-grad', 'Bachelors', 'HS-grad', '7th-8th', 'Bachelors', 'HS-grad', 'Some-college', '10th', 'Some-college', 'Bachelors', 'HS-grad', '10th', '11th', '5th-6th', 'Assoc-voc', 'Some-college', 'HS-grad', 'Bachelors', '9th', '11th', 'HS-grad', 'Bachelors', 'Prof-school', 'Assoc-voc', 'HS-grad', 'Assoc-acdm', 'HS-grad', 'HS-grad', '10th', 'Bachelors', 'Assoc-voc', 'HS-grad', 'Some-college', 'Some-college', 'HS-grad', 'Assoc-voc', 'Some-college', 'Assoc-acdm', 'Some-college', 'HS-grad', '11th', 'Some-college', '7th-8th', 'Some-college', 'HS-grad', '11th', 'HS-grad', 'HS-grad', 'HS-grad', 'HS-grad', 'Some-college', 'Bachelors', 'Some-college', 'HS-grad', 'Masters', '10th', 'Bachelors', 'Bachelors', 'HS-grad', '12th', 'HS-grad', '7th-8th', 'HS-grad', 'HS-grad', 'HS-grad', 'Bachelors', '11th', 'HS-grad', 'Masters', 'Some-college', 'Bachelors', '5th-6th', 'Masters', 'HS-grad', 'Prof-school', 'Some-college', 'HS-grad', 'HS-grad', 'Some-college', 'HS-grad', 'HS-grad', 'HS-grad', 'HS-grad', '11th', 'HS-grad', 'HS-grad', '11th', 'Assoc-acdm', '10th', 'HS-grad', 'Some-college', 'Some-college', 'HS-grad', 'Some-college', 'Bachelors', 'HS-grad', 'Some-college', 'HS-grad', 'Doctorate', 'Some-college', '12th', 'HS-grad', 'Bachelors', '10th', 'HS-grad', 'Some-college', 'Assoc-acdm', '10th', 'HS-grad', 'Some-college', 'Some-college', 'Some-college', 'HS-grad', 'HS-grad', 'Some-college', 'Assoc-acdm', '11th', '7th-8th', '10th', 'HS-grad', '5th-6th', '10th', '7th-8th', 'HS-grad', '11th', 'HS-grad', 'Bachelors', '9th', 'Some-college', 'HS-grad', '12th', 'Bachelors', 'Bachelors', 'HS-grad', 'Prof-school', 'HS-grad', 'HS-grad', 'Assoc-voc', 'HS-grad', '7th-8th', 'Some-college', 'Bachelors', 'Some-college', 'HS-grad', '9th', 'Bachelors', 'HS-grad', 'HS-grad', 'Assoc-acdm', 'Some-college', 'Masters', 'HS-grad', '10th', 'HS-grad', 'Masters', '12th', 'HS-grad', 'HS-grad', 'HS-grad', 'Assoc-acdm', 'Doctorate', 'Some-college', 'Some-college', 'HS-grad', 'Some-college', 'HS-grad', 'Some-college', 'Some-college', 'Masters', 'Bachelors', 'Assoc-voc', 'HS-grad', 'Some-college', 'Some-college', 'Bachelors', '11th', 'Assoc-voc', 'Masters', 'Some-college', '10th', 'HS-grad', 'Assoc-acdm', 'HS-grad', '11th', '10th', 'HS-grad', 'Masters', 'Assoc-acdm', 'Bachelors', 'HS-grad', 'Some-college', 'Masters', 'Some-college', 'Some-college', 'Some-college', 'HS-grad', 'HS-grad', 'Some-college', 'Some-college', '10th', 'Some-college', 'HS-grad', 'Assoc-voc', '11th', 'Doctorate', 'HS-grad', 'Assoc-voc', 'HS-grad', 'Bachelors', 'Some-college', 'Bachelors', 'Some-college', 'HS-grad', '5th-6th', 'Some-college', 'HS-grad', 'Bachelors', 'HS-grad', 'HS-grad', 'Masters', 'Some-college', '5th-6th', 'Some-college', 'Some-college', 'HS-grad', 'Masters', 'Some-college', 'Masters', 'HS-grad', 'Some-college', 'Bachelors', 'Bachelors', 'Some-college', 'Some-college', 'Bachelors', 'Masters', 'Some-college', '11th', 'HS-grad', 'Some-college', 'Some-college', '11th', 'Some-college', 'Some-college', 'Assoc-acdm', 'Bachelors', 'Bachelors', 'HS-grad', 'HS-grad', 'Some-college', 'HS-grad', 'Some-college', 'HS-grad', 'HS-grad', 'Bachelors', '7th-8th', 'HS-grad', 'Some-college', 'Some-college', '12th', 'Some-college', 'HS-grad', 'Some-college', 'Some-college', 'Some-college', 'Some-college', 'HS-grad', 'HS-grad', 'HS-grad', 'Masters', '11th', 'HS-grad', 'Some-college', 'HS-grad', 'Some-college', '11th', 'HS-grad', 'Bachelors', 'HS-grad', 'Assoc-voc', 'HS-grad', '11th', 'HS-grad', 'Masters', 'HS-grad', 'HS-grad', 'Bachelors', 'HS-grad', 'Bachelors', 'HS-grad', '1st-4th', '9th', 'Some-college', 'Some-college', 'Some-college', 'HS-grad', '5th-6th', 'HS-grad', 'Bachelors', 'Some-college', 'Bachelors', 'HS-grad', '11th', 'Bachelors', 'Some-college', 'Masters', 'HS-grad', 'HS-grad', '5th-6th', 'Some-college', 'Masters', 'Some-college', 'Prof-school', 'HS-grad', 'Assoc-voc', 'HS-grad', 'HS-grad', 'HS-grad', 'HS-grad', 'Doctorate', '10th', '1st-4th', 'HS-grad', 'HS-grad', 'HS-grad', 'Bachelors', 'Bachelors', 'Some-college', 'HS-grad', 'Doctorate', 'Some-college', 'Some-college', 'Bachelors', '11th', 'Some-college', 'HS-grad', 'HS-grad', 'Masters', 'Masters', 'Bachelors', 'Bachelors', 'Some-college', 'Bachelors', 'Some-college', 'Some-college', 'HS-grad', 'HS-grad', 'Bachelors', 'Bachelors', 'Masters', 'Bachelors', 'HS-grad', 'HS-grad', 'HS-grad', '5th-6th', 'Some-college', 'Some-college', 'Masters', 'HS-grad', 'Some-college', 'Some-college', 'HS-grad', 'Prof-school', 'HS-grad', 'HS-grad', 'Bachelors', 'HS-grad', 'HS-grad', 'HS-grad', 'Some-college', 'Some-college', 'Some-college', 'Bachelors', 'HS-grad', 'HS-grad', 'HS-grad', 'Some-college', 'Some-college', 'Bachelors', '12th', 'Bachelors', '12th', '11th', 'Bachelors', 'Bachelors', 'HS-grad', 'Assoc-voc', 'Assoc-acdm', 'Bachelors', 'Some-college', 'HS-grad', 'HS-grad', 'Some-college', 'Bachelors', 'Some-college', 'Some-college', 'HS-grad', 'Some-college', 'Bachelors', 'HS-grad', 'HS-grad', 'Bachelors', '9th', 'HS-grad', 'HS-grad', 'HS-grad', 'HS-grad', 'HS-grad', 'HS-grad', '5th-6th', 'Bachelors', 'Bachelors', 'Some-college', 'Bachelors', '11th', 'Bachelors', 'HS-grad', '7th-8th', 'Bachelors', 'HS-grad', 'Bachelors', '11th', 'HS-grad', 'HS-grad', 'Bachelors', 'Some-college', 'Bachelors', 'Bachelors', 'HS-grad', 'HS-grad', 'HS-grad', 'Masters', 'HS-grad', 'Bachelors', 'HS-grad', 'Some-college', 'Some-college', 'Some-college', 'Some-college', '10th', 'HS-grad', 'Bachelors', 'Some-college', 'Bachelors', 'Some-college', 'Some-college', 'Bachelors', 'Some-college', 'Some-college', 'Some-college', '10th', 'Bachelors', 'HS-grad', '9th', 'HS-grad', 'HS-grad', 'Some-college', 'HS-grad', 'HS-grad', 'Bachelors', 'HS-grad', 'Assoc-acdm', 'Some-college', 'Some-college', 'Assoc-voc', 'Bachelors', 'Assoc-voc', 'HS-grad', 'Bachelors', 'Some-college', 'HS-grad', 'Bachelors', 'Prof-school', 'HS-grad', 'HS-grad', 'HS-grad', 'HS-grad', 'Some-college', 'HS-grad', 'Some-college', '5th-6th', 'Bachelors', 'Some-college', 'HS-grad', 'Assoc-voc', 'HS-grad', 'Prof-school', 'Some-college', 'Bachelors', 'Bachelors', 'HS-grad', '7th-8th', 'Some-college', 'HS-grad', 'Some-college', 'Some-college', '5th-6th', 'HS-grad', 'Some-college', 'HS-grad', 'HS-grad', 'Some-college', 'HS-grad', 'Assoc-acdm', 'HS-grad', 'Some-college', 'HS-grad', 'HS-grad', 'Doctorate', 'Masters', 'Assoc-voc', 'Some-college', 'HS-grad', 'Some-college', 'HS-grad', 'HS-grad', 'Bachelors', 'Some-college', 'Masters', 'Some-college', 'Bachelors', 'Assoc-acdm', 'HS-grad', 'Assoc-voc', 'HS-grad', 'Assoc-acdm', 'Some-college', '7th-8th', 'HS-grad', 'Some-college', 'Masters', 'HS-grad', 'Doctorate', 'Some-college', 'HS-grad', 'Some-college', 'Some-college', 'Some-college', 'Bachelors', 'Assoc-voc', 'Bachelors', 'HS-grad', 'Assoc-acdm', 'HS-grad', 'HS-grad', 'Some-college', 'HS-grad', 'HS-grad', 'Assoc-voc', 'Some-college', 'HS-grad', 'Bachelors', 'HS-grad', 'HS-grad', 'HS-grad', 'Bachelors', '10th', 'Bachelors', 'Bachelors', 'Assoc-acdm', 'HS-grad', 'HS-grad', 'Assoc-voc', 'HS-grad', 'Bachelors', '11th', 'Some-college', 'Assoc-acdm', 'HS-grad', 'Some-college', 'HS-grad', 'Bachelors', 'Bachelors', 'HS-grad', 'Assoc-voc', 'Doctorate', 'HS-grad', 'HS-grad', 'Assoc-acdm', 'HS-grad', '11th', 'Some-college', '10th', 'Assoc-voc', 'HS-grad', 'HS-grad', 'Some-college', 'Some-college', 'HS-grad', '10th', 'Bachelors', 'HS-grad', 'HS-grad', 'HS-grad', 'HS-grad', 'HS-grad', 'HS-grad', 'Assoc-acdm', 'HS-grad', '11th', '7th-8th', 'Some-college', 'HS-grad', 'Bachelors', 'HS-grad', 'Some-college', 'HS-grad', 'Bachelors', 'HS-grad', 'HS-grad', 'HS-grad', 'Some-college', 'Assoc-acdm', 'Masters', 'Some-college', '11th', 'Bachelors', 'Masters', 'HS-grad', 'HS-grad', 'Bachelors', '7th-8th', 'HS-grad', 'Some-college', 'Assoc-acdm', 'HS-grad', 'HS-grad', 'Some-college', 'Assoc-acdm', 'Bachelors', 'Some-college', 'Bachelors', 'Assoc-voc', 'HS-grad', 'Some-college', 'HS-grad', 'HS-grad', 'HS-grad', 'HS-grad', 'Some-college', 'Assoc-acdm', 'HS-grad', 'Some-college', 'HS-grad', 'Bachelors', 'Bachelors', 'HS-grad', 'Some-college', 'Some-college', 'Some-college', 'Prof-school', 'Some-college', 'HS-grad', 'Preschool', '10th', 'Bachelors', '10th', 'HS-grad', 'Some-college', 'Bachelors', 'Assoc-voc', 'Assoc-acdm', 'Some-college', 'Bachelors', 'Some-college', 'HS-grad', 'Some-college', 'Some-college', 'HS-grad', 'Some-college', 'Some-college', 'Some-college', 'HS-grad', 'HS-grad', 'Some-college', 'Some-college', 'HS-grad', 'Bachelors', 'Assoc-acdm', 'Some-college', 'Bachelors', 'Some-college', 'HS-grad', 'HS-grad', 'Some-college', 'Some-college', 'Some-college', 'Bachelors', 'Bachelors', 'Bachelors', 'Bachelors', 'HS-grad', 'HS-grad', 'Assoc-voc', 'Some-college', 'HS-grad', 'HS-grad', '11th', 'Some-college', 'HS-grad', 'Some-college', 'HS-grad', 'Some-college', 'Assoc-voc', '10th', 'HS-grad', 'Masters', '5th-6th', 'Assoc-acdm', 'HS-grad', 'HS-grad', 'HS-grad', 'Bachelors', 'Assoc-voc', 'Assoc-voc', 'Assoc-voc', 'HS-grad', 'Some-college', 'Some-college', 'HS-grad', 'HS-grad', 'Some-college', 'HS-grad', 'Some-college', '11th', 'Assoc-voc', 'Bachelors', 'Assoc-acdm', 'HS-grad', 'Some-college', 'HS-grad', 'Some-college', 'HS-grad', 'Masters', 'Some-college', 'Bachelors', 'Some-college', 'HS-grad', 'Assoc-voc', 'Some-college', '1st-4th', 'Bachelors', 'HS-grad', 'Some-college', 'Bachelors', 'Doctorate', 'HS-grad', 'HS-grad', 'HS-grad', 'HS-grad', 'Masters', 'Bachelors', 'Some-college', 'HS-grad', 'Bachelors', 'Some-college', 'Assoc-acdm', 'HS-grad', '12th', 'Assoc-voc', 'HS-grad', 'Bachelors', 'Assoc-acdm', 'Bachelors', '11th', 'Some-college', 'Bachelors', 'Bachelors', '7th-8th', 'Bachelors', 'HS-grad', '1st-4th', 'HS-grad', '7th-8th', 'Assoc-acdm', 'Some-college', 'HS-grad', 'Bachelors', 'Some-college', 'HS-grad', 'Some-college', 'HS-grad', 'Assoc-acdm', 'HS-grad', 'Assoc-acdm', 'HS-grad', 'Bachelors', 'Some-college', 'HS-grad', 'HS-grad', 'Prof-school', 'Bachelors', '12th', 'HS-grad', 'Some-college', 'HS-grad', 'HS-grad', 'HS-grad', 'Assoc-acdm', 'Some-college', 'Some-college', '7th-8th', 'Some-college', 'HS-grad', '12th', 'Some-college', 'Bachelors', 'HS-grad', 'HS-grad', 'Preschool', 'Doctorate', 'HS-grad', 'Some-college', 'Assoc-voc', 'Bachelors', '7th-8th', 'Assoc-voc', 'Bachelors', '11th', 'Bachelors', 'Assoc-acdm', '7th-8th', 'Some-college', 'HS-grad', 'Some-college', 'Some-college', 'Bachelors', 'Prof-school', '10th', 'HS-grad', 'Bachelors', 'HS-grad', '7th-8th', 'Some-college', 'Assoc-voc', 'Some-college', 'Bachelors', 'Assoc-acdm', '9th', 'Masters', 'HS-grad', 'Bachelors', '1st-4th', 'HS-grad', 'Some-college', 'Bachelors', 'HS-grad', 'HS-grad', 'Masters', '11th', 'HS-grad', 'HS-grad', 'Bachelors', 'HS-grad', 'Some-college', 'HS-grad', 'Assoc-acdm', 'HS-grad', 'Some-college', 'Some-college', 'Bachelors', 'Masters', 'Assoc-acdm', 'Assoc-acdm', 'Doctorate', 'Some-college', 'HS-grad', 'Some-college', '10th', 'Some-college', 'Bachelors', 'HS-grad', '11th', 'Assoc-acdm', 'Some-college', 'HS-grad', 'Some-college', 'Bachelors', 'HS-grad', 'Some-college', 'Some-college', 'HS-grad', 'HS-grad', 'HS-grad', 'HS-grad', 'Bachelors', 'HS-grad', 'Masters', 'Assoc-voc', 'Assoc-acdm', 'Some-college', '9th', 'Some-college', 'Assoc-voc', '11th', 'Some-college', 'Assoc-acdm', 'HS-grad', 'Some-college', 'HS-grad', 'HS-grad', 'Bachelors', 'Assoc-acdm', 'Masters', 'HS-grad', 'HS-grad', '9th', 'Bachelors', 'Assoc-acdm', 'HS-grad', 'Some-college', 'Some-college', 'Doctorate', 'Some-college', '10th', 'Some-college', 'Bachelors', 'Some-college', 'Bachelors', 'HS-grad', 'Some-college', 'HS-grad', 'Masters', 'Bachelors', 'HS-grad', '11th', 'HS-grad', 'HS-grad', '10th', 'Assoc-acdm', '11th', 'Some-college', 'Some-college', 'HS-grad', 'HS-grad', 'Assoc-voc', 'HS-grad', '9th', 'Masters', '12th', 'Some-college', 'Some-college', 'Assoc-acdm', 'HS-grad', '10th', 'Assoc-acdm', 'Bachelors', 'HS-grad', 'HS-grad', 'Some-college', 'Bachelors', 'HS-grad', '10th', 'Assoc-voc', 'Some-college', 'Masters', 'Assoc-voc', 'HS-grad', 'HS-grad', 'HS-grad', 'Bachelors', 'HS-grad', 'Bachelors', 'Bachelors', 'HS-grad', 'Bachelors', 'HS-grad', 'HS-grad', 'Assoc-acdm', '10th', 'HS-grad', 'Bachelors', 'Assoc-voc', 'Bachelors', 'Assoc-voc', '12th', 'HS-grad', 'Some-college', 'Some-college', 'HS-grad', '9th', '7th-8th', 'HS-grad', 'Bachelors', 'Assoc-voc', 'Bachelors', 'Some-college', 'HS-grad', 'Some-college', 'Some-college', 'Bachelors', 'HS-grad', 'Some-college', 'Bachelors', 'Masters', 'Some-college', 'Some-college', 'Some-college', 'Some-college', 'HS-grad', 'Some-college', 'Masters', 'HS-grad', 'HS-grad', 'Prof-school', 'Bachelors', 'Bachelors', 'Bachelors', 'HS-grad', 'HS-grad', 'Some-college', 'Some-college', 'HS-grad', '11th', 'HS-grad', 'HS-grad', 'Some-college', 'HS-grad', 'HS-grad', 'Bachelors', 'Bachelors', 'Bachelors', 'HS-grad', '5th-6th', 'Some-college', 'Assoc-acdm', 'Some-college', 'HS-grad', 'Bachelors', 'Assoc-voc', 'HS-grad', 'Some-college', 'Some-college', 'Bachelors', 'Bachelors', 'Bachelors', 'Bachelors', 'HS-grad', 'Bachelors', 'HS-grad', 'Some-college', 'HS-grad', 'Some-college', 'Some-college', 'Assoc-acdm', 'Assoc-acdm', 'Bachelors', 'Masters', 'Bachelors', 'Some-college', '10th', 'Some-college', '11th', 'HS-grad', 'HS-grad', 'HS-grad', '11th', 'Masters', 'Bachelors', 'Some-college', 'Bachelors', 'HS-grad', 'Bachelors', 'Masters', 'HS-grad', 'Assoc-voc', 'HS-grad', 'Bachelors', 'HS-grad', 'Some-college', 'Masters', 'HS-grad', 'HS-grad', 'HS-grad', 'Some-college', 'Some-college', 'HS-grad', 'Some-college', 'Preschool', 'HS-grad', 'HS-grad', 'Some-college', 'Bachelors', 'HS-grad', 'Bachelors', 'Assoc-acdm', '10th', 'Some-college', '7th-8th', 'Assoc-voc', 'HS-grad', '10th', 'HS-grad', '11th', 'Bachelors', 'Bachelors', 'HS-grad', 'Prof-school', 'HS-grad', 'HS-grad', 'Some-college', 'HS-grad', 'Prof-school', 'HS-grad', 'Assoc-voc', 'HS-grad', 'HS-grad', 'HS-grad', 'Masters', 'Some-college', 'Some-college', 'HS-grad', '7th-8th', 'HS-grad', 'Assoc-acdm', 'Bachelors', 'Bachelors', 'HS-grad', 'HS-grad', 'Bachelors', 'Assoc-voc', 'HS-grad', 'Some-college', 'HS-grad', 'Assoc-acdm', 'HS-grad', 'Masters', 'Some-college', 'Some-college', 'Some-college', 'Bachelors', 'HS-grad', 'Some-college', 'HS-grad', 'Bachelors', 'HS-grad', 'Some-college', 'Bachelors', 'Bachelors', 'Some-college', 'Some-college', '10th', 'HS-grad', 'HS-grad', 'Bachelors', 'Masters', 'Bachelors', 'HS-grad', 'HS-grad', '7th-8th', 'Some-college', 'HS-grad', 'Assoc-acdm', 'Bachelors', '12th', 'Masters', 'HS-grad', '9th', 'Some-college', 'HS-grad', 'Some-college', 'HS-grad', 'HS-grad', 'Prof-school', 'Bachelors', 'HS-grad', 'HS-grad', 'HS-grad', 'HS-grad', 'HS-grad', 'HS-grad', '9th', 'Bachelors', 'Some-college', 'Assoc-voc', '10th', 'Masters', 'Bachelors', 'Some-college', 'HS-grad', 'Prof-school', 'HS-grad', 'HS-grad', 'HS-grad', '7th-8th', 'HS-grad', 'Bachelors', '11th', 'Bachelors', 'Some-college', 'HS-grad', 'HS-grad', 'Some-college', 'Masters', 'Bachelors', 'Bachelors', 'HS-grad', 'Bachelors', 'Some-college', 'HS-grad', 'HS-grad', 'Masters', '11th', '7th-8th', 'Bachelors', 'Bachelors', 'HS-grad', 'Some-college', '9th', 'Some-college', 'Bachelors', 'HS-grad', 'HS-grad', 'Some-college', 'Some-college', '7th-8th', 'Assoc-voc', 'Some-college', 'Some-college', 'Bachelors', 'HS-grad', 'HS-grad', 'HS-grad', 'Bachelors', 'Bachelors', '11th', 'HS-grad', 'Bachelors', 'Some-college', 'HS-grad', '12th', 'HS-grad', '11th', 'HS-grad', '7th-8th', 'Assoc-acdm', '10th', 'Bachelors', 'Bachelors', 'Some-college', 'HS-grad', '12th', 'Some-college', 'HS-grad', 'Masters', '10th', 'Assoc-voc', 'HS-grad', 'Some-college', 'HS-grad', 'Prof-school', 'HS-grad', 'Some-college', 'Some-college', 'Bachelors', 'Bachelors', 'Assoc-voc', 'HS-grad', 'Bachelors', 'Some-college', 'Prof-school', 'HS-grad', 'Some-college', 'Bachelors', 'Bachelors', '7th-8th', 'HS-grad', 'HS-grad', 'HS-grad', 'HS-grad', 'Masters', 'HS-grad', 'Masters', 'Bachelors', 'HS-grad', 'Bachelors', 'Some-college', '7th-8th', 'Assoc-voc', 'Assoc-voc', 'Some-college', 'Bachelors', '11th', 'HS-grad', 'HS-grad', 'Some-college', 'Some-college', 'Some-college', '11th', 'Assoc-voc', 'Some-college', '9th', 'Some-college', 'Some-college', '12th', 'Bachelors', '7th-8th', 'Bachelors', 'Assoc-acdm', '11th', 'Some-college', 'HS-grad', '9th', 'Doctorate', 'Some-college', 'Some-college', 'Masters', 'Bachelors', 'Doctorate', 'Masters', 'HS-grad', '1st-4th', 'HS-grad', 'Assoc-acdm', 'Masters', 'HS-grad', 'Prof-school', '1st-4th', 'Bachelors', 'Some-college', 'Some-college', 'Some-college', 'Assoc-voc', 'Bachelors', 'Some-college', 'HS-grad', 'Bachelors', 'Bachelors', 'Bachelors', 'HS-grad', '10th', 'Assoc-acdm', '5th-6th', 'Bachelors', 'HS-grad', 'HS-grad', 'HS-grad', 'Masters', 'Assoc-voc', 'Bachelors', '10th', 'HS-grad', 'Masters', 'HS-grad', 'Some-college', 'HS-grad', 'Assoc-acdm', 'Assoc-acdm', '12th', 'Bachelors', 'Bachelors', 'HS-grad', 'HS-grad', 'Some-college', 'HS-grad', 'Bachelors', 'Masters', 'Bachelors', 'HS-grad', 'Prof-school', 'Some-college', 'HS-grad', 'HS-grad', '11th', 'Assoc-acdm', '9th', 'Some-college', 'HS-grad', 'HS-grad', 'Bachelors', 'Assoc-voc', 'HS-grad', '11th', 'Some-college', '10th', 'HS-grad', 'HS-grad', 'HS-grad', 'Some-college', 'HS-grad', 'Bachelors', 'Some-college', 'HS-grad', 'Prof-school', '9th', 'HS-grad', 'Some-college', 'HS-grad', 'Masters', 'Bachelors', 'Some-college', 'HS-grad', 'Some-college', 'Some-college', 'Some-college', 'HS-grad', 'Bachelors', 'Bachelors', 'Some-college', 'HS-grad', 'HS-grad', 'Masters', 'Bachelors', 'Bachelors', '10th', 'Some-college', 'Some-college', 'Assoc-voc', 'Some-college', 'HS-grad', 'HS-grad', 'Masters', '11th', 'Bachelors', 'Some-college', 'HS-grad', 'Assoc-acdm', 'Bachelors', 'Some-college', 'Some-college', 'Doctorate', 'HS-grad', 'HS-grad', 'Masters', 'HS-grad', '11th', 'HS-grad', 'HS-grad', 'Some-college', 'HS-grad', 'Bachelors', 'Some-college', 'Bachelors', '5th-6th', 'Some-college', '11th', '5th-6th', 'Masters', 'Some-college', 'Some-college', 'Some-college', 'HS-grad', 'HS-grad', 'Bachelors', 'Masters', 'HS-grad', 'HS-grad', 'Some-college', 'HS-grad', 'HS-grad', 'Some-college', 'Some-college', 'HS-grad', 'HS-grad', 'Assoc-voc', 'HS-grad', 'Bachelors', 'Some-college', 'Some-college', 'Bachelors', 'HS-grad', 'HS-grad', 'HS-grad', 'Masters', 'Some-college', 'Masters', 'Masters', 'Some-college', 'Assoc-acdm', 'Bachelors', 'HS-grad', '10th', 'HS-grad', 'HS-grad', 'Assoc-voc', '10th', '11th', 'Assoc-voc', 'Bachelors', 'HS-grad', 'HS-grad', 'HS-grad', 'Bachelors', 'Some-college', '11th', 'Bachelors', 'HS-grad', 'Some-college', 'Some-college', 'Bachelors', 'Bachelors', 'HS-grad', 'Bachelors', 'HS-grad', 'Assoc-voc', 'Some-college', 'Bachelors', 'Assoc-acdm', 'HS-grad', 'Some-college', '11th', 'Bachelors', 'HS-grad', 'Some-college', 'HS-grad', 'Some-college', 'Bachelors', 'Assoc-voc', 'Bachelors', '11th', 'Doctorate', 'Doctorate', 'Some-college', 'HS-grad', 'HS-grad', 'Bachelors', 'Prof-school', 'Some-college', 'Prof-school', '12th', 'HS-grad', 'Assoc-acdm', 'Bachelors', 'Some-college', 'Some-college', 'HS-grad', 'HS-grad', 'HS-grad', 'Bachelors', 'Masters', 'Some-college', 'Masters', 'Assoc-voc', '10th', 'Masters', 'Some-college', 'HS-grad', 'HS-grad', 'HS-grad', 'Bachelors', 'HS-grad', 'HS-grad', 'HS-grad', 'HS-grad', 'Assoc-acdm', 'Some-college', 'Assoc-acdm', 'Bachelors', 'Assoc-voc', 'Bachelors', 'Masters', '7th-8th', 'HS-grad', 'Some-college', 'HS-grad', 'Bachelors', 'Some-college', 'Bachelors', 'Some-college', 'Bachelors', 'Some-college', 'HS-grad', 'HS-grad', '9th', 'Some-college', 'Bachelors', 'Bachelors', 'Bachelors', '7th-8th', 'Some-college', '11th', 'Some-college', 'Bachelors', 'Bachelors', '11th', 'Assoc-voc', 'Some-college', 'Doctorate', 'HS-grad', 'Assoc-voc', 'HS-grad', 'Some-college', 'Some-college', 'HS-grad', 'HS-grad', 'Some-college', 'Masters', 'HS-grad', 'Some-college', '12th', '9th', 'HS-grad', 'Prof-school', '10th', 'Some-college', '12th', 'Bachelors', 'Assoc-acdm', 'Bachelors', 'Assoc-voc', 'HS-grad', 'Masters', 'HS-grad', 'Some-college', 'Masters', 'Some-college', 'Some-college', 'HS-grad', 'Bachelors', 'Some-college', 'Some-college', 'HS-grad', 'Masters', 'HS-grad', 'Some-college', 'HS-grad', 'Masters', 'HS-grad', '10th', '5th-6th', 'HS-grad', '7th-8th', 'Prof-school', 'Bachelors', 'HS-grad', '1st-4th', 'HS-grad', 'Assoc-voc', 'Some-college', '12th', '11th', 'Masters', 'Assoc-voc', '12th', 'Some-college', 'HS-grad', '12th', 'Some-college', 'Bachelors', 'HS-grad', 'HS-grad', 'Assoc-acdm', 'HS-grad', 'Bachelors', '11th', 'Assoc-acdm', 'Some-college', 'Some-college', 'Bachelors', 'HS-grad', 'Some-college', 'HS-grad', 'HS-grad', 'Assoc-acdm', 'Some-college', '7th-8th', '7th-8th', 'HS-grad', 'HS-grad', 'Some-college', 'Masters', 'Assoc-voc', 'Some-college', 'Bachelors', 'Assoc-acdm', 'Some-college', '11th', 'Some-college', 'HS-grad', 'HS-grad', 'Some-college', 'Bachelors', '12th', 'HS-grad', 'HS-grad', 'Assoc-acdm', 'HS-grad', 'Bachelors', '10th', 'HS-grad', '12th', 'HS-grad', '9th', 'Assoc-voc', 'HS-grad', 'HS-grad', 'Masters', 'Assoc-voc', 'Masters', 'HS-grad', 'Some-college', 'HS-grad', 'Some-college', 'HS-grad', 'Doctorate', 'Some-college', 'HS-grad', 'Masters', 'Some-college', 'HS-grad', '11th', 'Assoc-voc', 'Assoc-acdm', 'HS-grad', 'Some-college', 'HS-grad', '7th-8th', '10th', '5th-6th', 'Some-college', 'Bachelors', '7th-8th', 'HS-grad', 'HS-grad', 'Masters', 'Some-college', 'Bachelors', 'Some-college', '11th', 'Bachelors', 'Masters', 'HS-grad', 'HS-grad', 'HS-grad', 'HS-grad', 'Some-college', 'Some-college', 'Some-college', 'HS-grad', 'HS-grad', 'Some-college', 'HS-grad', 'Bachelors', 'HS-grad', 'HS-grad', '12th', 'HS-grad', '11th', 'Bachelors', 'Some-college', 'Bachelors', 'HS-grad', 'Some-college', 'Bachelors', 'HS-grad', 'HS-grad', 'HS-grad', 'Bachelors', 'HS-grad', 'Prof-school', 'Assoc-voc', 'Some-college', 'Some-college', 'Masters', 'Masters', 'Bachelors', '10th', 'Assoc-voc', 'Assoc-acdm', 'HS-grad', 'HS-grad', 'Some-college', 'Some-college', 'HS-grad', 'HS-grad', 'Bachelors', 'HS-grad', 'Bachelors', 'HS-grad', '9th', 'Some-college', 'Bachelors', 'Bachelors', 'Prof-school', 'Some-college', 'Masters', 'Masters', 'HS-grad', 'Assoc-acdm', 'HS-grad', '7th-8th', 'Bachelors', 'Some-college', 'HS-grad', 'HS-grad', 'Some-college', 'Some-college', 'Some-college', 'HS-grad', 'HS-grad', 'Masters', 'Masters', 'Some-college', 'Some-college', '10th', 'Some-college', '12th', 'HS-grad', 'HS-grad', 'Bachelors', 'Some-college', 'HS-grad', 'HS-grad', '10th', 'HS-grad', 'HS-grad', 'Some-college', '10th', 'Bachelors', 'Bachelors', '7th-8th', 'Some-college', 'Assoc-acdm', 'Some-college', 'HS-grad', 'HS-grad', '12th', '7th-8th', 'Masters', 'Some-college', 'Some-college', 'HS-grad', 'Bachelors', 'Some-college', 'Bachelors', 'Prof-school', 'HS-grad', '10th', 'Some-college', 'Some-college', 'HS-grad', 'Masters', '9th', 'Bachelors', 'Some-college', 'HS-grad', 'HS-grad', 'HS-grad', 'Some-college', 'HS-grad', 'Some-college', 'Assoc-voc', 'HS-grad', 'Bachelors', 'Assoc-voc', 'Some-college', 'Assoc-acdm', 'Assoc-acdm', '10th', 'HS-grad', 'HS-grad', 'HS-grad', 'Bachelors', '10th', 'Some-college', 'Preschool', 'HS-grad', 'Assoc-voc', 'Bachelors', 'Some-college', '7th-8th', 'Some-college', 'Assoc-voc', 'Bachelors', 'Bachelors', 'HS-grad', 'Some-college', '11th', 'Bachelors', '11th', 'HS-grad', 'Some-college', 'Bachelors', 'Bachelors', 'HS-grad', 'Some-college', 'HS-grad', 'Some-college', 'Some-college', 'Some-college', 'Bachelors', 'Some-college', 'Assoc-voc', 'Assoc-voc', 'HS-grad', 'Bachelors', 'Bachelors', 'HS-grad', 'Some-college', 'HS-grad', 'Some-college', 'Bachelors', '11th', 'Prof-school', '10th', 'Some-college', 'HS-grad', 'HS-grad', 'Some-college', 'HS-grad', 'Bachelors', 'HS-grad', 'Some-college', 'Some-college', 'Bachelors', 'Some-college', 'Some-college', 'HS-grad', 'Some-college', '9th', 'HS-grad', 'Some-college', 'Assoc-acdm', 'Assoc-acdm', 'HS-grad', 'Doctorate', 'Bachelors', 'Bachelors', 'Doctorate', 'HS-grad', 'Bachelors', 'Bachelors', 'Some-college', 'Bachelors', 'Bachelors', 'Some-college', '12th', 'Assoc-voc', 'HS-grad', 'Prof-school', 'Some-college', 'Assoc-voc', 'Doctorate', 'Bachelors', 'Assoc-voc', 'Bachelors', 'HS-grad', 'Bachelors', 'Assoc-acdm', 'Some-college', 'HS-grad', 'HS-grad', 'Some-college', 'Bachelors', 'Bachelors', 'Assoc-acdm', 'HS-grad', 'Masters', '7th-8th', 'HS-grad', 'HS-grad', 'Masters', 'Some-college', '9th', 'HS-grad', 'Some-college', 'HS-grad', 'HS-grad', 'Some-college', 'Some-college', 'Some-college', 'Bachelors', 'HS-grad', 'Some-college', 'Masters', 'HS-grad', 'Some-college', '11th', 'Assoc-voc', 'Assoc-acdm', '9th', 'HS-grad', '9th', 'Some-college', 'Bachelors', 'Assoc-voc', '11th', 'HS-grad', 'Assoc-voc', 'Some-college', 'Bachelors', 'Some-college', 'HS-grad', 'Some-college', 'HS-grad', '9th', 'Bachelors', '9th', 'Some-college', 'Bachelors', 'Bachelors', 'Some-college', '5th-6th', 'Some-college', 'Bachelors', 'Some-college', 'Masters', 'HS-grad', 'Some-college', 'Some-college', 'Bachelors', 'HS-grad', 'Bachelors', 'Bachelors', 'Some-college', 'HS-grad', 'HS-grad', 'HS-grad', 'HS-grad', 'HS-grad', '7th-8th', 'Bachelors', 'Some-college', 'HS-grad', 'Some-college', '10th', 'Some-college', 'Bachelors', 'Bachelors', 'Assoc-voc', 'HS-grad', 'HS-grad', 'Bachelors', '11th', 'Bachelors', '11th', 'Some-college', 'HS-grad', 'Some-college', '12th', 'HS-grad', 'Bachelors', 'Bachelors', 'HS-grad', 'Bachelors', 'Some-college', 'HS-grad', 'Some-college', 'Bachelors', 'HS-grad', 'Some-college', 'Some-college', 'HS-grad', 'HS-grad', 'HS-grad', 'HS-grad', 'HS-grad', 'Bachelors', 'HS-grad', 'Assoc-acdm', 'Prof-school', '12th', 'HS-grad', 'Some-college', 'Doctorate', 'Some-college', 'Bachelors', 'HS-grad', 'Assoc-voc', 'Some-college', 'Assoc-acdm', 'Assoc-voc', 'Some-college', 'HS-grad', 'Some-college', 'Bachelors', 'Bachelors', 'Some-college', 'Masters', 'Bachelors', 'HS-grad', 'HS-grad', '9th', 'HS-grad', 'Some-college', 'HS-grad', 'Masters', 'Assoc-voc', 'Assoc-voc', 'Prof-school', 'HS-grad', 'Assoc-voc', 'HS-grad', 'Masters', 'Some-college', 'HS-grad', 'HS-grad', 'HS-grad', 'HS-grad', 'Prof-school', 'HS-grad', 'HS-grad', '11th', 'Some-college', 'Masters', 'Bachelors', 'HS-grad', 'Some-college', 'Masters', 'Some-college', 'Assoc-voc', 'Prof-school', 'HS-grad', 'Some-college', 'Some-college', 'Prof-school', 'Bachelors', 'Assoc-voc', 'HS-grad', '9th', 'Prof-school', 'Bachelors', 'HS-grad', 'Some-college', 'HS-grad', 'Assoc-acdm', 'Assoc-voc', '9th', 'Some-college', 'HS-grad', 'HS-grad', 'Some-college', 'HS-grad', 'Some-college', 'HS-grad', 'HS-grad', '5th-6th', '10th', 'Some-college', 'Bachelors', 'Bachelors', 'Assoc-acdm', 'HS-grad', '12th', 'HS-grad', 'HS-grad', 'Some-college', 'Some-college', 'Some-college', 'HS-grad', 'Prof-school', 'HS-grad', 'Some-college', 'Some-college', '11th', 'HS-grad', 'HS-grad', 'Masters', 'Bachelors', 'Bachelors', 'Bachelors', 'Masters', 'Some-college', 'HS-grad', 'Bachelors', 'Masters', 'Some-college', 'Doctorate', 'Some-college', 'Masters', 'Bachelors', 'HS-grad', 'Bachelors', 'Some-college', 'HS-grad', 'Some-college', 'HS-grad', 'Bachelors', '10th', 'HS-grad', 'Some-college', 'Masters', 'Prof-school', 'Bachelors', 'Some-college', 'Bachelors', 'Bachelors', 'HS-grad', 'HS-grad', 'HS-grad', 'Bachelors', '10th', 'Assoc-voc', 'HS-grad', 'HS-grad', 'Some-college', 'Some-college', '1st-4th', 'HS-grad', 'HS-grad', 'Masters', 'Some-college', 'HS-grad', 'HS-grad', 'HS-grad', '7th-8th', 'Some-college', 'HS-grad', 'Masters', 'HS-grad', 'HS-grad', 'HS-grad', '11th', 'HS-grad', 'Assoc-voc', 'HS-grad', 'HS-grad', 'Bachelors', 'HS-grad', 'HS-grad', '7th-8th', '11th', 'Some-college', 'Some-college', '7th-8th', 'Bachelors', 'Some-college', 'Some-college', 'HS-grad', 'HS-grad', 'Some-college', 'HS-grad', 'HS-grad', 'HS-grad', 'Some-college', 'HS-grad', 'Masters', 'Assoc-voc', 'HS-grad', 'Some-college', 'HS-grad', 'Masters', 'HS-grad', 'HS-grad', 'HS-grad', 'HS-grad', 'Some-college', '12th', 'Some-college', 'Bachelors', 'HS-grad', 'HS-grad', 'Assoc-acdm', 'Some-college', 'Some-college', 'Some-college', 'Masters', 'Bachelors', 'Some-college', 'Some-college', 'HS-grad', 'HS-grad', 'Some-college', 'HS-grad', 'Prof-school', 'HS-grad', 'Bachelors', '11th', 'Assoc-acdm', 'Bachelors', 'HS-grad', 'HS-grad', 'Assoc-voc', 'Some-college', 'Some-college', '11th', 'HS-grad', 'Assoc-acdm', '5th-6th', 'Bachelors', 'Prof-school', 'HS-grad', 'Bachelors', 'Some-college', '10th', 'Doctorate', '10th', 'HS-grad', 'Bachelors', 'HS-grad', 'HS-grad', '10th', 'HS-grad', 'Assoc-voc', 'Bachelors', 'HS-grad', 'HS-grad', 'Bachelors', 'Bachelors', 'Assoc-voc', 'Masters', 'Masters', 'Some-college', 'Bachelors', 'Some-college', 'Bachelors', 'Some-college', 'HS-grad', 'Bachelors', 'HS-grad', 'Some-college', 'Some-college', 'Some-college', '12th', 'Masters', 'Bachelors', 'Prof-school', '10th', '11th', 'HS-grad', 'Some-college', 'Assoc-acdm', 'Assoc-acdm', 'HS-grad', 'HS-grad', 'Bachelors', '7th-8th', 'HS-grad', 'Prof-school', 'Assoc-voc', 'HS-grad', 'Some-college', 'HS-grad', 'HS-grad', 'Some-college', 'Some-college', 'Assoc-voc', 'HS-grad', 'Some-college', '10th', 'Bachelors', 'Bachelors', 'Bachelors', 'HS-grad', '1st-4th', '11th', '11th', 'Some-college', 'Prof-school', 'Bachelors', 'HS-grad', 'Bachelors', 'Bachelors', 'HS-grad', 'Masters', 'Some-college', 'Bachelors', 'HS-grad', 'Some-college', '10th', 'HS-grad', 'Bachelors', 'Some-college', 'Assoc-voc', '12th', 'Bachelors', 'Bachelors', 'HS-grad', 'Some-college', 'HS-grad', 'HS-grad', 'HS-grad', 'HS-grad', 'HS-grad', 'Prof-school', 'Bachelors', 'HS-grad', 'Masters', 'Some-college', 'HS-grad', 'Doctorate', 'Some-college', '11th', 'Some-college', 'HS-grad', 'Bachelors', 'Bachelors', 'Some-college', '12th', '11th', '11th', 'HS-grad', 'HS-grad', 'HS-grad', '10th', 'Bachelors', 'Assoc-voc', 'HS-grad', 'HS-grad', 'Some-college', 'HS-grad', 'Assoc-voc', 'Some-college', 'Some-college', 'HS-grad', 'Some-college', '7th-8th', 'Some-college', 'HS-grad', 'Some-college', 'Some-college', 'Assoc-acdm', 'Bachelors', 'HS-grad', 'Masters', 'Bachelors', 'Some-college', 'Some-college', 'Bachelors', 'HS-grad', 'Bachelors', 'Masters', 'Some-college', 'HS-grad', 'HS-grad', 'Some-college', 'Bachelors', 'Masters', 'Some-college', 'Bachelors', 'HS-grad', 'Some-college', 'HS-grad', 'Bachelors', 'HS-grad', 'HS-grad', 'Bachelors', 'HS-grad', 'Assoc-voc', 'Masters', 'Some-college', '11th', 'Bachelors', 'Some-college', '10th', 'HS-grad', 'Some-college', 'Some-college', 'Masters', 'Bachelors', 'Some-college', 'HS-grad', 'Bachelors', 'Some-college', 'HS-grad', 'Bachelors', 'Bachelors', 'HS-grad', 'Some-college', 'Some-college', 'HS-grad', '5th-6th', 'HS-grad', '1st-4th', '10th', 'Some-college', 'Assoc-acdm', 'HS-grad', 'HS-grad', 'HS-grad', 'Masters', 'Bachelors', '11th', 'HS-grad', 'HS-grad', 'Masters', 'Bachelors', 'HS-grad', 'Bachelors', 'Doctorate', 'HS-grad', '10th', 'Bachelors', '11th', 'Bachelors', 'Masters', 'Bachelors', 'HS-grad', '10th', 'HS-grad', 'Bachelors', 'HS-grad', 'Assoc-acdm', '10th', 'HS-grad', 'Assoc-voc', 'Bachelors', 'HS-grad', '10th', 'HS-grad', 'Some-college', 'Bachelors', 'HS-grad', 'Bachelors', 'HS-grad', 'Bachelors', '10th', 'Some-college', 'Some-college', '7th-8th', 'HS-grad', '11th', '10th', '11th', 'Masters', 'Some-college', 'Some-college', 'HS-grad', 'Some-college', 'HS-grad', 'HS-grad', 'Some-college', 'Masters', 'Masters', 'HS-grad', 'HS-grad', 'Some-college', 'Masters', 'Bachelors', 'HS-grad', 'Some-college', 'HS-grad', 'Bachelors', 'Assoc-voc', 'Masters', 'HS-grad', 'Some-college', 'Some-college', 'Some-college', 'Assoc-voc', 'HS-grad', 'Assoc-acdm', '11th', 'Some-college', 'Masters', '10th', 'Prof-school', 'Some-college', '5th-6th', 'HS-grad', 'Some-college', 'HS-grad', 'HS-grad', 'Some-college', 'HS-grad', 'Some-college', 'Some-college', 'HS-grad', 'Bachelors', 'Bachelors', 'Prof-school', 'Some-college', 'Bachelors', 'HS-grad', 'HS-grad', 'HS-grad', 'Bachelors', 'HS-grad', 'HS-grad', 'HS-grad', 'HS-grad', 'HS-grad', 'Bachelors', 'Some-college', 'Some-college', 'Some-college', 'Assoc-voc', 'Some-college', '10th', 'Bachelors', 'HS-grad', 'Bachelors', 'HS-grad', 'Assoc-voc', 'HS-grad', 'Assoc-acdm', 'HS-grad', 'HS-grad', 'Bachelors', 'HS-grad', '11th', 'HS-grad', 'HS-grad', 'Some-college', 'HS-grad', 'HS-grad', 'Some-college', 'Bachelors', 'Some-college', 'Some-college', 'HS-grad', '10th', 'HS-grad', 'HS-grad', 'HS-grad', '10th', 'HS-grad', 'Assoc-acdm', 'Some-college', 'Some-college', 'Some-college', 'Some-college', 'Masters', 'Bachelors', 'Masters', 'Some-college', 'HS-grad', 'Some-college', 'Bachelors', 'Doctorate', 'Some-college', '5th-6th', 'HS-grad', 'Some-college', 'Bachelors', 'Some-college', 'HS-grad', 'HS-grad', 'Some-college', 'Assoc-voc', '5th-6th', '10th', '11th', 'HS-grad', 'Some-college', '10th', 'Bachelors', 'Bachelors', 'HS-grad', 'Bachelors', 'HS-grad', '9th', 'HS-grad', 'HS-grad', 'Bachelors', 'Masters', 'HS-grad', 'HS-grad', '11th', 'HS-grad', 'Assoc-voc', 'Some-college', '10th', 'Bachelors', 'Masters', 'Some-college', 'HS-grad', 'HS-grad', 'Some-college', 'Prof-school', '9th', 'HS-grad', 'Assoc-voc', 'HS-grad', 'Assoc-voc', '7th-8th', 'Some-college', 'HS-grad', 'HS-grad', 'Bachelors', 'Bachelors', '10th', 'Assoc-voc', 'Some-college', 'HS-grad', 'HS-grad', '1st-4th', 'Bachelors', 'Assoc-voc', '1st-4th', 'Bachelors', 'Masters', 'HS-grad', 'Assoc-acdm', 'Masters', 'HS-grad', 'Assoc-acdm', 'HS-grad', 'HS-grad', 'HS-grad', 'Bachelors', 'HS-grad', 'Masters', 'Some-college', 'Some-college', 'Assoc-voc', 'HS-grad', '5th-6th', 'Some-college', 'Masters', 'Some-college', 'Some-college', 'Masters', 'Some-college', 'Some-college', 'HS-grad', '11th', 'Bachelors', 'Assoc-acdm', 'HS-grad', 'Assoc-voc', 'Assoc-voc', 'Some-college', '7th-8th', 'Bachelors', 'Some-college', 'Some-college', 'Bachelors', '10th', '10th', 'Some-college', 'Assoc-acdm', 'Some-college', 'HS-grad', '9th', 'HS-grad', '11th', 'Some-college', 'HS-grad', 'Some-college', 'HS-grad', 'HS-grad', 'Masters', 'Bachelors', 'Bachelors', 'HS-grad', 'Bachelors', '10th', 'Some-college', 'Prof-school', 'Bachelors', 'Some-college', 'HS-grad', 'Some-college', 'Some-college', 'Bachelors', 'Assoc-voc', 'Some-college', 'HS-grad', 'HS-grad', 'Bachelors', 'HS-grad', '7th-8th', 'HS-grad', 'HS-grad', 'Some-college', 'Bachelors', 'Masters', 'HS-grad', 'HS-grad', 'Some-college', 'HS-grad', 'HS-grad', 'Bachelors', '7th-8th', 'HS-grad', 'HS-grad', 'Assoc-acdm', 'Some-college', 'Bachelors', 'HS-grad', 'HS-grad', 'Bachelors', 'Some-college', 'Bachelors', 'Some-college', 'HS-grad', 'HS-grad', 'Assoc-acdm', 'HS-grad', 'Some-college', 'Some-college', '10th', 'Assoc-voc', '9th', 'HS-grad', 'Bachelors', '10th', 'Assoc-acdm', 'Bachelors', 'HS-grad', 'Bachelors', 'Some-college', 'HS-grad', '9th', 'Some-college', 'Some-college', 'Some-college', 'HS-grad', 'Masters', 'Bachelors', 'Some-college', 'HS-grad', 'Assoc-voc', 'HS-grad', '12th', 'Some-college', 'Bachelors', 'HS-grad', '9th', '12th', 'HS-grad', 'HS-grad', 'Some-college', 'HS-grad', 'HS-grad', 'Bachelors', 'Some-college', 'Assoc-voc', 'Doctorate', 'HS-grad', 'Doctorate', 'HS-grad', '7th-8th', '10th', 'HS-grad', 'Some-college', 'HS-grad', 'Assoc-acdm', '10th', 'Some-college', 'Masters', 'HS-grad', 'HS-grad', 'HS-grad', 'Some-college', 'HS-grad', 'Bachelors', 'Assoc-voc', 'Bachelors', 'HS-grad', 'Bachelors', 'Bachelors', 'Bachelors', '7th-8th', 'Some-college', 'Some-college', 'HS-grad', 'HS-grad', 'HS-grad', 'HS-grad', 'Bachelors', 'HS-grad', 'HS-grad', 'HS-grad', 'HS-grad', 'HS-grad', '11th', 'Bachelors', 'Some-college', 'HS-grad', 'Some-college', 'HS-grad', 'HS-grad', 'Some-college', 'HS-grad', 'HS-grad', 'Assoc-voc', 'Some-college', 'HS-grad', 'Assoc-voc', 'Assoc-voc', 'Assoc-acdm', 'Bachelors', 'HS-grad', '10th', 'HS-grad', 'HS-grad', 'Some-college', 'HS-grad', '7th-8th', 'HS-grad', 'Assoc-acdm', 'HS-grad', 'Bachelors', 'HS-grad', 'Bachelors', '7th-8th', 'HS-grad', 'Some-college', 'Some-college', 'HS-grad', 'Bachelors', 'Bachelors', 'Some-college', 'HS-grad', 'Some-college', 'Masters', 'HS-grad', 'Bachelors', 'HS-grad', 'Some-college', 'Some-college', 'Masters', '7th-8th', 'Some-college', 'Some-college', 'HS-grad', 'Some-college', 'Bachelors', 'HS-grad', '10th', 'Some-college', 'Assoc-acdm', 'Prof-school', 'Some-college', 'Some-college', 'Assoc-voc', 'Bachelors', 'Bachelors', 'Assoc-acdm', '11th', '5th-6th', '7th-8th', 'HS-grad', 'Masters', '7th-8th', 'Some-college', '12th', 'Assoc-acdm', '12th', 'HS-grad', 'HS-grad', 'Some-college', 'HS-grad', 'Some-college', 'HS-grad', 'HS-grad', 'Masters', 'HS-grad', 'Some-college', '12th', 'Bachelors', 'Assoc-voc', 'Some-college', 'HS-grad', 'Masters', 'Some-college', 'Bachelors', 'Masters', 'Masters', 'HS-grad', 'HS-grad', '9th', 'HS-grad', 'HS-grad', '7th-8th', '9th', 'Bachelors', 'Some-college', 'HS-grad', '11th', 'Bachelors', 'HS-grad', 'HS-grad', 'Bachelors', 'Doctorate', 'HS-grad', 'HS-grad', 'HS-grad', 'Some-college', 'HS-grad', 'Some-college', 'Some-college', 'Some-college', 'Some-college', 'Doctorate', 'HS-grad', 'Bachelors', 'HS-grad', 'Some-college', 'Some-college', 'HS-grad', 'Bachelors', 'Assoc-voc', 'HS-grad', 'HS-grad', 'HS-grad', 'HS-grad', 'Bachelors', 'Bachelors', '1st-4th', 'Assoc-voc', '7th-8th', 'Assoc-acdm', '11th', '10th', 'HS-grad', 'Bachelors', 'HS-grad', '9th', '11th', 'Some-college', 'Bachelors', 'HS-grad', 'HS-grad', 'Bachelors', 'HS-grad', 'HS-grad', 'Some-college', 'Bachelors', 'HS-grad', 'Some-college', 'Assoc-acdm', 'Bachelors', 'Some-college', 'Bachelors', 'Bachelors', 'Some-college', 'Bachelors', 'HS-grad', 'Some-college', '11th', 'Bachelors', 'Masters', 'HS-grad', '11th', 'HS-grad', 'Some-college', '11th', 'Bachelors', 'Some-college', 'Some-college', 'Assoc-acdm', 'Bachelors', 'Bachelors', 'Assoc-voc', '7th-8th', '5th-6th', 'HS-grad', 'HS-grad', 'Doctorate', 'HS-grad', 'Bachelors', 'Assoc-acdm', '12th', 'Some-college', 'Some-college', 'Some-college', 'HS-grad', 'HS-grad', 'Bachelors', 'Bachelors', '11th', 'Bachelors', 'Bachelors', '9th', 'Some-college', 'Assoc-voc', 'HS-grad', 'HS-grad', 'HS-grad', 'HS-grad', 'HS-grad', 'Bachelors', 'HS-grad', 'Masters', 'Masters', 'HS-grad', 'HS-grad', 'Assoc-acdm', 'Masters', 'Masters', 'Bachelors', 'HS-grad', 'HS-grad', 'Doctorate', 'Bachelors', 'HS-grad', 'Bachelors', 'HS-grad', 'HS-grad', 'Bachelors', 'Assoc-voc', 'Bachelors', 'Doctorate', 'HS-grad', 'Some-college', 'Some-college', 'Assoc-acdm', '12th', 'HS-grad', '10th', '5th-6th', 'Some-college', 'HS-grad', 'HS-grad', 'HS-grad', 'Bachelors', 'Bachelors', 'Bachelors', 'Some-college', 'Assoc-acdm', 'HS-grad', 'Assoc-voc', 'HS-grad', 'HS-grad', 'Bachelors', '11th', 'HS-grad', 'HS-grad', 'Bachelors', 'Bachelors', 'Assoc-voc', 'HS-grad', 'Some-college', '7th-8th', 'HS-grad', 'Doctorate', 'HS-grad', 'Bachelors', 'Some-college', 'HS-grad', 'Some-college', 'Some-college', 'HS-grad', 'HS-grad', '10th', '11th', 'Masters', 'Bachelors', 'Masters', 'Bachelors', '5th-6th', 'Bachelors', 'Masters', '10th', 'HS-grad', 'HS-grad', 'Assoc-voc', 'Some-college', 'Bachelors', '10th', 'HS-grad', 'Assoc-acdm', 'Some-college', 'HS-grad', 'Bachelors', 'Some-college', 'Bachelors', 'Bachelors', 'HS-grad', 'Masters', 'Some-college', 'Bachelors', 'HS-grad', 'Some-college', 'Some-college', 'Some-college', '9th', 'HS-grad', 'Some-college', '10th', 'HS-grad', 'Some-college', '5th-6th', 'Bachelors', 'HS-grad', 'Masters', 'Masters', '11th', 'Bachelors', 'Bachelors', '5th-6th', 'Bachelors', 'Masters', 'HS-grad', 'Some-college', '10th', 'HS-grad', 'HS-grad', 'Some-college', 'Some-college', 'HS-grad', 'HS-grad', 'HS-grad', '9th', 'HS-grad', 'Assoc-voc', 'Some-college', 'Bachelors', 'Bachelors', 'Bachelors', 'Bachelors', 'HS-grad', 'HS-grad', 'HS-grad', '11th', 'Some-college', 'Some-college', 'Bachelors', 'HS-grad', 'Masters', '7th-8th', 'Some-college', 'Some-college', 'Some-college', 'HS-grad', 'HS-grad', 'HS-grad', 'Bachelors', 'Assoc-acdm', 'HS-grad', 'Some-college', 'HS-grad', 'Bachelors', 'Some-college', 'Some-college', 'Some-college', 'Prof-school', 'Assoc-voc', 'Bachelors', '11th', 'Some-college', 'Some-college', '11th', 'Doctorate', 'Bachelors', 'Bachelors', 'Bachelors', 'Bachelors', 'Some-college', 'Some-college', 'Some-college', 'Assoc-voc', 'Some-college', 'Bachelors', '7th-8th', 'Some-college', 'HS-grad', 'Some-college', 'Some-college', 'Bachelors', 'HS-grad', 'Some-college', 'Some-college', 'Bachelors', 'Some-college', 'Some-college', 'Some-college', 'Bachelors', 'Some-college', 'HS-grad', 'Bachelors', 'Bachelors', 'HS-grad', 'HS-grad', 'HS-grad', 'HS-grad', 'Masters', '11th', 'HS-grad', 'Some-college', 'Some-college', 'HS-grad', 'Assoc-acdm', '7th-8th', 'Masters', '7th-8th', 'Masters', 'HS-grad', '7th-8th', 'HS-grad', 'Bachelors', 'Some-college', 'HS-grad', 'HS-grad', '11th', '11th', 'Some-college', 'Assoc-acdm', 'HS-grad', 'Some-college', 'Assoc-voc', 'Assoc-voc', 'Bachelors', 'Prof-school', 'Bachelors', 'Assoc-acdm', 'Bachelors', 'Bachelors', 'HS-grad', 'Bachelors', '11th', 'Masters', 'Some-college', 'HS-grad', 'Some-college', 'Masters', 'Some-college', '11th', 'Assoc-voc', 'HS-grad', 'HS-grad', 'HS-grad', 'Some-college', 'HS-grad', 'Prof-school', 'Masters', '9th', 'HS-grad', 'Assoc-acdm', 'Bachelors', 'Bachelors', 'HS-grad', 'HS-grad', 'Some-college', '9th', 'HS-grad', 'Some-college', 'HS-grad', 'Some-college', '5th-6th', 'HS-grad', 'Some-college', 'Some-college', 'Some-college', 'HS-grad', 'Some-college', '12th', 'Bachelors', '7th-8th', '11th', 'HS-grad', 'HS-grad', '12th', 'HS-grad', 'HS-grad', '7th-8th', 'Bachelors', 'Bachelors', 'Some-college', '10th', 'HS-grad', '9th', 'Bachelors', 'Some-college', 'Assoc-voc', 'HS-grad', 'Bachelors', 'HS-grad', 'Assoc-acdm', 'HS-grad', 'Assoc-voc', 'HS-grad', 'Some-college', 'HS-grad', 'HS-grad', 'HS-grad', 'Bachelors', '11th', 'Bachelors', 'HS-grad', 'Masters', 'HS-grad', 'HS-grad', 'HS-grad', 'Bachelors', '11th', 'Some-college', 'Some-college', 'Bachelors', 'Prof-school', 'HS-grad', '10th', 'HS-grad', 'Bachelors', 'Some-college', 'HS-grad', 'HS-grad', '1st-4th', '10th', 'HS-grad', 'Some-college', 'HS-grad', 'Assoc-voc', 'Assoc-voc', '10th', 'Some-college', 'Bachelors', 'Bachelors', 'HS-grad', 'HS-grad', 'HS-grad', 'Bachelors', 'Assoc-voc', '9th', 'Some-college', 'Some-college', 'Prof-school', '1st-4th', 'Some-college', 'Masters', 'HS-grad', 'Assoc-acdm', 'Assoc-acdm', 'Some-college', 'HS-grad', 'Some-college', 'Some-college', 'HS-grad', 'Masters', 'HS-grad', 'HS-grad', 'Bachelors', '11th', 'Assoc-acdm', 'Some-college', 'Some-college', 'Bachelors', 'Bachelors', 'HS-grad', 'Some-college', 'HS-grad', 'Prof-school', 'HS-grad', 'HS-grad', 'Some-college', 'HS-grad', 'Some-college', 'Bachelors', 'HS-grad', 'Assoc-voc', '10th', 'Masters', 'Doctorate', 'HS-grad', 'Assoc-voc', 'Assoc-voc', 'HS-grad', 'Bachelors', 'Prof-school', 'Masters', 'HS-grad', 'HS-grad', 'HS-grad', 'Bachelors', 'Some-college', 'Some-college', 'HS-grad', 'HS-grad', 'Assoc-acdm', 'HS-grad', 'Assoc-voc', 'HS-grad', 'HS-grad', 'HS-grad', 'Bachelors', '11th', 'HS-grad', 'Some-college', 'HS-grad', 'Some-college', 'HS-grad', 'HS-grad', 'HS-grad', 'Some-college', 'HS-grad', 'HS-grad', 'Prof-school', 'Assoc-voc', 'Masters', 'HS-grad', 'HS-grad', 'Bachelors', 'HS-grad', 'Some-college', 'Some-college', 'HS-grad', 'Bachelors', 'HS-grad', 'Bachelors', 'Some-college', 'HS-grad', '12th', 'Some-college', 'Bachelors', 'HS-grad', 'Assoc-acdm', 'Bachelors', 'Some-college', 'Bachelors', 'HS-grad', 'HS-grad', 'Some-college', 'Some-college', 'Some-college', 'HS-grad', 'Some-college', 'HS-grad', 'Masters', 'HS-grad', 'HS-grad', '12th', 'HS-grad', 'Some-college', 'HS-grad', 'Some-college', 'Preschool', 'Some-college', 'Some-college', 'HS-grad', 'HS-grad', 'Some-college', 'HS-grad', 'Some-college', 'Some-college', 'Bachelors', 'Masters', 'Bachelors', 'HS-grad', 'HS-grad', 'HS-grad', 'Prof-school', 'HS-grad', 'Some-college', 'HS-grad', 'HS-grad', 'HS-grad', 'HS-grad', 'Bachelors', 'Some-college', 'HS-grad', 'Bachelors', 'HS-grad', 'Some-college', 'Some-college', 'Some-college', 'HS-grad', 'Some-college', 'HS-grad', 'Assoc-voc', 'Bachelors', 'HS-grad', 'HS-grad', 'Some-college', 'Bachelors', 'Assoc-voc', '7th-8th', 'Some-college', 'HS-grad', 'HS-grad', 'Some-college', 'Some-college', 'Bachelors', 'Some-college', 'Bachelors', 'Bachelors', '7th-8th', 'Masters', 'Some-college', '9th', '12th', 'HS-grad', 'Bachelors', 'Some-college', 'HS-grad', 'HS-grad', '9th', 'HS-grad', 'Masters', 'HS-grad', 'Bachelors', '12th', 'Masters', 'Some-college', 'Prof-school', 'Some-college', '11th', 'Some-college', 'Some-college', 'HS-grad', '10th', '5th-6th', 'Some-college', 'Some-college', 'Some-college', 'Bachelors', 'Bachelors', '7th-8th', 'HS-grad', '11th', 'HS-grad', 'HS-grad', 'Preschool', 'Some-college', 'Doctorate', 'HS-grad', 'Bachelors', 'Bachelors', 'HS-grad', 'Preschool', 'Bachelors', 'Some-college', 'Masters', 'Some-college', 'HS-grad', 'HS-grad', 'Bachelors', 'Masters', 'HS-grad', 'HS-grad', 'HS-grad', 'Some-college', 'HS-grad', 'Some-college', 'Some-college', 'Bachelors', '10th', 'HS-grad', 'Bachelors', 'Some-college', 'HS-grad', 'HS-grad', 'HS-grad', 'Assoc-voc', 'HS-grad', 'Some-college', 'HS-grad', 'Some-college', 'HS-grad', 'Prof-school', 'HS-grad', 'HS-grad', '1st-4th', 'Some-college', 'Doctorate', 'HS-grad', 'Some-college', 'Bachelors', 'Prof-school', 'Bachelors', 'HS-grad', 'Assoc-acdm', '10th', '9th', 'HS-grad', 'Masters', 'Masters', 'Some-college', 'Masters', 'Assoc-voc', 'Masters', 'HS-grad', '11th', 'Assoc-voc', 'Masters', 'Masters', '7th-8th', 'HS-grad', 'HS-grad', 'Some-college', 'Bachelors', 'HS-grad', 'HS-grad', 'Some-college', 'HS-grad', 'Some-college', 'HS-grad', 'Assoc-voc', 'HS-grad', 'Bachelors', 'Bachelors', 'Some-college', '10th', 'HS-grad', 'Some-college', 'Some-college', 'Bachelors', 'HS-grad', 'Prof-school', 'HS-grad', 'Bachelors', '9th', 'Some-college', 'Some-college', 'HS-grad', 'Bachelors', 'Some-college', 'HS-grad', '7th-8th', 'Bachelors', 'HS-grad', 'Prof-school', 'HS-grad', 'Masters', '12th', 'Some-college', 'Some-college', 'HS-grad', 'HS-grad', 'HS-grad', 'HS-grad', 'HS-grad', 'Prof-school', 'HS-grad', 'Bachelors', '9th', 'Bachelors', 'Assoc-voc', 'HS-grad', 'Bachelors', 'Some-college', 'Some-college', 'HS-grad', 'Bachelors', 'Some-college', 'Bachelors', 'Some-college', 'HS-grad', 'Masters', 'Doctorate', 'HS-grad', 'Some-college', '11th', 'HS-grad', 'HS-grad', 'Assoc-voc', 'Assoc-voc', 'HS-grad', '12th', 'Bachelors', 'Some-college', 'Assoc-voc', 'Some-college', '9th', 'Bachelors', 'Some-college', 'HS-grad', 'HS-grad', '10th', 'Some-college', '11th', 'Some-college', 'HS-grad', 'Some-college', 'Bachelors', 'Bachelors', 'Some-college', 'Bachelors', '1st-4th', 'Assoc-acdm', 'Some-college', '11th', 'Bachelors', 'HS-grad', 'Some-college', 'HS-grad', 'Doctorate', 'HS-grad', '11th', 'Some-college', 'Assoc-voc', 'Some-college', 'Prof-school', 'HS-grad', 'Some-college', 'HS-grad', 'HS-grad', 'Bachelors', 'Some-college', 'HS-grad', 'Bachelors', 'Assoc-voc', 'Some-college', 'Some-college', '10th', 'Bachelors', 'HS-grad', '11th', 'HS-grad', 'HS-grad', 'HS-grad', 'Bachelors', 'HS-grad', 'HS-grad', 'Assoc-voc', 'Some-college', 'HS-grad', 'Doctorate', 'Some-college', 'HS-grad', 'HS-grad', 'Bachelors', 'Bachelors', 'HS-grad', '1st-4th', 'HS-grad', 'Bachelors', 'HS-grad', 'HS-grad', 'HS-grad', 'HS-grad', 'Bachelors', 'Some-college', 'Bachelors', 'HS-grad', 'HS-grad', '5th-6th', '5th-6th', 'Some-college', '10th', 'Bachelors', '11th', 'Assoc-voc', 'Bachelors', '10th', 'HS-grad', '9th', 'HS-grad', 'HS-grad', 'Some-college', 'HS-grad', 'Some-college', 'HS-grad', 'Some-college', '12th', 'Bachelors', 'Some-college', 'Some-college', 'HS-grad', '11th', 'Some-college', 'Some-college', 'HS-grad', '10th', '12th', 'HS-grad', 'HS-grad', 'HS-grad', '7th-8th', 'HS-grad', 'Assoc-acdm', 'Bachelors', 'HS-grad', 'Bachelors', 'HS-grad', 'HS-grad', 'Bachelors', 'HS-grad', '1st-4th', 'HS-grad', 'Assoc-acdm', 'HS-grad', 'Some-college', '7th-8th', 'Bachelors', 'HS-grad', 'Masters', 'Some-college', 'Masters', 'Doctorate', 'Some-college', 'Some-college', 'Bachelors', 'HS-grad', 'Bachelors', 'Some-college', 'Masters', '7th-8th', 'Masters', 'HS-grad', 'HS-grad', 'HS-grad', '12th', '10th', 'HS-grad', '5th-6th', 'HS-grad', 'Bachelors', 'Some-college', 'Bachelors', 'HS-grad', 'Masters', 'Masters', 'HS-grad', 'HS-grad', 'Bachelors', 'HS-grad', 'Bachelors', 'Some-college', '9th', 'HS-grad', 'HS-grad', 'Bachelors', 'HS-grad', 'HS-grad', 'Bachelors', 'HS-grad', 'HS-grad', '7th-8th', 'HS-grad', 'HS-grad', 'Assoc-voc', 'HS-grad', 'Some-college', '5th-6th', 'HS-grad', '7th-8th', 'HS-grad', 'Prof-school', 'Prof-school', '10th', 'Bachelors', 'Some-college', 'Some-college', 'Masters', 'Some-college', 'HS-grad', 'HS-grad', 'Some-college', '9th', 'Some-college', 'HS-grad', 'HS-grad', 'Bachelors', 'Bachelors', '7th-8th', 'Some-college', 'Some-college', '11th', '11th', 'Some-college', 'Masters', 'Masters', 'HS-grad', 'Bachelors', 'Masters', '10th', 'HS-grad', 'HS-grad', 'HS-grad', 'Masters', 'HS-grad', '10th', 'Masters', 'HS-grad', 'Bachelors', 'HS-grad', 'Some-college', '7th-8th', 'Bachelors', 'HS-grad', 'HS-grad', 'Bachelors', 'Bachelors', 'Assoc-acdm', 'Assoc-voc', 'HS-grad', 'Bachelors', 'Prof-school', '7th-8th', 'HS-grad', 'HS-grad', 'Masters', '10th', 'Bachelors', '5th-6th', 'HS-grad', 'HS-grad', 'HS-grad', 'HS-grad', 'Masters', 'Some-college', '11th', 'Bachelors', 'Assoc-acdm', 'Some-college', 'HS-grad', 'Assoc-voc', 'HS-grad', 'HS-grad', 'HS-grad', 'Some-college', '9th', 'HS-grad', 'Bachelors', 'HS-grad', 'HS-grad', 'HS-grad', 'HS-grad', 'Bachelors', 'HS-grad', 'HS-grad', '10th', 'Masters', 'Some-college', '12th', 'Masters', 'HS-grad', 'Bachelors', 'Bachelors', 'HS-grad', 'Assoc-voc', 'Assoc-voc', 'Masters', 'HS-grad', 'Assoc-voc', 'Prof-school', '11th', 'HS-grad', 'Some-college', 'Prof-school', 'Some-college', 'Bachelors', 'Some-college', 'HS-grad', 'HS-grad', 'Bachelors', 'HS-grad', '11th', 'Bachelors', '11th', 'HS-grad', 'Some-college', 'Bachelors', 'Prof-school', '7th-8th', 'HS-grad', 'HS-grad', 'Assoc-voc', 'Some-college', 'Some-college', '7th-8th', 'Some-college', '9th', 'Bachelors', 'HS-grad', 'Assoc-acdm', 'Assoc-acdm', 'HS-grad', '11th', 'Assoc-acdm', '1st-4th', 'Bachelors', 'HS-grad', 'HS-grad', 'Masters', 'Some-college', 'Some-college', 'Some-college', 'Assoc-voc', 'HS-grad', 'Prof-school', 'Masters', 'Masters', 'HS-grad', 'HS-grad', 'Prof-school', 'Bachelors', '7th-8th', 'Prof-school', 'HS-grad', 'Bachelors', 'HS-grad', 'Some-college', 'HS-grad', 'HS-grad', 'HS-grad', 'Masters', '9th', 'Some-college', 'Bachelors', 'HS-grad', '11th', 'Bachelors', 'HS-grad', 'HS-grad', 'Masters', 'HS-grad', 'HS-grad', 'Bachelors', 'Masters', '10th', 'Some-college', '10th', 'Some-college', 'HS-grad', 'Some-college', 'Bachelors', 'HS-grad', 'Bachelors', 'Bachelors', 'HS-grad', 'Some-college', 'Masters', 'HS-grad', 'Masters', '10th', 'Bachelors', 'Some-college', '10th', 'Masters', 'Some-college', 'HS-grad', 'HS-grad', 'Masters', 'Some-college', 'HS-grad', 'HS-grad', '12th', 'Bachelors', 'Prof-school', 'Some-college', '10th', 'Bachelors', 'Bachelors', 'Some-college', 'HS-grad', 'Some-college', 'HS-grad', 'HS-grad', 'HS-grad', 'Bachelors', 'Bachelors', '9th', 'Masters', 'HS-grad', 'HS-grad', 'HS-grad', '9th', 'Doctorate', 'Masters', 'HS-grad', 'Some-college', 'Bachelors', 'Some-college', 'HS-grad', '11th', 'Bachelors', 'Assoc-voc', '11th', 'HS-grad', 'Assoc-acdm', '11th', 'HS-grad', '11th', 'Masters', 'Prof-school', 'Bachelors', '5th-6th', 'Bachelors', 'HS-grad', 'Masters', 'Some-college', '1st-4th', 'HS-grad', 'Some-college', 'Masters', 'Some-college', 'Bachelors', 'Bachelors', 'Bachelors', 'Bachelors', 'Some-college', '10th', 'HS-grad', 'Some-college', 'HS-grad', '10th', 'Some-college', 'HS-grad', 'Masters', 'Assoc-voc', 'HS-grad', 'Some-college', 'HS-grad', 'Some-college', 'HS-grad', 'HS-grad', 'Some-college', 'Some-college', '11th', 'Doctorate', 'HS-grad', 'Bachelors', 'HS-grad', 'Some-college', 'HS-grad', 'HS-grad', 'Some-college', 'HS-grad', 'HS-grad', 'HS-grad', 'Some-college', 'HS-grad', 'HS-grad', 'HS-grad', 'Bachelors', '11th', '10th', 'HS-grad', 'Assoc-voc', '10th', 'Some-college', 'HS-grad', 'Assoc-acdm', 'Bachelors', 'Some-college', 'Some-college', 'HS-grad', 'Some-college', 'HS-grad', 'HS-grad', 'HS-grad', 'Assoc-acdm', 'Some-college', 'HS-grad', 'Bachelors', 'HS-grad', 'Doctorate', 'Some-college', 'HS-grad', 'Some-college', 'Doctorate', 'Bachelors', 'Assoc-acdm', '10th', 'HS-grad', 'HS-grad', 'HS-grad', 'HS-grad', 'Bachelors', '12th', '9th', 'HS-grad', 'Some-college', 'Some-college', 'HS-grad', 'Bachelors', 'Masters', 'Masters', '11th', 'Bachelors', 'Bachelors', 'Some-college', 'Masters', 'Masters', 'HS-grad', 'Bachelors', 'HS-grad', 'HS-grad', 'HS-grad', 'Bachelors', 'Bachelors', 'HS-grad', '10th', 'Prof-school', '9th', 'Bachelors', 'Prof-school', 'HS-grad', 'Masters', 'Masters', 'HS-grad', '10th', 'Some-college', 'Some-college', 'Masters', 'HS-grad', 'Some-college', '11th', 'HS-grad', 'Assoc-acdm', '7th-8th', 'Bachelors', 'HS-grad', 'HS-grad', 'Some-college', 'Prof-school', 'Bachelors', 'HS-grad', 'Doctorate', 'HS-grad', 'Bachelors', 'HS-grad', 'Bachelors', 'Masters', '11th', 'Some-college', 'Assoc-acdm', 'Masters', 'HS-grad', '7th-8th', 'Some-college', 'Bachelors', 'Some-college', 'HS-grad', 'Some-college', '12th', 'Assoc-voc', 'HS-grad', 'Some-college', '9th', 'HS-grad', 'HS-grad', 'HS-grad', 'HS-grad', 'HS-grad', 'HS-grad', '12th', 'HS-grad', 'HS-grad', 'Bachelors', 'HS-grad', 'HS-grad', 'HS-grad', 'Some-college', 'Bachelors', 'Bachelors', 'HS-grad', 'Some-college', 'Some-college', 'HS-grad', 'Bachelors', 'Bachelors', 'Some-college', 'Some-college', 'HS-grad', 'Some-college', 'Some-college', 'HS-grad', 'Masters', 'HS-grad', '12th', 'Some-college', 'HS-grad', 'Some-college', 'Bachelors', '7th-8th', 'HS-grad', 'Bachelors', 'Some-college', '9th', 'Bachelors', 'HS-grad', 'Some-college', 'HS-grad', '11th', 'Assoc-voc', 'Some-college', '11th', 'Doctorate', 'Some-college', 'HS-grad', 'HS-grad', 'Some-college', 'HS-grad', 'Bachelors', 'Bachelors', 'HS-grad', 'Doctorate', 'HS-grad', 'Masters', 'HS-grad', 'Some-college', 'HS-grad', 'Some-college', 'Bachelors', '9th', 'HS-grad', 'HS-grad', 'Assoc-acdm', '9th', 'HS-grad', 'HS-grad', 'HS-grad', 'Masters', 'Masters', 'Some-college', 'Masters', 'Bachelors', 'HS-grad', 'Prof-school', 'HS-grad', 'HS-grad', 'Some-college', 'Some-college', 'Assoc-voc', 'Some-college', 'Bachelors', 'Some-college', 'HS-grad', 'Some-college', '11th', 'HS-grad', 'HS-grad', 'HS-grad', 'Some-college', 'Bachelors', 'HS-grad', 'Some-college', 'Bachelors', 'Bachelors', 'HS-grad', 'HS-grad', 'HS-grad', 'Some-college', 'HS-grad', 'Prof-school', 'HS-grad', 'HS-grad', 'Assoc-acdm', 'Bachelors', 'Masters', 'Bachelors', 'Some-college', 'HS-grad', 'Assoc-voc', 'Doctorate', 'HS-grad', 'Prof-school', '12th', 'Some-college', 'HS-grad', 'HS-grad', 'Bachelors', 'Bachelors', '12th', 'HS-grad', 'HS-grad', '5th-6th', 'Assoc-acdm', 'Assoc-voc', 'Some-college', 'HS-grad', 'HS-grad', 'Bachelors', 'Masters', 'Some-college', 'Masters', 'HS-grad', 'Bachelors', 'Some-college', 'Bachelors', 'Some-college', 'Bachelors', 'HS-grad', 'HS-grad', 'HS-grad', 'HS-grad', '9th', 'Some-college', 'HS-grad', 'Some-college', 'HS-grad', 'Bachelors', 'HS-grad', 'Some-college', 'HS-grad', 'Some-college', 'HS-grad', '11th', 'Bachelors', 'Some-college', 'Some-college', 'Prof-school', 'Assoc-acdm', 'HS-grad', 'HS-grad', 'Some-college', 'HS-grad', 'Masters', 'Some-college', 'Bachelors', 'HS-grad', 'Bachelors', 'Assoc-voc', 'HS-grad', 'Masters', 'Bachelors', 'HS-grad', 'HS-grad', 'HS-grad', '12th', 'Some-college', 'HS-grad', 'Assoc-voc', 'Bachelors', '12th', 'Assoc-acdm', '12th', 'HS-grad', 'Masters', 'Bachelors', 'Prof-school', '11th', 'Bachelors', 'HS-grad', 'Masters', 'Assoc-voc', 'Some-college', 'Some-college', 'HS-grad', 'HS-grad', 'HS-grad', 'HS-grad', 'Assoc-acdm', 'Bachelors', 'HS-grad', 'HS-grad', 'Some-college', 'Assoc-acdm', 'HS-grad', 'Masters', 'Some-college', '1st-4th', 'HS-grad', '10th', 'Some-college', 'HS-grad', 'HS-grad', '12th', 'HS-grad', 'HS-grad', 'Masters', 'Masters', 'Masters', 'HS-grad', 'Bachelors', 'HS-grad', 'Bachelors', '12th', 'Some-college', 'Doctorate', 'HS-grad', 'Assoc-voc', 'HS-grad', 'Bachelors', 'Some-college', 'Some-college', 'Bachelors', 'Bachelors', 'Some-college', 'HS-grad', 'Assoc-acdm', 'Bachelors', '10th', 'HS-grad', 'HS-grad', 'HS-grad', '10th', 'HS-grad', 'Some-college', 'HS-grad', '11th', 'HS-grad', 'Doctorate', 'HS-grad', 'Some-college', 'HS-grad', 'HS-grad', 'HS-grad', 'Bachelors', 'HS-grad', 'Bachelors', 'Bachelors', 'Bachelors', 'HS-grad', 'Some-college', 'HS-grad', 'Some-college', 'HS-grad', 'HS-grad', 'HS-grad', '7th-8th', 'Some-college', 'HS-grad', 'HS-grad', 'HS-grad', 'Some-college', 'Bachelors', 'Some-college', 'Masters', '10th', '7th-8th', 'Bachelors', 'HS-grad', 'Some-college', 'Some-college', 'Masters', 'Prof-school', '11th', 'Some-college', '11th', 'HS-grad', 'Some-college', 'Some-college', '11th', 'HS-grad', 'HS-grad', 'Assoc-acdm', '5th-6th', 'Some-college', '5th-6th', 'HS-grad', 'Assoc-acdm', 'Assoc-voc', 'HS-grad', 'Bachelors', 'Bachelors', 'Some-college', 'Some-college', 'Some-college', 'Some-college', 'Bachelors', 'Assoc-acdm', '9th', 'Assoc-voc', 'Bachelors', 'Masters', 'HS-grad', '11th', 'HS-grad', 'HS-grad', 'HS-grad', 'Some-college', 'HS-grad', 'Some-college', 'Some-college', 'Assoc-voc', 'Assoc-voc', 'Assoc-voc', 'Bachelors', 'Bachelors', '12th', 'Bachelors', 'HS-grad', 'Bachelors', 'HS-grad', 'HS-grad', 'HS-grad', 'Bachelors', 'HS-grad', '7th-8th', 'Bachelors', 'Assoc-voc', 'HS-grad', '10th', 'HS-grad', 'HS-grad', 'Some-college', 'Bachelors', 'HS-grad', 'HS-grad', '12th', 'HS-grad', 'HS-grad', 'HS-grad', 'HS-grad', '11th', 'HS-grad', 'Bachelors', 'Bachelors', 'Masters', 'Some-college', 'Assoc-acdm', 'Prof-school', 'Some-college', 'Some-college', 'Some-college', 'Bachelors', 'Assoc-acdm', 'Masters', 'HS-grad', 'Some-college', 'Some-college', 'HS-grad', 'HS-grad', 'Masters', 'Assoc-voc', 'Bachelors', '9th', 'Some-college', '10th', 'HS-grad', 'Bachelors', '12th', 'HS-grad', 'Some-college', 'Some-college', 'Assoc-acdm', 'HS-grad', 'Prof-school', 'Bachelors', 'Masters', 'Some-college', 'HS-grad', 'Some-college', 'Some-college', 'Bachelors', '9th', 'Assoc-acdm', 'Assoc-voc', 'Some-college', 'Masters', 'Prof-school', 'Bachelors', 'Some-college', 'HS-grad', '10th', 'Prof-school', 'Bachelors', 'Bachelors', 'Masters', 'HS-grad', 'HS-grad', 'Bachelors', 'Bachelors', 'Bachelors', '9th', 'HS-grad', 'Bachelors', 'Bachelors', 'HS-grad', 'Bachelors', 'Some-college', 'Some-college', 'HS-grad', '10th', '7th-8th', 'Some-college', 'HS-grad', 'HS-grad', '10th', 'Some-college', 'Some-college', '11th', 'Some-college', 'Assoc-voc', 'Some-college', 'HS-grad', 'Bachelors', 'Bachelors', 'HS-grad', 'HS-grad', '12th', 'HS-grad', 'Masters', 'HS-grad', 'HS-grad', 'HS-grad', 'Some-college', 'HS-grad', 'Assoc-acdm', 'Some-college', 'Some-college', 'Masters', 'HS-grad', 'Masters', 'Masters', '7th-8th', 'Some-college', 'HS-grad', 'Some-college', 'Doctorate', '7th-8th', '10th', 'HS-grad', 'HS-grad', 'Prof-school', 'HS-grad', 'HS-grad', 'Some-college', 'Masters', 'Prof-school', 'HS-grad', 'Some-college', 'Bachelors', 'Some-college', 'Prof-school', 'Some-college', 'HS-grad', 'Some-college', 'Some-college', 'Assoc-acdm', 'Some-college', 'HS-grad', 'HS-grad', 'HS-grad', 'HS-grad', 'Some-college', 'Some-college', 'Bachelors', 'Bachelors', 'Some-college', 'HS-grad', 'HS-grad', 'Bachelors', 'HS-grad', '7th-8th', 'Assoc-voc', 'HS-grad', '11th', 'Some-college', 'HS-grad', 'Bachelors', 'Masters', 'Bachelors', '7th-8th', 'HS-grad', 'HS-grad', 'Bachelors', 'Some-college', 'HS-grad', 'HS-grad', '11th', 'Bachelors', 'Some-college', 'Bachelors', 'Masters', 'Some-college', 'HS-grad', '11th', 'Bachelors', 'HS-grad', 'Some-college', 'HS-grad', '10th', 'Some-college', 'Some-college', 'Masters', 'Some-college', 'HS-grad', '12th', 'HS-grad', 'Doctorate', 'Bachelors', 'HS-grad', 'Masters', 'Some-college', 'HS-grad', '5th-6th', 'Some-college', 'HS-grad', 'HS-grad', 'Assoc-voc', 'Masters', 'HS-grad', 'HS-grad', 'Some-college', 'HS-grad', '9th', 'HS-grad', 'HS-grad', 'HS-grad', 'HS-grad', 'HS-grad', 'HS-grad', 'Some-college', 'Some-college', 'Some-college', 'Some-college', 'Assoc-voc', 'Bachelors', 'Bachelors', 'HS-grad', 'HS-grad', 'HS-grad', 'HS-grad', 'Some-college', 'Masters', 'HS-grad', 'Some-college', 'Masters', 'Some-college', 'HS-grad', 'Assoc-voc', 'HS-grad', 'Bachelors', 'Some-college', 'Some-college', 'Some-college', '5th-6th', 'HS-grad', 'HS-grad', 'Bachelors', 'Bachelors', 'HS-grad', 'Masters', 'Some-college', '11th', 'Bachelors', 'Some-college', 'HS-grad', '10th', 'Bachelors', 'HS-grad', 'HS-grad', 'Assoc-acdm', 'Bachelors', 'Assoc-acdm', 'Assoc-voc', 'Masters', 'Bachelors', 'HS-grad', 'HS-grad', 'HS-grad', 'HS-grad', 'HS-grad', 'Masters', 'Preschool', 'HS-grad', 'Assoc-acdm', '11th', 'Assoc-voc', 'Assoc-acdm', 'HS-grad', 'Doctorate', 'Some-college', 'Some-college', 'Bachelors', '10th', 'Some-college', 'Some-college', 'Assoc-acdm', '10th', 'HS-grad', 'HS-grad', '10th', 'Some-college', 'Bachelors', '11th', 'Some-college', 'HS-grad', '11th', 'Bachelors', 'Some-college', 'HS-grad', '10th', 'Prof-school', 'Bachelors', 'HS-grad', 'Prof-school', '11th', 'Preschool', 'Some-college', 'Bachelors', 'Some-college', 'Masters', 'Some-college', 'HS-grad', '11th', 'HS-grad', 'Bachelors', 'Some-college', 'Assoc-voc', '7th-8th', 'HS-grad', 'Assoc-voc', 'Bachelors', 'Some-college', 'HS-grad', 'Some-college', 'Some-college', 'Bachelors', 'HS-grad', 'Bachelors', 'Some-college', 'Masters', 'Masters', 'Some-college', 'Some-college', 'Bachelors', 'Some-college', 'Bachelors', 'HS-grad', '9th', 'HS-grad', 'Bachelors', 'HS-grad', 'Some-college', 'Bachelors', 'HS-grad', 'HS-grad', 'HS-grad', 'HS-grad', 'HS-grad', 'Bachelors', 'HS-grad', 'Assoc-voc', 'HS-grad', 'Bachelors', '11th', 'HS-grad', 'HS-grad', 'Some-college', 'Bachelors', '5th-6th', '5th-6th', 'HS-grad', '10th', 'HS-grad', 'HS-grad', 'Some-college', 'HS-grad', 'HS-grad', 'Assoc-voc', 'Some-college', 'HS-grad', 'Bachelors', 'Some-college', 'HS-grad', 'HS-grad', 'Some-college', 'Bachelors', 'HS-grad', '10th', 'Prof-school', 'HS-grad', '9th', 'Masters', 'Masters', '11th', 'Doctorate', 'HS-grad', 'HS-grad', 'Assoc-acdm', 'Bachelors', 'HS-grad', 'Masters', 'HS-grad', 'Masters', 'Some-college', 'Some-college', 'Some-college', 'Assoc-voc', 'HS-grad', 'Preschool', 'Some-college', 'HS-grad', '9th', 'HS-grad', '9th', 'HS-grad', 'Some-college', 'HS-grad', 'HS-grad', 'Some-college', 'HS-grad', 'Some-college', 'HS-grad', 'Masters', 'Bachelors', 'Some-college', 'HS-grad', 'Assoc-voc', 'HS-grad', 'HS-grad', 'Some-college', 'Bachelors', 'HS-grad', 'Masters', 'Some-college', '1st-4th', 'HS-grad', 'Bachelors', 'Preschool', 'HS-grad', '7th-8th', 'HS-grad', 'Bachelors', 'Assoc-acdm', '12th', 'Bachelors', 'HS-grad', 'Assoc-voc', 'Prof-school', 'HS-grad', 'Some-college', 'HS-grad', 'Some-college', 'Masters', 'Bachelors', 'HS-grad', 'HS-grad', '9th', 'HS-grad', '7th-8th', 'HS-grad', '9th', 'Bachelors', 'Assoc-acdm', 'HS-grad', 'Some-college', 'Some-college', 'HS-grad', 'HS-grad', 'Some-college', 'Some-college', 'HS-grad', '7th-8th', 'Some-college', 'HS-grad', 'Masters', 'Assoc-voc', 'Some-college', '10th', 'Masters', 'Some-college', 'Bachelors', 'Assoc-acdm', 'HS-grad', 'HS-grad', 'Bachelors', 'HS-grad', '5th-6th', 'Masters', 'Some-college', 'Prof-school', 'Bachelors', 'HS-grad', 'HS-grad', 'HS-grad', 'Assoc-acdm', 'Bachelors', 'HS-grad', 'Some-college', 'HS-grad', 'Some-college', 'Prof-school', 'HS-grad', 'HS-grad', 'Some-college', 'Some-college', 'Bachelors', 'HS-grad', 'Some-college', 'HS-grad', 'Some-college', 'HS-grad', 'Assoc-voc', 'HS-grad', 'Bachelors', 'HS-grad', 'HS-grad', 'HS-grad', 'HS-grad', 'HS-grad', 'Bachelors', 'Assoc-acdm', 'Masters', 'Some-college', '10th', 'HS-grad', 'Bachelors', 'HS-grad', 'HS-grad', 'Some-college', 'Bachelors', 'Masters', 'Some-college', 'Bachelors', 'HS-grad', 'HS-grad', 'Bachelors', 'HS-grad', 'HS-grad', 'Some-college', 'Bachelors', 'HS-grad', 'Assoc-voc', 'HS-grad', '7th-8th', 'HS-grad', 'Some-college', 'Bachelors', 'Some-college', 'Some-college', 'Some-college', 'HS-grad', 'Bachelors', 'Masters', '11th', 'Bachelors', 'HS-grad', 'HS-grad', 'Some-college', 'HS-grad', 'HS-grad', 'Some-college', 'Some-college', 'Masters', '12th', 'HS-grad', 'HS-grad', 'HS-grad', 'Some-college', 'Assoc-voc', 'Bachelors', '10th', 'Some-college', 'HS-grad', 'Masters', 'Assoc-voc', 'HS-grad', 'HS-grad', 'HS-grad', 'HS-grad', 'Prof-school', 'Some-college', '10th', 'HS-grad', 'HS-grad', 'HS-grad', 'Masters', 'Some-college', 'Bachelors', 'Assoc-voc', 'Some-college', 'Bachelors', 'Bachelors', 'Some-college', 'HS-grad', 'HS-grad', 'Masters', 'HS-grad', '11th', 'HS-grad', 'HS-grad', '1st-4th', 'Some-college', 'Some-college', 'Bachelors', 'HS-grad', 'HS-grad', 'Assoc-voc', '11th', 'Bachelors', 'Some-college', 'Bachelors', 'Some-college', 'HS-grad', 'Some-college', 'HS-grad', 'HS-grad', 'Some-college', 'Some-college', 'Some-college', 'Some-college', '5th-6th', 'Some-college', 'HS-grad', 'Assoc-acdm', 'Bachelors', 'Some-college', 'HS-grad', '11th', 'HS-grad', '11th', 'Bachelors', 'Bachelors', 'Bachelors', '9th', 'HS-grad', 'HS-grad', '11th', 'HS-grad', 'HS-grad', 'Bachelors', 'HS-grad', 'Some-college', 'Some-college', 'Some-college', 'Some-college', 'HS-grad', 'Masters', 'HS-grad', 'HS-grad', 'Bachelors', 'Some-college', 'Prof-school', 'HS-grad', 'HS-grad', 'Prof-school', 'HS-grad', 'Bachelors', 'Bachelors', 'Bachelors', 'Some-college', 'Masters', 'HS-grad', '9th', 'HS-grad', 'HS-grad', 'Some-college', 'HS-grad', 'Bachelors', 'HS-grad', 'Masters', 'HS-grad', '11th', 'HS-grad', 'Some-college', 'Prof-school', 'HS-grad', 'HS-grad', 'Bachelors', 'HS-grad', '10th', 'HS-grad', 'Some-college', '5th-6th', '11th', 'Some-college', 'Bachelors', 'Masters', 'Preschool', 'Masters', 'Assoc-voc', 'Doctorate', 'HS-grad', 'Bachelors', 'Prof-school', 'HS-grad', 'HS-grad', 'HS-grad', 'Some-college', 'Masters', 'HS-grad', '5th-6th', 'Some-college', 'HS-grad', 'Prof-school', 'HS-grad', '11th', '11th', 'HS-grad', 'HS-grad', 'Some-college', '11th', 'HS-grad', '11th', 'HS-grad', 'Assoc-voc', '10th', 'Doctorate', '10th', 'Bachelors', 'Masters', '10th', 'Bachelors', '10th', '9th', 'Some-college', 'Bachelors', '9th', 'Doctorate', 'Some-college', '11th', 'Some-college', 'HS-grad', '5th-6th', 'Masters', 'Masters', 'Assoc-voc', 'Some-college', 'Bachelors', 'HS-grad', 'HS-grad', 'HS-grad', 'HS-grad', 'Bachelors', '9th', 'Bachelors', 'Assoc-acdm', 'HS-grad', 'Bachelors', 'HS-grad', 'HS-grad', 'HS-grad', 'Some-college', 'Some-college', 'Masters', 'Bachelors', 'HS-grad', 'Bachelors', 'Some-college', 'Bachelors', 'Bachelors', 'HS-grad', 'HS-grad', 'Some-college', 'HS-grad', 'HS-grad', 'Some-college', 'Prof-school', 'Masters', 'HS-grad', 'Some-college', 'HS-grad', 'Some-college', 'Bachelors', 'HS-grad', 'Some-college', 'Some-college', 'HS-grad', 'Some-college', 'Doctorate', 'HS-grad', 'Some-college', 'HS-grad', 'Bachelors', '11th', 'Some-college', 'HS-grad', 'HS-grad', 'Assoc-acdm', 'Some-college', 'Assoc-voc', 'Bachelors', 'HS-grad', 'Assoc-voc', 'Bachelors', 'Masters', 'Masters', 'HS-grad', 'HS-grad', 'Some-college', 'Some-college', 'Masters', 'HS-grad', 'Bachelors', 'HS-grad', 'Bachelors', 'HS-grad', 'HS-grad', '7th-8th', '5th-6th', 'Bachelors', 'HS-grad', 'Some-college', 'HS-grad', 'Masters', 'Bachelors', 'Some-college', 'Bachelors', 'Some-college', 'HS-grad', 'Bachelors', '11th', '1st-4th', 'Some-college', 'HS-grad', 'Some-college', 'Some-college', 'Masters', 'Some-college', '7th-8th', '10th', 'HS-grad', '5th-6th', '7th-8th', '11th', 'Masters', 'HS-grad', 'HS-grad', 'HS-grad', 'HS-grad', '11th', 'Assoc-acdm', 'Some-college', 'HS-grad', 'Bachelors', '9th', 'Assoc-acdm', 'Some-college', 'Assoc-voc', 'HS-grad', 'Some-college', 'HS-grad', 'Assoc-acdm', 'Bachelors', 'Assoc-voc', 'HS-grad', 'HS-grad', 'Some-college', '1st-4th', '5th-6th', 'Some-college', 'Some-college', 'HS-grad', 'Some-college', 'Bachelors', 'Assoc-voc', 'Bachelors', 'Assoc-voc', 'HS-grad', 'HS-grad', '5th-6th', 'HS-grad', 'Masters', 'Bachelors', 'HS-grad', 'Assoc-voc', 'HS-grad', 'HS-grad', '11th', 'Some-college', 'Bachelors', 'Some-college', '11th', 'Some-college', 'Bachelors', 'HS-grad', '7th-8th', 'Some-college', 'HS-grad', 'Masters', 'HS-grad', 'HS-grad', '7th-8th', 'HS-grad', 'HS-grad', 'Some-college', 'Some-college', 'Bachelors', 'Some-college', 'Bachelors', 'Some-college', 'HS-grad', 'Bachelors', 'Assoc-voc', 'Bachelors', 'Some-college', 'Assoc-voc', '11th', 'Some-college', '11th', 'HS-grad', 'HS-grad', 'Bachelors', 'Masters', '10th', 'Some-college', 'Some-college', 'HS-grad', 'Bachelors', '10th', 'HS-grad', 'HS-grad', 'Some-college', 'Some-college', 'Assoc-voc', 'Bachelors', '12th', 'Masters', '5th-6th', 'Some-college', 'Masters', 'HS-grad', 'Some-college', 'HS-grad', 'HS-grad', 'Masters', 'Prof-school', 'Assoc-voc', 'Bachelors', '11th', 'HS-grad', 'HS-grad', 'Bachelors', 'Some-college', 'Some-college', 'Bachelors', 'HS-grad', 'HS-grad', 'Some-college', 'Bachelors', 'Bachelors', '7th-8th', 'Assoc-acdm', 'HS-grad', 'Bachelors', 'HS-grad', 'Assoc-voc', '7th-8th', 'Some-college', 'HS-grad', 'Assoc-acdm', 'Some-college', 'Bachelors', 'HS-grad', 'Bachelors', 'Some-college', 'Some-college', 'Bachelors', '10th', 'Bachelors', 'Bachelors', 'Masters', '11th', 'HS-grad', 'HS-grad', 'Masters', '7th-8th', 'HS-grad', 'Some-college', 'Some-college', '10th', 'Some-college', '10th', 'Some-college', 'Bachelors', 'Doctorate', 'Bachelors', 'Some-college', '9th', 'Some-college', 'Some-college', 'Some-college', 'HS-grad', 'Some-college', 'HS-grad', 'HS-grad', 'Some-college', 'HS-grad', '7th-8th', 'Masters', 'HS-grad', 'HS-grad', 'Bachelors', 'Assoc-acdm', '5th-6th', 'HS-grad', 'Some-college', 'Some-college', 'Some-college', 'Some-college', 'Bachelors', 'HS-grad', 'Some-college', 'HS-grad', '9th', 'HS-grad', 'Some-college', '12th', 'Some-college', 'Assoc-voc', 'Prof-school', 'HS-grad', '12th', 'Masters', 'Some-college', 'Bachelors', 'Some-college', 'Bachelors', 'Prof-school', 'HS-grad', '11th', 'HS-grad', 'Bachelors', '11th', 'Bachelors', '1st-4th', 'Some-college', 'Prof-school', 'Some-college', 'HS-grad', 'Bachelors', 'Bachelors', 'Bachelors', 'Assoc-acdm', 'HS-grad', 'Bachelors', 'HS-grad', 'Masters', 'HS-grad', 'Masters', 'Some-college', 'Bachelors', 'Assoc-acdm', 'HS-grad', 'Bachelors', 'Some-college', 'HS-grad', 'HS-grad', 'Bachelors', 'Some-college', 'Some-college', 'Bachelors', '11th', 'Some-college', '9th', 'Some-college', '10th', 'Bachelors', 'Masters', 'Bachelors', 'Assoc-voc', 'Bachelors', 'Bachelors', 'HS-grad', '12th', 'Bachelors', 'HS-grad', 'Assoc-voc', 'Bachelors', 'Bachelors', 'Assoc-voc', '11th', 'HS-grad', 'HS-grad', 'HS-grad', '11th', 'Bachelors', '10th', 'Doctorate', 'Doctorate', 'HS-grad', 'HS-grad', '11th', 'HS-grad', 'Bachelors', 'Bachelors', '10th', 'HS-grad', 'HS-grad', 'Masters', 'HS-grad', 'Bachelors', '12th', '9th', 'HS-grad', 'Masters', 'HS-grad', 'Some-college', 'HS-grad', 'HS-grad', 'HS-grad', '7th-8th', 'Bachelors', 'Bachelors', 'Some-college', 'HS-grad', 'Some-college', 'Some-college', '12th', 'Some-college', 'Some-college', 'Some-college', 'Prof-school', 'Some-college', '11th', '12th', 'HS-grad', 'HS-grad', 'HS-grad', 'Bachelors', 'HS-grad', 'Some-college', 'Bachelors', 'HS-grad', 'Some-college', 'HS-grad', 'Some-college', 'Some-college', 'Bachelors', 'Some-college', 'HS-grad', 'Some-college', 'Some-college', 'Some-college', 'Assoc-acdm', 'Bachelors', 'Bachelors', 'HS-grad', 'Some-college', 'Some-college', 'HS-grad', 'Some-college', 'Assoc-acdm', 'Bachelors', 'HS-grad', 'HS-grad', 'Bachelors', '10th', 'Prof-school', 'Bachelors', 'HS-grad', '11th', 'Some-college', '10th', 'Some-college', 'Bachelors', '12th', 'HS-grad', 'HS-grad', '11th', 'HS-grad', 'Bachelors', '11th', 'Bachelors', 'HS-grad', 'HS-grad', 'Bachelors', 'Bachelors', 'HS-grad', 'HS-grad', 'Assoc-voc', 'Masters', 'Bachelors', '12th', 'Some-college', 'Bachelors', '10th', 'HS-grad', 'Bachelors', 'Some-college', 'Some-college', 'Bachelors', 'Some-college', 'HS-grad', '10th', 'Some-college', 'Some-college', 'HS-grad', 'HS-grad', 'Assoc-voc', 'Bachelors', 'Bachelors', 'HS-grad', 'Bachelors', 'HS-grad', 'Some-college', 'HS-grad', 'HS-grad', 'Assoc-voc', 'Assoc-acdm', '11th', 'HS-grad', 'HS-grad', 'HS-grad', '10th', 'HS-grad', 'Some-college', '9th', 'Some-college', 'HS-grad', 'Some-college', 'HS-grad', 'Prof-school', 'HS-grad', 'Masters', 'HS-grad', 'HS-grad', 'Some-college', 'HS-grad', 'Bachelors', 'Prof-school', 'Assoc-voc', 'Assoc-voc', 'HS-grad', 'Some-college', 'Bachelors', 'Some-college', '11th', 'Masters', 'HS-grad', 'Some-college', 'Some-college', 'HS-grad', 'HS-grad', 'Bachelors', 'HS-grad', 'HS-grad', 'Bachelors', 'Some-college', 'HS-grad', '10th', '10th', 'Assoc-voc', 'Masters', 'HS-grad', 'Bachelors', '10th', 'Some-college', 'Prof-school', 'HS-grad', 'Assoc-voc', 'Bachelors', 'Assoc-voc', 'Masters', 'Assoc-voc', 'Bachelors', 'HS-grad', 'HS-grad', 'Bachelors', 'Some-college', 'HS-grad', 'Some-college', 'HS-grad', 'HS-grad', 'Some-college', 'Some-college', 'Some-college', 'Some-college', 'HS-grad', 'Some-college', 'Some-college', 'Some-college', 'Some-college', 'Some-college', 'Bachelors', 'HS-grad', 'HS-grad', 'HS-grad', 'Bachelors', 'HS-grad', '9th', 'HS-grad', '12th', 'HS-grad', 'HS-grad', 'HS-grad', 'Some-college', 'HS-grad', 'Some-college', 'HS-grad', 'HS-grad', 'Some-college', 'HS-grad', 'Some-college', 'Some-college', 'Some-college', 'Some-college', 'Some-college', 'HS-grad', 'Some-college', 'Bachelors', 'Some-college', 'Some-college', 'HS-grad', 'Some-college', 'Bachelors', 'Prof-school', '11th', 'Assoc-voc', 'HS-grad', '5th-6th', 'Bachelors', 'HS-grad', 'HS-grad', 'Masters', 'Bachelors', 'HS-grad', 'HS-grad', 'Bachelors', 'HS-grad', 'HS-grad', 'Some-college', 'Bachelors', 'Some-college', 'Some-college', 'HS-grad', '5th-6th', 'Bachelors', 'Bachelors', 'HS-grad', 'Bachelors', 'HS-grad', '9th', 'Prof-school', 'HS-grad', 'Some-college', 'Bachelors', '11th', 'Bachelors', 'Some-college', 'Some-college', 'Bachelors', '7th-8th', '11th', 'Some-college', 'Assoc-acdm', 'Masters', 'HS-grad', 'Some-college', 'Some-college', 'Some-college', 'Some-college', 'HS-grad', 'Bachelors', 'HS-grad', 'HS-grad', 'Some-college', 'Some-college', 'Some-college', 'Assoc-voc', 'HS-grad', 'Bachelors', 'Bachelors', 'Some-college', 'Some-college', 'Assoc-voc', 'Some-college', 'Bachelors', 'Some-college', 'HS-grad', 'HS-grad', 'Some-college', 'Bachelors', 'Bachelors', 'Bachelors', 'Some-college', 'Some-college', 'Bachelors', 'HS-grad', '10th', 'Some-college', 'Some-college', 'Some-college', 'Bachelors', 'HS-grad', 'Doctorate', 'Assoc-voc', 'Some-college', 'HS-grad', 'Assoc-voc', 'Masters', 'Bachelors', 'HS-grad', 'Some-college', 'Some-college', 'Assoc-acdm', '7th-8th', 'HS-grad', 'Some-college', 'Some-college', 'Bachelors', 'Bachelors', 'Some-college', 'HS-grad', 'Bachelors', 'HS-grad', 'Bachelors', '11th', 'Bachelors', '9th', 'HS-grad', 'HS-grad', 'Bachelors', 'HS-grad', 'HS-grad', 'Some-college', 'Some-college', 'Some-college', 'HS-grad', '10th', 'HS-grad', 'Bachelors', 'Some-college', '7th-8th', 'HS-grad', 'Some-college', 'Assoc-acdm', 'Bachelors', 'HS-grad', 'Bachelors', 'HS-grad', 'Some-college', 'Bachelors', 'HS-grad', 'Assoc-acdm', 'Some-college', 'Some-college', 'HS-grad', 'HS-grad', 'HS-grad', 'HS-grad', 'HS-grad', 'Bachelors', 'Some-college', 'Some-college', 'Bachelors', 'HS-grad', 'Some-college', 'Assoc-acdm', 'Doctorate', 'Bachelors', '11th', 'Some-college', 'Some-college', 'Some-college', 'Bachelors', 'Prof-school', 'Bachelors', 'Bachelors', 'Bachelors', 'HS-grad', '12th', 'Bachelors', 'Bachelors', 'HS-grad', 'Some-college', '10th', 'HS-grad', 'HS-grad', '12th', '11th', 'Some-college', 'Assoc-acdm', '10th', 'HS-grad', 'HS-grad', 'HS-grad', 'Bachelors', 'Bachelors', 'HS-grad', 'HS-grad', 'Bachelors', 'Assoc-voc', 'Some-college', 'Bachelors', 'Bachelors', 'Some-college', 'Some-college', 'Assoc-acdm', 'Masters', 'Bachelors', 'Bachelors', 'Bachelors', 'Assoc-acdm', 'HS-grad', '11th', 'HS-grad', 'HS-grad', '5th-6th', 'Bachelors', 'HS-grad', 'Bachelors', 'Some-college', 'HS-grad', 'Masters', 'HS-grad', 'HS-grad', 'Masters', 'Some-college', 'Some-college', 'Bachelors', 'Masters', 'HS-grad', 'HS-grad', 'Bachelors', 'HS-grad', 'HS-grad', 'Bachelors', 'HS-grad', 'HS-grad', 'HS-grad', '12th', 'HS-grad', 'Bachelors', 'Bachelors', 'HS-grad', 'Some-college', '7th-8th', 'Some-college', 'Some-college', 'Some-college', 'Some-college', 'Some-college', 'Bachelors', '1st-4th', 'HS-grad', '11th', 'HS-grad', 'Some-college', 'Bachelors', '11th', 'Bachelors', 'Masters', 'Masters', 'Bachelors', '7th-8th', 'HS-grad', 'Bachelors', 'HS-grad', 'HS-grad', 'HS-grad', 'Some-college', 'Bachelors', 'HS-grad', 'Some-college', 'HS-grad', 'Bachelors', 'Bachelors', '11th', '10th', 'HS-grad', 'HS-grad', 'Bachelors', '11th', 'Some-college', 'Masters', '9th', 'Some-college', 'HS-grad', 'HS-grad', 'Some-college', 'HS-grad', 'Assoc-voc', 'Assoc-voc', 'Prof-school', 'Masters', 'HS-grad', 'HS-grad', 'Assoc-voc', 'HS-grad', 'HS-grad', 'Bachelors', 'Some-college', 'HS-grad', '9th', 'Some-college', 'HS-grad', '11th', 'Some-college', 'Masters', '10th', 'Bachelors', 'Prof-school', 'HS-grad', 'Masters', 'HS-grad', 'Masters', 'Bachelors', 'HS-grad', 'Bachelors', 'HS-grad', 'HS-grad', 'Assoc-voc', 'Some-college', 'HS-grad', 'HS-grad', 'HS-grad', 'Some-college', 'Some-college', 'Bachelors', 'Bachelors', 'HS-grad', 'HS-grad', 'Some-college', 'Some-college', 'HS-grad', '7th-8th', '11th', 'Some-college', 'Some-college', 'Assoc-voc', 'HS-grad', 'HS-grad', 'HS-grad', 'Bachelors', 'Some-college', '9th', 'HS-grad', 'HS-grad', 'Masters', 'Bachelors', '9th', 'Some-college', 'HS-grad', 'Some-college', 'HS-grad', 'Prof-school', '11th', '10th', 'Some-college', 'HS-grad', 'Some-college', 'Some-college', 'Some-college', '1st-4th', 'HS-grad', 'HS-grad', 'Assoc-voc', 'HS-grad', 'Bachelors', '10th', 'Assoc-voc', 'HS-grad', 'HS-grad', 'Masters', 'Some-college', 'Bachelors', 'Masters', 'HS-grad', '10th', 'HS-grad', 'Some-college', 'Some-college', '5th-6th', 'Masters', 'HS-grad', 'HS-grad', 'HS-grad', 'Some-college', 'HS-grad', 'HS-grad', 'HS-grad', 'Bachelors', 'Bachelors', 'Some-college', 'Bachelors', 'HS-grad', 'Bachelors', 'Bachelors', 'Some-college', 'HS-grad', 'HS-grad', 'Bachelors', 'HS-grad', 'HS-grad', 'HS-grad', 'HS-grad', 'Bachelors', '12th', 'Bachelors', 'Some-college', 'HS-grad', 'HS-grad', 'Assoc-voc', 'Some-college', '11th', 'Bachelors', 'Bachelors', 'HS-grad', 'Some-college', 'HS-grad', 'HS-grad', 'HS-grad', 'HS-grad', 'Assoc-acdm', 'HS-grad', 'HS-grad', 'Bachelors', 'HS-grad', 'HS-grad', 'Bachelors', 'Some-college', 'HS-grad', 'Bachelors', 'HS-grad', 'Masters', 'Some-college', 'HS-grad', '10th', 'HS-grad', '5th-6th', '5th-6th', '1st-4th', 'Assoc-voc', 'HS-grad', 'HS-grad', '11th', 'Some-college', 'Bachelors', 'HS-grad', 'HS-grad', 'Some-college', 'Masters', 'HS-grad', 'Assoc-voc', 'Some-college', '5th-6th', 'Some-college', 'Prof-school', 'HS-grad', 'Some-college', 'HS-grad', 'Bachelors', 'HS-grad', 'Bachelors', '11th', 'HS-grad', 'Some-college', 'Bachelors', 'HS-grad', '11th', 'Assoc-voc', 'Bachelors', 'Assoc-acdm', 'HS-grad', 'Some-college', 'Some-college', 'Bachelors', 'Bachelors', 'HS-grad', 'HS-grad', 'Some-college', 'HS-grad', '7th-8th', 'HS-grad', '9th', 'Some-college', 'Some-college', 'Bachelors', 'Preschool', 'Some-college', '5th-6th', 'Some-college', 'Bachelors', '5th-6th', 'Bachelors', 'HS-grad', 'Bachelors', '9th', 'Bachelors', 'Bachelors', 'Some-college', 'HS-grad', 'HS-grad', 'Some-college', 'Assoc-voc', '5th-6th', 'HS-grad', 'Some-college', 'Assoc-voc', 'Bachelors', 'Bachelors', '10th', 'Bachelors', 'Assoc-voc', '1st-4th', 'Assoc-voc', 'Some-college', 'HS-grad', 'Some-college', 'HS-grad', 'Some-college', 'HS-grad', 'Some-college', 'HS-grad', 'Prof-school', 'Prof-school', 'HS-grad', 'Assoc-acdm', 'Doctorate', 'Bachelors', 'HS-grad', 'Some-college', 'HS-grad', '11th', 'HS-grad', 'Some-college', 'HS-grad', 'Bachelors', 'HS-grad', 'HS-grad', 'HS-grad', 'HS-grad', 'HS-grad', 'HS-grad', 'HS-grad', '5th-6th', '12th', 'HS-grad', 'Bachelors', 'Some-college', 'Bachelors', 'HS-grad', 'Bachelors', 'Masters', 'Prof-school', 'Assoc-voc', 'Some-college', 'HS-grad', 'Bachelors', 'Bachelors', 'Bachelors', '10th', 'Some-college', 'Bachelors', 'HS-grad', '11th', 'HS-grad', 'Bachelors', 'Bachelors', 'HS-grad', 'Assoc-acdm', 'Masters', 'Assoc-voc', 'Some-college', '11th', 'HS-grad', 'Some-college', 'Some-college', '10th', 'HS-grad', 'Bachelors', 'Bachelors', 'HS-grad', 'HS-grad', '5th-6th', 'HS-grad', '7th-8th', 'HS-grad', 'HS-grad', 'Prof-school', 'Bachelors', 'HS-grad', 'HS-grad', 'Some-college', '11th', 'HS-grad', '1st-4th', 'Bachelors', 'HS-grad', 'Masters', 'Bachelors', 'Some-college', 'HS-grad', 'HS-grad', 'Bachelors', 'HS-grad', 'Bachelors', 'Bachelors', 'Some-college', 'HS-grad', 'Bachelors', 'Some-college', 'Assoc-acdm', 'HS-grad', 'Some-college', 'Bachelors', '12th', 'Some-college', 'Assoc-voc', 'Some-college', 'Masters', 'Bachelors', 'HS-grad', 'Assoc-voc', 'HS-grad', 'Prof-school', 'Prof-school', 'Assoc-acdm', 'Some-college', 'HS-grad', '7th-8th', '9th', 'Some-college', 'Masters', 'Masters', 'Assoc-acdm', 'Some-college', 'HS-grad', 'Prof-school', 'HS-grad', 'Bachelors', 'HS-grad', 'Bachelors', 'Some-college', 'Bachelors', '11th', 'HS-grad', '12th', '10th', 'HS-grad', 'HS-grad', 'Bachelors', '7th-8th', 'HS-grad', 'HS-grad', 'Bachelors', 'Some-college', 'HS-grad', 'Some-college', 'Some-college', 'Bachelors', 'HS-grad', 'HS-grad', 'HS-grad', '10th', 'Some-college', 'Bachelors', 'Masters', 'Bachelors', 'Assoc-voc', 'HS-grad', 'HS-grad', 'Some-college', 'HS-grad', 'HS-grad', 'HS-grad', 'Bachelors', '7th-8th', 'HS-grad', 'Some-college', 'HS-grad', '12th', 'Some-college', 'HS-grad', 'Bachelors', 'Masters', 'HS-grad', 'Some-college', 'Some-college', 'HS-grad', 'Preschool', 'Bachelors', 'Some-college', 'Some-college', 'Some-college', 'Bachelors', 'Masters', '11th', '9th', 'Some-college', 'HS-grad', 'Bachelors', 'Some-college', 'Bachelors', 'Bachelors', 'Bachelors', 'HS-grad', 'Bachelors', 'Masters', 'Bachelors', 'Some-college', 'Bachelors', 'HS-grad', '11th', 'Bachelors', '10th', '7th-8th', 'Some-college', '10th', 'Bachelors', 'Some-college', 'Some-college', 'HS-grad', '1st-4th', 'Bachelors', 'HS-grad', 'HS-grad', 'HS-grad', 'Masters', 'Bachelors', 'Assoc-voc', 'Some-college', 'HS-grad', 'HS-grad', 'HS-grad', 'HS-grad', '7th-8th', '7th-8th', 'Some-college', 'HS-grad', '10th', 'Some-college', 'Masters', 'Some-college', 'Bachelors', 'HS-grad', 'HS-grad', 'Bachelors', 'Prof-school', '7th-8th', '7th-8th', 'HS-grad', 'Assoc-voc', '9th', '1st-4th', 'HS-grad', 'Bachelors', 'HS-grad', 'Some-college', 'Some-college', 'Some-college', 'HS-grad', 'HS-grad', 'Bachelors', 'HS-grad', 'Some-college', 'HS-grad', 'Some-college', 'HS-grad', 'Some-college', 'Some-college', 'HS-grad', 'Some-college', 'HS-grad', 'Some-college', 'Some-college', 'Some-college', 'Bachelors', '12th', 'Bachelors', 'HS-grad', 'Some-college', 'HS-grad', 'HS-grad', '10th', 'Assoc-voc', '10th', 'Assoc-acdm', 'Some-college', 'HS-grad', 'Bachelors', '9th', 'HS-grad', '5th-6th', '11th', 'HS-grad', '10th', 'Bachelors', 'HS-grad', 'HS-grad', 'Bachelors', 'Bachelors', '10th', 'HS-grad', 'HS-grad', 'Some-college', 'Bachelors', 'HS-grad', '11th', '10th', 'HS-grad', 'Masters', 'Some-college', 'Some-college', 'Bachelors', 'HS-grad', 'Masters', 'HS-grad', 'Masters', 'Bachelors', 'Some-college', 'Bachelors', 'HS-grad', 'Some-college', 'HS-grad', 'Doctorate', 'HS-grad', 'Masters', 'Bachelors', 'HS-grad', 'Some-college', 'Some-college', '9th', 'HS-grad', 'Some-college', 'Masters', 'Some-college', 'Masters', 'Some-college', 'Bachelors', 'HS-grad', 'Bachelors', 'Bachelors', 'HS-grad', '10th', 'Bachelors', 'Masters', 'HS-grad', 'HS-grad', 'Bachelors', '12th', 'HS-grad', 'Some-college', 'Bachelors', '1st-4th', 'HS-grad', 'Some-college', 'HS-grad', 'HS-grad', 'Some-college', '10th', 'Some-college', 'Prof-school', 'HS-grad', 'HS-grad', 'HS-grad', 'HS-grad', 'HS-grad', '11th', 'HS-grad', 'Some-college', 'Bachelors', 'Some-college', 'Some-college', 'Bachelors', 'HS-grad', 'Some-college', 'Bachelors', 'Some-college', 'Some-college', 'Bachelors', 'HS-grad', 'HS-grad', 'Bachelors', 'HS-grad', 'Assoc-acdm', 'Some-college', 'Bachelors', 'HS-grad', 'Some-college', '10th', 'Bachelors', '12th', 'Bachelors', '11th', 'Bachelors', 'Bachelors', 'Masters', 'HS-grad', 'Some-college', 'Some-college', 'Assoc-acdm', 'Some-college', 'HS-grad', 'Bachelors', 'Bachelors', 'Some-college', 'Assoc-voc', '5th-6th', 'Bachelors', '11th', 'HS-grad', '10th', 'Some-college', 'Some-college', 'HS-grad', 'HS-grad', 'Assoc-acdm', '10th', '10th', 'Bachelors', 'HS-grad', 'Assoc-voc', 'Bachelors', '11th', '1st-4th', 'Bachelors', 'Some-college', 'Bachelors', 'HS-grad', 'HS-grad', 'Bachelors', 'HS-grad', 'Some-college', 'Bachelors', 'HS-grad', 'Masters', 'Some-college', 'Some-college', 'Assoc-acdm', 'HS-grad', '1st-4th', 'HS-grad', 'Some-college', 'HS-grad', 'HS-grad', 'Assoc-voc', 'Prof-school', 'HS-grad', 'HS-grad', '11th', 'HS-grad', 'Assoc-acdm', 'HS-grad', 'Assoc-voc', 'HS-grad', 'Some-college', 'Assoc-voc', 'Masters', '5th-6th', 'HS-grad', '12th', 'Some-college', 'HS-grad', 'Bachelors', 'Bachelors', 'Some-college', 'Bachelors', 'HS-grad', 'Masters', 'Masters', 'Some-college', 'HS-grad', 'Some-college', 'Bachelors', 'HS-grad', 'Some-college', 'Some-college', 'HS-grad', 'Bachelors', 'Bachelors', 'HS-grad', 'HS-grad', '11th', 'Assoc-voc', '1st-4th', 'Some-college', 'Some-college', 'HS-grad', 'HS-grad', 'Some-college', 'Bachelors', 'Bachelors', '5th-6th', 'HS-grad', 'Masters', 'Bachelors', 'HS-grad', 'Some-college', 'Bachelors', 'Bachelors', 'Assoc-voc', 'Some-college', 'Assoc-acdm', 'HS-grad', 'Bachelors', 'Some-college', 'HS-grad', 'Masters', 'HS-grad', 'HS-grad', 'HS-grad', 'Bachelors', 'HS-grad', 'HS-grad', 'Bachelors', 'Some-college', 'HS-grad', 'Assoc-acdm', 'Some-college', 'Bachelors', 'Some-college', 'HS-grad', 'Assoc-voc', 'Some-college', 'Some-college', 'Bachelors', 'HS-grad', 'HS-grad', 'Some-college', 'Assoc-voc', 'Bachelors', '9th', 'Some-college', 'Some-college', 'HS-grad', 'HS-grad', '1st-4th', 'Assoc-voc', 'Bachelors', 'Masters', 'Some-college', 'HS-grad', 'HS-grad', 'HS-grad', 'Some-college', 'HS-grad', 'Masters', 'Some-college', '12th', '7th-8th', 'Bachelors', 'Bachelors', 'Masters', 'HS-grad', 'Some-college', 'Bachelors', 'Bachelors', 'HS-grad', 'Some-college', '10th', 'Assoc-voc', 'HS-grad', 'HS-grad', 'Some-college', 'Assoc-voc', 'HS-grad', 'Some-college', 'Bachelors', 'HS-grad', 'HS-grad', '9th', 'HS-grad', 'Bachelors', 'HS-grad', 'HS-grad', 'HS-grad', 'Some-college', 'Masters', 'HS-grad', 'Some-college', 'HS-grad', 'Masters', 'Masters', 'Some-college', '7th-8th', 'Bachelors', 'Some-college', 'HS-grad', 'HS-grad', 'Bachelors', 'HS-grad', 'HS-grad', 'Some-college', 'Bachelors', 'Bachelors', 'Bachelors', 'Some-college', 'Some-college', 'Some-college', 'Bachelors', 'Some-college', 'Assoc-voc', 'Some-college', 'Some-college', 'HS-grad', 'HS-grad', 'HS-grad', 'Some-college', 'Some-college', 'HS-grad', 'HS-grad', 'HS-grad', 'Some-college', 'HS-grad', 'Bachelors', 'Some-college', 'HS-grad', 'Bachelors', 'HS-grad', 'Bachelors', 'HS-grad', 'Assoc-acdm', 'Prof-school', 'HS-grad', 'HS-grad', 'Some-college', 'Bachelors', 'Some-college', '11th', '11th', 'HS-grad', '5th-6th', 'Some-college', 'Masters', 'Assoc-voc', 'HS-grad', 'Doctorate', 'Some-college', 'Bachelors', 'HS-grad', 'HS-grad', '11th', '12th', 'Some-college', 'Doctorate', 'Some-college', 'Some-college', 'Bachelors', 'Bachelors', 'Assoc-voc', 'Some-college', 'Some-college', 'HS-grad', 'Bachelors', '11th', 'Masters', 'HS-grad', 'Bachelors', 'Bachelors', 'Prof-school', 'Masters', 'HS-grad', 'HS-grad', 'HS-grad', 'Some-college', '11th', 'Bachelors', '11th', 'Some-college', 'Some-college', 'Bachelors', 'Bachelors', 'Bachelors', 'Assoc-voc', 'HS-grad', 'HS-grad', 'Bachelors', 'HS-grad', 'Doctorate', 'Assoc-acdm', 'HS-grad', 'HS-grad', 'Some-college', 'Some-college', 'Masters', 'Bachelors', 'Assoc-acdm', '12th', 'Some-college', 'Some-college', 'HS-grad', 'HS-grad', 'HS-grad', 'HS-grad', 'HS-grad', 'HS-grad', 'Some-college', 'HS-grad', 'Some-college', 'Some-college', 'Prof-school', 'Assoc-acdm', 'Bachelors', 'HS-grad', 'Bachelors', 'HS-grad', 'HS-grad', '11th', 'Some-college', 'HS-grad', 'HS-grad', 'Some-college', '7th-8th', 'HS-grad', 'Some-college', 'HS-grad', 'Assoc-voc', 'Masters', 'Some-college', 'HS-grad', 'Bachelors', 'Some-college', 'HS-grad', '12th', 'HS-grad', 'Bachelors', 'Some-college', 'HS-grad', 'Some-college', '11th', 'HS-grad', 'Masters', 'HS-grad', 'Masters', 'Bachelors', 'Some-college', 'Some-college', '12th', 'HS-grad', 'Bachelors', 'Bachelors', 'Assoc-voc', 'Masters', 'Some-college', 'Some-college', 'Some-college', 'HS-grad', 'Bachelors', 'Assoc-acdm', 'Assoc-voc', 'HS-grad', '11th', 'Some-college', 'Some-college', 'Bachelors', '7th-8th', 'Doctorate', 'Some-college', '7th-8th', 'Prof-school', 'Assoc-voc', 'Masters', 'Assoc-voc', 'Bachelors', 'Some-college', 'Some-college', 'Some-college', 'Assoc-voc', 'Assoc-voc', 'Some-college', 'Bachelors', 'Assoc-acdm', 'Some-college', 'Some-college', 'Some-college', 'HS-grad', 'Some-college', 'HS-grad', 'Masters', 'Some-college', '10th', 'HS-grad', 'Some-college', 'Some-college', 'Some-college', 'Some-college', 'Some-college', 'HS-grad', 'Assoc-voc', 'Bachelors', 'Bachelors', 'HS-grad', 'Masters', 'Bachelors', 'HS-grad', '7th-8th', 'Bachelors', 'Bachelors', 'Some-college', 'Masters', 'Some-college', 'Some-college', 'Assoc-voc', 'HS-grad', '9th', 'Some-college', 'Some-college', 'Bachelors', 'HS-grad', 'Bachelors', '11th', 'Bachelors', 'Some-college', '7th-8th', '12th', 'Some-college', 'HS-grad', 'HS-grad', 'Masters', 'Some-college', 'Masters', 'Bachelors', 'HS-grad', 'Some-college', 'Bachelors', 'Some-college', 'Some-college', 'Some-college', 'HS-grad', 'Some-college', 'Masters', 'HS-grad', 'Bachelors', 'HS-grad', 'HS-grad', 'Doctorate', 'Masters', 'Assoc-acdm', 'Masters', 'Masters', 'Bachelors', '11th', 'Masters', 'Bachelors', 'Prof-school', '7th-8th', 'HS-grad', 'Some-college', 'Some-college', '11th', 'Some-college', 'Bachelors', 'Some-college', 'HS-grad', 'HS-grad', 'HS-grad', 'Some-college', '10th', '7th-8th', 'Some-college', 'Bachelors', 'Some-college', 'HS-grad', 'HS-grad', 'HS-grad', 'Bachelors', 'Some-college', 'HS-grad', 'HS-grad', 'HS-grad', 'Bachelors', 'HS-grad', 'Bachelors', '9th', 'Bachelors', 'Bachelors', '11th', 'Bachelors', 'Assoc-acdm', 'Some-college', 'Bachelors', 'Some-college', 'Some-college', 'Assoc-voc', '11th', 'Some-college', '7th-8th', 'Doctorate', 'Bachelors', 'HS-grad', 'HS-grad', 'HS-grad', 'Assoc-voc', 'HS-grad', 'Some-college', 'Some-college', 'HS-grad', 'Some-college', 'HS-grad', 'Assoc-voc', 'Some-college', '9th', 'Some-college', 'Bachelors', 'Assoc-voc', 'HS-grad', 'Prof-school', '10th', 'Bachelors', 'HS-grad', 'Bachelors', 'Bachelors', 'Some-college', 'HS-grad', 'HS-grad', 'Some-college', 'Some-college', 'Assoc-acdm', '7th-8th', 'HS-grad', 'Masters', 'HS-grad', 'Some-college', 'Masters', 'HS-grad', 'Bachelors', 'Some-college', 'HS-grad', 'HS-grad', 'HS-grad', 'Some-college', '9th', 'Bachelors', 'Some-college', 'HS-grad', 'Bachelors', 'HS-grad', 'HS-grad', 'Some-college', 'Some-college', 'Bachelors', 'HS-grad', 'Bachelors', '7th-8th', 'HS-grad', 'HS-grad', 'HS-grad', 'Some-college', 'Masters', 'HS-grad', 'Bachelors', 'Masters', 'HS-grad', '9th', 'HS-grad', 'HS-grad', 'Masters', 'HS-grad', 'Bachelors', 'Some-college', '7th-8th', 'HS-grad', 'Some-college', 'Assoc-voc', '11th', 'HS-grad', 'HS-grad', '9th', 'HS-grad', '7th-8th', 'Masters', 'Bachelors', 'Some-college', 'Bachelors', 'Some-college', 'Assoc-voc', 'Some-college', 'HS-grad', 'HS-grad', 'Bachelors', 'HS-grad', 'Some-college', 'Some-college', 'Some-college', 'HS-grad', 'HS-grad', 'HS-grad', '10th', 'Some-college', 'Assoc-voc', 'HS-grad', 'Some-college', '11th', 'Assoc-acdm', 'Doctorate', 'Masters', '10th', 'Assoc-voc', 'HS-grad', 'Some-college', '11th', 'Some-college', 'HS-grad', 'HS-grad', 'HS-grad', 'Some-college', 'Some-college', 'HS-grad', 'Some-college', 'Bachelors', 'Bachelors', 'Assoc-acdm', 'HS-grad', 'Some-college', 'Some-college', 'Bachelors', 'HS-grad', 'HS-grad', 'HS-grad', 'Some-college', 'Bachelors', 'Some-college', 'HS-grad', 'HS-grad', 'Bachelors', 'Bachelors', 'Masters', 'HS-grad', 'HS-grad', 'HS-grad', 'Some-college', 'HS-grad', 'Some-college', 'HS-grad', 'Some-college', 'HS-grad', 'HS-grad', 'Bachelors', 'Some-college', '9th', 'Some-college', 'HS-grad', 'HS-grad', 'HS-grad', 'Assoc-acdm', 'Some-college', 'HS-grad', '9th', 'HS-grad', 'Bachelors', 'HS-grad', 'HS-grad', 'Bachelors', 'HS-grad', 'HS-grad', 'HS-grad', 'Bachelors', 'HS-grad', 'Some-college', 'Some-college', 'HS-grad', '9th', '10th', 'HS-grad', '7th-8th', 'HS-grad', 'Bachelors', 'Some-college', 'HS-grad', 'Some-college', 'Bachelors', 'HS-grad', '7th-8th', 'Bachelors', 'Bachelors', 'HS-grad', 'Some-college', 'Masters', 'Masters', 'HS-grad', 'HS-grad', 'Bachelors', 'Assoc-voc', 'Some-college', 'Assoc-acdm', 'HS-grad', '7th-8th', '10th', 'Some-college', 'Some-college', 'HS-grad', 'Bachelors', 'Some-college', 'Bachelors', '10th', 'HS-grad', 'Masters', 'Some-college', 'Bachelors', 'Assoc-voc', 'HS-grad', 'Bachelors', 'HS-grad', 'Some-college', 'Some-college', 'Masters', 'Masters', 'HS-grad', 'Bachelors', '5th-6th', 'HS-grad', '10th', 'Bachelors', 'Bachelors', 'Some-college', 'HS-grad', 'HS-grad', 'Some-college', '5th-6th', 'Some-college', 'Assoc-voc', '5th-6th', 'Some-college', '10th', '12th', 'HS-grad', '12th', 'HS-grad', '11th', 'Some-college', 'Assoc-voc', 'Bachelors', 'HS-grad', 'Assoc-voc', 'HS-grad', 'HS-grad', 'Assoc-acdm', 'Masters', 'Bachelors', 'HS-grad', '9th', '11th', 'HS-grad', 'Bachelors', '9th', 'HS-grad', 'Some-college', 'Some-college', 'Bachelors', 'Bachelors', 'Some-college', 'Bachelors', 'Assoc-voc', 'Some-college', 'Some-college', '12th', 'Bachelors', 'HS-grad', 'Some-college', 'Bachelors', 'Some-college', 'HS-grad', 'HS-grad', 'Bachelors', 'Bachelors', '10th', 'Prof-school', 'HS-grad', 'Masters', 'Some-college', 'Assoc-acdm', 'Some-college', 'Masters', 'Some-college', 'Masters', 'Some-college', 'Some-college', 'HS-grad', '10th', 'Bachelors', '12th', 'Bachelors', 'Bachelors', 'Some-college', 'Some-college', 'Bachelors', 'Some-college', '5th-6th', 'HS-grad', 'HS-grad', 'HS-grad', '1st-4th', 'Some-college', 'Bachelors', 'Masters', 'HS-grad', 'Prof-school', 'Some-college', 'Some-college', '9th', 'HS-grad', 'Assoc-acdm', 'HS-grad', 'Assoc-voc', 'HS-grad', 'Assoc-acdm', 'HS-grad', 'HS-grad', 'Bachelors', 'Assoc-voc', 'Some-college', '7th-8th', 'Bachelors', 'HS-grad', 'HS-grad', '11th', '10th', 'HS-grad', '12th', 'Bachelors', 'Bachelors', 'Some-college', 'Bachelors', 'HS-grad', 'Bachelors', 'Masters', 'Bachelors', 'Prof-school', 'Some-college', 'Assoc-voc', 'Masters', 'Prof-school', 'HS-grad', '10th', 'Some-college', 'HS-grad', 'Bachelors', 'Some-college', 'HS-grad', 'Some-college', 'Some-college', 'Assoc-voc', 'Assoc-voc', 'HS-grad', 'HS-grad', '10th', 'Doctorate', '9th', '12th', '12th', 'Some-college', 'Bachelors', 'Bachelors', 'HS-grad', 'HS-grad', 'Some-college', 'HS-grad', 'Some-college', 'Bachelors', 'HS-grad', 'Doctorate', 'HS-grad', 'HS-grad', 'Assoc-voc', '11th', 'HS-grad', 'Bachelors', 'HS-grad', 'HS-grad', 'HS-grad', 'Assoc-voc', 'Some-college', 'Assoc-acdm', 'Some-college', '11th', 'Some-college', '9th', 'Some-college', 'HS-grad', 'Doctorate', 'Prof-school', 'Masters', '10th', 'Assoc-acdm', 'Prof-school', 'HS-grad', 'Bachelors', 'Prof-school', 'HS-grad', 'Assoc-voc', 'Assoc-acdm', 'HS-grad', 'HS-grad', 'HS-grad', 'Bachelors', 'Some-college', 'Bachelors', 'HS-grad', 'Bachelors', 'Bachelors', 'Assoc-voc', 'Some-college', 'HS-grad', 'Masters', 'Some-college', 'Bachelors', 'Bachelors', 'HS-grad', 'Assoc-voc', 'Bachelors', 'Some-college', 'HS-grad', 'Assoc-acdm', 'HS-grad', '10th', 'HS-grad', 'Masters', '5th-6th', '9th', 'Assoc-voc', 'HS-grad', 'Some-college', 'HS-grad', 'Some-college', 'Bachelors', 'HS-grad', 'Doctorate', 'Some-college', 'HS-grad', 'HS-grad', 'HS-grad', 'HS-grad', 'Bachelors', 'Masters', 'HS-grad', '5th-6th', 'Bachelors', 'Masters', 'Bachelors', '11th', '7th-8th', 'Assoc-acdm', 'HS-grad', 'Some-college', 'HS-grad', '9th', 'Assoc-voc', 'HS-grad', 'Bachelors', 'HS-grad', 'HS-grad', 'Assoc-acdm', 'Assoc-voc', 'Some-college', 'Bachelors', 'Some-college', 'HS-grad', 'Bachelors', 'Assoc-voc', 'Doctorate', 'Masters', 'HS-grad', 'Bachelors', 'Some-college', '10th', 'Masters', 'Bachelors', 'Bachelors', 'Some-college', 'Prof-school', 'Bachelors', 'Masters', 'HS-grad', '11th', 'Some-college', 'Bachelors', '5th-6th', 'Bachelors', 'HS-grad', 'Some-college', 'Bachelors', 'Assoc-acdm', 'Some-college', 'HS-grad', '12th', 'Some-college', '11th', 'Bachelors', 'Some-college', 'HS-grad', 'Bachelors', 'HS-grad', 'Masters', 'HS-grad', '9th', 'Some-college', 'HS-grad', 'HS-grad', 'HS-grad', 'HS-grad', 'HS-grad', 'Some-college', 'Some-college', 'HS-grad', 'Bachelors', 'Some-college', 'Some-college', 'Bachelors', '5th-6th', 'HS-grad', 'Bachelors', 'HS-grad', 'Some-college', 'Some-college', 'Bachelors', 'Some-college', 'HS-grad', 'Some-college', 'Doctorate', '10th', 'Some-college', 'Some-college', 'HS-grad', 'HS-grad', 'HS-grad', '9th', 'HS-grad', 'Bachelors', 'Assoc-acdm', 'Masters', 'Bachelors', 'HS-grad', 'Doctorate', 'HS-grad', 'Bachelors', 'Bachelors', 'Some-college', 'Some-college', 'Some-college', 'HS-grad', 'Some-college', 'Some-college', 'Masters', 'HS-grad', 'Assoc-voc', 'Some-college', 'Some-college', 'Masters', 'Some-college', 'Assoc-voc', 'Some-college', 'Some-college', 'Assoc-acdm', '7th-8th', '10th', 'HS-grad', 'HS-grad', 'HS-grad', 'Assoc-voc', 'Some-college', 'Some-college', 'Some-college', 'HS-grad', 'Bachelors', 'Some-college', 'HS-grad', 'Some-college', 'HS-grad', 'HS-grad', 'Bachelors', 'HS-grad', '11th', 'Bachelors', 'HS-grad', 'HS-grad', '10th', 'Some-college', '12th', 'Bachelors', 'HS-grad', 'Assoc-acdm', 'Bachelors', 'HS-grad', 'Some-college', 'HS-grad', '7th-8th', 'Some-college', 'Some-college', '10th', 'Some-college', 'Bachelors', 'HS-grad', 'Some-college', 'HS-grad', 'HS-grad', '12th', '11th', 'Some-college', 'HS-grad', 'HS-grad', 'Assoc-voc', 'HS-grad', '5th-6th', 'HS-grad', 'Masters', 'Bachelors', 'Some-college', 'Masters', 'HS-grad', 'Some-college', 'HS-grad', 'HS-grad', 'HS-grad', 'Bachelors', 'Masters', 'Some-college', 'HS-grad', 'HS-grad', 'HS-grad', 'Bachelors', 'Masters', 'HS-grad', 'Masters', 'HS-grad', 'Bachelors', 'Some-college', 'HS-grad', '7th-8th', 'HS-grad', 'HS-grad', 'HS-grad', 'HS-grad', 'Some-college', 'Bachelors', 'Some-college', 'Masters', 'Preschool', 'Bachelors', 'HS-grad', 'HS-grad', 'Bachelors', 'HS-grad', 'HS-grad', 'Some-college', 'HS-grad', 'Assoc-voc', '11th', 'HS-grad', 'Bachelors', 'HS-grad', 'HS-grad', 'Some-college', '5th-6th', 'HS-grad', 'Bachelors', 'HS-grad', 'Some-college', '11th', '11th', 'HS-grad', 'Prof-school', 'HS-grad', 'HS-grad', 'Some-college', 'Bachelors', 'Some-college', 'HS-grad', 'HS-grad', 'Prof-school', 'HS-grad', '5th-6th', 'HS-grad', 'Some-college', 'HS-grad', 'Bachelors', 'Some-college', 'Some-college', 'HS-grad', 'Assoc-voc', 'Assoc-voc', 'Bachelors', 'Some-college', 'HS-grad', 'Bachelors', 'HS-grad', 'Bachelors', 'HS-grad', 'Bachelors', 'Bachelors', 'Some-college', '11th', 'HS-grad', 'Prof-school', '7th-8th', 'HS-grad', '5th-6th', 'Bachelors', 'HS-grad', 'HS-grad', 'HS-grad', 'Some-college', '10th', '7th-8th', 'Some-college', 'Bachelors', 'HS-grad', 'Some-college', '11th', 'Bachelors', 'Bachelors', 'Bachelors', 'Bachelors', '11th', 'HS-grad', 'Masters', 'Bachelors', 'Some-college', '10th', 'Assoc-voc', 'HS-grad', '12th', 'Bachelors', 'Prof-school', 'HS-grad', '10th', 'Masters', 'Assoc-acdm', 'HS-grad', '12th', 'Some-college', 'Some-college', 'Some-college', 'Bachelors', 'Masters', 'HS-grad', 'HS-grad', 'Some-college', '7th-8th', 'Bachelors', 'HS-grad', '11th', 'HS-grad', 'Some-college', 'HS-grad', 'HS-grad', 'Masters', 'Masters', 'Some-college', 'Some-college', 'HS-grad', 'Assoc-voc', 'Some-college', 'Prof-school', 'Some-college', 'HS-grad', 'Assoc-voc', 'Assoc-voc', 'HS-grad', 'Masters', 'Some-college', '1st-4th', 'HS-grad', 'Bachelors', 'Doctorate', 'Assoc-acdm', 'HS-grad', 'Bachelors', 'Some-college', 'Some-college', 'HS-grad', 'Bachelors', 'Some-college', 'Prof-school', 'HS-grad', 'Some-college', 'HS-grad', 'HS-grad', 'Some-college', 'Some-college', 'HS-grad', 'HS-grad', 'HS-grad', 'HS-grad', 'Prof-school', 'Some-college', 'Some-college', 'Bachelors', '12th', '11th', '10th', '11th', 'Bachelors', 'Some-college', 'Bachelors', '12th', 'HS-grad', 'HS-grad', 'HS-grad', 'Some-college', 'HS-grad', '1st-4th', 'HS-grad', '10th', '7th-8th', 'Some-college', 'Some-college', 'HS-grad', 'HS-grad', 'HS-grad', 'HS-grad', 'Some-college', 'Some-college', '11th', 'HS-grad', 'HS-grad', 'Prof-school', 'HS-grad', 'Some-college', 'Some-college', 'HS-grad', 'HS-grad', 'Some-college', 'Bachelors', 'Bachelors', 'Some-college', 'HS-grad', 'Some-college', 'HS-grad', 'HS-grad', 'HS-grad', 'Prof-school', 'Bachelors', 'Some-college', 'HS-grad', 'Masters', '5th-6th', 'Prof-school', 'HS-grad', 'HS-grad', '5th-6th', 'Some-college', 'HS-grad', 'Some-college', 'Some-college', 'Some-college', 'Bachelors', 'Some-college', 'HS-grad', 'Some-college', 'HS-grad', 'HS-grad', 'Assoc-acdm', 'Bachelors', 'Masters', 'Masters', 'Some-college', 'Some-college', 'HS-grad', 'Bachelors', 'Some-college', 'HS-grad', 'Some-college', 'Some-college', 'Bachelors', 'Masters', 'Bachelors', 'HS-grad', 'HS-grad', 'Some-college', 'HS-grad', 'HS-grad', 'Some-college', 'Some-college', 'Some-college', 'HS-grad', 'Bachelors', 'Assoc-acdm', 'Assoc-acdm', 'Masters', '7th-8th', 'Bachelors', 'Assoc-acdm', '9th', 'Bachelors', 'HS-grad', '9th', 'Some-college', 'Bachelors', 'Some-college', 'Bachelors', 'Assoc-voc', 'HS-grad', 'Bachelors', '10th', '7th-8th', 'Assoc-voc', 'HS-grad', 'Bachelors', 'HS-grad', 'HS-grad', 'Bachelors', 'Bachelors', 'Some-college', 'HS-grad', 'HS-grad', 'Some-college', '7th-8th', '10th', 'Bachelors', 'Some-college', 'Bachelors', 'HS-grad', 'HS-grad', '11th', 'HS-grad', 'Bachelors', 'HS-grad', 'Some-college', '11th', 'Bachelors', 'HS-grad', 'HS-grad', 'Some-college', 'HS-grad', 'Prof-school', 'HS-grad', 'Some-college', 'HS-grad', 'Assoc-voc', 'Bachelors', 'Bachelors', '9th', 'Some-college', 'Assoc-voc', 'HS-grad', 'Masters', 'Bachelors', 'HS-grad', 'Some-college', '11th', 'Bachelors', 'Assoc-voc', 'Some-college', 'Masters', 'Some-college', '11th', 'HS-grad', 'Bachelors', 'HS-grad', 'Assoc-voc', 'Assoc-voc', '11th', 'HS-grad', 'HS-grad', 'Some-college', 'Assoc-acdm', 'Some-college', '10th', 'Some-college', 'HS-grad', 'HS-grad', 'Assoc-acdm', 'HS-grad', 'Some-college', 'Some-college', 'Bachelors', 'Bachelors', 'Prof-school', 'HS-grad', 'Some-college', 'Some-college', 'Some-college', 'Bachelors', 'HS-grad', '12th', 'Bachelors', 'Bachelors', 'Bachelors', 'Some-college', '11th', 'Bachelors', 'Some-college', 'Masters', 'HS-grad', 'Bachelors', 'HS-grad', 'HS-grad', 'Bachelors', 'Bachelors', 'Masters', 'Bachelors', 'HS-grad', 'HS-grad', '7th-8th', 'HS-grad', 'Assoc-acdm', '11th', 'Assoc-acdm', 'Some-college', 'Prof-school', 'Bachelors', 'Assoc-voc', 'Bachelors', 'Bachelors', 'Some-college', '7th-8th', 'HS-grad', 'HS-grad', 'HS-grad', 'Bachelors', 'Bachelors', 'Bachelors', 'Some-college', 'HS-grad', 'Some-college', 'Some-college', 'HS-grad', 'Bachelors', 'Bachelors', 'Some-college', 'HS-grad', 'HS-grad', 'Bachelors', '9th', 'HS-grad', 'Masters', '7th-8th', 'HS-grad', 'Assoc-voc', 'Bachelors', 'Some-college', '5th-6th', 'HS-grad', 'HS-grad', 'Some-college', 'Some-college', '9th', 'HS-grad', 'Bachelors', 'Some-college', 'Prof-school', 'HS-grad', '11th', '11th', '10th', 'HS-grad', 'HS-grad', '12th', 'Some-college', 'Masters', 'Bachelors', 'HS-grad', 'HS-grad', 'HS-grad', '11th', 'Masters', '11th', 'HS-grad', 'Some-college', 'HS-grad', 'HS-grad', 'HS-grad', '11th', 'HS-grad', '9th', 'Bachelors', '5th-6th', 'Some-college', 'Some-college', 'HS-grad', 'Some-college', 'HS-grad', 'Some-college', 'Bachelors', 'Some-college', 'Some-college', '5th-6th', 'HS-grad', 'Masters', 'Some-college', 'Bachelors', 'Some-college', 'HS-grad', 'HS-grad', '7th-8th', '11th', 'HS-grad', 'Bachelors', 'Some-college', 'Masters', 'HS-grad', 'Doctorate', 'HS-grad', 'HS-grad', 'Masters', 'Some-college', 'Some-college', 'Prof-school', 'Assoc-acdm', '9th', '11th', 'Bachelors', 'HS-grad', 'Assoc-acdm', 'Bachelors', 'HS-grad', 'HS-grad', 'HS-grad', 'Bachelors', 'Some-college', 'HS-grad', 'Bachelors', '11th', 'HS-grad', '10th', 'Some-college', 'Bachelors', 'Assoc-voc', 'Prof-school', '11th', '5th-6th', '11th', 'HS-grad', 'HS-grad', 'Bachelors', 'Bachelors', '10th', 'HS-grad', 'HS-grad', 'HS-grad', 'HS-grad', 'Masters', '7th-8th', 'Bachelors', 'Bachelors', 'Bachelors', 'Some-college', '10th', '12th', 'Some-college', 'Some-college', 'Assoc-voc', 'Bachelors', 'HS-grad', '10th', 'Masters', 'Assoc-voc', 'Bachelors', 'Bachelors', 'Bachelors', 'Doctorate', 'Assoc-acdm', 'Bachelors', 'HS-grad', 'Bachelors', '11th', 'Bachelors', 'Bachelors', 'HS-grad', 'Some-college', 'Some-college', 'Bachelors', 'HS-grad', 'Bachelors', 'HS-grad', 'HS-grad', 'Masters', 'Bachelors', 'Assoc-voc', 'Some-college', 'Bachelors', 'Bachelors', 'Some-college', 'Some-college', 'Some-college', '11th', '11th', 'Bachelors', 'Some-college', 'Bachelors', '10th', 'Some-college', 'HS-grad', 'Assoc-acdm', 'Bachelors', 'HS-grad', '10th', '10th', 'Masters', 'Bachelors', '11th', 'Assoc-voc', '10th', '10th', '11th', '10th', 'Assoc-voc', 'Masters', 'HS-grad', 'Some-college', 'HS-grad', 'Some-college', 'Bachelors', 'Bachelors', '9th', 'HS-grad', 'Some-college', 'Some-college', '11th', 'Assoc-acdm', 'Bachelors', '11th', 'HS-grad', 'Some-college', 'HS-grad', 'Doctorate', 'Some-college', 'HS-grad', 'HS-grad', 'Some-college', '1st-4th', 'Masters', 'Masters', 'HS-grad', 'Some-college', 'Some-college', 'Bachelors', 'HS-grad', '12th', 'Some-college', 'Doctorate', 'Some-college', 'Some-college', 'HS-grad', 'Some-college', 'Some-college', 'Doctorate', 'Some-college', 'Some-college', 'Assoc-acdm', 'Some-college', 'Some-college', 'HS-grad', 'HS-grad', '9th', 'Some-college', 'HS-grad', 'HS-grad', 'Assoc-voc', 'Assoc-acdm', 'Masters', '11th', '10th', '7th-8th', 'HS-grad', 'Bachelors', 'Bachelors', 'HS-grad', 'Bachelors', 'Bachelors', 'HS-grad', 'Some-college', 'Some-college', 'Bachelors', 'Bachelors', '5th-6th', 'HS-grad', 'HS-grad', 'Some-college', 'Some-college', 'HS-grad', 'Prof-school', 'Bachelors', 'Some-college', 'Prof-school', 'HS-grad', 'Some-college', 'HS-grad', 'HS-grad', 'Some-college', 'Bachelors', 'HS-grad', 'HS-grad', 'Bachelors', 'HS-grad', 'Some-college', 'Prof-school', 'Some-college', 'HS-grad', 'Assoc-voc', 'Bachelors', 'HS-grad', 'HS-grad', 'HS-grad', 'HS-grad', 'Some-college', 'Assoc-voc', 'Some-college', 'Assoc-acdm', 'Bachelors', 'HS-grad', 'Some-college', 'HS-grad', '7th-8th', 'HS-grad', 'Bachelors', 'Some-college', 'Bachelors', 'HS-grad', 'Bachelors', 'HS-grad', 'Preschool', '11th', 'Some-college', 'Some-college', 'HS-grad', 'Assoc-acdm', 'HS-grad', 'Assoc-acdm', 'HS-grad', '10th', 'Bachelors', 'Some-college', 'HS-grad', 'HS-grad', 'HS-grad', 'Bachelors', 'HS-grad', 'Some-college', 'Masters', '11th', 'Some-college', 'Bachelors', '11th', 'Prof-school', 'Bachelors', 'HS-grad', 'Some-college', 'Assoc-voc', 'Bachelors', 'Some-college', 'HS-grad', '7th-8th', 'Assoc-voc', 'HS-grad', 'Bachelors', 'Doctorate', 'HS-grad', 'Some-college', 'Some-college', '9th', 'Bachelors', 'Some-college', 'Bachelors', 'Some-college', 'HS-grad', 'HS-grad', 'HS-grad', 'Bachelors', 'Bachelors', '10th', 'Bachelors', 'HS-grad', 'Some-college', 'HS-grad', 'HS-grad', 'Some-college', 'Some-college', 'Masters', 'Some-college', 'Some-college', 'HS-grad', 'Assoc-acdm', 'Some-college', 'Bachelors', '9th', 'Bachelors', '12th', 'Bachelors', 'Some-college', 'Some-college', 'Bachelors', 'Some-college', 'HS-grad', 'Masters', 'HS-grad', 'Bachelors', 'HS-grad', 'Some-college', 'Bachelors', '10th', 'Some-college', 'Bachelors', 'Bachelors', 'HS-grad', '11th', 'HS-grad', 'Bachelors', 'HS-grad', 'Assoc-voc', 'Assoc-acdm', 'Some-college', 'Prof-school', 'Masters', 'Assoc-voc', '1st-4th', '5th-6th', 'HS-grad', 'HS-grad', 'Some-college', 'HS-grad', 'HS-grad', 'Bachelors', 'Bachelors', 'Some-college', 'Some-college', 'Bachelors', 'HS-grad', 'HS-grad', '9th', 'Assoc-voc', 'HS-grad', 'HS-grad', 'Some-college', 'Some-college', '9th', 'Some-college', 'Some-college', 'HS-grad', 'Bachelors', 'HS-grad', 'HS-grad', 'HS-grad', 'Bachelors', '7th-8th', 'Bachelors', 'Assoc-acdm', 'HS-grad', 'Assoc-acdm', 'Bachelors', 'Some-college', 'Some-college', 'Assoc-acdm', 'HS-grad', 'HS-grad', 'HS-grad', 'HS-grad', 'Bachelors', 'Some-college', 'HS-grad', 'Some-college', 'HS-grad', '10th', 'Some-college', 'HS-grad', 'Some-college', 'Masters', 'Some-college', 'HS-grad', 'HS-grad', 'Some-college', 'Assoc-voc', '7th-8th', 'Bachelors', 'Bachelors', 'Some-college', 'Some-college', 'Masters', 'HS-grad', 'Some-college', 'Assoc-acdm', 'Some-college', 'Bachelors', 'Some-college', 'HS-grad', 'Bachelors', 'HS-grad', 'Some-college', 'Some-college', 'Assoc-voc', 'Some-college', 'Bachelors', 'Some-college', '9th', '11th', 'Some-college', 'HS-grad', 'Masters', 'HS-grad', 'Bachelors', 'Some-college', 'Bachelors', '10th', 'HS-grad', '11th', 'Some-college', 'HS-grad', 'Bachelors', 'HS-grad', 'Bachelors', 'Masters', 'Some-college', 'Bachelors', 'Some-college', 'Assoc-voc', 'Assoc-voc', 'Some-college', 'Bachelors', 'Assoc-acdm', '11th', 'Some-college', 'Masters', 'Some-college', 'Bachelors', 'HS-grad', 'Some-college', 'Some-college', 'Bachelors', 'Some-college', 'HS-grad', 'Some-college', '11th', 'Bachelors', 'Masters', 'Prof-school', 'Some-college', 'Some-college', 'Bachelors', 'Bachelors', '7th-8th', 'HS-grad', 'Some-college', 'HS-grad', 'Some-college', 'HS-grad', 'Masters', 'HS-grad', 'Some-college', '12th', 'Some-college', 'HS-grad', 'Some-college', 'Bachelors', 'Bachelors', 'Some-college', 'Bachelors', 'Bachelors', 'HS-grad', '7th-8th', 'Assoc-acdm', 'Bachelors', 'HS-grad', 'HS-grad', 'Bachelors', 'HS-grad', 'Some-college', 'Some-college', 'HS-grad', 'Some-college', 'Masters', 'HS-grad', 'Some-college', 'Some-college', 'Bachelors', 'Doctorate', 'HS-grad', 'Some-college', 'HS-grad', 'HS-grad', 'HS-grad', 'Some-college', 'HS-grad', 'HS-grad', 'HS-grad', 'HS-grad', 'Some-college', 'Some-college', 'Assoc-voc', 'HS-grad', 'HS-grad', 'HS-grad', 'HS-grad', 'Some-college', 'HS-grad', 'Bachelors', 'Some-college', 'HS-grad', 'Bachelors', 'Assoc-voc', 'Some-college', 'HS-grad', 'Bachelors', '7th-8th', 'HS-grad', 'Bachelors', 'HS-grad', 'HS-grad', 'HS-grad', 'Bachelors', 'HS-grad', 'HS-grad', 'Bachelors', 'Bachelors', 'Bachelors', 'Bachelors', 'Bachelors', 'HS-grad', 'Assoc-voc', 'Some-college', '10th', 'Some-college', 'HS-grad', 'HS-grad', 'Some-college', 'Assoc-voc', 'Bachelors', 'Assoc-acdm', 'Bachelors', 'Bachelors', '5th-6th', 'HS-grad', 'HS-grad', '7th-8th', 'Some-college', 'Doctorate', 'HS-grad', 'Masters', 'HS-grad', 'Some-college', 'Some-college', 'Bachelors', 'HS-grad', 'HS-grad', 'Bachelors', 'HS-grad', 'Some-college', 'HS-grad', 'Some-college', 'Masters', 'Bachelors', 'HS-grad', 'Bachelors', 'Some-college', 'Some-college', 'HS-grad', 'Assoc-acdm', '7th-8th', 'Assoc-acdm', 'Prof-school', 'HS-grad', 'HS-grad', '9th', 'Bachelors', 'Some-college', 'Bachelors', 'Bachelors', 'HS-grad', 'Some-college', 'Assoc-voc', 'Bachelors', 'Some-college', 'HS-grad', 'Bachelors', 'Bachelors', '12th', 'HS-grad', '5th-6th', 'Masters', 'Some-college', 'HS-grad', 'HS-grad', 'Masters', 'Some-college', 'Some-college', 'Some-college', 'Some-college', 'Some-college', 'HS-grad', 'HS-grad', 'HS-grad', 'Some-college', 'Some-college', '5th-6th', 'Bachelors', 'Masters', 'Bachelors', 'Some-college', 'HS-grad', '9th', 'Some-college', 'HS-grad', 'HS-grad', 'HS-grad', 'Bachelors', 'Bachelors', 'Some-college', 'Some-college', 'Masters', 'Bachelors', 'HS-grad', 'HS-grad', 'HS-grad', 'HS-grad', 'HS-grad', 'Bachelors', 'Some-college', 'Masters', 'Bachelors', 'Bachelors', 'Some-college', 'HS-grad', '11th', 'Masters', '11th', 'Bachelors', 'Bachelors', 'Masters', 'Some-college', 'Assoc-voc', 'Some-college', 'Masters', 'Assoc-acdm', '7th-8th', 'HS-grad', 'Assoc-voc', 'Some-college', 'HS-grad', 'HS-grad', '11th', 'HS-grad', 'HS-grad', 'Bachelors', 'Masters', 'HS-grad', 'Some-college', 'Some-college', 'Some-college', 'Masters', 'Some-college', 'Some-college', 'Some-college', 'Some-college', 'HS-grad', 'HS-grad', 'Assoc-acdm', 'HS-grad', 'HS-grad', 'Some-college', 'Some-college', 'Bachelors', '1st-4th', 'Bachelors', 'HS-grad', 'Some-college', 'Some-college', 'HS-grad', 'Bachelors', 'HS-grad', 'HS-grad', 'HS-grad', 'Bachelors', 'Bachelors', 'HS-grad', 'Some-college', 'Some-college', 'Some-college', 'Some-college', 'Assoc-acdm', 'HS-grad', 'Assoc-voc', 'HS-grad', 'Masters', 'Some-college', '5th-6th', 'Masters', 'Bachelors', 'Some-college', 'Some-college', 'HS-grad', 'Assoc-acdm', 'HS-grad', 'Bachelors', 'Some-college', 'Prof-school', '10th', 'Bachelors', 'HS-grad', 'HS-grad', 'Bachelors', '11th', 'Some-college', 'HS-grad', 'Some-college', 'Assoc-acdm', 'Bachelors', 'Prof-school', 'HS-grad', 'HS-grad', 'Doctorate', 'HS-grad', 'Some-college', 'Bachelors', 'HS-grad', 'Some-college', 'Some-college', 'Assoc-voc', 'HS-grad', 'Bachelors', 'Some-college', 'Some-college', 'HS-grad', 'HS-grad', 'Bachelors', 'Some-college', 'HS-grad', 'Some-college', 'HS-grad', 'Some-college', 'Doctorate', 'Some-college', 'Bachelors', 'HS-grad', 'HS-grad', 'Some-college', '10th', 'Doctorate', 'Assoc-acdm', '12th', 'Assoc-voc', 'Some-college', 'Prof-school', 'Some-college', 'HS-grad', 'Some-college', 'Bachelors', 'Some-college', 'HS-grad', 'Bachelors', '10th', '10th', 'HS-grad', 'Bachelors', 'Bachelors', 'Bachelors', 'Assoc-voc', 'HS-grad', 'Prof-school', '10th', 'HS-grad', 'Prof-school', 'Some-college', 'Masters', '7th-8th', '5th-6th', 'Bachelors', 'Prof-school', 'HS-grad', 'Some-college', 'Assoc-acdm', 'Assoc-voc', 'HS-grad', 'Some-college', 'HS-grad', 'HS-grad', '11th', '7th-8th', '11th', 'Assoc-voc', 'HS-grad', 'HS-grad', 'HS-grad', '9th', 'HS-grad', 'Assoc-voc', 'HS-grad', '11th', 'HS-grad', 'Bachelors', 'HS-grad', 'HS-grad', 'HS-grad', '10th', 'HS-grad', 'Assoc-acdm', 'Bachelors', 'HS-grad', 'Some-college', 'Some-college', 'Masters', '12th', '12th', '10th', 'Assoc-voc', 'Some-college', 'HS-grad', 'Some-college', 'Prof-school', 'Some-college', 'Some-college', 'Prof-school', '7th-8th', 'Bachelors', 'Assoc-voc', 'Bachelors', '10th', 'HS-grad', '7th-8th', 'Masters', '7th-8th', '12th', 'Bachelors', 'Masters', 'Prof-school', 'HS-grad', 'HS-grad', 'Some-college', '11th', 'Prof-school', 'Assoc-voc', 'Some-college', 'Assoc-voc', 'Some-college', 'Some-college', 'Some-college', 'HS-grad', 'Bachelors', 'Assoc-voc', 'HS-grad', '9th', 'Bachelors', 'HS-grad', 'HS-grad', 'Some-college', 'Bachelors', 'HS-grad', 'Bachelors', 'Some-college', 'Some-college', 'HS-grad', 'Masters', 'HS-grad', '7th-8th', 'Bachelors', 'Assoc-voc', '9th', 'Bachelors', 'HS-grad', 'Some-college', 'Some-college', 'Bachelors', 'Assoc-acdm', 'Assoc-voc', 'Assoc-acdm', 'Some-college', 'HS-grad', 'Some-college', 'Assoc-voc', 'Some-college', 'HS-grad', 'Doctorate', 'Some-college', 'Some-college', 'Some-college', 'Some-college', 'Some-college', 'HS-grad', 'Some-college', 'Some-college', 'Assoc-voc', 'Masters', 'Some-college', '9th', 'Some-college', 'HS-grad', 'Bachelors', 'HS-grad', 'HS-grad', 'Some-college', 'HS-grad', 'Some-college', 'HS-grad', 'HS-grad', '5th-6th', '10th', 'Assoc-acdm', 'Some-college', 'HS-grad', 'Some-college', '7th-8th', 'HS-grad', '11th', 'HS-grad', 'Some-college', '10th', 'Bachelors', 'HS-grad', '11th', 'HS-grad', 'HS-grad', 'HS-grad', '1st-4th', 'HS-grad', '1st-4th', 'Bachelors', 'HS-grad', 'HS-grad', 'Some-college', 'HS-grad', 'Bachelors', '10th', 'Some-college', 'Some-college', '9th', 'Some-college', 'HS-grad', '7th-8th', 'Some-college', 'Assoc-voc', 'Some-college', 'Masters', 'Bachelors', 'HS-grad', 'Bachelors', 'HS-grad', '11th', 'HS-grad', 'Some-college', 'Some-college', 'Bachelors', 'Some-college', 'Assoc-voc', 'Some-college', '10th', 'Assoc-acdm', 'HS-grad', 'Masters', 'Some-college', 'HS-grad', 'Some-college', 'Bachelors', 'Some-college', 'Some-college', 'HS-grad', 'Bachelors', 'HS-grad', 'Some-college', '5th-6th', 'Some-college', 'HS-grad', 'HS-grad', 'HS-grad', '11th', 'Some-college', 'HS-grad', 'HS-grad', 'Some-college', 'Some-college', 'Bachelors', 'Bachelors', 'Some-college', 'HS-grad', 'Bachelors', 'Masters', '12th', 'Some-college', 'HS-grad', 'Bachelors', 'Assoc-voc', 'Doctorate', 'Prof-school', 'Bachelors', 'Prof-school', '10th', '9th', 'Bachelors', 'Bachelors', 'HS-grad', 'Some-college', 'Some-college', 'Some-college', 'Some-college', 'Bachelors', 'Bachelors', '10th', 'HS-grad', 'HS-grad', 'Bachelors', 'Some-college', 'Some-college', 'Assoc-acdm', 'Assoc-voc', 'Bachelors', 'Some-college', 'Assoc-acdm', 'Bachelors', 'Masters', '11th', 'HS-grad', 'Masters', '7th-8th', 'HS-grad', 'HS-grad', 'Some-college', '10th', 'Some-college', 'HS-grad', 'HS-grad', 'HS-grad', 'Masters', 'HS-grad', 'Some-college', 'Some-college', 'Bachelors', 'Some-college', '10th', 'HS-grad', 'Some-college', 'Bachelors', 'Some-college', 'HS-grad', 'Some-college', 'Masters', 'HS-grad', 'Some-college', 'Doctorate', 'Some-college', 'Bachelors', 'Some-college', '11th', 'HS-grad', 'Some-college', 'HS-grad', 'HS-grad', 'HS-grad', 'HS-grad', 'Prof-school', '10th', 'Assoc-acdm', 'Some-college', '10th', 'Assoc-voc', 'Some-college', 'HS-grad', 'Assoc-acdm', 'HS-grad', 'Bachelors', 'Bachelors', 'Masters', 'HS-grad', 'Assoc-voc', 'Some-college', 'Bachelors', 'Some-college', 'Bachelors', 'Bachelors', 'Bachelors', 'Bachelors', '7th-8th', '5th-6th', 'Some-college', '10th', 'Bachelors', 'HS-grad', 'HS-grad', 'HS-grad', 'HS-grad', 'Some-college', 'HS-grad', 'Bachelors', 'Bachelors', 'Some-college', 'Bachelors', '10th', 'HS-grad', 'Assoc-voc', 'HS-grad', 'HS-grad', 'HS-grad', 'HS-grad', 'Bachelors', '12th', 'Bachelors', 'Some-college', 'HS-grad', 'HS-grad', 'Assoc-acdm', 'Assoc-voc', 'Masters', 'Masters', 'HS-grad', 'HS-grad', 'Bachelors', 'Bachelors', 'Bachelors', 'Some-college', 'HS-grad', 'Assoc-voc', 'Some-college', 'HS-grad', 'HS-grad', 'HS-grad', 'Some-college', 'Assoc-voc', '9th', 'Bachelors', 'Assoc-acdm', 'Some-college', 'HS-grad', 'Bachelors', 'HS-grad', '12th', 'HS-grad', 'HS-grad', 'Bachelors', 'Assoc-acdm', 'Bachelors', 'Some-college', 'Assoc-acdm', 'HS-grad', 'Some-college', 'Some-college', '5th-6th', 'Prof-school', 'Assoc-acdm', 'Bachelors', 'Bachelors', 'Doctorate', 'Prof-school', '10th', 'Some-college', '11th', '9th', 'HS-grad', 'HS-grad', 'Some-college', 'HS-grad', 'HS-grad', 'Some-college', 'HS-grad', 'HS-grad', 'Assoc-voc', '11th', '11th', 'Some-college', 'Assoc-acdm', 'Assoc-acdm', 'HS-grad', 'Prof-school', 'HS-grad', '9th', 'Some-college', 'Some-college', 'Assoc-voc', 'HS-grad', 'Masters', 'Assoc-acdm', '11th', 'Assoc-acdm', 'HS-grad', 'HS-grad', 'HS-grad', 'Doctorate', '11th', 'Some-college', 'HS-grad', '7th-8th', '11th', 'Bachelors', 'Prof-school', 'HS-grad', 'Masters', 'Some-college', 'Some-college', 'Some-college', 'HS-grad', 'Bachelors', 'Assoc-voc', 'Assoc-voc', 'HS-grad', 'Bachelors', 'HS-grad', '1st-4th', 'HS-grad', 'HS-grad', 'Assoc-voc', 'Bachelors', 'HS-grad', 'Bachelors', 'Some-college', 'Some-college', '12th', 'Some-college', 'HS-grad', 'Bachelors', 'Some-college', 'Some-college', 'Preschool', 'HS-grad', 'HS-grad', 'HS-grad', 'Some-college', '10th', 'HS-grad', 'HS-grad', 'Bachelors', 'Masters', 'Some-college', 'Some-college', 'Some-college', 'Prof-school', 'HS-grad', 'Some-college', 'Bachelors', 'Some-college', '11th', '12th', 'Some-college', 'HS-grad', 'Assoc-acdm', 'Some-college', 'HS-grad', 'HS-grad', 'HS-grad', 'Masters', 'Some-college', 'Assoc-voc', 'Prof-school', 'HS-grad', 'Some-college', 'Masters', '9th', 'Some-college', 'Bachelors', 'Some-college', 'HS-grad', 'HS-grad', 'Bachelors', '10th', 'Bachelors', 'Some-college', 'Some-college', 'Prof-school', 'Some-college', 'Assoc-voc', 'HS-grad', 'Bachelors', 'Some-college', 'Assoc-voc', 'Masters', 'HS-grad', 'Some-college', 'Bachelors', 'Some-college', 'Some-college', 'Bachelors', '5th-6th', 'HS-grad', 'HS-grad', 'HS-grad', 'Some-college', 'HS-grad', 'Bachelors', 'Bachelors', 'Bachelors', 'Bachelors', 'Some-college', 'Some-college', 'Some-college', 'Some-college', 'HS-grad', 'Bachelors', 'Bachelors', 'Bachelors', 'Bachelors', 'Some-college', 'HS-grad', 'Masters', 'Masters', 'Some-college', 'Some-college', 'Bachelors', 'Bachelors', 'Some-college', 'Bachelors', 'HS-grad', 'HS-grad', 'Prof-school', 'Some-college', 'Bachelors', 'Bachelors', 'HS-grad', 'Assoc-acdm', 'Doctorate', 'Prof-school', 'Masters', 'Assoc-voc', 'Masters', 'Bachelors', 'Some-college', 'Bachelors', 'HS-grad', 'HS-grad', 'Some-college', '11th', 'Some-college', '5th-6th', 'Bachelors', 'Some-college', 'HS-grad', 'Masters', 'Bachelors', 'Bachelors', 'HS-grad', '11th', 'Some-college', '10th', 'Bachelors', 'Assoc-acdm', 'Bachelors', 'HS-grad', 'HS-grad', 'HS-grad', 'HS-grad', 'HS-grad', 'Bachelors', 'Assoc-voc', 'Bachelors', 'Some-college', 'HS-grad', 'HS-grad', 'HS-grad', 'HS-grad', 'Bachelors', 'HS-grad', 'Some-college', '5th-6th', 'Some-college', 'HS-grad', 'HS-grad', 'HS-grad', 'HS-grad', 'Bachelors', 'Some-college', 'Some-college', 'HS-grad', 'Some-college', 'Some-college', 'HS-grad', 'Prof-school', 'HS-grad', 'Some-college', 'Some-college', '11th', 'HS-grad', 'Bachelors', 'Some-college', 'Prof-school', 'HS-grad', 'HS-grad', 'Some-college', 'HS-grad', 'HS-grad', 'HS-grad', 'HS-grad', 'HS-grad', '10th', 'HS-grad', 'Assoc-acdm', 'HS-grad', 'Prof-school', 'HS-grad', '10th', 'Some-college', '11th', 'HS-grad', 'Bachelors', 'Assoc-acdm', 'Assoc-voc', '5th-6th', 'Assoc-voc', 'HS-grad', 'Assoc-voc', 'Bachelors', 'Some-college', '12th', 'Masters', 'Masters', 'HS-grad', 'Masters', 'HS-grad', '11th', 'Masters', 'Masters', 'HS-grad', 'Some-college', 'HS-grad', 'Bachelors', 'HS-grad', 'HS-grad', 'Bachelors', '7th-8th', 'HS-grad', '11th', 'Some-college', 'HS-grad', 'HS-grad', 'HS-grad', 'HS-grad', 'HS-grad', 'Assoc-voc', '11th', '12th', 'Masters', 'Some-college', 'Some-college', 'HS-grad', 'HS-grad', 'Some-college', 'Bachelors', '5th-6th', 'Assoc-voc', 'Bachelors', '11th', '7th-8th', 'Masters', 'Some-college', 'Bachelors', 'Bachelors', 'Some-college', 'Bachelors', 'Some-college', 'Masters', 'Masters', 'Bachelors', 'Masters', 'HS-grad', 'HS-grad', 'Assoc-acdm', 'Assoc-voc', 'HS-grad', 'HS-grad', 'Bachelors', 'Some-college', 'Bachelors', 'Bachelors', 'Masters', 'HS-grad', 'Masters', 'Bachelors', 'Masters', 'Some-college', '9th', 'Some-college', 'HS-grad', 'HS-grad', 'Some-college', 'HS-grad', 'Bachelors', 'Some-college', 'Assoc-acdm', 'HS-grad', 'HS-grad', 'HS-grad', 'Bachelors', 'HS-grad', 'HS-grad', 'HS-grad', 'HS-grad', 'Assoc-voc', 'Some-college', 'HS-grad', 'HS-grad', 'Prof-school', 'Bachelors', 'Bachelors', 'Some-college', 'Masters', 'Assoc-acdm', 'Some-college', 'Bachelors', 'HS-grad', 'Some-college', 'Some-college', 'HS-grad', 'Some-college', '10th', 'Bachelors', 'Some-college', 'Some-college', 'Some-college', 'HS-grad', 'HS-grad', 'Masters', 'Bachelors', '1st-4th', 'Some-college', 'Assoc-voc', 'HS-grad', 'Some-college', 'Doctorate', 'Bachelors', 'HS-grad', 'Bachelors', 'Masters', 'Some-college', 'HS-grad', '12th', 'Some-college', 'Some-college', 'HS-grad', 'Some-college', 'Some-college', 'HS-grad', 'Some-college', 'Some-college', 'HS-grad', 'Some-college', 'HS-grad', 'Assoc-acdm', 'HS-grad', 'Bachelors', 'HS-grad', 'HS-grad', 'Bachelors', 'Bachelors', 'Masters', 'Some-college', '12th', 'Bachelors', 'HS-grad', 'HS-grad', 'Some-college', 'Some-college', 'Doctorate', 'Assoc-voc', 'Some-college', 'HS-grad', 'HS-grad', 'Bachelors', 'Bachelors', 'HS-grad', 'Some-college', 'Assoc-acdm', 'HS-grad', 'Some-college', 'HS-grad', '5th-6th', 'Bachelors', 'Assoc-acdm', 'Some-college', 'Some-college', 'Some-college', 'Some-college', 'Some-college', 'Bachelors', 'Some-college', 'Assoc-voc', 'Bachelors', 'Some-college', 'Bachelors', '9th', 'HS-grad', '11th', 'HS-grad', 'Bachelors', 'HS-grad', 'HS-grad', 'Bachelors', 'HS-grad', 'Some-college', 'Assoc-acdm', 'Prof-school', '11th', 'Masters', 'HS-grad', 'Some-college', 'HS-grad', 'Some-college', 'Some-college', 'HS-grad', 'Masters', 'Some-college', 'Bachelors', 'HS-grad', '12th', 'HS-grad', 'Some-college', 'Bachelors', 'HS-grad', 'HS-grad', 'HS-grad', 'Assoc-acdm', 'Bachelors', 'HS-grad', 'HS-grad', 'HS-grad', 'Bachelors', 'Some-college', 'HS-grad', 'HS-grad', '11th', 'Some-college', 'Assoc-voc', 'Some-college', 'HS-grad', 'Some-college', '7th-8th', 'HS-grad', 'Some-college', 'Some-college', 'Masters', 'Prof-school', 'Some-college', '10th', '11th', 'HS-grad', 'HS-grad', '11th', 'Masters', 'HS-grad', '9th', 'Masters', '11th', 'HS-grad', 'Some-college', '10th', '12th', 'Some-college', 'Some-college', 'Masters', 'Some-college', 'Prof-school', 'Some-college', 'HS-grad', 'Some-college', 'HS-grad', 'Doctorate', 'Some-college', 'Some-college', 'HS-grad', '10th', 'Masters', 'Bachelors', 'HS-grad', 'Some-college', '12th', 'Assoc-acdm', '10th', 'Some-college', '7th-8th', '1st-4th', 'HS-grad', 'HS-grad', 'Bachelors', 'Some-college', 'Bachelors', 'Bachelors', 'HS-grad', 'Assoc-acdm', 'Bachelors', 'Some-college', '11th', 'Masters', 'HS-grad', 'HS-grad', 'HS-grad', 'Some-college', 'HS-grad', 'Bachelors', '1st-4th', '7th-8th', 'Doctorate', 'Some-college', 'Masters', 'Bachelors', 'Some-college', 'Bachelors', 'Masters', 'Masters', 'Bachelors', 'HS-grad', 'Some-college', 'Assoc-acdm', '11th', 'Bachelors', 'HS-grad', 'Bachelors', 'HS-grad', 'HS-grad', 'Doctorate', '10th', 'HS-grad', 'HS-grad', '11th', 'Bachelors', 'HS-grad', 'Bachelors', 'Bachelors', 'HS-grad', 'HS-grad', 'Some-college', 'Some-college', '1st-4th', 'HS-grad', 'HS-grad', '10th', 'Bachelors', '11th', 'HS-grad', 'Some-college', 'Masters', 'HS-grad', 'Assoc-voc', 'Some-college', 'Prof-school', 'Assoc-acdm', 'Some-college', 'HS-grad', 'Doctorate', 'Masters', 'HS-grad', 'Some-college', 'HS-grad', 'Some-college', 'Some-college', 'Some-college', 'Masters', 'Bachelors', '10th', '11th', 'Assoc-acdm', 'HS-grad', 'Bachelors', 'Assoc-acdm', 'HS-grad', 'Some-college', 'HS-grad', '12th', '9th', 'Masters', 'Assoc-acdm', 'HS-grad', 'HS-grad', 'Assoc-voc', 'Bachelors', 'HS-grad', 'Some-college', 'HS-grad', 'HS-grad', 'Some-college', 'Bachelors', 'HS-grad', 'Masters', 'HS-grad', '10th', 'HS-grad', 'Some-college', 'Some-college', 'HS-grad', 'Some-college', 'Some-college', 'HS-grad', 'Assoc-acdm', '10th', 'Bachelors', 'Some-college', 'Masters', 'HS-grad', 'HS-grad', 'Assoc-acdm', 'Bachelors', 'Assoc-voc', 'HS-grad', 'Bachelors', 'Some-college', 'Assoc-acdm', 'HS-grad', 'Prof-school', 'HS-grad', '1st-4th', 'HS-grad', 'Some-college', 'Bachelors', 'Some-college', 'Masters', '7th-8th', 'HS-grad', 'Bachelors', '10th', '11th', 'Some-college', 'Some-college', 'HS-grad', 'HS-grad', 'HS-grad', 'HS-grad', 'Assoc-voc', 'Bachelors', 'Bachelors', 'Some-college', 'HS-grad', 'Some-college', 'Some-college', 'Some-college', 'Bachelors', '1st-4th', 'Assoc-acdm', 'Some-college', 'Some-college', 'Bachelors', 'Prof-school', 'HS-grad', 'Some-college', 'HS-grad', 'Some-college', 'Some-college', 'Some-college', 'HS-grad', 'Masters', 'HS-grad', 'Some-college', '7th-8th', 'HS-grad', 'HS-grad', 'HS-grad', 'Doctorate', 'HS-grad', 'HS-grad', 'HS-grad', 'HS-grad', 'HS-grad', 'HS-grad', 'HS-grad', '12th', 'Some-college', '12th', 'HS-grad', 'Some-college', 'Bachelors', 'HS-grad', 'Some-college', 'Some-college', 'Bachelors', 'HS-grad', 'Some-college', 'Assoc-acdm', 'HS-grad', '11th', 'HS-grad', 'HS-grad', 'Some-college', '9th', 'Some-college', 'HS-grad', 'Some-college', 'Some-college', 'HS-grad', 'Bachelors', 'Bachelors', '9th', 'HS-grad', 'Some-college', 'HS-grad', 'HS-grad', 'Masters', 'HS-grad', 'Masters', 'HS-grad', 'HS-grad', 'Some-college', 'Assoc-acdm', 'HS-grad', '5th-6th', 'Assoc-voc', 'Masters', '5th-6th', 'Bachelors', 'HS-grad', '11th', 'Some-college', '11th', '11th', 'HS-grad', 'HS-grad', 'HS-grad', 'Some-college', 'Some-college', 'Some-college', 'Masters', '11th', 'HS-grad', 'Some-college', 'Assoc-voc', 'Bachelors', 'Some-college', 'Bachelors', 'HS-grad', '9th', 'HS-grad', 'Some-college', 'HS-grad', 'Some-college', 'HS-grad', 'HS-grad', '10th', 'HS-grad', 'Some-college', 'Bachelors', 'HS-grad', 'Some-college', 'HS-grad', 'HS-grad', 'Assoc-voc', 'Some-college', '10th', 'HS-grad', 'Masters', 'HS-grad', 'Assoc-acdm', 'HS-grad', 'HS-grad', 'Some-college', '10th', 'Assoc-voc', 'HS-grad', '5th-6th', 'HS-grad', 'Bachelors', 'HS-grad', 'Assoc-voc', 'Prof-school', 'Masters', 'HS-grad', 'Some-college', '1st-4th', 'Some-college', '7th-8th', 'HS-grad', 'Masters', 'Some-college', 'Doctorate', 'Bachelors', 'Bachelors', 'Some-college', 'Bachelors', 'HS-grad', 'Assoc-acdm', 'Bachelors', '5th-6th', 'Some-college', 'HS-grad', 'HS-grad', 'Some-college', 'Some-college', 'Assoc-acdm', 'HS-grad', 'HS-grad', 'Some-college', 'Some-college', 'HS-grad', 'HS-grad', 'Doctorate', 'Assoc-voc', '11th', 'Bachelors', 'Some-college', 'HS-grad', 'Some-college', '9th', 'Some-college', '11th', 'Bachelors', 'HS-grad', '5th-6th', 'Some-college', 'Some-college', 'HS-grad', 'HS-grad', 'HS-grad', 'HS-grad', 'HS-grad', 'Some-college', 'HS-grad', 'Some-college', '5th-6th', 'Prof-school', 'HS-grad', 'Some-college', 'Some-college', 'HS-grad', 'HS-grad', 'HS-grad', 'Some-college', 'Some-college', 'Bachelors', 'Some-college', 'Some-college', 'HS-grad', '7th-8th', 'Masters', 'Bachelors', '7th-8th', 'HS-grad', 'Bachelors', 'HS-grad', 'Doctorate', 'Some-college', 'Assoc-voc', 'Assoc-acdm', 'Bachelors', 'Assoc-acdm', '5th-6th', 'Some-college', 'Masters', 'Bachelors', '12th', '11th', 'Bachelors', '10th', 'Assoc-voc', 'HS-grad', 'Some-college', 'Bachelors', 'Bachelors', 'Bachelors', 'Prof-school', 'Some-college', 'Bachelors', 'HS-grad', 'Some-college', 'HS-grad', 'HS-grad', '10th', 'Some-college', 'Some-college', 'Some-college', 'Some-college', 'Some-college', 'Some-college', 'Some-college', 'Assoc-acdm', 'HS-grad', 'HS-grad', 'HS-grad', 'Prof-school', 'HS-grad', 'Some-college', 'HS-grad', '12th', 'Some-college', 'Assoc-voc', 'Bachelors', 'HS-grad', 'Bachelors', 'Some-college', 'Prof-school', 'HS-grad', 'HS-grad', 'HS-grad', '9th', '7th-8th', 'Assoc-voc', '11th', 'HS-grad', 'HS-grad', 'HS-grad', 'Assoc-voc', 'HS-grad', 'HS-grad', 'HS-grad', 'Assoc-voc', 'HS-grad', 'Bachelors', 'Some-college', 'Some-college', '9th', '11th', 'Some-college', 'Masters', '9th', '11th', 'Prof-school', 'Some-college', 'Bachelors', 'Prof-school', 'Bachelors', '7th-8th', 'HS-grad', 'Assoc-voc', 'Some-college', 'Masters', 'Some-college', 'Some-college', 'Prof-school', 'Some-college', 'Some-college', 'HS-grad', 'HS-grad', 'Assoc-acdm', 'Some-college', 'HS-grad', 'HS-grad', 'Assoc-voc', 'Some-college', 'Assoc-voc', '11th', 'HS-grad', 'Some-college', '10th', 'Masters', 'HS-grad', 'Masters', 'HS-grad', 'HS-grad', 'HS-grad', 'HS-grad', 'HS-grad', 'Masters', 'HS-grad', 'Some-college', 'Some-college', '7th-8th', 'HS-grad', '11th', '11th', 'HS-grad', 'Masters', 'HS-grad', 'Bachelors', 'Assoc-voc', 'Masters', 'HS-grad', 'HS-grad', 'Some-college', 'Bachelors', 'HS-grad', 'Assoc-acdm', 'Assoc-voc', 'HS-grad', 'Assoc-voc', 'Some-college', 'Bachelors', 'Some-college', 'HS-grad', '7th-8th', 'Assoc-voc', 'HS-grad', 'HS-grad', 'Bachelors', 'Masters', 'Bachelors', 'HS-grad', 'Doctorate', 'HS-grad', 'HS-grad', 'Some-college', '7th-8th', 'Some-college', 'HS-grad', 'HS-grad', 'Masters', 'Bachelors', 'HS-grad', 'Bachelors', 'HS-grad', 'Masters', 'HS-grad', 'Some-college', 'Some-college', 'HS-grad', '7th-8th', 'Some-college', 'Some-college', 'HS-grad', '9th', 'Bachelors', 'HS-grad', 'Bachelors', 'Masters', 'Bachelors', 'HS-grad', 'Some-college', 'Masters', 'HS-grad', 'HS-grad', 'Some-college', 'Some-college', 'HS-grad', 'Masters', 'Assoc-acdm', 'Some-college', 'Bachelors', 'HS-grad', 'Bachelors', 'HS-grad', 'HS-grad', 'Masters', '10th', '11th', 'Some-college', '7th-8th', 'Some-college', 'Some-college', 'HS-grad', 'HS-grad', 'Masters', '7th-8th', 'Bachelors', 'HS-grad', 'Bachelors', 'Assoc-voc', 'HS-grad', '11th', 'Assoc-voc', 'Some-college', 'Assoc-acdm', 'HS-grad', 'HS-grad', 'HS-grad', 'Some-college', 'HS-grad', 'Bachelors', 'Bachelors', 'Bachelors', '9th', '10th', '11th', 'Assoc-voc', 'Bachelors', 'Some-college', 'Bachelors', 'HS-grad', 'HS-grad', 'HS-grad', 'HS-grad', '10th', 'Masters', 'Bachelors', 'HS-grad', 'HS-grad', '7th-8th', 'Some-college', 'HS-grad', 'Some-college', 'Some-college', '10th', 'HS-grad', '9th', 'HS-grad', 'HS-grad', 'Some-college', 'Some-college', 'HS-grad', 'HS-grad', 'Some-college', 'Bachelors', 'HS-grad', 'HS-grad', 'Masters', 'HS-grad', 'Some-college', 'Bachelors', '10th', 'HS-grad', 'HS-grad', 'HS-grad', '11th', 'HS-grad', 'HS-grad', 'HS-grad', 'HS-grad', 'HS-grad', 'Some-college', 'Assoc-acdm', 'Masters', 'HS-grad', 'Assoc-acdm', '11th', 'HS-grad', 'Masters', 'HS-grad', '7th-8th', 'HS-grad', 'Bachelors', 'Masters', '9th', 'HS-grad', 'HS-grad', 'Some-college', 'Bachelors', '10th', 'Some-college', 'HS-grad', 'Some-college', 'Bachelors', 'HS-grad', 'HS-grad', 'HS-grad', 'HS-grad', 'Assoc-acdm', '7th-8th', 'Prof-school', 'HS-grad', 'HS-grad', 'Assoc-voc', '1st-4th', 'Bachelors', 'HS-grad', 'Some-college', 'HS-grad', 'Doctorate', 'Bachelors', 'Some-college', 'Some-college', 'HS-grad', 'HS-grad', 'Assoc-acdm', 'Assoc-voc', 'HS-grad', 'Some-college', 'Some-college', 'Some-college', '10th', 'HS-grad', 'Assoc-voc', 'Bachelors', 'Some-college', 'Some-college', '10th', 'HS-grad', 'Assoc-acdm', 'HS-grad', 'HS-grad', 'Assoc-voc', 'HS-grad', 'HS-grad', 'HS-grad', 'HS-grad', '12th', 'Bachelors', '5th-6th', 'HS-grad', 'Some-college', 'HS-grad', 'HS-grad', 'Bachelors', '5th-6th', '11th', 'Assoc-voc', 'Bachelors', 'HS-grad', 'Prof-school', '11th', 'Bachelors', 'HS-grad', 'Assoc-acdm', 'Masters', 'HS-grad', 'Some-college', 'HS-grad', '1st-4th', 'Bachelors', 'Bachelors', 'Some-college', 'HS-grad', '11th', 'HS-grad', 'Bachelors', 'Assoc-acdm', 'HS-grad', '7th-8th', 'Some-college', 'Assoc-voc', 'HS-grad', 'HS-grad', 'Masters', 'HS-grad', 'HS-grad', 'Masters', 'Some-college', 'Some-college', 'Bachelors', 'Some-college', 'Assoc-voc', 'Some-college', 'HS-grad', 'Some-college', 'Some-college', '7th-8th', 'Bachelors', 'Assoc-voc', 'HS-grad', 'HS-grad', 'Bachelors', 'Bachelors', 'HS-grad', 'Bachelors', 'HS-grad', '7th-8th', 'HS-grad', 'Bachelors', 'Assoc-voc', 'Some-college', 'Some-college', 'Assoc-acdm', 'HS-grad', 'Bachelors', 'HS-grad', '12th', 'Assoc-voc', 'HS-grad', 'Bachelors', 'Assoc-voc', 'Masters', 'HS-grad', '11th', 'Bachelors', 'Bachelors', 'HS-grad', 'HS-grad', 'HS-grad', '11th', '9th', 'HS-grad', '11th', 'HS-grad', 'HS-grad', 'HS-grad', 'Masters', 'HS-grad', 'HS-grad', 'Some-college', 'Prof-school', 'HS-grad', '7th-8th', 'Assoc-voc', 'Assoc-acdm', 'HS-grad', 'HS-grad', 'HS-grad', 'HS-grad', 'Some-college', 'HS-grad', 'Assoc-voc', 'Some-college', 'Some-college', '7th-8th', 'Masters', 'Bachelors', 'HS-grad', 'HS-grad', 'Bachelors', 'Some-college', 'HS-grad', 'HS-grad', 'HS-grad', 'Some-college', 'Bachelors', 'Some-college', 'Prof-school', 'HS-grad', 'HS-grad', 'Some-college', 'HS-grad', 'Bachelors', 'Some-college', 'Some-college', 'Some-college', 'HS-grad', 'HS-grad', 'HS-grad', 'Preschool', 'Some-college', 'Bachelors', '11th', 'HS-grad', 'HS-grad', 'Prof-school', 'Bachelors', 'Bachelors', 'HS-grad', 'HS-grad', 'HS-grad', 'HS-grad', 'Bachelors', 'Bachelors', 'Assoc-acdm', 'Some-college', 'Assoc-acdm', 'Some-college', 'HS-grad', 'HS-grad', 'Bachelors', 'Some-college', 'HS-grad', 'Some-college', 'Some-college', 'Some-college', 'HS-grad', 'HS-grad', 'Some-college', 'HS-grad', 'Bachelors', 'Masters', 'HS-grad', 'Some-college', 'Some-college', 'Bachelors', 'HS-grad', 'Some-college', 'Some-college', 'Some-college', 'Bachelors', 'HS-grad', 'Bachelors', 'Bachelors', 'HS-grad', 'Some-college', 'HS-grad', 'Bachelors', 'Some-college', 'HS-grad', 'HS-grad', '12th', 'Some-college', 'HS-grad', 'Bachelors', 'Some-college', 'HS-grad', 'Masters', 'HS-grad', '9th', 'Bachelors', '1st-4th', 'Bachelors', 'HS-grad', 'HS-grad', 'Some-college', 'HS-grad', 'Some-college', 'HS-grad', 'Some-college', '7th-8th', 'HS-grad', 'Masters', 'Some-college', '9th', 'Some-college', 'Bachelors', 'HS-grad', 'Prof-school', 'Some-college', 'HS-grad', 'Bachelors', '7th-8th', 'Bachelors', 'HS-grad', 'Doctorate', 'HS-grad', 'Some-college', 'HS-grad', 'Bachelors', 'HS-grad', '9th', '10th', 'Bachelors', '10th', 'Bachelors', 'HS-grad', 'Masters', 'HS-grad', '11th', 'Bachelors', 'Bachelors', 'Bachelors', 'Bachelors', 'Prof-school', 'HS-grad', 'HS-grad', 'Some-college', '11th', 'Some-college', 'Bachelors', 'HS-grad', 'Bachelors', 'Bachelors', 'Assoc-acdm', 'Some-college', 'HS-grad', 'Bachelors', 'HS-grad', 'Some-college', 'HS-grad', 'HS-grad', '7th-8th', 'HS-grad', 'HS-grad', '12th', 'HS-grad', 'Bachelors', 'HS-grad', 'Assoc-voc', 'Some-college', 'HS-grad', 'HS-grad', 'HS-grad', '9th', 'HS-grad', 'HS-grad', 'Bachelors', '10th', '11th', 'HS-grad', 'Bachelors', 'Bachelors', 'HS-grad', 'Bachelors', 'HS-grad', 'HS-grad', 'Some-college', 'Masters', 'HS-grad', 'HS-grad', '9th', 'HS-grad', 'Masters', 'HS-grad', 'HS-grad', 'HS-grad', 'HS-grad', 'HS-grad', 'Bachelors', 'Masters', '10th', 'Some-college', 'HS-grad', '5th-6th', 'Masters', '7th-8th', 'Prof-school', 'HS-grad', 'Some-college', 'Assoc-acdm', 'Some-college', 'Assoc-voc', 'Some-college', 'HS-grad', '10th', '7th-8th', 'HS-grad', 'Bachelors', '11th', 'Bachelors', 'Bachelors', 'Bachelors', 'Prof-school', 'Some-college', '1st-4th', 'HS-grad', 'Some-college', 'Some-college', 'HS-grad', '1st-4th', '9th', '12th', '9th', 'Bachelors', '10th', 'Some-college', 'HS-grad', 'Some-college', '9th', 'Masters', 'HS-grad', 'HS-grad', 'Masters', 'Some-college', 'Some-college', '10th', 'Some-college', 'Bachelors', 'Some-college', 'Some-college', 'HS-grad', 'HS-grad', 'HS-grad', 'HS-grad', 'Some-college', 'Bachelors', 'HS-grad', '7th-8th', 'Bachelors', 'HS-grad', 'Assoc-voc', 'Bachelors', 'Some-college', 'Bachelors', '11th', 'Bachelors', 'Masters', 'HS-grad', 'Some-college']\n"
     ]
    }
   ],
   "source": [
    "print(edu)"
   ]
  },
  {
   "cell_type": "code",
   "execution_count": 35,
   "metadata": {
    "id": "ML01bikt3kMg"
   },
   "outputs": [],
   "source": [
    "from sklearn.preprocessing import LabelEncoder\n",
    "le = LabelEncoder()\n",
    "\n",
    "# 데이터에서 특징 찾기(범주의 수\n",
    "le.fit(edu)\n",
    "\n",
    "#데이터 변환\n",
    "train['education'] = le.transform(train['education'])"
   ]
  },
  {
   "cell_type": "code",
   "execution_count": 36,
   "metadata": {
    "id": "OwIgpMWk5GTM"
   },
   "outputs": [],
   "source": [
    "def to_cat(label,data):\n",
    "  le = LabelEncoder()\n",
    "  val = list(data[label].values)\n",
    "  le.fit(val)\n",
    "  data[label] = le.transform(data[label])"
   ]
  },
  {
   "cell_type": "code",
   "execution_count": 37,
   "metadata": {
    "id": "g8TTtKfq5cKU"
   },
   "outputs": [],
   "source": [
    "for i in [train, test]:\n",
    "  for j in ['marital_status', 'native_country', 'occupation', 'race', 'relationship', 'sex', 'workclass']:\n",
    "    to_cat(j,i)"
   ]
  },
  {
   "cell_type": "code",
   "execution_count": 38,
   "metadata": {
    "colab": {
     "base_uri": "https://localhost:8080/",
     "height": 215
    },
    "id": "n400XFoj5AFa",
    "outputId": "8e513ae6-e9b3-49fe-eef7-de536e707cfd"
   },
   "outputs": [
    {
     "data": {
      "text/html": [
       "<div>\n",
       "<style scoped>\n",
       "    .dataframe tbody tr th:only-of-type {\n",
       "        vertical-align: middle;\n",
       "    }\n",
       "\n",
       "    .dataframe tbody tr th {\n",
       "        vertical-align: top;\n",
       "    }\n",
       "\n",
       "    .dataframe thead th {\n",
       "        text-align: right;\n",
       "    }\n",
       "</style>\n",
       "<table border=\"1\" class=\"dataframe\">\n",
       "  <thead>\n",
       "    <tr style=\"text-align: right;\">\n",
       "      <th></th>\n",
       "      <th>id</th>\n",
       "      <th>age</th>\n",
       "      <th>workclass</th>\n",
       "      <th>fnlwgt</th>\n",
       "      <th>education</th>\n",
       "      <th>education_num</th>\n",
       "      <th>marital_status</th>\n",
       "      <th>occupation</th>\n",
       "      <th>relationship</th>\n",
       "      <th>race</th>\n",
       "      <th>sex</th>\n",
       "      <th>capital_gain</th>\n",
       "      <th>capital_loss</th>\n",
       "      <th>hours_per_week</th>\n",
       "      <th>native_country</th>\n",
       "      <th>income</th>\n",
       "    </tr>\n",
       "  </thead>\n",
       "  <tbody>\n",
       "    <tr>\n",
       "      <th>0</th>\n",
       "      <td>0</td>\n",
       "      <td>2</td>\n",
       "      <td>4</td>\n",
       "      <td>168538</td>\n",
       "      <td>11</td>\n",
       "      <td>9</td>\n",
       "      <td>2</td>\n",
       "      <td>12</td>\n",
       "      <td>0</td>\n",
       "      <td>4</td>\n",
       "      <td>1</td>\n",
       "      <td>0</td>\n",
       "      <td>0</td>\n",
       "      <td>60</td>\n",
       "      <td>38</td>\n",
       "      <td>1</td>\n",
       "    </tr>\n",
       "    <tr>\n",
       "      <th>1</th>\n",
       "      <td>1</td>\n",
       "      <td>1</td>\n",
       "      <td>4</td>\n",
       "      <td>101626</td>\n",
       "      <td>6</td>\n",
       "      <td>5</td>\n",
       "      <td>4</td>\n",
       "      <td>7</td>\n",
       "      <td>3</td>\n",
       "      <td>4</td>\n",
       "      <td>1</td>\n",
       "      <td>0</td>\n",
       "      <td>0</td>\n",
       "      <td>20</td>\n",
       "      <td>38</td>\n",
       "      <td>0</td>\n",
       "    </tr>\n",
       "    <tr>\n",
       "      <th>2</th>\n",
       "      <td>2</td>\n",
       "      <td>1</td>\n",
       "      <td>4</td>\n",
       "      <td>353358</td>\n",
       "      <td>15</td>\n",
       "      <td>10</td>\n",
       "      <td>4</td>\n",
       "      <td>8</td>\n",
       "      <td>3</td>\n",
       "      <td>4</td>\n",
       "      <td>1</td>\n",
       "      <td>0</td>\n",
       "      <td>0</td>\n",
       "      <td>16</td>\n",
       "      <td>38</td>\n",
       "      <td>0</td>\n",
       "    </tr>\n",
       "    <tr>\n",
       "      <th>3</th>\n",
       "      <td>3</td>\n",
       "      <td>1</td>\n",
       "      <td>4</td>\n",
       "      <td>151158</td>\n",
       "      <td>15</td>\n",
       "      <td>10</td>\n",
       "      <td>4</td>\n",
       "      <td>10</td>\n",
       "      <td>3</td>\n",
       "      <td>4</td>\n",
       "      <td>0</td>\n",
       "      <td>0</td>\n",
       "      <td>0</td>\n",
       "      <td>25</td>\n",
       "      <td>38</td>\n",
       "      <td>0</td>\n",
       "    </tr>\n",
       "    <tr>\n",
       "      <th>4</th>\n",
       "      <td>4</td>\n",
       "      <td>1</td>\n",
       "      <td>4</td>\n",
       "      <td>122234</td>\n",
       "      <td>15</td>\n",
       "      <td>10</td>\n",
       "      <td>4</td>\n",
       "      <td>1</td>\n",
       "      <td>1</td>\n",
       "      <td>2</td>\n",
       "      <td>0</td>\n",
       "      <td>0</td>\n",
       "      <td>0</td>\n",
       "      <td>20</td>\n",
       "      <td>0</td>\n",
       "      <td>0</td>\n",
       "    </tr>\n",
       "  </tbody>\n",
       "</table>\n",
       "</div>"
      ],
      "text/plain": [
       "   id  age  workclass  fnlwgt  education  education_num  marital_status  \\\n",
       "0   0    2          4  168538         11              9               2   \n",
       "1   1    1          4  101626          6              5               4   \n",
       "2   2    1          4  353358         15             10               4   \n",
       "3   3    1          4  151158         15             10               4   \n",
       "4   4    1          4  122234         15             10               4   \n",
       "\n",
       "   occupation  relationship  race  sex  capital_gain  capital_loss  \\\n",
       "0          12             0     4    1             0             0   \n",
       "1           7             3     4    1             0             0   \n",
       "2           8             3     4    1             0             0   \n",
       "3          10             3     4    0             0             0   \n",
       "4           1             1     2    0             0             0   \n",
       "\n",
       "   hours_per_week  native_country income  \n",
       "0              60              38      1  \n",
       "1              20              38      0  \n",
       "2              16              38      0  \n",
       "3              25              38      0  \n",
       "4              20               0      0  "
      ]
     },
     "execution_count": 38,
     "metadata": {},
     "output_type": "execute_result"
    }
   ],
   "source": [
    "train.head()"
   ]
  },
  {
   "cell_type": "code",
   "execution_count": 39,
   "metadata": {
    "colab": {
     "base_uri": "https://localhost:8080/"
    },
    "id": "OM7a2MYU4qqh",
    "outputId": "d7cb32c4-aba6-4459-ff0a-37767d41b126"
   },
   "outputs": [
    {
     "data": {
      "text/plain": [
       "array(['10th', '11th', '12th', '1st-4th', '5th-6th', '7th-8th', '9th',\n",
       "       'Assoc-acdm', 'Assoc-voc', 'Bachelors', 'Doctorate', 'HS-grad',\n",
       "       'Masters', 'Preschool', 'Prof-school', 'Some-college'],\n",
       "      dtype='<U12')"
      ]
     },
     "execution_count": 39,
     "metadata": {},
     "output_type": "execute_result"
    }
   ],
   "source": [
    "le.classes_"
   ]
  },
  {
   "cell_type": "code",
   "execution_count": 40,
   "metadata": {
    "colab": {
     "base_uri": "https://localhost:8080/"
    },
    "id": "7US-R1zT2IYL",
    "outputId": "a67fa6ba-3e48-4dc7-f1ee-8f17e66b7720"
   },
   "outputs": [
    {
     "data": {
      "text/plain": [
       "4    18123\n",
       "6     2030\n",
       "2     1692\n",
       "0     1502\n",
       "7     1043\n",
       "5      877\n",
       "1      765\n",
       "8       11\n",
       "3        6\n",
       "Name: workclass, dtype: int64"
      ]
     },
     "execution_count": 40,
     "metadata": {},
     "output_type": "execute_result"
    }
   ],
   "source": [
    "train['workclass'].value_counts()"
   ]
  },
  {
   "cell_type": "code",
   "execution_count": 41,
   "metadata": {
    "id": "RdbR9iVG5-X5"
   },
   "outputs": [],
   "source": [
    "y = train.pop('income')"
   ]
  },
  {
   "cell_type": "code",
   "execution_count": 42,
   "metadata": {
    "id": "rmdjSjZH6dze"
   },
   "outputs": [],
   "source": [
    "train_id = train.pop('id')\n",
    "test_id = test.pop('id')"
   ]
  },
  {
   "cell_type": "code",
   "execution_count": 43,
   "metadata": {
    "colab": {
     "base_uri": "https://localhost:8080/",
     "height": 249
    },
    "id": "hmTdLNKP6jCu",
    "outputId": "0c88a09d-f01d-4c64-a2cd-9b98c9ffd891"
   },
   "outputs": [
    {
     "data": {
      "text/html": [
       "<div>\n",
       "<style scoped>\n",
       "    .dataframe tbody tr th:only-of-type {\n",
       "        vertical-align: middle;\n",
       "    }\n",
       "\n",
       "    .dataframe tbody tr th {\n",
       "        vertical-align: top;\n",
       "    }\n",
       "\n",
       "    .dataframe thead th {\n",
       "        text-align: right;\n",
       "    }\n",
       "</style>\n",
       "<table border=\"1\" class=\"dataframe\">\n",
       "  <thead>\n",
       "    <tr style=\"text-align: right;\">\n",
       "      <th></th>\n",
       "      <th>age</th>\n",
       "      <th>workclass</th>\n",
       "      <th>fnlwgt</th>\n",
       "      <th>education</th>\n",
       "      <th>education_num</th>\n",
       "      <th>marital_status</th>\n",
       "      <th>occupation</th>\n",
       "      <th>relationship</th>\n",
       "      <th>race</th>\n",
       "      <th>sex</th>\n",
       "      <th>capital_gain</th>\n",
       "      <th>capital_loss</th>\n",
       "      <th>hours_per_week</th>\n",
       "      <th>native_country</th>\n",
       "    </tr>\n",
       "  </thead>\n",
       "  <tbody>\n",
       "    <tr>\n",
       "      <th>0</th>\n",
       "      <td>28</td>\n",
       "      <td>4</td>\n",
       "      <td>67661</td>\n",
       "      <td>Some-college</td>\n",
       "      <td>10</td>\n",
       "      <td>4</td>\n",
       "      <td>1</td>\n",
       "      <td>2</td>\n",
       "      <td>4</td>\n",
       "      <td>0</td>\n",
       "      <td>0</td>\n",
       "      <td>0</td>\n",
       "      <td>40</td>\n",
       "      <td>39</td>\n",
       "    </tr>\n",
       "    <tr>\n",
       "      <th>1</th>\n",
       "      <td>40</td>\n",
       "      <td>5</td>\n",
       "      <td>37869</td>\n",
       "      <td>HS-grad</td>\n",
       "      <td>9</td>\n",
       "      <td>2</td>\n",
       "      <td>4</td>\n",
       "      <td>0</td>\n",
       "      <td>4</td>\n",
       "      <td>1</td>\n",
       "      <td>0</td>\n",
       "      <td>0</td>\n",
       "      <td>50</td>\n",
       "      <td>39</td>\n",
       "    </tr>\n",
       "    <tr>\n",
       "      <th>2</th>\n",
       "      <td>20</td>\n",
       "      <td>4</td>\n",
       "      <td>109952</td>\n",
       "      <td>Some-college</td>\n",
       "      <td>10</td>\n",
       "      <td>4</td>\n",
       "      <td>6</td>\n",
       "      <td>3</td>\n",
       "      <td>4</td>\n",
       "      <td>1</td>\n",
       "      <td>0</td>\n",
       "      <td>0</td>\n",
       "      <td>25</td>\n",
       "      <td>39</td>\n",
       "    </tr>\n",
       "    <tr>\n",
       "      <th>3</th>\n",
       "      <td>40</td>\n",
       "      <td>4</td>\n",
       "      <td>114537</td>\n",
       "      <td>Assoc-voc</td>\n",
       "      <td>11</td>\n",
       "      <td>2</td>\n",
       "      <td>4</td>\n",
       "      <td>0</td>\n",
       "      <td>4</td>\n",
       "      <td>1</td>\n",
       "      <td>0</td>\n",
       "      <td>0</td>\n",
       "      <td>50</td>\n",
       "      <td>39</td>\n",
       "    </tr>\n",
       "    <tr>\n",
       "      <th>4</th>\n",
       "      <td>37</td>\n",
       "      <td>4</td>\n",
       "      <td>51264</td>\n",
       "      <td>Doctorate</td>\n",
       "      <td>16</td>\n",
       "      <td>2</td>\n",
       "      <td>10</td>\n",
       "      <td>0</td>\n",
       "      <td>4</td>\n",
       "      <td>1</td>\n",
       "      <td>0</td>\n",
       "      <td>0</td>\n",
       "      <td>99</td>\n",
       "      <td>10</td>\n",
       "    </tr>\n",
       "  </tbody>\n",
       "</table>\n",
       "</div>"
      ],
      "text/plain": [
       "   age  workclass  fnlwgt     education  education_num  marital_status  \\\n",
       "0   28          4   67661  Some-college             10               4   \n",
       "1   40          5   37869       HS-grad              9               2   \n",
       "2   20          4  109952  Some-college             10               4   \n",
       "3   40          4  114537     Assoc-voc             11               2   \n",
       "4   37          4   51264     Doctorate             16               2   \n",
       "\n",
       "   occupation  relationship  race  sex  capital_gain  capital_loss  \\\n",
       "0           1             2     4    0             0             0   \n",
       "1           4             0     4    1             0             0   \n",
       "2           6             3     4    1             0             0   \n",
       "3           4             0     4    1             0             0   \n",
       "4          10             0     4    1             0             0   \n",
       "\n",
       "   hours_per_week  native_country  \n",
       "0              40              39  \n",
       "1              50              39  \n",
       "2              25              39  \n",
       "3              50              39  \n",
       "4              99              10  "
      ]
     },
     "execution_count": 43,
     "metadata": {},
     "output_type": "execute_result"
    }
   ],
   "source": [
    "test.head()"
   ]
  },
  {
   "cell_type": "code",
   "execution_count": 44,
   "metadata": {
    "id": "K5KCLyCo6noL"
   },
   "outputs": [],
   "source": [
    "to_cat('education',test)"
   ]
  },
  {
   "cell_type": "code",
   "execution_count": 46,
   "metadata": {},
   "outputs": [],
   "source": [
    "from xgboost import XGBClassifier\n",
    "xgb = XGBClassifier(n_jobs=-1,tree_method='gpu_hist')\n",
    "xgb.fit(train,y)\n",
    "pred = xgb.predict(test)"
   ]
  },
  {
   "cell_type": "code",
   "execution_count": 47,
   "metadata": {},
   "outputs": [
    {
     "data": {
      "text/html": [
       "<div>\n",
       "<style scoped>\n",
       "    .dataframe tbody tr th:only-of-type {\n",
       "        vertical-align: middle;\n",
       "    }\n",
       "\n",
       "    .dataframe tbody tr th {\n",
       "        vertical-align: top;\n",
       "    }\n",
       "\n",
       "    .dataframe thead th {\n",
       "        text-align: right;\n",
       "    }\n",
       "</style>\n",
       "<table border=\"1\" class=\"dataframe\">\n",
       "  <thead>\n",
       "    <tr style=\"text-align: right;\">\n",
       "      <th></th>\n",
       "      <th>id</th>\n",
       "      <th>prediction</th>\n",
       "    </tr>\n",
       "  </thead>\n",
       "  <tbody>\n",
       "    <tr>\n",
       "      <th>0</th>\n",
       "      <td>0</td>\n",
       "      <td>0</td>\n",
       "    </tr>\n",
       "    <tr>\n",
       "      <th>1</th>\n",
       "      <td>1</td>\n",
       "      <td>0</td>\n",
       "    </tr>\n",
       "    <tr>\n",
       "      <th>2</th>\n",
       "      <td>2</td>\n",
       "      <td>0</td>\n",
       "    </tr>\n",
       "    <tr>\n",
       "      <th>3</th>\n",
       "      <td>3</td>\n",
       "      <td>0</td>\n",
       "    </tr>\n",
       "    <tr>\n",
       "      <th>4</th>\n",
       "      <td>4</td>\n",
       "      <td>0</td>\n",
       "    </tr>\n",
       "  </tbody>\n",
       "</table>\n",
       "</div>"
      ],
      "text/plain": [
       "   id  prediction\n",
       "0   0           0\n",
       "1   1           0\n",
       "2   2           0\n",
       "3   3           0\n",
       "4   4           0"
      ]
     },
     "execution_count": 47,
     "metadata": {},
     "output_type": "execute_result"
    }
   ],
   "source": [
    "sample.head()"
   ]
  },
  {
   "cell_type": "code",
   "execution_count": 51,
   "metadata": {},
   "outputs": [],
   "source": [
    "(pd.DataFrame({'id':range(len(pred)),'prediction':pred})).to_csv('age.csv',index=False)"
   ]
  },
  {
   "cell_type": "code",
   "execution_count": 89,
   "metadata": {
    "id": "2n8QPvtn9uK2"
   },
   "outputs": [],
   "source": [
    "from sklearn.model_selection import GridSearchCV\n",
    "from xgboost import XGBClassifier\n",
    "params = {\n",
    "        'n_estimators' : [300,400,500,600,700,800],\n",
    "        'min_child_weight': [1, 5, 10],\n",
    "        'gamma': [0.5, 1, 1.5, 2, 5],\n",
    "        'subsample': [0.6, 0.8, 1.0],\n",
    "        'colsample_bytree': [0.6, 0.8, 1.0],\n",
    "        'max_depth': [3, 4, 5]\n",
    "        }\n",
    "xgb = XGBClassifier()\n",
    "\n",
    "grd = GridSearchCV(xgb, param_grid = params, cv=4, refit=True)"
   ]
  },
  {
   "cell_type": "code",
   "execution_count": 84,
   "metadata": {
    "colab": {
     "base_uri": "https://localhost:8080/"
    },
    "id": "KkfmEIcNAQyd",
    "outputId": "4bbf258e-9cd9-4e5a-8136-c6ca5f5b9ec8"
   },
   "outputs": [
    {
     "name": "stdout",
     "output_type": "stream",
     "text": [
      "<class 'pandas.core.frame.DataFrame'>\n",
      "RangeIndex: 26049 entries, 0 to 26048\n",
      "Data columns (total 14 columns):\n",
      " #   Column          Non-Null Count  Dtype\n",
      "---  ------          --------------  -----\n",
      " 0   age             26049 non-null  int64\n",
      " 1   workclass       26049 non-null  int64\n",
      " 2   fnlwgt          26049 non-null  int64\n",
      " 3   education       26049 non-null  int64\n",
      " 4   education_num   26049 non-null  int64\n",
      " 5   marital_status  26049 non-null  int64\n",
      " 6   occupation      26049 non-null  int64\n",
      " 7   relationship    26049 non-null  int64\n",
      " 8   race            26049 non-null  int64\n",
      " 9   sex             26049 non-null  int64\n",
      " 10  capital_gain    26049 non-null  int64\n",
      " 11  capital_loss    26049 non-null  int64\n",
      " 12  hours_per_week  26049 non-null  int64\n",
      " 13  native_country  26049 non-null  int64\n",
      "dtypes: int64(14)\n",
      "memory usage: 2.8 MB\n"
     ]
    }
   ],
   "source": [
    "train.info()"
   ]
  },
  {
   "cell_type": "code",
   "execution_count": 81,
   "metadata": {
    "colab": {
     "base_uri": "https://localhost:8080/",
     "height": 215
    },
    "id": "s496ar5-_p8G",
    "outputId": "303be24e-eabe-4479-9afa-f0da561bfe9a"
   },
   "outputs": [
    {
     "data": {
      "text/html": [
       "<div>\n",
       "<style scoped>\n",
       "    .dataframe tbody tr th:only-of-type {\n",
       "        vertical-align: middle;\n",
       "    }\n",
       "\n",
       "    .dataframe tbody tr th {\n",
       "        vertical-align: top;\n",
       "    }\n",
       "\n",
       "    .dataframe thead th {\n",
       "        text-align: right;\n",
       "    }\n",
       "</style>\n",
       "<table border=\"1\" class=\"dataframe\">\n",
       "  <thead>\n",
       "    <tr style=\"text-align: right;\">\n",
       "      <th></th>\n",
       "      <th>age</th>\n",
       "      <th>workclass</th>\n",
       "      <th>fnlwgt</th>\n",
       "      <th>education</th>\n",
       "      <th>education_num</th>\n",
       "      <th>marital_status</th>\n",
       "      <th>occupation</th>\n",
       "      <th>relationship</th>\n",
       "      <th>race</th>\n",
       "      <th>sex</th>\n",
       "      <th>capital_gain</th>\n",
       "      <th>capital_loss</th>\n",
       "      <th>hours_per_week</th>\n",
       "      <th>native_country</th>\n",
       "    </tr>\n",
       "  </thead>\n",
       "  <tbody>\n",
       "    <tr>\n",
       "      <th>0</th>\n",
       "      <td>40</td>\n",
       "      <td>4</td>\n",
       "      <td>168538</td>\n",
       "      <td>11</td>\n",
       "      <td>9</td>\n",
       "      <td>2</td>\n",
       "      <td>12</td>\n",
       "      <td>0</td>\n",
       "      <td>4</td>\n",
       "      <td>1</td>\n",
       "      <td>0</td>\n",
       "      <td>0</td>\n",
       "      <td>60</td>\n",
       "      <td>38</td>\n",
       "    </tr>\n",
       "    <tr>\n",
       "      <th>1</th>\n",
       "      <td>17</td>\n",
       "      <td>4</td>\n",
       "      <td>101626</td>\n",
       "      <td>6</td>\n",
       "      <td>5</td>\n",
       "      <td>4</td>\n",
       "      <td>7</td>\n",
       "      <td>3</td>\n",
       "      <td>4</td>\n",
       "      <td>1</td>\n",
       "      <td>0</td>\n",
       "      <td>0</td>\n",
       "      <td>20</td>\n",
       "      <td>38</td>\n",
       "    </tr>\n",
       "    <tr>\n",
       "      <th>2</th>\n",
       "      <td>18</td>\n",
       "      <td>4</td>\n",
       "      <td>353358</td>\n",
       "      <td>15</td>\n",
       "      <td>10</td>\n",
       "      <td>4</td>\n",
       "      <td>8</td>\n",
       "      <td>3</td>\n",
       "      <td>4</td>\n",
       "      <td>1</td>\n",
       "      <td>0</td>\n",
       "      <td>0</td>\n",
       "      <td>16</td>\n",
       "      <td>38</td>\n",
       "    </tr>\n",
       "    <tr>\n",
       "      <th>3</th>\n",
       "      <td>21</td>\n",
       "      <td>4</td>\n",
       "      <td>151158</td>\n",
       "      <td>15</td>\n",
       "      <td>10</td>\n",
       "      <td>4</td>\n",
       "      <td>10</td>\n",
       "      <td>3</td>\n",
       "      <td>4</td>\n",
       "      <td>0</td>\n",
       "      <td>0</td>\n",
       "      <td>0</td>\n",
       "      <td>25</td>\n",
       "      <td>38</td>\n",
       "    </tr>\n",
       "    <tr>\n",
       "      <th>4</th>\n",
       "      <td>24</td>\n",
       "      <td>4</td>\n",
       "      <td>122234</td>\n",
       "      <td>15</td>\n",
       "      <td>10</td>\n",
       "      <td>4</td>\n",
       "      <td>1</td>\n",
       "      <td>1</td>\n",
       "      <td>2</td>\n",
       "      <td>0</td>\n",
       "      <td>0</td>\n",
       "      <td>0</td>\n",
       "      <td>20</td>\n",
       "      <td>0</td>\n",
       "    </tr>\n",
       "  </tbody>\n",
       "</table>\n",
       "</div>"
      ],
      "text/plain": [
       "   age  workclass  fnlwgt  ...  capital_loss  hours_per_week  native_country\n",
       "0   40          4  168538  ...             0              60              38\n",
       "1   17          4  101626  ...             0              20              38\n",
       "2   18          4  353358  ...             0              16              38\n",
       "3   21          4  151158  ...             0              25              38\n",
       "4   24          4  122234  ...             0              20               0\n",
       "\n",
       "[5 rows x 14 columns]"
      ]
     },
     "execution_count": 81,
     "metadata": {
      "tags": []
     },
     "output_type": "execute_result"
    }
   ],
   "source": [
    "train.head()"
   ]
  },
  {
   "cell_type": "code",
   "execution_count": 83,
   "metadata": {
    "colab": {
     "base_uri": "https://localhost:8080/"
    },
    "id": "1IRIPZXhAGNO",
    "outputId": "d3c2d2d0-71bb-4f7e-ca0c-0f16a2f8a20f"
   },
   "outputs": [
    {
     "data": {
      "text/plain": [
       "int"
      ]
     },
     "execution_count": 83,
     "metadata": {
      "tags": []
     },
     "output_type": "execute_result"
    }
   ],
   "source": [
    "type(y[1])"
   ]
  },
  {
   "cell_type": "code",
   "execution_count": 87,
   "metadata": {
    "id": "vQChpEJYAiXp"
   },
   "outputs": [],
   "source": [
    "y = np.array(y)"
   ]
  },
  {
   "cell_type": "code",
   "execution_count": 85,
   "metadata": {
    "colab": {
     "base_uri": "https://localhost:8080/"
    },
    "id": "L6gtF10GAexi",
    "outputId": "af62e8aa-ca12-445d-b54e-eeb9012bd729"
   },
   "outputs": [
    {
     "data": {
      "text/plain": [
       "0    19744\n",
       "1     6305\n",
       "Name: income, dtype: int64"
      ]
     },
     "execution_count": 85,
     "metadata": {
      "tags": []
     },
     "output_type": "execute_result"
    }
   ],
   "source": [
    "y.value_counts()"
   ]
  },
  {
   "cell_type": "code",
   "execution_count": 90,
   "metadata": {
    "colab": {
     "base_uri": "https://localhost:8080/",
     "height": 316
    },
    "id": "npvyrQJz_Z88",
    "outputId": "bfdab303-040f-4a14-e4ee-01a3e6e98582"
   },
   "outputs": [
    {
     "ename": "ValueError",
     "evalue": "ignored",
     "output_type": "error",
     "traceback": [
      "\u001b[0;31m---------------------------------------------------------------------------\u001b[0m",
      "\u001b[0;31mValueError\u001b[0m                                Traceback (most recent call last)",
      "\u001b[0;32m<ipython-input-90-22dd6448574e>\u001b[0m in \u001b[0;36m<module>\u001b[0;34m()\u001b[0m\n\u001b[0;32m----> 1\u001b[0;31m \u001b[0mgrd\u001b[0m\u001b[0;34m.\u001b[0m\u001b[0mfit\u001b[0m\u001b[0;34m(\u001b[0m\u001b[0mtrain\u001b[0m\u001b[0;34m,\u001b[0m\u001b[0my\u001b[0m\u001b[0;34m)\u001b[0m\u001b[0;34m\u001b[0m\u001b[0;34m\u001b[0m\u001b[0m\n\u001b[0m",
      "\u001b[0;32m/usr/local/lib/python3.6/dist-packages/sklearn/model_selection/_search.py\u001b[0m in \u001b[0;36mfit\u001b[0;34m(self, X, y, groups, **fit_params)\u001b[0m\n\u001b[1;32m    708\u001b[0m                 \u001b[0;32mreturn\u001b[0m \u001b[0mresults\u001b[0m\u001b[0;34m\u001b[0m\u001b[0;34m\u001b[0m\u001b[0m\n\u001b[1;32m    709\u001b[0m \u001b[0;34m\u001b[0m\u001b[0m\n\u001b[0;32m--> 710\u001b[0;31m             \u001b[0mself\u001b[0m\u001b[0;34m.\u001b[0m\u001b[0m_run_search\u001b[0m\u001b[0;34m(\u001b[0m\u001b[0mevaluate_candidates\u001b[0m\u001b[0;34m)\u001b[0m\u001b[0;34m\u001b[0m\u001b[0;34m\u001b[0m\u001b[0m\n\u001b[0m\u001b[1;32m    711\u001b[0m \u001b[0;34m\u001b[0m\u001b[0m\n\u001b[1;32m    712\u001b[0m         \u001b[0;31m# For multi-metric evaluation, store the best_index_, best_params_ and\u001b[0m\u001b[0;34m\u001b[0m\u001b[0;34m\u001b[0m\u001b[0;34m\u001b[0m\u001b[0m\n",
      "\u001b[0;32m/usr/local/lib/python3.6/dist-packages/sklearn/model_selection/_search.py\u001b[0m in \u001b[0;36m_run_search\u001b[0;34m(self, evaluate_candidates)\u001b[0m\n\u001b[1;32m   1149\u001b[0m     \u001b[0;32mdef\u001b[0m \u001b[0m_run_search\u001b[0m\u001b[0;34m(\u001b[0m\u001b[0mself\u001b[0m\u001b[0;34m,\u001b[0m \u001b[0mevaluate_candidates\u001b[0m\u001b[0;34m)\u001b[0m\u001b[0;34m:\u001b[0m\u001b[0;34m\u001b[0m\u001b[0;34m\u001b[0m\u001b[0m\n\u001b[1;32m   1150\u001b[0m         \u001b[0;34m\"\"\"Search all candidates in param_grid\"\"\"\u001b[0m\u001b[0;34m\u001b[0m\u001b[0;34m\u001b[0m\u001b[0m\n\u001b[0;32m-> 1151\u001b[0;31m         \u001b[0mevaluate_candidates\u001b[0m\u001b[0;34m(\u001b[0m\u001b[0mParameterGrid\u001b[0m\u001b[0;34m(\u001b[0m\u001b[0mself\u001b[0m\u001b[0;34m.\u001b[0m\u001b[0mparam_grid\u001b[0m\u001b[0;34m)\u001b[0m\u001b[0;34m)\u001b[0m\u001b[0;34m\u001b[0m\u001b[0;34m\u001b[0m\u001b[0m\n\u001b[0m\u001b[1;32m   1152\u001b[0m \u001b[0;34m\u001b[0m\u001b[0m\n\u001b[1;32m   1153\u001b[0m \u001b[0;34m\u001b[0m\u001b[0m\n",
      "\u001b[0;32m/usr/local/lib/python3.6/dist-packages/sklearn/model_selection/_search.py\u001b[0m in \u001b[0;36mevaluate_candidates\u001b[0;34m(candidate_params)\u001b[0m\n\u001b[1;32m    687\u001b[0m                                \u001b[0;32mfor\u001b[0m \u001b[0mparameters\u001b[0m\u001b[0;34m,\u001b[0m \u001b[0;34m(\u001b[0m\u001b[0mtrain\u001b[0m\u001b[0;34m,\u001b[0m \u001b[0mtest\u001b[0m\u001b[0;34m)\u001b[0m\u001b[0;34m\u001b[0m\u001b[0;34m\u001b[0m\u001b[0m\n\u001b[1;32m    688\u001b[0m                                in product(candidate_params,\n\u001b[0;32m--> 689\u001b[0;31m                                           cv.split(X, y, groups)))\n\u001b[0m\u001b[1;32m    690\u001b[0m \u001b[0;34m\u001b[0m\u001b[0m\n\u001b[1;32m    691\u001b[0m                 \u001b[0;32mif\u001b[0m \u001b[0mlen\u001b[0m\u001b[0;34m(\u001b[0m\u001b[0mout\u001b[0m\u001b[0;34m)\u001b[0m \u001b[0;34m<\u001b[0m \u001b[0;36m1\u001b[0m\u001b[0;34m:\u001b[0m\u001b[0;34m\u001b[0m\u001b[0;34m\u001b[0m\u001b[0m\n",
      "\u001b[0;32m/usr/local/lib/python3.6/dist-packages/joblib/parallel.py\u001b[0m in \u001b[0;36m__call__\u001b[0;34m(self, iterable)\u001b[0m\n\u001b[1;32m   1046\u001b[0m             \u001b[0;31m# remaining jobs.\u001b[0m\u001b[0;34m\u001b[0m\u001b[0;34m\u001b[0m\u001b[0;34m\u001b[0m\u001b[0m\n\u001b[1;32m   1047\u001b[0m             \u001b[0mself\u001b[0m\u001b[0;34m.\u001b[0m\u001b[0m_iterating\u001b[0m \u001b[0;34m=\u001b[0m \u001b[0;32mFalse\u001b[0m\u001b[0;34m\u001b[0m\u001b[0;34m\u001b[0m\u001b[0m\n\u001b[0;32m-> 1048\u001b[0;31m             \u001b[0;32mif\u001b[0m \u001b[0mself\u001b[0m\u001b[0;34m.\u001b[0m\u001b[0mdispatch_one_batch\u001b[0m\u001b[0;34m(\u001b[0m\u001b[0miterator\u001b[0m\u001b[0;34m)\u001b[0m\u001b[0;34m:\u001b[0m\u001b[0;34m\u001b[0m\u001b[0;34m\u001b[0m\u001b[0m\n\u001b[0m\u001b[1;32m   1049\u001b[0m                 \u001b[0mself\u001b[0m\u001b[0;34m.\u001b[0m\u001b[0m_iterating\u001b[0m \u001b[0;34m=\u001b[0m \u001b[0mself\u001b[0m\u001b[0;34m.\u001b[0m\u001b[0m_original_iterator\u001b[0m \u001b[0;32mis\u001b[0m \u001b[0;32mnot\u001b[0m \u001b[0;32mNone\u001b[0m\u001b[0;34m\u001b[0m\u001b[0;34m\u001b[0m\u001b[0m\n\u001b[1;32m   1050\u001b[0m \u001b[0;34m\u001b[0m\u001b[0m\n",
      "\u001b[0;32m/usr/local/lib/python3.6/dist-packages/joblib/parallel.py\u001b[0m in \u001b[0;36mdispatch_one_batch\u001b[0;34m(self, iterator)\u001b[0m\n\u001b[1;32m    864\u001b[0m                 \u001b[0;32mreturn\u001b[0m \u001b[0;32mFalse\u001b[0m\u001b[0;34m\u001b[0m\u001b[0;34m\u001b[0m\u001b[0m\n\u001b[1;32m    865\u001b[0m             \u001b[0;32melse\u001b[0m\u001b[0;34m:\u001b[0m\u001b[0;34m\u001b[0m\u001b[0;34m\u001b[0m\u001b[0m\n\u001b[0;32m--> 866\u001b[0;31m                 \u001b[0mself\u001b[0m\u001b[0;34m.\u001b[0m\u001b[0m_dispatch\u001b[0m\u001b[0;34m(\u001b[0m\u001b[0mtasks\u001b[0m\u001b[0;34m)\u001b[0m\u001b[0;34m\u001b[0m\u001b[0;34m\u001b[0m\u001b[0m\n\u001b[0m\u001b[1;32m    867\u001b[0m                 \u001b[0;32mreturn\u001b[0m \u001b[0;32mTrue\u001b[0m\u001b[0;34m\u001b[0m\u001b[0;34m\u001b[0m\u001b[0m\n\u001b[1;32m    868\u001b[0m \u001b[0;34m\u001b[0m\u001b[0m\n",
      "\u001b[0;32m/usr/local/lib/python3.6/dist-packages/joblib/parallel.py\u001b[0m in \u001b[0;36m_dispatch\u001b[0;34m(self, batch)\u001b[0m\n\u001b[1;32m    782\u001b[0m         \u001b[0;32mwith\u001b[0m \u001b[0mself\u001b[0m\u001b[0;34m.\u001b[0m\u001b[0m_lock\u001b[0m\u001b[0;34m:\u001b[0m\u001b[0;34m\u001b[0m\u001b[0;34m\u001b[0m\u001b[0m\n\u001b[1;32m    783\u001b[0m             \u001b[0mjob_idx\u001b[0m \u001b[0;34m=\u001b[0m \u001b[0mlen\u001b[0m\u001b[0;34m(\u001b[0m\u001b[0mself\u001b[0m\u001b[0;34m.\u001b[0m\u001b[0m_jobs\u001b[0m\u001b[0;34m)\u001b[0m\u001b[0;34m\u001b[0m\u001b[0;34m\u001b[0m\u001b[0m\n\u001b[0;32m--> 784\u001b[0;31m             \u001b[0mjob\u001b[0m \u001b[0;34m=\u001b[0m \u001b[0mself\u001b[0m\u001b[0;34m.\u001b[0m\u001b[0m_backend\u001b[0m\u001b[0;34m.\u001b[0m\u001b[0mapply_async\u001b[0m\u001b[0;34m(\u001b[0m\u001b[0mbatch\u001b[0m\u001b[0;34m,\u001b[0m \u001b[0mcallback\u001b[0m\u001b[0;34m=\u001b[0m\u001b[0mcb\u001b[0m\u001b[0;34m)\u001b[0m\u001b[0;34m\u001b[0m\u001b[0;34m\u001b[0m\u001b[0m\n\u001b[0m\u001b[1;32m    785\u001b[0m             \u001b[0;31m# A job can complete so quickly than its callback is\u001b[0m\u001b[0;34m\u001b[0m\u001b[0;34m\u001b[0m\u001b[0;34m\u001b[0m\u001b[0m\n\u001b[1;32m    786\u001b[0m             \u001b[0;31m# called before we get here, causing self._jobs to\u001b[0m\u001b[0;34m\u001b[0m\u001b[0;34m\u001b[0m\u001b[0;34m\u001b[0m\u001b[0m\n",
      "\u001b[0;32m/usr/local/lib/python3.6/dist-packages/joblib/_parallel_backends.py\u001b[0m in \u001b[0;36mapply_async\u001b[0;34m(self, func, callback)\u001b[0m\n\u001b[1;32m    206\u001b[0m     \u001b[0;32mdef\u001b[0m \u001b[0mapply_async\u001b[0m\u001b[0;34m(\u001b[0m\u001b[0mself\u001b[0m\u001b[0;34m,\u001b[0m \u001b[0mfunc\u001b[0m\u001b[0;34m,\u001b[0m \u001b[0mcallback\u001b[0m\u001b[0;34m=\u001b[0m\u001b[0;32mNone\u001b[0m\u001b[0;34m)\u001b[0m\u001b[0;34m:\u001b[0m\u001b[0;34m\u001b[0m\u001b[0;34m\u001b[0m\u001b[0m\n\u001b[1;32m    207\u001b[0m         \u001b[0;34m\"\"\"Schedule a func to be run\"\"\"\u001b[0m\u001b[0;34m\u001b[0m\u001b[0;34m\u001b[0m\u001b[0m\n\u001b[0;32m--> 208\u001b[0;31m         \u001b[0mresult\u001b[0m \u001b[0;34m=\u001b[0m \u001b[0mImmediateResult\u001b[0m\u001b[0;34m(\u001b[0m\u001b[0mfunc\u001b[0m\u001b[0;34m)\u001b[0m\u001b[0;34m\u001b[0m\u001b[0;34m\u001b[0m\u001b[0m\n\u001b[0m\u001b[1;32m    209\u001b[0m         \u001b[0;32mif\u001b[0m \u001b[0mcallback\u001b[0m\u001b[0;34m:\u001b[0m\u001b[0;34m\u001b[0m\u001b[0;34m\u001b[0m\u001b[0m\n\u001b[1;32m    210\u001b[0m             \u001b[0mcallback\u001b[0m\u001b[0;34m(\u001b[0m\u001b[0mresult\u001b[0m\u001b[0;34m)\u001b[0m\u001b[0;34m\u001b[0m\u001b[0;34m\u001b[0m\u001b[0m\n",
      "\u001b[0;32m/usr/local/lib/python3.6/dist-packages/joblib/_parallel_backends.py\u001b[0m in \u001b[0;36m__init__\u001b[0;34m(self, batch)\u001b[0m\n\u001b[1;32m    570\u001b[0m         \u001b[0;31m# Don't delay the application, to avoid keeping the input\u001b[0m\u001b[0;34m\u001b[0m\u001b[0;34m\u001b[0m\u001b[0;34m\u001b[0m\u001b[0m\n\u001b[1;32m    571\u001b[0m         \u001b[0;31m# arguments in memory\u001b[0m\u001b[0;34m\u001b[0m\u001b[0;34m\u001b[0m\u001b[0;34m\u001b[0m\u001b[0m\n\u001b[0;32m--> 572\u001b[0;31m         \u001b[0mself\u001b[0m\u001b[0;34m.\u001b[0m\u001b[0mresults\u001b[0m \u001b[0;34m=\u001b[0m \u001b[0mbatch\u001b[0m\u001b[0;34m(\u001b[0m\u001b[0;34m)\u001b[0m\u001b[0;34m\u001b[0m\u001b[0;34m\u001b[0m\u001b[0m\n\u001b[0m\u001b[1;32m    573\u001b[0m \u001b[0;34m\u001b[0m\u001b[0m\n\u001b[1;32m    574\u001b[0m     \u001b[0;32mdef\u001b[0m \u001b[0mget\u001b[0m\u001b[0;34m(\u001b[0m\u001b[0mself\u001b[0m\u001b[0;34m)\u001b[0m\u001b[0;34m:\u001b[0m\u001b[0;34m\u001b[0m\u001b[0;34m\u001b[0m\u001b[0m\n",
      "\u001b[0;32m/usr/local/lib/python3.6/dist-packages/joblib/parallel.py\u001b[0m in \u001b[0;36m__call__\u001b[0;34m(self)\u001b[0m\n\u001b[1;32m    261\u001b[0m         \u001b[0;32mwith\u001b[0m \u001b[0mparallel_backend\u001b[0m\u001b[0;34m(\u001b[0m\u001b[0mself\u001b[0m\u001b[0;34m.\u001b[0m\u001b[0m_backend\u001b[0m\u001b[0;34m,\u001b[0m \u001b[0mn_jobs\u001b[0m\u001b[0;34m=\u001b[0m\u001b[0mself\u001b[0m\u001b[0;34m.\u001b[0m\u001b[0m_n_jobs\u001b[0m\u001b[0;34m)\u001b[0m\u001b[0;34m:\u001b[0m\u001b[0;34m\u001b[0m\u001b[0;34m\u001b[0m\u001b[0m\n\u001b[1;32m    262\u001b[0m             return [func(*args, **kwargs)\n\u001b[0;32m--> 263\u001b[0;31m                     for func, args, kwargs in self.items]\n\u001b[0m\u001b[1;32m    264\u001b[0m \u001b[0;34m\u001b[0m\u001b[0m\n\u001b[1;32m    265\u001b[0m     \u001b[0;32mdef\u001b[0m \u001b[0m__reduce__\u001b[0m\u001b[0;34m(\u001b[0m\u001b[0mself\u001b[0m\u001b[0;34m)\u001b[0m\u001b[0;34m:\u001b[0m\u001b[0;34m\u001b[0m\u001b[0;34m\u001b[0m\u001b[0m\n",
      "\u001b[0;32m/usr/local/lib/python3.6/dist-packages/joblib/parallel.py\u001b[0m in \u001b[0;36m<listcomp>\u001b[0;34m(.0)\u001b[0m\n\u001b[1;32m    261\u001b[0m         \u001b[0;32mwith\u001b[0m \u001b[0mparallel_backend\u001b[0m\u001b[0;34m(\u001b[0m\u001b[0mself\u001b[0m\u001b[0;34m.\u001b[0m\u001b[0m_backend\u001b[0m\u001b[0;34m,\u001b[0m \u001b[0mn_jobs\u001b[0m\u001b[0;34m=\u001b[0m\u001b[0mself\u001b[0m\u001b[0;34m.\u001b[0m\u001b[0m_n_jobs\u001b[0m\u001b[0;34m)\u001b[0m\u001b[0;34m:\u001b[0m\u001b[0;34m\u001b[0m\u001b[0;34m\u001b[0m\u001b[0m\n\u001b[1;32m    262\u001b[0m             return [func(*args, **kwargs)\n\u001b[0;32m--> 263\u001b[0;31m                     for func, args, kwargs in self.items]\n\u001b[0m\u001b[1;32m    264\u001b[0m \u001b[0;34m\u001b[0m\u001b[0m\n\u001b[1;32m    265\u001b[0m     \u001b[0;32mdef\u001b[0m \u001b[0m__reduce__\u001b[0m\u001b[0;34m(\u001b[0m\u001b[0mself\u001b[0m\u001b[0;34m)\u001b[0m\u001b[0;34m:\u001b[0m\u001b[0;34m\u001b[0m\u001b[0;34m\u001b[0m\u001b[0m\n",
      "\u001b[0;32m/usr/local/lib/python3.6/dist-packages/sklearn/model_selection/_validation.py\u001b[0m in \u001b[0;36m_fit_and_score\u001b[0;34m(estimator, X, y, scorer, train, test, verbose, parameters, fit_params, return_train_score, return_parameters, return_n_test_samples, return_times, return_estimator, error_score)\u001b[0m\n\u001b[1;32m    542\u001b[0m     \u001b[0;32melse\u001b[0m\u001b[0;34m:\u001b[0m\u001b[0;34m\u001b[0m\u001b[0;34m\u001b[0m\u001b[0m\n\u001b[1;32m    543\u001b[0m         \u001b[0mfit_time\u001b[0m \u001b[0;34m=\u001b[0m \u001b[0mtime\u001b[0m\u001b[0;34m.\u001b[0m\u001b[0mtime\u001b[0m\u001b[0;34m(\u001b[0m\u001b[0;34m)\u001b[0m \u001b[0;34m-\u001b[0m \u001b[0mstart_time\u001b[0m\u001b[0;34m\u001b[0m\u001b[0;34m\u001b[0m\u001b[0m\n\u001b[0;32m--> 544\u001b[0;31m         \u001b[0mtest_scores\u001b[0m \u001b[0;34m=\u001b[0m \u001b[0m_score\u001b[0m\u001b[0;34m(\u001b[0m\u001b[0mestimator\u001b[0m\u001b[0;34m,\u001b[0m \u001b[0mX_test\u001b[0m\u001b[0;34m,\u001b[0m \u001b[0my_test\u001b[0m\u001b[0;34m,\u001b[0m \u001b[0mscorer\u001b[0m\u001b[0;34m)\u001b[0m\u001b[0;34m\u001b[0m\u001b[0;34m\u001b[0m\u001b[0m\n\u001b[0m\u001b[1;32m    545\u001b[0m         \u001b[0mscore_time\u001b[0m \u001b[0;34m=\u001b[0m \u001b[0mtime\u001b[0m\u001b[0;34m.\u001b[0m\u001b[0mtime\u001b[0m\u001b[0;34m(\u001b[0m\u001b[0;34m)\u001b[0m \u001b[0;34m-\u001b[0m \u001b[0mstart_time\u001b[0m \u001b[0;34m-\u001b[0m \u001b[0mfit_time\u001b[0m\u001b[0;34m\u001b[0m\u001b[0;34m\u001b[0m\u001b[0m\n\u001b[1;32m    546\u001b[0m         \u001b[0;32mif\u001b[0m \u001b[0mreturn_train_score\u001b[0m\u001b[0;34m:\u001b[0m\u001b[0;34m\u001b[0m\u001b[0;34m\u001b[0m\u001b[0m\n",
      "\u001b[0;32m/usr/local/lib/python3.6/dist-packages/sklearn/model_selection/_validation.py\u001b[0m in \u001b[0;36m_score\u001b[0;34m(estimator, X_test, y_test, scorer)\u001b[0m\n\u001b[1;32m    589\u001b[0m         \u001b[0mscores\u001b[0m \u001b[0;34m=\u001b[0m \u001b[0mscorer\u001b[0m\u001b[0;34m(\u001b[0m\u001b[0mestimator\u001b[0m\u001b[0;34m,\u001b[0m \u001b[0mX_test\u001b[0m\u001b[0;34m)\u001b[0m\u001b[0;34m\u001b[0m\u001b[0;34m\u001b[0m\u001b[0m\n\u001b[1;32m    590\u001b[0m     \u001b[0;32melse\u001b[0m\u001b[0;34m:\u001b[0m\u001b[0;34m\u001b[0m\u001b[0;34m\u001b[0m\u001b[0m\n\u001b[0;32m--> 591\u001b[0;31m         \u001b[0mscores\u001b[0m \u001b[0;34m=\u001b[0m \u001b[0mscorer\u001b[0m\u001b[0;34m(\u001b[0m\u001b[0mestimator\u001b[0m\u001b[0;34m,\u001b[0m \u001b[0mX_test\u001b[0m\u001b[0;34m,\u001b[0m \u001b[0my_test\u001b[0m\u001b[0;34m)\u001b[0m\u001b[0;34m\u001b[0m\u001b[0;34m\u001b[0m\u001b[0m\n\u001b[0m\u001b[1;32m    592\u001b[0m \u001b[0;34m\u001b[0m\u001b[0m\n\u001b[1;32m    593\u001b[0m     error_msg = (\"scoring must return a number, got %s (%s) \"\n",
      "\u001b[0;32m/usr/local/lib/python3.6/dist-packages/sklearn/metrics/_scorer.py\u001b[0m in \u001b[0;36m__call__\u001b[0;34m(self, estimator, *args, **kwargs)\u001b[0m\n\u001b[1;32m     87\u001b[0m                                       *args, **kwargs)\n\u001b[1;32m     88\u001b[0m             \u001b[0;32melse\u001b[0m\u001b[0;34m:\u001b[0m\u001b[0;34m\u001b[0m\u001b[0;34m\u001b[0m\u001b[0m\n\u001b[0;32m---> 89\u001b[0;31m                 \u001b[0mscore\u001b[0m \u001b[0;34m=\u001b[0m \u001b[0mscorer\u001b[0m\u001b[0;34m(\u001b[0m\u001b[0mestimator\u001b[0m\u001b[0;34m,\u001b[0m \u001b[0;34m*\u001b[0m\u001b[0margs\u001b[0m\u001b[0;34m,\u001b[0m \u001b[0;34m**\u001b[0m\u001b[0mkwargs\u001b[0m\u001b[0;34m)\u001b[0m\u001b[0;34m\u001b[0m\u001b[0;34m\u001b[0m\u001b[0m\n\u001b[0m\u001b[1;32m     90\u001b[0m             \u001b[0mscores\u001b[0m\u001b[0;34m[\u001b[0m\u001b[0mname\u001b[0m\u001b[0;34m]\u001b[0m \u001b[0;34m=\u001b[0m \u001b[0mscore\u001b[0m\u001b[0;34m\u001b[0m\u001b[0;34m\u001b[0m\u001b[0m\n\u001b[1;32m     91\u001b[0m         \u001b[0;32mreturn\u001b[0m \u001b[0mscores\u001b[0m\u001b[0;34m\u001b[0m\u001b[0;34m\u001b[0m\u001b[0m\n",
      "\u001b[0;32m/usr/local/lib/python3.6/dist-packages/sklearn/metrics/_scorer.py\u001b[0m in \u001b[0;36m_passthrough_scorer\u001b[0;34m(estimator, *args, **kwargs)\u001b[0m\n\u001b[1;32m    369\u001b[0m \u001b[0;32mdef\u001b[0m \u001b[0m_passthrough_scorer\u001b[0m\u001b[0;34m(\u001b[0m\u001b[0mestimator\u001b[0m\u001b[0;34m,\u001b[0m \u001b[0;34m*\u001b[0m\u001b[0margs\u001b[0m\u001b[0;34m,\u001b[0m \u001b[0;34m**\u001b[0m\u001b[0mkwargs\u001b[0m\u001b[0;34m)\u001b[0m\u001b[0;34m:\u001b[0m\u001b[0;34m\u001b[0m\u001b[0;34m\u001b[0m\u001b[0m\n\u001b[1;32m    370\u001b[0m     \u001b[0;34m\"\"\"Function that wraps estimator.score\"\"\"\u001b[0m\u001b[0;34m\u001b[0m\u001b[0;34m\u001b[0m\u001b[0m\n\u001b[0;32m--> 371\u001b[0;31m     \u001b[0;32mreturn\u001b[0m \u001b[0mestimator\u001b[0m\u001b[0;34m.\u001b[0m\u001b[0mscore\u001b[0m\u001b[0;34m(\u001b[0m\u001b[0;34m*\u001b[0m\u001b[0margs\u001b[0m\u001b[0;34m,\u001b[0m \u001b[0;34m**\u001b[0m\u001b[0mkwargs\u001b[0m\u001b[0;34m)\u001b[0m\u001b[0;34m\u001b[0m\u001b[0;34m\u001b[0m\u001b[0m\n\u001b[0m\u001b[1;32m    372\u001b[0m \u001b[0;34m\u001b[0m\u001b[0m\n\u001b[1;32m    373\u001b[0m \u001b[0;34m\u001b[0m\u001b[0m\n",
      "\u001b[0;32m/usr/local/lib/python3.6/dist-packages/sklearn/base.py\u001b[0m in \u001b[0;36mscore\u001b[0;34m(self, X, y, sample_weight)\u001b[0m\n\u001b[1;32m    367\u001b[0m         \"\"\"\n\u001b[1;32m    368\u001b[0m         \u001b[0;32mfrom\u001b[0m \u001b[0;34m.\u001b[0m\u001b[0mmetrics\u001b[0m \u001b[0;32mimport\u001b[0m \u001b[0maccuracy_score\u001b[0m\u001b[0;34m\u001b[0m\u001b[0;34m\u001b[0m\u001b[0m\n\u001b[0;32m--> 369\u001b[0;31m         \u001b[0;32mreturn\u001b[0m \u001b[0maccuracy_score\u001b[0m\u001b[0;34m(\u001b[0m\u001b[0my\u001b[0m\u001b[0;34m,\u001b[0m \u001b[0mself\u001b[0m\u001b[0;34m.\u001b[0m\u001b[0mpredict\u001b[0m\u001b[0;34m(\u001b[0m\u001b[0mX\u001b[0m\u001b[0;34m)\u001b[0m\u001b[0;34m,\u001b[0m \u001b[0msample_weight\u001b[0m\u001b[0;34m=\u001b[0m\u001b[0msample_weight\u001b[0m\u001b[0;34m)\u001b[0m\u001b[0;34m\u001b[0m\u001b[0;34m\u001b[0m\u001b[0m\n\u001b[0m\u001b[1;32m    370\u001b[0m \u001b[0;34m\u001b[0m\u001b[0m\n\u001b[1;32m    371\u001b[0m \u001b[0;34m\u001b[0m\u001b[0m\n",
      "\u001b[0;32m/usr/local/lib/python3.6/dist-packages/sklearn/metrics/_classification.py\u001b[0m in \u001b[0;36maccuracy_score\u001b[0;34m(y_true, y_pred, normalize, sample_weight)\u001b[0m\n\u001b[1;32m    183\u001b[0m \u001b[0;34m\u001b[0m\u001b[0m\n\u001b[1;32m    184\u001b[0m     \u001b[0;31m# Compute accuracy for each possible representation\u001b[0m\u001b[0;34m\u001b[0m\u001b[0;34m\u001b[0m\u001b[0;34m\u001b[0m\u001b[0m\n\u001b[0;32m--> 185\u001b[0;31m     \u001b[0my_type\u001b[0m\u001b[0;34m,\u001b[0m \u001b[0my_true\u001b[0m\u001b[0;34m,\u001b[0m \u001b[0my_pred\u001b[0m \u001b[0;34m=\u001b[0m \u001b[0m_check_targets\u001b[0m\u001b[0;34m(\u001b[0m\u001b[0my_true\u001b[0m\u001b[0;34m,\u001b[0m \u001b[0my_pred\u001b[0m\u001b[0;34m)\u001b[0m\u001b[0;34m\u001b[0m\u001b[0;34m\u001b[0m\u001b[0m\n\u001b[0m\u001b[1;32m    186\u001b[0m     \u001b[0mcheck_consistent_length\u001b[0m\u001b[0;34m(\u001b[0m\u001b[0my_true\u001b[0m\u001b[0;34m,\u001b[0m \u001b[0my_pred\u001b[0m\u001b[0;34m,\u001b[0m \u001b[0msample_weight\u001b[0m\u001b[0;34m)\u001b[0m\u001b[0;34m\u001b[0m\u001b[0;34m\u001b[0m\u001b[0m\n\u001b[1;32m    187\u001b[0m     \u001b[0;32mif\u001b[0m \u001b[0my_type\u001b[0m\u001b[0;34m.\u001b[0m\u001b[0mstartswith\u001b[0m\u001b[0;34m(\u001b[0m\u001b[0;34m'multilabel'\u001b[0m\u001b[0;34m)\u001b[0m\u001b[0;34m:\u001b[0m\u001b[0;34m\u001b[0m\u001b[0;34m\u001b[0m\u001b[0m\n",
      "\u001b[0;32m/usr/local/lib/python3.6/dist-packages/sklearn/metrics/_classification.py\u001b[0m in \u001b[0;36m_check_targets\u001b[0;34m(y_true, y_pred)\u001b[0m\n\u001b[1;32m     95\u001b[0m     \u001b[0;31m# No metrics support \"multiclass-multioutput\" format\u001b[0m\u001b[0;34m\u001b[0m\u001b[0;34m\u001b[0m\u001b[0;34m\u001b[0m\u001b[0m\n\u001b[1;32m     96\u001b[0m     \u001b[0;32mif\u001b[0m \u001b[0;34m(\u001b[0m\u001b[0my_type\u001b[0m \u001b[0;32mnot\u001b[0m \u001b[0;32min\u001b[0m \u001b[0;34m[\u001b[0m\u001b[0;34m\"binary\"\u001b[0m\u001b[0;34m,\u001b[0m \u001b[0;34m\"multiclass\"\u001b[0m\u001b[0;34m,\u001b[0m \u001b[0;34m\"multilabel-indicator\"\u001b[0m\u001b[0;34m]\u001b[0m\u001b[0;34m)\u001b[0m\u001b[0;34m:\u001b[0m\u001b[0;34m\u001b[0m\u001b[0;34m\u001b[0m\u001b[0m\n\u001b[0;32m---> 97\u001b[0;31m         \u001b[0;32mraise\u001b[0m \u001b[0mValueError\u001b[0m\u001b[0;34m(\u001b[0m\u001b[0;34m\"{0} is not supported\"\u001b[0m\u001b[0;34m.\u001b[0m\u001b[0mformat\u001b[0m\u001b[0;34m(\u001b[0m\u001b[0my_type\u001b[0m\u001b[0;34m)\u001b[0m\u001b[0;34m)\u001b[0m\u001b[0;34m\u001b[0m\u001b[0;34m\u001b[0m\u001b[0m\n\u001b[0m\u001b[1;32m     98\u001b[0m \u001b[0;34m\u001b[0m\u001b[0m\n\u001b[1;32m     99\u001b[0m     \u001b[0;32mif\u001b[0m \u001b[0my_type\u001b[0m \u001b[0;32min\u001b[0m \u001b[0;34m[\u001b[0m\u001b[0;34m\"binary\"\u001b[0m\u001b[0;34m,\u001b[0m \u001b[0;34m\"multiclass\"\u001b[0m\u001b[0;34m]\u001b[0m\u001b[0;34m:\u001b[0m\u001b[0;34m\u001b[0m\u001b[0;34m\u001b[0m\u001b[0m\n",
      "\u001b[0;31mValueError\u001b[0m: unknown is not supported"
     ]
    }
   ],
   "source": [
    "grd.fit(train,y)"
   ]
  },
  {
   "cell_type": "code",
   "execution_count": null,
   "metadata": {
    "id": "0LYRuv8N5xZ8"
   },
   "outputs": [],
   "source": [
    "# from xgboost import XGBClassifier\n",
    "xgb = XGBClassifier(n_jobs=-1)\n",
    "xgb.fit(train,y)\n",
    "pred = xgb.predict(test)"
   ]
  },
  {
   "cell_type": "code",
   "execution_count": null,
   "metadata": {
    "colab": {
     "base_uri": "https://localhost:8080/",
     "height": 195
    },
    "id": "Bw6lQ1IG60Hv",
    "outputId": "b4bf20ba-fa0f-4944-fca2-abef92543698"
   },
   "outputs": [
    {
     "data": {
      "text/html": [
       "<div>\n",
       "<style scoped>\n",
       "    .dataframe tbody tr th:only-of-type {\n",
       "        vertical-align: middle;\n",
       "    }\n",
       "\n",
       "    .dataframe tbody tr th {\n",
       "        vertical-align: top;\n",
       "    }\n",
       "\n",
       "    .dataframe thead th {\n",
       "        text-align: right;\n",
       "    }\n",
       "</style>\n",
       "<table border=\"1\" class=\"dataframe\">\n",
       "  <thead>\n",
       "    <tr style=\"text-align: right;\">\n",
       "      <th></th>\n",
       "      <th>id</th>\n",
       "      <th>prediction</th>\n",
       "    </tr>\n",
       "  </thead>\n",
       "  <tbody>\n",
       "    <tr>\n",
       "      <th>0</th>\n",
       "      <td>0</td>\n",
       "      <td>0</td>\n",
       "    </tr>\n",
       "    <tr>\n",
       "      <th>1</th>\n",
       "      <td>1</td>\n",
       "      <td>0</td>\n",
       "    </tr>\n",
       "    <tr>\n",
       "      <th>2</th>\n",
       "      <td>2</td>\n",
       "      <td>0</td>\n",
       "    </tr>\n",
       "    <tr>\n",
       "      <th>3</th>\n",
       "      <td>3</td>\n",
       "      <td>0</td>\n",
       "    </tr>\n",
       "    <tr>\n",
       "      <th>4</th>\n",
       "      <td>4</td>\n",
       "      <td>0</td>\n",
       "    </tr>\n",
       "  </tbody>\n",
       "</table>\n",
       "</div>"
      ],
      "text/plain": [
       "   id  prediction\n",
       "0   0           0\n",
       "1   1           0\n",
       "2   2           0\n",
       "3   3           0\n",
       "4   4           0"
      ]
     },
     "execution_count": 45,
     "metadata": {
      "tags": []
     },
     "output_type": "execute_result"
    }
   ],
   "source": [
    "sample.head()"
   ]
  },
  {
   "cell_type": "code",
   "execution_count": null,
   "metadata": {
    "id": "-9JWKT226uB3"
   },
   "outputs": [],
   "source": [
    "prd = pd.DataFrame({'id':range(len(pred)),'prediction':pred})"
   ]
  },
  {
   "cell_type": "code",
   "execution_count": null,
   "metadata": {
    "id": "96Plfvrb7CUa"
   },
   "outputs": [],
   "source": [
    "prd.to_csv('first.csv',index=False)"
   ]
  },
  {
   "cell_type": "code",
   "execution_count": null,
   "metadata": {
    "id": "jOBM7v0G2IYO",
    "outputId": "5c7f1832-3625-4639-9fec-298a640f8d38"
   },
   "outputs": [
    {
     "data": {
      "image/png": "[encoded data removed]",
      "text/plain": [
       "<Figure size 864x360 with 1 Axes>"
      ]
     },
     "metadata": {
      "needs_background": "light",
      "tags": []
     },
     "output_type": "display_data"
    }
   ],
   "source": [
    "fig,ax = plt.subplots(1,1,figsize=(12,5))\n",
    "sns.countplot(data=train, x='workclass')\n",
    "plt.show()"
   ]
  },
  {
   "cell_type": "code",
   "execution_count": null,
   "metadata": {
    "id": "kv407ydh2IYR",
    "outputId": "9e9b423e-0b4e-43db-9d0a-76b84fa6e0a9"
   },
   "outputs": [
    {
     "data": {
      "image/png": "[encoded data removed]",
      "text/plain": [
       "<Figure size 864x360 with 1 Axes>"
      ]
     },
     "metadata": {
      "needs_background": "light",
      "tags": []
     },
     "output_type": "display_data"
    }
   ],
   "source": [
    "fig,ax = plt.subplots(1,1,figsize=(12,5))\n",
    "sns.countplot(data=train, x='race',hue='sex')   # hue 색상\n",
    "plt.show()"
   ]
  },
  {
   "cell_type": "code",
   "execution_count": null,
   "metadata": {
    "id": "VNcIxd8B2IYU",
    "outputId": "d3554ec7-ee54-485a-a2a3-140e30b3a95c"
   },
   "outputs": [
    {
     "data": {
      "image/png": "[encoded data removed]",
      "text/plain": [
       "<Figure size 864x576 with 1 Axes>"
      ]
     },
     "metadata": {
      "needs_background": "light",
      "tags": []
     },
     "output_type": "display_data"
    }
   ],
   "source": [
    "fig, ax = plt.subplots(1,1,figsize=(12,8))\n",
    "sns.boxplot(data=train, x='race',y = 'age')\n",
    "plt.show()"
   ]
  },
  {
   "cell_type": "code",
   "execution_count": null,
   "metadata": {
    "id": "DiX6eNvZ2IYW",
    "outputId": "ad964476-6e30-40a9-d266-63767728bd31"
   },
   "outputs": [
    {
     "data": {
      "image/png": "[encoded data removed]",
      "text/plain": [
       "<Figure size 864x576 with 1 Axes>"
      ]
     },
     "metadata": {
      "needs_background": "light",
      "tags": []
     },
     "output_type": "display_data"
    }
   ],
   "source": [
    "fig, ax = plt.subplots(1,1,figsize=(12,8))\n",
    "sns.boxplot(data=test, x='race',y = 'age',hue='sex')\n",
    "plt.show()"
   ]
  },
  {
   "cell_type": "code",
   "execution_count": null,
   "metadata": {
    "id": "Tj4xeZ_A2IYY"
   },
   "outputs": [],
   "source": [
    "corr = train.corr()"
   ]
  },
  {
   "cell_type": "code",
   "execution_count": null,
   "metadata": {
    "id": "D5ym2lUu2IYa",
    "outputId": "1d4f6922-983c-4b5e-8416-afc270a6d65a"
   },
   "outputs": [
    {
     "data": {
      "text/plain": [
       "<matplotlib.axes._subplots.AxesSubplot at 0x7f53a0de6310>"
      ]
     },
     "execution_count": 29,
     "metadata": {
      "tags": []
     },
     "output_type": "execute_result"
    },
    {
     "data": {
      "image/png": "[encoded data removed]",
      "text/plain": [
       "<Figure size 432x288 with 2 Axes>"
      ]
     },
     "metadata": {
      "needs_background": "light",
      "tags": []
     },
     "output_type": "display_data"
    }
   ],
   "source": [
    "sns.heatmap(corr, square=True, linewidth=0.1, cmap='coolwarm',\n",
    "           vmax=1.0, vmin=-1.0)"
   ]
  },
  {
   "cell_type": "code",
   "execution_count": null,
   "metadata": {
    "id": "2Cbg7Hha2IYd",
    "outputId": "bfb1cab1-052c-48b2-c230-43daa088c5fd"
   },
   "outputs": [
    {
     "name": "stdout",
     "output_type": "stream",
     "text": [
      "Collecting dabl\n",
      "  Downloading dabl-0.1.9.tar.gz (566 kB)\n",
      "\u001b[K     |████████████████████████████████| 566 kB 585 kB/s eta 0:00:01\n",
      "\u001b[?25hRequirement already satisfied: numpy in /opt/conda/lib/python3.7/site-packages (from dabl) (1.18.5)\n",
      "Requirement already satisfied: scipy in /opt/conda/lib/python3.7/site-packages (from dabl) (1.4.1)\n",
      "Requirement already satisfied: scikit-learn in /opt/conda/lib/python3.7/site-packages (from dabl) (0.23.2)\n",
      "Requirement already satisfied: pandas in /opt/conda/lib/python3.7/site-packages (from dabl) (1.1.3)\n",
      "Requirement already satisfied: matplotlib in /opt/conda/lib/python3.7/site-packages (from dabl) (3.2.1)\n",
      "Requirement already satisfied: seaborn in /opt/conda/lib/python3.7/site-packages (from dabl) (0.10.0)\n",
      "Requirement already satisfied: threadpoolctl>=2.0.0 in /opt/conda/lib/python3.7/site-packages (from scikit-learn->dabl) (2.1.0)\n",
      "Requirement already satisfied: joblib>=0.11 in /opt/conda/lib/python3.7/site-packages (from scikit-learn->dabl) (0.14.1)\n",
      "Requirement already satisfied: pytz>=2017.2 in /opt/conda/lib/python3.7/site-packages (from pandas->dabl) (2019.3)\n",
      "Requirement already satisfied: python-dateutil>=2.7.3 in /opt/conda/lib/python3.7/site-packages (from pandas->dabl) (2.8.1)\n",
      "Requirement already satisfied: kiwisolver>=1.0.1 in /opt/conda/lib/python3.7/site-packages (from matplotlib->dabl) (1.2.0)\n",
      "Requirement already satisfied: pyparsing!=2.0.4,!=2.1.2,!=2.1.6,>=2.0.1 in /opt/conda/lib/python3.7/site-packages (from matplotlib->dabl) (2.4.7)\n",
      "Requirement already satisfied: cycler>=0.10 in /opt/conda/lib/python3.7/site-packages (from matplotlib->dabl) (0.10.0)\n",
      "Requirement already satisfied: six>=1.5 in /opt/conda/lib/python3.7/site-packages (from python-dateutil>=2.7.3->pandas->dabl) (1.14.0)\n",
      "Building wheels for collected packages: dabl\n",
      "  Building wheel for dabl (setup.py) ... \u001b[?25ldone\n",
      "\u001b[?25h  Created wheel for dabl: filename=dabl-0.1.9-py3-none-any.whl size=572788 sha256=c6e25aed768ddedc7840fefb18e9779890fe3254ea4bbc723805f30cba0ef7eb\n",
      "  Stored in directory: /root/.cache/pip/wheels/aa/38/8f/66d5e159658b37cb0b8f9176a9f584f14bcd5ea0c1e96011bf\n",
      "Successfully built dabl\n",
      "Installing collected packages: dabl\n",
      "Successfully installed dabl-0.1.9\n"
     ]
    }
   ],
   "source": [
    "!pip install dabl"
   ]
  },
  {
   "cell_type": "code",
   "execution_count": null,
   "metadata": {
    "id": "F4hXv4N_2IYf",
    "outputId": "dbc8e696-8f28-47c1-903c-3ff1ce45ba06"
   },
   "outputs": [
    {
     "data": {
      "text/html": [
       "<div>\n",
       "<style scoped>\n",
       "    .dataframe tbody tr th:only-of-type {\n",
       "        vertical-align: middle;\n",
       "    }\n",
       "\n",
       "    .dataframe tbody tr th {\n",
       "        vertical-align: top;\n",
       "    }\n",
       "\n",
       "    .dataframe thead th {\n",
       "        text-align: right;\n",
       "    }\n",
       "</style>\n",
       "<table border=\"1\" class=\"dataframe\">\n",
       "  <thead>\n",
       "    <tr style=\"text-align: right;\">\n",
       "      <th></th>\n",
       "      <th>continuous</th>\n",
       "      <th>dirty_float</th>\n",
       "      <th>low_card_int</th>\n",
       "      <th>categorical</th>\n",
       "      <th>date</th>\n",
       "      <th>free_string</th>\n",
       "      <th>useless</th>\n",
       "    </tr>\n",
       "  </thead>\n",
       "  <tbody>\n",
       "    <tr>\n",
       "      <th>id</th>\n",
       "      <td>False</td>\n",
       "      <td>False</td>\n",
       "      <td>False</td>\n",
       "      <td>False</td>\n",
       "      <td>False</td>\n",
       "      <td>False</td>\n",
       "      <td>True</td>\n",
       "    </tr>\n",
       "    <tr>\n",
       "      <th>age</th>\n",
       "      <td>False</td>\n",
       "      <td>False</td>\n",
       "      <td>True</td>\n",
       "      <td>False</td>\n",
       "      <td>False</td>\n",
       "      <td>False</td>\n",
       "      <td>False</td>\n",
       "    </tr>\n",
       "    <tr>\n",
       "      <th>workclass</th>\n",
       "      <td>False</td>\n",
       "      <td>False</td>\n",
       "      <td>False</td>\n",
       "      <td>True</td>\n",
       "      <td>False</td>\n",
       "      <td>False</td>\n",
       "      <td>False</td>\n",
       "    </tr>\n",
       "    <tr>\n",
       "      <th>fnlwgt</th>\n",
       "      <td>True</td>\n",
       "      <td>False</td>\n",
       "      <td>False</td>\n",
       "      <td>False</td>\n",
       "      <td>False</td>\n",
       "      <td>False</td>\n",
       "      <td>False</td>\n",
       "    </tr>\n",
       "    <tr>\n",
       "      <th>education</th>\n",
       "      <td>False</td>\n",
       "      <td>False</td>\n",
       "      <td>False</td>\n",
       "      <td>True</td>\n",
       "      <td>False</td>\n",
       "      <td>False</td>\n",
       "      <td>False</td>\n",
       "    </tr>\n",
       "    <tr>\n",
       "      <th>education_num</th>\n",
       "      <td>False</td>\n",
       "      <td>False</td>\n",
       "      <td>True</td>\n",
       "      <td>False</td>\n",
       "      <td>False</td>\n",
       "      <td>False</td>\n",
       "      <td>False</td>\n",
       "    </tr>\n",
       "    <tr>\n",
       "      <th>marital_status</th>\n",
       "      <td>False</td>\n",
       "      <td>False</td>\n",
       "      <td>False</td>\n",
       "      <td>True</td>\n",
       "      <td>False</td>\n",
       "      <td>False</td>\n",
       "      <td>False</td>\n",
       "    </tr>\n",
       "    <tr>\n",
       "      <th>occupation</th>\n",
       "      <td>False</td>\n",
       "      <td>False</td>\n",
       "      <td>False</td>\n",
       "      <td>True</td>\n",
       "      <td>False</td>\n",
       "      <td>False</td>\n",
       "      <td>False</td>\n",
       "    </tr>\n",
       "    <tr>\n",
       "      <th>relationship</th>\n",
       "      <td>False</td>\n",
       "      <td>False</td>\n",
       "      <td>False</td>\n",
       "      <td>True</td>\n",
       "      <td>False</td>\n",
       "      <td>False</td>\n",
       "      <td>False</td>\n",
       "    </tr>\n",
       "    <tr>\n",
       "      <th>race</th>\n",
       "      <td>False</td>\n",
       "      <td>False</td>\n",
       "      <td>False</td>\n",
       "      <td>True</td>\n",
       "      <td>False</td>\n",
       "      <td>False</td>\n",
       "      <td>False</td>\n",
       "    </tr>\n",
       "    <tr>\n",
       "      <th>sex</th>\n",
       "      <td>False</td>\n",
       "      <td>False</td>\n",
       "      <td>False</td>\n",
       "      <td>True</td>\n",
       "      <td>False</td>\n",
       "      <td>False</td>\n",
       "      <td>False</td>\n",
       "    </tr>\n",
       "    <tr>\n",
       "      <th>capital_gain</th>\n",
       "      <td>False</td>\n",
       "      <td>False</td>\n",
       "      <td>True</td>\n",
       "      <td>False</td>\n",
       "      <td>False</td>\n",
       "      <td>False</td>\n",
       "      <td>False</td>\n",
       "    </tr>\n",
       "    <tr>\n",
       "      <th>capital_loss</th>\n",
       "      <td>False</td>\n",
       "      <td>False</td>\n",
       "      <td>False</td>\n",
       "      <td>False</td>\n",
       "      <td>False</td>\n",
       "      <td>False</td>\n",
       "      <td>True</td>\n",
       "    </tr>\n",
       "    <tr>\n",
       "      <th>hours_per_week</th>\n",
       "      <td>False</td>\n",
       "      <td>False</td>\n",
       "      <td>True</td>\n",
       "      <td>False</td>\n",
       "      <td>False</td>\n",
       "      <td>False</td>\n",
       "      <td>False</td>\n",
       "    </tr>\n",
       "    <tr>\n",
       "      <th>native_country</th>\n",
       "      <td>False</td>\n",
       "      <td>False</td>\n",
       "      <td>False</td>\n",
       "      <td>True</td>\n",
       "      <td>False</td>\n",
       "      <td>False</td>\n",
       "      <td>False</td>\n",
       "    </tr>\n",
       "    <tr>\n",
       "      <th>income</th>\n",
       "      <td>False</td>\n",
       "      <td>False</td>\n",
       "      <td>False</td>\n",
       "      <td>True</td>\n",
       "      <td>False</td>\n",
       "      <td>False</td>\n",
       "      <td>False</td>\n",
       "    </tr>\n",
       "  </tbody>\n",
       "</table>\n",
       "</div>"
      ],
      "text/plain": [
       "                continuous  dirty_float  low_card_int  categorical   date  \\\n",
       "id                   False        False         False        False  False   \n",
       "age                  False        False          True        False  False   \n",
       "workclass            False        False         False         True  False   \n",
       "fnlwgt                True        False         False        False  False   \n",
       "education            False        False         False         True  False   \n",
       "education_num        False        False          True        False  False   \n",
       "marital_status       False        False         False         True  False   \n",
       "occupation           False        False         False         True  False   \n",
       "relationship         False        False         False         True  False   \n",
       "race                 False        False         False         True  False   \n",
       "sex                  False        False         False         True  False   \n",
       "capital_gain         False        False          True        False  False   \n",
       "capital_loss         False        False         False        False  False   \n",
       "hours_per_week       False        False          True        False  False   \n",
       "native_country       False        False         False         True  False   \n",
       "income               False        False         False         True  False   \n",
       "\n",
       "                free_string  useless  \n",
       "id                    False     True  \n",
       "age                   False    False  \n",
       "workclass             False    False  \n",
       "fnlwgt                False    False  \n",
       "education             False    False  \n",
       "education_num         False    False  \n",
       "marital_status        False    False  \n",
       "occupation            False    False  \n",
       "relationship          False    False  \n",
       "race                  False    False  \n",
       "sex                   False    False  \n",
       "capital_gain          False    False  \n",
       "capital_loss          False     True  \n",
       "hours_per_week        False    False  \n",
       "native_country        False    False  \n",
       "income                False    False  "
      ]
     },
     "execution_count": 34,
     "metadata": {
      "tags": []
     },
     "output_type": "execute_result"
    }
   ],
   "source": [
    "import dabl\n",
    "dabl.detect_types(train,target_col='income')"
   ]
  },
  {
   "cell_type": "code",
   "execution_count": null,
   "metadata": {
    "id": "aSaw-pYc2IYk"
   },
   "outputs": [],
   "source": [
    "types = dabl.detect_types(train,target_col='income')"
   ]
  },
  {
   "cell_type": "code",
   "execution_count": null,
   "metadata": {
    "id": "So5tjhi-2IYm",
    "outputId": "e40b4af5-32db-4ff9-ab0f-785d61b38c36"
   },
   "outputs": [
    {
     "name": "stdout",
     "output_type": "stream",
     "text": [
      "#####categorical values#####\n"
     ]
    },
    {
     "ename": "TypeError",
     "evalue": "'Series' objects are mutable, thus they cannot be hashed",
     "output_type": "error",
     "traceback": [
      "\u001b[0;31m---------------------------------------------------------------------------\u001b[0m",
      "\u001b[0;31mTypeError\u001b[0m                                 Traceback (most recent call last)",
      "\u001b[0;32m<ipython-input-40-7b2d8a67411c>\u001b[0m in \u001b[0;36m<module>\u001b[0;34m\u001b[0m\n\u001b[1;32m      1\u001b[0m \u001b[0mprint\u001b[0m\u001b[0;34m(\u001b[0m\u001b[0;34m'#####categorical values#####'\u001b[0m\u001b[0;34m)\u001b[0m\u001b[0;34m\u001b[0m\u001b[0;34m\u001b[0m\u001b[0m\n\u001b[0;32m----> 2\u001b[0;31m \u001b[0;32mfor\u001b[0m \u001b[0mi\u001b[0m \u001b[0;32min\u001b[0m \u001b[0mtype\u001b[0m\u001b[0;34m.\u001b[0m\u001b[0mloc\u001b[0m\u001b[0;34m(\u001b[0m\u001b[0mtypes\u001b[0m\u001b[0;34m[\u001b[0m\u001b[0;34m'categorical'\u001b[0m\u001b[0;34m]\u001b[0m\u001b[0;34m==\u001b[0m\u001b[0;32mTrue\u001b[0m\u001b[0;34m)\u001b[0m\u001b[0;34m:\u001b[0m\u001b[0;34m\u001b[0m\u001b[0;34m\u001b[0m\u001b[0m\n\u001b[0m\u001b[1;32m      3\u001b[0m     \u001b[0mprint\u001b[0m\u001b[0;34m(\u001b[0m\u001b[0mi\u001b[0m\u001b[0;34m,\u001b[0m\u001b[0mend\u001b[0m\u001b[0;34m=\u001b[0m\u001b[0;34m','\u001b[0m\u001b[0;34m)\u001b[0m\u001b[0;34m\u001b[0m\u001b[0;34m\u001b[0m\u001b[0m\n",
      "\u001b[0;32m/opt/conda/lib/python3.7/site-packages/pandas/core/indexing.py\u001b[0m in \u001b[0;36m__call__\u001b[0;34m(self, axis)\u001b[0m\n\u001b[1;32m    582\u001b[0m \u001b[0;34m\u001b[0m\u001b[0m\n\u001b[1;32m    583\u001b[0m         \u001b[0;32mif\u001b[0m \u001b[0maxis\u001b[0m \u001b[0;32mis\u001b[0m \u001b[0;32mnot\u001b[0m \u001b[0;32mNone\u001b[0m\u001b[0;34m:\u001b[0m\u001b[0;34m\u001b[0m\u001b[0;34m\u001b[0m\u001b[0m\n\u001b[0;32m--> 584\u001b[0;31m             \u001b[0maxis\u001b[0m \u001b[0;34m=\u001b[0m \u001b[0mself\u001b[0m\u001b[0;34m.\u001b[0m\u001b[0mobj\u001b[0m\u001b[0;34m.\u001b[0m\u001b[0m_get_axis_number\u001b[0m\u001b[0;34m(\u001b[0m\u001b[0maxis\u001b[0m\u001b[0;34m)\u001b[0m\u001b[0;34m\u001b[0m\u001b[0;34m\u001b[0m\u001b[0m\n\u001b[0m\u001b[1;32m    585\u001b[0m         \u001b[0mnew_self\u001b[0m\u001b[0;34m.\u001b[0m\u001b[0maxis\u001b[0m \u001b[0;34m=\u001b[0m \u001b[0maxis\u001b[0m\u001b[0;34m\u001b[0m\u001b[0;34m\u001b[0m\u001b[0m\n\u001b[1;32m    586\u001b[0m         \u001b[0;32mreturn\u001b[0m \u001b[0mnew_self\u001b[0m\u001b[0;34m\u001b[0m\u001b[0;34m\u001b[0m\u001b[0m\n",
      "\u001b[0;32m/opt/conda/lib/python3.7/site-packages/pandas/core/generic.py\u001b[0m in \u001b[0;36m_get_axis_number\u001b[0;34m(cls, axis)\u001b[0m\n\u001b[1;32m    366\u001b[0m     \u001b[0;32mdef\u001b[0m \u001b[0m_get_axis_number\u001b[0m\u001b[0;34m(\u001b[0m\u001b[0mcls\u001b[0m\u001b[0;34m,\u001b[0m \u001b[0maxis\u001b[0m\u001b[0;34m:\u001b[0m \u001b[0mAxis\u001b[0m\u001b[0;34m)\u001b[0m \u001b[0;34m->\u001b[0m \u001b[0mint\u001b[0m\u001b[0;34m:\u001b[0m\u001b[0;34m\u001b[0m\u001b[0;34m\u001b[0m\u001b[0m\n\u001b[1;32m    367\u001b[0m         \u001b[0;32mtry\u001b[0m\u001b[0;34m:\u001b[0m\u001b[0;34m\u001b[0m\u001b[0;34m\u001b[0m\u001b[0m\n\u001b[0;32m--> 368\u001b[0;31m             \u001b[0;32mreturn\u001b[0m \u001b[0mcls\u001b[0m\u001b[0;34m.\u001b[0m\u001b[0m_AXIS_TO_AXIS_NUMBER\u001b[0m\u001b[0;34m[\u001b[0m\u001b[0maxis\u001b[0m\u001b[0;34m]\u001b[0m\u001b[0;34m\u001b[0m\u001b[0;34m\u001b[0m\u001b[0m\n\u001b[0m\u001b[1;32m    369\u001b[0m         \u001b[0;32mexcept\u001b[0m \u001b[0mKeyError\u001b[0m\u001b[0;34m:\u001b[0m\u001b[0;34m\u001b[0m\u001b[0;34m\u001b[0m\u001b[0m\n\u001b[1;32m    370\u001b[0m             \u001b[0;32mraise\u001b[0m \u001b[0mValueError\u001b[0m\u001b[0;34m(\u001b[0m\u001b[0;34mf\"No axis named {axis} for object type {cls.__name__}\"\u001b[0m\u001b[0;34m)\u001b[0m\u001b[0;34m\u001b[0m\u001b[0;34m\u001b[0m\u001b[0m\n",
      "\u001b[0;32m/opt/conda/lib/python3.7/site-packages/pandas/core/generic.py\u001b[0m in \u001b[0;36m__hash__\u001b[0;34m(self)\u001b[0m\n\u001b[1;32m   1667\u001b[0m     \u001b[0;32mdef\u001b[0m \u001b[0m__hash__\u001b[0m\u001b[0;34m(\u001b[0m\u001b[0mself\u001b[0m\u001b[0;34m)\u001b[0m\u001b[0;34m:\u001b[0m\u001b[0;34m\u001b[0m\u001b[0;34m\u001b[0m\u001b[0m\n\u001b[1;32m   1668\u001b[0m         raise TypeError(\n\u001b[0;32m-> 1669\u001b[0;31m             \u001b[0;34mf\"{repr(type(self).__name__)} objects are mutable, \"\u001b[0m\u001b[0;34m\u001b[0m\u001b[0;34m\u001b[0m\u001b[0m\n\u001b[0m\u001b[1;32m   1670\u001b[0m             \u001b[0;34mf\"thus they cannot be hashed\"\u001b[0m\u001b[0;34m\u001b[0m\u001b[0;34m\u001b[0m\u001b[0m\n\u001b[1;32m   1671\u001b[0m         )\n",
      "\u001b[0;31mTypeError\u001b[0m: 'Series' objects are mutable, thus they cannot be hashed"
     ]
    }
   ],
   "source": [
    "print('#####categorical values#####')\n",
    "for i in type.loc(types['categorical']==True):\n",
    "    print(i,end=',')"
   ]
  },
  {
   "cell_type": "code",
   "execution_count": null,
   "metadata": {
    "id": "v8L-ZPP52IYo",
    "outputId": "e986e8d9-72f5-4848-bc4b-76cdfb890f1a"
   },
   "outputs": [
    {
     "data": {
      "text/html": [
       "<div>\n",
       "<style scoped>\n",
       "    .dataframe tbody tr th:only-of-type {\n",
       "        vertical-align: middle;\n",
       "    }\n",
       "\n",
       "    .dataframe tbody tr th {\n",
       "        vertical-align: top;\n",
       "    }\n",
       "\n",
       "    .dataframe thead th {\n",
       "        text-align: right;\n",
       "    }\n",
       "</style>\n",
       "<table border=\"1\" class=\"dataframe\">\n",
       "  <thead>\n",
       "    <tr style=\"text-align: right;\">\n",
       "      <th></th>\n",
       "    </tr>\n",
       "  </thead>\n",
       "  <tbody>\n",
       "    <tr>\n",
       "      <th>workclass</th>\n",
       "    </tr>\n",
       "    <tr>\n",
       "      <th>education</th>\n",
       "    </tr>\n",
       "    <tr>\n",
       "      <th>marital_status</th>\n",
       "    </tr>\n",
       "    <tr>\n",
       "      <th>occupation</th>\n",
       "    </tr>\n",
       "    <tr>\n",
       "      <th>relationship</th>\n",
       "    </tr>\n",
       "    <tr>\n",
       "      <th>race</th>\n",
       "    </tr>\n",
       "    <tr>\n",
       "      <th>sex</th>\n",
       "    </tr>\n",
       "    <tr>\n",
       "      <th>native_country</th>\n",
       "    </tr>\n",
       "    <tr>\n",
       "      <th>income</th>\n",
       "    </tr>\n",
       "  </tbody>\n",
       "</table>\n",
       "</div>"
      ],
      "text/plain": [
       "Empty DataFrame\n",
       "Columns: []\n",
       "Index: [workclass, education, marital_status, occupation, relationship, race, sex, native_country, income]"
      ]
     },
     "execution_count": 66,
     "metadata": {
      "tags": []
     },
     "output_type": "execute_result"
    }
   ],
   "source": [
    "ttt = types[types['categorical']==True].iloc[:,:0]\n",
    "types[types['categorical']==True].iloc[:,:0]"
   ]
  },
  {
   "cell_type": "code",
   "execution_count": null,
   "metadata": {
    "id": "tW4zRt1L2IYp",
    "outputId": "dc97b66a-8402-4139-de8c-03ab7baf0a51"
   },
   "outputs": [
    {
     "data": {
      "text/plain": [
       "Index(['workclass', 'education', 'marital_status', 'occupation',\n",
       "       'relationship', 'race', 'sex', 'native_country', 'income'],\n",
       "      dtype='object')"
      ]
     },
     "execution_count": 78,
     "metadata": {
      "tags": []
     },
     "output_type": "execute_result"
    }
   ],
   "source": [
    "for i in ttt.index:\n",
    "    print(i)"
   ]
  },
  {
   "cell_type": "code",
   "execution_count": null,
   "metadata": {
    "id": "7s7B2apJ2IYr",
    "outputId": "cd9d4c6e-6bfd-4394-fe56-40544de73176"
   },
   "outputs": [
    {
     "data": {
      "text/html": [
       "<div>\n",
       "<style scoped>\n",
       "    .dataframe tbody tr th:only-of-type {\n",
       "        vertical-align: middle;\n",
       "    }\n",
       "\n",
       "    .dataframe tbody tr th {\n",
       "        vertical-align: top;\n",
       "    }\n",
       "\n",
       "    .dataframe thead th {\n",
       "        text-align: right;\n",
       "    }\n",
       "</style>\n",
       "<table border=\"1\" class=\"dataframe\">\n",
       "  <thead>\n",
       "    <tr style=\"text-align: right;\">\n",
       "      <th></th>\n",
       "      <th>id</th>\n",
       "      <th>age</th>\n",
       "      <th>workclass</th>\n",
       "      <th>fnlwgt</th>\n",
       "      <th>education</th>\n",
       "      <th>education_num</th>\n",
       "      <th>marital_status</th>\n",
       "      <th>occupation</th>\n",
       "      <th>relationship</th>\n",
       "      <th>race</th>\n",
       "      <th>sex</th>\n",
       "      <th>capital_gain</th>\n",
       "      <th>capital_loss</th>\n",
       "      <th>hours_per_week</th>\n",
       "      <th>native_country</th>\n",
       "      <th>income</th>\n",
       "    </tr>\n",
       "  </thead>\n",
       "  <tbody>\n",
       "    <tr>\n",
       "      <th>0</th>\n",
       "      <td>0</td>\n",
       "      <td>40</td>\n",
       "      <td>Private</td>\n",
       "      <td>168538</td>\n",
       "      <td>HS-grad</td>\n",
       "      <td>9</td>\n",
       "      <td>Married-civ-spouse</td>\n",
       "      <td>Sales</td>\n",
       "      <td>Husband</td>\n",
       "      <td>White</td>\n",
       "      <td>Male</td>\n",
       "      <td>0</td>\n",
       "      <td>0</td>\n",
       "      <td>60</td>\n",
       "      <td>United-States</td>\n",
       "      <td>&gt;50K</td>\n",
       "    </tr>\n",
       "    <tr>\n",
       "      <th>1</th>\n",
       "      <td>1</td>\n",
       "      <td>17</td>\n",
       "      <td>Private</td>\n",
       "      <td>101626</td>\n",
       "      <td>9th</td>\n",
       "      <td>5</td>\n",
       "      <td>Never-married</td>\n",
       "      <td>Machine-op-inspct</td>\n",
       "      <td>Own-child</td>\n",
       "      <td>White</td>\n",
       "      <td>Male</td>\n",
       "      <td>0</td>\n",
       "      <td>0</td>\n",
       "      <td>20</td>\n",
       "      <td>United-States</td>\n",
       "      <td>&lt;=50K</td>\n",
       "    </tr>\n",
       "    <tr>\n",
       "      <th>2</th>\n",
       "      <td>2</td>\n",
       "      <td>18</td>\n",
       "      <td>Private</td>\n",
       "      <td>353358</td>\n",
       "      <td>Some-college</td>\n",
       "      <td>10</td>\n",
       "      <td>Never-married</td>\n",
       "      <td>Other-service</td>\n",
       "      <td>Own-child</td>\n",
       "      <td>White</td>\n",
       "      <td>Male</td>\n",
       "      <td>0</td>\n",
       "      <td>0</td>\n",
       "      <td>16</td>\n",
       "      <td>United-States</td>\n",
       "      <td>&lt;=50K</td>\n",
       "    </tr>\n",
       "    <tr>\n",
       "      <th>3</th>\n",
       "      <td>3</td>\n",
       "      <td>21</td>\n",
       "      <td>Private</td>\n",
       "      <td>151158</td>\n",
       "      <td>Some-college</td>\n",
       "      <td>10</td>\n",
       "      <td>Never-married</td>\n",
       "      <td>Prof-specialty</td>\n",
       "      <td>Own-child</td>\n",
       "      <td>White</td>\n",
       "      <td>Female</td>\n",
       "      <td>0</td>\n",
       "      <td>0</td>\n",
       "      <td>25</td>\n",
       "      <td>United-States</td>\n",
       "      <td>&lt;=50K</td>\n",
       "    </tr>\n",
       "    <tr>\n",
       "      <th>4</th>\n",
       "      <td>4</td>\n",
       "      <td>24</td>\n",
       "      <td>Private</td>\n",
       "      <td>122234</td>\n",
       "      <td>Some-college</td>\n",
       "      <td>10</td>\n",
       "      <td>Never-married</td>\n",
       "      <td>Adm-clerical</td>\n",
       "      <td>Not-in-family</td>\n",
       "      <td>Black</td>\n",
       "      <td>Female</td>\n",
       "      <td>0</td>\n",
       "      <td>0</td>\n",
       "      <td>20</td>\n",
       "      <td>?</td>\n",
       "      <td>&lt;=50K</td>\n",
       "    </tr>\n",
       "  </tbody>\n",
       "</table>\n",
       "</div>"
      ],
      "text/plain": [
       "   id  age workclass  fnlwgt     education  education_num      marital_status  \\\n",
       "0   0   40   Private  168538       HS-grad              9  Married-civ-spouse   \n",
       "1   1   17   Private  101626           9th              5       Never-married   \n",
       "2   2   18   Private  353358  Some-college             10       Never-married   \n",
       "3   3   21   Private  151158  Some-college             10       Never-married   \n",
       "4   4   24   Private  122234  Some-college             10       Never-married   \n",
       "\n",
       "          occupation   relationship   race     sex  capital_gain  \\\n",
       "0              Sales        Husband  White    Male             0   \n",
       "1  Machine-op-inspct      Own-child  White    Male             0   \n",
       "2      Other-service      Own-child  White    Male             0   \n",
       "3     Prof-specialty      Own-child  White  Female             0   \n",
       "4       Adm-clerical  Not-in-family  Black  Female             0   \n",
       "\n",
       "   capital_loss  hours_per_week native_country income  \n",
       "0             0              60  United-States   >50K  \n",
       "1             0              20  United-States  <=50K  \n",
       "2             0              16  United-States  <=50K  \n",
       "3             0              25  United-States  <=50K  \n",
       "4             0              20              ?  <=50K  "
      ]
     },
     "execution_count": 46,
     "metadata": {
      "tags": []
     },
     "output_type": "execute_result"
    }
   ],
   "source": [
    "train.head()"
   ]
  },
  {
   "cell_type": "code",
   "execution_count": null,
   "metadata": {
    "id": "q8TnLi3F2IYt"
   },
   "outputs": [],
   "source": []
  }
 ],
 "metadata": {
  "accelerator": "GPU",
  "colab": {
   "name": "gon2gon2.ipynb",
   "provenance": [],
   "toc_visible": true
  },
  "kernelspec": {
   "display_name": "Python 3",
   "language": "python",
   "name": "python3"
  },
  "language_info": {
   "codemirror_mode": {
    "name": "ipython",
    "version": 3
   },
   "file_extension": ".py",
   "mimetype": "text/x-python",
   "name": "python",
   "nbconvert_exporter": "python",
   "pygments_lexer": "ipython3",
   "version": "3.7.6"
  }
 },
 "nbformat": 4,
 "nbformat_minor": 1
}
