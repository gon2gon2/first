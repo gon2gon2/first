{
 "cells": [
  {
   "cell_type": "markdown",
   "metadata": {},
   "source": [
    "<a href = 'https://www.kaggle.com/c/sejongai-challenge-pretest-1/overview'>당뇨병</a>"
   ]
  },
  {
   "cell_type": "markdown",
   "metadata": {},
   "source": [
    "### Evaluation\n",
    "categorization accuracy 를 이용하여 evaluation을 수행합니다.\n",
    "제출시에 Label 을 int형으로 제출해야함에 주의하세요!"
   ]
  },
  {
   "cell_type": "code",
   "execution_count": 52,
   "metadata": {
    "_cell_guid": "79c7e3d0-c299-4dcb-8224-4455121ee9b0",
    "_uuid": "d629ff2d2480ee46fbb7e2d37f6b5fab8052498a"
   },
   "outputs": [],
   "source": [
    "import pandas as pd\n",
    "import numpy as np\n",
    "import warnings\n",
    "warnings.filterwarnings('ignore')\n",
    "import matplotlib.pyplot as plt\n",
    "import seaborn as sns"
   ]
  },
  {
   "cell_type": "code",
   "execution_count": 53,
   "metadata": {},
   "outputs": [],
   "source": [
    "train = pd.read_csv('C:/kaggle/ai_challenge/pretest/당뇨병(분류)/data/train.csv')\n",
    "test = pd.read_csv('C:/kaggle/ai_challenge/pretest/당뇨병(분류)/data/test_data.csv')"
   ]
  },
  {
   "cell_type": "markdown",
   "metadata": {},
   "source": [
    "train.csv : 당뇨병 환자의 정보 0~7열, 환자의 당뇨병 보유 여부 8열\n",
    "\n",
    "test_data.csv : 당뇨병 환자의 정보 0~7열\n",
    "\n",
    "submit_sample.csv : test_data.csv를 기반으로 환자의 당뇨병 보유 여부를 1(ture)/0(false)으로 예측하시면 됩니다.\n",
    "\n",
    "주의사항. int 형인 1,0으로 예측하셔야합니다."
   ]
  },
  {
   "cell_type": "code",
   "execution_count": 54,
   "metadata": {},
   "outputs": [
    {
     "data": {
      "text/html": [
       "<div>\n",
       "<style scoped>\n",
       "    .dataframe tbody tr th:only-of-type {\n",
       "        vertical-align: middle;\n",
       "    }\n",
       "\n",
       "    .dataframe tbody tr th {\n",
       "        vertical-align: top;\n",
       "    }\n",
       "\n",
       "    .dataframe thead th {\n",
       "        text-align: right;\n",
       "    }\n",
       "</style>\n",
       "<table border=\"1\" class=\"dataframe\">\n",
       "  <thead>\n",
       "    <tr style=\"text-align: right;\">\n",
       "      <th></th>\n",
       "      <th>Unnamed: 0</th>\n",
       "      <th>0</th>\n",
       "      <th>1</th>\n",
       "      <th>2</th>\n",
       "      <th>3</th>\n",
       "      <th>4</th>\n",
       "      <th>5</th>\n",
       "      <th>6</th>\n",
       "      <th>7</th>\n",
       "      <th>8</th>\n",
       "    </tr>\n",
       "  </thead>\n",
       "  <tbody>\n",
       "    <tr>\n",
       "      <th>0</th>\n",
       "      <td>0</td>\n",
       "      <td>-0.294118</td>\n",
       "      <td>0.487437</td>\n",
       "      <td>0.180328</td>\n",
       "      <td>-0.292929</td>\n",
       "      <td>0.000000</td>\n",
       "      <td>0.001490</td>\n",
       "      <td>-0.531170</td>\n",
       "      <td>-0.033333</td>\n",
       "      <td>0.0</td>\n",
       "    </tr>\n",
       "    <tr>\n",
       "      <th>1</th>\n",
       "      <td>1</td>\n",
       "      <td>-0.882353</td>\n",
       "      <td>-0.145729</td>\n",
       "      <td>0.081967</td>\n",
       "      <td>-0.414141</td>\n",
       "      <td>0.000000</td>\n",
       "      <td>-0.207153</td>\n",
       "      <td>-0.766866</td>\n",
       "      <td>-0.666667</td>\n",
       "      <td>1.0</td>\n",
       "    </tr>\n",
       "    <tr>\n",
       "      <th>2</th>\n",
       "      <td>2</td>\n",
       "      <td>-0.058824</td>\n",
       "      <td>0.839196</td>\n",
       "      <td>0.049180</td>\n",
       "      <td>0.000000</td>\n",
       "      <td>0.000000</td>\n",
       "      <td>-0.305514</td>\n",
       "      <td>-0.492741</td>\n",
       "      <td>-0.633333</td>\n",
       "      <td>0.0</td>\n",
       "    </tr>\n",
       "    <tr>\n",
       "      <th>3</th>\n",
       "      <td>3</td>\n",
       "      <td>-0.882353</td>\n",
       "      <td>-0.105528</td>\n",
       "      <td>0.081967</td>\n",
       "      <td>-0.535354</td>\n",
       "      <td>-0.777778</td>\n",
       "      <td>-0.162444</td>\n",
       "      <td>-0.923997</td>\n",
       "      <td>0.000000</td>\n",
       "      <td>1.0</td>\n",
       "    </tr>\n",
       "    <tr>\n",
       "      <th>4</th>\n",
       "      <td>4</td>\n",
       "      <td>0.000000</td>\n",
       "      <td>0.376884</td>\n",
       "      <td>-0.344262</td>\n",
       "      <td>-0.292929</td>\n",
       "      <td>-0.602837</td>\n",
       "      <td>0.284650</td>\n",
       "      <td>0.887276</td>\n",
       "      <td>-0.600000</td>\n",
       "      <td>0.0</td>\n",
       "    </tr>\n",
       "  </tbody>\n",
       "</table>\n",
       "</div>"
      ],
      "text/plain": [
       "   Unnamed: 0         0         1         2         3         4         5  \\\n",
       "0           0 -0.294118  0.487437  0.180328 -0.292929  0.000000  0.001490   \n",
       "1           1 -0.882353 -0.145729  0.081967 -0.414141  0.000000 -0.207153   \n",
       "2           2 -0.058824  0.839196  0.049180  0.000000  0.000000 -0.305514   \n",
       "3           3 -0.882353 -0.105528  0.081967 -0.535354 -0.777778 -0.162444   \n",
       "4           4  0.000000  0.376884 -0.344262 -0.292929 -0.602837  0.284650   \n",
       "\n",
       "          6         7    8  \n",
       "0 -0.531170 -0.033333  0.0  \n",
       "1 -0.766866 -0.666667  1.0  \n",
       "2 -0.492741 -0.633333  0.0  \n",
       "3 -0.923997  0.000000  1.0  \n",
       "4  0.887276 -0.600000  0.0  "
      ]
     },
     "execution_count": 54,
     "metadata": {},
     "output_type": "execute_result"
    }
   ],
   "source": [
    "train.head()"
   ]
  },
  {
   "cell_type": "code",
   "execution_count": 55,
   "metadata": {},
   "outputs": [
    {
     "data": {
      "text/html": [
       "<div>\n",
       "<style scoped>\n",
       "    .dataframe tbody tr th:only-of-type {\n",
       "        vertical-align: middle;\n",
       "    }\n",
       "\n",
       "    .dataframe tbody tr th {\n",
       "        vertical-align: top;\n",
       "    }\n",
       "\n",
       "    .dataframe thead th {\n",
       "        text-align: right;\n",
       "    }\n",
       "</style>\n",
       "<table border=\"1\" class=\"dataframe\">\n",
       "  <thead>\n",
       "    <tr style=\"text-align: right;\">\n",
       "      <th></th>\n",
       "      <th>Unnamed: 0</th>\n",
       "      <th>0</th>\n",
       "      <th>1</th>\n",
       "      <th>2</th>\n",
       "      <th>3</th>\n",
       "      <th>4</th>\n",
       "      <th>5</th>\n",
       "      <th>6</th>\n",
       "      <th>7</th>\n",
       "    </tr>\n",
       "  </thead>\n",
       "  <tbody>\n",
       "    <tr>\n",
       "      <th>0</th>\n",
       "      <td>0</td>\n",
       "      <td>-0.882353</td>\n",
       "      <td>0.085427</td>\n",
       "      <td>-0.016393</td>\n",
       "      <td>-0.070707</td>\n",
       "      <td>-0.579196</td>\n",
       "      <td>0.058122</td>\n",
       "      <td>-0.712212</td>\n",
       "      <td>-0.900000</td>\n",
       "    </tr>\n",
       "    <tr>\n",
       "      <th>1</th>\n",
       "      <td>1</td>\n",
       "      <td>-0.411765</td>\n",
       "      <td>-0.025126</td>\n",
       "      <td>0.245902</td>\n",
       "      <td>-0.454545</td>\n",
       "      <td>0.000000</td>\n",
       "      <td>0.061103</td>\n",
       "      <td>-0.743809</td>\n",
       "      <td>0.033333</td>\n",
       "    </tr>\n",
       "    <tr>\n",
       "      <th>2</th>\n",
       "      <td>2</td>\n",
       "      <td>-0.529412</td>\n",
       "      <td>-0.165829</td>\n",
       "      <td>0.409836</td>\n",
       "      <td>-0.616162</td>\n",
       "      <td>0.000000</td>\n",
       "      <td>-0.126677</td>\n",
       "      <td>-0.795901</td>\n",
       "      <td>-0.566667</td>\n",
       "    </tr>\n",
       "    <tr>\n",
       "      <th>3</th>\n",
       "      <td>3</td>\n",
       "      <td>-0.882353</td>\n",
       "      <td>0.145729</td>\n",
       "      <td>0.081967</td>\n",
       "      <td>-0.272727</td>\n",
       "      <td>-0.527187</td>\n",
       "      <td>0.135618</td>\n",
       "      <td>-0.819812</td>\n",
       "      <td>0.000000</td>\n",
       "    </tr>\n",
       "    <tr>\n",
       "      <th>4</th>\n",
       "      <td>4</td>\n",
       "      <td>-0.882353</td>\n",
       "      <td>0.497487</td>\n",
       "      <td>0.114754</td>\n",
       "      <td>-0.414141</td>\n",
       "      <td>-0.699764</td>\n",
       "      <td>-0.126677</td>\n",
       "      <td>-0.768574</td>\n",
       "      <td>-0.300000</td>\n",
       "    </tr>\n",
       "  </tbody>\n",
       "</table>\n",
       "</div>"
      ],
      "text/plain": [
       "   Unnamed: 0         0         1         2         3         4         5  \\\n",
       "0           0 -0.882353  0.085427 -0.016393 -0.070707 -0.579196  0.058122   \n",
       "1           1 -0.411765 -0.025126  0.245902 -0.454545  0.000000  0.061103   \n",
       "2           2 -0.529412 -0.165829  0.409836 -0.616162  0.000000 -0.126677   \n",
       "3           3 -0.882353  0.145729  0.081967 -0.272727 -0.527187  0.135618   \n",
       "4           4 -0.882353  0.497487  0.114754 -0.414141 -0.699764 -0.126677   \n",
       "\n",
       "          6         7  \n",
       "0 -0.712212 -0.900000  \n",
       "1 -0.743809  0.033333  \n",
       "2 -0.795901 -0.566667  \n",
       "3 -0.819812  0.000000  \n",
       "4 -0.768574 -0.300000  "
      ]
     },
     "execution_count": 55,
     "metadata": {},
     "output_type": "execute_result"
    }
   ],
   "source": [
    "test.head()"
   ]
  },
  {
   "cell_type": "code",
   "execution_count": 56,
   "metadata": {},
   "outputs": [
    {
     "data": {
      "text/plain": [
       "Unnamed: 0    0\n",
       "0             0\n",
       "1             0\n",
       "2             0\n",
       "3             0\n",
       "4             0\n",
       "5             0\n",
       "6             0\n",
       "7             0\n",
       "8             0\n",
       "dtype: int64"
      ]
     },
     "execution_count": 56,
     "metadata": {},
     "output_type": "execute_result"
    }
   ],
   "source": [
    "train.isnull().sum()"
   ]
  },
  {
   "cell_type": "code",
   "execution_count": 57,
   "metadata": {},
   "outputs": [
    {
     "data": {
      "text/plain": [
       "Unnamed: 0    0\n",
       "0             0\n",
       "1             0\n",
       "2             0\n",
       "3             0\n",
       "4             0\n",
       "5             0\n",
       "6             0\n",
       "7             0\n",
       "dtype: int64"
      ]
     },
     "execution_count": 57,
     "metadata": {},
     "output_type": "execute_result"
    }
   ],
   "source": [
    "test.isnull().sum()"
   ]
  },
  {
   "cell_type": "code",
   "execution_count": 8,
   "metadata": {},
   "outputs": [],
   "source": [
    "y = train.pop('8')"
   ]
  },
  {
   "cell_type": "code",
   "execution_count": 9,
   "metadata": {},
   "outputs": [
    {
     "data": {
      "text/html": [
       "<div>\n",
       "<style scoped>\n",
       "    .dataframe tbody tr th:only-of-type {\n",
       "        vertical-align: middle;\n",
       "    }\n",
       "\n",
       "    .dataframe tbody tr th {\n",
       "        vertical-align: top;\n",
       "    }\n",
       "\n",
       "    .dataframe thead th {\n",
       "        text-align: right;\n",
       "    }\n",
       "</style>\n",
       "<table border=\"1\" class=\"dataframe\">\n",
       "  <thead>\n",
       "    <tr style=\"text-align: right;\">\n",
       "      <th></th>\n",
       "      <th>Unnamed: 0</th>\n",
       "      <th>0</th>\n",
       "      <th>1</th>\n",
       "      <th>2</th>\n",
       "      <th>3</th>\n",
       "      <th>4</th>\n",
       "      <th>5</th>\n",
       "      <th>6</th>\n",
       "      <th>7</th>\n",
       "    </tr>\n",
       "  </thead>\n",
       "  <tbody>\n",
       "    <tr>\n",
       "      <th>0</th>\n",
       "      <td>0</td>\n",
       "      <td>-0.294118</td>\n",
       "      <td>0.487437</td>\n",
       "      <td>0.180328</td>\n",
       "      <td>-0.292929</td>\n",
       "      <td>0.000000</td>\n",
       "      <td>0.001490</td>\n",
       "      <td>-0.531170</td>\n",
       "      <td>-0.033333</td>\n",
       "    </tr>\n",
       "    <tr>\n",
       "      <th>1</th>\n",
       "      <td>1</td>\n",
       "      <td>-0.882353</td>\n",
       "      <td>-0.145729</td>\n",
       "      <td>0.081967</td>\n",
       "      <td>-0.414141</td>\n",
       "      <td>0.000000</td>\n",
       "      <td>-0.207153</td>\n",
       "      <td>-0.766866</td>\n",
       "      <td>-0.666667</td>\n",
       "    </tr>\n",
       "    <tr>\n",
       "      <th>2</th>\n",
       "      <td>2</td>\n",
       "      <td>-0.058824</td>\n",
       "      <td>0.839196</td>\n",
       "      <td>0.049180</td>\n",
       "      <td>0.000000</td>\n",
       "      <td>0.000000</td>\n",
       "      <td>-0.305514</td>\n",
       "      <td>-0.492741</td>\n",
       "      <td>-0.633333</td>\n",
       "    </tr>\n",
       "    <tr>\n",
       "      <th>3</th>\n",
       "      <td>3</td>\n",
       "      <td>-0.882353</td>\n",
       "      <td>-0.105528</td>\n",
       "      <td>0.081967</td>\n",
       "      <td>-0.535354</td>\n",
       "      <td>-0.777778</td>\n",
       "      <td>-0.162444</td>\n",
       "      <td>-0.923997</td>\n",
       "      <td>0.000000</td>\n",
       "    </tr>\n",
       "    <tr>\n",
       "      <th>4</th>\n",
       "      <td>4</td>\n",
       "      <td>0.000000</td>\n",
       "      <td>0.376884</td>\n",
       "      <td>-0.344262</td>\n",
       "      <td>-0.292929</td>\n",
       "      <td>-0.602837</td>\n",
       "      <td>0.284650</td>\n",
       "      <td>0.887276</td>\n",
       "      <td>-0.600000</td>\n",
       "    </tr>\n",
       "  </tbody>\n",
       "</table>\n",
       "</div>"
      ],
      "text/plain": [
       "   Unnamed: 0         0         1         2         3         4         5  \\\n",
       "0           0 -0.294118  0.487437  0.180328 -0.292929  0.000000  0.001490   \n",
       "1           1 -0.882353 -0.145729  0.081967 -0.414141  0.000000 -0.207153   \n",
       "2           2 -0.058824  0.839196  0.049180  0.000000  0.000000 -0.305514   \n",
       "3           3 -0.882353 -0.105528  0.081967 -0.535354 -0.777778 -0.162444   \n",
       "4           4  0.000000  0.376884 -0.344262 -0.292929 -0.602837  0.284650   \n",
       "\n",
       "          6         7  \n",
       "0 -0.531170 -0.033333  \n",
       "1 -0.766866 -0.666667  \n",
       "2 -0.492741 -0.633333  \n",
       "3 -0.923997  0.000000  \n",
       "4  0.887276 -0.600000  "
      ]
     },
     "execution_count": 9,
     "metadata": {},
     "output_type": "execute_result"
    }
   ],
   "source": [
    "train.head()"
   ]
  },
  {
   "cell_type": "code",
   "execution_count": 14,
   "metadata": {},
   "outputs": [],
   "source": [
    "train.drop(['Unnamed: 0'],axis=1,inplace=True)\n",
    "test.drop(['Unnamed: 0'],axis=1,inplace=True)"
   ]
  },
  {
   "cell_type": "code",
   "execution_count": 15,
   "metadata": {},
   "outputs": [
    {
     "data": {
      "text/html": [
       "<div>\n",
       "<style scoped>\n",
       "    .dataframe tbody tr th:only-of-type {\n",
       "        vertical-align: middle;\n",
       "    }\n",
       "\n",
       "    .dataframe tbody tr th {\n",
       "        vertical-align: top;\n",
       "    }\n",
       "\n",
       "    .dataframe thead th {\n",
       "        text-align: right;\n",
       "    }\n",
       "</style>\n",
       "<table border=\"1\" class=\"dataframe\">\n",
       "  <thead>\n",
       "    <tr style=\"text-align: right;\">\n",
       "      <th></th>\n",
       "      <th>0</th>\n",
       "      <th>1</th>\n",
       "      <th>2</th>\n",
       "      <th>3</th>\n",
       "      <th>4</th>\n",
       "      <th>5</th>\n",
       "      <th>6</th>\n",
       "      <th>7</th>\n",
       "    </tr>\n",
       "  </thead>\n",
       "  <tbody>\n",
       "    <tr>\n",
       "      <th>0</th>\n",
       "      <td>-0.882353</td>\n",
       "      <td>0.085427</td>\n",
       "      <td>-0.016393</td>\n",
       "      <td>-0.070707</td>\n",
       "      <td>-0.579196</td>\n",
       "      <td>0.058122</td>\n",
       "      <td>-0.712212</td>\n",
       "      <td>-0.900000</td>\n",
       "    </tr>\n",
       "    <tr>\n",
       "      <th>1</th>\n",
       "      <td>-0.411765</td>\n",
       "      <td>-0.025126</td>\n",
       "      <td>0.245902</td>\n",
       "      <td>-0.454545</td>\n",
       "      <td>0.000000</td>\n",
       "      <td>0.061103</td>\n",
       "      <td>-0.743809</td>\n",
       "      <td>0.033333</td>\n",
       "    </tr>\n",
       "    <tr>\n",
       "      <th>2</th>\n",
       "      <td>-0.529412</td>\n",
       "      <td>-0.165829</td>\n",
       "      <td>0.409836</td>\n",
       "      <td>-0.616162</td>\n",
       "      <td>0.000000</td>\n",
       "      <td>-0.126677</td>\n",
       "      <td>-0.795901</td>\n",
       "      <td>-0.566667</td>\n",
       "    </tr>\n",
       "    <tr>\n",
       "      <th>3</th>\n",
       "      <td>-0.882353</td>\n",
       "      <td>0.145729</td>\n",
       "      <td>0.081967</td>\n",
       "      <td>-0.272727</td>\n",
       "      <td>-0.527187</td>\n",
       "      <td>0.135618</td>\n",
       "      <td>-0.819812</td>\n",
       "      <td>0.000000</td>\n",
       "    </tr>\n",
       "    <tr>\n",
       "      <th>4</th>\n",
       "      <td>-0.882353</td>\n",
       "      <td>0.497487</td>\n",
       "      <td>0.114754</td>\n",
       "      <td>-0.414141</td>\n",
       "      <td>-0.699764</td>\n",
       "      <td>-0.126677</td>\n",
       "      <td>-0.768574</td>\n",
       "      <td>-0.300000</td>\n",
       "    </tr>\n",
       "  </tbody>\n",
       "</table>\n",
       "</div>"
      ],
      "text/plain": [
       "          0         1         2         3         4         5         6  \\\n",
       "0 -0.882353  0.085427 -0.016393 -0.070707 -0.579196  0.058122 -0.712212   \n",
       "1 -0.411765 -0.025126  0.245902 -0.454545  0.000000  0.061103 -0.743809   \n",
       "2 -0.529412 -0.165829  0.409836 -0.616162  0.000000 -0.126677 -0.795901   \n",
       "3 -0.882353  0.145729  0.081967 -0.272727 -0.527187  0.135618 -0.819812   \n",
       "4 -0.882353  0.497487  0.114754 -0.414141 -0.699764 -0.126677 -0.768574   \n",
       "\n",
       "          7  \n",
       "0 -0.900000  \n",
       "1  0.033333  \n",
       "2 -0.566667  \n",
       "3  0.000000  \n",
       "4 -0.300000  "
      ]
     },
     "execution_count": 15,
     "metadata": {},
     "output_type": "execute_result"
    }
   ],
   "source": [
    "test.head()"
   ]
  },
  {
   "cell_type": "code",
   "execution_count": 17,
   "metadata": {},
   "outputs": [
    {
     "data": {
      "text/html": [
       "<div>\n",
       "<style scoped>\n",
       "    .dataframe tbody tr th:only-of-type {\n",
       "        vertical-align: middle;\n",
       "    }\n",
       "\n",
       "    .dataframe tbody tr th {\n",
       "        vertical-align: top;\n",
       "    }\n",
       "\n",
       "    .dataframe thead th {\n",
       "        text-align: right;\n",
       "    }\n",
       "</style>\n",
       "<table border=\"1\" class=\"dataframe\">\n",
       "  <thead>\n",
       "    <tr style=\"text-align: right;\">\n",
       "      <th></th>\n",
       "      <th>0</th>\n",
       "      <th>1</th>\n",
       "      <th>2</th>\n",
       "      <th>3</th>\n",
       "      <th>4</th>\n",
       "      <th>5</th>\n",
       "      <th>6</th>\n",
       "      <th>7</th>\n",
       "    </tr>\n",
       "  </thead>\n",
       "  <tbody>\n",
       "    <tr>\n",
       "      <th>0</th>\n",
       "      <td>-0.294118</td>\n",
       "      <td>0.487437</td>\n",
       "      <td>0.180328</td>\n",
       "      <td>-0.292929</td>\n",
       "      <td>0.000000</td>\n",
       "      <td>0.001490</td>\n",
       "      <td>-0.531170</td>\n",
       "      <td>-0.033333</td>\n",
       "    </tr>\n",
       "    <tr>\n",
       "      <th>1</th>\n",
       "      <td>-0.882353</td>\n",
       "      <td>-0.145729</td>\n",
       "      <td>0.081967</td>\n",
       "      <td>-0.414141</td>\n",
       "      <td>0.000000</td>\n",
       "      <td>-0.207153</td>\n",
       "      <td>-0.766866</td>\n",
       "      <td>-0.666667</td>\n",
       "    </tr>\n",
       "    <tr>\n",
       "      <th>2</th>\n",
       "      <td>-0.058824</td>\n",
       "      <td>0.839196</td>\n",
       "      <td>0.049180</td>\n",
       "      <td>0.000000</td>\n",
       "      <td>0.000000</td>\n",
       "      <td>-0.305514</td>\n",
       "      <td>-0.492741</td>\n",
       "      <td>-0.633333</td>\n",
       "    </tr>\n",
       "    <tr>\n",
       "      <th>3</th>\n",
       "      <td>-0.882353</td>\n",
       "      <td>-0.105528</td>\n",
       "      <td>0.081967</td>\n",
       "      <td>-0.535354</td>\n",
       "      <td>-0.777778</td>\n",
       "      <td>-0.162444</td>\n",
       "      <td>-0.923997</td>\n",
       "      <td>0.000000</td>\n",
       "    </tr>\n",
       "    <tr>\n",
       "      <th>4</th>\n",
       "      <td>0.000000</td>\n",
       "      <td>0.376884</td>\n",
       "      <td>-0.344262</td>\n",
       "      <td>-0.292929</td>\n",
       "      <td>-0.602837</td>\n",
       "      <td>0.284650</td>\n",
       "      <td>0.887276</td>\n",
       "      <td>-0.600000</td>\n",
       "    </tr>\n",
       "  </tbody>\n",
       "</table>\n",
       "</div>"
      ],
      "text/plain": [
       "          0         1         2         3         4         5         6  \\\n",
       "0 -0.294118  0.487437  0.180328 -0.292929  0.000000  0.001490 -0.531170   \n",
       "1 -0.882353 -0.145729  0.081967 -0.414141  0.000000 -0.207153 -0.766866   \n",
       "2 -0.058824  0.839196  0.049180  0.000000  0.000000 -0.305514 -0.492741   \n",
       "3 -0.882353 -0.105528  0.081967 -0.535354 -0.777778 -0.162444 -0.923997   \n",
       "4  0.000000  0.376884 -0.344262 -0.292929 -0.602837  0.284650  0.887276   \n",
       "\n",
       "          7  \n",
       "0 -0.033333  \n",
       "1 -0.666667  \n",
       "2 -0.633333  \n",
       "3  0.000000  \n",
       "4 -0.600000  "
      ]
     },
     "execution_count": 17,
     "metadata": {},
     "output_type": "execute_result"
    }
   ],
   "source": [
    "train.head()"
   ]
  },
  {
   "cell_type": "code",
   "execution_count": 23,
   "metadata": {},
   "outputs": [],
   "source": [
    "from sklearn import metrics\n",
    "from sklearn.model_selection import train_test_split, cross_val_score, cross_validate"
   ]
  },
  {
   "cell_type": "code",
   "execution_count": 19,
   "metadata": {},
   "outputs": [],
   "source": [
    "X_train, X_test, y_train,y_test = train_test_split(train, y, test_size=0.2, random_state=1123)"
   ]
  },
  {
   "cell_type": "code",
   "execution_count": 20,
   "metadata": {
    "scrolled": true
   },
   "outputs": [
    {
     "name": "stdout",
     "output_type": "stream",
     "text": [
      "(567, 8)\n",
      "(142, 8)\n",
      "(567,)\n",
      "(142,)\n"
     ]
    }
   ],
   "source": [
    "print(X_train.shape)\n",
    "print(X_test.shape)\n",
    "print(y_train.shape)\n",
    "print(y_test.shape)"
   ]
  },
  {
   "cell_type": "code",
   "execution_count": 24,
   "metadata": {},
   "outputs": [],
   "source": [
    "import xgboost as xgb\n",
    "from xgboost import XGBClassifier"
   ]
  },
  {
   "cell_type": "code",
   "execution_count": 25,
   "metadata": {},
   "outputs": [],
   "source": [
    "xgb_clf = XGBClassifier(n_estimators=100, random_state=1123, learning_rate=0.02,max_depth=5)"
   ]
  },
  {
   "cell_type": "code",
   "execution_count": 29,
   "metadata": {},
   "outputs": [],
   "source": [
    "scores = cross_val_score(xgb_clf, train, y, scoring='accuracy', cv=5)"
   ]
  },
  {
   "cell_type": "code",
   "execution_count": 35,
   "metadata": {},
   "outputs": [
    {
     "name": "stdout",
     "output_type": "stream",
     "text": [
      "0.7616721606233143\n"
     ]
    }
   ],
   "source": [
    "print(scores.mean())"
   ]
  },
  {
   "cell_type": "code",
   "execution_count": 34,
   "metadata": {},
   "outputs": [
    {
     "name": "stdout",
     "output_type": "stream",
     "text": [
      "0.7616721606233143\n"
     ]
    }
   ],
   "source": [
    "print(scores.mean())"
   ]
  },
  {
   "cell_type": "code",
   "execution_count": 32,
   "metadata": {},
   "outputs": [
    {
     "name": "stdout",
     "output_type": "stream",
     "text": [
      "[0]\tvalidation_0-error:0.17108\tvalidation_1-error:0.26056\n",
      "[1]\tvalidation_0-error:0.16931\tvalidation_1-error:0.26056\n",
      "[2]\tvalidation_0-error:0.16049\tvalidation_1-error:0.25352\n",
      "[3]\tvalidation_0-error:0.16755\tvalidation_1-error:0.26056\n",
      "[4]\tvalidation_0-error:0.15168\tvalidation_1-error:0.25352\n",
      "[5]\tvalidation_0-error:0.15520\tvalidation_1-error:0.26056\n",
      "[6]\tvalidation_0-error:0.15168\tvalidation_1-error:0.26056\n",
      "[7]\tvalidation_0-error:0.15168\tvalidation_1-error:0.25352\n",
      "[8]\tvalidation_0-error:0.15168\tvalidation_1-error:0.26056\n",
      "[9]\tvalidation_0-error:0.14638\tvalidation_1-error:0.26056\n",
      "[10]\tvalidation_0-error:0.14815\tvalidation_1-error:0.26056\n",
      "[11]\tvalidation_0-error:0.14815\tvalidation_1-error:0.26056\n",
      "[12]\tvalidation_0-error:0.14638\tvalidation_1-error:0.26056\n",
      "[13]\tvalidation_0-error:0.14638\tvalidation_1-error:0.26056\n",
      "[14]\tvalidation_0-error:0.14991\tvalidation_1-error:0.26056\n",
      "[15]\tvalidation_0-error:0.14815\tvalidation_1-error:0.26056\n",
      "[16]\tvalidation_0-error:0.14462\tvalidation_1-error:0.26056\n",
      "[17]\tvalidation_0-error:0.14815\tvalidation_1-error:0.25352\n",
      "[18]\tvalidation_0-error:0.14462\tvalidation_1-error:0.25352\n",
      "[19]\tvalidation_0-error:0.14462\tvalidation_1-error:0.24648\n",
      "[20]\tvalidation_0-error:0.14462\tvalidation_1-error:0.24648\n",
      "[21]\tvalidation_0-error:0.14462\tvalidation_1-error:0.23944\n",
      "[22]\tvalidation_0-error:0.14462\tvalidation_1-error:0.23944\n",
      "[23]\tvalidation_0-error:0.14462\tvalidation_1-error:0.24648\n",
      "[24]\tvalidation_0-error:0.14286\tvalidation_1-error:0.22535\n",
      "[25]\tvalidation_0-error:0.14109\tvalidation_1-error:0.22535\n",
      "[26]\tvalidation_0-error:0.13228\tvalidation_1-error:0.22535\n",
      "[27]\tvalidation_0-error:0.13404\tvalidation_1-error:0.22535\n",
      "[28]\tvalidation_0-error:0.13404\tvalidation_1-error:0.23239\n",
      "[29]\tvalidation_0-error:0.13404\tvalidation_1-error:0.23239\n",
      "[30]\tvalidation_0-error:0.13228\tvalidation_1-error:0.23944\n",
      "[31]\tvalidation_0-error:0.13404\tvalidation_1-error:0.23944\n",
      "[32]\tvalidation_0-error:0.13580\tvalidation_1-error:0.23239\n",
      "[33]\tvalidation_0-error:0.13404\tvalidation_1-error:0.23944\n",
      "[34]\tvalidation_0-error:0.13404\tvalidation_1-error:0.23944\n",
      "[35]\tvalidation_0-error:0.13228\tvalidation_1-error:0.23239\n",
      "[36]\tvalidation_0-error:0.13228\tvalidation_1-error:0.23239\n",
      "[37]\tvalidation_0-error:0.13051\tvalidation_1-error:0.23239\n",
      "[38]\tvalidation_0-error:0.12875\tvalidation_1-error:0.23944\n",
      "[39]\tvalidation_0-error:0.12698\tvalidation_1-error:0.24648\n",
      "[40]\tvalidation_0-error:0.12875\tvalidation_1-error:0.24648\n",
      "[41]\tvalidation_0-error:0.12875\tvalidation_1-error:0.24648\n",
      "[42]\tvalidation_0-error:0.13051\tvalidation_1-error:0.23944\n",
      "[43]\tvalidation_0-error:0.13051\tvalidation_1-error:0.23944\n",
      "[44]\tvalidation_0-error:0.12698\tvalidation_1-error:0.23944\n",
      "[45]\tvalidation_0-error:0.12875\tvalidation_1-error:0.23944\n",
      "[46]\tvalidation_0-error:0.12698\tvalidation_1-error:0.23944\n",
      "[47]\tvalidation_0-error:0.13051\tvalidation_1-error:0.23944\n",
      "[48]\tvalidation_0-error:0.12875\tvalidation_1-error:0.23944\n",
      "[49]\tvalidation_0-error:0.12698\tvalidation_1-error:0.23944\n",
      "[50]\tvalidation_0-error:0.12698\tvalidation_1-error:0.23944\n",
      "[51]\tvalidation_0-error:0.12698\tvalidation_1-error:0.23944\n",
      "[52]\tvalidation_0-error:0.12875\tvalidation_1-error:0.23944\n",
      "[53]\tvalidation_0-error:0.12522\tvalidation_1-error:0.23944\n",
      "[54]\tvalidation_0-error:0.12522\tvalidation_1-error:0.23944\n",
      "[55]\tvalidation_0-error:0.12698\tvalidation_1-error:0.23944\n",
      "[56]\tvalidation_0-error:0.12698\tvalidation_1-error:0.23944\n",
      "[57]\tvalidation_0-error:0.12698\tvalidation_1-error:0.23944\n",
      "[58]\tvalidation_0-error:0.12698\tvalidation_1-error:0.23944\n",
      "[59]\tvalidation_0-error:0.12522\tvalidation_1-error:0.23944\n",
      "[60]\tvalidation_0-error:0.12346\tvalidation_1-error:0.24648\n",
      "[61]\tvalidation_0-error:0.12346\tvalidation_1-error:0.24648\n",
      "[62]\tvalidation_0-error:0.12346\tvalidation_1-error:0.24648\n",
      "[63]\tvalidation_0-error:0.12522\tvalidation_1-error:0.25352\n",
      "[64]\tvalidation_0-error:0.12522\tvalidation_1-error:0.25352\n",
      "[65]\tvalidation_0-error:0.12522\tvalidation_1-error:0.25352\n",
      "[66]\tvalidation_0-error:0.12346\tvalidation_1-error:0.25352\n",
      "[67]\tvalidation_0-error:0.12346\tvalidation_1-error:0.25352\n",
      "[68]\tvalidation_0-error:0.12522\tvalidation_1-error:0.25352\n",
      "[69]\tvalidation_0-error:0.12522\tvalidation_1-error:0.25352\n",
      "[70]\tvalidation_0-error:0.12346\tvalidation_1-error:0.25352\n",
      "[71]\tvalidation_0-error:0.12346\tvalidation_1-error:0.25352\n",
      "[72]\tvalidation_0-error:0.12522\tvalidation_1-error:0.25352\n",
      "[73]\tvalidation_0-error:0.12346\tvalidation_1-error:0.25352\n",
      "[74]\tvalidation_0-error:0.11993\tvalidation_1-error:0.25352\n",
      "[75]\tvalidation_0-error:0.11817\tvalidation_1-error:0.25352\n",
      "[76]\tvalidation_0-error:0.11817\tvalidation_1-error:0.26056\n",
      "[77]\tvalidation_0-error:0.11993\tvalidation_1-error:0.26056\n",
      "[78]\tvalidation_0-error:0.12169\tvalidation_1-error:0.26056\n",
      "[79]\tvalidation_0-error:0.11993\tvalidation_1-error:0.26056\n",
      "[80]\tvalidation_0-error:0.11993\tvalidation_1-error:0.26056\n",
      "[81]\tvalidation_0-error:0.11993\tvalidation_1-error:0.26056\n",
      "[82]\tvalidation_0-error:0.11817\tvalidation_1-error:0.26056\n",
      "[83]\tvalidation_0-error:0.11993\tvalidation_1-error:0.26056\n",
      "[84]\tvalidation_0-error:0.11993\tvalidation_1-error:0.26056\n",
      "[85]\tvalidation_0-error:0.11817\tvalidation_1-error:0.26056\n",
      "[86]\tvalidation_0-error:0.11817\tvalidation_1-error:0.26056\n",
      "[87]\tvalidation_0-error:0.11817\tvalidation_1-error:0.26056\n",
      "[88]\tvalidation_0-error:0.11464\tvalidation_1-error:0.26056\n",
      "[89]\tvalidation_0-error:0.11464\tvalidation_1-error:0.26056\n",
      "[90]\tvalidation_0-error:0.11464\tvalidation_1-error:0.26056\n",
      "[91]\tvalidation_0-error:0.11464\tvalidation_1-error:0.26056\n",
      "[92]\tvalidation_0-error:0.11464\tvalidation_1-error:0.26056\n",
      "[93]\tvalidation_0-error:0.11288\tvalidation_1-error:0.26056\n",
      "[94]\tvalidation_0-error:0.11288\tvalidation_1-error:0.25352\n",
      "[95]\tvalidation_0-error:0.11464\tvalidation_1-error:0.25352\n",
      "[96]\tvalidation_0-error:0.11288\tvalidation_1-error:0.25352\n",
      "[97]\tvalidation_0-error:0.11464\tvalidation_1-error:0.24648\n",
      "[98]\tvalidation_0-error:0.11464\tvalidation_1-error:0.24648\n",
      "[99]\tvalidation_0-error:0.11464\tvalidation_1-error:0.24648\n"
     ]
    },
    {
     "data": {
      "text/plain": [
       "XGBClassifier(base_score=0.5, booster='gbtree', colsample_bylevel=1,\n",
       "              colsample_bynode=1, colsample_bytree=1, gamma=0, gpu_id=-1,\n",
       "              importance_type='gain', interaction_constraints='',\n",
       "              learning_rate=0.02, max_delta_step=0, max_depth=5,\n",
       "              min_child_weight=1, missing=nan, monotone_constraints='()',\n",
       "              n_estimators=100, n_jobs=0, num_parallel_tree=1,\n",
       "              objective='binary:logistic', random_state=1123, reg_alpha=0,\n",
       "              reg_lambda=1, scale_pos_weight=1, subsample=1,\n",
       "              tree_method='exact', validate_parameters=1, verbosity=None)"
      ]
     },
     "execution_count": 32,
     "metadata": {},
     "output_type": "execute_result"
    }
   ],
   "source": [
    "xgb_clf.fit(X_train,y_train,eval_metric='error',eval_set=[(X_train,y_train),(X_test,y_test)])"
   ]
  },
  {
   "cell_type": "code",
   "execution_count": 45,
   "metadata": {},
   "outputs": [],
   "source": [
    "pred = xgb_clf.predict(test)\n",
    "pred = pred.astype('int')"
   ]
  },
  {
   "cell_type": "code",
   "execution_count": 46,
   "metadata": {},
   "outputs": [],
   "source": [
    "sub3 = pd.DataFrame({'ID':range(0,50), 'Label':pred})"
   ]
  },
  {
   "cell_type": "code",
   "execution_count": 47,
   "metadata": {},
   "outputs": [
    {
     "data": {
      "text/plain": [
       "50"
      ]
     },
     "execution_count": 47,
     "metadata": {},
     "output_type": "execute_result"
    }
   ],
   "source": [
    "sam = pd.read_csv('C:/kaggle/ai_challenge/pretest/당뇨병(분류)/data/submit_sample.csv')\n",
    "len(sam)"
   ]
  },
  {
   "cell_type": "code",
   "execution_count": 49,
   "metadata": {},
   "outputs": [
    {
     "data": {
      "text/html": [
       "<div>\n",
       "<style scoped>\n",
       "    .dataframe tbody tr th:only-of-type {\n",
       "        vertical-align: middle;\n",
       "    }\n",
       "\n",
       "    .dataframe tbody tr th {\n",
       "        vertical-align: top;\n",
       "    }\n",
       "\n",
       "    .dataframe thead th {\n",
       "        text-align: right;\n",
       "    }\n",
       "</style>\n",
       "<table border=\"1\" class=\"dataframe\">\n",
       "  <thead>\n",
       "    <tr style=\"text-align: right;\">\n",
       "      <th></th>\n",
       "      <th>ID</th>\n",
       "      <th>Label</th>\n",
       "    </tr>\n",
       "  </thead>\n",
       "  <tbody>\n",
       "    <tr>\n",
       "      <th>0</th>\n",
       "      <td>0</td>\n",
       "      <td>NaN</td>\n",
       "    </tr>\n",
       "    <tr>\n",
       "      <th>1</th>\n",
       "      <td>1</td>\n",
       "      <td>NaN</td>\n",
       "    </tr>\n",
       "    <tr>\n",
       "      <th>2</th>\n",
       "      <td>2</td>\n",
       "      <td>NaN</td>\n",
       "    </tr>\n",
       "    <tr>\n",
       "      <th>3</th>\n",
       "      <td>3</td>\n",
       "      <td>NaN</td>\n",
       "    </tr>\n",
       "    <tr>\n",
       "      <th>4</th>\n",
       "      <td>4</td>\n",
       "      <td>NaN</td>\n",
       "    </tr>\n",
       "  </tbody>\n",
       "</table>\n",
       "</div>"
      ],
      "text/plain": [
       "   ID  Label\n",
       "0   0    NaN\n",
       "1   1    NaN\n",
       "2   2    NaN\n",
       "3   3    NaN\n",
       "4   4    NaN"
      ]
     },
     "execution_count": 49,
     "metadata": {},
     "output_type": "execute_result"
    }
   ],
   "source": [
    "sam.head()"
   ]
  },
  {
   "cell_type": "code",
   "execution_count": 50,
   "metadata": {},
   "outputs": [
    {
     "data": {
      "text/html": [
       "<div>\n",
       "<style scoped>\n",
       "    .dataframe tbody tr th:only-of-type {\n",
       "        vertical-align: middle;\n",
       "    }\n",
       "\n",
       "    .dataframe tbody tr th {\n",
       "        vertical-align: top;\n",
       "    }\n",
       "\n",
       "    .dataframe thead th {\n",
       "        text-align: right;\n",
       "    }\n",
       "</style>\n",
       "<table border=\"1\" class=\"dataframe\">\n",
       "  <thead>\n",
       "    <tr style=\"text-align: right;\">\n",
       "      <th></th>\n",
       "      <th>ID</th>\n",
       "      <th>Label</th>\n",
       "    </tr>\n",
       "  </thead>\n",
       "  <tbody>\n",
       "    <tr>\n",
       "      <th>0</th>\n",
       "      <td>0</td>\n",
       "      <td>1</td>\n",
       "    </tr>\n",
       "    <tr>\n",
       "      <th>1</th>\n",
       "      <td>1</td>\n",
       "      <td>1</td>\n",
       "    </tr>\n",
       "    <tr>\n",
       "      <th>2</th>\n",
       "      <td>2</td>\n",
       "      <td>1</td>\n",
       "    </tr>\n",
       "    <tr>\n",
       "      <th>3</th>\n",
       "      <td>3</td>\n",
       "      <td>1</td>\n",
       "    </tr>\n",
       "    <tr>\n",
       "      <th>4</th>\n",
       "      <td>4</td>\n",
       "      <td>1</td>\n",
       "    </tr>\n",
       "  </tbody>\n",
       "</table>\n",
       "</div>"
      ],
      "text/plain": [
       "   ID  Label\n",
       "0   0      1\n",
       "1   1      1\n",
       "2   2      1\n",
       "3   3      1\n",
       "4   4      1"
      ]
     },
     "execution_count": 50,
     "metadata": {},
     "output_type": "execute_result"
    }
   ],
   "source": [
    "sub3.head()"
   ]
  },
  {
   "cell_type": "code",
   "execution_count": 51,
   "metadata": {},
   "outputs": [],
   "source": [
    "sub3.to_csv('sub3.csv',index=False)"
   ]
  },
  {
   "cell_type": "code",
   "execution_count": null,
   "metadata": {},
   "outputs": [],
   "source": [
    "pred1 = xgb_clf.predict(X_test)\n",
    "print(metrics.accuracy_score(y_test, pred1))"
   ]
  },
  {
   "cell_type": "code",
   "execution_count": null,
   "metadata": {},
   "outputs": [],
   "source": [
    "predicted = xgb_clf.predict(test)\n",
    "submit_csv= pd.read_csv('/kaggle/input/sejongai-challenge-pretest-1/submit_sample.csv')\n",
    "submit_csv['Label'] = predicted\n",
    "submit_csv['Label'] = submit_csv['Label'].astype(\"int\")\n",
    "submit_csv.to_csv(\"/kaggle/working/submit.csv\", index=False)"
   ]
  },
  {
   "cell_type": "code",
   "execution_count": null,
   "metadata": {},
   "outputs": [],
   "source": [
    "predicted = predicted.astype('int')"
   ]
  },
  {
   "cell_type": "code",
   "execution_count": null,
   "metadata": {},
   "outputs": [],
   "source": [
    "#Create a  DataFrame with the passengers ids and our prediction regarding whether they survived or not\n",
    "submission = pd.DataFrame({'ID':submit_csv['ID'],'Label':predicted})\n",
    "\n",
    "#Visualize the first 5 rows\n",
    "submission.head()"
   ]
  },
  {
   "cell_type": "code",
   "execution_count": null,
   "metadata": {},
   "outputs": [],
   "source": [
    "#Convert DataFrame to a csv file that can be uploaded\n",
    "#This is saved in the same directory as your notebook\n",
    "filename = 'test 1.csv'\n",
    "\n",
    "submission.to_csv(filename,index=False)\n",
    "\n",
    "print('Saved file: ' + filename)"
   ]
  }
 ],
 "metadata": {
  "kernelspec": {
   "display_name": "Python 3",
   "language": "python",
   "name": "python3"
  },
  "language_info": {
   "codemirror_mode": {
    "name": "ipython",
    "version": 3
   },
   "file_extension": ".py",
   "mimetype": "text/x-python",
   "name": "python",
   "nbconvert_exporter": "python",
   "pygments_lexer": "ipython3",
   "version": "3.7.6"
  }
 },
 "nbformat": 4,
 "nbformat_minor": 4
}
