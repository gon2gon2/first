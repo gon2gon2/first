{
 "cells": [
  {
   "cell_type": "markdown",
   "id": "infectious-exclusive",
   "metadata": {
    "papermill": {
     "duration": 0.06025,
     "end_time": "2021-04-05T14:58:58.973588",
     "exception": false,
     "start_time": "2021-04-05T14:58:58.913338",
     "status": "completed"
    },
    "tags": []
   },
   "source": [
    "<a href=\"https://www.kaggle.com/arthurtok/interactive-porto-insights-a-plot-ly-tutorial\">본문</a>\n",
    "\n",
    "\n",
    "<a href=\"https://www.kaggle.com/sihwanyoon/interactive-porto-insight\">번역</a>"
   ]
  },
  {
   "cell_type": "code",
   "execution_count": 2,
   "id": "macro-product",
   "metadata": {},
   "outputs": [
    {
     "data": {
      "text/plain": [
       "'c:\\\\github\\\\kaggle\\\\Porto'"
      ]
     },
     "execution_count": 2,
     "metadata": {},
     "output_type": "execute_result"
    }
   ],
   "source": [
    "os.getcwd()"
   ]
  },
  {
   "cell_type": "code",
   "execution_count": 1,
   "id": "level-break",
   "metadata": {
    "_cell_guid": "b1076dfc-b9ad-4769-8c92-a6c4dae69d19",
    "_uuid": "8f2839f25d086af736a60e9eeb907d3b93b6e0e5",
    "execution": {
     "iopub.execute_input": "2021-04-05T14:58:59.095130Z",
     "iopub.status.busy": "2021-04-05T14:58:59.093987Z",
     "iopub.status.idle": "2021-04-05T14:58:59.101858Z",
     "shell.execute_reply": "2021-04-05T14:58:59.102695Z"
    },
    "papermill": {
     "duration": 0.070948,
     "end_time": "2021-04-05T14:58:59.103049",
     "exception": false,
     "start_time": "2021-04-05T14:58:59.032101",
     "status": "completed"
    },
    "tags": []
   },
   "outputs": [],
   "source": [
    "# This Python 3 environment comes with many helpful analytics libraries installed\n",
    "# It is defined by the kaggle/python Docker image: https://github.com/kaggle/docker-python\n",
    "# For example, here's several helpful packages to load\n",
    "\n",
    "import numpy as np # linear algebra\n",
    "import pandas as pd # data processing, CSV file I/O (e.g. pd.read_csv)\n",
    "\n",
    "# Input data files are available in the read-only \"../input/\" directory\n",
    "# For example, running this (by clicking run or pressing Shift+Enter) will list all files under the input directory\n",
    "\n",
    "import os\n",
    "for dirname, _, filenames in os.walk('c:\\\\github\\\\kaggle\\\\Porto\\\\data'):\n",
    "    for filename in filenames:\n",
    "        print(os.path.join(dirname, filename))\n",
    "\n",
    "# You can write up to 20GB to the current directory (/kaggle/working/) that gets preserved as output when you create a version using \"Save & Run All\" \n",
    "# You can also write temporary files to /kaggle/temp/, but they won't be saved outside of the current session"
   ]
  },
  {
   "cell_type": "markdown",
   "id": "advanced-angola",
   "metadata": {
    "papermill": {
     "duration": 0.058279,
     "end_time": "2021-04-05T14:58:59.222173",
     "exception": false,
     "start_time": "2021-04-05T14:58:59.163894",
     "status": "completed"
    },
    "tags": []
   },
   "source": [
    "# Introduction\n",
    "This competition is hosted by the third largest company in Brazil: Porto Seguro with the task of predicting the <i>probability that a driver will initiate an insurance claim in the next year.</i>\n",
    "\n",
    "This notebook will aim to provide some interactive charts and analysis of the competition data by way of the Python visualization library Plot.ly and hopefully bring some insights and beautiful plots that others can take and replicate. Plot.ly is one of the main products offered by the software company - Plotly which specializes in providing online graphical and statistical visualizations (charts and dashboards) as well as providing an API to a whole rich suite of programming languages and tools such as Python, R, Matlab, Node.js etc.\n",
    "\n",
    "Listed below for easy convenience are links to the various Plotly plots in this notebook:\n",
    "- Simple horizontal bar plot - Used to inspect the Target variable distribution\n",
    "- Correlation Heatmap plot - Inspect the correlation beween the different features\n",
    "- Scatter plot - List in Descending order, the importance of the various faetures\n",
    "- 3D scatter plot\n",
    "\n",
    "The themes in this notebook can be briefly summarized follows:\n",
    "1. **Data Quality Checks** - Visualizing and evaluating  all missing/Null values\n",
    "2. **Feature inspection and filtering** - Correlation and feature Mutual information plots against the target variable. Inspection of the Binary, categorical and other variables.\n",
    "3. **Feature importance ranking via learning models** - Building a Random Forest and Gradient Boosted model to help us rank features based off the learning process.\n",
    "\n",
    "Let's go\n"
   ]
  },
  {
   "cell_type": "code",
   "execution_count": 2,
   "id": "fundamental-realtor",
   "metadata": {
    "execution": {
     "iopub.execute_input": "2021-04-05T14:58:59.348374Z",
     "iopub.status.busy": "2021-04-05T14:58:59.347733Z",
     "iopub.status.idle": "2021-04-05T14:59:00.867583Z",
     "shell.execute_reply": "2021-04-05T14:59:00.866565Z"
    },
    "papermill": {
     "duration": 1.587157,
     "end_time": "2021-04-05T14:59:00.867746",
     "exception": false,
     "start_time": "2021-04-05T14:58:59.280589",
     "status": "completed"
    },
    "tags": []
   },
   "outputs": [
    {
     "data": {
      "text/html": [
       "        <script type=\"text/javascript\">\n",
       "        window.PlotlyConfig = {MathJaxConfig: 'local'};\n",
       "        if (window.MathJax) {MathJax.Hub.Config({SVG: {font: \"STIX-Web\"}});}\n",
       "        if (typeof require !== 'undefined') {\n",
       "        require.undef(\"plotly\");\n",
       "        requirejs.config({\n",
       "            paths: {\n",
       "                'plotly': ['https://cdn.plot.ly/plotly-latest.min']\n",
       "            }\n",
       "        });\n",
       "        require(['plotly'], function(Plotly) {\n",
       "            window._Plotly = Plotly;\n",
       "        });\n",
       "        }\n",
       "        </script>\n",
       "        "
      ]
     },
     "metadata": {},
     "output_type": "display_data"
    }
   ],
   "source": [
    "# Let us load in the relevant Python modules\n",
    "import pandas as pd\n",
    "import numpy as np\n",
    "import seaborn as sns\n",
    "import matplotlib.pyplot as plt\n",
    "%matplotlib inline\n",
    "import plotly.offline as py\n",
    "py.init_notebook_mode(connected=True)\n",
    "import plotly.graph_objs as go\n",
    "import plotly.tools as tls\n",
    "import warnings\n",
    "from collections import Counter\n",
    "from sklearn.feature_selection import mutual_info_classif\n",
    "warnings.filterwarnings('ignore')"
   ]
  },
  {
   "cell_type": "code",
   "execution_count": 3,
   "id": "partial-modeling",
   "metadata": {
    "execution": {
     "iopub.execute_input": "2021-04-05T14:59:00.990941Z",
     "iopub.status.busy": "2021-04-05T14:59:00.990071Z",
     "iopub.status.idle": "2021-04-05T14:59:00.993384Z",
     "shell.execute_reply": "2021-04-05T14:59:00.992649Z"
    },
    "papermill": {
     "duration": 0.067,
     "end_time": "2021-04-05T14:59:00.993554",
     "exception": false,
     "start_time": "2021-04-05T14:59:00.926554",
     "status": "completed"
    },
    "tags": []
   },
   "outputs": [],
   "source": [
    "import os\n",
    "os.chdir('../input/porto-seguro-safe-driver-prediction/')"
   ]
  },
  {
   "cell_type": "code",
   "execution_count": 4,
   "id": "noticed-rotation",
   "metadata": {
    "execution": {
     "iopub.execute_input": "2021-04-05T14:59:01.118808Z",
     "iopub.status.busy": "2021-04-05T14:59:01.118152Z",
     "iopub.status.idle": "2021-04-05T14:59:01.125149Z",
     "shell.execute_reply": "2021-04-05T14:59:01.125745Z"
    },
    "papermill": {
     "duration": 0.071355,
     "end_time": "2021-04-05T14:59:01.125908",
     "exception": false,
     "start_time": "2021-04-05T14:59:01.054553",
     "status": "completed"
    },
    "tags": []
   },
   "outputs": [
    {
     "data": {
      "text/plain": [
       "['sample_submission.csv', 'train.csv', 'test.csv']"
      ]
     },
     "execution_count": 4,
     "metadata": {},
     "output_type": "execute_result"
    }
   ],
   "source": [
    "os.listdir()"
   ]
  },
  {
   "cell_type": "code",
   "execution_count": 5,
   "id": "hazardous-schema",
   "metadata": {
    "execution": {
     "iopub.execute_input": "2021-04-05T14:59:01.248327Z",
     "iopub.status.busy": "2021-04-05T14:59:01.247378Z",
     "iopub.status.idle": "2021-04-05T14:59:05.383759Z",
     "shell.execute_reply": "2021-04-05T14:59:05.383048Z"
    },
    "papermill": {
     "duration": 4.198801,
     "end_time": "2021-04-05T14:59:05.383906",
     "exception": false,
     "start_time": "2021-04-05T14:59:01.185105",
     "status": "completed"
    },
    "tags": []
   },
   "outputs": [
    {
     "data": {
      "text/html": [
       "<div>\n",
       "<style scoped>\n",
       "    .dataframe tbody tr th:only-of-type {\n",
       "        vertical-align: middle;\n",
       "    }\n",
       "\n",
       "    .dataframe tbody tr th {\n",
       "        vertical-align: top;\n",
       "    }\n",
       "\n",
       "    .dataframe thead th {\n",
       "        text-align: right;\n",
       "    }\n",
       "</style>\n",
       "<table border=\"1\" class=\"dataframe\">\n",
       "  <thead>\n",
       "    <tr style=\"text-align: right;\">\n",
       "      <th></th>\n",
       "      <th>id</th>\n",
       "      <th>target</th>\n",
       "      <th>ps_ind_01</th>\n",
       "      <th>ps_ind_02_cat</th>\n",
       "      <th>ps_ind_03</th>\n",
       "      <th>ps_ind_04_cat</th>\n",
       "      <th>ps_ind_05_cat</th>\n",
       "      <th>ps_ind_06_bin</th>\n",
       "      <th>ps_ind_07_bin</th>\n",
       "      <th>ps_ind_08_bin</th>\n",
       "      <th>...</th>\n",
       "      <th>ps_calc_11</th>\n",
       "      <th>ps_calc_12</th>\n",
       "      <th>ps_calc_13</th>\n",
       "      <th>ps_calc_14</th>\n",
       "      <th>ps_calc_15_bin</th>\n",
       "      <th>ps_calc_16_bin</th>\n",
       "      <th>ps_calc_17_bin</th>\n",
       "      <th>ps_calc_18_bin</th>\n",
       "      <th>ps_calc_19_bin</th>\n",
       "      <th>ps_calc_20_bin</th>\n",
       "    </tr>\n",
       "  </thead>\n",
       "  <tbody>\n",
       "    <tr>\n",
       "      <th>0</th>\n",
       "      <td>7</td>\n",
       "      <td>0</td>\n",
       "      <td>2</td>\n",
       "      <td>2</td>\n",
       "      <td>5</td>\n",
       "      <td>1</td>\n",
       "      <td>0</td>\n",
       "      <td>0</td>\n",
       "      <td>1</td>\n",
       "      <td>0</td>\n",
       "      <td>...</td>\n",
       "      <td>9</td>\n",
       "      <td>1</td>\n",
       "      <td>5</td>\n",
       "      <td>8</td>\n",
       "      <td>0</td>\n",
       "      <td>1</td>\n",
       "      <td>1</td>\n",
       "      <td>0</td>\n",
       "      <td>0</td>\n",
       "      <td>1</td>\n",
       "    </tr>\n",
       "    <tr>\n",
       "      <th>1</th>\n",
       "      <td>9</td>\n",
       "      <td>0</td>\n",
       "      <td>1</td>\n",
       "      <td>1</td>\n",
       "      <td>7</td>\n",
       "      <td>0</td>\n",
       "      <td>0</td>\n",
       "      <td>0</td>\n",
       "      <td>0</td>\n",
       "      <td>1</td>\n",
       "      <td>...</td>\n",
       "      <td>3</td>\n",
       "      <td>1</td>\n",
       "      <td>1</td>\n",
       "      <td>9</td>\n",
       "      <td>0</td>\n",
       "      <td>1</td>\n",
       "      <td>1</td>\n",
       "      <td>0</td>\n",
       "      <td>1</td>\n",
       "      <td>0</td>\n",
       "    </tr>\n",
       "    <tr>\n",
       "      <th>2</th>\n",
       "      <td>13</td>\n",
       "      <td>0</td>\n",
       "      <td>5</td>\n",
       "      <td>4</td>\n",
       "      <td>9</td>\n",
       "      <td>1</td>\n",
       "      <td>0</td>\n",
       "      <td>0</td>\n",
       "      <td>0</td>\n",
       "      <td>1</td>\n",
       "      <td>...</td>\n",
       "      <td>4</td>\n",
       "      <td>2</td>\n",
       "      <td>7</td>\n",
       "      <td>7</td>\n",
       "      <td>0</td>\n",
       "      <td>1</td>\n",
       "      <td>1</td>\n",
       "      <td>0</td>\n",
       "      <td>1</td>\n",
       "      <td>0</td>\n",
       "    </tr>\n",
       "    <tr>\n",
       "      <th>3</th>\n",
       "      <td>16</td>\n",
       "      <td>0</td>\n",
       "      <td>0</td>\n",
       "      <td>1</td>\n",
       "      <td>2</td>\n",
       "      <td>0</td>\n",
       "      <td>0</td>\n",
       "      <td>1</td>\n",
       "      <td>0</td>\n",
       "      <td>0</td>\n",
       "      <td>...</td>\n",
       "      <td>2</td>\n",
       "      <td>2</td>\n",
       "      <td>4</td>\n",
       "      <td>9</td>\n",
       "      <td>0</td>\n",
       "      <td>0</td>\n",
       "      <td>0</td>\n",
       "      <td>0</td>\n",
       "      <td>0</td>\n",
       "      <td>0</td>\n",
       "    </tr>\n",
       "    <tr>\n",
       "      <th>4</th>\n",
       "      <td>17</td>\n",
       "      <td>0</td>\n",
       "      <td>0</td>\n",
       "      <td>2</td>\n",
       "      <td>0</td>\n",
       "      <td>1</td>\n",
       "      <td>0</td>\n",
       "      <td>1</td>\n",
       "      <td>0</td>\n",
       "      <td>0</td>\n",
       "      <td>...</td>\n",
       "      <td>3</td>\n",
       "      <td>1</td>\n",
       "      <td>1</td>\n",
       "      <td>3</td>\n",
       "      <td>0</td>\n",
       "      <td>0</td>\n",
       "      <td>0</td>\n",
       "      <td>1</td>\n",
       "      <td>1</td>\n",
       "      <td>0</td>\n",
       "    </tr>\n",
       "  </tbody>\n",
       "</table>\n",
       "<p>5 rows × 59 columns</p>\n",
       "</div>"
      ],
      "text/plain": [
       "   id  target  ps_ind_01  ps_ind_02_cat  ps_ind_03  ps_ind_04_cat  \\\n",
       "0   7       0          2              2          5              1   \n",
       "1   9       0          1              1          7              0   \n",
       "2  13       0          5              4          9              1   \n",
       "3  16       0          0              1          2              0   \n",
       "4  17       0          0              2          0              1   \n",
       "\n",
       "   ps_ind_05_cat  ps_ind_06_bin  ps_ind_07_bin  ps_ind_08_bin  ...  \\\n",
       "0              0              0              1              0  ...   \n",
       "1              0              0              0              1  ...   \n",
       "2              0              0              0              1  ...   \n",
       "3              0              1              0              0  ...   \n",
       "4              0              1              0              0  ...   \n",
       "\n",
       "   ps_calc_11  ps_calc_12  ps_calc_13  ps_calc_14  ps_calc_15_bin  \\\n",
       "0           9           1           5           8               0   \n",
       "1           3           1           1           9               0   \n",
       "2           4           2           7           7               0   \n",
       "3           2           2           4           9               0   \n",
       "4           3           1           1           3               0   \n",
       "\n",
       "   ps_calc_16_bin  ps_calc_17_bin  ps_calc_18_bin  ps_calc_19_bin  \\\n",
       "0               1               1               0               0   \n",
       "1               1               1               0               1   \n",
       "2               1               1               0               1   \n",
       "3               0               0               0               0   \n",
       "4               0               0               1               1   \n",
       "\n",
       "   ps_calc_20_bin  \n",
       "0               1  \n",
       "1               0  \n",
       "2               0  \n",
       "3               0  \n",
       "4               0  \n",
       "\n",
       "[5 rows x 59 columns]"
      ]
     },
     "execution_count": 5,
     "metadata": {},
     "output_type": "execute_result"
    }
   ],
   "source": [
    "train = pd.read_csv('train.csv')\n",
    "train.head()"
   ]
  },
  {
   "cell_type": "code",
   "execution_count": 6,
   "id": "entire-diana",
   "metadata": {
    "execution": {
     "iopub.execute_input": "2021-04-05T14:59:05.509989Z",
     "iopub.status.busy": "2021-04-05T14:59:05.509123Z",
     "iopub.status.idle": "2021-04-05T14:59:05.512870Z",
     "shell.execute_reply": "2021-04-05T14:59:05.512263Z"
    },
    "papermill": {
     "duration": 0.068986,
     "end_time": "2021-04-05T14:59:05.513013",
     "exception": false,
     "start_time": "2021-04-05T14:59:05.444027",
     "status": "completed"
    },
    "tags": []
   },
   "outputs": [
    {
     "name": "stdout",
     "output_type": "stream",
     "text": [
      "The train dataset contains 595212 rows and 59columns\n"
     ]
    }
   ],
   "source": [
    "# Taking a look at how many rows and columns the train dataset contains\n",
    "rows = train.shape[0]\n",
    "columns = train.shape[1]\n",
    "print(\"The train dataset contains {0} rows and {1}columns\".format(rows, columns))"
   ]
  },
  {
   "cell_type": "markdown",
   "id": "enhanced-mystery",
   "metadata": {
    "papermill": {
     "duration": 0.060261,
     "end_time": "2021-04-05T14:59:05.633917",
     "exception": false,
     "start_time": "2021-04-05T14:59:05.573656",
     "status": "completed"
    },
    "tags": []
   },
   "source": [
    "# 1. Data Quality checks\n",
    "**Null or missing values check**\n",
    "\n",
    "\n",
    "As part of our quality checks, let us quick look at whether there are any null values in the train dataset as follows:"
   ]
  },
  {
   "cell_type": "code",
   "execution_count": 7,
   "id": "photographic-classroom",
   "metadata": {
    "execution": {
     "iopub.execute_input": "2021-04-05T14:59:05.760052Z",
     "iopub.status.busy": "2021-04-05T14:59:05.759392Z",
     "iopub.status.idle": "2021-04-05T14:59:05.784456Z",
     "shell.execute_reply": "2021-04-05T14:59:05.783851Z"
    },
    "papermill": {
     "duration": 0.090189,
     "end_time": "2021-04-05T14:59:05.784624",
     "exception": false,
     "start_time": "2021-04-05T14:59:05.694435",
     "status": "completed"
    },
    "tags": []
   },
   "outputs": [
    {
     "data": {
      "text/plain": [
       "False"
      ]
     },
     "execution_count": 7,
     "metadata": {},
     "output_type": "execute_result"
    }
   ],
   "source": [
    "# any() applied twice to check run the isnull check across all columns\n",
    "train.isnull().any().any()"
   ]
  },
  {
   "cell_type": "markdown",
   "id": "confirmed-explosion",
   "metadata": {
    "papermill": {
     "duration": 0.061382,
     "end_time": "2021-04-05T14:59:05.907199",
     "exception": false,
     "start_time": "2021-04-05T14:59:05.845817",
     "status": "completed"
    },
    "tags": []
   },
   "source": [
    "- Our null values check returns Flase but however, this does not really mean this case has been closed as the data is also described as \"Values of -1 indicate that the feature was missing from the observation\" Therefore I take it that Porto Seguro has simply conducted a blanket replacement of all null values in the data with the value of -1. Let us now inspect if there where any missing values in the data."
   ]
  },
  {
   "cell_type": "markdown",
   "id": "incorporate-geography",
   "metadata": {
    "papermill": {
     "duration": 0.062185,
     "end_time": "2021-04-05T14:59:06.030577",
     "exception": false,
     "start_time": "2021-04-05T14:59:05.968392",
     "status": "completed"
    },
    "tags": []
   },
   "source": [
    "Here we can see that which columns contained -1 in their values so we could easily for example make a blanket replacement of all -1 with nulls first as follows:"
   ]
  },
  {
   "cell_type": "code",
   "execution_count": 8,
   "id": "distinguished-absence",
   "metadata": {
    "execution": {
     "iopub.execute_input": "2021-04-05T14:59:06.158801Z",
     "iopub.status.busy": "2021-04-05T14:59:06.158174Z",
     "iopub.status.idle": "2021-04-05T14:59:19.140526Z",
     "shell.execute_reply": "2021-04-05T14:59:19.139927Z"
    },
    "papermill": {
     "duration": 13.048199,
     "end_time": "2021-04-05T14:59:19.140675",
     "exception": false,
     "start_time": "2021-04-05T14:59:06.092476",
     "status": "completed"
    },
    "tags": []
   },
   "outputs": [],
   "source": [
    "train_copy = train.copy()\n",
    "train_copy = train_copy.replace(-1, np.NaN)"
   ]
  },
  {
   "cell_type": "markdown",
   "id": "composite-steering",
   "metadata": {
    "papermill": {
     "duration": 0.06097,
     "end_time": "2021-04-05T14:59:19.263172",
     "exception": false,
     "start_time": "2021-04-05T14:59:19.202202",
     "status": "completed"
    },
    "tags": []
   },
   "source": [
    "Next, we can use resident Kaggler's Aleksey Bilogur - creator of the \"Missingno\" package which is a most useful and convenient tool in visualizing missing values in the dataset, so check it out"
   ]
  },
  {
   "cell_type": "code",
   "execution_count": 9,
   "id": "sapphire-mason",
   "metadata": {
    "execution": {
     "iopub.execute_input": "2021-04-05T14:59:19.391543Z",
     "iopub.status.busy": "2021-04-05T14:59:19.390913Z",
     "iopub.status.idle": "2021-04-05T14:59:19.395757Z",
     "shell.execute_reply": "2021-04-05T14:59:19.395124Z"
    },
    "papermill": {
     "duration": 0.071789,
     "end_time": "2021-04-05T14:59:19.395892",
     "exception": false,
     "start_time": "2021-04-05T14:59:19.324103",
     "status": "completed"
    },
    "tags": []
   },
   "outputs": [
    {
     "data": {
      "text/plain": [
       "Index(['ps_calc_01', 'ps_calc_02', 'ps_calc_03', 'ps_calc_04', 'ps_calc_05',\n",
       "       'ps_calc_06', 'ps_calc_07', 'ps_calc_08', 'ps_calc_09', 'ps_calc_10',\n",
       "       'ps_calc_11', 'ps_calc_12', 'ps_calc_13', 'ps_calc_14',\n",
       "       'ps_calc_15_bin', 'ps_calc_16_bin', 'ps_calc_17_bin', 'ps_calc_18_bin',\n",
       "       'ps_calc_19_bin', 'ps_calc_20_bin'],\n",
       "      dtype='object')"
      ]
     },
     "execution_count": 9,
     "metadata": {},
     "output_type": "execute_result"
    }
   ],
   "source": [
    "train_copy.columns[39:]"
   ]
  },
  {
   "cell_type": "code",
   "execution_count": 10,
   "id": "continuing-option",
   "metadata": {
    "execution": {
     "iopub.execute_input": "2021-04-05T14:59:19.524836Z",
     "iopub.status.busy": "2021-04-05T14:59:19.524201Z",
     "iopub.status.idle": "2021-04-05T14:59:25.258894Z",
     "shell.execute_reply": "2021-04-05T14:59:25.257892Z"
    },
    "papermill": {
     "duration": 5.801194,
     "end_time": "2021-04-05T14:59:25.259061",
     "exception": false,
     "start_time": "2021-04-05T14:59:19.457867",
     "status": "completed"
    },
    "tags": []
   },
   "outputs": [
    {
     "data": {
      "text/plain": [
       "<AxesSubplot:>"
      ]
     },
     "execution_count": 10,
     "metadata": {},
     "output_type": "execute_result"
    },
    {
     "data": {
      "image/png": "[encoded data removed]",
      "text/plain": [
       "<Figure size 1440x1008 with 2 Axes>"
      ]
     },
     "metadata": {
      "needs_background": "light"
     },
     "output_type": "display_data"
    }
   ],
   "source": [
    "import missingno as msno\n",
    "# Nullity or missing values by columns\n",
    "msno.matrix(df=train_copy.iloc[:,2:39], figsize=(20,14), color=(0.42,0.1,0.05))\n",
    "# id와 target값을 제외하고 출력하기 위해 2:39\n",
    "# 왜 39부터는 확인을 안 하지??"
   ]
  },
  {
   "cell_type": "code",
   "execution_count": 11,
   "id": "representative-nation",
   "metadata": {
    "execution": {
     "iopub.execute_input": "2021-04-05T14:59:25.431772Z",
     "iopub.status.busy": "2021-04-05T14:59:25.431072Z",
     "iopub.status.idle": "2021-04-05T14:59:28.593163Z",
     "shell.execute_reply": "2021-04-05T14:59:28.592441Z"
    },
    "papermill": {
     "duration": 3.269717,
     "end_time": "2021-04-05T14:59:28.593317",
     "exception": false,
     "start_time": "2021-04-05T14:59:25.323600",
     "status": "completed"
    },
    "tags": []
   },
   "outputs": [
    {
     "data": {
      "text/plain": [
       "<AxesSubplot:>"
      ]
     },
     "execution_count": 11,
     "metadata": {},
     "output_type": "execute_result"
    },
    {
     "data": {
      "image/png": "[encoded data removed]",
      "text/plain": [
       "<Figure size 1440x1008 with 2 Axes>"
      ]
     },
     "metadata": {
      "needs_background": "light"
     },
     "output_type": "display_data"
    }
   ],
   "source": [
    "msno.matrix(df=train_copy.iloc[:,39:], figsize=(20,14), color=(0.42,0.1,0.05))"
   ]
  },
  {
   "cell_type": "markdown",
   "id": "democratic-cinema",
   "metadata": {
    "papermill": {
     "duration": 0.065436,
     "end_time": "2021-04-05T14:59:28.725620",
     "exception": false,
     "start_time": "2021-04-05T14:59:28.660184",
     "status": "completed"
    },
    "tags": []
   },
   "source": [
    "As we can see, the missing values now become much more apparent and clear when we visualize it, where the empty white bands (data that is missing) superposed on the vertical dark red bands (non missing data) reflect the nullity of the data in that particular column. In this instance, we can observe that there are 7 features out of the 59 total features (although as rightly pointed out by Justin Nafe in the comments section there are really a grand total of 13 columns with missing values) that actually contained null values. This is due to the fact that the missingno matrix plot can only comfortable fit in approximately 40 odd features to one plot after which some columns may be excluded, and hence the remaining 5 null columns have been excluded. To visualize all nulls, try changing the figsize argument as well as tweaking how we slice the dataframe.\n",
    "\n",
    "For the 7 null columns that we are able to observe, they are hence listed here as follows:\n",
    "\n",
    "**ps_ind_05_cat | ps_reg_03 | ps_car_03_cat | ps_car_05_cat | ps_car_07_cat | ps_car_09_cat | ps_car_14**\n",
    "\n",
    "Most of the missing values occur in the columns suffixed with _cat. One should really take further note of the columns ps_reg_03, ps_car_03_cat and ps_car_05_cat. Evinced from the ratio of white to dark bands, it is very aparent that a big majority of values are missing from these 3 columns, and therefore a blanket replacement of -1 for the nulls might not be a very good strategy.\n",
    "\n",
    "### Target Variable inspection\n",
    "Another standard check normally conducted on the data is with regards to our target variable, where in this case, the column is conveniently titled \"target\". The target value also comes by the moniker of class/label/correct answer and is used in supervised learning models along with the corresponding data that is given (in our case all our train data except the id column) to learn the function that best maps the data to our target in the hope that this learned function can generalize and predict well with new unseen data.\n"
   ]
  },
  {
   "cell_type": "code",
   "execution_count": 12,
   "id": "falling-april",
   "metadata": {
    "execution": {
     "iopub.execute_input": "2021-04-05T14:59:28.899333Z",
     "iopub.status.busy": "2021-04-05T14:59:28.898354Z",
     "iopub.status.idle": "2021-04-05T14:59:28.903347Z",
     "shell.execute_reply": "2021-04-05T14:59:28.903967Z"
    },
    "papermill": {
     "duration": 0.10668,
     "end_time": "2021-04-05T14:59:28.904231",
     "exception": false,
     "start_time": "2021-04-05T14:59:28.797551",
     "status": "completed"
    },
    "tags": []
   },
   "outputs": [
    {
     "data": {
      "text/plain": [
       "['AngularAxis',\n",
       " 'Annotation',\n",
       " 'Annotations',\n",
       " 'Area',\n",
       " 'Bar',\n",
       " 'Barpolar',\n",
       " 'Box',\n",
       " 'Candlestick',\n",
       " 'Carpet',\n",
       " 'Choropleth',\n",
       " 'Choroplethmapbox',\n",
       " 'ColorBar',\n",
       " 'Cone',\n",
       " 'Contour',\n",
       " 'Contourcarpet',\n",
       " 'Contours',\n",
       " 'Data',\n",
       " 'Densitymapbox',\n",
       " 'ErrorX',\n",
       " 'ErrorY',\n",
       " 'ErrorZ',\n",
       " 'Figure',\n",
       " 'FigureWidget',\n",
       " 'Font',\n",
       " 'Frame',\n",
       " 'Frames',\n",
       " 'Funnel',\n",
       " 'Funnelarea',\n",
       " 'Heatmap',\n",
       " 'Heatmapgl',\n",
       " 'Histogram',\n",
       " 'Histogram2d',\n",
       " 'Histogram2dContour',\n",
       " 'Histogram2dcontour',\n",
       " 'Image',\n",
       " 'Indicator',\n",
       " 'Isosurface',\n",
       " 'Layout',\n",
       " 'Legend',\n",
       " 'Line',\n",
       " 'Margin',\n",
       " 'Marker',\n",
       " 'Mesh3d',\n",
       " 'Ohlc',\n",
       " 'Parcats',\n",
       " 'Parcoords',\n",
       " 'Pie',\n",
       " 'Pointcloud',\n",
       " 'RadialAxis',\n",
       " 'Sankey',\n",
       " 'Scatter',\n",
       " 'Scatter3d',\n",
       " 'Scattercarpet',\n",
       " 'Scattergeo',\n",
       " 'Scattergl',\n",
       " 'Scattermapbox',\n",
       " 'Scatterpolar',\n",
       " 'Scatterpolargl',\n",
       " 'Scatterternary',\n",
       " 'Scene',\n",
       " 'Splom',\n",
       " 'Stream',\n",
       " 'Streamtube',\n",
       " 'Sunburst',\n",
       " 'Surface',\n",
       " 'Table',\n",
       " 'Trace',\n",
       " 'Treemap',\n",
       " 'Violin',\n",
       " 'Volume',\n",
       " 'Waterfall',\n",
       " 'XAxis',\n",
       " 'XBins',\n",
       " 'YAxis',\n",
       " 'YBins',\n",
       " 'ZAxis',\n",
       " 'area',\n",
       " 'bar',\n",
       " 'barpolar',\n",
       " 'box',\n",
       " 'candlestick',\n",
       " 'carpet',\n",
       " 'choropleth',\n",
       " 'choroplethmapbox',\n",
       " 'cone',\n",
       " 'contour',\n",
       " 'contourcarpet',\n",
       " 'densitymapbox',\n",
       " 'funnel',\n",
       " 'funnelarea',\n",
       " 'heatmap',\n",
       " 'heatmapgl',\n",
       " 'histogram',\n",
       " 'histogram2d',\n",
       " 'histogram2dcontour',\n",
       " 'image',\n",
       " 'indicator',\n",
       " 'isosurface',\n",
       " 'layout',\n",
       " 'mesh3d',\n",
       " 'ohlc',\n",
       " 'parcats',\n",
       " 'parcoords',\n",
       " 'pie',\n",
       " 'pointcloud',\n",
       " 'sankey',\n",
       " 'scatter',\n",
       " 'scatter3d',\n",
       " 'scattercarpet',\n",
       " 'scattergeo',\n",
       " 'scattergl',\n",
       " 'scattermapbox',\n",
       " 'scatterpolar',\n",
       " 'scatterpolargl',\n",
       " 'scatterternary',\n",
       " 'splom',\n",
       " 'streamtube',\n",
       " 'sunburst',\n",
       " 'surface',\n",
       " 'table',\n",
       " 'treemap',\n",
       " 'violin',\n",
       " 'volume',\n",
       " 'waterfall']"
      ]
     },
     "execution_count": 12,
     "metadata": {},
     "output_type": "execute_result"
    }
   ],
   "source": [
    "dir(go)"
   ]
  },
  {
   "cell_type": "code",
   "execution_count": 13,
   "id": "consolidated-visitor",
   "metadata": {
    "execution": {
     "iopub.execute_input": "2021-04-05T14:59:29.058691Z",
     "iopub.status.busy": "2021-04-05T14:59:29.057916Z",
     "iopub.status.idle": "2021-04-05T14:59:30.113357Z",
     "shell.execute_reply": "2021-04-05T14:59:30.113926Z"
    },
    "papermill": {
     "duration": 1.136209,
     "end_time": "2021-04-05T14:59:30.114098",
     "exception": false,
     "start_time": "2021-04-05T14:59:28.977889",
     "status": "completed"
    },
    "tags": []
   },
   "outputs": [
    {
     "data": {
      "application/vnd.plotly.v1+json": {
       "config": {
        "linkText": "Export to plot.ly",
        "plotlyServerURL": "https://plot.ly",
        "showLink": false
       },
       "data": [
        {
         "text": "Distribution of target variable",
         "type": "bar",
         "x": [
          0,
          1
         ],
         "y": [
          573518,
          21694
         ]
        }
       ],
       "layout": {
        "template": {
         "data": {
          "bar": [
           {
            "error_x": {
             "color": "#2a3f5f"
            },
            "error_y": {
             "color": "#2a3f5f"
            },
            "marker": {
             "line": {
              "color": "#E5ECF6",
              "width": 0.5
             }
            },
            "type": "bar"
           }
          ],
          "barpolar": [
           {
            "marker": {
             "line": {
              "color": "#E5ECF6",
              "width": 0.5
             }
            },
            "type": "barpolar"
           }
          ],
          "carpet": [
           {
            "aaxis": {
             "endlinecolor": "#2a3f5f",
             "gridcolor": "white",
             "linecolor": "white",
             "minorgridcolor": "white",
             "startlinecolor": "#2a3f5f"
            },
            "baxis": {
             "endlinecolor": "#2a3f5f",
             "gridcolor": "white",
             "linecolor": "white",
             "minorgridcolor": "white",
             "startlinecolor": "#2a3f5f"
            },
            "type": "carpet"
           }
          ],
          "choropleth": [
           {
            "colorbar": {
             "outlinewidth": 0,
             "ticks": ""
            },
            "type": "choropleth"
           }
          ],
          "contour": [
           {
            "colorbar": {
             "outlinewidth": 0,
             "ticks": ""
            },
            "colorscale": [
             [
              0,
              "#0d0887"
             ],
             [
              0.1111111111111111,
              "#46039f"
             ],
             [
              0.2222222222222222,
              "#7201a8"
             ],
             [
              0.3333333333333333,
              "#9c179e"
             ],
             [
              0.4444444444444444,
              "#bd3786"
             ],
             [
              0.5555555555555556,
              "#d8576b"
             ],
             [
              0.6666666666666666,
              "#ed7953"
             ],
             [
              0.7777777777777778,
              "#fb9f3a"
             ],
             [
              0.8888888888888888,
              "#fdca26"
             ],
             [
              1,
              "#f0f921"
             ]
            ],
            "type": "contour"
           }
          ],
          "contourcarpet": [
           {
            "colorbar": {
             "outlinewidth": 0,
             "ticks": ""
            },
            "type": "contourcarpet"
           }
          ],
          "heatmap": [
           {
            "colorbar": {
             "outlinewidth": 0,
             "ticks": ""
            },
            "colorscale": [
             [
              0,
              "#0d0887"
             ],
             [
              0.1111111111111111,
              "#46039f"
             ],
             [
              0.2222222222222222,
              "#7201a8"
             ],
             [
              0.3333333333333333,
              "#9c179e"
             ],
             [
              0.4444444444444444,
              "#bd3786"
             ],
             [
              0.5555555555555556,
              "#d8576b"
             ],
             [
              0.6666666666666666,
              "#ed7953"
             ],
             [
              0.7777777777777778,
              "#fb9f3a"
             ],
             [
              0.8888888888888888,
              "#fdca26"
             ],
             [
              1,
              "#f0f921"
             ]
            ],
            "type": "heatmap"
           }
          ],
          "heatmapgl": [
           {
            "colorbar": {
             "outlinewidth": 0,
             "ticks": ""
            },
            "colorscale": [
             [
              0,
              "#0d0887"
             ],
             [
              0.1111111111111111,
              "#46039f"
             ],
             [
              0.2222222222222222,
              "#7201a8"
             ],
             [
              0.3333333333333333,
              "#9c179e"
             ],
             [
              0.4444444444444444,
              "#bd3786"
             ],
             [
              0.5555555555555556,
              "#d8576b"
             ],
             [
              0.6666666666666666,
              "#ed7953"
             ],
             [
              0.7777777777777778,
              "#fb9f3a"
             ],
             [
              0.8888888888888888,
              "#fdca26"
             ],
             [
              1,
              "#f0f921"
             ]
            ],
            "type": "heatmapgl"
           }
          ],
          "histogram": [
           {
            "marker": {
             "colorbar": {
              "outlinewidth": 0,
              "ticks": ""
             }
            },
            "type": "histogram"
           }
          ],
          "histogram2d": [
           {
            "colorbar": {
             "outlinewidth": 0,
             "ticks": ""
            },
            "colorscale": [
             [
              0,
              "#0d0887"
             ],
             [
              0.1111111111111111,
              "#46039f"
             ],
             [
              0.2222222222222222,
              "#7201a8"
             ],
             [
              0.3333333333333333,
              "#9c179e"
             ],
             [
              0.4444444444444444,
              "#bd3786"
             ],
             [
              0.5555555555555556,
              "#d8576b"
             ],
             [
              0.6666666666666666,
              "#ed7953"
             ],
             [
              0.7777777777777778,
              "#fb9f3a"
             ],
             [
              0.8888888888888888,
              "#fdca26"
             ],
             [
              1,
              "#f0f921"
             ]
            ],
            "type": "histogram2d"
           }
          ],
          "histogram2dcontour": [
           {
            "colorbar": {
             "outlinewidth": 0,
             "ticks": ""
            },
            "colorscale": [
             [
              0,
              "#0d0887"
             ],
             [
              0.1111111111111111,
              "#46039f"
             ],
             [
              0.2222222222222222,
              "#7201a8"
             ],
             [
              0.3333333333333333,
              "#9c179e"
             ],
             [
              0.4444444444444444,
              "#bd3786"
             ],
             [
              0.5555555555555556,
              "#d8576b"
             ],
             [
              0.6666666666666666,
              "#ed7953"
             ],
             [
              0.7777777777777778,
              "#fb9f3a"
             ],
             [
              0.8888888888888888,
              "#fdca26"
             ],
             [
              1,
              "#f0f921"
             ]
            ],
            "type": "histogram2dcontour"
           }
          ],
          "mesh3d": [
           {
            "colorbar": {
             "outlinewidth": 0,
             "ticks": ""
            },
            "type": "mesh3d"
           }
          ],
          "parcoords": [
           {
            "line": {
             "colorbar": {
              "outlinewidth": 0,
              "ticks": ""
             }
            },
            "type": "parcoords"
           }
          ],
          "pie": [
           {
            "automargin": true,
            "type": "pie"
           }
          ],
          "scatter": [
           {
            "marker": {
             "colorbar": {
              "outlinewidth": 0,
              "ticks": ""
             }
            },
            "type": "scatter"
           }
          ],
          "scatter3d": [
           {
            "line": {
             "colorbar": {
              "outlinewidth": 0,
              "ticks": ""
             }
            },
            "marker": {
             "colorbar": {
              "outlinewidth": 0,
              "ticks": ""
             }
            },
            "type": "scatter3d"
           }
          ],
          "scattercarpet": [
           {
            "marker": {
             "colorbar": {
              "outlinewidth": 0,
              "ticks": ""
             }
            },
            "type": "scattercarpet"
           }
          ],
          "scattergeo": [
           {
            "marker": {
             "colorbar": {
              "outlinewidth": 0,
              "ticks": ""
             }
            },
            "type": "scattergeo"
           }
          ],
          "scattergl": [
           {
            "marker": {
             "colorbar": {
              "outlinewidth": 0,
              "ticks": ""
             }
            },
            "type": "scattergl"
           }
          ],
          "scattermapbox": [
           {
            "marker": {
             "colorbar": {
              "outlinewidth": 0,
              "ticks": ""
             }
            },
            "type": "scattermapbox"
           }
          ],
          "scatterpolar": [
           {
            "marker": {
             "colorbar": {
              "outlinewidth": 0,
              "ticks": ""
             }
            },
            "type": "scatterpolar"
           }
          ],
          "scatterpolargl": [
           {
            "marker": {
             "colorbar": {
              "outlinewidth": 0,
              "ticks": ""
             }
            },
            "type": "scatterpolargl"
           }
          ],
          "scatterternary": [
           {
            "marker": {
             "colorbar": {
              "outlinewidth": 0,
              "ticks": ""
             }
            },
            "type": "scatterternary"
           }
          ],
          "surface": [
           {
            "colorbar": {
             "outlinewidth": 0,
             "ticks": ""
            },
            "colorscale": [
             [
              0,
              "#0d0887"
             ],
             [
              0.1111111111111111,
              "#46039f"
             ],
             [
              0.2222222222222222,
              "#7201a8"
             ],
             [
              0.3333333333333333,
              "#9c179e"
             ],
             [
              0.4444444444444444,
              "#bd3786"
             ],
             [
              0.5555555555555556,
              "#d8576b"
             ],
             [
              0.6666666666666666,
              "#ed7953"
             ],
             [
              0.7777777777777778,
              "#fb9f3a"
             ],
             [
              0.8888888888888888,
              "#fdca26"
             ],
             [
              1,
              "#f0f921"
             ]
            ],
            "type": "surface"
           }
          ],
          "table": [
           {
            "cells": {
             "fill": {
              "color": "#EBF0F8"
             },
             "line": {
              "color": "white"
             }
            },
            "header": {
             "fill": {
              "color": "#C8D4E3"
             },
             "line": {
              "color": "white"
             }
            },
            "type": "table"
           }
          ]
         },
         "layout": {
          "annotationdefaults": {
           "arrowcolor": "#2a3f5f",
           "arrowhead": 0,
           "arrowwidth": 1
          },
          "autotypenumbers": "strict",
          "coloraxis": {
           "colorbar": {
            "outlinewidth": 0,
            "ticks": ""
           }
          },
          "colorscale": {
           "diverging": [
            [
             0,
             "#8e0152"
            ],
            [
             0.1,
             "#c51b7d"
            ],
            [
             0.2,
             "#de77ae"
            ],
            [
             0.3,
             "#f1b6da"
            ],
            [
             0.4,
             "#fde0ef"
            ],
            [
             0.5,
             "#f7f7f7"
            ],
            [
             0.6,
             "#e6f5d0"
            ],
            [
             0.7,
             "#b8e186"
            ],
            [
             0.8,
             "#7fbc41"
            ],
            [
             0.9,
             "#4d9221"
            ],
            [
             1,
             "#276419"
            ]
           ],
           "sequential": [
            [
             0,
             "#0d0887"
            ],
            [
             0.1111111111111111,
             "#46039f"
            ],
            [
             0.2222222222222222,
             "#7201a8"
            ],
            [
             0.3333333333333333,
             "#9c179e"
            ],
            [
             0.4444444444444444,
             "#bd3786"
            ],
            [
             0.5555555555555556,
             "#d8576b"
            ],
            [
             0.6666666666666666,
             "#ed7953"
            ],
            [
             0.7777777777777778,
             "#fb9f3a"
            ],
            [
             0.8888888888888888,
             "#fdca26"
            ],
            [
             1,
             "#f0f921"
            ]
           ],
           "sequentialminus": [
            [
             0,
             "#0d0887"
            ],
            [
             0.1111111111111111,
             "#46039f"
            ],
            [
             0.2222222222222222,
             "#7201a8"
            ],
            [
             0.3333333333333333,
             "#9c179e"
            ],
            [
             0.4444444444444444,
             "#bd3786"
            ],
            [
             0.5555555555555556,
             "#d8576b"
            ],
            [
             0.6666666666666666,
             "#ed7953"
            ],
            [
             0.7777777777777778,
             "#fb9f3a"
            ],
            [
             0.8888888888888888,
             "#fdca26"
            ],
            [
             1,
             "#f0f921"
            ]
           ]
          },
          "colorway": [
           "#636efa",
           "#EF553B",
           "#00cc96",
           "#ab63fa",
           "#FFA15A",
           "#19d3f3",
           "#FF6692",
           "#B6E880",
           "#FF97FF",
           "#FECB52"
          ],
          "font": {
           "color": "#2a3f5f"
          },
          "geo": {
           "bgcolor": "white",
           "lakecolor": "white",
           "landcolor": "#E5ECF6",
           "showlakes": true,
           "showland": true,
           "subunitcolor": "white"
          },
          "hoverlabel": {
           "align": "left"
          },
          "hovermode": "closest",
          "mapbox": {
           "style": "light"
          },
          "paper_bgcolor": "white",
          "plot_bgcolor": "#E5ECF6",
          "polar": {
           "angularaxis": {
            "gridcolor": "white",
            "linecolor": "white",
            "ticks": ""
           },
           "bgcolor": "#E5ECF6",
           "radialaxis": {
            "gridcolor": "white",
            "linecolor": "white",
            "ticks": ""
           }
          },
          "scene": {
           "xaxis": {
            "backgroundcolor": "#E5ECF6",
            "gridcolor": "white",
            "gridwidth": 2,
            "linecolor": "white",
            "showbackground": true,
            "ticks": "",
            "zerolinecolor": "white"
           },
           "yaxis": {
            "backgroundcolor": "#E5ECF6",
            "gridcolor": "white",
            "gridwidth": 2,
            "linecolor": "white",
            "showbackground": true,
            "ticks": "",
            "zerolinecolor": "white"
           },
           "zaxis": {
            "backgroundcolor": "#E5ECF6",
            "gridcolor": "white",
            "gridwidth": 2,
            "linecolor": "white",
            "showbackground": true,
            "ticks": "",
            "zerolinecolor": "white"
           }
          },
          "shapedefaults": {
           "line": {
            "color": "#2a3f5f"
           }
          },
          "ternary": {
           "aaxis": {
            "gridcolor": "white",
            "linecolor": "white",
            "ticks": ""
           },
           "baxis": {
            "gridcolor": "white",
            "linecolor": "white",
            "ticks": ""
           },
           "bgcolor": "#E5ECF6",
           "caxis": {
            "gridcolor": "white",
            "linecolor": "white",
            "ticks": ""
           }
          },
          "title": {
           "x": 0.05
          },
          "xaxis": {
           "automargin": true,
           "gridcolor": "white",
           "linecolor": "white",
           "ticks": "",
           "title": {
            "standoff": 15
           },
           "zerolinecolor": "white",
           "zerolinewidth": 2
          },
          "yaxis": {
           "automargin": true,
           "gridcolor": "white",
           "linecolor": "white",
           "ticks": "",
           "title": {
            "standoff": 15
           },
           "zerolinecolor": "white",
           "zerolinewidth": 2
          }
         }
        },
        "title": {
         "text": "Target variable distribution"
        }
       }
      },
      "text/html": [
       "<div>                            <div id=\"dddd5340-2b60-4382-bebb-c5595c37252b\" class=\"plotly-graph-div\" style=\"height:525px; width:100%;\"></div>            <script type=\"text/javascript\">                require([\"plotly\"], function(Plotly) {                    window.PLOTLYENV=window.PLOTLYENV || {};                                    if (document.getElementById(\"dddd5340-2b60-4382-bebb-c5595c37252b\")) {                    Plotly.newPlot(                        \"dddd5340-2b60-4382-bebb-c5595c37252b\",                        [{\"text\": \"Distribution of target variable\", \"type\": \"bar\", \"x\": [0, 1], \"y\": [573518, 21694]}],                        {\"template\": {\"data\": {\"bar\": [{\"error_x\": {\"color\": \"#2a3f5f\"}, \"error_y\": {\"color\": \"#2a3f5f\"}, \"marker\": {\"line\": {\"color\": \"#E5ECF6\", \"width\": 0.5}}, \"type\": \"bar\"}], \"barpolar\": [{\"marker\": {\"line\": {\"color\": \"#E5ECF6\", \"width\": 0.5}}, \"type\": \"barpolar\"}], \"carpet\": [{\"aaxis\": {\"endlinecolor\": \"#2a3f5f\", \"gridcolor\": \"white\", \"linecolor\": \"white\", \"minorgridcolor\": \"white\", \"startlinecolor\": \"#2a3f5f\"}, \"baxis\": {\"endlinecolor\": \"#2a3f5f\", \"gridcolor\": \"white\", \"linecolor\": \"white\", \"minorgridcolor\": \"white\", \"startlinecolor\": \"#2a3f5f\"}, \"type\": \"carpet\"}], \"choropleth\": [{\"colorbar\": {\"outlinewidth\": 0, \"ticks\": \"\"}, \"type\": \"choropleth\"}], \"contour\": [{\"colorbar\": {\"outlinewidth\": 0, \"ticks\": \"\"}, \"colorscale\": [[0.0, \"#0d0887\"], [0.1111111111111111, \"#46039f\"], [0.2222222222222222, \"#7201a8\"], [0.3333333333333333, \"#9c179e\"], [0.4444444444444444, \"#bd3786\"], [0.5555555555555556, \"#d8576b\"], [0.6666666666666666, \"#ed7953\"], [0.7777777777777778, \"#fb9f3a\"], [0.8888888888888888, \"#fdca26\"], [1.0, \"#f0f921\"]], \"type\": \"contour\"}], \"contourcarpet\": [{\"colorbar\": {\"outlinewidth\": 0, \"ticks\": \"\"}, \"type\": \"contourcarpet\"}], \"heatmap\": [{\"colorbar\": {\"outlinewidth\": 0, \"ticks\": \"\"}, \"colorscale\": [[0.0, \"#0d0887\"], [0.1111111111111111, \"#46039f\"], [0.2222222222222222, \"#7201a8\"], [0.3333333333333333, \"#9c179e\"], [0.4444444444444444, \"#bd3786\"], [0.5555555555555556, \"#d8576b\"], [0.6666666666666666, \"#ed7953\"], [0.7777777777777778, \"#fb9f3a\"], [0.8888888888888888, \"#fdca26\"], [1.0, \"#f0f921\"]], \"type\": \"heatmap\"}], \"heatmapgl\": [{\"colorbar\": {\"outlinewidth\": 0, \"ticks\": \"\"}, \"colorscale\": [[0.0, \"#0d0887\"], [0.1111111111111111, \"#46039f\"], [0.2222222222222222, \"#7201a8\"], [0.3333333333333333, \"#9c179e\"], [0.4444444444444444, \"#bd3786\"], [0.5555555555555556, \"#d8576b\"], [0.6666666666666666, \"#ed7953\"], [0.7777777777777778, \"#fb9f3a\"], [0.8888888888888888, \"#fdca26\"], [1.0, \"#f0f921\"]], \"type\": \"heatmapgl\"}], \"histogram\": [{\"marker\": {\"colorbar\": {\"outlinewidth\": 0, \"ticks\": \"\"}}, \"type\": \"histogram\"}], \"histogram2d\": [{\"colorbar\": {\"outlinewidth\": 0, \"ticks\": \"\"}, \"colorscale\": [[0.0, \"#0d0887\"], [0.1111111111111111, \"#46039f\"], [0.2222222222222222, \"#7201a8\"], [0.3333333333333333, \"#9c179e\"], [0.4444444444444444, \"#bd3786\"], [0.5555555555555556, \"#d8576b\"], [0.6666666666666666, \"#ed7953\"], [0.7777777777777778, \"#fb9f3a\"], [0.8888888888888888, \"#fdca26\"], [1.0, \"#f0f921\"]], \"type\": \"histogram2d\"}], \"histogram2dcontour\": [{\"colorbar\": {\"outlinewidth\": 0, \"ticks\": \"\"}, \"colorscale\": [[0.0, \"#0d0887\"], [0.1111111111111111, \"#46039f\"], [0.2222222222222222, \"#7201a8\"], [0.3333333333333333, \"#9c179e\"], [0.4444444444444444, \"#bd3786\"], [0.5555555555555556, \"#d8576b\"], [0.6666666666666666, \"#ed7953\"], [0.7777777777777778, \"#fb9f3a\"], [0.8888888888888888, \"#fdca26\"], [1.0, \"#f0f921\"]], \"type\": \"histogram2dcontour\"}], \"mesh3d\": [{\"colorbar\": {\"outlinewidth\": 0, \"ticks\": \"\"}, \"type\": \"mesh3d\"}], \"parcoords\": [{\"line\": {\"colorbar\": {\"outlinewidth\": 0, \"ticks\": \"\"}}, \"type\": \"parcoords\"}], \"pie\": [{\"automargin\": true, \"type\": \"pie\"}], \"scatter\": [{\"marker\": {\"colorbar\": {\"outlinewidth\": 0, \"ticks\": \"\"}}, \"type\": \"scatter\"}], \"scatter3d\": [{\"line\": {\"colorbar\": {\"outlinewidth\": 0, \"ticks\": \"\"}}, \"marker\": {\"colorbar\": {\"outlinewidth\": 0, \"ticks\": \"\"}}, \"type\": \"scatter3d\"}], \"scattercarpet\": [{\"marker\": {\"colorbar\": {\"outlinewidth\": 0, \"ticks\": \"\"}}, \"type\": \"scattercarpet\"}], \"scattergeo\": [{\"marker\": {\"colorbar\": {\"outlinewidth\": 0, \"ticks\": \"\"}}, \"type\": \"scattergeo\"}], \"scattergl\": [{\"marker\": {\"colorbar\": {\"outlinewidth\": 0, \"ticks\": \"\"}}, \"type\": \"scattergl\"}], \"scattermapbox\": [{\"marker\": {\"colorbar\": {\"outlinewidth\": 0, \"ticks\": \"\"}}, \"type\": \"scattermapbox\"}], \"scatterpolar\": [{\"marker\": {\"colorbar\": {\"outlinewidth\": 0, \"ticks\": \"\"}}, \"type\": \"scatterpolar\"}], \"scatterpolargl\": [{\"marker\": {\"colorbar\": {\"outlinewidth\": 0, \"ticks\": \"\"}}, \"type\": \"scatterpolargl\"}], \"scatterternary\": [{\"marker\": {\"colorbar\": {\"outlinewidth\": 0, \"ticks\": \"\"}}, \"type\": \"scatterternary\"}], \"surface\": [{\"colorbar\": {\"outlinewidth\": 0, \"ticks\": \"\"}, \"colorscale\": [[0.0, \"#0d0887\"], [0.1111111111111111, \"#46039f\"], [0.2222222222222222, \"#7201a8\"], [0.3333333333333333, \"#9c179e\"], [0.4444444444444444, \"#bd3786\"], [0.5555555555555556, \"#d8576b\"], [0.6666666666666666, \"#ed7953\"], [0.7777777777777778, \"#fb9f3a\"], [0.8888888888888888, \"#fdca26\"], [1.0, \"#f0f921\"]], \"type\": \"surface\"}], \"table\": [{\"cells\": {\"fill\": {\"color\": \"#EBF0F8\"}, \"line\": {\"color\": \"white\"}}, \"header\": {\"fill\": {\"color\": \"#C8D4E3\"}, \"line\": {\"color\": \"white\"}}, \"type\": \"table\"}]}, \"layout\": {\"annotationdefaults\": {\"arrowcolor\": \"#2a3f5f\", \"arrowhead\": 0, \"arrowwidth\": 1}, \"autotypenumbers\": \"strict\", \"coloraxis\": {\"colorbar\": {\"outlinewidth\": 0, \"ticks\": \"\"}}, \"colorscale\": {\"diverging\": [[0, \"#8e0152\"], [0.1, \"#c51b7d\"], [0.2, \"#de77ae\"], [0.3, \"#f1b6da\"], [0.4, \"#fde0ef\"], [0.5, \"#f7f7f7\"], [0.6, \"#e6f5d0\"], [0.7, \"#b8e186\"], [0.8, \"#7fbc41\"], [0.9, \"#4d9221\"], [1, \"#276419\"]], \"sequential\": [[0.0, \"#0d0887\"], [0.1111111111111111, \"#46039f\"], [0.2222222222222222, \"#7201a8\"], [0.3333333333333333, \"#9c179e\"], [0.4444444444444444, \"#bd3786\"], [0.5555555555555556, \"#d8576b\"], [0.6666666666666666, \"#ed7953\"], [0.7777777777777778, \"#fb9f3a\"], [0.8888888888888888, \"#fdca26\"], [1.0, \"#f0f921\"]], \"sequentialminus\": [[0.0, \"#0d0887\"], [0.1111111111111111, \"#46039f\"], [0.2222222222222222, \"#7201a8\"], [0.3333333333333333, \"#9c179e\"], [0.4444444444444444, \"#bd3786\"], [0.5555555555555556, \"#d8576b\"], [0.6666666666666666, \"#ed7953\"], [0.7777777777777778, \"#fb9f3a\"], [0.8888888888888888, \"#fdca26\"], [1.0, \"#f0f921\"]]}, \"colorway\": [\"#636efa\", \"#EF553B\", \"#00cc96\", \"#ab63fa\", \"#FFA15A\", \"#19d3f3\", \"#FF6692\", \"#B6E880\", \"#FF97FF\", \"#FECB52\"], \"font\": {\"color\": \"#2a3f5f\"}, \"geo\": {\"bgcolor\": \"white\", \"lakecolor\": \"white\", \"landcolor\": \"#E5ECF6\", \"showlakes\": true, \"showland\": true, \"subunitcolor\": \"white\"}, \"hoverlabel\": {\"align\": \"left\"}, \"hovermode\": \"closest\", \"mapbox\": {\"style\": \"light\"}, \"paper_bgcolor\": \"white\", \"plot_bgcolor\": \"#E5ECF6\", \"polar\": {\"angularaxis\": {\"gridcolor\": \"white\", \"linecolor\": \"white\", \"ticks\": \"\"}, \"bgcolor\": \"#E5ECF6\", \"radialaxis\": {\"gridcolor\": \"white\", \"linecolor\": \"white\", \"ticks\": \"\"}}, \"scene\": {\"xaxis\": {\"backgroundcolor\": \"#E5ECF6\", \"gridcolor\": \"white\", \"gridwidth\": 2, \"linecolor\": \"white\", \"showbackground\": true, \"ticks\": \"\", \"zerolinecolor\": \"white\"}, \"yaxis\": {\"backgroundcolor\": \"#E5ECF6\", \"gridcolor\": \"white\", \"gridwidth\": 2, \"linecolor\": \"white\", \"showbackground\": true, \"ticks\": \"\", \"zerolinecolor\": \"white\"}, \"zaxis\": {\"backgroundcolor\": \"#E5ECF6\", \"gridcolor\": \"white\", \"gridwidth\": 2, \"linecolor\": \"white\", \"showbackground\": true, \"ticks\": \"\", \"zerolinecolor\": \"white\"}}, \"shapedefaults\": {\"line\": {\"color\": \"#2a3f5f\"}}, \"ternary\": {\"aaxis\": {\"gridcolor\": \"white\", \"linecolor\": \"white\", \"ticks\": \"\"}, \"baxis\": {\"gridcolor\": \"white\", \"linecolor\": \"white\", \"ticks\": \"\"}, \"bgcolor\": \"#E5ECF6\", \"caxis\": {\"gridcolor\": \"white\", \"linecolor\": \"white\", \"ticks\": \"\"}}, \"title\": {\"x\": 0.05}, \"xaxis\": {\"automargin\": true, \"gridcolor\": \"white\", \"linecolor\": \"white\", \"ticks\": \"\", \"title\": {\"standoff\": 15}, \"zerolinecolor\": \"white\", \"zerolinewidth\": 2}, \"yaxis\": {\"automargin\": true, \"gridcolor\": \"white\", \"linecolor\": \"white\", \"ticks\": \"\", \"title\": {\"standoff\": 15}, \"zerolinecolor\": \"white\", \"zerolinewidth\": 2}}}, \"title\": {\"text\": \"Target variable distribution\"}},                        {\"responsive\": true}                    ).then(function(){\n",
       "                            \n",
       "var gd = document.getElementById('dddd5340-2b60-4382-bebb-c5595c37252b');\n",
       "var x = new MutationObserver(function (mutations, observer) {{\n",
       "        var display = window.getComputedStyle(gd).display;\n",
       "        if (!display || display === 'none') {{\n",
       "            console.log([gd, 'removed!']);\n",
       "            Plotly.purge(gd);\n",
       "            observer.disconnect();\n",
       "        }}\n",
       "}});\n",
       "\n",
       "// Listen for the removal of the full notebook cells\n",
       "var notebookContainer = gd.closest('#notebook-container');\n",
       "if (notebookContainer) {{\n",
       "    x.observe(notebookContainer, {childList: true});\n",
       "}}\n",
       "\n",
       "// Listen for the clearing of the current output cell\n",
       "var outputEl = gd.closest('.output');\n",
       "if (outputEl) {{\n",
       "    x.observe(outputEl, {childList: true});\n",
       "}}\n",
       "\n",
       "                        })                };                });            </script>        </div>"
      ]
     },
     "metadata": {},
     "output_type": "display_data"
    }
   ],
   "source": [
    "data = [go.Bar(\n",
    "            x = train['target'].value_counts().index.values,\n",
    "            y = train['target'].value_counts(),\n",
    "            text = 'Distribution of target variable' # 마우스를 올렸을 때 나오는 텍스트\n",
    ")]\n",
    "\n",
    "layout = go.Layout(\n",
    "    title=\"Target variable distribution\") # figure 제목\n",
    "\n",
    "fig = go.Figure(data=data, layout=layout)\n",
    "\n",
    "py.iplot(fig, filename='basic-bar')"
   ]
  },
  {
   "cell_type": "markdown",
   "id": "annual-field",
   "metadata": {
    "papermill": {
     "duration": 0.07248,
     "end_time": "2021-04-05T14:59:30.259861",
     "exception": false,
     "start_time": "2021-04-05T14:59:30.187381",
     "status": "completed"
    },
    "tags": []
   },
   "source": [
    "Hmmm, the target variable is rather imbalanced so it might be something to keep in mind. An imbalanced target will prove quite."
   ]
  },
  {
   "cell_type": "markdown",
   "id": "legal-artwork",
   "metadata": {
    "papermill": {
     "duration": 0.074845,
     "end_time": "2021-04-05T14:59:30.407693",
     "exception": false,
     "start_time": "2021-04-05T14:59:30.332848",
     "status": "completed"
    },
    "tags": []
   },
   "source": [
    "1. graph object로 그래프를 지정해준다.\n",
    "2. layout으로 그래프의 제목을 지어준다\n",
    "3. 그래프를 figure에 할당한다\n",
    "4. py.iplot을 이용해 시각화한다."
   ]
  },
  {
   "cell_type": "markdown",
   "id": "frequent-commissioner",
   "metadata": {
    "papermill": {
     "duration": 0.072322,
     "end_time": "2021-04-05T14:59:30.554142",
     "exception": false,
     "start_time": "2021-04-05T14:59:30.481820",
     "status": "completed"
    },
    "tags": []
   },
   "source": [
    "### Datatype check\n",
    "This check is carried out to see what of datatypes the train set is compirsed of :integers or characters or floats just to gain a better overview of the data we were provide with. One trick to obtain counts of the unique types in a python sequence is to use the Counter method, when you import Collections module as follows:\n",
    "\n",
    "\n",
    "### 데이터타입 확인\n",
    "train이 어떤 데이터 타입들로 이루어졌나 확인하기 위함. Collections 모듈의 Counter 메소드로 간단하게 확인(trick)"
   ]
  },
  {
   "cell_type": "code",
   "execution_count": 14,
   "id": "gentle-hunger",
   "metadata": {
    "execution": {
     "iopub.execute_input": "2021-04-05T14:59:30.705562Z",
     "iopub.status.busy": "2021-04-05T14:59:30.704633Z",
     "iopub.status.idle": "2021-04-05T14:59:30.708944Z",
     "shell.execute_reply": "2021-04-05T14:59:30.708315Z"
    },
    "papermill": {
     "duration": 0.082308,
     "end_time": "2021-04-05T14:59:30.709129",
     "exception": false,
     "start_time": "2021-04-05T14:59:30.626821",
     "status": "completed"
    },
    "tags": []
   },
   "outputs": [
    {
     "data": {
      "text/plain": [
       "Counter({dtype('int64'): 49, dtype('float64'): 10})"
      ]
     },
     "execution_count": 14,
     "metadata": {},
     "output_type": "execute_result"
    }
   ],
   "source": [
    "Counter(train.dtypes.values)"
   ]
  },
  {
   "cell_type": "markdown",
   "id": "guided-concern",
   "metadata": {
    "papermill": {
     "duration": 0.073094,
     "end_time": "2021-04-05T14:59:30.854851",
     "exception": false,
     "start_time": "2021-04-05T14:59:30.781757",
     "status": "completed"
    },
    "tags": []
   },
   "source": [
    "As alluded to above, there are a total 59 columns that make up the train dataset and as we can observe from this check, the features/columns consist of only two datatypes - integer and floats.\n",
    "\n",
    "Another point to note is that Porto Seguro has actually provided us data with headers that come suffixed with abbreviations such as \"_bin\", \"_cat\" and \"_reg\", where they have given us a rough explanation that _bin indicates binary features while _cat indicates categorical features whilst the rest are either continuos or odinal features. Here I shall simplify this a bit further just by looking at float values(probably only the continuos features) and integer datatypes (binary, categorical and ordinal features)."
   ]
  },
  {
   "cell_type": "code",
   "execution_count": 15,
   "id": "light-devices",
   "metadata": {
    "execution": {
     "iopub.execute_input": "2021-04-05T14:59:31.088297Z",
     "iopub.status.busy": "2021-04-05T14:59:31.087496Z",
     "iopub.status.idle": "2021-04-05T14:59:31.091260Z",
     "shell.execute_reply": "2021-04-05T14:59:31.090484Z"
    },
    "papermill": {
     "duration": 0.163033,
     "end_time": "2021-04-05T14:59:31.091420",
     "exception": false,
     "start_time": "2021-04-05T14:59:30.928387",
     "status": "completed"
    },
    "tags": []
   },
   "outputs": [],
   "source": [
    "# 칼럼의 자료형이 float64인 것은 train_float, int64인 것은 train_int에 저장\n",
    "train_float = train.select_dtypes(include=['float64'])\n",
    "train_int = train.select_dtypes(include=['int64'])"
   ]
  },
  {
   "cell_type": "code",
   "execution_count": null,
   "id": "closing-chess",
   "metadata": {
    "papermill": {
     "duration": 0.072772,
     "end_time": "2021-04-05T14:59:31.237290",
     "exception": false,
     "start_time": "2021-04-05T14:59:31.164518",
     "status": "completed"
    },
    "tags": []
   },
   "outputs": [],
   "source": []
  },
  {
   "cell_type": "code",
   "execution_count": null,
   "id": "western-amazon",
   "metadata": {
    "papermill": {
     "duration": 0.073065,
     "end_time": "2021-04-05T14:59:31.383617",
     "exception": false,
     "start_time": "2021-04-05T14:59:31.310552",
     "status": "completed"
    },
    "tags": []
   },
   "outputs": [],
   "source": []
  },
  {
   "cell_type": "code",
   "execution_count": null,
   "id": "changed-restriction",
   "metadata": {
    "papermill": {
     "duration": 0.072688,
     "end_time": "2021-04-05T14:59:31.529817",
     "exception": false,
     "start_time": "2021-04-05T14:59:31.457129",
     "status": "completed"
    },
    "tags": []
   },
   "outputs": [],
   "source": []
  },
  {
   "cell_type": "code",
   "execution_count": null,
   "id": "hawaiian-fancy",
   "metadata": {
    "papermill": {
     "duration": 0.072483,
     "end_time": "2021-04-05T14:59:31.677070",
     "exception": false,
     "start_time": "2021-04-05T14:59:31.604587",
     "status": "completed"
    },
    "tags": []
   },
   "outputs": [],
   "source": []
  },
  {
   "cell_type": "code",
   "execution_count": null,
   "id": "round-knight",
   "metadata": {
    "papermill": {
     "duration": 0.072418,
     "end_time": "2021-04-05T14:59:31.822567",
     "exception": false,
     "start_time": "2021-04-05T14:59:31.750149",
     "status": "completed"
    },
    "tags": []
   },
   "outputs": [],
   "source": []
  },
  {
   "cell_type": "code",
   "execution_count": null,
   "id": "sweet-blast",
   "metadata": {
    "papermill": {
     "duration": 0.073437,
     "end_time": "2021-04-05T14:59:31.969109",
     "exception": false,
     "start_time": "2021-04-05T14:59:31.895672",
     "status": "completed"
    },
    "tags": []
   },
   "outputs": [],
   "source": []
  },
  {
   "cell_type": "code",
   "execution_count": null,
   "id": "southwest-traffic",
   "metadata": {
    "papermill": {
     "duration": 0.072531,
     "end_time": "2021-04-05T14:59:32.115793",
     "exception": false,
     "start_time": "2021-04-05T14:59:32.043262",
     "status": "completed"
    },
    "tags": []
   },
   "outputs": [],
   "source": []
  },
  {
   "cell_type": "code",
   "execution_count": null,
   "id": "engaged-continuity",
   "metadata": {
    "papermill": {
     "duration": 0.072638,
     "end_time": "2021-04-05T14:59:32.261502",
     "exception": false,
     "start_time": "2021-04-05T14:59:32.188864",
     "status": "completed"
    },
    "tags": []
   },
   "outputs": [],
   "source": []
  },
  {
   "cell_type": "code",
   "execution_count": null,
   "id": "front-recorder",
   "metadata": {
    "papermill": {
     "duration": 0.073366,
     "end_time": "2021-04-05T14:59:32.407692",
     "exception": false,
     "start_time": "2021-04-05T14:59:32.334326",
     "status": "completed"
    },
    "tags": []
   },
   "outputs": [],
   "source": []
  },
  {
   "cell_type": "code",
   "execution_count": null,
   "id": "promotional-story",
   "metadata": {
    "papermill": {
     "duration": 0.072607,
     "end_time": "2021-04-05T14:59:32.553550",
     "exception": false,
     "start_time": "2021-04-05T14:59:32.480943",
     "status": "completed"
    },
    "tags": []
   },
   "outputs": [],
   "source": []
  },
  {
   "cell_type": "code",
   "execution_count": null,
   "id": "conceptual-retail",
   "metadata": {
    "papermill": {
     "duration": 0.072431,
     "end_time": "2021-04-05T14:59:32.698938",
     "exception": false,
     "start_time": "2021-04-05T14:59:32.626507",
     "status": "completed"
    },
    "tags": []
   },
   "outputs": [],
   "source": []
  },
  {
   "cell_type": "code",
   "execution_count": null,
   "id": "thorough-craps",
   "metadata": {
    "papermill": {
     "duration": 0.072396,
     "end_time": "2021-04-05T14:59:32.844438",
     "exception": false,
     "start_time": "2021-04-05T14:59:32.772042",
     "status": "completed"
    },
    "tags": []
   },
   "outputs": [],
   "source": []
  },
  {
   "cell_type": "code",
   "execution_count": null,
   "id": "rotary-execution",
   "metadata": {
    "papermill": {
     "duration": 0.073258,
     "end_time": "2021-04-05T14:59:32.990963",
     "exception": false,
     "start_time": "2021-04-05T14:59:32.917705",
     "status": "completed"
    },
    "tags": []
   },
   "outputs": [],
   "source": []
  },
  {
   "cell_type": "code",
   "execution_count": null,
   "id": "peaceful-copyright",
   "metadata": {
    "papermill": {
     "duration": 0.073108,
     "end_time": "2021-04-05T14:59:33.136883",
     "exception": false,
     "start_time": "2021-04-05T14:59:33.063775",
     "status": "completed"
    },
    "tags": []
   },
   "outputs": [],
   "source": []
  },
  {
   "cell_type": "code",
   "execution_count": null,
   "id": "indoor-entry",
   "metadata": {
    "papermill": {
     "duration": 0.072629,
     "end_time": "2021-04-05T14:59:33.282809",
     "exception": false,
     "start_time": "2021-04-05T14:59:33.210180",
     "status": "completed"
    },
    "tags": []
   },
   "outputs": [],
   "source": []
  },
  {
   "cell_type": "code",
   "execution_count": null,
   "id": "pregnant-migration",
   "metadata": {
    "papermill": {
     "duration": 0.073447,
     "end_time": "2021-04-05T14:59:33.429351",
     "exception": false,
     "start_time": "2021-04-05T14:59:33.355904",
     "status": "completed"
    },
    "tags": []
   },
   "outputs": [],
   "source": []
  },
  {
   "cell_type": "code",
   "execution_count": null,
   "id": "departmental-principle",
   "metadata": {
    "papermill": {
     "duration": 0.073281,
     "end_time": "2021-04-05T14:59:33.576094",
     "exception": false,
     "start_time": "2021-04-05T14:59:33.502813",
     "status": "completed"
    },
    "tags": []
   },
   "outputs": [],
   "source": []
  },
  {
   "cell_type": "code",
   "execution_count": null,
   "id": "handled-meter",
   "metadata": {
    "papermill": {
     "duration": 0.072953,
     "end_time": "2021-04-05T14:59:33.721872",
     "exception": false,
     "start_time": "2021-04-05T14:59:33.648919",
     "status": "completed"
    },
    "tags": []
   },
   "outputs": [],
   "source": []
  },
  {
   "cell_type": "code",
   "execution_count": null,
   "id": "spiritual-chaos",
   "metadata": {
    "papermill": {
     "duration": 0.072523,
     "end_time": "2021-04-05T14:59:33.867280",
     "exception": false,
     "start_time": "2021-04-05T14:59:33.794757",
     "status": "completed"
    },
    "tags": []
   },
   "outputs": [],
   "source": []
  },
  {
   "cell_type": "code",
   "execution_count": null,
   "id": "monetary-appreciation",
   "metadata": {
    "papermill": {
     "duration": 0.073419,
     "end_time": "2021-04-05T14:59:34.014035",
     "exception": false,
     "start_time": "2021-04-05T14:59:33.940616",
     "status": "completed"
    },
    "tags": []
   },
   "outputs": [],
   "source": []
  },
  {
   "cell_type": "code",
   "execution_count": null,
   "id": "sixth-hollywood",
   "metadata": {
    "papermill": {
     "duration": 0.072871,
     "end_time": "2021-04-05T14:59:34.159941",
     "exception": false,
     "start_time": "2021-04-05T14:59:34.087070",
     "status": "completed"
    },
    "tags": []
   },
   "outputs": [],
   "source": []
  },
  {
   "cell_type": "code",
   "execution_count": null,
   "id": "serious-verse",
   "metadata": {
    "papermill": {
     "duration": 0.072479,
     "end_time": "2021-04-05T14:59:34.305276",
     "exception": false,
     "start_time": "2021-04-05T14:59:34.232797",
     "status": "completed"
    },
    "tags": []
   },
   "outputs": [],
   "source": []
  },
  {
   "cell_type": "code",
   "execution_count": null,
   "id": "thirty-burden",
   "metadata": {
    "papermill": {
     "duration": 0.075023,
     "end_time": "2021-04-05T14:59:34.453282",
     "exception": false,
     "start_time": "2021-04-05T14:59:34.378259",
     "status": "completed"
    },
    "tags": []
   },
   "outputs": [],
   "source": []
  },
  {
   "cell_type": "code",
   "execution_count": null,
   "id": "confirmed-membership",
   "metadata": {
    "papermill": {
     "duration": 0.072324,
     "end_time": "2021-04-05T14:59:34.598783",
     "exception": false,
     "start_time": "2021-04-05T14:59:34.526459",
     "status": "completed"
    },
    "tags": []
   },
   "outputs": [],
   "source": []
  },
  {
   "cell_type": "code",
   "execution_count": null,
   "id": "fatal-locking",
   "metadata": {
    "papermill": {
     "duration": 0.072367,
     "end_time": "2021-04-05T14:59:34.743343",
     "exception": false,
     "start_time": "2021-04-05T14:59:34.670976",
     "status": "completed"
    },
    "tags": []
   },
   "outputs": [],
   "source": []
  },
  {
   "cell_type": "code",
   "execution_count": null,
   "id": "scheduled-booking",
   "metadata": {
    "papermill": {
     "duration": 0.072452,
     "end_time": "2021-04-05T14:59:34.888337",
     "exception": false,
     "start_time": "2021-04-05T14:59:34.815885",
     "status": "completed"
    },
    "tags": []
   },
   "outputs": [],
   "source": []
  },
  {
   "cell_type": "code",
   "execution_count": null,
   "id": "victorian-poison",
   "metadata": {
    "papermill": {
     "duration": 0.0726,
     "end_time": "2021-04-05T14:59:35.033848",
     "exception": false,
     "start_time": "2021-04-05T14:59:34.961248",
     "status": "completed"
    },
    "tags": []
   },
   "outputs": [],
   "source": []
  },
  {
   "cell_type": "code",
   "execution_count": null,
   "id": "fitting-scottish",
   "metadata": {
    "papermill": {
     "duration": 0.072572,
     "end_time": "2021-04-05T14:59:35.179577",
     "exception": false,
     "start_time": "2021-04-05T14:59:35.107005",
     "status": "completed"
    },
    "tags": []
   },
   "outputs": [],
   "source": []
  },
  {
   "cell_type": "code",
   "execution_count": null,
   "id": "outer-iceland",
   "metadata": {
    "papermill": {
     "duration": 0.072579,
     "end_time": "2021-04-05T14:59:35.324621",
     "exception": false,
     "start_time": "2021-04-05T14:59:35.252042",
     "status": "completed"
    },
    "tags": []
   },
   "outputs": [],
   "source": []
  },
  {
   "cell_type": "code",
   "execution_count": null,
   "id": "educational-consistency",
   "metadata": {
    "papermill": {
     "duration": 0.106066,
     "end_time": "2021-04-05T14:59:35.503985",
     "exception": false,
     "start_time": "2021-04-05T14:59:35.397919",
     "status": "completed"
    },
    "tags": []
   },
   "outputs": [],
   "source": []
  },
  {
   "cell_type": "code",
   "execution_count": null,
   "id": "vietnamese-identification",
   "metadata": {
    "papermill": {
     "duration": 0.073585,
     "end_time": "2021-04-05T14:59:35.668005",
     "exception": false,
     "start_time": "2021-04-05T14:59:35.594420",
     "status": "completed"
    },
    "tags": []
   },
   "outputs": [],
   "source": []
  },
  {
   "cell_type": "code",
   "execution_count": null,
   "id": "valuable-toilet",
   "metadata": {
    "papermill": {
     "duration": 0.075404,
     "end_time": "2021-04-05T14:59:35.816976",
     "exception": false,
     "start_time": "2021-04-05T14:59:35.741572",
     "status": "completed"
    },
    "tags": []
   },
   "outputs": [],
   "source": []
  },
  {
   "cell_type": "code",
   "execution_count": null,
   "id": "senior-treatment",
   "metadata": {
    "papermill": {
     "duration": 0.076218,
     "end_time": "2021-04-05T14:59:35.968734",
     "exception": false,
     "start_time": "2021-04-05T14:59:35.892516",
     "status": "completed"
    },
    "tags": []
   },
   "outputs": [],
   "source": []
  },
  {
   "cell_type": "code",
   "execution_count": null,
   "id": "another-raleigh",
   "metadata": {
    "papermill": {
     "duration": 0.074716,
     "end_time": "2021-04-05T14:59:36.118690",
     "exception": false,
     "start_time": "2021-04-05T14:59:36.043974",
     "status": "completed"
    },
    "tags": []
   },
   "outputs": [],
   "source": []
  },
  {
   "cell_type": "code",
   "execution_count": null,
   "id": "several-dryer",
   "metadata": {
    "papermill": {
     "duration": 0.075823,
     "end_time": "2021-04-05T14:59:36.271289",
     "exception": false,
     "start_time": "2021-04-05T14:59:36.195466",
     "status": "completed"
    },
    "tags": []
   },
   "outputs": [],
   "source": []
  },
  {
   "cell_type": "code",
   "execution_count": null,
   "id": "victorian-military",
   "metadata": {
    "papermill": {
     "duration": 0.075123,
     "end_time": "2021-04-05T14:59:36.420366",
     "exception": false,
     "start_time": "2021-04-05T14:59:36.345243",
     "status": "completed"
    },
    "tags": []
   },
   "outputs": [],
   "source": []
  },
  {
   "cell_type": "code",
   "execution_count": null,
   "id": "circular-attention",
   "metadata": {
    "papermill": {
     "duration": 0.073449,
     "end_time": "2021-04-05T14:59:36.569385",
     "exception": false,
     "start_time": "2021-04-05T14:59:36.495936",
     "status": "completed"
    },
    "tags": []
   },
   "outputs": [],
   "source": []
  },
  {
   "cell_type": "code",
   "execution_count": null,
   "id": "future-engine",
   "metadata": {
    "papermill": {
     "duration": 0.074867,
     "end_time": "2021-04-05T14:59:36.719663",
     "exception": false,
     "start_time": "2021-04-05T14:59:36.644796",
     "status": "completed"
    },
    "tags": []
   },
   "outputs": [],
   "source": []
  },
  {
   "cell_type": "code",
   "execution_count": null,
   "id": "featured-syndication",
   "metadata": {
    "papermill": {
     "duration": 0.074098,
     "end_time": "2021-04-05T14:59:36.867727",
     "exception": false,
     "start_time": "2021-04-05T14:59:36.793629",
     "status": "completed"
    },
    "tags": []
   },
   "outputs": [],
   "source": []
  },
  {
   "cell_type": "code",
   "execution_count": null,
   "id": "renewable-quarter",
   "metadata": {
    "papermill": {
     "duration": 0.076452,
     "end_time": "2021-04-05T14:59:37.018343",
     "exception": false,
     "start_time": "2021-04-05T14:59:36.941891",
     "status": "completed"
    },
    "tags": []
   },
   "outputs": [],
   "source": []
  },
  {
   "cell_type": "code",
   "execution_count": null,
   "id": "valid-economy",
   "metadata": {
    "papermill": {
     "duration": 0.074916,
     "end_time": "2021-04-05T14:59:37.168932",
     "exception": false,
     "start_time": "2021-04-05T14:59:37.094016",
     "status": "completed"
    },
    "tags": []
   },
   "outputs": [],
   "source": []
  },
  {
   "cell_type": "code",
   "execution_count": null,
   "id": "according-multimedia",
   "metadata": {
    "papermill": {
     "duration": 0.074789,
     "end_time": "2021-04-05T14:59:37.318538",
     "exception": false,
     "start_time": "2021-04-05T14:59:37.243749",
     "status": "completed"
    },
    "tags": []
   },
   "outputs": [],
   "source": []
  },
  {
   "cell_type": "code",
   "execution_count": null,
   "id": "useful-genius",
   "metadata": {
    "papermill": {
     "duration": 0.076342,
     "end_time": "2021-04-05T14:59:37.470122",
     "exception": false,
     "start_time": "2021-04-05T14:59:37.393780",
     "status": "completed"
    },
    "tags": []
   },
   "outputs": [],
   "source": []
  },
  {
   "cell_type": "code",
   "execution_count": null,
   "id": "impressed-reply",
   "metadata": {
    "papermill": {
     "duration": 0.074953,
     "end_time": "2021-04-05T14:59:37.620709",
     "exception": false,
     "start_time": "2021-04-05T14:59:37.545756",
     "status": "completed"
    },
    "tags": []
   },
   "outputs": [],
   "source": []
  },
  {
   "cell_type": "code",
   "execution_count": null,
   "id": "pharmaceutical-spell",
   "metadata": {
    "papermill": {
     "duration": 0.075599,
     "end_time": "2021-04-05T14:59:37.771471",
     "exception": false,
     "start_time": "2021-04-05T14:59:37.695872",
     "status": "completed"
    },
    "tags": []
   },
   "outputs": [],
   "source": []
  },
  {
   "cell_type": "code",
   "execution_count": null,
   "id": "mounted-bidder",
   "metadata": {
    "papermill": {
     "duration": 0.075273,
     "end_time": "2021-04-05T14:59:37.923767",
     "exception": false,
     "start_time": "2021-04-05T14:59:37.848494",
     "status": "completed"
    },
    "tags": []
   },
   "outputs": [],
   "source": []
  },
  {
   "cell_type": "code",
   "execution_count": null,
   "id": "palestinian-addition",
   "metadata": {
    "papermill": {
     "duration": 0.075266,
     "end_time": "2021-04-05T14:59:38.073224",
     "exception": false,
     "start_time": "2021-04-05T14:59:37.997958",
     "status": "completed"
    },
    "tags": []
   },
   "outputs": [],
   "source": []
  },
  {
   "cell_type": "code",
   "execution_count": null,
   "id": "cooked-paste",
   "metadata": {
    "papermill": {
     "duration": 0.073975,
     "end_time": "2021-04-05T14:59:38.222257",
     "exception": false,
     "start_time": "2021-04-05T14:59:38.148282",
     "status": "completed"
    },
    "tags": []
   },
   "outputs": [],
   "source": []
  },
  {
   "cell_type": "code",
   "execution_count": null,
   "id": "whole-brunswick",
   "metadata": {
    "papermill": {
     "duration": 0.074461,
     "end_time": "2021-04-05T14:59:38.371583",
     "exception": false,
     "start_time": "2021-04-05T14:59:38.297122",
     "status": "completed"
    },
    "tags": []
   },
   "outputs": [],
   "source": []
  },
  {
   "cell_type": "code",
   "execution_count": null,
   "id": "satellite-equipment",
   "metadata": {
    "papermill": {
     "duration": 0.074992,
     "end_time": "2021-04-05T14:59:38.522518",
     "exception": false,
     "start_time": "2021-04-05T14:59:38.447526",
     "status": "completed"
    },
    "tags": []
   },
   "outputs": [],
   "source": []
  },
  {
   "cell_type": "code",
   "execution_count": null,
   "id": "lightweight-thirty",
   "metadata": {
    "papermill": {
     "duration": 0.07483,
     "end_time": "2021-04-05T14:59:38.672755",
     "exception": false,
     "start_time": "2021-04-05T14:59:38.597925",
     "status": "completed"
    },
    "tags": []
   },
   "outputs": [],
   "source": []
  },
  {
   "cell_type": "code",
   "execution_count": null,
   "id": "possible-village",
   "metadata": {
    "papermill": {
     "duration": 0.07476,
     "end_time": "2021-04-05T14:59:38.822599",
     "exception": false,
     "start_time": "2021-04-05T14:59:38.747839",
     "status": "completed"
    },
    "tags": []
   },
   "outputs": [],
   "source": []
  },
  {
   "cell_type": "code",
   "execution_count": null,
   "id": "desperate-determination",
   "metadata": {
    "papermill": {
     "duration": 0.074732,
     "end_time": "2021-04-05T14:59:38.972625",
     "exception": false,
     "start_time": "2021-04-05T14:59:38.897893",
     "status": "completed"
    },
    "tags": []
   },
   "outputs": [],
   "source": []
  },
  {
   "cell_type": "code",
   "execution_count": null,
   "id": "identified-pixel",
   "metadata": {
    "papermill": {
     "duration": 0.074337,
     "end_time": "2021-04-05T14:59:39.121027",
     "exception": false,
     "start_time": "2021-04-05T14:59:39.046690",
     "status": "completed"
    },
    "tags": []
   },
   "outputs": [],
   "source": []
  },
  {
   "cell_type": "code",
   "execution_count": null,
   "id": "harmful-geology",
   "metadata": {
    "papermill": {
     "duration": 0.073826,
     "end_time": "2021-04-05T14:59:39.269889",
     "exception": false,
     "start_time": "2021-04-05T14:59:39.196063",
     "status": "completed"
    },
    "tags": []
   },
   "outputs": [],
   "source": []
  },
  {
   "cell_type": "code",
   "execution_count": null,
   "id": "changing-devon",
   "metadata": {
    "papermill": {
     "duration": 0.076522,
     "end_time": "2021-04-05T14:59:39.423389",
     "exception": false,
     "start_time": "2021-04-05T14:59:39.346867",
     "status": "completed"
    },
    "tags": []
   },
   "outputs": [],
   "source": []
  },
  {
   "cell_type": "code",
   "execution_count": null,
   "id": "worse-floating",
   "metadata": {
    "papermill": {
     "duration": 0.076131,
     "end_time": "2021-04-05T14:59:39.577503",
     "exception": false,
     "start_time": "2021-04-05T14:59:39.501372",
     "status": "completed"
    },
    "tags": []
   },
   "outputs": [],
   "source": []
  },
  {
   "cell_type": "code",
   "execution_count": null,
   "id": "varying-express",
   "metadata": {
    "papermill": {
     "duration": 0.075198,
     "end_time": "2021-04-05T14:59:39.727892",
     "exception": false,
     "start_time": "2021-04-05T14:59:39.652694",
     "status": "completed"
    },
    "tags": []
   },
   "outputs": [],
   "source": []
  },
  {
   "cell_type": "code",
   "execution_count": null,
   "id": "friendly-maximum",
   "metadata": {
    "papermill": {
     "duration": 0.074952,
     "end_time": "2021-04-05T14:59:39.878580",
     "exception": false,
     "start_time": "2021-04-05T14:59:39.803628",
     "status": "completed"
    },
    "tags": []
   },
   "outputs": [],
   "source": []
  },
  {
   "cell_type": "code",
   "execution_count": null,
   "id": "protective-contract",
   "metadata": {
    "papermill": {
     "duration": 0.077314,
     "end_time": "2021-04-05T14:59:40.031782",
     "exception": false,
     "start_time": "2021-04-05T14:59:39.954468",
     "status": "completed"
    },
    "tags": []
   },
   "outputs": [],
   "source": []
  },
  {
   "cell_type": "code",
   "execution_count": null,
   "id": "faced-style",
   "metadata": {
    "papermill": {
     "duration": 0.076343,
     "end_time": "2021-04-05T14:59:40.183519",
     "exception": false,
     "start_time": "2021-04-05T14:59:40.107176",
     "status": "completed"
    },
    "tags": []
   },
   "outputs": [],
   "source": []
  },
  {
   "cell_type": "code",
   "execution_count": null,
   "id": "incorrect-trustee",
   "metadata": {
    "papermill": {
     "duration": 0.07461,
     "end_time": "2021-04-05T14:59:40.333560",
     "exception": false,
     "start_time": "2021-04-05T14:59:40.258950",
     "status": "completed"
    },
    "tags": []
   },
   "outputs": [],
   "source": []
  },
  {
   "cell_type": "code",
   "execution_count": null,
   "id": "apparent-armenia",
   "metadata": {
    "papermill": {
     "duration": 0.075012,
     "end_time": "2021-04-05T14:59:40.486842",
     "exception": false,
     "start_time": "2021-04-05T14:59:40.411830",
     "status": "completed"
    },
    "tags": []
   },
   "outputs": [],
   "source": []
  },
  {
   "cell_type": "code",
   "execution_count": null,
   "id": "together-vertical",
   "metadata": {
    "papermill": {
     "duration": 0.075129,
     "end_time": "2021-04-05T14:59:40.637279",
     "exception": false,
     "start_time": "2021-04-05T14:59:40.562150",
     "status": "completed"
    },
    "tags": []
   },
   "outputs": [],
   "source": []
  },
  {
   "cell_type": "code",
   "execution_count": null,
   "id": "every-civilization",
   "metadata": {
    "papermill": {
     "duration": 0.124739,
     "end_time": "2021-04-05T14:59:40.837557",
     "exception": false,
     "start_time": "2021-04-05T14:59:40.712818",
     "status": "completed"
    },
    "tags": []
   },
   "outputs": [],
   "source": []
  },
  {
   "cell_type": "code",
   "execution_count": null,
   "id": "liberal-observer",
   "metadata": {
    "papermill": {
     "duration": 0.075071,
     "end_time": "2021-04-05T14:59:40.988007",
     "exception": false,
     "start_time": "2021-04-05T14:59:40.912936",
     "status": "completed"
    },
    "tags": []
   },
   "outputs": [],
   "source": []
  },
  {
   "cell_type": "code",
   "execution_count": null,
   "id": "emotional-bleeding",
   "metadata": {
    "papermill": {
     "duration": 0.076319,
     "end_time": "2021-04-05T14:59:41.140329",
     "exception": false,
     "start_time": "2021-04-05T14:59:41.064010",
     "status": "completed"
    },
    "tags": []
   },
   "outputs": [],
   "source": []
  },
  {
   "cell_type": "code",
   "execution_count": null,
   "id": "republican-phoenix",
   "metadata": {
    "papermill": {
     "duration": 0.075447,
     "end_time": "2021-04-05T14:59:41.291882",
     "exception": false,
     "start_time": "2021-04-05T14:59:41.216435",
     "status": "completed"
    },
    "tags": []
   },
   "outputs": [],
   "source": []
  },
  {
   "cell_type": "code",
   "execution_count": null,
   "id": "therapeutic-journalism",
   "metadata": {
    "papermill": {
     "duration": 0.074593,
     "end_time": "2021-04-05T14:59:41.442105",
     "exception": false,
     "start_time": "2021-04-05T14:59:41.367512",
     "status": "completed"
    },
    "tags": []
   },
   "outputs": [],
   "source": []
  },
  {
   "cell_type": "code",
   "execution_count": null,
   "id": "ongoing-business",
   "metadata": {
    "papermill": {
     "duration": 0.076494,
     "end_time": "2021-04-05T14:59:41.595567",
     "exception": false,
     "start_time": "2021-04-05T14:59:41.519073",
     "status": "completed"
    },
    "tags": []
   },
   "outputs": [],
   "source": []
  }
 ],
 "metadata": {
  "kernelspec": {
   "display_name": "Python 3",
   "language": "python",
   "name": "python3"
  },
  "language_info": {
   "codemirror_mode": {
    "name": "ipython",
    "version": 3
   },
   "file_extension": ".py",
   "mimetype": "text/x-python",
   "name": "python",
   "nbconvert_exporter": "python",
   "pygments_lexer": "ipython3",
   "version": "3.7.6"
  },
  "papermill": {
   "default_parameters": {},
   "duration": 49.980672,
   "end_time": "2021-04-05T14:59:42.380045",
   "environment_variables": {},
   "exception": null,
   "input_path": "__notebook__.ipynb",
   "output_path": "__notebook__.ipynb",
   "parameters": {},
   "start_time": "2021-04-05T14:58:52.399373",
   "version": "2.3.2"
  }
 },
 "nbformat": 4,
 "nbformat_minor": 5
}
