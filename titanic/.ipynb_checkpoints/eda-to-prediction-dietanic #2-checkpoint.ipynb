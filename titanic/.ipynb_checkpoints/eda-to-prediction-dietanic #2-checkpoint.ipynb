{
 "cells": [
  {
   "cell_type": "markdown",
   "metadata": {},
   "source": [
    "<a href=\"https://www.kaggle.com/ash316/eda-to-prediction-dietanic\">원본</a>"
   ]
  },
  {
   "cell_type": "markdown",
   "metadata": {},
   "source": [
    "## Contents of the Notebook:\n",
    "\n",
    "### Part1: Exploratory Data Analysis\n",
    "1) Analysis of the features.\n",
    "\n",
    "2) Finding any relations or trends considering multiple features.\n",
    "\n",
    "### Part2: Feature Engineering and Data Cleaning\n",
    "1) Adding any few features.\n",
    "\n",
    "2) Removing redundant features.\n",
    "\n",
    "3) Converting features into suitable from for modeling.\n",
    "\n",
    "### Part3: Predictive Modeling\n",
    "1) Running Basic Algorithms.\n",
    "\n",
    "2) Cross Valdation\n",
    "\n",
    "3) Ensembling\n",
    "\n",
    "4) Important Features Extraction"
   ]
  },
  {
   "cell_type": "markdown",
   "metadata": {},
   "source": [
    "# Part1: Exploratory Data Analysis(EDA)"
   ]
  },
  {
   "cell_type": "code",
   "execution_count": 2,
   "metadata": {},
   "outputs": [],
   "source": [
    "import numpy as np\n",
    "import pandas as pd\n",
    "import matplotlib.pyplot as plt\n",
    "import seaborn as sns\n",
    "plt.style.use('fivethirtyeight')\n",
    "import warnings\n",
    "warnings.filterwarnings('ignore')\n",
    "%matplotlib inline"
   ]
  },
  {
   "cell_type": "code",
   "execution_count": 3,
   "metadata": {},
   "outputs": [
    {
     "data": {
      "text/html": [
       "<div>\n",
       "<style scoped>\n",
       "    .dataframe tbody tr th:only-of-type {\n",
       "        vertical-align: middle;\n",
       "    }\n",
       "\n",
       "    .dataframe tbody tr th {\n",
       "        vertical-align: top;\n",
       "    }\n",
       "\n",
       "    .dataframe thead th {\n",
       "        text-align: right;\n",
       "    }\n",
       "</style>\n",
       "<table border=\"1\" class=\"dataframe\">\n",
       "  <thead>\n",
       "    <tr style=\"text-align: right;\">\n",
       "      <th></th>\n",
       "      <th>PassengerId</th>\n",
       "      <th>Survived</th>\n",
       "      <th>Pclass</th>\n",
       "      <th>Name</th>\n",
       "      <th>Sex</th>\n",
       "      <th>Age</th>\n",
       "      <th>SibSp</th>\n",
       "      <th>Parch</th>\n",
       "      <th>Ticket</th>\n",
       "      <th>Fare</th>\n",
       "      <th>Cabin</th>\n",
       "      <th>Embarked</th>\n",
       "    </tr>\n",
       "  </thead>\n",
       "  <tbody>\n",
       "    <tr>\n",
       "      <th>0</th>\n",
       "      <td>1</td>\n",
       "      <td>0</td>\n",
       "      <td>3</td>\n",
       "      <td>Braund, Mr. Owen Harris</td>\n",
       "      <td>male</td>\n",
       "      <td>22.0</td>\n",
       "      <td>1</td>\n",
       "      <td>0</td>\n",
       "      <td>A/5 21171</td>\n",
       "      <td>7.2500</td>\n",
       "      <td>NaN</td>\n",
       "      <td>S</td>\n",
       "    </tr>\n",
       "    <tr>\n",
       "      <th>1</th>\n",
       "      <td>2</td>\n",
       "      <td>1</td>\n",
       "      <td>1</td>\n",
       "      <td>Cumings, Mrs. John Bradley (Florence Briggs Th...</td>\n",
       "      <td>female</td>\n",
       "      <td>38.0</td>\n",
       "      <td>1</td>\n",
       "      <td>0</td>\n",
       "      <td>PC 17599</td>\n",
       "      <td>71.2833</td>\n",
       "      <td>C85</td>\n",
       "      <td>C</td>\n",
       "    </tr>\n",
       "    <tr>\n",
       "      <th>2</th>\n",
       "      <td>3</td>\n",
       "      <td>1</td>\n",
       "      <td>3</td>\n",
       "      <td>Heikkinen, Miss. Laina</td>\n",
       "      <td>female</td>\n",
       "      <td>26.0</td>\n",
       "      <td>0</td>\n",
       "      <td>0</td>\n",
       "      <td>STON/O2. 3101282</td>\n",
       "      <td>7.9250</td>\n",
       "      <td>NaN</td>\n",
       "      <td>S</td>\n",
       "    </tr>\n",
       "    <tr>\n",
       "      <th>3</th>\n",
       "      <td>4</td>\n",
       "      <td>1</td>\n",
       "      <td>1</td>\n",
       "      <td>Futrelle, Mrs. Jacques Heath (Lily May Peel)</td>\n",
       "      <td>female</td>\n",
       "      <td>35.0</td>\n",
       "      <td>1</td>\n",
       "      <td>0</td>\n",
       "      <td>113803</td>\n",
       "      <td>53.1000</td>\n",
       "      <td>C123</td>\n",
       "      <td>S</td>\n",
       "    </tr>\n",
       "    <tr>\n",
       "      <th>4</th>\n",
       "      <td>5</td>\n",
       "      <td>0</td>\n",
       "      <td>3</td>\n",
       "      <td>Allen, Mr. William Henry</td>\n",
       "      <td>male</td>\n",
       "      <td>35.0</td>\n",
       "      <td>0</td>\n",
       "      <td>0</td>\n",
       "      <td>373450</td>\n",
       "      <td>8.0500</td>\n",
       "      <td>NaN</td>\n",
       "      <td>S</td>\n",
       "    </tr>\n",
       "  </tbody>\n",
       "</table>\n",
       "</div>"
      ],
      "text/plain": [
       "   PassengerId  Survived  Pclass  \\\n",
       "0            1         0       3   \n",
       "1            2         1       1   \n",
       "2            3         1       3   \n",
       "3            4         1       1   \n",
       "4            5         0       3   \n",
       "\n",
       "                                                Name     Sex   Age  SibSp  \\\n",
       "0                            Braund, Mr. Owen Harris    male  22.0      1   \n",
       "1  Cumings, Mrs. John Bradley (Florence Briggs Th...  female  38.0      1   \n",
       "2                             Heikkinen, Miss. Laina  female  26.0      0   \n",
       "3       Futrelle, Mrs. Jacques Heath (Lily May Peel)  female  35.0      1   \n",
       "4                           Allen, Mr. William Henry    male  35.0      0   \n",
       "\n",
       "   Parch            Ticket     Fare Cabin Embarked  \n",
       "0      0         A/5 21171   7.2500   NaN        S  \n",
       "1      0          PC 17599  71.2833   C85        C  \n",
       "2      0  STON/O2. 3101282   7.9250   NaN        S  \n",
       "3      0            113803  53.1000  C123        S  \n",
       "4      0            373450   8.0500   NaN        S  "
      ]
     },
     "execution_count": 3,
     "metadata": {},
     "output_type": "execute_result"
    }
   ],
   "source": [
    "data = pd.read_csv('train.csv')\n",
    "data.head()"
   ]
  },
  {
   "cell_type": "code",
   "execution_count": 4,
   "metadata": {},
   "outputs": [
    {
     "data": {
      "text/plain": [
       "PassengerId      0\n",
       "Survived         0\n",
       "Pclass           0\n",
       "Name             0\n",
       "Sex              0\n",
       "Age            177\n",
       "SibSp            0\n",
       "Parch            0\n",
       "Ticket           0\n",
       "Fare             0\n",
       "Cabin          687\n",
       "Embarked         2\n",
       "dtype: int64"
      ]
     },
     "execution_count": 4,
     "metadata": {},
     "output_type": "execute_result"
    }
   ],
   "source": [
    "data.isnull().sum()"
   ]
  },
  {
   "cell_type": "markdown",
   "metadata": {},
   "source": [
    "The **Age, Cabin and Embarked** haver null values. I will try to fit them."
   ]
  },
  {
   "cell_type": "markdown",
   "metadata": {},
   "source": [
    "### How many survived?"
   ]
  },
  {
   "cell_type": "code",
   "execution_count": 5,
   "metadata": {},
   "outputs": [
    {
     "data": {
      "image/png": "[encoded data removed]",
      "text/plain": [
       "<Figure size 1296x576 with 2 Axes>"
      ]
     },
     "metadata": {
      "needs_background": "light"
     },
     "output_type": "display_data"
    }
   ],
   "source": [
    "f,ax = plt.subplots(1,2,figsize=(18,8))\n",
    "data['Survived'].value_counts().plot.pie(explode=[0,0.1],autopct='%1.1f%%',ax=ax[0],shadow=True)\n",
    "ax[0].set_title('Survived')\n",
    "ax[0].set_ylabel('')\n",
    "sns.countplot('Survived',data=data, ax=ax[1])\n",
    "ax[1].set_title('Survived')\n",
    "plt.show()"
   ]
  },
  {
   "cell_type": "markdown",
   "metadata": {},
   "source": [
    "It is evident that not many passengers survived the accident.\n",
    "Out of 891 passengers in training set, only around 350 survived i.e Only **38.4%** of the total training set survived the crash. We need to dig down more to get better insights from the data and see which categories of the passengers did survived and who didn't.\n",
    "\n",
    "We will try to check the survival rate by using the different features of the dataset. Some of the features being Sex, Port of Embarcation, Age, ect.\n",
    "\n",
    "First let us understand the different types of features."
   ]
  },
  {
   "cell_type": "markdown",
   "metadata": {},
   "source": [
    "## Types of features\n",
    "\n",
    "### Categorical Features\n",
    "A categorical variable is one that has two or more categories and each values in that feature can be cateogrized by them. For example, gender is a categorical variable having two categories (male and female). Now we cannot sort or give any odering to such variables. They are also known as Nominal Variables.\n",
    "\n",
    "Categorical faetures in the dataset: Sex, Embarked\n",
    "\n",
    "### Ordinal Features\n",
    "An ordinal variable is similar to categorical values, but the difference between them is that we can have relative ordering or sorting between the values. For eg: If we have a feature like Height with value Tall, Medium, Short, then Height is a ordinal variable. Here we can have a relative sort in the variable.\n",
    "\n",
    "Ordinal Features in the dataset: PClass\n",
    "\n",
    "### Continuos Feature:\n",
    "A feature is said to be continuos if it can take values between any two points or between the minimum or maximum values in the features column.\n",
    "\n",
    "Continuos Features in the dataset: Age"
   ]
  },
  {
   "cell_type": "markdown",
   "metadata": {},
   "source": [
    "## Analysing the features\n",
    "\n",
    "## Sex -> Categorical Feature\n"
   ]
  },
  {
   "cell_type": "code",
   "execution_count": 15,
   "metadata": {},
   "outputs": [
    {
     "data": {
      "text/html": [
       "<style  type=\"text/css\" >\n",
       "    #T_636d7922_0ae4_11eb_9aca_00d8619dd5d4row0_col0 {\n",
       "            background-color:  #ffff66;\n",
       "            color:  #000000;\n",
       "        }    #T_636d7922_0ae4_11eb_9aca_00d8619dd5d4row0_col1 {\n",
       "            background-color:  #77bb66;\n",
       "            color:  #000000;\n",
       "        }    #T_636d7922_0ae4_11eb_9aca_00d8619dd5d4row0_col2 {\n",
       "            background-color:  #ffff66;\n",
       "            color:  #000000;\n",
       "        }    #T_636d7922_0ae4_11eb_9aca_00d8619dd5d4row1_col0 {\n",
       "            background-color:  #2c9666;\n",
       "            color:  #000000;\n",
       "        }    #T_636d7922_0ae4_11eb_9aca_00d8619dd5d4row1_col1 {\n",
       "            background-color:  #ffff66;\n",
       "            color:  #000000;\n",
       "        }    #T_636d7922_0ae4_11eb_9aca_00d8619dd5d4row1_col2 {\n",
       "            background-color:  #8bc566;\n",
       "            color:  #000000;\n",
       "        }    #T_636d7922_0ae4_11eb_9aca_00d8619dd5d4row2_col0 {\n",
       "            background-color:  #008066;\n",
       "            color:  #f1f1f1;\n",
       "        }    #T_636d7922_0ae4_11eb_9aca_00d8619dd5d4row2_col1 {\n",
       "            background-color:  #008066;\n",
       "            color:  #f1f1f1;\n",
       "        }    #T_636d7922_0ae4_11eb_9aca_00d8619dd5d4row2_col2 {\n",
       "            background-color:  #008066;\n",
       "            color:  #f1f1f1;\n",
       "        }</style><table id=\"T_636d7922_0ae4_11eb_9aca_00d8619dd5d4\" ><thead>    <tr>        <th class=\"index_name level0\" >Survived</th>        <th class=\"col_heading level0 col0\" >0</th>        <th class=\"col_heading level0 col1\" >1</th>        <th class=\"col_heading level0 col2\" >All</th>    </tr>    <tr>        <th class=\"index_name level0\" >Sex</th>        <th class=\"blank\" ></th>        <th class=\"blank\" ></th>        <th class=\"blank\" ></th>    </tr></thead><tbody>\n",
       "                <tr>\n",
       "                        <th id=\"T_636d7922_0ae4_11eb_9aca_00d8619dd5d4level0_row0\" class=\"row_heading level0 row0\" >female</th>\n",
       "                        <td id=\"T_636d7922_0ae4_11eb_9aca_00d8619dd5d4row0_col0\" class=\"data row0 col0\" >81</td>\n",
       "                        <td id=\"T_636d7922_0ae4_11eb_9aca_00d8619dd5d4row0_col1\" class=\"data row0 col1\" >233</td>\n",
       "                        <td id=\"T_636d7922_0ae4_11eb_9aca_00d8619dd5d4row0_col2\" class=\"data row0 col2\" >314</td>\n",
       "            </tr>\n",
       "            <tr>\n",
       "                        <th id=\"T_636d7922_0ae4_11eb_9aca_00d8619dd5d4level0_row1\" class=\"row_heading level0 row1\" >male</th>\n",
       "                        <td id=\"T_636d7922_0ae4_11eb_9aca_00d8619dd5d4row1_col0\" class=\"data row1 col0\" >468</td>\n",
       "                        <td id=\"T_636d7922_0ae4_11eb_9aca_00d8619dd5d4row1_col1\" class=\"data row1 col1\" >109</td>\n",
       "                        <td id=\"T_636d7922_0ae4_11eb_9aca_00d8619dd5d4row1_col2\" class=\"data row1 col2\" >577</td>\n",
       "            </tr>\n",
       "            <tr>\n",
       "                        <th id=\"T_636d7922_0ae4_11eb_9aca_00d8619dd5d4level0_row2\" class=\"row_heading level0 row2\" >All</th>\n",
       "                        <td id=\"T_636d7922_0ae4_11eb_9aca_00d8619dd5d4row2_col0\" class=\"data row2 col0\" >549</td>\n",
       "                        <td id=\"T_636d7922_0ae4_11eb_9aca_00d8619dd5d4row2_col1\" class=\"data row2 col1\" >342</td>\n",
       "                        <td id=\"T_636d7922_0ae4_11eb_9aca_00d8619dd5d4row2_col2\" class=\"data row2 col2\" >891</td>\n",
       "            </tr>\n",
       "    </tbody></table>"
      ],
      "text/plain": [
       "<pandas.io.formats.style.Styler at 0x1ab963c9588>"
      ]
     },
     "execution_count": 15,
     "metadata": {},
     "output_type": "execute_result"
    }
   ],
   "source": [
    "pd.crosstab(data.Sex,data.Survived,margins=True).style.background_gradient(cmap='summer_r')"
   ]
  },
  {
   "cell_type": "code",
   "execution_count": 8,
   "metadata": {},
   "outputs": [
    {
     "data": {
      "text/plain": [
       "Sex     Survived\n",
       "female  0            81\n",
       "        1           233\n",
       "male    0           468\n",
       "        1           109\n",
       "Name: Survived, dtype: int64"
      ]
     },
     "execution_count": 8,
     "metadata": {},
     "output_type": "execute_result"
    }
   ],
   "source": [
    "data.groupby(['Sex','Survived'])['Survived'].count()"
   ]
  },
  {
   "cell_type": "code",
   "execution_count": 10,
   "metadata": {
    "scrolled": true
   },
   "outputs": [
    {
     "data": {
      "image/png": "[encoded data removed]",
      "text/plain": [
       "<Figure size 1296x576 with 2 Axes>"
      ]
     },
     "metadata": {
      "needs_background": "light"
     },
     "output_type": "display_data"
    }
   ],
   "source": [
    "f, ax = plt.subplots(1,2,figsize=(18,8))\n",
    "data[['Sex','Survived']].groupby(['Sex']).mean().plot.bar(ax=ax[0])\n",
    "ax[0].set_title('Survived vs Sex')\n",
    "sns.countplot('Sex',hue='Survived',data=data,ax=ax[1])\n",
    "ax[1].set_title('Sex: Survived vs Dead')\n",
    "plt.show()"
   ]
  },
  {
   "cell_type": "markdown",
   "metadata": {},
   "source": [
    "This looks intersting. The number of men on the ship is lot more than the number of women. Still the number of women saved is almost twice the number of males saved. The survival rates for a women on the ship is aroun 75% while that for men in around 18-19%.\n",
    "\n",
    "This looks to be a very important feature for modeling. But is it the best?? Lets check other features."
   ]
  },
  {
   "cell_type": "markdown",
   "metadata": {},
   "source": [
    "##  Pclass -> Ordinal Feature"
   ]
  },
  {
   "cell_type": "code",
   "execution_count": 12,
   "metadata": {},
   "outputs": [
    {
     "data": {
      "text/html": [
       "<style  type=\"text/css\" >\n",
       "    #T_35dffc6e_0ae4_11eb_8712_00d8619dd5d4row0_col0 {\n",
       "            background-color:  #ffff66;\n",
       "            color:  #000000;\n",
       "        }    #T_35dffc6e_0ae4_11eb_8712_00d8619dd5d4row0_col1 {\n",
       "            background-color:  #cee666;\n",
       "            color:  #000000;\n",
       "        }    #T_35dffc6e_0ae4_11eb_8712_00d8619dd5d4row0_col2 {\n",
       "            background-color:  #f4fa66;\n",
       "            color:  #000000;\n",
       "        }    #T_35dffc6e_0ae4_11eb_8712_00d8619dd5d4row1_col0 {\n",
       "            background-color:  #f6fa66;\n",
       "            color:  #000000;\n",
       "        }    #T_35dffc6e_0ae4_11eb_8712_00d8619dd5d4row1_col1 {\n",
       "            background-color:  #ffff66;\n",
       "            color:  #000000;\n",
       "        }    #T_35dffc6e_0ae4_11eb_8712_00d8619dd5d4row1_col2 {\n",
       "            background-color:  #ffff66;\n",
       "            color:  #000000;\n",
       "        }    #T_35dffc6e_0ae4_11eb_8712_00d8619dd5d4row2_col0 {\n",
       "            background-color:  #60b066;\n",
       "            color:  #000000;\n",
       "        }    #T_35dffc6e_0ae4_11eb_8712_00d8619dd5d4row2_col1 {\n",
       "            background-color:  #dfef66;\n",
       "            color:  #000000;\n",
       "        }    #T_35dffc6e_0ae4_11eb_8712_00d8619dd5d4row2_col2 {\n",
       "            background-color:  #90c866;\n",
       "            color:  #000000;\n",
       "        }    #T_35dffc6e_0ae4_11eb_8712_00d8619dd5d4row3_col0 {\n",
       "            background-color:  #008066;\n",
       "            color:  #f1f1f1;\n",
       "        }    #T_35dffc6e_0ae4_11eb_8712_00d8619dd5d4row3_col1 {\n",
       "            background-color:  #008066;\n",
       "            color:  #f1f1f1;\n",
       "        }    #T_35dffc6e_0ae4_11eb_8712_00d8619dd5d4row3_col2 {\n",
       "            background-color:  #008066;\n",
       "            color:  #f1f1f1;\n",
       "        }</style><table id=\"T_35dffc6e_0ae4_11eb_8712_00d8619dd5d4\" ><thead>    <tr>        <th class=\"index_name level0\" >Survived</th>        <th class=\"col_heading level0 col0\" >0</th>        <th class=\"col_heading level0 col1\" >1</th>        <th class=\"col_heading level0 col2\" >All</th>    </tr>    <tr>        <th class=\"index_name level0\" >Pclass</th>        <th class=\"blank\" ></th>        <th class=\"blank\" ></th>        <th class=\"blank\" ></th>    </tr></thead><tbody>\n",
       "                <tr>\n",
       "                        <th id=\"T_35dffc6e_0ae4_11eb_8712_00d8619dd5d4level0_row0\" class=\"row_heading level0 row0\" >1</th>\n",
       "                        <td id=\"T_35dffc6e_0ae4_11eb_8712_00d8619dd5d4row0_col0\" class=\"data row0 col0\" >80</td>\n",
       "                        <td id=\"T_35dffc6e_0ae4_11eb_8712_00d8619dd5d4row0_col1\" class=\"data row0 col1\" >136</td>\n",
       "                        <td id=\"T_35dffc6e_0ae4_11eb_8712_00d8619dd5d4row0_col2\" class=\"data row0 col2\" >216</td>\n",
       "            </tr>\n",
       "            <tr>\n",
       "                        <th id=\"T_35dffc6e_0ae4_11eb_8712_00d8619dd5d4level0_row1\" class=\"row_heading level0 row1\" >2</th>\n",
       "                        <td id=\"T_35dffc6e_0ae4_11eb_8712_00d8619dd5d4row1_col0\" class=\"data row1 col0\" >97</td>\n",
       "                        <td id=\"T_35dffc6e_0ae4_11eb_8712_00d8619dd5d4row1_col1\" class=\"data row1 col1\" >87</td>\n",
       "                        <td id=\"T_35dffc6e_0ae4_11eb_8712_00d8619dd5d4row1_col2\" class=\"data row1 col2\" >184</td>\n",
       "            </tr>\n",
       "            <tr>\n",
       "                        <th id=\"T_35dffc6e_0ae4_11eb_8712_00d8619dd5d4level0_row2\" class=\"row_heading level0 row2\" >3</th>\n",
       "                        <td id=\"T_35dffc6e_0ae4_11eb_8712_00d8619dd5d4row2_col0\" class=\"data row2 col0\" >372</td>\n",
       "                        <td id=\"T_35dffc6e_0ae4_11eb_8712_00d8619dd5d4row2_col1\" class=\"data row2 col1\" >119</td>\n",
       "                        <td id=\"T_35dffc6e_0ae4_11eb_8712_00d8619dd5d4row2_col2\" class=\"data row2 col2\" >491</td>\n",
       "            </tr>\n",
       "            <tr>\n",
       "                        <th id=\"T_35dffc6e_0ae4_11eb_8712_00d8619dd5d4level0_row3\" class=\"row_heading level0 row3\" >All</th>\n",
       "                        <td id=\"T_35dffc6e_0ae4_11eb_8712_00d8619dd5d4row3_col0\" class=\"data row3 col0\" >549</td>\n",
       "                        <td id=\"T_35dffc6e_0ae4_11eb_8712_00d8619dd5d4row3_col1\" class=\"data row3 col1\" >342</td>\n",
       "                        <td id=\"T_35dffc6e_0ae4_11eb_8712_00d8619dd5d4row3_col2\" class=\"data row3 col2\" >891</td>\n",
       "            </tr>\n",
       "    </tbody></table>"
      ],
      "text/plain": [
       "<pandas.io.formats.style.Styler at 0x1ab95eb86c8>"
      ]
     },
     "execution_count": 12,
     "metadata": {},
     "output_type": "execute_result"
    }
   ],
   "source": [
    "pd.crosstab(data.Pclass,data.Survived,margins=True).style.background_gradient(cmap='summer_r')"
   ]
  },
  {
   "cell_type": "code",
   "execution_count": 16,
   "metadata": {},
   "outputs": [
    {
     "data": {
      "image/png": "[encoded data removed]",
      "text/plain": [
       "<Figure size 1296x576 with 2 Axes>"
      ]
     },
     "metadata": {
      "needs_background": "light"
     },
     "output_type": "display_data"
    }
   ],
   "source": [
    "f,ax = plt.subplots(1,2,figsize=(18,8))\n",
    "data['Pclass'].value_counts().plot.bar(color=['#CD7F32','#FFDF00','#D3D3D3'],ax=ax[0])\n",
    "ax[0].set_title('Number of Passengers by Pclass')\n",
    "ax[0].set_ylabel('Count')\n",
    "sns.countplot('Pclass',hue='Survived',data=data,ax=ax[1])\n",
    "ax[1].set_title(\"Pclass: Survived vs Dead\")\n",
    "plt.show()"
   ]
  },
  {
   "cell_type": "markdown",
   "metadata": {},
   "source": [
    "People say Money can'y buy everything. But we can clearly see that Passengers of pclass 1 were give a very high priority while rescue."
   ]
  },
  {
   "cell_type": "code",
   "execution_count": null,
   "metadata": {},
   "outputs": [],
   "source": []
  },
  {
   "cell_type": "code",
   "execution_count": null,
   "metadata": {},
   "outputs": [],
   "source": []
  },
  {
   "cell_type": "code",
   "execution_count": null,
   "metadata": {},
   "outputs": [],
   "source": []
  }
 ],
 "metadata": {
  "kernelspec": {
   "display_name": "Python 3",
   "language": "python",
   "name": "python3"
  },
  "language_info": {
   "codemirror_mode": {
    "name": "ipython",
    "version": 3
   },
   "file_extension": ".py",
   "mimetype": "text/x-python",
   "name": "python",
   "nbconvert_exporter": "python",
   "pygments_lexer": "ipython3",
   "version": "3.7.6"
  }
 },
 "nbformat": 4,
 "nbformat_minor": 4
}
