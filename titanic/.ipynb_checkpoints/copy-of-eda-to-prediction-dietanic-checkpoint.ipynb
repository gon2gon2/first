{
 "cells": [
  {
   "cell_type": "markdown",
   "metadata": {},
   "source": [
    "https://www.kaggle.com/ash316/eda-to-prediction-dietanic"
   ]
  },
  {
   "cell_type": "code",
   "execution_count": 1,
   "metadata": {
    "_cell_guid": "b1076dfc-b9ad-4769-8c92-a6c4dae69d19",
    "_uuid": "8f2839f25d086af736a60e9eeb907d3b93b6e0e5",
    "scrolled": true
   },
   "outputs": [
    {
     "name": "stdout",
     "output_type": "stream",
     "text": [
      "c:\\kaggle\\titanic\\copy-of-eda-to-prediction-dietanic.ipynb\n",
      "c:\\kaggle\\titanic\\EDA To Prediction(DieTanic)_copy.ipynb\n",
      "c:\\kaggle\\titanic\\gender_submission.csv\n",
      "c:\\kaggle\\titanic\\test.csv\n",
      "c:\\kaggle\\titanic\\titanic-Copy1.ipynb\n",
      "c:\\kaggle\\titanic\\train.csv\n",
      "c:\\kaggle\\titanic\\.ipynb_checkpoints\\copy-of-eda-to-prediction-dietanic-checkpoint.ipynb\n",
      "c:\\kaggle\\titanic\\.ipynb_checkpoints\\EDA To Prediction(DieTanic)_copy-checkpoint.ipynb\n"
     ]
    }
   ],
   "source": [
    "import os\n",
    "for dirname, _, filenames in os.walk(os.getcwd()):\n",
    "    for filename in filenames:\n",
    "        print(os.path.join(dirname, filename))"
   ]
  },
  {
   "cell_type": "markdown",
   "metadata": {
    "_cell_guid": "79c7e3d0-c299-4dcb-8224-4455121ee9b0",
    "_uuid": "d629ff2d2480ee46fbb7e2d37f6b5fab8052498a",
    "collapsed": true
   },
   "source": [
    "# Contents of the Notebook\n",
    "\n",
    "### Part1: Exploratory Data Analysis(EDA):\n",
    "    1)Analysis of the features.\n",
    "\n",
    "    2)Finding any relations or trends considering multiple features.\n",
    "\n",
    "### Part2: Feature Engineering and Data Cleaning:\n",
    "    1)Adding any few features.\n",
    "\n",
    "    2)Removing redundant features.\n",
    "\n",
    "    3)Converting features into suitable form for modeling.\n",
    "\n",
    "### Part3: Predictive Modeling\n",
    "    1)Running Basic Algorithms.\n",
    "\n",
    "    2)Cross Validation.\n",
    "\n",
    "    3)Ensembling.\n",
    "\n",
    "    4)Important Features Extraction."
   ]
  },
  {
   "cell_type": "markdown",
   "metadata": {},
   "source": [
    "# Part1: Exploratory Data Analysis(EDA)"
   ]
  },
  {
   "cell_type": "code",
   "execution_count": 2,
   "metadata": {},
   "outputs": [],
   "source": [
    "import numpy as np\n",
    "import pandas as pd\n",
    "import matplotlib.pyplot as plt\n",
    "import seaborn as sns\n",
    "plt.style.use('fivethirtyeight')\n",
    "import warnings\n",
    "warnings.filterwarnings('ignore')\n",
    "%matplotlib inline"
   ]
  },
  {
   "cell_type": "code",
   "execution_count": 3,
   "metadata": {},
   "outputs": [],
   "source": [
    "data=pd.read_csv('c:\\\\kaggle\\\\titanic\\\\train.csv')"
   ]
  },
  {
   "cell_type": "code",
   "execution_count": 4,
   "metadata": {},
   "outputs": [
    {
     "data": {
      "text/html": [
       "<div>\n",
       "<style scoped>\n",
       "    .dataframe tbody tr th:only-of-type {\n",
       "        vertical-align: middle;\n",
       "    }\n",
       "\n",
       "    .dataframe tbody tr th {\n",
       "        vertical-align: top;\n",
       "    }\n",
       "\n",
       "    .dataframe thead th {\n",
       "        text-align: right;\n",
       "    }\n",
       "</style>\n",
       "<table border=\"1\" class=\"dataframe\">\n",
       "  <thead>\n",
       "    <tr style=\"text-align: right;\">\n",
       "      <th></th>\n",
       "      <th>PassengerId</th>\n",
       "      <th>Survived</th>\n",
       "      <th>Pclass</th>\n",
       "      <th>Name</th>\n",
       "      <th>Sex</th>\n",
       "      <th>Age</th>\n",
       "      <th>SibSp</th>\n",
       "      <th>Parch</th>\n",
       "      <th>Ticket</th>\n",
       "      <th>Fare</th>\n",
       "      <th>Cabin</th>\n",
       "      <th>Embarked</th>\n",
       "    </tr>\n",
       "  </thead>\n",
       "  <tbody>\n",
       "    <tr>\n",
       "      <th>0</th>\n",
       "      <td>1</td>\n",
       "      <td>0</td>\n",
       "      <td>3</td>\n",
       "      <td>Braund, Mr. Owen Harris</td>\n",
       "      <td>male</td>\n",
       "      <td>22.0</td>\n",
       "      <td>1</td>\n",
       "      <td>0</td>\n",
       "      <td>A/5 21171</td>\n",
       "      <td>7.2500</td>\n",
       "      <td>NaN</td>\n",
       "      <td>S</td>\n",
       "    </tr>\n",
       "    <tr>\n",
       "      <th>1</th>\n",
       "      <td>2</td>\n",
       "      <td>1</td>\n",
       "      <td>1</td>\n",
       "      <td>Cumings, Mrs. John Bradley (Florence Briggs Th...</td>\n",
       "      <td>female</td>\n",
       "      <td>38.0</td>\n",
       "      <td>1</td>\n",
       "      <td>0</td>\n",
       "      <td>PC 17599</td>\n",
       "      <td>71.2833</td>\n",
       "      <td>C85</td>\n",
       "      <td>C</td>\n",
       "    </tr>\n",
       "    <tr>\n",
       "      <th>2</th>\n",
       "      <td>3</td>\n",
       "      <td>1</td>\n",
       "      <td>3</td>\n",
       "      <td>Heikkinen, Miss. Laina</td>\n",
       "      <td>female</td>\n",
       "      <td>26.0</td>\n",
       "      <td>0</td>\n",
       "      <td>0</td>\n",
       "      <td>STON/O2. 3101282</td>\n",
       "      <td>7.9250</td>\n",
       "      <td>NaN</td>\n",
       "      <td>S</td>\n",
       "    </tr>\n",
       "    <tr>\n",
       "      <th>3</th>\n",
       "      <td>4</td>\n",
       "      <td>1</td>\n",
       "      <td>1</td>\n",
       "      <td>Futrelle, Mrs. Jacques Heath (Lily May Peel)</td>\n",
       "      <td>female</td>\n",
       "      <td>35.0</td>\n",
       "      <td>1</td>\n",
       "      <td>0</td>\n",
       "      <td>113803</td>\n",
       "      <td>53.1000</td>\n",
       "      <td>C123</td>\n",
       "      <td>S</td>\n",
       "    </tr>\n",
       "    <tr>\n",
       "      <th>4</th>\n",
       "      <td>5</td>\n",
       "      <td>0</td>\n",
       "      <td>3</td>\n",
       "      <td>Allen, Mr. William Henry</td>\n",
       "      <td>male</td>\n",
       "      <td>35.0</td>\n",
       "      <td>0</td>\n",
       "      <td>0</td>\n",
       "      <td>373450</td>\n",
       "      <td>8.0500</td>\n",
       "      <td>NaN</td>\n",
       "      <td>S</td>\n",
       "    </tr>\n",
       "  </tbody>\n",
       "</table>\n",
       "</div>"
      ],
      "text/plain": [
       "   PassengerId  Survived  Pclass  \\\n",
       "0            1         0       3   \n",
       "1            2         1       1   \n",
       "2            3         1       3   \n",
       "3            4         1       1   \n",
       "4            5         0       3   \n",
       "\n",
       "                                                Name     Sex   Age  SibSp  \\\n",
       "0                            Braund, Mr. Owen Harris    male  22.0      1   \n",
       "1  Cumings, Mrs. John Bradley (Florence Briggs Th...  female  38.0      1   \n",
       "2                             Heikkinen, Miss. Laina  female  26.0      0   \n",
       "3       Futrelle, Mrs. Jacques Heath (Lily May Peel)  female  35.0      1   \n",
       "4                           Allen, Mr. William Henry    male  35.0      0   \n",
       "\n",
       "   Parch            Ticket     Fare Cabin Embarked  \n",
       "0      0         A/5 21171   7.2500   NaN        S  \n",
       "1      0          PC 17599  71.2833   C85        C  \n",
       "2      0  STON/O2. 3101282   7.9250   NaN        S  \n",
       "3      0            113803  53.1000  C123        S  \n",
       "4      0            373450   8.0500   NaN        S  "
      ]
     },
     "execution_count": 4,
     "metadata": {},
     "output_type": "execute_result"
    }
   ],
   "source": [
    "data.head()"
   ]
  },
  {
   "cell_type": "code",
   "execution_count": 5,
   "metadata": {},
   "outputs": [
    {
     "name": "stdout",
     "output_type": "stream",
     "text": [
      "PassengerId      0\n",
      "Survived         0\n",
      "Pclass           0\n",
      "Name             0\n",
      "Sex              0\n",
      "Age            177\n",
      "SibSp            0\n",
      "Parch            0\n",
      "Ticket           0\n",
      "Fare             0\n",
      "Cabin          687\n",
      "Embarked         2\n",
      "dtype: int64\n",
      "number of rows: 891\n"
     ]
    }
   ],
   "source": [
    "# null이라고 무조건 빼는 것이 아님. null값 자체가 category일 수 있다.\n",
    "print(data.isnull().sum())\n",
    "print('number of rows:',data.shape[0])"
   ]
  },
  {
   "cell_type": "code",
   "execution_count": 6,
   "metadata": {
    "scrolled": true
   },
   "outputs": [
    {
     "data": {
      "text/plain": [
       "(891, 12)"
      ]
     },
     "execution_count": 6,
     "metadata": {},
     "output_type": "execute_result"
    }
   ],
   "source": [
    "data.shape # checking for total null values\n",
    "# 891개 밖에 없는데 그 중에 687개가 null? 오우쮓"
   ]
  },
  {
   "cell_type": "markdown",
   "metadata": {},
   "source": [
    "The <b>Age, Cabin and Embarked</b> have null values. I will try to fix them"
   ]
  },
  {
   "cell_type": "markdown",
   "metadata": {},
   "source": [
    "### How many Survived??"
   ]
  },
  {
   "cell_type": "code",
   "execution_count": 7,
   "metadata": {},
   "outputs": [
    {
     "data": {
      "text/plain": [
       "0    549\n",
       "1    342\n",
       "Name: Survived, dtype: int64"
      ]
     },
     "execution_count": 7,
     "metadata": {},
     "output_type": "execute_result"
    }
   ],
   "source": [
    "data['Survived'].value_counts()"
   ]
  },
  {
   "cell_type": "code",
   "execution_count": 8,
   "metadata": {
    "scrolled": true
   },
   "outputs": [
    {
     "data": {
      "image/png": "[encoded data removed]",
      "text/plain": [
       "<Figure size 1296x576 with 2 Axes>"
      ]
     },
     "metadata": {
      "needs_background": "light"
     },
     "output_type": "display_data"
    }
   ],
   "source": [
    "# fig와 ax를 생성\n",
    "f, ax = plt.subplots(1,2,figsize = (18,8)) # 1 x 2의 figure 생성\n",
    "\n",
    "\n",
    "# 첫번째 axis\n",
    "# value_counts: 각 값들의 총 개수 카운트\n",
    "# explode: 얼마나 떨어질지\n",
    "# autopct: \n",
    "data['Survived'].value_counts().plot.pie(explode=[0,0.1],autopct='%1.1f%%',ax=ax[0],shadow=True)\n",
    "ax[0].set_title(\"Survived\")\n",
    "ax[0].set_ylabel('')             # pie chart라 y축 label 없어도 됨\n",
    "\n",
    "\n",
    "# 두번째 axis\n",
    "# data = dataframe, array, or list of arrays, optional\n",
    "# ax = matplotlib의 axes\n",
    "sns.countplot('Survived',data=data,ax=ax[1])\n",
    "ax[1].set_title('Survived')\n",
    "plt.show()"
   ]
  },
  {
   "cell_type": "markdown",
   "metadata": {},
   "source": [
    "It is evident that not many passengers survived the accident.\n",
    "\n",
    "Out of 891 passengers in training set, only around 350 survived i.e Only <b>38.4%</b> of the total training set survived the crash. We need to dig down more to get better insights from the data and see which categories of the passengers did survive and who didn't\n",
    "\n",
    "We will try to check the survival rate by using the different features of the dataset. Some of the features being Sex, Port of Embarcation, Age, etc.\n",
    "\n",
    "First let us understand the different types of features."
   ]
  },
  {
   "cell_type": "markdown",
   "metadata": {},
   "source": [
    "# Types of Features\n",
    "### Categorical Features\n",
    "A categorical variable is one that has two or more categories and each value in that feature can be categorised by them. For example, gender is a categorical variable having two categories(male and female).Now we cannot sort or give any ordering to such variables. They are also known as <b>Nominal Variables.</b>\n",
    "\n",
    "<b>Categorical Features in the dataset: Sex, Embarked</b>\n",
    "\n",
    "### Ordinal Features:\n",
    "An ordinal variable is similar to categorical values, but the difference between them is that we can have relative ordering or soring between the values."
   ]
  },
  {
   "cell_type": "code",
   "execution_count": 9,
   "metadata": {},
   "outputs": [
    {
     "data": {
      "text/plain": [
       "<pandas.core.groupby.generic.DataFrameGroupBy object at 0x000001717CF97C08>"
      ]
     },
     "execution_count": 9,
     "metadata": {},
     "output_type": "execute_result"
    }
   ],
   "source": [
    "data.groupby(['Sex'])"
   ]
  },
  {
   "cell_type": "code",
   "execution_count": 10,
   "metadata": {},
   "outputs": [
    {
     "data": {
      "image/png": "[encoded data removed]",
      "text/plain": [
       "<Figure size 1296x576 with 2 Axes>"
      ]
     },
     "metadata": {
      "needs_background": "light"
     },
     "output_type": "display_data"
    }
   ],
   "source": [
    "f,ax=plt.subplots(1,2,figsize=(18,8))\n",
    "\n",
    "\n",
    "data[['Sex','Survived']].groupby(['Sex']).mean().plot.bar(ax=ax[0])\n",
    "ax[0].set_title('Survived vs Sex')\n",
    "\n",
    "\n",
    "sns.countplot('Sex',hue='Survived',data=data,ax=ax[1])\n",
    "ax[1].set_title('Sex:Survived vs Dead')\n",
    "plt.show()"
   ]
  },
  {
   "cell_type": "markdown",
   "metadata": {},
   "source": [
    "This looks interesting. The number of men on the ship is lot more than the number of women. Still the number of women saved is almost twice the number of males saved. The survival rates for a <b>women on the ship is around 75% while that for men in around 18-19%.</b>\n",
    "\n",
    "This looks to be a very important feature for modeling. But is it the best?? Lets check other features."
   ]
  },
  {
   "cell_type": "markdown",
   "metadata": {},
   "source": [
    "# Pclass -> Ordinal Feature"
   ]
  },
  {
   "cell_type": "markdown",
   "metadata": {},
   "source": [
    "binary classification이다?\n",
    "커널에 특정 카테고리와 카테고리가 겨ㅏㅈ는 평균값"
   ]
  },
  {
   "cell_type": "code",
   "execution_count": 11,
   "metadata": {},
   "outputs": [
    {
     "data": {
      "text/html": [
       "<style  type=\"text/css\" >\n",
       "    #T_06a458ee_04ae_11eb_953a_00d8619dd5d4row0_col0 {\n",
       "            background-color:  #ffff66;\n",
       "            color:  #000000;\n",
       "        }    #T_06a458ee_04ae_11eb_953a_00d8619dd5d4row0_col1 {\n",
       "            background-color:  #cee666;\n",
       "            color:  #000000;\n",
       "        }    #T_06a458ee_04ae_11eb_953a_00d8619dd5d4row0_col2 {\n",
       "            background-color:  #f4fa66;\n",
       "            color:  #000000;\n",
       "        }    #T_06a458ee_04ae_11eb_953a_00d8619dd5d4row1_col0 {\n",
       "            background-color:  #f6fa66;\n",
       "            color:  #000000;\n",
       "        }    #T_06a458ee_04ae_11eb_953a_00d8619dd5d4row1_col1 {\n",
       "            background-color:  #ffff66;\n",
       "            color:  #000000;\n",
       "        }    #T_06a458ee_04ae_11eb_953a_00d8619dd5d4row1_col2 {\n",
       "            background-color:  #ffff66;\n",
       "            color:  #000000;\n",
       "        }    #T_06a458ee_04ae_11eb_953a_00d8619dd5d4row2_col0 {\n",
       "            background-color:  #60b066;\n",
       "            color:  #000000;\n",
       "        }    #T_06a458ee_04ae_11eb_953a_00d8619dd5d4row2_col1 {\n",
       "            background-color:  #dfef66;\n",
       "            color:  #000000;\n",
       "        }    #T_06a458ee_04ae_11eb_953a_00d8619dd5d4row2_col2 {\n",
       "            background-color:  #90c866;\n",
       "            color:  #000000;\n",
       "        }    #T_06a458ee_04ae_11eb_953a_00d8619dd5d4row3_col0 {\n",
       "            background-color:  #008066;\n",
       "            color:  #f1f1f1;\n",
       "        }    #T_06a458ee_04ae_11eb_953a_00d8619dd5d4row3_col1 {\n",
       "            background-color:  #008066;\n",
       "            color:  #f1f1f1;\n",
       "        }    #T_06a458ee_04ae_11eb_953a_00d8619dd5d4row3_col2 {\n",
       "            background-color:  #008066;\n",
       "            color:  #f1f1f1;\n",
       "        }</style><table id=\"T_06a458ee_04ae_11eb_953a_00d8619dd5d4\" ><thead>    <tr>        <th class=\"index_name level0\" >Survived</th>        <th class=\"col_heading level0 col0\" >0</th>        <th class=\"col_heading level0 col1\" >1</th>        <th class=\"col_heading level0 col2\" >All</th>    </tr>    <tr>        <th class=\"index_name level0\" >Pclass</th>        <th class=\"blank\" ></th>        <th class=\"blank\" ></th>        <th class=\"blank\" ></th>    </tr></thead><tbody>\n",
       "                <tr>\n",
       "                        <th id=\"T_06a458ee_04ae_11eb_953a_00d8619dd5d4level0_row0\" class=\"row_heading level0 row0\" >1</th>\n",
       "                        <td id=\"T_06a458ee_04ae_11eb_953a_00d8619dd5d4row0_col0\" class=\"data row0 col0\" >80</td>\n",
       "                        <td id=\"T_06a458ee_04ae_11eb_953a_00d8619dd5d4row0_col1\" class=\"data row0 col1\" >136</td>\n",
       "                        <td id=\"T_06a458ee_04ae_11eb_953a_00d8619dd5d4row0_col2\" class=\"data row0 col2\" >216</td>\n",
       "            </tr>\n",
       "            <tr>\n",
       "                        <th id=\"T_06a458ee_04ae_11eb_953a_00d8619dd5d4level0_row1\" class=\"row_heading level0 row1\" >2</th>\n",
       "                        <td id=\"T_06a458ee_04ae_11eb_953a_00d8619dd5d4row1_col0\" class=\"data row1 col0\" >97</td>\n",
       "                        <td id=\"T_06a458ee_04ae_11eb_953a_00d8619dd5d4row1_col1\" class=\"data row1 col1\" >87</td>\n",
       "                        <td id=\"T_06a458ee_04ae_11eb_953a_00d8619dd5d4row1_col2\" class=\"data row1 col2\" >184</td>\n",
       "            </tr>\n",
       "            <tr>\n",
       "                        <th id=\"T_06a458ee_04ae_11eb_953a_00d8619dd5d4level0_row2\" class=\"row_heading level0 row2\" >3</th>\n",
       "                        <td id=\"T_06a458ee_04ae_11eb_953a_00d8619dd5d4row2_col0\" class=\"data row2 col0\" >372</td>\n",
       "                        <td id=\"T_06a458ee_04ae_11eb_953a_00d8619dd5d4row2_col1\" class=\"data row2 col1\" >119</td>\n",
       "                        <td id=\"T_06a458ee_04ae_11eb_953a_00d8619dd5d4row2_col2\" class=\"data row2 col2\" >491</td>\n",
       "            </tr>\n",
       "            <tr>\n",
       "                        <th id=\"T_06a458ee_04ae_11eb_953a_00d8619dd5d4level0_row3\" class=\"row_heading level0 row3\" >All</th>\n",
       "                        <td id=\"T_06a458ee_04ae_11eb_953a_00d8619dd5d4row3_col0\" class=\"data row3 col0\" >549</td>\n",
       "                        <td id=\"T_06a458ee_04ae_11eb_953a_00d8619dd5d4row3_col1\" class=\"data row3 col1\" >342</td>\n",
       "                        <td id=\"T_06a458ee_04ae_11eb_953a_00d8619dd5d4row3_col2\" class=\"data row3 col2\" >891</td>\n",
       "            </tr>\n",
       "    </tbody></table>"
      ],
      "text/plain": [
       "<pandas.io.formats.style.Styler at 0x1717d42f6c8>"
      ]
     },
     "execution_count": 11,
     "metadata": {},
     "output_type": "execute_result"
    }
   ],
   "source": [
    "# crosstab == 두 factors에 대해 단순 fequency를 계산해 cross tabulation을 만들어줌\n",
    "# margins ==> 총 계, \n",
    "pd.crosstab(data.Pclass,data.Survived,margins=True).style.background_gradient(cmap='summer_r')"
   ]
  },
  {
   "cell_type": "code",
   "execution_count": 12,
   "metadata": {},
   "outputs": [
    {
     "data": {
      "image/png": "[encoded data removed]",
      "text/plain": [
       "<Figure size 1296x576 with 2 Axes>"
      ]
     },
     "metadata": {
      "needs_background": "light"
     },
     "output_type": "display_data"
    }
   ],
   "source": [
    "f,ax = plt.subplots(1,2,figsize=(18,8))\n",
    "data['Pclass'].value_counts().plot.bar(color=['#CD7F32','#FFDF00','#D3D3D3'],ax=ax[0])\n",
    "ax[0].set_title('Number Of Passengers By Pclass')\n",
    "ax[0].set_ylabel('Count')\n",
    "sns.countplot('Pclass', hue='Survived',data=data,ax=ax[1])\n",
    "ax[1].set_title('Pclass:Survived vs Dead')\n",
    "plt.show()"
   ]
  },
  {
   "cell_type": "markdown",
   "metadata": {},
   "source": [
    "People say <b>Money Can't Buy Everything.</b>But we can clearly see that Passengers of Plcass 1 were given a very high priority while rescue. Even though the number of Passengers in Pclass 3 were a lot higher, still the number of survival from them is very low, somewhere arount <b>25%.</b>\n",
    "\n",
    "\n",
    "For Pclass 1% survived is around <b>63%</b> while for Pclass2 is around <b>48%</b>. So maney and status matters. Such a materialistic world.\n",
    "\n",
    "Lets Dive in little bit more and check for other interesting observations. Lets check survival rate with <b>Sex and Pclass</b> Together."
   ]
  },
  {
   "cell_type": "code",
   "execution_count": 13,
   "metadata": {},
   "outputs": [
    {
     "data": {
      "text/html": [
       "<style  type=\"text/css\" >\n",
       "    #T_06cbc6e4_04ae_11eb_9bac_00d8619dd5d4row0_col0 {\n",
       "            background-color:  #ffff66;\n",
       "            color:  #000000;\n",
       "        }    #T_06cbc6e4_04ae_11eb_9bac_00d8619dd5d4row0_col1 {\n",
       "            background-color:  #ffff66;\n",
       "            color:  #000000;\n",
       "        }    #T_06cbc6e4_04ae_11eb_9bac_00d8619dd5d4row0_col2 {\n",
       "            background-color:  #f1f866;\n",
       "            color:  #000000;\n",
       "        }    #T_06cbc6e4_04ae_11eb_9bac_00d8619dd5d4row0_col3 {\n",
       "            background-color:  #ffff66;\n",
       "            color:  #000000;\n",
       "        }    #T_06cbc6e4_04ae_11eb_9bac_00d8619dd5d4row1_col0 {\n",
       "            background-color:  #96cb66;\n",
       "            color:  #000000;\n",
       "        }    #T_06cbc6e4_04ae_11eb_9bac_00d8619dd5d4row1_col1 {\n",
       "            background-color:  #a3d166;\n",
       "            color:  #000000;\n",
       "        }    #T_06cbc6e4_04ae_11eb_9bac_00d8619dd5d4row1_col2 {\n",
       "            background-color:  #f1f866;\n",
       "            color:  #000000;\n",
       "        }    #T_06cbc6e4_04ae_11eb_9bac_00d8619dd5d4row1_col3 {\n",
       "            background-color:  #cfe766;\n",
       "            color:  #000000;\n",
       "        }    #T_06cbc6e4_04ae_11eb_9bac_00d8619dd5d4row2_col0 {\n",
       "            background-color:  #a7d366;\n",
       "            color:  #000000;\n",
       "        }    #T_06cbc6e4_04ae_11eb_9bac_00d8619dd5d4row2_col1 {\n",
       "            background-color:  #85c266;\n",
       "            color:  #000000;\n",
       "        }    #T_06cbc6e4_04ae_11eb_9bac_00d8619dd5d4row2_col2 {\n",
       "            background-color:  #6eb666;\n",
       "            color:  #000000;\n",
       "        }    #T_06cbc6e4_04ae_11eb_9bac_00d8619dd5d4row2_col3 {\n",
       "            background-color:  #85c266;\n",
       "            color:  #000000;\n",
       "        }    #T_06cbc6e4_04ae_11eb_9bac_00d8619dd5d4row3_col0 {\n",
       "            background-color:  #cde666;\n",
       "            color:  #000000;\n",
       "        }    #T_06cbc6e4_04ae_11eb_9bac_00d8619dd5d4row3_col1 {\n",
       "            background-color:  #f0f866;\n",
       "            color:  #000000;\n",
       "        }    #T_06cbc6e4_04ae_11eb_9bac_00d8619dd5d4row3_col2 {\n",
       "            background-color:  #ffff66;\n",
       "            color:  #000000;\n",
       "        }    #T_06cbc6e4_04ae_11eb_9bac_00d8619dd5d4row3_col3 {\n",
       "            background-color:  #f7fb66;\n",
       "            color:  #000000;\n",
       "        }    #T_06cbc6e4_04ae_11eb_9bac_00d8619dd5d4row4_col0 {\n",
       "            background-color:  #008066;\n",
       "            color:  #f1f1f1;\n",
       "        }    #T_06cbc6e4_04ae_11eb_9bac_00d8619dd5d4row4_col1 {\n",
       "            background-color:  #008066;\n",
       "            color:  #f1f1f1;\n",
       "        }    #T_06cbc6e4_04ae_11eb_9bac_00d8619dd5d4row4_col2 {\n",
       "            background-color:  #008066;\n",
       "            color:  #f1f1f1;\n",
       "        }    #T_06cbc6e4_04ae_11eb_9bac_00d8619dd5d4row4_col3 {\n",
       "            background-color:  #008066;\n",
       "            color:  #f1f1f1;\n",
       "        }</style><table id=\"T_06cbc6e4_04ae_11eb_9bac_00d8619dd5d4\" ><thead>    <tr>        <th class=\"blank\" ></th>        <th class=\"index_name level0\" >Pclass</th>        <th class=\"col_heading level0 col0\" >1</th>        <th class=\"col_heading level0 col1\" >2</th>        <th class=\"col_heading level0 col2\" >3</th>        <th class=\"col_heading level0 col3\" >All</th>    </tr>    <tr>        <th class=\"index_name level0\" >Sex</th>        <th class=\"index_name level1\" >Survived</th>        <th class=\"blank\" ></th>        <th class=\"blank\" ></th>        <th class=\"blank\" ></th>        <th class=\"blank\" ></th>    </tr></thead><tbody>\n",
       "                <tr>\n",
       "                        <th id=\"T_06cbc6e4_04ae_11eb_9bac_00d8619dd5d4level0_row0\" class=\"row_heading level0 row0\" rowspan=2>female</th>\n",
       "                        <th id=\"T_06cbc6e4_04ae_11eb_9bac_00d8619dd5d4level1_row0\" class=\"row_heading level1 row0\" >0</th>\n",
       "                        <td id=\"T_06cbc6e4_04ae_11eb_9bac_00d8619dd5d4row0_col0\" class=\"data row0 col0\" >3</td>\n",
       "                        <td id=\"T_06cbc6e4_04ae_11eb_9bac_00d8619dd5d4row0_col1\" class=\"data row0 col1\" >6</td>\n",
       "                        <td id=\"T_06cbc6e4_04ae_11eb_9bac_00d8619dd5d4row0_col2\" class=\"data row0 col2\" >72</td>\n",
       "                        <td id=\"T_06cbc6e4_04ae_11eb_9bac_00d8619dd5d4row0_col3\" class=\"data row0 col3\" >81</td>\n",
       "            </tr>\n",
       "            <tr>\n",
       "                                <th id=\"T_06cbc6e4_04ae_11eb_9bac_00d8619dd5d4level1_row1\" class=\"row_heading level1 row1\" >1</th>\n",
       "                        <td id=\"T_06cbc6e4_04ae_11eb_9bac_00d8619dd5d4row1_col0\" class=\"data row1 col0\" >91</td>\n",
       "                        <td id=\"T_06cbc6e4_04ae_11eb_9bac_00d8619dd5d4row1_col1\" class=\"data row1 col1\" >70</td>\n",
       "                        <td id=\"T_06cbc6e4_04ae_11eb_9bac_00d8619dd5d4row1_col2\" class=\"data row1 col2\" >72</td>\n",
       "                        <td id=\"T_06cbc6e4_04ae_11eb_9bac_00d8619dd5d4row1_col3\" class=\"data row1 col3\" >233</td>\n",
       "            </tr>\n",
       "            <tr>\n",
       "                        <th id=\"T_06cbc6e4_04ae_11eb_9bac_00d8619dd5d4level0_row2\" class=\"row_heading level0 row2\" rowspan=2>male</th>\n",
       "                        <th id=\"T_06cbc6e4_04ae_11eb_9bac_00d8619dd5d4level1_row2\" class=\"row_heading level1 row2\" >0</th>\n",
       "                        <td id=\"T_06cbc6e4_04ae_11eb_9bac_00d8619dd5d4row2_col0\" class=\"data row2 col0\" >77</td>\n",
       "                        <td id=\"T_06cbc6e4_04ae_11eb_9bac_00d8619dd5d4row2_col1\" class=\"data row2 col1\" >91</td>\n",
       "                        <td id=\"T_06cbc6e4_04ae_11eb_9bac_00d8619dd5d4row2_col2\" class=\"data row2 col2\" >300</td>\n",
       "                        <td id=\"T_06cbc6e4_04ae_11eb_9bac_00d8619dd5d4row2_col3\" class=\"data row2 col3\" >468</td>\n",
       "            </tr>\n",
       "            <tr>\n",
       "                                <th id=\"T_06cbc6e4_04ae_11eb_9bac_00d8619dd5d4level1_row3\" class=\"row_heading level1 row3\" >1</th>\n",
       "                        <td id=\"T_06cbc6e4_04ae_11eb_9bac_00d8619dd5d4row3_col0\" class=\"data row3 col0\" >45</td>\n",
       "                        <td id=\"T_06cbc6e4_04ae_11eb_9bac_00d8619dd5d4row3_col1\" class=\"data row3 col1\" >17</td>\n",
       "                        <td id=\"T_06cbc6e4_04ae_11eb_9bac_00d8619dd5d4row3_col2\" class=\"data row3 col2\" >47</td>\n",
       "                        <td id=\"T_06cbc6e4_04ae_11eb_9bac_00d8619dd5d4row3_col3\" class=\"data row3 col3\" >109</td>\n",
       "            </tr>\n",
       "            <tr>\n",
       "                        <th id=\"T_06cbc6e4_04ae_11eb_9bac_00d8619dd5d4level0_row4\" class=\"row_heading level0 row4\" >All</th>\n",
       "                        <th id=\"T_06cbc6e4_04ae_11eb_9bac_00d8619dd5d4level1_row4\" class=\"row_heading level1 row4\" ></th>\n",
       "                        <td id=\"T_06cbc6e4_04ae_11eb_9bac_00d8619dd5d4row4_col0\" class=\"data row4 col0\" >216</td>\n",
       "                        <td id=\"T_06cbc6e4_04ae_11eb_9bac_00d8619dd5d4row4_col1\" class=\"data row4 col1\" >184</td>\n",
       "                        <td id=\"T_06cbc6e4_04ae_11eb_9bac_00d8619dd5d4row4_col2\" class=\"data row4 col2\" >491</td>\n",
       "                        <td id=\"T_06cbc6e4_04ae_11eb_9bac_00d8619dd5d4row4_col3\" class=\"data row4 col3\" >891</td>\n",
       "            </tr>\n",
       "    </tbody></table>"
      ],
      "text/plain": [
       "<pandas.io.formats.style.Styler at 0x1717d3c3a08>"
      ]
     },
     "execution_count": 13,
     "metadata": {},
     "output_type": "execute_result"
    }
   ],
   "source": [
    "# ordinal 즉, 카테고리에 등급이 있는 애들은 label encoding해도 됨\n",
    "pd.crosstab([data.Sex,data.Survived],data.Pclass,margins=True).style.background_gradient(cmap='summer_r')"
   ]
  },
  {
   "cell_type": "code",
   "execution_count": 17,
   "metadata": {},
   "outputs": [
    {
     "data": {
      "text/plain": [
       "<seaborn.axisgrid.FacetGrid at 0x1717d6cd408>"
      ]
     },
     "execution_count": 17,
     "metadata": {},
     "output_type": "execute_result"
    },
    {
     "data": {
      "image/png": "[encoded data removed]",
      "text/plain": [
       "<Figure size 430.5x360 with 1 Axes>"
      ]
     },
     "metadata": {
      "needs_background": "light"
     },
     "output_type": "display_data"
    }
   ],
   "source": [
    "sns.factorplot('Pclass','Survived',hue='Sex',data=data)"
   ]
  },
  {
   "cell_type": "markdown",
   "metadata": {},
   "source": [
    "We use **FactorPlot** in this case, beacuse they make the seperation of categorical values easy.\n",
    "\n",
    "Looking at the **CrossTab** and the **FactorPlot**, we can easily infer that survival for **Women from Pclass1** is about **95-96%**, as only 3 out of 94 women from Pclass1 died.\n",
    "\n",
    "It is evident that irrespective of Pclass, Women were given first priority while recue. Even Men from Pclass1 have a very low survival rate.\n",
    "\n",
    "Looks like Pclass is also an important feature. Lets analyse other features."
   ]
  },
  {
   "cell_type": "code",
   "execution_count": null,
   "metadata": {},
   "outputs": [],
   "source": []
  },
  {
   "cell_type": "code",
   "execution_count": null,
   "metadata": {},
   "outputs": [],
   "source": []
  },
  {
   "cell_type": "code",
   "execution_count": null,
   "metadata": {},
   "outputs": [],
   "source": []
  },
  {
   "cell_type": "code",
   "execution_count": null,
   "metadata": {},
   "outputs": [],
   "source": []
  },
  {
   "cell_type": "code",
   "execution_count": null,
   "metadata": {},
   "outputs": [],
   "source": []
  },
  {
   "cell_type": "code",
   "execution_count": null,
   "metadata": {},
   "outputs": [],
   "source": []
  }
 ],
 "metadata": {
  "kernelspec": {
   "display_name": "Python 3",
   "language": "python",
   "name": "python3"
  },
  "language_info": {
   "codemirror_mode": {
    "name": "ipython",
    "version": 3
   },
   "file_extension": ".py",
   "mimetype": "text/x-python",
   "name": "python",
   "nbconvert_exporter": "python",
   "pygments_lexer": "ipython3",
   "version": "3.7.6"
  }
 },
 "nbformat": 4,
 "nbformat_minor": 4
}
