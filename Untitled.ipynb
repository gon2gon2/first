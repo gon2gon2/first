{
 "cells": [
  {
   "cell_type": "code",
   "execution_count": 1,
   "metadata": {},
   "outputs": [
    {
     "name": "stdout",
     "output_type": "stream",
     "text": [
      "숫자를 5개 입력하세요\n",
      "1\n",
      "2\n",
      "4\n",
      "0\n",
      "0이나 음수는 입력할 수 없습니다.\n",
      "0\n",
      "0이나 음수는 입력할 수 없습니다.\n",
      "2\n",
      "4\n"
     ]
    }
   ],
   "source": [
    "cnt = 0\n",
    "a = []\n",
    "print('숫자를 5개 입력하세요')\n",
    "while cnt < 5:\n",
    "    x = int(input())\n",
    "    if x <=0 :\n",
    "        print('0이나 음수는 입력할 수 없습니다.')\n",
    "        continue\n",
    "    else:\n",
    "        a.append(x)\n",
    "        cnt += 1"
   ]
  },
  {
   "cell_type": "code",
   "execution_count": 2,
   "metadata": {},
   "outputs": [
    {
     "data": {
      "text/plain": [
       "[1, 2, 4, 2, 4]"
      ]
     },
     "execution_count": 2,
     "metadata": {},
     "output_type": "execute_result"
    }
   ],
   "source": [
    "a"
   ]
  }
 ],
 "metadata": {
  "kernelspec": {
   "display_name": "Python 3",
   "language": "python",
   "name": "python3"
  },
  "language_info": {
   "codemirror_mode": {
    "name": "ipython",
    "version": 3
   },
   "file_extension": ".py",
   "mimetype": "text/x-python",
   "name": "python",
   "nbconvert_exporter": "python",
   "pygments_lexer": "ipython3",
   "version": "3.7.6"
  }
 },
 "nbformat": 4,
 "nbformat_minor": 4
}
