{
 "cells": [
  {
   "cell_type": "markdown",
   "id": "simple-prospect",
   "metadata": {},
   "source": [
    "# Library"
   ]
  },
  {
   "cell_type": "code",
   "execution_count": 30,
   "id": "natural-syntax",
   "metadata": {
    "ExecuteTime": {
     "end_time": "2021-05-09T09:13:03.398028Z",
     "start_time": "2021-05-09T09:13:03.366114Z"
    }
   },
   "outputs": [],
   "source": [
    "import warnings\n",
    "warnings.filterwarnings('ignore')\n",
    "import glob\n",
    "import pandas as pd\n",
    "import numpy as np\n",
    "import seaborn as sns\n",
    "import matplotlib.pyplot as plt\n",
    "from lightgbm import LGBMClassifier\n",
    "from sklearn.model_selection import StratifiedKFold\n",
    "from sklearn.preprocessing import OneHotEncoder\n",
    "import random\n",
    "import os"
   ]
  },
  {
   "cell_type": "markdown",
   "id": "prospective-showcase",
   "metadata": {},
   "source": [
    "# Data Load & Preprocessing\n",
    "- 훈련에 필요없는 index 컬럼 삭제.\n",
    "- missing value를 모두 NAN 문자열로 대체\n",
    "- dtype object 인 컬럼들을 onehot encoding"
   ]
  },
  {
   "cell_type": "code",
   "execution_count": 31,
   "id": "sharing-frame",
   "metadata": {
    "ExecuteTime": {
     "end_time": "2021-05-09T09:13:04.800098Z",
     "start_time": "2021-05-09T09:13:03.749626Z"
    }
   },
   "outputs": [
    {
     "name": "stdout",
     "output_type": "stream",
     "text": [
      "['.ipynb_checkpoints', 'sample_submission.csv', 'test.csv', 'train.csv', 'Untitled.ipynb']\n"
     ]
    }
   ],
   "source": [
    "d = \"C:\\kaggle_data\\credit_card\"\n",
    "lst = os.listdir(d)\n",
    "print(lst)\n",
    "train = pd.read_csv(d + '\\\\' +lst[3])\n",
    "test = pd.read_csv(d + '\\\\' +lst[2])\n",
    "ss = pd.read_csv(d + '\\\\' +lst[1])"
   ]
  },
  {
   "cell_type": "code",
   "execution_count": 32,
   "id": "following-allah",
   "metadata": {
    "ExecuteTime": {
     "end_time": "2021-05-09T09:13:05.039953Z",
     "start_time": "2021-05-09T09:13:04.816989Z"
    },
    "run_control": {
     "marked": true
    }
   },
   "outputs": [],
   "source": [
    "train = train.drop(['index'], axis=1)\n",
    "train.fillna('NAN', inplace=True) \n",
    "test = test.drop(['index'], axis=1)\n",
    "test.fillna('NAN', inplace=True)"
   ]
  },
  {
   "cell_type": "code",
   "execution_count": 33,
   "id": "quantitative-bradley",
   "metadata": {
    "ExecuteTime": {
     "end_time": "2021-05-09T09:13:05.112313Z",
     "start_time": "2021-05-09T09:13:05.064886Z"
    }
   },
   "outputs": [],
   "source": [
    "train['log_income'] = np.log(train['income_total'])\n",
    "test['log_income'] = np.log(test['income_total'])"
   ]
  },
  {
   "cell_type": "code",
   "execution_count": 34,
   "id": "aerial-eating",
   "metadata": {},
   "outputs": [],
   "source": [
    "train = train.drop('income_total',1)\n",
    "test = test.drop('income_total',1)"
   ]
  },
  {
   "cell_type": "code",
   "execution_count": 35,
   "id": "simplified-glass",
   "metadata": {},
   "outputs": [],
   "source": [
    "train['liab'] = train['car'] + train['reality']\n",
    "test['liab'] = test['car'] + test['reality']"
   ]
  },
  {
   "cell_type": "code",
   "execution_count": 36,
   "id": "honest-durham",
   "metadata": {},
   "outputs": [],
   "source": [
    "train = train.drop(['car', 'reality'],1)\n",
    "test = test.drop(['car', 'reality'],1)"
   ]
  },
  {
   "cell_type": "code",
   "execution_count": 37,
   "id": "static-world",
   "metadata": {
    "ExecuteTime": {
     "end_time": "2021-05-09T09:13:05.606064Z",
     "start_time": "2021-05-09T09:13:05.559643Z"
    },
    "code_folding": []
   },
   "outputs": [],
   "source": [
    "object_col = []\n",
    "for col in train.columns:\n",
    "    if train[col].dtype == 'object':\n",
    "        object_col.append(col)"
   ]
  },
  {
   "cell_type": "code",
   "execution_count": 38,
   "id": "familiar-health",
   "metadata": {
    "ExecuteTime": {
     "end_time": "2021-05-09T09:13:06.256002Z",
     "start_time": "2021-05-09T09:13:06.104505Z"
    }
   },
   "outputs": [],
   "source": [
    "enc = OneHotEncoder()\n",
    "enc.fit(train.loc[:,object_col])\n",
    "\n",
    "\n",
    "train_onehot_df = pd.DataFrame(enc.transform(train.loc[:,object_col]).toarray(), \n",
    "             columns=enc.get_feature_names(object_col))\n",
    "train.drop(object_col, axis=1, inplace=True)\n",
    "train = pd.concat([train, train_onehot_df], axis=1)"
   ]
  },
  {
   "cell_type": "code",
   "execution_count": 39,
   "id": "wound-newcastle",
   "metadata": {
    "ExecuteTime": {
     "end_time": "2021-05-09T09:13:06.692858Z",
     "start_time": "2021-05-09T09:13:06.642967Z"
    }
   },
   "outputs": [],
   "source": [
    "test_onehot_df = pd.DataFrame(enc.transform(test.loc[:,object_col]).toarray(), \n",
    "             columns=enc.get_feature_names(object_col))\n",
    "test.drop(object_col, axis=1, inplace=True)\n",
    "test = pd.concat([test, test_onehot_df], axis=1)"
   ]
  },
  {
   "cell_type": "markdown",
   "id": "possible-ecuador",
   "metadata": {},
   "source": [
    "- ㅇAYS_BIRTH : 출생일, 데이터 수집일이 0이고 역으로 계산, int\n",
    "- DAYS_EMPLOYED: 업무 시작일, 데이터 수집일이 0이고 역으로 계산, int\n",
    "- begin_month: 신용카드 발급 월, 수집 당시 0 역으로 계산,int형"
   ]
  },
  {
   "cell_type": "markdown",
   "id": "chicken-services",
   "metadata": {},
   "source": [
    "# 일 -> 연도로 바꿔보면\n",
    "for c in ['DAYS_BIRTH','DAYS_EMPLOYED']:\n",
    "    train[c] = (train[c]/12)\n",
    "    test[c] = (test[c]/12)"
   ]
  },
  {
   "cell_type": "markdown",
   "id": "atmospheric-comment",
   "metadata": {},
   "source": [
    "# Training\n",
    "- 데이터 분리는 StratifiedKFold 를 사용하여 y값 분포를 비슷하게 분리시킴. -> 5-fold\n",
    "- lightgbm의 default parameter로 훈련.\n",
    "- 30번 이상 개선 없을 경우 중단.\n",
    "- 각 5개의 fold를 훈련하여 저장"
   ]
  },
  {
   "cell_type": "code",
   "execution_count": 45,
   "id": "compressed-brazil",
   "metadata": {},
   "outputs": [
    {
     "data": {
      "text/plain": [
       "Index(['child_num', 'DAYS_BIRTH', 'DAYS_EMPLOYED', 'FLAG_MOBIL', 'work_phone',\n",
       "       'phone', 'email', 'family_size', 'begin_month', 'credit', 'log_income',\n",
       "       'gender_F', 'gender_M', 'income_type_Commercial associate',\n",
       "       'income_type_Pensioner', 'income_type_State servant',\n",
       "       'income_type_Student', 'income_type_Working',\n",
       "       'edu_type_Academic degree', 'edu_type_Higher education',\n",
       "       'edu_type_Incomplete higher', 'edu_type_Lower secondary',\n",
       "       'edu_type_Secondary / secondary special', 'family_type_Civil marriage',\n",
       "       'family_type_Married', 'family_type_Separated',\n",
       "       'family_type_Single / not married', 'family_type_Widow',\n",
       "       'house_type_Co-op apartment', 'house_type_House / apartment',\n",
       "       'house_type_Municipal apartment', 'house_type_Office apartment',\n",
       "       'house_type_Rented apartment', 'house_type_With parents',\n",
       "       'occyp_type_Accountants', 'occyp_type_Cleaning staff',\n",
       "       'occyp_type_Cooking staff', 'occyp_type_Core staff',\n",
       "       'occyp_type_Drivers', 'occyp_type_HR staff',\n",
       "       'occyp_type_High skill tech staff', 'occyp_type_IT staff',\n",
       "       'occyp_type_Laborers', 'occyp_type_Low-skill Laborers',\n",
       "       'occyp_type_Managers', 'occyp_type_Medicine staff', 'occyp_type_NAN',\n",
       "       'occyp_type_Private service staff', 'occyp_type_Realty agents',\n",
       "       'occyp_type_Sales staff', 'occyp_type_Secretaries',\n",
       "       'occyp_type_Security staff', 'occyp_type_Waiters/barmen staff',\n",
       "       'liab_NN', 'liab_NY', 'liab_YN', 'liab_YY'],\n",
       "      dtype='object')"
      ]
     },
     "execution_count": 45,
     "metadata": {},
     "output_type": "execute_result"
    }
   ],
   "source": [
    "train.columns"
   ]
  },
  {
   "cell_type": "code",
   "execution_count": 40,
   "id": "scheduled-luxury",
   "metadata": {
    "ExecuteTime": {
     "end_time": "2021-05-09T09:13:19.122071Z",
     "start_time": "2021-05-09T09:13:19.072204Z"
    },
    "code_folding": []
   },
   "outputs": [],
   "source": [
    "skf = StratifiedKFold(n_splits=5, shuffle=True, random_state=42)\n",
    "folds=[]\n",
    "for train_idx, valid_idx in skf.split(train, train['credit']):\n",
    "    folds.append((train_idx, valid_idx))"
   ]
  },
  {
   "cell_type": "code",
   "execution_count": 41,
   "id": "upset-tuesday",
   "metadata": {
    "ExecuteTime": {
     "end_time": "2021-05-09T09:14:20.948238Z",
     "start_time": "2021-05-09T09:13:45.986722Z"
    },
    "scrolled": true
   },
   "outputs": [
    {
     "name": "stdout",
     "output_type": "stream",
     "text": [
      "====================================1============================================\n",
      "Training until validation scores don't improve for 30 rounds\n",
      "[100]\ttraining's multi_logloss: 0.65054\tvalid_1's multi_logloss: 0.752322\n",
      "[200]\ttraining's multi_logloss: 0.565407\tvalid_1's multi_logloss: 0.737783\n",
      "[300]\ttraining's multi_logloss: 0.504073\tvalid_1's multi_logloss: 0.73312\n",
      "[400]\ttraining's multi_logloss: 0.452307\tvalid_1's multi_logloss: 0.73208\n",
      "Early stopping, best iteration is:\n",
      "[383]\ttraining's multi_logloss: 0.459756\tvalid_1's multi_logloss: 0.731807\n",
      "================================================================================\n",
      "\n",
      "\n",
      "====================================2============================================\n",
      "Training until validation scores don't improve for 30 rounds\n",
      "[100]\ttraining's multi_logloss: 0.644877\tvalid_1's multi_logloss: 0.760468\n",
      "[200]\ttraining's multi_logloss: 0.558568\tvalid_1's multi_logloss: 0.747751\n",
      "Early stopping, best iteration is:\n",
      "[233]\ttraining's multi_logloss: 0.536143\tvalid_1's multi_logloss: 0.745926\n",
      "================================================================================\n",
      "\n",
      "\n",
      "====================================3============================================\n",
      "Training until validation scores don't improve for 30 rounds\n",
      "[100]\ttraining's multi_logloss: 0.649316\tvalid_1's multi_logloss: 0.757925\n",
      "[200]\ttraining's multi_logloss: 0.562021\tvalid_1's multi_logloss: 0.747783\n",
      "[300]\ttraining's multi_logloss: 0.497797\tvalid_1's multi_logloss: 0.744081\n",
      "Early stopping, best iteration is:\n",
      "[291]\ttraining's multi_logloss: 0.502981\tvalid_1's multi_logloss: 0.743879\n",
      "================================================================================\n",
      "\n",
      "\n",
      "====================================4============================================\n",
      "Training until validation scores don't improve for 30 rounds\n",
      "[100]\ttraining's multi_logloss: 0.649\tvalid_1's multi_logloss: 0.754642\n",
      "[200]\ttraining's multi_logloss: 0.562991\tvalid_1's multi_logloss: 0.740719\n",
      "[300]\ttraining's multi_logloss: 0.499904\tvalid_1's multi_logloss: 0.736688\n",
      "Early stopping, best iteration is:\n",
      "[336]\ttraining's multi_logloss: 0.480582\tvalid_1's multi_logloss: 0.736054\n",
      "================================================================================\n",
      "\n",
      "\n",
      "====================================5============================================\n",
      "Training until validation scores don't improve for 30 rounds\n",
      "[100]\ttraining's multi_logloss: 0.651578\tvalid_1's multi_logloss: 0.755736\n",
      "[200]\ttraining's multi_logloss: 0.566213\tvalid_1's multi_logloss: 0.741229\n",
      "[300]\ttraining's multi_logloss: 0.499959\tvalid_1's multi_logloss: 0.736039\n",
      "Early stopping, best iteration is:\n",
      "[298]\ttraining's multi_logloss: 0.500953\tvalid_1's multi_logloss: 0.736006\n",
      "================================================================================\n",
      "\n",
      "\n"
     ]
    }
   ],
   "source": [
    "skf = StratifiedKFold(n_splits=5, shuffle=True, random_state=42)\n",
    "folds=[]\n",
    "for train_idx, valid_idx in skf.split(train, train['credit']):\n",
    "    folds.append((train_idx, valid_idx))\n",
    "random.seed(42)\n",
    "lgb_models={}\n",
    "for fold in range(5):\n",
    "    print(f'===================================={fold+1}============================================')\n",
    "    train_idx, valid_idx = folds[fold]\n",
    "    X_train, X_valid, y_train, y_valid = train.drop(['credit'],axis=1).iloc[train_idx].values, train.drop(['credit'],axis=1).iloc[valid_idx].values,\\\n",
    "                                         train['credit'][train_idx].values, train['credit'][valid_idx].values \n",
    "    lgb = LGBMClassifier(n_estimators=1000)\n",
    "    lgb.fit(X_train, y_train, \n",
    "            eval_set=[(X_train, y_train), (X_valid, y_valid)], \n",
    "            early_stopping_rounds=30,\n",
    "           verbose=100)\n",
    "    lgb_models[fold]=lgb\n",
    "    print(f'================================================================================\\n\\n')"
   ]
  },
  {
   "cell_type": "code",
   "execution_count": 46,
   "id": "bottom-zimbabwe",
   "metadata": {
    "ExecuteTime": {
     "end_time": "2021-05-09T09:16:25.308688Z",
     "start_time": "2021-05-09T09:16:25.301714Z"
    }
   },
   "outputs": [
    {
     "data": {
      "text/plain": [
       "0.7387344"
      ]
     },
     "execution_count": 46,
     "metadata": {},
     "output_type": "execute_result"
    }
   ],
   "source": [
    "sum([0.731807, 0.745926,0.743879, 0.736054, 0.736006])/5"
   ]
  },
  {
   "cell_type": "markdown",
   "id": "starting-speaker",
   "metadata": {},
   "source": [
    "# Test inference\n",
    "- 각 fold를 훈련시킨 lightgbm model로 predict.\n",
    "- 해당 대회는 logloss score를 겨루는 것이기 때문에 각 class의 probability를 얻어야함.\n",
    "- 대부분의 머신러닝 모델에서 predict, predict_proba를 구분하여 사용함.\n",
    "- predict는 class 출력을 해주고 predict_proba는 class별 probability를 출력해줌.\n",
    "- predict_proba를 사용하여 예측한 것을 5-fold 더하여 평균내어 앙상블."
   ]
  },
  {
   "cell_type": "code",
   "execution_count": 42,
   "id": "interpreted-secondary",
   "metadata": {
    "ExecuteTime": {
     "end_time": "2021-04-05T07:28:24.561816Z",
     "start_time": "2021-04-05T07:28:24.387286Z"
    },
    "run_control": {
     "marked": true
    }
   },
   "outputs": [],
   "source": [
    "ss.iloc[:,1:]=0\n",
    "for fold in range(5):\n",
    "    ss.iloc[:,1:] += lgb_models[fold].predict_proba(test)/5"
   ]
  },
  {
   "cell_type": "code",
   "execution_count": 44,
   "id": "patent-sauce",
   "metadata": {
    "ExecuteTime": {
     "end_time": "2021-05-09T09:15:12.893920Z",
     "start_time": "2021-05-09T09:14:20.953225Z"
    }
   },
   "outputs": [
    {
     "name": "stdout",
     "output_type": "stream",
     "text": [
      "0.7063157848872134\n"
     ]
    }
   ],
   "source": [
    "# log_income을 사용했을 때의 점수\n",
    "from sklearn.model_selection import cross_val_score\n",
    "\n",
    "print(cross_val_score(lgb_models[0], train.drop(['credit'],axis=1), train['credit'], cv=skf).mean())"
   ]
  },
  {
   "cell_type": "code",
   "execution_count": 43,
   "id": "quiet-breathing",
   "metadata": {
    "ExecuteTime": {
     "end_time": "2021-04-05T07:28:24.598886Z",
     "start_time": "2021-04-05T07:28:24.563499Z"
    }
   },
   "outputs": [],
   "source": [
    "ss.to_csv('add_liab.csv', index=False) # "
   ]
  },
  {
   "cell_type": "code",
   "execution_count": 34,
   "id": "transsexual-recording",
   "metadata": {
    "ExecuteTime": {
     "end_time": "2021-05-09T09:15:12.947294Z",
     "start_time": "2021-05-09T09:15:12.897908Z"
    }
   },
   "outputs": [],
   "source": [
    "skf = StratifiedKFold(n_splits=5, shuffle=True, random_state=42)\n",
    "folds=[]\n",
    "for train_idx, valid_idx in skf.split(train.drop('log_income',1), train['credit']):\n",
    "    folds.append((train_idx, valid_idx))"
   ]
  },
  {
   "cell_type": "code",
   "execution_count": 35,
   "id": "moral-mercy",
   "metadata": {
    "ExecuteTime": {
     "end_time": "2021-05-09T09:16:00.132779Z",
     "start_time": "2021-05-09T09:15:12.959263Z"
    }
   },
   "outputs": [
    {
     "name": "stdout",
     "output_type": "stream",
     "text": [
      "====================================1============================================\n",
      "Training until validation scores don't improve for 30 rounds\n",
      "[100]\ttraining's multi_logloss: 0.649825\tvalid_1's multi_logloss: 0.754342\n",
      "[200]\ttraining's multi_logloss: 0.565196\tvalid_1's multi_logloss: 0.738368\n",
      "[300]\ttraining's multi_logloss: 0.503465\tvalid_1's multi_logloss: 0.731678\n",
      "Early stopping, best iteration is:\n",
      "[307]\ttraining's multi_logloss: 0.499573\tvalid_1's multi_logloss: 0.731416\n",
      "================================================================================\n",
      "\n",
      "\n",
      "====================================2============================================\n",
      "Training until validation scores don't improve for 30 rounds\n",
      "[100]\ttraining's multi_logloss: 0.646021\tvalid_1's multi_logloss: 0.764365\n",
      "[200]\ttraining's multi_logloss: 0.560632\tvalid_1's multi_logloss: 0.751211\n",
      "[300]\ttraining's multi_logloss: 0.497513\tvalid_1's multi_logloss: 0.748437\n",
      "Early stopping, best iteration is:\n",
      "[330]\ttraining's multi_logloss: 0.480923\tvalid_1's multi_logloss: 0.747248\n",
      "================================================================================\n",
      "\n",
      "\n",
      "====================================3============================================\n",
      "Training until validation scores don't improve for 30 rounds\n",
      "[100]\ttraining's multi_logloss: 0.650293\tvalid_1's multi_logloss: 0.758441\n",
      "[200]\ttraining's multi_logloss: 0.562092\tvalid_1's multi_logloss: 0.744718\n",
      "[300]\ttraining's multi_logloss: 0.497577\tvalid_1's multi_logloss: 0.742915\n",
      "Early stopping, best iteration is:\n",
      "[300]\ttraining's multi_logloss: 0.497577\tvalid_1's multi_logloss: 0.742915\n",
      "================================================================================\n",
      "\n",
      "\n",
      "====================================4============================================\n",
      "Training until validation scores don't improve for 30 rounds\n",
      "[100]\ttraining's multi_logloss: 0.648708\tvalid_1's multi_logloss: 0.755516\n",
      "[200]\ttraining's multi_logloss: 0.562289\tvalid_1's multi_logloss: 0.7392\n",
      "Early stopping, best iteration is:\n",
      "[256]\ttraining's multi_logloss: 0.525232\tvalid_1's multi_logloss: 0.735804\n",
      "================================================================================\n",
      "\n",
      "\n",
      "====================================5============================================\n",
      "Training until validation scores don't improve for 30 rounds\n",
      "[100]\ttraining's multi_logloss: 0.651188\tvalid_1's multi_logloss: 0.755536\n",
      "[200]\ttraining's multi_logloss: 0.565233\tvalid_1's multi_logloss: 0.741456\n",
      "[300]\ttraining's multi_logloss: 0.500595\tvalid_1's multi_logloss: 0.736311\n",
      "Early stopping, best iteration is:\n",
      "[289]\ttraining's multi_logloss: 0.50667\tvalid_1's multi_logloss: 0.735772\n",
      "================================================================================\n",
      "\n",
      "\n"
     ]
    }
   ],
   "source": [
    "random.seed(42)\n",
    "lgb_models={}\n",
    "for fold in range(5):\n",
    "    print(f'===================================={fold+1}============================================')\n",
    "    train_idx, valid_idx = folds[fold]\n",
    "    X_train, X_valid, y_train, y_valid = train.drop(['log_income','credit'],axis=1).iloc[train_idx].values, train.drop(['log_income','credit'],axis=1).iloc[valid_idx].values,\\\n",
    "                                         train['credit'][train_idx].values, train['credit'][valid_idx].values \n",
    "    lgb = LGBMClassifier(n_estimators=1000)\n",
    "    lgb.fit(X_train, y_train, \n",
    "            eval_set=[(X_train, y_train), (X_valid, y_valid)], \n",
    "            early_stopping_rounds=30,\n",
    "           verbose=100)\n",
    "    lgb_models[fold]=lgb\n",
    "    print(f'================================================================================\\n\\n')"
   ]
  },
  {
   "cell_type": "code",
   "execution_count": 28,
   "id": "central-seller",
   "metadata": {},
   "outputs": [
    {
     "ename": "KeyError",
     "evalue": "'liab'",
     "output_type": "error",
     "traceback": [
      "\u001b[1;31m-------------------------------------------------------------------------\u001b[0m",
      "\u001b[1;31mKeyError\u001b[0m                                Traceback (most recent call last)",
      "\u001b[1;32mC:\\Anaconda3\\lib\\site-packages\\pandas\\core\\indexes\\base.py\u001b[0m in \u001b[0;36mget_loc\u001b[1;34m(self, key, method, tolerance)\u001b[0m\n\u001b[0;32m   3079\u001b[0m             \u001b[1;32mtry\u001b[0m\u001b[1;33m:\u001b[0m\u001b[1;33m\u001b[0m\u001b[1;33m\u001b[0m\u001b[0m\n\u001b[1;32m-> 3080\u001b[1;33m                 \u001b[1;32mreturn\u001b[0m \u001b[0mself\u001b[0m\u001b[1;33m.\u001b[0m\u001b[0m_engine\u001b[0m\u001b[1;33m.\u001b[0m\u001b[0mget_loc\u001b[0m\u001b[1;33m(\u001b[0m\u001b[0mcasted_key\u001b[0m\u001b[1;33m)\u001b[0m\u001b[1;33m\u001b[0m\u001b[1;33m\u001b[0m\u001b[0m\n\u001b[0m\u001b[0;32m   3081\u001b[0m             \u001b[1;32mexcept\u001b[0m \u001b[0mKeyError\u001b[0m \u001b[1;32mas\u001b[0m \u001b[0merr\u001b[0m\u001b[1;33m:\u001b[0m\u001b[1;33m\u001b[0m\u001b[1;33m\u001b[0m\u001b[0m\n",
      "\u001b[1;32mpandas\\_libs\\index.pyx\u001b[0m in \u001b[0;36mpandas._libs.index.IndexEngine.get_loc\u001b[1;34m()\u001b[0m\n",
      "\u001b[1;32mpandas\\_libs\\index.pyx\u001b[0m in \u001b[0;36mpandas._libs.index.IndexEngine.get_loc\u001b[1;34m()\u001b[0m\n",
      "\u001b[1;32mpandas\\_libs\\hashtable_class_helper.pxi\u001b[0m in \u001b[0;36mpandas._libs.hashtable.PyObjectHashTable.get_item\u001b[1;34m()\u001b[0m\n",
      "\u001b[1;32mpandas\\_libs\\hashtable_class_helper.pxi\u001b[0m in \u001b[0;36mpandas._libs.hashtable.PyObjectHashTable.get_item\u001b[1;34m()\u001b[0m\n",
      "\u001b[1;31mKeyError\u001b[0m: 'liab'",
      "\nThe above exception was the direct cause of the following exception:\n",
      "\u001b[1;31mKeyError\u001b[0m                                Traceback (most recent call last)",
      "\u001b[1;32m<ipython-input-28-ee16454ab4ec>\u001b[0m in \u001b[0;36m<module>\u001b[1;34m\u001b[0m\n\u001b[1;32m----> 1\u001b[1;33m \u001b[0mtrain\u001b[0m\u001b[1;33m[\u001b[0m\u001b[1;34m'liab'\u001b[0m\u001b[1;33m]\u001b[0m\u001b[1;33m\u001b[0m\u001b[1;33m\u001b[0m\u001b[0m\n\u001b[0m",
      "\u001b[1;32mC:\\Anaconda3\\lib\\site-packages\\pandas\\core\\frame.py\u001b[0m in \u001b[0;36m__getitem__\u001b[1;34m(self, key)\u001b[0m\n\u001b[0;32m   3022\u001b[0m             \u001b[1;32mif\u001b[0m \u001b[0mself\u001b[0m\u001b[1;33m.\u001b[0m\u001b[0mcolumns\u001b[0m\u001b[1;33m.\u001b[0m\u001b[0mnlevels\u001b[0m \u001b[1;33m>\u001b[0m \u001b[1;36m1\u001b[0m\u001b[1;33m:\u001b[0m\u001b[1;33m\u001b[0m\u001b[1;33m\u001b[0m\u001b[0m\n\u001b[0;32m   3023\u001b[0m                 \u001b[1;32mreturn\u001b[0m \u001b[0mself\u001b[0m\u001b[1;33m.\u001b[0m\u001b[0m_getitem_multilevel\u001b[0m\u001b[1;33m(\u001b[0m\u001b[0mkey\u001b[0m\u001b[1;33m)\u001b[0m\u001b[1;33m\u001b[0m\u001b[1;33m\u001b[0m\u001b[0m\n\u001b[1;32m-> 3024\u001b[1;33m             \u001b[0mindexer\u001b[0m \u001b[1;33m=\u001b[0m \u001b[0mself\u001b[0m\u001b[1;33m.\u001b[0m\u001b[0mcolumns\u001b[0m\u001b[1;33m.\u001b[0m\u001b[0mget_loc\u001b[0m\u001b[1;33m(\u001b[0m\u001b[0mkey\u001b[0m\u001b[1;33m)\u001b[0m\u001b[1;33m\u001b[0m\u001b[1;33m\u001b[0m\u001b[0m\n\u001b[0m\u001b[0;32m   3025\u001b[0m             \u001b[1;32mif\u001b[0m \u001b[0mis_integer\u001b[0m\u001b[1;33m(\u001b[0m\u001b[0mindexer\u001b[0m\u001b[1;33m)\u001b[0m\u001b[1;33m:\u001b[0m\u001b[1;33m\u001b[0m\u001b[1;33m\u001b[0m\u001b[0m\n\u001b[0;32m   3026\u001b[0m                 \u001b[0mindexer\u001b[0m \u001b[1;33m=\u001b[0m \u001b[1;33m[\u001b[0m\u001b[0mindexer\u001b[0m\u001b[1;33m]\u001b[0m\u001b[1;33m\u001b[0m\u001b[1;33m\u001b[0m\u001b[0m\n",
      "\u001b[1;32mC:\\Anaconda3\\lib\\site-packages\\pandas\\core\\indexes\\base.py\u001b[0m in \u001b[0;36mget_loc\u001b[1;34m(self, key, method, tolerance)\u001b[0m\n\u001b[0;32m   3080\u001b[0m                 \u001b[1;32mreturn\u001b[0m \u001b[0mself\u001b[0m\u001b[1;33m.\u001b[0m\u001b[0m_engine\u001b[0m\u001b[1;33m.\u001b[0m\u001b[0mget_loc\u001b[0m\u001b[1;33m(\u001b[0m\u001b[0mcasted_key\u001b[0m\u001b[1;33m)\u001b[0m\u001b[1;33m\u001b[0m\u001b[1;33m\u001b[0m\u001b[0m\n\u001b[0;32m   3081\u001b[0m             \u001b[1;32mexcept\u001b[0m \u001b[0mKeyError\u001b[0m \u001b[1;32mas\u001b[0m \u001b[0merr\u001b[0m\u001b[1;33m:\u001b[0m\u001b[1;33m\u001b[0m\u001b[1;33m\u001b[0m\u001b[0m\n\u001b[1;32m-> 3082\u001b[1;33m                 \u001b[1;32mraise\u001b[0m \u001b[0mKeyError\u001b[0m\u001b[1;33m(\u001b[0m\u001b[0mkey\u001b[0m\u001b[1;33m)\u001b[0m \u001b[1;32mfrom\u001b[0m \u001b[0merr\u001b[0m\u001b[1;33m\u001b[0m\u001b[1;33m\u001b[0m\u001b[0m\n\u001b[0m\u001b[0;32m   3083\u001b[0m \u001b[1;33m\u001b[0m\u001b[0m\n\u001b[0;32m   3084\u001b[0m         \u001b[1;32mif\u001b[0m \u001b[0mtolerance\u001b[0m \u001b[1;32mis\u001b[0m \u001b[1;32mnot\u001b[0m \u001b[1;32mNone\u001b[0m\u001b[1;33m:\u001b[0m\u001b[1;33m\u001b[0m\u001b[1;33m\u001b[0m\u001b[0m\n",
      "\u001b[1;31mKeyError\u001b[0m: 'liab'"
     ]
    }
   ],
   "source": [
    "train['liab']"
   ]
  },
  {
   "cell_type": "code",
   "execution_count": 38,
   "id": "complex-position",
   "metadata": {
    "ExecuteTime": {
     "end_time": "2021-05-09T09:17:28.225778Z",
     "start_time": "2021-05-09T09:17:28.216841Z"
    }
   },
   "outputs": [
    {
     "data": {
      "text/plain": [
       "0.7386309999999999"
      ]
     },
     "execution_count": 38,
     "metadata": {},
     "output_type": "execute_result"
    }
   ],
   "source": [
    "sum([0.735772, 0.735804, 0.742915, 0.747248, 0.731416])/5"
   ]
  },
  {
   "cell_type": "code",
   "execution_count": 37,
   "id": "educated-steps",
   "metadata": {
    "ExecuteTime": {
     "end_time": "2021-05-09T09:17:27.288260Z",
     "start_time": "2021-05-09T09:16:32.187781Z"
    }
   },
   "outputs": [
    {
     "name": "stdout",
     "output_type": "stream",
     "text": [
      "0.7049552192409335\n"
     ]
    }
   ],
   "source": [
    "# log_income을 사용하지 않았을 때의 점수\n",
    "from sklearn.model_selection import cross_val_score\n",
    "print(cross_val_score(lgb_models[0], train.drop(['income_total','credit'],axis=1), train['credit'], cv=skf).mean())"
   ]
  },
  {
   "cell_type": "code",
   "execution_count": 39,
   "id": "anonymous-assessment",
   "metadata": {
    "ExecuteTime": {
     "end_time": "2021-05-09T09:19:37.581643Z",
     "start_time": "2021-05-09T09:19:37.452839Z"
    }
   },
   "outputs": [
    {
     "data": {
      "text/html": [
       "<div>\n",
       "<style scoped>\n",
       "    .dataframe tbody tr th:only-of-type {\n",
       "        vertical-align: middle;\n",
       "    }\n",
       "\n",
       "    .dataframe tbody tr th {\n",
       "        vertical-align: top;\n",
       "    }\n",
       "\n",
       "    .dataframe thead th {\n",
       "        text-align: right;\n",
       "    }\n",
       "</style>\n",
       "<table border=\"1\" class=\"dataframe\">\n",
       "  <thead>\n",
       "    <tr style=\"text-align: right;\">\n",
       "      <th></th>\n",
       "      <th>status</th>\n",
       "      <th>self</th>\n",
       "      <th>cv</th>\n",
       "    </tr>\n",
       "  </thead>\n",
       "  <tbody>\n",
       "    <tr>\n",
       "      <th>0</th>\n",
       "      <td>no_log</td>\n",
       "      <td>0.738631</td>\n",
       "      <td>0.704955</td>\n",
       "    </tr>\n",
       "    <tr>\n",
       "      <th>1</th>\n",
       "      <td>yes_log</td>\n",
       "      <td>0.738631</td>\n",
       "      <td>0.704955</td>\n",
       "    </tr>\n",
       "  </tbody>\n",
       "</table>\n",
       "</div>"
      ],
      "text/plain": [
       "    status      self        cv\n",
       "0   no_log  0.738631  0.704955\n",
       "1  yes_log  0.738631  0.704955"
      ]
     },
     "execution_count": 39,
     "metadata": {},
     "output_type": "execute_result"
    }
   ],
   "source": [
    "pd.DataFrame([['no_log', 0.7386309999999999, 0.7049552192409335],['yes_log', 0.7386307999999999,0.7049552192409335]],columns=['status','self','cv'])"
   ]
  },
  {
   "cell_type": "code",
   "execution_count": null,
   "id": "prescribed-highland",
   "metadata": {},
   "outputs": [],
   "source": []
  }
 ],
 "metadata": {
  "kernelspec": {
   "display_name": "Python 3",
   "language": "python",
   "name": "python3"
  },
  "language_info": {
   "codemirror_mode": {
    "name": "ipython",
    "version": 3
   },
   "file_extension": ".py",
   "mimetype": "text/x-python",
   "name": "python",
   "nbconvert_exporter": "python",
   "pygments_lexer": "ipython3",
   "version": "3.7.6"
  },
  "toc": {
   "base_numbering": 1,
   "nav_menu": {},
   "number_sections": true,
   "sideBar": true,
   "skip_h1_title": false,
   "title_cell": "Table of Contents",
   "title_sidebar": "Contents",
   "toc_cell": false,
   "toc_position": {},
   "toc_section_display": true,
   "toc_window_display": false
  },
  "varInspector": {
   "cols": {
    "lenName": 16,
    "lenType": 16,
    "lenVar": 40
   },
   "kernels_config": {
    "python": {
     "delete_cmd_postfix": "",
     "delete_cmd_prefix": "del ",
     "library": "var_list.py",
     "varRefreshCmd": "print(var_dic_list())"
    },
    "r": {
     "delete_cmd_postfix": ") ",
     "delete_cmd_prefix": "rm(",
     "library": "var_list.r",
     "varRefreshCmd": "cat(var_dic_list()) "
    }
   },
   "types_to_exclude": [
    "module",
    "function",
    "builtin_function_or_method",
    "instance",
    "_Feature"
   ],
   "window_display": false
  }
 },
 "nbformat": 4,
 "nbformat_minor": 5
}
