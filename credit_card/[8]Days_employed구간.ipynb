{
 "cells": [
  {
   "cell_type": "markdown",
   "id": "after-culture",
   "metadata": {},
   "source": [
    "# 하려는 것\n",
    "- Days_employed를 bin으로 나눠서 원핫인코딩"
   ]
  },
  {
   "cell_type": "markdown",
   "id": "turkish-charlotte",
   "metadata": {},
   "source": [
    "# Library"
   ]
  },
  {
   "cell_type": "code",
   "execution_count": 7,
   "id": "interpreted-impression",
   "metadata": {
    "ExecuteTime": {
     "end_time": "2021-05-09T09:01:53.126015Z",
     "start_time": "2021-05-09T09:01:52.188335Z"
    }
   },
   "outputs": [],
   "source": [
    "import warnings\n",
    "warnings.filterwarnings('ignore')\n",
    "import glob\n",
    "import pandas as pd\n",
    "import numpy as np\n",
    "import seaborn as sns\n",
    "import matplotlib.pyplot as plt\n",
    "from lightgbm import LGBMClassifier\n",
    "from sklearn.model_selection import StratifiedKFold\n",
    "from sklearn.preprocessing import OneHotEncoder\n",
    "import random\n",
    "import os"
   ]
  },
  {
   "cell_type": "markdown",
   "id": "leading-orientation",
   "metadata": {},
   "source": [
    "# Data Load & Preprocessing\n",
    "- 훈련에 필요없는 index 컬럼 삭제.\n",
    "- missing value를 모두 NAN 문자열로 대체\n",
    "- dtype object 인 컬럼들을 onehot encoding"
   ]
  },
  {
   "cell_type": "code",
   "execution_count": 8,
   "id": "loved-hierarchy",
   "metadata": {
    "ExecuteTime": {
     "end_time": "2021-05-09T08:58:18.728380Z",
     "start_time": "2021-05-09T08:58:18.601236Z"
    }
   },
   "outputs": [
    {
     "name": "stdout",
     "output_type": "stream",
     "text": [
      "['.ipynb_checkpoints', 'sample_submission.csv', 'test.csv', 'train.csv', 'Untitled.ipynb']\n"
     ]
    }
   ],
   "source": [
    "d = \"C:\\kaggle_data\\credit_card\"\n",
    "lst = os.listdir(d)\n",
    "print(lst)\n",
    "train = pd.read_csv(d + '\\\\' +lst[3])\n",
    "test = pd.read_csv(d + '\\\\' +lst[2])\n",
    "ss = pd.read_csv(d + '\\\\' +lst[1])"
   ]
  },
  {
   "cell_type": "code",
   "execution_count": 9,
   "id": "veterinary-ethnic",
   "metadata": {
    "ExecuteTime": {
     "end_time": "2021-05-09T08:58:19.137802Z",
     "start_time": "2021-05-09T08:58:19.099388Z"
    },
    "run_control": {
     "marked": true
    }
   },
   "outputs": [],
   "source": [
    "train = train.drop(['index'], axis=1)\n",
    "train.fillna('NAN', inplace=True) \n",
    "\n",
    "test = test.drop(['index'], axis=1)\n",
    "test.fillna('NAN', inplace=True)"
   ]
  },
  {
   "cell_type": "code",
   "execution_count": 10,
   "id": "graduate-boutique",
   "metadata": {
    "ExecuteTime": {
     "end_time": "2021-05-09T08:58:21.335951Z",
     "start_time": "2021-05-09T08:58:21.328939Z"
    }
   },
   "outputs": [],
   "source": [
    "# 연소로 바꿈\n",
    "train['DAYS_EMPLOYED']=train['DAYS_EMPLOYED']/365\n",
    "train['DAYS_EMPLOYED'] = abs(train['DAYS_EMPLOYED'])\n",
    "train.loc[train['DAYS_EMPLOYED']>=36540,'DAYS_EMPLOYED']=-1\n",
    "\n",
    "test['DAYS_EMPLOYED']=test['DAYS_EMPLOYED']/365\n",
    "test['DAYS_EMPLOYED'] = abs(test['DAYS_EMPLOYED'])\n",
    "test.loc[test['DAYS_EMPLOYED']>=36540,'DAYS_EMPLOYED']=-1"
   ]
  },
  {
   "cell_type": "code",
   "execution_count": 11,
   "id": "english-chrome",
   "metadata": {
    "ExecuteTime": {
     "end_time": "2021-05-09T09:00:53.759091Z",
     "start_time": "2021-05-09T09:00:53.748153Z"
    }
   },
   "outputs": [],
   "source": [
    "bin_edges = [-float('inf'),0,5,10,15,20,25,30,35,float('inf')]\n",
    "train['work_bin'] = pd.cut(train['DAYS_EMPLOYED'],bin_edges,labels=False).astype('str')\n",
    "test['work_bin'] = pd.cut(test['DAYS_EMPLOYED'],bin_edges,labels=False).astype('str')"
   ]
  },
  {
   "cell_type": "code",
   "execution_count": 13,
   "id": "falling-indonesia",
   "metadata": {
    "scrolled": true
   },
   "outputs": [
    {
     "data": {
      "text/plain": [
       "<AxesSubplot:xlabel='work_bin', ylabel='Density'>"
      ]
     },
     "execution_count": 13,
     "metadata": {},
     "output_type": "execute_result"
    },
    {
     "data": {
      "image/png": "[encoded data removed]",
      "text/plain": [
       "<Figure size 432x288 with 1 Axes>"
      ]
     },
     "metadata": {
      "needs_background": "light"
     },
     "output_type": "display_data"
    }
   ],
   "source": [
    "sns.distplot(train['work_bin'])"
   ]
  },
  {
   "cell_type": "code",
   "execution_count": 14,
   "id": "possible-munich",
   "metadata": {},
   "outputs": [
    {
     "data": {
      "text/plain": [
       "<seaborn.axisgrid.FacetGrid at 0x1f64aa1c688>"
      ]
     },
     "execution_count": 14,
     "metadata": {},
     "output_type": "execute_result"
    },
    {
     "data": {
      "image/png": "[encoded data removed]",
      "text/plain": [
       "<Figure size 360x360 with 1 Axes>"
      ]
     },
     "metadata": {
      "needs_background": "light"
     },
     "output_type": "display_data"
    }
   ],
   "source": [
    "sns.factorplot(x='work_bin',y='credit',data=train)"
   ]
  },
  {
   "cell_type": "code",
   "execution_count": 7,
   "id": "collect-extreme",
   "metadata": {
    "ExecuteTime": {
     "end_time": "2021-05-09T09:03:23.119737Z",
     "start_time": "2021-05-09T09:03:23.113215Z"
    }
   },
   "outputs": [],
   "source": [
    "train['log_income'] = np.log(train['income_total'])\n",
    "test['log_income'] = np.log(test['income_total'])\n",
    "train=train.drop('income_total',1)\n",
    "test=test.drop('income_total',1)"
   ]
  },
  {
   "cell_type": "code",
   "execution_count": 116,
   "id": "another-campus",
   "metadata": {
    "ExecuteTime": {
     "end_time": "2021-05-09T09:24:42.581963Z",
     "start_time": "2021-05-09T09:24:42.558087Z"
    }
   },
   "outputs": [],
   "source": [
    "train_days = train.drop('work_bin',1)\n",
    "test_days = test.drop('work_bin',1)\n",
    "\n",
    "train_bins = train.drop('DAYS_EMPLOYED',1)\n",
    "test_bins = test.drop('DAYS_EMPLOYED',1)"
   ]
  },
  {
   "cell_type": "code",
   "execution_count": 117,
   "id": "induced-capture",
   "metadata": {
    "ExecuteTime": {
     "end_time": "2021-05-09T09:20:46.073346Z",
     "start_time": "2021-05-09T09:20:46.065395Z"
    },
    "code_folding": []
   },
   "outputs": [],
   "source": [
    "days_col = []\n",
    "for col in train_days:\n",
    "    if train[col].dtype == 'object':\n",
    "        days_col.append(col)\n",
    "        \n",
    "bins_col = []\n",
    "for col in train_bins:\n",
    "    if train[col].dtype == 'object':\n",
    "        bins_col.append(col)        "
   ]
  },
  {
   "cell_type": "code",
   "execution_count": 118,
   "id": "acoustic-helena",
   "metadata": {
    "ExecuteTime": {
     "end_time": "2021-05-09T09:20:46.683927Z",
     "start_time": "2021-05-09T09:20:46.514976Z"
    }
   },
   "outputs": [],
   "source": [
    "def one_hot(train, test,object_col):\n",
    "    total = pd.concat([train,test])\n",
    "    enc = OneHotEncoder()\n",
    "    enc.fit(total.loc[:,object_col])\n",
    "\n",
    "\n",
    "    train_onehot_df = pd.DataFrame(enc.transform(train.loc[:,object_col]).toarray(), \n",
    "                 columns=enc.get_feature_names(object_col))\n",
    "    train.drop(object_col, axis=1, inplace=True)\n",
    "    train = pd.concat([train, train_onehot_df], axis=1)\n",
    "    test_onehot_df = pd.DataFrame(enc.transform(test.loc[:,object_col]).toarray(), \n",
    "                 columns=enc.get_feature_names(object_col))\n",
    "    test.drop(object_col, axis=1, inplace=True)\n",
    "    test = pd.concat([test, test_onehot_df], axis=1)\n",
    "    \n",
    "    return train, test"
   ]
  },
  {
   "cell_type": "code",
   "execution_count": 119,
   "id": "elegant-buyer",
   "metadata": {
    "ExecuteTime": {
     "end_time": "2021-05-09T09:20:47.473515Z",
     "start_time": "2021-05-09T09:20:47.409814Z"
    }
   },
   "outputs": [],
   "source": [
    "train_days, test_days = one_hot(train_days, test_days,days_col)\n",
    "train_bins, test_bins = one_hot(train_bins, test_bins,bins_col)"
   ]
  },
  {
   "cell_type": "markdown",
   "id": "alert-amplifier",
   "metadata": {},
   "source": [
    "- ㅇAYS_BIRTH : 출생일, 데이터 수집일이 0이고 역으로 계산, int\n",
    "- DAYS_EMPLOYED: 업무 시작일, 데이터 수집일이 0이고 역으로 계산, int\n",
    "- begin_month: 신용카드 발급 월, 수집 당시 0 역으로 계산,int형"
   ]
  },
  {
   "cell_type": "markdown",
   "id": "functioning-discount",
   "metadata": {},
   "source": [
    "# 일 -> 연도로 바꿔보면\n",
    "for c in ['DAYS_BIRTH','DAYS_EMPLOYED']:\n",
    "    train[c] = (train[c]/12)\n",
    "    test[c] = (test[c]/12)"
   ]
  },
  {
   "cell_type": "markdown",
   "id": "searching-alcohol",
   "metadata": {},
   "source": [
    "# Training\n",
    "- 데이터 분리는 StratifiedKFold 를 사용하여 y값 분포를 비슷하게 분리시킴. -> 5-fold\n",
    "- lightgbm의 default parameter로 훈련.\n",
    "- 30번 이상 개선 없을 경우 중단.\n",
    "- 각 5개의 fold를 훈련하여 저장"
   ]
  },
  {
   "cell_type": "code",
   "execution_count": null,
   "id": "geological-quality",
   "metadata": {},
   "outputs": [],
   "source": [
    "# train_days"
   ]
  },
  {
   "cell_type": "code",
   "execution_count": 120,
   "id": "statutory-celebrity",
   "metadata": {
    "ExecuteTime": {
     "end_time": "2021-05-09T09:26:04.185034Z",
     "start_time": "2021-05-09T09:26:04.061959Z"
    },
    "code_folding": []
   },
   "outputs": [],
   "source": [
    "skf = StratifiedKFold(n_splits=5, shuffle=True, random_state=42)\n",
    "folds=[]\n",
    "for train_idx, valid_idx in skf.split(train_days.drop(['credit'],axis=1), train['credit']):\n",
    "    folds.append((train_idx, valid_idx))"
   ]
  },
  {
   "cell_type": "code",
   "execution_count": 121,
   "id": "fiscal-prince",
   "metadata": {
    "ExecuteTime": {
     "end_time": "2021-05-09T09:40:48.688515Z",
     "start_time": "2021-05-09T09:40:32.882739Z"
    },
    "scrolled": true
   },
   "outputs": [
    {
     "name": "stdout",
     "output_type": "stream",
     "text": [
      "====================================1============================================\n",
      "Training until validation scores don't improve for 30 rounds\n",
      "[100]\ttraining's multi_logloss: 0.650537\tvalid_1's multi_logloss: 0.752048\n",
      "[200]\ttraining's multi_logloss: 0.567573\tvalid_1's multi_logloss: 0.739493\n",
      "[300]\ttraining's multi_logloss: 0.50357\tvalid_1's multi_logloss: 0.734522\n",
      "Early stopping, best iteration is:\n",
      "[357]\ttraining's multi_logloss: 0.472971\tvalid_1's multi_logloss: 0.731964\n",
      "================================================================================\n",
      "\n",
      "\n",
      "====================================2============================================\n",
      "Training until validation scores don't improve for 30 rounds\n",
      "[100]\ttraining's multi_logloss: 0.651799\tvalid_1's multi_logloss: 0.766551\n",
      "[200]\ttraining's multi_logloss: 0.56397\tvalid_1's multi_logloss: 0.754866\n",
      "[300]\ttraining's multi_logloss: 0.499338\tvalid_1's multi_logloss: 0.750941\n",
      "Early stopping, best iteration is:\n",
      "[279]\ttraining's multi_logloss: 0.511178\tvalid_1's multi_logloss: 0.749911\n",
      "================================================================================\n",
      "\n",
      "\n",
      "====================================3============================================\n",
      "Training until validation scores don't improve for 30 rounds\n",
      "[100]\ttraining's multi_logloss: 0.655373\tvalid_1's multi_logloss: 0.757552\n",
      "[200]\ttraining's multi_logloss: 0.564262\tvalid_1's multi_logloss: 0.744473\n",
      "Early stopping, best iteration is:\n",
      "[229]\ttraining's multi_logloss: 0.544576\tvalid_1's multi_logloss: 0.742416\n",
      "================================================================================\n",
      "\n",
      "\n",
      "====================================4============================================\n",
      "Training until validation scores don't improve for 30 rounds\n",
      "[100]\ttraining's multi_logloss: 0.646918\tvalid_1's multi_logloss: 0.753681\n",
      "[200]\ttraining's multi_logloss: 0.562471\tvalid_1's multi_logloss: 0.739457\n",
      "[300]\ttraining's multi_logloss: 0.498348\tvalid_1's multi_logloss: 0.732857\n",
      "Early stopping, best iteration is:\n",
      "[296]\ttraining's multi_logloss: 0.500193\tvalid_1's multi_logloss: 0.73255\n",
      "================================================================================\n",
      "\n",
      "\n",
      "====================================5============================================\n",
      "Training until validation scores don't improve for 30 rounds\n",
      "[100]\ttraining's multi_logloss: 0.651251\tvalid_1's multi_logloss: 0.755308\n",
      "[200]\ttraining's multi_logloss: 0.565724\tvalid_1's multi_logloss: 0.744276\n",
      "Early stopping, best iteration is:\n",
      "[251]\ttraining's multi_logloss: 0.531131\tvalid_1's multi_logloss: 0.742027\n",
      "================================================================================\n",
      "\n",
      "\n"
     ]
    }
   ],
   "source": [
    "skf = StratifiedKFold(n_splits=5, shuffle=True, random_state=42)\n",
    "folds=[]\n",
    "for train_idx, valid_idx in skf.split(train_days, train['credit']):\n",
    "    folds.append((train_idx, valid_idx))\n",
    "random.seed(42)\n",
    "lgb_models={}\n",
    "for fold in range(5):\n",
    "    print(f'===================================={fold+1}============================================')\n",
    "    train_idx, valid_idx = folds[fold]\n",
    "    X_train, X_valid, y_train, y_valid = train_days.drop(['credit'],axis=1).iloc[train_idx].values, train_days.drop(['credit'],axis=1).iloc[valid_idx].values,\\\n",
    "                                         train['credit'][train_idx].values, train['credit'][valid_idx].values \n",
    "    lgb = LGBMClassifier(n_estimators=1000)\n",
    "    lgb.fit(X_train, y_train, \n",
    "            eval_set=[(X_train, y_train), (X_valid, y_valid)], \n",
    "            early_stopping_rounds=30,\n",
    "           verbose=100)\n",
    "    lgb_models[fold]=lgb\n",
    "    print(f'================================================================================\\n\\n')"
   ]
  },
  {
   "cell_type": "code",
   "execution_count": 123,
   "id": "rising-constant",
   "metadata": {
    "ExecuteTime": {
     "end_time": "2021-05-09T09:40:48.746359Z",
     "start_time": "2021-05-09T09:40:48.692503Z"
    }
   },
   "outputs": [],
   "source": [
    "ss.iloc[:,1:]=0\n",
    "for fold in range(5):\n",
    "    ss.iloc[:,1:] += lgb_models[fold].predict_proba(test_days)/5\n",
    "ss.to_csv('train_days.csv', index=False) # 0.7272812144"
   ]
  },
  {
   "cell_type": "code",
   "execution_count": 124,
   "id": "boring-milan",
   "metadata": {
    "ExecuteTime": {
     "end_time": "2021-05-09T09:35:11.917397Z",
     "start_time": "2021-05-09T09:34:36.344879Z"
    }
   },
   "outputs": [
    {
     "name": "stdout",
     "output_type": "stream",
     "text": [
      "0.7055977770263485\n"
     ]
    }
   ],
   "source": [
    "from sklearn.model_selection import cross_val_score\n",
    "\n",
    "print(cross_val_score(lgb_models[0], train_days.drop(['credit'],axis=1), train['credit'], cv=skf).mean())"
   ]
  },
  {
   "cell_type": "code",
   "execution_count": null,
   "id": "manual-reference",
   "metadata": {},
   "outputs": [],
   "source": [
    "# train bins"
   ]
  },
  {
   "cell_type": "code",
   "execution_count": 125,
   "id": "thirty-survivor",
   "metadata": {
    "ExecuteTime": {
     "end_time": "2021-05-09T09:26:04.185034Z",
     "start_time": "2021-05-09T09:26:04.061959Z"
    },
    "code_folding": []
   },
   "outputs": [],
   "source": [
    "skf = StratifiedKFold(n_splits=5, shuffle=True, random_state=42)\n",
    "folds=[]\n",
    "for train_idx, valid_idx in skf.split(train_bins, train['credit']):\n",
    "    folds.append((train_idx, valid_idx))"
   ]
  },
  {
   "cell_type": "code",
   "execution_count": 126,
   "id": "sought-tutorial",
   "metadata": {
    "ExecuteTime": {
     "end_time": "2021-05-09T09:40:48.750349Z",
     "start_time": "2021-05-09T09:40:36.497Z"
    },
    "scrolled": false
   },
   "outputs": [
    {
     "name": "stdout",
     "output_type": "stream",
     "text": [
      "====================================1============================================\n",
      "Training until validation scores don't improve for 30 rounds\n",
      "[100]\ttraining's multi_logloss: 0.662238\tvalid_1's multi_logloss: 0.761033\n",
      "[200]\ttraining's multi_logloss: 0.580071\tvalid_1's multi_logloss: 0.745568\n",
      "[300]\ttraining's multi_logloss: 0.518463\tvalid_1's multi_logloss: 0.741658\n",
      "[400]\ttraining's multi_logloss: 0.468028\tvalid_1's multi_logloss: 0.741175\n",
      "Early stopping, best iteration is:\n",
      "[376]\ttraining's multi_logloss: 0.4795\tvalid_1's multi_logloss: 0.740915\n",
      "================================================================================\n",
      "\n",
      "\n",
      "====================================2============================================\n",
      "Training until validation scores don't improve for 30 rounds\n",
      "[100]\ttraining's multi_logloss: 0.663577\tvalid_1's multi_logloss: 0.771239\n",
      "[200]\ttraining's multi_logloss: 0.578968\tvalid_1's multi_logloss: 0.755389\n",
      "Early stopping, best iteration is:\n",
      "[266]\ttraining's multi_logloss: 0.535133\tvalid_1's multi_logloss: 0.751555\n",
      "================================================================================\n",
      "\n",
      "\n",
      "====================================3============================================\n",
      "Training until validation scores don't improve for 30 rounds\n",
      "[100]\ttraining's multi_logloss: 0.663181\tvalid_1's multi_logloss: 0.763845\n",
      "[200]\ttraining's multi_logloss: 0.580304\tvalid_1's multi_logloss: 0.755927\n",
      "Early stopping, best iteration is:\n",
      "[244]\ttraining's multi_logloss: 0.549137\tvalid_1's multi_logloss: 0.752885\n",
      "================================================================================\n",
      "\n",
      "\n",
      "====================================4============================================\n",
      "Training until validation scores don't improve for 30 rounds\n",
      "[100]\ttraining's multi_logloss: 0.659847\tvalid_1's multi_logloss: 0.762024\n",
      "[200]\ttraining's multi_logloss: 0.578115\tvalid_1's multi_logloss: 0.747819\n",
      "[300]\ttraining's multi_logloss: 0.516838\tvalid_1's multi_logloss: 0.741743\n",
      "Early stopping, best iteration is:\n",
      "[329]\ttraining's multi_logloss: 0.500973\tvalid_1's multi_logloss: 0.741408\n",
      "================================================================================\n",
      "\n",
      "\n",
      "====================================5============================================\n",
      "Training until validation scores don't improve for 30 rounds\n",
      "[100]\ttraining's multi_logloss: 0.663099\tvalid_1's multi_logloss: 0.760544\n",
      "[200]\ttraining's multi_logloss: 0.577689\tvalid_1's multi_logloss: 0.745534\n",
      "[300]\ttraining's multi_logloss: 0.516202\tvalid_1's multi_logloss: 0.743663\n",
      "Early stopping, best iteration is:\n",
      "[302]\ttraining's multi_logloss: 0.515357\tvalid_1's multi_logloss: 0.743525\n",
      "================================================================================\n",
      "\n",
      "\n"
     ]
    }
   ],
   "source": [
    "skf = StratifiedKFold(n_splits=5, shuffle=True, random_state=42)\n",
    "folds=[]\n",
    "for train_idx, valid_idx in skf.split(train_bins, train['credit']):\n",
    "    folds.append((train_idx, valid_idx))\n",
    "random.seed(42)\n",
    "lgb_models={}\n",
    "for fold in range(5):\n",
    "    print(f'===================================={fold+1}============================================')\n",
    "    train_idx, valid_idx = folds[fold]\n",
    "    X_train, X_valid, y_train, y_valid = train_bins.drop(['credit'],axis=1).iloc[train_idx].values, train_bins.drop(['credit'],axis=1).iloc[valid_idx].values,\\\n",
    "                                         train['credit'][train_idx].values, train['credit'][valid_idx].values \n",
    "    lgb = LGBMClassifier(n_estimators=1000)\n",
    "    lgb.fit(X_train, y_train, \n",
    "            eval_set=[(X_train, y_train), (X_valid, y_valid)], \n",
    "            early_stopping_rounds=30,\n",
    "           verbose=100)\n",
    "    lgb_models[fold]=lgb\n",
    "    print(f'================================================================================\\n\\n')"
   ]
  },
  {
   "cell_type": "code",
   "execution_count": 127,
   "id": "clinical-venture",
   "metadata": {
    "ExecuteTime": {
     "end_time": "2021-05-09T09:36:33.088368Z",
     "start_time": "2021-05-09T09:35:57.341996Z"
    }
   },
   "outputs": [
    {
     "name": "stdout",
     "output_type": "stream",
     "text": [
      "0.702271495128638\n"
     ]
    }
   ],
   "source": [
    "from sklearn.model_selection import cross_val_score\n",
    "\n",
    "print(cross_val_score(lgb_models[0], train_bins.drop(['credit'],axis=1), train['credit'], cv=skf).mean())"
   ]
  },
  {
   "cell_type": "code",
   "execution_count": 128,
   "id": "declared-roulette",
   "metadata": {},
   "outputs": [],
   "source": [
    "ss.iloc[:,1:]=0\n",
    "for fold in range(5):\n",
    "    ss.iloc[:,1:] += lgb_models[fold].predict_proba(test_bins)/5\n",
    "ss.to_csv('train_bins.csv', index=False) # 0.7272812144"
   ]
  },
  {
   "cell_type": "markdown",
   "id": "fancy-spokesman",
   "metadata": {},
   "source": [
    "# Test inference\n",
    "- 각 fold를 훈련시킨 lightgbm model로 predict.\n",
    "- 해당 대회는 logloss score를 겨루는 것이기 때문에 각 class의 probability를 얻어야함.\n",
    "- 대부분의 머신러닝 모델에서 predict, predict_proba를 구분하여 사용함.\n",
    "- predict는 class 출력을 해주고 predict_proba는 class별 probability를 출력해줌.\n",
    "- predict_proba를 사용하여 예측한 것을 5-fold 더하여 평균내어 앙상블."
   ]
  },
  {
   "cell_type": "code",
   "execution_count": 10,
   "id": "genuine-carpet",
   "metadata": {
    "ExecuteTime": {
     "end_time": "2021-04-05T07:28:24.561816Z",
     "start_time": "2021-04-05T07:28:24.387286Z"
    },
    "run_control": {
     "marked": true
    }
   },
   "outputs": [],
   "source": [
    "ss.iloc[:,1:]=0\n",
    "for fold in range(5):\n",
    "    ss.iloc[:,1:] += lgb_models[fold].predict_proba(test)/5\n",
    "ss.to_csv('add_BS.csv', index=False) # 0.7272812144"
   ]
  },
  {
   "cell_type": "code",
   "execution_count": 74,
   "id": "vocational-check",
   "metadata": {
    "ExecuteTime": {
     "end_time": "2021-05-09T09:35:57.338006Z",
     "start_time": "2021-05-09T09:35:19.415340Z"
    }
   },
   "outputs": [
    {
     "name": "stdout",
     "output_type": "stream",
     "text": [
      "0.7060512846227132\n"
     ]
    }
   ],
   "source": [
    "from sklearn.model_selection import cross_val_score\n",
    "\n",
    "print(cross_val_score(lgb_models[0], train.drop(['credit'],axis=1), train['credit'], cv=skf).mean())"
   ]
  },
  {
   "cell_type": "code",
   "execution_count": 12,
   "id": "oriental-pittsburgh",
   "metadata": {
    "ExecuteTime": {
     "end_time": "2021-04-05T07:28:24.598886Z",
     "start_time": "2021-04-05T07:28:24.563499Z"
    }
   },
   "outputs": [],
   "source": [
    "ss.to_csv('add_BS.csv', index=False) # 0.7272812144"
   ]
  },
  {
   "cell_type": "code",
   "execution_count": 78,
   "id": "interstate-flexibility",
   "metadata": {
    "ExecuteTime": {
     "end_time": "2021-05-09T09:37:46.469835Z",
     "start_time": "2021-05-09T09:37:46.464817Z"
    }
   },
   "outputs": [],
   "source": [
    "# cate, 직접 계산, 함수계산(동일), 다른 train계산 \n",
    "days = ['days',0.7371671999999999, 0.7060512846227132, 0.7065426065426065,0]\n",
    "bins = ['bins', 0.7459903999999999, 0.7082057939200797, 0.7032542175399319,0]"
   ]
  },
  {
   "cell_type": "code",
   "execution_count": 79,
   "id": "rational-garbage",
   "metadata": {
    "ExecuteTime": {
     "end_time": "2021-05-09T09:37:46.860756Z",
     "start_time": "2021-05-09T09:37:46.847791Z"
    }
   },
   "outputs": [
    {
     "data": {
      "text/html": [
       "<div>\n",
       "<style scoped>\n",
       "    .dataframe tbody tr th:only-of-type {\n",
       "        vertical-align: middle;\n",
       "    }\n",
       "\n",
       "    .dataframe tbody tr th {\n",
       "        vertical-align: top;\n",
       "    }\n",
       "\n",
       "    .dataframe thead th {\n",
       "        text-align: right;\n",
       "    }\n",
       "</style>\n",
       "<table border=\"1\" class=\"dataframe\">\n",
       "  <thead>\n",
       "    <tr style=\"text-align: right;\">\n",
       "      <th></th>\n",
       "      <th>cate</th>\n",
       "      <th>직접 계산</th>\n",
       "      <th>함수계산(동일)</th>\n",
       "      <th>다른 train계산</th>\n",
       "      <th>리더보드</th>\n",
       "    </tr>\n",
       "  </thead>\n",
       "  <tbody>\n",
       "    <tr>\n",
       "      <th>0</th>\n",
       "      <td>days</td>\n",
       "      <td>0.737167</td>\n",
       "      <td>0.706051</td>\n",
       "      <td>0.706543</td>\n",
       "      <td>0</td>\n",
       "    </tr>\n",
       "    <tr>\n",
       "      <th>1</th>\n",
       "      <td>bins</td>\n",
       "      <td>0.745990</td>\n",
       "      <td>0.708206</td>\n",
       "      <td>0.703254</td>\n",
       "      <td>0</td>\n",
       "    </tr>\n",
       "  </tbody>\n",
       "</table>\n",
       "</div>"
      ],
      "text/plain": [
       "   cate     직접 계산  함수계산(동일)  다른 train계산  리더보드\n",
       "0  days  0.737167  0.706051    0.706543     0\n",
       "1  bins  0.745990  0.708206    0.703254     0"
      ]
     },
     "execution_count": 79,
     "metadata": {},
     "output_type": "execute_result"
    }
   ],
   "source": [
    "pd.DataFrame([days, bins], columns=['cate', '직접 계산', '함수계산(동일)', '다른 train계산','리더보드'])"
   ]
  },
  {
   "cell_type": "code",
   "execution_count": null,
   "id": "laden-technician",
   "metadata": {},
   "outputs": [],
   "source": []
  },
  {
   "cell_type": "code",
   "execution_count": null,
   "id": "major-halloween",
   "metadata": {},
   "outputs": [],
   "source": []
  }
 ],
 "metadata": {
  "kernelspec": {
   "display_name": "Python 3",
   "language": "python",
   "name": "python3"
  },
  "language_info": {
   "codemirror_mode": {
    "name": "ipython",
    "version": 3
   },
   "file_extension": ".py",
   "mimetype": "text/x-python",
   "name": "python",
   "nbconvert_exporter": "python",
   "pygments_lexer": "ipython3",
   "version": "3.7.6"
  },
  "toc": {
   "base_numbering": 1,
   "nav_menu": {},
   "number_sections": true,
   "sideBar": true,
   "skip_h1_title": false,
   "title_cell": "Table of Contents",
   "title_sidebar": "Contents",
   "toc_cell": false,
   "toc_position": {},
   "toc_section_display": true,
   "toc_window_display": false
  },
  "varInspector": {
   "cols": {
    "lenName": 16,
    "lenType": 16,
    "lenVar": 40
   },
   "kernels_config": {
    "python": {
     "delete_cmd_postfix": "",
     "delete_cmd_prefix": "del ",
     "library": "var_list.py",
     "varRefreshCmd": "print(var_dic_list())"
    },
    "r": {
     "delete_cmd_postfix": ") ",
     "delete_cmd_prefix": "rm(",
     "library": "var_list.r",
     "varRefreshCmd": "cat(var_dic_list()) "
    }
   },
   "types_to_exclude": [
    "module",
    "function",
    "builtin_function_or_method",
    "instance",
    "_Feature"
   ],
   "window_display": false
  }
 },
 "nbformat": 4,
 "nbformat_minor": 5
}
