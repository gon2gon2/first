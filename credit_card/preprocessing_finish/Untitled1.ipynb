{
 "cells": [
  {
   "cell_type": "code",
   "execution_count": 1,
   "id": "treated-momentum",
   "metadata": {},
   "outputs": [
    {
     "name": "stdout",
     "output_type": "stream",
     "text": [
      "['.ipynb_checkpoints', 'sample_submission.csv', 'test.csv', 'train.csv', 'Untitled.ipynb']\n",
      "(2.544, 18.18]      22460\n",
      "(18.18, 33.66]      11380\n",
      "(33.66, 49.14]       2099\n",
      "(49.14, 64.62]        274\n",
      "(64.62, 80.1]         165\n",
      "(80.1, 95.58]          58\n",
      "(95.58, 111.06]         4\n",
      "(111.06, 126.54]        3\n",
      "(126.54, 142.02]        6\n",
      "(142.02, 157.5]         8\n",
      "Name: income_total, dtype: int64\n",
      "gender :\n",
      "0    24430\n",
      "1    12027\n",
      "Name: gender, dtype: int64\n",
      "--------------\n",
      "Having a car or not : \n",
      "0    22614\n",
      "1    13843\n",
      "Name: car, dtype: int64\n",
      "--------------\n",
      "Having house reality or not: \n",
      "1    24506\n",
      "0    11951\n",
      "Name: reality, dtype: int64\n",
      "--------------\n",
      "Having a phone or not: \n",
      "0    25709\n",
      "1    10748\n",
      "Name: phone, dtype: int64\n",
      "--------------\n",
      "Having a email or not: \n",
      "0    33186\n",
      "1     3271\n",
      "Name: email, dtype: int64\n",
      "--------------\n",
      "Having a work phone or not: \n",
      "0    28235\n",
      "1     8222\n",
      "Name: work_phone, dtype: int64\n",
      "--------------\n",
      "<class 'pandas.core.frame.DataFrame'>\n",
      "Int64Index: 36457 entries, 0 to 9999\n",
      "Data columns (total 19 columns):\n",
      " #   Column         Non-Null Count  Dtype  \n",
      "---  ------         --------------  -----  \n",
      " 0   gender         36457 non-null  int64  \n",
      " 1   car            36457 non-null  int64  \n",
      " 2   reality        36457 non-null  int64  \n",
      " 3   child_num      36457 non-null  int64  \n",
      " 4   income_total   36457 non-null  int64  \n",
      " 5   income_type    36457 non-null  int32  \n",
      " 6   edu_type       36457 non-null  int32  \n",
      " 7   family_type    36457 non-null  int32  \n",
      " 8   house_type     36457 non-null  int32  \n",
      " 9   DAYS_BIRTH     36457 non-null  float64\n",
      " 10  DAYS_EMPLOYED  36457 non-null  float64\n",
      " 11  FLAG_MOBIL     36457 non-null  int64  \n",
      " 12  work_phone     36457 non-null  int64  \n",
      " 13  phone          36457 non-null  int64  \n",
      " 14  email          36457 non-null  int64  \n",
      " 15  occyp_type     36457 non-null  int32  \n",
      " 16  family_size    36457 non-null  float64\n",
      " 17  begin_month    36457 non-null  float64\n",
      " 18  credit         26457 non-null  float64\n",
      "dtypes: float64(5), int32(5), int64(9)\n",
      "memory usage: 4.9 MB\n"
     ]
    },
    {
     "name": "stderr",
     "output_type": "stream",
     "text": [
      "C:\\Anaconda3\\envs\\tabnet\\lib\\site-packages\\ipykernel_launcher.py:106: SettingWithCopyWarning: \n",
      "A value is trying to be set on a copy of a slice from a DataFrame.\n",
      "Try using .loc[row_indexer,col_indexer] = value instead\n",
      "\n",
      "See the caveats in the documentation: https://pandas.pydata.org/pandas-docs/stable/user_guide/indexing.html#returning-a-view-versus-a-copy\n"
     ]
    },
    {
     "data": {
      "image/png": "[encoded data removed]",
      "text/plain": [
       "<Figure size 432x288 with 1 Axes>"
      ]
     },
     "metadata": {
      "needs_background": "light"
     },
     "output_type": "display_data"
    }
   ],
   "source": [
    "from pytorch_tabnet.multitask import TabNetMultiTaskClassifier\n",
    "\n",
    "import torch\n",
    "from sklearn.preprocessing import LabelEncoder\n",
    "from sklearn.metrics import roc_auc_score, log_loss\n",
    "\n",
    "import pandas as pd\n",
    "import numpy as np\n",
    "np.random.seed(0)\n",
    "\n",
    "from tqdm.notebook import tqdm\n",
    "\n",
    "import os\n",
    "\n",
    "from matplotlib import pyplot as plt\n",
    "%matplotlib inline\n",
    "\n",
    "d = \"C:\\kaggle_data\\credit_card\"\n",
    "lst = os.listdir(d)\n",
    "print(lst)\n",
    "train = pd.read_csv(d + '\\\\' +lst[3])\n",
    "test = pd.read_csv(d + '\\\\' +lst[2])\n",
    "ss = pd.read_csv(d + '\\\\' +lst[1])\n",
    "train = train.drop(['index'], axis=1)\n",
    "train.fillna('NAN', inplace=True) \n",
    "test = test.drop(['index'], axis=1)\n",
    "test.fillna('NAN', inplace=True)\n",
    "\n",
    "data=pd.concat([train, test], axis=0)\n",
    "data.shape\n",
    "\n",
    "# 나이 변환\n",
    "def days_to_age(x):\n",
    "    return (x*-1)/365\n",
    "data['DAYS_BIRTH'] = data['DAYS_BIRTH'].apply(days_to_age)\n",
    "\n",
    "# 마이너스 값 변환\n",
    "def minus(x):\n",
    "    return x * -1\n",
    "data['begin_month'] = data['begin_month'].apply(minus)\n",
    "\n",
    "data.loc[(data.DAYS_EMPLOYED)>=0,'DAYS_EMPLOYED'] = 0\n",
    "\n",
    "data['DAYS_EMPLOYED'] = data['DAYS_EMPLOYED'].apply(days_to_age)\n",
    "\n",
    "data.loc[data['child_num'] >= 2,'child_num']=2\n",
    "\n",
    "data['income_total'] = data['income_total'].astype(object)\n",
    "data['income_total'] = data['income_total']/10000 \n",
    "print(data['income_total'].value_counts(bins=10,sort=False))\n",
    "data['income_total'].plot(kind='hist',bins=50,density=True)\n",
    "\n",
    "count, bin_dividers =np.histogram(data['income_total'], bins=7)\n",
    "bin_names=[int(i) for i in range(7) ]\n",
    "data['income_total']=pd.cut(x=data['income_total'], bins=bin_dividers, labels=bin_names, include_lowest=True)\n",
    "\n",
    "data['gender'] = data['gender'].replace(['F','M'],[0,1])\n",
    "print('gender :')\n",
    "print(data['gender'].value_counts())\n",
    "print('--------------')\n",
    "\n",
    "print('Having a car or not : ')\n",
    "data['car'] = data['car'].replace(['N','Y'],[0,1])\n",
    "print(data['car'].value_counts())\n",
    "print('--------------')\n",
    "\n",
    "print('Having house reality or not: ')\n",
    "data['reality'] = data['reality'].replace(['N','Y'],[0,1])\n",
    "print(data['reality'].value_counts())\n",
    "print('--------------')\n",
    "      \n",
    "print('Having a phone or not: ')\n",
    "print(data['phone'].value_counts())\n",
    "print('--------------')\n",
    "      \n",
    "\n",
    "print('Having a email or not: ')\n",
    "print(data['email'].value_counts())\n",
    "print('--------------')\n",
    "      \n",
    "\n",
    "print('Having a work phone or not: ')\n",
    "print(data['work_phone'].value_counts())\n",
    "print('--------------')\n",
    "\n",
    "from sklearn import preprocessing\n",
    "label_encoder=preprocessing.LabelEncoder()\n",
    "data['income_type']=label_encoder.fit_transform(data['income_type'])\n",
    "data['edu_type']=label_encoder.fit_transform(data['edu_type'])\n",
    "data['family_type']=label_encoder.fit_transform(data['family_type'])\n",
    "data['house_type']=label_encoder.fit_transform(data['house_type'])\n",
    "data['income_total']=label_encoder.fit_transform(data['income_total'])\n",
    "data['occyp_type']=label_encoder.fit_transform(data['occyp_type'])\n",
    "\n",
    "data.info()\n",
    "\n",
    "train=data[:len(data)-10000]\n",
    "test=data[len(data)-10000:]\n",
    "\n",
    "train_x=train.drop('credit', axis=1)\n",
    "train_y=train[['credit']]\n",
    "test_x=test.drop('credit', axis=1)\n",
    "\n",
    "np.random.seed(42)\n",
    "if \"Set\" not in train.columns:\n",
    "    train[\"Set\"] = np.random.choice([\"train\", \"valid\"], p =[.8, .2], size=(train.shape[0],))\n",
    "\n",
    "train_indices = train_x[train.Set==\"train\"].index\n",
    "valid_indices = train_x[train.Set==\"valid\"].index"
   ]
  },
  {
   "cell_type": "code",
   "execution_count": 2,
   "id": "aggressive-jersey",
   "metadata": {
    "scrolled": true
   },
   "outputs": [
    {
     "name": "stdout",
     "output_type": "stream",
     "text": [
      "gender 2\n",
      "Column gender does not exist in test set\n",
      "car 2\n",
      "Column car does not exist in test set\n",
      "reality 2\n",
      "Column reality does not exist in test set\n",
      "child_num 3\n",
      "Column child_num does not exist in test set\n",
      "income_total 7\n",
      "Column income_total does not exist in test set\n",
      "income_type 5\n",
      "Column income_type does not exist in test set\n",
      "edu_type 5\n",
      "Column edu_type does not exist in test set\n",
      "family_type 5\n",
      "Column family_type does not exist in test set\n",
      "house_type 6\n",
      "Column house_type does not exist in test set\n",
      "FLAG_MOBIL 1\n",
      "Column FLAG_MOBIL does not exist in test set\n",
      "work_phone 2\n",
      "Column work_phone does not exist in test set\n",
      "phone 2\n",
      "Column phone does not exist in test set\n",
      "email 2\n",
      "Column email does not exist in test set\n",
      "occyp_type 19\n",
      "Column occyp_type does not exist in test set\n",
      "family_size 10\n",
      "Column family_size does not exist in test set\n",
      "begin_month 61\n",
      "Column begin_month does not exist in test set\n"
     ]
    },
    {
     "name": "stderr",
     "output_type": "stream",
     "text": [
      "C:\\Anaconda3\\envs\\tabnet\\lib\\site-packages\\pandas\\core\\frame.py:4327: SettingWithCopyWarning: \n",
      "A value is trying to be set on a copy of a slice from a DataFrame\n",
      "\n",
      "See the caveats in the documentation: https://pandas.pydata.org/pandas-docs/stable/user_guide/indexing.html#returning-a-view-versus-a-copy\n",
      "  downcast=downcast,\n"
     ]
    }
   ],
   "source": [
    "nunique = train.nunique()\n",
    "types = train.dtypes\n",
    "\n",
    "categorical_columns = []\n",
    "categorical_dims =  {}\n",
    "for col in train_x.columns:\n",
    "    if types[col] == 'object' or nunique[col] < 200:\n",
    "        print(col, train_x[col].nunique())\n",
    "        l_enc = LabelEncoder()\n",
    "        train_x[col] = train_x[col].fillna(\"NaN\")\n",
    "        train_x[col] = l_enc.fit_transform(train_x[col].values)\n",
    "        try:\n",
    "            test_X[col] = test_x[col].fillna(\"NaN\")\n",
    "            test_x[col] = l_enc.transform(test_x[col].values)\n",
    "        except:\n",
    "            print(f\"Column {col} does not exist in test set\")\n",
    "        categorical_columns.append(col)\n",
    "        categorical_dims[col] = len(l_enc.classes_)\n",
    "    else:\n",
    "        training_mean = train_x.loc[train_indices, col].mean()\n",
    "        train.fillna(training_mean, inplace=True)\n",
    "        test.fillna(training_mean, inplace=True)\n",
    "\n",
    "features = [ col for col in train_x.columns] \n",
    "\n",
    "cat_idxs = [ i for i, f in enumerate(features) if f in categorical_columns]\n",
    "\n",
    "cat_dims = [ categorical_dims[f] for i, f in enumerate(features) if f in categorical_columns]\n",
    "\n",
    "X_train = train_x[features].values[train_indices]\n",
    "y_train = train_y.values[train_indices]\n",
    "\n",
    "X_valid = train_x[features].values[valid_indices]\n",
    "y_valid = train_y.values[valid_indices]\n",
    "\n",
    "X_test = test_x[features].values"
   ]
  },
  {
   "cell_type": "code",
   "execution_count": 7,
   "id": "baking-brooks",
   "metadata": {},
   "outputs": [
    {
     "data": {
      "text/plain": [
       "Index(['gender', 'car', 'reality', 'child_num', 'income_total', 'income_type',\n",
       "       'edu_type', 'family_type', 'house_type', 'FLAG_MOBIL', 'work_phone',\n",
       "       'phone', 'email', 'occyp_type', 'family_size', 'begin_month'],\n",
       "      dtype='object')"
      ]
     },
     "execution_count": 7,
     "metadata": {},
     "output_type": "execute_result"
    }
   ],
   "source": [
    "train.columns[cat_idxs]"
   ]
  },
  {
   "cell_type": "code",
   "execution_count": 5,
   "id": "hindu-brunei",
   "metadata": {},
   "outputs": [
    {
     "data": {
      "text/plain": [
       "16"
      ]
     },
     "execution_count": 5,
     "metadata": {},
     "output_type": "execute_result"
    }
   ],
   "source": [
    "len(cat_idxs)"
   ]
  },
  {
   "cell_type": "code",
   "execution_count": 7,
   "id": "electronic-symbol",
   "metadata": {},
   "outputs": [
    {
     "data": {
      "text/plain": [
       "(5295, 1)"
      ]
     },
     "execution_count": 7,
     "metadata": {},
     "output_type": "execute_result"
    }
   ],
   "source": [
    "cat_idxs=cat_idxs,\n",
    "cat_dims=cat_dims,\n",
    "cat_emb_dim=1,"
   ]
  },
  {
   "cell_type": "code",
   "execution_count": null,
   "id": "coordinate-prompt",
   "metadata": {},
   "outputs": [],
   "source": []
  },
  {
   "cell_type": "code",
   "execution_count": null,
   "id": "appreciated-matter",
   "metadata": {},
   "outputs": [],
   "source": []
  },
  {
   "cell_type": "code",
   "execution_count": null,
   "id": "minute-reliance",
   "metadata": {},
   "outputs": [],
   "source": []
  },
  {
   "cell_type": "code",
   "execution_count": null,
   "id": "aging-operator",
   "metadata": {},
   "outputs": [],
   "source": []
  },
  {
   "cell_type": "code",
   "execution_count": null,
   "id": "capital-store",
   "metadata": {},
   "outputs": [],
   "source": []
  },
  {
   "cell_type": "code",
   "execution_count": null,
   "id": "fallen-privilege",
   "metadata": {},
   "outputs": [],
   "source": []
  },
  {
   "cell_type": "code",
   "execution_count": null,
   "id": "angry-budapest",
   "metadata": {},
   "outputs": [],
   "source": []
  },
  {
   "cell_type": "code",
   "execution_count": null,
   "id": "human-vulnerability",
   "metadata": {},
   "outputs": [],
   "source": []
  },
  {
   "cell_type": "code",
   "execution_count": null,
   "id": "worth-documentation",
   "metadata": {},
   "outputs": [],
   "source": []
  },
  {
   "cell_type": "code",
   "execution_count": null,
   "id": "former-charger",
   "metadata": {},
   "outputs": [],
   "source": []
  },
  {
   "cell_type": "code",
   "execution_count": null,
   "id": "frequent-candle",
   "metadata": {},
   "outputs": [],
   "source": []
  },
  {
   "cell_type": "code",
   "execution_count": null,
   "id": "rough-wheat",
   "metadata": {},
   "outputs": [],
   "source": []
  },
  {
   "cell_type": "code",
   "execution_count": null,
   "id": "loving-possible",
   "metadata": {},
   "outputs": [],
   "source": []
  },
  {
   "cell_type": "code",
   "execution_count": null,
   "id": "separate-wrong",
   "metadata": {},
   "outputs": [],
   "source": []
  },
  {
   "cell_type": "code",
   "execution_count": null,
   "id": "split-persian",
   "metadata": {},
   "outputs": [],
   "source": []
  },
  {
   "cell_type": "code",
   "execution_count": null,
   "id": "premium-shoot",
   "metadata": {},
   "outputs": [],
   "source": []
  },
  {
   "cell_type": "code",
   "execution_count": null,
   "id": "visible-mentor",
   "metadata": {},
   "outputs": [],
   "source": []
  },
  {
   "cell_type": "code",
   "execution_count": null,
   "id": "alive-slovakia",
   "metadata": {},
   "outputs": [],
   "source": []
  },
  {
   "cell_type": "code",
   "execution_count": null,
   "id": "peaceful-topic",
   "metadata": {},
   "outputs": [],
   "source": []
  },
  {
   "cell_type": "code",
   "execution_count": null,
   "id": "aggressive-corpus",
   "metadata": {},
   "outputs": [],
   "source": []
  },
  {
   "cell_type": "code",
   "execution_count": null,
   "id": "applicable-penalty",
   "metadata": {},
   "outputs": [],
   "source": []
  },
  {
   "cell_type": "code",
   "execution_count": null,
   "id": "vertical-smoke",
   "metadata": {},
   "outputs": [],
   "source": []
  },
  {
   "cell_type": "code",
   "execution_count": null,
   "id": "premier-latino",
   "metadata": {},
   "outputs": [],
   "source": []
  },
  {
   "cell_type": "code",
   "execution_count": null,
   "id": "coordinate-mineral",
   "metadata": {},
   "outputs": [],
   "source": []
  },
  {
   "cell_type": "code",
   "execution_count": null,
   "id": "satisfied-demand",
   "metadata": {},
   "outputs": [],
   "source": []
  },
  {
   "cell_type": "code",
   "execution_count": null,
   "id": "broad-witch",
   "metadata": {},
   "outputs": [],
   "source": []
  },
  {
   "cell_type": "code",
   "execution_count": null,
   "id": "transsexual-script",
   "metadata": {},
   "outputs": [],
   "source": []
  },
  {
   "cell_type": "code",
   "execution_count": null,
   "id": "civic-specialist",
   "metadata": {},
   "outputs": [],
   "source": []
  },
  {
   "cell_type": "code",
   "execution_count": 10,
   "id": "corresponding-terrorism",
   "metadata": {},
   "outputs": [],
   "source": [
    "import numpy as np\n",
    "from numpy import linalg as LA"
   ]
  },
  {
   "cell_type": "code",
   "execution_count": 11,
   "id": "retained-quarter",
   "metadata": {},
   "outputs": [],
   "source": [
    "A = np.array([[2,1],[1,2]])\n",
    "Eig_value, Eig_vector = LA.eig(A)"
   ]
  },
  {
   "cell_type": "code",
   "execution_count": 14,
   "id": "another-times",
   "metadata": {},
   "outputs": [],
   "source": [
    "B = Eig_vector"
   ]
  },
  {
   "cell_type": "code",
   "execution_count": 16,
   "id": "exempt-aurora",
   "metadata": {},
   "outputs": [],
   "source": [
    "# 큰 값부터 정렬한 index 반환\n",
    "index = Eig_value.argsort()[::-1]\n",
    "P = np.zeros((2,2))\n",
    "D = np.zeros((2,2))"
   ]
  },
  {
   "cell_type": "code",
   "execution_count": 21,
   "id": "stainless-paint",
   "metadata": {},
   "outputs": [],
   "source": [
    "P_inverse = np.zeros((2,2))\n",
    "for i in range(0,2):\n",
    "    # 고유벡터를 transpose한 후 큰 것부터 한 행씩 \n",
    "    P[i] = B.T[index[i]]\n",
    "    D[i][i] = Eig_value[index[i]]\n",
    "P = P.T\n",
    "P_inverse = np.linalg.inv(P)"
   ]
  },
  {
   "cell_type": "code",
   "execution_count": 22,
   "id": "funky-belief",
   "metadata": {},
   "outputs": [
    {
     "name": "stdout",
     "output_type": "stream",
     "text": [
      "<행렬 A을 고유분해한 결과> \n",
      "행렬 P \n",
      "[[ 0.70710678 -0.70710678]\n",
      " [ 0.70710678  0.70710678]] \n",
      "\n",
      "행렬 D \n",
      "[[3. 0.]\n",
      " [0. 1.]] \n",
      "\n",
      "행렬 P_inverse \n",
      "[[ 0.70710678  0.70710678]\n",
      " [-0.70710678  0.70710678]] \n",
      "\n",
      "P * D * P_inverse = A? \n",
      "[[2. 1.]\n",
      " [1. 2.]]\n"
     ]
    }
   ],
   "source": [
    "print(\"<행렬 A을 고유분해한 결과> \")\n",
    "print(\"행렬 P \")\n",
    "print(P,\"\\n\")\n",
    "print(\"행렬 D \")\n",
    "print(D, \"\\n\")\n",
    "print(\"행렬 P_inverse \")\n",
    "print(P_inverse, \"\\n\")\n",
    "print(\"P * D * P_inverse = A? \")\n",
    "print(P @ D @ P_inverse)"
   ]
  }
 ],
 "metadata": {
  "kernelspec": {
   "display_name": "tabnet",
   "language": "python",
   "name": "tabnet"
  },
  "language_info": {
   "codemirror_mode": {
    "name": "ipython",
    "version": 3
   },
   "file_extension": ".py",
   "mimetype": "text/x-python",
   "name": "python",
   "nbconvert_exporter": "python",
   "pygments_lexer": "ipython3",
   "version": "3.6.13"
  }
 },
 "nbformat": 4,
 "nbformat_minor": 5
}
