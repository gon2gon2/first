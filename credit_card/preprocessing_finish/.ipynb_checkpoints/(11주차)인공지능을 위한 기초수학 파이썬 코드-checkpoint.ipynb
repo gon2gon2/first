{
 "cells": [
  {
   "cell_type": "code",
   "execution_count": 1,
   "metadata": {
    "colab": {
     "base_uri": "https://localhost:8080/"
    },
    "executionInfo": {
     "elapsed": 16347,
     "status": "ok",
     "timestamp": 1606535318971,
     "user": {
      "displayName": "문경환",
      "photoUrl": "",
      "userId": "16286622279944222997"
     },
     "user_tz": -540
    },
    "id": "2tyvHvnW1vfS",
    "outputId": "50ddcbe1-6c30-4dfe-bbb1-8ea25aca90e9"
   },
   "outputs": [
    {
     "name": "stdout",
     "output_type": "stream",
     "text": [
      "Mounted at /content/gdrive\n"
     ]
    }
   ],
   "source": [
    "from google.colab import drive\n",
    "drive.mount('/content/gdrive')"
   ]
  },
  {
   "cell_type": "code",
   "execution_count": null,
   "metadata": {
    "id": "H77fHFpgFysG"
   },
   "outputs": [],
   "source": [
    "# [Example]\n",
    "\n",
    "import numpy as np\n",
    "from numpy import linalg as LA \n",
    "\n",
    "A = np.array([[2, 1], [1, 2]])\n",
    "Eig_value, Eig_vector = LA.eig(A)\n",
    "\n",
    "# 고유분해 \n",
    "B = Eig_vector\n",
    "\n",
    "index = Eig_value.argsort()[::-1]\n",
    "P = np.zeros((2,2))\n",
    "D = np.zeros((2,2))\n",
    "\n",
    "P_inverse = np.zeros((2,2))\n",
    "for i in range(0,2):\n",
    "  P[i]=B.T[index[i]]\n",
    "  D[i][i] = Eig_value[index[i]]\n",
    "P = P.T  \n",
    "P_inverse = np.linalg.inv(P)\n",
    "\n",
    "print(\"<행렬 A을 고유분해한 결과> \")\n",
    "print(\"행렬 P \")\n",
    "print(P,\"\\n\")\n",
    "print(\"행렬 D \")\n",
    "print(D, \"\\n\")\n",
    "print(\"행렬 P_inverse \")\n",
    "print(P_inverse, \"\\n\")\n",
    "print(\"P * D * P_inverse = A? \")\n",
    "print(P @ D @ P_inverse)"
   ]
  },
  {
   "cell_type": "code",
   "execution_count": null,
   "metadata": {
    "id": "DrpZ_L01Hxj1"
   },
   "outputs": [],
   "source": [
    "# [Example]\n",
    "\n",
    "import numpy as np\n",
    "from numpy import linalg as LA \n",
    "\n",
    "A = np.array([[3, 0, 0], [0, 2, 1], [0, 0, 1]])\n",
    "Eig_value, Eig_vector = LA.eig(A)\n",
    "\n",
    "# 고유분해 \n",
    "B = Eig_vector\n",
    "\n",
    "index = Eig_value.argsort()[::-1]\n",
    "P = np.zeros((3,3))\n",
    "D = np.zeros((3,3))\n",
    "P_inverse = np.zeros((3,3))\n",
    "for i in range(0,3):\n",
    "  P[i]=B.T[index[i]]\n",
    "  D[i][i] = Eig_value[index[i]]\n",
    "P = P.T  \n",
    "P_inverse = np.linalg.inv(P)\n",
    "\n",
    "print(\"<행렬 A을 고유분해한 결과> \")\n",
    "print(\"행렬 P \")\n",
    "print(P,\"\\n\")\n",
    "print(\"행렬 D \")\n",
    "print(D, \"\\n\")\n",
    "print(\"행렬 P_inverse \")\n",
    "print(P_inverse,\"\\n\")\n",
    "print(\"P * D * P_inverse = A? \")\n",
    "print(P @ D @ P_inverse)"
   ]
  },
  {
   "cell_type": "code",
   "execution_count": null,
   "metadata": {
    "id": "Yqdnhe4v1x2W"
   },
   "outputs": [],
   "source": [
    "# [Example]\n",
    "\n",
    "import numpy as np\n",
    "from numpy import linalg as LA \n",
    "\n",
    "A = np.array([[4, -3], [2, -1]])\n",
    "Eig_value, Eig_vector = LA.eig(A)\n",
    "\n",
    "# 고윳값 분해 \n",
    "P = Eig_vector\n",
    "P_inverse = np.linalg.inv(Eig_vector)\n",
    "\n",
    "Q = np.zeros((2,2))\n",
    "for i in range(0, 2):\n",
    "  Q[i][i] = Eig_value[i]\n",
    "\n",
    "def Matrix_Multi(A, n):\n",
    "  B = A\n",
    "  for i in range(0, n-1):\n",
    "    A = A @ B\n",
    "  return A  \n",
    "\n",
    "print(\"고윳값 분해 검증 결과 \")\n",
    "print(P @ Q @ P_inverse)\n",
    "print('\\n')\n",
    "print(\"고윳값 분해를 통해 A^8 = ? \")\n",
    "print(Matrix_Multi(P @ Q @ P_inverse,8))"
   ]
  },
  {
   "cell_type": "code",
   "execution_count": null,
   "metadata": {
    "id": "pn_zfVLLTR9g"
   },
   "outputs": [],
   "source": [
    "import numpy as np\n",
    "from numpy import linalg as LA \n",
    "from sklearn.decomposition import PCA\n",
    "import scipy.linalg\n",
    "\n",
    "# 속성이 4개, 데이터 개수가 3개\n",
    "X = np.array([[0, 1, 3, -2],\n",
    "              [0.5, 0.3, -0.1, 1.2],\n",
    "              [0.1, 0.2, 2.7, 2.0]])\n",
    "\n",
    "pca = PCA(n_components=3)\n",
    "pca.fit(X)\n",
    "principleComponents = pca.fit_transform(X)\n",
    "\n",
    "# 선택한 각 components에서 설명되는 분산 비율\n",
    "print(\"pca.explained_variance_ratio_\")\n",
    "print(pca.explained_variance_ratio_)\n",
    "print(\"\\n\")\n",
    "\n",
    "# 공분산 행렬 계산 \n",
    "A = np.array([[0, 1, 3, -2],\n",
    "              [0.5, 0.3, -0.1, 1.2],\n",
    "              [0.1, 0.2, 2.7, 2.0]])\n",
    "B = A-A.mean(0)\n",
    "A_CovMatrix = (B.T @ B)/3\n",
    "\n",
    "# 공분산 행렬의 고유분해 이용\n",
    "Eig_value, Eig_vector = LA.eig(A_CovMatrix)\n",
    "# 고윳값 내림차순으로 정렬\n",
    "index = Eig_value.argsort()[::-1]\n",
    "for i in range(0,len(Eig_value)):\n",
    "  Eig_value[i] = Eig_value[index[i]]\n",
    "\n",
    "# 공분산 행렬의 고윳값을 이용한 pca.explained_variance_ratio_ 구하기\n",
    "print(\"고윳값을 이용한 pca.explained_variance_ratio_ 계산\")\n",
    "print(Eig_value[0] / np.sum(Eig_value))\n",
    "print(Eig_value[1] / np.sum(Eig_value))\n",
    "print(Eig_value[2] / np.sum(Eig_value))"
   ]
  },
  {
   "cell_type": "code",
   "execution_count": null,
   "metadata": {
    "id": "C1fdsEOI-vzj"
   },
   "outputs": [],
   "source": [
    "# [Example]\n",
    "\n",
    "import numpy as np\n",
    "import scipy.linalg\n",
    "\n",
    "A = np.array([[2, 2], [-1, 2]])\n",
    "Sigma = np.zeros((2,2))\n",
    "for i in range(0, len(scipy.linalg.svd(A)[1])):\n",
    "  Sigma[i][i] = scipy.linalg.svd(A)[1][i]\n",
    "U = scipy.linalg.svd(A)[0]\n",
    "V_transpose = scipy.linalg.svd(A)[2]  \n",
    "\n",
    "print(\"<행렬 A의 SVD(특이값 분해) 결과> \")\n",
    "print(\"행렬 U \")\n",
    "print(U,\"\\n\")\n",
    "print(\"행렬 Sigma \")\n",
    "print(Sigma, \"\\n\")\n",
    "print(\"행렬 V_transpose \")\n",
    "print(V_transpose,\"\\n\")\n",
    "print(\"U * Sigma * V_traspose = A? \")\n",
    "print(U @ Sigma @ V_transpose)"
   ]
  },
  {
   "cell_type": "code",
   "execution_count": null,
   "metadata": {
    "id": "5fG92CR8LgET"
   },
   "outputs": [],
   "source": [
    "# [Example]\n",
    "\n",
    "import numpy as np\n",
    "import scipy.linalg\n",
    "\n",
    "A = np.array([[1, 0, 1], [-2, 1, 0]])\n",
    "Sigma = np.zeros((2,3))\n",
    "for i in range(0, len(scipy.linalg.svd(A)[1])):\n",
    "  Sigma[i][i] = scipy.linalg.svd(A)[1][i]\n",
    "U = scipy.linalg.svd(A)[0]\n",
    "V_transpose = scipy.linalg.svd(A)[2]  \n",
    "\n",
    "print(\"<행렬 A의 SVD(특이값 분해) 결과> \")\n",
    "print(\"행렬 U \")\n",
    "print(U,\"\\n\")\n",
    "print(\"행렬 Sigma \")\n",
    "print(Sigma, \"\\n\")\n",
    "print(\"행렬 V_transpose \")\n",
    "print(V_transpose,\"\\n\")\n",
    "print(\"U * Sigma * V_traspose = A? \")\n",
    "print(U @ Sigma @ V_transpose)"
   ]
  },
  {
   "cell_type": "code",
   "execution_count": null,
   "metadata": {
    "id": "fC5YyBzTTGhZ"
   },
   "outputs": [],
   "source": [
    "# [Example]\n",
    "\n",
    "import numpy as np\n",
    "import scipy.linalg\n",
    "\n",
    "A = np.array([[1, 0, 1, 1], [0, 3, 2, 0], [1, 0, -2, 1]])\n",
    "Sigma = np.zeros((3,4))\n",
    "for i in range(0, len(scipy.linalg.svd(A)[1])):\n",
    "  Sigma[i][i] = scipy.linalg.svd(A)[1][i]\n",
    "U = scipy.linalg.svd(A)[0]\n",
    "V_transpose = scipy.linalg.svd(A)[2]  \n",
    "\n",
    "print(\"<행렬 A의 SVD(특이값 분해) 결과> \")\n",
    "print(\"행렬 U \")\n",
    "print(U,\"\\n\")\n",
    "print(\"행렬 Sigma \")\n",
    "print(Sigma, \"\\n\")\n",
    "print(\"행렬 V_transpose \")\n",
    "print(V_transpose,\"\\n\")\n",
    "print(\"U * Sigma * V_traspose = A? \")\n",
    "print(U @ Sigma @ V_transpose)"
   ]
  },
  {
   "cell_type": "code",
   "execution_count": null,
   "metadata": {
    "id": "pOTfAki3mfi9"
   },
   "outputs": [],
   "source": [
    "import PIL.Image as pilimg\n",
    "import numpy as np\n",
    "import matplotlib.pyplot as plt\n",
    " \n",
    "# Read image\n",
    "im = pilimg.open('/content/gdrive/MyDrive/인공지능을 위한 기초수학 파이썬 코드/cat.jpg')\n",
    " \n",
    "# Display image\n",
    "im.show()\n",
    " \n",
    "# Fetch image pixel data to numpy array\n",
    "pix = np.array(im)\n",
    "pix\n",
    "plt.imshow(pix)\n",
    "\n",
    "# 출처: https://cinema4dr12.tistory.com/1258\n",
    "# 출처: "
   ]
  },
  {
   "cell_type": "code",
   "execution_count": null,
   "metadata": {
    "id": "ksa4kEROxpuf"
   },
   "outputs": [],
   "source": [
    "import os\n",
    "import numpy as np\n",
    "from PIL import Image\n",
    "import matplotlib.pyplot as plt\n",
    "%matplotlib inline\n",
    "\n",
    "# 이미지 경로 복사\n",
    "path = '/content/gdrive/MyDrive/인공지능을 위한 기초수학 파이썬 코드/cat.jpg'\n",
    "img = Image.open(path)\n",
    "s = float(os.path.getsize(path))/1000\n",
    "print(\"Size(dimension): \",img.size)\n",
    "plt.title(\"Original Image (%0.2f Kb):\" %s)\n",
    "plt.imshow(img)\n",
    "\n",
    "# 이미지를 회색조 패턴으로 변환\n",
    "imggray = img.convert('LA')\n",
    "imgmat = np.array( list(imggray.getdata(band = 0)), float)\n",
    "imgmat.shape = (imggray.size[1], imggray.size[0])\n",
    "imgmat = np.matrix(imgmat)\n",
    "plt.figure()\n",
    "plt.imshow(imgmat, cmap = 'gray')\n",
    "plt.title(\"Image after converting it into the Grayscale pattern\")\n",
    "plt.show()\n",
    "\n",
    "# 회색조 패턴으로 변환한 이미지에 대한 압축\n",
    "print(\"이미지 압축 후: \")\n",
    "U, S, Vt = np.linalg.svd(imgmat) # SVD(특이값 분해)\n",
    "for i in range(5, 46, 20): # r=5, 25, 45 \n",
    "    cmpimg = np.matrix(U[:, :i]) * np.diag(S[:i]) * np.matrix(Vt[:i,:])\n",
    "    plt.imshow(cmpimg, cmap = 'gray')\n",
    "    title = \" Image after =  %s\" %i\n",
    "    plt.title(title)\n",
    "    plt.show()\n",
    "    result = Image.fromarray((cmpimg ).astype(np.uint8))\n",
    "result.save('compressed.jpg')\n",
    "\n",
    "# 출처: https://github.com/shubhamjangid/Image-Compression-Using-SVD/blob/master/compression.ipynb\n",
    "# 이미지 출처: https://newsimg.hankookilbo.com/cms/articlerelease/2019/04/29/201904291390027161_3.jpg"
   ]
  },
  {
   "cell_type": "code",
   "execution_count": null,
   "metadata": {
    "id": "7_AoQ7TtO9yE"
   },
   "outputs": [],
   "source": [
    "! git clone https://github.com/aatish-sai/Recommendation-SVD.git"
   ]
  },
  {
   "cell_type": "code",
   "execution_count": null,
   "metadata": {
    "id": "CTuwy_wcQRfr"
   },
   "outputs": [],
   "source": [
    "# [Example]\n",
    "\n",
    "import numpy as np\n",
    "import pandas as pd\n",
    "import scipy.sparse as sp\n",
    "from scipy.sparse.linalg import svds\n",
    "\n",
    "header = ['user_id','item_id','rating','timestamp']\n",
    "\n",
    "df = pd.read_csv('/content/Recommendation-SVD/u.data',sep=',',\n",
    "                 names=header,engine='python',header=None)\n",
    "\n",
    "n_users = df.user_id.unique().shape[0]\n",
    "n_items = df.item_id.unique().shape[0]\n",
    "\n",
    "from sklearn.model_selection import train_test_split\n",
    "train_data, test_data = train_test_split(df,test_size=0.25)\n",
    "\n",
    "from sklearn.metrics import mean_squared_error\n",
    "from math import sqrt\n",
    "def rmse(prediction, ground_truth):\n",
    "    prediction = prediction[ground_truth.nonzero()].flatten()\n",
    "    ground_truth = ground_truth[ground_truth.nonzero()].flatten()\n",
    "    return sqrt(mean_squared_error(prediction, ground_truth))\n",
    "\n",
    "\n",
    "train_data_matrix = np.zeros((n_users, n_items))\n",
    "for line in train_data.itertuples():\n",
    "    train_data_matrix[line[1]-1, line[2]-1] = line[3]\n",
    "\n",
    "test_data_matrix = np.zeros((n_users, n_items))\n",
    "for line in test_data.itertuples():\n",
    "    test_data_matrix[line[1]-1, line[2]-1] = line[3]\n",
    "\n",
    "u, s, vt = svds(train_data_matrix,k = 20)\n",
    "s_diag_matrix = np.diag(s)\n",
    "i = 15\n",
    "u = u[:,:i]\n",
    "print(u.shape)\n",
    "s_diag_matrix = s_diag_matrix[:i,:i]\n",
    "print(s_diag_matrix.shape)\n",
    "vt = vt[:i,:]\n",
    "\n",
    "\n",
    "X_pred = np.dot(np.dot(u, s_diag_matrix),vt)\n",
    "test_user = 64\n",
    "user_recomm = X_pred[test_user-1,]\n",
    "\n",
    "tmp = list(enumerate(user_recomm))\n",
    "tmp.sort(key=lambda x: x[1],reverse=True)\n",
    "t10 = tmp[:10]\n",
    "i_cols = ['movie id', 'movie title' ,'release date',\n",
    "          'video release date', 'IMDb URL', 'unknown', \n",
    "          'Action', 'Adventure','Animation', 'Children\\'s',\n",
    "          'Comedy', 'Crime', 'Documentary', 'Drama', 'Fantasy',\n",
    "          'Film-Noir', 'Horror', 'Musical', 'Mystery', 'Romance', \n",
    "          'Sci-Fi', 'Thriller', 'War', 'Western']\n",
    "\n",
    "movie = pd.read_csv('/content/Recommendation-SVD/u.item',sep='|',names=i_cols,encoding='latin-1')\n",
    "\n",
    "for id in t10:\n",
    "    print(movie.loc[movie['movie id'] == id[0]+1]['movie title'])\n",
    "\n",
    "print('User-based CF MSE: ' + str(rmse(X_pred,test_data_matrix)))\n",
    "\n",
    "# 출처: https://github.com/aatish-sai/Recommendation-SVD.git"
   ]
  }
 ],
 "metadata": {
  "accelerator": "GPU",
  "colab": {
   "authorship_tag": "ABX9TyP05RRly1RfZbGZ+FkL/sy5",
   "collapsed_sections": [],
   "name": "(201128)(11주차)인공지능을 위한 기초수학 파이썬 코드.ipynb",
   "provenance": []
  },
  "kernelspec": {
   "display_name": "Python 3",
   "language": "python",
   "name": "python3"
  },
  "language_info": {
   "codemirror_mode": {
    "name": "ipython",
    "version": 3
   },
   "file_extension": ".py",
   "mimetype": "text/x-python",
   "name": "python",
   "nbconvert_exporter": "python",
   "pygments_lexer": "ipython3",
   "version": "3.7.6"
  }
 },
 "nbformat": 4,
 "nbformat_minor": 1
}
