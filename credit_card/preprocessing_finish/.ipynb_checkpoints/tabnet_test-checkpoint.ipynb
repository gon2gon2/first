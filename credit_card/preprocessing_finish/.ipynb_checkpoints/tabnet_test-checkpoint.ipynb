{
 "cells": [
  {
   "cell_type": "code",
   "execution_count": null,
   "id": "inclusive-velvet",
   "metadata": {},
   "outputs": [],
   "source": [
    "!pip uninstall -y typing # this should avoid  AttributeError: type object 'Callable' has no attribute '_abc_registry'\n",
    "\n",
    "!pip install  \"git+https://github.com/dreamquark-ai/tabnet.git@develop#egg=pytorch_tabnet\" --upgrade"
   ]
  },
  {
   "cell_type": "code",
   "execution_count": 8,
   "id": "conscious-daughter",
   "metadata": {},
   "outputs": [],
   "source": [
    "import warnings\n",
    "warnings.filterwarnings('ignore')\n",
    "\n",
    "from pytorch_tabnet.multitask import TabNetMultiTaskClassifier\n",
    "\n",
    "import torch\n",
    "from sklearn.metrics import roc_auc_score, log_loss\n",
    "from sklearn.model_selection import StratifiedKFold\n",
    "import pandas as pd\n",
    "import numpy as np\n",
    "import random\n",
    "np.random.seed(0)\n",
    "\n",
    "from tqdm.notebook import tqdm\n",
    "\n",
    "import os\n",
    "\n",
    "from matplotlib import pyplot as plt\n",
    "%matplotlib inline"
   ]
  },
  {
   "cell_type": "code",
   "execution_count": 9,
   "id": "mental-stable",
   "metadata": {},
   "outputs": [
    {
     "name": "stdout",
     "output_type": "stream",
     "text": [
      "['.ipynb_checkpoints', 'sample_submission.csv', 'test.csv', 'train.csv', 'Untitled.ipynb']\n"
     ]
    }
   ],
   "source": [
    "d = \"C:\\kaggle_data\\credit_card\"\n",
    "lst = os.listdir(d)\n",
    "print(lst)\n",
    "train = pd.read_csv(d + '\\\\' +lst[3])\n",
    "test = pd.read_csv(d + '\\\\' +lst[2])\n",
    "ss = pd.read_csv(d + '\\\\' +lst[1])\n",
    "train = train.drop(['index'], axis=1)\n",
    "train.fillna('NAN', inplace=True) \n",
    "test = test.drop(['index'], axis=1)\n",
    "test.fillna('NAN', inplace=True)"
   ]
  },
  {
   "cell_type": "code",
   "execution_count": 10,
   "id": "looking-occurrence",
   "metadata": {},
   "outputs": [],
   "source": [
    "n = 5"
   ]
  },
  {
   "cell_type": "code",
   "execution_count": 11,
   "id": "preceding-financing",
   "metadata": {},
   "outputs": [],
   "source": [
    "random.seed(42)\n",
    "skf = StratifiedKFold(n_splits=n, shuffle=True, random_state=42)"
   ]
  },
  {
   "cell_type": "code",
   "execution_count": 7,
   "id": "statistical-reduction",
   "metadata": {},
   "outputs": [],
   "source": [
    "def tr(train):\n",
    "    folds=[]\n",
    "    losses=[]\n",
    "    for train_idx, valid_idx in skf.split(train, train['credit']):\n",
    "        folds.append((train_idx, valid_idx))\n",
    "\n",
    "\n",
    "\n",
    "    models={}\n",
    "    for fold in range(n):\n",
    "        max_epochs = 1000\n",
    "\n",
    "        train_idx, valid_idx = folds[fold]\n",
    "        X_train, X_valid, y_train, y_valid = train.drop(['credit'],axis=1).iloc[train_idx].values, train.drop(['credit'],axis=1).iloc[valid_idx].values,\\\n",
    "                                             train['credit'][train_idx].values, train['credit'][valid_idx].values \n",
    "        clf = TabNetMultiTaskClassifier(n_steps=1,\n",
    "                                    cat_idxs=cat_idxs,\n",
    "                                    cat_dims=cat_dims,\n",
    "                                    cat_emb_dim=1,\n",
    "                                    optimizer_fn=torch.optim.Adam,\n",
    "                                    optimizer_params=dict(lr=2e-2),\n",
    "                                    scheduler_params={\"step_size\":50,\n",
    "                                                      \"gamma\":0.9},\n",
    "                                    scheduler_fn=torch.optim.lr_scheduler.StepLR,\n",
    "                                    mask_type='entmax', \n",
    "                                    lambda_sparse=0, \n",
    "                           )\n",
    "\n",
    "        clf.fit(\n",
    "            X_train=X_train, y_train=y_train,\n",
    "            max_epochs=max_epochs ,\n",
    "            patience=30,\n",
    "            batch_size=1024,\n",
    "            virtual_batch_size=128,\n",
    "            num_workers=1,\n",
    "            drop_last=False,\n",
    "            eval_set=[(X_valid, y_valid)],\n",
    "            eval_metric=[\"logloss\"])\n",
    "\n",
    "        models[fold]=clf\n",
    "\n",
    "\n",
    "\n",
    "        losses.append(log_loss(y_valid, clf.predict_proba(X_valid)))\n",
    "    ls = sum(losses)/n\n",
    "    print(ls)\n",
    "    return models"
   ]
  }
 ],
 "metadata": {
  "kernelspec": {
   "display_name": "tabnet",
   "language": "python",
   "name": "tabnet"
  },
  "language_info": {
   "codemirror_mode": {
    "name": "ipython",
    "version": 3
   },
   "file_extension": ".py",
   "mimetype": "text/x-python",
   "name": "python",
   "nbconvert_exporter": "python",
   "pygments_lexer": "ipython3",
   "version": "3.6.13"
  }
 },
 "nbformat": 4,
 "nbformat_minor": 5
}
