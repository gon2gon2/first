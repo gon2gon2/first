{
 "cells": [
  {
   "cell_type": "markdown",
   "metadata": {},
   "source": [
    "# https://github.com/dreamquark-ai/tabnet"
   ]
  },
  {
   "cell_type": "code",
   "execution_count": 2,
   "metadata": {
    "colab": {
     "base_uri": "https://localhost:8080/"
    },
    "id": "Ii9KxdXvhbjM",
    "outputId": "54d39637-036d-4c16-ae1b-15557ebbad01"
   },
   "outputs": [
    {
     "name": "stdout",
     "output_type": "stream",
     "text": [
      "Mounted at ./content/\n"
     ]
    }
   ],
   "source": [
    "from google.colab import drive\n",
    "drive.mount('./content/')"
   ]
  },
  {
   "cell_type": "code",
   "execution_count": 3,
   "metadata": {
    "colab": {
     "base_uri": "https://localhost:8080/"
    },
    "id": "PHds-WztpXqE",
    "outputId": "ddfea470-3589-49bc-dd2c-c0fd3e1f19a5"
   },
   "outputs": [
    {
     "name": "stdout",
     "output_type": "stream",
     "text": [
      "Collecting pytorch_tabnet\n",
      "  Cloning https://github.com/dreamquark-ai/tabnet.git (to revision develop) to /tmp/pip-install-gx_qav4y/pytorch-tabnet\n",
      "  Running command git clone -q https://github.com/dreamquark-ai/tabnet.git /tmp/pip-install-gx_qav4y/pytorch-tabnet\n",
      "  Installing build dependencies ... \u001b[?25l\u001b[?25hdone\n",
      "  Getting requirements to build wheel ... \u001b[?25l\u001b[?25hdone\n",
      "    Preparing wheel metadata ... \u001b[?25l\u001b[?25hdone\n",
      "Requirement already satisfied, skipping upgrade: scikit_learn>0.21 in /usr/local/lib/python3.7/dist-packages (from pytorch_tabnet) (0.22.2.post1)\n",
      "Requirement already satisfied, skipping upgrade: scipy>1.4 in /usr/local/lib/python3.7/dist-packages (from pytorch_tabnet) (1.4.1)\n",
      "Requirement already satisfied, skipping upgrade: tqdm<5.0,>=4.36 in /usr/local/lib/python3.7/dist-packages (from pytorch_tabnet) (4.41.1)\n",
      "Requirement already satisfied, skipping upgrade: torch<2.0,>=1.2 in /usr/local/lib/python3.7/dist-packages (from pytorch_tabnet) (1.8.1+cu101)\n",
      "Requirement already satisfied, skipping upgrade: numpy<2.0,>=1.17 in /usr/local/lib/python3.7/dist-packages (from pytorch_tabnet) (1.19.5)\n",
      "Requirement already satisfied, skipping upgrade: joblib>=0.11 in /usr/local/lib/python3.7/dist-packages (from scikit_learn>0.21->pytorch_tabnet) (1.0.1)\n",
      "Requirement already satisfied, skipping upgrade: typing-extensions in /usr/local/lib/python3.7/dist-packages (from torch<2.0,>=1.2->pytorch_tabnet) (3.7.4.3)\n",
      "Building wheels for collected packages: pytorch-tabnet\n",
      "  Building wheel for pytorch-tabnet (PEP 517) ... \u001b[?25l\u001b[?25hdone\n",
      "  Created wheel for pytorch-tabnet: filename=pytorch_tabnet-3.1.1-cp37-none-any.whl size=39326 sha256=dbf370437df193bcfe8cb3ee932ec034b2624d8b3cea2c676b2862d1c401b1dc\n",
      "  Stored in directory: /tmp/pip-ephem-wheel-cache-sz7wvvc3/wheels/a5/fe/e1/d7be493728d1fb7284583f5449d4cad80139ee994ef420f522\n",
      "Successfully built pytorch-tabnet\n",
      "Installing collected packages: pytorch-tabnet\n",
      "Successfully installed pytorch-tabnet-3.1.1\n",
      "Collecting bayesian-optimization\n",
      "  Downloading https://files.pythonhosted.org/packages/bb/7a/fd8059a3881d3ab37ac8f72f56b73937a14e8bb14a9733e68cc8b17dbe3c/bayesian-optimization-1.2.0.tar.gz\n",
      "Requirement already satisfied: numpy>=1.9.0 in /usr/local/lib/python3.7/dist-packages (from bayesian-optimization) (1.19.5)\n",
      "Requirement already satisfied: scipy>=0.14.0 in /usr/local/lib/python3.7/dist-packages (from bayesian-optimization) (1.4.1)\n",
      "Requirement already satisfied: scikit-learn>=0.18.0 in /usr/local/lib/python3.7/dist-packages (from bayesian-optimization) (0.22.2.post1)\n",
      "Requirement already satisfied: joblib>=0.11 in /usr/local/lib/python3.7/dist-packages (from scikit-learn>=0.18.0->bayesian-optimization) (1.0.1)\n",
      "Building wheels for collected packages: bayesian-optimization\n",
      "  Building wheel for bayesian-optimization (setup.py) ... \u001b[?25l\u001b[?25hdone\n",
      "  Created wheel for bayesian-optimization: filename=bayesian_optimization-1.2.0-cp37-none-any.whl size=11687 sha256=f633493b11ce07d5343c2f8299e737b5817a56f9cdeb7de7fef1017f93f88e6e\n",
      "  Stored in directory: /root/.cache/pip/wheels/5a/56/ae/e0e3c1fc1954dc3ec712e2df547235ed072b448094d8f94aec\n",
      "Successfully built bayesian-optimization\n",
      "Installing collected packages: bayesian-optimization\n",
      "Successfully installed bayesian-optimization-1.2.0\n"
     ]
    }
   ],
   "source": [
    "!pip install  \"git+https://github.com/dreamquark-ai/tabnet.git@develop#egg=pytorch_tabnet\" --upgrade\n",
    "!pip install bayesian-optimization\n",
    "from bayes_opt import BayesianOptimization"
   ]
  },
  {
   "cell_type": "markdown",
   "metadata": {
    "id": "--UXn99Ob9ou"
   },
   "source": [
    "# Label Encoding"
   ]
  },
  {
   "cell_type": "markdown",
   "metadata": {
    "id": "uEkfFArsdd0w"
   },
   "source": [
    "## 전처리"
   ]
  },
  {
   "cell_type": "code",
   "execution_count": 1,
   "metadata": {
    "colab": {
     "base_uri": "https://localhost:8080/"
    },
    "execution": {
     "iopub.execute_input": "2021-05-20T01:33:23.103935Z",
     "iopub.status.busy": "2021-05-20T01:33:23.103614Z",
     "iopub.status.idle": "2021-05-20T01:33:23.435231Z",
     "shell.execute_reply": "2021-05-20T01:33:23.434382Z",
     "shell.execute_reply.started": "2021-05-20T01:33:23.103907Z"
    },
    "id": "XoG6tQf3hYRi",
    "outputId": "c3345ead-acfd-4d55-add9-114b4397870d"
   },
   "outputs": [
    {
     "name": "stdout",
     "output_type": "stream",
     "text": [
      "['.ipynb_checkpoints', 'sample_submission.csv', 'test.csv', 'train.csv', 'Untitled.ipynb']\n",
      "Using cuda\n"
     ]
    }
   ],
   "source": [
    "import warnings\n",
    "warnings.filterwarnings('ignore')\n",
    "import glob\n",
    "import pandas as pd\n",
    "import numpy as np\n",
    "import seaborn as sns\n",
    "import matplotlib.pyplot as plt\n",
    "from lightgbm import LGBMClassifier\n",
    "from sklearn.model_selection import StratifiedKFold\n",
    "from sklearn.preprocessing import OneHotEncoder\n",
    "from sklearn.preprocessing import OrdinalEncoder\n",
    "from sklearn.preprocessing import LabelEncoder\n",
    "import random\n",
    "import os\n",
    "from sklearn.metrics import log_loss\n",
    "# from bayes_opt import BayesianOptimization\n",
    "# import lightgbm\n",
    "import torch\n",
    "from pytorch_tabnet.tab_model import TabNetClassifier\n",
    "\n",
    "d = \"C:\\kaggle_data\\credit_card\"\n",
    "lst = os.listdir(d)\n",
    "print(lst)\n",
    "train = pd.read_csv(d + '\\\\' +lst[3])\n",
    "test = pd.read_csv(d + '\\\\' +lst[2])\n",
    "ss = pd.read_csv(d + '\\\\' +lst[1])\n",
    "train = train.drop(['index'], axis=1)\n",
    "train.fillna('NAN', inplace=True) \n",
    "test = test.drop(['index'], axis=1)\n",
    "test.fillna('NAN', inplace=True)\n",
    "\n",
    "# Married, Civil marriage\n",
    "train['income_per_size'] = np.log(train['income_total']/train['family_size'])\n",
    "test['income_per_size'] = np.log(test['income_total']/test['family_size'])\n",
    "train.loc[(train['family_type']=='Married')|(train['family_type']=='Civil marriage'),'income_per_size']\\\n",
    "= train['income_per_size'] * 2\n",
    "\n",
    "test.loc[(test['family_type']=='Married')|(test['family_type']=='Civil marriage'),'income_per_size']\\\n",
    "= test['income_per_size'] * 2\n",
    "\n",
    "def simple_marry(x):\n",
    "    if x == 'Married' or x =='Civil marriage':\n",
    "        return '0'\n",
    "    elif x == 'Separated' or x == 'Widow':\n",
    "        return '1'\n",
    "    else:\n",
    "        return '2'\n",
    "\n",
    "for df in [train,test]:\n",
    "    df['family_bins'] = df['family_type'].apply(simple_marry)\n",
    "\n",
    "# income_total을 로그변환\n",
    "train['income_total'] = np.log(train['income_total'])\n",
    "# train = train.drop('income_total',1)\n",
    "test['income_total'] = np.log(test['income_total'])\n",
    "# test = test.drop('income_total',1)\n",
    "\n",
    "# car와 reality를 합친 새로운 칼럼 careality\n",
    "train['car'] =train['car'].apply(lambda x: int(x=='Y'))\n",
    "train['reality'] =train['reality'].apply(lambda x: int(x=='Y'))\n",
    "test['car'] =test['car'].apply(lambda x: int(x=='Y'))\n",
    "test['reality'] =test['reality'].apply(lambda x: int(x=='Y'))\n",
    "\n",
    "train['careality'] = train['car'] + train['reality']\n",
    "train = train.drop(['car', 'reality'],1)\n",
    "\n",
    "test['careality'] = test['car'] + test['reality']\n",
    "test = test.drop(['car', 'reality'],1)\n",
    "\n",
    "train.drop('gender',1,inplace=True)\n",
    "test.drop('gender',1,inplace=True)\n",
    "\n",
    "object_col = []\n",
    "for col in train.columns:\n",
    "    if train[col].dtype == 'object':\n",
    "        object_col.append(col)\n",
    "###############################\n",
    "enc = OneHotEncoder()\n",
    "enc.fit(train.loc[:,object_col])\n",
    "\n",
    "\n",
    "train_onehot_df = pd.DataFrame(enc.transform(train.loc[:,object_col]).toarray(), \n",
    "             columns=enc.get_feature_names(object_col))\n",
    "train.drop(object_col, axis=1, inplace=True)\n",
    "train = pd.concat([train, train_onehot_df], axis=1)\n",
    "\n",
    "test_onehot_df = pd.DataFrame(enc.transform(test.loc[:,object_col]).toarray(), \n",
    "             columns=enc.get_feature_names(object_col))\n",
    "test.drop(object_col, axis=1, inplace=True)\n",
    "test = pd.concat([test, test_onehot_df], axis=1)\n",
    "########################################\n",
    "\n",
    "\n",
    "\n",
    "\n",
    "## 제곱\n",
    "for df in [train,test]:\n",
    "    df['income_per_size'] = df['income_per_size'].apply(lambda x: x**2)\n",
    "    \n",
    "c = 'income_per_size'\n",
    "mean = train[c].mean()\n",
    "std = train[c].std()\n",
    "\n",
    "# 기존 \n",
    "train[c] = (train[c]-mean)/std\n",
    "test[c] = (test[c]-mean)/std\n",
    "\n",
    "#####################\n",
    "c = 'income_total'\n",
    "k = 2.2\n",
    "mean = train[c].mean()\n",
    "std = train[c].std()\n",
    "idxs = train.loc[(train[c]>= mean + k*std)|\\\n",
    "                (train[c]<= mean - k*std)].index\n",
    "train = train.drop(idxs).reset_index(drop=True)\n",
    "\n",
    "# 기존 \n",
    "train[c] = (train[c]-mean)/std\n",
    "test[c] = (test[c]-mean)/std\n",
    "\n",
    "#####################\n",
    "c = 'begin_month'\n",
    "k = 2.2\n",
    "\n",
    "train[c] = train[c].apply(lambda x: x**2)\n",
    "test[c] = test[c].apply(lambda x: x**2)\n",
    "\n",
    "mean = train[c].mean()\n",
    "std = train[c].std()\n",
    "\n",
    "idxs = train.loc[(train[c]>= mean + k*std)|\\\n",
    "                (train[c]<= mean - k*std)].index\n",
    "# train = train.drop(idxs).reset_index(drop=True)\n",
    "\n",
    "# 기존 \n",
    "train[c] = (train[c]-mean)/std\n",
    "test[c] = (test[c]-mean)/std\n",
    "\n",
    "######################\n",
    "c = 'DAYS_BIRTH'\n",
    "k = 2.2\n",
    "mean = train[c].mean()\n",
    "std = train[c].std()\n",
    "idxs = train.loc[(train[c]>= mean + k*std)|\\\n",
    "                (train[c]<= mean - k*std)].index\n",
    "train = train.drop(idxs).reset_index(drop=True)\n",
    "\n",
    "#기존 \n",
    "train[c] = (train[c]-mean)/std\n",
    "test[c] = (test[c]-mean)/std\n",
    "\n",
    "\n",
    "\n",
    "###################\n",
    "c = 'DAYS_EMPLOYED'\n",
    "k = 2.2\n",
    "mean = train[c].mean()\n",
    "std = train[c].std()\n",
    "idxs = train.loc[(train[c]>= mean + k*std)|\\\n",
    "                (train[c]<= mean - k*std)].index\n",
    "train = train.drop(idxs).reset_index(drop=True)\n",
    "\n",
    "\n",
    "\n",
    "ran = ['child_num', 'DAYS_BIRTH', 'DAYS_EMPLOYED','family_size', 'begin_month', 'income_per_size']\n",
    "from sklearn.preprocessing import QuantileTransformer\n",
    "tf = QuantileTransformer(n_quantiles=100,random_state=42, output_distribution='normal')\n",
    "tf.fit(train[ran])\n",
    "train[ran] = tf.transform(train[ran])\n",
    "test[ran] = tf.transform(test[ran])\n",
    "\n",
    "\n",
    "\n",
    "MAX_EPOCHS = 1000\n",
    "BATCH_SIZE = 1024\n",
    "VIRTUAL_BATCH_SIZE = 128\n",
    "DEVICE = 'cuda' if torch.cuda.is_available() else 'cpu'\n",
    "\n",
    "print(\"Using {}\".format(DEVICE))"
   ]
  },
  {
   "cell_type": "code",
   "execution_count": 2,
   "metadata": {
    "execution": {
     "iopub.execute_input": "2021-05-20T01:39:07.185724Z",
     "iopub.status.busy": "2021-05-20T01:39:07.185405Z",
     "iopub.status.idle": "2021-05-20T01:39:07.207830Z",
     "shell.execute_reply": "2021-05-20T01:39:07.207122Z",
     "shell.execute_reply.started": "2021-05-20T01:39:07.185697Z"
    },
    "id": "GyVKBBtqhYRn"
   },
   "outputs": [],
   "source": [
    "# cat_idxs = [ i for i, f in enumerate(train.columns) if f in object_col]\n",
    "\n",
    "# cat_dims = [len(total.iloc[:,idx].unique()) for idx in cat_idxs]"
   ]
  },
  {
   "cell_type": "code",
   "execution_count": 3,
   "metadata": {
    "execution": {
     "iopub.execute_input": "2021-05-20T01:55:30.479499Z",
     "iopub.status.busy": "2021-05-20T01:55:30.479106Z",
     "iopub.status.idle": "2021-05-20T01:55:30.493517Z",
     "shell.execute_reply": "2021-05-20T01:55:30.492578Z",
     "shell.execute_reply.started": "2021-05-20T01:55:30.479462Z"
    },
    "id": "cLqQ9HN9hYRn"
   },
   "outputs": [],
   "source": [
    "n = 10\n",
    "skf = StratifiedKFold(n_splits=n, shuffle=True, random_state=42)\n",
    "folds=[]\n",
    "for train_idx, valid_idx in skf.split(train, train['credit']):\n",
    "    folds.append((train_idx, valid_idx))\n",
    "random.seed(42)"
   ]
  },
  {
   "cell_type": "markdown",
   "metadata": {},
   "source": [
    "- n_step: 4,6"
   ]
  },
  {
   "cell_type": "code",
   "execution_count": null,
   "metadata": {
    "scrolled": false
   },
   "outputs": [
    {
     "name": "stderr",
     "output_type": "stream",
     "text": [
      "\r",
      "  0%|                                            | 0/10 [00:00<?, ?it/s]"
     ]
    },
    {
     "name": "stdout",
     "output_type": "stream",
     "text": [
      "\n",
      "Early stopping occurred at epoch 207 with best_epoch = 157 and best_val_0_logloss = 0.83234\n",
      "Best weights from best epoch are automatically used!\n"
     ]
    },
    {
     "name": "stderr",
     "output_type": "stream",
     "text": [
      "\r",
      " 10%|███▌                                | 1/10 [01:00<09:08, 60.95s/it]"
     ]
    },
    {
     "name": "stdout",
     "output_type": "stream",
     "text": [
      "5 1 1\n",
      "\n",
      "Early stopping occurred at epoch 232 with best_epoch = 182 and best_val_0_logloss = 0.82777\n",
      "Best weights from best epoch are automatically used!\n"
     ]
    },
    {
     "name": "stderr",
     "output_type": "stream",
     "text": [
      "\r",
      " 20%|███████▏                            | 2/10 [02:05<08:24, 63.03s/it]"
     ]
    },
    {
     "name": "stdout",
     "output_type": "stream",
     "text": [
      "5 1 1\n"
     ]
    },
    {
     "name": "stderr",
     "output_type": "stream",
     "text": [
      "\r",
      " 30%|██████████▊                         | 3/10 [03:03<07:04, 60.66s/it]"
     ]
    },
    {
     "name": "stdout",
     "output_type": "stream",
     "text": [
      "\n",
      "Early stopping occurred at epoch 208 with best_epoch = 158 and best_val_0_logloss = 0.8385\n",
      "Best weights from best epoch are automatically used!\n",
      "5 1 1\n"
     ]
    },
    {
     "name": "stderr",
     "output_type": "stream",
     "text": [
      "\r",
      " 40%|██████████████▍                     | 4/10 [03:57<05:48, 58.13s/it]"
     ]
    },
    {
     "name": "stdout",
     "output_type": "stream",
     "text": [
      "\n",
      "Early stopping occurred at epoch 194 with best_epoch = 144 and best_val_0_logloss = 0.80747\n",
      "Best weights from best epoch are automatically used!\n",
      "5 1 1\n",
      "\n",
      "Early stopping occurred at epoch 132 with best_epoch = 82 and best_val_0_logloss = 0.8352\n",
      "Best weights from best epoch are automatically used!\n"
     ]
    },
    {
     "name": "stderr",
     "output_type": "stream",
     "text": [
      "\r",
      " 50%|██████████████████                  | 5/10 [04:34<04:12, 50.52s/it]"
     ]
    },
    {
     "name": "stdout",
     "output_type": "stream",
     "text": [
      "5 1 1\n"
     ]
    },
    {
     "name": "stderr",
     "output_type": "stream",
     "text": [
      "\r",
      " 60%|█████████████████████▌              | 6/10 [05:24<03:21, 50.43s/it]"
     ]
    },
    {
     "name": "stdout",
     "output_type": "stream",
     "text": [
      "\n",
      "Early stopping occurred at epoch 180 with best_epoch = 130 and best_val_0_logloss = 0.83044\n",
      "Best weights from best epoch are automatically used!\n",
      "5 1 1\n",
      "\n",
      "Early stopping occurred at epoch 295 with best_epoch = 245 and best_val_0_logloss = 0.83974\n",
      "Best weights from best epoch are automatically used!\n"
     ]
    },
    {
     "name": "stderr",
     "output_type": "stream",
     "text": [
      "\r",
      " 70%|█████████████████████████▏          | 7/10 [06:47<03:02, 60.84s/it]"
     ]
    },
    {
     "name": "stdout",
     "output_type": "stream",
     "text": [
      "5 1 1\n"
     ]
    },
    {
     "name": "stderr",
     "output_type": "stream",
     "text": [
      "\r",
      " 80%|████████████████████████████▊       | 8/10 [08:10<02:15, 67.96s/it]"
     ]
    },
    {
     "name": "stdout",
     "output_type": "stream",
     "text": [
      "\n",
      "Early stopping occurred at epoch 299 with best_epoch = 249 and best_val_0_logloss = 0.82665\n",
      "Best weights from best epoch are automatically used!\n",
      "5 1 1\n"
     ]
    },
    {
     "name": "stderr",
     "output_type": "stream",
     "text": [
      "\r",
      " 90%|████████████████████████████████▍   | 9/10 [09:26<01:10, 70.49s/it]"
     ]
    },
    {
     "name": "stdout",
     "output_type": "stream",
     "text": [
      "\n",
      "Early stopping occurred at epoch 273 with best_epoch = 223 and best_val_0_logloss = 0.82333\n",
      "Best weights from best epoch are automatically used!\n",
      "5 1 1\n",
      "\n",
      "Early stopping occurred at epoch 246 with best_epoch = 196 and best_val_0_logloss = 0.82251\n",
      "Best weights from best epoch are automatically used!\n"
     ]
    },
    {
     "name": "stderr",
     "output_type": "stream",
     "text": [
      "100%|███████████████████████████████████| 10/10 [10:35<00:00, 63.51s/it]\n",
      "  0%|                                            | 0/10 [00:00<?, ?it/s]"
     ]
    },
    {
     "name": "stdout",
     "output_type": "stream",
     "text": [
      "5 1 1\n",
      "\n",
      "Early stopping occurred at epoch 211 with best_epoch = 161 and best_val_0_logloss = 0.84133\n",
      "Best weights from best epoch are automatically used!\n",
      "5 1 2\n"
     ]
    },
    {
     "name": "stderr",
     "output_type": "stream",
     "text": [
      "\r",
      " 10%|███▌                                | 1/10 [01:04<09:43, 64.86s/it]"
     ]
    },
    {
     "name": "stdout",
     "output_type": "stream",
     "text": [
      "\n",
      "Early stopping occurred at epoch 260 with best_epoch = 210 and best_val_0_logloss = 0.81625\n",
      "Best weights from best epoch are automatically used!\n"
     ]
    },
    {
     "name": "stderr",
     "output_type": "stream",
     "text": [
      "\r",
      " 20%|███████▏                            | 2/10 [02:24<09:49, 73.66s/it]"
     ]
    },
    {
     "name": "stdout",
     "output_type": "stream",
     "text": [
      "5 1 2\n"
     ]
    },
    {
     "name": "stderr",
     "output_type": "stream",
     "text": [
      "\r",
      " 30%|██████████▊                         | 3/10 [03:33<08:21, 71.66s/it]"
     ]
    },
    {
     "name": "stdout",
     "output_type": "stream",
     "text": [
      "\n",
      "Early stopping occurred at epoch 225 with best_epoch = 175 and best_val_0_logloss = 0.84478\n",
      "Best weights from best epoch are automatically used!\n",
      "5 1 2\n",
      "\n",
      "Early stopping occurred at epoch 192 with best_epoch = 142 and best_val_0_logloss = 0.82033\n",
      "Best weights from best epoch are automatically used!\n"
     ]
    },
    {
     "name": "stderr",
     "output_type": "stream",
     "text": [
      "\r",
      " 40%|██████████████▍                     | 4/10 [04:33<06:40, 66.80s/it]"
     ]
    },
    {
     "name": "stdout",
     "output_type": "stream",
     "text": [
      "5 1 2\n",
      "\n",
      "Early stopping occurred at epoch 321 with best_epoch = 271 and best_val_0_logloss = 0.80697\n",
      "Best weights from best epoch are automatically used!\n"
     ]
    },
    {
     "name": "stderr",
     "output_type": "stream",
     "text": [
      "\r",
      " 50%|██████████████████                  | 5/10 [06:11<06:30, 78.20s/it]"
     ]
    },
    {
     "name": "stdout",
     "output_type": "stream",
     "text": [
      "5 1 2\n"
     ]
    },
    {
     "name": "stderr",
     "output_type": "stream",
     "text": [
      "\r",
      " 60%|█████████████████████▌              | 6/10 [06:47<04:14, 63.65s/it]"
     ]
    },
    {
     "name": "stdout",
     "output_type": "stream",
     "text": [
      "\n",
      "Early stopping occurred at epoch 114 with best_epoch = 64 and best_val_0_logloss = 0.85392\n",
      "Best weights from best epoch are automatically used!\n",
      "5 1 2\n"
     ]
    },
    {
     "name": "stderr",
     "output_type": "stream",
     "text": [
      "\r",
      " 70%|█████████████████████████▏          | 7/10 [08:04<03:24, 68.28s/it]"
     ]
    },
    {
     "name": "stdout",
     "output_type": "stream",
     "text": [
      "\n",
      "Early stopping occurred at epoch 253 with best_epoch = 203 and best_val_0_logloss = 0.82204\n",
      "Best weights from best epoch are automatically used!\n",
      "5 1 2\n"
     ]
    },
    {
     "name": "stderr",
     "output_type": "stream",
     "text": [
      "\r",
      " 80%|████████████████████████████▊       | 8/10 [09:43<02:35, 77.81s/it]"
     ]
    },
    {
     "name": "stdout",
     "output_type": "stream",
     "text": [
      "\n",
      "Early stopping occurred at epoch 320 with best_epoch = 270 and best_val_0_logloss = 0.82191\n",
      "Best weights from best epoch are automatically used!\n",
      "5 1 2\n",
      "\n",
      "Early stopping occurred at epoch 250 with best_epoch = 200 and best_val_0_logloss = 0.8401\n",
      "Best weights from best epoch are automatically used!\n"
     ]
    },
    {
     "name": "stderr",
     "output_type": "stream",
     "text": [
      "\r",
      " 90%|████████████████████████████████▍   | 9/10 [11:00<01:17, 77.61s/it]"
     ]
    },
    {
     "name": "stdout",
     "output_type": "stream",
     "text": [
      "5 1 2\n",
      "\n",
      "Early stopping occurred at epoch 189 with best_epoch = 139 and best_val_0_logloss = 0.84349\n",
      "Best weights from best epoch are automatically used!\n"
     ]
    },
    {
     "name": "stderr",
     "output_type": "stream",
     "text": [
      "100%|███████████████████████████████████| 10/10 [11:58<00:00, 71.88s/it]\n",
      "  0%|                                            | 0/10 [00:00<?, ?it/s]"
     ]
    },
    {
     "name": "stdout",
     "output_type": "stream",
     "text": [
      "5 1 2\n",
      "\n",
      "Early stopping occurred at epoch 298 with best_epoch = 248 and best_val_0_logloss = 0.8131\n",
      "Best weights from best epoch are automatically used!\n"
     ]
    },
    {
     "name": "stderr",
     "output_type": "stream",
     "text": [
      "\r",
      " 10%|███▌                                | 1/10 [01:39<14:59, 99.95s/it]"
     ]
    },
    {
     "name": "stdout",
     "output_type": "stream",
     "text": [
      "5 1 3\n"
     ]
    },
    {
     "name": "stderr",
     "output_type": "stream",
     "text": [
      "\r",
      " 20%|███████▏                            | 2/10 [02:51<11:04, 83.11s/it]"
     ]
    },
    {
     "name": "stdout",
     "output_type": "stream",
     "text": [
      "\n",
      "Early stopping occurred at epoch 212 with best_epoch = 162 and best_val_0_logloss = 0.82607\n",
      "Best weights from best epoch are automatically used!\n",
      "5 1 3\n"
     ]
    },
    {
     "name": "stderr",
     "output_type": "stream",
     "text": [
      "\r",
      " 30%|██████████▊                         | 3/10 [03:34<07:35, 65.08s/it]"
     ]
    },
    {
     "name": "stdout",
     "output_type": "stream",
     "text": [
      "\n",
      "Early stopping occurred at epoch 129 with best_epoch = 79 and best_val_0_logloss = 0.88443\n",
      "Best weights from best epoch are automatically used!\n",
      "5 1 3\n"
     ]
    },
    {
     "name": "stderr",
     "output_type": "stream",
     "text": [
      "\r",
      " 40%|██████████████▍                     | 4/10 [04:53<07:02, 70.40s/it]"
     ]
    },
    {
     "name": "stdout",
     "output_type": "stream",
     "text": [
      "\n",
      "Early stopping occurred at epoch 233 with best_epoch = 183 and best_val_0_logloss = 0.80262\n",
      "Best weights from best epoch are automatically used!\n",
      "5 1 3\n",
      "\n",
      "Early stopping occurred at epoch 238 with best_epoch = 188 and best_val_0_logloss = 0.81819\n",
      "Best weights from best epoch are automatically used!\n"
     ]
    },
    {
     "name": "stderr",
     "output_type": "stream",
     "text": [
      "\r",
      " 50%|██████████████████                  | 5/10 [06:13<06:09, 73.83s/it]"
     ]
    },
    {
     "name": "stdout",
     "output_type": "stream",
     "text": [
      "5 1 3\n"
     ]
    },
    {
     "name": "stderr",
     "output_type": "stream",
     "text": [
      "\r",
      " 60%|█████████████████████▌              | 6/10 [07:43<05:17, 79.27s/it]"
     ]
    },
    {
     "name": "stdout",
     "output_type": "stream",
     "text": [
      "\n",
      "Early stopping occurred at epoch 268 with best_epoch = 218 and best_val_0_logloss = 0.8173\n",
      "Best weights from best epoch are automatically used!\n",
      "5 1 3\n",
      "\n",
      "Early stopping occurred at epoch 330 with best_epoch = 280 and best_val_0_logloss = 0.81784\n",
      "Best weights from best epoch are automatically used!\n"
     ]
    },
    {
     "name": "stderr",
     "output_type": "stream",
     "text": [
      "\r",
      " 70%|█████████████████████████▏          | 7/10 [09:33<04:28, 89.56s/it]"
     ]
    },
    {
     "name": "stdout",
     "output_type": "stream",
     "text": [
      "5 1 3\n"
     ]
    },
    {
     "name": "stderr",
     "output_type": "stream",
     "text": [
      "\r",
      " 80%|████████████████████████████▊       | 8/10 [10:59<02:56, 88.26s/it]"
     ]
    },
    {
     "name": "stdout",
     "output_type": "stream",
     "text": [
      "\n",
      "Early stopping occurred at epoch 254 with best_epoch = 204 and best_val_0_logloss = 0.82936\n",
      "Best weights from best epoch are automatically used!\n",
      "5 1 3\n"
     ]
    },
    {
     "name": "stderr",
     "output_type": "stream",
     "text": [
      "\r",
      " 90%|████████████████████████████████▍   | 9/10 [11:36<01:12, 72.32s/it]"
     ]
    },
    {
     "name": "stdout",
     "output_type": "stream",
     "text": [
      "\n",
      "Early stopping occurred at epoch 110 with best_epoch = 60 and best_val_0_logloss = 0.88323\n",
      "Best weights from best epoch are automatically used!\n",
      "5 1 3\n",
      "\n",
      "Early stopping occurred at epoch 221 with best_epoch = 171 and best_val_0_logloss = 0.82353\n",
      "Best weights from best epoch are automatically used!\n"
     ]
    },
    {
     "name": "stderr",
     "output_type": "stream",
     "text": [
      "100%|███████████████████████████████████| 10/10 [12:51<00:00, 77.15s/it]\n",
      "  0%|                                            | 0/10 [00:00<?, ?it/s]"
     ]
    },
    {
     "name": "stdout",
     "output_type": "stream",
     "text": [
      "5 1 3\n"
     ]
    },
    {
     "name": "stderr",
     "output_type": "stream",
     "text": [
      "\r",
      " 10%|███▌                                | 1/10 [00:44<06:41, 44.57s/it]"
     ]
    },
    {
     "name": "stdout",
     "output_type": "stream",
     "text": [
      "\n",
      "Early stopping occurred at epoch 122 with best_epoch = 72 and best_val_0_logloss = 0.88102\n",
      "Best weights from best epoch are automatically used!\n",
      "5 1 4\n",
      "\n",
      "Early stopping occurred at epoch 301 with best_epoch = 251 and best_val_0_logloss = 0.85687\n",
      "Best weights from best epoch are automatically used!\n"
     ]
    },
    {
     "name": "stderr",
     "output_type": "stream",
     "text": [
      "\r",
      " 20%|███████▏                            | 2/10 [02:34<11:02, 82.84s/it]"
     ]
    },
    {
     "name": "stdout",
     "output_type": "stream",
     "text": [
      "5 1 4\n"
     ]
    },
    {
     "name": "stderr",
     "output_type": "stream",
     "text": [
      "\r",
      " 30%|██████████▊                         | 3/10 [04:24<11:06, 95.24s/it]"
     ]
    },
    {
     "name": "stdout",
     "output_type": "stream",
     "text": [
      "\n",
      "Early stopping occurred at epoch 303 with best_epoch = 253 and best_val_0_logloss = 0.82765\n",
      "Best weights from best epoch are automatically used!\n",
      "5 1 4\n",
      "\n",
      "Early stopping occurred at epoch 217 with best_epoch = 167 and best_val_0_logloss = 0.81095\n",
      "Best weights from best epoch are automatically used!\n"
     ]
    },
    {
     "name": "stderr",
     "output_type": "stream",
     "text": [
      "\r",
      " 40%|██████████████▍                     | 4/10 [05:43<08:53, 88.86s/it]"
     ]
    },
    {
     "name": "stdout",
     "output_type": "stream",
     "text": [
      "5 1 4\n"
     ]
    },
    {
     "name": "stderr",
     "output_type": "stream",
     "text": [
      "\r",
      " 50%|██████████████████                  | 5/10 [07:36<08:08, 97.80s/it]"
     ]
    },
    {
     "name": "stdout",
     "output_type": "stream",
     "text": [
      "\n",
      "Early stopping occurred at epoch 313 with best_epoch = 263 and best_val_0_logloss = 0.85361\n",
      "Best weights from best epoch are automatically used!\n",
      "5 1 4\n"
     ]
    },
    {
     "name": "stderr",
     "output_type": "stream",
     "text": [
      "\r",
      " 60%|█████████████████████              | 6/10 [09:32<06:55, 103.89s/it]"
     ]
    },
    {
     "name": "stdout",
     "output_type": "stream",
     "text": [
      "\n",
      "Early stopping occurred at epoch 318 with best_epoch = 268 and best_val_0_logloss = 0.81784\n",
      "Best weights from best epoch are automatically used!\n",
      "5 1 4\n",
      "\n",
      "Early stopping occurred at epoch 263 with best_epoch = 213 and best_val_0_logloss = 0.84263\n",
      "Best weights from best epoch are automatically used!\n"
     ]
    },
    {
     "name": "stderr",
     "output_type": "stream",
     "text": [
      "\r",
      " 70%|████████████████████████▌          | 7/10 [11:08<05:03, 101.25s/it]"
     ]
    },
    {
     "name": "stdout",
     "output_type": "stream",
     "text": [
      "5 1 4\n"
     ]
    },
    {
     "name": "stderr",
     "output_type": "stream",
     "text": [
      "\r",
      " 80%|████████████████████████████       | 8/10 [13:13<03:37, 108.75s/it]"
     ]
    },
    {
     "name": "stdout",
     "output_type": "stream",
     "text": [
      "\n",
      "Early stopping occurred at epoch 345 with best_epoch = 295 and best_val_0_logloss = 0.87615\n",
      "Best weights from best epoch are automatically used!\n",
      "5 1 4\n"
     ]
    },
    {
     "name": "stderr",
     "output_type": "stream",
     "text": [
      "\r",
      " 90%|███████████████████████████████▌   | 9/10 [14:54<01:46, 106.56s/it]"
     ]
    },
    {
     "name": "stdout",
     "output_type": "stream",
     "text": [
      "\n",
      "Early stopping occurred at epoch 279 with best_epoch = 229 and best_val_0_logloss = 0.8306\n",
      "Best weights from best epoch are automatically used!\n",
      "5 1 4\n",
      "\n",
      "Early stopping occurred at epoch 190 with best_epoch = 140 and best_val_0_logloss = 0.83743\n",
      "Best weights from best epoch are automatically used!\n"
     ]
    },
    {
     "name": "stderr",
     "output_type": "stream",
     "text": [
      "100%|███████████████████████████████████| 10/10 [16:04<00:00, 96.45s/it]\n",
      "  0%|                                            | 0/10 [00:00<?, ?it/s]"
     ]
    },
    {
     "name": "stdout",
     "output_type": "stream",
     "text": [
      "5 1 4\n",
      "\n",
      "Early stopping occurred at epoch 255 with best_epoch = 205 and best_val_0_logloss = 0.80891\n",
      "Best weights from best epoch are automatically used!\n"
     ]
    },
    {
     "name": "stderr",
     "output_type": "stream",
     "text": [
      "\r",
      " 10%|███▌                                | 1/10 [01:39<14:53, 99.30s/it]"
     ]
    },
    {
     "name": "stdout",
     "output_type": "stream",
     "text": [
      "5 1 5\n",
      "\n",
      "Early stopping occurred at epoch 227 with best_epoch = 177 and best_val_0_logloss = 0.8117\n",
      "Best weights from best epoch are automatically used!\n"
     ]
    },
    {
     "name": "stderr",
     "output_type": "stream",
     "text": [
      "\r",
      " 20%|███████▏                            | 2/10 [03:07<12:22, 92.87s/it]"
     ]
    },
    {
     "name": "stdout",
     "output_type": "stream",
     "text": [
      "5 1 5\n",
      "\n",
      "Early stopping occurred at epoch 234 with best_epoch = 184 and best_val_0_logloss = 0.81514\n",
      "Best weights from best epoch are automatically used!\n"
     ]
    },
    {
     "name": "stderr",
     "output_type": "stream",
     "text": [
      "\r",
      " 30%|██████████▊                         | 3/10 [04:39<10:45, 92.24s/it]"
     ]
    },
    {
     "name": "stdout",
     "output_type": "stream",
     "text": [
      "5 1 5\n"
     ]
    },
    {
     "name": "stderr",
     "output_type": "stream",
     "text": [
      "\r",
      " 40%|██████████████                     | 4/10 [06:51<10:48, 108.11s/it]"
     ]
    },
    {
     "name": "stdout",
     "output_type": "stream",
     "text": [
      "\n",
      "Early stopping occurred at epoch 341 with best_epoch = 291 and best_val_0_logloss = 0.80131\n",
      "Best weights from best epoch are automatically used!\n",
      "5 1 5\n"
     ]
    },
    {
     "name": "stderr",
     "output_type": "stream",
     "text": [
      "\r",
      " 50%|██████████████████                  | 5/10 [08:14<08:15, 99.01s/it]"
     ]
    },
    {
     "name": "stdout",
     "output_type": "stream",
     "text": [
      "\n",
      "Early stopping occurred at epoch 212 with best_epoch = 162 and best_val_0_logloss = 0.81073\n",
      "Best weights from best epoch are automatically used!\n",
      "5 1 5\n",
      "\n",
      "Early stopping occurred at epoch 242 with best_epoch = 192 and best_val_0_logloss = 0.80808\n",
      "Best weights from best epoch are automatically used!\n"
     ]
    },
    {
     "name": "stderr",
     "output_type": "stream",
     "text": [
      "\r",
      " 60%|█████████████████████▌              | 6/10 [09:48<06:29, 97.44s/it]"
     ]
    },
    {
     "name": "stdout",
     "output_type": "stream",
     "text": [
      "5 1 5\n",
      "\n",
      "Early stopping occurred at epoch 207 with best_epoch = 157 and best_val_0_logloss = 0.81733\n",
      "Best weights from best epoch are automatically used!\n"
     ]
    },
    {
     "name": "stderr",
     "output_type": "stream",
     "text": [
      "\r",
      " 70%|█████████████████████████▏          | 7/10 [11:10<04:36, 92.13s/it]"
     ]
    },
    {
     "name": "stdout",
     "output_type": "stream",
     "text": [
      "5 1 5\n",
      "\n",
      "Early stopping occurred at epoch 218 with best_epoch = 168 and best_val_0_logloss = 0.82222\n",
      "Best weights from best epoch are automatically used!\n"
     ]
    },
    {
     "name": "stderr",
     "output_type": "stream",
     "text": [
      "\r",
      " 80%|████████████████████████████▊       | 8/10 [12:35<02:59, 89.90s/it]"
     ]
    },
    {
     "name": "stdout",
     "output_type": "stream",
     "text": [
      "5 1 5\n",
      "\n",
      "Early stopping occurred at epoch 141 with best_epoch = 91 and best_val_0_logloss = 0.82345\n",
      "Best weights from best epoch are automatically used!\n"
     ]
    },
    {
     "name": "stderr",
     "output_type": "stream",
     "text": [
      "\r",
      " 90%|████████████████████████████████▍   | 9/10 [13:30<01:19, 79.10s/it]"
     ]
    },
    {
     "name": "stdout",
     "output_type": "stream",
     "text": [
      "5 1 5\n",
      "\n",
      "Early stopping occurred at epoch 204 with best_epoch = 154 and best_val_0_logloss = 0.80878\n",
      "Best weights from best epoch are automatically used!\n"
     ]
    },
    {
     "name": "stderr",
     "output_type": "stream",
     "text": [
      "100%|███████████████████████████████████| 10/10 [14:50<00:00, 89.06s/it]\n",
      "  0%|                                            | 0/10 [00:00<?, ?it/s]"
     ]
    },
    {
     "name": "stdout",
     "output_type": "stream",
     "text": [
      "5 1 5\n",
      "\n",
      "Early stopping occurred at epoch 249 with best_epoch = 199 and best_val_0_logloss = 0.81229\n",
      "Best weights from best epoch are automatically used!\n"
     ]
    },
    {
     "name": "stderr",
     "output_type": "stream",
     "text": [
      "\r",
      " 10%|███▌                                | 1/10 [01:16<11:28, 76.52s/it]"
     ]
    },
    {
     "name": "stdout",
     "output_type": "stream",
     "text": [
      "5 2 1\n"
     ]
    },
    {
     "name": "stderr",
     "output_type": "stream",
     "text": [
      "\r",
      " 20%|███████▏                            | 2/10 [02:13<08:40, 65.10s/it]"
     ]
    },
    {
     "name": "stdout",
     "output_type": "stream",
     "text": [
      "\n",
      "Early stopping occurred at epoch 185 with best_epoch = 135 and best_val_0_logloss = 0.82144\n",
      "Best weights from best epoch are automatically used!\n",
      "5 2 1\n"
     ]
    },
    {
     "name": "stderr",
     "output_type": "stream",
     "text": [
      "\r",
      " 30%|██████████▊                         | 3/10 [03:12<07:15, 62.15s/it]"
     ]
    },
    {
     "name": "stdout",
     "output_type": "stream",
     "text": [
      "\n",
      "Early stopping occurred at epoch 190 with best_epoch = 140 and best_val_0_logloss = 0.82182\n",
      "Best weights from best epoch are automatically used!\n",
      "5 2 1\n"
     ]
    },
    {
     "name": "stderr",
     "output_type": "stream",
     "text": [
      "\r",
      " 40%|██████████████▍                     | 4/10 [04:03<05:46, 57.73s/it]"
     ]
    },
    {
     "name": "stdout",
     "output_type": "stream",
     "text": [
      "\n",
      "Early stopping occurred at epoch 165 with best_epoch = 115 and best_val_0_logloss = 0.81398\n",
      "Best weights from best epoch are automatically used!\n",
      "5 2 1\n"
     ]
    },
    {
     "name": "stderr",
     "output_type": "stream",
     "text": [
      "\r",
      " 50%|██████████████████                  | 5/10 [05:06<04:59, 59.91s/it]"
     ]
    },
    {
     "name": "stdout",
     "output_type": "stream",
     "text": [
      "\n",
      "Early stopping occurred at epoch 207 with best_epoch = 157 and best_val_0_logloss = 0.81504\n",
      "Best weights from best epoch are automatically used!\n",
      "5 2 1\n"
     ]
    },
    {
     "name": "stderr",
     "output_type": "stream",
     "text": [
      "\r",
      " 60%|█████████████████████▌              | 6/10 [06:05<03:57, 59.39s/it]"
     ]
    },
    {
     "name": "stdout",
     "output_type": "stream",
     "text": [
      "\n",
      "Early stopping occurred at epoch 189 with best_epoch = 139 and best_val_0_logloss = 0.81343\n",
      "Best weights from best epoch are automatically used!\n",
      "5 2 1\n",
      "\n",
      "Early stopping occurred at epoch 251 with best_epoch = 201 and best_val_0_logloss = 0.81783\n",
      "Best weights from best epoch are automatically used!\n"
     ]
    },
    {
     "name": "stderr",
     "output_type": "stream",
     "text": [
      "\r",
      " 70%|█████████████████████████▏          | 7/10 [07:22<03:15, 65.12s/it]"
     ]
    },
    {
     "name": "stdout",
     "output_type": "stream",
     "text": [
      "5 2 1\n"
     ]
    },
    {
     "name": "stderr",
     "output_type": "stream",
     "text": [
      "\r",
      " 80%|████████████████████████████▊       | 8/10 [08:28<02:10, 65.31s/it]"
     ]
    },
    {
     "name": "stdout",
     "output_type": "stream",
     "text": [
      "\n",
      "Early stopping occurred at epoch 213 with best_epoch = 163 and best_val_0_logloss = 0.82194\n",
      "Best weights from best epoch are automatically used!\n",
      "5 2 1\n"
     ]
    },
    {
     "name": "stderr",
     "output_type": "stream",
     "text": [
      "\r",
      " 90%|████████████████████████████████▍   | 9/10 [09:27<01:03, 63.54s/it]"
     ]
    },
    {
     "name": "stdout",
     "output_type": "stream",
     "text": [
      "\n",
      "Early stopping occurred at epoch 193 with best_epoch = 143 and best_val_0_logloss = 0.82492\n",
      "Best weights from best epoch are automatically used!\n",
      "5 2 1\n"
     ]
    },
    {
     "name": "stderr",
     "output_type": "stream",
     "text": [
      "100%|███████████████████████████████████| 10/10 [10:20<00:00, 62.05s/it]\n",
      "  0%|                                            | 0/10 [00:00<?, ?it/s]"
     ]
    },
    {
     "name": "stdout",
     "output_type": "stream",
     "text": [
      "\n",
      "Early stopping occurred at epoch 170 with best_epoch = 120 and best_val_0_logloss = 0.8191\n",
      "Best weights from best epoch are automatically used!\n",
      "5 2 1\n"
     ]
    },
    {
     "name": "stderr",
     "output_type": "stream",
     "text": [
      "\r",
      " 10%|███▌                                | 1/10 [01:04<09:38, 64.25s/it]"
     ]
    },
    {
     "name": "stdout",
     "output_type": "stream",
     "text": [
      "\n",
      "Early stopping occurred at epoch 191 with best_epoch = 141 and best_val_0_logloss = 0.82326\n",
      "Best weights from best epoch are automatically used!\n",
      "5 2 2\n",
      "\n",
      "Early stopping occurred at epoch 194 with best_epoch = 144 and best_val_0_logloss = 0.82029\n",
      "Best weights from best epoch are automatically used!\n"
     ]
    },
    {
     "name": "stderr",
     "output_type": "stream",
     "text": [
      "\r",
      " 20%|███████▏                            | 2/10 [02:09<08:39, 64.90s/it]"
     ]
    },
    {
     "name": "stdout",
     "output_type": "stream",
     "text": [
      "5 2 2\n",
      "\n",
      "Early stopping occurred at epoch 269 with best_epoch = 219 and best_val_0_logloss = 0.82735\n",
      "Best weights from best epoch are automatically used!\n"
     ]
    },
    {
     "name": "stderr",
     "output_type": "stream",
     "text": [
      "\r",
      " 30%|██████████▊                         | 3/10 [03:39<08:54, 76.29s/it]"
     ]
    },
    {
     "name": "stdout",
     "output_type": "stream",
     "text": [
      "5 2 2\n",
      "\n",
      "Early stopping occurred at epoch 180 with best_epoch = 130 and best_val_0_logloss = 0.81379\n",
      "Best weights from best epoch are automatically used!\n"
     ]
    },
    {
     "name": "stderr",
     "output_type": "stream",
     "text": [
      "\r",
      " 40%|██████████████▍                     | 4/10 [04:40<07:01, 70.28s/it]"
     ]
    },
    {
     "name": "stdout",
     "output_type": "stream",
     "text": [
      "5 2 2\n",
      "\n",
      "Early stopping occurred at epoch 185 with best_epoch = 135 and best_val_0_logloss = 0.82067\n",
      "Best weights from best epoch are automatically used!\n"
     ]
    },
    {
     "name": "stderr",
     "output_type": "stream",
     "text": [
      "\r",
      " 50%|██████████████████                  | 5/10 [05:43<05:37, 67.56s/it]"
     ]
    },
    {
     "name": "stdout",
     "output_type": "stream",
     "text": [
      "5 2 2\n"
     ]
    },
    {
     "name": "stderr",
     "output_type": "stream",
     "text": [
      "\r",
      " 60%|█████████████████████▌              | 6/10 [06:55<04:36, 69.21s/it]"
     ]
    },
    {
     "name": "stdout",
     "output_type": "stream",
     "text": [
      "\n",
      "Early stopping occurred at epoch 214 with best_epoch = 164 and best_val_0_logloss = 0.82004\n",
      "Best weights from best epoch are automatically used!\n",
      "5 2 2\n",
      "\n",
      "Early stopping occurred at epoch 295 with best_epoch = 245 and best_val_0_logloss = 0.82526\n",
      "Best weights from best epoch are automatically used!\n"
     ]
    },
    {
     "name": "stderr",
     "output_type": "stream",
     "text": [
      "\r",
      " 70%|█████████████████████████▏          | 7/10 [08:34<03:56, 78.94s/it]"
     ]
    },
    {
     "name": "stdout",
     "output_type": "stream",
     "text": [
      "5 2 2\n"
     ]
    },
    {
     "name": "stderr",
     "output_type": "stream",
     "text": [
      "\r",
      " 80%|████████████████████████████▊       | 8/10 [09:17<02:14, 67.31s/it]"
     ]
    },
    {
     "name": "stdout",
     "output_type": "stream",
     "text": [
      "\n",
      "Early stopping occurred at epoch 125 with best_epoch = 75 and best_val_0_logloss = 0.84259\n",
      "Best weights from best epoch are automatically used!\n",
      "5 2 2\n",
      "\n",
      "Early stopping occurred at epoch 300 with best_epoch = 250 and best_val_0_logloss = 0.83927\n",
      "Best weights from best epoch are automatically used!\n"
     ]
    },
    {
     "name": "stderr",
     "output_type": "stream",
     "text": [
      "\r",
      " 90%|████████████████████████████████▍   | 9/10 [10:57<01:17, 77.75s/it]"
     ]
    },
    {
     "name": "stdout",
     "output_type": "stream",
     "text": [
      "5 2 2\n"
     ]
    },
    {
     "name": "stderr",
     "output_type": "stream",
     "text": [
      "100%|███████████████████████████████████| 10/10 [12:03<00:00, 72.39s/it]\n",
      "  0%|                                            | 0/10 [00:00<?, ?it/s]"
     ]
    },
    {
     "name": "stdout",
     "output_type": "stream",
     "text": [
      "\n",
      "Early stopping occurred at epoch 196 with best_epoch = 146 and best_val_0_logloss = 0.82023\n",
      "Best weights from best epoch are automatically used!\n",
      "5 2 2\n",
      "\n",
      "Early stopping occurred at epoch 212 with best_epoch = 162 and best_val_0_logloss = 0.82493\n",
      "Best weights from best epoch are automatically used!\n"
     ]
    },
    {
     "name": "stderr",
     "output_type": "stream",
     "text": [
      "\r",
      " 10%|███▌                                | 1/10 [01:17<11:34, 77.21s/it]"
     ]
    },
    {
     "name": "stdout",
     "output_type": "stream",
     "text": [
      "5 2 3\n",
      "\n",
      "Early stopping occurred at epoch 203 with best_epoch = 153 and best_val_0_logloss = 0.81117\n",
      "Best weights from best epoch are automatically used!\n"
     ]
    },
    {
     "name": "stderr",
     "output_type": "stream",
     "text": [
      "\r",
      " 20%|███████▏                            | 2/10 [02:31<10:02, 75.37s/it]"
     ]
    },
    {
     "name": "stdout",
     "output_type": "stream",
     "text": [
      "5 2 3\n"
     ]
    },
    {
     "name": "stderr",
     "output_type": "stream",
     "text": [
      "\r",
      " 30%|██████████▊                         | 3/10 [04:16<10:21, 88.84s/it]"
     ]
    },
    {
     "name": "stdout",
     "output_type": "stream",
     "text": [
      "\n",
      "Early stopping occurred at epoch 289 with best_epoch = 239 and best_val_0_logloss = 0.82202\n",
      "Best weights from best epoch are automatically used!\n",
      "5 2 3\n"
     ]
    },
    {
     "name": "stderr",
     "output_type": "stream",
     "text": [
      "\r",
      " 40%|██████████████▍                     | 4/10 [05:42<08:46, 87.73s/it]"
     ]
    },
    {
     "name": "stdout",
     "output_type": "stream",
     "text": [
      "\n",
      "Early stopping occurred at epoch 236 with best_epoch = 186 and best_val_0_logloss = 0.80189\n",
      "Best weights from best epoch are automatically used!\n",
      "5 2 3\n"
     ]
    },
    {
     "name": "stderr",
     "output_type": "stream",
     "text": [
      "\r",
      " 50%|██████████████████                  | 5/10 [06:32<06:11, 74.37s/it]"
     ]
    },
    {
     "name": "stdout",
     "output_type": "stream",
     "text": [
      "\n",
      "Early stopping occurred at epoch 138 with best_epoch = 88 and best_val_0_logloss = 0.82937\n",
      "Best weights from best epoch are automatically used!\n",
      "5 2 3\n",
      "\n",
      "Early stopping occurred at epoch 215 with best_epoch = 165 and best_val_0_logloss = 0.80896\n",
      "Best weights from best epoch are automatically used!\n"
     ]
    },
    {
     "name": "stderr",
     "output_type": "stream",
     "text": [
      "\r",
      " 60%|█████████████████████▌              | 6/10 [07:51<05:03, 75.88s/it]"
     ]
    },
    {
     "name": "stdout",
     "output_type": "stream",
     "text": [
      "5 2 3\n",
      "\n",
      "Early stopping occurred at epoch 182 with best_epoch = 132 and best_val_0_logloss = 0.83693\n",
      "Best weights from best epoch are automatically used!\n"
     ]
    },
    {
     "name": "stderr",
     "output_type": "stream",
     "text": [
      "\r",
      " 70%|█████████████████████████▏          | 7/10 [08:58<03:38, 72.96s/it]"
     ]
    },
    {
     "name": "stdout",
     "output_type": "stream",
     "text": [
      "5 2 3\n",
      "\n",
      "Early stopping occurred at epoch 178 with best_epoch = 128 and best_val_0_logloss = 0.82655\n",
      "Best weights from best epoch are automatically used!\n"
     ]
    },
    {
     "name": "stderr",
     "output_type": "stream",
     "text": [
      "\r",
      " 80%|████████████████████████████▊       | 8/10 [10:04<02:21, 70.56s/it]"
     ]
    },
    {
     "name": "stdout",
     "output_type": "stream",
     "text": [
      "5 2 3\n"
     ]
    },
    {
     "name": "stderr",
     "output_type": "stream",
     "text": [
      "\r",
      " 90%|████████████████████████████████▍   | 9/10 [11:30<01:15, 75.43s/it]"
     ]
    },
    {
     "name": "stdout",
     "output_type": "stream",
     "text": [
      "\n",
      "Early stopping occurred at epoch 237 with best_epoch = 187 and best_val_0_logloss = 0.81962\n",
      "Best weights from best epoch are automatically used!\n",
      "5 2 3\n",
      "\n",
      "Early stopping occurred at epoch 137 with best_epoch = 87 and best_val_0_logloss = 0.82131\n",
      "Best weights from best epoch are automatically used!\n"
     ]
    },
    {
     "name": "stderr",
     "output_type": "stream",
     "text": [
      "100%|███████████████████████████████████| 10/10 [12:20<00:00, 74.07s/it]\n",
      "  0%|                                            | 0/10 [00:00<?, ?it/s]"
     ]
    },
    {
     "name": "stdout",
     "output_type": "stream",
     "text": [
      "5 2 3\n",
      "\n",
      "Early stopping occurred at epoch 243 with best_epoch = 193 and best_val_0_logloss = 0.80822\n",
      "Best weights from best epoch are automatically used!\n"
     ]
    },
    {
     "name": "stderr",
     "output_type": "stream",
     "text": [
      "\r",
      " 10%|███▌                                | 1/10 [01:34<14:12, 94.76s/it]"
     ]
    },
    {
     "name": "stdout",
     "output_type": "stream",
     "text": [
      "5 2 4\n"
     ]
    },
    {
     "name": "stderr",
     "output_type": "stream",
     "text": [
      "\r",
      " 20%|███████▏                            | 2/10 [02:51<11:14, 84.32s/it]"
     ]
    },
    {
     "name": "stdout",
     "output_type": "stream",
     "text": [
      "\n",
      "Early stopping occurred at epoch 198 with best_epoch = 148 and best_val_0_logloss = 0.80827\n",
      "Best weights from best epoch are automatically used!\n",
      "5 2 4\n"
     ]
    },
    {
     "name": "stderr",
     "output_type": "stream",
     "text": [
      "\r",
      " 30%|██████████▊                         | 3/10 [04:10<09:31, 81.58s/it]"
     ]
    },
    {
     "name": "stdout",
     "output_type": "stream",
     "text": [
      "\n",
      "Early stopping occurred at epoch 200 with best_epoch = 150 and best_val_0_logloss = 0.81836\n",
      "Best weights from best epoch are automatically used!\n",
      "5 2 4\n"
     ]
    },
    {
     "name": "stderr",
     "output_type": "stream",
     "text": [
      "\r",
      " 40%|██████████████▍                     | 4/10 [05:32<08:11, 81.97s/it]"
     ]
    },
    {
     "name": "stdout",
     "output_type": "stream",
     "text": [
      "\n",
      "Early stopping occurred at epoch 212 with best_epoch = 162 and best_val_0_logloss = 0.80155\n",
      "Best weights from best epoch are automatically used!\n",
      "5 2 4\n"
     ]
    },
    {
     "name": "stderr",
     "output_type": "stream",
     "text": [
      "\r",
      " 50%|██████████████████                  | 5/10 [07:27<07:48, 93.79s/it]"
     ]
    },
    {
     "name": "stdout",
     "output_type": "stream",
     "text": [
      "\n",
      "Early stopping occurred at epoch 293 with best_epoch = 243 and best_val_0_logloss = 0.80011\n",
      "Best weights from best epoch are automatically used!\n",
      "5 2 4\n",
      "\n",
      "Early stopping occurred at epoch 211 with best_epoch = 161 and best_val_0_logloss = 0.80368\n",
      "Best weights from best epoch are automatically used!\n"
     ]
    },
    {
     "name": "stderr",
     "output_type": "stream",
     "text": [
      "\r",
      " 60%|█████████████████████▌              | 6/10 [08:49<05:59, 89.96s/it]"
     ]
    },
    {
     "name": "stdout",
     "output_type": "stream",
     "text": [
      "5 2 4\n"
     ]
    },
    {
     "name": "stderr",
     "output_type": "stream",
     "text": [
      "\r",
      " 70%|█████████████████████████▏          | 7/10 [10:07<04:18, 86.03s/it]"
     ]
    },
    {
     "name": "stdout",
     "output_type": "stream",
     "text": [
      "\n",
      "Early stopping occurred at epoch 199 with best_epoch = 149 and best_val_0_logloss = 0.81674\n",
      "Best weights from best epoch are automatically used!\n",
      "5 2 4\n"
     ]
    },
    {
     "name": "stderr",
     "output_type": "stream",
     "text": [
      "\r",
      " 80%|████████████████████████████▊       | 8/10 [11:27<02:47, 83.92s/it]"
     ]
    },
    {
     "name": "stdout",
     "output_type": "stream",
     "text": [
      "\n",
      "Early stopping occurred at epoch 203 with best_epoch = 153 and best_val_0_logloss = 0.81864\n",
      "Best weights from best epoch are automatically used!\n",
      "5 2 4\n"
     ]
    },
    {
     "name": "stderr",
     "output_type": "stream",
     "text": [
      "\r",
      " 90%|████████████████████████████████▍   | 9/10 [12:56<01:25, 85.43s/it]"
     ]
    },
    {
     "name": "stdout",
     "output_type": "stream",
     "text": [
      "\n",
      "Early stopping occurred at epoch 227 with best_epoch = 177 and best_val_0_logloss = 0.8229\n",
      "Best weights from best epoch are automatically used!\n",
      "5 2 4\n"
     ]
    },
    {
     "name": "stderr",
     "output_type": "stream",
     "text": [
      "100%|███████████████████████████████████| 10/10 [14:08<00:00, 84.87s/it]\n",
      "  0%|                                            | 0/10 [00:00<?, ?it/s]"
     ]
    },
    {
     "name": "stdout",
     "output_type": "stream",
     "text": [
      "\n",
      "Early stopping occurred at epoch 185 with best_epoch = 135 and best_val_0_logloss = 0.81857\n",
      "Best weights from best epoch are automatically used!\n",
      "5 2 4\n",
      "\n",
      "Early stopping occurred at epoch 388 with best_epoch = 338 and best_val_0_logloss = 0.80357\n",
      "Best weights from best epoch are automatically used!\n"
     ]
    },
    {
     "name": "stderr",
     "output_type": "stream",
     "text": [
      "\r",
      " 10%|███▌                               | 1/10 [02:41<24:13, 161.49s/it]"
     ]
    },
    {
     "name": "stdout",
     "output_type": "stream",
     "text": [
      "5 2 5\n",
      "\n",
      "Early stopping occurred at epoch 326 with best_epoch = 276 and best_val_0_logloss = 0.813\n",
      "Best weights from best epoch are automatically used!\n"
     ]
    },
    {
     "name": "stderr",
     "output_type": "stream",
     "text": [
      "\r",
      " 20%|███████                            | 2/10 [04:57<19:30, 146.33s/it]"
     ]
    },
    {
     "name": "stdout",
     "output_type": "stream",
     "text": [
      "5 2 5\n"
     ]
    },
    {
     "name": "stderr",
     "output_type": "stream",
     "text": [
      "\r",
      " 30%|██████████▌                        | 3/10 [06:51<15:23, 131.90s/it]"
     ]
    },
    {
     "name": "stdout",
     "output_type": "stream",
     "text": [
      "\n",
      "Early stopping occurred at epoch 275 with best_epoch = 225 and best_val_0_logloss = 0.83511\n",
      "Best weights from best epoch are automatically used!\n",
      "5 2 5\n",
      "\n",
      "Early stopping occurred at epoch 297 with best_epoch = 247 and best_val_0_logloss = 0.80847\n",
      "Best weights from best epoch are automatically used!\n"
     ]
    },
    {
     "name": "stderr",
     "output_type": "stream",
     "text": [
      "\r",
      " 40%|██████████████                     | 4/10 [08:55<12:52, 128.69s/it]"
     ]
    },
    {
     "name": "stdout",
     "output_type": "stream",
     "text": [
      "5 2 5\n"
     ]
    },
    {
     "name": "stderr",
     "output_type": "stream",
     "text": [
      "\r",
      " 50%|█████████████████▌                 | 5/10 [10:55<10:27, 125.56s/it]"
     ]
    },
    {
     "name": "stdout",
     "output_type": "stream",
     "text": [
      "\n",
      "Early stopping occurred at epoch 286 with best_epoch = 236 and best_val_0_logloss = 0.81341\n",
      "Best weights from best epoch are automatically used!\n",
      "5 2 5\n"
     ]
    },
    {
     "name": "stderr",
     "output_type": "stream",
     "text": [
      "\r",
      " 60%|█████████████████████              | 6/10 [13:50<09:29, 142.38s/it]"
     ]
    },
    {
     "name": "stdout",
     "output_type": "stream",
     "text": [
      "\n",
      "Early stopping occurred at epoch 420 with best_epoch = 370 and best_val_0_logloss = 0.81111\n",
      "Best weights from best epoch are automatically used!\n",
      "5 2 5\n",
      "\n",
      "Early stopping occurred at epoch 356 with best_epoch = 306 and best_val_0_logloss = 0.81856\n",
      "Best weights from best epoch are automatically used!\n"
     ]
    },
    {
     "name": "stderr",
     "output_type": "stream",
     "text": [
      "\r",
      " 70%|████████████████████████▌          | 7/10 [16:19<07:12, 144.31s/it]"
     ]
    },
    {
     "name": "stdout",
     "output_type": "stream",
     "text": [
      "5 2 5\n",
      "\n",
      "Early stopping occurred at epoch 263 with best_epoch = 213 and best_val_0_logloss = 0.82145\n",
      "Best weights from best epoch are automatically used!\n"
     ]
    },
    {
     "name": "stderr",
     "output_type": "stream",
     "text": [
      "\r",
      " 80%|████████████████████████████       | 8/10 [18:09<04:26, 133.40s/it]"
     ]
    },
    {
     "name": "stdout",
     "output_type": "stream",
     "text": [
      "5 2 5\n",
      "\n",
      "Early stopping occurred at epoch 181 with best_epoch = 131 and best_val_0_logloss = 0.83687\n",
      "Best weights from best epoch are automatically used!\n"
     ]
    },
    {
     "name": "stderr",
     "output_type": "stream",
     "text": [
      "\r",
      " 90%|███████████████████████████████▌   | 9/10 [19:25<01:55, 115.53s/it]"
     ]
    },
    {
     "name": "stdout",
     "output_type": "stream",
     "text": [
      "5 2 5\n",
      "\n",
      "Early stopping occurred at epoch 203 with best_epoch = 153 and best_val_0_logloss = 0.82537\n",
      "Best weights from best epoch are automatically used!\n"
     ]
    },
    {
     "name": "stderr",
     "output_type": "stream",
     "text": [
      "100%|██████████████████████████████████| 10/10 [20:50<00:00, 125.07s/it]\n",
      "  0%|                                            | 0/10 [00:00<?, ?it/s]"
     ]
    },
    {
     "name": "stdout",
     "output_type": "stream",
     "text": [
      "5 2 5\n",
      "\n",
      "Early stopping occurred at epoch 185 with best_epoch = 135 and best_val_0_logloss = 0.81226\n",
      "Best weights from best epoch are automatically used!\n"
     ]
    },
    {
     "name": "stderr",
     "output_type": "stream",
     "text": [
      "\r",
      " 10%|███▌                                | 1/10 [01:02<09:23, 62.59s/it]"
     ]
    },
    {
     "name": "stdout",
     "output_type": "stream",
     "text": [
      "5 3 1\n",
      "\n",
      "Early stopping occurred at epoch 296 with best_epoch = 246 and best_val_0_logloss = 0.8303\n",
      "Best weights from best epoch are automatically used!\n"
     ]
    },
    {
     "name": "stderr",
     "output_type": "stream",
     "text": [
      "\r",
      " 20%|███████▏                            | 2/10 [02:42<11:16, 84.56s/it]"
     ]
    },
    {
     "name": "stdout",
     "output_type": "stream",
     "text": [
      "5 3 1\n"
     ]
    },
    {
     "name": "stderr",
     "output_type": "stream",
     "text": [
      "\r",
      " 30%|██████████▌                        | 3/10 [04:41<11:41, 100.25s/it]"
     ]
    },
    {
     "name": "stdout",
     "output_type": "stream",
     "text": [
      "\n",
      "Early stopping occurred at epoch 354 with best_epoch = 304 and best_val_0_logloss = 0.82596\n",
      "Best weights from best epoch are automatically used!\n",
      "5 3 1\n",
      "\n",
      "Early stopping occurred at epoch 167 with best_epoch = 117 and best_val_0_logloss = 0.80925\n",
      "Best weights from best epoch are automatically used!\n"
     ]
    },
    {
     "name": "stderr",
     "output_type": "stream",
     "text": [
      "\r",
      " 40%|██████████████▍                     | 4/10 [05:38<08:18, 83.14s/it]"
     ]
    },
    {
     "name": "stdout",
     "output_type": "stream",
     "text": [
      "5 3 1\n"
     ]
    },
    {
     "name": "stderr",
     "output_type": "stream",
     "text": [
      "\r",
      " 50%|██████████████████                  | 5/10 [06:50<06:36, 79.29s/it]"
     ]
    },
    {
     "name": "stdout",
     "output_type": "stream",
     "text": [
      "\n",
      "Early stopping occurred at epoch 214 with best_epoch = 164 and best_val_0_logloss = 0.81327\n",
      "Best weights from best epoch are automatically used!\n",
      "5 3 1\n"
     ]
    },
    {
     "name": "stderr",
     "output_type": "stream",
     "text": [
      "\r",
      " 60%|█████████████████████▌              | 6/10 [08:46<06:06, 91.50s/it]"
     ]
    },
    {
     "name": "stdout",
     "output_type": "stream",
     "text": [
      "\n",
      "Early stopping occurred at epoch 343 with best_epoch = 293 and best_val_0_logloss = 0.81233\n",
      "Best weights from best epoch are automatically used!\n",
      "5 3 1\n",
      "\n",
      "Early stopping occurred at epoch 172 with best_epoch = 122 and best_val_0_logloss = 0.82712\n",
      "Best weights from best epoch are automatically used!\n"
     ]
    },
    {
     "name": "stderr",
     "output_type": "stream",
     "text": [
      "\r",
      " 70%|█████████████████████████▏          | 7/10 [09:44<04:01, 80.63s/it]"
     ]
    },
    {
     "name": "stdout",
     "output_type": "stream",
     "text": [
      "5 3 1\n",
      "\n",
      "Early stopping occurred at epoch 166 with best_epoch = 116 and best_val_0_logloss = 0.83675\n",
      "Best weights from best epoch are automatically used!\n",
      "5 "
     ]
    },
    {
     "name": "stderr",
     "output_type": "stream",
     "text": [
      "\r",
      " 80%|████████████████████████████▊       | 8/10 [10:40<02:25, 72.99s/it]"
     ]
    },
    {
     "name": "stdout",
     "output_type": "stream",
     "text": [
      "3 1\n"
     ]
    },
    {
     "name": "stderr",
     "output_type": "stream",
     "text": [
      "\r",
      " 90%|████████████████████████████████▍   | 9/10 [11:36<01:07, 67.63s/it]"
     ]
    },
    {
     "name": "stdout",
     "output_type": "stream",
     "text": [
      "\n",
      "Early stopping occurred at epoch 164 with best_epoch = 114 and best_val_0_logloss = 0.83576\n",
      "Best weights from best epoch are automatically used!\n",
      "5 3 1\n"
     ]
    },
    {
     "name": "stderr",
     "output_type": "stream",
     "text": [
      "100%|███████████████████████████████████| 10/10 [12:33<00:00, 75.36s/it]\n",
      "  0%|                                            | 0/10 [00:00<?, ?it/s]"
     ]
    },
    {
     "name": "stdout",
     "output_type": "stream",
     "text": [
      "\n",
      "Early stopping occurred at epoch 167 with best_epoch = 117 and best_val_0_logloss = 0.80966\n",
      "Best weights from best epoch are automatically used!\n",
      "5 3 1\n",
      "\n",
      "Early stopping occurred at epoch 185 with best_epoch = 135 and best_val_0_logloss = 0.82034\n",
      "Best weights from best epoch are automatically used!\n"
     ]
    },
    {
     "name": "stderr",
     "output_type": "stream",
     "text": [
      "\r",
      " 10%|███▌                                | 1/10 [01:07<10:07, 67.52s/it]"
     ]
    },
    {
     "name": "stdout",
     "output_type": "stream",
     "text": [
      "5 3 2\n"
     ]
    },
    {
     "name": "stderr",
     "output_type": "stream",
     "text": [
      "\r",
      " 20%|███████▏                            | 2/10 [02:20<09:25, 70.68s/it]"
     ]
    },
    {
     "name": "stdout",
     "output_type": "stream",
     "text": [
      "\n",
      "Early stopping occurred at epoch 199 with best_epoch = 149 and best_val_0_logloss = 0.81917\n",
      "Best weights from best epoch are automatically used!\n",
      "5 3 2\n",
      "\n",
      "Early stopping occurred at epoch 223 with best_epoch = 173 and best_val_0_logloss = 0.82332\n",
      "Best weights from best epoch are automatically used!\n"
     ]
    },
    {
     "name": "stderr",
     "output_type": "stream",
     "text": [
      "\r",
      " 30%|██████████▊                         | 3/10 [03:41<08:48, 75.52s/it]"
     ]
    },
    {
     "name": "stdout",
     "output_type": "stream",
     "text": [
      "5 3 2\n",
      "\n",
      "Early stopping occurred at epoch 133 with best_epoch = 83 and best_val_0_logloss = 0.81177\n",
      "Best weights from best epoch are automatically used!\n"
     ]
    },
    {
     "name": "stderr",
     "output_type": "stream",
     "text": [
      "\r",
      " 40%|██████████████▍                     | 4/10 [04:30<06:30, 65.14s/it]"
     ]
    },
    {
     "name": "stdout",
     "output_type": "stream",
     "text": [
      "5 3 2\n",
      "\n",
      "Early stopping occurred at epoch 173 with best_epoch = 123 and best_val_0_logloss = 0.81446\n",
      "Best weights from best epoch are automatically used!\n"
     ]
    },
    {
     "name": "stderr",
     "output_type": "stream",
     "text": [
      "\r",
      " 50%|██████████████████                  | 5/10 [05:34<05:22, 64.43s/it]"
     ]
    },
    {
     "name": "stdout",
     "output_type": "stream",
     "text": [
      "5 3 2\n",
      "\n",
      "Early stopping occurred at epoch 198 with best_epoch = 148 and best_val_0_logloss = 0.81468\n",
      "Best weights from best epoch are automatically used!\n"
     ]
    },
    {
     "name": "stderr",
     "output_type": "stream",
     "text": [
      "\r",
      " 60%|█████████████████████▌              | 6/10 [06:46<04:28, 67.17s/it]"
     ]
    },
    {
     "name": "stdout",
     "output_type": "stream",
     "text": [
      "5 3 2\n",
      "\n",
      "Early stopping occurred at epoch 177 with best_epoch = 127 and best_val_0_logloss = 0.81668\n",
      "Best weights from best epoch are automatically used!\n"
     ]
    },
    {
     "name": "stderr",
     "output_type": "stream",
     "text": [
      "\r",
      " 70%|█████████████████████████▏          | 7/10 [07:51<03:19, 66.38s/it]"
     ]
    },
    {
     "name": "stdout",
     "output_type": "stream",
     "text": [
      "5 3 2\n",
      "\n",
      "Early stopping occurred at epoch 193 with best_epoch = 143 and best_val_0_logloss = 0.82659\n",
      "Best weights from best epoch are automatically used!\n"
     ]
    },
    {
     "name": "stderr",
     "output_type": "stream",
     "text": [
      "\r",
      " 80%|████████████████████████████▊       | 8/10 [09:02<02:15, 67.75s/it]"
     ]
    },
    {
     "name": "stdout",
     "output_type": "stream",
     "text": [
      "5 3 2\n",
      "\n",
      "Early stopping occurred at epoch 249 with best_epoch = 199 and best_val_0_logloss = 0.82138\n",
      "Best weights from best epoch are automatically used!\n"
     ]
    },
    {
     "name": "stderr",
     "output_type": "stream",
     "text": [
      "\r",
      " 90%|████████████████████████████████▍   | 9/10 [10:33<01:15, 75.04s/it]"
     ]
    },
    {
     "name": "stdout",
     "output_type": "stream",
     "text": [
      "5 3 2\n",
      "\n",
      "Early stopping occurred at epoch 159 with best_epoch = 109 and best_val_0_logloss = 0.8173\n",
      "Best weights from best epoch are automatically used!\n"
     ]
    },
    {
     "name": "stderr",
     "output_type": "stream",
     "text": [
      "100%|███████████████████████████████████| 10/10 [11:31<00:00, 69.15s/it]\n",
      "  0%|                                            | 0/10 [00:00<?, ?it/s]"
     ]
    },
    {
     "name": "stdout",
     "output_type": "stream",
     "text": [
      "5 3 2\n",
      "\n",
      "Early stopping occurred at epoch 276 with best_epoch = 226 and best_val_0_logloss = 0.80893\n",
      "Best weights from best epoch are automatically used!\n"
     ]
    },
    {
     "name": "stderr",
     "output_type": "stream",
     "text": [
      "\r",
      " 10%|███▌                               | 1/10 [01:47<16:06, 107.38s/it]"
     ]
    },
    {
     "name": "stdout",
     "output_type": "stream",
     "text": [
      "5 3 3\n"
     ]
    },
    {
     "name": "stderr",
     "output_type": "stream",
     "text": [
      "\r",
      " 20%|███████▏                            | 2/10 [03:09<12:19, 92.44s/it]"
     ]
    },
    {
     "name": "stdout",
     "output_type": "stream",
     "text": [
      "\n",
      "Early stopping occurred at epoch 210 with best_epoch = 160 and best_val_0_logloss = 0.81084\n",
      "Best weights from best epoch are automatically used!\n",
      "5 3 3\n",
      "\n",
      "Early stopping occurred at epoch 85 with best_epoch = 35 and best_val_0_logloss = 0.86144\n",
      "Best weights from best epoch are automatically used!\n",
      "5 "
     ]
    },
    {
     "name": "stderr",
     "output_type": "stream",
     "text": [
      "\r",
      " 30%|██████████▊                         | 3/10 [03:42<07:39, 65.58s/it]"
     ]
    },
    {
     "name": "stdout",
     "output_type": "stream",
     "text": [
      "3 3\n"
     ]
    },
    {
     "name": "stderr",
     "output_type": "stream",
     "text": [
      "\r",
      " 40%|██████████████▍                     | 4/10 [05:10<07:24, 74.11s/it]"
     ]
    },
    {
     "name": "stdout",
     "output_type": "stream",
     "text": [
      "\n",
      "Early stopping occurred at epoch 223 with best_epoch = 173 and best_val_0_logloss = 0.80141\n",
      "Best weights from best epoch are automatically used!\n",
      "5 3 3\n",
      "\n",
      "Early stopping occurred at epoch 214 with best_epoch = 164 and best_val_0_logloss = 0.80541\n",
      "Best weights from best epoch are automatically used!\n"
     ]
    },
    {
     "name": "stderr",
     "output_type": "stream",
     "text": [
      "\r",
      " 50%|██████████████████                  | 5/10 [06:34<06:28, 77.67s/it]"
     ]
    },
    {
     "name": "stdout",
     "output_type": "stream",
     "text": [
      "5 3 3\n"
     ]
    },
    {
     "name": "stderr",
     "output_type": "stream",
     "text": [
      "\r",
      " 60%|█████████████████████▌              | 6/10 [07:45<05:02, 75.51s/it]"
     ]
    },
    {
     "name": "stdout",
     "output_type": "stream",
     "text": [
      "\n",
      "Early stopping occurred at epoch 182 with best_epoch = 132 and best_val_0_logloss = 0.8057\n",
      "Best weights from best epoch are automatically used!\n",
      "5 3 3\n"
     ]
    },
    {
     "name": "stderr",
     "output_type": "stream",
     "text": [
      "\r",
      " 70%|█████████████████████████▏          | 7/10 [08:23<03:09, 63.15s/it]"
     ]
    },
    {
     "name": "stdout",
     "output_type": "stream",
     "text": [
      "\n",
      "Early stopping occurred at epoch 95 with best_epoch = 45 and best_val_0_logloss = 0.8491\n",
      "Best weights from best epoch are automatically used!\n",
      "5 3 3\n",
      "\n",
      "Early stopping occurred at epoch 167 with best_epoch = 117 and best_val_0_logloss = 0.82522\n",
      "Best weights from best epoch are automatically used!\n"
     ]
    },
    {
     "name": "stderr",
     "output_type": "stream",
     "text": [
      "\r",
      " 80%|████████████████████████████▊       | 8/10 [09:28<02:07, 63.93s/it]"
     ]
    },
    {
     "name": "stdout",
     "output_type": "stream",
     "text": [
      "5 3 3\n"
     ]
    },
    {
     "name": "stderr",
     "output_type": "stream",
     "text": [
      "\r",
      " 90%|████████████████████████████████▍   | 9/10 [10:28<01:02, 62.54s/it]"
     ]
    },
    {
     "name": "stdout",
     "output_type": "stream",
     "text": [
      "\n",
      "Early stopping occurred at epoch 151 with best_epoch = 101 and best_val_0_logloss = 0.8208\n",
      "Best weights from best epoch are automatically used!\n",
      "5 3 3\n"
     ]
    },
    {
     "name": "stderr",
     "output_type": "stream",
     "text": [
      "100%|███████████████████████████████████| 10/10 [11:45<00:00, 70.51s/it]\n",
      "  0%|                                            | 0/10 [00:00<?, ?it/s]"
     ]
    },
    {
     "name": "stdout",
     "output_type": "stream",
     "text": [
      "\n",
      "Early stopping occurred at epoch 196 with best_epoch = 146 and best_val_0_logloss = 0.80972\n",
      "Best weights from best epoch are automatically used!\n",
      "5 3 3\n",
      "\n",
      "Early stopping occurred at epoch 199 with best_epoch = 149 and best_val_0_logloss = 0.82058\n",
      "Best weights from best epoch are automatically used!\n"
     ]
    },
    {
     "name": "stderr",
     "output_type": "stream",
     "text": [
      "\r",
      " 10%|███▌                                | 1/10 [01:23<12:34, 83.81s/it]"
     ]
    },
    {
     "name": "stdout",
     "output_type": "stream",
     "text": [
      "5 3 4\n"
     ]
    },
    {
     "name": "stderr",
     "output_type": "stream",
     "text": [
      "\r",
      " 20%|███████▏                            | 2/10 [03:01<12:13, 91.69s/it]"
     ]
    },
    {
     "name": "stdout",
     "output_type": "stream",
     "text": [
      "\n",
      "Early stopping occurred at epoch 233 with best_epoch = 183 and best_val_0_logloss = 0.81161\n",
      "Best weights from best epoch are automatically used!\n",
      "5 3 4\n"
     ]
    },
    {
     "name": "stderr",
     "output_type": "stream",
     "text": [
      "\r",
      " 30%|██████████▊                         | 3/10 [04:31<10:38, 91.18s/it]"
     ]
    },
    {
     "name": "stdout",
     "output_type": "stream",
     "text": [
      "\n",
      "Early stopping occurred at epoch 217 with best_epoch = 167 and best_val_0_logloss = 0.80984\n",
      "Best weights from best epoch are automatically used!\n",
      "5 3 4\n"
     ]
    },
    {
     "name": "stderr",
     "output_type": "stream",
     "text": [
      "\r",
      " 40%|██████████████                     | 4/10 [06:53<11:07, 111.23s/it]"
     ]
    },
    {
     "name": "stdout",
     "output_type": "stream",
     "text": [
      "\n",
      "Early stopping occurred at epoch 340 with best_epoch = 290 and best_val_0_logloss = 0.79936\n",
      "Best weights from best epoch are automatically used!\n",
      "5 3 4\n",
      "\n",
      "Early stopping occurred at epoch 225 with best_epoch = 175 and best_val_0_logloss = 0.80648\n",
      "Best weights from best epoch are automatically used!\n"
     ]
    },
    {
     "name": "stderr",
     "output_type": "stream",
     "text": [
      "\r",
      " 50%|█████████████████▌                 | 5/10 [08:27<08:44, 104.91s/it]"
     ]
    },
    {
     "name": "stdout",
     "output_type": "stream",
     "text": [
      "5 3 4\n"
     ]
    },
    {
     "name": "stderr",
     "output_type": "stream",
     "text": [
      "\r",
      " 60%|█████████████████████▌              | 6/10 [09:44<06:22, 95.61s/it]"
     ]
    },
    {
     "name": "stdout",
     "output_type": "stream",
     "text": [
      "\n",
      "Early stopping occurred at epoch 185 with best_epoch = 135 and best_val_0_logloss = 0.80957\n",
      "Best weights from best epoch are automatically used!\n",
      "5 3 4\n"
     ]
    },
    {
     "name": "stderr",
     "output_type": "stream",
     "text": [
      "\r",
      " 70%|█████████████████████████▏          | 7/10 [11:29<04:56, 98.73s/it]"
     ]
    },
    {
     "name": "stdout",
     "output_type": "stream",
     "text": [
      "\n",
      "Early stopping occurred at epoch 252 with best_epoch = 202 and best_val_0_logloss = 0.81561\n",
      "Best weights from best epoch are automatically used!\n",
      "5 3 4\n",
      "\n",
      "Early stopping occurred at epoch 209 with best_epoch = 159 and best_val_0_logloss = 0.82417\n",
      "Best weights from best epoch are automatically used!\n"
     ]
    },
    {
     "name": "stderr",
     "output_type": "stream",
     "text": [
      "\r",
      " 80%|████████████████████████████▊       | 8/10 [12:57<03:10, 95.22s/it]"
     ]
    },
    {
     "name": "stdout",
     "output_type": "stream",
     "text": [
      "5 3 4\n",
      "\n",
      "Early stopping occurred at epoch 173 with best_epoch = 123 and best_val_0_logloss = 0.86552\n",
      "Best weights from best epoch are automatically used!\n"
     ]
    },
    {
     "name": "stderr",
     "output_type": "stream",
     "text": [
      "\r",
      " 90%|████████████████████████████████▍   | 9/10 [14:10<01:28, 88.16s/it]"
     ]
    },
    {
     "name": "stdout",
     "output_type": "stream",
     "text": [
      "5 3 4\n",
      "\n",
      "Early stopping occurred at epoch 307 with best_epoch = 257 and best_val_0_logloss = 0.81101\n",
      "Best weights from best epoch are automatically used!\n"
     ]
    },
    {
     "name": "stderr",
     "output_type": "stream",
     "text": [
      "100%|███████████████████████████████████| 10/10 [16:17<00:00, 97.80s/it]\n",
      "  0%|                                            | 0/10 [00:00<?, ?it/s]"
     ]
    },
    {
     "name": "stdout",
     "output_type": "stream",
     "text": [
      "5 3 4\n"
     ]
    },
    {
     "name": "stderr",
     "output_type": "stream",
     "text": [
      "\r",
      " 10%|███▌                                | 1/10 [00:58<08:42, 58.06s/it]"
     ]
    },
    {
     "name": "stdout",
     "output_type": "stream",
     "text": [
      "\n",
      "Early stopping occurred at epoch 129 with best_epoch = 79 and best_val_0_logloss = 0.82016\n",
      "Best weights from best epoch are automatically used!\n",
      "5 3 5\n",
      "\n",
      "Early stopping occurred at epoch 178 with best_epoch = 128 and best_val_0_logloss = 0.80571\n",
      "Best weights from best epoch are automatically used!\n"
     ]
    },
    {
     "name": "stderr",
     "output_type": "stream",
     "text": [
      "\r",
      " 20%|███████▏                            | 2/10 [02:17<09:26, 70.83s/it]"
     ]
    },
    {
     "name": "stdout",
     "output_type": "stream",
     "text": [
      "5 3 5\n",
      "\n",
      "Early stopping occurred at epoch 248 with best_epoch = 198 and best_val_0_logloss = 0.81087\n",
      "Best weights from best epoch are automatically used!\n"
     ]
    },
    {
     "name": "stderr",
     "output_type": "stream",
     "text": [
      "\r",
      " 30%|██████████▊                         | 3/10 [04:08<10:24, 89.17s/it]"
     ]
    },
    {
     "name": "stdout",
     "output_type": "stream",
     "text": [
      "5 3 5\n",
      "\n",
      "Early stopping occurred at epoch 217 with best_epoch = 167 and best_val_0_logloss = 0.80841\n",
      "Best weights from best epoch are automatically used!\n"
     ]
    },
    {
     "name": "stderr",
     "output_type": "stream",
     "text": [
      "\r",
      " 40%|██████████████▍                     | 4/10 [05:45<09:13, 92.25s/it]"
     ]
    },
    {
     "name": "stdout",
     "output_type": "stream",
     "text": [
      "5 3 5\n"
     ]
    },
    {
     "name": "stderr",
     "output_type": "stream",
     "text": [
      "\r",
      " 50%|██████████████████                  | 5/10 [06:43<06:39, 79.81s/it]"
     ]
    },
    {
     "name": "stdout",
     "output_type": "stream",
     "text": [
      "\n",
      "Early stopping occurred at epoch 128 with best_epoch = 78 and best_val_0_logloss = 0.82073\n",
      "Best weights from best epoch are automatically used!\n",
      "5 3 5\n",
      "\n",
      "Early stopping occurred at epoch 402 with best_epoch = 352 and best_val_0_logloss = 0.80383\n",
      "Best weights from best epoch are automatically used!\n"
     ]
    },
    {
     "name": "stderr",
     "output_type": "stream",
     "text": [
      "\r",
      " 60%|█████████████████████              | 6/10 [09:41<07:33, 113.30s/it]"
     ]
    },
    {
     "name": "stdout",
     "output_type": "stream",
     "text": [
      "5 3 5\n",
      "\n",
      "Early stopping occurred at epoch 233 with best_epoch = 183 and best_val_0_logloss = 0.81487\n",
      "Best weights from best epoch are automatically used!\n",
      "5 3 5\n"
     ]
    },
    {
     "name": "stderr",
     "output_type": "stream",
     "text": [
      " 80%|████████████████████████████       | 8/10 [13:12<03:38, 109.26s/it]"
     ]
    },
    {
     "name": "stdout",
     "output_type": "stream",
     "text": [
      "\n",
      "Early stopping occurred at epoch 240 with best_epoch = 190 and best_val_0_logloss = 0.81885\n",
      "Best weights from best epoch are automatically used!\n",
      "5 3 5\n"
     ]
    },
    {
     "name": "stderr",
     "output_type": "stream",
     "text": [
      "\r",
      " 90%|███████████████████████████████▌   | 9/10 [15:49<02:04, 124.06s/it]"
     ]
    },
    {
     "name": "stdout",
     "output_type": "stream",
     "text": [
      "\n",
      "Early stopping occurred at epoch 353 with best_epoch = 303 and best_val_0_logloss = 0.81807\n",
      "Best weights from best epoch are automatically used!\n",
      "5 3 5\n"
     ]
    },
    {
     "name": "stderr",
     "output_type": "stream",
     "text": [
      "100%|██████████████████████████████████| 10/10 [17:41<00:00, 106.15s/it]\n",
      "  0%|                                            | 0/10 [00:00<?, ?it/s]"
     ]
    },
    {
     "name": "stdout",
     "output_type": "stream",
     "text": [
      "\n",
      "Early stopping occurred at epoch 251 with best_epoch = 201 and best_val_0_logloss = 0.81103\n",
      "Best weights from best epoch are automatically used!\n",
      "5 3 5\n",
      "\n",
      "Early stopping occurred at epoch 247 with best_epoch = 197 and best_val_0_logloss = 0.82407\n",
      "Best weights from best epoch are automatically used!\n"
     ]
    },
    {
     "name": "stderr",
     "output_type": "stream",
     "text": [
      "\r",
      " 10%|███▌                                | 1/10 [01:30<13:33, 90.42s/it]"
     ]
    },
    {
     "name": "stdout",
     "output_type": "stream",
     "text": [
      "5 4 1\n",
      "\n",
      "Early stopping occurred at epoch 219 with best_epoch = 169 and best_val_0_logloss = 0.81861\n",
      "Best weights from best epoch are automatically used!\n"
     ]
    },
    {
     "name": "stderr",
     "output_type": "stream",
     "text": [
      "\r",
      " 20%|███████▏                            | 2/10 [02:50<11:14, 84.32s/it]"
     ]
    },
    {
     "name": "stdout",
     "output_type": "stream",
     "text": [
      "5 4 1\n",
      "\n",
      "Early stopping occurred at epoch 168 with best_epoch = 118 and best_val_0_logloss = 0.83514\n",
      "Best weights from best epoch are automatically used!\n"
     ]
    },
    {
     "name": "stderr",
     "output_type": "stream",
     "text": [
      "\r",
      " 30%|██████████▊                         | 3/10 [03:52<08:37, 73.95s/it]"
     ]
    },
    {
     "name": "stdout",
     "output_type": "stream",
     "text": [
      "5 4 1\n",
      "\n",
      "Early stopping occurred at epoch 223 with best_epoch = 173 and best_val_0_logloss = 0.81068\n",
      "Best weights from best epoch are automatically used!\n"
     ]
    },
    {
     "name": "stderr",
     "output_type": "stream",
     "text": [
      "\r",
      " 40%|██████████████▍                     | 4/10 [05:13<07:42, 77.06s/it]"
     ]
    },
    {
     "name": "stdout",
     "output_type": "stream",
     "text": [
      "5 4 1\n"
     ]
    },
    {
     "name": "stderr",
     "output_type": "stream",
     "text": [
      "\r",
      " 50%|██████████████████                  | 5/10 [06:43<06:47, 81.42s/it]"
     ]
    },
    {
     "name": "stdout",
     "output_type": "stream",
     "text": [
      "\n",
      "Early stopping occurred at epoch 244 with best_epoch = 194 and best_val_0_logloss = 0.82014\n",
      "Best weights from best epoch are automatically used!\n",
      "5 4 1\n"
     ]
    },
    {
     "name": "stderr",
     "output_type": "stream",
     "text": [
      "\r",
      " 60%|█████████████████████▌              | 6/10 [07:58<05:18, 79.52s/it]"
     ]
    },
    {
     "name": "stdout",
     "output_type": "stream",
     "text": [
      "\n",
      "Early stopping occurred at epoch 207 with best_epoch = 157 and best_val_0_logloss = 0.82303\n",
      "Best weights from best epoch are automatically used!\n",
      "5 4 1\n",
      "\n",
      "Early stopping occurred at epoch 187 with best_epoch = 137 and best_val_0_logloss = 0.82054\n",
      "Best weights from best epoch are automatically used!\n"
     ]
    },
    {
     "name": "stderr",
     "output_type": "stream",
     "text": [
      "\r",
      " 70%|█████████████████████████▏          | 7/10 [09:07<03:47, 75.95s/it]"
     ]
    },
    {
     "name": "stdout",
     "output_type": "stream",
     "text": [
      "5 4 1\n"
     ]
    },
    {
     "name": "stderr",
     "output_type": "stream",
     "text": [
      "\r",
      " 80%|████████████████████████████▊       | 8/10 [10:54<02:51, 85.81s/it]"
     ]
    },
    {
     "name": "stdout",
     "output_type": "stream",
     "text": [
      "\n",
      "Early stopping occurred at epoch 293 with best_epoch = 243 and best_val_0_logloss = 0.82071\n",
      "Best weights from best epoch are automatically used!\n",
      "5 4 1\n"
     ]
    },
    {
     "name": "stderr",
     "output_type": "stream",
     "text": [
      "\r",
      " 90%|████████████████████████████████▍   | 9/10 [12:11<01:23, 83.23s/it]"
     ]
    },
    {
     "name": "stdout",
     "output_type": "stream",
     "text": [
      "\n",
      "Early stopping occurred at epoch 211 with best_epoch = 161 and best_val_0_logloss = 0.82919\n",
      "Best weights from best epoch are automatically used!\n",
      "5 4 1\n"
     ]
    },
    {
     "name": "stderr",
     "output_type": "stream",
     "text": [
      "100%|███████████████████████████████████| 10/10 [13:15<00:00, 79.56s/it]\n",
      "  0%|                                            | 0/10 [00:00<?, ?it/s]"
     ]
    },
    {
     "name": "stdout",
     "output_type": "stream",
     "text": [
      "\n",
      "Early stopping occurred at epoch 172 with best_epoch = 122 and best_val_0_logloss = 0.82574\n",
      "Best weights from best epoch are automatically used!\n",
      "5 4 1\n"
     ]
    },
    {
     "name": "stderr",
     "output_type": "stream",
     "text": [
      "\r",
      " 10%|███▌                                | 1/10 [01:27<13:04, 87.19s/it]"
     ]
    },
    {
     "name": "stdout",
     "output_type": "stream",
     "text": [
      "\n",
      "Early stopping occurred at epoch 223 with best_epoch = 173 and best_val_0_logloss = 0.80803\n",
      "Best weights from best epoch are automatically used!\n",
      "5 4 2\n"
     ]
    },
    {
     "name": "stderr",
     "output_type": "stream",
     "text": [
      "\r",
      " 20%|███████▏                            | 2/10 [02:20<08:56, 67.07s/it]"
     ]
    },
    {
     "name": "stdout",
     "output_type": "stream",
     "text": [
      "\n",
      "Early stopping occurred at epoch 134 with best_epoch = 84 and best_val_0_logloss = 0.80996\n",
      "Best weights from best epoch are automatically used!\n",
      "5 4 2\n",
      "\n",
      "Early stopping occurred at epoch 198 with best_epoch = 148 and best_val_0_logloss = 0.83228\n",
      "Best weights from best epoch are automatically used!\n"
     ]
    },
    {
     "name": "stderr",
     "output_type": "stream",
     "text": [
      "\r",
      " 30%|██████████▊                         | 3/10 [03:37<08:22, 71.73s/it]"
     ]
    },
    {
     "name": "stdout",
     "output_type": "stream",
     "text": [
      "5 4 2\n"
     ]
    },
    {
     "name": "stderr",
     "output_type": "stream",
     "text": [
      "\r",
      " 40%|██████████████▍                     | 4/10 [04:38<06:44, 67.39s/it]"
     ]
    },
    {
     "name": "stdout",
     "output_type": "stream",
     "text": [
      "\n",
      "Early stopping occurred at epoch 154 with best_epoch = 104 and best_val_0_logloss = 0.8063\n",
      "Best weights from best epoch are automatically used!\n",
      "5 4 2\n",
      "\n",
      "Early stopping occurred at epoch 143 with best_epoch = 93 and best_val_0_logloss = 0.81224\n",
      "Best weights from best epoch are automatically used!\n"
     ]
    },
    {
     "name": "stderr",
     "output_type": "stream",
     "text": [
      "\r",
      " 50%|██████████████████                  | 5/10 [05:34<05:17, 63.50s/it]"
     ]
    },
    {
     "name": "stdout",
     "output_type": "stream",
     "text": [
      "5 4 2\n",
      "\n",
      "Early stopping occurred at epoch 169 with best_epoch = 119 and best_val_0_logloss = 0.81138\n",
      "Best weights from best epoch are automatically used!\n"
     ]
    },
    {
     "name": "stderr",
     "output_type": "stream",
     "text": [
      "\r",
      " 60%|█████████████████████▌              | 6/10 [06:41<04:17, 64.43s/it]"
     ]
    },
    {
     "name": "stdout",
     "output_type": "stream",
     "text": [
      "5 4 2\n",
      "\n",
      "Early stopping occurred at epoch 108 with best_epoch = 58 and best_val_0_logloss = 0.82609\n",
      "Best weights from best epoch are automatically used!\n"
     ]
    },
    {
     "name": "stderr",
     "output_type": "stream",
     "text": [
      "\r",
      " 70%|█████████████████████████▏          | 7/10 [07:24<02:52, 57.52s/it]"
     ]
    },
    {
     "name": "stdout",
     "output_type": "stream",
     "text": [
      "5 4 2\n"
     ]
    },
    {
     "name": "stderr",
     "output_type": "stream",
     "text": [
      "\r",
      " 80%|████████████████████████████▊       | 8/10 [08:44<02:09, 64.89s/it]"
     ]
    },
    {
     "name": "stdout",
     "output_type": "stream",
     "text": [
      "\n",
      "Early stopping occurred at epoch 206 with best_epoch = 156 and best_val_0_logloss = 0.82468\n",
      "Best weights from best epoch are automatically used!\n",
      "5 4 2\n"
     ]
    },
    {
     "name": "stderr",
     "output_type": "stream",
     "text": [
      "\r",
      " 90%|████████████████████████████████▍   | 9/10 [10:28<01:16, 76.85s/it]"
     ]
    },
    {
     "name": "stdout",
     "output_type": "stream",
     "text": [
      "\n",
      "Early stopping occurred at epoch 263 with best_epoch = 213 and best_val_0_logloss = 0.81992\n",
      "Best weights from best epoch are automatically used!\n",
      "5 4 2\n",
      "\n",
      "Early stopping occurred at epoch 123 with best_epoch = 73 and best_val_0_logloss = 0.8129\n",
      "Best weights from best epoch are automatically used!\n"
     ]
    },
    {
     "name": "stderr",
     "output_type": "stream",
     "text": [
      "100%|███████████████████████████████████| 10/10 [11:16<00:00, 67.67s/it]\n",
      "  0%|                                            | 0/10 [00:00<?, ?it/s]"
     ]
    },
    {
     "name": "stdout",
     "output_type": "stream",
     "text": [
      "5 4 2\n"
     ]
    },
    {
     "name": "stderr",
     "output_type": "stream",
     "text": [
      "\r",
      " 10%|███▌                               | 1/10 [01:40<15:06, 100.74s/it]"
     ]
    },
    {
     "name": "stdout",
     "output_type": "stream",
     "text": [
      "\n",
      "Early stopping occurred at epoch 241 with best_epoch = 191 and best_val_0_logloss = 0.81652\n",
      "Best weights from best epoch are automatically used!\n",
      "5 4 3\n",
      "\n",
      "Early stopping occurred at epoch 232 with best_epoch = 182 and best_val_0_logloss = 0.81036\n",
      "Best weights from best epoch are automatically used!\n"
     ]
    },
    {
     "name": "stderr",
     "output_type": "stream",
     "text": [
      "\r",
      " 20%|███████▏                            | 2/10 [03:17<13:09, 98.66s/it]"
     ]
    },
    {
     "name": "stdout",
     "output_type": "stream",
     "text": [
      "5 4 3\n"
     ]
    },
    {
     "name": "stderr",
     "output_type": "stream",
     "text": [
      "\r",
      " 30%|██████████▊                         | 3/10 [03:55<08:14, 70.61s/it]"
     ]
    },
    {
     "name": "stdout",
     "output_type": "stream",
     "text": [
      "\n",
      "Early stopping occurred at epoch 88 with best_epoch = 38 and best_val_0_logloss = 0.86929\n",
      "Best weights from best epoch are automatically used!\n",
      "5 4 3\n",
      "\n",
      "Early stopping occurred at epoch 228 with best_epoch = 178 and best_val_0_logloss = 0.80732\n",
      "Best weights from best epoch are automatically used!\n"
     ]
    },
    {
     "name": "stderr",
     "output_type": "stream",
     "text": [
      "\r",
      " 40%|██████████████▍                     | 4/10 [05:30<08:02, 80.33s/it]"
     ]
    },
    {
     "name": "stdout",
     "output_type": "stream",
     "text": [
      "5 4 3\n"
     ]
    },
    {
     "name": "stderr",
     "output_type": "stream",
     "text": [
      "\r",
      " 50%|██████████████████                  | 5/10 [06:56<06:52, 82.55s/it]"
     ]
    },
    {
     "name": "stdout",
     "output_type": "stream",
     "text": [
      "\n",
      "Early stopping occurred at epoch 206 with best_epoch = 156 and best_val_0_logloss = 0.80366\n",
      "Best weights from best epoch are automatically used!\n",
      "5 4 3\n",
      "\n",
      "Early stopping occurred at epoch 189 with best_epoch = 139 and best_val_0_logloss = 0.81145\n",
      "Best weights from best epoch are automatically used!\n"
     ]
    },
    {
     "name": "stderr",
     "output_type": "stream",
     "text": [
      "\r",
      " 60%|█████████████████████▌              | 6/10 [08:16<05:25, 81.44s/it]"
     ]
    },
    {
     "name": "stdout",
     "output_type": "stream",
     "text": [
      "5 4 3\n"
     ]
    },
    {
     "name": "stderr",
     "output_type": "stream",
     "text": [
      "\r",
      " 70%|█████████████████████████▏          | 7/10 [08:57<03:25, 68.39s/it]"
     ]
    },
    {
     "name": "stdout",
     "output_type": "stream",
     "text": [
      "\n",
      "Early stopping occurred at epoch 98 with best_epoch = 48 and best_val_0_logloss = 0.84522\n",
      "Best weights from best epoch are automatically used!\n",
      "5 4 3\n",
      "\n",
      "Early stopping occurred at epoch 221 with best_epoch = 171 and best_val_0_logloss = 0.822\n",
      "Best weights from best epoch are automatically used!\n"
     ]
    },
    {
     "name": "stderr",
     "output_type": "stream",
     "text": [
      "\r",
      " 80%|████████████████████████████▊       | 8/10 [10:29<02:31, 75.99s/it]"
     ]
    },
    {
     "name": "stdout",
     "output_type": "stream",
     "text": [
      "5 4 3\n",
      "\n",
      "Early stopping occurred at epoch 188 with best_epoch = 138 and best_val_0_logloss = 0.82268\n",
      "Best weights from best epoch are automatically used!\n"
     ]
    },
    {
     "name": "stderr",
     "output_type": "stream",
     "text": [
      "\r",
      " 90%|████████████████████████████████▍   | 9/10 [11:48<01:16, 76.85s/it]"
     ]
    },
    {
     "name": "stdout",
     "output_type": "stream",
     "text": [
      "5 4 3\n",
      "\n",
      "Early stopping occurred at epoch 193 with best_epoch = 143 and best_val_0_logloss = 0.81319\n",
      "Best weights from best epoch are automatically used!\n"
     ]
    },
    {
     "name": "stderr",
     "output_type": "stream",
     "text": [
      "100%|███████████████████████████████████| 10/10 [13:09<00:00, 78.96s/it]\n",
      "  0%|                                            | 0/10 [00:00<?, ?it/s]"
     ]
    },
    {
     "name": "stdout",
     "output_type": "stream",
     "text": [
      "5 4 3\n",
      "\n",
      "Early stopping occurred at epoch 235 with best_epoch = 185 and best_val_0_logloss = 0.82761\n",
      "Best weights from best epoch are automatically used!\n"
     ]
    },
    {
     "name": "stderr",
     "output_type": "stream",
     "text": [
      "\r",
      " 10%|███▌                               | 1/10 [01:44<15:42, 104.76s/it]"
     ]
    },
    {
     "name": "stdout",
     "output_type": "stream",
     "text": [
      "5 4 4\n",
      "\n",
      "Early stopping occurred at epoch 195 with best_epoch = 145 and best_val_0_logloss = 0.81452\n",
      "Best weights from best epoch are automatically used!\n"
     ]
    },
    {
     "name": "stderr",
     "output_type": "stream",
     "text": [
      "\r",
      " 20%|███████▏                            | 2/10 [03:12<12:38, 94.84s/it]"
     ]
    },
    {
     "name": "stdout",
     "output_type": "stream",
     "text": [
      "5 4 4\n",
      "\n",
      "Early stopping occurred at epoch 266 with best_epoch = 216 and best_val_0_logloss = 0.81731\n",
      "Best weights from best epoch are automatically used!\n"
     ]
    },
    {
     "name": "stderr",
     "output_type": "stream",
     "text": [
      "\r",
      " 30%|██████████▌                        | 3/10 [05:11<12:20, 105.85s/it]"
     ]
    },
    {
     "name": "stdout",
     "output_type": "stream",
     "text": [
      "5 4 4\n"
     ]
    },
    {
     "name": "stderr",
     "output_type": "stream",
     "text": [
      "\r",
      " 40%|██████████████▍                     | 4/10 [06:32<09:36, 96.00s/it]"
     ]
    },
    {
     "name": "stdout",
     "output_type": "stream",
     "text": [
      "\n",
      "Early stopping occurred at epoch 181 with best_epoch = 131 and best_val_0_logloss = 0.80638\n",
      "Best weights from best epoch are automatically used!\n",
      "5 4 4\n",
      "\n",
      "Early stopping occurred at epoch 218 with best_epoch = 168 and best_val_0_logloss = 0.81193\n",
      "Best weights from best epoch are automatically used!\n"
     ]
    },
    {
     "name": "stderr",
     "output_type": "stream",
     "text": [
      "\r",
      " 50%|██████████████████                  | 5/10 [08:10<08:03, 96.73s/it]"
     ]
    },
    {
     "name": "stdout",
     "output_type": "stream",
     "text": [
      "5 4 4\n"
     ]
    },
    {
     "name": "stderr",
     "output_type": "stream",
     "text": [
      "\r",
      " 60%|█████████████████████              | 6/10 [10:37<07:35, 113.86s/it]"
     ]
    },
    {
     "name": "stdout",
     "output_type": "stream",
     "text": [
      "\n",
      "Early stopping occurred at epoch 330 with best_epoch = 280 and best_val_0_logloss = 0.81051\n",
      "Best weights from best epoch are automatically used!\n",
      "5 4 4\n",
      "\n",
      "Early stopping occurred at epoch 230 with best_epoch = 180 and best_val_0_logloss = 0.81867\n",
      "Best weights from best epoch are automatically used!\n"
     ]
    },
    {
     "name": "stderr",
     "output_type": "stream",
     "text": [
      "\r",
      " 70%|████████████████████████▌          | 7/10 [12:20<05:31, 110.42s/it]"
     ]
    },
    {
     "name": "stdout",
     "output_type": "stream",
     "text": [
      "5 4 4\n"
     ]
    },
    {
     "name": "stderr",
     "output_type": "stream",
     "text": [
      "\r",
      " 80%|████████████████████████████       | 8/10 [13:58<03:32, 106.38s/it]"
     ]
    },
    {
     "name": "stdout",
     "output_type": "stream",
     "text": [
      "\n",
      "Early stopping occurred at epoch 219 with best_epoch = 169 and best_val_0_logloss = 0.82168\n",
      "Best weights from best epoch are automatically used!\n",
      "5 4 4\n"
     ]
    },
    {
     "name": "stderr",
     "output_type": "stream",
     "text": [
      "\r",
      " 90%|███████████████████████████████▌   | 9/10 [15:59<01:51, 111.02s/it]"
     ]
    },
    {
     "name": "stdout",
     "output_type": "stream",
     "text": [
      "\n",
      "Early stopping occurred at epoch 272 with best_epoch = 222 and best_val_0_logloss = 0.87936\n",
      "Best weights from best epoch are automatically used!\n",
      "5 4 4\n",
      "\n",
      "Early stopping occurred at epoch 200 with best_epoch = 150 and best_val_0_logloss = 0.81301\n",
      "Best weights from best epoch are automatically used!\n"
     ]
    },
    {
     "name": "stderr",
     "output_type": "stream",
     "text": [
      "100%|██████████████████████████████████| 10/10 [17:29<00:00, 104.96s/it]\n",
      "  0%|                                            | 0/10 [00:00<?, ?it/s]"
     ]
    },
    {
     "name": "stdout",
     "output_type": "stream",
     "text": [
      "5 4 4\n",
      "\n",
      "Early stopping occurred at epoch 218 with best_epoch = 168 and best_val_0_logloss = 0.80807\n",
      "Best weights from best epoch are automatically used!\n"
     ]
    },
    {
     "name": "stderr",
     "output_type": "stream",
     "text": [
      "\r",
      " 10%|███▌                               | 1/10 [01:43<15:29, 103.23s/it]"
     ]
    },
    {
     "name": "stdout",
     "output_type": "stream",
     "text": [
      "5 4 5\n",
      "\n",
      "Early stopping occurred at epoch 139 with best_epoch = 89 and best_val_0_logloss = 0.86557\n",
      "Best weights from best epoch are automatically used!\n"
     ]
    },
    {
     "name": "stderr",
     "output_type": "stream",
     "text": [
      "\r",
      " 20%|███████▏                            | 2/10 [02:49<10:50, 81.28s/it]"
     ]
    },
    {
     "name": "stdout",
     "output_type": "stream",
     "text": [
      "5 4 5\n",
      "\n",
      "Early stopping occurred at epoch 122 with best_epoch = 72 and best_val_0_logloss = 0.85196\n",
      "Best weights from best epoch are automatically used!\n"
     ]
    },
    {
     "name": "stderr",
     "output_type": "stream",
     "text": [
      "\r",
      " 30%|██████████▊                         | 3/10 [03:47<08:15, 70.80s/it]"
     ]
    },
    {
     "name": "stdout",
     "output_type": "stream",
     "text": [
      "5 4 5\n"
     ]
    },
    {
     "name": "stderr",
     "output_type": "stream",
     "text": [
      "\r",
      " 40%|██████████████▍                     | 4/10 [05:59<09:29, 94.93s/it]"
     ]
    },
    {
     "name": "stdout",
     "output_type": "stream",
     "text": [
      "\n",
      "Early stopping occurred at epoch 279 with best_epoch = 229 and best_val_0_logloss = 0.79906\n",
      "Best weights from best epoch are automatically used!\n",
      "5 4 5\n",
      "\n",
      "Early stopping occurred at epoch 107 with best_epoch = 57 and best_val_0_logloss = 0.85652\n",
      "Best weights from best epoch are automatically used!\n",
      "5 4"
     ]
    },
    {
     "name": "stderr",
     "output_type": "stream",
     "text": [
      "\r",
      " 50%|██████████████████                  | 5/10 [06:50<06:36, 79.21s/it]"
     ]
    },
    {
     "name": "stdout",
     "output_type": "stream",
     "text": [
      " 5\n"
     ]
    },
    {
     "name": "stderr",
     "output_type": "stream",
     "text": [
      "\r",
      " 60%|█████████████████████▌              | 6/10 [08:41<05:59, 90.00s/it]"
     ]
    },
    {
     "name": "stdout",
     "output_type": "stream",
     "text": [
      "\n",
      "Early stopping occurred at epoch 234 with best_epoch = 184 and best_val_0_logloss = 0.80347\n",
      "Best weights from best epoch are automatically used!\n",
      "5 4 5\n"
     ]
    },
    {
     "name": "stderr",
     "output_type": "stream",
     "text": [
      "\r",
      " 70%|█████████████████████████▏          | 7/10 [10:17<04:35, 91.99s/it]"
     ]
    },
    {
     "name": "stdout",
     "output_type": "stream",
     "text": [
      "\n",
      "Early stopping occurred at epoch 203 with best_epoch = 153 and best_val_0_logloss = 0.81348\n",
      "Best weights from best epoch are automatically used!\n",
      "5 4 5\n",
      "\n",
      "Early stopping occurred at epoch 111 with best_epoch = 61 and best_val_0_logloss = 0.85619\n",
      "Best weights from best epoch are automatically used!\n"
     ]
    },
    {
     "name": "stderr",
     "output_type": "stream",
     "text": [
      "\r",
      " 80%|████████████████████████████▊       | 8/10 [11:11<02:39, 79.66s/it]"
     ]
    },
    {
     "name": "stdout",
     "output_type": "stream",
     "text": [
      "5 4 5\n"
     ]
    },
    {
     "name": "stderr",
     "output_type": "stream",
     "text": [
      "\r",
      " 90%|████████████████████████████████▍   | 9/10 [11:58<01:09, 69.54s/it]"
     ]
    },
    {
     "name": "stdout",
     "output_type": "stream",
     "text": [
      "\n",
      "Early stopping occurred at epoch 99 with best_epoch = 49 and best_val_0_logloss = 0.84686\n",
      "Best weights from best epoch are automatically used!\n",
      "5 4 5\n",
      "\n",
      "Early stopping occurred at epoch 165 with best_epoch = 115 and best_val_0_logloss = 0.81111\n",
      "Best weights from best epoch are automatically used!\n"
     ]
    },
    {
     "name": "stderr",
     "output_type": "stream",
     "text": [
      "100%|███████████████████████████████████| 10/10 [13:16<00:00, 79.68s/it]\n",
      "  0%|                                            | 0/10 [00:00<?, ?it/s]"
     ]
    },
    {
     "name": "stdout",
     "output_type": "stream",
     "text": [
      "5 4 5\n",
      "\n",
      "Early stopping occurred at epoch 161 with best_epoch = 111 and best_val_0_logloss = 0.81775\n",
      "Best weights from best epoch are automatically used!\n"
     ]
    },
    {
     "name": "stderr",
     "output_type": "stream",
     "text": [
      "\r",
      " 10%|███▌                                | 1/10 [01:03<09:29, 63.23s/it]"
     ]
    },
    {
     "name": "stdout",
     "output_type": "stream",
     "text": [
      "5 5 1\n"
     ]
    },
    {
     "name": "stderr",
     "output_type": "stream",
     "text": [
      "\r",
      " 20%|███████▏                            | 2/10 [02:21<09:36, 72.09s/it]"
     ]
    },
    {
     "name": "stdout",
     "output_type": "stream",
     "text": [
      "\n",
      "Early stopping occurred at epoch 200 with best_epoch = 150 and best_val_0_logloss = 0.81132\n",
      "Best weights from best epoch are automatically used!\n",
      "5 5 1\n"
     ]
    },
    {
     "name": "stderr",
     "output_type": "stream",
     "text": [
      "\r",
      " 30%|██████████▊                         | 3/10 [02:59<06:34, 56.37s/it]"
     ]
    },
    {
     "name": "stdout",
     "output_type": "stream",
     "text": [
      "\n",
      "Early stopping occurred at epoch 95 with best_epoch = 45 and best_val_0_logloss = 0.82597\n",
      "Best weights from best epoch are automatically used!\n",
      "5 5 1\n"
     ]
    },
    {
     "name": "stderr",
     "output_type": "stream",
     "text": [
      "\r",
      " 40%|██████████████▍                     | 4/10 [04:05<06:02, 60.37s/it]"
     ]
    },
    {
     "name": "stdout",
     "output_type": "stream",
     "text": [
      "\n",
      "Early stopping occurred at epoch 169 with best_epoch = 119 and best_val_0_logloss = 0.79998\n",
      "Best weights from best epoch are automatically used!\n",
      "5 5 1\n",
      "\n",
      "Early stopping occurred at epoch 98 with best_epoch = 48 and best_val_0_logloss = 0.818\n",
      "Best weights from best epoch are automatically used!\n"
     ]
    },
    {
     "name": "stderr",
     "output_type": "stream",
     "text": [
      "\r",
      " 50%|██████████████████                  | 5/10 [04:44<04:23, 52.63s/it]"
     ]
    },
    {
     "name": "stdout",
     "output_type": "stream",
     "text": [
      "5 5 1\n"
     ]
    },
    {
     "name": "stderr",
     "output_type": "stream",
     "text": [
      "\r",
      " 60%|█████████████████████▌              | 6/10 [05:59<04:00, 60.21s/it]"
     ]
    },
    {
     "name": "stdout",
     "output_type": "stream",
     "text": [
      "\n",
      "Early stopping occurred at epoch 191 with best_epoch = 141 and best_val_0_logloss = 0.81116\n",
      "Best weights from best epoch are automatically used!\n",
      "5 5 1\n"
     ]
    },
    {
     "name": "stderr",
     "output_type": "stream",
     "text": [
      "\r",
      " 70%|█████████████████████████▏          | 7/10 [06:33<02:35, 51.70s/it]"
     ]
    },
    {
     "name": "stdout",
     "output_type": "stream",
     "text": [
      "\n",
      "Early stopping occurred at epoch 86 with best_epoch = 36 and best_val_0_logloss = 0.84408\n",
      "Best weights from best epoch are automatically used!\n",
      "5 5 1\n"
     ]
    },
    {
     "name": "stderr",
     "output_type": "stream",
     "text": [
      "\r",
      " 80%|████████████████████████████▊       | 8/10 [07:06<01:31, 45.68s/it]"
     ]
    },
    {
     "name": "stdout",
     "output_type": "stream",
     "text": [
      "\n",
      "Early stopping occurred at epoch 82 with best_epoch = 32 and best_val_0_logloss = 0.85746\n",
      "Best weights from best epoch are automatically used!\n",
      "5 5 1\n",
      "\n",
      "Early stopping occurred at epoch 288 with best_epoch = 238 and best_val_0_logloss = 0.8136\n",
      "Best weights from best epoch are automatically used!\n"
     ]
    },
    {
     "name": "stderr",
     "output_type": "stream",
     "text": [
      "\r",
      " 90%|████████████████████████████████▍   | 9/10 [08:58<01:06, 66.48s/it]"
     ]
    },
    {
     "name": "stdout",
     "output_type": "stream",
     "text": [
      "5 5 1\n",
      "\n",
      "Early stopping occurred at epoch 182 with best_epoch = 132 and best_val_0_logloss = 0.80796\n",
      "Best weights from best epoch are automatically used!\n"
     ]
    },
    {
     "name": "stderr",
     "output_type": "stream",
     "text": [
      "100%|███████████████████████████████████| 10/10 [10:10<00:00, 61.04s/it]\n",
      "  0%|                                            | 0/10 [00:00<?, ?it/s]"
     ]
    },
    {
     "name": "stdout",
     "output_type": "stream",
     "text": [
      "5 5 1\n",
      "\n",
      "Early stopping occurred at epoch 392 with best_epoch = 342 and best_val_0_logloss = 0.80224\n",
      "Best weights from best epoch are automatically used!\n"
     ]
    },
    {
     "name": "stderr",
     "output_type": "stream",
     "text": [
      "\r",
      " 10%|███▌                               | 1/10 [02:43<24:27, 163.01s/it]"
     ]
    },
    {
     "name": "stdout",
     "output_type": "stream",
     "text": [
      "5 5 2\n",
      "\n",
      "Early stopping occurred at epoch 134 with best_epoch = 84 and best_val_0_logloss = 0.82902\n",
      "Best weights from best epoch are automatically used!\n"
     ]
    },
    {
     "name": "stderr",
     "output_type": "stream",
     "text": [
      "\r",
      " 20%|███████                            | 2/10 [03:39<13:21, 100.25s/it]"
     ]
    },
    {
     "name": "stdout",
     "output_type": "stream",
     "text": [
      "5 5 2\n",
      "\n",
      "Early stopping occurred at epoch 128 with best_epoch = 78 and best_val_0_logloss = 0.82358\n",
      "Best weights from best epoch are automatically used!\n"
     ]
    },
    {
     "name": "stderr",
     "output_type": "stream",
     "text": [
      "\r",
      " 30%|██████████▊                         | 3/10 [04:33<09:13, 79.13s/it]"
     ]
    },
    {
     "name": "stdout",
     "output_type": "stream",
     "text": [
      "5 5 2\n",
      "\n",
      "Early stopping occurred at epoch 133 with best_epoch = 83 and best_val_0_logloss = 0.79886\n",
      "Best weights from best epoch are automatically used!\n"
     ]
    },
    {
     "name": "stderr",
     "output_type": "stream",
     "text": [
      "\r",
      " 40%|██████████████▍                     | 4/10 [05:29<07:00, 70.07s/it]"
     ]
    },
    {
     "name": "stdout",
     "output_type": "stream",
     "text": [
      "5 5 2\n"
     ]
    },
    {
     "name": "stderr",
     "output_type": "stream",
     "text": [
      "\r",
      " 50%|██████████████████                  | 5/10 [06:40<05:51, 70.25s/it]"
     ]
    },
    {
     "name": "stdout",
     "output_type": "stream",
     "text": [
      "\n",
      "Early stopping occurred at epoch 168 with best_epoch = 118 and best_val_0_logloss = 0.81081\n",
      "Best weights from best epoch are automatically used!\n",
      "5 5 2\n"
     ]
    },
    {
     "name": "stderr",
     "output_type": "stream",
     "text": [
      "\r",
      " 60%|█████████████████████▌              | 6/10 [07:30<04:13, 63.36s/it]"
     ]
    },
    {
     "name": "stdout",
     "output_type": "stream",
     "text": [
      "\n",
      "Early stopping occurred at epoch 118 with best_epoch = 68 and best_val_0_logloss = 0.83754\n",
      "Best weights from best epoch are automatically used!\n",
      "5 5 2\n",
      "\n",
      "Early stopping occurred at epoch 176 with best_epoch = 126 and best_val_0_logloss = 0.81409\n",
      "Best weights from best epoch are automatically used!\n"
     ]
    },
    {
     "name": "stderr",
     "output_type": "stream",
     "text": [
      "\r",
      " 70%|█████████████████████████▏          | 7/10 [08:44<03:20, 66.89s/it]"
     ]
    },
    {
     "name": "stdout",
     "output_type": "stream",
     "text": [
      "5 5 2\n"
     ]
    },
    {
     "name": "stderr",
     "output_type": "stream",
     "text": [
      "\r",
      " 80%|████████████████████████████▊       | 8/10 [09:34<02:02, 61.49s/it]"
     ]
    },
    {
     "name": "stdout",
     "output_type": "stream",
     "text": [
      "\n",
      "Early stopping occurred at epoch 118 with best_epoch = 68 and best_val_0_logloss = 0.82306\n",
      "Best weights from best epoch are automatically used!\n",
      "5 5 2\n"
     ]
    },
    {
     "name": "stderr",
     "output_type": "stream",
     "text": [
      "\r",
      " 90%|████████████████████████████████▍   | 9/10 [10:57<01:08, 68.21s/it]"
     ]
    },
    {
     "name": "stdout",
     "output_type": "stream",
     "text": [
      "\n",
      "Early stopping occurred at epoch 197 with best_epoch = 147 and best_val_0_logloss = 0.81982\n",
      "Best weights from best epoch are automatically used!\n",
      "5 5 2\n",
      "\n",
      "Early stopping occurred at epoch 154 with best_epoch = 104 and best_val_0_logloss = 0.81139\n",
      "Best weights from best epoch are automatically used!\n"
     ]
    },
    {
     "name": "stderr",
     "output_type": "stream",
     "text": [
      "100%|███████████████████████████████████| 10/10 [12:02<00:00, 72.22s/it]\n",
      "  0%|                                            | 0/10 [00:00<?, ?it/s]"
     ]
    },
    {
     "name": "stdout",
     "output_type": "stream",
     "text": [
      "5 5 2\n",
      "\n",
      "Early stopping occurred at epoch 266 with best_epoch = 216 and best_val_0_logloss = 0.81216\n",
      "Best weights from best epoch are automatically used!\n"
     ]
    },
    {
     "name": "stderr",
     "output_type": "stream",
     "text": [
      "\r",
      " 10%|███▌                               | 1/10 [01:58<17:45, 118.42s/it]"
     ]
    },
    {
     "name": "stdout",
     "output_type": "stream",
     "text": [
      "5 5 3\n"
     ]
    },
    {
     "name": "stderr",
     "output_type": "stream",
     "text": [
      "\r",
      " 20%|███████                            | 2/10 [03:37<14:17, 107.24s/it]"
     ]
    },
    {
     "name": "stdout",
     "output_type": "stream",
     "text": [
      "\n",
      "Early stopping occurred at epoch 223 with best_epoch = 173 and best_val_0_logloss = 0.80978\n",
      "Best weights from best epoch are automatically used!\n",
      "5 5 3\n"
     ]
    },
    {
     "name": "stderr",
     "output_type": "stream",
     "text": [
      "\r",
      " 30%|██████████▌                        | 3/10 [05:38<13:13, 113.31s/it]"
     ]
    },
    {
     "name": "stdout",
     "output_type": "stream",
     "text": [
      "\n",
      "Early stopping occurred at epoch 271 with best_epoch = 221 and best_val_0_logloss = 0.81249\n",
      "Best weights from best epoch are automatically used!\n",
      "5 5 3\n",
      "\n",
      "Early stopping occurred at epoch 181 with best_epoch = 131 and best_val_0_logloss = 0.80167\n",
      "Best weights from best epoch are automatically used!\n"
     ]
    },
    {
     "name": "stderr",
     "output_type": "stream",
     "text": [
      "\r",
      " 40%|██████████████                     | 4/10 [06:59<10:03, 100.62s/it]"
     ]
    },
    {
     "name": "stdout",
     "output_type": "stream",
     "text": [
      "5 5 3\n",
      "\n",
      "Early stopping occurred at epoch 188 with best_epoch = 138 and best_val_0_logloss = 0.81491\n",
      "Best weights from best epoch are automatically used!\n"
     ]
    },
    {
     "name": "stderr",
     "output_type": "stream",
     "text": [
      "\r",
      " 50%|██████████████████                  | 5/10 [08:23<07:53, 94.78s/it]"
     ]
    },
    {
     "name": "stdout",
     "output_type": "stream",
     "text": [
      "5 5 3\n",
      "\n",
      "Early stopping occurred at epoch 303 with best_epoch = 253 and best_val_0_logloss = 0.8007\n",
      "Best weights from best epoch are automatically used!\n"
     ]
    },
    {
     "name": "stderr",
     "output_type": "stream",
     "text": [
      "\r",
      " 60%|█████████████████████              | 6/10 [10:38<07:13, 108.46s/it]"
     ]
    },
    {
     "name": "stdout",
     "output_type": "stream",
     "text": [
      "5 5 3\n"
     ]
    },
    {
     "name": "stderr",
     "output_type": "stream",
     "text": [
      "\r",
      " 70%|█████████████████████████▏          | 7/10 [11:22<04:21, 87.16s/it]"
     ]
    },
    {
     "name": "stdout",
     "output_type": "stream",
     "text": [
      "\n",
      "Early stopping occurred at epoch 96 with best_epoch = 46 and best_val_0_logloss = 0.86938\n",
      "Best weights from best epoch are automatically used!\n",
      "5 5 3\n"
     ]
    },
    {
     "name": "stderr",
     "output_type": "stream",
     "text": [
      "\r",
      " 80%|████████████████████████████▊       | 8/10 [12:37<02:46, 83.37s/it]"
     ]
    },
    {
     "name": "stdout",
     "output_type": "stream",
     "text": [
      "\n",
      "Early stopping occurred at epoch 168 with best_epoch = 118 and best_val_0_logloss = 0.82307\n",
      "Best weights from best epoch are automatically used!\n",
      "5 5 3\n"
     ]
    },
    {
     "name": "stderr",
     "output_type": "stream",
     "text": [
      "\r",
      " 90%|████████████████████████████████▍   | 9/10 [14:27<01:31, 91.53s/it]"
     ]
    },
    {
     "name": "stdout",
     "output_type": "stream",
     "text": [
      "\n",
      "Early stopping occurred at epoch 245 with best_epoch = 195 and best_val_0_logloss = 0.81676\n",
      "Best weights from best epoch are automatically used!\n",
      "5 5 3\n"
     ]
    },
    {
     "name": "stderr",
     "output_type": "stream",
     "text": [
      "\r",
      "100%|██████████████████████████████████| 10/10 [16:49<00:00, 107.37s/it]"
     ]
    },
    {
     "name": "stdout",
     "output_type": "stream",
     "text": [
      "\n",
      "Early stopping occurred at epoch 322 with best_epoch = 272 and best_val_0_logloss = 0.80732\n",
      "Best weights from best epoch are automatically used!\n",
      "5 5 3\n"
     ]
    },
    {
     "name": "stderr",
     "output_type": "stream",
     "text": [
      "100%|██████████████████████████████████| 10/10 [16:49<00:00, 100.98s/it]\n",
      "  0%|                                            | 0/10 [00:00<?, ?it/s]"
     ]
    },
    {
     "name": "stdout",
     "output_type": "stream",
     "text": [
      "\n",
      "Early stopping occurred at epoch 248 with best_epoch = 198 and best_val_0_logloss = 0.80524\n",
      "Best weights from best epoch are automatically used!\n"
     ]
    },
    {
     "name": "stderr",
     "output_type": "stream",
     "text": [
      "\r",
      " 10%|███▌                               | 1/10 [01:57<17:34, 117.12s/it]"
     ]
    },
    {
     "name": "stdout",
     "output_type": "stream",
     "text": [
      "5 5 4\n",
      "\n",
      "Early stopping occurred at epoch 117 with best_epoch = 67 and best_val_0_logloss = 0.84602\n",
      "Best weights from best epoch are automatically used!\n",
      "5 5 4\n"
     ]
    },
    {
     "name": "stderr",
     "output_type": "stream",
     "text": [
      " 30%|██████████▊                         | 3/10 [04:55<11:38, 99.81s/it]"
     ]
    },
    {
     "name": "stdout",
     "output_type": "stream",
     "text": [
      "\n",
      "Early stopping occurred at epoch 258 with best_epoch = 208 and best_val_0_logloss = 0.81021\n",
      "Best weights from best epoch are automatically used!\n",
      "5 5 4\n",
      "\n",
      "Early stopping occurred at epoch 298 with best_epoch = 248 and best_val_0_logloss = 0.79482\n",
      "Best weights from best epoch are automatically used!\n"
     ]
    },
    {
     "name": "stderr",
     "output_type": "stream",
     "text": [
      "\r",
      " 40%|██████████████                     | 4/10 [07:15<11:35, 115.94s/it]"
     ]
    },
    {
     "name": "stdout",
     "output_type": "stream",
     "text": [
      "5 5 4\n"
     ]
    },
    {
     "name": "stderr",
     "output_type": "stream",
     "text": [
      "\r",
      " 50%|██████████████████                  | 5/10 [08:10<07:49, 93.85s/it]"
     ]
    },
    {
     "name": "stdout",
     "output_type": "stream",
     "text": [
      "\n",
      "Early stopping occurred at epoch 114 with best_epoch = 64 and best_val_0_logloss = 0.84118\n",
      "Best weights from best epoch are automatically used!\n",
      "5 5 4\n"
     ]
    },
    {
     "name": "stderr",
     "output_type": "stream",
     "text": [
      "\r",
      " 60%|█████████████████████▌              | 6/10 [08:55<05:08, 77.10s/it]"
     ]
    },
    {
     "name": "stdout",
     "output_type": "stream",
     "text": [
      "\n",
      "Early stopping occurred at epoch 93 with best_epoch = 43 and best_val_0_logloss = 0.8538\n",
      "Best weights from best epoch are automatically used!\n",
      "5 5 4\n"
     ]
    },
    {
     "name": "stderr",
     "output_type": "stream",
     "text": [
      "\r",
      " 70%|█████████████████████████▏          | 7/10 [10:31<04:10, 83.51s/it]"
     ]
    },
    {
     "name": "stdout",
     "output_type": "stream",
     "text": [
      "\n",
      "Early stopping occurred at epoch 204 with best_epoch = 154 and best_val_0_logloss = 0.81618\n",
      "Best weights from best epoch are automatically used!\n",
      "5 5 4\n",
      "\n",
      "Early stopping occurred at epoch 116 with best_epoch = 66 and best_val_0_logloss = 0.84036\n",
      "Best weights from best epoch are automatically used!\n"
     ]
    },
    {
     "name": "stderr",
     "output_type": "stream",
     "text": [
      "\r",
      " 80%|████████████████████████████▊       | 8/10 [11:27<02:29, 74.73s/it]"
     ]
    },
    {
     "name": "stdout",
     "output_type": "stream",
     "text": [
      "5 5 4\n",
      "\n",
      "Early stopping occurred at epoch 256 with best_epoch = 206 and best_val_0_logloss = 0.81676\n",
      "Best weights from best epoch are automatically used!\n"
     ]
    },
    {
     "name": "stderr",
     "output_type": "stream",
     "text": [
      "\r",
      " 90%|████████████████████████████████▍   | 9/10 [13:29<01:29, 89.29s/it]"
     ]
    },
    {
     "name": "stdout",
     "output_type": "stream",
     "text": [
      "5 5 4\n"
     ]
    },
    {
     "name": "stderr",
     "output_type": "stream",
     "text": [
      "\r",
      "100%|██████████████████████████████████| 10/10 [15:40<00:00, 102.19s/it]"
     ]
    },
    {
     "name": "stdout",
     "output_type": "stream",
     "text": [
      "\n",
      "Early stopping occurred at epoch 277 with best_epoch = 227 and best_val_0_logloss = 0.81565\n",
      "Best weights from best epoch are automatically used!\n",
      "5 5 4\n"
     ]
    },
    {
     "name": "stderr",
     "output_type": "stream",
     "text": [
      "100%|███████████████████████████████████| 10/10 [15:40<00:00, 94.01s/it]\n",
      " 10%|███▌                                | 1/10 [00:37<05:39, 37.78s/it]"
     ]
    },
    {
     "name": "stdout",
     "output_type": "stream",
     "text": [
      "\n",
      "Early stopping occurred at epoch 74 with best_epoch = 24 and best_val_0_logloss = 0.87761\n",
      "Best weights from best epoch are automatically used!\n",
      "5 5 5\n",
      "\n",
      "Early stopping occurred at epoch 357 with best_epoch = 307 and best_val_0_logloss = 0.80275\n",
      "Best weights from best epoch are automatically used!\n",
      "5 "
     ]
    },
    {
     "name": "stderr",
     "output_type": "stream",
     "text": [
      "\r",
      " 20%|███████                            | 2/10 [03:36<16:04, 120.57s/it]"
     ]
    },
    {
     "name": "stdout",
     "output_type": "stream",
     "text": [
      "5 5\n",
      "\n",
      "Early stopping occurred at epoch 106 with best_epoch = 56 and best_val_0_logloss = 0.86058\n",
      "Best weights from best epoch are automatically used!\n",
      "5 "
     ]
    },
    {
     "name": "stderr",
     "output_type": "stream",
     "text": [
      "\r",
      " 30%|██████████▊                         | 3/10 [04:29<10:30, 90.03s/it]"
     ]
    },
    {
     "name": "stdout",
     "output_type": "stream",
     "text": [
      "5 5\n"
     ]
    },
    {
     "name": "stderr",
     "output_type": "stream",
     "text": [
      "\r",
      " 40%|██████████████                     | 4/10 [07:00<11:22, 113.83s/it]"
     ]
    },
    {
     "name": "stdout",
     "output_type": "stream",
     "text": [
      "\n",
      "Early stopping occurred at epoch 300 with best_epoch = 250 and best_val_0_logloss = 0.7982\n",
      "Best weights from best epoch are automatically used!\n",
      "5 5 5\n",
      "\n",
      "Early stopping occurred at epoch 71 with best_epoch = 21 and best_val_0_logloss = 0.88272\n",
      "Best weights from best epoch are automatically used!\n"
     ]
    },
    {
     "name": "stderr",
     "output_type": "stream",
     "text": [
      "\r",
      " 50%|██████████████████                  | 5/10 [07:36<07:09, 85.89s/it]"
     ]
    },
    {
     "name": "stdout",
     "output_type": "stream",
     "text": [
      "5 5 5\n"
     ]
    },
    {
     "name": "stderr",
     "output_type": "stream",
     "text": [
      "\r",
      " 60%|█████████████████████              | 6/10 [09:46<06:43, 100.82s/it]"
     ]
    },
    {
     "name": "stdout",
     "output_type": "stream",
     "text": [
      "\n",
      "Early stopping occurred at epoch 258 with best_epoch = 208 and best_val_0_logloss = 0.80695\n",
      "Best weights from best epoch are automatically used!\n",
      "5 5 5\n",
      "\n",
      "Early stopping occurred at epoch 97 with best_epoch = 47 and best_val_0_logloss = 0.85037\n",
      "Best weights from best epoch are automatically used!\n"
     ]
    },
    {
     "name": "stderr",
     "output_type": "stream",
     "text": [
      "\r",
      " 70%|█████████████████████████▏          | 7/10 [10:35<04:12, 84.01s/it]"
     ]
    },
    {
     "name": "stdout",
     "output_type": "stream",
     "text": [
      "5 5 5\n",
      "\n",
      "Early stopping occurred at epoch 369 with best_epoch = 319 and best_val_0_logloss = 0.81642\n",
      "Best weights from best epoch are automatically used!\n"
     ]
    },
    {
     "name": "stderr",
     "output_type": "stream",
     "text": [
      "\r",
      " 80%|████████████████████████████       | 8/10 [13:40<03:52, 116.19s/it]"
     ]
    },
    {
     "name": "stdout",
     "output_type": "stream",
     "text": [
      "5 5 5\n",
      "\n",
      "Early stopping occurred at epoch 102 with best_epoch = 52 and best_val_0_logloss = 0.8454\n",
      "Best weights from best epoch are automatically used!\n"
     ]
    },
    {
     "name": "stderr",
     "output_type": "stream",
     "text": [
      "\r",
      " 90%|████████████████████████████████▍   | 9/10 [14:34<01:36, 96.54s/it]"
     ]
    },
    {
     "name": "stdout",
     "output_type": "stream",
     "text": [
      "5 5 5\n",
      "\n",
      "Early stopping occurred at epoch 115 with best_epoch = 65 and best_val_0_logloss = 0.81351\n",
      "Best weights from best epoch are automatically used!\n"
     ]
    },
    {
     "name": "stderr",
     "output_type": "stream",
     "text": [
      "100%|███████████████████████████████████| 10/10 [15:33<00:00, 93.36s/it]\n",
      "  0%|                                            | 0/10 [00:00<?, ?it/s]"
     ]
    },
    {
     "name": "stdout",
     "output_type": "stream",
     "text": [
      "5 5 5\n",
      "\n",
      "Early stopping occurred at epoch 245 with best_epoch = 195 and best_val_0_logloss = 0.86536\n",
      "Best weights from best epoch are automatically used!\n"
     ]
    },
    {
     "name": "stderr",
     "output_type": "stream",
     "text": [
      "\r",
      " 10%|███▌                                | 1/10 [01:15<11:20, 75.61s/it]"
     ]
    },
    {
     "name": "stdout",
     "output_type": "stream",
     "text": [
      "6 1 1\n",
      "\n",
      "Early stopping occurred at epoch 149 with best_epoch = 99 and best_val_0_logloss = 0.88199\n",
      "Best weights from best epoch are automatically used!\n"
     ]
    },
    {
     "name": "stderr",
     "output_type": "stream",
     "text": [
      "\r",
      " 20%|███████▏                            | 2/10 [02:00<07:40, 57.57s/it]"
     ]
    },
    {
     "name": "stdout",
     "output_type": "stream",
     "text": [
      "6 1 1\n",
      "\n",
      "Early stopping occurred at epoch 293 with best_epoch = 243 and best_val_0_logloss = 0.82693\n",
      "Best weights from best epoch are automatically used!\n"
     ]
    },
    {
     "name": "stderr",
     "output_type": "stream",
     "text": [
      "\r",
      " 30%|██████████▊                         | 3/10 [03:30<08:25, 72.15s/it]"
     ]
    },
    {
     "name": "stdout",
     "output_type": "stream",
     "text": [
      "6 1 1\n",
      "\n",
      "Early stopping occurred at epoch 210 with best_epoch = 160 and best_val_0_logloss = 0.81718\n",
      "Best weights from best epoch are automatically used!\n"
     ]
    },
    {
     "name": "stderr",
     "output_type": "stream",
     "text": [
      "\r",
      " 40%|██████████████▍                     | 4/10 [04:33<06:51, 68.66s/it]"
     ]
    },
    {
     "name": "stdout",
     "output_type": "stream",
     "text": [
      "6 1 1\n"
     ]
    },
    {
     "name": "stderr",
     "output_type": "stream",
     "text": [
      "\r",
      " 50%|██████████████████                  | 5/10 [05:33<05:28, 65.72s/it]"
     ]
    },
    {
     "name": "stdout",
     "output_type": "stream",
     "text": [
      "\n",
      "Early stopping occurred at epoch 196 with best_epoch = 146 and best_val_0_logloss = 0.80877\n",
      "Best weights from best epoch are automatically used!\n",
      "6 1 1\n",
      "\n",
      "Early stopping occurred at epoch 205 with best_epoch = 155 and best_val_0_logloss = 0.87717\n",
      "Best weights from best epoch are automatically used!\n"
     ]
    },
    {
     "name": "stderr",
     "output_type": "stream",
     "text": [
      "\r",
      " 60%|█████████████████████▌              | 6/10 [06:36<04:19, 64.83s/it]"
     ]
    },
    {
     "name": "stdout",
     "output_type": "stream",
     "text": [
      "6 1 1\n",
      "\n",
      "Early stopping occurred at epoch 180 with best_epoch = 130 and best_val_0_logloss = 0.83413\n",
      "Best weights from best epoch are automatically used!\n"
     ]
    },
    {
     "name": "stderr",
     "output_type": "stream",
     "text": [
      "\r",
      " 70%|█████████████████████████▏          | 7/10 [07:32<03:05, 61.81s/it]"
     ]
    },
    {
     "name": "stdout",
     "output_type": "stream",
     "text": [
      "6 1 1\n"
     ]
    },
    {
     "name": "stderr",
     "output_type": "stream",
     "text": [
      "\r",
      " 80%|████████████████████████████▊       | 8/10 [08:02<01:43, 51.59s/it]"
     ]
    },
    {
     "name": "stdout",
     "output_type": "stream",
     "text": [
      "\n",
      "Early stopping occurred at epoch 96 with best_epoch = 46 and best_val_0_logloss = 0.88622\n",
      "Best weights from best epoch are automatically used!\n",
      "6 1 1\n",
      "\n",
      "Early stopping occurred at epoch 115 with best_epoch = 65 and best_val_0_logloss = 0.88377\n",
      "Best weights from best epoch are automatically used!\n"
     ]
    },
    {
     "name": "stderr",
     "output_type": "stream",
     "text": [
      "\r",
      " 90%|████████████████████████████████▍   | 9/10 [08:38<00:46, 46.66s/it]"
     ]
    },
    {
     "name": "stdout",
     "output_type": "stream",
     "text": [
      "6 1 1\n",
      "\n",
      "Early stopping occurred at epoch 269 with best_epoch = 219 and best_val_0_logloss = 0.83568\n",
      "Best weights from best epoch are automatically used!\n"
     ]
    },
    {
     "name": "stderr",
     "output_type": "stream",
     "text": [
      "100%|███████████████████████████████████| 10/10 [10:01<00:00, 60.11s/it]\n",
      "  0%|                                            | 0/10 [00:00<?, ?it/s]"
     ]
    },
    {
     "name": "stdout",
     "output_type": "stream",
     "text": [
      "6 1 1\n",
      "\n",
      "Early stopping occurred at epoch 153 with best_epoch = 103 and best_val_0_logloss = 0.82526\n",
      "Best weights from best epoch are automatically used!\n"
     ]
    },
    {
     "name": "stderr",
     "output_type": "stream",
     "text": [
      "\r",
      " 10%|███▌                                | 1/10 [00:52<07:52, 52.50s/it]"
     ]
    },
    {
     "name": "stdout",
     "output_type": "stream",
     "text": [
      "6 1 2\n",
      "\n",
      "Early stopping occurred at epoch 207 with best_epoch = 157 and best_val_0_logloss = 0.81289\n",
      "Best weights from best epoch are automatically used!\n"
     ]
    },
    {
     "name": "stderr",
     "output_type": "stream",
     "text": [
      "\r",
      " 20%|███████▏                            | 2/10 [02:03<08:29, 63.65s/it]"
     ]
    },
    {
     "name": "stdout",
     "output_type": "stream",
     "text": [
      "6 1 2\n",
      "\n",
      "Early stopping occurred at epoch 191 with best_epoch = 141 and best_val_0_logloss = 0.82397\n",
      "Best weights from best epoch are automatically used!\n"
     ]
    },
    {
     "name": "stderr",
     "output_type": "stream",
     "text": [
      "\r",
      " 30%|██████████▊                         | 3/10 [03:10<07:35, 65.05s/it]"
     ]
    },
    {
     "name": "stdout",
     "output_type": "stream",
     "text": [
      "6 1 2\n",
      "\n",
      "Early stopping occurred at epoch 222 with best_epoch = 172 and best_val_0_logloss = 0.80333\n",
      "Best weights from best epoch are automatically used!\n"
     ]
    },
    {
     "name": "stderr",
     "output_type": "stream",
     "text": [
      "\r",
      " 40%|██████████████▍                     | 4/10 [04:25<06:53, 68.96s/it]"
     ]
    },
    {
     "name": "stdout",
     "output_type": "stream",
     "text": [
      "6 1 2\n",
      "\n",
      "Early stopping occurred at epoch 225 with best_epoch = 175 and best_val_0_logloss = 0.81217\n",
      "Best weights from best epoch are automatically used!\n"
     ]
    },
    {
     "name": "stderr",
     "output_type": "stream",
     "text": [
      "\r",
      " 50%|██████████████████                  | 5/10 [05:42<05:58, 71.71s/it]"
     ]
    },
    {
     "name": "stdout",
     "output_type": "stream",
     "text": [
      "6 1 2\n"
     ]
    },
    {
     "name": "stderr",
     "output_type": "stream",
     "text": [
      "\r",
      " 60%|█████████████████████▌              | 6/10 [07:33<05:41, 85.27s/it]"
     ]
    },
    {
     "name": "stdout",
     "output_type": "stream",
     "text": [
      "\n",
      "Early stopping occurred at epoch 330 with best_epoch = 280 and best_val_0_logloss = 0.81053\n",
      "Best weights from best epoch are automatically used!\n",
      "6 1 2\n",
      "\n",
      "Early stopping occurred at epoch 220 with best_epoch = 170 and best_val_0_logloss = 0.819\n",
      "Best weights from best epoch are automatically used!\n",
      "6 1 "
     ]
    },
    {
     "name": "stderr",
     "output_type": "stream",
     "text": [
      "\r",
      " 70%|█████████████████████████▏          | 7/10 [08:48<04:05, 81.86s/it]"
     ]
    },
    {
     "name": "stdout",
     "output_type": "stream",
     "text": [
      "2\n",
      "\n",
      "Early stopping occurred at epoch 208 with best_epoch = 158 and best_val_0_logloss = 0.82211\n",
      "Best weights from best epoch are automatically used!\n"
     ]
    },
    {
     "name": "stderr",
     "output_type": "stream",
     "text": [
      "\r",
      " 80%|████████████████████████████▊       | 8/10 [09:59<02:36, 78.30s/it]"
     ]
    },
    {
     "name": "stdout",
     "output_type": "stream",
     "text": [
      "6 1 2\n",
      "\n",
      "Early stopping occurred at epoch 232 with best_epoch = 182 and best_val_0_logloss = 0.81746\n",
      "Best weights from best epoch are automatically used!\n"
     ]
    },
    {
     "name": "stderr",
     "output_type": "stream",
     "text": [
      "\r",
      " 90%|████████████████████████████████▍   | 9/10 [11:17<01:18, 78.23s/it]"
     ]
    },
    {
     "name": "stdout",
     "output_type": "stream",
     "text": [
      "6 1 2\n"
     ]
    },
    {
     "name": "stderr",
     "output_type": "stream",
     "text": [
      "\r",
      "100%|███████████████████████████████████| 10/10 [12:15<00:00, 72.08s/it]"
     ]
    },
    {
     "name": "stdout",
     "output_type": "stream",
     "text": [
      "\n",
      "Early stopping occurred at epoch 172 with best_epoch = 122 and best_val_0_logloss = 0.81489\n",
      "Best weights from best epoch are automatically used!\n",
      "6 1 2\n"
     ]
    },
    {
     "name": "stderr",
     "output_type": "stream",
     "text": [
      "100%|███████████████████████████████████| 10/10 [12:15<00:00, 73.57s/it]\n",
      " 10%|███▌                               | 1/10 [01:57<17:35, 117.24s/it]"
     ]
    },
    {
     "name": "stdout",
     "output_type": "stream",
     "text": [
      "\n",
      "Early stopping occurred at epoch 316 with best_epoch = 266 and best_val_0_logloss = 0.8313\n",
      "Best weights from best epoch are automatically used!\n",
      "6 1 3\n"
     ]
    },
    {
     "name": "stderr",
     "output_type": "stream",
     "text": [
      "\r",
      " 20%|███████                            | 2/10 [03:35<14:06, 105.80s/it]"
     ]
    },
    {
     "name": "stdout",
     "output_type": "stream",
     "text": [
      "\n",
      "Early stopping occurred at epoch 263 with best_epoch = 213 and best_val_0_logloss = 0.81475\n",
      "Best weights from best epoch are automatically used!\n",
      "6 1 3\n",
      "\n",
      "Early stopping occurred at epoch 189 with best_epoch = 139 and best_val_0_logloss = 0.82663\n",
      "Best weights from best epoch are automatically used!\n"
     ]
    },
    {
     "name": "stderr",
     "output_type": "stream",
     "text": [
      "\r",
      " 30%|██████████▊                         | 3/10 [04:46<10:32, 90.29s/it]"
     ]
    },
    {
     "name": "stdout",
     "output_type": "stream",
     "text": [
      "6 1 3\n",
      "\n",
      "Early stopping occurred at epoch 374 with best_epoch = 324 and best_val_0_logloss = 0.80009\n",
      "Best weights from best epoch are automatically used!\n"
     ]
    },
    {
     "name": "stderr",
     "output_type": "stream",
     "text": [
      "\r",
      " 40%|██████████████                     | 4/10 [07:06<10:59, 109.94s/it]"
     ]
    },
    {
     "name": "stdout",
     "output_type": "stream",
     "text": [
      "6 1 3\n",
      "\n",
      "Early stopping occurred at epoch 231 with best_epoch = 181 and best_val_0_logloss = 0.81484\n",
      "Best weights from best epoch are automatically used!\n"
     ]
    },
    {
     "name": "stderr",
     "output_type": "stream",
     "text": [
      "\r",
      " 50%|█████████████████▌                 | 5/10 [08:32<08:26, 101.30s/it]"
     ]
    },
    {
     "name": "stdout",
     "output_type": "stream",
     "text": [
      "6 1 3\n"
     ]
    },
    {
     "name": "stderr",
     "output_type": "stream",
     "text": [
      "\r",
      " 60%|█████████████████████              | 6/10 [12:01<09:11, 137.87s/it]"
     ]
    },
    {
     "name": "stdout",
     "output_type": "stream",
     "text": [
      "\n",
      "Early stopping occurred at epoch 544 with best_epoch = 494 and best_val_0_logloss = 0.8043\n",
      "Best weights from best epoch are automatically used!\n",
      "6 1 3\n"
     ]
    },
    {
     "name": "stderr",
     "output_type": "stream",
     "text": [
      "\r",
      " 70%|████████████████████████▌          | 7/10 [13:28<06:03, 121.23s/it]"
     ]
    },
    {
     "name": "stdout",
     "output_type": "stream",
     "text": [
      "\n",
      "Early stopping occurred at epoch 225 with best_epoch = 175 and best_val_0_logloss = 0.8254\n",
      "Best weights from best epoch are automatically used!\n",
      "6 1 3\n"
     ]
    },
    {
     "name": "stderr",
     "output_type": "stream",
     "text": [
      "\r",
      " 80%|████████████████████████████       | 8/10 [15:15<03:53, 116.58s/it]"
     ]
    },
    {
     "name": "stdout",
     "output_type": "stream",
     "text": [
      "\n",
      "Early stopping occurred at epoch 279 with best_epoch = 229 and best_val_0_logloss = 0.83551\n",
      "Best weights from best epoch are automatically used!\n",
      "6 1 3\n",
      "\n",
      "Early stopping occurred at epoch 270 with best_epoch = 220 and best_val_0_logloss = 0.84289\n",
      "Best weights from best epoch are automatically used!\n"
     ]
    },
    {
     "name": "stderr",
     "output_type": "stream",
     "text": [
      "\r",
      " 90%|███████████████████████████████▌   | 9/10 [16:57<01:52, 112.12s/it]"
     ]
    },
    {
     "name": "stdout",
     "output_type": "stream",
     "text": [
      "6 1 3\n",
      "\n",
      "Early stopping occurred at epoch 295 with best_epoch = 245 and best_val_0_logloss = 0.81655\n",
      "Best weights from best epoch are automatically used!\n"
     ]
    },
    {
     "name": "stderr",
     "output_type": "stream",
     "text": [
      "100%|██████████████████████████████████| 10/10 [18:49<00:00, 112.92s/it]\n",
      "  0%|                                            | 0/10 [00:00<?, ?it/s]"
     ]
    },
    {
     "name": "stdout",
     "output_type": "stream",
     "text": [
      "6 1 3\n",
      "\n",
      "Early stopping occurred at epoch 201 with best_epoch = 151 and best_val_0_logloss = 0.8054\n",
      "Best weights from best epoch are automatically used!\n"
     ]
    },
    {
     "name": "stderr",
     "output_type": "stream",
     "text": [
      "\r",
      " 10%|███▌                                | 1/10 [01:21<12:11, 81.23s/it]"
     ]
    },
    {
     "name": "stdout",
     "output_type": "stream",
     "text": [
      "6 1 4\n"
     ]
    },
    {
     "name": "stderr",
     "output_type": "stream",
     "text": [
      "\r",
      " 20%|███████▏                            | 2/10 [02:57<11:58, 89.82s/it]"
     ]
    },
    {
     "name": "stdout",
     "output_type": "stream",
     "text": [
      "\n",
      "Early stopping occurred at epoch 240 with best_epoch = 190 and best_val_0_logloss = 0.80522\n",
      "Best weights from best epoch are automatically used!\n",
      "6 1 4\n"
     ]
    },
    {
     "name": "stderr",
     "output_type": "stream",
     "text": [
      "\r",
      " 30%|██████████▌                        | 3/10 [04:52<11:51, 101.65s/it]"
     ]
    },
    {
     "name": "stdout",
     "output_type": "stream",
     "text": [
      "\n",
      "Early stopping occurred at epoch 288 with best_epoch = 238 and best_val_0_logloss = 0.80787\n",
      "Best weights from best epoch are automatically used!\n",
      "6 1 4\n",
      "\n",
      "Early stopping occurred at epoch 286 with best_epoch = 236 and best_val_0_logloss = 0.79503\n",
      "Best weights from best epoch are automatically used!\n"
     ]
    },
    {
     "name": "stderr",
     "output_type": "stream",
     "text": [
      "\r",
      " 40%|██████████████                     | 4/10 [06:48<10:42, 107.07s/it]"
     ]
    },
    {
     "name": "stdout",
     "output_type": "stream",
     "text": [
      "6 1 4\n",
      "\n",
      "Early stopping occurred at epoch 226 with best_epoch = 176 and best_val_0_logloss = 0.80457\n",
      "Best weights from best epoch are automatically used!\n"
     ]
    },
    {
     "name": "stderr",
     "output_type": "stream",
     "text": [
      "\r",
      " 50%|█████████████████▌                 | 5/10 [08:20<08:28, 101.62s/it]"
     ]
    },
    {
     "name": "stdout",
     "output_type": "stream",
     "text": [
      "6 1 4\n",
      "\n",
      "Early stopping occurred at epoch 239 with best_epoch = 189 and best_val_0_logloss = 0.8095\n",
      "Best weights from best epoch are automatically used!\n"
     ]
    },
    {
     "name": "stderr",
     "output_type": "stream",
     "text": [
      "\r",
      " 60%|█████████████████████▌              | 6/10 [09:56<06:38, 99.69s/it]"
     ]
    },
    {
     "name": "stdout",
     "output_type": "stream",
     "text": [
      "6 1 4\n",
      "\n",
      "Early stopping occurred at epoch 206 with best_epoch = 156 and best_val_0_logloss = 0.81518\n",
      "Best weights from best epoch are automatically used!\n"
     ]
    },
    {
     "name": "stderr",
     "output_type": "stream",
     "text": [
      "\r",
      " 70%|█████████████████████████▏          | 7/10 [11:18<04:41, 93.97s/it]"
     ]
    },
    {
     "name": "stdout",
     "output_type": "stream",
     "text": [
      "6 1 4\n"
     ]
    },
    {
     "name": "stderr",
     "output_type": "stream",
     "text": [
      "\r",
      " 80%|████████████████████████████▊       | 8/10 [12:25<02:50, 85.49s/it]"
     ]
    },
    {
     "name": "stdout",
     "output_type": "stream",
     "text": [
      "\n",
      "Early stopping occurred at epoch 169 with best_epoch = 119 and best_val_0_logloss = 0.83088\n",
      "Best weights from best epoch are automatically used!\n",
      "6 1 4\n",
      "\n",
      "Early stopping occurred at epoch 172 with best_epoch = 122 and best_val_0_logloss = 0.82195\n",
      "Best weights from best epoch are automatically used!\n"
     ]
    },
    {
     "name": "stderr",
     "output_type": "stream",
     "text": [
      "\r",
      " 90%|████████████████████████████████▍   | 9/10 [13:34<01:20, 80.30s/it]"
     ]
    },
    {
     "name": "stdout",
     "output_type": "stream",
     "text": [
      "6 1 4\n"
     ]
    },
    {
     "name": "stderr",
     "output_type": "stream",
     "text": [
      "\r",
      "100%|███████████████████████████████████| 10/10 [14:49<00:00, 78.79s/it]"
     ]
    },
    {
     "name": "stdout",
     "output_type": "stream",
     "text": [
      "\n",
      "Early stopping occurred at epoch 188 with best_epoch = 138 and best_val_0_logloss = 0.81414\n",
      "Best weights from best epoch are automatically used!\n",
      "6 1 4\n"
     ]
    },
    {
     "name": "stderr",
     "output_type": "stream",
     "text": [
      "100%|███████████████████████████████████| 10/10 [14:49<00:00, 88.99s/it]\n",
      " 10%|███▌                               | 1/10 [01:49<16:22, 109.11s/it]"
     ]
    },
    {
     "name": "stdout",
     "output_type": "stream",
     "text": [
      "\n",
      "Early stopping occurred at epoch 253 with best_epoch = 203 and best_val_0_logloss = 0.81441\n",
      "Best weights from best epoch are automatically used!\n",
      "6 1 5\n",
      "\n",
      "Early stopping occurred at epoch 109 with best_epoch = 59 and best_val_0_logloss = 0.85652\n",
      "Best weights from best epoch are automatically used!\n"
     ]
    },
    {
     "name": "stderr",
     "output_type": "stream",
     "text": [
      "\r",
      " 20%|███████▏                            | 2/10 [02:37<09:45, 73.13s/it]"
     ]
    },
    {
     "name": "stdout",
     "output_type": "stream",
     "text": [
      "6 1 5\n",
      "\n",
      "Early stopping occurred at epoch 214 with best_epoch = 164 and best_val_0_logloss = 0.81364\n",
      "Best weights from best epoch are automatically used!\n"
     ]
    },
    {
     "name": "stderr",
     "output_type": "stream",
     "text": [
      "\r",
      " 30%|██████████▊                         | 3/10 [04:09<09:34, 82.14s/it]"
     ]
    },
    {
     "name": "stdout",
     "output_type": "stream",
     "text": [
      "6 1 5\n",
      "\n",
      "Early stopping occurred at epoch 277 with best_epoch = 227 and best_val_0_logloss = 0.80071\n",
      "Best weights from best epoch are automatically used!\n"
     ]
    },
    {
     "name": "stderr",
     "output_type": "stream",
     "text": [
      "\r",
      " 40%|██████████████▍                     | 4/10 [06:10<09:43, 97.21s/it]"
     ]
    },
    {
     "name": "stdout",
     "output_type": "stream",
     "text": [
      "6 1 5\n"
     ]
    },
    {
     "name": "stderr",
     "output_type": "stream",
     "text": [
      "\r",
      " 50%|██████████████████                  | 5/10 [07:49<08:10, 98.11s/it]"
     ]
    },
    {
     "name": "stdout",
     "output_type": "stream",
     "text": [
      "\n",
      "Early stopping occurred at epoch 230 with best_epoch = 180 and best_val_0_logloss = 0.80923\n",
      "Best weights from best epoch are automatically used!\n",
      "6 1 5\n"
     ]
    },
    {
     "name": "stderr",
     "output_type": "stream",
     "text": [
      "\r",
      " 60%|█████████████████████▌              | 6/10 [08:38<05:25, 81.39s/it]"
     ]
    },
    {
     "name": "stdout",
     "output_type": "stream",
     "text": [
      "\n",
      "Early stopping occurred at epoch 112 with best_epoch = 62 and best_val_0_logloss = 0.88159\n",
      "Best weights from best epoch are automatically used!\n",
      "6 1 5\n"
     ]
    },
    {
     "name": "stderr",
     "output_type": "stream",
     "text": [
      "\r",
      " 70%|█████████████████████████▏          | 7/10 [10:09<04:13, 84.47s/it]"
     ]
    },
    {
     "name": "stdout",
     "output_type": "stream",
     "text": [
      "\n",
      "Early stopping occurred at epoch 209 with best_epoch = 159 and best_val_0_logloss = 0.82269\n",
      "Best weights from best epoch are automatically used!\n",
      "6 1 5\n",
      "\n",
      "Early stopping occurred at epoch 214 with best_epoch = 164 and best_val_0_logloss = 0.81976\n",
      "Best weights from best epoch are automatically used!\n"
     ]
    },
    {
     "name": "stderr",
     "output_type": "stream",
     "text": [
      "\r",
      " 80%|████████████████████████████▊       | 8/10 [11:43<02:54, 87.32s/it]"
     ]
    },
    {
     "name": "stdout",
     "output_type": "stream",
     "text": [
      "6 1 5\n"
     ]
    },
    {
     "name": "stderr",
     "output_type": "stream",
     "text": [
      "\r",
      " 90%|███████████████████████████████▌   | 9/10 [14:30<01:52, 112.28s/it]"
     ]
    },
    {
     "name": "stdout",
     "output_type": "stream",
     "text": [
      "\n",
      "Early stopping occurred at epoch 386 with best_epoch = 336 and best_val_0_logloss = 0.82718\n",
      "Best weights from best epoch are automatically used!\n",
      "6 1 5\n",
      "\n",
      "Early stopping occurred at epoch 328 with best_epoch = 278 and best_val_0_logloss = 0.81152\n",
      "Best weights from best epoch are automatically used!\n"
     ]
    },
    {
     "name": "stderr",
     "output_type": "stream",
     "text": [
      "100%|██████████████████████████████████| 10/10 [16:51<00:00, 101.15s/it]\n",
      "  0%|                                            | 0/10 [00:00<?, ?it/s]"
     ]
    },
    {
     "name": "stdout",
     "output_type": "stream",
     "text": [
      "6 1 5\n",
      "\n",
      "Early stopping occurred at epoch 275 with best_epoch = 225 and best_val_0_logloss = 0.81122\n",
      "Best weights from best epoch are automatically used!\n"
     ]
    },
    {
     "name": "stderr",
     "output_type": "stream",
     "text": [
      "\r",
      " 10%|███▌                                | 1/10 [01:32<13:50, 92.25s/it]"
     ]
    },
    {
     "name": "stdout",
     "output_type": "stream",
     "text": [
      "6 2 1\n",
      "\n",
      "Early stopping occurred at epoch 102 with best_epoch = 52 and best_val_0_logloss = 0.84577\n",
      "Best weights from best epoch are automatically used!\n"
     ]
    },
    {
     "name": "stderr",
     "output_type": "stream",
     "text": [
      "\r",
      " 20%|███████▏                            | 2/10 [02:06<07:46, 58.33s/it]"
     ]
    },
    {
     "name": "stdout",
     "output_type": "stream",
     "text": [
      "6 2 1\n"
     ]
    },
    {
     "name": "stderr",
     "output_type": "stream",
     "text": [
      "\r",
      " 30%|██████████▊                         | 3/10 [03:30<08:10, 70.04s/it]"
     ]
    },
    {
     "name": "stdout",
     "output_type": "stream",
     "text": [
      "\n",
      "Early stopping occurred at epoch 249 with best_epoch = 199 and best_val_0_logloss = 0.82012\n",
      "Best weights from best epoch are automatically used!\n",
      "6 2 1\n"
     ]
    },
    {
     "name": "stderr",
     "output_type": "stream",
     "text": [
      "\r",
      " 40%|██████████████▍                     | 4/10 [04:09<05:45, 57.60s/it]"
     ]
    },
    {
     "name": "stdout",
     "output_type": "stream",
     "text": [
      "\n",
      "Early stopping occurred at epoch 113 with best_epoch = 63 and best_val_0_logloss = 0.831\n",
      "Best weights from best epoch are automatically used!\n",
      "6 2 1\n",
      "\n",
      "Early stopping occurred at epoch 175 with best_epoch = 125 and best_val_0_logloss = 0.81745\n",
      "Best weights from best epoch are automatically used!\n"
     ]
    },
    {
     "name": "stderr",
     "output_type": "stream",
     "text": [
      "\r",
      " 50%|██████████████████                  | 5/10 [05:08<04:51, 58.32s/it]"
     ]
    },
    {
     "name": "stdout",
     "output_type": "stream",
     "text": [
      "6 2 1\n",
      "\n",
      "Early stopping occurred at epoch 230 with best_epoch = 180 and best_val_0_logloss = 0.81086\n",
      "Best weights from best epoch are automatically used!\n"
     ]
    },
    {
     "name": "stderr",
     "output_type": "stream",
     "text": [
      "\r",
      " 60%|█████████████████████▌              | 6/10 [06:26<04:20, 65.02s/it]"
     ]
    },
    {
     "name": "stdout",
     "output_type": "stream",
     "text": [
      "6 2 1\n",
      "\n",
      "Early stopping occurred at epoch 152 with best_epoch = 102 and best_val_0_logloss = 0.82823\n",
      "Best weights from best epoch are automatically used!\n"
     ]
    },
    {
     "name": "stderr",
     "output_type": "stream",
     "text": [
      "\r",
      " 70%|█████████████████████████▏          | 7/10 [07:19<03:02, 60.81s/it]"
     ]
    },
    {
     "name": "stdout",
     "output_type": "stream",
     "text": [
      "6 2 1\n"
     ]
    },
    {
     "name": "stderr",
     "output_type": "stream",
     "text": [
      "\r",
      " 80%|████████████████████████████▊       | 8/10 [07:53<01:44, 52.32s/it]"
     ]
    },
    {
     "name": "stdout",
     "output_type": "stream",
     "text": [
      "\n",
      "Early stopping occurred at epoch 100 with best_epoch = 50 and best_val_0_logloss = 0.85595\n",
      "Best weights from best epoch are automatically used!\n",
      "6 2 1\n"
     ]
    },
    {
     "name": "stderr",
     "output_type": "stream",
     "text": [
      "\r",
      " 90%|████████████████████████████████▍   | 9/10 [09:55<01:14, 74.13s/it]"
     ]
    },
    {
     "name": "stdout",
     "output_type": "stream",
     "text": [
      "\n",
      "Early stopping occurred at epoch 362 with best_epoch = 312 and best_val_0_logloss = 0.81955\n",
      "Best weights from best epoch are automatically used!\n",
      "6 2 1\n",
      "\n",
      "Early stopping occurred at epoch 251 with best_epoch = 201 and best_val_0_logloss = 0.80954\n",
      "Best weights from best epoch are automatically used!\n"
     ]
    },
    {
     "name": "stderr",
     "output_type": "stream",
     "text": [
      "100%|███████████████████████████████████| 10/10 [11:20<00:00, 68.04s/it]\n",
      "  0%|                                            | 0/10 [00:00<?, ?it/s]"
     ]
    },
    {
     "name": "stdout",
     "output_type": "stream",
     "text": [
      "6 2 1\n"
     ]
    },
    {
     "name": "stderr",
     "output_type": "stream",
     "text": [
      "\r",
      " 10%|███▌                                | 1/10 [01:39<14:57, 99.73s/it]"
     ]
    },
    {
     "name": "stdout",
     "output_type": "stream",
     "text": [
      "\n",
      "Early stopping occurred at epoch 269 with best_epoch = 219 and best_val_0_logloss = 0.80763\n",
      "Best weights from best epoch are automatically used!\n",
      "6 2 2\n"
     ]
    },
    {
     "name": "stderr",
     "output_type": "stream",
     "text": [
      "\r",
      " 20%|███████▏                            | 2/10 [02:41<10:19, 77.43s/it]"
     ]
    },
    {
     "name": "stdout",
     "output_type": "stream",
     "text": [
      "\n",
      "Early stopping occurred at epoch 166 with best_epoch = 116 and best_val_0_logloss = 0.81825\n",
      "Best weights from best epoch are automatically used!\n",
      "6 2 2\n",
      "\n",
      "Early stopping occurred at epoch 126 with best_epoch = 76 and best_val_0_logloss = 0.85921\n",
      "Best weights from best epoch are automatically used!\n"
     ]
    },
    {
     "name": "stderr",
     "output_type": "stream",
     "text": [
      "\r",
      " 30%|██████████▊                         | 3/10 [03:28<07:25, 63.65s/it]"
     ]
    },
    {
     "name": "stdout",
     "output_type": "stream",
     "text": [
      "6 2 2\n"
     ]
    }
   ],
   "source": [
    "from tqdm import tqdm\n",
    "# loss=0\n",
    "# models={}\n",
    "# historys={}\n",
    "results = []\n",
    "for n_step in [5,6,9]:\n",
    "    for ind in range(1,6):\n",
    "        for sha in range(1,6):\n",
    "            loss=0\n",
    "            models={}\n",
    "            historys={}\n",
    "            for fold in tqdm(range(n)):\n",
    "                train_idx, valid_idx = folds[fold]\n",
    "                X_train, X_valid, y_train, y_valid = train.drop(['credit'],axis=1).iloc[train_idx].values, train.drop(['credit'],axis=1).iloc[valid_idx].values,\\\n",
    "                                                  train['credit'][train_idx].values, train['credit'][valid_idx].values \n",
    "                clf = TabNetClassifier(n_d=9, n_a=9,\n",
    "                                n_steps=n_step,\n",
    "                                gamma=1.006,\n",
    "                                n_independent=ind,\n",
    "                                n_shared=sha,\n",
    "            #                     momentum=0.3, \n",
    "            #                     clip_value=2., \n",
    "                                lambda_sparse=0.01994,\n",
    "                                seed=42,\n",
    "\n",
    "                                optimizer_fn=torch.optim.Adam,\n",
    "                                optimizer_params=dict(lr=1e-2), \n",
    "                                scheduler_params = {\"gamma\": 0.95,\n",
    "                                  \"step_size\": 20},\n",
    "                                scheduler_fn=torch.optim.lr_scheduler.StepLR, epsilon=1e-15,\n",
    "                                device_name = 'auto',\n",
    "                                verbose=0)\n",
    "\n",
    "                history = clf.fit(\n",
    "                  X_train=X_train, y_train=y_train,\n",
    "                  eval_set=[(X_valid, y_valid)],\n",
    "                  eval_metric=['logloss'],\n",
    "                  max_epochs=MAX_EPOCHS ,\n",
    "                  patience=50, # please be patient ^^\n",
    "                  batch_size=32768,\n",
    "                  virtual_batch_size=16384,\n",
    "                  num_workers=0)\n",
    "                models[fold] = clf\n",
    "                historys[fold]= history\n",
    "                # y_pred = clf.predict_proba(X_valid.values)\n",
    "                y_pred = clf.predict_proba(X_valid)\n",
    "                loss += log_loss(y_valid,y_pred)\n",
    "                results.append([n_step,ind,sha])\n",
    "                print(n_step,ind,sha)"
   ]
  },
  {
   "cell_type": "code",
   "execution_count": 18,
   "metadata": {},
   "outputs": [
    {
     "data": {
      "text/plain": [
       "Index(['child_num', 'income_total', 'DAYS_BIRTH', 'DAYS_EMPLOYED',\n",
       "       'FLAG_MOBIL', 'work_phone', 'phone', 'email', 'family_size',\n",
       "       'begin_month', 'credit', 'income_per_size', 'careality',\n",
       "       'income_type_Commercial associate', 'income_type_Pensioner',\n",
       "       'income_type_State servant', 'income_type_Student',\n",
       "       'income_type_Working', 'edu_type_Academic degree',\n",
       "       'edu_type_Higher education', 'edu_type_Incomplete higher',\n",
       "       'edu_type_Lower secondary', 'edu_type_Secondary / secondary special',\n",
       "       'family_type_Civil marriage', 'family_type_Married',\n",
       "       'family_type_Separated', 'family_type_Single / not married',\n",
       "       'family_type_Widow', 'house_type_Co-op apartment',\n",
       "       'house_type_House / apartment', 'house_type_Municipal apartment',\n",
       "       'house_type_Office apartment', 'house_type_Rented apartment',\n",
       "       'house_type_With parents', 'occyp_type_Accountants',\n",
       "       'occyp_type_Cleaning staff', 'occyp_type_Cooking staff',\n",
       "       'occyp_type_Core staff', 'occyp_type_Drivers', 'occyp_type_HR staff',\n",
       "       'occyp_type_High skill tech staff', 'occyp_type_IT staff',\n",
       "       'occyp_type_Laborers', 'occyp_type_Low-skill Laborers',\n",
       "       'occyp_type_Managers', 'occyp_type_Medicine staff', 'occyp_type_NAN',\n",
       "       'occyp_type_Private service staff', 'occyp_type_Realty agents',\n",
       "       'occyp_type_Sales staff', 'occyp_type_Secretaries',\n",
       "       'occyp_type_Security staff', 'occyp_type_Waiters/barmen staff',\n",
       "       'family_bins_0', 'family_bins_1', 'family_bins_2'],\n",
       "      dtype='object')"
      ]
     },
     "execution_count": 18,
     "metadata": {},
     "output_type": "execute_result"
    }
   ],
   "source": [
    "train.columns"
   ]
  },
  {
   "cell_type": "code",
   "execution_count": 16,
   "metadata": {},
   "outputs": [
    {
     "data": {
      "text/plain": [
       "0.8033376689532075"
      ]
     },
     "execution_count": 16,
     "metadata": {},
     "output_type": "execute_result"
    }
   ],
   "source": [
    "loss/10"
   ]
  },
  {
   "cell_type": "code",
   "execution_count": 14,
   "metadata": {},
   "outputs": [
    {
     "data": {
      "text/plain": [
       "TabNetClassifier(n_d=9, n_a=9, n_steps=5, gamma=1.006, cat_idxs=[], cat_dims=[], cat_emb_dim=1, n_independent=2, n_shared=2, epsilon=1e-15, momentum=0.02, lambda_sparse=0.01994, seed=42, clip_value=1, verbose=0, optimizer_fn=<class 'torch.optim.adam.Adam'>, optimizer_params={'lr': 0.01}, scheduler_fn=<class 'torch.optim.lr_scheduler.StepLR'>, scheduler_params={'gamma': 0.95, 'step_size': 20}, mask_type='sparsemax', input_dim=55, output_dim=3, device_name='auto')"
      ]
     },
     "execution_count": 14,
     "metadata": {},
     "output_type": "execute_result"
    }
   ],
   "source": [
    "models[0]"
   ]
  },
  {
   "cell_type": "markdown",
   "metadata": {
    "id": "KGkKiHAldZm2"
   },
   "source": [
    "## drdrdr 모델링, 탐색"
   ]
  },
  {
   "cell_type": "code",
   "execution_count": 8,
   "metadata": {
    "id": "Ock5bFpTcWYh"
   },
   "outputs": [],
   "source": [
    "##### 파라미터 최적화 탐색 중\n",
    "# n_d, n_a == 9, 16\n",
    "# lambda_sparse == 0.0001, 0.1478, 0.01994 (9일 떄)\n",
    "# decision_step == \n",
    "##### \n",
    "n = 4\n",
    "skf = StratifiedKFold(n_splits=n, shuffle=True, random_state=42)\n",
    "folds=[]\n",
    "for train_idx, valid_idx in skf.split(train, train['credit']):\n",
    "    folds.append((train_idx, valid_idx))\n",
    "random.seed(42)\n",
    "\n",
    "max_epochs = 1000\n",
    "models={}\n",
    "def eval_tabnet(n_independent):\n",
    "  loss=0\n",
    "  for fold in range(n):\n",
    "      train_idx, valid_idx = folds[fold]\n",
    "      X_train, X_valid, y_train, y_valid = train.drop(['credit'],axis=1).iloc[train_idx].values, train.drop(['credit'],axis=1).iloc[valid_idx].values,\\\n",
    "                                          train['credit'][train_idx].values, train['credit'][valid_idx].values \n",
    "      \n",
    "      clf = TabNetClassifier(n_d=9, n_a=9,\n",
    "                        n_steps=5,\n",
    "                        gamma=1.006,\n",
    "#                         n_independent=int(n_independent),\n",
    "                        #  n_shared=int(n_shared),\n",
    "                        # momentum=0.3, \n",
    "                        # clip_value=2., \n",
    "                             \n",
    "                        lambda_sparse=0.01994,\n",
    "                        seed=42,\n",
    "                        optimizer_fn=torch.optim.Adam,\n",
    "                        optimizer_params=dict(lr=1e-2), \n",
    "                        scheduler_params = {\"gamma\": 0.95,\n",
    "                          \"step_size\": 20},\n",
    "                        scheduler_fn=torch.optim.lr_scheduler.StepLR, epsilon=1e-15,\n",
    "                        device_name = 'auto',\n",
    "                        verbose=0)\n",
    "      \n",
    "      clf.fit(\n",
    "          X_train=X_train, y_train=y_train,\n",
    "          eval_set=[(X_valid, y_valid)],\n",
    "      #     eval_name=None,\n",
    "          eval_metric=['logloss'],\n",
    "      #     loss_fn=None,\n",
    "          max_epochs=max_epochs ,\n",
    "          patience=50, # please be patient ^^\n",
    "          batch_size=1024,\n",
    "          virtual_batch_size=256,\n",
    "          num_workers=1,\n",
    "          )\n",
    "      models[fold] = clf\n",
    "      # y_pred = clf.predict_proba(X_valid.values)\n",
    "      y_pred = clf.predict_proba(X_valid)\n",
    "      loss += log_loss(y_valid,y_pred)\n",
    "  return -loss/n"
   ]
  },
  {
   "cell_type": "markdown",
   "metadata": {
    "id": "jua7j6nvBCbX"
   },
   "source": [
    "n_d9일떄 gamma찾는 중"
   ]
  },
  {
   "cell_type": "code",
   "execution_count": null,
   "metadata": {
    "colab": {
     "base_uri": "https://localhost:8080/"
    },
    "id": "JDR79LVKnxTa",
    "outputId": "58652361-7fc1-4945-a760-9b9f133a5567"
   },
   "outputs": [
    {
     "name": "stdout",
     "output_type": "stream",
     "text": [
      "|   iter    |  target   | n_inde... |\n",
      "-------------------------------------\n",
      "\n",
      "Early stopping occurred at epoch 168 with best_epoch = 118 and best_val_0_logloss = 0.80698\n",
      "Best weights from best epoch are automatically used!\n",
      "\n",
      "Early stopping occurred at epoch 168 with best_epoch = 118 and best_val_0_logloss = 0.80577\n",
      "Best weights from best epoch are automatically used!\n",
      "\n",
      "Early stopping occurred at epoch 107 with best_epoch = 57 and best_val_0_logloss = 0.81582\n",
      "Best weights from best epoch are automatically used!\n",
      "\n",
      "Early stopping occurred at epoch 328 with best_epoch = 278 and best_val_0_logloss = 0.80272\n",
      "Best weights from best epoch are automatically used!\n",
      "| \u001b[0m 1       \u001b[0m | \u001b[0m-0.8078  \u001b[0m | \u001b[0m 3.593   \u001b[0m |\n",
      "\n",
      "Early stopping occurred at epoch 124 with best_epoch = 74 and best_val_0_logloss = 0.81269\n",
      "Best weights from best epoch are automatically used!\n",
      "\n",
      "Early stopping occurred at epoch 122 with best_epoch = 72 and best_val_0_logloss = 0.81283\n",
      "Best weights from best epoch are automatically used!\n",
      "\n",
      "Early stopping occurred at epoch 226 with best_epoch = 176 and best_val_0_logloss = 0.81384\n",
      "Best weights from best epoch are automatically used!\n",
      "\n",
      "Early stopping occurred at epoch 119 with best_epoch = 69 and best_val_0_logloss = 0.81367\n",
      "Best weights from best epoch are automatically used!\n",
      "| \u001b[0m 2       \u001b[0m | \u001b[0m-0.8133  \u001b[0m | \u001b[0m 2.803   \u001b[0m |\n",
      "\n",
      "Early stopping occurred at epoch 174 with best_epoch = 124 and best_val_0_logloss = 0.80624\n",
      "Best weights from best epoch are automatically used!\n",
      "\n",
      "Early stopping occurred at epoch 137 with best_epoch = 87 and best_val_0_logloss = 0.80571\n",
      "Best weights from best epoch are automatically used!\n",
      "\n",
      "Early stopping occurred at epoch 199 with best_epoch = 149 and best_val_0_logloss = 0.81717\n",
      "Best weights from best epoch are automatically used!\n",
      "\n",
      "Early stopping occurred at epoch 216 with best_epoch = 166 and best_val_0_logloss = 0.8035\n",
      "Best weights from best epoch are automatically used!\n",
      "| \u001b[0m 3       \u001b[0m | \u001b[0m-0.8082  \u001b[0m | \u001b[0m 5.0     \u001b[0m |\n",
      "\n",
      "Early stopping occurred at epoch 174 with best_epoch = 124 and best_val_0_logloss = 0.80624\n",
      "Best weights from best epoch are automatically used!\n",
      "\n",
      "Early stopping occurred at epoch 137 with best_epoch = 87 and best_val_0_logloss = 0.80571\n",
      "Best weights from best epoch are automatically used!\n",
      "\n",
      "Early stopping occurred at epoch 199 with best_epoch = 149 and best_val_0_logloss = 0.81717\n",
      "Best weights from best epoch are automatically used!\n",
      "\n",
      "Early stopping occurred at epoch 216 with best_epoch = 166 and best_val_0_logloss = 0.8035\n",
      "Best weights from best epoch are automatically used!\n",
      "| \u001b[0m 4       \u001b[0m | \u001b[0m-0.8082  \u001b[0m | \u001b[0m 5.0     \u001b[0m |\n",
      "\n",
      "Early stopping occurred at epoch 174 with best_epoch = 124 and best_val_0_logloss = 0.80624\n",
      "Best weights from best epoch are automatically used!\n",
      "\n",
      "Early stopping occurred at epoch 137 with best_epoch = 87 and best_val_0_logloss = 0.80571\n",
      "Best weights from best epoch are automatically used!\n",
      "\n",
      "Early stopping occurred at epoch 199 with best_epoch = 149 and best_val_0_logloss = 0.81717\n",
      "Best weights from best epoch are automatically used!\n",
      "\n",
      "Early stopping occurred at epoch 216 with best_epoch = 166 and best_val_0_logloss = 0.8035\n",
      "Best weights from best epoch are automatically used!\n",
      "| \u001b[0m 5       \u001b[0m | \u001b[0m-0.8082  \u001b[0m | \u001b[0m 4.193   \u001b[0m |\n",
      "\n",
      "Early stopping occurred at epoch 174 with best_epoch = 124 and best_val_0_logloss = 0.80624\n",
      "Best weights from best epoch are automatically used!\n",
      "\n",
      "Early stopping occurred at epoch 137 with best_epoch = 87 and best_val_0_logloss = 0.80571\n",
      "Best weights from best epoch are automatically used!\n",
      "\n",
      "Early stopping occurred at epoch 199 with best_epoch = 149 and best_val_0_logloss = 0.81717\n",
      "Best weights from best epoch are automatically used!\n",
      "\n",
      "Early stopping occurred at epoch 216 with best_epoch = 166 and best_val_0_logloss = 0.8035\n",
      "Best weights from best epoch are automatically used!\n",
      "| \u001b[0m 6       \u001b[0m | \u001b[0m-0.8082  \u001b[0m | \u001b[0m 4.277   \u001b[0m |\n",
      "\n",
      "Early stopping occurred at epoch 174 with best_epoch = 124 and best_val_0_logloss = 0.80624\n",
      "Best weights from best epoch are automatically used!\n",
      "\n",
      "Early stopping occurred at epoch 137 with best_epoch = 87 and best_val_0_logloss = 0.80571\n",
      "Best weights from best epoch are automatically used!\n",
      "\n",
      "Early stopping occurred at epoch 199 with best_epoch = 149 and best_val_0_logloss = 0.81717\n",
      "Best weights from best epoch are automatically used!\n",
      "\n",
      "Early stopping occurred at epoch 216 with best_epoch = 166 and best_val_0_logloss = 0.8035\n",
      "Best weights from best epoch are automatically used!\n",
      "| \u001b[0m 7       \u001b[0m | \u001b[0m-0.8082  \u001b[0m | \u001b[0m 5.0     \u001b[0m |\n",
      "\n",
      "Early stopping occurred at epoch 174 with best_epoch = 124 and best_val_0_logloss = 0.80624\n",
      "Best weights from best epoch are automatically used!\n",
      "\n",
      "Early stopping occurred at epoch 137 with best_epoch = 87 and best_val_0_logloss = 0.80571\n",
      "Best weights from best epoch are automatically used!\n",
      "\n",
      "Early stopping occurred at epoch 199 with best_epoch = 149 and best_val_0_logloss = 0.81717\n",
      "Best weights from best epoch are automatically used!\n",
      "\n",
      "Early stopping occurred at epoch 216 with best_epoch = 166 and best_val_0_logloss = 0.8035\n",
      "Best weights from best epoch are automatically used!\n",
      "| \u001b[0m 8       \u001b[0m | \u001b[0m-0.8082  \u001b[0m | \u001b[0m 4.303   \u001b[0m |\n",
      "\n",
      "Early stopping occurred at epoch 174 with best_epoch = 124 and best_val_0_logloss = 0.80624\n",
      "Best weights from best epoch are automatically used!\n",
      "\n",
      "Early stopping occurred at epoch 137 with best_epoch = 87 and best_val_0_logloss = 0.80571\n",
      "Best weights from best epoch are automatically used!\n",
      "\n",
      "Early stopping occurred at epoch 199 with best_epoch = 149 and best_val_0_logloss = 0.81717\n",
      "Best weights from best epoch are automatically used!\n",
      "\n",
      "Early stopping occurred at epoch 216 with best_epoch = 166 and best_val_0_logloss = 0.8035\n",
      "Best weights from best epoch are automatically used!\n",
      "| \u001b[0m 9       \u001b[0m | \u001b[0m-0.8082  \u001b[0m | \u001b[0m 4.348   \u001b[0m |\n",
      "\n",
      "Early stopping occurred at epoch 174 with best_epoch = 124 and best_val_0_logloss = 0.80624\n",
      "Best weights from best epoch are automatically used!\n",
      "\n",
      "Early stopping occurred at epoch 137 with best_epoch = 87 and best_val_0_logloss = 0.80571\n",
      "Best weights from best epoch are automatically used!\n",
      "\n",
      "Early stopping occurred at epoch 199 with best_epoch = 149 and best_val_0_logloss = 0.81717\n",
      "Best weights from best epoch are automatically used!\n"
     ]
    }
   ],
   "source": [
    "lgbBO = BayesianOptimization(eval_tabnet, {'n_independent': (1,5),\n",
    "                                        # 'n_d': (9,16)\n",
    "                                        # 'min_data_in_leaf': (100, 2000),\n",
    "                                        \n",
    "                                          })\n",
    "lgbBO.maximize(n_iter=20, init_points=2)"
   ]
  },
  {
   "cell_type": "code",
   "execution_count": 15,
   "metadata": {
    "colab": {
     "base_uri": "https://localhost:8080/",
     "height": 394
    },
    "execution": {
     "iopub.execute_input": "2021-05-20T02:03:17.823537Z",
     "iopub.status.busy": "2021-05-20T02:03:17.823135Z",
     "iopub.status.idle": "2021-05-20T02:03:17.879327Z",
     "shell.execute_reply": "2021-05-20T02:03:17.876766Z",
     "shell.execute_reply.started": "2021-05-20T02:03:17.823504Z"
    },
    "id": "CBUszx1ohYRo",
    "outputId": "5f8201c2-27d0-4973-d837-3d814a464a25"
   },
   "outputs": [
    {
     "name": "stdout",
     "output_type": "stream",
     "text": [
      "6 번째\n"
     ]
    },
    {
     "ename": "KeyboardInterrupt",
     "evalue": "ignored",
     "output_type": "error",
     "traceback": [
      "\u001b[0;31m---------------------------------------------------------------------------\u001b[0m",
      "\u001b[0;31mKeyboardInterrupt\u001b[0m                         Traceback (most recent call last)",
      "\u001b[0;32m<ipython-input-15-0767c8eba79b>\u001b[0m in \u001b[0;36m<module>\u001b[0;34m()\u001b[0m\n\u001b[1;32m     32\u001b[0m         \u001b[0mbatch_size\u001b[0m\u001b[0;34m=\u001b[0m\u001b[0;36m1024\u001b[0m\u001b[0;34m,\u001b[0m\u001b[0;34m\u001b[0m\u001b[0;34m\u001b[0m\u001b[0m\n\u001b[1;32m     33\u001b[0m         \u001b[0mvirtual_batch_size\u001b[0m\u001b[0;34m=\u001b[0m\u001b[0;36m256\u001b[0m\u001b[0;34m,\u001b[0m\u001b[0;34m\u001b[0m\u001b[0;34m\u001b[0m\u001b[0m\n\u001b[0;32m---> 34\u001b[0;31m         num_workers=1)\n\u001b[0m\u001b[1;32m     35\u001b[0m   \u001b[0mmodels\u001b[0m\u001b[0;34m[\u001b[0m\u001b[0mfold\u001b[0m\u001b[0;34m]\u001b[0m \u001b[0;34m=\u001b[0m \u001b[0mclf\u001b[0m\u001b[0;34m\u001b[0m\u001b[0;34m\u001b[0m\u001b[0m\n",
      "\u001b[0;32m/usr/local/lib/python3.7/dist-packages/pytorch_tabnet/abstract_model.py\u001b[0m in \u001b[0;36mfit\u001b[0;34m(self, X_train, y_train, eval_set, eval_name, eval_metric, loss_fn, weights, max_epochs, patience, batch_size, virtual_batch_size, num_workers, drop_last, callbacks, pin_memory, from_unsupervised)\u001b[0m\n\u001b[1;32m    221\u001b[0m             \u001b[0mself\u001b[0m\u001b[0;34m.\u001b[0m\u001b[0m_callback_container\u001b[0m\u001b[0;34m.\u001b[0m\u001b[0mon_epoch_begin\u001b[0m\u001b[0;34m(\u001b[0m\u001b[0mepoch_idx\u001b[0m\u001b[0;34m)\u001b[0m\u001b[0;34m\u001b[0m\u001b[0;34m\u001b[0m\u001b[0m\n\u001b[1;32m    222\u001b[0m \u001b[0;34m\u001b[0m\u001b[0m\n\u001b[0;32m--> 223\u001b[0;31m             \u001b[0mself\u001b[0m\u001b[0;34m.\u001b[0m\u001b[0m_train_epoch\u001b[0m\u001b[0;34m(\u001b[0m\u001b[0mtrain_dataloader\u001b[0m\u001b[0;34m)\u001b[0m\u001b[0;34m\u001b[0m\u001b[0;34m\u001b[0m\u001b[0m\n\u001b[0m\u001b[1;32m    224\u001b[0m \u001b[0;34m\u001b[0m\u001b[0m\n\u001b[1;32m    225\u001b[0m             \u001b[0;31m# Apply predict epoch to all eval sets\u001b[0m\u001b[0;34m\u001b[0m\u001b[0;34m\u001b[0m\u001b[0;34m\u001b[0m\u001b[0m\n",
      "\u001b[0;32m/usr/local/lib/python3.7/dist-packages/pytorch_tabnet/abstract_model.py\u001b[0m in \u001b[0;36m_train_epoch\u001b[0;34m(self, train_loader)\u001b[0m\n\u001b[1;32m    432\u001b[0m             \u001b[0mself\u001b[0m\u001b[0;34m.\u001b[0m\u001b[0m_callback_container\u001b[0m\u001b[0;34m.\u001b[0m\u001b[0mon_batch_begin\u001b[0m\u001b[0;34m(\u001b[0m\u001b[0mbatch_idx\u001b[0m\u001b[0;34m)\u001b[0m\u001b[0;34m\u001b[0m\u001b[0;34m\u001b[0m\u001b[0m\n\u001b[1;32m    433\u001b[0m \u001b[0;34m\u001b[0m\u001b[0m\n\u001b[0;32m--> 434\u001b[0;31m             \u001b[0mbatch_logs\u001b[0m \u001b[0;34m=\u001b[0m \u001b[0mself\u001b[0m\u001b[0;34m.\u001b[0m\u001b[0m_train_batch\u001b[0m\u001b[0;34m(\u001b[0m\u001b[0mX\u001b[0m\u001b[0;34m,\u001b[0m \u001b[0my\u001b[0m\u001b[0;34m)\u001b[0m\u001b[0;34m\u001b[0m\u001b[0;34m\u001b[0m\u001b[0m\n\u001b[0m\u001b[1;32m    435\u001b[0m \u001b[0;34m\u001b[0m\u001b[0m\n\u001b[1;32m    436\u001b[0m             \u001b[0mself\u001b[0m\u001b[0;34m.\u001b[0m\u001b[0m_callback_container\u001b[0m\u001b[0;34m.\u001b[0m\u001b[0mon_batch_end\u001b[0m\u001b[0;34m(\u001b[0m\u001b[0mbatch_idx\u001b[0m\u001b[0;34m,\u001b[0m \u001b[0mbatch_logs\u001b[0m\u001b[0;34m)\u001b[0m\u001b[0;34m\u001b[0m\u001b[0;34m\u001b[0m\u001b[0m\n",
      "\u001b[0;32m/usr/local/lib/python3.7/dist-packages/pytorch_tabnet/abstract_model.py\u001b[0m in \u001b[0;36m_train_batch\u001b[0;34m(self, X, y)\u001b[0m\n\u001b[1;32m    467\u001b[0m             \u001b[0mparam\u001b[0m\u001b[0;34m.\u001b[0m\u001b[0mgrad\u001b[0m \u001b[0;34m=\u001b[0m \u001b[0;32mNone\u001b[0m\u001b[0;34m\u001b[0m\u001b[0;34m\u001b[0m\u001b[0m\n\u001b[1;32m    468\u001b[0m \u001b[0;34m\u001b[0m\u001b[0m\n\u001b[0;32m--> 469\u001b[0;31m         \u001b[0moutput\u001b[0m\u001b[0;34m,\u001b[0m \u001b[0mM_loss\u001b[0m \u001b[0;34m=\u001b[0m \u001b[0mself\u001b[0m\u001b[0;34m.\u001b[0m\u001b[0mnetwork\u001b[0m\u001b[0;34m(\u001b[0m\u001b[0mX\u001b[0m\u001b[0;34m)\u001b[0m\u001b[0;34m\u001b[0m\u001b[0;34m\u001b[0m\u001b[0m\n\u001b[0m\u001b[1;32m    470\u001b[0m \u001b[0;34m\u001b[0m\u001b[0m\n\u001b[1;32m    471\u001b[0m         \u001b[0mloss\u001b[0m \u001b[0;34m=\u001b[0m \u001b[0mself\u001b[0m\u001b[0;34m.\u001b[0m\u001b[0mcompute_loss\u001b[0m\u001b[0;34m(\u001b[0m\u001b[0moutput\u001b[0m\u001b[0;34m,\u001b[0m \u001b[0my\u001b[0m\u001b[0;34m)\u001b[0m\u001b[0;34m\u001b[0m\u001b[0;34m\u001b[0m\u001b[0m\n",
      "\u001b[0;32m/usr/local/lib/python3.7/dist-packages/torch/nn/modules/module.py\u001b[0m in \u001b[0;36m_call_impl\u001b[0;34m(self, *input, **kwargs)\u001b[0m\n\u001b[1;32m    887\u001b[0m             \u001b[0mresult\u001b[0m \u001b[0;34m=\u001b[0m \u001b[0mself\u001b[0m\u001b[0;34m.\u001b[0m\u001b[0m_slow_forward\u001b[0m\u001b[0;34m(\u001b[0m\u001b[0;34m*\u001b[0m\u001b[0minput\u001b[0m\u001b[0;34m,\u001b[0m \u001b[0;34m**\u001b[0m\u001b[0mkwargs\u001b[0m\u001b[0;34m)\u001b[0m\u001b[0;34m\u001b[0m\u001b[0;34m\u001b[0m\u001b[0m\n\u001b[1;32m    888\u001b[0m         \u001b[0;32melse\u001b[0m\u001b[0;34m:\u001b[0m\u001b[0;34m\u001b[0m\u001b[0;34m\u001b[0m\u001b[0m\n\u001b[0;32m--> 889\u001b[0;31m             \u001b[0mresult\u001b[0m \u001b[0;34m=\u001b[0m \u001b[0mself\u001b[0m\u001b[0;34m.\u001b[0m\u001b[0mforward\u001b[0m\u001b[0;34m(\u001b[0m\u001b[0;34m*\u001b[0m\u001b[0minput\u001b[0m\u001b[0;34m,\u001b[0m \u001b[0;34m**\u001b[0m\u001b[0mkwargs\u001b[0m\u001b[0;34m)\u001b[0m\u001b[0;34m\u001b[0m\u001b[0;34m\u001b[0m\u001b[0m\n\u001b[0m\u001b[1;32m    890\u001b[0m         for hook in itertools.chain(\n\u001b[1;32m    891\u001b[0m                 \u001b[0m_global_forward_hooks\u001b[0m\u001b[0;34m.\u001b[0m\u001b[0mvalues\u001b[0m\u001b[0;34m(\u001b[0m\u001b[0;34m)\u001b[0m\u001b[0;34m,\u001b[0m\u001b[0;34m\u001b[0m\u001b[0;34m\u001b[0m\u001b[0m\n",
      "\u001b[0;32m/usr/local/lib/python3.7/dist-packages/pytorch_tabnet/tab_network.py\u001b[0m in \u001b[0;36mforward\u001b[0;34m(self, x)\u001b[0m\n\u001b[1;32m    581\u001b[0m     \u001b[0;32mdef\u001b[0m \u001b[0mforward\u001b[0m\u001b[0;34m(\u001b[0m\u001b[0mself\u001b[0m\u001b[0;34m,\u001b[0m \u001b[0mx\u001b[0m\u001b[0;34m)\u001b[0m\u001b[0;34m:\u001b[0m\u001b[0;34m\u001b[0m\u001b[0;34m\u001b[0m\u001b[0m\n\u001b[1;32m    582\u001b[0m         \u001b[0mx\u001b[0m \u001b[0;34m=\u001b[0m \u001b[0mself\u001b[0m\u001b[0;34m.\u001b[0m\u001b[0membedder\u001b[0m\u001b[0;34m(\u001b[0m\u001b[0mx\u001b[0m\u001b[0;34m)\u001b[0m\u001b[0;34m\u001b[0m\u001b[0;34m\u001b[0m\u001b[0m\n\u001b[0;32m--> 583\u001b[0;31m         \u001b[0;32mreturn\u001b[0m \u001b[0mself\u001b[0m\u001b[0;34m.\u001b[0m\u001b[0mtabnet\u001b[0m\u001b[0;34m(\u001b[0m\u001b[0mx\u001b[0m\u001b[0;34m)\u001b[0m\u001b[0;34m\u001b[0m\u001b[0;34m\u001b[0m\u001b[0m\n\u001b[0m\u001b[1;32m    584\u001b[0m \u001b[0;34m\u001b[0m\u001b[0m\n\u001b[1;32m    585\u001b[0m     \u001b[0;32mdef\u001b[0m \u001b[0mforward_masks\u001b[0m\u001b[0;34m(\u001b[0m\u001b[0mself\u001b[0m\u001b[0;34m,\u001b[0m \u001b[0mx\u001b[0m\u001b[0;34m)\u001b[0m\u001b[0;34m:\u001b[0m\u001b[0;34m\u001b[0m\u001b[0;34m\u001b[0m\u001b[0m\n",
      "\u001b[0;32m/usr/local/lib/python3.7/dist-packages/torch/nn/modules/module.py\u001b[0m in \u001b[0;36m_call_impl\u001b[0;34m(self, *input, **kwargs)\u001b[0m\n\u001b[1;32m    887\u001b[0m             \u001b[0mresult\u001b[0m \u001b[0;34m=\u001b[0m \u001b[0mself\u001b[0m\u001b[0;34m.\u001b[0m\u001b[0m_slow_forward\u001b[0m\u001b[0;34m(\u001b[0m\u001b[0;34m*\u001b[0m\u001b[0minput\u001b[0m\u001b[0;34m,\u001b[0m \u001b[0;34m**\u001b[0m\u001b[0mkwargs\u001b[0m\u001b[0;34m)\u001b[0m\u001b[0;34m\u001b[0m\u001b[0;34m\u001b[0m\u001b[0m\n\u001b[1;32m    888\u001b[0m         \u001b[0;32melse\u001b[0m\u001b[0;34m:\u001b[0m\u001b[0;34m\u001b[0m\u001b[0;34m\u001b[0m\u001b[0m\n\u001b[0;32m--> 889\u001b[0;31m             \u001b[0mresult\u001b[0m \u001b[0;34m=\u001b[0m \u001b[0mself\u001b[0m\u001b[0;34m.\u001b[0m\u001b[0mforward\u001b[0m\u001b[0;34m(\u001b[0m\u001b[0;34m*\u001b[0m\u001b[0minput\u001b[0m\u001b[0;34m,\u001b[0m \u001b[0;34m**\u001b[0m\u001b[0mkwargs\u001b[0m\u001b[0;34m)\u001b[0m\u001b[0;34m\u001b[0m\u001b[0;34m\u001b[0m\u001b[0m\n\u001b[0m\u001b[1;32m    890\u001b[0m         for hook in itertools.chain(\n\u001b[1;32m    891\u001b[0m                 \u001b[0m_global_forward_hooks\u001b[0m\u001b[0;34m.\u001b[0m\u001b[0mvalues\u001b[0m\u001b[0;34m(\u001b[0m\u001b[0;34m)\u001b[0m\u001b[0;34m,\u001b[0m\u001b[0;34m\u001b[0m\u001b[0;34m\u001b[0m\u001b[0m\n",
      "\u001b[0;32m/usr/local/lib/python3.7/dist-packages/pytorch_tabnet/tab_network.py\u001b[0m in \u001b[0;36mforward\u001b[0;34m(self, x)\u001b[0m\n\u001b[1;32m    466\u001b[0m     \u001b[0;32mdef\u001b[0m \u001b[0mforward\u001b[0m\u001b[0;34m(\u001b[0m\u001b[0mself\u001b[0m\u001b[0;34m,\u001b[0m \u001b[0mx\u001b[0m\u001b[0;34m)\u001b[0m\u001b[0;34m:\u001b[0m\u001b[0;34m\u001b[0m\u001b[0;34m\u001b[0m\u001b[0m\n\u001b[1;32m    467\u001b[0m         \u001b[0mres\u001b[0m \u001b[0;34m=\u001b[0m \u001b[0;36m0\u001b[0m\u001b[0;34m\u001b[0m\u001b[0;34m\u001b[0m\u001b[0m\n\u001b[0;32m--> 468\u001b[0;31m         \u001b[0msteps_output\u001b[0m\u001b[0;34m,\u001b[0m \u001b[0mM_loss\u001b[0m \u001b[0;34m=\u001b[0m \u001b[0mself\u001b[0m\u001b[0;34m.\u001b[0m\u001b[0mencoder\u001b[0m\u001b[0;34m(\u001b[0m\u001b[0mx\u001b[0m\u001b[0;34m)\u001b[0m\u001b[0;34m\u001b[0m\u001b[0;34m\u001b[0m\u001b[0m\n\u001b[0m\u001b[1;32m    469\u001b[0m         \u001b[0mres\u001b[0m \u001b[0;34m=\u001b[0m \u001b[0mtorch\u001b[0m\u001b[0;34m.\u001b[0m\u001b[0msum\u001b[0m\u001b[0;34m(\u001b[0m\u001b[0mtorch\u001b[0m\u001b[0;34m.\u001b[0m\u001b[0mstack\u001b[0m\u001b[0;34m(\u001b[0m\u001b[0msteps_output\u001b[0m\u001b[0;34m,\u001b[0m \u001b[0mdim\u001b[0m\u001b[0;34m=\u001b[0m\u001b[0;36m0\u001b[0m\u001b[0;34m)\u001b[0m\u001b[0;34m,\u001b[0m \u001b[0mdim\u001b[0m\u001b[0;34m=\u001b[0m\u001b[0;36m0\u001b[0m\u001b[0;34m)\u001b[0m\u001b[0;34m\u001b[0m\u001b[0;34m\u001b[0m\u001b[0m\n\u001b[1;32m    470\u001b[0m \u001b[0;34m\u001b[0m\u001b[0m\n",
      "\u001b[0;32m/usr/local/lib/python3.7/dist-packages/torch/nn/modules/module.py\u001b[0m in \u001b[0;36m_call_impl\u001b[0;34m(self, *input, **kwargs)\u001b[0m\n\u001b[1;32m    887\u001b[0m             \u001b[0mresult\u001b[0m \u001b[0;34m=\u001b[0m \u001b[0mself\u001b[0m\u001b[0;34m.\u001b[0m\u001b[0m_slow_forward\u001b[0m\u001b[0;34m(\u001b[0m\u001b[0;34m*\u001b[0m\u001b[0minput\u001b[0m\u001b[0;34m,\u001b[0m \u001b[0;34m**\u001b[0m\u001b[0mkwargs\u001b[0m\u001b[0;34m)\u001b[0m\u001b[0;34m\u001b[0m\u001b[0;34m\u001b[0m\u001b[0m\n\u001b[1;32m    888\u001b[0m         \u001b[0;32melse\u001b[0m\u001b[0;34m:\u001b[0m\u001b[0;34m\u001b[0m\u001b[0;34m\u001b[0m\u001b[0m\n\u001b[0;32m--> 889\u001b[0;31m             \u001b[0mresult\u001b[0m \u001b[0;34m=\u001b[0m \u001b[0mself\u001b[0m\u001b[0;34m.\u001b[0m\u001b[0mforward\u001b[0m\u001b[0;34m(\u001b[0m\u001b[0;34m*\u001b[0m\u001b[0minput\u001b[0m\u001b[0;34m,\u001b[0m \u001b[0;34m**\u001b[0m\u001b[0mkwargs\u001b[0m\u001b[0;34m)\u001b[0m\u001b[0;34m\u001b[0m\u001b[0;34m\u001b[0m\u001b[0m\n\u001b[0m\u001b[1;32m    890\u001b[0m         for hook in itertools.chain(\n\u001b[1;32m    891\u001b[0m                 \u001b[0m_global_forward_hooks\u001b[0m\u001b[0;34m.\u001b[0m\u001b[0mvalues\u001b[0m\u001b[0;34m(\u001b[0m\u001b[0;34m)\u001b[0m\u001b[0;34m,\u001b[0m\u001b[0;34m\u001b[0m\u001b[0;34m\u001b[0m\u001b[0m\n",
      "\u001b[0;32m/usr/local/lib/python3.7/dist-packages/pytorch_tabnet/tab_network.py\u001b[0m in \u001b[0;36mforward\u001b[0;34m(self, x, prior)\u001b[0m\n\u001b[1;32m    166\u001b[0m             \u001b[0;31m# output\u001b[0m\u001b[0;34m\u001b[0m\u001b[0;34m\u001b[0m\u001b[0;34m\u001b[0m\u001b[0m\n\u001b[1;32m    167\u001b[0m             \u001b[0mmasked_x\u001b[0m \u001b[0;34m=\u001b[0m \u001b[0mtorch\u001b[0m\u001b[0;34m.\u001b[0m\u001b[0mmul\u001b[0m\u001b[0;34m(\u001b[0m\u001b[0mM\u001b[0m\u001b[0;34m,\u001b[0m \u001b[0mx\u001b[0m\u001b[0;34m)\u001b[0m\u001b[0;34m\u001b[0m\u001b[0;34m\u001b[0m\u001b[0m\n\u001b[0;32m--> 168\u001b[0;31m             \u001b[0mout\u001b[0m \u001b[0;34m=\u001b[0m \u001b[0mself\u001b[0m\u001b[0;34m.\u001b[0m\u001b[0mfeat_transformers\u001b[0m\u001b[0;34m[\u001b[0m\u001b[0mstep\u001b[0m\u001b[0;34m]\u001b[0m\u001b[0;34m(\u001b[0m\u001b[0mmasked_x\u001b[0m\u001b[0;34m)\u001b[0m\u001b[0;34m\u001b[0m\u001b[0;34m\u001b[0m\u001b[0m\n\u001b[0m\u001b[1;32m    169\u001b[0m             \u001b[0md\u001b[0m \u001b[0;34m=\u001b[0m \u001b[0mReLU\u001b[0m\u001b[0;34m(\u001b[0m\u001b[0;34m)\u001b[0m\u001b[0;34m(\u001b[0m\u001b[0mout\u001b[0m\u001b[0;34m[\u001b[0m\u001b[0;34m:\u001b[0m\u001b[0;34m,\u001b[0m \u001b[0;34m:\u001b[0m \u001b[0mself\u001b[0m\u001b[0;34m.\u001b[0m\u001b[0mn_d\u001b[0m\u001b[0;34m]\u001b[0m\u001b[0;34m)\u001b[0m\u001b[0;34m\u001b[0m\u001b[0;34m\u001b[0m\u001b[0m\n\u001b[1;32m    170\u001b[0m             \u001b[0msteps_output\u001b[0m\u001b[0;34m.\u001b[0m\u001b[0mappend\u001b[0m\u001b[0;34m(\u001b[0m\u001b[0md\u001b[0m\u001b[0;34m)\u001b[0m\u001b[0;34m\u001b[0m\u001b[0;34m\u001b[0m\u001b[0m\n",
      "\u001b[0;32m/usr/local/lib/python3.7/dist-packages/torch/nn/modules/module.py\u001b[0m in \u001b[0;36m_call_impl\u001b[0;34m(self, *input, **kwargs)\u001b[0m\n\u001b[1;32m    887\u001b[0m             \u001b[0mresult\u001b[0m \u001b[0;34m=\u001b[0m \u001b[0mself\u001b[0m\u001b[0;34m.\u001b[0m\u001b[0m_slow_forward\u001b[0m\u001b[0;34m(\u001b[0m\u001b[0;34m*\u001b[0m\u001b[0minput\u001b[0m\u001b[0;34m,\u001b[0m \u001b[0;34m**\u001b[0m\u001b[0mkwargs\u001b[0m\u001b[0;34m)\u001b[0m\u001b[0;34m\u001b[0m\u001b[0;34m\u001b[0m\u001b[0m\n\u001b[1;32m    888\u001b[0m         \u001b[0;32melse\u001b[0m\u001b[0;34m:\u001b[0m\u001b[0;34m\u001b[0m\u001b[0;34m\u001b[0m\u001b[0m\n\u001b[0;32m--> 889\u001b[0;31m             \u001b[0mresult\u001b[0m \u001b[0;34m=\u001b[0m \u001b[0mself\u001b[0m\u001b[0;34m.\u001b[0m\u001b[0mforward\u001b[0m\u001b[0;34m(\u001b[0m\u001b[0;34m*\u001b[0m\u001b[0minput\u001b[0m\u001b[0;34m,\u001b[0m \u001b[0;34m**\u001b[0m\u001b[0mkwargs\u001b[0m\u001b[0;34m)\u001b[0m\u001b[0;34m\u001b[0m\u001b[0;34m\u001b[0m\u001b[0m\n\u001b[0m\u001b[1;32m    890\u001b[0m         for hook in itertools.chain(\n\u001b[1;32m    891\u001b[0m                 \u001b[0m_global_forward_hooks\u001b[0m\u001b[0;34m.\u001b[0m\u001b[0mvalues\u001b[0m\u001b[0;34m(\u001b[0m\u001b[0;34m)\u001b[0m\u001b[0;34m,\u001b[0m\u001b[0;34m\u001b[0m\u001b[0;34m\u001b[0m\u001b[0m\n",
      "\u001b[0;32m/usr/local/lib/python3.7/dist-packages/pytorch_tabnet/tab_network.py\u001b[0m in \u001b[0;36mforward\u001b[0;34m(self, x)\u001b[0m\n\u001b[1;32m    701\u001b[0m \u001b[0;34m\u001b[0m\u001b[0m\n\u001b[1;32m    702\u001b[0m     \u001b[0;32mdef\u001b[0m \u001b[0mforward\u001b[0m\u001b[0;34m(\u001b[0m\u001b[0mself\u001b[0m\u001b[0;34m,\u001b[0m \u001b[0mx\u001b[0m\u001b[0;34m)\u001b[0m\u001b[0;34m:\u001b[0m\u001b[0;34m\u001b[0m\u001b[0;34m\u001b[0m\u001b[0m\n\u001b[0;32m--> 703\u001b[0;31m         \u001b[0mx\u001b[0m \u001b[0;34m=\u001b[0m \u001b[0mself\u001b[0m\u001b[0;34m.\u001b[0m\u001b[0mshared\u001b[0m\u001b[0;34m(\u001b[0m\u001b[0mx\u001b[0m\u001b[0;34m)\u001b[0m\u001b[0;34m\u001b[0m\u001b[0;34m\u001b[0m\u001b[0m\n\u001b[0m\u001b[1;32m    704\u001b[0m         \u001b[0mx\u001b[0m \u001b[0;34m=\u001b[0m \u001b[0mself\u001b[0m\u001b[0;34m.\u001b[0m\u001b[0mspecifics\u001b[0m\u001b[0;34m(\u001b[0m\u001b[0mx\u001b[0m\u001b[0;34m)\u001b[0m\u001b[0;34m\u001b[0m\u001b[0;34m\u001b[0m\u001b[0m\n\u001b[1;32m    705\u001b[0m         \u001b[0;32mreturn\u001b[0m \u001b[0mx\u001b[0m\u001b[0;34m\u001b[0m\u001b[0;34m\u001b[0m\u001b[0m\n",
      "\u001b[0;32m/usr/local/lib/python3.7/dist-packages/torch/nn/modules/module.py\u001b[0m in \u001b[0;36m_call_impl\u001b[0;34m(self, *input, **kwargs)\u001b[0m\n\u001b[1;32m    887\u001b[0m             \u001b[0mresult\u001b[0m \u001b[0;34m=\u001b[0m \u001b[0mself\u001b[0m\u001b[0;34m.\u001b[0m\u001b[0m_slow_forward\u001b[0m\u001b[0;34m(\u001b[0m\u001b[0;34m*\u001b[0m\u001b[0minput\u001b[0m\u001b[0;34m,\u001b[0m \u001b[0;34m**\u001b[0m\u001b[0mkwargs\u001b[0m\u001b[0;34m)\u001b[0m\u001b[0;34m\u001b[0m\u001b[0;34m\u001b[0m\u001b[0m\n\u001b[1;32m    888\u001b[0m         \u001b[0;32melse\u001b[0m\u001b[0;34m:\u001b[0m\u001b[0;34m\u001b[0m\u001b[0;34m\u001b[0m\u001b[0m\n\u001b[0;32m--> 889\u001b[0;31m             \u001b[0mresult\u001b[0m \u001b[0;34m=\u001b[0m \u001b[0mself\u001b[0m\u001b[0;34m.\u001b[0m\u001b[0mforward\u001b[0m\u001b[0;34m(\u001b[0m\u001b[0;34m*\u001b[0m\u001b[0minput\u001b[0m\u001b[0;34m,\u001b[0m \u001b[0;34m**\u001b[0m\u001b[0mkwargs\u001b[0m\u001b[0;34m)\u001b[0m\u001b[0;34m\u001b[0m\u001b[0;34m\u001b[0m\u001b[0m\n\u001b[0m\u001b[1;32m    890\u001b[0m         for hook in itertools.chain(\n\u001b[1;32m    891\u001b[0m                 \u001b[0m_global_forward_hooks\u001b[0m\u001b[0;34m.\u001b[0m\u001b[0mvalues\u001b[0m\u001b[0;34m(\u001b[0m\u001b[0;34m)\u001b[0m\u001b[0;34m,\u001b[0m\u001b[0;34m\u001b[0m\u001b[0;34m\u001b[0m\u001b[0m\n",
      "\u001b[0;32m/usr/local/lib/python3.7/dist-packages/pytorch_tabnet/tab_network.py\u001b[0m in \u001b[0;36mforward\u001b[0;34m(self, x)\u001b[0m\n\u001b[1;32m    744\u001b[0m \u001b[0;34m\u001b[0m\u001b[0m\n\u001b[1;32m    745\u001b[0m         \u001b[0;32mfor\u001b[0m \u001b[0mglu_id\u001b[0m \u001b[0;32min\u001b[0m \u001b[0mlayers_left\u001b[0m\u001b[0;34m:\u001b[0m\u001b[0;34m\u001b[0m\u001b[0;34m\u001b[0m\u001b[0m\n\u001b[0;32m--> 746\u001b[0;31m             \u001b[0mx\u001b[0m \u001b[0;34m=\u001b[0m \u001b[0mtorch\u001b[0m\u001b[0;34m.\u001b[0m\u001b[0madd\u001b[0m\u001b[0;34m(\u001b[0m\u001b[0mx\u001b[0m\u001b[0;34m,\u001b[0m \u001b[0mself\u001b[0m\u001b[0;34m.\u001b[0m\u001b[0mglu_layers\u001b[0m\u001b[0;34m[\u001b[0m\u001b[0mglu_id\u001b[0m\u001b[0;34m]\u001b[0m\u001b[0;34m(\u001b[0m\u001b[0mx\u001b[0m\u001b[0;34m)\u001b[0m\u001b[0;34m)\u001b[0m\u001b[0;34m\u001b[0m\u001b[0;34m\u001b[0m\u001b[0m\n\u001b[0m\u001b[1;32m    747\u001b[0m             \u001b[0mx\u001b[0m \u001b[0;34m=\u001b[0m \u001b[0mx\u001b[0m \u001b[0;34m*\u001b[0m \u001b[0mscale\u001b[0m\u001b[0;34m\u001b[0m\u001b[0;34m\u001b[0m\u001b[0m\n\u001b[1;32m    748\u001b[0m         \u001b[0;32mreturn\u001b[0m \u001b[0mx\u001b[0m\u001b[0;34m\u001b[0m\u001b[0;34m\u001b[0m\u001b[0m\n",
      "\u001b[0;32m/usr/local/lib/python3.7/dist-packages/torch/nn/modules/module.py\u001b[0m in \u001b[0;36m_call_impl\u001b[0;34m(self, *input, **kwargs)\u001b[0m\n\u001b[1;32m    887\u001b[0m             \u001b[0mresult\u001b[0m \u001b[0;34m=\u001b[0m \u001b[0mself\u001b[0m\u001b[0;34m.\u001b[0m\u001b[0m_slow_forward\u001b[0m\u001b[0;34m(\u001b[0m\u001b[0;34m*\u001b[0m\u001b[0minput\u001b[0m\u001b[0;34m,\u001b[0m \u001b[0;34m**\u001b[0m\u001b[0mkwargs\u001b[0m\u001b[0;34m)\u001b[0m\u001b[0;34m\u001b[0m\u001b[0;34m\u001b[0m\u001b[0m\n\u001b[1;32m    888\u001b[0m         \u001b[0;32melse\u001b[0m\u001b[0;34m:\u001b[0m\u001b[0;34m\u001b[0m\u001b[0;34m\u001b[0m\u001b[0m\n\u001b[0;32m--> 889\u001b[0;31m             \u001b[0mresult\u001b[0m \u001b[0;34m=\u001b[0m \u001b[0mself\u001b[0m\u001b[0;34m.\u001b[0m\u001b[0mforward\u001b[0m\u001b[0;34m(\u001b[0m\u001b[0;34m*\u001b[0m\u001b[0minput\u001b[0m\u001b[0;34m,\u001b[0m \u001b[0;34m**\u001b[0m\u001b[0mkwargs\u001b[0m\u001b[0;34m)\u001b[0m\u001b[0;34m\u001b[0m\u001b[0;34m\u001b[0m\u001b[0m\n\u001b[0m\u001b[1;32m    890\u001b[0m         for hook in itertools.chain(\n\u001b[1;32m    891\u001b[0m                 \u001b[0m_global_forward_hooks\u001b[0m\u001b[0;34m.\u001b[0m\u001b[0mvalues\u001b[0m\u001b[0;34m(\u001b[0m\u001b[0;34m)\u001b[0m\u001b[0;34m,\u001b[0m\u001b[0;34m\u001b[0m\u001b[0;34m\u001b[0m\u001b[0m\n",
      "\u001b[0;32m/usr/local/lib/python3.7/dist-packages/pytorch_tabnet/tab_network.py\u001b[0m in \u001b[0;36mforward\u001b[0;34m(self, x)\u001b[0m\n\u001b[1;32m    768\u001b[0m     \u001b[0;32mdef\u001b[0m \u001b[0mforward\u001b[0m\u001b[0;34m(\u001b[0m\u001b[0mself\u001b[0m\u001b[0;34m,\u001b[0m \u001b[0mx\u001b[0m\u001b[0;34m)\u001b[0m\u001b[0;34m:\u001b[0m\u001b[0;34m\u001b[0m\u001b[0;34m\u001b[0m\u001b[0m\n\u001b[1;32m    769\u001b[0m         \u001b[0mx\u001b[0m \u001b[0;34m=\u001b[0m \u001b[0mself\u001b[0m\u001b[0;34m.\u001b[0m\u001b[0mfc\u001b[0m\u001b[0;34m(\u001b[0m\u001b[0mx\u001b[0m\u001b[0;34m)\u001b[0m\u001b[0;34m\u001b[0m\u001b[0;34m\u001b[0m\u001b[0m\n\u001b[0;32m--> 770\u001b[0;31m         \u001b[0mx\u001b[0m \u001b[0;34m=\u001b[0m \u001b[0mself\u001b[0m\u001b[0;34m.\u001b[0m\u001b[0mbn\u001b[0m\u001b[0;34m(\u001b[0m\u001b[0mx\u001b[0m\u001b[0;34m)\u001b[0m\u001b[0;34m\u001b[0m\u001b[0;34m\u001b[0m\u001b[0m\n\u001b[0m\u001b[1;32m    771\u001b[0m         \u001b[0mout\u001b[0m \u001b[0;34m=\u001b[0m \u001b[0mtorch\u001b[0m\u001b[0;34m.\u001b[0m\u001b[0mmul\u001b[0m\u001b[0;34m(\u001b[0m\u001b[0mx\u001b[0m\u001b[0;34m[\u001b[0m\u001b[0;34m:\u001b[0m\u001b[0;34m,\u001b[0m \u001b[0;34m:\u001b[0m \u001b[0mself\u001b[0m\u001b[0;34m.\u001b[0m\u001b[0moutput_dim\u001b[0m\u001b[0;34m]\u001b[0m\u001b[0;34m,\u001b[0m \u001b[0mtorch\u001b[0m\u001b[0;34m.\u001b[0m\u001b[0msigmoid\u001b[0m\u001b[0;34m(\u001b[0m\u001b[0mx\u001b[0m\u001b[0;34m[\u001b[0m\u001b[0;34m:\u001b[0m\u001b[0;34m,\u001b[0m \u001b[0mself\u001b[0m\u001b[0;34m.\u001b[0m\u001b[0moutput_dim\u001b[0m \u001b[0;34m:\u001b[0m\u001b[0;34m]\u001b[0m\u001b[0;34m)\u001b[0m\u001b[0;34m)\u001b[0m\u001b[0;34m\u001b[0m\u001b[0;34m\u001b[0m\u001b[0m\n\u001b[1;32m    772\u001b[0m         \u001b[0;32mreturn\u001b[0m \u001b[0mout\u001b[0m\u001b[0;34m\u001b[0m\u001b[0;34m\u001b[0m\u001b[0m\n",
      "\u001b[0;32m/usr/local/lib/python3.7/dist-packages/torch/nn/modules/module.py\u001b[0m in \u001b[0;36m_call_impl\u001b[0;34m(self, *input, **kwargs)\u001b[0m\n\u001b[1;32m    887\u001b[0m             \u001b[0mresult\u001b[0m \u001b[0;34m=\u001b[0m \u001b[0mself\u001b[0m\u001b[0;34m.\u001b[0m\u001b[0m_slow_forward\u001b[0m\u001b[0;34m(\u001b[0m\u001b[0;34m*\u001b[0m\u001b[0minput\u001b[0m\u001b[0;34m,\u001b[0m \u001b[0;34m**\u001b[0m\u001b[0mkwargs\u001b[0m\u001b[0;34m)\u001b[0m\u001b[0;34m\u001b[0m\u001b[0;34m\u001b[0m\u001b[0m\n\u001b[1;32m    888\u001b[0m         \u001b[0;32melse\u001b[0m\u001b[0;34m:\u001b[0m\u001b[0;34m\u001b[0m\u001b[0;34m\u001b[0m\u001b[0m\n\u001b[0;32m--> 889\u001b[0;31m             \u001b[0mresult\u001b[0m \u001b[0;34m=\u001b[0m \u001b[0mself\u001b[0m\u001b[0;34m.\u001b[0m\u001b[0mforward\u001b[0m\u001b[0;34m(\u001b[0m\u001b[0;34m*\u001b[0m\u001b[0minput\u001b[0m\u001b[0;34m,\u001b[0m \u001b[0;34m**\u001b[0m\u001b[0mkwargs\u001b[0m\u001b[0;34m)\u001b[0m\u001b[0;34m\u001b[0m\u001b[0;34m\u001b[0m\u001b[0m\n\u001b[0m\u001b[1;32m    890\u001b[0m         for hook in itertools.chain(\n\u001b[1;32m    891\u001b[0m                 \u001b[0m_global_forward_hooks\u001b[0m\u001b[0;34m.\u001b[0m\u001b[0mvalues\u001b[0m\u001b[0;34m(\u001b[0m\u001b[0;34m)\u001b[0m\u001b[0;34m,\u001b[0m\u001b[0;34m\u001b[0m\u001b[0;34m\u001b[0m\u001b[0m\n",
      "\u001b[0;32m/usr/local/lib/python3.7/dist-packages/pytorch_tabnet/tab_network.py\u001b[0m in \u001b[0;36mforward\u001b[0;34m(self, x)\u001b[0m\n\u001b[1;32m     36\u001b[0m         \u001b[0mres\u001b[0m \u001b[0;34m=\u001b[0m \u001b[0;34m[\u001b[0m\u001b[0mself\u001b[0m\u001b[0;34m.\u001b[0m\u001b[0mbn\u001b[0m\u001b[0;34m(\u001b[0m\u001b[0mx_\u001b[0m\u001b[0;34m)\u001b[0m \u001b[0;32mfor\u001b[0m \u001b[0mx_\u001b[0m \u001b[0;32min\u001b[0m \u001b[0mchunks\u001b[0m\u001b[0;34m]\u001b[0m\u001b[0;34m\u001b[0m\u001b[0;34m\u001b[0m\u001b[0m\n\u001b[1;32m     37\u001b[0m \u001b[0;34m\u001b[0m\u001b[0m\n\u001b[0;32m---> 38\u001b[0;31m         \u001b[0;32mreturn\u001b[0m \u001b[0mtorch\u001b[0m\u001b[0;34m.\u001b[0m\u001b[0mcat\u001b[0m\u001b[0;34m(\u001b[0m\u001b[0mres\u001b[0m\u001b[0;34m,\u001b[0m \u001b[0mdim\u001b[0m\u001b[0;34m=\u001b[0m\u001b[0;36m0\u001b[0m\u001b[0;34m)\u001b[0m\u001b[0;34m\u001b[0m\u001b[0;34m\u001b[0m\u001b[0m\n\u001b[0m\u001b[1;32m     39\u001b[0m \u001b[0;34m\u001b[0m\u001b[0m\n\u001b[1;32m     40\u001b[0m \u001b[0;34m\u001b[0m\u001b[0m\n",
      "\u001b[0;31mKeyboardInterrupt\u001b[0m: "
     ]
    }
   ],
   "source": [
    "models={}\n",
    "for fold in range(n):\n",
    "  print(n+1,'번째')\n",
    "  train_idx, valid_idx = folds[fold]\n",
    "  X_train, X_valid, y_train, y_valid = train.drop(['credit'],axis=1).iloc[train_idx].values, train.drop(['credit'],axis=1).iloc[valid_idx].values,\\\n",
    "                                      train['credit'][train_idx].values, train['credit'][valid_idx].values \n",
    "  \n",
    "  clf = TabNetClassifier(n_d=int(9), n_a=int(9),\n",
    "                    # n_steps=3,\n",
    "                    # gamma=1.0,# n_independent=2, n_shared=2,\n",
    "                    # lambda_sparse=1e-4,\n",
    "                    cat_idxs=cat_idxs,\n",
    "                      cat_dims=cat_dims,\n",
    "                      cat_emb_dim=1,\n",
    "                    seed=42,\n",
    "                    # momentum=0.3, \n",
    "                    # clip_value=2., \n",
    "                    optimizer_fn=torch.optim.Adam,\n",
    "                    optimizer_params=dict(lr=1e-2), \n",
    "                    scheduler_params = {\"gamma\": 0.95,\n",
    "                      \"step_size\": 20},\n",
    "                    scheduler_fn=torch.optim.lr_scheduler.StepLR, epsilon=1e-15,\n",
    "                    device_name = 'auto',\n",
    "                    verbose=0)\n",
    "  clf.fit(\n",
    "        X_train=X_train, y_train=y_train,\n",
    "        eval_set=[(X_valid, y_valid)],\n",
    "    #     eval_name=None,\n",
    "        eval_metric=['logloss'],\n",
    "    #     loss_fn=None,\n",
    "        max_epochs=max_epochs ,\n",
    "        patience=50, # please be patient ^^\n",
    "        batch_size=1024,\n",
    "        virtual_batch_size=256,\n",
    "        num_workers=1)\n",
    "  models[fold] = clf"
   ]
  },
  {
   "cell_type": "code",
   "execution_count": 16,
   "metadata": {
    "colab": {
     "base_uri": "https://localhost:8080/"
    },
    "id": "x4IhPlwJQF3q",
    "outputId": "c854cad8-051f-4383-8773-d9a108c5a439"
   },
   "outputs": [
    {
     "name": "stdout",
     "output_type": "stream",
     "text": [
      "\n",
      "Early stopping occurred at epoch 114 with best_epoch = 64 and best_val_0_logloss = 0.87283\n",
      "Best weights from best epoch are automatically used!\n"
     ]
    }
   ],
   "source": [
    "clf = TabNetClassifier(n_d=int(9), n_a=int(9),\n",
    "                  # n_steps=3,\n",
    "                  # gamma=1.0,# n_independent=2, n_shared=2,\n",
    "                  # lambda_sparse=1e-4,\n",
    "                  cat_idxs=cat_idxs,\n",
    "                    cat_dims=cat_dims,\n",
    "                    cat_emb_dim=1,\n",
    "                  seed=42,\n",
    "                  # momentum=0.3, \n",
    "                  # clip_value=2., \n",
    "                  optimizer_fn=torch.optim.Adam,\n",
    "                  optimizer_params=dict(lr=1e-2), \n",
    "                  scheduler_params = {\"gamma\": 0.95,\n",
    "                    \"step_size\": 20},\n",
    "                  scheduler_fn=torch.optim.lr_scheduler.StepLR, epsilon=1e-15,\n",
    "                  device_name = 'auto',\n",
    "                  verbose=0)\n",
    "clf.fit(\n",
    "      X_train=X_train, y_train=y_train,\n",
    "      eval_set=[(X_valid, y_valid)],\n",
    "  #     eval_name=None,\n",
    "      eval_metric=['logloss'],\n",
    "  #     loss_fn=None,\n",
    "      max_epochs=max_epochs ,\n",
    "      patience=50, # please be patient ^^\n",
    "      batch_size=1024,\n",
    "      virtual_batch_size=256,\n",
    "      num_workers=1)"
   ]
  },
  {
   "cell_type": "code",
   "execution_count": 17,
   "metadata": {
    "colab": {
     "base_uri": "https://localhost:8080/"
    },
    "id": "3yVfa0sGQH8O",
    "outputId": "0d1a377f-d28d-4f3b-881f-8fe5e448fc18"
   },
   "outputs": [
    {
     "data": {
      "text/plain": [
       "array([[0.19809672, 0.08804115, 0.7138621 ],\n",
       "       [0.24417205, 0.07967963, 0.6761483 ],\n",
       "       [0.13098761, 0.17606707, 0.69294536],\n",
       "       ...,\n",
       "       [0.11808927, 0.12027843, 0.76163226],\n",
       "       [0.06839902, 0.15826786, 0.7733332 ],\n",
       "       [0.12993054, 0.3628431 , 0.5072264 ]], dtype=float32)"
      ]
     },
     "execution_count": 17,
     "metadata": {
      "tags": []
     },
     "output_type": "execute_result"
    }
   ],
   "source": [
    "preds = clf.predict_proba(test.values)\n",
    "preds"
   ]
  },
  {
   "cell_type": "code",
   "execution_count": 18,
   "metadata": {
    "colab": {
     "base_uri": "https://localhost:8080/",
     "height": 419
    },
    "id": "jELJ6wbIQfXx",
    "outputId": "8c0d5360-5f9b-4fac-e694-b3c76c515310"
   },
   "outputs": [
    {
     "data": {
      "text/html": [
       "<div>\n",
       "<style scoped>\n",
       "    .dataframe tbody tr th:only-of-type {\n",
       "        vertical-align: middle;\n",
       "    }\n",
       "\n",
       "    .dataframe tbody tr th {\n",
       "        vertical-align: top;\n",
       "    }\n",
       "\n",
       "    .dataframe thead th {\n",
       "        text-align: right;\n",
       "    }\n",
       "</style>\n",
       "<table border=\"1\" class=\"dataframe\">\n",
       "  <thead>\n",
       "    <tr style=\"text-align: right;\">\n",
       "      <th></th>\n",
       "      <th>index</th>\n",
       "      <th>0</th>\n",
       "      <th>1</th>\n",
       "      <th>2</th>\n",
       "    </tr>\n",
       "  </thead>\n",
       "  <tbody>\n",
       "    <tr>\n",
       "      <th>0</th>\n",
       "      <td>26457</td>\n",
       "      <td>0.198097</td>\n",
       "      <td>0.088041</td>\n",
       "      <td>0.713862</td>\n",
       "    </tr>\n",
       "    <tr>\n",
       "      <th>1</th>\n",
       "      <td>26458</td>\n",
       "      <td>0.244172</td>\n",
       "      <td>0.079680</td>\n",
       "      <td>0.676148</td>\n",
       "    </tr>\n",
       "    <tr>\n",
       "      <th>2</th>\n",
       "      <td>26459</td>\n",
       "      <td>0.130988</td>\n",
       "      <td>0.176067</td>\n",
       "      <td>0.692945</td>\n",
       "    </tr>\n",
       "    <tr>\n",
       "      <th>3</th>\n",
       "      <td>26460</td>\n",
       "      <td>0.059098</td>\n",
       "      <td>0.189698</td>\n",
       "      <td>0.751205</td>\n",
       "    </tr>\n",
       "    <tr>\n",
       "      <th>4</th>\n",
       "      <td>26461</td>\n",
       "      <td>0.186102</td>\n",
       "      <td>0.133101</td>\n",
       "      <td>0.680797</td>\n",
       "    </tr>\n",
       "    <tr>\n",
       "      <th>...</th>\n",
       "      <td>...</td>\n",
       "      <td>...</td>\n",
       "      <td>...</td>\n",
       "      <td>...</td>\n",
       "    </tr>\n",
       "    <tr>\n",
       "      <th>9995</th>\n",
       "      <td>36452</td>\n",
       "      <td>0.169928</td>\n",
       "      <td>0.310359</td>\n",
       "      <td>0.519713</td>\n",
       "    </tr>\n",
       "    <tr>\n",
       "      <th>9996</th>\n",
       "      <td>36453</td>\n",
       "      <td>0.267642</td>\n",
       "      <td>0.247663</td>\n",
       "      <td>0.484696</td>\n",
       "    </tr>\n",
       "    <tr>\n",
       "      <th>9997</th>\n",
       "      <td>36454</td>\n",
       "      <td>0.118089</td>\n",
       "      <td>0.120278</td>\n",
       "      <td>0.761632</td>\n",
       "    </tr>\n",
       "    <tr>\n",
       "      <th>9998</th>\n",
       "      <td>36455</td>\n",
       "      <td>0.068399</td>\n",
       "      <td>0.158268</td>\n",
       "      <td>0.773333</td>\n",
       "    </tr>\n",
       "    <tr>\n",
       "      <th>9999</th>\n",
       "      <td>36456</td>\n",
       "      <td>0.129931</td>\n",
       "      <td>0.362843</td>\n",
       "      <td>0.507226</td>\n",
       "    </tr>\n",
       "  </tbody>\n",
       "</table>\n",
       "<p>10000 rows × 4 columns</p>\n",
       "</div>"
      ],
      "text/plain": [
       "      index         0         1         2\n",
       "0     26457  0.198097  0.088041  0.713862\n",
       "1     26458  0.244172  0.079680  0.676148\n",
       "2     26459  0.130988  0.176067  0.692945\n",
       "3     26460  0.059098  0.189698  0.751205\n",
       "4     26461  0.186102  0.133101  0.680797\n",
       "...     ...       ...       ...       ...\n",
       "9995  36452  0.169928  0.310359  0.519713\n",
       "9996  36453  0.267642  0.247663  0.484696\n",
       "9997  36454  0.118089  0.120278  0.761632\n",
       "9998  36455  0.068399  0.158268  0.773333\n",
       "9999  36456  0.129931  0.362843  0.507226\n",
       "\n",
       "[10000 rows x 4 columns]"
      ]
     },
     "execution_count": 18,
     "metadata": {
      "tags": []
     },
     "output_type": "execute_result"
    }
   ],
   "source": [
    "ss.iloc[:,1:]=0\n",
    "ss.iloc[:,1:] += preds\n",
    "ss"
   ]
  },
  {
   "cell_type": "code",
   "execution_count": null,
   "metadata": {
    "id": "i6ePna8GhYRo"
   },
   "outputs": [],
   "source": [
    "ss.iloc[:,1:]=0\n",
    "for fold in range(n):\n",
    "    ss.iloc[:,1:] += models[fold].predict_proba(test.values)/n"
   ]
  },
  {
   "cell_type": "code",
   "execution_count": 19,
   "metadata": {
    "id": "WOQJm4MJhYRp"
   },
   "outputs": [],
   "source": [
    "ss.to_csv('tabnet_test.csv', index=False) # 0.7272812144"
   ]
  }
 ],
 "metadata": {
  "accelerator": "GPU",
  "colab": {
   "collapsed_sections": [],
   "name": "tabnet-test.ipynb",
   "provenance": []
  },
  "kernelspec": {
   "display_name": "Python 3",
   "language": "python",
   "name": "python3"
  },
  "language_info": {
   "codemirror_mode": {
    "name": "ipython",
    "version": 3
   },
   "file_extension": ".py",
   "mimetype": "text/x-python",
   "name": "python",
   "nbconvert_exporter": "python",
   "pygments_lexer": "ipython3",
   "version": "3.7.6"
  }
 },
 "nbformat": 4,
 "nbformat_minor": 1
}
