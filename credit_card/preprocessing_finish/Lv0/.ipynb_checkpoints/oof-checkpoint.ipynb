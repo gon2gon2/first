{
 "cells": [
  {
   "cell_type": "code",
   "execution_count": 1,
   "id": "clear-observation",
   "metadata": {},
   "outputs": [],
   "source": [
    "from sklearn.model_selection import KFold"
   ]
  },
  {
   "cell_type": "code",
   "execution_count": 3,
   "id": "tired-soundtrack",
   "metadata": {},
   "outputs": [],
   "source": [
    "import pandas as pd\n",
    "X = pd.read_csv('30_lgbm_tuned.csv')"
   ]
  },
  {
   "cell_type": "code",
   "execution_count": 4,
   "id": "prepared-journalist",
   "metadata": {},
   "outputs": [],
   "source": [
    "kf = KFold(n_splits=10, shuffle=False)"
   ]
  },
  {
   "cell_type": "code",
   "execution_count": 11,
   "id": "frank-hamilton",
   "metadata": {},
   "outputs": [],
   "source": [
    "import numpy as np\n",
    "X = np.array([1,2,3,4,5,6,7,8,9,10])\n",
    "# X = np.array([1,2,3,4,5,6,7,8,9,10])"
   ]
  },
  {
   "cell_type": "code",
   "execution_count": 17,
   "id": "hawaiian-burden",
   "metadata": {},
   "outputs": [],
   "source": [
    "y = np.array([1,2,3,4,5,6,7,8,9,10])"
   ]
  },
  {
   "cell_type": "code",
   "execution_count": 14,
   "id": "introductory-trail",
   "metadata": {},
   "outputs": [],
   "source": [
    "oof = np.zeros(X.shape)"
   ]
  },
  {
   "cell_type": "code",
   "execution_count": 18,
   "id": "important-moral",
   "metadata": {
    "scrolled": true
   },
   "outputs": [],
   "source": [
    "kf = KFold(n_splits=10, shuffle=False)\n",
    "for train_idx, valid_idx in kf.split(X):\n",
    "    X_train, y_train = X[train_idx], y[train_idx]\n",
    "    X_valid, y_valid = X[valid_idx], y[valid_idx]\n",
    "    \n",
    "    oof[valid_idx] += model.predict(X[valid_idx])"
   ]
  },
  {
   "cell_type": "code",
   "execution_count": 19,
   "id": "studied-average",
   "metadata": {},
   "outputs": [
    {
     "data": {
      "text/plain": [
       "array([ 1.,  2.,  3.,  4.,  5.,  6.,  7.,  8.,  9., 10.])"
      ]
     },
     "execution_count": 19,
     "metadata": {},
     "output_type": "execute_result"
    }
   ],
   "source": [
    "oof"
   ]
  },
  {
   "cell_type": "code",
   "execution_count": null,
   "id": "liked-spanking",
   "metadata": {},
   "outputs": [],
   "source": [
    "def oof(model,X, y, test):\n",
    "    oof = np.zeros(y.shape)\n",
    "    for train_idx, valid_idx in kf.split(X):\n",
    "        X_train, y_train = X[train_idx], y[train_idx]\n",
    "        X_valid, y_valid = X[valid_idx], y[valid_idx]\n",
    "\n",
    "        oof[valid_idx] += model.predict(X[valid_idx])"
   ]
  }
 ],
 "metadata": {
  "kernelspec": {
   "display_name": "Python 3",
   "language": "python",
   "name": "python3"
  },
  "language_info": {
   "codemirror_mode": {
    "name": "ipython",
    "version": 3
   },
   "file_extension": ".py",
   "mimetype": "text/x-python",
   "name": "python",
   "nbconvert_exporter": "python",
   "pygments_lexer": "ipython3",
   "version": "3.7.6"
  }
 },
 "nbformat": 4,
 "nbformat_minor": 5
}
