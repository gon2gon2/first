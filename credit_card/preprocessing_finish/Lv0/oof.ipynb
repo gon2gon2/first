{
 "cells": [
  {
   "cell_type": "code",
   "execution_count": 1,
   "id": "beautiful-valentine",
   "metadata": {},
   "outputs": [],
   "source": [
    "from sklearn.model_selection import KFold\n",
    "from sklearn.model_selection import StratifiedKFold"
   ]
  },
  {
   "cell_type": "code",
   "execution_count": 4,
   "id": "unique-chinese",
   "metadata": {},
   "outputs": [],
   "source": [
    "kf = KFold(n_splits=10, shuffle=False)"
   ]
  },
  {
   "cell_type": "code",
   "execution_count": 20,
   "id": "primary-trader",
   "metadata": {},
   "outputs": [],
   "source": [
    "oof = np.zeros(X.shape)"
   ]
  },
  {
   "cell_type": "code",
   "execution_count": 18,
   "id": "marked-particle",
   "metadata": {
    "scrolled": true
   },
   "outputs": [],
   "source": [
    "kf = KFold(n_splits=10, shuffle=False)\n",
    "for train_idx, valid_idx in kf.split(X):\n",
    "    X_train, y_train = X[train_idx], y[train_idx]\n",
    "    X_valid, y_valid = X[valid_idx], y[valid_idx]\n",
    "    \n",
    "    oof[valid_idx] += model.predict(X[valid_idx])"
   ]
  },
  {
   "cell_type": "code",
   "execution_count": null,
   "id": "adult-factor",
   "metadata": {},
   "outputs": [],
   "source": [
    "def oof(model,X, y, test):\n",
    "    kf = KFold(n_splits=10, shuffle=False)\n",
    "    oof = np.zeros(y.shape)\n",
    "    for train_idx, valid_idx in kf.split(X):\n",
    "        X_train, y_train = X[train_idx], y[train_idx]\n",
    "        X_valid, y_valid = X[valid_idx], y[valid_idx]\n",
    "\n",
    "        oof[valid_idx] += model.predict(X[valid_idx])"
   ]
  },
  {
   "cell_type": "code",
   "execution_count": null,
   "id": "confused-pharmacy",
   "metadata": {},
   "outputs": [],
   "source": []
  },
  {
   "cell_type": "code",
   "execution_count": null,
   "id": "classical-encoding",
   "metadata": {},
   "outputs": [],
   "source": []
  },
  {
   "cell_type": "code",
   "execution_count": null,
   "id": "horizontal-causing",
   "metadata": {},
   "outputs": [],
   "source": []
  },
  {
   "cell_type": "code",
   "execution_count": null,
   "id": "attempted-sacrifice",
   "metadata": {},
   "outputs": [],
   "source": [
    "skf = StratifiredKFold(n_splits=5, shuffle=False)\n",
    "for train_idx, valid_idx in kf.split(X):\n",
    "    X_train, y_train = X[train_idx], y[train_idx]\n",
    "    X_valid, y_valid = X[valid_idx], y[valid_idx]\n",
    "    \n",
    "    oof[valid_idx] += model.predict(X[valid_idx])"
   ]
  }
 ],
 "metadata": {
  "kernelspec": {
   "display_name": "Python 3",
   "language": "python",
   "name": "python3"
  },
  "language_info": {
   "codemirror_mode": {
    "name": "ipython",
    "version": 3
   },
   "file_extension": ".py",
   "mimetype": "text/x-python",
   "name": "python",
   "nbconvert_exporter": "python",
   "pygments_lexer": "ipython3",
   "version": "3.7.6"
  }
 },
 "nbformat": 4,
 "nbformat_minor": 5
}
