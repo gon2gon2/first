{
  "nbformat": 4,
  "nbformat_minor": 0,
  "metadata": {
    "colab": {
      "name": "sweep공략법.ipynb",
      "provenance": [],
      "collapsed_sections": []
    },
    "kernelspec": {
      "name": "python3",
      "display_name": "Python 3"
    },
    "accelerator": "GPU"
  },
  "cells": [
    {
      "cell_type": "code",
      "metadata": {
        "id": "pShUAjM9T6Tf",
        "colab": {
          "base_uri": "https://localhost:8080/",
          "height": 226
        },
        "outputId": "2c47627f-c087-4633-fd42-3359ee8b954e"
      },
      "source": [
        "!pip install wandb -q"
      ],
      "execution_count": null,
      "outputs": [
        {
          "output_type": "stream",
          "text": [
            "\u001b[K     |████████████████████████████████| 1.4MB 3.4MB/s \n",
            "\u001b[K     |████████████████████████████████| 102kB 8.6MB/s \n",
            "\u001b[K     |████████████████████████████████| 112kB 25.7MB/s \n",
            "\u001b[K     |████████████████████████████████| 163kB 16.1MB/s \n",
            "\u001b[K     |████████████████████████████████| 102kB 7.9MB/s \n",
            "\u001b[K     |████████████████████████████████| 71kB 6.7MB/s \n",
            "\u001b[K     |████████████████████████████████| 71kB 6.9MB/s \n",
            "\u001b[?25h  Building wheel for watchdog (setup.py) ... \u001b[?25l\u001b[?25hdone\n",
            "  Building wheel for gql (setup.py) ... \u001b[?25l\u001b[?25hdone\n",
            "  Building wheel for subprocess32 (setup.py) ... \u001b[?25l\u001b[?25hdone\n",
            "  Building wheel for pathtools (setup.py) ... \u001b[?25l\u001b[?25hdone\n",
            "  Building wheel for graphql-core (setup.py) ... \u001b[?25l\u001b[?25hdone\n"
          ],
          "name": "stdout"
        }
      ]
    },
    {
      "cell_type": "code",
      "metadata": {
        "id": "O3ugUTKWUTe6",
        "colab": {
          "base_uri": "https://localhost:8080/",
          "height": 86
        },
        "outputId": "15cab46c-91e7-447a-a871-67f8eed56b27"
      },
      "source": [
        "# wandb 로그인\n",
        "!wandb login"
      ],
      "execution_count": null,
      "outputs": [
        {
          "output_type": "stream",
          "text": [
            "\u001b[34m\u001b[1mwandb\u001b[0m: You can find your API key in your browser here: https://app.wandb.ai/authorize\n",
            "\u001b[34m\u001b[1mwandb\u001b[0m: Paste an API key from your profile and hit enter: 918e40f006a10e96dd6953e69b495e04e22a0f4c\n",
            "\u001b[34m\u001b[1mwandb\u001b[0m: Appending key for api.wandb.ai to your netrc file: /root/.netrc\n",
            "\u001b[32mSuccessfully logged in to Weights & Biases!\u001b[0m\n"
          ],
          "name": "stdout"
        }
      ]
    },
    {
      "cell_type": "code",
      "metadata": {
        "id": "f08FrMMFaA5b",
        "colab": {
          "base_uri": "https://localhost:8080/",
          "height": 34
        },
        "outputId": "31d9c49d-de5d-420b-c0bc-3eefcf1cbbc4"
      },
      "source": [
        "import tensorflow as tf\n",
        "from tensorflow import keras\n",
        "\n",
        "import numpy as np\n",
        "import matplotlib.pyplot as plt\n",
        "\n",
        "print(tf.__version__)"
      ],
      "execution_count": null,
      "outputs": [
        {
          "output_type": "stream",
          "text": [
            "2.2.0\n"
          ],
          "name": "stdout"
        }
      ]
    },
    {
      "cell_type": "code",
      "metadata": {
        "id": "Ug3aEARjUgta"
      },
      "source": [
        "import wandb\n",
        "from wandb.keras import WandbCallback"
      ],
      "execution_count": null,
      "outputs": []
    },
    {
      "cell_type": "markdown",
      "metadata": {
        "id": "GnGrpEFOwXPw"
      },
      "source": [
        "# step 1\n",
        "### sweep_config에 parameter 넣어두기 (search_space 지정하기)"
      ]
    },
    {
      "cell_type": "code",
      "metadata": {
        "id": "L7QLMjWmbgnQ"
      },
      "source": [
        "# Configure the sweep – 실험하고 싶은 parameter를 추가로 넣어줄 수 있습니다.\n",
        "# 콜랩에서 한 40분에 60개 돌아가던데 와이파이 안정적인 거 잡고 켜놓고 놀면 됩니다. ㅎㅎ\n",
        "\n",
        "sweep_config = {\n",
        "    'method': 'random', \n",
        "    'metric': {\n",
        "      'name': 'accuracy',\n",
        "      'goal': 'maximize'   \n",
        "    },\n",
        "    'parameters': {\n",
        "        'epochs': {\n",
        "            'values': [3, 7, 10, 15]\n",
        "        },\n",
        "        'dropout': {\n",
        "            'values': [0.2, 0.3, 0.4, 0.5]\n",
        "        },\n",
        "        'hidden': {\n",
        "            'values': [128, 256, 512]\n",
        "        },\n",
        "        'learning_rate': {\n",
        "            'values': [1e-2, 1e-3, 1e-45]\n",
        "        },\n",
        "        'optimizer': {\n",
        "            'values': ['adam', 'rmsprop']\n",
        "        },\n",
        "        'activation': {\n",
        "            'values': ['relu']\n",
        "        }\n",
        "        }\n",
        "    }"
      ],
      "execution_count": null,
      "outputs": []
    },
    {
      "cell_type": "markdown",
      "metadata": {
        "id": "f785cL1wwc6r"
      },
      "source": [
        "# step2. initialize하기"
      ]
    },
    {
      "cell_type": "code",
      "metadata": {
        "id": "m_XHZYiwZQZK",
        "colab": {
          "base_uri": "https://localhost:8080/",
          "height": 52
        },
        "outputId": "446857da-79b2-4cb6-cdeb-1f88078bee16"
      },
      "source": [
        "# Arguments:\n",
        "#     – sweep_config: 위에서 정의한 parameter 딕셔너리\n",
        "#     – entity: 유저네임 (프로젝트)\n",
        "#     – project: 프로젝트 이름 (없으면 wandb에 새로 생김)\n",
        "sweep_id = wandb.sweep(sweep_config, entity=\"username\", project=\"project_name\")"
      ],
      "execution_count": null,
      "outputs": [
        {
          "output_type": "stream",
          "text": [
            "Create sweep with ID: 6ecm3gdu\n",
            "Sweep URL: https://app.wandb.ai/gon2gon2/wandbb/sweeps/6ecm3gdu\n"
          ],
          "name": "stdout"
        }
      ]
    },
    {
      "cell_type": "markdown",
      "metadata": {
        "id": "DgLIQxfft02G"
      },
      "source": [
        "**entitiy 보는 법(wandb에서 볼 수 있음!)**\n",
        "![image.png](data:image/png;base64,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)\n"
      ]
    },
    {
      "cell_type": "markdown",
      "metadata": {
        "id": "I9NyjNYtFVJB"
      },
      "source": [
        "## 데이터 불러오기"
      ]
    },
    {
      "cell_type": "code",
      "metadata": {
        "id": "LkzbiMJ2FP-N"
      },
      "source": [
        "fashion_mnist = keras.datasets.fashion_mnist\n",
        "(train_images, train_labels), (test_images, test_labels) = fashion_mnist.load_data()"
      ],
      "execution_count": null,
      "outputs": []
    },
    {
      "cell_type": "code",
      "metadata": {
        "id": "4T1rPDQAHyS3"
      },
      "source": [
        "class_names = ['T-shirt/top' , 'Trouser' , 'Pullover' , 'Dress' , 'Coat',\n",
        "               'Sandal' , 'Shirt' , 'Sneaker' , 'Bag' , 'Ankle boot']"
      ],
      "execution_count": null,
      "outputs": []
    },
    {
      "cell_type": "code",
      "metadata": {
        "id": "Kf5Ikx37JZbu",
        "colab": {
          "base_uri": "https://localhost:8080/",
          "height": 35
        },
        "outputId": "c0e436bf-e380-4455-bdb2-2669d895da5a"
      },
      "source": [
        "# 지워도 됨 ㅎㅎ\n",
        "'''\n",
        "train_images는 28 x 28의 이미지가 6만장,\n",
        "test_images는 28 x 28의 이미지가 1만장 있음\n",
        "'''"
      ],
      "execution_count": null,
      "outputs": [
        {
          "output_type": "execute_result",
          "data": {
            "application/vnd.google.colaboratory.intrinsic+json": {
              "type": "string"
            },
            "text/plain": [
              "'\\ntrain_images는 28 x 28의 이미지가 6만장,\\ntest_images는 28 x 28의 이미지가 1만장 있음\\n'"
            ]
          },
          "metadata": {
            "tags": []
          },
          "execution_count": 24
        }
      ]
    },
    {
      "cell_type": "code",
      "metadata": {
        "id": "KevcgDkfJ6xe"
      },
      "source": [
        "train_images = train_images/255.\n",
        "test_images = test_images/255."
      ],
      "execution_count": null,
      "outputs": []
    },
    {
      "cell_type": "markdown",
      "metadata": {
        "id": "0khHz8vGLWs7"
      },
      "source": [
        "# step 3\n",
        "### 초기화하고 parameter대로 모델을 쌓아 실험하는 train 함수를 정의"
      ]
    },
    {
      "cell_type": "code",
      "metadata": {
        "id": "2H-fszdylt8j"
      },
      "source": [
        "# (초기화 -> config값 바꿔주고 -> 모델 쌓고 -> 학습) 을 무한반복\n",
        "def train():\n",
        "\n",
        "  # 처음엔 config 내용이 이렇게 시작하는데 밑에서 바뀜 ㅎㅎ\n",
        "\n",
        "  config_defaults = {\n",
        "    'epochs': 2,\n",
        "    'learning_rate': 1e-3,\n",
        "    'activation': 'relu',\n",
        "    'hidden': 128,\n",
        "    'optimizer': 'adam',\n",
        "    'dropout_rate':0.2\n",
        "  }\n",
        "  # Initialize a new wandb run\n",
        "  wandb.init(config=config_defaults)\n",
        "      \n",
        "  # Config is a variable that holds and saves hyperparameters and inputs\n",
        "  # dkssudgktpdy wjsms rhslrhsldlqslek.\n",
        "  config = wandb.config\n",
        "\n",
        "  \n",
        "  \n",
        "  \n",
        "  model = keras.Sequential([\n",
        "    keras.layers.Flatten(input_shape=(28, 28)),\n",
        "    keras.layers.Dense(config.hidden, activation=config.activation),\n",
        "    keras.layers.Dropout(config.dropout_rate),\n",
        "    keras.layers.Dense(10, activation='softmax')\n",
        "  ])\n",
        "  \n",
        "  adam = tf.keras.optimizers.Adam(config.learning_rate)\n",
        "  model.compile(optimizer='adam',\n",
        "              loss = 'sparse_categorical_crossentropy',\n",
        "              metrics=['accuracy'])\n",
        "  \n",
        "  model.fit(train_images, train_labels, epochs=config.epochs, callbacks=[WandbCallback()])\n",
        "  # evaluate는 안 해도 됨, 오히려 안 해야 wandb에 잘 저장됨"
      ],
      "execution_count": null,
      "outputs": []
    },
    {
      "cell_type": "markdown",
      "metadata": {
        "id": "l2YzNRzzyqfh"
      },
      "source": [
        "# step4\n",
        "### agent한테 맡기고 딴짓하기"
      ]
    },
    {
      "cell_type": "code",
      "metadata": {
        "id": "8YqnJn2KbHXz",
        "colab": {
          "base_uri": "https://localhost:8080/",
          "height": 1000
        },
        "outputId": "3fc1cb7d-c6eb-444a-854d-49cb77efe8b4"
      },
      "source": [
        "# agent가 train함수에서 parameter를 바꿔가면서 저장해줍니다~\n",
        "# wandb.agent(sweep_id, train)\n",
        "#     – sweep_id: the sweep_id to run - this was returned above by wandb.sweep() \n",
        "#     – function: function that defines your model architecture and trains it / 위에서 정의한 train()을 값만 바꿔서 계속 돌려준다구~\n",
        "\n",
        "wandb.agent(sweep_id, train)"
      ],
      "execution_count": null,
      "outputs": [
        {
          "output_type": "stream",
          "text": [
            "wandb: Agent Starting Run: sv6d7vcc with config:\n",
            "\tactivation: relu\n",
            "\tdropout: 0.5\n",
            "\tepochs: 15\n",
            "\thidden: 256\n",
            "\tlearning_rate: 3e-05\n",
            "\toptimizer: adam\n",
            "wandb: Agent Started Run: sv6d7vcc\n"
          ],
          "name": "stdout"
        },
        {
          "output_type": "display_data",
          "data": {
            "text/html": [
              "\n",
              "                Logging results to <a href=\"https://wandb.com\" target=\"_blank\">Weights & Biases</a> <a href=\"https://docs.wandb.com/integrations/jupyter.html\" target=\"_blank\">(Documentation)</a>.<br/>\n",
              "                Project page: <a href=\"https://app.wandb.ai/gon2gon2/wandbb\" target=\"_blank\">https://app.wandb.ai/gon2gon2/wandbb</a><br/>\n",
              "                Sweep page: <a href=\"https://app.wandb.ai/gon2gon2/wandbb/sweeps/6ecm3gdu\" target=\"_blank\">https://app.wandb.ai/gon2gon2/wandbb/sweeps/6ecm3gdu</a><br/>\n",
              "Run page: <a href=\"https://app.wandb.ai/gon2gon2/wandbb/runs/sv6d7vcc\" target=\"_blank\">https://app.wandb.ai/gon2gon2/wandbb/runs/sv6d7vcc</a><br/>\n",
              "            "
            ],
            "text/plain": [
              "<IPython.core.display.HTML object>"
            ]
          },
          "metadata": {
            "tags": []
          }
        },
        {
          "output_type": "stream",
          "text": [
            "Epoch 1/15\n",
            "1875/1875 [==============================] - 5s 3ms/step - loss: 0.5080 - accuracy: 0.8186\n",
            "Epoch 2/15\n",
            "1875/1875 [==============================] - 5s 3ms/step - loss: 0.3873 - accuracy: 0.8580\n",
            "Epoch 3/15\n",
            "1875/1875 [==============================] - 5s 3ms/step - loss: 0.3546 - accuracy: 0.8700\n",
            "Epoch 4/15\n",
            "1875/1875 [==============================] - 5s 3ms/step - loss: 0.3357 - accuracy: 0.8758\n",
            "Epoch 5/15\n",
            "1875/1875 [==============================] - 5s 3ms/step - loss: 0.3185 - accuracy: 0.8814\n",
            "Epoch 6/15\n",
            "1875/1875 [==============================] - 5s 3ms/step - loss: 0.3063 - accuracy: 0.8859\n",
            "Epoch 7/15\n",
            "1875/1875 [==============================] - 5s 3ms/step - loss: 0.2958 - accuracy: 0.8892\n",
            "Epoch 8/15\n",
            "1875/1875 [==============================] - 5s 3ms/step - loss: 0.2880 - accuracy: 0.8927\n",
            "Epoch 9/15\n",
            "1875/1875 [==============================] - 5s 3ms/step - loss: 0.2738 - accuracy: 0.8982\n",
            "Epoch 10/15\n",
            "1875/1875 [==============================] - 5s 3ms/step - loss: 0.2684 - accuracy: 0.8994\n",
            "Epoch 11/15\n",
            "1875/1875 [==============================] - 6s 3ms/step - loss: 0.2629 - accuracy: 0.9004\n",
            "Epoch 12/15\n",
            "1875/1875 [==============================] - 5s 3ms/step - loss: 0.2549 - accuracy: 0.9039\n",
            "Epoch 13/15\n",
            "1875/1875 [==============================] - 5s 3ms/step - loss: 0.2504 - accuracy: 0.9062\n",
            "Epoch 14/15\n",
            "1875/1875 [==============================] - 5s 3ms/step - loss: 0.2444 - accuracy: 0.9079\n",
            "Epoch 15/15\n",
            "1875/1875 [==============================] - 5s 3ms/step - loss: 0.2380 - accuracy: 0.9090\n",
            "wandb: Agent Finished Run: sv6d7vcc \n",
            "\n",
            "wandb: Agent Starting Run: 6ai8zlca with config:\n",
            "\tactivation: relu\n",
            "\tdropout: 0.3\n",
            "\tepochs: 3\n",
            "\thidden: 256\n",
            "\tlearning_rate: 0.0003\n",
            "\toptimizer: adam\n",
            "wandb: Agent Started Run: 6ai8zlca\n"
          ],
          "name": "stdout"
        },
        {
          "output_type": "display_data",
          "data": {
            "text/html": [
              "\n",
              "                Logging results to <a href=\"https://wandb.com\" target=\"_blank\">Weights & Biases</a> <a href=\"https://docs.wandb.com/integrations/jupyter.html\" target=\"_blank\">(Documentation)</a>.<br/>\n",
              "                Project page: <a href=\"https://app.wandb.ai/gon2gon2/wandbb\" target=\"_blank\">https://app.wandb.ai/gon2gon2/wandbb</a><br/>\n",
              "                Sweep page: <a href=\"https://app.wandb.ai/gon2gon2/wandbb/sweeps/6ecm3gdu\" target=\"_blank\">https://app.wandb.ai/gon2gon2/wandbb/sweeps/6ecm3gdu</a><br/>\n",
              "Run page: <a href=\"https://app.wandb.ai/gon2gon2/wandbb/runs/6ai8zlca\" target=\"_blank\">https://app.wandb.ai/gon2gon2/wandbb/runs/6ai8zlca</a><br/>\n",
              "            "
            ],
            "text/plain": [
              "<IPython.core.display.HTML object>"
            ]
          },
          "metadata": {
            "tags": []
          }
        },
        {
          "output_type": "stream",
          "text": [
            "Epoch 1/3\n",
            "1875/1875 [==============================] - 5s 3ms/step - loss: 0.5092 - accuracy: 0.8186\n",
            "Epoch 2/3\n",
            "1875/1875 [==============================] - 5s 3ms/step - loss: 0.3884 - accuracy: 0.8590\n",
            "Epoch 3/3\n",
            "1875/1875 [==============================] - 5s 3ms/step - loss: 0.3577 - accuracy: 0.8672\n",
            "wandb: Agent Finished Run: 6ai8zlca \n",
            "\n",
            "wandb: Agent Starting Run: 4f8snmvi with config:\n",
            "\tactivation: relu\n",
            "\tdropout: 0.3\n",
            "\tepochs: 7\n",
            "\thidden: 128\n",
            "\tlearning_rate: 1e-05\n",
            "\toptimizer: adam\n",
            "wandb: Agent Started Run: 4f8snmvi\n"
          ],
          "name": "stdout"
        },
        {
          "output_type": "display_data",
          "data": {
            "text/html": [
              "\n",
              "                Logging results to <a href=\"https://wandb.com\" target=\"_blank\">Weights & Biases</a> <a href=\"https://docs.wandb.com/integrations/jupyter.html\" target=\"_blank\">(Documentation)</a>.<br/>\n",
              "                Project page: <a href=\"https://app.wandb.ai/gon2gon2/wandbb\" target=\"_blank\">https://app.wandb.ai/gon2gon2/wandbb</a><br/>\n",
              "                Sweep page: <a href=\"https://app.wandb.ai/gon2gon2/wandbb/sweeps/6ecm3gdu\" target=\"_blank\">https://app.wandb.ai/gon2gon2/wandbb/sweeps/6ecm3gdu</a><br/>\n",
              "Run page: <a href=\"https://app.wandb.ai/gon2gon2/wandbb/runs/4f8snmvi\" target=\"_blank\">https://app.wandb.ai/gon2gon2/wandbb/runs/4f8snmvi</a><br/>\n",
              "            "
            ],
            "text/plain": [
              "<IPython.core.display.HTML object>"
            ]
          },
          "metadata": {
            "tags": []
          }
        },
        {
          "output_type": "stream",
          "text": [
            "Epoch 1/7\n",
            "1875/1875 [==============================] - 5s 3ms/step - loss: 0.5364 - accuracy: 0.8101\n",
            "Epoch 2/7\n",
            "1875/1875 [==============================] - 5s 3ms/step - loss: 0.4009 - accuracy: 0.8552\n",
            "Epoch 3/7\n",
            "1875/1875 [==============================] - 5s 3ms/step - loss: 0.3684 - accuracy: 0.8652\n",
            "Epoch 4/7\n",
            "1875/1875 [==============================] - 5s 3ms/step - loss: 0.3452 - accuracy: 0.8739\n",
            "Epoch 5/7\n",
            "1875/1875 [==============================] - 5s 3ms/step - loss: 0.3275 - accuracy: 0.8803\n",
            "Epoch 6/7\n",
            "1875/1875 [==============================] - 5s 3ms/step - loss: 0.3184 - accuracy: 0.8820\n",
            "Epoch 7/7\n",
            "1875/1875 [==============================] - 5s 3ms/step - loss: 0.3071 - accuracy: 0.8853\n",
            "wandb: Agent Finished Run: 4f8snmvi \n",
            "\n",
            "wandb: Agent Starting Run: t96o4urs with config:\n",
            "\tactivation: relu\n",
            "\tdropout: 0.5\n",
            "\tepochs: 7\n",
            "\thidden: 256\n",
            "\tlearning_rate: 0.001\n",
            "\toptimizer: adam\n",
            "wandb: Agent Started Run: t96o4urs\n"
          ],
          "name": "stdout"
        },
        {
          "output_type": "display_data",
          "data": {
            "text/html": [
              "\n",
              "                Logging results to <a href=\"https://wandb.com\" target=\"_blank\">Weights & Biases</a> <a href=\"https://docs.wandb.com/integrations/jupyter.html\" target=\"_blank\">(Documentation)</a>.<br/>\n",
              "                Project page: <a href=\"https://app.wandb.ai/gon2gon2/wandbb\" target=\"_blank\">https://app.wandb.ai/gon2gon2/wandbb</a><br/>\n",
              "                Sweep page: <a href=\"https://app.wandb.ai/gon2gon2/wandbb/sweeps/6ecm3gdu\" target=\"_blank\">https://app.wandb.ai/gon2gon2/wandbb/sweeps/6ecm3gdu</a><br/>\n",
              "Run page: <a href=\"https://app.wandb.ai/gon2gon2/wandbb/runs/t96o4urs\" target=\"_blank\">https://app.wandb.ai/gon2gon2/wandbb/runs/t96o4urs</a><br/>\n",
              "            "
            ],
            "text/plain": [
              "<IPython.core.display.HTML object>"
            ]
          },
          "metadata": {
            "tags": []
          }
        },
        {
          "output_type": "stream",
          "text": [
            "Epoch 1/7\n",
            "1875/1875 [==============================] - 5s 3ms/step - loss: 0.5053 - accuracy: 0.8200\n",
            "Epoch 2/7\n",
            "1875/1875 [==============================] - 5s 3ms/step - loss: 0.3884 - accuracy: 0.8574\n",
            "Epoch 3/7\n",
            "1875/1875 [==============================] - 5s 3ms/step - loss: 0.3548 - accuracy: 0.8700\n",
            "Epoch 4/7\n",
            "1875/1875 [==============================] - 5s 3ms/step - loss: 0.3328 - accuracy: 0.8770\n",
            "Epoch 5/7\n",
            " 858/1875 [============>.................] - ETA: 2s - loss: 0.3150 - accuracy: 0.8833"
          ],
          "name": "stdout"
        }
      ]
    },
    {
      "cell_type": "markdown",
      "metadata": {
        "id": "cdb02Qn6y7mP"
      },
      "source": [
        "# 다 돌리고 나면"
      ]
    }
  ]
}