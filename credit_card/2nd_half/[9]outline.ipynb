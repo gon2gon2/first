{
 "cells": [
  {
   "cell_type": "code",
   "execution_count": 2,
   "id": "quantitative-shore",
   "metadata": {},
   "outputs": [],
   "source": [
    "import warnings\n",
    "warnings.filterwarnings('ignore')\n",
    "import glob\n",
    "import pandas as pd\n",
    "import numpy as np\n",
    "import seaborn as sns\n",
    "import matplotlib.pyplot as plt\n",
    "from lightgbm import LGBMClassifier\n",
    "from sklearn.model_selection import StratifiedKFold\n",
    "from sklearn.preprocessing import OneHotEncoder\n",
    "import random\n",
    "import os\n",
    "from sklearn.metrics import log_loss"
   ]
  },
  {
   "cell_type": "code",
   "execution_count": 3,
   "id": "devoted-biology",
   "metadata": {},
   "outputs": [
    {
     "name": "stdout",
     "output_type": "stream",
     "text": [
      "['.ipynb_checkpoints', 'sample_submission.csv', 'test.csv', 'train.csv', 'Untitled.ipynb']\n"
     ]
    }
   ],
   "source": [
    "d = \"C:\\kaggle_data\\credit_card\"\n",
    "lst = os.listdir(d)\n",
    "print(lst)\n",
    "train = pd.read_csv(d + '\\\\' +lst[3])\n",
    "test = pd.read_csv(d + '\\\\' +lst[2])\n",
    "ss = pd.read_csv(d + '\\\\' +lst[1])\n",
    "train = train.drop(['index'], axis=1)\n",
    "train.fillna('NAN', inplace=True) \n",
    "test = test.drop(['index'], axis=1)\n",
    "test.fillna('NAN', inplace=True)"
   ]
  },
  {
   "cell_type": "markdown",
   "id": "interracial-guatemala",
   "metadata": {},
   "source": [
    "# 전처리"
   ]
  },
  {
   "cell_type": "markdown",
   "id": "revolutionary-attention",
   "metadata": {},
   "source": [
    "### family_type\n",
    "- 'Married', 'Civil marriage'\n",
    "- 'Separated',  'Widow'\n",
    "- 'Single / not married'"
   ]
  },
  {
   "cell_type": "code",
   "execution_count": 4,
   "id": "internal-cassette",
   "metadata": {},
   "outputs": [],
   "source": [
    "# Married, Civil marriage\n",
    "train['income_per_size'] = np.log(train['income_total']/train['family_size'])\n",
    "test['income_per_size'] = np.log(test['income_total']/test['family_size'])\n",
    "train.loc[(train['family_type']=='Married')|(train['family_type']=='Civil marriage'),'income_per_size']\\\n",
    "= train['income_per_size'] * 2\n",
    "\n",
    "test.loc[(test['family_type']=='Married')|(test['family_type']=='Civil marriage'),'income_per_size']\\\n",
    "= test['income_per_size'] * 2"
   ]
  },
  {
   "cell_type": "code",
   "execution_count": 5,
   "id": "internal-probability",
   "metadata": {},
   "outputs": [],
   "source": [
    "def simple_marry(x):\n",
    "    if x == 'Married' or x =='Civil marriage':\n",
    "        return '0'\n",
    "    elif x == 'Separated' or x == 'Widow':\n",
    "        return '1'\n",
    "    else:\n",
    "        return '2'"
   ]
  },
  {
   "cell_type": "code",
   "execution_count": 6,
   "id": "accomplished-metro",
   "metadata": {},
   "outputs": [],
   "source": [
    "# 안 덮어쓰기\n",
    "for df in [train,test]:\n",
    "    df['family_bins'] = df['family_type'].apply(simple_marry)"
   ]
  },
  {
   "cell_type": "code",
   "execution_count": 7,
   "id": "increasing-moses",
   "metadata": {},
   "outputs": [],
   "source": [
    "# income_total을 로그변환\n",
    "train['income_total'] = np.log(train['income_total'])\n",
    "test['income_total'] = np.log(test['income_total'])"
   ]
  },
  {
   "cell_type": "code",
   "execution_count": 8,
   "id": "constant-cotton",
   "metadata": {},
   "outputs": [],
   "source": [
    "# car와 reality를 합친 새로운 칼럼 careality\n",
    "train['car'] =train['car'].apply(lambda x: int(x=='Y'))\n",
    "train['reality'] =train['reality'].apply(lambda x: int(x=='Y'))\n",
    "test['car'] =test['car'].apply(lambda x: int(x=='Y'))\n",
    "test['reality'] =test['reality'].apply(lambda x: int(x=='Y'))\n",
    "\n",
    "train['careality'] = train['car'] + train['reality']\n",
    "train = train.drop(['car', 'reality'],1)\n",
    "\n",
    "test['careality'] = test['car'] + test['reality']\n",
    "test = test.drop(['car', 'reality'],1)"
   ]
  },
  {
   "cell_type": "code",
   "execution_count": 9,
   "id": "latest-copying",
   "metadata": {},
   "outputs": [],
   "source": [
    "object_col = []\n",
    "for col in train.columns:\n",
    "    if train[col].dtype == 'object':\n",
    "        object_col.append(col)"
   ]
  },
  {
   "cell_type": "code",
   "execution_count": 10,
   "id": "maritime-directory",
   "metadata": {},
   "outputs": [],
   "source": [
    "enc = OneHotEncoder()\n",
    "enc.fit(train.loc[:,object_col])\n",
    "\n",
    "\n",
    "train_onehot_df = pd.DataFrame(enc.transform(train.loc[:,object_col]).toarray(), \n",
    "             columns=enc.get_feature_names(object_col))\n",
    "train.drop(object_col, axis=1, inplace=True)\n",
    "train = pd.concat([train, train_onehot_df], axis=1)"
   ]
  },
  {
   "cell_type": "code",
   "execution_count": 11,
   "id": "informal-sixth",
   "metadata": {},
   "outputs": [],
   "source": [
    "test_onehot_df = pd.DataFrame(enc.transform(test.loc[:,object_col]).toarray(), \n",
    "             columns=enc.get_feature_names(object_col))\n",
    "test.drop(object_col, axis=1, inplace=True)\n",
    "test = pd.concat([test, test_onehot_df], axis=1)"
   ]
  },
  {
   "cell_type": "markdown",
   "id": "filled-people",
   "metadata": {},
   "source": [
    "### \n",
    "- income_total\n",
    "- begin_month\n",
    "- DAYS_BIRTH"
   ]
  },
  {
   "cell_type": "code",
   "execution_count": 12,
   "id": "forbidden-negotiation",
   "metadata": {},
   "outputs": [],
   "source": [
    "c = 'income_total'\n",
    "k = 2.2\n",
    "mean = train[c].mean()\n",
    "std = train[c].std()\n",
    "idxs = train.loc[(train[c]>= mean + k*std)|\\\n",
    "                (train[c]<= mean - k*std)].index\n",
    "train = train.drop(idxs).reset_index(drop=True)"
   ]
  },
  {
   "cell_type": "code",
   "execution_count": 13,
   "id": "superior-arena",
   "metadata": {},
   "outputs": [],
   "source": [
    "c = 'DAYS_BIRTH'\n",
    "k = 2.1\n",
    "mean = train[c].mean()\n",
    "std = train[c].std()\n",
    "idxs = train.loc[(train[c]>= mean + k*std)|\\\n",
    "                (train[c]<= mean - k*std)].index\n",
    "train = train.drop(idxs).reset_index(drop=True)"
   ]
  },
  {
   "cell_type": "code",
   "execution_count": 14,
   "id": "exposed-field",
   "metadata": {},
   "outputs": [],
   "source": [
    "# out: 아웃라이어\n",
    "out_train = train.loc[train.DAYS_EMPLOYED>0]\n",
    "in_train = train.loc[train.DAYS_EMPLOYED<=0]\n",
    "\n",
    "\n",
    "out_test = test.loc[test.DAYS_EMPLOYED>0]\n",
    "in_test = test.loc[test.DAYS_EMPLOYED<=0]"
   ]
  },
  {
   "cell_type": "markdown",
   "id": "changed-geometry",
   "metadata": {},
   "source": [
    "<!-- ###\n",
    "- DAYS_EMPLOYED -->"
   ]
  },
  {
   "cell_type": "code",
   "execution_count": 15,
   "id": "drawn-fabric",
   "metadata": {},
   "outputs": [],
   "source": [
    "# c = 'DAYS_EMPLOYED'\n",
    "# k = 2.8\n",
    "# mean = in_train[c].mean()\n",
    "# std = in_train[c].std()\n",
    "# idxs = in_train.loc[(in_train[c]>= mean + k*std)|\\\n",
    "#                 (in_train[c]<= mean - k*std)].index\n",
    "# in_train = in_train.drop(idxs).reset_index(drop=True)"
   ]
  },
  {
   "cell_type": "markdown",
   "id": "precise-dating",
   "metadata": {},
   "source": [
    "# 모델링, 학습"
   ]
  },
  {
   "cell_type": "code",
   "execution_count": 16,
   "id": "primary-memorial",
   "metadata": {},
   "outputs": [],
   "source": [
    "out_train = out_train.reset_index()\n",
    "in_train = in_train.reset_index()\n",
    "\n",
    "out_test = out_test.reset_index()\n",
    "in_test = in_test.reset_index()"
   ]
  },
  {
   "cell_type": "code",
   "execution_count": 17,
   "id": "engaging-heart",
   "metadata": {},
   "outputs": [],
   "source": [
    "idx_out_train = out_train.pop('index')\n",
    "idx_out_test = out_test.pop('index')\n",
    "\n",
    "idx_in_train = in_train.pop('index')\n",
    "idx_in_test = in_test.pop('index')"
   ]
  },
  {
   "cell_type": "code",
   "execution_count": 18,
   "id": "hundred-afternoon",
   "metadata": {
    "scrolled": false
   },
   "outputs": [
    {
     "data": {
      "text/plain": [
       "58"
      ]
     },
     "execution_count": 18,
     "metadata": {},
     "output_type": "execute_result"
    }
   ],
   "source": [
    "len(train.columns)"
   ]
  },
  {
   "cell_type": "code",
   "execution_count": 19,
   "id": "compact-verse",
   "metadata": {},
   "outputs": [],
   "source": [
    "out_train.drop('DAYS_EMPLOYED',inplace=True,axis=1)\n",
    "out_test.drop('DAYS_EMPLOYED',inplace=True,axis=1)"
   ]
  },
  {
   "cell_type": "code",
   "execution_count": 20,
   "id": "working-distribution",
   "metadata": {},
   "outputs": [
    {
     "data": {
      "text/html": [
       "<div>\n",
       "<style scoped>\n",
       "    .dataframe tbody tr th:only-of-type {\n",
       "        vertical-align: middle;\n",
       "    }\n",
       "\n",
       "    .dataframe tbody tr th {\n",
       "        vertical-align: top;\n",
       "    }\n",
       "\n",
       "    .dataframe thead th {\n",
       "        text-align: right;\n",
       "    }\n",
       "</style>\n",
       "<table border=\"1\" class=\"dataframe\">\n",
       "  <thead>\n",
       "    <tr style=\"text-align: right;\">\n",
       "      <th></th>\n",
       "      <th>child_num</th>\n",
       "      <th>income_total</th>\n",
       "      <th>DAYS_BIRTH</th>\n",
       "      <th>FLAG_MOBIL</th>\n",
       "      <th>work_phone</th>\n",
       "      <th>phone</th>\n",
       "      <th>email</th>\n",
       "      <th>family_size</th>\n",
       "      <th>begin_month</th>\n",
       "      <th>credit</th>\n",
       "      <th>...</th>\n",
       "      <th>occyp_type_NAN</th>\n",
       "      <th>occyp_type_Private service staff</th>\n",
       "      <th>occyp_type_Realty agents</th>\n",
       "      <th>occyp_type_Sales staff</th>\n",
       "      <th>occyp_type_Secretaries</th>\n",
       "      <th>occyp_type_Security staff</th>\n",
       "      <th>occyp_type_Waiters/barmen staff</th>\n",
       "      <th>family_bins_0</th>\n",
       "      <th>family_bins_1</th>\n",
       "      <th>family_bins_2</th>\n",
       "    </tr>\n",
       "  </thead>\n",
       "  <tbody>\n",
       "    <tr>\n",
       "      <th>0</th>\n",
       "      <td>0</td>\n",
       "      <td>11.967181</td>\n",
       "      <td>-22922</td>\n",
       "      <td>1</td>\n",
       "      <td>0</td>\n",
       "      <td>1</td>\n",
       "      <td>0</td>\n",
       "      <td>1.0</td>\n",
       "      <td>-41.0</td>\n",
       "      <td>2.0</td>\n",
       "      <td>...</td>\n",
       "      <td>1.0</td>\n",
       "      <td>0.0</td>\n",
       "      <td>0.0</td>\n",
       "      <td>0.0</td>\n",
       "      <td>0.0</td>\n",
       "      <td>0.0</td>\n",
       "      <td>0.0</td>\n",
       "      <td>0.0</td>\n",
       "      <td>0.0</td>\n",
       "      <td>1.0</td>\n",
       "    </tr>\n",
       "    <tr>\n",
       "      <th>1</th>\n",
       "      <td>0</td>\n",
       "      <td>12.283034</td>\n",
       "      <td>-23113</td>\n",
       "      <td>1</td>\n",
       "      <td>0</td>\n",
       "      <td>0</td>\n",
       "      <td>0</td>\n",
       "      <td>2.0</td>\n",
       "      <td>-37.0</td>\n",
       "      <td>2.0</td>\n",
       "      <td>...</td>\n",
       "      <td>1.0</td>\n",
       "      <td>0.0</td>\n",
       "      <td>0.0</td>\n",
       "      <td>0.0</td>\n",
       "      <td>0.0</td>\n",
       "      <td>0.0</td>\n",
       "      <td>0.0</td>\n",
       "      <td>1.0</td>\n",
       "      <td>0.0</td>\n",
       "      <td>0.0</td>\n",
       "    </tr>\n",
       "    <tr>\n",
       "      <th>2</th>\n",
       "      <td>0</td>\n",
       "      <td>11.967181</td>\n",
       "      <td>-21253</td>\n",
       "      <td>1</td>\n",
       "      <td>0</td>\n",
       "      <td>1</td>\n",
       "      <td>0</td>\n",
       "      <td>2.0</td>\n",
       "      <td>-7.0</td>\n",
       "      <td>2.0</td>\n",
       "      <td>...</td>\n",
       "      <td>1.0</td>\n",
       "      <td>0.0</td>\n",
       "      <td>0.0</td>\n",
       "      <td>0.0</td>\n",
       "      <td>0.0</td>\n",
       "      <td>0.0</td>\n",
       "      <td>0.0</td>\n",
       "      <td>1.0</td>\n",
       "      <td>0.0</td>\n",
       "      <td>0.0</td>\n",
       "    </tr>\n",
       "    <tr>\n",
       "      <th>3</th>\n",
       "      <td>0</td>\n",
       "      <td>12.218495</td>\n",
       "      <td>-22361</td>\n",
       "      <td>1</td>\n",
       "      <td>0</td>\n",
       "      <td>1</td>\n",
       "      <td>0</td>\n",
       "      <td>1.0</td>\n",
       "      <td>-5.0</td>\n",
       "      <td>2.0</td>\n",
       "      <td>...</td>\n",
       "      <td>1.0</td>\n",
       "      <td>0.0</td>\n",
       "      <td>0.0</td>\n",
       "      <td>0.0</td>\n",
       "      <td>0.0</td>\n",
       "      <td>0.0</td>\n",
       "      <td>0.0</td>\n",
       "      <td>0.0</td>\n",
       "      <td>0.0</td>\n",
       "      <td>1.0</td>\n",
       "    </tr>\n",
       "    <tr>\n",
       "      <th>4</th>\n",
       "      <td>0</td>\n",
       "      <td>11.813030</td>\n",
       "      <td>-21100</td>\n",
       "      <td>1</td>\n",
       "      <td>0</td>\n",
       "      <td>1</td>\n",
       "      <td>0</td>\n",
       "      <td>1.0</td>\n",
       "      <td>-24.0</td>\n",
       "      <td>2.0</td>\n",
       "      <td>...</td>\n",
       "      <td>1.0</td>\n",
       "      <td>0.0</td>\n",
       "      <td>0.0</td>\n",
       "      <td>0.0</td>\n",
       "      <td>0.0</td>\n",
       "      <td>0.0</td>\n",
       "      <td>0.0</td>\n",
       "      <td>0.0</td>\n",
       "      <td>1.0</td>\n",
       "      <td>0.0</td>\n",
       "    </tr>\n",
       "  </tbody>\n",
       "</table>\n",
       "<p>5 rows × 57 columns</p>\n",
       "</div>"
      ],
      "text/plain": [
       "   child_num  income_total  DAYS_BIRTH  FLAG_MOBIL  work_phone  phone  email  \\\n",
       "0          0     11.967181      -22922           1           0      1      0   \n",
       "1          0     12.283034      -23113           1           0      0      0   \n",
       "2          0     11.967181      -21253           1           0      1      0   \n",
       "3          0     12.218495      -22361           1           0      1      0   \n",
       "4          0     11.813030      -21100           1           0      1      0   \n",
       "\n",
       "   family_size  begin_month  credit  ...  occyp_type_NAN  \\\n",
       "0          1.0        -41.0     2.0  ...             1.0   \n",
       "1          2.0        -37.0     2.0  ...             1.0   \n",
       "2          2.0         -7.0     2.0  ...             1.0   \n",
       "3          1.0         -5.0     2.0  ...             1.0   \n",
       "4          1.0        -24.0     2.0  ...             1.0   \n",
       "\n",
       "   occyp_type_Private service staff  occyp_type_Realty agents  \\\n",
       "0                               0.0                       0.0   \n",
       "1                               0.0                       0.0   \n",
       "2                               0.0                       0.0   \n",
       "3                               0.0                       0.0   \n",
       "4                               0.0                       0.0   \n",
       "\n",
       "   occyp_type_Sales staff  occyp_type_Secretaries  occyp_type_Security staff  \\\n",
       "0                     0.0                     0.0                        0.0   \n",
       "1                     0.0                     0.0                        0.0   \n",
       "2                     0.0                     0.0                        0.0   \n",
       "3                     0.0                     0.0                        0.0   \n",
       "4                     0.0                     0.0                        0.0   \n",
       "\n",
       "   occyp_type_Waiters/barmen staff  family_bins_0  family_bins_1  \\\n",
       "0                              0.0            0.0            0.0   \n",
       "1                              0.0            1.0            0.0   \n",
       "2                              0.0            1.0            0.0   \n",
       "3                              0.0            0.0            0.0   \n",
       "4                              0.0            0.0            1.0   \n",
       "\n",
       "   family_bins_2  \n",
       "0            1.0  \n",
       "1            0.0  \n",
       "2            0.0  \n",
       "3            1.0  \n",
       "4            0.0  \n",
       "\n",
       "[5 rows x 57 columns]"
      ]
     },
     "execution_count": 20,
     "metadata": {},
     "output_type": "execute_result"
    }
   ],
   "source": [
    "out_train.head()"
   ]
  },
  {
   "cell_type": "code",
   "execution_count": 21,
   "id": "spoken-sending",
   "metadata": {
    "scrolled": false
   },
   "outputs": [],
   "source": [
    "def tr(train):\n",
    "    skf = StratifiedKFold(n_splits=5, shuffle=True, random_state=42)\n",
    "    folds=[]\n",
    "    losses=[]\n",
    "    for train_idx, valid_idx in skf.split(train, train['credit']):\n",
    "        folds.append((train_idx, valid_idx))\n",
    "    random.seed(42)\n",
    "    lgb_models={}\n",
    "    for fold in range(5):\n",
    "        print(f'===================================={fold+1}============================================')\n",
    "        train_idx, valid_idx = folds[fold]\n",
    "        X_train, X_valid, y_train, y_valid = train.drop(['credit'],axis=1).iloc[train_idx].values, train.drop(['credit'],axis=1).iloc[valid_idx].values,\\\n",
    "                                             train['credit'][train_idx].values, train['credit'][valid_idx].values \n",
    "        lgb = LGBMClassifier(n_estimators=1000)\n",
    "        lgb.fit(X_train, y_train, \n",
    "                eval_set=[(X_train, y_train), (X_valid, y_valid)], \n",
    "                early_stopping_rounds=30,\n",
    "               verbose=100)\n",
    "        lgb_models[fold]=lgb\n",
    "        losses.append(log_loss(y_valid, lgb.predict_proba(X_valid)))\n",
    "        print(f'================================================================================\\n\\n')\n",
    "    ls = sum(losses)/5\n",
    "    print(ls)\n",
    "    return ls, lgb_models"
   ]
  },
  {
   "cell_type": "code",
   "execution_count": 22,
   "id": "serious-percentage",
   "metadata": {
    "scrolled": true
   },
   "outputs": [
    {
     "name": "stdout",
     "output_type": "stream",
     "text": [
      "====================================1============================================\n",
      "Training until validation scores don't improve for 30 rounds\n",
      "Early stopping, best iteration is:\n",
      "[46]\ttraining's multi_logloss: 0.536846\tvalid_1's multi_logloss: 0.730823\n",
      "================================================================================\n",
      "\n",
      "\n",
      "====================================2============================================\n",
      "Training until validation scores don't improve for 30 rounds\n",
      "Early stopping, best iteration is:\n",
      "[67]\ttraining's multi_logloss: 0.465484\tvalid_1's multi_logloss: 0.733352\n",
      "================================================================================\n",
      "\n",
      "\n",
      "====================================3============================================\n",
      "Training until validation scores don't improve for 30 rounds\n",
      "Early stopping, best iteration is:\n",
      "[41]\ttraining's multi_logloss: 0.548809\tvalid_1's multi_logloss: 0.747471\n",
      "================================================================================\n",
      "\n",
      "\n",
      "====================================4============================================\n",
      "Training until validation scores don't improve for 30 rounds\n",
      "Early stopping, best iteration is:\n",
      "[65]\ttraining's multi_logloss: 0.477421\tvalid_1's multi_logloss: 0.737816\n",
      "================================================================================\n",
      "\n",
      "\n",
      "====================================5============================================\n",
      "Training until validation scores don't improve for 30 rounds\n",
      "Early stopping, best iteration is:\n",
      "[57]\ttraining's multi_logloss: 0.494766\tvalid_1's multi_logloss: 0.756673\n",
      "================================================================================\n",
      "\n",
      "\n",
      "0.7412269713675264\n"
     ]
    }
   ],
   "source": [
    "out_loss, out_models = tr(out_train)"
   ]
  },
  {
   "cell_type": "code",
   "execution_count": 143,
   "id": "suffering-spanish",
   "metadata": {},
   "outputs": [],
   "source": [
    "# # 하기 전\n",
    "# 0.7473309710312624    # 365243\n",
    "# 0.7325143920950408\n",
    "\n",
    "############ income_total 줄어들었음\n",
    "# 0.7394330741897761 0.008감소\n",
    "# 0.7296875809525057 0.03감소\n",
    "\n",
    "## begin_month\n",
    "# 0.7473008353598098 감소\n",
    "# 0.7336974090198503 증가\n",
    "\n",
    "############ DAYS_BIRTH\n",
    "# 0.7429028769292156 0.005 감소\n",
    "# 0.7325143765246345 0.0000002 감소\n",
    "\n",
    "## employed\n",
    "# 0.7473309710312624 \n",
    "# 0.7327501285387077 증가\n",
    "\n",
    "########### income_total, days_birth\n",
    "# 0.7412269713675264 0.006 감소\n",
    "# 0.7296875809525057 0.003 감소\n",
    "\n",
    "\n",
    "\n",
    "\n",
    "\n",
    "\n",
    "\n",
    "\n",
    "\n",
    "## DAYS_BIRTH\n",
    "# 0.7429028769292156 0.005 감소\n",
    "# 0.7325143765246345 0.0000002 감소\n",
    "\n",
    "## income_total 줄어들었음\n",
    "# 0.7394330741897761 감소\n",
    "# 0.7296875809525057 감소\n",
    "\n"
   ]
  },
  {
   "cell_type": "code",
   "execution_count": 23,
   "id": "biblical-ballot",
   "metadata": {
    "scrolled": true
   },
   "outputs": [
    {
     "name": "stdout",
     "output_type": "stream",
     "text": [
      "====================================1============================================\n",
      "Training until validation scores don't improve for 30 rounds\n",
      "[100]\ttraining's multi_logloss: 0.619915\tvalid_1's multi_logloss: 0.744151\n",
      "[200]\ttraining's multi_logloss: 0.520925\tvalid_1's multi_logloss: 0.732577\n",
      "Early stopping, best iteration is:\n",
      "[196]\ttraining's multi_logloss: 0.524859\tvalid_1's multi_logloss: 0.732257\n",
      "================================================================================\n",
      "\n",
      "\n",
      "====================================2============================================\n",
      "Training until validation scores don't improve for 30 rounds\n",
      "[100]\ttraining's multi_logloss: 0.617449\tvalid_1's multi_logloss: 0.744036\n",
      "[200]\ttraining's multi_logloss: 0.519304\tvalid_1's multi_logloss: 0.734981\n",
      "Early stopping, best iteration is:\n",
      "[254]\ttraining's multi_logloss: 0.479195\tvalid_1's multi_logloss: 0.73341\n",
      "================================================================================\n",
      "\n",
      "\n",
      "====================================3============================================\n",
      "Training until validation scores don't improve for 30 rounds\n",
      "[100]\ttraining's multi_logloss: 0.616044\tvalid_1's multi_logloss: 0.740964\n",
      "[200]\ttraining's multi_logloss: 0.517185\tvalid_1's multi_logloss: 0.728717\n",
      "Early stopping, best iteration is:\n",
      "[252]\ttraining's multi_logloss: 0.478369\tvalid_1's multi_logloss: 0.727007\n",
      "================================================================================\n",
      "\n",
      "\n",
      "====================================4============================================\n",
      "Training until validation scores don't improve for 30 rounds\n",
      "[100]\ttraining's multi_logloss: 0.61611\tvalid_1's multi_logloss: 0.748569\n",
      "[200]\ttraining's multi_logloss: 0.519067\tvalid_1's multi_logloss: 0.733404\n",
      "[300]\ttraining's multi_logloss: 0.44738\tvalid_1's multi_logloss: 0.730803\n",
      "Early stopping, best iteration is:\n",
      "[280]\ttraining's multi_logloss: 0.459628\tvalid_1's multi_logloss: 0.729784\n",
      "================================================================================\n",
      "\n",
      "\n",
      "====================================5============================================\n",
      "Training until validation scores don't improve for 30 rounds\n",
      "[100]\ttraining's multi_logloss: 0.614249\tvalid_1's multi_logloss: 0.74542\n",
      "[200]\ttraining's multi_logloss: 0.515549\tvalid_1's multi_logloss: 0.730982\n",
      "[300]\ttraining's multi_logloss: 0.44302\tvalid_1's multi_logloss: 0.727859\n",
      "Early stopping, best iteration is:\n",
      "[279]\ttraining's multi_logloss: 0.456014\tvalid_1's multi_logloss: 0.725979\n",
      "================================================================================\n",
      "\n",
      "\n",
      "0.7296875809525057\n"
     ]
    }
   ],
   "source": [
    "in_loss, in_models = tr(in_train)"
   ]
  },
  {
   "cell_type": "code",
   "execution_count": null,
   "id": "digital-reader",
   "metadata": {},
   "outputs": [],
   "source": [
    "print(in_loss)"
   ]
  },
  {
   "cell_type": "code",
   "execution_count": 24,
   "id": "numerous-inquiry",
   "metadata": {},
   "outputs": [],
   "source": [
    "in_zeros = np.zeros([len(in_test),3])\n",
    "for fold in range(5):\n",
    "    in_zeros += in_models[fold].predict_proba(in_test)/5\n",
    "in_output = pd.DataFrame(in_zeros)\n",
    "in_output = in_output.reindex(index=pd.Index(idx_in_test))"
   ]
  },
  {
   "cell_type": "code",
   "execution_count": null,
   "id": "reasonable-immune",
   "metadata": {},
   "outputs": [],
   "source": [
    "out_zeros = np.zeros([len(out_test),3])\n",
    "for fold in range(5):\n",
    "    out_zeros += out_models[fold].predict_proba(out_test)/5\n",
    "in_output = pd.DataFrame(in_zeros)\n",
    "in_output = in_output.reindex(index=pd.Index(idx_in_test))"
   ]
  },
  {
   "cell_type": "code",
   "execution_count": 186,
   "id": "sacred-alcohol",
   "metadata": {},
   "outputs": [],
   "source": [
    "in2 = np.concatenate((in_zeros,np.array(idx_in_test).reshape(-1,1)),axis=1)\n",
    "out2 = np.concatenate((out_zeros,np.array(idx_out_test).reshape(-1,1)),axis=1)"
   ]
  },
  {
   "cell_type": "code",
   "execution_count": 187,
   "id": "false-builder",
   "metadata": {},
   "outputs": [],
   "source": [
    "output = pd.DataFrame(np.concatenate((in2,out2),axis=0),columns=[0,1,2,'index'])"
   ]
  },
  {
   "cell_type": "code",
   "execution_count": 188,
   "id": "intensive-irish",
   "metadata": {},
   "outputs": [],
   "source": [
    "output['index'] = output['index'].astype('int')"
   ]
  },
  {
   "cell_type": "code",
   "execution_count": 196,
   "id": "middle-fellow",
   "metadata": {},
   "outputs": [],
   "source": [
    "ss = pd.read_csv(d + '\\\\' +lst[1])"
   ]
  },
  {
   "cell_type": "code",
   "execution_count": 199,
   "id": "imposed-homeless",
   "metadata": {},
   "outputs": [
    {
     "data": {
      "text/html": [
       "<div>\n",
       "<style scoped>\n",
       "    .dataframe tbody tr th:only-of-type {\n",
       "        vertical-align: middle;\n",
       "    }\n",
       "\n",
       "    .dataframe tbody tr th {\n",
       "        vertical-align: top;\n",
       "    }\n",
       "\n",
       "    .dataframe thead th {\n",
       "        text-align: right;\n",
       "    }\n",
       "</style>\n",
       "<table border=\"1\" class=\"dataframe\">\n",
       "  <thead>\n",
       "    <tr style=\"text-align: right;\">\n",
       "      <th></th>\n",
       "      <th>0</th>\n",
       "      <th>1</th>\n",
       "      <th>2</th>\n",
       "      <th>index</th>\n",
       "    </tr>\n",
       "  </thead>\n",
       "  <tbody>\n",
       "    <tr>\n",
       "      <th>0</th>\n",
       "      <td>0.254328</td>\n",
       "      <td>0.176459</td>\n",
       "      <td>0.569213</td>\n",
       "      <td>1</td>\n",
       "    </tr>\n",
       "    <tr>\n",
       "      <th>1</th>\n",
       "      <td>0.037702</td>\n",
       "      <td>0.077119</td>\n",
       "      <td>0.885179</td>\n",
       "      <td>2</td>\n",
       "    </tr>\n",
       "    <tr>\n",
       "      <th>2</th>\n",
       "      <td>0.150319</td>\n",
       "      <td>0.105418</td>\n",
       "      <td>0.744263</td>\n",
       "      <td>3</td>\n",
       "    </tr>\n",
       "    <tr>\n",
       "      <th>3</th>\n",
       "      <td>0.074441</td>\n",
       "      <td>0.168475</td>\n",
       "      <td>0.757084</td>\n",
       "      <td>4</td>\n",
       "    </tr>\n",
       "    <tr>\n",
       "      <th>4</th>\n",
       "      <td>0.057947</td>\n",
       "      <td>0.112467</td>\n",
       "      <td>0.829586</td>\n",
       "      <td>5</td>\n",
       "    </tr>\n",
       "    <tr>\n",
       "      <th>...</th>\n",
       "      <td>...</td>\n",
       "      <td>...</td>\n",
       "      <td>...</td>\n",
       "      <td>...</td>\n",
       "    </tr>\n",
       "    <tr>\n",
       "      <th>9995</th>\n",
       "      <td>0.045256</td>\n",
       "      <td>0.062820</td>\n",
       "      <td>0.891924</td>\n",
       "      <td>9968</td>\n",
       "    </tr>\n",
       "    <tr>\n",
       "      <th>9996</th>\n",
       "      <td>0.113289</td>\n",
       "      <td>0.091170</td>\n",
       "      <td>0.795541</td>\n",
       "      <td>9981</td>\n",
       "    </tr>\n",
       "    <tr>\n",
       "      <th>9997</th>\n",
       "      <td>0.162660</td>\n",
       "      <td>0.185026</td>\n",
       "      <td>0.652315</td>\n",
       "      <td>9988</td>\n",
       "    </tr>\n",
       "    <tr>\n",
       "      <th>9998</th>\n",
       "      <td>0.231756</td>\n",
       "      <td>0.133885</td>\n",
       "      <td>0.634359</td>\n",
       "      <td>9992</td>\n",
       "    </tr>\n",
       "    <tr>\n",
       "      <th>9999</th>\n",
       "      <td>0.083838</td>\n",
       "      <td>0.910228</td>\n",
       "      <td>0.005934</td>\n",
       "      <td>9994</td>\n",
       "    </tr>\n",
       "  </tbody>\n",
       "</table>\n",
       "<p>10000 rows × 4 columns</p>\n",
       "</div>"
      ],
      "text/plain": [
       "             0         1         2  index\n",
       "0     0.254328  0.176459  0.569213      1\n",
       "1     0.037702  0.077119  0.885179      2\n",
       "2     0.150319  0.105418  0.744263      3\n",
       "3     0.074441  0.168475  0.757084      4\n",
       "4     0.057947  0.112467  0.829586      5\n",
       "...        ...       ...       ...    ...\n",
       "9995  0.045256  0.062820  0.891924   9968\n",
       "9996  0.113289  0.091170  0.795541   9981\n",
       "9997  0.162660  0.185026  0.652315   9988\n",
       "9998  0.231756  0.133885  0.634359   9992\n",
       "9999  0.083838  0.910228  0.005934   9994\n",
       "\n",
       "[10000 rows x 4 columns]"
      ]
     },
     "execution_count": 199,
     "metadata": {},
     "output_type": "execute_result"
    }
   ],
   "source": [
    "output"
   ]
  },
  {
   "cell_type": "code",
   "execution_count": 200,
   "id": "incoming-savings",
   "metadata": {},
   "outputs": [],
   "source": [
    "for i in range(len(output)):\n",
    "    row = output.loc[output['index']==i]\n",
    "    ss.iloc[i,1:] = row.iloc[:,:3]"
   ]
  },
  {
   "cell_type": "code",
   "execution_count": 204,
   "id": "extraordinary-copying",
   "metadata": {},
   "outputs": [],
   "source": [
    "ss.to_csv('two_models.csv', index=False)"
   ]
  },
  {
   "cell_type": "code",
   "execution_count": 205,
   "id": "primary-charlotte",
   "metadata": {},
   "outputs": [
    {
     "data": {
      "text/html": [
       "<div>\n",
       "<style scoped>\n",
       "    .dataframe tbody tr th:only-of-type {\n",
       "        vertical-align: middle;\n",
       "    }\n",
       "\n",
       "    .dataframe tbody tr th {\n",
       "        vertical-align: top;\n",
       "    }\n",
       "\n",
       "    .dataframe thead th {\n",
       "        text-align: right;\n",
       "    }\n",
       "</style>\n",
       "<table border=\"1\" class=\"dataframe\">\n",
       "  <thead>\n",
       "    <tr style=\"text-align: right;\">\n",
       "      <th></th>\n",
       "      <th>0</th>\n",
       "      <th>1</th>\n",
       "      <th>2</th>\n",
       "      <th>index</th>\n",
       "    </tr>\n",
       "  </thead>\n",
       "  <tbody>\n",
       "    <tr>\n",
       "      <th>0</th>\n",
       "      <td>0.254328</td>\n",
       "      <td>0.176459</td>\n",
       "      <td>0.569213</td>\n",
       "      <td>1</td>\n",
       "    </tr>\n",
       "    <tr>\n",
       "      <th>1</th>\n",
       "      <td>0.037702</td>\n",
       "      <td>0.077119</td>\n",
       "      <td>0.885179</td>\n",
       "      <td>2</td>\n",
       "    </tr>\n",
       "    <tr>\n",
       "      <th>2</th>\n",
       "      <td>0.150319</td>\n",
       "      <td>0.105418</td>\n",
       "      <td>0.744263</td>\n",
       "      <td>3</td>\n",
       "    </tr>\n",
       "    <tr>\n",
       "      <th>3</th>\n",
       "      <td>0.074441</td>\n",
       "      <td>0.168475</td>\n",
       "      <td>0.757084</td>\n",
       "      <td>4</td>\n",
       "    </tr>\n",
       "    <tr>\n",
       "      <th>4</th>\n",
       "      <td>0.057947</td>\n",
       "      <td>0.112467</td>\n",
       "      <td>0.829586</td>\n",
       "      <td>5</td>\n",
       "    </tr>\n",
       "  </tbody>\n",
       "</table>\n",
       "</div>"
      ],
      "text/plain": [
       "          0         1         2  index\n",
       "0  0.254328  0.176459  0.569213      1\n",
       "1  0.037702  0.077119  0.885179      2\n",
       "2  0.150319  0.105418  0.744263      3\n",
       "3  0.074441  0.168475  0.757084      4\n",
       "4  0.057947  0.112467  0.829586      5"
      ]
     },
     "execution_count": 205,
     "metadata": {},
     "output_type": "execute_result"
    }
   ],
   "source": [
    "output.head()"
   ]
  },
  {
   "cell_type": "code",
   "execution_count": 206,
   "id": "perceived-seattle",
   "metadata": {},
   "outputs": [
    {
     "data": {
      "text/html": [
       "<div>\n",
       "<style scoped>\n",
       "    .dataframe tbody tr th:only-of-type {\n",
       "        vertical-align: middle;\n",
       "    }\n",
       "\n",
       "    .dataframe tbody tr th {\n",
       "        vertical-align: top;\n",
       "    }\n",
       "\n",
       "    .dataframe thead th {\n",
       "        text-align: right;\n",
       "    }\n",
       "</style>\n",
       "<table border=\"1\" class=\"dataframe\">\n",
       "  <thead>\n",
       "    <tr style=\"text-align: right;\">\n",
       "      <th></th>\n",
       "      <th>0</th>\n",
       "      <th>1</th>\n",
       "      <th>2</th>\n",
       "      <th>index</th>\n",
       "    </tr>\n",
       "  </thead>\n",
       "  <tbody>\n",
       "    <tr>\n",
       "      <th>9995</th>\n",
       "      <td>0.045256</td>\n",
       "      <td>0.062820</td>\n",
       "      <td>0.891924</td>\n",
       "      <td>9968</td>\n",
       "    </tr>\n",
       "    <tr>\n",
       "      <th>9996</th>\n",
       "      <td>0.113289</td>\n",
       "      <td>0.091170</td>\n",
       "      <td>0.795541</td>\n",
       "      <td>9981</td>\n",
       "    </tr>\n",
       "    <tr>\n",
       "      <th>9997</th>\n",
       "      <td>0.162660</td>\n",
       "      <td>0.185026</td>\n",
       "      <td>0.652315</td>\n",
       "      <td>9988</td>\n",
       "    </tr>\n",
       "    <tr>\n",
       "      <th>9998</th>\n",
       "      <td>0.231756</td>\n",
       "      <td>0.133885</td>\n",
       "      <td>0.634359</td>\n",
       "      <td>9992</td>\n",
       "    </tr>\n",
       "    <tr>\n",
       "      <th>9999</th>\n",
       "      <td>0.083838</td>\n",
       "      <td>0.910228</td>\n",
       "      <td>0.005934</td>\n",
       "      <td>9994</td>\n",
       "    </tr>\n",
       "  </tbody>\n",
       "</table>\n",
       "</div>"
      ],
      "text/plain": [
       "             0         1         2  index\n",
       "9995  0.045256  0.062820  0.891924   9968\n",
       "9996  0.113289  0.091170  0.795541   9981\n",
       "9997  0.162660  0.185026  0.652315   9988\n",
       "9998  0.231756  0.133885  0.634359   9992\n",
       "9999  0.083838  0.910228  0.005934   9994"
      ]
     },
     "execution_count": 206,
     "metadata": {},
     "output_type": "execute_result"
    }
   ],
   "source": [
    "output.tail()"
   ]
  }
 ],
 "metadata": {
  "kernelspec": {
   "display_name": "Python 3",
   "language": "python",
   "name": "python3"
  },
  "language_info": {
   "codemirror_mode": {
    "name": "ipython",
    "version": 3
   },
   "file_extension": ".py",
   "mimetype": "text/x-python",
   "name": "python",
   "nbconvert_exporter": "python",
   "pygments_lexer": "ipython3",
   "version": "3.7.6"
  }
 },
 "nbformat": 4,
 "nbformat_minor": 5
}
