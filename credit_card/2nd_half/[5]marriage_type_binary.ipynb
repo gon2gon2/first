{
 "cells": [
  {
   "cell_type": "code",
   "execution_count": 13,
   "id": "quantitative-shore",
   "metadata": {},
   "outputs": [],
   "source": [
    "import warnings\n",
    "warnings.filterwarnings('ignore')\n",
    "import glob\n",
    "import pandas as pd\n",
    "import numpy as np\n",
    "import seaborn as sns\n",
    "import matplotlib.pyplot as plt\n",
    "from lightgbm import LGBMClassifier\n",
    "from sklearn.model_selection import StratifiedKFold\n",
    "from sklearn.preprocessing import OneHotEncoder\n",
    "import random\n",
    "import os\n",
    "from sklearn.metrics import log_loss"
   ]
  },
  {
   "cell_type": "code",
   "execution_count": 14,
   "id": "devoted-biology",
   "metadata": {},
   "outputs": [
    {
     "name": "stdout",
     "output_type": "stream",
     "text": [
      "['.ipynb_checkpoints', 'sample_submission.csv', 'test.csv', 'train.csv', 'Untitled.ipynb']\n"
     ]
    }
   ],
   "source": [
    "d = \"C:\\kaggle_data\\credit_card\"\n",
    "lst = os.listdir(d)\n",
    "print(lst)\n",
    "train = pd.read_csv(d + '\\\\' +lst[3])\n",
    "test = pd.read_csv(d + '\\\\' +lst[2])\n",
    "ss = pd.read_csv(d + '\\\\' +lst[1])\n",
    "train = train.drop(['index'], axis=1)\n",
    "train.fillna('NAN', inplace=True) \n",
    "test = test.drop(['index'], axis=1)\n",
    "test.fillna('NAN', inplace=True)"
   ]
  },
  {
   "cell_type": "markdown",
   "id": "interracial-guatemala",
   "metadata": {},
   "source": [
    "# 전처리"
   ]
  },
  {
   "cell_type": "markdown",
   "id": "revolutionary-attention",
   "metadata": {},
   "source": [
    "### family_type\n",
    "- 'Married', 'Civil marriage'\n",
    "- 'Separated', 'Single / not married', 'Widow'"
   ]
  },
  {
   "cell_type": "code",
   "execution_count": 15,
   "id": "necessary-bride",
   "metadata": {
    "scrolled": true
   },
   "outputs": [
    {
     "data": {
      "text/plain": [
       "array(['Married', 'Civil marriage', 'Separated', 'Single / not married',\n",
       "       'Widow'], dtype=object)"
      ]
     },
     "execution_count": 15,
     "metadata": {},
     "output_type": "execute_result"
    }
   ],
   "source": [
    "train['family_type'].unique()"
   ]
  },
  {
   "cell_type": "code",
   "execution_count": 16,
   "id": "internal-cassette",
   "metadata": {},
   "outputs": [],
   "source": [
    "# Married, Civil marriage\n",
    "train['income_per_size'] = np.log(train['income_total']/train['family_size'])\n",
    "test['income_per_size'] = np.log(test['income_total']/test['family_size'])\n",
    "train.loc[(train['family_type']=='Married')|(train['family_type']=='Civil marriage'),'income_per_size']\\\n",
    "= train['income_per_size'] * 2\n",
    "\n",
    "test.loc[(test['family_type']=='Married')|(test['family_type']=='Civil marriage'),'income_per_size']\\\n",
    "= test['income_per_size'] * 2"
   ]
  },
  {
   "cell_type": "code",
   "execution_count": 17,
   "id": "internal-probability",
   "metadata": {},
   "outputs": [],
   "source": [
    "def simple_marry(x):\n",
    "    if x == 'Married' or x =='Civil marriage':\n",
    "        return '0'\n",
    "    else:\n",
    "        return '1'"
   ]
  },
  {
   "cell_type": "code",
   "execution_count": 18,
   "id": "accomplished-metro",
   "metadata": {},
   "outputs": [],
   "source": [
    "for df in [train,test]:\n",
    "    df['family_binary'] = df['family_type'].apply(simple_marry)"
   ]
  },
  {
   "cell_type": "code",
   "execution_count": 19,
   "id": "increasing-moses",
   "metadata": {},
   "outputs": [],
   "source": [
    "# income_total을 로그변환 한 새로운 feature log_income\n",
    "# 기존 칼럼 삭제\n",
    "train['log_income'] = np.log(train['income_total'])\n",
    "train = train.drop('income_total',1)\n",
    "test['log_income'] = np.log(test['income_total'])\n",
    "test = test.drop('income_total',1)"
   ]
  },
  {
   "cell_type": "code",
   "execution_count": 20,
   "id": "constant-cotton",
   "metadata": {},
   "outputs": [],
   "source": [
    "# car와 reality를 합친 새로운 칼럼 careality\n",
    "train['careality'] = train['car'] + train['reality']\n",
    "train = train.drop(['car', 'reality'],1)\n",
    "\n",
    "test['careality'] = test['car'] + test['reality']\n",
    "test = test.drop(['car', 'reality'],1)"
   ]
  },
  {
   "cell_type": "code",
   "execution_count": 21,
   "id": "latest-copying",
   "metadata": {},
   "outputs": [],
   "source": [
    "object_col = []\n",
    "for col in train.columns:\n",
    "    if train[col].dtype == 'object':\n",
    "        object_col.append(col)"
   ]
  },
  {
   "cell_type": "code",
   "execution_count": 22,
   "id": "maritime-directory",
   "metadata": {},
   "outputs": [],
   "source": [
    "enc = OneHotEncoder()\n",
    "enc.fit(train.loc[:,object_col])\n",
    "\n",
    "\n",
    "train_onehot_df = pd.DataFrame(enc.transform(train.loc[:,object_col]).toarray(), \n",
    "             columns=enc.get_feature_names(object_col))\n",
    "train.drop(object_col, axis=1, inplace=True)\n",
    "train = pd.concat([train, train_onehot_df], axis=1)"
   ]
  },
  {
   "cell_type": "code",
   "execution_count": 23,
   "id": "informal-sixth",
   "metadata": {},
   "outputs": [],
   "source": [
    "test_onehot_df = pd.DataFrame(enc.transform(test.loc[:,object_col]).toarray(), \n",
    "             columns=enc.get_feature_names(object_col))\n",
    "test.drop(object_col, axis=1, inplace=True)\n",
    "test = pd.concat([test, test_onehot_df], axis=1)"
   ]
  },
  {
   "cell_type": "markdown",
   "id": "precise-dating",
   "metadata": {},
   "source": [
    "# 모델링, 학습"
   ]
  },
  {
   "cell_type": "code",
   "execution_count": 24,
   "id": "hundred-afternoon",
   "metadata": {
    "scrolled": true
   },
   "outputs": [
    {
     "data": {
      "text/plain": [
       "Index(['child_num', 'DAYS_BIRTH', 'DAYS_EMPLOYED', 'FLAG_MOBIL', 'work_phone',\n",
       "       'phone', 'email', 'family_size', 'begin_month', 'credit',\n",
       "       'income_per_size', 'log_income', 'gender_F', 'gender_M',\n",
       "       'income_type_Commercial associate', 'income_type_Pensioner',\n",
       "       'income_type_State servant', 'income_type_Student',\n",
       "       'income_type_Working', 'edu_type_Academic degree',\n",
       "       'edu_type_Higher education', 'edu_type_Incomplete higher',\n",
       "       'edu_type_Lower secondary', 'edu_type_Secondary / secondary special',\n",
       "       'family_type_Civil marriage', 'family_type_Married',\n",
       "       'family_type_Separated', 'family_type_Single / not married',\n",
       "       'family_type_Widow', 'house_type_Co-op apartment',\n",
       "       'house_type_House / apartment', 'house_type_Municipal apartment',\n",
       "       'house_type_Office apartment', 'house_type_Rented apartment',\n",
       "       'house_type_With parents', 'occyp_type_Accountants',\n",
       "       'occyp_type_Cleaning staff', 'occyp_type_Cooking staff',\n",
       "       'occyp_type_Core staff', 'occyp_type_Drivers', 'occyp_type_HR staff',\n",
       "       'occyp_type_High skill tech staff', 'occyp_type_IT staff',\n",
       "       'occyp_type_Laborers', 'occyp_type_Low-skill Laborers',\n",
       "       'occyp_type_Managers', 'occyp_type_Medicine staff', 'occyp_type_NAN',\n",
       "       'occyp_type_Private service staff', 'occyp_type_Realty agents',\n",
       "       'occyp_type_Sales staff', 'occyp_type_Secretaries',\n",
       "       'occyp_type_Security staff', 'occyp_type_Waiters/barmen staff',\n",
       "       'family_binary_0', 'family_binary_1', 'careality_NN', 'careality_NY',\n",
       "       'careality_YN', 'careality_YY'],\n",
       "      dtype='object')"
      ]
     },
     "execution_count": 24,
     "metadata": {},
     "output_type": "execute_result"
    }
   ],
   "source": [
    "train.columns"
   ]
  },
  {
   "cell_type": "code",
   "execution_count": 25,
   "id": "spoken-sending",
   "metadata": {
    "scrolled": false
   },
   "outputs": [
    {
     "name": "stdout",
     "output_type": "stream",
     "text": [
      "====================================1============================================\n",
      "Training until validation scores don't improve for 30 rounds\n",
      "[100]\ttraining's multi_logloss: 0.646009\tvalid_1's multi_logloss: 0.749493\n",
      "[200]\ttraining's multi_logloss: 0.55779\tvalid_1's multi_logloss: 0.731471\n",
      "[300]\ttraining's multi_logloss: 0.495709\tvalid_1's multi_logloss: 0.723063\n",
      "[400]\ttraining's multi_logloss: 0.4432\tvalid_1's multi_logloss: 0.721638\n",
      "Early stopping, best iteration is:\n",
      "[404]\ttraining's multi_logloss: 0.441529\tvalid_1's multi_logloss: 0.721517\n",
      "================================================================================\n",
      "\n",
      "\n",
      "====================================2============================================\n",
      "Training until validation scores don't improve for 30 rounds\n",
      "[100]\ttraining's multi_logloss: 0.642517\tvalid_1's multi_logloss: 0.760614\n",
      "[200]\ttraining's multi_logloss: 0.556102\tvalid_1's multi_logloss: 0.74657\n",
      "[300]\ttraining's multi_logloss: 0.491893\tvalid_1's multi_logloss: 0.743572\n",
      "Early stopping, best iteration is:\n",
      "[309]\ttraining's multi_logloss: 0.486562\tvalid_1's multi_logloss: 0.743009\n",
      "================================================================================\n",
      "\n",
      "\n",
      "====================================3============================================\n",
      "Training until validation scores don't improve for 30 rounds\n",
      "[100]\ttraining's multi_logloss: 0.648089\tvalid_1's multi_logloss: 0.756029\n",
      "[200]\ttraining's multi_logloss: 0.556803\tvalid_1's multi_logloss: 0.740896\n",
      "[300]\ttraining's multi_logloss: 0.489851\tvalid_1's multi_logloss: 0.736229\n",
      "Early stopping, best iteration is:\n",
      "[310]\ttraining's multi_logloss: 0.48413\tvalid_1's multi_logloss: 0.735722\n",
      "================================================================================\n",
      "\n",
      "\n",
      "====================================4============================================\n",
      "Training until validation scores don't improve for 30 rounds\n",
      "[100]\ttraining's multi_logloss: 0.642604\tvalid_1's multi_logloss: 0.748122\n",
      "[200]\ttraining's multi_logloss: 0.556241\tvalid_1's multi_logloss: 0.732154\n",
      "Early stopping, best iteration is:\n",
      "[269]\ttraining's multi_logloss: 0.509811\tvalid_1's multi_logloss: 0.728637\n",
      "================================================================================\n",
      "\n",
      "\n",
      "====================================5============================================\n",
      "Training until validation scores don't improve for 30 rounds\n",
      "[100]\ttraining's multi_logloss: 0.64793\tvalid_1's multi_logloss: 0.753297\n",
      "[200]\ttraining's multi_logloss: 0.558452\tvalid_1's multi_logloss: 0.740823\n",
      "Early stopping, best iteration is:\n",
      "[259]\ttraining's multi_logloss: 0.517126\tvalid_1's multi_logloss: 0.736998\n",
      "================================================================================\n",
      "\n",
      "\n",
      "0.7331765265764199\n"
     ]
    }
   ],
   "source": [
    "skf = StratifiedKFold(n_splits=5, shuffle=True, random_state=42)\n",
    "folds=[]\n",
    "losses=[]\n",
    "for train_idx, valid_idx in skf.split(train, train['credit']):\n",
    "    folds.append((train_idx, valid_idx))\n",
    "random.seed(42)\n",
    "lgb_models={}\n",
    "for fold in range(5):\n",
    "    print(f'===================================={fold+1}============================================')\n",
    "    train_idx, valid_idx = folds[fold]\n",
    "    X_train, X_valid, y_train, y_valid = train.drop(['credit'],axis=1).iloc[train_idx].values, train.drop(['credit'],axis=1).iloc[valid_idx].values,\\\n",
    "                                         train['credit'][train_idx].values, train['credit'][valid_idx].values \n",
    "    lgb = LGBMClassifier(n_estimators=1000)\n",
    "    lgb.fit(X_train, y_train, \n",
    "            eval_set=[(X_train, y_train), (X_valid, y_valid)], \n",
    "            early_stopping_rounds=30,\n",
    "           verbose=100)\n",
    "    lgb_models[fold]=lgb\n",
    "    losses.append(log_loss(y_valid, lgb.predict_proba(X_valid)))\n",
    "    print(f'================================================================================\\n\\n')\n",
    "print(sum(losses)/5)"
   ]
  },
  {
   "cell_type": "code",
   "execution_count": null,
   "id": "challenging-arizona",
   "metadata": {},
   "outputs": [],
   "source": [
    "# 이전 점수\n",
    "# 0.7341944423873108\n",
    "# 0.7331765265764199"
   ]
  },
  {
   "cell_type": "code",
   "execution_count": 22,
   "id": "twelve-weapon",
   "metadata": {},
   "outputs": [],
   "source": [
    "ss.iloc[:,1:]=0\n",
    "for fold in range(5):\n",
    "    ss.iloc[:,1:] += lgb_models[fold].predict_proba(test)/5"
   ]
  },
  {
   "cell_type": "code",
   "execution_count": 36,
   "id": "sustainable-stopping",
   "metadata": {},
   "outputs": [],
   "source": [
    "ss.to_csv('baseline_ips_marriage.csv', index=False)"
   ]
  },
  {
   "cell_type": "code",
   "execution_count": 35,
   "id": "modular-crest",
   "metadata": {
    "scrolled": false
   },
   "outputs": [
    {
     "ename": "ValueError",
     "evalue": "Could not interpret input 'income_total'",
     "output_type": "error",
     "traceback": [
      "\u001b[1;31m-------------------------------------------------------------------------\u001b[0m",
      "\u001b[1;31mValueError\u001b[0m                              Traceback (most recent call last)",
      "\u001b[1;32m<ipython-input-35-de5b1a5ccd7f>\u001b[0m in \u001b[0;36m<module>\u001b[1;34m\u001b[0m\n\u001b[1;32m----> 1\u001b[1;33m \u001b[0msns\u001b[0m\u001b[1;33m.\u001b[0m\u001b[0mfactorplot\u001b[0m\u001b[1;33m(\u001b[0m\u001b[0mx\u001b[0m\u001b[1;33m=\u001b[0m\u001b[1;34m'credit'\u001b[0m\u001b[1;33m,\u001b[0m\u001b[0mhue\u001b[0m\u001b[1;33m=\u001b[0m\u001b[1;34m'family_type'\u001b[0m\u001b[1;33m,\u001b[0m\u001b[0mdata\u001b[0m\u001b[1;33m=\u001b[0m\u001b[0mtrain\u001b[0m\u001b[1;33m,\u001b[0m\u001b[0my\u001b[0m\u001b[1;33m=\u001b[0m\u001b[1;34m'income_total'\u001b[0m\u001b[1;33m)\u001b[0m\u001b[1;33m\u001b[0m\u001b[1;33m\u001b[0m\u001b[0m\n\u001b[0m",
      "\u001b[1;32mC:\\Anaconda3\\lib\\site-packages\\seaborn\\categorical.py\u001b[0m in \u001b[0;36mfactorplot\u001b[1;34m(*args, **kwargs)\u001b[0m\n\u001b[0;32m   3722\u001b[0m     \u001b[0mkwargs\u001b[0m\u001b[1;33m.\u001b[0m\u001b[0msetdefault\u001b[0m\u001b[1;33m(\u001b[0m\u001b[1;34m\"kind\"\u001b[0m\u001b[1;33m,\u001b[0m \u001b[1;34m\"point\"\u001b[0m\u001b[1;33m)\u001b[0m\u001b[1;33m\u001b[0m\u001b[1;33m\u001b[0m\u001b[0m\n\u001b[0;32m   3723\u001b[0m \u001b[1;33m\u001b[0m\u001b[0m\n\u001b[1;32m-> 3724\u001b[1;33m     \u001b[1;32mreturn\u001b[0m \u001b[0mcatplot\u001b[0m\u001b[1;33m(\u001b[0m\u001b[1;33m*\u001b[0m\u001b[0margs\u001b[0m\u001b[1;33m,\u001b[0m \u001b[1;33m**\u001b[0m\u001b[0mkwargs\u001b[0m\u001b[1;33m)\u001b[0m\u001b[1;33m\u001b[0m\u001b[1;33m\u001b[0m\u001b[0m\n\u001b[0m\u001b[0;32m   3725\u001b[0m \u001b[1;33m\u001b[0m\u001b[0m\n\u001b[0;32m   3726\u001b[0m \u001b[1;33m\u001b[0m\u001b[0m\n",
      "\u001b[1;32mC:\\Anaconda3\\lib\\site-packages\\seaborn\\_decorators.py\u001b[0m in \u001b[0;36minner_f\u001b[1;34m(*args, **kwargs)\u001b[0m\n\u001b[0;32m     44\u001b[0m             )\n\u001b[0;32m     45\u001b[0m         \u001b[0mkwargs\u001b[0m\u001b[1;33m.\u001b[0m\u001b[0mupdate\u001b[0m\u001b[1;33m(\u001b[0m\u001b[1;33m{\u001b[0m\u001b[0mk\u001b[0m\u001b[1;33m:\u001b[0m \u001b[0marg\u001b[0m \u001b[1;32mfor\u001b[0m \u001b[0mk\u001b[0m\u001b[1;33m,\u001b[0m \u001b[0marg\u001b[0m \u001b[1;32min\u001b[0m \u001b[0mzip\u001b[0m\u001b[1;33m(\u001b[0m\u001b[0msig\u001b[0m\u001b[1;33m.\u001b[0m\u001b[0mparameters\u001b[0m\u001b[1;33m,\u001b[0m \u001b[0margs\u001b[0m\u001b[1;33m)\u001b[0m\u001b[1;33m}\u001b[0m\u001b[1;33m)\u001b[0m\u001b[1;33m\u001b[0m\u001b[1;33m\u001b[0m\u001b[0m\n\u001b[1;32m---> 46\u001b[1;33m         \u001b[1;32mreturn\u001b[0m \u001b[0mf\u001b[0m\u001b[1;33m(\u001b[0m\u001b[1;33m**\u001b[0m\u001b[0mkwargs\u001b[0m\u001b[1;33m)\u001b[0m\u001b[1;33m\u001b[0m\u001b[1;33m\u001b[0m\u001b[0m\n\u001b[0m\u001b[0;32m     47\u001b[0m     \u001b[1;32mreturn\u001b[0m \u001b[0minner_f\u001b[0m\u001b[1;33m\u001b[0m\u001b[1;33m\u001b[0m\u001b[0m\n\u001b[0;32m     48\u001b[0m \u001b[1;33m\u001b[0m\u001b[0m\n",
      "\u001b[1;32mC:\\Anaconda3\\lib\\site-packages\\seaborn\\categorical.py\u001b[0m in \u001b[0;36mcatplot\u001b[1;34m(x, y, hue, data, row, col, col_wrap, estimator, ci, n_boot, units, seed, order, hue_order, row_order, col_order, kind, height, aspect, orient, color, palette, legend, legend_out, sharex, sharey, margin_titles, facet_kws, **kwargs)\u001b[0m\n\u001b[0;32m   3787\u001b[0m     \u001b[0mp\u001b[0m \u001b[1;33m=\u001b[0m \u001b[0m_CategoricalPlotter\u001b[0m\u001b[1;33m(\u001b[0m\u001b[1;33m)\u001b[0m\u001b[1;33m\u001b[0m\u001b[1;33m\u001b[0m\u001b[0m\n\u001b[0;32m   3788\u001b[0m     \u001b[0mp\u001b[0m\u001b[1;33m.\u001b[0m\u001b[0mrequire_numeric\u001b[0m \u001b[1;33m=\u001b[0m \u001b[0mplotter_class\u001b[0m\u001b[1;33m.\u001b[0m\u001b[0mrequire_numeric\u001b[0m\u001b[1;33m\u001b[0m\u001b[1;33m\u001b[0m\u001b[0m\n\u001b[1;32m-> 3789\u001b[1;33m     \u001b[0mp\u001b[0m\u001b[1;33m.\u001b[0m\u001b[0mestablish_variables\u001b[0m\u001b[1;33m(\u001b[0m\u001b[0mx_\u001b[0m\u001b[1;33m,\u001b[0m \u001b[0my_\u001b[0m\u001b[1;33m,\u001b[0m \u001b[0mhue\u001b[0m\u001b[1;33m,\u001b[0m \u001b[0mdata\u001b[0m\u001b[1;33m,\u001b[0m \u001b[0morient\u001b[0m\u001b[1;33m,\u001b[0m \u001b[0morder\u001b[0m\u001b[1;33m,\u001b[0m \u001b[0mhue_order\u001b[0m\u001b[1;33m)\u001b[0m\u001b[1;33m\u001b[0m\u001b[1;33m\u001b[0m\u001b[0m\n\u001b[0m\u001b[0;32m   3790\u001b[0m     if (\n\u001b[0;32m   3791\u001b[0m         \u001b[0morder\u001b[0m \u001b[1;32mis\u001b[0m \u001b[1;32mnot\u001b[0m \u001b[1;32mNone\u001b[0m\u001b[1;33m\u001b[0m\u001b[1;33m\u001b[0m\u001b[0m\n",
      "\u001b[1;32mC:\\Anaconda3\\lib\\site-packages\\seaborn\\categorical.py\u001b[0m in \u001b[0;36mestablish_variables\u001b[1;34m(self, x, y, hue, data, orient, order, hue_order, units)\u001b[0m\n\u001b[0;32m    151\u001b[0m                 \u001b[1;32mif\u001b[0m \u001b[0misinstance\u001b[0m\u001b[1;33m(\u001b[0m\u001b[0mvar\u001b[0m\u001b[1;33m,\u001b[0m \u001b[0mstr\u001b[0m\u001b[1;33m)\u001b[0m\u001b[1;33m:\u001b[0m\u001b[1;33m\u001b[0m\u001b[1;33m\u001b[0m\u001b[0m\n\u001b[0;32m    152\u001b[0m                     \u001b[0merr\u001b[0m \u001b[1;33m=\u001b[0m \u001b[1;34m\"Could not interpret input '{}'\"\u001b[0m\u001b[1;33m.\u001b[0m\u001b[0mformat\u001b[0m\u001b[1;33m(\u001b[0m\u001b[0mvar\u001b[0m\u001b[1;33m)\u001b[0m\u001b[1;33m\u001b[0m\u001b[1;33m\u001b[0m\u001b[0m\n\u001b[1;32m--> 153\u001b[1;33m                     \u001b[1;32mraise\u001b[0m \u001b[0mValueError\u001b[0m\u001b[1;33m(\u001b[0m\u001b[0merr\u001b[0m\u001b[1;33m)\u001b[0m\u001b[1;33m\u001b[0m\u001b[1;33m\u001b[0m\u001b[0m\n\u001b[0m\u001b[0;32m    154\u001b[0m \u001b[1;33m\u001b[0m\u001b[0m\n\u001b[0;32m    155\u001b[0m             \u001b[1;31m# Figure out the plotting orientation\u001b[0m\u001b[1;33m\u001b[0m\u001b[1;33m\u001b[0m\u001b[1;33m\u001b[0m\u001b[0m\n",
      "\u001b[1;31mValueError\u001b[0m: Could not interpret input 'income_total'"
     ]
    }
   ],
   "source": [
    "sns.factorplot(x='credit',hue='family_type',data=train,y='income_total')"
   ]
  },
  {
   "cell_type": "code",
   "execution_count": 36,
   "id": "wireless-peter",
   "metadata": {},
   "outputs": [
    {
     "data": {
      "text/plain": [
       "<seaborn.axisgrid.FacetGrid at 0x2122bd4cfc8>"
      ]
     },
     "execution_count": 36,
     "metadata": {},
     "output_type": "execute_result"
    },
    {
     "data": {
      "image/png": "[encoded data removed]",
      "text/plain": [
       "<Figure size 426.125x360 with 1 Axes>"
      ]
     },
     "metadata": {
      "needs_background": "light"
     },
     "output_type": "display_data"
    }
   ],
   "source": [
    "sns.factorplot(x='credit',hue='family_type',data=train,y='log_income')"
   ]
  },
  {
   "cell_type": "code",
   "execution_count": 32,
   "id": "decreased-equality",
   "metadata": {},
   "outputs": [
    {
     "data": {
      "text/plain": [
       "<seaborn.axisgrid.FacetGrid at 0x212297fb108>"
      ]
     },
     "execution_count": 32,
     "metadata": {},
     "output_type": "execute_result"
    },
    {
     "data": {
      "image/png": "[encoded data removed]",
      "text/plain": [
       "<Figure size 412x360 with 1 Axes>"
      ]
     },
     "metadata": {
      "needs_background": "light"
     },
     "output_type": "display_data"
    }
   ],
   "source": [
    "sns.factorplot(hue='credit',x='family_type',data=train,y='income_total')"
   ]
  }
 ],
 "metadata": {
  "kernelspec": {
   "display_name": "Python 3",
   "language": "python",
   "name": "python3"
  },
  "language_info": {
   "codemirror_mode": {
    "name": "ipython",
    "version": 3
   },
   "file_extension": ".py",
   "mimetype": "text/x-python",
   "name": "python",
   "nbconvert_exporter": "python",
   "pygments_lexer": "ipython3",
   "version": "3.7.6"
  }
 },
 "nbformat": 4,
 "nbformat_minor": 5
}
