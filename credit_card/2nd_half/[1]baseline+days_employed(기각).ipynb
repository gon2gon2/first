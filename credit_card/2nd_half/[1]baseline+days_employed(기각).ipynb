{
 "cells": [
  {
   "cell_type": "code",
   "execution_count": 41,
   "id": "quantitative-shore",
   "metadata": {},
   "outputs": [],
   "source": [
    "import warnings\n",
    "warnings.filterwarnings('ignore')\n",
    "import glob\n",
    "import pandas as pd\n",
    "import numpy as np\n",
    "import seaborn as sns\n",
    "import matplotlib.pyplot as plt\n",
    "from lightgbm import LGBMClassifier\n",
    "from sklearn.model_selection import StratifiedKFold\n",
    "from sklearn.preprocessing import OneHotEncoder\n",
    "import random\n",
    "import os"
   ]
  },
  {
   "cell_type": "code",
   "execution_count": 50,
   "id": "devoted-biology",
   "metadata": {},
   "outputs": [
    {
     "name": "stdout",
     "output_type": "stream",
     "text": [
      "['.ipynb_checkpoints', 'sample_submission.csv', 'test.csv', 'train.csv', 'Untitled.ipynb']\n"
     ]
    }
   ],
   "source": [
    "d = \"C:\\kaggle_data\\credit_card\"\n",
    "lst = os.listdir(d)\n",
    "print(lst)\n",
    "train = pd.read_csv(d + '\\\\' +lst[3])\n",
    "test = pd.read_csv(d + '\\\\' +lst[2])\n",
    "ss = pd.read_csv(d + '\\\\' +lst[1])\n",
    "train = train.drop(['index'], axis=1)\n",
    "train.fillna('NAN', inplace=True) \n",
    "test = test.drop(['index'], axis=1)\n",
    "test.fillna('NAN', inplace=True)"
   ]
  },
  {
   "cell_type": "markdown",
   "id": "interracial-guatemala",
   "metadata": {},
   "source": [
    "# 전처리"
   ]
  },
  {
   "cell_type": "code",
   "execution_count": 51,
   "id": "increasing-moses",
   "metadata": {},
   "outputs": [],
   "source": [
    "# income_total을 로그변환 한 새로운 feature log_income\n",
    "# 기존 칼럼 삭제\n",
    "train['log_income'] = np.log(train['income_total'])\n",
    "train = train.drop('income_total',1)\n",
    "test['log_income'] = np.log(test['income_total'])\n",
    "test = test.drop('income_total',1)"
   ]
  },
  {
   "cell_type": "code",
   "execution_count": 52,
   "id": "constant-cotton",
   "metadata": {},
   "outputs": [],
   "source": [
    "# car와 reality를 합친 새로운 칼럼 careality\n",
    "train['careality'] = train['car'] + train['reality']\n",
    "train = train.drop(['car', 'reality'],1)\n",
    "\n",
    "test['careality'] = test['car'] + test['reality']\n",
    "test = test.drop(['car', 'reality'],1)"
   ]
  },
  {
   "cell_type": "code",
   "execution_count": 53,
   "id": "structured-bulgaria",
   "metadata": {},
   "outputs": [],
   "source": [
    "def tf(x):\n",
    "    if x < 0:\n",
    "        return np.log(abs(x))\n",
    "    else:\n",
    "        return -(np.log(15173) * (365243/15173))"
   ]
  },
  {
   "cell_type": "code",
   "execution_count": 54,
   "id": "simple-bumper",
   "metadata": {},
   "outputs": [],
   "source": [
    "# outlier 제외 최대값 == 15713\n",
    "# 비율 15173 / 365243 \n",
    "# \n",
    "train['DAYS_EMPLOYED'] = train['DAYS_EMPLOYED'].apply(tf)"
   ]
  },
  {
   "cell_type": "code",
   "execution_count": 55,
   "id": "norman-peninsula",
   "metadata": {},
   "outputs": [
    {
     "data": {
      "text/plain": [
       "-231.74678728662187"
      ]
     },
     "execution_count": 55,
     "metadata": {},
     "output_type": "execute_result"
    }
   ],
   "source": [
    "# np.log(15173) == 9.627272811525241\n",
    "# (15173/365243) == 0.04~~~\n",
    "-(np.log(15173) * (365243/15173))"
   ]
  },
  {
   "cell_type": "code",
   "execution_count": 47,
   "id": "broke-focus",
   "metadata": {
    "scrolled": true
   },
   "outputs": [
    {
     "data": {
      "text/plain": [
       "<AxesSubplot:xlabel='DAYS_EMPLOYED', ylabel='Density'>"
      ]
     },
     "execution_count": 47,
     "metadata": {},
     "output_type": "execute_result"
    },
    {
     "data": {
      "image/png": "[encoded data removed]",
      "text/plain": [
       "<Figure size 432x288 with 1 Axes>"
      ]
     },
     "metadata": {
      "needs_background": "light"
     },
     "output_type": "display_data"
    }
   ],
   "source": [
    "# \n",
    "sns.distplot(train['DAYS_EMPLOYED'])"
   ]
  },
  {
   "cell_type": "code",
   "execution_count": 56,
   "id": "mexican-soundtrack",
   "metadata": {},
   "outputs": [
    {
     "data": {
      "text/plain": [
       "<AxesSubplot:xlabel='DAYS_EMPLOYED', ylabel='Density'>"
      ]
     },
     "execution_count": 56,
     "metadata": {},
     "output_type": "execute_result"
    },
    {
     "data": {
      "image/png": "[encoded data removed]",
      "text/plain": [
       "<Figure size 432x288 with 1 Axes>"
      ]
     },
     "metadata": {
      "needs_background": "light"
     },
     "output_type": "display_data"
    }
   ],
   "source": [
    "sns.distplot(train['DAYS_EMPLOYED'])"
   ]
  },
  {
   "cell_type": "code",
   "execution_count": 57,
   "id": "latest-copying",
   "metadata": {},
   "outputs": [],
   "source": [
    "object_col = []\n",
    "for col in train.columns:\n",
    "    if train[col].dtype == 'object':\n",
    "        object_col.append(col)"
   ]
  },
  {
   "cell_type": "code",
   "execution_count": 58,
   "id": "maritime-directory",
   "metadata": {},
   "outputs": [],
   "source": [
    "enc = OneHotEncoder()\n",
    "enc.fit(train.loc[:,object_col])\n",
    "\n",
    "\n",
    "train_onehot_df = pd.DataFrame(enc.transform(train.loc[:,object_col]).toarray(), \n",
    "             columns=enc.get_feature_names(object_col))\n",
    "train.drop(object_col, axis=1, inplace=True)\n",
    "train = pd.concat([train, train_onehot_df], axis=1)"
   ]
  },
  {
   "cell_type": "code",
   "execution_count": 59,
   "id": "informal-sixth",
   "metadata": {},
   "outputs": [],
   "source": [
    "test_onehot_df = pd.DataFrame(enc.transform(test.loc[:,object_col]).toarray(), \n",
    "             columns=enc.get_feature_names(object_col))\n",
    "test.drop(object_col, axis=1, inplace=True)\n",
    "test = pd.concat([test, test_onehot_df], axis=1)"
   ]
  },
  {
   "cell_type": "markdown",
   "id": "precise-dating",
   "metadata": {},
   "source": [
    "# 모델링, 학습"
   ]
  },
  {
   "cell_type": "code",
   "execution_count": 60,
   "id": "cordless-authority",
   "metadata": {},
   "outputs": [],
   "source": [
    "skf = StratifiedKFold(n_splits=5, shuffle=True, random_state=42)\n",
    "folds=[]\n",
    "for train_idx, valid_idx in skf.split(train, train['credit']):\n",
    "    folds.append((train_idx, valid_idx))"
   ]
  },
  {
   "cell_type": "code",
   "execution_count": 61,
   "id": "spoken-sending",
   "metadata": {},
   "outputs": [
    {
     "name": "stdout",
     "output_type": "stream",
     "text": [
      "====================================1============================================\n",
      "Training until validation scores don't improve for 30 rounds\n",
      "[100]\ttraining's multi_logloss: 0.650091\tvalid_1's multi_logloss: 0.74999\n",
      "[200]\ttraining's multi_logloss: 0.563702\tvalid_1's multi_logloss: 0.7352\n",
      "[300]\ttraining's multi_logloss: 0.499608\tvalid_1's multi_logloss: 0.729651\n",
      "Early stopping, best iteration is:\n",
      "[335]\ttraining's multi_logloss: 0.480671\tvalid_1's multi_logloss: 0.727603\n",
      "================================================================================\n",
      "\n",
      "\n",
      "====================================2============================================\n",
      "Training until validation scores don't improve for 30 rounds\n",
      "[100]\ttraining's multi_logloss: 0.64656\tvalid_1's multi_logloss: 0.762207\n",
      "[200]\ttraining's multi_logloss: 0.560065\tvalid_1's multi_logloss: 0.747825\n",
      "[300]\ttraining's multi_logloss: 0.49572\tvalid_1's multi_logloss: 0.744242\n",
      "Early stopping, best iteration is:\n",
      "[353]\ttraining's multi_logloss: 0.467242\tvalid_1's multi_logloss: 0.74308\n",
      "================================================================================\n",
      "\n",
      "\n",
      "====================================3============================================\n",
      "Training until validation scores don't improve for 30 rounds\n",
      "[100]\ttraining's multi_logloss: 0.649855\tvalid_1's multi_logloss: 0.759479\n",
      "[200]\ttraining's multi_logloss: 0.561892\tvalid_1's multi_logloss: 0.74331\n",
      "Early stopping, best iteration is:\n",
      "[262]\ttraining's multi_logloss: 0.518589\tvalid_1's multi_logloss: 0.739607\n",
      "================================================================================\n",
      "\n",
      "\n",
      "====================================4============================================\n",
      "Training until validation scores don't improve for 30 rounds\n",
      "[100]\ttraining's multi_logloss: 0.647936\tvalid_1's multi_logloss: 0.754133\n",
      "[200]\ttraining's multi_logloss: 0.564778\tvalid_1's multi_logloss: 0.740018\n",
      "[300]\ttraining's multi_logloss: 0.49938\tvalid_1's multi_logloss: 0.73564\n",
      "Early stopping, best iteration is:\n",
      "[293]\ttraining's multi_logloss: 0.50359\tvalid_1's multi_logloss: 0.735394\n",
      "================================================================================\n",
      "\n",
      "\n",
      "====================================5============================================\n",
      "Training until validation scores don't improve for 30 rounds\n",
      "[100]\ttraining's multi_logloss: 0.649584\tvalid_1's multi_logloss: 0.755602\n",
      "[200]\ttraining's multi_logloss: 0.563786\tvalid_1's multi_logloss: 0.740775\n",
      "[300]\ttraining's multi_logloss: 0.500504\tvalid_1's multi_logloss: 0.737794\n",
      "[400]\ttraining's multi_logloss: 0.446756\tvalid_1's multi_logloss: 0.736547\n",
      "Early stopping, best iteration is:\n",
      "[372]\ttraining's multi_logloss: 0.46038\tvalid_1's multi_logloss: 0.736126\n",
      "================================================================================\n",
      "\n",
      "\n"
     ]
    }
   ],
   "source": [
    "skf = StratifiedKFold(n_splits=5, shuffle=True, random_state=42)\n",
    "folds=[]\n",
    "for train_idx, valid_idx in skf.split(train, train['credit']):\n",
    "    folds.append((train_idx, valid_idx))\n",
    "random.seed(42)\n",
    "lgb_models={}\n",
    "for fold in range(5):\n",
    "    print(f'===================================={fold+1}============================================')\n",
    "    train_idx, valid_idx = folds[fold]\n",
    "    X_train, X_valid, y_train, y_valid = train.drop(['credit'],axis=1).iloc[train_idx].values, train.drop(['credit'],axis=1).iloc[valid_idx].values,\\\n",
    "                                         train['credit'][train_idx].values, train['credit'][valid_idx].values \n",
    "    lgb = LGBMClassifier(n_estimators=1000)\n",
    "    lgb.fit(X_train, y_train, \n",
    "            eval_set=[(X_train, y_train), (X_valid, y_valid)], \n",
    "            early_stopping_rounds=30,\n",
    "           verbose=100)\n",
    "    lgb_models[fold]=lgb\n",
    "    print(f'================================================================================\\n\\n')"
   ]
  },
  {
   "cell_type": "code",
   "execution_count": 62,
   "id": "twelve-weapon",
   "metadata": {},
   "outputs": [],
   "source": [
    "ss.iloc[:,1:]=0\n",
    "for fold in range(5):\n",
    "    ss.iloc[:,1:] += lgb_models[fold].predict_proba(test)/5"
   ]
  },
  {
   "cell_type": "code",
   "execution_count": 63,
   "id": "sustainable-stopping",
   "metadata": {},
   "outputs": [],
   "source": [
    "ss.to_csv('baseline_days_employed.csv', index=False)"
   ]
  },
  {
   "cell_type": "code",
   "execution_count": 64,
   "id": "studied-patient",
   "metadata": {},
   "outputs": [
    {
     "name": "stdout",
     "output_type": "stream",
     "text": [
      "0.7057109414252272\n"
     ]
    }
   ],
   "source": [
    "# log_income을 사용했을 때의 점수\n",
    "from sklearn.model_selection import cross_val_score\n",
    "\n",
    "print(cross_val_score(lgb_models[0], train.drop(['credit'],axis=1), train['credit'], cv=skf).mean())"
   ]
  },
  {
   "cell_type": "code",
   "execution_count": null,
   "id": "subtle-ordinary",
   "metadata": {},
   "outputs": [],
   "source": []
  }
 ],
 "metadata": {
  "kernelspec": {
   "display_name": "Python 3",
   "language": "python",
   "name": "python3"
  },
  "language_info": {
   "codemirror_mode": {
    "name": "ipython",
    "version": 3
   },
   "file_extension": ".py",
   "mimetype": "text/x-python",
   "name": "python",
   "nbconvert_exporter": "python",
   "pygments_lexer": "ipython3",
   "version": "3.7.6"
  }
 },
 "nbformat": 4,
 "nbformat_minor": 5
}
