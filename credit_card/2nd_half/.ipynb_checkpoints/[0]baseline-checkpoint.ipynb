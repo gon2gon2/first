{
 "cells": [
  {
   "cell_type": "code",
   "execution_count": 1,
   "id": "quantitative-shore",
   "metadata": {},
   "outputs": [],
   "source": [
    "import warnings\n",
    "warnings.filterwarnings('ignore')\n",
    "import glob\n",
    "import pandas as pd\n",
    "import numpy as np\n",
    "import seaborn as sns\n",
    "import matplotlib.pyplot as plt\n",
    "from lightgbm import LGBMClassifier\n",
    "from sklearn.model_selection import StratifiedKFold\n",
    "from sklearn.preprocessing import OneHotEncoder\n",
    "import random\n",
    "import os"
   ]
  },
  {
   "cell_type": "code",
   "execution_count": 2,
   "id": "devoted-biology",
   "metadata": {},
   "outputs": [
    {
     "name": "stdout",
     "output_type": "stream",
     "text": [
      "['.ipynb_checkpoints', 'sample_submission.csv', 'test.csv', 'train.csv', 'Untitled.ipynb']\n"
     ]
    }
   ],
   "source": [
    "d = \"C:\\kaggle_data\\credit_card\"\n",
    "lst = os.listdir(d)\n",
    "print(lst)\n",
    "train = pd.read_csv(d + '\\\\' +lst[3])\n",
    "test = pd.read_csv(d + '\\\\' +lst[2])\n",
    "ss = pd.read_csv(d + '\\\\' +lst[1])\n",
    "train = train.drop(['index'], axis=1)\n",
    "train.fillna('NAN', inplace=True) \n",
    "test = test.drop(['index'], axis=1)\n",
    "test.fillna('NAN', inplace=True)"
   ]
  },
  {
   "cell_type": "markdown",
   "id": "interracial-guatemala",
   "metadata": {},
   "source": [
    "# 전처리"
   ]
  },
  {
   "cell_type": "code",
   "execution_count": null,
   "id": "efficient-marine",
   "metadata": {},
   "outputs": [],
   "source": []
  },
  {
   "cell_type": "code",
   "execution_count": 12,
   "id": "increasing-moses",
   "metadata": {},
   "outputs": [],
   "source": [
    "# income_total을 로그변환 한 새로운 feature log_income\n",
    "# 기존 칼럼 삭제\n",
    "train['log_income'] = np.log(train['income_total'])\n",
    "train = train.drop('income_total',1)\n",
    "test['log_income'] = np.log(test['income_total'])\n",
    "test = test.drop('income_total',1)"
   ]
  },
  {
   "cell_type": "code",
   "execution_count": 13,
   "id": "constant-cotton",
   "metadata": {},
   "outputs": [],
   "source": [
    "# car와 reality를 합친 새로운 칼럼 careality\n",
    "train['careality'] = train['car'] + train['reality']\n",
    "train = train.drop(['car', 'reality'],1)\n",
    "\n",
    "test['careality'] = test['car'] + test['reality']\n",
    "test = test.drop(['car', 'reality'],1)"
   ]
  },
  {
   "cell_type": "code",
   "execution_count": 14,
   "id": "latest-copying",
   "metadata": {},
   "outputs": [],
   "source": [
    "object_col = []\n",
    "for col in train.columns:\n",
    "    if train[col].dtype == 'object':\n",
    "        object_col.append(col)"
   ]
  },
  {
   "cell_type": "code",
   "execution_count": 15,
   "id": "maritime-directory",
   "metadata": {},
   "outputs": [],
   "source": [
    "enc = OneHotEncoder()\n",
    "enc.fit(train.loc[:,object_col])\n",
    "\n",
    "\n",
    "train_onehot_df = pd.DataFrame(enc.transform(train.loc[:,object_col]).toarray(), \n",
    "             columns=enc.get_feature_names(object_col))\n",
    "train.drop(object_col, axis=1, inplace=True)\n",
    "train = pd.concat([train, train_onehot_df], axis=1)"
   ]
  },
  {
   "cell_type": "code",
   "execution_count": 16,
   "id": "informal-sixth",
   "metadata": {},
   "outputs": [],
   "source": [
    "test_onehot_df = pd.DataFrame(enc.transform(test.loc[:,object_col]).toarray(), \n",
    "             columns=enc.get_feature_names(object_col))\n",
    "test.drop(object_col, axis=1, inplace=True)\n",
    "test = pd.concat([test, test_onehot_df], axis=1)"
   ]
  },
  {
   "cell_type": "markdown",
   "id": "precise-dating",
   "metadata": {},
   "source": [
    "# 모델링, 학습"
   ]
  },
  {
   "cell_type": "code",
   "execution_count": 17,
   "id": "cordless-authority",
   "metadata": {},
   "outputs": [],
   "source": [
    "skf = StratifiedKFold(n_splits=5, shuffle=True, random_state=42)\n",
    "folds=[]\n",
    "for train_idx, valid_idx in skf.split(train, train['credit']):\n",
    "    folds.append((train_idx, valid_idx))"
   ]
  },
  {
   "cell_type": "code",
   "execution_count": 18,
   "id": "spoken-sending",
   "metadata": {},
   "outputs": [
    {
     "name": "stdout",
     "output_type": "stream",
     "text": [
      "====================================1============================================\n",
      "Training until validation scores don't improve for 30 rounds\n",
      "[100]\ttraining's multi_logloss: 0.65054\tvalid_1's multi_logloss: 0.752322\n",
      "[200]\ttraining's multi_logloss: 0.565407\tvalid_1's multi_logloss: 0.737783\n",
      "[300]\ttraining's multi_logloss: 0.504073\tvalid_1's multi_logloss: 0.73312\n",
      "[400]\ttraining's multi_logloss: 0.452307\tvalid_1's multi_logloss: 0.73208\n",
      "Early stopping, best iteration is:\n",
      "[383]\ttraining's multi_logloss: 0.459756\tvalid_1's multi_logloss: 0.731807\n",
      "================================================================================\n",
      "\n",
      "\n",
      "====================================2============================================\n",
      "Training until validation scores don't improve for 30 rounds\n",
      "[100]\ttraining's multi_logloss: 0.644877\tvalid_1's multi_logloss: 0.760468\n",
      "[200]\ttraining's multi_logloss: 0.558568\tvalid_1's multi_logloss: 0.747751\n",
      "Early stopping, best iteration is:\n",
      "[233]\ttraining's multi_logloss: 0.536143\tvalid_1's multi_logloss: 0.745926\n",
      "================================================================================\n",
      "\n",
      "\n",
      "====================================3============================================\n",
      "Training until validation scores don't improve for 30 rounds\n",
      "[100]\ttraining's multi_logloss: 0.649316\tvalid_1's multi_logloss: 0.757925\n",
      "[200]\ttraining's multi_logloss: 0.562021\tvalid_1's multi_logloss: 0.747783\n",
      "[300]\ttraining's multi_logloss: 0.497797\tvalid_1's multi_logloss: 0.744081\n",
      "Early stopping, best iteration is:\n",
      "[291]\ttraining's multi_logloss: 0.502981\tvalid_1's multi_logloss: 0.743879\n",
      "================================================================================\n",
      "\n",
      "\n",
      "====================================4============================================\n",
      "Training until validation scores don't improve for 30 rounds\n",
      "[100]\ttraining's multi_logloss: 0.649\tvalid_1's multi_logloss: 0.754642\n",
      "[200]\ttraining's multi_logloss: 0.562991\tvalid_1's multi_logloss: 0.740719\n",
      "[300]\ttraining's multi_logloss: 0.499904\tvalid_1's multi_logloss: 0.736688\n",
      "Early stopping, best iteration is:\n",
      "[336]\ttraining's multi_logloss: 0.480582\tvalid_1's multi_logloss: 0.736054\n",
      "================================================================================\n",
      "\n",
      "\n",
      "====================================5============================================\n",
      "Training until validation scores don't improve for 30 rounds\n",
      "[100]\ttraining's multi_logloss: 0.651578\tvalid_1's multi_logloss: 0.755736\n",
      "[200]\ttraining's multi_logloss: 0.566213\tvalid_1's multi_logloss: 0.741229\n",
      "[300]\ttraining's multi_logloss: 0.499959\tvalid_1's multi_logloss: 0.736039\n",
      "Early stopping, best iteration is:\n",
      "[298]\ttraining's multi_logloss: 0.500953\tvalid_1's multi_logloss: 0.736006\n",
      "================================================================================\n",
      "\n",
      "\n"
     ]
    }
   ],
   "source": [
    "skf = StratifiedKFold(n_splits=5, shuffle=True, random_state=42)\n",
    "folds=[]\n",
    "for train_idx, valid_idx in skf.split(train, train['credit']):\n",
    "    folds.append((train_idx, valid_idx))\n",
    "random.seed(42)\n",
    "lgb_models={}\n",
    "for fold in range(5):\n",
    "    print(f'===================================={fold+1}============================================')\n",
    "    train_idx, valid_idx = folds[fold]\n",
    "    X_train, X_valid, y_train, y_valid = train.drop(['credit'],axis=1).iloc[train_idx].values, train.drop(['credit'],axis=1).iloc[valid_idx].values,\\\n",
    "                                         train['credit'][train_idx].values, train['credit'][valid_idx].values \n",
    "    lgb = LGBMClassifier(n_estimators=1000)\n",
    "    lgb.fit(X_train, y_train, \n",
    "            eval_set=[(X_train, y_train), (X_valid, y_valid)], \n",
    "            early_stopping_rounds=30,\n",
    "           verbose=100)\n",
    "    lgb_models[fold]=lgb\n",
    "    print(f'================================================================================\\n\\n')"
   ]
  },
  {
   "cell_type": "code",
   "execution_count": 19,
   "id": "twelve-weapon",
   "metadata": {},
   "outputs": [],
   "source": [
    "ss.iloc[:,1:]=0\n",
    "for fold in range(5):\n",
    "    ss.iloc[:,1:] += lgb_models[fold].predict_proba(test)/5"
   ]
  },
  {
   "cell_type": "code",
   "execution_count": 20,
   "id": "sustainable-stopping",
   "metadata": {},
   "outputs": [],
   "source": [
    "ss.to_csv('baseline.csv', index=False)"
   ]
  },
  {
   "cell_type": "code",
   "execution_count": 21,
   "id": "studied-patient",
   "metadata": {},
   "outputs": [
    {
     "name": "stdout",
     "output_type": "stream",
     "text": [
      "0.7063157848872134\n"
     ]
    }
   ],
   "source": [
    "# log_income을 사용했을 때의 점수\n",
    "from sklearn.model_selection import cross_val_score\n",
    "\n",
    "print(cross_val_score(lgb_models[0], train.drop(['credit'],axis=1), train['credit'], cv=skf).mean())"
   ]
  },
  {
   "cell_type": "code",
   "execution_count": 4,
   "id": "subtle-ordinary",
   "metadata": {},
   "outputs": [
    {
     "data": {
      "text/plain": [
       "-15713"
      ]
     },
     "execution_count": 4,
     "metadata": {},
     "output_type": "execute_result"
    }
   ],
   "source": [
    "train['DAYS_EMPLOYED'].min()"
   ]
  },
  {
   "cell_type": "code",
   "execution_count": 5,
   "id": "generic-factor",
   "metadata": {},
   "outputs": [
    {
     "data": {
      "text/plain": [
       "9.627272811525241"
      ]
     },
     "execution_count": 5,
     "metadata": {},
     "output_type": "execute_result"
    }
   ],
   "source": [
    "np.log(15173)"
   ]
  }
 ],
 "metadata": {
  "kernelspec": {
   "display_name": "Python 3",
   "language": "python",
   "name": "python3"
  },
  "language_info": {
   "codemirror_mode": {
    "name": "ipython",
    "version": 3
   },
   "file_extension": ".py",
   "mimetype": "text/x-python",
   "name": "python",
   "nbconvert_exporter": "python",
   "pygments_lexer": "ipython3",
   "version": "3.7.6"
  }
 },
 "nbformat": 4,
 "nbformat_minor": 5
}
