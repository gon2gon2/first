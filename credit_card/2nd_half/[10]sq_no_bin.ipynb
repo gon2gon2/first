{
 "cells": [
  {
   "cell_type": "code",
   "execution_count": 2,
   "id": "quantitative-shore",
   "metadata": {},
   "outputs": [],
   "source": [
    "import warnings\n",
    "warnings.filterwarnings('ignore')\n",
    "import glob\n",
    "import pandas as pd\n",
    "import numpy as np\n",
    "import seaborn as sns\n",
    "import matplotlib.pyplot as plt\n",
    "from lightgbm import LGBMClassifier\n",
    "from sklearn.model_selection import StratifiedKFold\n",
    "from sklearn.preprocessing import OneHotEncoder\n",
    "import random\n",
    "import os\n",
    "from sklearn.metrics import log_loss"
   ]
  },
  {
   "cell_type": "code",
   "execution_count": 80,
   "id": "devoted-biology",
   "metadata": {},
   "outputs": [
    {
     "name": "stdout",
     "output_type": "stream",
     "text": [
      "['.ipynb_checkpoints', 'sample_submission.csv', 'test.csv', 'train.csv', 'Untitled.ipynb']\n"
     ]
    }
   ],
   "source": [
    "d = \"C:\\kaggle_data\\credit_card\"\n",
    "lst = os.listdir(d)\n",
    "print(lst)\n",
    "train = pd.read_csv(d + '\\\\' +lst[3])\n",
    "test = pd.read_csv(d + '\\\\' +lst[2])\n",
    "ss = pd.read_csv(d + '\\\\' +lst[1])\n",
    "train = train.drop(['index'], axis=1)\n",
    "train.fillna('NAN', inplace=True) \n",
    "test = test.drop(['index'], axis=1)\n",
    "test.fillna('NAN', inplace=True)"
   ]
  },
  {
   "cell_type": "markdown",
   "id": "interracial-guatemala",
   "metadata": {},
   "source": [
    "# 전처리"
   ]
  },
  {
   "cell_type": "markdown",
   "id": "revolutionary-attention",
   "metadata": {},
   "source": [
    "### family_type\n",
    "- 'Married', 'Civil marriage'\n",
    "- 'Separated',  'Widow'\n",
    "- 'Single / not married'"
   ]
  },
  {
   "cell_type": "code",
   "execution_count": 81,
   "id": "internal-cassette",
   "metadata": {},
   "outputs": [],
   "source": [
    "# Married, Civil marriage\n",
    "train['income_per_size'] = np.log(train['income_total']/train['family_size'])\n",
    "test['income_per_size'] = np.log(test['income_total']/test['family_size'])\n",
    "train.loc[(train['family_type']=='Married')|(train['family_type']=='Civil marriage'),'income_per_size']\\\n",
    "= train['income_per_size'] * 2\n",
    "\n",
    "test.loc[(test['family_type']=='Married')|(test['family_type']=='Civil marriage'),'income_per_size']\\\n",
    "= test['income_per_size'] * 2"
   ]
  },
  {
   "cell_type": "code",
   "execution_count": 82,
   "id": "internal-probability",
   "metadata": {},
   "outputs": [],
   "source": [
    "def simple_marry(x):\n",
    "    if x == 'Married' or x =='Civil marriage':\n",
    "        return '0'\n",
    "    elif x == 'Separated' or x == 'Widow':\n",
    "        return '1'\n",
    "    else:\n",
    "        return '2'"
   ]
  },
  {
   "cell_type": "code",
   "execution_count": 83,
   "id": "accomplished-metro",
   "metadata": {},
   "outputs": [],
   "source": [
    "# 안 덮어쓰기\n",
    "for df in [train,test]:\n",
    "    df['family_bins'] = df['family_type'].apply(simple_marry)"
   ]
  },
  {
   "cell_type": "code",
   "execution_count": 84,
   "id": "increasing-moses",
   "metadata": {},
   "outputs": [],
   "source": [
    "# income_total을 로그변환\n",
    "train['income_total'] = np.log(train['income_total'])\n",
    "test['income_total'] = np.log(test['income_total'])"
   ]
  },
  {
   "cell_type": "code",
   "execution_count": 85,
   "id": "constant-cotton",
   "metadata": {},
   "outputs": [],
   "source": [
    "# car와 reality를 합친 새로운 칼럼 careality\n",
    "train['car'] =train['car'].apply(lambda x: int(x=='Y'))\n",
    "train['reality'] =train['reality'].apply(lambda x: int(x=='Y'))\n",
    "test['car'] =test['car'].apply(lambda x: int(x=='Y'))\n",
    "test['reality'] =test['reality'].apply(lambda x: int(x=='Y'))\n",
    "\n",
    "train['careality'] = train['car'] + train['reality']\n",
    "train = train.drop(['car', 'reality'],1)\n",
    "\n",
    "test['careality'] = test['car'] + test['reality']\n",
    "test = test.drop(['car', 'reality'],1)"
   ]
  },
  {
   "cell_type": "code",
   "execution_count": 86,
   "id": "latest-copying",
   "metadata": {},
   "outputs": [],
   "source": [
    "object_col = []\n",
    "for col in train.columns:\n",
    "    if train[col].dtype == 'object':\n",
    "        object_col.append(col)"
   ]
  },
  {
   "cell_type": "code",
   "execution_count": 87,
   "id": "maritime-directory",
   "metadata": {},
   "outputs": [],
   "source": [
    "enc = OneHotEncoder()\n",
    "enc.fit(train.loc[:,object_col])\n",
    "\n",
    "\n",
    "train_onehot_df = pd.DataFrame(enc.transform(train.loc[:,object_col]).toarray(), \n",
    "             columns=enc.get_feature_names(object_col))\n",
    "train.drop(object_col, axis=1, inplace=True)\n",
    "train = pd.concat([train, train_onehot_df], axis=1)"
   ]
  },
  {
   "cell_type": "code",
   "execution_count": 88,
   "id": "informal-sixth",
   "metadata": {},
   "outputs": [],
   "source": [
    "test_onehot_df = pd.DataFrame(enc.transform(test.loc[:,object_col]).toarray(), \n",
    "             columns=enc.get_feature_names(object_col))\n",
    "test.drop(object_col, axis=1, inplace=True)\n",
    "test = pd.concat([test, test_onehot_df], axis=1)"
   ]
  },
  {
   "cell_type": "markdown",
   "id": "verbal-california",
   "metadata": {},
   "source": [
    "# \n",
    "- income_per_size 정규화\n",
    "- feature 추가(binary)\n",
    "- 두개 다"
   ]
  },
  {
   "cell_type": "code",
   "execution_count": 89,
   "id": "closing-gazette",
   "metadata": {},
   "outputs": [
    {
     "data": {
      "text/plain": [
       "0        23.050696\n",
       "1        22.641107\n",
       "2        24.647711\n",
       "3        23.050696\n",
       "4        22.548067\n",
       "           ...    \n",
       "26452    21.875123\n",
       "26453    11.407565\n",
       "26454    23.786146\n",
       "26455    12.049419\n",
       "26456    21.218115\n",
       "Name: income_per_size, Length: 26457, dtype: float64"
      ]
     },
     "execution_count": 89,
     "metadata": {},
     "output_type": "execute_result"
    }
   ],
   "source": [
    "train['income_per_size']"
   ]
  },
  {
   "cell_type": "code",
   "execution_count": 90,
   "id": "arabic-globe",
   "metadata": {},
   "outputs": [],
   "source": [
    "# # 15.75\n",
    "# # -0.92\n",
    "\n",
    "\n",
    "# 제곱\n",
    "for df in [train,test]:\n",
    "    df['income_per_size'] = df['income_per_size'].apply(lambda x: x**2)\n",
    "    \n",
    "    \n",
    "\n",
    "c = 'income_per_size'\n",
    "mean = train[c].mean()\n",
    "std = train[c].std()\n",
    "# 기존 \n",
    "train[c] = (train[c]-mean)/std\n",
    "test[c] = (test[c]-mean)/std"
   ]
  },
  {
   "cell_type": "code",
   "execution_count": null,
   "id": "cutting-treatment",
   "metadata": {},
   "outputs": [],
   "source": []
  },
  {
   "cell_type": "code",
   "execution_count": 91,
   "id": "fresh-result",
   "metadata": {},
   "outputs": [],
   "source": [
    "# train['ips_bin'].value_counts()"
   ]
  },
  {
   "cell_type": "code",
   "execution_count": 92,
   "id": "practical-rolling",
   "metadata": {},
   "outputs": [],
   "source": [
    "#####################\n",
    "c = 'income_total'\n",
    "k = 2.2\n",
    "mean = train[c].mean()\n",
    "std = train[c].std()\n",
    "idxs = train.loc[(train[c]>= mean + k*std)|\\\n",
    "                (train[c]<= mean - k*std)].index\n",
    "train = train.drop(idxs).reset_index(drop=True)\n",
    "\n",
    "# 기존 \n",
    "train[c] = (train[c]-mean)/std\n",
    "test[c] = (test[c]-mean)/std\n",
    "# # 새로운\n",
    "# mean = train[c].mean()\n",
    "# std = train[c].std()\n",
    "# train[c] = (train[c]-mean)/std\n",
    "# test[c] = (test[c]-mean)/std"
   ]
  },
  {
   "cell_type": "code",
   "execution_count": 93,
   "id": "forbidden-negotiation",
   "metadata": {},
   "outputs": [],
   "source": [
    "#####################\n",
    "c = 'begin_month'\n",
    "k = 2.2\n",
    "mean = train[c].mean()\n",
    "std = train[c].std()\n",
    "idxs = train.loc[(train[c]>= mean + k*std)|\\\n",
    "                (train[c]<= mean - k*std)].index\n",
    "train = train.drop(idxs).reset_index(drop=True)\n",
    "\n",
    "# 기존 \n",
    "train[c] = (train[c]-mean)/std\n",
    "test[c] = (test[c]-mean)/std\n",
    "# # 새로운\n",
    "# mean = train[c].mean()\n",
    "# std = train[c].std()\n",
    "# train[c] = (train[c]-mean)/std\n",
    "# test[c] = (test[c]-mean)/std"
   ]
  },
  {
   "cell_type": "code",
   "execution_count": 94,
   "id": "superior-arena",
   "metadata": {},
   "outputs": [],
   "source": [
    "######################\n",
    "c = 'DAYS_BIRTH'\n",
    "k = 2.2\n",
    "mean = train[c].mean()\n",
    "std = train[c].std()\n",
    "idxs = train.loc[(train[c]>= mean + k*std)|\\\n",
    "                (train[c]<= mean - k*std)].index\n",
    "train = train.drop(idxs).reset_index(drop=True)\n",
    "\n",
    "#기존 \n",
    "train[c] = (train[c]-mean)/std\n",
    "test[c] = (test[c]-mean)/std\n",
    "# ## 새로운\n",
    "# mean = train[c].mean()\n",
    "# std = train[c].std()\n",
    "# train[c] = (train[c]-mean)/std\n",
    "# test[c] = (test[c]-mean)/std"
   ]
  },
  {
   "cell_type": "code",
   "execution_count": 95,
   "id": "exposed-field",
   "metadata": {},
   "outputs": [],
   "source": [
    "# out: 아웃라이어\n",
    "out_train = train.loc[train.DAYS_EMPLOYED>0]\n",
    "in_train = train.loc[train.DAYS_EMPLOYED<=0]\n",
    "\n",
    "\n",
    "out_test = test.loc[test.DAYS_EMPLOYED>0]\n",
    "in_test = test.loc[test.DAYS_EMPLOYED<=0]"
   ]
  },
  {
   "cell_type": "markdown",
   "id": "changed-geometry",
   "metadata": {},
   "source": [
    "<!-- ###\n",
    "- DAYS_EMPLOYED -->"
   ]
  },
  {
   "cell_type": "markdown",
   "id": "precise-dating",
   "metadata": {},
   "source": [
    "# 모델링, 학습"
   ]
  },
  {
   "cell_type": "code",
   "execution_count": 96,
   "id": "primary-memorial",
   "metadata": {},
   "outputs": [],
   "source": [
    "out_train = out_train.reset_index()\n",
    "in_train = in_train.reset_index()\n",
    "\n",
    "out_test = out_test.reset_index()\n",
    "in_test = in_test.reset_index()"
   ]
  },
  {
   "cell_type": "code",
   "execution_count": 97,
   "id": "engaging-heart",
   "metadata": {},
   "outputs": [],
   "source": [
    "idx_out_train = out_train.pop('index')\n",
    "idx_out_test = out_test.pop('index')\n",
    "\n",
    "idx_in_train = in_train.pop('index')\n",
    "idx_in_test = in_test.pop('index')"
   ]
  },
  {
   "cell_type": "code",
   "execution_count": 98,
   "id": "presidential-overview",
   "metadata": {},
   "outputs": [],
   "source": [
    "###################\n",
    "c = 'DAYS_EMPLOYED'\n",
    "k = 2.2\n",
    "mean = in_train[c].mean()\n",
    "std = in_train[c].std()\n",
    "idxs = in_train.loc[(in_train[c]>= mean + k*std)|\\\n",
    "                (in_train[c]<= mean - k*std)].index\n",
    "in_train = in_train.drop(idxs).reset_index(drop=True)\n",
    "\n",
    "# 기존 \n",
    "train[c] = (train[c]-mean)/std\n",
    "test[c] = (test[c]-mean)/std\n",
    "# # 새로운\n",
    "# mean = train[c].mean()\n",
    "# std = train[c].std()\n",
    "# train[c] = (train[c]-mean)/std\n",
    "# test[c] = (test[c]-mean)/std"
   ]
  },
  {
   "cell_type": "code",
   "execution_count": 99,
   "id": "hundred-afternoon",
   "metadata": {
    "scrolled": false
   },
   "outputs": [
    {
     "data": {
      "text/plain": [
       "59"
      ]
     },
     "execution_count": 99,
     "metadata": {},
     "output_type": "execute_result"
    }
   ],
   "source": [
    "len(train.columns)"
   ]
  },
  {
   "cell_type": "code",
   "execution_count": 100,
   "id": "compact-verse",
   "metadata": {},
   "outputs": [],
   "source": [
    "out_train.drop('DAYS_EMPLOYED',inplace=True,axis=1)\n",
    "out_test.drop('DAYS_EMPLOYED',inplace=True,axis=1)"
   ]
  },
  {
   "cell_type": "code",
   "execution_count": 101,
   "id": "working-distribution",
   "metadata": {},
   "outputs": [
    {
     "data": {
      "text/html": [
       "<div>\n",
       "<style scoped>\n",
       "    .dataframe tbody tr th:only-of-type {\n",
       "        vertical-align: middle;\n",
       "    }\n",
       "\n",
       "    .dataframe tbody tr th {\n",
       "        vertical-align: top;\n",
       "    }\n",
       "\n",
       "    .dataframe thead th {\n",
       "        text-align: right;\n",
       "    }\n",
       "</style>\n",
       "<table border=\"1\" class=\"dataframe\">\n",
       "  <thead>\n",
       "    <tr style=\"text-align: right;\">\n",
       "      <th></th>\n",
       "      <th>child_num</th>\n",
       "      <th>income_total</th>\n",
       "      <th>DAYS_BIRTH</th>\n",
       "      <th>FLAG_MOBIL</th>\n",
       "      <th>work_phone</th>\n",
       "      <th>phone</th>\n",
       "      <th>email</th>\n",
       "      <th>family_size</th>\n",
       "      <th>begin_month</th>\n",
       "      <th>credit</th>\n",
       "      <th>...</th>\n",
       "      <th>occyp_type_Private service staff</th>\n",
       "      <th>occyp_type_Realty agents</th>\n",
       "      <th>occyp_type_Sales staff</th>\n",
       "      <th>occyp_type_Secretaries</th>\n",
       "      <th>occyp_type_Security staff</th>\n",
       "      <th>occyp_type_Waiters/barmen staff</th>\n",
       "      <th>family_bins_0</th>\n",
       "      <th>family_bins_1</th>\n",
       "      <th>family_bins_2</th>\n",
       "      <th>ips_bin</th>\n",
       "    </tr>\n",
       "  </thead>\n",
       "  <tbody>\n",
       "    <tr>\n",
       "      <th>0</th>\n",
       "      <td>0</td>\n",
       "      <td>-0.114150</td>\n",
       "      <td>-1.670540</td>\n",
       "      <td>1</td>\n",
       "      <td>0</td>\n",
       "      <td>1</td>\n",
       "      <td>0</td>\n",
       "      <td>1.0</td>\n",
       "      <td>-0.896630</td>\n",
       "      <td>2.0</td>\n",
       "      <td>...</td>\n",
       "      <td>0.0</td>\n",
       "      <td>0.0</td>\n",
       "      <td>0.0</td>\n",
       "      <td>0.0</td>\n",
       "      <td>0.0</td>\n",
       "      <td>0.0</td>\n",
       "      <td>0.0</td>\n",
       "      <td>0.0</td>\n",
       "      <td>1.0</td>\n",
       "      <td>0</td>\n",
       "    </tr>\n",
       "    <tr>\n",
       "      <th>1</th>\n",
       "      <td>0</td>\n",
       "      <td>0.542746</td>\n",
       "      <td>-1.716051</td>\n",
       "      <td>1</td>\n",
       "      <td>0</td>\n",
       "      <td>0</td>\n",
       "      <td>0</td>\n",
       "      <td>2.0</td>\n",
       "      <td>-0.655166</td>\n",
       "      <td>2.0</td>\n",
       "      <td>...</td>\n",
       "      <td>0.0</td>\n",
       "      <td>0.0</td>\n",
       "      <td>0.0</td>\n",
       "      <td>0.0</td>\n",
       "      <td>0.0</td>\n",
       "      <td>0.0</td>\n",
       "      <td>1.0</td>\n",
       "      <td>0.0</td>\n",
       "      <td>0.0</td>\n",
       "      <td>1</td>\n",
       "    </tr>\n",
       "    <tr>\n",
       "      <th>2</th>\n",
       "      <td>0</td>\n",
       "      <td>-0.114150</td>\n",
       "      <td>-1.272859</td>\n",
       "      <td>1</td>\n",
       "      <td>0</td>\n",
       "      <td>1</td>\n",
       "      <td>0</td>\n",
       "      <td>2.0</td>\n",
       "      <td>1.155818</td>\n",
       "      <td>2.0</td>\n",
       "      <td>...</td>\n",
       "      <td>0.0</td>\n",
       "      <td>0.0</td>\n",
       "      <td>0.0</td>\n",
       "      <td>0.0</td>\n",
       "      <td>0.0</td>\n",
       "      <td>0.0</td>\n",
       "      <td>1.0</td>\n",
       "      <td>0.0</td>\n",
       "      <td>0.0</td>\n",
       "      <td>1</td>\n",
       "    </tr>\n",
       "    <tr>\n",
       "      <th>3</th>\n",
       "      <td>0</td>\n",
       "      <td>0.408522</td>\n",
       "      <td>-1.536868</td>\n",
       "      <td>1</td>\n",
       "      <td>0</td>\n",
       "      <td>1</td>\n",
       "      <td>0</td>\n",
       "      <td>1.0</td>\n",
       "      <td>1.276550</td>\n",
       "      <td>2.0</td>\n",
       "      <td>...</td>\n",
       "      <td>0.0</td>\n",
       "      <td>0.0</td>\n",
       "      <td>0.0</td>\n",
       "      <td>0.0</td>\n",
       "      <td>0.0</td>\n",
       "      <td>0.0</td>\n",
       "      <td>0.0</td>\n",
       "      <td>0.0</td>\n",
       "      <td>1.0</td>\n",
       "      <td>0</td>\n",
       "    </tr>\n",
       "    <tr>\n",
       "      <th>4</th>\n",
       "      <td>0</td>\n",
       "      <td>-0.434746</td>\n",
       "      <td>-1.236403</td>\n",
       "      <td>1</td>\n",
       "      <td>0</td>\n",
       "      <td>1</td>\n",
       "      <td>0</td>\n",
       "      <td>1.0</td>\n",
       "      <td>0.129594</td>\n",
       "      <td>2.0</td>\n",
       "      <td>...</td>\n",
       "      <td>0.0</td>\n",
       "      <td>0.0</td>\n",
       "      <td>0.0</td>\n",
       "      <td>0.0</td>\n",
       "      <td>0.0</td>\n",
       "      <td>0.0</td>\n",
       "      <td>0.0</td>\n",
       "      <td>1.0</td>\n",
       "      <td>0.0</td>\n",
       "      <td>0</td>\n",
       "    </tr>\n",
       "  </tbody>\n",
       "</table>\n",
       "<p>5 rows × 58 columns</p>\n",
       "</div>"
      ],
      "text/plain": [
       "   child_num  income_total  DAYS_BIRTH  FLAG_MOBIL  work_phone  phone  email  \\\n",
       "0          0     -0.114150   -1.670540           1           0      1      0   \n",
       "1          0      0.542746   -1.716051           1           0      0      0   \n",
       "2          0     -0.114150   -1.272859           1           0      1      0   \n",
       "3          0      0.408522   -1.536868           1           0      1      0   \n",
       "4          0     -0.434746   -1.236403           1           0      1      0   \n",
       "\n",
       "   family_size  begin_month  credit  ...  occyp_type_Private service staff  \\\n",
       "0          1.0    -0.896630     2.0  ...                               0.0   \n",
       "1          2.0    -0.655166     2.0  ...                               0.0   \n",
       "2          2.0     1.155818     2.0  ...                               0.0   \n",
       "3          1.0     1.276550     2.0  ...                               0.0   \n",
       "4          1.0     0.129594     2.0  ...                               0.0   \n",
       "\n",
       "   occyp_type_Realty agents  occyp_type_Sales staff  occyp_type_Secretaries  \\\n",
       "0                       0.0                     0.0                     0.0   \n",
       "1                       0.0                     0.0                     0.0   \n",
       "2                       0.0                     0.0                     0.0   \n",
       "3                       0.0                     0.0                     0.0   \n",
       "4                       0.0                     0.0                     0.0   \n",
       "\n",
       "   occyp_type_Security staff  occyp_type_Waiters/barmen staff  family_bins_0  \\\n",
       "0                        0.0                              0.0            0.0   \n",
       "1                        0.0                              0.0            1.0   \n",
       "2                        0.0                              0.0            1.0   \n",
       "3                        0.0                              0.0            0.0   \n",
       "4                        0.0                              0.0            0.0   \n",
       "\n",
       "   family_bins_1  family_bins_2  ips_bin  \n",
       "0            0.0            1.0        0  \n",
       "1            0.0            0.0        1  \n",
       "2            0.0            0.0        1  \n",
       "3            0.0            1.0        0  \n",
       "4            1.0            0.0        0  \n",
       "\n",
       "[5 rows x 58 columns]"
      ]
     },
     "execution_count": 101,
     "metadata": {},
     "output_type": "execute_result"
    }
   ],
   "source": [
    "out_train.head()"
   ]
  },
  {
   "cell_type": "code",
   "execution_count": 102,
   "id": "spoken-sending",
   "metadata": {
    "scrolled": false
   },
   "outputs": [],
   "source": [
    "def tr(train):\n",
    "    skf = StratifiedKFold(n_splits=5, shuffle=True, random_state=42)\n",
    "    folds=[]\n",
    "    losses=[]\n",
    "    for train_idx, valid_idx in skf.split(train, train['credit']):\n",
    "        folds.append((train_idx, valid_idx))\n",
    "    random.seed(42)\n",
    "    lgb_models={}\n",
    "    for fold in range(5):\n",
    "        print(f'===================================={fold+1}============================================')\n",
    "        train_idx, valid_idx = folds[fold]\n",
    "        X_train, X_valid, y_train, y_valid = train.drop(['credit'],axis=1).iloc[train_idx].values, train.drop(['credit'],axis=1).iloc[valid_idx].values,\\\n",
    "                                             train['credit'][train_idx].values, train['credit'][valid_idx].values \n",
    "        lgb = LGBMClassifier(n_estimators=1000)\n",
    "        lgb.fit(X_train, y_train, \n",
    "                eval_set=[(X_train, y_train), (X_valid, y_valid)], \n",
    "                early_stopping_rounds=30,\n",
    "               verbose=100)\n",
    "        lgb_models[fold]=lgb\n",
    "        losses.append(log_loss(y_valid, lgb.predict_proba(X_valid)))\n",
    "        print(f'================================================================================\\n\\n')\n",
    "    ls = sum(losses)/5\n",
    "    print(ls)\n",
    "    return ls, lgb_models"
   ]
  },
  {
   "cell_type": "code",
   "execution_count": 103,
   "id": "serious-percentage",
   "metadata": {
    "scrolled": true
   },
   "outputs": [
    {
     "name": "stdout",
     "output_type": "stream",
     "text": [
      "====================================1============================================\n",
      "Training until validation scores don't improve for 30 rounds\n",
      "[100]\ttraining's multi_logloss: 0.405894\tvalid_1's multi_logloss: 0.728349\n",
      "Early stopping, best iteration is:\n",
      "[86]\ttraining's multi_logloss: 0.433012\tvalid_1's multi_logloss: 0.724757\n",
      "================================================================================\n",
      "\n",
      "\n",
      "====================================2============================================\n",
      "Training until validation scores don't improve for 30 rounds\n",
      "Early stopping, best iteration is:\n",
      "[45]\ttraining's multi_logloss: 0.535478\tvalid_1's multi_logloss: 0.748793\n",
      "================================================================================\n",
      "\n",
      "\n",
      "====================================3============================================\n",
      "Training until validation scores don't improve for 30 rounds\n",
      "Early stopping, best iteration is:\n",
      "[46]\ttraining's multi_logloss: 0.53242\tvalid_1's multi_logloss: 0.740544\n",
      "================================================================================\n",
      "\n",
      "\n",
      "====================================4============================================\n",
      "Training until validation scores don't improve for 30 rounds\n",
      "Early stopping, best iteration is:\n",
      "[52]\ttraining's multi_logloss: 0.517721\tvalid_1's multi_logloss: 0.741964\n",
      "================================================================================\n",
      "\n",
      "\n",
      "====================================5============================================\n",
      "Training until validation scores don't improve for 30 rounds\n",
      "Early stopping, best iteration is:\n",
      "[55]\ttraining's multi_logloss: 0.503188\tvalid_1's multi_logloss: 0.742867\n",
      "================================================================================\n",
      "\n",
      "\n",
      "0.7397848695705913\n"
     ]
    }
   ],
   "source": [
    "out_loss, out_models = tr(out_train)"
   ]
  },
  {
   "cell_type": "code",
   "execution_count": 104,
   "id": "biblical-ballot",
   "metadata": {
    "scrolled": true
   },
   "outputs": [
    {
     "name": "stdout",
     "output_type": "stream",
     "text": [
      "====================================1============================================\n",
      "Training until validation scores don't improve for 30 rounds\n",
      "[100]\ttraining's multi_logloss: 0.609358\tvalid_1's multi_logloss: 0.757097\n",
      "[200]\ttraining's multi_logloss: 0.504673\tvalid_1's multi_logloss: 0.748089\n",
      "Early stopping, best iteration is:\n",
      "[207]\ttraining's multi_logloss: 0.498296\tvalid_1's multi_logloss: 0.747412\n",
      "================================================================================\n",
      "\n",
      "\n",
      "====================================2============================================\n",
      "Training until validation scores don't improve for 30 rounds\n",
      "[100]\ttraining's multi_logloss: 0.611482\tvalid_1's multi_logloss: 0.745917\n",
      "[200]\ttraining's multi_logloss: 0.510918\tvalid_1's multi_logloss: 0.733993\n",
      "Early stopping, best iteration is:\n",
      "[236]\ttraining's multi_logloss: 0.483029\tvalid_1's multi_logloss: 0.732723\n",
      "================================================================================\n",
      "\n",
      "\n",
      "====================================3============================================\n",
      "Training until validation scores don't improve for 30 rounds\n",
      "[100]\ttraining's multi_logloss: 0.613942\tvalid_1's multi_logloss: 0.742214\n",
      "[200]\ttraining's multi_logloss: 0.513386\tvalid_1's multi_logloss: 0.729465\n",
      "Early stopping, best iteration is:\n",
      "[228]\ttraining's multi_logloss: 0.491277\tvalid_1's multi_logloss: 0.728733\n",
      "================================================================================\n",
      "\n",
      "\n",
      "====================================4============================================\n",
      "Training until validation scores don't improve for 30 rounds\n",
      "[100]\ttraining's multi_logloss: 0.617991\tvalid_1's multi_logloss: 0.748\n",
      "[200]\ttraining's multi_logloss: 0.513667\tvalid_1's multi_logloss: 0.730891\n",
      "[300]\ttraining's multi_logloss: 0.438336\tvalid_1's multi_logloss: 0.727209\n",
      "Early stopping, best iteration is:\n",
      "[289]\ttraining's multi_logloss: 0.445441\tvalid_1's multi_logloss: 0.726765\n",
      "================================================================================\n",
      "\n",
      "\n",
      "====================================5============================================\n",
      "Training until validation scores don't improve for 30 rounds\n",
      "[100]\ttraining's multi_logloss: 0.611038\tvalid_1's multi_logloss: 0.737541\n",
      "[200]\ttraining's multi_logloss: 0.514253\tvalid_1's multi_logloss: 0.727147\n",
      "[300]\ttraining's multi_logloss: 0.443794\tvalid_1's multi_logloss: 0.723262\n",
      "Early stopping, best iteration is:\n",
      "[282]\ttraining's multi_logloss: 0.455127\tvalid_1's multi_logloss: 0.722583\n",
      "================================================================================\n",
      "\n",
      "\n",
      "0.7316433141400384\n"
     ]
    }
   ],
   "source": [
    "in_loss, in_models = tr(in_train)"
   ]
  },
  {
   "cell_type": "code",
   "execution_count": null,
   "id": "handy-wholesale",
   "metadata": {},
   "outputs": [],
   "source": [
    "## ips 제곱\n",
    "0.7398746001125598\n",
    "0.731703572697814\n",
    "\n",
    "\n",
    "\n",
    "## 제곱 없이 15.75빼고 표편으로 나눠줌\n",
    "0.739873725695487\n",
    "0.732629847481416\n",
    "\n",
    "\n",
    "## 제곱, 표준화, binary\n",
    "0.7397848695705913\n",
    "0.7316433141400384\n",
    "\n",
    "# binary만\n",
    "0.7452942657876084\n",
    "0.7339222178367916"
   ]
  },
  {
   "cell_type": "code",
   "execution_count": 570,
   "id": "married-balloon",
   "metadata": {},
   "outputs": [
    {
     "data": {
      "text/plain": [
       "0.7316585777211151"
      ]
     },
     "execution_count": 570,
     "metadata": {},
     "output_type": "execute_result"
    }
   ],
   "source": [
    "### 기존의 평균 표준편차 사용 정규화\n",
    "# 0.7398746001125598 \n",
    "# 0.731703572697814  \n",
    "\n",
    "# binary feature\n",
    "# 0.7447143745928957 0.005 증가\n",
    "# 0.7332622413020282 0.002 증가\n",
    "\n",
    "# 정규화\n",
    "# 0.7398098658534071 0.00007 감소\n",
    "# 0.7318043493395331 0.0001 증가\n",
    "\n",
    "# 둘 다\n",
    "\n",
    "# 0.7398098658534071 0.00007 감소\n",
    "# 0.7318043493395331 0.0001 증가\n",
    "\n",
    "\n",
    "### ips 제곱하고 정규화\n",
    "# 0.739873725695487  0.00000~ 감소\n",
    "# 0.7316585777211151 0.0001 감소\n",
    "\n",
    "\n",
    "####  마지막\n",
    "0.739873725695487\n",
    "0.7316585777211151\n",
    "\n",
    "\n",
    "\n",
    "\n",
    "# 0.7447143745928957 0.005 증가\n",
    "# 0.7332622413020282 0.002 증가"
   ]
  },
  {
   "cell_type": "code",
   "execution_count": 571,
   "id": "digital-reader",
   "metadata": {
    "scrolled": true
   },
   "outputs": [
    {
     "name": "stdout",
     "output_type": "stream",
     "text": [
      "0.732629847481416\n"
     ]
    }
   ],
   "source": [
    "print(in_loss)"
   ]
  },
  {
   "cell_type": "code",
   "execution_count": 105,
   "id": "numerous-inquiry",
   "metadata": {},
   "outputs": [],
   "source": [
    "in_zeros = np.zeros([len(in_test),3])\n",
    "for fold in range(5):\n",
    "    in_zeros += in_models[fold].predict_proba(in_test)/5\n",
    "in_output = pd.DataFrame(in_zeros)\n",
    "in_output = in_output.reindex(index=pd.Index(idx_in_test))"
   ]
  },
  {
   "cell_type": "code",
   "execution_count": 106,
   "id": "reasonable-immune",
   "metadata": {},
   "outputs": [],
   "source": [
    "out_zeros = np.zeros([len(out_test),3])\n",
    "for fold in range(5):\n",
    "    out_zeros += out_models[fold].predict_proba(out_test)/5\n",
    "out_output = pd.DataFrame(out_zeros)\n",
    "out_output = out_output.reindex(index=pd.Index(idx_out_test))"
   ]
  },
  {
   "cell_type": "code",
   "execution_count": 107,
   "id": "sacred-alcohol",
   "metadata": {},
   "outputs": [],
   "source": [
    "in2 = np.concatenate((in_zeros,np.array(idx_in_test).reshape(-1,1)),axis=1)\n",
    "out2 = np.concatenate((out_zeros,np.array(idx_out_test).reshape(-1,1)),axis=1)"
   ]
  },
  {
   "cell_type": "code",
   "execution_count": 108,
   "id": "false-builder",
   "metadata": {},
   "outputs": [],
   "source": [
    "output = pd.DataFrame(np.concatenate((in2,out2),axis=0),columns=[0,1,2,'index'])"
   ]
  },
  {
   "cell_type": "code",
   "execution_count": 109,
   "id": "intensive-irish",
   "metadata": {},
   "outputs": [],
   "source": [
    "output['index'] = output['index'].astype('int')"
   ]
  },
  {
   "cell_type": "code",
   "execution_count": 110,
   "id": "middle-fellow",
   "metadata": {},
   "outputs": [],
   "source": [
    "ss = pd.read_csv(d + '\\\\' +lst[1])"
   ]
  },
  {
   "cell_type": "code",
   "execution_count": 111,
   "id": "incoming-savings",
   "metadata": {},
   "outputs": [],
   "source": [
    "for i in range(len(output)):\n",
    "    row = output.loc[output['index']==i]\n",
    "    ss.iloc[i,1:] = row.iloc[:,:3]"
   ]
  },
  {
   "cell_type": "code",
   "execution_count": 112,
   "id": "buried-render",
   "metadata": {},
   "outputs": [
    {
     "data": {
      "text/html": [
       "<div>\n",
       "<style scoped>\n",
       "    .dataframe tbody tr th:only-of-type {\n",
       "        vertical-align: middle;\n",
       "    }\n",
       "\n",
       "    .dataframe tbody tr th {\n",
       "        vertical-align: top;\n",
       "    }\n",
       "\n",
       "    .dataframe thead th {\n",
       "        text-align: right;\n",
       "    }\n",
       "</style>\n",
       "<table border=\"1\" class=\"dataframe\">\n",
       "  <thead>\n",
       "    <tr style=\"text-align: right;\">\n",
       "      <th></th>\n",
       "      <th>0</th>\n",
       "      <th>1</th>\n",
       "      <th>2</th>\n",
       "      <th>index</th>\n",
       "    </tr>\n",
       "  </thead>\n",
       "  <tbody>\n",
       "    <tr>\n",
       "      <th>0</th>\n",
       "      <td>0.083646</td>\n",
       "      <td>0.177263</td>\n",
       "      <td>0.739091</td>\n",
       "      <td>1</td>\n",
       "    </tr>\n",
       "    <tr>\n",
       "      <th>1</th>\n",
       "      <td>0.031386</td>\n",
       "      <td>0.091128</td>\n",
       "      <td>0.877486</td>\n",
       "      <td>2</td>\n",
       "    </tr>\n",
       "    <tr>\n",
       "      <th>2</th>\n",
       "      <td>0.101208</td>\n",
       "      <td>0.133666</td>\n",
       "      <td>0.765126</td>\n",
       "      <td>3</td>\n",
       "    </tr>\n",
       "    <tr>\n",
       "      <th>3</th>\n",
       "      <td>0.071951</td>\n",
       "      <td>0.146165</td>\n",
       "      <td>0.781885</td>\n",
       "      <td>4</td>\n",
       "    </tr>\n",
       "    <tr>\n",
       "      <th>4</th>\n",
       "      <td>0.059793</td>\n",
       "      <td>0.130476</td>\n",
       "      <td>0.809731</td>\n",
       "      <td>5</td>\n",
       "    </tr>\n",
       "    <tr>\n",
       "      <th>...</th>\n",
       "      <td>...</td>\n",
       "      <td>...</td>\n",
       "      <td>...</td>\n",
       "      <td>...</td>\n",
       "    </tr>\n",
       "    <tr>\n",
       "      <th>9995</th>\n",
       "      <td>0.040524</td>\n",
       "      <td>0.067478</td>\n",
       "      <td>0.891998</td>\n",
       "      <td>9968</td>\n",
       "    </tr>\n",
       "    <tr>\n",
       "      <th>9996</th>\n",
       "      <td>0.104505</td>\n",
       "      <td>0.089859</td>\n",
       "      <td>0.805636</td>\n",
       "      <td>9981</td>\n",
       "    </tr>\n",
       "    <tr>\n",
       "      <th>9997</th>\n",
       "      <td>0.135468</td>\n",
       "      <td>0.191587</td>\n",
       "      <td>0.672945</td>\n",
       "      <td>9988</td>\n",
       "    </tr>\n",
       "    <tr>\n",
       "      <th>9998</th>\n",
       "      <td>0.214337</td>\n",
       "      <td>0.158605</td>\n",
       "      <td>0.627058</td>\n",
       "      <td>9992</td>\n",
       "    </tr>\n",
       "    <tr>\n",
       "      <th>9999</th>\n",
       "      <td>0.087142</td>\n",
       "      <td>0.904503</td>\n",
       "      <td>0.008355</td>\n",
       "      <td>9994</td>\n",
       "    </tr>\n",
       "  </tbody>\n",
       "</table>\n",
       "<p>10000 rows × 4 columns</p>\n",
       "</div>"
      ],
      "text/plain": [
       "             0         1         2  index\n",
       "0     0.083646  0.177263  0.739091      1\n",
       "1     0.031386  0.091128  0.877486      2\n",
       "2     0.101208  0.133666  0.765126      3\n",
       "3     0.071951  0.146165  0.781885      4\n",
       "4     0.059793  0.130476  0.809731      5\n",
       "...        ...       ...       ...    ...\n",
       "9995  0.040524  0.067478  0.891998   9968\n",
       "9996  0.104505  0.089859  0.805636   9981\n",
       "9997  0.135468  0.191587  0.672945   9988\n",
       "9998  0.214337  0.158605  0.627058   9992\n",
       "9999  0.087142  0.904503  0.008355   9994\n",
       "\n",
       "[10000 rows x 4 columns]"
      ]
     },
     "execution_count": 112,
     "metadata": {},
     "output_type": "execute_result"
    }
   ],
   "source": [
    "output"
   ]
  },
  {
   "cell_type": "code",
   "execution_count": 113,
   "id": "centered-official",
   "metadata": {},
   "outputs": [
    {
     "data": {
      "text/html": [
       "<div>\n",
       "<style scoped>\n",
       "    .dataframe tbody tr th:only-of-type {\n",
       "        vertical-align: middle;\n",
       "    }\n",
       "\n",
       "    .dataframe tbody tr th {\n",
       "        vertical-align: top;\n",
       "    }\n",
       "\n",
       "    .dataframe thead th {\n",
       "        text-align: right;\n",
       "    }\n",
       "</style>\n",
       "<table border=\"1\" class=\"dataframe\">\n",
       "  <thead>\n",
       "    <tr style=\"text-align: right;\">\n",
       "      <th></th>\n",
       "      <th>index</th>\n",
       "      <th>0</th>\n",
       "      <th>1</th>\n",
       "      <th>2</th>\n",
       "    </tr>\n",
       "  </thead>\n",
       "  <tbody>\n",
       "    <tr>\n",
       "      <th>0</th>\n",
       "      <td>26457</td>\n",
       "      <td>0.041973</td>\n",
       "      <td>0.140227</td>\n",
       "      <td>0.817800</td>\n",
       "    </tr>\n",
       "    <tr>\n",
       "      <th>1</th>\n",
       "      <td>26458</td>\n",
       "      <td>0.083646</td>\n",
       "      <td>0.177263</td>\n",
       "      <td>0.739091</td>\n",
       "    </tr>\n",
       "    <tr>\n",
       "      <th>2</th>\n",
       "      <td>26459</td>\n",
       "      <td>0.031386</td>\n",
       "      <td>0.091128</td>\n",
       "      <td>0.877486</td>\n",
       "    </tr>\n",
       "    <tr>\n",
       "      <th>3</th>\n",
       "      <td>26460</td>\n",
       "      <td>0.101208</td>\n",
       "      <td>0.133666</td>\n",
       "      <td>0.765126</td>\n",
       "    </tr>\n",
       "    <tr>\n",
       "      <th>4</th>\n",
       "      <td>26461</td>\n",
       "      <td>0.071951</td>\n",
       "      <td>0.146165</td>\n",
       "      <td>0.781885</td>\n",
       "    </tr>\n",
       "    <tr>\n",
       "      <th>...</th>\n",
       "      <td>...</td>\n",
       "      <td>...</td>\n",
       "      <td>...</td>\n",
       "      <td>...</td>\n",
       "    </tr>\n",
       "    <tr>\n",
       "      <th>9995</th>\n",
       "      <td>36452</td>\n",
       "      <td>0.106584</td>\n",
       "      <td>0.245990</td>\n",
       "      <td>0.647426</td>\n",
       "    </tr>\n",
       "    <tr>\n",
       "      <th>9996</th>\n",
       "      <td>36453</td>\n",
       "      <td>0.179093</td>\n",
       "      <td>0.287460</td>\n",
       "      <td>0.533446</td>\n",
       "    </tr>\n",
       "    <tr>\n",
       "      <th>9997</th>\n",
       "      <td>36454</td>\n",
       "      <td>0.176063</td>\n",
       "      <td>0.084956</td>\n",
       "      <td>0.738981</td>\n",
       "    </tr>\n",
       "    <tr>\n",
       "      <th>9998</th>\n",
       "      <td>36455</td>\n",
       "      <td>0.075697</td>\n",
       "      <td>0.202040</td>\n",
       "      <td>0.722262</td>\n",
       "    </tr>\n",
       "    <tr>\n",
       "      <th>9999</th>\n",
       "      <td>36456</td>\n",
       "      <td>0.062569</td>\n",
       "      <td>0.147414</td>\n",
       "      <td>0.790017</td>\n",
       "    </tr>\n",
       "  </tbody>\n",
       "</table>\n",
       "<p>10000 rows × 4 columns</p>\n",
       "</div>"
      ],
      "text/plain": [
       "      index         0         1         2\n",
       "0     26457  0.041973  0.140227  0.817800\n",
       "1     26458  0.083646  0.177263  0.739091\n",
       "2     26459  0.031386  0.091128  0.877486\n",
       "3     26460  0.101208  0.133666  0.765126\n",
       "4     26461  0.071951  0.146165  0.781885\n",
       "...     ...       ...       ...       ...\n",
       "9995  36452  0.106584  0.245990  0.647426\n",
       "9996  36453  0.179093  0.287460  0.533446\n",
       "9997  36454  0.176063  0.084956  0.738981\n",
       "9998  36455  0.075697  0.202040  0.722262\n",
       "9999  36456  0.062569  0.147414  0.790017\n",
       "\n",
       "[10000 rows x 4 columns]"
      ]
     },
     "execution_count": 113,
     "metadata": {},
     "output_type": "execute_result"
    }
   ],
   "source": [
    "ss"
   ]
  },
  {
   "cell_type": "code",
   "execution_count": 115,
   "id": "extraordinary-copying",
   "metadata": {},
   "outputs": [],
   "source": [
    "ss.to_csv('sq_no_bin.csv', index=False)"
   ]
  },
  {
   "cell_type": "code",
   "execution_count": 205,
   "id": "primary-charlotte",
   "metadata": {},
   "outputs": [
    {
     "data": {
      "text/html": [
       "<div>\n",
       "<style scoped>\n",
       "    .dataframe tbody tr th:only-of-type {\n",
       "        vertical-align: middle;\n",
       "    }\n",
       "\n",
       "    .dataframe tbody tr th {\n",
       "        vertical-align: top;\n",
       "    }\n",
       "\n",
       "    .dataframe thead th {\n",
       "        text-align: right;\n",
       "    }\n",
       "</style>\n",
       "<table border=\"1\" class=\"dataframe\">\n",
       "  <thead>\n",
       "    <tr style=\"text-align: right;\">\n",
       "      <th></th>\n",
       "      <th>0</th>\n",
       "      <th>1</th>\n",
       "      <th>2</th>\n",
       "      <th>index</th>\n",
       "    </tr>\n",
       "  </thead>\n",
       "  <tbody>\n",
       "    <tr>\n",
       "      <th>0</th>\n",
       "      <td>0.254328</td>\n",
       "      <td>0.176459</td>\n",
       "      <td>0.569213</td>\n",
       "      <td>1</td>\n",
       "    </tr>\n",
       "    <tr>\n",
       "      <th>1</th>\n",
       "      <td>0.037702</td>\n",
       "      <td>0.077119</td>\n",
       "      <td>0.885179</td>\n",
       "      <td>2</td>\n",
       "    </tr>\n",
       "    <tr>\n",
       "      <th>2</th>\n",
       "      <td>0.150319</td>\n",
       "      <td>0.105418</td>\n",
       "      <td>0.744263</td>\n",
       "      <td>3</td>\n",
       "    </tr>\n",
       "    <tr>\n",
       "      <th>3</th>\n",
       "      <td>0.074441</td>\n",
       "      <td>0.168475</td>\n",
       "      <td>0.757084</td>\n",
       "      <td>4</td>\n",
       "    </tr>\n",
       "    <tr>\n",
       "      <th>4</th>\n",
       "      <td>0.057947</td>\n",
       "      <td>0.112467</td>\n",
       "      <td>0.829586</td>\n",
       "      <td>5</td>\n",
       "    </tr>\n",
       "  </tbody>\n",
       "</table>\n",
       "</div>"
      ],
      "text/plain": [
       "          0         1         2  index\n",
       "0  0.254328  0.176459  0.569213      1\n",
       "1  0.037702  0.077119  0.885179      2\n",
       "2  0.150319  0.105418  0.744263      3\n",
       "3  0.074441  0.168475  0.757084      4\n",
       "4  0.057947  0.112467  0.829586      5"
      ]
     },
     "execution_count": 205,
     "metadata": {},
     "output_type": "execute_result"
    }
   ],
   "source": [
    "output.head()"
   ]
  },
  {
   "cell_type": "code",
   "execution_count": 206,
   "id": "perceived-seattle",
   "metadata": {},
   "outputs": [
    {
     "data": {
      "text/html": [
       "<div>\n",
       "<style scoped>\n",
       "    .dataframe tbody tr th:only-of-type {\n",
       "        vertical-align: middle;\n",
       "    }\n",
       "\n",
       "    .dataframe tbody tr th {\n",
       "        vertical-align: top;\n",
       "    }\n",
       "\n",
       "    .dataframe thead th {\n",
       "        text-align: right;\n",
       "    }\n",
       "</style>\n",
       "<table border=\"1\" class=\"dataframe\">\n",
       "  <thead>\n",
       "    <tr style=\"text-align: right;\">\n",
       "      <th></th>\n",
       "      <th>0</th>\n",
       "      <th>1</th>\n",
       "      <th>2</th>\n",
       "      <th>index</th>\n",
       "    </tr>\n",
       "  </thead>\n",
       "  <tbody>\n",
       "    <tr>\n",
       "      <th>9995</th>\n",
       "      <td>0.045256</td>\n",
       "      <td>0.062820</td>\n",
       "      <td>0.891924</td>\n",
       "      <td>9968</td>\n",
       "    </tr>\n",
       "    <tr>\n",
       "      <th>9996</th>\n",
       "      <td>0.113289</td>\n",
       "      <td>0.091170</td>\n",
       "      <td>0.795541</td>\n",
       "      <td>9981</td>\n",
       "    </tr>\n",
       "    <tr>\n",
       "      <th>9997</th>\n",
       "      <td>0.162660</td>\n",
       "      <td>0.185026</td>\n",
       "      <td>0.652315</td>\n",
       "      <td>9988</td>\n",
       "    </tr>\n",
       "    <tr>\n",
       "      <th>9998</th>\n",
       "      <td>0.231756</td>\n",
       "      <td>0.133885</td>\n",
       "      <td>0.634359</td>\n",
       "      <td>9992</td>\n",
       "    </tr>\n",
       "    <tr>\n",
       "      <th>9999</th>\n",
       "      <td>0.083838</td>\n",
       "      <td>0.910228</td>\n",
       "      <td>0.005934</td>\n",
       "      <td>9994</td>\n",
       "    </tr>\n",
       "  </tbody>\n",
       "</table>\n",
       "</div>"
      ],
      "text/plain": [
       "             0         1         2  index\n",
       "9995  0.045256  0.062820  0.891924   9968\n",
       "9996  0.113289  0.091170  0.795541   9981\n",
       "9997  0.162660  0.185026  0.652315   9988\n",
       "9998  0.231756  0.133885  0.634359   9992\n",
       "9999  0.083838  0.910228  0.005934   9994"
      ]
     },
     "execution_count": 206,
     "metadata": {},
     "output_type": "execute_result"
    }
   ],
   "source": [
    "output.tail()"
   ]
  }
 ],
 "metadata": {
  "kernelspec": {
   "display_name": "Python 3",
   "language": "python",
   "name": "python3"
  },
  "language_info": {
   "codemirror_mode": {
    "name": "ipython",
    "version": 3
   },
   "file_extension": ".py",
   "mimetype": "text/x-python",
   "name": "python",
   "nbconvert_exporter": "python",
   "pygments_lexer": "ipython3",
   "version": "3.7.6"
  }
 },
 "nbformat": 4,
 "nbformat_minor": 5
}
