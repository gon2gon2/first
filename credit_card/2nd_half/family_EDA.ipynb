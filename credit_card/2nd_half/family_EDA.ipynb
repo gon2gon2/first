{
 "cells": [
  {
   "cell_type": "code",
   "execution_count": 16,
   "id": "quantitative-shore",
   "metadata": {},
   "outputs": [],
   "source": [
    "import warnings\n",
    "warnings.filterwarnings('ignore')\n",
    "import glob\n",
    "import pandas as pd\n",
    "import numpy as np\n",
    "import seaborn as sns\n",
    "import matplotlib.pyplot as plt\n",
    "from lightgbm import LGBMClassifier\n",
    "from sklearn.model_selection import StratifiedKFold\n",
    "from sklearn.preprocessing import OneHotEncoder\n",
    "import random\n",
    "import os\n",
    "from sklearn.metrics import log_loss"
   ]
  },
  {
   "cell_type": "code",
   "execution_count": 17,
   "id": "devoted-biology",
   "metadata": {},
   "outputs": [
    {
     "name": "stdout",
     "output_type": "stream",
     "text": [
      "['.ipynb_checkpoints', 'sample_submission.csv', 'test.csv', 'train.csv', 'Untitled.ipynb']\n"
     ]
    }
   ],
   "source": [
    "d = \"C:\\kaggle_data\\credit_card\"\n",
    "lst = os.listdir(d)\n",
    "print(lst)\n",
    "train = pd.read_csv(d + '\\\\' +lst[3])\n",
    "test = pd.read_csv(d + '\\\\' +lst[2])\n",
    "ss = pd.read_csv(d + '\\\\' +lst[1])\n",
    "train = train.drop(['index'], axis=1)\n",
    "train.fillna('NAN', inplace=True) \n",
    "test = test.drop(['index'], axis=1)\n",
    "test.fillna('NAN', inplace=True)"
   ]
  },
  {
   "cell_type": "markdown",
   "id": "interracial-guatemala",
   "metadata": {},
   "source": [
    "# 전처리"
   ]
  },
  {
   "cell_type": "markdown",
   "id": "revolutionary-attention",
   "metadata": {},
   "source": [
    "### family_type\n",
    "- 'Married', 'Civil marriage'\n",
    "- 'Separated', 'Single / not married', 'Widow'"
   ]
  },
  {
   "cell_type": "code",
   "execution_count": 18,
   "id": "necessary-bride",
   "metadata": {
    "scrolled": true
   },
   "outputs": [
    {
     "data": {
      "text/plain": [
       "array(['Married', 'Civil marriage', 'Separated', 'Single / not married',\n",
       "       'Widow'], dtype=object)"
      ]
     },
     "execution_count": 18,
     "metadata": {},
     "output_type": "execute_result"
    }
   ],
   "source": [
    "train['family_type'].unique()"
   ]
  },
  {
   "cell_type": "code",
   "execution_count": 19,
   "id": "revised-graduate",
   "metadata": {},
   "outputs": [],
   "source": [
    "train.loc[(train['family_type']=='Married')|(train['family_type']=='Civil marriage')|(train['family_type']=='Separated'),'new_size']\\\n",
    "= train['family_size'] - 2\n",
    "train.loc[(train['family_type']=='Single / not married')|(train['family_type']=='Widow'),'new_size']\\\n",
    "= train['family_size'] - 1\n",
    "test.loc[(test['family_type']=='Married')|(test['family_type']=='Civil marriage')|(test['family_type']=='Separated'),'new_size']\\\n",
    "= train['family_size'] - 2\n",
    "test.loc[(test['family_type']=='Single / not married')|(test['family_type']=='Widow'),'new_size']\\\n",
    "= train['family_size'] - 1"
   ]
  },
  {
   "cell_type": "code",
   "execution_count": 20,
   "id": "internal-cassette",
   "metadata": {},
   "outputs": [],
   "source": [
    "# Married, Civil marriage\n",
    "train['income_per_size'] = np.log(train['income_total']/train['family_size'])\n",
    "test['income_per_size'] = np.log(test['income_total']/test['family_size'])\n",
    "train.loc[(train['family_type']=='Married')|(train['family_type']=='Civil marriage'),'income_per_size']\\\n",
    "= train['income_per_size'] * 2\n",
    "\n",
    "test.loc[(test['family_type']=='Married')|(test['family_type']=='Civil marriage'),'income_per_size']\\\n",
    "= test['income_per_size'] * 2"
   ]
  },
  {
   "cell_type": "code",
   "execution_count": 21,
   "id": "fiscal-crash",
   "metadata": {},
   "outputs": [],
   "source": [
    "train = train.drop('family_size',1)\n",
    "test = test.drop('family_size',1)"
   ]
  },
  {
   "cell_type": "code",
   "execution_count": 22,
   "id": "biological-recording",
   "metadata": {},
   "outputs": [],
   "source": [
    "# def simple_marry(x):\n",
    "#     if x == 'Married' or x =='Civil marriage':\n",
    "#         return 0\n",
    "#     else:\n",
    "#         return 1"
   ]
  },
  {
   "cell_type": "code",
   "execution_count": 23,
   "id": "alone-private",
   "metadata": {},
   "outputs": [],
   "source": [
    "# for df in [train,test]:\n",
    "#     df['family_type'] = df['family_type'].apply(simple_marry)"
   ]
  },
  {
   "cell_type": "code",
   "execution_count": 24,
   "id": "increasing-moses",
   "metadata": {},
   "outputs": [],
   "source": [
    "# income_total을 로그변환 한 새로운 feature log_income\n",
    "# 기존 칼럼 삭제\n",
    "train['log_income'] = np.log(train['income_total'])\n",
    "train = train.drop('income_total',1)\n",
    "test['log_income'] = np.log(test['income_total'])\n",
    "test = test.drop('income_total',1)"
   ]
  },
  {
   "cell_type": "code",
   "execution_count": 25,
   "id": "constant-cotton",
   "metadata": {},
   "outputs": [],
   "source": [
    "# car와 reality를 합친 새로운 칼럼 careality\n",
    "train['careality'] = train['car'] + train['reality']\n",
    "train = train.drop(['car', 'reality'],1)\n",
    "\n",
    "test['careality'] = test['car'] + test['reality']\n",
    "test = test.drop(['car', 'reality'],1)"
   ]
  },
  {
   "cell_type": "code",
   "execution_count": 26,
   "id": "latest-copying",
   "metadata": {},
   "outputs": [],
   "source": [
    "object_col = []\n",
    "for col in train.columns:\n",
    "    if train[col].dtype == 'object':\n",
    "        object_col.append(col)"
   ]
  },
  {
   "cell_type": "code",
   "execution_count": 27,
   "id": "maritime-directory",
   "metadata": {},
   "outputs": [],
   "source": [
    "enc = OneHotEncoder()\n",
    "enc.fit(train.loc[:,object_col])\n",
    "\n",
    "\n",
    "train_onehot_df = pd.DataFrame(enc.transform(train.loc[:,object_col]).toarray(), \n",
    "             columns=enc.get_feature_names(object_col))\n",
    "train.drop(object_col, axis=1, inplace=True)\n",
    "train = pd.concat([train, train_onehot_df], axis=1)"
   ]
  },
  {
   "cell_type": "code",
   "execution_count": 28,
   "id": "informal-sixth",
   "metadata": {},
   "outputs": [],
   "source": [
    "test_onehot_df = pd.DataFrame(enc.transform(test.loc[:,object_col]).toarray(), \n",
    "             columns=enc.get_feature_names(object_col))\n",
    "test.drop(object_col, axis=1, inplace=True)\n",
    "test = pd.concat([test, test_onehot_df], axis=1)"
   ]
  },
  {
   "cell_type": "markdown",
   "id": "precise-dating",
   "metadata": {},
   "source": [
    "# 모델링, 학습"
   ]
  },
  {
   "cell_type": "code",
   "execution_count": 29,
   "id": "hundred-afternoon",
   "metadata": {
    "scrolled": true
   },
   "outputs": [
    {
     "data": {
      "text/plain": [
       "Index(['child_num', 'DAYS_BIRTH', 'DAYS_EMPLOYED', 'FLAG_MOBIL', 'work_phone',\n",
       "       'phone', 'email', 'begin_month', 'credit', 'new_size',\n",
       "       'income_per_size', 'log_income', 'gender_F', 'gender_M',\n",
       "       'income_type_Commercial associate', 'income_type_Pensioner',\n",
       "       'income_type_State servant', 'income_type_Student',\n",
       "       'income_type_Working', 'edu_type_Academic degree',\n",
       "       'edu_type_Higher education', 'edu_type_Incomplete higher',\n",
       "       'edu_type_Lower secondary', 'edu_type_Secondary / secondary special',\n",
       "       'family_type_Civil marriage', 'family_type_Married',\n",
       "       'family_type_Separated', 'family_type_Single / not married',\n",
       "       'family_type_Widow', 'house_type_Co-op apartment',\n",
       "       'house_type_House / apartment', 'house_type_Municipal apartment',\n",
       "       'house_type_Office apartment', 'house_type_Rented apartment',\n",
       "       'house_type_With parents', 'occyp_type_Accountants',\n",
       "       'occyp_type_Cleaning staff', 'occyp_type_Cooking staff',\n",
       "       'occyp_type_Core staff', 'occyp_type_Drivers', 'occyp_type_HR staff',\n",
       "       'occyp_type_High skill tech staff', 'occyp_type_IT staff',\n",
       "       'occyp_type_Laborers', 'occyp_type_Low-skill Laborers',\n",
       "       'occyp_type_Managers', 'occyp_type_Medicine staff', 'occyp_type_NAN',\n",
       "       'occyp_type_Private service staff', 'occyp_type_Realty agents',\n",
       "       'occyp_type_Sales staff', 'occyp_type_Secretaries',\n",
       "       'occyp_type_Security staff', 'occyp_type_Waiters/barmen staff',\n",
       "       'careality_NN', 'careality_NY', 'careality_YN', 'careality_YY'],\n",
       "      dtype='object')"
      ]
     },
     "execution_count": 29,
     "metadata": {},
     "output_type": "execute_result"
    }
   ],
   "source": [
    "train.columns"
   ]
  },
  {
   "cell_type": "code",
   "execution_count": 30,
   "id": "spoken-sending",
   "metadata": {
    "scrolled": false
   },
   "outputs": [
    {
     "name": "stdout",
     "output_type": "stream",
     "text": [
      "====================================1============================================\n",
      "Training until validation scores don't improve for 30 rounds\n",
      "[100]\ttraining's multi_logloss: 0.645602\tvalid_1's multi_logloss: 0.750543\n",
      "[200]\ttraining's multi_logloss: 0.559459\tvalid_1's multi_logloss: 0.731849\n",
      "[300]\ttraining's multi_logloss: 0.492815\tvalid_1's multi_logloss: 0.723668\n",
      "Early stopping, best iteration is:\n",
      "[349]\ttraining's multi_logloss: 0.467508\tvalid_1's multi_logloss: 0.722791\n",
      "================================================================================\n",
      "\n",
      "\n",
      "====================================2============================================\n",
      "Training until validation scores don't improve for 30 rounds\n",
      "[100]\ttraining's multi_logloss: 0.644559\tvalid_1's multi_logloss: 0.761785\n",
      "[200]\ttraining's multi_logloss: 0.555887\tvalid_1's multi_logloss: 0.745388\n",
      "[300]\ttraining's multi_logloss: 0.490265\tvalid_1's multi_logloss: 0.743832\n",
      "Early stopping, best iteration is:\n",
      "[270]\ttraining's multi_logloss: 0.508645\tvalid_1's multi_logloss: 0.743267\n",
      "================================================================================\n",
      "\n",
      "\n",
      "====================================3============================================\n",
      "Training until validation scores don't improve for 30 rounds\n",
      "[100]\ttraining's multi_logloss: 0.643914\tvalid_1's multi_logloss: 0.755202\n",
      "[200]\ttraining's multi_logloss: 0.554615\tvalid_1's multi_logloss: 0.74105\n",
      "[300]\ttraining's multi_logloss: 0.490582\tvalid_1's multi_logloss: 0.73698\n",
      "Early stopping, best iteration is:\n",
      "[286]\ttraining's multi_logloss: 0.498496\tvalid_1's multi_logloss: 0.736698\n",
      "================================================================================\n",
      "\n",
      "\n",
      "====================================4============================================\n",
      "Training until validation scores don't improve for 30 rounds\n",
      "[100]\ttraining's multi_logloss: 0.642934\tvalid_1's multi_logloss: 0.752395\n",
      "[200]\ttraining's multi_logloss: 0.556787\tvalid_1's multi_logloss: 0.736219\n",
      "[300]\ttraining's multi_logloss: 0.492466\tvalid_1's multi_logloss: 0.73207\n",
      "Early stopping, best iteration is:\n",
      "[311]\ttraining's multi_logloss: 0.485968\tvalid_1's multi_logloss: 0.731853\n",
      "================================================================================\n",
      "\n",
      "\n",
      "====================================5============================================\n",
      "Training until validation scores don't improve for 30 rounds\n",
      "[100]\ttraining's multi_logloss: 0.648601\tvalid_1's multi_logloss: 0.753085\n",
      "[200]\ttraining's multi_logloss: 0.560445\tvalid_1's multi_logloss: 0.736118\n",
      "[300]\ttraining's multi_logloss: 0.496176\tvalid_1's multi_logloss: 0.733114\n",
      "Early stopping, best iteration is:\n",
      "[320]\ttraining's multi_logloss: 0.484111\tvalid_1's multi_logloss: 0.732605\n",
      "================================================================================\n",
      "\n",
      "\n",
      "0.7334427958153361\n"
     ]
    }
   ],
   "source": [
    "skf = StratifiedKFold(n_splits=5, shuffle=True, random_state=42)\n",
    "folds=[]\n",
    "losses=[]\n",
    "for train_idx, valid_idx in skf.split(train, train['credit']):\n",
    "    folds.append((train_idx, valid_idx))\n",
    "random.seed(42)\n",
    "lgb_models={}\n",
    "for fold in range(5):\n",
    "    print(f'===================================={fold+1}============================================')\n",
    "    train_idx, valid_idx = folds[fold]\n",
    "    X_train, X_valid, y_train, y_valid = train.drop(['credit'],axis=1).iloc[train_idx].values, train.drop(['credit'],axis=1).iloc[valid_idx].values,\\\n",
    "                                         train['credit'][train_idx].values, train['credit'][valid_idx].values \n",
    "    lgb = LGBMClassifier(n_estimators=1000)\n",
    "    lgb.fit(X_train, y_train, \n",
    "            eval_set=[(X_train, y_train), (X_valid, y_valid)], \n",
    "            early_stopping_rounds=30,\n",
    "           verbose=100)\n",
    "    lgb_models[fold]=lgb\n",
    "    losses.append(log_loss(y_valid, lgb.predict_proba(X_valid)))\n",
    "    print(f'================================================================================\\n\\n')\n",
    "print(sum(losses)/5)"
   ]
  },
  {
   "cell_type": "code",
   "execution_count": 31,
   "id": "twelve-weapon",
   "metadata": {},
   "outputs": [],
   "source": [
    "ss.iloc[:,1:]=0\n",
    "for fold in range(5):\n",
    "    ss.iloc[:,1:] += lgb_models[fold].predict_proba(test)/5"
   ]
  },
  {
   "cell_type": "code",
   "execution_count": 36,
   "id": "sustainable-stopping",
   "metadata": {},
   "outputs": [],
   "source": [
    "ss.to_csv('baseline_ips_marriage.csv', index=False)"
   ]
  }
 ],
 "metadata": {
  "kernelspec": {
   "display_name": "Python 3",
   "language": "python",
   "name": "python3"
  },
  "language_info": {
   "codemirror_mode": {
    "name": "ipython",
    "version": 3
   },
   "file_extension": ".py",
   "mimetype": "text/x-python",
   "name": "python",
   "nbconvert_exporter": "python",
   "pygments_lexer": "ipython3",
   "version": "3.7.6"
  }
 },
 "nbformat": 4,
 "nbformat_minor": 5
}
