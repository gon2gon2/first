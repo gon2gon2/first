{
 "cells": [
  {
   "cell_type": "code",
   "execution_count": 62,
   "id": "knowing-institution",
   "metadata": {},
   "outputs": [],
   "source": [
    "import os\n",
    "import pandas as pd\n",
    "import numpy as np\n",
    "from sklearn.preprocessing import OrdinalEncoder as OE\n",
    "from sklearn.preprocessing import LabelEncoder as LE\n",
    "from sklearn.model_selection import StratifiedKFold\n",
    "from sklearn.model_selection import KFold\n",
    "from sklearn.model_selection import cross_val_score\n",
    "from xgboost import plot_importance"
   ]
  },
  {
   "cell_type": "code",
   "execution_count": 63,
   "id": "identical-doctor",
   "metadata": {},
   "outputs": [],
   "source": [
    "d = \"C:\\kaggle_data\\credit_card\""
   ]
  },
  {
   "cell_type": "code",
   "execution_count": 64,
   "id": "authentic-enclosure",
   "metadata": {},
   "outputs": [
    {
     "name": "stdout",
     "output_type": "stream",
     "text": [
      "['sample_submission.csv', 'test.csv', 'train.csv']\n"
     ]
    }
   ],
   "source": [
    "lst = os.listdir(d)\n",
    "print(lst)"
   ]
  },
  {
   "cell_type": "code",
   "execution_count": 65,
   "id": "aging-williams",
   "metadata": {},
   "outputs": [],
   "source": [
    "train = pd.read_csv(d + '\\\\' +lst[2])\n",
    "test = pd.read_csv(d + '\\\\' +lst[1])\n",
    "ss = pd.read_csv(d + '\\\\' +lst[0])\n",
    "total = pd.concat([train, test])\n",
    "cols = total.columns.to_list()"
   ]
  },
  {
   "cell_type": "code",
   "execution_count": 66,
   "id": "numerous-objective",
   "metadata": {},
   "outputs": [],
   "source": [
    "from sklearn.preprocessing import LabelEncoder as LE\n",
    "labels = ['gender', 'car', 'reality', 'work_phone', 'phone', 'email', 'occyp_type', 'income_type', 'edu_type', 'family_type', 'house_type']\n",
    "for label in labels:\n",
    "    enc = LE()\n",
    "    enc.fit(total[label])\n",
    "    train[label] = enc.transform(train[label])\n",
    "    test[label] = enc.transform(test[label])"
   ]
  },
  {
   "cell_type": "code",
   "execution_count": 67,
   "id": "immune-sunday",
   "metadata": {},
   "outputs": [],
   "source": [
    "import xgboost as xgb\n",
    "rk_clf = xgb.XGBRFClassifier(random_state=1123)\n",
    "sk_clf = xgb.XGBRFClassifier(random_state=1123)"
   ]
  },
  {
   "cell_type": "code",
   "execution_count": 68,
   "id": "ethical-movie",
   "metadata": {},
   "outputs": [],
   "source": [
    "cols.remove('index')\n",
    "cols.remove('gender')"
   ]
  },
  {
   "cell_type": "code",
   "execution_count": 69,
   "id": "quarterly-company",
   "metadata": {},
   "outputs": [
    {
     "data": {
      "text/plain": [
       "['car',\n",
       " 'reality',\n",
       " 'child_num',\n",
       " 'income_total',\n",
       " 'income_type',\n",
       " 'edu_type',\n",
       " 'family_type',\n",
       " 'house_type',\n",
       " 'DAYS_BIRTH',\n",
       " 'DAYS_EMPLOYED',\n",
       " 'FLAG_MOBIL',\n",
       " 'work_phone',\n",
       " 'phone',\n",
       " 'email',\n",
       " 'occyp_type',\n",
       " 'family_size',\n",
       " 'begin_month',\n",
       " 'credit']"
      ]
     },
     "execution_count": 69,
     "metadata": {},
     "output_type": "execute_result"
    }
   ],
   "source": [
    "cols"
   ]
  },
  {
   "cell_type": "code",
   "execution_count": 17,
   "id": "sudden-moderator",
   "metadata": {},
   "outputs": [],
   "source": [
    "X = train[['car', 'reality', 'child_num', 'income_total',\n",
    "       'income_type', 'edu_type', 'family_type', 'house_type', 'DAYS_BIRTH',\n",
    "       'DAYS_EMPLOYED', 'FLAG_MOBIL', 'work_phone', 'phone', 'email',\n",
    "       'occyp_type', 'family_size', 'begin_month']]\n",
    "y = train['credit']"
   ]
  },
  {
   "cell_type": "code",
   "execution_count": 18,
   "id": "combined-table",
   "metadata": {},
   "outputs": [],
   "source": [
    "from sklearn.model_selection import StratifiedKFold\n",
    "skf = StratifiedKFold(n_splits=5, shuffle=True,random_state=1123)\n",
    "\n",
    "from sklearn.model_selection import KFold\n",
    "rkf = KFold(n_splits=5, shuffle=True, random_state=1123)"
   ]
  },
  {
   "cell_type": "code",
   "execution_count": 19,
   "id": "middle-hostel",
   "metadata": {},
   "outputs": [],
   "source": [
    "from sklearn.model_selection import cross_val_score"
   ]
  },
  {
   "cell_type": "code",
   "execution_count": 20,
   "id": "southeast-commitment",
   "metadata": {},
   "outputs": [
    {
     "name": "stdout",
     "output_type": "stream",
     "text": [
      "Wall time: 6.84 s\n"
     ]
    }
   ],
   "source": [
    "%%time\n",
    "score_rkf = cross_val_score(rk_clf, X, y, cv=rkf)"
   ]
  },
  {
   "cell_type": "code",
   "execution_count": 21,
   "id": "sought-milton",
   "metadata": {},
   "outputs": [
    {
     "name": "stdout",
     "output_type": "stream",
     "text": [
      "Wall time: 6.39 s\n"
     ]
    }
   ],
   "source": [
    "%%time\n",
    "score_skf = cross_val_score(sk_clf, X, y, cv=skf)"
   ]
  },
  {
   "cell_type": "code",
   "execution_count": 22,
   "id": "unusual-trademark",
   "metadata": {},
   "outputs": [
    {
     "data": {
      "text/plain": [
       "0.6905925834497264"
      ]
     },
     "execution_count": 22,
     "metadata": {},
     "output_type": "execute_result"
    }
   ],
   "source": [
    "score_rkf.mean()"
   ]
  },
  {
   "cell_type": "code",
   "execution_count": 23,
   "id": "imperial-remainder",
   "metadata": {},
   "outputs": [
    {
     "data": {
      "text/plain": [
       "0.6904032475461047"
      ]
     },
     "execution_count": 23,
     "metadata": {},
     "output_type": "execute_result"
    }
   ],
   "source": [
    "score_skf.mean()"
   ]
  },
  {
   "cell_type": "code",
   "execution_count": 24,
   "id": "accepting-egyptian",
   "metadata": {},
   "outputs": [],
   "source": [
    "test_X = test[['car', 'reality', 'child_num', 'income_total',\n",
    "       'income_type', 'edu_type', 'family_type', 'house_type', 'DAYS_BIRTH',\n",
    "       'DAYS_EMPLOYED', 'FLAG_MOBIL', 'work_phone', 'phone', 'email',\n",
    "       'occyp_type', 'family_size', 'begin_month']]"
   ]
  },
  {
   "cell_type": "code",
   "execution_count": 25,
   "id": "infrared-allen",
   "metadata": {},
   "outputs": [],
   "source": [
    "sk_clf.fit(X, y, eval_metric='logloss')\n",
    "rk_clf.fit(X,y, eval_metric='logloss')\n",
    "\n",
    "pred_sk = sk_clf.predict_proba(test_X)\n",
    "pred_rk = rk_clf.predict_proba(test_X)"
   ]
  },
  {
   "cell_type": "code",
   "execution_count": 26,
   "id": "greater-charge",
   "metadata": {},
   "outputs": [
    {
     "data": {
      "text/plain": [
       "array([[0.16413851, 0.19261362, 0.6432479 ],\n",
       "       [0.16508152, 0.1888412 , 0.6460773 ],\n",
       "       [0.16849141, 0.19378577, 0.6377228 ],\n",
       "       ...,\n",
       "       [0.15417996, 0.18455596, 0.66126406],\n",
       "       [0.1547859 , 0.19345528, 0.65175885],\n",
       "       [0.18115762, 0.21632886, 0.60251355]], dtype=float32)"
      ]
     },
     "execution_count": 26,
     "metadata": {},
     "output_type": "execute_result"
    }
   ],
   "source": [
    "pred_sk"
   ]
  },
  {
   "cell_type": "code",
   "execution_count": 30,
   "id": "bulgarian-honor",
   "metadata": {},
   "outputs": [
    {
     "data": {
      "text/plain": [
       "<AxesSubplot:title={'center':'Feature importance'}, xlabel='F score', ylabel='Features'>"
      ]
     },
     "execution_count": 30,
     "metadata": {},
     "output_type": "execute_result"
    },
    {
     "data": {
      "image/png": "[encoded data removed]",
      "text/plain": [
       "<Figure size 432x288 with 1 Axes>"
      ]
     },
     "metadata": {
      "needs_background": "light"
     },
     "output_type": "display_data"
    }
   ],
   "source": [
    "from xgboost import plot_importance\n",
    "plot_importance(sk_clf)"
   ]
  },
  {
   "cell_type": "code",
   "execution_count": 31,
   "id": "compliant-spider",
   "metadata": {},
   "outputs": [
    {
     "data": {
      "text/plain": [
       "<AxesSubplot:title={'center':'Feature importance'}, xlabel='F score', ylabel='Features'>"
      ]
     },
     "execution_count": 31,
     "metadata": {},
     "output_type": "execute_result"
    },
    {
     "data": {
      "image/png": "[encoded data removed]",
      "text/plain": [
       "<Figure size 432x288 with 1 Axes>"
      ]
     },
     "metadata": {
      "needs_background": "light"
     },
     "output_type": "display_data"
    }
   ],
   "source": [
    "plot_importance(rk_clf)"
   ]
  },
  {
   "cell_type": "code",
   "execution_count": 29,
   "id": "cleared-metallic",
   "metadata": {},
   "outputs": [
    {
     "data": {
      "text/html": [
       "<div>\n",
       "<style scoped>\n",
       "    .dataframe tbody tr th:only-of-type {\n",
       "        vertical-align: middle;\n",
       "    }\n",
       "\n",
       "    .dataframe tbody tr th {\n",
       "        vertical-align: top;\n",
       "    }\n",
       "\n",
       "    .dataframe thead th {\n",
       "        text-align: right;\n",
       "    }\n",
       "</style>\n",
       "<table border=\"1\" class=\"dataframe\">\n",
       "  <thead>\n",
       "    <tr style=\"text-align: right;\">\n",
       "      <th></th>\n",
       "      <th>0</th>\n",
       "      <th>1</th>\n",
       "      <th>2</th>\n",
       "    </tr>\n",
       "  </thead>\n",
       "  <tbody>\n",
       "    <tr>\n",
       "      <th>0</th>\n",
       "      <td>0.164139</td>\n",
       "      <td>0.192881</td>\n",
       "      <td>0.642980</td>\n",
       "    </tr>\n",
       "    <tr>\n",
       "      <th>1</th>\n",
       "      <td>0.163794</td>\n",
       "      <td>0.189427</td>\n",
       "      <td>0.646779</td>\n",
       "    </tr>\n",
       "    <tr>\n",
       "      <th>2</th>\n",
       "      <td>0.168561</td>\n",
       "      <td>0.194095</td>\n",
       "      <td>0.637344</td>\n",
       "    </tr>\n",
       "    <tr>\n",
       "      <th>3</th>\n",
       "      <td>0.165845</td>\n",
       "      <td>0.188210</td>\n",
       "      <td>0.645945</td>\n",
       "    </tr>\n",
       "    <tr>\n",
       "      <th>4</th>\n",
       "      <td>0.173882</td>\n",
       "      <td>0.201297</td>\n",
       "      <td>0.624821</td>\n",
       "    </tr>\n",
       "    <tr>\n",
       "      <th>...</th>\n",
       "      <td>...</td>\n",
       "      <td>...</td>\n",
       "      <td>...</td>\n",
       "    </tr>\n",
       "    <tr>\n",
       "      <th>9995</th>\n",
       "      <td>0.162831</td>\n",
       "      <td>0.192138</td>\n",
       "      <td>0.645031</td>\n",
       "    </tr>\n",
       "    <tr>\n",
       "      <th>9996</th>\n",
       "      <td>0.170550</td>\n",
       "      <td>0.212975</td>\n",
       "      <td>0.616475</td>\n",
       "    </tr>\n",
       "    <tr>\n",
       "      <th>9997</th>\n",
       "      <td>0.155128</td>\n",
       "      <td>0.185603</td>\n",
       "      <td>0.659269</td>\n",
       "    </tr>\n",
       "    <tr>\n",
       "      <th>9998</th>\n",
       "      <td>0.155454</td>\n",
       "      <td>0.192071</td>\n",
       "      <td>0.652476</td>\n",
       "    </tr>\n",
       "    <tr>\n",
       "      <th>9999</th>\n",
       "      <td>0.176924</td>\n",
       "      <td>0.216349</td>\n",
       "      <td>0.606727</td>\n",
       "    </tr>\n",
       "  </tbody>\n",
       "</table>\n",
       "<p>10000 rows × 3 columns</p>\n",
       "</div>"
      ],
      "text/plain": [
       "             0         1         2\n",
       "0     0.164139  0.192881  0.642980\n",
       "1     0.163794  0.189427  0.646779\n",
       "2     0.168561  0.194095  0.637344\n",
       "3     0.165845  0.188210  0.645945\n",
       "4     0.173882  0.201297  0.624821\n",
       "...        ...       ...       ...\n",
       "9995  0.162831  0.192138  0.645031\n",
       "9996  0.170550  0.212975  0.616475\n",
       "9997  0.155128  0.185603  0.659269\n",
       "9998  0.155454  0.192071  0.652476\n",
       "9999  0.176924  0.216349  0.606727\n",
       "\n",
       "[10000 rows x 3 columns]"
      ]
     },
     "execution_count": 29,
     "metadata": {},
     "output_type": "execute_result"
    }
   ],
   "source": [
    "pd.DataFrame(pred_sk)"
   ]
  },
  {
   "cell_type": "code",
   "execution_count": 27,
   "id": "adaptive-canadian",
   "metadata": {},
   "outputs": [
    {
     "data": {
      "text/html": [
       "<div>\n",
       "<style scoped>\n",
       "    .dataframe tbody tr th:only-of-type {\n",
       "        vertical-align: middle;\n",
       "    }\n",
       "\n",
       "    .dataframe tbody tr th {\n",
       "        vertical-align: top;\n",
       "    }\n",
       "\n",
       "    .dataframe thead th {\n",
       "        text-align: right;\n",
       "    }\n",
       "</style>\n",
       "<table border=\"1\" class=\"dataframe\">\n",
       "  <thead>\n",
       "    <tr style=\"text-align: right;\">\n",
       "      <th></th>\n",
       "      <th>index</th>\n",
       "    </tr>\n",
       "  </thead>\n",
       "  <tbody>\n",
       "    <tr>\n",
       "      <th>0</th>\n",
       "      <td>26457</td>\n",
       "    </tr>\n",
       "    <tr>\n",
       "      <th>1</th>\n",
       "      <td>26458</td>\n",
       "    </tr>\n",
       "    <tr>\n",
       "      <th>2</th>\n",
       "      <td>26459</td>\n",
       "    </tr>\n",
       "    <tr>\n",
       "      <th>3</th>\n",
       "      <td>26460</td>\n",
       "    </tr>\n",
       "    <tr>\n",
       "      <th>4</th>\n",
       "      <td>26461</td>\n",
       "    </tr>\n",
       "    <tr>\n",
       "      <th>...</th>\n",
       "      <td>...</td>\n",
       "    </tr>\n",
       "    <tr>\n",
       "      <th>9995</th>\n",
       "      <td>36452</td>\n",
       "    </tr>\n",
       "    <tr>\n",
       "      <th>9996</th>\n",
       "      <td>36453</td>\n",
       "    </tr>\n",
       "    <tr>\n",
       "      <th>9997</th>\n",
       "      <td>36454</td>\n",
       "    </tr>\n",
       "    <tr>\n",
       "      <th>9998</th>\n",
       "      <td>36455</td>\n",
       "    </tr>\n",
       "    <tr>\n",
       "      <th>9999</th>\n",
       "      <td>36456</td>\n",
       "    </tr>\n",
       "  </tbody>\n",
       "</table>\n",
       "<p>10000 rows × 1 columns</p>\n",
       "</div>"
      ],
      "text/plain": [
       "      index\n",
       "0     26457\n",
       "1     26458\n",
       "2     26459\n",
       "3     26460\n",
       "4     26461\n",
       "...     ...\n",
       "9995  36452\n",
       "9996  36453\n",
       "9997  36454\n",
       "9998  36455\n",
       "9999  36456\n",
       "\n",
       "[10000 rows x 1 columns]"
      ]
     },
     "execution_count": 27,
     "metadata": {},
     "output_type": "execute_result"
    }
   ],
   "source": [
    "ss.drop(['0','1','2'],1)"
   ]
  },
  {
   "cell_type": "code",
   "execution_count": 28,
   "id": "dimensional-assault",
   "metadata": {},
   "outputs": [],
   "source": [
    "ss_sk = pd.concat([ss.drop(['0','1','2'],1),pd.DataFrame(pred_sk)],axis=1)\n",
    "ss_rk = pd.concat([ss.drop(['0','1','2'],1),pd.DataFrame(pred_rk)],axis=1)"
   ]
  },
  {
   "cell_type": "code",
   "execution_count": 29,
   "id": "interpreted-poison",
   "metadata": {},
   "outputs": [],
   "source": [
    "ss_rk.to_csv('kf_gender_drop.csv',index=False)\n",
    "ss_sk.to_csv('sk_gender_drop.csv',index=False)"
   ]
  },
  {
   "cell_type": "code",
   "execution_count": 30,
   "id": "specific-accent",
   "metadata": {},
   "outputs": [
    {
     "data": {
      "text/html": [
       "<div>\n",
       "<style scoped>\n",
       "    .dataframe tbody tr th:only-of-type {\n",
       "        vertical-align: middle;\n",
       "    }\n",
       "\n",
       "    .dataframe tbody tr th {\n",
       "        vertical-align: top;\n",
       "    }\n",
       "\n",
       "    .dataframe thead th {\n",
       "        text-align: right;\n",
       "    }\n",
       "</style>\n",
       "<table border=\"1\" class=\"dataframe\">\n",
       "  <thead>\n",
       "    <tr style=\"text-align: right;\">\n",
       "      <th></th>\n",
       "      <th>index</th>\n",
       "      <th>0</th>\n",
       "      <th>1</th>\n",
       "      <th>2</th>\n",
       "    </tr>\n",
       "  </thead>\n",
       "  <tbody>\n",
       "    <tr>\n",
       "      <th>0</th>\n",
       "      <td>26457</td>\n",
       "      <td>0.164139</td>\n",
       "      <td>0.192614</td>\n",
       "      <td>0.643248</td>\n",
       "    </tr>\n",
       "    <tr>\n",
       "      <th>1</th>\n",
       "      <td>26458</td>\n",
       "      <td>0.165082</td>\n",
       "      <td>0.188841</td>\n",
       "      <td>0.646077</td>\n",
       "    </tr>\n",
       "    <tr>\n",
       "      <th>2</th>\n",
       "      <td>26459</td>\n",
       "      <td>0.168491</td>\n",
       "      <td>0.193786</td>\n",
       "      <td>0.637723</td>\n",
       "    </tr>\n",
       "    <tr>\n",
       "      <th>3</th>\n",
       "      <td>26460</td>\n",
       "      <td>0.166227</td>\n",
       "      <td>0.188554</td>\n",
       "      <td>0.645219</td>\n",
       "    </tr>\n",
       "    <tr>\n",
       "      <th>4</th>\n",
       "      <td>26461</td>\n",
       "      <td>0.175707</td>\n",
       "      <td>0.201037</td>\n",
       "      <td>0.623256</td>\n",
       "    </tr>\n",
       "    <tr>\n",
       "      <th>...</th>\n",
       "      <td>...</td>\n",
       "      <td>...</td>\n",
       "      <td>...</td>\n",
       "      <td>...</td>\n",
       "    </tr>\n",
       "    <tr>\n",
       "      <th>9995</th>\n",
       "      <td>36452</td>\n",
       "      <td>0.163872</td>\n",
       "      <td>0.192526</td>\n",
       "      <td>0.643602</td>\n",
       "    </tr>\n",
       "    <tr>\n",
       "      <th>9996</th>\n",
       "      <td>36453</td>\n",
       "      <td>0.170637</td>\n",
       "      <td>0.213456</td>\n",
       "      <td>0.615907</td>\n",
       "    </tr>\n",
       "    <tr>\n",
       "      <th>9997</th>\n",
       "      <td>36454</td>\n",
       "      <td>0.154180</td>\n",
       "      <td>0.184556</td>\n",
       "      <td>0.661264</td>\n",
       "    </tr>\n",
       "    <tr>\n",
       "      <th>9998</th>\n",
       "      <td>36455</td>\n",
       "      <td>0.154786</td>\n",
       "      <td>0.193455</td>\n",
       "      <td>0.651759</td>\n",
       "    </tr>\n",
       "    <tr>\n",
       "      <th>9999</th>\n",
       "      <td>36456</td>\n",
       "      <td>0.181158</td>\n",
       "      <td>0.216329</td>\n",
       "      <td>0.602514</td>\n",
       "    </tr>\n",
       "  </tbody>\n",
       "</table>\n",
       "<p>10000 rows × 4 columns</p>\n",
       "</div>"
      ],
      "text/plain": [
       "      index         0         1         2\n",
       "0     26457  0.164139  0.192614  0.643248\n",
       "1     26458  0.165082  0.188841  0.646077\n",
       "2     26459  0.168491  0.193786  0.637723\n",
       "3     26460  0.166227  0.188554  0.645219\n",
       "4     26461  0.175707  0.201037  0.623256\n",
       "...     ...       ...       ...       ...\n",
       "9995  36452  0.163872  0.192526  0.643602\n",
       "9996  36453  0.170637  0.213456  0.615907\n",
       "9997  36454  0.154180  0.184556  0.661264\n",
       "9998  36455  0.154786  0.193455  0.651759\n",
       "9999  36456  0.181158  0.216329  0.602514\n",
       "\n",
       "[10000 rows x 4 columns]"
      ]
     },
     "execution_count": 30,
     "metadata": {},
     "output_type": "execute_result"
    }
   ],
   "source": [
    "ss_rk"
   ]
  },
  {
   "cell_type": "code",
   "execution_count": 104,
   "id": "detected-survivor",
   "metadata": {},
   "outputs": [
    {
     "data": {
      "text/plain": [
       "0       26457\n",
       "1       26458\n",
       "2       26459\n",
       "3       26460\n",
       "4       26461\n",
       "        ...  \n",
       "9995    36452\n",
       "9996    36453\n",
       "9997    36454\n",
       "9998    36455\n",
       "9999    36456\n",
       "Name: index, Length: 10000, dtype: int64"
      ]
     },
     "execution_count": 104,
     "metadata": {},
     "output_type": "execute_result"
    }
   ],
   "source": [
    "ss['index']"
   ]
  }
 ],
 "metadata": {
  "kernelspec": {
   "display_name": "Python 3",
   "language": "python",
   "name": "python3"
  },
  "language_info": {
   "codemirror_mode": {
    "name": "ipython",
    "version": 3
   },
   "file_extension": ".py",
   "mimetype": "text/x-python",
   "name": "python",
   "nbconvert_exporter": "python",
   "pygments_lexer": "ipython3",
   "version": "3.7.6"
  }
 },
 "nbformat": 4,
 "nbformat_minor": 5
}
