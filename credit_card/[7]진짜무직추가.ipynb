{
 "cells": [
  {
   "cell_type": "markdown",
   "id": "stuck-muslim",
   "metadata": {},
   "source": [
    "# Library"
   ]
  },
  {
   "cell_type": "code",
   "execution_count": 1,
   "id": "ancient-translator",
   "metadata": {
    "ExecuteTime": {
     "end_time": "2021-04-05T07:28:17.254964Z",
     "start_time": "2021-04-05T07:28:16.734129Z"
    }
   },
   "outputs": [],
   "source": [
    "import warnings\n",
    "warnings.filterwarnings('ignore')\n",
    "import glob\n",
    "import pandas as pd\n",
    "import numpy as np\n",
    "from lightgbm import LGBMClassifier\n",
    "from sklearn.model_selection import StratifiedKFold\n",
    "from sklearn.preprocessing import OneHotEncoder\n",
    "import random\n",
    "import os"
   ]
  },
  {
   "cell_type": "markdown",
   "id": "altered-latin",
   "metadata": {},
   "source": [
    "# Data Load & Preprocessing\n",
    "- 훈련에 필요없는 index 컬럼 삭제.\n",
    "- missing value를 모두 NAN 문자열로 대체\n",
    "- dtype object 인 컬럼들을 onehot encoding"
   ]
  },
  {
   "cell_type": "code",
   "execution_count": 2,
   "id": "competitive-establishment",
   "metadata": {},
   "outputs": [
    {
     "name": "stdout",
     "output_type": "stream",
     "text": [
      "['sample_submission.csv', 'test.csv', 'train.csv']\n"
     ]
    }
   ],
   "source": [
    "d = \"C:\\kaggle_data\\credit_card\"\n",
    "lst = os.listdir(d)\n",
    "print(lst)\n",
    "train = pd.read_csv(d + '\\\\' +lst[2])\n",
    "test = pd.read_csv(d + '\\\\' +lst[1])\n",
    "ss = pd.read_csv(d + '\\\\' +lst[0])"
   ]
  },
  {
   "cell_type": "code",
   "execution_count": 3,
   "id": "changed-october",
   "metadata": {
    "ExecuteTime": {
     "end_time": "2021-04-05T07:28:17.326319Z",
     "start_time": "2021-04-05T07:28:17.256352Z"
    },
    "run_control": {
     "marked": true
    }
   },
   "outputs": [],
   "source": [
    "train = train.drop(['index'], axis=1)\n",
    "train.fillna('NAN', inplace=True) \n",
    "\n",
    "test = test.drop(['index'], axis=1)\n",
    "test.fillna('NAN', inplace=True)"
   ]
  },
  {
   "cell_type": "code",
   "execution_count": 4,
   "id": "united-render",
   "metadata": {},
   "outputs": [],
   "source": [
    "train.loc[(train['occyp_type']=='NAN')&(train['DAYS_EMPLOYED']>=1),'occyp_type']='BS'\n",
    "test.loc[(test['occyp_type']=='NAN')&(test['DAYS_EMPLOYED']>=1),'occyp_type']='BS'"
   ]
  },
  {
   "cell_type": "code",
   "execution_count": 5,
   "id": "supreme-enterprise",
   "metadata": {
    "ExecuteTime": {
     "end_time": "2021-04-05T07:28:17.330984Z",
     "start_time": "2021-04-05T07:28:17.328119Z"
    },
    "code_folding": []
   },
   "outputs": [],
   "source": [
    "object_col = []\n",
    "for col in train.columns:\n",
    "    if train[col].dtype == 'object':\n",
    "        object_col.append(col)"
   ]
  },
  {
   "cell_type": "code",
   "execution_count": 6,
   "id": "ruled-crazy",
   "metadata": {
    "ExecuteTime": {
     "end_time": "2021-04-05T07:28:17.409966Z",
     "start_time": "2021-04-05T07:28:17.332094Z"
    }
   },
   "outputs": [],
   "source": [
    "enc = OneHotEncoder()\n",
    "enc.fit(train.loc[:,object_col])\n",
    "\n",
    "\n",
    "train_onehot_df = pd.DataFrame(enc.transform(train.loc[:,object_col]).toarray(), \n",
    "             columns=enc.get_feature_names(object_col))\n",
    "train.drop(object_col, axis=1, inplace=True)\n",
    "train = pd.concat([train, train_onehot_df], axis=1)"
   ]
  },
  {
   "cell_type": "code",
   "execution_count": 7,
   "id": "varied-sterling",
   "metadata": {
    "ExecuteTime": {
     "end_time": "2021-04-05T07:28:17.461725Z",
     "start_time": "2021-04-05T07:28:17.412860Z"
    }
   },
   "outputs": [],
   "source": [
    "test_onehot_df = pd.DataFrame(enc.transform(test.loc[:,object_col]).toarray(), \n",
    "             columns=enc.get_feature_names(object_col))\n",
    "test.drop(object_col, axis=1, inplace=True)\n",
    "test = pd.concat([test, test_onehot_df], axis=1)"
   ]
  },
  {
   "cell_type": "markdown",
   "id": "invalid-marks",
   "metadata": {},
   "source": [
    "- ㅇAYS_BIRTH : 출생일, 데이터 수집일이 0이고 역으로 계산, int\n",
    "- DAYS_EMPLOYED: 업무 시작일, 데이터 수집일이 0이고 역으로 계산, int\n",
    "- begin_month: 신용카드 발급 월, 수집 당시 0 역으로 계산,int형"
   ]
  },
  {
   "cell_type": "markdown",
   "id": "small-supervision",
   "metadata": {},
   "source": [
    "# 일 -> 연도로 바꿔보면\n",
    "for c in ['DAYS_BIRTH','DAYS_EMPLOYED']:\n",
    "    train[c] = (train[c]/12)\n",
    "    test[c] = (test[c]/12)"
   ]
  },
  {
   "cell_type": "markdown",
   "id": "pressed-velvet",
   "metadata": {},
   "source": [
    "# Training\n",
    "- 데이터 분리는 StratifiedKFold 를 사용하여 y값 분포를 비슷하게 분리시킴. -> 5-fold\n",
    "- lightgbm의 default parameter로 훈련.\n",
    "- 30번 이상 개선 없을 경우 중단.\n",
    "- 각 5개의 fold를 훈련하여 저장"
   ]
  },
  {
   "cell_type": "code",
   "execution_count": 8,
   "id": "technological-torture",
   "metadata": {
    "ExecuteTime": {
     "end_time": "2021-04-05T07:28:17.473980Z",
     "start_time": "2021-04-05T07:28:17.463844Z"
    },
    "code_folding": []
   },
   "outputs": [],
   "source": [
    "skf = StratifiedKFold(n_splits=5, shuffle=True, random_state=42)\n",
    "folds=[]\n",
    "for train_idx, valid_idx in skf.split(train, train['credit']):\n",
    "    folds.append((train_idx, valid_idx))"
   ]
  },
  {
   "cell_type": "code",
   "execution_count": 9,
   "id": "dominant-modification",
   "metadata": {
    "ExecuteTime": {
     "end_time": "2021-04-05T07:28:24.383183Z",
     "start_time": "2021-04-05T07:28:17.475190Z"
    },
    "scrolled": true
   },
   "outputs": [
    {
     "name": "stdout",
     "output_type": "stream",
     "text": [
      "====================================1============================================\n",
      "Training until validation scores don't improve for 30 rounds\n",
      "[100]\ttraining's multi_logloss: 0.652377\tvalid_1's multi_logloss: 0.752522\n",
      "[200]\ttraining's multi_logloss: 0.56559\tvalid_1's multi_logloss: 0.737156\n",
      "[300]\ttraining's multi_logloss: 0.501921\tvalid_1's multi_logloss: 0.731843\n",
      "Early stopping, best iteration is:\n",
      "[348]\ttraining's multi_logloss: 0.475822\tvalid_1's multi_logloss: 0.729304\n",
      "================================================================================\n",
      "\n",
      "\n",
      "====================================2============================================\n",
      "Training until validation scores don't improve for 30 rounds\n",
      "[100]\ttraining's multi_logloss: 0.646476\tvalid_1's multi_logloss: 0.764955\n",
      "[200]\ttraining's multi_logloss: 0.560614\tvalid_1's multi_logloss: 0.751681\n",
      "[300]\ttraining's multi_logloss: 0.497532\tvalid_1's multi_logloss: 0.748007\n",
      "Early stopping, best iteration is:\n",
      "[281]\ttraining's multi_logloss: 0.508566\tvalid_1's multi_logloss: 0.747717\n",
      "================================================================================\n",
      "\n",
      "\n",
      "====================================3============================================\n",
      "Training until validation scores don't improve for 30 rounds\n",
      "[100]\ttraining's multi_logloss: 0.652042\tvalid_1's multi_logloss: 0.758665\n",
      "[200]\ttraining's multi_logloss: 0.560771\tvalid_1's multi_logloss: 0.743359\n",
      "Early stopping, best iteration is:\n",
      "[246]\ttraining's multi_logloss: 0.529839\tvalid_1's multi_logloss: 0.74126\n",
      "================================================================================\n",
      "\n",
      "\n",
      "====================================4============================================\n",
      "Training until validation scores don't improve for 30 rounds\n",
      "[100]\ttraining's multi_logloss: 0.648049\tvalid_1's multi_logloss: 0.755495\n",
      "[200]\ttraining's multi_logloss: 0.560137\tvalid_1's multi_logloss: 0.739883\n",
      "[300]\ttraining's multi_logloss: 0.497795\tvalid_1's multi_logloss: 0.734204\n",
      "Early stopping, best iteration is:\n",
      "[309]\ttraining's multi_logloss: 0.493086\tvalid_1's multi_logloss: 0.733839\n",
      "================================================================================\n",
      "\n",
      "\n",
      "====================================5============================================\n",
      "Training until validation scores don't improve for 30 rounds\n",
      "[100]\ttraining's multi_logloss: 0.650986\tvalid_1's multi_logloss: 0.755168\n",
      "[200]\ttraining's multi_logloss: 0.565819\tvalid_1's multi_logloss: 0.740535\n",
      "[300]\ttraining's multi_logloss: 0.502856\tvalid_1's multi_logloss: 0.736778\n",
      "Early stopping, best iteration is:\n",
      "[323]\ttraining's multi_logloss: 0.490989\tvalid_1's multi_logloss: 0.736467\n",
      "================================================================================\n",
      "\n",
      "\n"
     ]
    }
   ],
   "source": [
    "skf = StratifiedKFold(n_splits=5, shuffle=True, random_state=42)\n",
    "folds=[]\n",
    "for train_idx, valid_idx in skf.split(train, train['credit']):\n",
    "    folds.append((train_idx, valid_idx))\n",
    "random.seed(42)\n",
    "lgb_models={}\n",
    "for fold in range(5):\n",
    "    print(f'===================================={fold+1}============================================')\n",
    "    train_idx, valid_idx = folds[fold]\n",
    "    X_train, X_valid, y_train, y_valid = train.drop(['credit'],axis=1).iloc[train_idx].values, train.drop(['credit'],axis=1).iloc[valid_idx].values,\\\n",
    "                                         train['credit'][train_idx].values, train['credit'][valid_idx].values \n",
    "    lgb = LGBMClassifier(n_estimators=1000)\n",
    "    lgb.fit(X_train, y_train, \n",
    "            eval_set=[(X_train, y_train), (X_valid, y_valid)], \n",
    "            early_stopping_rounds=30,\n",
    "           verbose=100)\n",
    "    lgb_models[fold]=lgb\n",
    "    print(f'================================================================================\\n\\n')"
   ]
  },
  {
   "cell_type": "markdown",
   "id": "military-links",
   "metadata": {},
   "source": [
    "# Test inference\n",
    "- 각 fold를 훈련시킨 lightgbm model로 predict.\n",
    "- 해당 대회는 logloss score를 겨루는 것이기 때문에 각 class의 probability를 얻어야함.\n",
    "- 대부분의 머신러닝 모델에서 predict, predict_proba를 구분하여 사용함.\n",
    "- predict는 class 출력을 해주고 predict_proba는 class별 probability를 출력해줌.\n",
    "- predict_proba를 사용하여 예측한 것을 5-fold 더하여 평균내어 앙상블."
   ]
  },
  {
   "cell_type": "code",
   "execution_count": 10,
   "id": "physical-involvement",
   "metadata": {
    "ExecuteTime": {
     "end_time": "2021-04-05T07:28:24.561816Z",
     "start_time": "2021-04-05T07:28:24.387286Z"
    },
    "run_control": {
     "marked": true
    }
   },
   "outputs": [],
   "source": [
    "ss.iloc[:,1:]=0\n",
    "for fold in range(5):\n",
    "    ss.iloc[:,1:] += lgb_models[fold].predict_proba(test)/5"
   ]
  },
  {
   "cell_type": "code",
   "execution_count": 11,
   "id": "authentic-african",
   "metadata": {
    "ExecuteTime": {
     "end_time": "2021-04-05T07:28:24.611127Z",
     "start_time": "2021-04-05T07:28:24.599932Z"
    }
   },
   "outputs": [
    {
     "name": "stdout",
     "output_type": "stream",
     "text": [
      "0.7082057939200797\n"
     ]
    }
   ],
   "source": [
    "from sklearn.model_selection import cross_val_score\n",
    "\n",
    "print(cross_val_score(lgb_models[0], train.drop(['credit'],axis=1), train['credit'], cv=skf).mean())"
   ]
  },
  {
   "cell_type": "code",
   "execution_count": 12,
   "id": "mobile-mission",
   "metadata": {
    "ExecuteTime": {
     "end_time": "2021-04-05T07:28:24.598886Z",
     "start_time": "2021-04-05T07:28:24.563499Z"
    }
   },
   "outputs": [],
   "source": [
    "ss.to_csv('add_BS.csv', index=False) # 0.7272812144"
   ]
  },
  {
   "cell_type": "code",
   "execution_count": null,
   "id": "proved-recovery",
   "metadata": {},
   "outputs": [],
   "source": []
  }
 ],
 "metadata": {
  "kernelspec": {
   "display_name": "Python 3",
   "language": "python",
   "name": "python3"
  },
  "language_info": {
   "codemirror_mode": {
    "name": "ipython",
    "version": 3
   },
   "file_extension": ".py",
   "mimetype": "text/x-python",
   "name": "python",
   "nbconvert_exporter": "python",
   "pygments_lexer": "ipython3",
   "version": "3.7.6"
  },
  "toc": {
   "base_numbering": 1,
   "nav_menu": {},
   "number_sections": true,
   "sideBar": true,
   "skip_h1_title": false,
   "title_cell": "Table of Contents",
   "title_sidebar": "Contents",
   "toc_cell": false,
   "toc_position": {},
   "toc_section_display": true,
   "toc_window_display": false
  },
  "varInspector": {
   "cols": {
    "lenName": 16,
    "lenType": 16,
    "lenVar": 40
   },
   "kernels_config": {
    "python": {
     "delete_cmd_postfix": "",
     "delete_cmd_prefix": "del ",
     "library": "var_list.py",
     "varRefreshCmd": "print(var_dic_list())"
    },
    "r": {
     "delete_cmd_postfix": ") ",
     "delete_cmd_prefix": "rm(",
     "library": "var_list.r",
     "varRefreshCmd": "cat(var_dic_list()) "
    }
   },
   "types_to_exclude": [
    "module",
    "function",
    "builtin_function_or_method",
    "instance",
    "_Feature"
   ],
   "window_display": false
  }
 },
 "nbformat": 4,
 "nbformat_minor": 5
}
