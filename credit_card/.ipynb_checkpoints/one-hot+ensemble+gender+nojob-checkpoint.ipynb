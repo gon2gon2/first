{
 "cells": [
  {
   "cell_type": "code",
   "execution_count": 65,
   "id": "knowing-institution",
   "metadata": {},
   "outputs": [],
   "source": [
    "import os\n",
    "import pandas as pd\n",
    "import numpy as np\n",
    "import matplotlib.pyplot as plt\n",
    "import seaborn as sns\n",
    "from sklearn.preprocessing import OrdinalEncoder as OE\n",
    "from sklearn.preprocessing import LabelEncoder as LE\n",
    "from sklearn.model_selection import StratifiedKFold\n",
    "from sklearn.model_selection import KFold\n",
    "from sklearn.model_selection import cross_val_score\n",
    "from xgboost import plot_importance"
   ]
  },
  {
   "cell_type": "code",
   "execution_count": 66,
   "id": "authentic-enclosure",
   "metadata": {},
   "outputs": [
    {
     "name": "stdout",
     "output_type": "stream",
     "text": [
      "['sample_submission.csv', 'test.csv', 'train.csv']\n"
     ]
    }
   ],
   "source": [
    "d = \"C:\\kaggle_data\\credit_card\"\n",
    "lst = os.listdir(d)\n",
    "print(lst)\n",
    "train = pd.read_csv(d + '\\\\' +lst[2])\n",
    "test = pd.read_csv(d + '\\\\' +lst[1])\n",
    "ss = pd.read_csv(d + '\\\\' +lst[0])"
   ]
  },
  {
   "cell_type": "code",
   "execution_count": 67,
   "id": "brutal-liechtenstein",
   "metadata": {},
   "outputs": [],
   "source": [
    "total = pd.concat([train, test])"
   ]
  },
  {
   "cell_type": "code",
   "execution_count": 68,
   "id": "adapted-sally",
   "metadata": {},
   "outputs": [],
   "source": [
    "train['occyp_type'] = train['occyp_type'].fillna('nojob')\n",
    "test['occyp_type'] = test['occyp_type'].fillna('nojob')"
   ]
  },
  {
   "cell_type": "code",
   "execution_count": 69,
   "id": "varied-secretary",
   "metadata": {},
   "outputs": [],
   "source": [
    "for i in ['income_type','edu_type','family_type','house_type','occyp_type']:\n",
    "    train = pd.concat([train, pd.get_dummies(train[i])],1)\n",
    "    test = pd.concat([test, pd.get_dummies(test[i])],1)"
   ]
  },
  {
   "cell_type": "code",
   "execution_count": 71,
   "id": "passive-argument",
   "metadata": {},
   "outputs": [],
   "source": [
    "dlst=['index','income_type','edu_type','family_type','house_type','occyp_type']\n",
    "train = train.drop(dlst,1)\n",
    "test = test.drop(dlst,1)"
   ]
  },
  {
   "cell_type": "code",
   "execution_count": 48,
   "id": "supposed-software",
   "metadata": {
    "scrolled": true
   },
   "outputs": [
    {
     "data": {
      "text/html": [
       "<div>\n",
       "<style scoped>\n",
       "    .dataframe tbody tr th:only-of-type {\n",
       "        vertical-align: middle;\n",
       "    }\n",
       "\n",
       "    .dataframe tbody tr th {\n",
       "        vertical-align: top;\n",
       "    }\n",
       "\n",
       "    .dataframe thead th {\n",
       "        text-align: right;\n",
       "    }\n",
       "</style>\n",
       "<table border=\"1\" class=\"dataframe\">\n",
       "  <thead>\n",
       "    <tr style=\"text-align: right;\">\n",
       "      <th></th>\n",
       "      <th>gender</th>\n",
       "      <th>car</th>\n",
       "      <th>reality</th>\n",
       "      <th>child_num</th>\n",
       "      <th>income_total</th>\n",
       "      <th>DAYS_BIRTH</th>\n",
       "      <th>DAYS_EMPLOYED</th>\n",
       "      <th>FLAG_MOBIL</th>\n",
       "      <th>work_phone</th>\n",
       "      <th>phone</th>\n",
       "      <th>...</th>\n",
       "      <th>Low-skill Laborers</th>\n",
       "      <th>Managers</th>\n",
       "      <th>Medicine staff</th>\n",
       "      <th>Private service staff</th>\n",
       "      <th>Realty agents</th>\n",
       "      <th>Sales staff</th>\n",
       "      <th>Secretaries</th>\n",
       "      <th>Security staff</th>\n",
       "      <th>Waiters/barmen staff</th>\n",
       "      <th>nojob</th>\n",
       "    </tr>\n",
       "  </thead>\n",
       "  <tbody>\n",
       "    <tr>\n",
       "      <th>0</th>\n",
       "      <td>F</td>\n",
       "      <td>N</td>\n",
       "      <td>N</td>\n",
       "      <td>0</td>\n",
       "      <td>202500.0</td>\n",
       "      <td>-13899</td>\n",
       "      <td>-4709</td>\n",
       "      <td>1</td>\n",
       "      <td>0</td>\n",
       "      <td>0</td>\n",
       "      <td>...</td>\n",
       "      <td>0</td>\n",
       "      <td>0</td>\n",
       "      <td>0</td>\n",
       "      <td>0</td>\n",
       "      <td>0</td>\n",
       "      <td>0</td>\n",
       "      <td>0</td>\n",
       "      <td>0</td>\n",
       "      <td>0</td>\n",
       "      <td>1</td>\n",
       "    </tr>\n",
       "    <tr>\n",
       "      <th>1</th>\n",
       "      <td>F</td>\n",
       "      <td>N</td>\n",
       "      <td>Y</td>\n",
       "      <td>1</td>\n",
       "      <td>247500.0</td>\n",
       "      <td>-11380</td>\n",
       "      <td>-1540</td>\n",
       "      <td>1</td>\n",
       "      <td>0</td>\n",
       "      <td>0</td>\n",
       "      <td>...</td>\n",
       "      <td>0</td>\n",
       "      <td>0</td>\n",
       "      <td>0</td>\n",
       "      <td>0</td>\n",
       "      <td>0</td>\n",
       "      <td>0</td>\n",
       "      <td>0</td>\n",
       "      <td>0</td>\n",
       "      <td>0</td>\n",
       "      <td>0</td>\n",
       "    </tr>\n",
       "    <tr>\n",
       "      <th>2</th>\n",
       "      <td>M</td>\n",
       "      <td>Y</td>\n",
       "      <td>Y</td>\n",
       "      <td>0</td>\n",
       "      <td>450000.0</td>\n",
       "      <td>-19087</td>\n",
       "      <td>-4434</td>\n",
       "      <td>1</td>\n",
       "      <td>0</td>\n",
       "      <td>1</td>\n",
       "      <td>...</td>\n",
       "      <td>0</td>\n",
       "      <td>1</td>\n",
       "      <td>0</td>\n",
       "      <td>0</td>\n",
       "      <td>0</td>\n",
       "      <td>0</td>\n",
       "      <td>0</td>\n",
       "      <td>0</td>\n",
       "      <td>0</td>\n",
       "      <td>0</td>\n",
       "    </tr>\n",
       "    <tr>\n",
       "      <th>3</th>\n",
       "      <td>F</td>\n",
       "      <td>N</td>\n",
       "      <td>Y</td>\n",
       "      <td>0</td>\n",
       "      <td>202500.0</td>\n",
       "      <td>-15088</td>\n",
       "      <td>-2092</td>\n",
       "      <td>1</td>\n",
       "      <td>0</td>\n",
       "      <td>1</td>\n",
       "      <td>...</td>\n",
       "      <td>0</td>\n",
       "      <td>0</td>\n",
       "      <td>0</td>\n",
       "      <td>0</td>\n",
       "      <td>0</td>\n",
       "      <td>1</td>\n",
       "      <td>0</td>\n",
       "      <td>0</td>\n",
       "      <td>0</td>\n",
       "      <td>0</td>\n",
       "    </tr>\n",
       "    <tr>\n",
       "      <th>4</th>\n",
       "      <td>F</td>\n",
       "      <td>Y</td>\n",
       "      <td>Y</td>\n",
       "      <td>0</td>\n",
       "      <td>157500.0</td>\n",
       "      <td>-15037</td>\n",
       "      <td>-2105</td>\n",
       "      <td>1</td>\n",
       "      <td>0</td>\n",
       "      <td>0</td>\n",
       "      <td>...</td>\n",
       "      <td>0</td>\n",
       "      <td>1</td>\n",
       "      <td>0</td>\n",
       "      <td>0</td>\n",
       "      <td>0</td>\n",
       "      <td>0</td>\n",
       "      <td>0</td>\n",
       "      <td>0</td>\n",
       "      <td>0</td>\n",
       "      <td>0</td>\n",
       "    </tr>\n",
       "  </tbody>\n",
       "</table>\n",
       "<p>5 rows × 54 columns</p>\n",
       "</div>"
      ],
      "text/plain": [
       "  gender car reality  child_num  income_total  DAYS_BIRTH  DAYS_EMPLOYED  \\\n",
       "0      F   N       N          0      202500.0      -13899          -4709   \n",
       "1      F   N       Y          1      247500.0      -11380          -1540   \n",
       "2      M   Y       Y          0      450000.0      -19087          -4434   \n",
       "3      F   N       Y          0      202500.0      -15088          -2092   \n",
       "4      F   Y       Y          0      157500.0      -15037          -2105   \n",
       "\n",
       "   FLAG_MOBIL  work_phone  phone  ...  Low-skill Laborers  Managers  \\\n",
       "0           1           0      0  ...                   0         0   \n",
       "1           1           0      0  ...                   0         0   \n",
       "2           1           0      1  ...                   0         1   \n",
       "3           1           0      1  ...                   0         0   \n",
       "4           1           0      0  ...                   0         1   \n",
       "\n",
       "   Medicine staff  Private service staff  Realty agents  Sales staff  \\\n",
       "0               0                      0              0            0   \n",
       "1               0                      0              0            0   \n",
       "2               0                      0              0            0   \n",
       "3               0                      0              0            1   \n",
       "4               0                      0              0            0   \n",
       "\n",
       "   Secretaries  Security staff  Waiters/barmen staff  nojob  \n",
       "0            0               0                     0      1  \n",
       "1            0               0                     0      0  \n",
       "2            0               0                     0      0  \n",
       "3            0               0                     0      0  \n",
       "4            0               0                     0      0  \n",
       "\n",
       "[5 rows x 54 columns]"
      ]
     },
     "execution_count": 48,
     "metadata": {},
     "output_type": "execute_result"
    }
   ],
   "source": [
    "train.head()"
   ]
  },
  {
   "cell_type": "code",
   "execution_count": 49,
   "id": "union-certificate",
   "metadata": {},
   "outputs": [
    {
     "data": {
      "text/plain": [
       "True"
      ]
     },
     "execution_count": 49,
     "metadata": {},
     "output_type": "execute_result"
    }
   ],
   "source": [
    "'credit' in train.columns.values"
   ]
  },
  {
   "cell_type": "code",
   "execution_count": 72,
   "id": "numerous-objective",
   "metadata": {},
   "outputs": [],
   "source": [
    "labels = ['gender','car', 'reality']\n",
    "for label in labels:\n",
    "    enc = LE()\n",
    "    enc.fit(total[label])\n",
    "    train[label] = enc.transform(train[label])\n",
    "    test[label] = enc.transform(test[label])"
   ]
  },
  {
   "cell_type": "code",
   "execution_count": 51,
   "id": "sudden-moderator",
   "metadata": {},
   "outputs": [],
   "source": [
    "y = train.pop('credit')\n",
    "X=train"
   ]
  },
  {
   "cell_type": "code",
   "execution_count": 52,
   "id": "combined-table",
   "metadata": {},
   "outputs": [],
   "source": [
    "skf = StratifiedKFold(n_splits=5, shuffle=True,random_state=1123)"
   ]
  },
  {
   "cell_type": "code",
   "execution_count": 53,
   "id": "proper-guess",
   "metadata": {},
   "outputs": [],
   "source": [
    "import xgboost as xgb\n",
    "clf = xgb.XGBRFClassifier(random_state=1123,n_estimators=1000)"
   ]
  },
  {
   "cell_type": "code",
   "execution_count": 54,
   "id": "specified-filename",
   "metadata": {},
   "outputs": [],
   "source": [
    "import random"
   ]
  },
  {
   "cell_type": "code",
   "execution_count": 55,
   "id": "christian-bryan",
   "metadata": {},
   "outputs": [
    {
     "name": "stdout",
     "output_type": "stream",
     "text": [
      "====================================1============================================\n",
      "[0]\tvalidation_0-merror:0.30210\tvalidation_1-merror:0.30612\n",
      "Multiple eval metrics have been passed: 'validation_1-merror' will be used for early stopping.\n",
      "\n",
      "Will train until validation_1-merror hasn't improved in 30 rounds.\n",
      "================================================================================\n",
      "\n",
      "\n",
      "====================================2============================================\n",
      "[0]\tvalidation_0-merror:0.30158\tvalidation_1-merror:0.31141\n",
      "Multiple eval metrics have been passed: 'validation_1-merror' will be used for early stopping.\n",
      "\n",
      "Will train until validation_1-merror hasn't improved in 30 rounds.\n",
      "================================================================================\n",
      "\n",
      "\n",
      "====================================3============================================\n",
      "[0]\tvalidation_0-merror:0.30195\tvalidation_1-merror:0.30864\n",
      "Multiple eval metrics have been passed: 'validation_1-merror' will be used for early stopping.\n",
      "\n",
      "Will train until validation_1-merror hasn't improved in 30 rounds.\n",
      "================================================================================\n",
      "\n",
      "\n",
      "====================================4============================================\n",
      "[0]\tvalidation_0-merror:0.30261\tvalidation_1-merror:0.30996\n",
      "Multiple eval metrics have been passed: 'validation_1-merror' will be used for early stopping.\n",
      "\n",
      "Will train until validation_1-merror hasn't improved in 30 rounds.\n",
      "================================================================================\n",
      "\n",
      "\n",
      "====================================5============================================\n",
      "[0]\tvalidation_0-merror:0.30204\tvalidation_1-merror:0.31147\n",
      "Multiple eval metrics have been passed: 'validation_1-merror' will be used for early stopping.\n",
      "\n",
      "Will train until validation_1-merror hasn't improved in 30 rounds.\n",
      "================================================================================\n",
      "\n",
      "\n"
     ]
    }
   ],
   "source": [
    "folds=[]\n",
    "for train_idx, valid_idx in skf.split(X,y):\n",
    "    folds.append((train_idx, valid_idx))\n",
    "random.seed(1123)\n",
    "clf_models={}\n",
    "for fold, [train_idx, valid_idx] in enumerate(skf.split(X, y)):\n",
    "    print(f'===================================={fold+1}============================================')\n",
    "    train_idx, valid_idx = folds[fold]\n",
    "    X_train, X_valid, y_train, y_valid = X.iloc[train_idx],X.iloc[valid_idx], y.iloc[train_idx],y.iloc[valid_idx]\n",
    "    clf = xgb.XGBRFClassifier(random_state=1123,n_estimators=1000)\n",
    "    clf.fit(X_train, y_train,\n",
    "            eval_set=[(X_train, y_train), (X_valid, y_valid)], \n",
    "            early_stopping_rounds=30,\n",
    "           verbose=100)\n",
    "    clf_models[fold]=clf\n",
    "    print(f'================================================================================\\n\\n')"
   ]
  },
  {
   "cell_type": "code",
   "execution_count": 56,
   "id": "infrared-allen",
   "metadata": {},
   "outputs": [],
   "source": [
    "ss.iloc[:,1:]=0\n",
    "for fold in range(5):\n",
    "    ss.iloc[:,1:] += clf_models[fold].predict_proba(test)/5"
   ]
  },
  {
   "cell_type": "code",
   "execution_count": 57,
   "id": "accompanied-preference",
   "metadata": {},
   "outputs": [
    {
     "data": {
      "text/html": [
       "<div>\n",
       "<style scoped>\n",
       "    .dataframe tbody tr th:only-of-type {\n",
       "        vertical-align: middle;\n",
       "    }\n",
       "\n",
       "    .dataframe tbody tr th {\n",
       "        vertical-align: top;\n",
       "    }\n",
       "\n",
       "    .dataframe thead th {\n",
       "        text-align: right;\n",
       "    }\n",
       "</style>\n",
       "<table border=\"1\" class=\"dataframe\">\n",
       "  <thead>\n",
       "    <tr style=\"text-align: right;\">\n",
       "      <th></th>\n",
       "      <th>index</th>\n",
       "      <th>0</th>\n",
       "      <th>1</th>\n",
       "      <th>2</th>\n",
       "    </tr>\n",
       "  </thead>\n",
       "  <tbody>\n",
       "    <tr>\n",
       "      <th>0</th>\n",
       "      <td>26457</td>\n",
       "      <td>0.164007</td>\n",
       "      <td>0.194647</td>\n",
       "      <td>0.641346</td>\n",
       "    </tr>\n",
       "    <tr>\n",
       "      <th>1</th>\n",
       "      <td>26458</td>\n",
       "      <td>0.163769</td>\n",
       "      <td>0.189172</td>\n",
       "      <td>0.647059</td>\n",
       "    </tr>\n",
       "    <tr>\n",
       "      <th>2</th>\n",
       "      <td>26459</td>\n",
       "      <td>0.168229</td>\n",
       "      <td>0.193648</td>\n",
       "      <td>0.638123</td>\n",
       "    </tr>\n",
       "    <tr>\n",
       "      <th>3</th>\n",
       "      <td>26460</td>\n",
       "      <td>0.164797</td>\n",
       "      <td>0.188954</td>\n",
       "      <td>0.646249</td>\n",
       "    </tr>\n",
       "    <tr>\n",
       "      <th>4</th>\n",
       "      <td>26461</td>\n",
       "      <td>0.172266</td>\n",
       "      <td>0.200504</td>\n",
       "      <td>0.627230</td>\n",
       "    </tr>\n",
       "    <tr>\n",
       "      <th>5</th>\n",
       "      <td>26462</td>\n",
       "      <td>0.181449</td>\n",
       "      <td>0.216398</td>\n",
       "      <td>0.602153</td>\n",
       "    </tr>\n",
       "    <tr>\n",
       "      <th>6</th>\n",
       "      <td>26463</td>\n",
       "      <td>0.243449</td>\n",
       "      <td>0.629235</td>\n",
       "      <td>0.127316</td>\n",
       "    </tr>\n",
       "    <tr>\n",
       "      <th>7</th>\n",
       "      <td>26464</td>\n",
       "      <td>0.168113</td>\n",
       "      <td>0.201722</td>\n",
       "      <td>0.630165</td>\n",
       "    </tr>\n",
       "    <tr>\n",
       "      <th>8</th>\n",
       "      <td>26465</td>\n",
       "      <td>0.162258</td>\n",
       "      <td>0.194740</td>\n",
       "      <td>0.643001</td>\n",
       "    </tr>\n",
       "    <tr>\n",
       "      <th>9</th>\n",
       "      <td>26466</td>\n",
       "      <td>0.168037</td>\n",
       "      <td>0.204831</td>\n",
       "      <td>0.627132</td>\n",
       "    </tr>\n",
       "    <tr>\n",
       "      <th>10</th>\n",
       "      <td>26467</td>\n",
       "      <td>0.165048</td>\n",
       "      <td>0.197642</td>\n",
       "      <td>0.637310</td>\n",
       "    </tr>\n",
       "    <tr>\n",
       "      <th>11</th>\n",
       "      <td>26468</td>\n",
       "      <td>0.169615</td>\n",
       "      <td>0.196239</td>\n",
       "      <td>0.634146</td>\n",
       "    </tr>\n",
       "    <tr>\n",
       "      <th>12</th>\n",
       "      <td>26469</td>\n",
       "      <td>0.170795</td>\n",
       "      <td>0.196427</td>\n",
       "      <td>0.632778</td>\n",
       "    </tr>\n",
       "    <tr>\n",
       "      <th>13</th>\n",
       "      <td>26470</td>\n",
       "      <td>0.164396</td>\n",
       "      <td>0.197156</td>\n",
       "      <td>0.638448</td>\n",
       "    </tr>\n",
       "    <tr>\n",
       "      <th>14</th>\n",
       "      <td>26471</td>\n",
       "      <td>0.163765</td>\n",
       "      <td>0.192906</td>\n",
       "      <td>0.643329</td>\n",
       "    </tr>\n",
       "    <tr>\n",
       "      <th>15</th>\n",
       "      <td>26472</td>\n",
       "      <td>0.170357</td>\n",
       "      <td>0.220357</td>\n",
       "      <td>0.609286</td>\n",
       "    </tr>\n",
       "    <tr>\n",
       "      <th>16</th>\n",
       "      <td>26473</td>\n",
       "      <td>0.157703</td>\n",
       "      <td>0.195800</td>\n",
       "      <td>0.646497</td>\n",
       "    </tr>\n",
       "    <tr>\n",
       "      <th>17</th>\n",
       "      <td>26474</td>\n",
       "      <td>0.199465</td>\n",
       "      <td>0.681292</td>\n",
       "      <td>0.119242</td>\n",
       "    </tr>\n",
       "    <tr>\n",
       "      <th>18</th>\n",
       "      <td>26475</td>\n",
       "      <td>0.184293</td>\n",
       "      <td>0.195289</td>\n",
       "      <td>0.620418</td>\n",
       "    </tr>\n",
       "    <tr>\n",
       "      <th>19</th>\n",
       "      <td>26476</td>\n",
       "      <td>0.168223</td>\n",
       "      <td>0.215031</td>\n",
       "      <td>0.616746</td>\n",
       "    </tr>\n",
       "  </tbody>\n",
       "</table>\n",
       "</div>"
      ],
      "text/plain": [
       "    index         0         1         2\n",
       "0   26457  0.164007  0.194647  0.641346\n",
       "1   26458  0.163769  0.189172  0.647059\n",
       "2   26459  0.168229  0.193648  0.638123\n",
       "3   26460  0.164797  0.188954  0.646249\n",
       "4   26461  0.172266  0.200504  0.627230\n",
       "5   26462  0.181449  0.216398  0.602153\n",
       "6   26463  0.243449  0.629235  0.127316\n",
       "7   26464  0.168113  0.201722  0.630165\n",
       "8   26465  0.162258  0.194740  0.643001\n",
       "9   26466  0.168037  0.204831  0.627132\n",
       "10  26467  0.165048  0.197642  0.637310\n",
       "11  26468  0.169615  0.196239  0.634146\n",
       "12  26469  0.170795  0.196427  0.632778\n",
       "13  26470  0.164396  0.197156  0.638448\n",
       "14  26471  0.163765  0.192906  0.643329\n",
       "15  26472  0.170357  0.220357  0.609286\n",
       "16  26473  0.157703  0.195800  0.646497\n",
       "17  26474  0.199465  0.681292  0.119242\n",
       "18  26475  0.184293  0.195289  0.620418\n",
       "19  26476  0.168223  0.215031  0.616746"
      ]
     },
     "execution_count": 57,
     "metadata": {},
     "output_type": "execute_result"
    }
   ],
   "source": [
    "ss.head(20)"
   ]
  },
  {
   "cell_type": "code",
   "execution_count": 32,
   "id": "greater-charge",
   "metadata": {},
   "outputs": [],
   "source": [
    "ss.to_csv('onehot_ensemble.csv', index=False) # 0.7272812144"
   ]
  },
  {
   "cell_type": "code",
   "execution_count": 41,
   "id": "cleared-metallic",
   "metadata": {},
   "outputs": [
    {
     "data": {
      "text/html": [
       "<div>\n",
       "<style scoped>\n",
       "    .dataframe tbody tr th:only-of-type {\n",
       "        vertical-align: middle;\n",
       "    }\n",
       "\n",
       "    .dataframe tbody tr th {\n",
       "        vertical-align: top;\n",
       "    }\n",
       "\n",
       "    .dataframe thead th {\n",
       "        text-align: right;\n",
       "    }\n",
       "</style>\n",
       "<table border=\"1\" class=\"dataframe\">\n",
       "  <thead>\n",
       "    <tr style=\"text-align: right;\">\n",
       "      <th></th>\n",
       "      <th>0</th>\n",
       "      <th>1</th>\n",
       "      <th>2</th>\n",
       "    </tr>\n",
       "  </thead>\n",
       "  <tbody>\n",
       "    <tr>\n",
       "      <th>0</th>\n",
       "      <td>0.163389</td>\n",
       "      <td>0.196414</td>\n",
       "      <td>0.640197</td>\n",
       "    </tr>\n",
       "    <tr>\n",
       "      <th>1</th>\n",
       "      <td>0.162971</td>\n",
       "      <td>0.189991</td>\n",
       "      <td>0.647038</td>\n",
       "    </tr>\n",
       "    <tr>\n",
       "      <th>2</th>\n",
       "      <td>0.168614</td>\n",
       "      <td>0.193441</td>\n",
       "      <td>0.637945</td>\n",
       "    </tr>\n",
       "    <tr>\n",
       "      <th>3</th>\n",
       "      <td>0.165516</td>\n",
       "      <td>0.189520</td>\n",
       "      <td>0.644965</td>\n",
       "    </tr>\n",
       "    <tr>\n",
       "      <th>4</th>\n",
       "      <td>0.170251</td>\n",
       "      <td>0.201368</td>\n",
       "      <td>0.628380</td>\n",
       "    </tr>\n",
       "    <tr>\n",
       "      <th>...</th>\n",
       "      <td>...</td>\n",
       "      <td>...</td>\n",
       "      <td>...</td>\n",
       "    </tr>\n",
       "    <tr>\n",
       "      <th>9995</th>\n",
       "      <td>0.163257</td>\n",
       "      <td>0.192279</td>\n",
       "      <td>0.644464</td>\n",
       "    </tr>\n",
       "    <tr>\n",
       "      <th>9996</th>\n",
       "      <td>0.170006</td>\n",
       "      <td>0.213607</td>\n",
       "      <td>0.616387</td>\n",
       "    </tr>\n",
       "    <tr>\n",
       "      <th>9997</th>\n",
       "      <td>0.156138</td>\n",
       "      <td>0.186886</td>\n",
       "      <td>0.656976</td>\n",
       "    </tr>\n",
       "    <tr>\n",
       "      <th>9998</th>\n",
       "      <td>0.155483</td>\n",
       "      <td>0.192258</td>\n",
       "      <td>0.652259</td>\n",
       "    </tr>\n",
       "    <tr>\n",
       "      <th>9999</th>\n",
       "      <td>0.178823</td>\n",
       "      <td>0.218154</td>\n",
       "      <td>0.603023</td>\n",
       "    </tr>\n",
       "  </tbody>\n",
       "</table>\n",
       "<p>10000 rows × 3 columns</p>\n",
       "</div>"
      ],
      "text/plain": [
       "             0         1         2\n",
       "0     0.163389  0.196414  0.640197\n",
       "1     0.162971  0.189991  0.647038\n",
       "2     0.168614  0.193441  0.637945\n",
       "3     0.165516  0.189520  0.644965\n",
       "4     0.170251  0.201368  0.628380\n",
       "...        ...       ...       ...\n",
       "9995  0.163257  0.192279  0.644464\n",
       "9996  0.170006  0.213607  0.616387\n",
       "9997  0.156138  0.186886  0.656976\n",
       "9998  0.155483  0.192258  0.652259\n",
       "9999  0.178823  0.218154  0.603023\n",
       "\n",
       "[10000 rows x 3 columns]"
      ]
     },
     "execution_count": 41,
     "metadata": {},
     "output_type": "execute_result"
    }
   ],
   "source": [
    "pd.DataFrame(pred_sk)"
   ]
  },
  {
   "cell_type": "code",
   "execution_count": 61,
   "id": "returning-washer",
   "metadata": {},
   "outputs": [
    {
     "name": "stdout",
     "output_type": "stream",
     "text": [
      "0.6904788333359761\n",
      "0.6904788333359761\n",
      "0.6904788333359761\n",
      "0.6904788333359761\n",
      "0.6904788333359761\n"
     ]
    }
   ],
   "source": [
    "from sklearn.model_selection import cross_val_score\n",
    "from xgboost import plot_importance\n",
    "\n",
    "for m in range(5):\n",
    "    print(cross_val_score(clf_models[m], X,y, cv=skf).mean())"
   ]
  },
  {
   "cell_type": "code",
   "execution_count": 43,
   "id": "adaptive-canadian",
   "metadata": {},
   "outputs": [
    {
     "data": {
      "text/html": [
       "<div>\n",
       "<style scoped>\n",
       "    .dataframe tbody tr th:only-of-type {\n",
       "        vertical-align: middle;\n",
       "    }\n",
       "\n",
       "    .dataframe tbody tr th {\n",
       "        vertical-align: top;\n",
       "    }\n",
       "\n",
       "    .dataframe thead th {\n",
       "        text-align: right;\n",
       "    }\n",
       "</style>\n",
       "<table border=\"1\" class=\"dataframe\">\n",
       "  <thead>\n",
       "    <tr style=\"text-align: right;\">\n",
       "      <th></th>\n",
       "      <th>index</th>\n",
       "    </tr>\n",
       "  </thead>\n",
       "  <tbody>\n",
       "    <tr>\n",
       "      <th>0</th>\n",
       "      <td>26457</td>\n",
       "    </tr>\n",
       "    <tr>\n",
       "      <th>1</th>\n",
       "      <td>26458</td>\n",
       "    </tr>\n",
       "    <tr>\n",
       "      <th>2</th>\n",
       "      <td>26459</td>\n",
       "    </tr>\n",
       "    <tr>\n",
       "      <th>3</th>\n",
       "      <td>26460</td>\n",
       "    </tr>\n",
       "    <tr>\n",
       "      <th>4</th>\n",
       "      <td>26461</td>\n",
       "    </tr>\n",
       "    <tr>\n",
       "      <th>...</th>\n",
       "      <td>...</td>\n",
       "    </tr>\n",
       "    <tr>\n",
       "      <th>9995</th>\n",
       "      <td>36452</td>\n",
       "    </tr>\n",
       "    <tr>\n",
       "      <th>9996</th>\n",
       "      <td>36453</td>\n",
       "    </tr>\n",
       "    <tr>\n",
       "      <th>9997</th>\n",
       "      <td>36454</td>\n",
       "    </tr>\n",
       "    <tr>\n",
       "      <th>9998</th>\n",
       "      <td>36455</td>\n",
       "    </tr>\n",
       "    <tr>\n",
       "      <th>9999</th>\n",
       "      <td>36456</td>\n",
       "    </tr>\n",
       "  </tbody>\n",
       "</table>\n",
       "<p>10000 rows × 1 columns</p>\n",
       "</div>"
      ],
      "text/plain": [
       "      index\n",
       "0     26457\n",
       "1     26458\n",
       "2     26459\n",
       "3     26460\n",
       "4     26461\n",
       "...     ...\n",
       "9995  36452\n",
       "9996  36453\n",
       "9997  36454\n",
       "9998  36455\n",
       "9999  36456\n",
       "\n",
       "[10000 rows x 1 columns]"
      ]
     },
     "execution_count": 43,
     "metadata": {},
     "output_type": "execute_result"
    }
   ],
   "source": [
    "ss.drop(['0','1','2'],1)"
   ]
  },
  {
   "cell_type": "code",
   "execution_count": 44,
   "id": "dimensional-assault",
   "metadata": {},
   "outputs": [],
   "source": [
    "ss_sk = pd.concat([ss.drop(['0','1','2'],1),pd.DataFrame(pred_sk)],axis=1)"
   ]
  },
  {
   "cell_type": "code",
   "execution_count": 45,
   "id": "interpreted-poison",
   "metadata": {},
   "outputs": [],
   "source": [
    "ss_sk.to_csv('one_hot_baseline.csv',index=False)"
   ]
  },
  {
   "cell_type": "code",
   "execution_count": 36,
   "id": "specific-accent",
   "metadata": {},
   "outputs": [
    {
     "data": {
      "text/html": [
       "<div>\n",
       "<style scoped>\n",
       "    .dataframe tbody tr th:only-of-type {\n",
       "        vertical-align: middle;\n",
       "    }\n",
       "\n",
       "    .dataframe tbody tr th {\n",
       "        vertical-align: top;\n",
       "    }\n",
       "\n",
       "    .dataframe thead th {\n",
       "        text-align: right;\n",
       "    }\n",
       "</style>\n",
       "<table border=\"1\" class=\"dataframe\">\n",
       "  <thead>\n",
       "    <tr style=\"text-align: right;\">\n",
       "      <th></th>\n",
       "      <th>index</th>\n",
       "      <th>0</th>\n",
       "      <th>1</th>\n",
       "      <th>2</th>\n",
       "    </tr>\n",
       "  </thead>\n",
       "  <tbody>\n",
       "    <tr>\n",
       "      <th>0</th>\n",
       "      <td>26457</td>\n",
       "      <td>0.164139</td>\n",
       "      <td>0.192881</td>\n",
       "      <td>0.642980</td>\n",
       "    </tr>\n",
       "    <tr>\n",
       "      <th>1</th>\n",
       "      <td>26458</td>\n",
       "      <td>0.163794</td>\n",
       "      <td>0.189427</td>\n",
       "      <td>0.646779</td>\n",
       "    </tr>\n",
       "    <tr>\n",
       "      <th>2</th>\n",
       "      <td>26459</td>\n",
       "      <td>0.168561</td>\n",
       "      <td>0.194095</td>\n",
       "      <td>0.637344</td>\n",
       "    </tr>\n",
       "    <tr>\n",
       "      <th>3</th>\n",
       "      <td>26460</td>\n",
       "      <td>0.165845</td>\n",
       "      <td>0.188210</td>\n",
       "      <td>0.645945</td>\n",
       "    </tr>\n",
       "    <tr>\n",
       "      <th>4</th>\n",
       "      <td>26461</td>\n",
       "      <td>0.173882</td>\n",
       "      <td>0.201297</td>\n",
       "      <td>0.624821</td>\n",
       "    </tr>\n",
       "    <tr>\n",
       "      <th>...</th>\n",
       "      <td>...</td>\n",
       "      <td>...</td>\n",
       "      <td>...</td>\n",
       "      <td>...</td>\n",
       "    </tr>\n",
       "    <tr>\n",
       "      <th>9995</th>\n",
       "      <td>36452</td>\n",
       "      <td>0.162831</td>\n",
       "      <td>0.192138</td>\n",
       "      <td>0.645031</td>\n",
       "    </tr>\n",
       "    <tr>\n",
       "      <th>9996</th>\n",
       "      <td>36453</td>\n",
       "      <td>0.170550</td>\n",
       "      <td>0.212975</td>\n",
       "      <td>0.616475</td>\n",
       "    </tr>\n",
       "    <tr>\n",
       "      <th>9997</th>\n",
       "      <td>36454</td>\n",
       "      <td>0.155128</td>\n",
       "      <td>0.185603</td>\n",
       "      <td>0.659269</td>\n",
       "    </tr>\n",
       "    <tr>\n",
       "      <th>9998</th>\n",
       "      <td>36455</td>\n",
       "      <td>0.155454</td>\n",
       "      <td>0.192071</td>\n",
       "      <td>0.652476</td>\n",
       "    </tr>\n",
       "    <tr>\n",
       "      <th>9999</th>\n",
       "      <td>36456</td>\n",
       "      <td>0.176924</td>\n",
       "      <td>0.216349</td>\n",
       "      <td>0.606727</td>\n",
       "    </tr>\n",
       "  </tbody>\n",
       "</table>\n",
       "<p>10000 rows × 4 columns</p>\n",
       "</div>"
      ],
      "text/plain": [
       "      index         0         1         2\n",
       "0     26457  0.164139  0.192881  0.642980\n",
       "1     26458  0.163794  0.189427  0.646779\n",
       "2     26459  0.168561  0.194095  0.637344\n",
       "3     26460  0.165845  0.188210  0.645945\n",
       "4     26461  0.173882  0.201297  0.624821\n",
       "...     ...       ...       ...       ...\n",
       "9995  36452  0.162831  0.192138  0.645031\n",
       "9996  36453  0.170550  0.212975  0.616475\n",
       "9997  36454  0.155128  0.185603  0.659269\n",
       "9998  36455  0.155454  0.192071  0.652476\n",
       "9999  36456  0.176924  0.216349  0.606727\n",
       "\n",
       "[10000 rows x 4 columns]"
      ]
     },
     "execution_count": 36,
     "metadata": {},
     "output_type": "execute_result"
    }
   ],
   "source": [
    "ss_rk"
   ]
  },
  {
   "cell_type": "code",
   "execution_count": 78,
   "id": "mighty-junior",
   "metadata": {
    "scrolled": false
   },
   "outputs": [
    {
     "data": {
      "text/plain": [
       "54"
      ]
     },
     "execution_count": 78,
     "metadata": {},
     "output_type": "execute_result"
    }
   ],
   "source": [
    "len(train.columns)"
   ]
  },
  {
   "cell_type": "code",
   "execution_count": 75,
   "id": "detected-survivor",
   "metadata": {},
   "outputs": [
    {
     "name": "stdout",
     "output_type": "stream",
     "text": [
      "====================================1============================================\n",
      "Training until validation scores don't improve for 30 rounds\n",
      "[100]\ttraining's multi_logloss: 0.649825\tvalid_1's multi_logloss: 0.754342\n",
      "[200]\ttraining's multi_logloss: 0.565196\tvalid_1's multi_logloss: 0.738372\n",
      "[300]\ttraining's multi_logloss: 0.503465\tvalid_1's multi_logloss: 0.731682\n",
      "Early stopping, best iteration is:\n",
      "[307]\ttraining's multi_logloss: 0.499573\tvalid_1's multi_logloss: 0.731419\n",
      "================================================================================\n",
      "\n",
      "\n",
      "====================================2============================================\n",
      "Training until validation scores don't improve for 30 rounds\n",
      "[100]\ttraining's multi_logloss: 0.646021\tvalid_1's multi_logloss: 0.764365\n",
      "[200]\ttraining's multi_logloss: 0.560632\tvalid_1's multi_logloss: 0.751211\n",
      "[300]\ttraining's multi_logloss: 0.497513\tvalid_1's multi_logloss: 0.748437\n",
      "Early stopping, best iteration is:\n",
      "[330]\ttraining's multi_logloss: 0.480923\tvalid_1's multi_logloss: 0.747248\n",
      "================================================================================\n",
      "\n",
      "\n",
      "====================================3============================================\n",
      "Training until validation scores don't improve for 30 rounds\n",
      "[100]\ttraining's multi_logloss: 0.650293\tvalid_1's multi_logloss: 0.758441\n",
      "[200]\ttraining's multi_logloss: 0.562092\tvalid_1's multi_logloss: 0.744718\n",
      "[300]\ttraining's multi_logloss: 0.497577\tvalid_1's multi_logloss: 0.742915\n",
      "Early stopping, best iteration is:\n",
      "[300]\ttraining's multi_logloss: 0.497577\tvalid_1's multi_logloss: 0.742915\n",
      "================================================================================\n",
      "\n",
      "\n",
      "====================================4============================================\n",
      "Training until validation scores don't improve for 30 rounds\n",
      "[100]\ttraining's multi_logloss: 0.648708\tvalid_1's multi_logloss: 0.755516\n",
      "[200]\ttraining's multi_logloss: 0.562289\tvalid_1's multi_logloss: 0.7392\n",
      "Early stopping, best iteration is:\n",
      "[256]\ttraining's multi_logloss: 0.525232\tvalid_1's multi_logloss: 0.735804\n",
      "================================================================================\n",
      "\n",
      "\n",
      "====================================5============================================\n",
      "Training until validation scores don't improve for 30 rounds\n",
      "[100]\ttraining's multi_logloss: 0.651188\tvalid_1's multi_logloss: 0.755536\n",
      "[200]\ttraining's multi_logloss: 0.565233\tvalid_1's multi_logloss: 0.741456\n",
      "[300]\ttraining's multi_logloss: 0.500595\tvalid_1's multi_logloss: 0.736311\n",
      "Early stopping, best iteration is:\n",
      "[289]\ttraining's multi_logloss: 0.50667\tvalid_1's multi_logloss: 0.735772\n",
      "================================================================================\n",
      "\n",
      "\n"
     ]
    }
   ],
   "source": [
    "import glob\n",
    "import random\n",
    "from sklearn.model_selection import StratifiedKFold\n",
    "from lightgbm import LGBMClassifier\n",
    "skf = StratifiedKFold(n_splits=5, shuffle=True, random_state=42)\n",
    "folds=[]\n",
    "for train_idx, valid_idx in skf.split(train, train['credit']):\n",
    "    folds.append((train_idx, valid_idx))\n",
    "random.seed(42)\n",
    "lgb_models={}\n",
    "for fold in range(5):\n",
    "    print(f'===================================={fold+1}============================================')\n",
    "    train_idx, valid_idx = folds[fold]\n",
    "    X_train, X_valid, y_train, y_valid = train.drop(['credit'],axis=1).iloc[train_idx].values, train.drop(['credit'],axis=1).iloc[valid_idx].values,\\\n",
    "                                         train['credit'][train_idx].values, train['credit'][valid_idx].values \n",
    "    lgb = LGBMClassifier(n_estimators=1000)\n",
    "    lgb.fit(X_train, y_train, \n",
    "            eval_set=[(X_train, y_train), (X_valid, y_valid)], \n",
    "            early_stopping_rounds=30,\n",
    "           verbose=100)\n",
    "    lgb_models[fold]=lgb\n",
    "    print(f'================================================================================\\n\\n')"
   ]
  },
  {
   "cell_type": "code",
   "execution_count": 76,
   "id": "external-basic",
   "metadata": {},
   "outputs": [
    {
     "name": "stdout",
     "output_type": "stream",
     "text": [
      "0.7049552192409335\n",
      "0.7049552192409335\n",
      "0.7049552192409335\n",
      "0.7049552192409335\n",
      "0.7049552192409335\n"
     ]
    }
   ],
   "source": [
    "for m in range(5):\n",
    "    print(cross_val_score(lgb_models[m], X,y, cv=skf).mean())"
   ]
  },
  {
   "cell_type": "code",
   "execution_count": 79,
   "id": "logical-stewart",
   "metadata": {},
   "outputs": [],
   "source": [
    "train = train.drop('gender',1)\n",
    "test = test.drop('gender',1)"
   ]
  },
  {
   "cell_type": "code",
   "execution_count": 80,
   "id": "lesser-bacteria",
   "metadata": {},
   "outputs": [
    {
     "name": "stdout",
     "output_type": "stream",
     "text": [
      "====================================1============================================\n",
      "Training until validation scores don't improve for 30 rounds\n",
      "[100]\ttraining's multi_logloss: 0.652351\tvalid_1's multi_logloss: 0.753019\n",
      "[200]\ttraining's multi_logloss: 0.566869\tvalid_1's multi_logloss: 0.738385\n",
      "[300]\ttraining's multi_logloss: 0.502345\tvalid_1's multi_logloss: 0.732482\n",
      "[400]\ttraining's multi_logloss: 0.452174\tvalid_1's multi_logloss: 0.730414\n",
      "Early stopping, best iteration is:\n",
      "[402]\ttraining's multi_logloss: 0.451197\tvalid_1's multi_logloss: 0.730156\n",
      "================================================================================\n",
      "\n",
      "\n",
      "====================================2============================================\n",
      "Training until validation scores don't improve for 30 rounds\n",
      "[100]\ttraining's multi_logloss: 0.648005\tvalid_1's multi_logloss: 0.763174\n",
      "[200]\ttraining's multi_logloss: 0.562187\tvalid_1's multi_logloss: 0.749732\n",
      "Early stopping, best iteration is:\n",
      "[260]\ttraining's multi_logloss: 0.522715\tvalid_1's multi_logloss: 0.746856\n",
      "================================================================================\n",
      "\n",
      "\n",
      "====================================3============================================\n",
      "Training until validation scores don't improve for 30 rounds\n",
      "[100]\ttraining's multi_logloss: 0.650378\tvalid_1's multi_logloss: 0.757121\n",
      "[200]\ttraining's multi_logloss: 0.561891\tvalid_1's multi_logloss: 0.744438\n",
      "[300]\ttraining's multi_logloss: 0.500465\tvalid_1's multi_logloss: 0.741897\n",
      "Early stopping, best iteration is:\n",
      "[294]\ttraining's multi_logloss: 0.503988\tvalid_1's multi_logloss: 0.74167\n",
      "================================================================================\n",
      "\n",
      "\n",
      "====================================4============================================\n",
      "Training until validation scores don't improve for 30 rounds\n",
      "[100]\ttraining's multi_logloss: 0.649892\tvalid_1's multi_logloss: 0.756041\n",
      "[200]\ttraining's multi_logloss: 0.563828\tvalid_1's multi_logloss: 0.740128\n",
      "[300]\ttraining's multi_logloss: 0.499808\tvalid_1's multi_logloss: 0.736578\n",
      "Early stopping, best iteration is:\n",
      "[304]\ttraining's multi_logloss: 0.497558\tvalid_1's multi_logloss: 0.73637\n",
      "================================================================================\n",
      "\n",
      "\n",
      "====================================5============================================\n",
      "Training until validation scores don't improve for 30 rounds\n",
      "[100]\ttraining's multi_logloss: 0.651799\tvalid_1's multi_logloss: 0.755997\n",
      "[200]\ttraining's multi_logloss: 0.563237\tvalid_1's multi_logloss: 0.738498\n",
      "[300]\ttraining's multi_logloss: 0.50054\tvalid_1's multi_logloss: 0.734928\n",
      "Early stopping, best iteration is:\n",
      "[284]\ttraining's multi_logloss: 0.509267\tvalid_1's multi_logloss: 0.734558\n",
      "================================================================================\n",
      "\n",
      "\n"
     ]
    }
   ],
   "source": [
    "import glob\n",
    "import random\n",
    "from sklearn.model_selection import StratifiedKFold\n",
    "from lightgbm import LGBMClassifier\n",
    "skf = StratifiedKFold(n_splits=5, shuffle=True, random_state=42)\n",
    "folds=[]\n",
    "for train_idx, valid_idx in skf.split(train, train['credit']):\n",
    "    folds.append((train_idx, valid_idx))\n",
    "random.seed(42)\n",
    "lgb_models={}\n",
    "for fold in range(5):\n",
    "    print(f'===================================={fold+1}============================================')\n",
    "    train_idx, valid_idx = folds[fold]\n",
    "    X_train, X_valid, y_train, y_valid = train.drop(['credit'],axis=1).iloc[train_idx].values, train.drop(['credit'],axis=1).iloc[valid_idx].values,\\\n",
    "                                         train['credit'][train_idx].values, train['credit'][valid_idx].values \n",
    "    lgb = LGBMClassifier(n_estimators=1000)\n",
    "    lgb.fit(X_train, y_train, \n",
    "            eval_set=[(X_train, y_train), (X_valid, y_valid)], \n",
    "            early_stopping_rounds=30,\n",
    "           verbose=100)\n",
    "    lgb_models[fold]=lgb\n",
    "    print(f'================================================================================\\n\\n')"
   ]
  },
  {
   "cell_type": "code",
   "execution_count": null,
   "id": "enormous-japanese",
   "metadata": {},
   "outputs": [],
   "source": [
    "0.74167 0.734558 0.73637 0.746856 0.730156"
   ]
  },
  {
   "cell_type": "code",
   "execution_count": 81,
   "id": "wireless-chemistry",
   "metadata": {},
   "outputs": [
    {
     "name": "stdout",
     "output_type": "stream",
     "text": [
      "0.7049552192409335\n"
     ]
    }
   ],
   "source": [
    "print(cross_val_score(lgb_models[0], X,y, cv=skf).mean())"
   ]
  },
  {
   "cell_type": "markdown",
   "id": "cleared-sound",
   "metadata": {},
   "source": [
    "# \n",
    "- gender 영향 x\n",
    "- 모델자체의 성능 O\n",
    "- "
   ]
  },
  {
   "cell_type": "code",
   "execution_count": 102,
   "id": "moderate-butter",
   "metadata": {},
   "outputs": [
    {
     "name": "stdout",
     "output_type": "stream",
     "text": [
      "['sample_submission.csv', 'test.csv', 'train.csv']\n",
      "====================================1============================================\n",
      "Training until validation scores don't improve for 30 rounds\n",
      "[100]\ttraining's multi_logloss: 0.65169\tvalid_1's multi_logloss: 0.753518\n",
      "[200]\ttraining's multi_logloss: 0.566137\tvalid_1's multi_logloss: 0.738387\n",
      "Early stopping, best iteration is:\n",
      "[267]\ttraining's multi_logloss: 0.523804\tvalid_1's multi_logloss: 0.733768\n",
      "================================================================================\n",
      "\n",
      "\n",
      "====================================2============================================\n",
      "Training until validation scores don't improve for 30 rounds\n",
      "[100]\ttraining's multi_logloss: 0.649623\tvalid_1's multi_logloss: 0.764076\n",
      "[200]\ttraining's multi_logloss: 0.560576\tvalid_1's multi_logloss: 0.750877\n",
      "Early stopping, best iteration is:\n",
      "[250]\ttraining's multi_logloss: 0.527473\tvalid_1's multi_logloss: 0.747536\n",
      "================================================================================\n",
      "\n",
      "\n",
      "====================================3============================================\n",
      "Training until validation scores don't improve for 30 rounds\n",
      "[100]\ttraining's multi_logloss: 0.64899\tvalid_1's multi_logloss: 0.755508\n",
      "[200]\ttraining's multi_logloss: 0.56211\tvalid_1's multi_logloss: 0.742667\n",
      "[300]\ttraining's multi_logloss: 0.496502\tvalid_1's multi_logloss: 0.736997\n",
      "Early stopping, best iteration is:\n",
      "[334]\ttraining's multi_logloss: 0.477102\tvalid_1's multi_logloss: 0.736028\n",
      "================================================================================\n",
      "\n",
      "\n",
      "====================================4============================================\n",
      "Training until validation scores don't improve for 30 rounds\n",
      "[100]\ttraining's multi_logloss: 0.648798\tvalid_1's multi_logloss: 0.755521\n",
      "[200]\ttraining's multi_logloss: 0.563661\tvalid_1's multi_logloss: 0.739934\n",
      "[300]\ttraining's multi_logloss: 0.499945\tvalid_1's multi_logloss: 0.734051\n",
      "Early stopping, best iteration is:\n",
      "[320]\ttraining's multi_logloss: 0.489029\tvalid_1's multi_logloss: 0.733668\n",
      "================================================================================\n",
      "\n",
      "\n",
      "====================================5============================================\n",
      "Training until validation scores don't improve for 30 rounds\n",
      "[100]\ttraining's multi_logloss: 0.652301\tvalid_1's multi_logloss: 0.756077\n",
      "[200]\ttraining's multi_logloss: 0.566121\tvalid_1's multi_logloss: 0.74134\n",
      "[300]\ttraining's multi_logloss: 0.501039\tvalid_1's multi_logloss: 0.736472\n",
      "Early stopping, best iteration is:\n",
      "[304]\ttraining's multi_logloss: 0.499046\tvalid_1's multi_logloss: 0.736025\n",
      "================================================================================\n",
      "\n",
      "\n"
     ]
    }
   ],
   "source": [
    "# null값 사전처리 안 하면?\n",
    "d = \"C:\\kaggle_data\\credit_card\"\n",
    "lst = os.listdir(d)\n",
    "print(lst)\n",
    "train = pd.read_csv(d + '\\\\' +lst[2])\n",
    "test = pd.read_csv(d + '\\\\' +lst[1])\n",
    "ss = pd.read_csv(d + '\\\\' +lst[0])\n",
    "for i in ['income_type','edu_type','family_type','house_type','occyp_type']:\n",
    "    train = pd.concat([train, pd.get_dummies(train[i])],1)\n",
    "    test = pd.concat([test, pd.get_dummies(test[i])],1)\n",
    "dlst=['index','income_type','edu_type','family_type','house_type','occyp_type']\n",
    "train = train.drop(dlst,1)\n",
    "test = test.drop(dlst,1)\n",
    "labels = ['gender','car', 'reality']\n",
    "for label in labels:\n",
    "    enc = LE()\n",
    "    enc.fit(total[label])\n",
    "    train[label] = enc.transform(train[label])\n",
    "    test[label] = enc.transform(test[label])\n",
    "import glob\n",
    "import random\n",
    "from sklearn.model_selection import StratifiedKFold\n",
    "from lightgbm import LGBMClassifier\n",
    "skf = StratifiedKFold(n_splits=5, shuffle=True, random_state=42)\n",
    "folds=[]\n",
    "for train_idx, valid_idx in skf.split(train, train['credit']):\n",
    "    folds.append((train_idx, valid_idx))\n",
    "random.seed(42)\n",
    "lgb_models={}\n",
    "for fold in range(5):\n",
    "    print(f'===================================={fold+1}============================================')\n",
    "    train_idx, valid_idx = folds[fold]\n",
    "    X_train, X_valid, y_train, y_valid = train.drop(['credit'],axis=1).iloc[train_idx].values, train.drop(['credit'],axis=1).iloc[valid_idx].values,\\\n",
    "                                         train['credit'][train_idx].values, train['credit'][valid_idx].values \n",
    "    lgb = LGBMClassifier(n_estimators=1000)\n",
    "    lgb.fit(X_train, y_train, \n",
    "            eval_set=[(X_train, y_train), (X_valid, y_valid)], \n",
    "            early_stopping_rounds=30,\n",
    "           verbose=100)\n",
    "    lgb_models[fold]=lgb\n",
    "    print(f'================================================================================\\n\\n')"
   ]
  },
  {
   "cell_type": "code",
   "execution_count": 97,
   "id": "noted-brook",
   "metadata": {},
   "outputs": [],
   "source": [
    "b = train.columns.values"
   ]
  },
  {
   "cell_type": "code",
   "execution_count": 83,
   "id": "gentle-engineer",
   "metadata": {},
   "outputs": [
    {
     "name": "stdout",
     "output_type": "stream",
     "text": [
      "0.7049552192409335\n"
     ]
    }
   ],
   "source": [
    "print(cross_val_score(lgb_models[0], X,y, cv=skf).mean())"
   ]
  },
  {
   "cell_type": "code",
   "execution_count": 84,
   "id": "innocent-jewel",
   "metadata": {},
   "outputs": [
    {
     "name": "stdout",
     "output_type": "stream",
     "text": [
      "0.7049552192409335\n"
     ]
    }
   ],
   "source": [
    "print(cross_val_score(lgb, X,y, cv=skf).mean())"
   ]
  },
  {
   "cell_type": "code",
   "execution_count": 89,
   "id": "pacific-surfing",
   "metadata": {},
   "outputs": [
    {
     "data": {
      "text/plain": [
       "0.737405"
      ]
     },
     "execution_count": 89,
     "metadata": {},
     "output_type": "execute_result"
    }
   ],
   "source": [
    "sum([0.733768, 0.747536, 0.736028, 0.733668, 0.736025])/5"
   ]
  },
  {
   "cell_type": "code",
   "execution_count": 90,
   "id": "scenic-warren",
   "metadata": {},
   "outputs": [
    {
     "data": {
      "text/plain": [
       "0.737922"
      ]
     },
     "execution_count": 90,
     "metadata": {},
     "output_type": "execute_result"
    }
   ],
   "source": [
    "sum([0.74167, 0.734558, 0.73637, 0.746856, 0.730156])/5"
   ]
  },
  {
   "cell_type": "code",
   "execution_count": 91,
   "id": "infectious-weapon",
   "metadata": {},
   "outputs": [
    {
     "name": "stdout",
     "output_type": "stream",
     "text": [
      "['sample_submission.csv', 'test.csv', 'train.csv']\n",
      "====================================1============================================\n",
      "Training until validation scores don't improve for 30 rounds\n",
      "[100]\ttraining's multi_logloss: 0.653215\tvalid_1's multi_logloss: 0.754042\n",
      "[200]\ttraining's multi_logloss: 0.568818\tvalid_1's multi_logloss: 0.739711\n",
      "[300]\ttraining's multi_logloss: 0.506033\tvalid_1's multi_logloss: 0.731846\n",
      "Early stopping, best iteration is:\n",
      "[325]\ttraining's multi_logloss: 0.493287\tvalid_1's multi_logloss: 0.731265\n",
      "================================================================================\n",
      "\n",
      "\n",
      "====================================2============================================\n",
      "Training until validation scores don't improve for 30 rounds\n",
      "[100]\ttraining's multi_logloss: 0.646585\tvalid_1's multi_logloss: 0.760919\n",
      "[200]\ttraining's multi_logloss: 0.561816\tvalid_1's multi_logloss: 0.749444\n",
      "[300]\ttraining's multi_logloss: 0.499601\tvalid_1's multi_logloss: 0.745274\n",
      "Early stopping, best iteration is:\n",
      "[311]\ttraining's multi_logloss: 0.493125\tvalid_1's multi_logloss: 0.744894\n",
      "================================================================================\n",
      "\n",
      "\n",
      "====================================3============================================\n",
      "Training until validation scores don't improve for 30 rounds\n",
      "[100]\ttraining's multi_logloss: 0.652433\tvalid_1's multi_logloss: 0.75712\n",
      "[200]\ttraining's multi_logloss: 0.565159\tvalid_1's multi_logloss: 0.744473\n",
      "[300]\ttraining's multi_logloss: 0.500562\tvalid_1's multi_logloss: 0.741982\n",
      "Early stopping, best iteration is:\n",
      "[302]\ttraining's multi_logloss: 0.499301\tvalid_1's multi_logloss: 0.741852\n",
      "================================================================================\n",
      "\n",
      "\n",
      "====================================4============================================\n",
      "Training until validation scores don't improve for 30 rounds\n",
      "[100]\ttraining's multi_logloss: 0.648882\tvalid_1's multi_logloss: 0.755298\n",
      "[200]\ttraining's multi_logloss: 0.564774\tvalid_1's multi_logloss: 0.740505\n",
      "[300]\ttraining's multi_logloss: 0.503151\tvalid_1's multi_logloss: 0.735758\n",
      "Early stopping, best iteration is:\n",
      "[324]\ttraining's multi_logloss: 0.489678\tvalid_1's multi_logloss: 0.735097\n",
      "================================================================================\n",
      "\n",
      "\n",
      "====================================5============================================\n",
      "Training until validation scores don't improve for 30 rounds\n",
      "[100]\ttraining's multi_logloss: 0.651847\tvalid_1's multi_logloss: 0.756939\n",
      "[200]\ttraining's multi_logloss: 0.566977\tvalid_1's multi_logloss: 0.740872\n",
      "[300]\ttraining's multi_logloss: 0.503496\tvalid_1's multi_logloss: 0.735887\n",
      "Early stopping, best iteration is:\n",
      "[310]\ttraining's multi_logloss: 0.497606\tvalid_1's multi_logloss: 0.735665\n",
      "================================================================================\n",
      "\n",
      "\n"
     ]
    }
   ],
   "source": [
    "# null값 사전처리 안 하면?\n",
    "d = \"C:\\kaggle_data\\credit_card\"\n",
    "lst = os.listdir(d)\n",
    "print(lst)\n",
    "train = pd.read_csv(d + '\\\\' +lst[2])\n",
    "test = pd.read_csv(d + '\\\\' +lst[1])\n",
    "ss = pd.read_csv(d + '\\\\' +lst[0])\n",
    "for i in ['income_type','edu_type','family_type','house_type','occyp_type']:\n",
    "    train = pd.concat([train, pd.get_dummies(train[i])],1)\n",
    "    test = pd.concat([test, pd.get_dummies(test[i])],1)\n",
    "dlst=['gender','index','income_type','edu_type','family_type','house_type','occyp_type']\n",
    "train = train.drop(dlst,1)\n",
    "test = test.drop(dlst,1)\n",
    "labels = ['car', 'reality']\n",
    "for label in labels:\n",
    "    enc = LE()\n",
    "    enc.fit(total[label])\n",
    "    train[label] = enc.transform(train[label])\n",
    "    test[label] = enc.transform(test[label])\n",
    "import glob\n",
    "import random\n",
    "from sklearn.model_selection import StratifiedKFold\n",
    "from lightgbm import LGBMClassifier\n",
    "skf = StratifiedKFold(n_splits=5, shuffle=True, random_state=42)\n",
    "folds=[]\n",
    "for train_idx, valid_idx in skf.split(train, train['credit']):\n",
    "    folds.append((train_idx, valid_idx))\n",
    "random.seed(42)\n",
    "lgb_models={}\n",
    "for fold in range(5):\n",
    "    print(f'===================================={fold+1}============================================')\n",
    "    train_idx, valid_idx = folds[fold]\n",
    "    X_train, X_valid, y_train, y_valid = train.drop(['credit'],axis=1).iloc[train_idx].values, train.drop(['credit'],axis=1).iloc[valid_idx].values,\\\n",
    "                                         train['credit'][train_idx].values, train['credit'][valid_idx].values \n",
    "    lgb = LGBMClassifier(n_estimators=1000)\n",
    "    lgb.fit(X_train, y_train, \n",
    "            eval_set=[(X_train, y_train), (X_valid, y_valid)], \n",
    "            early_stopping_rounds=30,\n",
    "           verbose=100)\n",
    "    lgb_models[fold]=lgb\n",
    "    print(f'================================================================================\\n\\n')"
   ]
  },
  {
   "cell_type": "code",
   "execution_count": 95,
   "id": "looking-match",
   "metadata": {},
   "outputs": [],
   "source": [
    "without_null = train.columns.values"
   ]
  },
  {
   "cell_type": "code",
   "execution_count": 92,
   "id": "designed-favorite",
   "metadata": {
    "scrolled": true
   },
   "outputs": [
    {
     "data": {
      "text/plain": [
       "0.7377546"
      ]
     },
     "execution_count": 92,
     "metadata": {},
     "output_type": "execute_result"
    }
   ],
   "source": [
    "sum([0.735665, 0.735097, 0.741852, 0.744894, 0.731265])/5"
   ]
  },
  {
   "cell_type": "code",
   "execution_count": 100,
   "id": "innovative-exhibit",
   "metadata": {},
   "outputs": [
    {
     "data": {
      "text/plain": [
       "{'gender'}"
      ]
     },
     "execution_count": 100,
     "metadata": {},
     "output_type": "execute_result"
    }
   ],
   "source": [
    "set(b).difference(set(without_null))"
   ]
  },
  {
   "cell_type": "code",
   "execution_count": 101,
   "id": "endangered-anxiety",
   "metadata": {},
   "outputs": [
    {
     "data": {
      "text/plain": [
       "True"
      ]
     },
     "execution_count": 101,
     "metadata": {},
     "output_type": "execute_result"
    }
   ],
   "source": [
    "'gender' in b"
   ]
  },
  {
   "cell_type": "code",
   "execution_count": null,
   "id": "nervous-survival",
   "metadata": {},
   "outputs": [],
   "source": [
    "# b 0.737405 gender 유\n",
    "for i in ['income_type','edu_type','family_type','house_type','occyp_type']:\n",
    "    train = pd.concat([train, pd.get_dummies(train[i])],1)\n",
    "    test = pd.concat([test, pd.get_dummies(test[i])],1)\n",
    "dlst=['index','income_type','edu_type','family_type','house_type','occyp_type']\n",
    "train = train.drop(dlst,1)\n",
    "test = test.drop(dlst,1)\n",
    "labels = ['gender','car', 'reality']\n",
    "for label in labels:\n",
    "    enc = LE()\n",
    "    enc.fit(total[label])\n",
    "    train[label] = enc.transform(train[label])\n",
    "    test[label] = enc.transform(test[label])"
   ]
  },
  {
   "cell_type": "code",
   "execution_count": null,
   "id": "coastal-correspondence",
   "metadata": {},
   "outputs": [],
   "source": [
    "# w 0.7377546 gender 무\n",
    "for i in ['income_type','edu_type','family_type','house_type','occyp_type']:\n",
    "    train = pd.concat([train, pd.get_dummies(train[i])],1)\n",
    "    test = pd.concat([test, pd.get_dummies(test[i])],1)\n",
    "dlst=['gender','index','income_type','edu_type','family_type','house_type','occyp_type']\n",
    "train = train.drop(dlst,1)\n",
    "test = test.drop(dlst,1)\n",
    "labels = ['car', 'reality']\n",
    "for label in labels:\n",
    "    enc = LE()\n",
    "    enc.fit(total[label])\n",
    "    train[label] = enc.transform(train[label])\n",
    "    test[label] = enc.transform(test[label])"
   ]
  }
 ],
 "metadata": {
  "kernelspec": {
   "display_name": "Python 3",
   "language": "python",
   "name": "python3"
  },
  "language_info": {
   "codemirror_mode": {
    "name": "ipython",
    "version": 3
   },
   "file_extension": ".py",
   "mimetype": "text/x-python",
   "name": "python",
   "nbconvert_exporter": "python",
   "pygments_lexer": "ipython3",
   "version": "3.7.6"
  }
 },
 "nbformat": 4,
 "nbformat_minor": 5
}
