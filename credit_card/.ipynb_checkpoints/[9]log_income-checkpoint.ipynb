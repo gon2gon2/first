{
 "cells": [
  {
   "cell_type": "markdown",
   "metadata": {},
   "source": [
    "# Library"
   ]
  },
  {
   "cell_type": "code",
   "execution_count": 23,
   "metadata": {
    "ExecuteTime": {
     "end_time": "2021-05-09T09:13:03.398028Z",
     "start_time": "2021-05-09T09:13:03.366114Z"
    }
   },
   "outputs": [],
   "source": [
    "import warnings\n",
    "warnings.filterwarnings('ignore')\n",
    "import glob\n",
    "import pandas as pd\n",
    "import numpy as np\n",
    "import seaborn as sns\n",
    "import matplotlib.pyplot as plt\n",
    "from lightgbm import LGBMClassifier\n",
    "from sklearn.model_selection import StratifiedKFold\n",
    "from sklearn.preprocessing import OneHotEncoder\n",
    "import random\n",
    "import os"
   ]
  },
  {
   "cell_type": "markdown",
   "metadata": {},
   "source": [
    "# Data Load & Preprocessing\n",
    "- 훈련에 필요없는 index 컬럼 삭제.\n",
    "- missing value를 모두 NAN 문자열로 대체\n",
    "- dtype object 인 컬럼들을 onehot encoding"
   ]
  },
  {
   "cell_type": "code",
   "execution_count": 24,
   "metadata": {
    "ExecuteTime": {
     "end_time": "2021-05-09T09:13:04.800098Z",
     "start_time": "2021-05-09T09:13:03.749626Z"
    }
   },
   "outputs": [
    {
     "name": "stdout",
     "output_type": "stream",
     "text": [
      "['sample_submission.csv', 'test.csv', 'train.csv']\n"
     ]
    }
   ],
   "source": [
    "d = \"C:\\kaggle_data\\credit_card\"\n",
    "lst = os.listdir(d)\n",
    "print(lst)\n",
    "train = pd.read_csv(d + '\\\\' +lst[2])\n",
    "test = pd.read_csv(d + '\\\\' +lst[1])\n",
    "ss = pd.read_csv(d + '\\\\' +lst[0])"
   ]
  },
  {
   "cell_type": "code",
   "execution_count": 25,
   "metadata": {
    "ExecuteTime": {
     "end_time": "2021-05-09T09:13:05.039953Z",
     "start_time": "2021-05-09T09:13:04.816989Z"
    },
    "run_control": {
     "marked": true
    }
   },
   "outputs": [],
   "source": [
    "train = train.drop(['index'], axis=1)\n",
    "train.fillna('NAN', inplace=True) \n",
    "\n",
    "test = test.drop(['index'], axis=1)\n",
    "test.fillna('NAN', inplace=True)"
   ]
  },
  {
   "cell_type": "code",
   "execution_count": 26,
   "metadata": {
    "ExecuteTime": {
     "end_time": "2021-05-09T09:13:05.112313Z",
     "start_time": "2021-05-09T09:13:05.064886Z"
    }
   },
   "outputs": [],
   "source": [
    "train['log_income'] = np.log(train['income_total'])\n",
    "test['log_income'] = np.log(test['income_total'])"
   ]
  },
  {
   "cell_type": "code",
   "execution_count": 27,
   "metadata": {
    "ExecuteTime": {
     "end_time": "2021-05-09T09:13:05.606064Z",
     "start_time": "2021-05-09T09:13:05.559643Z"
    },
    "code_folding": []
   },
   "outputs": [],
   "source": [
    "object_col = []\n",
    "for col in train.columns:\n",
    "    if train[col].dtype == 'object':\n",
    "        object_col.append(col)"
   ]
  },
  {
   "cell_type": "code",
   "execution_count": 28,
   "metadata": {
    "ExecuteTime": {
     "end_time": "2021-05-09T09:13:06.256002Z",
     "start_time": "2021-05-09T09:13:06.104505Z"
    }
   },
   "outputs": [],
   "source": [
    "enc = OneHotEncoder()\n",
    "enc.fit(train.loc[:,object_col])\n",
    "\n",
    "\n",
    "train_onehot_df = pd.DataFrame(enc.transform(train.loc[:,object_col]).toarray(), \n",
    "             columns=enc.get_feature_names(object_col))\n",
    "train.drop(object_col, axis=1, inplace=True)\n",
    "train = pd.concat([train, train_onehot_df], axis=1)"
   ]
  },
  {
   "cell_type": "code",
   "execution_count": 29,
   "metadata": {
    "ExecuteTime": {
     "end_time": "2021-05-09T09:13:06.692858Z",
     "start_time": "2021-05-09T09:13:06.642967Z"
    }
   },
   "outputs": [],
   "source": [
    "test_onehot_df = pd.DataFrame(enc.transform(test.loc[:,object_col]).toarray(), \n",
    "             columns=enc.get_feature_names(object_col))\n",
    "test.drop(object_col, axis=1, inplace=True)\n",
    "test = pd.concat([test, test_onehot_df], axis=1)"
   ]
  },
  {
   "cell_type": "markdown",
   "metadata": {},
   "source": [
    "- ㅇAYS_BIRTH : 출생일, 데이터 수집일이 0이고 역으로 계산, int\n",
    "- DAYS_EMPLOYED: 업무 시작일, 데이터 수집일이 0이고 역으로 계산, int\n",
    "- begin_month: 신용카드 발급 월, 수집 당시 0 역으로 계산,int형"
   ]
  },
  {
   "cell_type": "markdown",
   "metadata": {},
   "source": [
    "# 일 -> 연도로 바꿔보면\n",
    "for c in ['DAYS_BIRTH','DAYS_EMPLOYED']:\n",
    "    train[c] = (train[c]/12)\n",
    "    test[c] = (test[c]/12)"
   ]
  },
  {
   "cell_type": "markdown",
   "metadata": {},
   "source": [
    "# Training\n",
    "- 데이터 분리는 StratifiedKFold 를 사용하여 y값 분포를 비슷하게 분리시킴. -> 5-fold\n",
    "- lightgbm의 default parameter로 훈련.\n",
    "- 30번 이상 개선 없을 경우 중단.\n",
    "- 각 5개의 fold를 훈련하여 저장"
   ]
  },
  {
   "cell_type": "code",
   "execution_count": 30,
   "metadata": {
    "ExecuteTime": {
     "end_time": "2021-05-09T09:13:09.915778Z",
     "start_time": "2021-05-09T09:13:09.908230Z"
    }
   },
   "outputs": [
    {
     "data": {
      "text/plain": [
       "True"
      ]
     },
     "execution_count": 30,
     "metadata": {},
     "output_type": "execute_result"
    }
   ],
   "source": [
    "'log_income' in train.columns"
   ]
  },
  {
   "cell_type": "code",
   "execution_count": 31,
   "metadata": {
    "ExecuteTime": {
     "end_time": "2021-05-09T09:13:19.122071Z",
     "start_time": "2021-05-09T09:13:19.072204Z"
    },
    "code_folding": []
   },
   "outputs": [],
   "source": [
    "skf = StratifiedKFold(n_splits=5, shuffle=True, random_state=42)\n",
    "folds=[]\n",
    "for train_idx, valid_idx in skf.split(train.drop('income_total',1), train['credit']):\n",
    "    folds.append((train_idx, valid_idx))"
   ]
  },
  {
   "cell_type": "code",
   "execution_count": 32,
   "metadata": {
    "ExecuteTime": {
     "end_time": "2021-05-09T09:14:20.948238Z",
     "start_time": "2021-05-09T09:13:45.986722Z"
    },
    "scrolled": true
   },
   "outputs": [
    {
     "name": "stdout",
     "output_type": "stream",
     "text": [
      "====================================1============================================\n",
      "Training until validation scores don't improve for 30 rounds\n",
      "[100]\ttraining's multi_logloss: 0.649825\tvalid_1's multi_logloss: 0.754345\n",
      "[200]\ttraining's multi_logloss: 0.565196\tvalid_1's multi_logloss: 0.738372\n",
      "[300]\ttraining's multi_logloss: 0.503465\tvalid_1's multi_logloss: 0.731683\n",
      "Early stopping, best iteration is:\n",
      "[307]\ttraining's multi_logloss: 0.499573\tvalid_1's multi_logloss: 0.73142\n",
      "================================================================================\n",
      "\n",
      "\n",
      "====================================2============================================\n",
      "Training until validation scores don't improve for 30 rounds\n",
      "[100]\ttraining's multi_logloss: 0.646021\tvalid_1's multi_logloss: 0.764365\n",
      "[200]\ttraining's multi_logloss: 0.560632\tvalid_1's multi_logloss: 0.751211\n",
      "[300]\ttraining's multi_logloss: 0.497513\tvalid_1's multi_logloss: 0.748437\n",
      "Early stopping, best iteration is:\n",
      "[330]\ttraining's multi_logloss: 0.480923\tvalid_1's multi_logloss: 0.747248\n",
      "================================================================================\n",
      "\n",
      "\n",
      "====================================3============================================\n",
      "Training until validation scores don't improve for 30 rounds\n",
      "[100]\ttraining's multi_logloss: 0.650293\tvalid_1's multi_logloss: 0.758441\n",
      "[200]\ttraining's multi_logloss: 0.562092\tvalid_1's multi_logloss: 0.744718\n",
      "[300]\ttraining's multi_logloss: 0.497577\tvalid_1's multi_logloss: 0.742915\n",
      "Early stopping, best iteration is:\n",
      "[300]\ttraining's multi_logloss: 0.497577\tvalid_1's multi_logloss: 0.742915\n",
      "================================================================================\n",
      "\n",
      "\n",
      "====================================4============================================\n",
      "Training until validation scores don't improve for 30 rounds\n",
      "[100]\ttraining's multi_logloss: 0.648708\tvalid_1's multi_logloss: 0.755516\n",
      "[200]\ttraining's multi_logloss: 0.562289\tvalid_1's multi_logloss: 0.7392\n",
      "Early stopping, best iteration is:\n",
      "[256]\ttraining's multi_logloss: 0.525232\tvalid_1's multi_logloss: 0.735804\n",
      "================================================================================\n",
      "\n",
      "\n",
      "====================================5============================================\n",
      "Training until validation scores don't improve for 30 rounds\n",
      "[100]\ttraining's multi_logloss: 0.651188\tvalid_1's multi_logloss: 0.755545\n",
      "[200]\ttraining's multi_logloss: 0.565233\tvalid_1's multi_logloss: 0.741463\n",
      "[300]\ttraining's multi_logloss: 0.500595\tvalid_1's multi_logloss: 0.736306\n",
      "Early stopping, best iteration is:\n",
      "[289]\ttraining's multi_logloss: 0.50667\tvalid_1's multi_logloss: 0.735767\n",
      "================================================================================\n",
      "\n",
      "\n"
     ]
    }
   ],
   "source": [
    "skf = StratifiedKFold(n_splits=5, shuffle=True, random_state=42)\n",
    "folds=[]\n",
    "for train_idx, valid_idx in skf.split(train, train['credit']):\n",
    "    folds.append((train_idx, valid_idx))\n",
    "random.seed(42)\n",
    "lgb_models={}\n",
    "for fold in range(5):\n",
    "    print(f'===================================={fold+1}============================================')\n",
    "    train_idx, valid_idx = folds[fold]\n",
    "    X_train, X_valid, y_train, y_valid = train.drop(['income_total','credit'],axis=1).iloc[train_idx].values, train.drop(['income_total','credit'],axis=1).iloc[valid_idx].values,\\\n",
    "                                         train['credit'][train_idx].values, train['credit'][valid_idx].values \n",
    "    lgb = LGBMClassifier(n_estimators=1000)\n",
    "    lgb.fit(X_train, y_train, \n",
    "            eval_set=[(X_train, y_train), (X_valid, y_valid)], \n",
    "            early_stopping_rounds=30,\n",
    "           verbose=100)\n",
    "    lgb_models[fold]=lgb\n",
    "    print(f'================================================================================\\n\\n')"
   ]
  },
  {
   "cell_type": "code",
   "execution_count": 36,
   "metadata": {
    "ExecuteTime": {
     "end_time": "2021-05-09T09:16:25.308688Z",
     "start_time": "2021-05-09T09:16:25.301714Z"
    }
   },
   "outputs": [
    {
     "data": {
      "text/plain": [
       "0.7386307999999999"
      ]
     },
     "execution_count": 36,
     "metadata": {},
     "output_type": "execute_result"
    }
   ],
   "source": [
    "sum([0.73142, 0.747248,0.742915, 0.735804, 0.735767])/5"
   ]
  },
  {
   "cell_type": "markdown",
   "metadata": {},
   "source": [
    "# Test inference\n",
    "- 각 fold를 훈련시킨 lightgbm model로 predict.\n",
    "- 해당 대회는 logloss score를 겨루는 것이기 때문에 각 class의 probability를 얻어야함.\n",
    "- 대부분의 머신러닝 모델에서 predict, predict_proba를 구분하여 사용함.\n",
    "- predict는 class 출력을 해주고 predict_proba는 class별 probability를 출력해줌.\n",
    "- predict_proba를 사용하여 예측한 것을 5-fold 더하여 평균내어 앙상블."
   ]
  },
  {
   "cell_type": "code",
   "execution_count": 10,
   "metadata": {
    "ExecuteTime": {
     "end_time": "2021-04-05T07:28:24.561816Z",
     "start_time": "2021-04-05T07:28:24.387286Z"
    },
    "run_control": {
     "marked": true
    }
   },
   "outputs": [],
   "source": [
    "ss.iloc[:,1:]=0\n",
    "for fold in range(5):\n",
    "    ss.iloc[:,1:] += lgb_models[fold].predict_proba(test)/5"
   ]
  },
  {
   "cell_type": "code",
   "execution_count": 33,
   "metadata": {
    "ExecuteTime": {
     "end_time": "2021-05-09T09:15:12.893920Z",
     "start_time": "2021-05-09T09:14:20.953225Z"
    }
   },
   "outputs": [
    {
     "name": "stdout",
     "output_type": "stream",
     "text": [
      "0.7049552192409335\n"
     ]
    }
   ],
   "source": [
    "# log_income을 사용했을 때의 점수\n",
    "from sklearn.model_selection import cross_val_score\n",
    "\n",
    "print(cross_val_score(lgb_models[0], train.drop(['income_total','credit'],axis=1), train['credit'], cv=skf).mean())"
   ]
  },
  {
   "cell_type": "code",
   "execution_count": 12,
   "metadata": {
    "ExecuteTime": {
     "end_time": "2021-04-05T07:28:24.598886Z",
     "start_time": "2021-04-05T07:28:24.563499Z"
    }
   },
   "outputs": [],
   "source": [
    "ss.to_csv('add_BS.csv', index=False) # 0.7272812144"
   ]
  },
  {
   "cell_type": "code",
   "execution_count": 34,
   "metadata": {
    "ExecuteTime": {
     "end_time": "2021-05-09T09:15:12.947294Z",
     "start_time": "2021-05-09T09:15:12.897908Z"
    }
   },
   "outputs": [],
   "source": [
    "skf = StratifiedKFold(n_splits=5, shuffle=True, random_state=42)\n",
    "folds=[]\n",
    "for train_idx, valid_idx in skf.split(train.drop('log_income',1), train['credit']):\n",
    "    folds.append((train_idx, valid_idx))"
   ]
  },
  {
   "cell_type": "code",
   "execution_count": 35,
   "metadata": {
    "ExecuteTime": {
     "end_time": "2021-05-09T09:16:00.132779Z",
     "start_time": "2021-05-09T09:15:12.959263Z"
    }
   },
   "outputs": [
    {
     "name": "stdout",
     "output_type": "stream",
     "text": [
      "====================================1============================================\n",
      "Training until validation scores don't improve for 30 rounds\n",
      "[100]\ttraining's multi_logloss: 0.649825\tvalid_1's multi_logloss: 0.754342\n",
      "[200]\ttraining's multi_logloss: 0.565196\tvalid_1's multi_logloss: 0.738368\n",
      "[300]\ttraining's multi_logloss: 0.503465\tvalid_1's multi_logloss: 0.731678\n",
      "Early stopping, best iteration is:\n",
      "[307]\ttraining's multi_logloss: 0.499573\tvalid_1's multi_logloss: 0.731416\n",
      "================================================================================\n",
      "\n",
      "\n",
      "====================================2============================================\n",
      "Training until validation scores don't improve for 30 rounds\n",
      "[100]\ttraining's multi_logloss: 0.646021\tvalid_1's multi_logloss: 0.764365\n",
      "[200]\ttraining's multi_logloss: 0.560632\tvalid_1's multi_logloss: 0.751211\n",
      "[300]\ttraining's multi_logloss: 0.497513\tvalid_1's multi_logloss: 0.748437\n",
      "Early stopping, best iteration is:\n",
      "[330]\ttraining's multi_logloss: 0.480923\tvalid_1's multi_logloss: 0.747248\n",
      "================================================================================\n",
      "\n",
      "\n",
      "====================================3============================================\n",
      "Training until validation scores don't improve for 30 rounds\n",
      "[100]\ttraining's multi_logloss: 0.650293\tvalid_1's multi_logloss: 0.758441\n",
      "[200]\ttraining's multi_logloss: 0.562092\tvalid_1's multi_logloss: 0.744718\n",
      "[300]\ttraining's multi_logloss: 0.497577\tvalid_1's multi_logloss: 0.742915\n",
      "Early stopping, best iteration is:\n",
      "[300]\ttraining's multi_logloss: 0.497577\tvalid_1's multi_logloss: 0.742915\n",
      "================================================================================\n",
      "\n",
      "\n",
      "====================================4============================================\n",
      "Training until validation scores don't improve for 30 rounds\n",
      "[100]\ttraining's multi_logloss: 0.648708\tvalid_1's multi_logloss: 0.755516\n",
      "[200]\ttraining's multi_logloss: 0.562289\tvalid_1's multi_logloss: 0.7392\n",
      "Early stopping, best iteration is:\n",
      "[256]\ttraining's multi_logloss: 0.525232\tvalid_1's multi_logloss: 0.735804\n",
      "================================================================================\n",
      "\n",
      "\n",
      "====================================5============================================\n",
      "Training until validation scores don't improve for 30 rounds\n",
      "[100]\ttraining's multi_logloss: 0.651188\tvalid_1's multi_logloss: 0.755536\n",
      "[200]\ttraining's multi_logloss: 0.565233\tvalid_1's multi_logloss: 0.741456\n",
      "[300]\ttraining's multi_logloss: 0.500595\tvalid_1's multi_logloss: 0.736311\n",
      "Early stopping, best iteration is:\n",
      "[289]\ttraining's multi_logloss: 0.50667\tvalid_1's multi_logloss: 0.735772\n",
      "================================================================================\n",
      "\n",
      "\n"
     ]
    }
   ],
   "source": [
    "random.seed(42)\n",
    "lgb_models={}\n",
    "for fold in range(5):\n",
    "    print(f'===================================={fold+1}============================================')\n",
    "    train_idx, valid_idx = folds[fold]\n",
    "    X_train, X_valid, y_train, y_valid = train.drop(['log_income','credit'],axis=1).iloc[train_idx].values, train.drop(['log_income','credit'],axis=1).iloc[valid_idx].values,\\\n",
    "                                         train['credit'][train_idx].values, train['credit'][valid_idx].values \n",
    "    lgb = LGBMClassifier(n_estimators=1000)\n",
    "    lgb.fit(X_train, y_train, \n",
    "            eval_set=[(X_train, y_train), (X_valid, y_valid)], \n",
    "            early_stopping_rounds=30,\n",
    "           verbose=100)\n",
    "    lgb_models[fold]=lgb\n",
    "    print(f'================================================================================\\n\\n')"
   ]
  },
  {
   "cell_type": "code",
   "execution_count": 38,
   "metadata": {
    "ExecuteTime": {
     "end_time": "2021-05-09T09:17:28.225778Z",
     "start_time": "2021-05-09T09:17:28.216841Z"
    }
   },
   "outputs": [
    {
     "data": {
      "text/plain": [
       "0.7386309999999999"
      ]
     },
     "execution_count": 38,
     "metadata": {},
     "output_type": "execute_result"
    }
   ],
   "source": [
    "sum([0.735772, 0.735804, 0.742915, 0.747248, 0.731416])/5"
   ]
  },
  {
   "cell_type": "code",
   "execution_count": 37,
   "metadata": {
    "ExecuteTime": {
     "end_time": "2021-05-09T09:17:27.288260Z",
     "start_time": "2021-05-09T09:16:32.187781Z"
    }
   },
   "outputs": [
    {
     "name": "stdout",
     "output_type": "stream",
     "text": [
      "0.7049552192409335\n"
     ]
    }
   ],
   "source": [
    "# log_income을 사용하지 않았을 때의 점수\n",
    "from sklearn.model_selection import cross_val_score\n",
    "print(cross_val_score(lgb_models[0], train.drop(['income_total','credit'],axis=1), train['credit'], cv=skf).mean())"
   ]
  },
  {
   "cell_type": "code",
   "execution_count": 39,
   "metadata": {
    "ExecuteTime": {
     "end_time": "2021-05-09T09:19:37.581643Z",
     "start_time": "2021-05-09T09:19:37.452839Z"
    }
   },
   "outputs": [
    {
     "data": {
      "text/html": [
       "<div>\n",
       "<style scoped>\n",
       "    .dataframe tbody tr th:only-of-type {\n",
       "        vertical-align: middle;\n",
       "    }\n",
       "\n",
       "    .dataframe tbody tr th {\n",
       "        vertical-align: top;\n",
       "    }\n",
       "\n",
       "    .dataframe thead th {\n",
       "        text-align: right;\n",
       "    }\n",
       "</style>\n",
       "<table border=\"1\" class=\"dataframe\">\n",
       "  <thead>\n",
       "    <tr style=\"text-align: right;\">\n",
       "      <th></th>\n",
       "      <th>status</th>\n",
       "      <th>self</th>\n",
       "      <th>cv</th>\n",
       "    </tr>\n",
       "  </thead>\n",
       "  <tbody>\n",
       "    <tr>\n",
       "      <th>0</th>\n",
       "      <td>no_log</td>\n",
       "      <td>0.738631</td>\n",
       "      <td>0.704955</td>\n",
       "    </tr>\n",
       "    <tr>\n",
       "      <th>1</th>\n",
       "      <td>yes_log</td>\n",
       "      <td>0.738631</td>\n",
       "      <td>0.704955</td>\n",
       "    </tr>\n",
       "  </tbody>\n",
       "</table>\n",
       "</div>"
      ],
      "text/plain": [
       "    status      self        cv\n",
       "0   no_log  0.738631  0.704955\n",
       "1  yes_log  0.738631  0.704955"
      ]
     },
     "execution_count": 39,
     "metadata": {},
     "output_type": "execute_result"
    }
   ],
   "source": [
    "pd.DataFrame([['no_log', 0.7386309999999999, 0.7049552192409335],['yes_log', 0.7386307999999999,0.7049552192409335]],columns=['status','self','cv'])"
   ]
  },
  {
   "cell_type": "code",
   "execution_count": null,
   "metadata": {},
   "outputs": [],
   "source": []
  }
 ],
 "metadata": {
  "kernelspec": {
   "display_name": "Python 3",
   "language": "python",
   "name": "python3"
  },
  "language_info": {
   "codemirror_mode": {
    "name": "ipython",
    "version": 3
   },
   "file_extension": ".py",
   "mimetype": "text/x-python",
   "name": "python",
   "nbconvert_exporter": "python",
   "pygments_lexer": "ipython3",
   "version": "3.7.6"
  },
  "toc": {
   "base_numbering": 1,
   "nav_menu": {},
   "number_sections": true,
   "sideBar": true,
   "skip_h1_title": false,
   "title_cell": "Table of Contents",
   "title_sidebar": "Contents",
   "toc_cell": false,
   "toc_position": {},
   "toc_section_display": true,
   "toc_window_display": false
  },
  "varInspector": {
   "cols": {
    "lenName": 16,
    "lenType": 16,
    "lenVar": 40
   },
   "kernels_config": {
    "python": {
     "delete_cmd_postfix": "",
     "delete_cmd_prefix": "del ",
     "library": "var_list.py",
     "varRefreshCmd": "print(var_dic_list())"
    },
    "r": {
     "delete_cmd_postfix": ") ",
     "delete_cmd_prefix": "rm(",
     "library": "var_list.r",
     "varRefreshCmd": "cat(var_dic_list()) "
    }
   },
   "types_to_exclude": [
    "module",
    "function",
    "builtin_function_or_method",
    "instance",
    "_Feature"
   ],
   "window_display": false
  }
 },
 "nbformat": 4,
 "nbformat_minor": 5
}
