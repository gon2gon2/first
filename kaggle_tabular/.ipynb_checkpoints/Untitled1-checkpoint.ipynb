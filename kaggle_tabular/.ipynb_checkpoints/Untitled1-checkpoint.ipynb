{
 "cells": [
  {
   "cell_type": "code",
   "execution_count": 1,
   "id": "dynamic-recording",
   "metadata": {},
   "outputs": [],
   "source": [
    "import itertools\n",
    "import random\n",
    "import numpy as np"
   ]
  },
  {
   "cell_type": "code",
   "execution_count": 9,
   "id": "molecular-juvenile",
   "metadata": {},
   "outputs": [],
   "source": [
    "X = ['Apple','Banana','Tomato','Grape','Melon']\n",
    "Y = ['Dog','Cat','Rabbit','Cow','Tiger']"
   ]
  },
  {
   "cell_type": "code",
   "execution_count": 10,
   "id": "middle-utilization",
   "metadata": {},
   "outputs": [],
   "source": [
    "Space= list(itertools.product(X,Y))"
   ]
  },
  {
   "cell_type": "code",
   "execution_count": 11,
   "id": "organized-laugh",
   "metadata": {},
   "outputs": [],
   "source": [
    "p1 = [0.5,0.1,0.1,0.2,0.1]\n",
    "p2 = [0.9,0.02,0.02,0.02,0.04]"
   ]
  },
  {
   "cell_type": "code",
   "execution_count": 13,
   "id": "sustainable-prophet",
   "metadata": {},
   "outputs": [
    {
     "name": "stdout",
     "output_type": "stream",
     "text": [
      "0.10000000000000002\n"
     ]
    }
   ],
   "source": [
    "q = []\n",
    "value = []\n",
    "for i in range(len(Space)):\n",
    "    q.append(list(itertools.product(p1,p2))[i][0]\n",
    "            *list(itertools.product(p1,p2))[i][1])\n",
    "for i in range(len(Space)):\n",
    "    if(Space[i][0] == 'Tomato'):\n",
    "        value.append(q[i])\n",
    "print(np.sum(value))"
   ]
  },
  {
   "cell_type": "code",
   "execution_count": 17,
   "id": "under-fleet",
   "metadata": {},
   "outputs": [
    {
     "data": {
      "text/plain": [
       "[(0.5, 0.9),\n",
       " (0.5, 0.02),\n",
       " (0.5, 0.02),\n",
       " (0.5, 0.02),\n",
       " (0.5, 0.04),\n",
       " (0.1, 0.9),\n",
       " (0.1, 0.02),\n",
       " (0.1, 0.02),\n",
       " (0.1, 0.02),\n",
       " (0.1, 0.04),\n",
       " (0.1, 0.9),\n",
       " (0.1, 0.02),\n",
       " (0.1, 0.02),\n",
       " (0.1, 0.02),\n",
       " (0.1, 0.04),\n",
       " (0.2, 0.9),\n",
       " (0.2, 0.02),\n",
       " (0.2, 0.02),\n",
       " (0.2, 0.02),\n",
       " (0.2, 0.04),\n",
       " (0.1, 0.9),\n",
       " (0.1, 0.02),\n",
       " (0.1, 0.02),\n",
       " (0.1, 0.02),\n",
       " (0.1, 0.04)]"
      ]
     },
     "execution_count": 17,
     "metadata": {},
     "output_type": "execute_result"
    }
   ],
   "source": [
    "list(itertools.product(p1,p2))"
   ]
  },
  {
   "cell_type": "code",
   "execution_count": null,
   "id": "ahead-thing",
   "metadata": {},
   "outputs": [],
   "source": []
  },
  {
   "cell_type": "code",
   "execution_count": null,
   "id": "gorgeous-coating",
   "metadata": {},
   "outputs": [],
   "source": []
  },
  {
   "cell_type": "code",
   "execution_count": null,
   "id": "fantastic-establishment",
   "metadata": {},
   "outputs": [],
   "source": []
  },
  {
   "cell_type": "code",
   "execution_count": 29,
   "id": "labeled-format",
   "metadata": {},
   "outputs": [],
   "source": [
    "X = ['Soccer','Basketball','Baseball']\n",
    "Y = ['Mathmatics','English']\n",
    "Z = ['Bus','Subway','Taxi']\n",
    "\n",
    "p_X = [0.4,0.4,0.2]\n",
    "p_Y = [0.8,0.2]\n",
    "p_Z = [0.3,0.5,0.2]"
   ]
  },
  {
   "cell_type": "code",
   "execution_count": 30,
   "id": "inclusive-ministry",
   "metadata": {},
   "outputs": [],
   "source": [
    "space = list(itertools.product(X,Y,Z))"
   ]
  },
  {
   "cell_type": "code",
   "execution_count": 31,
   "id": "pending-edwards",
   "metadata": {},
   "outputs": [],
   "source": [
    "q = []\n",
    "value = []\n",
    "for i in range(len(space)):\n",
    "    q.append(list(itertools.product(p_X, p_Y, p_Z))[i][0]\n",
    "    * list(itertools.product(p_X, p_Y, p_Z))[i][1]\n",
    "    * list(itertools.product(p_X, p_Y, p_Z))[i][2])\n",
    "for i in range(len(space)):\n",
    "    if space[i][0]=='Basketball' and space[i][1]=='Mathmatics':\n",
    "        value.append(q[i])"
   ]
  },
  {
   "cell_type": "code",
   "execution_count": 33,
   "id": "opposed-stuff",
   "metadata": {},
   "outputs": [
    {
     "data": {
      "text/plain": [
       "0.32000000000000006"
      ]
     },
     "execution_count": 33,
     "metadata": {},
     "output_type": "execute_result"
    }
   ],
   "source": [
    "sum(value)"
   ]
  }
 ],
 "metadata": {
  "kernelspec": {
   "display_name": "Python 3",
   "language": "python",
   "name": "python3"
  },
  "language_info": {
   "codemirror_mode": {
    "name": "ipython",
    "version": 3
   },
   "file_extension": ".py",
   "mimetype": "text/x-python",
   "name": "python",
   "nbconvert_exporter": "python",
   "pygments_lexer": "ipython3",
   "version": "3.7.6"
  }
 },
 "nbformat": 4,
 "nbformat_minor": 5
}
