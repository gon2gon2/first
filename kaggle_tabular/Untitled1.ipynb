{
 "cells": [
  {
   "cell_type": "code",
   "execution_count": 1,
   "id": "genuine-drove",
   "metadata": {},
   "outputs": [],
   "source": [
    "import itertools\n",
    "import random\n",
    "import numpy as np"
   ]
  },
  {
   "cell_type": "code",
   "execution_count": 9,
   "id": "joined-receipt",
   "metadata": {},
   "outputs": [],
   "source": [
    "X = ['Apple','Banana','Tomato','Grape','Melon']\n",
    "Y = ['Dog','Cat','Rabbit','Cow','Tiger']"
   ]
  },
  {
   "cell_type": "code",
   "execution_count": 10,
   "id": "portuguese-float",
   "metadata": {},
   "outputs": [],
   "source": [
    "Space= list(itertools.product(X,Y))"
   ]
  },
  {
   "cell_type": "code",
   "execution_count": 11,
   "id": "thousand-desire",
   "metadata": {},
   "outputs": [],
   "source": [
    "p1 = [0.5,0.1,0.1,0.2,0.1]\n",
    "p2 = [0.9,0.02,0.02,0.02,0.04]"
   ]
  },
  {
   "cell_type": "code",
   "execution_count": 13,
   "id": "noticed-slovakia",
   "metadata": {},
   "outputs": [
    {
     "name": "stdout",
     "output_type": "stream",
     "text": [
      "0.10000000000000002\n"
     ]
    }
   ],
   "source": [
    "q = []\n",
    "value = []\n",
    "for i in range(len(Space)):\n",
    "    q.append(list(itertools.product(p1,p2))[i][0]\n",
    "            *list(itertools.product(p1,p2))[i][1])\n",
    "for i in range(len(Space)):\n",
    "    if(Space[i][0] == 'Tomato'):\n",
    "        value.append(q[i])\n",
    "print(np.sum(value))"
   ]
  },
  {
   "cell_type": "code",
   "execution_count": 17,
   "id": "missing-citizenship",
   "metadata": {},
   "outputs": [
    {
     "data": {
      "text/plain": [
       "[(0.5, 0.9),\n",
       " (0.5, 0.02),\n",
       " (0.5, 0.02),\n",
       " (0.5, 0.02),\n",
       " (0.5, 0.04),\n",
       " (0.1, 0.9),\n",
       " (0.1, 0.02),\n",
       " (0.1, 0.02),\n",
       " (0.1, 0.02),\n",
       " (0.1, 0.04),\n",
       " (0.1, 0.9),\n",
       " (0.1, 0.02),\n",
       " (0.1, 0.02),\n",
       " (0.1, 0.02),\n",
       " (0.1, 0.04),\n",
       " (0.2, 0.9),\n",
       " (0.2, 0.02),\n",
       " (0.2, 0.02),\n",
       " (0.2, 0.02),\n",
       " (0.2, 0.04),\n",
       " (0.1, 0.9),\n",
       " (0.1, 0.02),\n",
       " (0.1, 0.02),\n",
       " (0.1, 0.02),\n",
       " (0.1, 0.04)]"
      ]
     },
     "execution_count": 17,
     "metadata": {},
     "output_type": "execute_result"
    }
   ],
   "source": [
    "list(itertools.product(p1,p2))"
   ]
  },
  {
   "cell_type": "code",
   "execution_count": null,
   "id": "respective-mauritius",
   "metadata": {},
   "outputs": [],
   "source": []
  },
  {
   "cell_type": "code",
   "execution_count": null,
   "id": "royal-drilling",
   "metadata": {},
   "outputs": [],
   "source": []
  },
  {
   "cell_type": "code",
   "execution_count": null,
   "id": "searching-geology",
   "metadata": {},
   "outputs": [],
   "source": []
  },
  {
   "cell_type": "code",
   "execution_count": 29,
   "id": "unsigned-detroit",
   "metadata": {},
   "outputs": [],
   "source": [
    "X = ['Soccer','Basketball','Baseball']\n",
    "Y = ['Mathmatics','English']\n",
    "Z = ['Bus','Subway','Taxi']\n",
    "\n",
    "p_X = [0.4,0.4,0.2]\n",
    "p_Y = [0.8,0.2]\n",
    "p_Z = [0.3,0.5,0.2]"
   ]
  },
  {
   "cell_type": "code",
   "execution_count": 30,
   "id": "breathing-dollar",
   "metadata": {},
   "outputs": [],
   "source": [
    "space = list(itertools.product(X,Y,Z))"
   ]
  },
  {
   "cell_type": "code",
   "execution_count": 31,
   "id": "junior-registration",
   "metadata": {},
   "outputs": [],
   "source": [
    "q = []\n",
    "value = []\n",
    "for i in range(len(space)):\n",
    "    q.append(list(itertools.product(p_X, p_Y, p_Z))[i][0]\n",
    "    * list(itertools.product(p_X, p_Y, p_Z))[i][1]\n",
    "    * list(itertools.product(p_X, p_Y, p_Z))[i][2])\n",
    "for i in range(len(space)):\n",
    "    if space[i][0]=='Basketball' and space[i][1]=='Mathmatics':\n",
    "        value.append(q[i])"
   ]
  },
  {
   "cell_type": "code",
   "execution_count": 33,
   "id": "thrown-industry",
   "metadata": {},
   "outputs": [
    {
     "data": {
      "text/plain": [
       "0.32000000000000006"
      ]
     },
     "execution_count": 33,
     "metadata": {},
     "output_type": "execute_result"
    }
   ],
   "source": [
    "sum(value)"
   ]
  },
  {
   "cell_type": "code",
   "execution_count": 34,
   "id": "supposed-hello",
   "metadata": {},
   "outputs": [
    {
     "data": {
      "text/plain": [
       "5864443200"
      ]
     },
     "execution_count": 34,
     "metadata": {},
     "output_type": "execute_result"
    }
   ],
   "source": [
    "45 * 44 * 43 * 42 * 41 * 40"
   ]
  }
 ],
 "metadata": {
  "kernelspec": {
   "display_name": "Python 3",
   "language": "python",
   "name": "python3"
  },
  "language_info": {
   "codemirror_mode": {
    "name": "ipython",
    "version": 3
   },
   "file_extension": ".py",
   "mimetype": "text/x-python",
   "name": "python",
   "nbconvert_exporter": "python",
   "pygments_lexer": "ipython3",
   "version": "3.7.6"
  }
 },
 "nbformat": 4,
 "nbformat_minor": 5
}
