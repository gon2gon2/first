{
 "cells": [
  {
   "cell_type": "markdown",
   "metadata": {},
   "source": [
    "\n",
    "### 병원, 시설 정보\n",
    "- *OC – 영업/폐업 분류, 2018년 폐업은 2017년 폐업으로 간주함*\n",
    "- inst_id - 각 파일에서의 병원 고유 번호\n",
    "- sido – 병원의 광역 지역 정보\n",
    "- sgg – 병원의 시군구 자료\n",
    "- openDate – 병원 설립일\n",
    "- bedCount - 병원이 갖추고 있는 병상의 수\n",
    "- instkind – 병원, 의원, 요양병원, 한의원, 종합병원 등 병원의 종류\n",
    "    - 종합병원 : 입원환자 100명 이상 수용 가능\n",
    "    - 병원 : 입원 환자 30명 이상 100명 미만 수용 가능\n",
    "    - 의원 : 입원 환자 30명 이하 수용 가능\n",
    "    - 한방 병원(한의원) : 침술과 한약으로 치료하는 의료 기관.\n",
    "- ownerChange – 대표자의 변동 \n",
    "\n",
    "### 2017년 데이터\n",
    "\n",
    "- revenue1 – 매출액, 2017(회계년도)년 데이터를 의미함\n",
    "- salescost1 – 매출원가, 2017(회계년도)년 데이터를 의미함\n",
    "- sga1 - 판매비와 관리비, 2017(회계년도)년 데이터를 의미함\n",
    "- salary1 – 급여, 2017(회계년도)년 데이터를 의미함\n",
    "- noi1 – 영업외수익, 2017(회계년도)년 데이터를 의미함\n",
    "- noe1 – 영업외비용, 2017(회계년도)년 데이터를 의미함\n",
    "- Interest1 – 이자비용, 2017(회계년도)년 데이터를 의미함\n",
    "- ctax1 – 법인세비용, 2017(회계년도)년 데이터를 의미함\n",
    "- Profit1 – 당기순이익, 2017(회계년도)년 데이터를 의미함\n",
    "- liquidAsset1 – 유동자산, 2017(회계년도)년 데이터를 의미함\n",
    "- quickAsset1 – 당좌자산, 2017(회계년도)년 데이터를 의미함\n",
    "- receivableS1 - 미수금(단기), 2017(회계년도)년 데이터를 의미함\n",
    "- inventoryAsset1 – 재고자산, 2017(회계년도)년 데이터를 의미함\n",
    "- nonCAsset1 – 비유동자산, 2017(회계년도)년 데이터를 의미함\n",
    "- tanAsset1 – 유형자산, 2017(회계년도)년 데이터를 의미함\n",
    "- OnonCAsset1 - 기타 비유동자산, 2017(회계년도)년 데이터를 의미함\n",
    "- receivableL1 – 장기미수금, 2017(회계년도)년 데이터를 의미함\n",
    "- debt1 – 부채총계, 2017(회계년도)년 데이터를 의미함\n",
    "- liquidLiabilities1 – 유동부채, 2017(회계년도)년 데이터를 의미함\n",
    "- shortLoan1 – 단기차입금, 2017(회계년도)년 데이터를 의미함\n",
    "- NCLiabilities1 – 비유동부채, 2017(회계년도)년 데이터를 의미함\n",
    "- longLoan1 – 장기차입금, 2017(회계년도)년 데이터를 의미함\n",
    "- netAsset1 – 순자산총계, 2017(회계년도)년 데이터를 의미함\n",
    "- surplus1 – 이익잉여금, 2017(회계년도)년 데이터를 의미함\n",
    "- employee1 – 고용한 총 직원의 수, 2017(회계년도)년 데이터를 의미함\n",
    "\n",
    "### 2016년 데이터\n",
    "\n",
    "- revenue2 – 매출액, 2016(회계년도)년 데이터를 의미함\n",
    "- salescost2 – 매출원가, 2016(회계년도)년 데이터를 의미함\n",
    "- sga2 - 판매비와 관리비, 2016(회계년도)년 데이터를 의미함\n",
    "- salary2 – 급여, 2016(회계년도)년 데이터를 의미함\n",
    "- noi2 – 영업외수익, 2016(회계년도)년 데이터를 의미함\n",
    "- noe2 – 영업외비용, 2016(회계년도)년 데이터를 의미함\n",
    "- interest2 – 이자비용, 2016(회계년도)년 데이터를 의미함\n",
    "- ctax2 – 법인세비용, 2016(회계년도)년 데이터를 의미함\n",
    "- profit2 – 당기순이익, 2016(회계년도)년 데이터를 의미함\n",
    "- liquidAsset2 – 유동자산, 2016(회계년도)년 데이터를 의미함\n",
    "- quickAsset2 – 당좌자산, 2016(회계년도)년 데이터를 의미함\n",
    "- receivableS2 - 미수금(단기), 2016(회계년도)년 데이터를 의미함\n",
    "- inventoryAsset2 – 재고자산, 2016(회계년도)년 데이터를 의미함\n",
    "- nonCAsset2 – 비유동자산, 2016(회계년도)년 데이터를 의미함\n",
    "- tanAsset2 – 유형자산, 2016(회계년도)년 데이터를 의미함\n",
    "- OnonCAsset2 - 기타 비유동자산, 2016(회계년도)년 데이터를 의미함\n",
    "- receivableL2 – 장기미수금, 2016(회계년도)년 데이터를 의미함\n",
    "- Debt2 – 부채총계, 2016(회계년도)년 데이터를 의미함\n",
    "- liquidLiabilities2 – 유동부채, 2016(회계년도)년 데이터를 의미함\n",
    "- shortLoan2 – 단기차입금, 2016(회계년도)년 데이터를 의미함\n",
    "- NCLiabilities2 – 비유동부채, 2016(회계년도)년 데이터를 의미함\n",
    "- longLoan2 – 장기차입금, 2016(회계년도)년 데이터를 의미함\n",
    "- netAsset2 – 순자산총계, 2016(회계년도)년 데이터를 의미함\n",
    "- surplus2 – 이익잉여금, 2016(회계년도)년 데이터를 의미함\n",
    "- employee2 – 고용한 총 직원의 수, 2016(회계년도)년 데이터를 의미함"
   ]
  },
  {
   "cell_type": "code",
   "execution_count": 1,
   "metadata": {},
   "outputs": [
    {
     "name": "stderr",
     "output_type": "stream",
     "text": [
      "\n",
      "Bad key \"axes.titlelocation\" on line 10 in\n",
      "C:\\Users\\gon2gon2\\.matplotlib\\stylelib\\mystyle.mplstyle.\n",
      "You probably need to get an updated matplotlibrc file from\n",
      "https://github.com/matplotlib/matplotlib/blob/v3.1.3/matplotlibrc.template\n",
      "or from the matplotlib source distribution\n",
      "\n",
      "Bad key \"axes.titlecolor\" on line 13 in\n",
      "C:\\Users\\gon2gon2\\.matplotlib\\stylelib\\mystyle.mplstyle.\n",
      "You probably need to get an updated matplotlibrc file from\n",
      "https://github.com/matplotlib/matplotlib/blob/v3.1.3/matplotlibrc.template\n",
      "or from the matplotlib source distribution\n"
     ]
    }
   ],
   "source": [
    "import os\n",
    "import pandas as pd\n",
    "import numpy as np\n",
    "\n",
    "import missingno as msno\n",
    "import matplotlib.pyplot as plt\n",
    "import seaborn as sns\n",
    "\n",
    "import warnings\n",
    "warnings.filterwarnings('ignore')"
   ]
  },
  {
   "cell_type": "code",
   "execution_count": 2,
   "metadata": {},
   "outputs": [],
   "source": [
    "train = pd.read_csv('./data/train.csv')\n",
    "test = pd.read_csv('./data/test.csv')\n",
    "ss = pd.read_csv('./data/submission_sample.csv')"
   ]
  },
  {
   "cell_type": "code",
   "execution_count": 6,
   "metadata": {},
   "outputs": [
    {
     "data": {
      "text/plain": [
       "0       64.0\n",
       "1      813.0\n",
       "2        1.0\n",
       "3      663.0\n",
       "4      197.0\n",
       "       ...  \n",
       "296    141.0\n",
       "297     79.0\n",
       "298      NaN\n",
       "299      NaN\n",
       "300     15.0\n",
       "Name: employee2, Length: 301, dtype: float64"
      ]
     },
     "execution_count": 6,
     "metadata": {},
     "output_type": "execute_result"
    }
   ],
   "source": [
    "train['employee2']"
   ]
  },
  {
   "cell_type": "code",
   "execution_count": 7,
   "metadata": {},
   "outputs": [
    {
     "data": {
      "text/plain": [
       "0      693\n",
       "1      371\n",
       "2      NaN\n",
       "3      760\n",
       "4      385\n",
       "      ... \n",
       "122    NaN\n",
       "123    137\n",
       "124    NaN\n",
       "125    343\n",
       "126    NaN\n",
       "Name: employee2, Length: 127, dtype: object"
      ]
     },
     "execution_count": 7,
     "metadata": {},
     "output_type": "execute_result"
    }
   ],
   "source": [
    "test['employee2']"
   ]
  },
  {
   "cell_type": "code",
   "execution_count": 3,
   "metadata": {
    "scrolled": true
   },
   "outputs": [
    {
     "data": {
      "text/plain": [
       "0"
      ]
     },
     "execution_count": 3,
     "metadata": {},
     "output_type": "execute_result"
    }
   ],
   "source": [
    "# columns의 수가 같음\n",
    "len(train.columns) - len(test.columns)"
   ]
  },
  {
   "cell_type": "code",
   "execution_count": 4,
   "metadata": {},
   "outputs": [],
   "source": [
    "cols = train.columns"
   ]
  },
  {
   "cell_type": "code",
   "execution_count": 5,
   "metadata": {
    "scrolled": true
   },
   "outputs": [
    {
     "name": "stdout",
     "output_type": "stream",
     "text": [
      "Index(['inst_id', 'OC', 'sido', 'sgg', 'openDate', 'bedCount', 'instkind',\n",
      "       'revenue1', 'salescost1', 'sga1', 'salary1', 'noi1', 'noe1',\n",
      "       'interest1', 'ctax1', 'profit1', 'liquidAsset1', 'quickAsset1',\n",
      "       'receivableS1', 'inventoryAsset1', 'nonCAsset1', 'tanAsset1',\n",
      "       'OnonCAsset1', 'receivableL1', 'debt1', 'liquidLiabilities1',\n",
      "       'shortLoan1', 'NCLiabilities1', 'longLoan1', 'netAsset1', 'surplus1',\n",
      "       'revenue2', 'salescost2', 'sga2', 'salary2', 'noi2', 'noe2',\n",
      "       'interest2', 'ctax2', 'profit2', 'liquidAsset2', 'quickAsset2',\n",
      "       'receivableS2', 'inventoryAsset2', 'nonCAsset2', 'tanAsset2',\n",
      "       'OnonCAsset2', 'receivableL2', 'debt2', 'liquidLiabilities2',\n",
      "       'shortLoan2', 'NCLiabilities2', 'longLoan2', 'netAsset2', 'surplus2',\n",
      "       'employee1', 'employee2', 'ownerChange'],\n",
      "      dtype='object')\n"
     ]
    }
   ],
   "source": [
    "print(cols)"
   ]
  },
  {
   "cell_type": "code",
   "execution_count": 6,
   "metadata": {},
   "outputs": [],
   "source": [
    "sorted_cols = sorted(cols)"
   ]
  },
  {
   "cell_type": "code",
   "execution_count": 7,
   "metadata": {},
   "outputs": [
    {
     "name": "stdout",
     "output_type": "stream",
     "text": [
      "['NCLiabilities1', 'NCLiabilities2', 'OC', 'OnonCAsset1', 'OnonCAsset2', 'bedCount', 'ctax1', 'ctax2', 'debt1', 'debt2', 'employee1', 'employee2', 'inst_id', 'instkind', 'interest1', 'interest2', 'inventoryAsset1', 'inventoryAsset2', 'liquidAsset1', 'liquidAsset2', 'liquidLiabilities1', 'liquidLiabilities2', 'longLoan1', 'longLoan2', 'netAsset1', 'netAsset2', 'noe1', 'noe2', 'noi1', 'noi2', 'nonCAsset1', 'nonCAsset2', 'openDate', 'ownerChange', 'profit1', 'profit2', 'quickAsset1', 'quickAsset2', 'receivableL1', 'receivableL2', 'receivableS1', 'receivableS2', 'revenue1', 'revenue2', 'salary1', 'salary2', 'salescost1', 'salescost2', 'sga1', 'sga2', 'sgg', 'shortLoan1', 'shortLoan2', 'sido', 'surplus1', 'surplus2', 'tanAsset1', 'tanAsset2']\n"
     ]
    }
   ],
   "source": [
    "print(sorted_cols)"
   ]
  },
  {
   "cell_type": "code",
   "execution_count": 8,
   "metadata": {},
   "outputs": [
    {
     "data": {
      "text/html": [
       "<div>\n",
       "<style scoped>\n",
       "    .dataframe tbody tr th:only-of-type {\n",
       "        vertical-align: middle;\n",
       "    }\n",
       "\n",
       "    .dataframe tbody tr th {\n",
       "        vertical-align: top;\n",
       "    }\n",
       "\n",
       "    .dataframe thead th {\n",
       "        text-align: right;\n",
       "    }\n",
       "</style>\n",
       "<table border=\"1\" class=\"dataframe\">\n",
       "  <thead>\n",
       "    <tr style=\"text-align: right;\">\n",
       "      <th></th>\n",
       "      <th>inst_id</th>\n",
       "      <th>sgg</th>\n",
       "      <th>openDate</th>\n",
       "      <th>bedCount</th>\n",
       "      <th>revenue1</th>\n",
       "      <th>salescost1</th>\n",
       "      <th>sga1</th>\n",
       "      <th>salary1</th>\n",
       "      <th>noi1</th>\n",
       "      <th>noe1</th>\n",
       "      <th>...</th>\n",
       "      <th>receivableL2</th>\n",
       "      <th>debt2</th>\n",
       "      <th>liquidLiabilities2</th>\n",
       "      <th>shortLoan2</th>\n",
       "      <th>NCLiabilities2</th>\n",
       "      <th>longLoan2</th>\n",
       "      <th>netAsset2</th>\n",
       "      <th>surplus2</th>\n",
       "      <th>employee1</th>\n",
       "      <th>employee2</th>\n",
       "    </tr>\n",
       "  </thead>\n",
       "  <tbody>\n",
       "    <tr>\n",
       "      <th>count</th>\n",
       "      <td>301.000000</td>\n",
       "      <td>301.000000</td>\n",
       "      <td>3.010000e+02</td>\n",
       "      <td>296.000000</td>\n",
       "      <td>2.930000e+02</td>\n",
       "      <td>2.930000e+02</td>\n",
       "      <td>2.930000e+02</td>\n",
       "      <td>2.930000e+02</td>\n",
       "      <td>2.930000e+02</td>\n",
       "      <td>2.930000e+02</td>\n",
       "      <td>...</td>\n",
       "      <td>2.930000e+02</td>\n",
       "      <td>2.930000e+02</td>\n",
       "      <td>2.930000e+02</td>\n",
       "      <td>2.930000e+02</td>\n",
       "      <td>2.930000e+02</td>\n",
       "      <td>2.930000e+02</td>\n",
       "      <td>2.930000e+02</td>\n",
       "      <td>2.930000e+02</td>\n",
       "      <td>291.000000</td>\n",
       "      <td>288.000000</td>\n",
       "    </tr>\n",
       "    <tr>\n",
       "      <th>mean</th>\n",
       "      <td>219.056478</td>\n",
       "      <td>81.039867</td>\n",
       "      <td>2.005013e+07</td>\n",
       "      <td>145.709459</td>\n",
       "      <td>1.288175e+10</td>\n",
       "      <td>2.014903e+09</td>\n",
       "      <td>1.033244e+10</td>\n",
       "      <td>5.654115e+09</td>\n",
       "      <td>2.696151e+08</td>\n",
       "      <td>5.115870e+08</td>\n",
       "      <td>...</td>\n",
       "      <td>2.226700e+05</td>\n",
       "      <td>8.146026e+09</td>\n",
       "      <td>3.860584e+09</td>\n",
       "      <td>1.510050e+09</td>\n",
       "      <td>4.471247e+09</td>\n",
       "      <td>2.709979e+09</td>\n",
       "      <td>5.273919e+09</td>\n",
       "      <td>9.786279e+08</td>\n",
       "      <td>142.546392</td>\n",
       "      <td>134.326389</td>\n",
       "    </tr>\n",
       "    <tr>\n",
       "      <th>std</th>\n",
       "      <td>121.234869</td>\n",
       "      <td>50.969714</td>\n",
       "      <td>8.893815e+04</td>\n",
       "      <td>118.923890</td>\n",
       "      <td>2.043543e+10</td>\n",
       "      <td>7.460271e+09</td>\n",
       "      <td>1.493886e+10</td>\n",
       "      <td>8.083343e+09</td>\n",
       "      <td>8.023701e+08</td>\n",
       "      <td>1.060379e+09</td>\n",
       "      <td>...</td>\n",
       "      <td>3.811496e+06</td>\n",
       "      <td>1.255800e+10</td>\n",
       "      <td>6.797242e+09</td>\n",
       "      <td>2.953412e+09</td>\n",
       "      <td>7.659580e+09</td>\n",
       "      <td>4.564001e+09</td>\n",
       "      <td>1.081259e+10</td>\n",
       "      <td>4.688798e+09</td>\n",
       "      <td>160.191073</td>\n",
       "      <td>151.061786</td>\n",
       "    </tr>\n",
       "    <tr>\n",
       "      <th>min</th>\n",
       "      <td>1.000000</td>\n",
       "      <td>1.000000</td>\n",
       "      <td>1.978012e+07</td>\n",
       "      <td>0.000000</td>\n",
       "      <td>0.000000e+00</td>\n",
       "      <td>0.000000e+00</td>\n",
       "      <td>0.000000e+00</td>\n",
       "      <td>0.000000e+00</td>\n",
       "      <td>0.000000e+00</td>\n",
       "      <td>0.000000e+00</td>\n",
       "      <td>...</td>\n",
       "      <td>0.000000e+00</td>\n",
       "      <td>0.000000e+00</td>\n",
       "      <td>0.000000e+00</td>\n",
       "      <td>0.000000e+00</td>\n",
       "      <td>0.000000e+00</td>\n",
       "      <td>0.000000e+00</td>\n",
       "      <td>-2.014780e+10</td>\n",
       "      <td>-2.781507e+09</td>\n",
       "      <td>0.000000</td>\n",
       "      <td>0.000000</td>\n",
       "    </tr>\n",
       "    <tr>\n",
       "      <th>25%</th>\n",
       "      <td>112.000000</td>\n",
       "      <td>37.000000</td>\n",
       "      <td>2.001102e+07</td>\n",
       "      <td>52.750000</td>\n",
       "      <td>3.252112e+09</td>\n",
       "      <td>0.000000e+00</td>\n",
       "      <td>2.758201e+09</td>\n",
       "      <td>1.626053e+09</td>\n",
       "      <td>8.217133e+06</td>\n",
       "      <td>8.013395e+07</td>\n",
       "      <td>...</td>\n",
       "      <td>0.000000e+00</td>\n",
       "      <td>1.283220e+09</td>\n",
       "      <td>2.855741e+08</td>\n",
       "      <td>0.000000e+00</td>\n",
       "      <td>2.557878e+07</td>\n",
       "      <td>0.000000e+00</td>\n",
       "      <td>1.017573e+09</td>\n",
       "      <td>0.000000e+00</td>\n",
       "      <td>53.500000</td>\n",
       "      <td>53.750000</td>\n",
       "    </tr>\n",
       "    <tr>\n",
       "      <th>50%</th>\n",
       "      <td>230.000000</td>\n",
       "      <td>75.000000</td>\n",
       "      <td>2.007113e+07</td>\n",
       "      <td>136.500000</td>\n",
       "      <td>5.524218e+09</td>\n",
       "      <td>2.104105e+08</td>\n",
       "      <td>4.684074e+09</td>\n",
       "      <td>2.659892e+09</td>\n",
       "      <td>4.363764e+07</td>\n",
       "      <td>1.831965e+08</td>\n",
       "      <td>...</td>\n",
       "      <td>0.000000e+00</td>\n",
       "      <td>3.784553e+09</td>\n",
       "      <td>1.454050e+09</td>\n",
       "      <td>8.542549e+07</td>\n",
       "      <td>1.969747e+09</td>\n",
       "      <td>1.100000e+09</td>\n",
       "      <td>2.894970e+09</td>\n",
       "      <td>0.000000e+00</td>\n",
       "      <td>80.000000</td>\n",
       "      <td>79.000000</td>\n",
       "    </tr>\n",
       "    <tr>\n",
       "      <th>75%</th>\n",
       "      <td>321.000000</td>\n",
       "      <td>123.000000</td>\n",
       "      <td>2.011102e+07</td>\n",
       "      <td>193.000000</td>\n",
       "      <td>1.274839e+10</td>\n",
       "      <td>9.105278e+08</td>\n",
       "      <td>1.077876e+10</td>\n",
       "      <td>6.363400e+09</td>\n",
       "      <td>2.050331e+08</td>\n",
       "      <td>4.203330e+08</td>\n",
       "      <td>...</td>\n",
       "      <td>0.000000e+00</td>\n",
       "      <td>8.465053e+09</td>\n",
       "      <td>4.364714e+09</td>\n",
       "      <td>1.567967e+09</td>\n",
       "      <td>4.905441e+09</td>\n",
       "      <td>3.360000e+09</td>\n",
       "      <td>5.370285e+09</td>\n",
       "      <td>1.014447e+08</td>\n",
       "      <td>181.500000</td>\n",
       "      <td>170.000000</td>\n",
       "    </tr>\n",
       "    <tr>\n",
       "      <th>max</th>\n",
       "      <td>428.000000</td>\n",
       "      <td>178.000000</td>\n",
       "      <td>2.017061e+07</td>\n",
       "      <td>656.000000</td>\n",
       "      <td>1.510000e+11</td>\n",
       "      <td>9.850332e+10</td>\n",
       "      <td>1.030000e+11</td>\n",
       "      <td>6.403559e+10</td>\n",
       "      <td>9.144171e+09</td>\n",
       "      <td>8.686380e+09</td>\n",
       "      <td>...</td>\n",
       "      <td>6.524231e+07</td>\n",
       "      <td>8.508858e+10</td>\n",
       "      <td>6.846878e+10</td>\n",
       "      <td>1.759375e+10</td>\n",
       "      <td>5.150388e+10</td>\n",
       "      <td>3.256147e+10</td>\n",
       "      <td>1.250000e+11</td>\n",
       "      <td>6.852730e+10</td>\n",
       "      <td>1200.000000</td>\n",
       "      <td>1200.000000</td>\n",
       "    </tr>\n",
       "  </tbody>\n",
       "</table>\n",
       "<p>8 rows × 54 columns</p>\n",
       "</div>"
      ],
      "text/plain": [
       "          inst_id         sgg      openDate    bedCount      revenue1  \\\n",
       "count  301.000000  301.000000  3.010000e+02  296.000000  2.930000e+02   \n",
       "mean   219.056478   81.039867  2.005013e+07  145.709459  1.288175e+10   \n",
       "std    121.234869   50.969714  8.893815e+04  118.923890  2.043543e+10   \n",
       "min      1.000000    1.000000  1.978012e+07    0.000000  0.000000e+00   \n",
       "25%    112.000000   37.000000  2.001102e+07   52.750000  3.252112e+09   \n",
       "50%    230.000000   75.000000  2.007113e+07  136.500000  5.524218e+09   \n",
       "75%    321.000000  123.000000  2.011102e+07  193.000000  1.274839e+10   \n",
       "max    428.000000  178.000000  2.017061e+07  656.000000  1.510000e+11   \n",
       "\n",
       "         salescost1          sga1       salary1          noi1          noe1  \\\n",
       "count  2.930000e+02  2.930000e+02  2.930000e+02  2.930000e+02  2.930000e+02   \n",
       "mean   2.014903e+09  1.033244e+10  5.654115e+09  2.696151e+08  5.115870e+08   \n",
       "std    7.460271e+09  1.493886e+10  8.083343e+09  8.023701e+08  1.060379e+09   \n",
       "min    0.000000e+00  0.000000e+00  0.000000e+00  0.000000e+00  0.000000e+00   \n",
       "25%    0.000000e+00  2.758201e+09  1.626053e+09  8.217133e+06  8.013395e+07   \n",
       "50%    2.104105e+08  4.684074e+09  2.659892e+09  4.363764e+07  1.831965e+08   \n",
       "75%    9.105278e+08  1.077876e+10  6.363400e+09  2.050331e+08  4.203330e+08   \n",
       "max    9.850332e+10  1.030000e+11  6.403559e+10  9.144171e+09  8.686380e+09   \n",
       "\n",
       "       ...  receivableL2         debt2  liquidLiabilities2    shortLoan2  \\\n",
       "count  ...  2.930000e+02  2.930000e+02        2.930000e+02  2.930000e+02   \n",
       "mean   ...  2.226700e+05  8.146026e+09        3.860584e+09  1.510050e+09   \n",
       "std    ...  3.811496e+06  1.255800e+10        6.797242e+09  2.953412e+09   \n",
       "min    ...  0.000000e+00  0.000000e+00        0.000000e+00  0.000000e+00   \n",
       "25%    ...  0.000000e+00  1.283220e+09        2.855741e+08  0.000000e+00   \n",
       "50%    ...  0.000000e+00  3.784553e+09        1.454050e+09  8.542549e+07   \n",
       "75%    ...  0.000000e+00  8.465053e+09        4.364714e+09  1.567967e+09   \n",
       "max    ...  6.524231e+07  8.508858e+10        6.846878e+10  1.759375e+10   \n",
       "\n",
       "       NCLiabilities2     longLoan2     netAsset2      surplus2    employee1  \\\n",
       "count    2.930000e+02  2.930000e+02  2.930000e+02  2.930000e+02   291.000000   \n",
       "mean     4.471247e+09  2.709979e+09  5.273919e+09  9.786279e+08   142.546392   \n",
       "std      7.659580e+09  4.564001e+09  1.081259e+10  4.688798e+09   160.191073   \n",
       "min      0.000000e+00  0.000000e+00 -2.014780e+10 -2.781507e+09     0.000000   \n",
       "25%      2.557878e+07  0.000000e+00  1.017573e+09  0.000000e+00    53.500000   \n",
       "50%      1.969747e+09  1.100000e+09  2.894970e+09  0.000000e+00    80.000000   \n",
       "75%      4.905441e+09  3.360000e+09  5.370285e+09  1.014447e+08   181.500000   \n",
       "max      5.150388e+10  3.256147e+10  1.250000e+11  6.852730e+10  1200.000000   \n",
       "\n",
       "         employee2  \n",
       "count   288.000000  \n",
       "mean    134.326389  \n",
       "std     151.061786  \n",
       "min       0.000000  \n",
       "25%      53.750000  \n",
       "50%      79.000000  \n",
       "75%     170.000000  \n",
       "max    1200.000000  \n",
       "\n",
       "[8 rows x 54 columns]"
      ]
     },
     "execution_count": 8,
     "metadata": {},
     "output_type": "execute_result"
    }
   ],
   "source": [
    "train.describe()"
   ]
  },
  {
   "cell_type": "markdown",
   "metadata": {},
   "source": [
    "# EDA\n",
    "1. Target값 분포 확인\n",
    "2. 중요해보이는 feature로 plot 그려보기\n",
    "3. 결측치 처리 plot 그려보고 결측치 처리\n",
    "4. 그래프 그려보기"
   ]
  },
  {
   "cell_type": "markdown",
   "metadata": {},
   "source": [
    "## 1.Target값 확인"
   ]
  },
  {
   "cell_type": "code",
   "execution_count": 10,
   "metadata": {},
   "outputs": [
    {
     "data": {
      "text/plain": [
       "count      301\n",
       "unique       2\n",
       "top       open\n",
       "freq       286\n",
       "Name: OC, dtype: object"
      ]
     },
     "execution_count": 10,
     "metadata": {},
     "output_type": "execute_result"
    }
   ],
   "source": [
    "train['OC'].describe()"
   ]
  },
  {
   "cell_type": "code",
   "execution_count": 15,
   "metadata": {},
   "outputs": [
    {
     "data": {
      "text/plain": [
       "open      286\n",
       " close     15\n",
       "Name: OC, dtype: int64"
      ]
     },
     "execution_count": 15,
     "metadata": {},
     "output_type": "execute_result"
    }
   ],
   "source": [
    "train[\"OC\"].value_counts()"
   ]
  },
  {
   "cell_type": "code",
   "execution_count": 17,
   "metadata": {},
   "outputs": [
    {
     "data": {
      "text/plain": [
       "Text(0.5, 1.0, 'Countplot')"
      ]
     },
     "execution_count": 17,
     "metadata": {},
     "output_type": "execute_result"
    },
    {
     "data": {
      "image/png": "[encoded data removed]",
      "text/plain": [
       "<Figure size 1296x576 with 2 Axes>"
      ]
     },
     "metadata": {
      "needs_background": "light"
     },
     "output_type": "display_data"
    }
   ],
   "source": [
    "f,ax = plt.subplots(1,2,figsize=(18,8))\n",
    "train['OC'].value_counts().plot.pie(explode=[0,0.1],autopct='%1.1f%%',ax=ax[0],shadow=True)\n",
    "ax[0].set_title('Pie plot')\n",
    "ax[0].set_ylabel('')\n",
    "sns.countplot('OC',data=train,ax=ax[1])\n",
    "ax[1].set_title('Countplot')"
   ]
  },
  {
   "cell_type": "markdown",
   "metadata": {},
   "source": [
    "# Comment\n",
    "1. 이진분류문제이다.\n",
    "2. open의 수가 95%, 286개로 엄청 많다.\n",
    "3. close는 5%, 15개로 매우 적다."
   ]
  },
  {
   "cell_type": "markdown",
   "metadata": {},
   "source": [
    "## 2. 중요해보이는 feature로 plot 그려보기\n",
    "### 중요해보이는 feature들(나의 기준)\n",
    "- Profit (revenue - cost)\n",
    "- Debt 부채총계 \n",
    "- surplus 이익잉여금\n",
    "- receivableS - 미수금(단기)\n",
    "- inventoryAsset 재고자산\n",
    "- OnonCAsset - 기타 비유동자산\n",
    "- NCLiabilities – 비유동부채"
   ]
  },
  {
   "cell_type": "code",
   "execution_count": 50,
   "metadata": {},
   "outputs": [
    {
     "data": {
      "text/plain": [
       "dtype('float64')"
      ]
     },
     "execution_count": 50,
     "metadata": {},
     "output_type": "execute_result"
    }
   ],
   "source": [
    "train['employee1'][1].dtype"
   ]
  },
  {
   "cell_type": "code",
   "execution_count": 31,
   "metadata": {
    "scrolled": true
   },
   "outputs": [
    {
     "data": {
      "text/plain": [
       "<matplotlib.axes._subplots.AxesSubplot at 0x1b87756d808>"
      ]
     },
     "execution_count": 31,
     "metadata": {},
     "output_type": "execute_result"
    },
    {
     "data": {
      "image/png": "[encoded data removed]",
      "text/plain": [
       "<Figure size 432x288 with 1 Axes>"
      ]
     },
     "metadata": {
      "needs_background": "light"
     },
     "output_type": "display_data"
    }
   ],
   "source": [
    "sns.scatterplot(x='profit1',y='profit2',hue='OC',data=train)"
   ]
  },
  {
   "cell_type": "code",
   "execution_count": 35,
   "metadata": {},
   "outputs": [],
   "source": [
    "def scPlot(col):\n",
    "    x = col + '1'\n",
    "    y = col + '2'\n",
    "    data=train\n",
    "    return sns.scatterplot(x=x,y=y, data=data, hue='OC')"
   ]
  },
  {
   "cell_type": "code",
   "execution_count": 36,
   "metadata": {},
   "outputs": [
    {
     "data": {
      "text/plain": [
       "<matplotlib.axes._subplots.AxesSubplot at 0x1b877589188>"
      ]
     },
     "execution_count": 36,
     "metadata": {},
     "output_type": "execute_result"
    },
    {
     "data": {
      "image/png": "[encoded data removed]",
      "text/plain": [
       "<Figure size 432x288 with 1 Axes>"
      ]
     },
     "metadata": {
      "needs_background": "light"
     },
     "output_type": "display_data"
    }
   ],
   "source": [
    "scPlot('debt')"
   ]
  },
  {
   "cell_type": "code",
   "execution_count": 37,
   "metadata": {
    "scrolled": true
   },
   "outputs": [
    {
     "data": {
      "text/plain": [
       "<matplotlib.axes._subplots.AxesSubplot at 0x1b877666608>"
      ]
     },
     "execution_count": 37,
     "metadata": {},
     "output_type": "execute_result"
    },
    {
     "data": {
      "image/png": "[encoded data removed]",
      "text/plain": [
       "<Figure size 432x288 with 1 Axes>"
      ]
     },
     "metadata": {
      "needs_background": "light"
     },
     "output_type": "display_data"
    }
   ],
   "source": [
    "scPlot('surplus')"
   ]
  },
  {
   "cell_type": "code",
   "execution_count": 38,
   "metadata": {},
   "outputs": [
    {
     "data": {
      "text/plain": [
       "<matplotlib.axes._subplots.AxesSubplot at 0x1b8776f8848>"
      ]
     },
     "execution_count": 38,
     "metadata": {},
     "output_type": "execute_result"
    },
    {
     "data": {
      "image/png": "[encoded data removed]",
      "text/plain": [
       "<Figure size 432x288 with 1 Axes>"
      ]
     },
     "metadata": {
      "needs_background": "light"
     },
     "output_type": "display_data"
    }
   ],
   "source": [
    "scPlot('receivableS')"
   ]
  },
  {
   "cell_type": "code",
   "execution_count": 39,
   "metadata": {},
   "outputs": [
    {
     "data": {
      "text/plain": [
       "<matplotlib.axes._subplots.AxesSubplot at 0x1b877376088>"
      ]
     },
     "execution_count": 39,
     "metadata": {},
     "output_type": "execute_result"
    },
    {
     "data": {
      "image/png": "[encoded data removed]",
      "text/plain": [
       "<Figure size 432x288 with 1 Axes>"
      ]
     },
     "metadata": {
      "needs_background": "light"
     },
     "output_type": "display_data"
    }
   ],
   "source": [
    "scPlot('receivableL')"
   ]
  },
  {
   "cell_type": "code",
   "execution_count": null,
   "metadata": {},
   "outputs": [],
   "source": [
    "receivableS - 미수금(단기)\n",
    "inventoryAsset 재고자산\n",
    "OnonCAsset - 기타 비유동자산\n",
    "NCLiabilities – 비유동부채"
   ]
  },
  {
   "cell_type": "code",
   "execution_count": 42,
   "metadata": {},
   "outputs": [
    {
     "data": {
      "text/plain": [
       "<matplotlib.axes._subplots.AxesSubplot at 0x1b877755508>"
      ]
     },
     "execution_count": 42,
     "metadata": {},
     "output_type": "execute_result"
    },
    {
     "data": {
      "image/png": "[encoded data removed]",
      "text/plain": [
       "<Figure size 432x288 with 1 Axes>"
      ]
     },
     "metadata": {
      "needs_background": "light"
     },
     "output_type": "display_data"
    }
   ],
   "source": [
    "sns.scatterplot(x='profit2',y='profit3',data=train,hue='OC')"
   ]
  },
  {
   "cell_type": "code",
   "execution_count": 34,
   "metadata": {},
   "outputs": [
    {
     "data": {
      "text/plain": [
       "0      7.589937e+08\n",
       "1               NaN\n",
       "2      0.000000e+00\n",
       "3      3.775501e+10\n",
       "4      5.143259e+10\n",
       "           ...     \n",
       "296    9.423771e+09\n",
       "297    0.000000e+00\n",
       "298    6.370097e+09\n",
       "299    6.392336e+08\n",
       "300    5.349000e+09\n",
       "Name: debt2, Length: 301, dtype: float64"
      ]
     },
     "execution_count": 34,
     "metadata": {},
     "output_type": "execute_result"
    }
   ],
   "source": [
    "train['debt2']"
   ]
  },
  {
   "cell_type": "code",
   "execution_count": 19,
   "metadata": {},
   "outputs": [
    {
     "data": {
      "text/plain": [
       "0      2.078297e+08\n",
       "1               NaN\n",
       "2      0.000000e+00\n",
       "3      8.383875e+08\n",
       "4      3.264258e+07\n",
       "           ...     \n",
       "296   -2.624151e+08\n",
       "297    0.000000e+00\n",
       "298   -1.518272e+08\n",
       "299   -2.729675e+09\n",
       "300    5.065703e+07\n",
       "Name: profit2, Length: 301, dtype: float64"
      ]
     },
     "execution_count": 19,
     "metadata": {},
     "output_type": "execute_result"
    }
   ],
   "source": [
    "train['profit2']"
   ]
  },
  {
   "cell_type": "code",
   "execution_count": 22,
   "metadata": {},
   "outputs": [],
   "source": [
    "train['profit3'] = train['profit2'] - train['profit1']"
   ]
  },
  {
   "cell_type": "code",
   "execution_count": 30,
   "metadata": {},
   "outputs": [
    {
     "data": {
      "text/plain": [
       "<matplotlib.axes._subplots.AxesSubplot at 0x1b877467f48>"
      ]
     },
     "execution_count": 30,
     "metadata": {},
     "output_type": "execute_result"
    },
    {
     "data": {
      "image/png": "[encoded data removed]",
      "text/plain": [
       "<Figure size 432x288 with 1 Axes>"
      ]
     },
     "metadata": {
      "needs_background": "light"
     },
     "output_type": "display_data"
    }
   ],
   "source": [
    "sns.distplot(train['profit3'])"
   ]
  },
  {
   "cell_type": "code",
   "execution_count": 26,
   "metadata": {},
   "outputs": [
    {
     "data": {
      "text/plain": [
       "['FacetGrid',\n",
       " 'JointGrid',\n",
       " 'PairGrid',\n",
       " '__builtins__',\n",
       " '__cached__',\n",
       " '__doc__',\n",
       " '__file__',\n",
       " '__loader__',\n",
       " '__name__',\n",
       " '__package__',\n",
       " '__path__',\n",
       " '__spec__',\n",
       " '__version__',\n",
       " '_orig_rc_params',\n",
       " 'algorithms',\n",
       " 'axes_style',\n",
       " 'axisgrid',\n",
       " 'barplot',\n",
       " 'blend_palette',\n",
       " 'boxenplot',\n",
       " 'boxplot',\n",
       " 'categorical',\n",
       " 'catplot',\n",
       " 'choose_colorbrewer_palette',\n",
       " 'choose_cubehelix_palette',\n",
       " 'choose_dark_palette',\n",
       " 'choose_diverging_palette',\n",
       " 'choose_light_palette',\n",
       " 'clustermap',\n",
       " 'cm',\n",
       " 'color_palette',\n",
       " 'colors',\n",
       " 'countplot',\n",
       " 'crayon_palette',\n",
       " 'crayons',\n",
       " 'cubehelix_palette',\n",
       " 'dark_palette',\n",
       " 'desaturate',\n",
       " 'despine',\n",
       " 'distplot',\n",
       " 'distributions',\n",
       " 'diverging_palette',\n",
       " 'dogplot',\n",
       " 'external',\n",
       " 'factorplot',\n",
       " 'get_dataset_names',\n",
       " 'heatmap',\n",
       " 'hls_palette',\n",
       " 'husl_palette',\n",
       " 'jointplot',\n",
       " 'kdeplot',\n",
       " 'light_palette',\n",
       " 'lineplot',\n",
       " 'lmplot',\n",
       " 'load_dataset',\n",
       " 'lvplot',\n",
       " 'matrix',\n",
       " 'miscplot',\n",
       " 'mpl',\n",
       " 'mpl_palette',\n",
       " 'pairplot',\n",
       " 'palettes',\n",
       " 'palplot',\n",
       " 'plotting_context',\n",
       " 'pointplot',\n",
       " 'rcmod',\n",
       " 'regplot',\n",
       " 'regression',\n",
       " 'relational',\n",
       " 'relplot',\n",
       " 'reset_defaults',\n",
       " 'reset_orig',\n",
       " 'residplot',\n",
       " 'rugplot',\n",
       " 'saturate',\n",
       " 'scatterplot',\n",
       " 'set',\n",
       " 'set_color_codes',\n",
       " 'set_context',\n",
       " 'set_hls_values',\n",
       " 'set_palette',\n",
       " 'set_style',\n",
       " 'stripplot',\n",
       " 'swarmplot',\n",
       " 'utils',\n",
       " 'violinplot',\n",
       " 'widgets',\n",
       " 'xkcd_palette',\n",
       " 'xkcd_rgb']"
      ]
     },
     "execution_count": 26,
     "metadata": {},
     "output_type": "execute_result"
    }
   ],
   "source": [
    "dir(sns)"
   ]
  },
  {
   "cell_type": "code",
   "execution_count": 25,
   "metadata": {
    "scrolled": true
   },
   "outputs": [
    {
     "data": {
      "text/plain": [
       "[<matplotlib.lines.Line2D at 0x1b8773b8a88>]"
      ]
     },
     "execution_count": 25,
     "metadata": {},
     "output_type": "execute_result"
    },
    {
     "data": {
      "image/png": "[encoded data removed]",
      "text/plain": [
       "<Figure size 432x288 with 1 Axes>"
      ]
     },
     "metadata": {
      "needs_background": "light"
     },
     "output_type": "display_data"
    }
   ],
   "source": [
    "plt.plot(train['profit3'])"
   ]
  },
  {
   "cell_type": "code",
   "execution_count": 15,
   "metadata": {},
   "outputs": [
    {
     "data": {
      "text/plain": [
       "inst_id                0\n",
       "OC                     0\n",
       "sido                   0\n",
       "sgg                    0\n",
       "openDate               0\n",
       "bedCount               5\n",
       "instkind               1\n",
       "revenue1               8\n",
       "salescost1             8\n",
       "sga1                   8\n",
       "salary1                8\n",
       "noi1                   8\n",
       "noe1                   8\n",
       "interest1              8\n",
       "ctax1                  8\n",
       "profit1                8\n",
       "liquidAsset1           8\n",
       "quickAsset1            8\n",
       "receivableS1           8\n",
       "inventoryAsset1        8\n",
       "nonCAsset1             8\n",
       "tanAsset1              8\n",
       "OnonCAsset1            8\n",
       "receivableL1           8\n",
       "debt1                  8\n",
       "liquidLiabilities1     8\n",
       "shortLoan1             8\n",
       "NCLiabilities1         8\n",
       "longLoan1              8\n",
       "netAsset1              8\n",
       "surplus1               8\n",
       "revenue2               8\n",
       "salescost2             8\n",
       "sga2                   8\n",
       "salary2                8\n",
       "noi2                   8\n",
       "noe2                   8\n",
       "interest2              8\n",
       "ctax2                  8\n",
       "profit2                8\n",
       "liquidAsset2           8\n",
       "quickAsset2            8\n",
       "receivableS2           8\n",
       "inventoryAsset2        8\n",
       "nonCAsset2             8\n",
       "tanAsset2              8\n",
       "OnonCAsset2            8\n",
       "receivableL2           8\n",
       "debt2                  8\n",
       "liquidLiabilities2     8\n",
       "shortLoan2             8\n",
       "NCLiabilities2         8\n",
       "longLoan2              8\n",
       "netAsset2              8\n",
       "surplus2               8\n",
       "employee1             10\n",
       "employee2             13\n",
       "ownerChange           12\n",
       "dtype: int64"
      ]
     },
     "execution_count": 15,
     "metadata": {},
     "output_type": "execute_result"
    }
   ],
   "source": [
    "train.isnull().sum()"
   ]
  },
  {
   "cell_type": "code",
   "execution_count": 19,
   "metadata": {},
   "outputs": [
    {
     "data": {
      "text/plain": [
       "Series([], Name: OC, dtype: int64)"
      ]
     },
     "execution_count": 19,
     "metadata": {},
     "output_type": "execute_result"
    }
   ],
   "source": [
    "test['OC'].value_counts()"
   ]
  },
  {
   "cell_type": "code",
   "execution_count": 6,
   "metadata": {
    "scrolled": true
   },
   "outputs": [
    {
     "ename": "NameError",
     "evalue": "name 'sorted_cols' is not defined",
     "output_type": "error",
     "traceback": [
      "\u001b[1;31m---------------------------------------------------------------------------\u001b[0m",
      "\u001b[1;31mNameError\u001b[0m                                 Traceback (most recent call last)",
      "\u001b[1;32m<ipython-input-6-fcf2615be89f>\u001b[0m in \u001b[0;36m<module>\u001b[1;34m\u001b[0m\n\u001b[1;32m----> 1\u001b[1;33m \u001b[0mtrain\u001b[0m \u001b[1;33m=\u001b[0m \u001b[0mtrain\u001b[0m\u001b[1;33m[\u001b[0m\u001b[0msorted_cols\u001b[0m\u001b[1;33m]\u001b[0m\u001b[1;33m\u001b[0m\u001b[1;33m\u001b[0m\u001b[0m\n\u001b[0m\u001b[0;32m      2\u001b[0m \u001b[0mtest\u001b[0m \u001b[1;33m=\u001b[0m \u001b[0mtest\u001b[0m\u001b[1;33m[\u001b[0m\u001b[0msorted_cols\u001b[0m\u001b[1;33m]\u001b[0m\u001b[1;33m\u001b[0m\u001b[1;33m\u001b[0m\u001b[0m\n",
      "\u001b[1;31mNameError\u001b[0m: name 'sorted_cols' is not defined"
     ]
    }
   ],
   "source": [
    "train = train[sorted_cols]\n",
    "test = test[sorted_cols]"
   ]
  },
  {
   "cell_type": "code",
   "execution_count": 10,
   "metadata": {},
   "outputs": [],
   "source": [
    "total = pd.concat([train, test])"
   ]
  },
  {
   "cell_type": "code",
   "execution_count": 45,
   "metadata": {},
   "outputs": [
    {
     "data": {
      "text/html": [
       "<div>\n",
       "<style scoped>\n",
       "    .dataframe tbody tr th:only-of-type {\n",
       "        vertical-align: middle;\n",
       "    }\n",
       "\n",
       "    .dataframe tbody tr th {\n",
       "        vertical-align: top;\n",
       "    }\n",
       "\n",
       "    .dataframe thead th {\n",
       "        text-align: right;\n",
       "    }\n",
       "</style>\n",
       "<table border=\"1\" class=\"dataframe\">\n",
       "  <thead>\n",
       "    <tr style=\"text-align: right;\">\n",
       "      <th></th>\n",
       "      <th>salary2</th>\n",
       "      <th>debt2</th>\n",
       "      <th>ownerChange</th>\n",
       "      <th>receivableL1</th>\n",
       "      <th>nonCAsset2</th>\n",
       "      <th>openDate</th>\n",
       "      <th>sga2</th>\n",
       "      <th>longLoan2</th>\n",
       "      <th>sga1</th>\n",
       "      <th>receivableL2</th>\n",
       "      <th>...</th>\n",
       "      <th>receivableS1</th>\n",
       "      <th>quickAsset1</th>\n",
       "      <th>revenue1</th>\n",
       "      <th>surplus1</th>\n",
       "      <th>noi2</th>\n",
       "      <th>bedCount</th>\n",
       "      <th>ctax2</th>\n",
       "      <th>profit1</th>\n",
       "      <th>salescost1</th>\n",
       "      <th>OnonCAsset1</th>\n",
       "    </tr>\n",
       "  </thead>\n",
       "  <tbody>\n",
       "    <tr>\n",
       "      <th>0</th>\n",
       "      <td>2.063787e+09</td>\n",
       "      <td>7.589937e+08</td>\n",
       "      <td>same</td>\n",
       "      <td>0.0</td>\n",
       "      <td>2.548115e+09</td>\n",
       "      <td>20071228</td>\n",
       "      <td>4.057422e+09</td>\n",
       "      <td>3.900000e+08</td>\n",
       "      <td>3.961135e+09</td>\n",
       "      <td>0.0</td>\n",
       "      <td>...</td>\n",
       "      <td>4.700557e+08</td>\n",
       "      <td>9.976719e+08</td>\n",
       "      <td>4.217530e+09</td>\n",
       "      <td>1.496394e+09</td>\n",
       "      <td>16194675.0</td>\n",
       "      <td>175.0</td>\n",
       "      <td>18808074.0</td>\n",
       "      <td>2.251697e+08</td>\n",
       "      <td>0.000000e+00</td>\n",
       "      <td>1.434496e+08</td>\n",
       "    </tr>\n",
       "    <tr>\n",
       "      <th>1</th>\n",
       "      <td>NaN</td>\n",
       "      <td>NaN</td>\n",
       "      <td>same</td>\n",
       "      <td>NaN</td>\n",
       "      <td>NaN</td>\n",
       "      <td>19970401</td>\n",
       "      <td>NaN</td>\n",
       "      <td>NaN</td>\n",
       "      <td>NaN</td>\n",
       "      <td>NaN</td>\n",
       "      <td>...</td>\n",
       "      <td>NaN</td>\n",
       "      <td>NaN</td>\n",
       "      <td>NaN</td>\n",
       "      <td>NaN</td>\n",
       "      <td>NaN</td>\n",
       "      <td>410.0</td>\n",
       "      <td>NaN</td>\n",
       "      <td>NaN</td>\n",
       "      <td>NaN</td>\n",
       "      <td>NaN</td>\n",
       "    </tr>\n",
       "    <tr>\n",
       "      <th>2</th>\n",
       "      <td>0.000000e+00</td>\n",
       "      <td>0.000000e+00</td>\n",
       "      <td>same</td>\n",
       "      <td>0.0</td>\n",
       "      <td>0.000000e+00</td>\n",
       "      <td>20161228</td>\n",
       "      <td>0.000000e+00</td>\n",
       "      <td>0.000000e+00</td>\n",
       "      <td>4.472197e+08</td>\n",
       "      <td>0.0</td>\n",
       "      <td>...</td>\n",
       "      <td>8.095950e+06</td>\n",
       "      <td>2.536822e+08</td>\n",
       "      <td>1.004522e+09</td>\n",
       "      <td>0.000000e+00</td>\n",
       "      <td>0.0</td>\n",
       "      <td>468.0</td>\n",
       "      <td>0.0</td>\n",
       "      <td>4.186475e+07</td>\n",
       "      <td>5.154837e+08</td>\n",
       "      <td>0.000000e+00</td>\n",
       "    </tr>\n",
       "    <tr>\n",
       "      <th>3</th>\n",
       "      <td>2.971135e+10</td>\n",
       "      <td>3.775501e+10</td>\n",
       "      <td>same</td>\n",
       "      <td>0.0</td>\n",
       "      <td>3.958356e+10</td>\n",
       "      <td>20000814</td>\n",
       "      <td>6.492419e+10</td>\n",
       "      <td>1.510000e+10</td>\n",
       "      <td>7.067740e+10</td>\n",
       "      <td>0.0</td>\n",
       "      <td>...</td>\n",
       "      <td>0.000000e+00</td>\n",
       "      <td>1.153475e+10</td>\n",
       "      <td>7.250734e+10</td>\n",
       "      <td>8.643659e+09</td>\n",
       "      <td>476807804.0</td>\n",
       "      <td>353.0</td>\n",
       "      <td>218891720.0</td>\n",
       "      <td>9.028303e+08</td>\n",
       "      <td>0.000000e+00</td>\n",
       "      <td>3.945208e+09</td>\n",
       "    </tr>\n",
       "    <tr>\n",
       "      <th>4</th>\n",
       "      <td>2.346004e+10</td>\n",
       "      <td>5.143259e+10</td>\n",
       "      <td>same</td>\n",
       "      <td>0.0</td>\n",
       "      <td>4.653138e+10</td>\n",
       "      <td>20050901</td>\n",
       "      <td>4.712580e+10</td>\n",
       "      <td>1.410803e+10</td>\n",
       "      <td>4.765605e+10</td>\n",
       "      <td>0.0</td>\n",
       "      <td>...</td>\n",
       "      <td>4.099320e+09</td>\n",
       "      <td>5.873265e+09</td>\n",
       "      <td>4.904354e+10</td>\n",
       "      <td>9.025550e+09</td>\n",
       "      <td>597748128.0</td>\n",
       "      <td>196.0</td>\n",
       "      <td>0.0</td>\n",
       "      <td>8.074970e+07</td>\n",
       "      <td>0.000000e+00</td>\n",
       "      <td>2.223400e+08</td>\n",
       "    </tr>\n",
       "    <tr>\n",
       "      <th>...</th>\n",
       "      <td>...</td>\n",
       "      <td>...</td>\n",
       "      <td>...</td>\n",
       "      <td>...</td>\n",
       "      <td>...</td>\n",
       "      <td>...</td>\n",
       "      <td>...</td>\n",
       "      <td>...</td>\n",
       "      <td>...</td>\n",
       "      <td>...</td>\n",
       "      <td>...</td>\n",
       "      <td>...</td>\n",
       "      <td>...</td>\n",
       "      <td>...</td>\n",
       "      <td>...</td>\n",
       "      <td>...</td>\n",
       "      <td>...</td>\n",
       "      <td>...</td>\n",
       "      <td>...</td>\n",
       "      <td>...</td>\n",
       "      <td>...</td>\n",
       "    </tr>\n",
       "    <tr>\n",
       "      <th>296</th>\n",
       "      <td>3.768952e+09</td>\n",
       "      <td>9.423771e+09</td>\n",
       "      <td>same</td>\n",
       "      <td>0.0</td>\n",
       "      <td>1.225271e+10</td>\n",
       "      <td>20050211</td>\n",
       "      <td>6.755147e+09</td>\n",
       "      <td>5.930000e+09</td>\n",
       "      <td>5.903119e+09</td>\n",
       "      <td>0.0</td>\n",
       "      <td>...</td>\n",
       "      <td>1.797116e+09</td>\n",
       "      <td>2.769516e+09</td>\n",
       "      <td>7.614697e+09</td>\n",
       "      <td>1.406028e+09</td>\n",
       "      <td>90318167.0</td>\n",
       "      <td>214.0</td>\n",
       "      <td>51608640.0</td>\n",
       "      <td>5.943868e+08</td>\n",
       "      <td>4.153475e+08</td>\n",
       "      <td>1.198567e+08</td>\n",
       "    </tr>\n",
       "    <tr>\n",
       "      <th>297</th>\n",
       "      <td>0.000000e+00</td>\n",
       "      <td>0.000000e+00</td>\n",
       "      <td>same</td>\n",
       "      <td>0.0</td>\n",
       "      <td>0.000000e+00</td>\n",
       "      <td>20140618</td>\n",
       "      <td>0.000000e+00</td>\n",
       "      <td>0.000000e+00</td>\n",
       "      <td>0.000000e+00</td>\n",
       "      <td>0.0</td>\n",
       "      <td>...</td>\n",
       "      <td>0.000000e+00</td>\n",
       "      <td>0.000000e+00</td>\n",
       "      <td>6.717144e+09</td>\n",
       "      <td>0.000000e+00</td>\n",
       "      <td>0.0</td>\n",
       "      <td>NaN</td>\n",
       "      <td>0.0</td>\n",
       "      <td>-1.622521e+09</td>\n",
       "      <td>8.200000e+09</td>\n",
       "      <td>0.000000e+00</td>\n",
       "    </tr>\n",
       "    <tr>\n",
       "      <th>298</th>\n",
       "      <td>1.479400e+08</td>\n",
       "      <td>6.370097e+09</td>\n",
       "      <td>NaN</td>\n",
       "      <td>0.0</td>\n",
       "      <td>5.554636e+09</td>\n",
       "      <td>19830705</td>\n",
       "      <td>3.529793e+08</td>\n",
       "      <td>2.498749e+09</td>\n",
       "      <td>5.479428e+07</td>\n",
       "      <td>0.0</td>\n",
       "      <td>...</td>\n",
       "      <td>1.132312e+09</td>\n",
       "      <td>3.867238e+09</td>\n",
       "      <td>0.000000e+00</td>\n",
       "      <td>0.000000e+00</td>\n",
       "      <td>173212032.0</td>\n",
       "      <td>NaN</td>\n",
       "      <td>0.0</td>\n",
       "      <td>-7.175308e+07</td>\n",
       "      <td>0.000000e+00</td>\n",
       "      <td>6.795734e+07</td>\n",
       "    </tr>\n",
       "    <tr>\n",
       "      <th>299</th>\n",
       "      <td>2.896997e+09</td>\n",
       "      <td>6.392336e+08</td>\n",
       "      <td>NaN</td>\n",
       "      <td>73742310.0</td>\n",
       "      <td>1.197633e+10</td>\n",
       "      <td>20070101</td>\n",
       "      <td>4.750651e+09</td>\n",
       "      <td>0.000000e+00</td>\n",
       "      <td>3.286245e+09</td>\n",
       "      <td>65242310.0</td>\n",
       "      <td>...</td>\n",
       "      <td>2.834734e+07</td>\n",
       "      <td>4.910840e+09</td>\n",
       "      <td>2.116892e+09</td>\n",
       "      <td>0.000000e+00</td>\n",
       "      <td>10545075.0</td>\n",
       "      <td>180.0</td>\n",
       "      <td>0.0</td>\n",
       "      <td>-1.850554e+09</td>\n",
       "      <td>2.681748e+08</td>\n",
       "      <td>0.000000e+00</td>\n",
       "    </tr>\n",
       "    <tr>\n",
       "      <th>300</th>\n",
       "      <td>1.333380e+08</td>\n",
       "      <td>5.349000e+09</td>\n",
       "      <td>same</td>\n",
       "      <td>0.0</td>\n",
       "      <td>1.038822e+10</td>\n",
       "      <td>20011017</td>\n",
       "      <td>5.254614e+08</td>\n",
       "      <td>2.190000e+09</td>\n",
       "      <td>5.043409e+08</td>\n",
       "      <td>0.0</td>\n",
       "      <td>...</td>\n",
       "      <td>1.545963e+07</td>\n",
       "      <td>6.197801e+08</td>\n",
       "      <td>1.340971e+09</td>\n",
       "      <td>6.269440e+09</td>\n",
       "      <td>4301929.0</td>\n",
       "      <td>NaN</td>\n",
       "      <td>0.0</td>\n",
       "      <td>-4.550929e+07</td>\n",
       "      <td>8.108450e+08</td>\n",
       "      <td>8.693050e+07</td>\n",
       "    </tr>\n",
       "  </tbody>\n",
       "</table>\n",
       "<p>301 rows × 58 columns</p>\n",
       "</div>"
      ],
      "text/plain": [
       "          salary2         debt2 ownerChange  receivableL1    nonCAsset2  \\\n",
       "0    2.063787e+09  7.589937e+08        same           0.0  2.548115e+09   \n",
       "1             NaN           NaN        same           NaN           NaN   \n",
       "2    0.000000e+00  0.000000e+00        same           0.0  0.000000e+00   \n",
       "3    2.971135e+10  3.775501e+10        same           0.0  3.958356e+10   \n",
       "4    2.346004e+10  5.143259e+10        same           0.0  4.653138e+10   \n",
       "..            ...           ...         ...           ...           ...   \n",
       "296  3.768952e+09  9.423771e+09        same           0.0  1.225271e+10   \n",
       "297  0.000000e+00  0.000000e+00        same           0.0  0.000000e+00   \n",
       "298  1.479400e+08  6.370097e+09         NaN           0.0  5.554636e+09   \n",
       "299  2.896997e+09  6.392336e+08         NaN    73742310.0  1.197633e+10   \n",
       "300  1.333380e+08  5.349000e+09        same           0.0  1.038822e+10   \n",
       "\n",
       "     openDate          sga2     longLoan2          sga1  receivableL2  ...  \\\n",
       "0    20071228  4.057422e+09  3.900000e+08  3.961135e+09           0.0  ...   \n",
       "1    19970401           NaN           NaN           NaN           NaN  ...   \n",
       "2    20161228  0.000000e+00  0.000000e+00  4.472197e+08           0.0  ...   \n",
       "3    20000814  6.492419e+10  1.510000e+10  7.067740e+10           0.0  ...   \n",
       "4    20050901  4.712580e+10  1.410803e+10  4.765605e+10           0.0  ...   \n",
       "..        ...           ...           ...           ...           ...  ...   \n",
       "296  20050211  6.755147e+09  5.930000e+09  5.903119e+09           0.0  ...   \n",
       "297  20140618  0.000000e+00  0.000000e+00  0.000000e+00           0.0  ...   \n",
       "298  19830705  3.529793e+08  2.498749e+09  5.479428e+07           0.0  ...   \n",
       "299  20070101  4.750651e+09  0.000000e+00  3.286245e+09    65242310.0  ...   \n",
       "300  20011017  5.254614e+08  2.190000e+09  5.043409e+08           0.0  ...   \n",
       "\n",
       "     receivableS1   quickAsset1      revenue1      surplus1         noi2  \\\n",
       "0    4.700557e+08  9.976719e+08  4.217530e+09  1.496394e+09   16194675.0   \n",
       "1             NaN           NaN           NaN           NaN          NaN   \n",
       "2    8.095950e+06  2.536822e+08  1.004522e+09  0.000000e+00          0.0   \n",
       "3    0.000000e+00  1.153475e+10  7.250734e+10  8.643659e+09  476807804.0   \n",
       "4    4.099320e+09  5.873265e+09  4.904354e+10  9.025550e+09  597748128.0   \n",
       "..            ...           ...           ...           ...          ...   \n",
       "296  1.797116e+09  2.769516e+09  7.614697e+09  1.406028e+09   90318167.0   \n",
       "297  0.000000e+00  0.000000e+00  6.717144e+09  0.000000e+00          0.0   \n",
       "298  1.132312e+09  3.867238e+09  0.000000e+00  0.000000e+00  173212032.0   \n",
       "299  2.834734e+07  4.910840e+09  2.116892e+09  0.000000e+00   10545075.0   \n",
       "300  1.545963e+07  6.197801e+08  1.340971e+09  6.269440e+09    4301929.0   \n",
       "\n",
       "     bedCount        ctax2       profit1    salescost1   OnonCAsset1  \n",
       "0       175.0   18808074.0  2.251697e+08  0.000000e+00  1.434496e+08  \n",
       "1       410.0          NaN           NaN           NaN           NaN  \n",
       "2       468.0          0.0  4.186475e+07  5.154837e+08  0.000000e+00  \n",
       "3       353.0  218891720.0  9.028303e+08  0.000000e+00  3.945208e+09  \n",
       "4       196.0          0.0  8.074970e+07  0.000000e+00  2.223400e+08  \n",
       "..        ...          ...           ...           ...           ...  \n",
       "296     214.0   51608640.0  5.943868e+08  4.153475e+08  1.198567e+08  \n",
       "297       NaN          0.0 -1.622521e+09  8.200000e+09  0.000000e+00  \n",
       "298       NaN          0.0 -7.175308e+07  0.000000e+00  6.795734e+07  \n",
       "299     180.0          0.0 -1.850554e+09  2.681748e+08  0.000000e+00  \n",
       "300       NaN          0.0 -4.550929e+07  8.108450e+08  8.693050e+07  \n",
       "\n",
       "[301 rows x 58 columns]"
      ]
     },
     "execution_count": 45,
     "metadata": {},
     "output_type": "execute_result"
    }
   ],
   "source": [
    "train[sorted_cols]"
   ]
  },
  {
   "cell_type": "code",
   "execution_count": 43,
   "metadata": {
    "scrolled": false
   },
   "outputs": [
    {
     "data": {
      "image/png": "[encoded data removed]",
      "text/plain": [
       "<Figure size 1800x720 with 2 Axes>"
      ]
     },
     "metadata": {
      "needs_background": "light"
     },
     "output_type": "display_data"
    },
    {
     "data": {
      "image/png": "[encoded data removed]",
      "text/plain": [
       "<Figure size 1800x720 with 2 Axes>"
      ]
     },
     "metadata": {
      "needs_background": "light"
     },
     "output_type": "display_data"
    },
    {
     "data": {
      "image/png": "[encoded data removed]",
      "text/plain": [
       "<Figure size 1800x720 with 2 Axes>"
      ]
     },
     "metadata": {
      "needs_background": "light"
     },
     "output_type": "display_data"
    },
    {
     "data": {
      "image/png": "[encoded data removed]",
      "text/plain": [
       "<Figure size 1800x720 with 2 Axes>"
      ]
     },
     "metadata": {
      "needs_background": "light"
     },
     "output_type": "display_data"
    },
    {
     "data": {
      "image/png": "[encoded data removed]",
      "text/plain": [
       "<Figure size 1800x720 with 2 Axes>"
      ]
     },
     "metadata": {
      "needs_background": "light"
     },
     "output_type": "display_data"
    }
   ],
   "source": [
    "for i in range(0,50,10):\n",
    "    msno.matrix(total.iloc[:,i:i+10])"
   ]
  },
  {
   "cell_type": "code",
   "execution_count": 63,
   "metadata": {},
   "outputs": [
    {
     "data": {
      "text/html": [
       "<div>\n",
       "<style scoped>\n",
       "    .dataframe tbody tr th:only-of-type {\n",
       "        vertical-align: middle;\n",
       "    }\n",
       "\n",
       "    .dataframe tbody tr th {\n",
       "        vertical-align: top;\n",
       "    }\n",
       "\n",
       "    .dataframe thead th {\n",
       "        text-align: right;\n",
       "    }\n",
       "</style>\n",
       "<table border=\"1\" class=\"dataframe\">\n",
       "  <thead>\n",
       "    <tr style=\"text-align: right;\">\n",
       "      <th></th>\n",
       "      <th>salary2</th>\n",
       "      <th>debt2</th>\n",
       "      <th>receivableL1</th>\n",
       "      <th>nonCAsset2</th>\n",
       "      <th>openDate</th>\n",
       "      <th>sga2</th>\n",
       "      <th>longLoan2</th>\n",
       "      <th>sga1</th>\n",
       "      <th>receivableL2</th>\n",
       "      <th>netAsset1</th>\n",
       "      <th>...</th>\n",
       "      <th>receivableS1</th>\n",
       "      <th>quickAsset1</th>\n",
       "      <th>revenue1</th>\n",
       "      <th>surplus1</th>\n",
       "      <th>noi2</th>\n",
       "      <th>bedCount</th>\n",
       "      <th>ctax2</th>\n",
       "      <th>profit1</th>\n",
       "      <th>salescost1</th>\n",
       "      <th>OnonCAsset1</th>\n",
       "    </tr>\n",
       "  </thead>\n",
       "  <tbody>\n",
       "    <tr>\n",
       "      <th>count</th>\n",
       "      <td>2.930000e+02</td>\n",
       "      <td>2.930000e+02</td>\n",
       "      <td>2.930000e+02</td>\n",
       "      <td>2.930000e+02</td>\n",
       "      <td>3.010000e+02</td>\n",
       "      <td>2.930000e+02</td>\n",
       "      <td>2.930000e+02</td>\n",
       "      <td>2.930000e+02</td>\n",
       "      <td>2.930000e+02</td>\n",
       "      <td>2.930000e+02</td>\n",
       "      <td>...</td>\n",
       "      <td>2.930000e+02</td>\n",
       "      <td>2.930000e+02</td>\n",
       "      <td>2.930000e+02</td>\n",
       "      <td>2.930000e+02</td>\n",
       "      <td>2.930000e+02</td>\n",
       "      <td>296.000000</td>\n",
       "      <td>2.930000e+02</td>\n",
       "      <td>2.930000e+02</td>\n",
       "      <td>2.930000e+02</td>\n",
       "      <td>2.930000e+02</td>\n",
       "    </tr>\n",
       "    <tr>\n",
       "      <th>mean</th>\n",
       "      <td>5.023230e+09</td>\n",
       "      <td>8.146026e+09</td>\n",
       "      <td>2.516802e+05</td>\n",
       "      <td>1.045214e+10</td>\n",
       "      <td>2.005013e+07</td>\n",
       "      <td>9.203487e+09</td>\n",
       "      <td>2.709979e+09</td>\n",
       "      <td>1.033244e+10</td>\n",
       "      <td>2.226700e+05</td>\n",
       "      <td>5.938213e+09</td>\n",
       "      <td>...</td>\n",
       "      <td>6.975862e+08</td>\n",
       "      <td>3.414762e+09</td>\n",
       "      <td>1.288175e+10</td>\n",
       "      <td>1.265935e+09</td>\n",
       "      <td>2.223813e+08</td>\n",
       "      <td>145.709459</td>\n",
       "      <td>6.832259e+07</td>\n",
       "      <td>2.101700e+08</td>\n",
       "      <td>2.014903e+09</td>\n",
       "      <td>3.406503e+08</td>\n",
       "    </tr>\n",
       "    <tr>\n",
       "      <th>std</th>\n",
       "      <td>7.406530e+09</td>\n",
       "      <td>1.255800e+10</td>\n",
       "      <td>4.308072e+06</td>\n",
       "      <td>1.649538e+10</td>\n",
       "      <td>8.893815e+04</td>\n",
       "      <td>1.352567e+10</td>\n",
       "      <td>4.564001e+09</td>\n",
       "      <td>1.493886e+10</td>\n",
       "      <td>3.811496e+06</td>\n",
       "      <td>1.266035e+10</td>\n",
       "      <td>...</td>\n",
       "      <td>1.455332e+09</td>\n",
       "      <td>6.093581e+09</td>\n",
       "      <td>2.043543e+10</td>\n",
       "      <td>8.248321e+09</td>\n",
       "      <td>5.274637e+08</td>\n",
       "      <td>118.923890</td>\n",
       "      <td>2.428512e+08</td>\n",
       "      <td>1.134673e+09</td>\n",
       "      <td>7.460271e+09</td>\n",
       "      <td>9.359381e+08</td>\n",
       "    </tr>\n",
       "    <tr>\n",
       "      <th>min</th>\n",
       "      <td>0.000000e+00</td>\n",
       "      <td>0.000000e+00</td>\n",
       "      <td>0.000000e+00</td>\n",
       "      <td>0.000000e+00</td>\n",
       "      <td>1.978012e+07</td>\n",
       "      <td>0.000000e+00</td>\n",
       "      <td>0.000000e+00</td>\n",
       "      <td>0.000000e+00</td>\n",
       "      <td>0.000000e+00</td>\n",
       "      <td>-2.019624e+10</td>\n",
       "      <td>...</td>\n",
       "      <td>0.000000e+00</td>\n",
       "      <td>0.000000e+00</td>\n",
       "      <td>0.000000e+00</td>\n",
       "      <td>-2.914970e+09</td>\n",
       "      <td>0.000000e+00</td>\n",
       "      <td>0.000000</td>\n",
       "      <td>0.000000e+00</td>\n",
       "      <td>-4.696701e+09</td>\n",
       "      <td>0.000000e+00</td>\n",
       "      <td>0.000000e+00</td>\n",
       "    </tr>\n",
       "    <tr>\n",
       "      <th>25%</th>\n",
       "      <td>1.347918e+09</td>\n",
       "      <td>1.283220e+09</td>\n",
       "      <td>0.000000e+00</td>\n",
       "      <td>2.479446e+09</td>\n",
       "      <td>2.001102e+07</td>\n",
       "      <td>2.253260e+09</td>\n",
       "      <td>0.000000e+00</td>\n",
       "      <td>2.758201e+09</td>\n",
       "      <td>0.000000e+00</td>\n",
       "      <td>1.224795e+09</td>\n",
       "      <td>...</td>\n",
       "      <td>0.000000e+00</td>\n",
       "      <td>6.806512e+08</td>\n",
       "      <td>3.252112e+09</td>\n",
       "      <td>0.000000e+00</td>\n",
       "      <td>6.453360e+06</td>\n",
       "      <td>52.750000</td>\n",
       "      <td>0.000000e+00</td>\n",
       "      <td>-2.168279e+06</td>\n",
       "      <td>0.000000e+00</td>\n",
       "      <td>9.680000e+05</td>\n",
       "    </tr>\n",
       "    <tr>\n",
       "      <th>50%</th>\n",
       "      <td>2.365338e+09</td>\n",
       "      <td>3.784553e+09</td>\n",
       "      <td>0.000000e+00</td>\n",
       "      <td>5.591346e+09</td>\n",
       "      <td>2.007113e+07</td>\n",
       "      <td>4.170070e+09</td>\n",
       "      <td>1.100000e+09</td>\n",
       "      <td>4.684074e+09</td>\n",
       "      <td>0.000000e+00</td>\n",
       "      <td>3.033907e+09</td>\n",
       "      <td>...</td>\n",
       "      <td>2.158564e+08</td>\n",
       "      <td>1.473801e+09</td>\n",
       "      <td>5.524218e+09</td>\n",
       "      <td>0.000000e+00</td>\n",
       "      <td>4.326228e+07</td>\n",
       "      <td>136.500000</td>\n",
       "      <td>1.006880e+06</td>\n",
       "      <td>8.130751e+07</td>\n",
       "      <td>2.104105e+08</td>\n",
       "      <td>3.582526e+07</td>\n",
       "    </tr>\n",
       "    <tr>\n",
       "      <th>75%</th>\n",
       "      <td>5.564048e+09</td>\n",
       "      <td>8.465053e+09</td>\n",
       "      <td>0.000000e+00</td>\n",
       "      <td>1.177732e+10</td>\n",
       "      <td>2.011102e+07</td>\n",
       "      <td>9.806518e+09</td>\n",
       "      <td>3.360000e+09</td>\n",
       "      <td>1.077876e+10</td>\n",
       "      <td>0.000000e+00</td>\n",
       "      <td>5.982550e+09</td>\n",
       "      <td>...</td>\n",
       "      <td>6.940605e+08</td>\n",
       "      <td>3.273841e+09</td>\n",
       "      <td>1.274839e+10</td>\n",
       "      <td>1.261600e+08</td>\n",
       "      <td>1.619761e+08</td>\n",
       "      <td>193.000000</td>\n",
       "      <td>3.323403e+07</td>\n",
       "      <td>2.930329e+08</td>\n",
       "      <td>9.105278e+08</td>\n",
       "      <td>2.038200e+08</td>\n",
       "    </tr>\n",
       "    <tr>\n",
       "      <th>max</th>\n",
       "      <td>6.127911e+10</td>\n",
       "      <td>8.508858e+10</td>\n",
       "      <td>7.374231e+07</td>\n",
       "      <td>1.640000e+11</td>\n",
       "      <td>2.017061e+07</td>\n",
       "      <td>9.837840e+10</td>\n",
       "      <td>3.256147e+10</td>\n",
       "      <td>1.030000e+11</td>\n",
       "      <td>6.524231e+07</td>\n",
       "      <td>1.390000e+11</td>\n",
       "      <td>...</td>\n",
       "      <td>1.409257e+10</td>\n",
       "      <td>4.179146e+10</td>\n",
       "      <td>1.510000e+11</td>\n",
       "      <td>1.340000e+11</td>\n",
       "      <td>4.035895e+09</td>\n",
       "      <td>656.000000</td>\n",
       "      <td>2.790916e+09</td>\n",
       "      <td>7.475427e+09</td>\n",
       "      <td>9.850332e+10</td>\n",
       "      <td>1.008517e+10</td>\n",
       "    </tr>\n",
       "  </tbody>\n",
       "</table>\n",
       "<p>8 rows × 54 columns</p>\n",
       "</div>"
      ],
      "text/plain": [
       "            salary2         debt2  receivableL1    nonCAsset2      openDate  \\\n",
       "count  2.930000e+02  2.930000e+02  2.930000e+02  2.930000e+02  3.010000e+02   \n",
       "mean   5.023230e+09  8.146026e+09  2.516802e+05  1.045214e+10  2.005013e+07   \n",
       "std    7.406530e+09  1.255800e+10  4.308072e+06  1.649538e+10  8.893815e+04   \n",
       "min    0.000000e+00  0.000000e+00  0.000000e+00  0.000000e+00  1.978012e+07   \n",
       "25%    1.347918e+09  1.283220e+09  0.000000e+00  2.479446e+09  2.001102e+07   \n",
       "50%    2.365338e+09  3.784553e+09  0.000000e+00  5.591346e+09  2.007113e+07   \n",
       "75%    5.564048e+09  8.465053e+09  0.000000e+00  1.177732e+10  2.011102e+07   \n",
       "max    6.127911e+10  8.508858e+10  7.374231e+07  1.640000e+11  2.017061e+07   \n",
       "\n",
       "               sga2     longLoan2          sga1  receivableL2     netAsset1  \\\n",
       "count  2.930000e+02  2.930000e+02  2.930000e+02  2.930000e+02  2.930000e+02   \n",
       "mean   9.203487e+09  2.709979e+09  1.033244e+10  2.226700e+05  5.938213e+09   \n",
       "std    1.352567e+10  4.564001e+09  1.493886e+10  3.811496e+06  1.266035e+10   \n",
       "min    0.000000e+00  0.000000e+00  0.000000e+00  0.000000e+00 -2.019624e+10   \n",
       "25%    2.253260e+09  0.000000e+00  2.758201e+09  0.000000e+00  1.224795e+09   \n",
       "50%    4.170070e+09  1.100000e+09  4.684074e+09  0.000000e+00  3.033907e+09   \n",
       "75%    9.806518e+09  3.360000e+09  1.077876e+10  0.000000e+00  5.982550e+09   \n",
       "max    9.837840e+10  3.256147e+10  1.030000e+11  6.524231e+07  1.390000e+11   \n",
       "\n",
       "       ...  receivableS1   quickAsset1      revenue1      surplus1  \\\n",
       "count  ...  2.930000e+02  2.930000e+02  2.930000e+02  2.930000e+02   \n",
       "mean   ...  6.975862e+08  3.414762e+09  1.288175e+10  1.265935e+09   \n",
       "std    ...  1.455332e+09  6.093581e+09  2.043543e+10  8.248321e+09   \n",
       "min    ...  0.000000e+00  0.000000e+00  0.000000e+00 -2.914970e+09   \n",
       "25%    ...  0.000000e+00  6.806512e+08  3.252112e+09  0.000000e+00   \n",
       "50%    ...  2.158564e+08  1.473801e+09  5.524218e+09  0.000000e+00   \n",
       "75%    ...  6.940605e+08  3.273841e+09  1.274839e+10  1.261600e+08   \n",
       "max    ...  1.409257e+10  4.179146e+10  1.510000e+11  1.340000e+11   \n",
       "\n",
       "               noi2    bedCount         ctax2       profit1    salescost1  \\\n",
       "count  2.930000e+02  296.000000  2.930000e+02  2.930000e+02  2.930000e+02   \n",
       "mean   2.223813e+08  145.709459  6.832259e+07  2.101700e+08  2.014903e+09   \n",
       "std    5.274637e+08  118.923890  2.428512e+08  1.134673e+09  7.460271e+09   \n",
       "min    0.000000e+00    0.000000  0.000000e+00 -4.696701e+09  0.000000e+00   \n",
       "25%    6.453360e+06   52.750000  0.000000e+00 -2.168279e+06  0.000000e+00   \n",
       "50%    4.326228e+07  136.500000  1.006880e+06  8.130751e+07  2.104105e+08   \n",
       "75%    1.619761e+08  193.000000  3.323403e+07  2.930329e+08  9.105278e+08   \n",
       "max    4.035895e+09  656.000000  2.790916e+09  7.475427e+09  9.850332e+10   \n",
       "\n",
       "        OnonCAsset1  \n",
       "count  2.930000e+02  \n",
       "mean   3.406503e+08  \n",
       "std    9.359381e+08  \n",
       "min    0.000000e+00  \n",
       "25%    9.680000e+05  \n",
       "50%    3.582526e+07  \n",
       "75%    2.038200e+08  \n",
       "max    1.008517e+10  \n",
       "\n",
       "[8 rows x 54 columns]"
      ]
     },
     "execution_count": 63,
     "metadata": {},
     "output_type": "execute_result"
    }
   ],
   "source": [
    "train.describe()"
   ]
  },
  {
   "cell_type": "code",
   "execution_count": 64,
   "metadata": {},
   "outputs": [
    {
     "data": {
      "text/html": [
       "<div>\n",
       "<style scoped>\n",
       "    .dataframe tbody tr th:only-of-type {\n",
       "        vertical-align: middle;\n",
       "    }\n",
       "\n",
       "    .dataframe tbody tr th {\n",
       "        vertical-align: top;\n",
       "    }\n",
       "\n",
       "    .dataframe thead th {\n",
       "        text-align: right;\n",
       "    }\n",
       "</style>\n",
       "<table border=\"1\" class=\"dataframe\">\n",
       "  <thead>\n",
       "    <tr style=\"text-align: right;\">\n",
       "      <th></th>\n",
       "      <th>salary2</th>\n",
       "      <th>debt2</th>\n",
       "      <th>receivableL1</th>\n",
       "      <th>nonCAsset2</th>\n",
       "      <th>openDate</th>\n",
       "      <th>sga2</th>\n",
       "      <th>longLoan2</th>\n",
       "      <th>sga1</th>\n",
       "      <th>receivableL2</th>\n",
       "      <th>netAsset1</th>\n",
       "      <th>...</th>\n",
       "      <th>receivableS1</th>\n",
       "      <th>quickAsset1</th>\n",
       "      <th>revenue1</th>\n",
       "      <th>surplus1</th>\n",
       "      <th>noi2</th>\n",
       "      <th>bedCount</th>\n",
       "      <th>ctax2</th>\n",
       "      <th>profit1</th>\n",
       "      <th>salescost1</th>\n",
       "      <th>OnonCAsset1</th>\n",
       "    </tr>\n",
       "  </thead>\n",
       "  <tbody>\n",
       "    <tr>\n",
       "      <th>count</th>\n",
       "      <td>1.250000e+02</td>\n",
       "      <td>1.250000e+02</td>\n",
       "      <td>1.250000e+02</td>\n",
       "      <td>1.250000e+02</td>\n",
       "      <td>1.260000e+02</td>\n",
       "      <td>1.250000e+02</td>\n",
       "      <td>1.250000e+02</td>\n",
       "      <td>1.250000e+02</td>\n",
       "      <td>1.250000e+02</td>\n",
       "      <td>1.250000e+02</td>\n",
       "      <td>...</td>\n",
       "      <td>1.250000e+02</td>\n",
       "      <td>1.250000e+02</td>\n",
       "      <td>1.250000e+02</td>\n",
       "      <td>1.250000e+02</td>\n",
       "      <td>1.250000e+02</td>\n",
       "      <td>119.000000</td>\n",
       "      <td>1.250000e+02</td>\n",
       "      <td>1.250000e+02</td>\n",
       "      <td>1.250000e+02</td>\n",
       "      <td>1.250000e+02</td>\n",
       "    </tr>\n",
       "    <tr>\n",
       "      <th>mean</th>\n",
       "      <td>6.631639e+09</td>\n",
       "      <td>1.189851e+10</td>\n",
       "      <td>2.624457e+06</td>\n",
       "      <td>1.427785e+10</td>\n",
       "      <td>2.005085e+07</td>\n",
       "      <td>1.210407e+10</td>\n",
       "      <td>4.482682e+09</td>\n",
       "      <td>1.340410e+10</td>\n",
       "      <td>1.973114e+04</td>\n",
       "      <td>6.731170e+09</td>\n",
       "      <td>...</td>\n",
       "      <td>8.704763e+08</td>\n",
       "      <td>4.232245e+09</td>\n",
       "      <td>1.824446e+10</td>\n",
       "      <td>1.985867e+09</td>\n",
       "      <td>4.336847e+08</td>\n",
       "      <td>172.789916</td>\n",
       "      <td>8.150882e+07</td>\n",
       "      <td>3.940712e+08</td>\n",
       "      <td>3.973321e+09</td>\n",
       "      <td>4.048877e+08</td>\n",
       "    </tr>\n",
       "    <tr>\n",
       "      <th>std</th>\n",
       "      <td>1.120355e+10</td>\n",
       "      <td>1.971182e+10</td>\n",
       "      <td>2.910307e+07</td>\n",
       "      <td>2.178418e+10</td>\n",
       "      <td>8.795815e+04</td>\n",
       "      <td>1.917779e+10</td>\n",
       "      <td>7.517020e+09</td>\n",
       "      <td>2.054481e+10</td>\n",
       "      <td>2.206009e+05</td>\n",
       "      <td>1.026399e+10</td>\n",
       "      <td>...</td>\n",
       "      <td>2.227549e+09</td>\n",
       "      <td>7.273518e+09</td>\n",
       "      <td>3.133530e+10</td>\n",
       "      <td>5.569804e+09</td>\n",
       "      <td>1.044751e+09</td>\n",
       "      <td>126.024471</td>\n",
       "      <td>2.236581e+08</td>\n",
       "      <td>1.813462e+09</td>\n",
       "      <td>1.419948e+10</td>\n",
       "      <td>1.060221e+09</td>\n",
       "    </tr>\n",
       "    <tr>\n",
       "      <th>min</th>\n",
       "      <td>0.000000e+00</td>\n",
       "      <td>0.000000e+00</td>\n",
       "      <td>0.000000e+00</td>\n",
       "      <td>0.000000e+00</td>\n",
       "      <td>1.976041e+07</td>\n",
       "      <td>0.000000e+00</td>\n",
       "      <td>0.000000e+00</td>\n",
       "      <td>0.000000e+00</td>\n",
       "      <td>0.000000e+00</td>\n",
       "      <td>-3.821590e+09</td>\n",
       "      <td>...</td>\n",
       "      <td>0.000000e+00</td>\n",
       "      <td>0.000000e+00</td>\n",
       "      <td>0.000000e+00</td>\n",
       "      <td>-8.636718e+09</td>\n",
       "      <td>0.000000e+00</td>\n",
       "      <td>0.000000</td>\n",
       "      <td>0.000000e+00</td>\n",
       "      <td>-5.734451e+09</td>\n",
       "      <td>0.000000e+00</td>\n",
       "      <td>0.000000e+00</td>\n",
       "    </tr>\n",
       "    <tr>\n",
       "      <th>25%</th>\n",
       "      <td>1.364296e+09</td>\n",
       "      <td>1.679896e+09</td>\n",
       "      <td>0.000000e+00</td>\n",
       "      <td>2.857353e+09</td>\n",
       "      <td>2.000083e+07</td>\n",
       "      <td>2.664096e+09</td>\n",
       "      <td>0.000000e+00</td>\n",
       "      <td>3.083860e+09</td>\n",
       "      <td>0.000000e+00</td>\n",
       "      <td>1.735156e+09</td>\n",
       "      <td>...</td>\n",
       "      <td>1.235600e+06</td>\n",
       "      <td>7.549205e+08</td>\n",
       "      <td>3.235889e+09</td>\n",
       "      <td>0.000000e+00</td>\n",
       "      <td>1.038145e+07</td>\n",
       "      <td>94.000000</td>\n",
       "      <td>0.000000e+00</td>\n",
       "      <td>1.060223e+07</td>\n",
       "      <td>0.000000e+00</td>\n",
       "      <td>4.900000e+06</td>\n",
       "    </tr>\n",
       "    <tr>\n",
       "      <th>50%</th>\n",
       "      <td>2.898863e+09</td>\n",
       "      <td>4.494217e+09</td>\n",
       "      <td>0.000000e+00</td>\n",
       "      <td>5.764483e+09</td>\n",
       "      <td>2.007107e+07</td>\n",
       "      <td>5.203995e+09</td>\n",
       "      <td>1.750000e+09</td>\n",
       "      <td>5.716502e+09</td>\n",
       "      <td>0.000000e+00</td>\n",
       "      <td>3.154172e+09</td>\n",
       "      <td>...</td>\n",
       "      <td>2.103920e+08</td>\n",
       "      <td>1.671187e+09</td>\n",
       "      <td>6.637116e+09</td>\n",
       "      <td>0.000000e+00</td>\n",
       "      <td>4.991533e+07</td>\n",
       "      <td>156.000000</td>\n",
       "      <td>0.000000e+00</td>\n",
       "      <td>1.463808e+08</td>\n",
       "      <td>1.896923e+08</td>\n",
       "      <td>5.167408e+07</td>\n",
       "    </tr>\n",
       "    <tr>\n",
       "      <th>75%</th>\n",
       "      <td>7.094176e+09</td>\n",
       "      <td>1.412031e+10</td>\n",
       "      <td>0.000000e+00</td>\n",
       "      <td>1.404397e+10</td>\n",
       "      <td>2.011790e+07</td>\n",
       "      <td>1.262196e+10</td>\n",
       "      <td>4.857048e+09</td>\n",
       "      <td>1.445243e+10</td>\n",
       "      <td>0.000000e+00</td>\n",
       "      <td>6.295769e+09</td>\n",
       "      <td>...</td>\n",
       "      <td>9.626207e+08</td>\n",
       "      <td>3.827923e+09</td>\n",
       "      <td>1.704039e+10</td>\n",
       "      <td>1.208224e+09</td>\n",
       "      <td>2.546526e+08</td>\n",
       "      <td>213.000000</td>\n",
       "      <td>2.602548e+07</td>\n",
       "      <td>4.525557e+08</td>\n",
       "      <td>1.192329e+09</td>\n",
       "      <td>2.400000e+08</td>\n",
       "    </tr>\n",
       "    <tr>\n",
       "      <th>max</th>\n",
       "      <td>7.890070e+10</td>\n",
       "      <td>1.310000e+11</td>\n",
       "      <td>3.253928e+08</td>\n",
       "      <td>1.250000e+11</td>\n",
       "      <td>2.017053e+07</td>\n",
       "      <td>1.220000e+11</td>\n",
       "      <td>3.620288e+10</td>\n",
       "      <td>1.270000e+11</td>\n",
       "      <td>2.466393e+06</td>\n",
       "      <td>4.943404e+10</td>\n",
       "      <td>...</td>\n",
       "      <td>2.144183e+10</td>\n",
       "      <td>4.197965e+10</td>\n",
       "      <td>1.810000e+11</td>\n",
       "      <td>3.411471e+10</td>\n",
       "      <td>6.445390e+09</td>\n",
       "      <td>771.000000</td>\n",
       "      <td>1.336396e+09</td>\n",
       "      <td>1.120816e+10</td>\n",
       "      <td>1.160000e+11</td>\n",
       "      <td>7.537349e+09</td>\n",
       "    </tr>\n",
       "  </tbody>\n",
       "</table>\n",
       "<p>8 rows × 53 columns</p>\n",
       "</div>"
      ],
      "text/plain": [
       "            salary2         debt2  receivableL1    nonCAsset2      openDate  \\\n",
       "count  1.250000e+02  1.250000e+02  1.250000e+02  1.250000e+02  1.260000e+02   \n",
       "mean   6.631639e+09  1.189851e+10  2.624457e+06  1.427785e+10  2.005085e+07   \n",
       "std    1.120355e+10  1.971182e+10  2.910307e+07  2.178418e+10  8.795815e+04   \n",
       "min    0.000000e+00  0.000000e+00  0.000000e+00  0.000000e+00  1.976041e+07   \n",
       "25%    1.364296e+09  1.679896e+09  0.000000e+00  2.857353e+09  2.000083e+07   \n",
       "50%    2.898863e+09  4.494217e+09  0.000000e+00  5.764483e+09  2.007107e+07   \n",
       "75%    7.094176e+09  1.412031e+10  0.000000e+00  1.404397e+10  2.011790e+07   \n",
       "max    7.890070e+10  1.310000e+11  3.253928e+08  1.250000e+11  2.017053e+07   \n",
       "\n",
       "               sga2     longLoan2          sga1  receivableL2     netAsset1  \\\n",
       "count  1.250000e+02  1.250000e+02  1.250000e+02  1.250000e+02  1.250000e+02   \n",
       "mean   1.210407e+10  4.482682e+09  1.340410e+10  1.973114e+04  6.731170e+09   \n",
       "std    1.917779e+10  7.517020e+09  2.054481e+10  2.206009e+05  1.026399e+10   \n",
       "min    0.000000e+00  0.000000e+00  0.000000e+00  0.000000e+00 -3.821590e+09   \n",
       "25%    2.664096e+09  0.000000e+00  3.083860e+09  0.000000e+00  1.735156e+09   \n",
       "50%    5.203995e+09  1.750000e+09  5.716502e+09  0.000000e+00  3.154172e+09   \n",
       "75%    1.262196e+10  4.857048e+09  1.445243e+10  0.000000e+00  6.295769e+09   \n",
       "max    1.220000e+11  3.620288e+10  1.270000e+11  2.466393e+06  4.943404e+10   \n",
       "\n",
       "       ...  receivableS1   quickAsset1      revenue1      surplus1  \\\n",
       "count  ...  1.250000e+02  1.250000e+02  1.250000e+02  1.250000e+02   \n",
       "mean   ...  8.704763e+08  4.232245e+09  1.824446e+10  1.985867e+09   \n",
       "std    ...  2.227549e+09  7.273518e+09  3.133530e+10  5.569804e+09   \n",
       "min    ...  0.000000e+00  0.000000e+00  0.000000e+00 -8.636718e+09   \n",
       "25%    ...  1.235600e+06  7.549205e+08  3.235889e+09  0.000000e+00   \n",
       "50%    ...  2.103920e+08  1.671187e+09  6.637116e+09  0.000000e+00   \n",
       "75%    ...  9.626207e+08  3.827923e+09  1.704039e+10  1.208224e+09   \n",
       "max    ...  2.144183e+10  4.197965e+10  1.810000e+11  3.411471e+10   \n",
       "\n",
       "               noi2    bedCount         ctax2       profit1    salescost1  \\\n",
       "count  1.250000e+02  119.000000  1.250000e+02  1.250000e+02  1.250000e+02   \n",
       "mean   4.336847e+08  172.789916  8.150882e+07  3.940712e+08  3.973321e+09   \n",
       "std    1.044751e+09  126.024471  2.236581e+08  1.813462e+09  1.419948e+10   \n",
       "min    0.000000e+00    0.000000  0.000000e+00 -5.734451e+09  0.000000e+00   \n",
       "25%    1.038145e+07   94.000000  0.000000e+00  1.060223e+07  0.000000e+00   \n",
       "50%    4.991533e+07  156.000000  0.000000e+00  1.463808e+08  1.896923e+08   \n",
       "75%    2.546526e+08  213.000000  2.602548e+07  4.525557e+08  1.192329e+09   \n",
       "max    6.445390e+09  771.000000  1.336396e+09  1.120816e+10  1.160000e+11   \n",
       "\n",
       "        OnonCAsset1  \n",
       "count  1.250000e+02  \n",
       "mean   4.048877e+08  \n",
       "std    1.060221e+09  \n",
       "min    0.000000e+00  \n",
       "25%    4.900000e+06  \n",
       "50%    5.167408e+07  \n",
       "75%    2.400000e+08  \n",
       "max    7.537349e+09  \n",
       "\n",
       "[8 rows x 53 columns]"
      ]
     },
     "execution_count": 64,
     "metadata": {},
     "output_type": "execute_result"
    }
   ],
   "source": [
    "test.describe()"
   ]
  },
  {
   "cell_type": "code",
   "execution_count": 69,
   "metadata": {},
   "outputs": [],
   "source": [
    "corr_train = train.corr()"
   ]
  },
  {
   "cell_type": "code",
   "execution_count": 76,
   "metadata": {},
   "outputs": [
    {
     "data": {
      "text/plain": [
       "<matplotlib.axes._subplots.AxesSubplot at 0x2cf501521c8>"
      ]
     },
     "execution_count": 76,
     "metadata": {},
     "output_type": "execute_result"
    },
    {
     "data": {
      "image/png": "[encoded data removed]",
      "text/plain": [
       "<Figure size 1440x864 with 2 Axes>"
      ]
     },
     "metadata": {
      "needs_background": "light"
     },
     "output_type": "display_data"
    }
   ],
   "source": [
    "# Generate a mask for the upper triangle\n",
    "mask = np.triu(np.ones_like(corr_train, dtype=bool))\n",
    "\n",
    "# Set up the matplotlib figure\n",
    "f, ax = plt.subplots(figsize=(20, 12))\n",
    "\n",
    "# Generate a custom diverging colormap\n",
    "cmap = sns.diverging_palette(230, 20, as_cmap=True)\n",
    "\n",
    "# Draw the heatmap with the mask and correct aspect ratio\n",
    "sns.heatmap(corr_train, mask=mask, cmap=cmap, vmax=.3, center=0,\n",
    "            square=True, linewidths=.5, cbar_kws={\"shrink\": .5})"
   ]
  },
  {
   "cell_type": "code",
   "execution_count": 75,
   "metadata": {},
   "outputs": [
    {
     "data": {
      "text/plain": [
       "0        open\n",
       "1        open\n",
       "2        open\n",
       "3        open\n",
       "4        open\n",
       "        ...  \n",
       "296      open\n",
       "297     close\n",
       "298     close\n",
       "299     close\n",
       "300      open\n",
       "Name: OC, Length: 301, dtype: object"
      ]
     },
     "execution_count": 75,
     "metadata": {},
     "output_type": "execute_result"
    }
   ],
   "source": [
    "train[\"OC\"]"
   ]
  },
  {
   "cell_type": "code",
   "execution_count": null,
   "metadata": {},
   "outputs": [],
   "source": [
    "train['']"
   ]
  },
  {
   "cell_type": "code",
   "execution_count": 31,
   "metadata": {},
   "outputs": [
    {
     "data": {
      "text/plain": [
       "['T',\n",
       " '__abs__',\n",
       " '__add__',\n",
       " '__and__',\n",
       " '__array__',\n",
       " '__array_finalize__',\n",
       " '__array_function__',\n",
       " '__array_interface__',\n",
       " '__array_prepare__',\n",
       " '__array_priority__',\n",
       " '__array_struct__',\n",
       " '__array_ufunc__',\n",
       " '__array_wrap__',\n",
       " '__bool__',\n",
       " '__class__',\n",
       " '__complex__',\n",
       " '__contains__',\n",
       " '__copy__',\n",
       " '__deepcopy__',\n",
       " '__delattr__',\n",
       " '__delitem__',\n",
       " '__dir__',\n",
       " '__divmod__',\n",
       " '__doc__',\n",
       " '__eq__',\n",
       " '__float__',\n",
       " '__floordiv__',\n",
       " '__format__',\n",
       " '__ge__',\n",
       " '__getattribute__',\n",
       " '__getitem__',\n",
       " '__gt__',\n",
       " '__hash__',\n",
       " '__iadd__',\n",
       " '__iand__',\n",
       " '__ifloordiv__',\n",
       " '__ilshift__',\n",
       " '__imatmul__',\n",
       " '__imod__',\n",
       " '__imul__',\n",
       " '__index__',\n",
       " '__init__',\n",
       " '__init_subclass__',\n",
       " '__int__',\n",
       " '__invert__',\n",
       " '__ior__',\n",
       " '__ipow__',\n",
       " '__irshift__',\n",
       " '__isub__',\n",
       " '__iter__',\n",
       " '__itruediv__',\n",
       " '__ixor__',\n",
       " '__le__',\n",
       " '__len__',\n",
       " '__lshift__',\n",
       " '__lt__',\n",
       " '__matmul__',\n",
       " '__mod__',\n",
       " '__mul__',\n",
       " '__ne__',\n",
       " '__neg__',\n",
       " '__new__',\n",
       " '__or__',\n",
       " '__pos__',\n",
       " '__pow__',\n",
       " '__radd__',\n",
       " '__rand__',\n",
       " '__rdivmod__',\n",
       " '__reduce__',\n",
       " '__reduce_ex__',\n",
       " '__repr__',\n",
       " '__rfloordiv__',\n",
       " '__rlshift__',\n",
       " '__rmatmul__',\n",
       " '__rmod__',\n",
       " '__rmul__',\n",
       " '__ror__',\n",
       " '__rpow__',\n",
       " '__rrshift__',\n",
       " '__rshift__',\n",
       " '__rsub__',\n",
       " '__rtruediv__',\n",
       " '__rxor__',\n",
       " '__setattr__',\n",
       " '__setitem__',\n",
       " '__setstate__',\n",
       " '__sizeof__',\n",
       " '__str__',\n",
       " '__sub__',\n",
       " '__subclasshook__',\n",
       " '__truediv__',\n",
       " '__xor__',\n",
       " 'all',\n",
       " 'any',\n",
       " 'argmax',\n",
       " 'argmin',\n",
       " 'argpartition',\n",
       " 'argsort',\n",
       " 'astype',\n",
       " 'base',\n",
       " 'byteswap',\n",
       " 'choose',\n",
       " 'clip',\n",
       " 'compress',\n",
       " 'conj',\n",
       " 'conjugate',\n",
       " 'copy',\n",
       " 'ctypes',\n",
       " 'cumprod',\n",
       " 'cumsum',\n",
       " 'data',\n",
       " 'diagonal',\n",
       " 'dot',\n",
       " 'dtype',\n",
       " 'dump',\n",
       " 'dumps',\n",
       " 'fill',\n",
       " 'flags',\n",
       " 'flat',\n",
       " 'flatten',\n",
       " 'getfield',\n",
       " 'imag',\n",
       " 'item',\n",
       " 'itemset',\n",
       " 'itemsize',\n",
       " 'max',\n",
       " 'mean',\n",
       " 'min',\n",
       " 'nbytes',\n",
       " 'ndim',\n",
       " 'newbyteorder',\n",
       " 'nonzero',\n",
       " 'partition',\n",
       " 'prod',\n",
       " 'ptp',\n",
       " 'put',\n",
       " 'ravel',\n",
       " 'real',\n",
       " 'repeat',\n",
       " 'reshape',\n",
       " 'resize',\n",
       " 'round',\n",
       " 'searchsorted',\n",
       " 'setfield',\n",
       " 'setflags',\n",
       " 'shape',\n",
       " 'size',\n",
       " 'sort',\n",
       " 'squeeze',\n",
       " 'std',\n",
       " 'strides',\n",
       " 'sum',\n",
       " 'swapaxes',\n",
       " 'take',\n",
       " 'tobytes',\n",
       " 'tofile',\n",
       " 'tolist',\n",
       " 'tostring',\n",
       " 'trace',\n",
       " 'transpose',\n",
       " 'var',\n",
       " 'view']"
      ]
     },
     "execution_count": 31,
     "metadata": {},
     "output_type": "execute_result"
    }
   ],
   "source": [
    "dir(ax[0])"
   ]
  },
  {
   "cell_type": "code",
   "execution_count": 27,
   "metadata": {},
   "outputs": [
    {
     "data": {
      "image/png": "[encoded data removed]",
      "text/plain": [
       "<Figure size 432x288 with 1 Axes>"
      ]
     },
     "metadata": {
      "needs_background": "light"
     },
     "output_type": "display_data"
    }
   ],
   "source": [
    "ax[0] = plt.plot(range(1,10,2))"
   ]
  },
  {
   "cell_type": "code",
   "execution_count": 24,
   "metadata": {},
   "outputs": [
    {
     "data": {
      "image/png": "[encoded data removed]",
      "text/plain": [
       "<Figure size 432x288 with 1 Axes>"
      ]
     },
     "metadata": {
      "needs_background": "light"
     },
     "output_type": "display_data"
    }
   ],
   "source": [
    "ax1 = plt.subplot(621)\n"
   ]
  },
  {
   "cell_type": "code",
   "execution_count": 9,
   "metadata": {},
   "outputs": [
    {
     "data": {
      "text/plain": [
       "True"
      ]
     },
     "execution_count": 9,
     "metadata": {},
     "output_type": "execute_result"
    }
   ],
   "source": [
    "# 우리의 target 'OC'도 test의 columns에 있다\n",
    "'OC' in test.columns"
   ]
  },
  {
   "cell_type": "code",
   "execution_count": 61,
   "metadata": {},
   "outputs": [
    {
     "data": {
      "text/plain": [
       "<matplotlib.axes._subplots.AxesSubplot at 0x14fcec01b48>"
      ]
     },
     "execution_count": 61,
     "metadata": {},
     "output_type": "execute_result"
    },
    {
     "data": {
      "image/png": "[encoded data removed]",
      "text/plain": [
       "<Figure size 1800x720 with 2 Axes>"
      ]
     },
     "metadata": {
      "needs_background": "light"
     },
     "output_type": "display_data"
    }
   ],
   "source": [
    "msno.matrix(train)"
   ]
  },
  {
   "cell_type": "code",
   "execution_count": 62,
   "metadata": {},
   "outputs": [
    {
     "data": {
      "text/plain": [
       "<matplotlib.axes._subplots.AxesSubplot at 0x14fcf229848>"
      ]
     },
     "execution_count": 62,
     "metadata": {},
     "output_type": "execute_result"
    },
    {
     "data": {
      "image/png": "[encoded data removed]",
      "text/plain": [
       "<Figure size 1800x720 with 2 Axes>"
      ]
     },
     "metadata": {
      "needs_background": "light"
     },
     "output_type": "display_data"
    }
   ],
   "source": [
    "msno.matrix(test)"
   ]
  },
  {
   "cell_type": "code",
   "execution_count": 63,
   "metadata": {},
   "outputs": [
    {
     "data": {
      "text/html": [
       "<div>\n",
       "<style scoped>\n",
       "    .dataframe tbody tr th:only-of-type {\n",
       "        vertical-align: middle;\n",
       "    }\n",
       "\n",
       "    .dataframe tbody tr th {\n",
       "        vertical-align: top;\n",
       "    }\n",
       "\n",
       "    .dataframe thead th {\n",
       "        text-align: right;\n",
       "    }\n",
       "</style>\n",
       "<table border=\"1\" class=\"dataframe\">\n",
       "  <thead>\n",
       "    <tr style=\"text-align: right;\">\n",
       "      <th></th>\n",
       "      <th>inst_id</th>\n",
       "      <th>sgg</th>\n",
       "      <th>openDate</th>\n",
       "      <th>bedCount</th>\n",
       "      <th>revenue1</th>\n",
       "      <th>salescost1</th>\n",
       "      <th>sga1</th>\n",
       "      <th>salary1</th>\n",
       "      <th>noi1</th>\n",
       "      <th>noe1</th>\n",
       "      <th>...</th>\n",
       "      <th>receivableL2</th>\n",
       "      <th>debt2</th>\n",
       "      <th>liquidLiabilities2</th>\n",
       "      <th>shortLoan2</th>\n",
       "      <th>NCLiabilities2</th>\n",
       "      <th>longLoan2</th>\n",
       "      <th>netAsset2</th>\n",
       "      <th>surplus2</th>\n",
       "      <th>employee1</th>\n",
       "      <th>employee2</th>\n",
       "    </tr>\n",
       "  </thead>\n",
       "  <tbody>\n",
       "    <tr>\n",
       "      <th>count</th>\n",
       "      <td>301.000000</td>\n",
       "      <td>301.000000</td>\n",
       "      <td>3.010000e+02</td>\n",
       "      <td>296.000000</td>\n",
       "      <td>2.930000e+02</td>\n",
       "      <td>2.930000e+02</td>\n",
       "      <td>2.930000e+02</td>\n",
       "      <td>2.930000e+02</td>\n",
       "      <td>2.930000e+02</td>\n",
       "      <td>2.930000e+02</td>\n",
       "      <td>...</td>\n",
       "      <td>2.930000e+02</td>\n",
       "      <td>2.930000e+02</td>\n",
       "      <td>2.930000e+02</td>\n",
       "      <td>2.930000e+02</td>\n",
       "      <td>2.930000e+02</td>\n",
       "      <td>2.930000e+02</td>\n",
       "      <td>2.930000e+02</td>\n",
       "      <td>2.930000e+02</td>\n",
       "      <td>291.000000</td>\n",
       "      <td>288.000000</td>\n",
       "    </tr>\n",
       "    <tr>\n",
       "      <th>mean</th>\n",
       "      <td>219.056478</td>\n",
       "      <td>81.039867</td>\n",
       "      <td>2.005013e+07</td>\n",
       "      <td>145.709459</td>\n",
       "      <td>1.288175e+10</td>\n",
       "      <td>2.014903e+09</td>\n",
       "      <td>1.033244e+10</td>\n",
       "      <td>5.654115e+09</td>\n",
       "      <td>2.696151e+08</td>\n",
       "      <td>5.115870e+08</td>\n",
       "      <td>...</td>\n",
       "      <td>2.226700e+05</td>\n",
       "      <td>8.146026e+09</td>\n",
       "      <td>3.860584e+09</td>\n",
       "      <td>1.510050e+09</td>\n",
       "      <td>4.471247e+09</td>\n",
       "      <td>2.709979e+09</td>\n",
       "      <td>5.273919e+09</td>\n",
       "      <td>9.786279e+08</td>\n",
       "      <td>142.546392</td>\n",
       "      <td>134.326389</td>\n",
       "    </tr>\n",
       "    <tr>\n",
       "      <th>std</th>\n",
       "      <td>121.234869</td>\n",
       "      <td>50.969714</td>\n",
       "      <td>8.893815e+04</td>\n",
       "      <td>118.923890</td>\n",
       "      <td>2.043543e+10</td>\n",
       "      <td>7.460271e+09</td>\n",
       "      <td>1.493886e+10</td>\n",
       "      <td>8.083343e+09</td>\n",
       "      <td>8.023701e+08</td>\n",
       "      <td>1.060379e+09</td>\n",
       "      <td>...</td>\n",
       "      <td>3.811496e+06</td>\n",
       "      <td>1.255800e+10</td>\n",
       "      <td>6.797242e+09</td>\n",
       "      <td>2.953412e+09</td>\n",
       "      <td>7.659580e+09</td>\n",
       "      <td>4.564001e+09</td>\n",
       "      <td>1.081259e+10</td>\n",
       "      <td>4.688798e+09</td>\n",
       "      <td>160.191073</td>\n",
       "      <td>151.061786</td>\n",
       "    </tr>\n",
       "    <tr>\n",
       "      <th>min</th>\n",
       "      <td>1.000000</td>\n",
       "      <td>1.000000</td>\n",
       "      <td>1.978012e+07</td>\n",
       "      <td>0.000000</td>\n",
       "      <td>0.000000e+00</td>\n",
       "      <td>0.000000e+00</td>\n",
       "      <td>0.000000e+00</td>\n",
       "      <td>0.000000e+00</td>\n",
       "      <td>0.000000e+00</td>\n",
       "      <td>0.000000e+00</td>\n",
       "      <td>...</td>\n",
       "      <td>0.000000e+00</td>\n",
       "      <td>0.000000e+00</td>\n",
       "      <td>0.000000e+00</td>\n",
       "      <td>0.000000e+00</td>\n",
       "      <td>0.000000e+00</td>\n",
       "      <td>0.000000e+00</td>\n",
       "      <td>-2.014780e+10</td>\n",
       "      <td>-2.781507e+09</td>\n",
       "      <td>0.000000</td>\n",
       "      <td>0.000000</td>\n",
       "    </tr>\n",
       "    <tr>\n",
       "      <th>25%</th>\n",
       "      <td>112.000000</td>\n",
       "      <td>37.000000</td>\n",
       "      <td>2.001102e+07</td>\n",
       "      <td>52.750000</td>\n",
       "      <td>3.252112e+09</td>\n",
       "      <td>0.000000e+00</td>\n",
       "      <td>2.758201e+09</td>\n",
       "      <td>1.626053e+09</td>\n",
       "      <td>8.217133e+06</td>\n",
       "      <td>8.013395e+07</td>\n",
       "      <td>...</td>\n",
       "      <td>0.000000e+00</td>\n",
       "      <td>1.283220e+09</td>\n",
       "      <td>2.855741e+08</td>\n",
       "      <td>0.000000e+00</td>\n",
       "      <td>2.557878e+07</td>\n",
       "      <td>0.000000e+00</td>\n",
       "      <td>1.017573e+09</td>\n",
       "      <td>0.000000e+00</td>\n",
       "      <td>53.500000</td>\n",
       "      <td>53.750000</td>\n",
       "    </tr>\n",
       "    <tr>\n",
       "      <th>50%</th>\n",
       "      <td>230.000000</td>\n",
       "      <td>75.000000</td>\n",
       "      <td>2.007113e+07</td>\n",
       "      <td>136.500000</td>\n",
       "      <td>5.524218e+09</td>\n",
       "      <td>2.104105e+08</td>\n",
       "      <td>4.684074e+09</td>\n",
       "      <td>2.659892e+09</td>\n",
       "      <td>4.363764e+07</td>\n",
       "      <td>1.831965e+08</td>\n",
       "      <td>...</td>\n",
       "      <td>0.000000e+00</td>\n",
       "      <td>3.784553e+09</td>\n",
       "      <td>1.454050e+09</td>\n",
       "      <td>8.542549e+07</td>\n",
       "      <td>1.969747e+09</td>\n",
       "      <td>1.100000e+09</td>\n",
       "      <td>2.894970e+09</td>\n",
       "      <td>0.000000e+00</td>\n",
       "      <td>80.000000</td>\n",
       "      <td>79.000000</td>\n",
       "    </tr>\n",
       "    <tr>\n",
       "      <th>75%</th>\n",
       "      <td>321.000000</td>\n",
       "      <td>123.000000</td>\n",
       "      <td>2.011102e+07</td>\n",
       "      <td>193.000000</td>\n",
       "      <td>1.274839e+10</td>\n",
       "      <td>9.105278e+08</td>\n",
       "      <td>1.077876e+10</td>\n",
       "      <td>6.363400e+09</td>\n",
       "      <td>2.050331e+08</td>\n",
       "      <td>4.203330e+08</td>\n",
       "      <td>...</td>\n",
       "      <td>0.000000e+00</td>\n",
       "      <td>8.465053e+09</td>\n",
       "      <td>4.364714e+09</td>\n",
       "      <td>1.567967e+09</td>\n",
       "      <td>4.905441e+09</td>\n",
       "      <td>3.360000e+09</td>\n",
       "      <td>5.370285e+09</td>\n",
       "      <td>1.014447e+08</td>\n",
       "      <td>181.500000</td>\n",
       "      <td>170.000000</td>\n",
       "    </tr>\n",
       "    <tr>\n",
       "      <th>max</th>\n",
       "      <td>428.000000</td>\n",
       "      <td>178.000000</td>\n",
       "      <td>2.017061e+07</td>\n",
       "      <td>656.000000</td>\n",
       "      <td>1.510000e+11</td>\n",
       "      <td>9.850332e+10</td>\n",
       "      <td>1.030000e+11</td>\n",
       "      <td>6.403559e+10</td>\n",
       "      <td>9.144171e+09</td>\n",
       "      <td>8.686380e+09</td>\n",
       "      <td>...</td>\n",
       "      <td>6.524231e+07</td>\n",
       "      <td>8.508858e+10</td>\n",
       "      <td>6.846878e+10</td>\n",
       "      <td>1.759375e+10</td>\n",
       "      <td>5.150388e+10</td>\n",
       "      <td>3.256147e+10</td>\n",
       "      <td>1.250000e+11</td>\n",
       "      <td>6.852730e+10</td>\n",
       "      <td>1200.000000</td>\n",
       "      <td>1200.000000</td>\n",
       "    </tr>\n",
       "  </tbody>\n",
       "</table>\n",
       "<p>8 rows × 54 columns</p>\n",
       "</div>"
      ],
      "text/plain": [
       "          inst_id         sgg      openDate    bedCount      revenue1  \\\n",
       "count  301.000000  301.000000  3.010000e+02  296.000000  2.930000e+02   \n",
       "mean   219.056478   81.039867  2.005013e+07  145.709459  1.288175e+10   \n",
       "std    121.234869   50.969714  8.893815e+04  118.923890  2.043543e+10   \n",
       "min      1.000000    1.000000  1.978012e+07    0.000000  0.000000e+00   \n",
       "25%    112.000000   37.000000  2.001102e+07   52.750000  3.252112e+09   \n",
       "50%    230.000000   75.000000  2.007113e+07  136.500000  5.524218e+09   \n",
       "75%    321.000000  123.000000  2.011102e+07  193.000000  1.274839e+10   \n",
       "max    428.000000  178.000000  2.017061e+07  656.000000  1.510000e+11   \n",
       "\n",
       "         salescost1          sga1       salary1          noi1          noe1  \\\n",
       "count  2.930000e+02  2.930000e+02  2.930000e+02  2.930000e+02  2.930000e+02   \n",
       "mean   2.014903e+09  1.033244e+10  5.654115e+09  2.696151e+08  5.115870e+08   \n",
       "std    7.460271e+09  1.493886e+10  8.083343e+09  8.023701e+08  1.060379e+09   \n",
       "min    0.000000e+00  0.000000e+00  0.000000e+00  0.000000e+00  0.000000e+00   \n",
       "25%    0.000000e+00  2.758201e+09  1.626053e+09  8.217133e+06  8.013395e+07   \n",
       "50%    2.104105e+08  4.684074e+09  2.659892e+09  4.363764e+07  1.831965e+08   \n",
       "75%    9.105278e+08  1.077876e+10  6.363400e+09  2.050331e+08  4.203330e+08   \n",
       "max    9.850332e+10  1.030000e+11  6.403559e+10  9.144171e+09  8.686380e+09   \n",
       "\n",
       "       ...  receivableL2         debt2  liquidLiabilities2    shortLoan2  \\\n",
       "count  ...  2.930000e+02  2.930000e+02        2.930000e+02  2.930000e+02   \n",
       "mean   ...  2.226700e+05  8.146026e+09        3.860584e+09  1.510050e+09   \n",
       "std    ...  3.811496e+06  1.255800e+10        6.797242e+09  2.953412e+09   \n",
       "min    ...  0.000000e+00  0.000000e+00        0.000000e+00  0.000000e+00   \n",
       "25%    ...  0.000000e+00  1.283220e+09        2.855741e+08  0.000000e+00   \n",
       "50%    ...  0.000000e+00  3.784553e+09        1.454050e+09  8.542549e+07   \n",
       "75%    ...  0.000000e+00  8.465053e+09        4.364714e+09  1.567967e+09   \n",
       "max    ...  6.524231e+07  8.508858e+10        6.846878e+10  1.759375e+10   \n",
       "\n",
       "       NCLiabilities2     longLoan2     netAsset2      surplus2    employee1  \\\n",
       "count    2.930000e+02  2.930000e+02  2.930000e+02  2.930000e+02   291.000000   \n",
       "mean     4.471247e+09  2.709979e+09  5.273919e+09  9.786279e+08   142.546392   \n",
       "std      7.659580e+09  4.564001e+09  1.081259e+10  4.688798e+09   160.191073   \n",
       "min      0.000000e+00  0.000000e+00 -2.014780e+10 -2.781507e+09     0.000000   \n",
       "25%      2.557878e+07  0.000000e+00  1.017573e+09  0.000000e+00    53.500000   \n",
       "50%      1.969747e+09  1.100000e+09  2.894970e+09  0.000000e+00    80.000000   \n",
       "75%      4.905441e+09  3.360000e+09  5.370285e+09  1.014447e+08   181.500000   \n",
       "max      5.150388e+10  3.256147e+10  1.250000e+11  6.852730e+10  1200.000000   \n",
       "\n",
       "         employee2  \n",
       "count   288.000000  \n",
       "mean    134.326389  \n",
       "std     151.061786  \n",
       "min       0.000000  \n",
       "25%      53.750000  \n",
       "50%      79.000000  \n",
       "75%     170.000000  \n",
       "max    1200.000000  \n",
       "\n",
       "[8 rows x 54 columns]"
      ]
     },
     "execution_count": 63,
     "metadata": {},
     "output_type": "execute_result"
    }
   ],
   "source": [
    "train.describe()"
   ]
  },
  {
   "cell_type": "code",
   "execution_count": 64,
   "metadata": {
    "scrolled": true
   },
   "outputs": [
    {
     "data": {
      "text/plain": [
       "gyeonggi     49\n",
       "gyeongbuk    39\n",
       "gyeongnam    35\n",
       "busan        26\n",
       "choongnam    23\n",
       "jeonnam      21\n",
       "seoul        19\n",
       "jeonbuk      18\n",
       "daegu        14\n",
       "choongbuk    13\n",
       "daejeon      13\n",
       "gangwon      10\n",
       "incheon      10\n",
       "ulsan         8\n",
       "gwangju       2\n",
       "sejong        1\n",
       "Name: sido, dtype: int64"
      ]
     },
     "execution_count": 64,
     "metadata": {},
     "output_type": "execute_result"
    }
   ],
   "source": [
    "# sido, instkind, ownerChange\n",
    "\n",
    "train['sido'].value_counts()"
   ]
  },
  {
   "cell_type": "code",
   "execution_count": 65,
   "metadata": {},
   "outputs": [
    {
     "data": {
      "text/plain": [
       "nursing_hospital        144\n",
       "hospital                 88\n",
       "general_hospital         37\n",
       "clinic                   18\n",
       "traditional_hospital      8\n",
       "traditional_clinic        4\n",
       "dental_clinic             1\n",
       "Name: instkind, dtype: int64"
      ]
     },
     "execution_count": 65,
     "metadata": {},
     "output_type": "execute_result"
    }
   ],
   "source": [
    "train['instkind'].value_counts()"
   ]
  },
  {
   "cell_type": "code",
   "execution_count": 66,
   "metadata": {},
   "outputs": [
    {
     "data": {
      "text/plain": [
       "same      247\n",
       "change     42\n",
       "Name: ownerChange, dtype: int64"
      ]
     },
     "execution_count": 66,
     "metadata": {},
     "output_type": "execute_result"
    }
   ],
   "source": [
    "train['ownerChange'].value_counts()"
   ]
  },
  {
   "cell_type": "code",
   "execution_count": 74,
   "metadata": {
    "scrolled": true
   },
   "outputs": [
    {
     "data": {
      "text/html": [
       "<div>\n",
       "<style scoped>\n",
       "    .dataframe tbody tr th:only-of-type {\n",
       "        vertical-align: middle;\n",
       "    }\n",
       "\n",
       "    .dataframe tbody tr th {\n",
       "        vertical-align: top;\n",
       "    }\n",
       "\n",
       "    .dataframe thead th {\n",
       "        text-align: right;\n",
       "    }\n",
       "</style>\n",
       "<table border=\"1\" class=\"dataframe\">\n",
       "  <thead>\n",
       "    <tr style=\"text-align: right;\">\n",
       "      <th></th>\n",
       "      <th>inst_id</th>\n",
       "      <th>OC</th>\n",
       "      <th>sido</th>\n",
       "      <th>sgg</th>\n",
       "      <th>openDate</th>\n",
       "      <th>bedCount</th>\n",
       "      <th>instkind</th>\n",
       "      <th>revenue1</th>\n",
       "      <th>salescost1</th>\n",
       "      <th>sga1</th>\n",
       "      <th>...</th>\n",
       "      <th>debt2</th>\n",
       "      <th>liquidLiabilities2</th>\n",
       "      <th>shortLoan2</th>\n",
       "      <th>NCLiabilities2</th>\n",
       "      <th>longLoan2</th>\n",
       "      <th>netAsset2</th>\n",
       "      <th>surplus2</th>\n",
       "      <th>employee1</th>\n",
       "      <th>employee2</th>\n",
       "      <th>ownerChange</th>\n",
       "    </tr>\n",
       "  </thead>\n",
       "  <tbody>\n",
       "    <tr>\n",
       "      <th>0</th>\n",
       "      <td>1</td>\n",
       "      <td>open</td>\n",
       "      <td>choongnam</td>\n",
       "      <td>73</td>\n",
       "      <td>20071228.0</td>\n",
       "      <td>175.0</td>\n",
       "      <td>nursing_hospital</td>\n",
       "      <td>4.217530e+09</td>\n",
       "      <td>0.0</td>\n",
       "      <td>3.961135e+09</td>\n",
       "      <td>...</td>\n",
       "      <td>7.589937e+08</td>\n",
       "      <td>2.228769e+08</td>\n",
       "      <td>0.000000e+00</td>\n",
       "      <td>5.361169e+08</td>\n",
       "      <td>3.900000e+08</td>\n",
       "      <td>2.619290e+09</td>\n",
       "      <td>1.271224e+09</td>\n",
       "      <td>62</td>\n",
       "      <td>64</td>\n",
       "      <td>same</td>\n",
       "    </tr>\n",
       "    <tr>\n",
       "      <th>1</th>\n",
       "      <td>3</td>\n",
       "      <td>open</td>\n",
       "      <td>gyeongnam</td>\n",
       "      <td>32</td>\n",
       "      <td>19970401.0</td>\n",
       "      <td>410.0</td>\n",
       "      <td>general_hospital</td>\n",
       "      <td>NaN</td>\n",
       "      <td>NaN</td>\n",
       "      <td>NaN</td>\n",
       "      <td>...</td>\n",
       "      <td>NaN</td>\n",
       "      <td>NaN</td>\n",
       "      <td>NaN</td>\n",
       "      <td>NaN</td>\n",
       "      <td>NaN</td>\n",
       "      <td>NaN</td>\n",
       "      <td>NaN</td>\n",
       "      <td>801</td>\n",
       "      <td>813</td>\n",
       "      <td>same</td>\n",
       "    </tr>\n",
       "    <tr>\n",
       "      <th>2</th>\n",
       "      <td>4</td>\n",
       "      <td>open</td>\n",
       "      <td>gyeonggi</td>\n",
       "      <td>89</td>\n",
       "      <td>20161228.0</td>\n",
       "      <td>468.0</td>\n",
       "      <td>nursing_hospital</td>\n",
       "      <td>1.004522e+09</td>\n",
       "      <td>515483669.0</td>\n",
       "      <td>4.472197e+08</td>\n",
       "      <td>...</td>\n",
       "      <td>0.000000e+00</td>\n",
       "      <td>0.000000e+00</td>\n",
       "      <td>0.000000e+00</td>\n",
       "      <td>0.000000e+00</td>\n",
       "      <td>0.000000e+00</td>\n",
       "      <td>0.000000e+00</td>\n",
       "      <td>0.000000e+00</td>\n",
       "      <td>234</td>\n",
       "      <td>1</td>\n",
       "      <td>same</td>\n",
       "    </tr>\n",
       "    <tr>\n",
       "      <th>3</th>\n",
       "      <td>7</td>\n",
       "      <td>open</td>\n",
       "      <td>incheon</td>\n",
       "      <td>141</td>\n",
       "      <td>20000814.0</td>\n",
       "      <td>353.0</td>\n",
       "      <td>general_hospital</td>\n",
       "      <td>7.250734e+10</td>\n",
       "      <td>0.0</td>\n",
       "      <td>7.067740e+10</td>\n",
       "      <td>...</td>\n",
       "      <td>3.775501e+10</td>\n",
       "      <td>1.701860e+10</td>\n",
       "      <td>9.219427e+09</td>\n",
       "      <td>2.073641e+10</td>\n",
       "      <td>1.510000e+10</td>\n",
       "      <td>1.295427e+10</td>\n",
       "      <td>7.740829e+09</td>\n",
       "      <td>663</td>\n",
       "      <td>663</td>\n",
       "      <td>same</td>\n",
       "    </tr>\n",
       "    <tr>\n",
       "      <th>4</th>\n",
       "      <td>9</td>\n",
       "      <td>open</td>\n",
       "      <td>gyeongnam</td>\n",
       "      <td>32</td>\n",
       "      <td>20050901.0</td>\n",
       "      <td>196.0</td>\n",
       "      <td>general_hospital</td>\n",
       "      <td>4.904354e+10</td>\n",
       "      <td>0.0</td>\n",
       "      <td>4.765605e+10</td>\n",
       "      <td>...</td>\n",
       "      <td>5.143259e+10</td>\n",
       "      <td>3.007259e+10</td>\n",
       "      <td>1.759375e+10</td>\n",
       "      <td>2.136001e+10</td>\n",
       "      <td>1.410803e+10</td>\n",
       "      <td>5.561941e+06</td>\n",
       "      <td>9.025550e+09</td>\n",
       "      <td>206</td>\n",
       "      <td>197</td>\n",
       "      <td>same</td>\n",
       "    </tr>\n",
       "  </tbody>\n",
       "</table>\n",
       "<p>5 rows × 58 columns</p>\n",
       "</div>"
      ],
      "text/plain": [
       "   inst_id    OC       sido  sgg    openDate  bedCount          instkind  \\\n",
       "0        1  open  choongnam   73  20071228.0     175.0  nursing_hospital   \n",
       "1        3  open  gyeongnam   32  19970401.0     410.0  general_hospital   \n",
       "2        4  open   gyeonggi   89  20161228.0     468.0  nursing_hospital   \n",
       "3        7  open    incheon  141  20000814.0     353.0  general_hospital   \n",
       "4        9  open  gyeongnam   32  20050901.0     196.0  general_hospital   \n",
       "\n",
       "       revenue1   salescost1          sga1  ...         debt2  \\\n",
       "0  4.217530e+09          0.0  3.961135e+09  ...  7.589937e+08   \n",
       "1           NaN          NaN           NaN  ...           NaN   \n",
       "2  1.004522e+09  515483669.0  4.472197e+08  ...  0.000000e+00   \n",
       "3  7.250734e+10          0.0  7.067740e+10  ...  3.775501e+10   \n",
       "4  4.904354e+10          0.0  4.765605e+10  ...  5.143259e+10   \n",
       "\n",
       "   liquidLiabilities2    shortLoan2  NCLiabilities2     longLoan2  \\\n",
       "0        2.228769e+08  0.000000e+00    5.361169e+08  3.900000e+08   \n",
       "1                 NaN           NaN             NaN           NaN   \n",
       "2        0.000000e+00  0.000000e+00    0.000000e+00  0.000000e+00   \n",
       "3        1.701860e+10  9.219427e+09    2.073641e+10  1.510000e+10   \n",
       "4        3.007259e+10  1.759375e+10    2.136001e+10  1.410803e+10   \n",
       "\n",
       "      netAsset2      surplus2  employee1  employee2  ownerChange  \n",
       "0  2.619290e+09  1.271224e+09         62         64         same  \n",
       "1           NaN           NaN        801        813         same  \n",
       "2  0.000000e+00  0.000000e+00        234          1         same  \n",
       "3  1.295427e+10  7.740829e+09        663        663         same  \n",
       "4  5.561941e+06  9.025550e+09        206        197         same  \n",
       "\n",
       "[5 rows x 58 columns]"
      ]
     },
     "execution_count": 74,
     "metadata": {},
     "output_type": "execute_result"
    }
   ],
   "source": [
    "total.head()"
   ]
  },
  {
   "cell_type": "code",
   "execution_count": 92,
   "metadata": {},
   "outputs": [],
   "source": [
    "total = pd.concat([train,test])"
   ]
  },
  {
   "cell_type": "code",
   "execution_count": 94,
   "metadata": {
    "scrolled": true
   },
   "outputs": [
    {
     "data": {
      "text/html": [
       "<div>\n",
       "<style scoped>\n",
       "    .dataframe tbody tr th:only-of-type {\n",
       "        vertical-align: middle;\n",
       "    }\n",
       "\n",
       "    .dataframe tbody tr th {\n",
       "        vertical-align: top;\n",
       "    }\n",
       "\n",
       "    .dataframe thead th {\n",
       "        text-align: right;\n",
       "    }\n",
       "</style>\n",
       "<table border=\"1\" class=\"dataframe\">\n",
       "  <thead>\n",
       "    <tr style=\"text-align: right;\">\n",
       "      <th></th>\n",
       "      <th>sido</th>\n",
       "    </tr>\n",
       "  </thead>\n",
       "  <tbody>\n",
       "    <tr>\n",
       "      <th>gyeonggi</th>\n",
       "      <td>68</td>\n",
       "    </tr>\n",
       "    <tr>\n",
       "      <th>gyeongbuk</th>\n",
       "      <td>58</td>\n",
       "    </tr>\n",
       "    <tr>\n",
       "      <th>gyeongnam</th>\n",
       "      <td>46</td>\n",
       "    </tr>\n",
       "    <tr>\n",
       "      <th>busan</th>\n",
       "      <td>43</td>\n",
       "    </tr>\n",
       "    <tr>\n",
       "      <th>jeonbuk</th>\n",
       "      <td>31</td>\n",
       "    </tr>\n",
       "    <tr>\n",
       "      <th>choongnam</th>\n",
       "      <td>30</td>\n",
       "    </tr>\n",
       "    <tr>\n",
       "      <th>jeonnam</th>\n",
       "      <td>29</td>\n",
       "    </tr>\n",
       "    <tr>\n",
       "      <th>seoul</th>\n",
       "      <td>27</td>\n",
       "    </tr>\n",
       "    <tr>\n",
       "      <th>choongbuk</th>\n",
       "      <td>21</td>\n",
       "    </tr>\n",
       "    <tr>\n",
       "      <th>daegu</th>\n",
       "      <td>17</td>\n",
       "    </tr>\n",
       "    <tr>\n",
       "      <th>incheon</th>\n",
       "      <td>14</td>\n",
       "    </tr>\n",
       "    <tr>\n",
       "      <th>daejeon</th>\n",
       "      <td>14</td>\n",
       "    </tr>\n",
       "    <tr>\n",
       "      <th>ulsan</th>\n",
       "      <td>13</td>\n",
       "    </tr>\n",
       "    <tr>\n",
       "      <th>gangwon</th>\n",
       "      <td>10</td>\n",
       "    </tr>\n",
       "    <tr>\n",
       "      <th>jeju</th>\n",
       "      <td>3</td>\n",
       "    </tr>\n",
       "    <tr>\n",
       "      <th>gwangju</th>\n",
       "      <td>2</td>\n",
       "    </tr>\n",
       "    <tr>\n",
       "      <th>sejong</th>\n",
       "      <td>2</td>\n",
       "    </tr>\n",
       "  </tbody>\n",
       "</table>\n",
       "</div>"
      ],
      "text/plain": [
       "           sido\n",
       "gyeonggi     68\n",
       "gyeongbuk    58\n",
       "gyeongnam    46\n",
       "busan        43\n",
       "jeonbuk      31\n",
       "choongnam    30\n",
       "jeonnam      29\n",
       "seoul        27\n",
       "choongbuk    21\n",
       "daegu        17\n",
       "incheon      14\n",
       "daejeon      14\n",
       "ulsan        13\n",
       "gangwon      10\n",
       "jeju          3\n",
       "gwangju       2\n",
       "sejong        2"
      ]
     },
     "execution_count": 94,
     "metadata": {},
     "output_type": "execute_result"
    }
   ],
   "source": [
    "sd = total['sido'].value_counts()\n",
    "pd.DataFrame(sd)"
   ]
  },
  {
   "cell_type": "code",
   "execution_count": 95,
   "metadata": {},
   "outputs": [
    {
     "data": {
      "text/html": [
       "<div>\n",
       "<style scoped>\n",
       "    .dataframe tbody tr th:only-of-type {\n",
       "        vertical-align: middle;\n",
       "    }\n",
       "\n",
       "    .dataframe tbody tr th {\n",
       "        vertical-align: top;\n",
       "    }\n",
       "\n",
       "    .dataframe thead th {\n",
       "        text-align: right;\n",
       "    }\n",
       "</style>\n",
       "<table border=\"1\" class=\"dataframe\">\n",
       "  <thead>\n",
       "    <tr style=\"text-align: right;\">\n",
       "      <th></th>\n",
       "      <th>instkind</th>\n",
       "    </tr>\n",
       "  </thead>\n",
       "  <tbody>\n",
       "    <tr>\n",
       "      <th>nursing_hospital</th>\n",
       "      <td>207</td>\n",
       "    </tr>\n",
       "    <tr>\n",
       "      <th>hospital</th>\n",
       "      <td>124</td>\n",
       "    </tr>\n",
       "    <tr>\n",
       "      <th>general_hospital</th>\n",
       "      <td>56</td>\n",
       "    </tr>\n",
       "    <tr>\n",
       "      <th>clinic</th>\n",
       "      <td>22</td>\n",
       "    </tr>\n",
       "    <tr>\n",
       "      <th>traditional_hospital</th>\n",
       "      <td>9</td>\n",
       "    </tr>\n",
       "    <tr>\n",
       "      <th>traditional_clinic</th>\n",
       "      <td>6</td>\n",
       "    </tr>\n",
       "    <tr>\n",
       "      <th>dental_clinic</th>\n",
       "      <td>1</td>\n",
       "    </tr>\n",
       "  </tbody>\n",
       "</table>\n",
       "</div>"
      ],
      "text/plain": [
       "                      instkind\n",
       "nursing_hospital           207\n",
       "hospital                   124\n",
       "general_hospital            56\n",
       "clinic                      22\n",
       "traditional_hospital         9\n",
       "traditional_clinic           6\n",
       "dental_clinic                1"
      ]
     },
     "execution_count": 95,
     "metadata": {},
     "output_type": "execute_result"
    }
   ],
   "source": [
    "ik = total['instkind'].value_counts()\n",
    "pd.DataFrame(ik)"
   ]
  },
  {
   "cell_type": "code",
   "execution_count": 98,
   "metadata": {},
   "outputs": [
    {
     "data": {
      "text/html": [
       "<div>\n",
       "<style scoped>\n",
       "    .dataframe tbody tr th:only-of-type {\n",
       "        vertical-align: middle;\n",
       "    }\n",
       "\n",
       "    .dataframe tbody tr th {\n",
       "        vertical-align: top;\n",
       "    }\n",
       "\n",
       "    .dataframe thead th {\n",
       "        text-align: right;\n",
       "    }\n",
       "</style>\n",
       "<table border=\"1\" class=\"dataframe\">\n",
       "  <thead>\n",
       "    <tr style=\"text-align: right;\">\n",
       "      <th></th>\n",
       "      <th>ownerChange</th>\n",
       "    </tr>\n",
       "  </thead>\n",
       "  <tbody>\n",
       "    <tr>\n",
       "      <th>same</th>\n",
       "      <td>348</td>\n",
       "    </tr>\n",
       "    <tr>\n",
       "      <th>change</th>\n",
       "      <td>53</td>\n",
       "    </tr>\n",
       "  </tbody>\n",
       "</table>\n",
       "</div>"
      ],
      "text/plain": [
       "        ownerChange\n",
       "same            348\n",
       "change           53"
      ]
     },
     "execution_count": 98,
     "metadata": {},
     "output_type": "execute_result"
    }
   ],
   "source": [
    "oC = total['ownerChange'].value_counts()\n",
    "pd.DataFrame(oC)"
   ]
  },
  {
   "cell_type": "code",
   "execution_count": 121,
   "metadata": {},
   "outputs": [],
   "source": [
    "total = pd.concat([train, test])"
   ]
  },
  {
   "cell_type": "code",
   "execution_count": 118,
   "metadata": {
    "collapsed": true
   },
   "outputs": [
    {
     "name": "stdout",
     "output_type": "stream",
     "text": [
      "inst_id 0\n",
      "OC 0\n",
      "sido 0\n",
      "sgg 0\n",
      "openDate 0\n",
      "bedCount 5\n",
      "instkind 1\n",
      "revenue1 8\n",
      "salescost1 8\n",
      "sga1 8\n",
      "salary1 8\n",
      "noi1 8\n",
      "noe1 8\n",
      "interest1 8\n",
      "ctax1 8\n",
      "profit1 8\n",
      "liquidAsset1 8\n",
      "quickAsset1 8\n",
      "receivableS1 8\n",
      "inventoryAsset1 8\n",
      "nonCAsset1 8\n",
      "tanAsset1 8\n",
      "OnonCAsset1 8\n",
      "receivableL1 8\n",
      "debt1 8\n",
      "liquidLiabilities1 8\n",
      "shortLoan1 8\n",
      "NCLiabilities1 8\n",
      "longLoan1 8\n",
      "netAsset1 8\n",
      "surplus1 8\n",
      "revenue2 8\n",
      "salescost2 8\n",
      "sga2 8\n",
      "salary2 8\n",
      "noi2 8\n",
      "noe2 8\n",
      "interest2 8\n",
      "ctax2 8\n",
      "profit2 8\n",
      "liquidAsset2 8\n",
      "quickAsset2 8\n",
      "receivableS2 8\n",
      "inventoryAsset2 8\n",
      "nonCAsset2 8\n",
      "tanAsset2 8\n",
      "OnonCAsset2 8\n",
      "receivableL2 8\n",
      "debt2 8\n",
      "liquidLiabilities2 8\n",
      "shortLoan2 8\n",
      "NCLiabilities2 8\n",
      "longLoan2 8\n",
      "netAsset2 8\n",
      "surplus2 8\n",
      "employee1 10\n",
      "employee2 13\n",
      "ownerChange 12\n"
     ]
    }
   ],
   "source": [
    "total = pd.concat([train, test])\n",
    "not_null = []\n",
    "yes_null = []\n",
    "for col in cols:\n",
    "    print(col, train[col].isnull().sum())\n",
    "    if train[col].isnull().sum() == 0:  # 0이면 yes_null\n",
    "        yes_null.append(col)\n",
    "    else:  # 아니면 not_null에 추가\n",
    "        not_null.append(col)"
   ]
  },
  {
   "cell_type": "code",
   "execution_count": 119,
   "metadata": {
    "collapsed": true
   },
   "outputs": [
    {
     "data": {
      "text/plain": [
       "['bedCount',\n",
       " 'instkind',\n",
       " 'revenue1',\n",
       " 'salescost1',\n",
       " 'sga1',\n",
       " 'salary1',\n",
       " 'noi1',\n",
       " 'noe1',\n",
       " 'interest1',\n",
       " 'ctax1',\n",
       " 'profit1',\n",
       " 'liquidAsset1',\n",
       " 'quickAsset1',\n",
       " 'receivableS1',\n",
       " 'inventoryAsset1',\n",
       " 'nonCAsset1',\n",
       " 'tanAsset1',\n",
       " 'OnonCAsset1',\n",
       " 'receivableL1',\n",
       " 'debt1',\n",
       " 'liquidLiabilities1',\n",
       " 'shortLoan1',\n",
       " 'NCLiabilities1',\n",
       " 'longLoan1',\n",
       " 'netAsset1',\n",
       " 'surplus1',\n",
       " 'revenue2',\n",
       " 'salescost2',\n",
       " 'sga2',\n",
       " 'salary2',\n",
       " 'noi2',\n",
       " 'noe2',\n",
       " 'interest2',\n",
       " 'ctax2',\n",
       " 'profit2',\n",
       " 'liquidAsset2',\n",
       " 'quickAsset2',\n",
       " 'receivableS2',\n",
       " 'inventoryAsset2',\n",
       " 'nonCAsset2',\n",
       " 'tanAsset2',\n",
       " 'OnonCAsset2',\n",
       " 'receivableL2',\n",
       " 'debt2',\n",
       " 'liquidLiabilities2',\n",
       " 'shortLoan2',\n",
       " 'NCLiabilities2',\n",
       " 'longLoan2',\n",
       " 'netAsset2',\n",
       " 'surplus2',\n",
       " 'employee1',\n",
       " 'employee2',\n",
       " 'ownerChange']"
      ]
     },
     "execution_count": 119,
     "metadata": {},
     "output_type": "execute_result"
    }
   ],
   "source": [
    "not_null"
   ]
  },
  {
   "cell_type": "code",
   "execution_count": 122,
   "metadata": {
    "collapsed": true
   },
   "outputs": [
    {
     "data": {
      "text/plain": [
       "inst_id                 int64\n",
       "OC                     object\n",
       "sido                   object\n",
       "sgg                     int64\n",
       "openDate              float64\n",
       "bedCount              float64\n",
       "instkind               object\n",
       "revenue1              float64\n",
       "salescost1            float64\n",
       "sga1                  float64\n",
       "salary1               float64\n",
       "noi1                  float64\n",
       "noe1                  float64\n",
       "interest1             float64\n",
       "ctax1                 float64\n",
       "profit1               float64\n",
       "liquidAsset1          float64\n",
       "quickAsset1           float64\n",
       "receivableS1          float64\n",
       "inventoryAsset1       float64\n",
       "nonCAsset1            float64\n",
       "tanAsset1             float64\n",
       "OnonCAsset1           float64\n",
       "receivableL1          float64\n",
       "debt1                 float64\n",
       "liquidLiabilities1    float64\n",
       "shortLoan1            float64\n",
       "NCLiabilities1        float64\n",
       "longLoan1             float64\n",
       "netAsset1             float64\n",
       "surplus1              float64\n",
       "revenue2              float64\n",
       "salescost2            float64\n",
       "sga2                  float64\n",
       "salary2               float64\n",
       "noi2                  float64\n",
       "noe2                  float64\n",
       "interest2             float64\n",
       "ctax2                 float64\n",
       "profit2               float64\n",
       "liquidAsset2          float64\n",
       "quickAsset2           float64\n",
       "receivableS2          float64\n",
       "inventoryAsset2       float64\n",
       "nonCAsset2            float64\n",
       "tanAsset2             float64\n",
       "OnonCAsset2           float64\n",
       "receivableL2          float64\n",
       "debt2                 float64\n",
       "liquidLiabilities2    float64\n",
       "shortLoan2            float64\n",
       "NCLiabilities2        float64\n",
       "longLoan2             float64\n",
       "netAsset2             float64\n",
       "surplus2              float64\n",
       "employee1              object\n",
       "employee2              object\n",
       "ownerChange            object\n",
       "dtype: object"
      ]
     },
     "execution_count": 122,
     "metadata": {},
     "output_type": "execute_result"
    }
   ],
   "source": [
    "total.dtypes"
   ]
  },
  {
   "cell_type": "code",
   "execution_count": 124,
   "metadata": {},
   "outputs": [
    {
     "data": {
      "text/plain": [
       "same      348\n",
       "change     53\n",
       "Name: ownerChange, dtype: int64"
      ]
     },
     "execution_count": 124,
     "metadata": {},
     "output_type": "execute_result"
    }
   ],
   "source": [
    "total['ownerChange'].value_counts()"
   ]
  },
  {
   "cell_type": "code",
   "execution_count": 211,
   "metadata": {},
   "outputs": [],
   "source": [
    "train = pd.read_csv('./data/train.csv')\n",
    "test = pd.read_csv('./data/test.csv')\n",
    "ss = pd.read_csv('./data/submission_sample.csv')"
   ]
  },
  {
   "cell_type": "code",
   "execution_count": 213,
   "metadata": {},
   "outputs": [],
   "source": [
    "train_y = train.pop('OC')\n",
    "test_y = test.pop('OC')"
   ]
  },
  {
   "cell_type": "code",
   "execution_count": 227,
   "metadata": {},
   "outputs": [
    {
     "data": {
      "text/plain": [
       "dtype('float64')"
      ]
     },
     "execution_count": 227,
     "metadata": {},
     "output_type": "execute_result"
    }
   ],
   "source": [
    "train['revenue1'].dtypes"
   ]
  },
  {
   "cell_type": "code",
   "execution_count": 228,
   "metadata": {},
   "outputs": [],
   "source": [
    "def f_n(df, col, method):\n",
    "    if method == 'mean':\n",
    "        df[col].fillna(value = df[col].mean(), inplace = True)\n",
    "    elif method == 'mode':\n",
    "        df[col].fillna(value = df[col].mode(), inplace = True)"
   ]
  },
  {
   "cell_type": "code",
   "execution_count": 230,
   "metadata": {},
   "outputs": [
    {
     "data": {
      "text/plain": [
       "0.000000e+00    4\n",
       "4.131858e+09    2\n",
       "1.889868e+09    2\n",
       "7.162790e+09    2\n",
       "6.845503e+08    2\n",
       "               ..\n",
       "6.310993e+09    1\n",
       "3.880362e+09    1\n",
       "9.727882e+09    1\n",
       "9.618709e+09    1\n",
       "2.750406e+09    1\n",
       "Name: revenue1, Length: 283, dtype: int64"
      ]
     },
     "execution_count": 230,
     "metadata": {},
     "output_type": "execute_result"
    }
   ],
   "source": [
    "train['revenue1'].value_counts()"
   ]
  },
  {
   "cell_type": "code",
   "execution_count": 220,
   "metadata": {},
   "outputs": [],
   "source": [
    "copy_train = train.copy()"
   ]
  },
  {
   "cell_type": "code",
   "execution_count": 234,
   "metadata": {},
   "outputs": [],
   "source": [
    "def both(col, method):\n",
    "    f_n(test, col, method)\n",
    "    f_n(train, col, method)"
   ]
  },
  {
   "cell_type": "code",
   "execution_count": 236,
   "metadata": {},
   "outputs": [],
   "source": [
    "cols = train.columns"
   ]
  },
  {
   "cell_type": "code",
   "execution_count": 289,
   "metadata": {},
   "outputs": [],
   "source": [
    "def view(idx):\n",
    "    print(cols[idx])\n",
    "    print('null값의 수:',train[cols[idx]].isnull().sum())\n",
    "    print('null값의 수:',test[cols[idx]].isnull().sum())\n",
    "    return train[cols[idx]].head()"
   ]
  },
  {
   "cell_type": "code",
   "execution_count": 301,
   "metadata": {},
   "outputs": [
    {
     "data": {
      "text/plain": [
       "57"
      ]
     },
     "execution_count": 301,
     "metadata": {},
     "output_type": "execute_result"
    }
   ],
   "source": [
    "len(cols)"
   ]
  },
  {
   "cell_type": "code",
   "execution_count": 346,
   "metadata": {},
   "outputs": [],
   "source": [
    "total = pd.concat([train,test])"
   ]
  },
  {
   "cell_type": "code",
   "execution_count": 348,
   "metadata": {},
   "outputs": [
    {
     "name": "stdout",
     "output_type": "stream",
     "text": [
      "0\n",
      "0\n",
      "0\n",
      "0\n",
      "0\n",
      "0\n",
      "0\n",
      "0\n",
      "0\n",
      "0\n",
      "0\n",
      "0\n",
      "0\n",
      "0\n",
      "0\n",
      "0\n",
      "0\n",
      "0\n",
      "0\n",
      "0\n",
      "0\n",
      "0\n",
      "0\n",
      "0\n",
      "0\n",
      "0\n",
      "0\n",
      "0\n",
      "0\n",
      "0\n",
      "0\n",
      "0\n",
      "0\n",
      "0\n",
      "0\n",
      "1\n",
      "0\n",
      "0\n",
      "0\n",
      "0\n",
      "0\n",
      "0\n",
      "0\n",
      "0\n",
      "0\n",
      "0\n",
      "0\n",
      "0\n",
      "3\n",
      "0\n",
      "0\n",
      "0\n",
      "0\n",
      "0\n",
      "0\n",
      "0\n",
      "0\n"
     ]
    }
   ],
   "source": [
    "a = []\n",
    "for i in range(len(total.columns)):\n",
    "    a.append(total.iloc[i, :].isnull().sum())\n",
    "    print(total.iloc[i, :].isnull().sum())"
   ]
  },
  {
   "cell_type": "code",
   "execution_count": 362,
   "metadata": {},
   "outputs": [
    {
     "data": {
      "text/html": [
       "<div>\n",
       "<style scoped>\n",
       "    .dataframe tbody tr th:only-of-type {\n",
       "        vertical-align: middle;\n",
       "    }\n",
       "\n",
       "    .dataframe tbody tr th {\n",
       "        vertical-align: top;\n",
       "    }\n",
       "\n",
       "    .dataframe thead th {\n",
       "        text-align: right;\n",
       "    }\n",
       "</style>\n",
       "<table border=\"1\" class=\"dataframe\">\n",
       "  <thead>\n",
       "    <tr style=\"text-align: right;\">\n",
       "      <th></th>\n",
       "      <th>inst_id</th>\n",
       "      <th>sido</th>\n",
       "      <th>sgg</th>\n",
       "      <th>openDate</th>\n",
       "      <th>bedCount</th>\n",
       "      <th>instkind</th>\n",
       "      <th>revenue1</th>\n",
       "      <th>salescost1</th>\n",
       "      <th>sga1</th>\n",
       "      <th>salary1</th>\n",
       "      <th>...</th>\n",
       "      <th>debt2</th>\n",
       "      <th>liquidLiabilities2</th>\n",
       "      <th>shortLoan2</th>\n",
       "      <th>NCLiabilities2</th>\n",
       "      <th>longLoan2</th>\n",
       "      <th>netAsset2</th>\n",
       "      <th>surplus2</th>\n",
       "      <th>employee1</th>\n",
       "      <th>employee2</th>\n",
       "      <th>ownerChange</th>\n",
       "    </tr>\n",
       "  </thead>\n",
       "  <tbody>\n",
       "    <tr>\n",
       "      <th>0</th>\n",
       "      <td>1</td>\n",
       "      <td>choongnam</td>\n",
       "      <td>73</td>\n",
       "      <td>20071228</td>\n",
       "      <td>175.000000</td>\n",
       "      <td>nursing_hospital</td>\n",
       "      <td>4.217530e+09</td>\n",
       "      <td>0.000000e+00</td>\n",
       "      <td>3.961135e+09</td>\n",
       "      <td>2.033835e+09</td>\n",
       "      <td>...</td>\n",
       "      <td>7.589937e+08</td>\n",
       "      <td>2.228769e+08</td>\n",
       "      <td>0.000000e+00</td>\n",
       "      <td>5.361169e+08</td>\n",
       "      <td>3.900000e+08</td>\n",
       "      <td>2.619290e+09</td>\n",
       "      <td>1.271224e+09</td>\n",
       "      <td>62.0</td>\n",
       "      <td>64.0</td>\n",
       "      <td>same</td>\n",
       "    </tr>\n",
       "    <tr>\n",
       "      <th>1</th>\n",
       "      <td>3</td>\n",
       "      <td>gyeongnam</td>\n",
       "      <td>32</td>\n",
       "      <td>19970401</td>\n",
       "      <td>410.000000</td>\n",
       "      <td>general_hospital</td>\n",
       "      <td>1.288175e+10</td>\n",
       "      <td>2.014903e+09</td>\n",
       "      <td>1.033244e+10</td>\n",
       "      <td>5.654115e+09</td>\n",
       "      <td>...</td>\n",
       "      <td>8.146026e+09</td>\n",
       "      <td>3.860584e+09</td>\n",
       "      <td>1.510050e+09</td>\n",
       "      <td>4.471247e+09</td>\n",
       "      <td>2.709979e+09</td>\n",
       "      <td>5.273919e+09</td>\n",
       "      <td>9.786279e+08</td>\n",
       "      <td>801.0</td>\n",
       "      <td>813.0</td>\n",
       "      <td>same</td>\n",
       "    </tr>\n",
       "    <tr>\n",
       "      <th>2</th>\n",
       "      <td>4</td>\n",
       "      <td>gyeonggi</td>\n",
       "      <td>89</td>\n",
       "      <td>20161228</td>\n",
       "      <td>468.000000</td>\n",
       "      <td>nursing_hospital</td>\n",
       "      <td>1.004522e+09</td>\n",
       "      <td>5.154837e+08</td>\n",
       "      <td>4.472197e+08</td>\n",
       "      <td>2.964023e+08</td>\n",
       "      <td>...</td>\n",
       "      <td>0.000000e+00</td>\n",
       "      <td>0.000000e+00</td>\n",
       "      <td>0.000000e+00</td>\n",
       "      <td>0.000000e+00</td>\n",
       "      <td>0.000000e+00</td>\n",
       "      <td>0.000000e+00</td>\n",
       "      <td>0.000000e+00</td>\n",
       "      <td>234.0</td>\n",
       "      <td>1.0</td>\n",
       "      <td>same</td>\n",
       "    </tr>\n",
       "    <tr>\n",
       "      <th>3</th>\n",
       "      <td>7</td>\n",
       "      <td>incheon</td>\n",
       "      <td>141</td>\n",
       "      <td>20000814</td>\n",
       "      <td>353.000000</td>\n",
       "      <td>general_hospital</td>\n",
       "      <td>7.250734e+10</td>\n",
       "      <td>0.000000e+00</td>\n",
       "      <td>7.067740e+10</td>\n",
       "      <td>3.178605e+10</td>\n",
       "      <td>...</td>\n",
       "      <td>3.775501e+10</td>\n",
       "      <td>1.701860e+10</td>\n",
       "      <td>9.219427e+09</td>\n",
       "      <td>2.073641e+10</td>\n",
       "      <td>1.510000e+10</td>\n",
       "      <td>1.295427e+10</td>\n",
       "      <td>7.740829e+09</td>\n",
       "      <td>663.0</td>\n",
       "      <td>663.0</td>\n",
       "      <td>same</td>\n",
       "    </tr>\n",
       "    <tr>\n",
       "      <th>4</th>\n",
       "      <td>9</td>\n",
       "      <td>gyeongnam</td>\n",
       "      <td>32</td>\n",
       "      <td>20050901</td>\n",
       "      <td>196.000000</td>\n",
       "      <td>general_hospital</td>\n",
       "      <td>4.904354e+10</td>\n",
       "      <td>0.000000e+00</td>\n",
       "      <td>4.765605e+10</td>\n",
       "      <td>2.446078e+10</td>\n",
       "      <td>...</td>\n",
       "      <td>5.143259e+10</td>\n",
       "      <td>3.007259e+10</td>\n",
       "      <td>1.759375e+10</td>\n",
       "      <td>2.136001e+10</td>\n",
       "      <td>1.410803e+10</td>\n",
       "      <td>5.561941e+06</td>\n",
       "      <td>9.025550e+09</td>\n",
       "      <td>206.0</td>\n",
       "      <td>197.0</td>\n",
       "      <td>same</td>\n",
       "    </tr>\n",
       "    <tr>\n",
       "      <th>...</th>\n",
       "      <td>...</td>\n",
       "      <td>...</td>\n",
       "      <td>...</td>\n",
       "      <td>...</td>\n",
       "      <td>...</td>\n",
       "      <td>...</td>\n",
       "      <td>...</td>\n",
       "      <td>...</td>\n",
       "      <td>...</td>\n",
       "      <td>...</td>\n",
       "      <td>...</td>\n",
       "      <td>...</td>\n",
       "      <td>...</td>\n",
       "      <td>...</td>\n",
       "      <td>...</td>\n",
       "      <td>...</td>\n",
       "      <td>...</td>\n",
       "      <td>...</td>\n",
       "      <td>...</td>\n",
       "      <td>...</td>\n",
       "      <td>...</td>\n",
       "    </tr>\n",
       "    <tr>\n",
       "      <th>296</th>\n",
       "      <td>422</td>\n",
       "      <td>jeonnam</td>\n",
       "      <td>178</td>\n",
       "      <td>20050211</td>\n",
       "      <td>214.000000</td>\n",
       "      <td>nursing_hospital</td>\n",
       "      <td>7.614697e+09</td>\n",
       "      <td>4.153475e+08</td>\n",
       "      <td>5.903119e+09</td>\n",
       "      <td>3.467861e+09</td>\n",
       "      <td>...</td>\n",
       "      <td>9.423771e+09</td>\n",
       "      <td>2.618201e+09</td>\n",
       "      <td>0.000000e+00</td>\n",
       "      <td>6.805570e+09</td>\n",
       "      <td>5.930000e+09</td>\n",
       "      <td>5.379502e+09</td>\n",
       "      <td>8.116416e+08</td>\n",
       "      <td>193.0</td>\n",
       "      <td>141.0</td>\n",
       "      <td>same</td>\n",
       "    </tr>\n",
       "    <tr>\n",
       "      <th>297</th>\n",
       "      <td>423</td>\n",
       "      <td>choongnam</td>\n",
       "      <td>159</td>\n",
       "      <td>20140618</td>\n",
       "      <td>145.709459</td>\n",
       "      <td>hospital</td>\n",
       "      <td>6.717144e+09</td>\n",
       "      <td>8.200000e+09</td>\n",
       "      <td>0.000000e+00</td>\n",
       "      <td>0.000000e+00</td>\n",
       "      <td>...</td>\n",
       "      <td>0.000000e+00</td>\n",
       "      <td>0.000000e+00</td>\n",
       "      <td>0.000000e+00</td>\n",
       "      <td>0.000000e+00</td>\n",
       "      <td>0.000000e+00</td>\n",
       "      <td>0.000000e+00</td>\n",
       "      <td>0.000000e+00</td>\n",
       "      <td>79.0</td>\n",
       "      <td>79.0</td>\n",
       "      <td>same</td>\n",
       "    </tr>\n",
       "    <tr>\n",
       "      <th>298</th>\n",
       "      <td>426</td>\n",
       "      <td>gyeongbuk</td>\n",
       "      <td>107</td>\n",
       "      <td>19830705</td>\n",
       "      <td>145.709459</td>\n",
       "      <td>hospital</td>\n",
       "      <td>0.000000e+00</td>\n",
       "      <td>0.000000e+00</td>\n",
       "      <td>5.479428e+07</td>\n",
       "      <td>7.500000e+06</td>\n",
       "      <td>...</td>\n",
       "      <td>6.370097e+09</td>\n",
       "      <td>2.170973e+09</td>\n",
       "      <td>0.000000e+00</td>\n",
       "      <td>4.199124e+09</td>\n",
       "      <td>2.498749e+09</td>\n",
       "      <td>3.259161e+09</td>\n",
       "      <td>0.000000e+00</td>\n",
       "      <td>NaN</td>\n",
       "      <td>NaN</td>\n",
       "      <td>NaN</td>\n",
       "    </tr>\n",
       "    <tr>\n",
       "      <th>299</th>\n",
       "      <td>427</td>\n",
       "      <td>gyeonggi</td>\n",
       "      <td>169</td>\n",
       "      <td>20070101</td>\n",
       "      <td>180.000000</td>\n",
       "      <td>nursing_hospital</td>\n",
       "      <td>2.116892e+09</td>\n",
       "      <td>2.681748e+08</td>\n",
       "      <td>3.286245e+09</td>\n",
       "      <td>2.231944e+09</td>\n",
       "      <td>...</td>\n",
       "      <td>6.392336e+08</td>\n",
       "      <td>6.400000e+09</td>\n",
       "      <td>0.000000e+00</td>\n",
       "      <td>0.000000e+00</td>\n",
       "      <td>0.000000e+00</td>\n",
       "      <td>0.000000e+00</td>\n",
       "      <td>0.000000e+00</td>\n",
       "      <td>100.0</td>\n",
       "      <td>NaN</td>\n",
       "      <td>NaN</td>\n",
       "    </tr>\n",
       "    <tr>\n",
       "      <th>300</th>\n",
       "      <td>428</td>\n",
       "      <td>seoul</td>\n",
       "      <td>79</td>\n",
       "      <td>20011017</td>\n",
       "      <td>145.709459</td>\n",
       "      <td>traditional_hospital</td>\n",
       "      <td>1.340971e+09</td>\n",
       "      <td>8.108450e+08</td>\n",
       "      <td>5.043409e+08</td>\n",
       "      <td>1.318978e+08</td>\n",
       "      <td>...</td>\n",
       "      <td>5.349000e+09</td>\n",
       "      <td>3.123072e+09</td>\n",
       "      <td>0.000000e+00</td>\n",
       "      <td>2.225928e+09</td>\n",
       "      <td>2.190000e+09</td>\n",
       "      <td>5.536178e+09</td>\n",
       "      <td>6.269440e+09</td>\n",
       "      <td>15.0</td>\n",
       "      <td>15.0</td>\n",
       "      <td>same</td>\n",
       "    </tr>\n",
       "  </tbody>\n",
       "</table>\n",
       "<p>301 rows × 57 columns</p>\n",
       "</div>"
      ],
      "text/plain": [
       "     inst_id       sido  sgg  openDate    bedCount              instkind  \\\n",
       "0          1  choongnam   73  20071228  175.000000      nursing_hospital   \n",
       "1          3  gyeongnam   32  19970401  410.000000      general_hospital   \n",
       "2          4   gyeonggi   89  20161228  468.000000      nursing_hospital   \n",
       "3          7    incheon  141  20000814  353.000000      general_hospital   \n",
       "4          9  gyeongnam   32  20050901  196.000000      general_hospital   \n",
       "..       ...        ...  ...       ...         ...                   ...   \n",
       "296      422    jeonnam  178  20050211  214.000000      nursing_hospital   \n",
       "297      423  choongnam  159  20140618  145.709459              hospital   \n",
       "298      426  gyeongbuk  107  19830705  145.709459              hospital   \n",
       "299      427   gyeonggi  169  20070101  180.000000      nursing_hospital   \n",
       "300      428      seoul   79  20011017  145.709459  traditional_hospital   \n",
       "\n",
       "         revenue1    salescost1          sga1       salary1  ...  \\\n",
       "0    4.217530e+09  0.000000e+00  3.961135e+09  2.033835e+09  ...   \n",
       "1    1.288175e+10  2.014903e+09  1.033244e+10  5.654115e+09  ...   \n",
       "2    1.004522e+09  5.154837e+08  4.472197e+08  2.964023e+08  ...   \n",
       "3    7.250734e+10  0.000000e+00  7.067740e+10  3.178605e+10  ...   \n",
       "4    4.904354e+10  0.000000e+00  4.765605e+10  2.446078e+10  ...   \n",
       "..            ...           ...           ...           ...  ...   \n",
       "296  7.614697e+09  4.153475e+08  5.903119e+09  3.467861e+09  ...   \n",
       "297  6.717144e+09  8.200000e+09  0.000000e+00  0.000000e+00  ...   \n",
       "298  0.000000e+00  0.000000e+00  5.479428e+07  7.500000e+06  ...   \n",
       "299  2.116892e+09  2.681748e+08  3.286245e+09  2.231944e+09  ...   \n",
       "300  1.340971e+09  8.108450e+08  5.043409e+08  1.318978e+08  ...   \n",
       "\n",
       "            debt2  liquidLiabilities2    shortLoan2  NCLiabilities2  \\\n",
       "0    7.589937e+08        2.228769e+08  0.000000e+00    5.361169e+08   \n",
       "1    8.146026e+09        3.860584e+09  1.510050e+09    4.471247e+09   \n",
       "2    0.000000e+00        0.000000e+00  0.000000e+00    0.000000e+00   \n",
       "3    3.775501e+10        1.701860e+10  9.219427e+09    2.073641e+10   \n",
       "4    5.143259e+10        3.007259e+10  1.759375e+10    2.136001e+10   \n",
       "..            ...                 ...           ...             ...   \n",
       "296  9.423771e+09        2.618201e+09  0.000000e+00    6.805570e+09   \n",
       "297  0.000000e+00        0.000000e+00  0.000000e+00    0.000000e+00   \n",
       "298  6.370097e+09        2.170973e+09  0.000000e+00    4.199124e+09   \n",
       "299  6.392336e+08        6.400000e+09  0.000000e+00    0.000000e+00   \n",
       "300  5.349000e+09        3.123072e+09  0.000000e+00    2.225928e+09   \n",
       "\n",
       "        longLoan2     netAsset2      surplus2  employee1  employee2  \\\n",
       "0    3.900000e+08  2.619290e+09  1.271224e+09       62.0       64.0   \n",
       "1    2.709979e+09  5.273919e+09  9.786279e+08      801.0      813.0   \n",
       "2    0.000000e+00  0.000000e+00  0.000000e+00      234.0        1.0   \n",
       "3    1.510000e+10  1.295427e+10  7.740829e+09      663.0      663.0   \n",
       "4    1.410803e+10  5.561941e+06  9.025550e+09      206.0      197.0   \n",
       "..            ...           ...           ...        ...        ...   \n",
       "296  5.930000e+09  5.379502e+09  8.116416e+08      193.0      141.0   \n",
       "297  0.000000e+00  0.000000e+00  0.000000e+00       79.0       79.0   \n",
       "298  2.498749e+09  3.259161e+09  0.000000e+00        NaN        NaN   \n",
       "299  0.000000e+00  0.000000e+00  0.000000e+00      100.0        NaN   \n",
       "300  2.190000e+09  5.536178e+09  6.269440e+09       15.0       15.0   \n",
       "\n",
       "     ownerChange  \n",
       "0           same  \n",
       "1           same  \n",
       "2           same  \n",
       "3           same  \n",
       "4           same  \n",
       "..           ...  \n",
       "296         same  \n",
       "297         same  \n",
       "298          NaN  \n",
       "299          NaN  \n",
       "300         same  \n",
       "\n",
       "[301 rows x 57 columns]"
      ]
     },
     "execution_count": 362,
     "metadata": {},
     "output_type": "execute_result"
    }
   ],
   "source": [
    "train"
   ]
  },
  {
   "cell_type": "code",
   "execution_count": 364,
   "metadata": {},
   "outputs": [
    {
     "data": {
      "text/plain": [
       "48"
      ]
     },
     "execution_count": 364,
     "metadata": {},
     "output_type": "execute_result"
    }
   ],
   "source": [
    "a.index(3)"
   ]
  },
  {
   "cell_type": "code",
   "execution_count": 368,
   "metadata": {},
   "outputs": [
    {
     "data": {
      "text/plain": [
       "0"
      ]
     },
     "execution_count": 368,
     "metadata": {},
     "output_type": "execute_result"
    }
   ],
   "source": [
    "test.iloc[:,48].isnull().sum()"
   ]
  },
  {
   "cell_type": "code",
   "execution_count": 358,
   "metadata": {},
   "outputs": [
    {
     "data": {
      "text/plain": [
       "0"
      ]
     },
     "execution_count": 358,
     "metadata": {},
     "output_type": "execute_result"
    }
   ],
   "source": [
    "test['noe2'].isnull().sum()"
   ]
  },
  {
   "cell_type": "code",
   "execution_count": 327,
   "metadata": {},
   "outputs": [
    {
     "name": "stdout",
     "output_type": "stream",
     "text": [
      "employee1\n",
      "null값의 수: 10\n",
      "null값의 수: 8\n"
     ]
    },
    {
     "data": {
      "text/plain": [
       "0     62.0\n",
       "1    801.0\n",
       "2    234.0\n",
       "3    663.0\n",
       "4    206.0\n",
       "Name: employee1, dtype: float64"
      ]
     },
     "execution_count": 327,
     "metadata": {},
     "output_type": "execute_result"
    }
   ],
   "source": [
    "view(54)"
   ]
  },
  {
   "cell_type": "code",
   "execution_count": 345,
   "metadata": {},
   "outputs": [
    {
     "data": {
      "text/plain": [
       "0       62.0\n",
       "1      801.0\n",
       "2      234.0\n",
       "3      663.0\n",
       "4      206.0\n",
       "       ...  \n",
       "296    193.0\n",
       "297     79.0\n",
       "298      NaN\n",
       "299    100.0\n",
       "300     15.0\n",
       "Name: employee1, Length: 301, dtype: float64"
      ]
     },
     "execution_count": 345,
     "metadata": {},
     "output_type": "execute_result"
    }
   ],
   "source": [
    "train['employee1']"
   ]
  },
  {
   "cell_type": "code",
   "execution_count": 329,
   "metadata": {
    "scrolled": true
   },
   "outputs": [],
   "source": [
    "both('employee1', 'mode')"
   ]
  },
  {
   "cell_type": "code",
   "execution_count": 315,
   "metadata": {
    "scrolled": true
   },
   "outputs": [
    {
     "name": "stdout",
     "output_type": "stream",
     "text": [
      "inst_id\n",
      "sido\n",
      "sgg\n",
      "openDate\n",
      "bedCount\n",
      "instkind\n",
      "revenue1\n",
      "salescost1\n",
      "sga1\n",
      "salary1\n",
      "noi1\n",
      "noe1\n",
      "interest1\n",
      "ctax1\n",
      "profit1\n",
      "liquidAsset1\n",
      "quickAsset1\n",
      "receivableS1\n",
      "inventoryAsset1\n",
      "nonCAsset1\n",
      "tanAsset1\n",
      "OnonCAsset1\n",
      "receivableL1\n",
      "debt1\n",
      "liquidLiabilities1\n",
      "shortLoan1\n",
      "NCLiabilities1\n",
      "longLoan1\n",
      "netAsset1\n",
      "surplus1\n",
      "revenue2\n",
      "salescost2\n",
      "sga2\n",
      "salary2\n",
      "noi2\n",
      "noe2\n",
      "interest2\n",
      "ctax2\n",
      "profit2\n",
      "liquidAsset2\n",
      "quickAsset2\n",
      "receivableS2\n",
      "inventoryAsset2\n",
      "nonCAsset2\n",
      "tanAsset2\n",
      "OnonCAsset2\n",
      "receivableL2\n",
      "debt2\n",
      "liquidLiabilities2\n",
      "shortLoan2\n",
      "NCLiabilities2\n",
      "longLoan2\n",
      "netAsset2\n",
      "surplus2\n",
      "employee1\n"
     ]
    },
    {
     "ename": "TypeError",
     "evalue": "can only concatenate str (not \"int\") to str",
     "output_type": "error",
     "traceback": [
      "\u001b[1;31m---------------------------------------------------------------------------\u001b[0m",
      "\u001b[1;31mTypeError\u001b[0m                                 Traceback (most recent call last)",
      "\u001b[1;32m<ipython-input-315-cb1adfbaddb8>\u001b[0m in \u001b[0;36m<module>\u001b[1;34m\u001b[0m\n\u001b[0;32m      2\u001b[0m     \u001b[0mprint\u001b[0m\u001b[1;33m(\u001b[0m\u001b[0mcol\u001b[0m\u001b[1;33m)\u001b[0m\u001b[1;33m\u001b[0m\u001b[1;33m\u001b[0m\u001b[0m\n\u001b[0;32m      3\u001b[0m     \u001b[1;32mif\u001b[0m \u001b[0mtrain\u001b[0m\u001b[1;33m[\u001b[0m\u001b[0mcol\u001b[0m\u001b[1;33m]\u001b[0m\u001b[1;33m.\u001b[0m\u001b[0mdtype\u001b[0m \u001b[1;33m==\u001b[0m \u001b[1;34m'float'\u001b[0m\u001b[1;33m:\u001b[0m\u001b[1;33m\u001b[0m\u001b[1;33m\u001b[0m\u001b[0m\n\u001b[1;32m----> 4\u001b[1;33m         \u001b[0mboth\u001b[0m\u001b[1;33m(\u001b[0m\u001b[0mcol\u001b[0m\u001b[1;33m,\u001b[0m\u001b[1;34m'mean'\u001b[0m\u001b[1;33m)\u001b[0m\u001b[1;33m\u001b[0m\u001b[1;33m\u001b[0m\u001b[0m\n\u001b[0m",
      "\u001b[1;32m<ipython-input-234-cd1d54947f58>\u001b[0m in \u001b[0;36mboth\u001b[1;34m(col, method)\u001b[0m\n\u001b[0;32m      1\u001b[0m \u001b[1;32mdef\u001b[0m \u001b[0mboth\u001b[0m\u001b[1;33m(\u001b[0m\u001b[0mcol\u001b[0m\u001b[1;33m,\u001b[0m \u001b[0mmethod\u001b[0m\u001b[1;33m)\u001b[0m\u001b[1;33m:\u001b[0m\u001b[1;33m\u001b[0m\u001b[1;33m\u001b[0m\u001b[0m\n\u001b[1;32m----> 2\u001b[1;33m     \u001b[0mf_n\u001b[0m\u001b[1;33m(\u001b[0m\u001b[0mtest\u001b[0m\u001b[1;33m,\u001b[0m \u001b[0mcol\u001b[0m\u001b[1;33m,\u001b[0m \u001b[0mmethod\u001b[0m\u001b[1;33m)\u001b[0m\u001b[1;33m\u001b[0m\u001b[1;33m\u001b[0m\u001b[0m\n\u001b[0m\u001b[0;32m      3\u001b[0m     \u001b[0mf_n\u001b[0m\u001b[1;33m(\u001b[0m\u001b[0mtrain\u001b[0m\u001b[1;33m,\u001b[0m \u001b[0mcol\u001b[0m\u001b[1;33m,\u001b[0m \u001b[0mmethod\u001b[0m\u001b[1;33m)\u001b[0m\u001b[1;33m\u001b[0m\u001b[1;33m\u001b[0m\u001b[0m\n",
      "\u001b[1;32m<ipython-input-228-f9fa259d27d1>\u001b[0m in \u001b[0;36mf_n\u001b[1;34m(df, col, method)\u001b[0m\n\u001b[0;32m      2\u001b[0m \u001b[1;33m\u001b[0m\u001b[0m\n\u001b[0;32m      3\u001b[0m     \u001b[1;32mif\u001b[0m \u001b[0mmethod\u001b[0m \u001b[1;33m==\u001b[0m \u001b[1;34m'mean'\u001b[0m\u001b[1;33m:\u001b[0m\u001b[1;33m\u001b[0m\u001b[1;33m\u001b[0m\u001b[0m\n\u001b[1;32m----> 4\u001b[1;33m         \u001b[0mdf\u001b[0m\u001b[1;33m[\u001b[0m\u001b[0mcol\u001b[0m\u001b[1;33m]\u001b[0m\u001b[1;33m.\u001b[0m\u001b[0mfillna\u001b[0m\u001b[1;33m(\u001b[0m\u001b[0mvalue\u001b[0m \u001b[1;33m=\u001b[0m \u001b[0mdf\u001b[0m\u001b[1;33m[\u001b[0m\u001b[0mcol\u001b[0m\u001b[1;33m]\u001b[0m\u001b[1;33m.\u001b[0m\u001b[0mmean\u001b[0m\u001b[1;33m(\u001b[0m\u001b[1;33m)\u001b[0m\u001b[1;33m,\u001b[0m \u001b[0minplace\u001b[0m \u001b[1;33m=\u001b[0m \u001b[1;32mTrue\u001b[0m\u001b[1;33m)\u001b[0m\u001b[1;33m\u001b[0m\u001b[1;33m\u001b[0m\u001b[0m\n\u001b[0m\u001b[0;32m      5\u001b[0m     \u001b[1;32melif\u001b[0m \u001b[0mmethod\u001b[0m \u001b[1;33m==\u001b[0m \u001b[1;34m'mode'\u001b[0m\u001b[1;33m:\u001b[0m\u001b[1;33m\u001b[0m\u001b[1;33m\u001b[0m\u001b[0m\n\u001b[0;32m      6\u001b[0m         \u001b[0mdf\u001b[0m\u001b[1;33m[\u001b[0m\u001b[0mcol\u001b[0m\u001b[1;33m]\u001b[0m\u001b[1;33m.\u001b[0m\u001b[0mfillna\u001b[0m\u001b[1;33m(\u001b[0m\u001b[0mvalue\u001b[0m \u001b[1;33m=\u001b[0m \u001b[0mdf\u001b[0m\u001b[1;33m[\u001b[0m\u001b[0mcol\u001b[0m\u001b[1;33m]\u001b[0m\u001b[1;33m.\u001b[0m\u001b[0mmode\u001b[0m\u001b[1;33m(\u001b[0m\u001b[1;33m)\u001b[0m\u001b[1;33m,\u001b[0m \u001b[0minplace\u001b[0m \u001b[1;33m=\u001b[0m \u001b[1;32mTrue\u001b[0m\u001b[1;33m)\u001b[0m\u001b[1;33m\u001b[0m\u001b[1;33m\u001b[0m\u001b[0m\n",
      "\u001b[1;32mC:\\Anaconda3\\lib\\site-packages\\pandas\\core\\generic.py\u001b[0m in \u001b[0;36mstat_func\u001b[1;34m(self, axis, skipna, level, numeric_only, **kwargs)\u001b[0m\n\u001b[0;32m  11473\u001b[0m             \u001b[1;32mreturn\u001b[0m \u001b[0mself\u001b[0m\u001b[1;33m.\u001b[0m\u001b[0m_agg_by_level\u001b[0m\u001b[1;33m(\u001b[0m\u001b[0mname\u001b[0m\u001b[1;33m,\u001b[0m \u001b[0maxis\u001b[0m\u001b[1;33m=\u001b[0m\u001b[0maxis\u001b[0m\u001b[1;33m,\u001b[0m \u001b[0mlevel\u001b[0m\u001b[1;33m=\u001b[0m\u001b[0mlevel\u001b[0m\u001b[1;33m,\u001b[0m \u001b[0mskipna\u001b[0m\u001b[1;33m=\u001b[0m\u001b[0mskipna\u001b[0m\u001b[1;33m)\u001b[0m\u001b[1;33m\u001b[0m\u001b[1;33m\u001b[0m\u001b[0m\n\u001b[0;32m  11474\u001b[0m         return self._reduce(\n\u001b[1;32m> 11475\u001b[1;33m             \u001b[0mfunc\u001b[0m\u001b[1;33m,\u001b[0m \u001b[0mname\u001b[0m\u001b[1;33m=\u001b[0m\u001b[0mname\u001b[0m\u001b[1;33m,\u001b[0m \u001b[0maxis\u001b[0m\u001b[1;33m=\u001b[0m\u001b[0maxis\u001b[0m\u001b[1;33m,\u001b[0m \u001b[0mskipna\u001b[0m\u001b[1;33m=\u001b[0m\u001b[0mskipna\u001b[0m\u001b[1;33m,\u001b[0m \u001b[0mnumeric_only\u001b[0m\u001b[1;33m=\u001b[0m\u001b[0mnumeric_only\u001b[0m\u001b[1;33m\u001b[0m\u001b[1;33m\u001b[0m\u001b[0m\n\u001b[0m\u001b[0;32m  11476\u001b[0m         )\n\u001b[0;32m  11477\u001b[0m \u001b[1;33m\u001b[0m\u001b[0m\n",
      "\u001b[1;32mC:\\Anaconda3\\lib\\site-packages\\pandas\\core\\series.py\u001b[0m in \u001b[0;36m_reduce\u001b[1;34m(self, op, name, axis, skipna, numeric_only, filter_type, **kwds)\u001b[0m\n\u001b[0;32m   4247\u001b[0m                 )\n\u001b[0;32m   4248\u001b[0m             \u001b[1;32mwith\u001b[0m \u001b[0mnp\u001b[0m\u001b[1;33m.\u001b[0m\u001b[0merrstate\u001b[0m\u001b[1;33m(\u001b[0m\u001b[0mall\u001b[0m\u001b[1;33m=\u001b[0m\u001b[1;34m\"ignore\"\u001b[0m\u001b[1;33m)\u001b[0m\u001b[1;33m:\u001b[0m\u001b[1;33m\u001b[0m\u001b[1;33m\u001b[0m\u001b[0m\n\u001b[1;32m-> 4249\u001b[1;33m                 \u001b[1;32mreturn\u001b[0m \u001b[0mop\u001b[0m\u001b[1;33m(\u001b[0m\u001b[0mdelegate\u001b[0m\u001b[1;33m,\u001b[0m \u001b[0mskipna\u001b[0m\u001b[1;33m=\u001b[0m\u001b[0mskipna\u001b[0m\u001b[1;33m,\u001b[0m \u001b[1;33m**\u001b[0m\u001b[0mkwds\u001b[0m\u001b[1;33m)\u001b[0m\u001b[1;33m\u001b[0m\u001b[1;33m\u001b[0m\u001b[0m\n\u001b[0m\u001b[0;32m   4250\u001b[0m \u001b[1;33m\u001b[0m\u001b[0m\n\u001b[0;32m   4251\u001b[0m     \u001b[1;32mdef\u001b[0m \u001b[0m_reindex_indexer\u001b[0m\u001b[1;33m(\u001b[0m\u001b[0mself\u001b[0m\u001b[1;33m,\u001b[0m \u001b[0mnew_index\u001b[0m\u001b[1;33m,\u001b[0m \u001b[0mindexer\u001b[0m\u001b[1;33m,\u001b[0m \u001b[0mcopy\u001b[0m\u001b[1;33m)\u001b[0m\u001b[1;33m:\u001b[0m\u001b[1;33m\u001b[0m\u001b[1;33m\u001b[0m\u001b[0m\n",
      "\u001b[1;32mC:\\Anaconda3\\lib\\site-packages\\pandas\\core\\nanops.py\u001b[0m in \u001b[0;36m_f\u001b[1;34m(*args, **kwargs)\u001b[0m\n\u001b[0;32m     69\u001b[0m             \u001b[1;32mtry\u001b[0m\u001b[1;33m:\u001b[0m\u001b[1;33m\u001b[0m\u001b[1;33m\u001b[0m\u001b[0m\n\u001b[0;32m     70\u001b[0m                 \u001b[1;32mwith\u001b[0m \u001b[0mnp\u001b[0m\u001b[1;33m.\u001b[0m\u001b[0merrstate\u001b[0m\u001b[1;33m(\u001b[0m\u001b[0minvalid\u001b[0m\u001b[1;33m=\u001b[0m\u001b[1;34m\"ignore\"\u001b[0m\u001b[1;33m)\u001b[0m\u001b[1;33m:\u001b[0m\u001b[1;33m\u001b[0m\u001b[1;33m\u001b[0m\u001b[0m\n\u001b[1;32m---> 71\u001b[1;33m                     \u001b[1;32mreturn\u001b[0m \u001b[0mf\u001b[0m\u001b[1;33m(\u001b[0m\u001b[1;33m*\u001b[0m\u001b[0margs\u001b[0m\u001b[1;33m,\u001b[0m \u001b[1;33m**\u001b[0m\u001b[0mkwargs\u001b[0m\u001b[1;33m)\u001b[0m\u001b[1;33m\u001b[0m\u001b[1;33m\u001b[0m\u001b[0m\n\u001b[0m\u001b[0;32m     72\u001b[0m             \u001b[1;32mexcept\u001b[0m \u001b[0mValueError\u001b[0m \u001b[1;32mas\u001b[0m \u001b[0me\u001b[0m\u001b[1;33m:\u001b[0m\u001b[1;33m\u001b[0m\u001b[1;33m\u001b[0m\u001b[0m\n\u001b[0;32m     73\u001b[0m                 \u001b[1;31m# we want to transform an object array\u001b[0m\u001b[1;33m\u001b[0m\u001b[1;33m\u001b[0m\u001b[1;33m\u001b[0m\u001b[0m\n",
      "\u001b[1;32mC:\\Anaconda3\\lib\\site-packages\\pandas\\core\\nanops.py\u001b[0m in \u001b[0;36mf\u001b[1;34m(values, axis, skipna, **kwds)\u001b[0m\n\u001b[0;32m    127\u001b[0m                     \u001b[0mresult\u001b[0m \u001b[1;33m=\u001b[0m \u001b[0malt\u001b[0m\u001b[1;33m(\u001b[0m\u001b[0mvalues\u001b[0m\u001b[1;33m,\u001b[0m \u001b[0maxis\u001b[0m\u001b[1;33m=\u001b[0m\u001b[0maxis\u001b[0m\u001b[1;33m,\u001b[0m \u001b[0mskipna\u001b[0m\u001b[1;33m=\u001b[0m\u001b[0mskipna\u001b[0m\u001b[1;33m,\u001b[0m \u001b[1;33m**\u001b[0m\u001b[0mkwds\u001b[0m\u001b[1;33m)\u001b[0m\u001b[1;33m\u001b[0m\u001b[1;33m\u001b[0m\u001b[0m\n\u001b[0;32m    128\u001b[0m             \u001b[1;32melse\u001b[0m\u001b[1;33m:\u001b[0m\u001b[1;33m\u001b[0m\u001b[1;33m\u001b[0m\u001b[0m\n\u001b[1;32m--> 129\u001b[1;33m                 \u001b[0mresult\u001b[0m \u001b[1;33m=\u001b[0m \u001b[0malt\u001b[0m\u001b[1;33m(\u001b[0m\u001b[0mvalues\u001b[0m\u001b[1;33m,\u001b[0m \u001b[0maxis\u001b[0m\u001b[1;33m=\u001b[0m\u001b[0maxis\u001b[0m\u001b[1;33m,\u001b[0m \u001b[0mskipna\u001b[0m\u001b[1;33m=\u001b[0m\u001b[0mskipna\u001b[0m\u001b[1;33m,\u001b[0m \u001b[1;33m**\u001b[0m\u001b[0mkwds\u001b[0m\u001b[1;33m)\u001b[0m\u001b[1;33m\u001b[0m\u001b[1;33m\u001b[0m\u001b[0m\n\u001b[0m\u001b[0;32m    130\u001b[0m \u001b[1;33m\u001b[0m\u001b[0m\n\u001b[0;32m    131\u001b[0m             \u001b[1;32mreturn\u001b[0m \u001b[0mresult\u001b[0m\u001b[1;33m\u001b[0m\u001b[1;33m\u001b[0m\u001b[0m\n",
      "\u001b[1;32mC:\\Anaconda3\\lib\\site-packages\\pandas\\core\\nanops.py\u001b[0m in \u001b[0;36mnanmean\u001b[1;34m(values, axis, skipna, mask)\u001b[0m\n\u001b[0;32m    561\u001b[0m         \u001b[0mdtype_count\u001b[0m \u001b[1;33m=\u001b[0m \u001b[0mdtype\u001b[0m\u001b[1;33m\u001b[0m\u001b[1;33m\u001b[0m\u001b[0m\n\u001b[0;32m    562\u001b[0m     \u001b[0mcount\u001b[0m \u001b[1;33m=\u001b[0m \u001b[0m_get_counts\u001b[0m\u001b[1;33m(\u001b[0m\u001b[0mvalues\u001b[0m\u001b[1;33m.\u001b[0m\u001b[0mshape\u001b[0m\u001b[1;33m,\u001b[0m \u001b[0mmask\u001b[0m\u001b[1;33m,\u001b[0m \u001b[0maxis\u001b[0m\u001b[1;33m,\u001b[0m \u001b[0mdtype\u001b[0m\u001b[1;33m=\u001b[0m\u001b[0mdtype_count\u001b[0m\u001b[1;33m)\u001b[0m\u001b[1;33m\u001b[0m\u001b[1;33m\u001b[0m\u001b[0m\n\u001b[1;32m--> 563\u001b[1;33m     \u001b[0mthe_sum\u001b[0m \u001b[1;33m=\u001b[0m \u001b[0m_ensure_numeric\u001b[0m\u001b[1;33m(\u001b[0m\u001b[0mvalues\u001b[0m\u001b[1;33m.\u001b[0m\u001b[0msum\u001b[0m\u001b[1;33m(\u001b[0m\u001b[0maxis\u001b[0m\u001b[1;33m,\u001b[0m \u001b[0mdtype\u001b[0m\u001b[1;33m=\u001b[0m\u001b[0mdtype_sum\u001b[0m\u001b[1;33m)\u001b[0m\u001b[1;33m)\u001b[0m\u001b[1;33m\u001b[0m\u001b[1;33m\u001b[0m\u001b[0m\n\u001b[0m\u001b[0;32m    564\u001b[0m \u001b[1;33m\u001b[0m\u001b[0m\n\u001b[0;32m    565\u001b[0m     \u001b[1;32mif\u001b[0m \u001b[0maxis\u001b[0m \u001b[1;32mis\u001b[0m \u001b[1;32mnot\u001b[0m \u001b[1;32mNone\u001b[0m \u001b[1;32mand\u001b[0m \u001b[0mgetattr\u001b[0m\u001b[1;33m(\u001b[0m\u001b[0mthe_sum\u001b[0m\u001b[1;33m,\u001b[0m \u001b[1;34m\"ndim\"\u001b[0m\u001b[1;33m,\u001b[0m \u001b[1;32mFalse\u001b[0m\u001b[1;33m)\u001b[0m\u001b[1;33m:\u001b[0m\u001b[1;33m\u001b[0m\u001b[1;33m\u001b[0m\u001b[0m\n",
      "\u001b[1;32mC:\\Anaconda3\\lib\\site-packages\\numpy\\core\\_methods.py\u001b[0m in \u001b[0;36m_sum\u001b[1;34m(a, axis, dtype, out, keepdims, initial, where)\u001b[0m\n\u001b[0;32m     36\u001b[0m def _sum(a, axis=None, dtype=None, out=None, keepdims=False,\n\u001b[0;32m     37\u001b[0m          initial=_NoValue, where=True):\n\u001b[1;32m---> 38\u001b[1;33m     \u001b[1;32mreturn\u001b[0m \u001b[0mumr_sum\u001b[0m\u001b[1;33m(\u001b[0m\u001b[0ma\u001b[0m\u001b[1;33m,\u001b[0m \u001b[0maxis\u001b[0m\u001b[1;33m,\u001b[0m \u001b[0mdtype\u001b[0m\u001b[1;33m,\u001b[0m \u001b[0mout\u001b[0m\u001b[1;33m,\u001b[0m \u001b[0mkeepdims\u001b[0m\u001b[1;33m,\u001b[0m \u001b[0minitial\u001b[0m\u001b[1;33m,\u001b[0m \u001b[0mwhere\u001b[0m\u001b[1;33m)\u001b[0m\u001b[1;33m\u001b[0m\u001b[1;33m\u001b[0m\u001b[0m\n\u001b[0m\u001b[0;32m     39\u001b[0m \u001b[1;33m\u001b[0m\u001b[0m\n\u001b[0;32m     40\u001b[0m def _prod(a, axis=None, dtype=None, out=None, keepdims=False,\n",
      "\u001b[1;31mTypeError\u001b[0m: can only concatenate str (not \"int\") to str"
     ]
    }
   ],
   "source": [
    "for col in cols:\n",
    "    print(col)\n",
    "    if train[col].dtype == 'float':\n",
    "        both(col,'mean')"
   ]
  },
  {
   "cell_type": "code",
   "execution_count": 316,
   "metadata": {},
   "outputs": [
    {
     "data": {
      "text/plain": [
       "0       62.0\n",
       "1      801.0\n",
       "2      234.0\n",
       "3      663.0\n",
       "4      206.0\n",
       "       ...  \n",
       "296    193.0\n",
       "297     79.0\n",
       "298      NaN\n",
       "299    100.0\n",
       "300     15.0\n",
       "Name: employee1, Length: 301, dtype: float64"
      ]
     },
     "execution_count": 316,
     "metadata": {},
     "output_type": "execute_result"
    }
   ],
   "source": [
    "train['employee1']"
   ]
  },
  {
   "cell_type": "code",
   "execution_count": 288,
   "metadata": {},
   "outputs": [
    {
     "data": {
      "text/plain": [
       "0"
      ]
     },
     "execution_count": 288,
     "metadata": {},
     "output_type": "execute_result"
    }
   ],
   "source": [
    "test['bedCount'].isnull().sum()"
   ]
  },
  {
   "cell_type": "code",
   "execution_count": 262,
   "metadata": {
    "scrolled": true
   },
   "outputs": [
    {
     "data": {
      "text/plain": [
       "inst_id                0\n",
       "sido                   0\n",
       "sgg                    0\n",
       "openDate               1\n",
       "bedCount               8\n",
       "instkind               2\n",
       "revenue1               0\n",
       "salescost1             2\n",
       "sga1                   2\n",
       "salary1                2\n",
       "noi1                   2\n",
       "noe1                   2\n",
       "interest1              2\n",
       "ctax1                  2\n",
       "profit1                2\n",
       "liquidAsset1           2\n",
       "quickAsset1            2\n",
       "receivableS1           2\n",
       "inventoryAsset1        2\n",
       "nonCAsset1             2\n",
       "tanAsset1              2\n",
       "OnonCAsset1            2\n",
       "receivableL1           2\n",
       "debt1                  2\n",
       "liquidLiabilities1     2\n",
       "shortLoan1             2\n",
       "NCLiabilities1         2\n",
       "longLoan1              2\n",
       "netAsset1              2\n",
       "surplus1               2\n",
       "revenue2               2\n",
       "salescost2             2\n",
       "sga2                   2\n",
       "salary2                2\n",
       "noi2                   2\n",
       "noe2                   2\n",
       "interest2              2\n",
       "ctax2                  2\n",
       "profit2                2\n",
       "liquidAsset2           2\n",
       "quickAsset2            2\n",
       "receivableS2           2\n",
       "inventoryAsset2        2\n",
       "nonCAsset2             2\n",
       "tanAsset2              2\n",
       "OnonCAsset2            2\n",
       "receivableL2           2\n",
       "debt2                  2\n",
       "liquidLiabilities2     2\n",
       "shortLoan2             2\n",
       "NCLiabilities2         2\n",
       "longLoan2              2\n",
       "netAsset2              2\n",
       "surplus2               2\n",
       "employee1              8\n",
       "employee2             15\n",
       "ownerChange           15\n",
       "dtype: int64"
      ]
     },
     "execution_count": 262,
     "metadata": {},
     "output_type": "execute_result"
    }
   ],
   "source": [
    "test.isnull().sum()"
   ]
  },
  {
   "cell_type": "code",
   "execution_count": null,
   "metadata": {},
   "outputs": [],
   "source": [
    "vi"
   ]
  },
  {
   "cell_type": "code",
   "execution_count": 232,
   "metadata": {},
   "outputs": [
    {
     "data": {
      "text/plain": [
       "0      4.217530e+09\n",
       "1      1.288175e+10\n",
       "2      1.004522e+09\n",
       "3      7.250734e+10\n",
       "4      4.904354e+10\n",
       "           ...     \n",
       "296    7.614697e+09\n",
       "297    6.717144e+09\n",
       "298    0.000000e+00\n",
       "299    2.116892e+09\n",
       "300    1.340971e+09\n",
       "Name: revenue1, Length: 301, dtype: float64"
      ]
     },
     "execution_count": 232,
     "metadata": {},
     "output_type": "execute_result"
    }
   ],
   "source": [
    "train.columns"
   ]
  },
  {
   "cell_type": "code",
   "execution_count": 187,
   "metadata": {
    "scrolled": true
   },
   "outputs": [
    {
     "name": "stdout",
     "output_type": "stream",
     "text": [
      "inst_id int64\n",
      "3\n",
      "OC object\n",
      "open\n",
      "sido object\n",
      "gyeongnam\n",
      "sgg int64\n",
      "32\n",
      "openDate int64\n",
      "19970401\n",
      "bedCount float64\n",
      "410.0\n",
      "instkind object\n",
      "general_hospital\n",
      "revenue1 float64\n",
      "nan\n",
      "salescost1 float64\n",
      "nan\n",
      "sga1 float64\n",
      "nan\n",
      "salary1 float64\n",
      "nan\n",
      "noi1 float64\n",
      "nan\n",
      "noe1 float64\n",
      "nan\n",
      "interest1 float64\n",
      "nan\n",
      "ctax1 float64\n",
      "nan\n",
      "profit1 float64\n",
      "nan\n",
      "liquidAsset1 float64\n",
      "nan\n",
      "quickAsset1 float64\n",
      "nan\n",
      "receivableS1 float64\n",
      "nan\n",
      "inventoryAsset1 float64\n",
      "nan\n",
      "nonCAsset1 float64\n",
      "nan\n",
      "tanAsset1 float64\n",
      "nan\n",
      "OnonCAsset1 float64\n",
      "nan\n",
      "receivableL1 float64\n",
      "nan\n",
      "debt1 float64\n",
      "nan\n",
      "liquidLiabilities1 float64\n",
      "nan\n",
      "shortLoan1 float64\n",
      "nan\n",
      "NCLiabilities1 float64\n",
      "nan\n",
      "longLoan1 float64\n",
      "nan\n",
      "netAsset1 float64\n",
      "nan\n",
      "surplus1 float64\n",
      "nan\n",
      "revenue2 float64\n",
      "nan\n",
      "salescost2 float64\n",
      "nan\n",
      "sga2 float64\n",
      "nan\n",
      "salary2 float64\n",
      "nan\n",
      "noi2 float64\n",
      "nan\n",
      "noe2 float64\n",
      "nan\n",
      "interest2 float64\n",
      "nan\n",
      "ctax2 float64\n",
      "nan\n",
      "profit2 float64\n",
      "nan\n",
      "liquidAsset2 float64\n",
      "nan\n",
      "quickAsset2 float64\n",
      "nan\n",
      "receivableS2 float64\n",
      "nan\n",
      "inventoryAsset2 float64\n",
      "nan\n",
      "nonCAsset2 float64\n",
      "nan\n",
      "tanAsset2 float64\n",
      "nan\n",
      "OnonCAsset2 float64\n",
      "nan\n",
      "receivableL2 float64\n",
      "nan\n",
      "debt2 float64\n",
      "nan\n",
      "liquidLiabilities2 float64\n",
      "nan\n",
      "shortLoan2 float64\n",
      "nan\n",
      "NCLiabilities2 float64\n",
      "nan\n",
      "longLoan2 float64\n",
      "nan\n",
      "netAsset2 float64\n",
      "nan\n",
      "surplus2 float64\n",
      "nan\n",
      "employee1 float64\n",
      "801.0\n",
      "employee2 float64\n",
      "813.0\n",
      "ownerChange object\n",
      "same\n"
     ]
    }
   ],
   "source": [
    "for i in train.columns:\n",
    "    print(i, train[i].dtype)\n",
    "    print(train[i][1])"
   ]
  },
  {
   "cell_type": "code",
   "execution_count": 171,
   "metadata": {},
   "outputs": [
    {
     "data": {
      "text/plain": [
       "True"
      ]
     },
     "execution_count": 171,
     "metadata": {},
     "output_type": "execute_result"
    }
   ],
   "source": [
    "train['revenue1'].dtype=='float64'"
   ]
  },
  {
   "cell_type": "code",
   "execution_count": null,
   "metadata": {},
   "outputs": [],
   "source": []
  },
  {
   "cell_type": "code",
   "execution_count": 208,
   "metadata": {},
   "outputs": [],
   "source": [
    "for col in total.columns:\n",
    "        \n",
    "        if df[col].dtype == 'float64' or df[col].dtype == 'int64':\n",
    "            df[col].fillna(value = df[col].mean(), inplace = True)\n",
    "            \n",
    "        elif df[col].dtype == 'object':\n",
    "            df[col] = df[col].fillna(value = df[col].mode(), inplace = True)"
   ]
  },
  {
   "cell_type": "code",
   "execution_count": 209,
   "metadata": {},
   "outputs": [
    {
     "data": {
      "text/html": [
       "<div>\n",
       "<style scoped>\n",
       "    .dataframe tbody tr th:only-of-type {\n",
       "        vertical-align: middle;\n",
       "    }\n",
       "\n",
       "    .dataframe tbody tr th {\n",
       "        vertical-align: top;\n",
       "    }\n",
       "\n",
       "    .dataframe thead th {\n",
       "        text-align: right;\n",
       "    }\n",
       "</style>\n",
       "<table border=\"1\" class=\"dataframe\">\n",
       "  <thead>\n",
       "    <tr style=\"text-align: right;\">\n",
       "      <th></th>\n",
       "      <th>inst_id</th>\n",
       "      <th>OC</th>\n",
       "      <th>sido</th>\n",
       "      <th>sgg</th>\n",
       "      <th>openDate</th>\n",
       "      <th>bedCount</th>\n",
       "      <th>instkind</th>\n",
       "      <th>revenue1</th>\n",
       "      <th>salescost1</th>\n",
       "      <th>sga1</th>\n",
       "      <th>...</th>\n",
       "      <th>debt2</th>\n",
       "      <th>liquidLiabilities2</th>\n",
       "      <th>shortLoan2</th>\n",
       "      <th>NCLiabilities2</th>\n",
       "      <th>longLoan2</th>\n",
       "      <th>netAsset2</th>\n",
       "      <th>surplus2</th>\n",
       "      <th>employee1</th>\n",
       "      <th>employee2</th>\n",
       "      <th>ownerChange</th>\n",
       "    </tr>\n",
       "  </thead>\n",
       "  <tbody>\n",
       "    <tr>\n",
       "      <th>0</th>\n",
       "      <td>1</td>\n",
       "      <td>None</td>\n",
       "      <td>None</td>\n",
       "      <td>73</td>\n",
       "      <td>20071228</td>\n",
       "      <td>175.000000</td>\n",
       "      <td>None</td>\n",
       "      <td>4.217530e+09</td>\n",
       "      <td>0.000000e+00</td>\n",
       "      <td>3.961135e+09</td>\n",
       "      <td>...</td>\n",
       "      <td>7.589937e+08</td>\n",
       "      <td>2.228769e+08</td>\n",
       "      <td>0.000000e+00</td>\n",
       "      <td>5.361169e+08</td>\n",
       "      <td>3.900000e+08</td>\n",
       "      <td>2.619290e+09</td>\n",
       "      <td>1.271224e+09</td>\n",
       "      <td>62.000000</td>\n",
       "      <td>64.000000</td>\n",
       "      <td>None</td>\n",
       "    </tr>\n",
       "    <tr>\n",
       "      <th>1</th>\n",
       "      <td>3</td>\n",
       "      <td>None</td>\n",
       "      <td>None</td>\n",
       "      <td>32</td>\n",
       "      <td>19970401</td>\n",
       "      <td>410.000000</td>\n",
       "      <td>None</td>\n",
       "      <td>1.288175e+10</td>\n",
       "      <td>2.014903e+09</td>\n",
       "      <td>1.033244e+10</td>\n",
       "      <td>...</td>\n",
       "      <td>8.146026e+09</td>\n",
       "      <td>3.860584e+09</td>\n",
       "      <td>1.510050e+09</td>\n",
       "      <td>4.471247e+09</td>\n",
       "      <td>2.709979e+09</td>\n",
       "      <td>5.273919e+09</td>\n",
       "      <td>9.786279e+08</td>\n",
       "      <td>801.000000</td>\n",
       "      <td>813.000000</td>\n",
       "      <td>None</td>\n",
       "    </tr>\n",
       "    <tr>\n",
       "      <th>2</th>\n",
       "      <td>4</td>\n",
       "      <td>None</td>\n",
       "      <td>None</td>\n",
       "      <td>89</td>\n",
       "      <td>20161228</td>\n",
       "      <td>468.000000</td>\n",
       "      <td>None</td>\n",
       "      <td>1.004522e+09</td>\n",
       "      <td>5.154837e+08</td>\n",
       "      <td>4.472197e+08</td>\n",
       "      <td>...</td>\n",
       "      <td>0.000000e+00</td>\n",
       "      <td>0.000000e+00</td>\n",
       "      <td>0.000000e+00</td>\n",
       "      <td>0.000000e+00</td>\n",
       "      <td>0.000000e+00</td>\n",
       "      <td>0.000000e+00</td>\n",
       "      <td>0.000000e+00</td>\n",
       "      <td>234.000000</td>\n",
       "      <td>1.000000</td>\n",
       "      <td>None</td>\n",
       "    </tr>\n",
       "    <tr>\n",
       "      <th>3</th>\n",
       "      <td>7</td>\n",
       "      <td>None</td>\n",
       "      <td>None</td>\n",
       "      <td>141</td>\n",
       "      <td>20000814</td>\n",
       "      <td>353.000000</td>\n",
       "      <td>None</td>\n",
       "      <td>7.250734e+10</td>\n",
       "      <td>0.000000e+00</td>\n",
       "      <td>7.067740e+10</td>\n",
       "      <td>...</td>\n",
       "      <td>3.775501e+10</td>\n",
       "      <td>1.701860e+10</td>\n",
       "      <td>9.219427e+09</td>\n",
       "      <td>2.073641e+10</td>\n",
       "      <td>1.510000e+10</td>\n",
       "      <td>1.295427e+10</td>\n",
       "      <td>7.740829e+09</td>\n",
       "      <td>663.000000</td>\n",
       "      <td>663.000000</td>\n",
       "      <td>None</td>\n",
       "    </tr>\n",
       "    <tr>\n",
       "      <th>4</th>\n",
       "      <td>9</td>\n",
       "      <td>None</td>\n",
       "      <td>None</td>\n",
       "      <td>32</td>\n",
       "      <td>20050901</td>\n",
       "      <td>196.000000</td>\n",
       "      <td>None</td>\n",
       "      <td>4.904354e+10</td>\n",
       "      <td>0.000000e+00</td>\n",
       "      <td>4.765605e+10</td>\n",
       "      <td>...</td>\n",
       "      <td>5.143259e+10</td>\n",
       "      <td>3.007259e+10</td>\n",
       "      <td>1.759375e+10</td>\n",
       "      <td>2.136001e+10</td>\n",
       "      <td>1.410803e+10</td>\n",
       "      <td>5.561941e+06</td>\n",
       "      <td>9.025550e+09</td>\n",
       "      <td>206.000000</td>\n",
       "      <td>197.000000</td>\n",
       "      <td>None</td>\n",
       "    </tr>\n",
       "    <tr>\n",
       "      <th>...</th>\n",
       "      <td>...</td>\n",
       "      <td>...</td>\n",
       "      <td>...</td>\n",
       "      <td>...</td>\n",
       "      <td>...</td>\n",
       "      <td>...</td>\n",
       "      <td>...</td>\n",
       "      <td>...</td>\n",
       "      <td>...</td>\n",
       "      <td>...</td>\n",
       "      <td>...</td>\n",
       "      <td>...</td>\n",
       "      <td>...</td>\n",
       "      <td>...</td>\n",
       "      <td>...</td>\n",
       "      <td>...</td>\n",
       "      <td>...</td>\n",
       "      <td>...</td>\n",
       "      <td>...</td>\n",
       "      <td>...</td>\n",
       "      <td>...</td>\n",
       "    </tr>\n",
       "    <tr>\n",
       "      <th>296</th>\n",
       "      <td>422</td>\n",
       "      <td>None</td>\n",
       "      <td>None</td>\n",
       "      <td>178</td>\n",
       "      <td>20050211</td>\n",
       "      <td>214.000000</td>\n",
       "      <td>None</td>\n",
       "      <td>7.614697e+09</td>\n",
       "      <td>4.153475e+08</td>\n",
       "      <td>5.903119e+09</td>\n",
       "      <td>...</td>\n",
       "      <td>9.423771e+09</td>\n",
       "      <td>2.618201e+09</td>\n",
       "      <td>0.000000e+00</td>\n",
       "      <td>6.805570e+09</td>\n",
       "      <td>5.930000e+09</td>\n",
       "      <td>5.379502e+09</td>\n",
       "      <td>8.116416e+08</td>\n",
       "      <td>193.000000</td>\n",
       "      <td>141.000000</td>\n",
       "      <td>None</td>\n",
       "    </tr>\n",
       "    <tr>\n",
       "      <th>297</th>\n",
       "      <td>423</td>\n",
       "      <td>None</td>\n",
       "      <td>None</td>\n",
       "      <td>159</td>\n",
       "      <td>20140618</td>\n",
       "      <td>145.709459</td>\n",
       "      <td>None</td>\n",
       "      <td>6.717144e+09</td>\n",
       "      <td>8.200000e+09</td>\n",
       "      <td>0.000000e+00</td>\n",
       "      <td>...</td>\n",
       "      <td>0.000000e+00</td>\n",
       "      <td>0.000000e+00</td>\n",
       "      <td>0.000000e+00</td>\n",
       "      <td>0.000000e+00</td>\n",
       "      <td>0.000000e+00</td>\n",
       "      <td>0.000000e+00</td>\n",
       "      <td>0.000000e+00</td>\n",
       "      <td>79.000000</td>\n",
       "      <td>79.000000</td>\n",
       "      <td>None</td>\n",
       "    </tr>\n",
       "    <tr>\n",
       "      <th>298</th>\n",
       "      <td>426</td>\n",
       "      <td>None</td>\n",
       "      <td>None</td>\n",
       "      <td>107</td>\n",
       "      <td>19830705</td>\n",
       "      <td>145.709459</td>\n",
       "      <td>None</td>\n",
       "      <td>0.000000e+00</td>\n",
       "      <td>0.000000e+00</td>\n",
       "      <td>5.479428e+07</td>\n",
       "      <td>...</td>\n",
       "      <td>6.370097e+09</td>\n",
       "      <td>2.170973e+09</td>\n",
       "      <td>0.000000e+00</td>\n",
       "      <td>4.199124e+09</td>\n",
       "      <td>2.498749e+09</td>\n",
       "      <td>3.259161e+09</td>\n",
       "      <td>0.000000e+00</td>\n",
       "      <td>142.546392</td>\n",
       "      <td>134.326389</td>\n",
       "      <td>None</td>\n",
       "    </tr>\n",
       "    <tr>\n",
       "      <th>299</th>\n",
       "      <td>427</td>\n",
       "      <td>None</td>\n",
       "      <td>None</td>\n",
       "      <td>169</td>\n",
       "      <td>20070101</td>\n",
       "      <td>180.000000</td>\n",
       "      <td>None</td>\n",
       "      <td>2.116892e+09</td>\n",
       "      <td>2.681748e+08</td>\n",
       "      <td>3.286245e+09</td>\n",
       "      <td>...</td>\n",
       "      <td>6.392336e+08</td>\n",
       "      <td>6.400000e+09</td>\n",
       "      <td>0.000000e+00</td>\n",
       "      <td>0.000000e+00</td>\n",
       "      <td>0.000000e+00</td>\n",
       "      <td>0.000000e+00</td>\n",
       "      <td>0.000000e+00</td>\n",
       "      <td>100.000000</td>\n",
       "      <td>134.326389</td>\n",
       "      <td>None</td>\n",
       "    </tr>\n",
       "    <tr>\n",
       "      <th>300</th>\n",
       "      <td>428</td>\n",
       "      <td>None</td>\n",
       "      <td>None</td>\n",
       "      <td>79</td>\n",
       "      <td>20011017</td>\n",
       "      <td>145.709459</td>\n",
       "      <td>None</td>\n",
       "      <td>1.340971e+09</td>\n",
       "      <td>8.108450e+08</td>\n",
       "      <td>5.043409e+08</td>\n",
       "      <td>...</td>\n",
       "      <td>5.349000e+09</td>\n",
       "      <td>3.123072e+09</td>\n",
       "      <td>0.000000e+00</td>\n",
       "      <td>2.225928e+09</td>\n",
       "      <td>2.190000e+09</td>\n",
       "      <td>5.536178e+09</td>\n",
       "      <td>6.269440e+09</td>\n",
       "      <td>15.000000</td>\n",
       "      <td>15.000000</td>\n",
       "      <td>None</td>\n",
       "    </tr>\n",
       "  </tbody>\n",
       "</table>\n",
       "<p>301 rows × 58 columns</p>\n",
       "</div>"
      ],
      "text/plain": [
       "     inst_id    OC  sido  sgg  openDate    bedCount instkind      revenue1  \\\n",
       "0          1  None  None   73  20071228  175.000000     None  4.217530e+09   \n",
       "1          3  None  None   32  19970401  410.000000     None  1.288175e+10   \n",
       "2          4  None  None   89  20161228  468.000000     None  1.004522e+09   \n",
       "3          7  None  None  141  20000814  353.000000     None  7.250734e+10   \n",
       "4          9  None  None   32  20050901  196.000000     None  4.904354e+10   \n",
       "..       ...   ...   ...  ...       ...         ...      ...           ...   \n",
       "296      422  None  None  178  20050211  214.000000     None  7.614697e+09   \n",
       "297      423  None  None  159  20140618  145.709459     None  6.717144e+09   \n",
       "298      426  None  None  107  19830705  145.709459     None  0.000000e+00   \n",
       "299      427  None  None  169  20070101  180.000000     None  2.116892e+09   \n",
       "300      428  None  None   79  20011017  145.709459     None  1.340971e+09   \n",
       "\n",
       "       salescost1          sga1  ...         debt2  liquidLiabilities2  \\\n",
       "0    0.000000e+00  3.961135e+09  ...  7.589937e+08        2.228769e+08   \n",
       "1    2.014903e+09  1.033244e+10  ...  8.146026e+09        3.860584e+09   \n",
       "2    5.154837e+08  4.472197e+08  ...  0.000000e+00        0.000000e+00   \n",
       "3    0.000000e+00  7.067740e+10  ...  3.775501e+10        1.701860e+10   \n",
       "4    0.000000e+00  4.765605e+10  ...  5.143259e+10        3.007259e+10   \n",
       "..            ...           ...  ...           ...                 ...   \n",
       "296  4.153475e+08  5.903119e+09  ...  9.423771e+09        2.618201e+09   \n",
       "297  8.200000e+09  0.000000e+00  ...  0.000000e+00        0.000000e+00   \n",
       "298  0.000000e+00  5.479428e+07  ...  6.370097e+09        2.170973e+09   \n",
       "299  2.681748e+08  3.286245e+09  ...  6.392336e+08        6.400000e+09   \n",
       "300  8.108450e+08  5.043409e+08  ...  5.349000e+09        3.123072e+09   \n",
       "\n",
       "       shortLoan2  NCLiabilities2     longLoan2     netAsset2      surplus2  \\\n",
       "0    0.000000e+00    5.361169e+08  3.900000e+08  2.619290e+09  1.271224e+09   \n",
       "1    1.510050e+09    4.471247e+09  2.709979e+09  5.273919e+09  9.786279e+08   \n",
       "2    0.000000e+00    0.000000e+00  0.000000e+00  0.000000e+00  0.000000e+00   \n",
       "3    9.219427e+09    2.073641e+10  1.510000e+10  1.295427e+10  7.740829e+09   \n",
       "4    1.759375e+10    2.136001e+10  1.410803e+10  5.561941e+06  9.025550e+09   \n",
       "..            ...             ...           ...           ...           ...   \n",
       "296  0.000000e+00    6.805570e+09  5.930000e+09  5.379502e+09  8.116416e+08   \n",
       "297  0.000000e+00    0.000000e+00  0.000000e+00  0.000000e+00  0.000000e+00   \n",
       "298  0.000000e+00    4.199124e+09  2.498749e+09  3.259161e+09  0.000000e+00   \n",
       "299  0.000000e+00    0.000000e+00  0.000000e+00  0.000000e+00  0.000000e+00   \n",
       "300  0.000000e+00    2.225928e+09  2.190000e+09  5.536178e+09  6.269440e+09   \n",
       "\n",
       "      employee1   employee2  ownerChange  \n",
       "0     62.000000   64.000000         None  \n",
       "1    801.000000  813.000000         None  \n",
       "2    234.000000    1.000000         None  \n",
       "3    663.000000  663.000000         None  \n",
       "4    206.000000  197.000000         None  \n",
       "..          ...         ...          ...  \n",
       "296  193.000000  141.000000         None  \n",
       "297   79.000000   79.000000         None  \n",
       "298  142.546392  134.326389         None  \n",
       "299  100.000000  134.326389         None  \n",
       "300   15.000000   15.000000         None  \n",
       "\n",
       "[301 rows x 58 columns]"
      ]
     },
     "execution_count": 209,
     "metadata": {},
     "output_type": "execute_result"
    }
   ],
   "source": [
    "train"
   ]
  },
  {
   "cell_type": "code",
   "execution_count": 192,
   "metadata": {},
   "outputs": [
    {
     "data": {
      "text/plain": [
       "Series([], Name: sido, dtype: int64)"
      ]
     },
     "execution_count": 192,
     "metadata": {},
     "output_type": "execute_result"
    }
   ],
   "source": [
    "train['sido'].value_counts()"
   ]
  },
  {
   "cell_type": "code",
   "execution_count": 199,
   "metadata": {},
   "outputs": [
    {
     "data": {
      "text/plain": [
       "0          nursing_hospital\n",
       "1          general_hospital\n",
       "2          nursing_hospital\n",
       "3          general_hospital\n",
       "4          general_hospital\n",
       "               ...         \n",
       "296        nursing_hospital\n",
       "297                hospital\n",
       "298                hospital\n",
       "299        nursing_hospital\n",
       "300    traditional_hospital\n",
       "Name: instkind, Length: 301, dtype: object"
      ]
     },
     "execution_count": 199,
     "metadata": {},
     "output_type": "execute_result"
    }
   ],
   "source": [
    "train['instkind']"
   ]
  },
  {
   "cell_type": "code",
   "execution_count": 206,
   "metadata": {},
   "outputs": [
    {
     "ename": "AttributeError",
     "evalue": "'Series' object has no attribute 'find'",
     "output_type": "error",
     "traceback": [
      "\u001b[1;31m---------------------------------------------------------------------------\u001b[0m",
      "\u001b[1;31mAttributeError\u001b[0m                            Traceback (most recent call last)",
      "\u001b[1;32m<ipython-input-206-c9571716d048>\u001b[0m in \u001b[0;36m<module>\u001b[1;34m\u001b[0m\n\u001b[1;32m----> 1\u001b[1;33m \u001b[0mtrain\u001b[0m\u001b[1;33m[\u001b[0m\u001b[1;34m'instkind'\u001b[0m\u001b[1;33m]\u001b[0m\u001b[1;33m.\u001b[0m\u001b[0mfillna\u001b[0m\u001b[1;33m(\u001b[0m\u001b[0mvalue\u001b[0m \u001b[1;33m=\u001b[0m \u001b[0mtrain\u001b[0m\u001b[1;33m[\u001b[0m\u001b[1;34m'instkind'\u001b[0m\u001b[1;33m]\u001b[0m\u001b[1;33m.\u001b[0m\u001b[0mmode\u001b[0m\u001b[1;33m(\u001b[0m\u001b[1;33m)\u001b[0m\u001b[1;33m)\u001b[0m\u001b[1;33m.\u001b[0m\u001b[0misnull\u001b[0m\u001b[1;33m(\u001b[0m\u001b[1;33m)\u001b[0m\u001b[1;33m.\u001b[0m\u001b[0mfind\u001b[0m\u001b[1;33m(\u001b[0m\u001b[1;32mTrue\u001b[0m\u001b[1;33m)\u001b[0m\u001b[1;33m\u001b[0m\u001b[1;33m\u001b[0m\u001b[0m\n\u001b[0m",
      "\u001b[1;32mC:\\Anaconda3\\lib\\site-packages\\pandas\\core\\generic.py\u001b[0m in \u001b[0;36m__getattr__\u001b[1;34m(self, name)\u001b[0m\n\u001b[0;32m   5139\u001b[0m             \u001b[1;32mif\u001b[0m \u001b[0mself\u001b[0m\u001b[1;33m.\u001b[0m\u001b[0m_info_axis\u001b[0m\u001b[1;33m.\u001b[0m\u001b[0m_can_hold_identifiers_and_holds_name\u001b[0m\u001b[1;33m(\u001b[0m\u001b[0mname\u001b[0m\u001b[1;33m)\u001b[0m\u001b[1;33m:\u001b[0m\u001b[1;33m\u001b[0m\u001b[1;33m\u001b[0m\u001b[0m\n\u001b[0;32m   5140\u001b[0m                 \u001b[1;32mreturn\u001b[0m \u001b[0mself\u001b[0m\u001b[1;33m[\u001b[0m\u001b[0mname\u001b[0m\u001b[1;33m]\u001b[0m\u001b[1;33m\u001b[0m\u001b[1;33m\u001b[0m\u001b[0m\n\u001b[1;32m-> 5141\u001b[1;33m             \u001b[1;32mreturn\u001b[0m \u001b[0mobject\u001b[0m\u001b[1;33m.\u001b[0m\u001b[0m__getattribute__\u001b[0m\u001b[1;33m(\u001b[0m\u001b[0mself\u001b[0m\u001b[1;33m,\u001b[0m \u001b[0mname\u001b[0m\u001b[1;33m)\u001b[0m\u001b[1;33m\u001b[0m\u001b[1;33m\u001b[0m\u001b[0m\n\u001b[0m\u001b[0;32m   5142\u001b[0m \u001b[1;33m\u001b[0m\u001b[0m\n\u001b[0;32m   5143\u001b[0m     \u001b[1;32mdef\u001b[0m \u001b[0m__setattr__\u001b[0m\u001b[1;33m(\u001b[0m\u001b[0mself\u001b[0m\u001b[1;33m,\u001b[0m \u001b[0mname\u001b[0m\u001b[1;33m:\u001b[0m \u001b[0mstr\u001b[0m\u001b[1;33m,\u001b[0m \u001b[0mvalue\u001b[0m\u001b[1;33m)\u001b[0m \u001b[1;33m->\u001b[0m \u001b[1;32mNone\u001b[0m\u001b[1;33m:\u001b[0m\u001b[1;33m\u001b[0m\u001b[1;33m\u001b[0m\u001b[0m\n",
      "\u001b[1;31mAttributeError\u001b[0m: 'Series' object has no attribute 'find'"
     ]
    }
   ],
   "source": [
    "train['instkind'].fillna(value = train['instkind'].mode()).isnull()"
   ]
  },
  {
   "cell_type": "code",
   "execution_count": 144,
   "metadata": {},
   "outputs": [],
   "source": [
    "train['revenue1'] = train['revenue1'].fillna(train['revenue1'].mode(), inplace=True)"
   ]
  },
  {
   "cell_type": "code",
   "execution_count": 145,
   "metadata": {},
   "outputs": [
    {
     "data": {
      "text/plain": [
       "0      None\n",
       "1      None\n",
       "2      None\n",
       "3      None\n",
       "4      None\n",
       "       ... \n",
       "296    None\n",
       "297    None\n",
       "298    None\n",
       "299    None\n",
       "300    None\n",
       "Name: revenue1, Length: 301, dtype: object"
      ]
     },
     "execution_count": 145,
     "metadata": {},
     "output_type": "execute_result"
    }
   ],
   "source": [
    "train['revenue1']"
   ]
  },
  {
   "cell_type": "code",
   "execution_count": 107,
   "metadata": {},
   "outputs": [
    {
     "ename": "TypeError",
     "evalue": "Encoders require their input to be uniformly strings or numbers. Got ['float', 'str']",
     "output_type": "error",
     "traceback": [
      "\u001b[1;31m---------------------------------------------------------------------------\u001b[0m",
      "\u001b[1;31mTypeError\u001b[0m                                 Traceback (most recent call last)",
      "\u001b[1;32mC:\\Anaconda3\\lib\\site-packages\\sklearn\\preprocessing\\_label.py\u001b[0m in \u001b[0;36m_encode\u001b[1;34m(values, uniques, encode, check_unknown)\u001b[0m\n\u001b[0;32m    112\u001b[0m         \u001b[1;32mtry\u001b[0m\u001b[1;33m:\u001b[0m\u001b[1;33m\u001b[0m\u001b[1;33m\u001b[0m\u001b[0m\n\u001b[1;32m--> 113\u001b[1;33m             \u001b[0mres\u001b[0m \u001b[1;33m=\u001b[0m \u001b[0m_encode_python\u001b[0m\u001b[1;33m(\u001b[0m\u001b[0mvalues\u001b[0m\u001b[1;33m,\u001b[0m \u001b[0muniques\u001b[0m\u001b[1;33m,\u001b[0m \u001b[0mencode\u001b[0m\u001b[1;33m)\u001b[0m\u001b[1;33m\u001b[0m\u001b[1;33m\u001b[0m\u001b[0m\n\u001b[0m\u001b[0;32m    114\u001b[0m         \u001b[1;32mexcept\u001b[0m \u001b[0mTypeError\u001b[0m\u001b[1;33m:\u001b[0m\u001b[1;33m\u001b[0m\u001b[1;33m\u001b[0m\u001b[0m\n",
      "\u001b[1;32mC:\\Anaconda3\\lib\\site-packages\\sklearn\\preprocessing\\_label.py\u001b[0m in \u001b[0;36m_encode_python\u001b[1;34m(values, uniques, encode)\u001b[0m\n\u001b[0;32m     60\u001b[0m     \u001b[1;32mif\u001b[0m \u001b[0muniques\u001b[0m \u001b[1;32mis\u001b[0m \u001b[1;32mNone\u001b[0m\u001b[1;33m:\u001b[0m\u001b[1;33m\u001b[0m\u001b[1;33m\u001b[0m\u001b[0m\n\u001b[1;32m---> 61\u001b[1;33m         \u001b[0muniques\u001b[0m \u001b[1;33m=\u001b[0m \u001b[0msorted\u001b[0m\u001b[1;33m(\u001b[0m\u001b[0mset\u001b[0m\u001b[1;33m(\u001b[0m\u001b[0mvalues\u001b[0m\u001b[1;33m)\u001b[0m\u001b[1;33m)\u001b[0m\u001b[1;33m\u001b[0m\u001b[1;33m\u001b[0m\u001b[0m\n\u001b[0m\u001b[0;32m     62\u001b[0m         \u001b[0muniques\u001b[0m \u001b[1;33m=\u001b[0m \u001b[0mnp\u001b[0m\u001b[1;33m.\u001b[0m\u001b[0marray\u001b[0m\u001b[1;33m(\u001b[0m\u001b[0muniques\u001b[0m\u001b[1;33m,\u001b[0m \u001b[0mdtype\u001b[0m\u001b[1;33m=\u001b[0m\u001b[0mvalues\u001b[0m\u001b[1;33m.\u001b[0m\u001b[0mdtype\u001b[0m\u001b[1;33m)\u001b[0m\u001b[1;33m\u001b[0m\u001b[1;33m\u001b[0m\u001b[0m\n",
      "\u001b[1;31mTypeError\u001b[0m: '<' not supported between instances of 'float' and 'str'",
      "\nDuring handling of the above exception, another exception occurred:\n",
      "\u001b[1;31mTypeError\u001b[0m                                 Traceback (most recent call last)",
      "\u001b[1;32m<ipython-input-107-a22f286de5a2>\u001b[0m in \u001b[0;36m<module>\u001b[1;34m\u001b[0m\n\u001b[0;32m     12\u001b[0m \u001b[1;32mfor\u001b[0m \u001b[0mcol\u001b[0m \u001b[1;32min\u001b[0m \u001b[0mlabel_cols\u001b[0m\u001b[1;33m:\u001b[0m\u001b[1;33m\u001b[0m\u001b[1;33m\u001b[0m\u001b[0m\n\u001b[0;32m     13\u001b[0m     \u001b[0mencoder\u001b[0m \u001b[1;33m=\u001b[0m \u001b[0mLE\u001b[0m\u001b[1;33m(\u001b[0m\u001b[1;33m)\u001b[0m\u001b[1;33m\u001b[0m\u001b[1;33m\u001b[0m\u001b[0m\n\u001b[1;32m---> 14\u001b[1;33m     \u001b[0mencoder\u001b[0m\u001b[1;33m.\u001b[0m\u001b[0mfit\u001b[0m\u001b[1;33m(\u001b[0m\u001b[0mtotal\u001b[0m\u001b[1;33m[\u001b[0m\u001b[0mcol\u001b[0m\u001b[1;33m]\u001b[0m\u001b[1;33m)\u001b[0m\u001b[1;33m\u001b[0m\u001b[1;33m\u001b[0m\u001b[0m\n\u001b[0m\u001b[0;32m     15\u001b[0m     \u001b[0mtrain\u001b[0m\u001b[1;33m[\u001b[0m\u001b[0mcol\u001b[0m\u001b[1;33m]\u001b[0m \u001b[1;33m=\u001b[0m \u001b[0mencoder\u001b[0m\u001b[1;33m.\u001b[0m\u001b[0mtransform\u001b[0m\u001b[1;33m(\u001b[0m\u001b[0mtrain\u001b[0m\u001b[1;33m[\u001b[0m\u001b[0mcol\u001b[0m\u001b[1;33m]\u001b[0m\u001b[1;33m)\u001b[0m\u001b[1;33m\u001b[0m\u001b[1;33m\u001b[0m\u001b[0m\n\u001b[0;32m     16\u001b[0m     \u001b[0mtest\u001b[0m\u001b[1;33m[\u001b[0m\u001b[0mcol\u001b[0m\u001b[1;33m]\u001b[0m \u001b[1;33m=\u001b[0m \u001b[0mencoder\u001b[0m\u001b[1;33m.\u001b[0m\u001b[0mtransform\u001b[0m\u001b[1;33m(\u001b[0m\u001b[0mtest\u001b[0m\u001b[1;33m[\u001b[0m\u001b[0mcol\u001b[0m\u001b[1;33m]\u001b[0m\u001b[1;33m)\u001b[0m\u001b[1;33m\u001b[0m\u001b[1;33m\u001b[0m\u001b[0m\n",
      "\u001b[1;32mC:\\Anaconda3\\lib\\site-packages\\sklearn\\preprocessing\\_label.py\u001b[0m in \u001b[0;36mfit\u001b[1;34m(self, y)\u001b[0m\n\u001b[0;32m    238\u001b[0m         \"\"\"\n\u001b[0;32m    239\u001b[0m         \u001b[0my\u001b[0m \u001b[1;33m=\u001b[0m \u001b[0mcolumn_or_1d\u001b[0m\u001b[1;33m(\u001b[0m\u001b[0my\u001b[0m\u001b[1;33m,\u001b[0m \u001b[0mwarn\u001b[0m\u001b[1;33m=\u001b[0m\u001b[1;32mTrue\u001b[0m\u001b[1;33m)\u001b[0m\u001b[1;33m\u001b[0m\u001b[1;33m\u001b[0m\u001b[0m\n\u001b[1;32m--> 240\u001b[1;33m         \u001b[0mself\u001b[0m\u001b[1;33m.\u001b[0m\u001b[0mclasses_\u001b[0m \u001b[1;33m=\u001b[0m \u001b[0m_encode\u001b[0m\u001b[1;33m(\u001b[0m\u001b[0my\u001b[0m\u001b[1;33m)\u001b[0m\u001b[1;33m\u001b[0m\u001b[1;33m\u001b[0m\u001b[0m\n\u001b[0m\u001b[0;32m    241\u001b[0m         \u001b[1;32mreturn\u001b[0m \u001b[0mself\u001b[0m\u001b[1;33m\u001b[0m\u001b[1;33m\u001b[0m\u001b[0m\n\u001b[0;32m    242\u001b[0m \u001b[1;33m\u001b[0m\u001b[0m\n",
      "\u001b[1;32mC:\\Anaconda3\\lib\\site-packages\\sklearn\\preprocessing\\_label.py\u001b[0m in \u001b[0;36m_encode\u001b[1;34m(values, uniques, encode, check_unknown)\u001b[0m\n\u001b[0;32m    115\u001b[0m             types = sorted(t.__qualname__\n\u001b[0;32m    116\u001b[0m                            for t in set(type(v) for v in values))\n\u001b[1;32m--> 117\u001b[1;33m             raise TypeError(\"Encoders require their input to be uniformly \"\n\u001b[0m\u001b[0;32m    118\u001b[0m                             f\"strings or numbers. Got {types}\")\n\u001b[0;32m    119\u001b[0m         \u001b[1;32mreturn\u001b[0m \u001b[0mres\u001b[0m\u001b[1;33m\u001b[0m\u001b[1;33m\u001b[0m\u001b[0m\n",
      "\u001b[1;31mTypeError\u001b[0m: Encoders require their input to be uniformly strings or numbers. Got ['float', 'str']"
     ]
    }
   ],
   "source": [
    "from sklearn.preprocessing import LabelEncoder as LE\n",
    "\n",
    "label_cols = 'sido', 'instkind', 'ownerChange'\n",
    "\n",
    "# concat해서 fit해주는 이유: test에는 있는데 train에는 없는 label이 존재\n",
    "total = pd.concat([train,test])\n",
    "\n",
    "for yes_null\n",
    "    total[col] = total[col].astype('category')\n",
    "    train[col] = train[col].astype('category')\n",
    "    test[col] = test[col].astype('category')\n",
    "\n",
    "for col in label_cols:\n",
    "    encoder = LE()\n",
    "    encoder.fit(total[col])  \n",
    "    train[col] = encoder.transform(train[col])\n",
    "    test[col] = encoder.transform(test[col])"
   ]
  },
  {
   "cell_type": "code",
   "execution_count": 373,
   "metadata": {},
   "outputs": [
    {
     "ename": "TypeError",
     "evalue": "Encoders require their input to be uniformly strings or numbers. Got ['float', 'str']",
     "output_type": "error",
     "traceback": [
      "\u001b[1;31m---------------------------------------------------------------------------\u001b[0m",
      "\u001b[1;31mTypeError\u001b[0m                                 Traceback (most recent call last)",
      "\u001b[1;32mC:\\Anaconda3\\lib\\site-packages\\sklearn\\preprocessing\\_label.py\u001b[0m in \u001b[0;36m_encode\u001b[1;34m(values, uniques, encode, check_unknown)\u001b[0m\n\u001b[0;32m    112\u001b[0m         \u001b[1;32mtry\u001b[0m\u001b[1;33m:\u001b[0m\u001b[1;33m\u001b[0m\u001b[1;33m\u001b[0m\u001b[0m\n\u001b[1;32m--> 113\u001b[1;33m             \u001b[0mres\u001b[0m \u001b[1;33m=\u001b[0m \u001b[0m_encode_python\u001b[0m\u001b[1;33m(\u001b[0m\u001b[0mvalues\u001b[0m\u001b[1;33m,\u001b[0m \u001b[0muniques\u001b[0m\u001b[1;33m,\u001b[0m \u001b[0mencode\u001b[0m\u001b[1;33m)\u001b[0m\u001b[1;33m\u001b[0m\u001b[1;33m\u001b[0m\u001b[0m\n\u001b[0m\u001b[0;32m    114\u001b[0m         \u001b[1;32mexcept\u001b[0m \u001b[0mTypeError\u001b[0m\u001b[1;33m:\u001b[0m\u001b[1;33m\u001b[0m\u001b[1;33m\u001b[0m\u001b[0m\n",
      "\u001b[1;32mC:\\Anaconda3\\lib\\site-packages\\sklearn\\preprocessing\\_label.py\u001b[0m in \u001b[0;36m_encode_python\u001b[1;34m(values, uniques, encode)\u001b[0m\n\u001b[0;32m     60\u001b[0m     \u001b[1;32mif\u001b[0m \u001b[0muniques\u001b[0m \u001b[1;32mis\u001b[0m \u001b[1;32mNone\u001b[0m\u001b[1;33m:\u001b[0m\u001b[1;33m\u001b[0m\u001b[1;33m\u001b[0m\u001b[0m\n\u001b[1;32m---> 61\u001b[1;33m         \u001b[0muniques\u001b[0m \u001b[1;33m=\u001b[0m \u001b[0msorted\u001b[0m\u001b[1;33m(\u001b[0m\u001b[0mset\u001b[0m\u001b[1;33m(\u001b[0m\u001b[0mvalues\u001b[0m\u001b[1;33m)\u001b[0m\u001b[1;33m)\u001b[0m\u001b[1;33m\u001b[0m\u001b[1;33m\u001b[0m\u001b[0m\n\u001b[0m\u001b[0;32m     62\u001b[0m         \u001b[0muniques\u001b[0m \u001b[1;33m=\u001b[0m \u001b[0mnp\u001b[0m\u001b[1;33m.\u001b[0m\u001b[0marray\u001b[0m\u001b[1;33m(\u001b[0m\u001b[0muniques\u001b[0m\u001b[1;33m,\u001b[0m \u001b[0mdtype\u001b[0m\u001b[1;33m=\u001b[0m\u001b[0mvalues\u001b[0m\u001b[1;33m.\u001b[0m\u001b[0mdtype\u001b[0m\u001b[1;33m)\u001b[0m\u001b[1;33m\u001b[0m\u001b[1;33m\u001b[0m\u001b[0m\n",
      "\u001b[1;31mTypeError\u001b[0m: '<' not supported between instances of 'float' and 'str'",
      "\nDuring handling of the above exception, another exception occurred:\n",
      "\u001b[1;31mTypeError\u001b[0m                                 Traceback (most recent call last)",
      "\u001b[1;32m<ipython-input-373-0e81889c8463>\u001b[0m in \u001b[0;36m<module>\u001b[1;34m\u001b[0m\n\u001b[0;32m      1\u001b[0m \u001b[1;32mfor\u001b[0m \u001b[0mcol\u001b[0m \u001b[1;32min\u001b[0m \u001b[0mlabel_cols\u001b[0m\u001b[1;33m:\u001b[0m\u001b[1;33m\u001b[0m\u001b[1;33m\u001b[0m\u001b[0m\n\u001b[0;32m      2\u001b[0m     \u001b[0mencoder\u001b[0m \u001b[1;33m=\u001b[0m \u001b[0mLE\u001b[0m\u001b[1;33m(\u001b[0m\u001b[1;33m)\u001b[0m\u001b[1;33m\u001b[0m\u001b[1;33m\u001b[0m\u001b[0m\n\u001b[1;32m----> 3\u001b[1;33m     \u001b[0mencoder\u001b[0m\u001b[1;33m.\u001b[0m\u001b[0mfit\u001b[0m\u001b[1;33m(\u001b[0m\u001b[0mtotal\u001b[0m\u001b[1;33m[\u001b[0m\u001b[0mcol\u001b[0m\u001b[1;33m]\u001b[0m\u001b[1;33m)\u001b[0m\u001b[1;33m\u001b[0m\u001b[1;33m\u001b[0m\u001b[0m\n\u001b[0m\u001b[0;32m      4\u001b[0m     \u001b[0mtrain\u001b[0m\u001b[1;33m[\u001b[0m\u001b[0mcol\u001b[0m\u001b[1;33m]\u001b[0m \u001b[1;33m=\u001b[0m \u001b[0mencoder\u001b[0m\u001b[1;33m.\u001b[0m\u001b[0mtransform\u001b[0m\u001b[1;33m(\u001b[0m\u001b[0mtrain\u001b[0m\u001b[1;33m[\u001b[0m\u001b[0mcol\u001b[0m\u001b[1;33m]\u001b[0m\u001b[1;33m)\u001b[0m\u001b[1;33m\u001b[0m\u001b[1;33m\u001b[0m\u001b[0m\n\u001b[0;32m      5\u001b[0m     \u001b[0mtest\u001b[0m\u001b[1;33m[\u001b[0m\u001b[0mcol\u001b[0m\u001b[1;33m]\u001b[0m \u001b[1;33m=\u001b[0m \u001b[0mencoder\u001b[0m\u001b[1;33m.\u001b[0m\u001b[0mtransform\u001b[0m\u001b[1;33m(\u001b[0m\u001b[0mtest\u001b[0m\u001b[1;33m[\u001b[0m\u001b[0mcol\u001b[0m\u001b[1;33m]\u001b[0m\u001b[1;33m)\u001b[0m\u001b[1;33m\u001b[0m\u001b[1;33m\u001b[0m\u001b[0m\n",
      "\u001b[1;32mC:\\Anaconda3\\lib\\site-packages\\sklearn\\preprocessing\\_label.py\u001b[0m in \u001b[0;36mfit\u001b[1;34m(self, y)\u001b[0m\n\u001b[0;32m    238\u001b[0m         \"\"\"\n\u001b[0;32m    239\u001b[0m         \u001b[0my\u001b[0m \u001b[1;33m=\u001b[0m \u001b[0mcolumn_or_1d\u001b[0m\u001b[1;33m(\u001b[0m\u001b[0my\u001b[0m\u001b[1;33m,\u001b[0m \u001b[0mwarn\u001b[0m\u001b[1;33m=\u001b[0m\u001b[1;32mTrue\u001b[0m\u001b[1;33m)\u001b[0m\u001b[1;33m\u001b[0m\u001b[1;33m\u001b[0m\u001b[0m\n\u001b[1;32m--> 240\u001b[1;33m         \u001b[0mself\u001b[0m\u001b[1;33m.\u001b[0m\u001b[0mclasses_\u001b[0m \u001b[1;33m=\u001b[0m \u001b[0m_encode\u001b[0m\u001b[1;33m(\u001b[0m\u001b[0my\u001b[0m\u001b[1;33m)\u001b[0m\u001b[1;33m\u001b[0m\u001b[1;33m\u001b[0m\u001b[0m\n\u001b[0m\u001b[0;32m    241\u001b[0m         \u001b[1;32mreturn\u001b[0m \u001b[0mself\u001b[0m\u001b[1;33m\u001b[0m\u001b[1;33m\u001b[0m\u001b[0m\n\u001b[0;32m    242\u001b[0m \u001b[1;33m\u001b[0m\u001b[0m\n",
      "\u001b[1;32mC:\\Anaconda3\\lib\\site-packages\\sklearn\\preprocessing\\_label.py\u001b[0m in \u001b[0;36m_encode\u001b[1;34m(values, uniques, encode, check_unknown)\u001b[0m\n\u001b[0;32m    115\u001b[0m             types = sorted(t.__qualname__\n\u001b[0;32m    116\u001b[0m                            for t in set(type(v) for v in values))\n\u001b[1;32m--> 117\u001b[1;33m             raise TypeError(\"Encoders require their input to be uniformly \"\n\u001b[0m\u001b[0;32m    118\u001b[0m                             f\"strings or numbers. Got {types}\")\n\u001b[0;32m    119\u001b[0m         \u001b[1;32mreturn\u001b[0m \u001b[0mres\u001b[0m\u001b[1;33m\u001b[0m\u001b[1;33m\u001b[0m\u001b[0m\n",
      "\u001b[1;31mTypeError\u001b[0m: Encoders require their input to be uniformly strings or numbers. Got ['float', 'str']"
     ]
    }
   ],
   "source": [
    "for col in label_cols:\n",
    "    encoder = LE()\n",
    "    encoder.fit(total[col])  \n",
    "    train[col] = encoder.transform(train[col])\n",
    "    test[col] = encoder.transform(test[col])"
   ]
  },
  {
   "cell_type": "code",
   "execution_count": 46,
   "metadata": {},
   "outputs": [
    {
     "data": {
      "text/plain": [
       "0      choongnam\n",
       "1      gyeongnam\n",
       "2       gyeonggi\n",
       "3        incheon\n",
       "4      gyeongnam\n",
       "         ...    \n",
       "296      jeonnam\n",
       "297    choongnam\n",
       "298    gyeongbuk\n",
       "299     gyeonggi\n",
       "300        seoul\n",
       "Name: sido, Length: 301, dtype: object"
      ]
     },
     "execution_count": 46,
     "metadata": {},
     "output_type": "execute_result"
    }
   ],
   "source": [
    "train['sido']"
   ]
  },
  {
   "cell_type": "code",
   "execution_count": 43,
   "metadata": {},
   "outputs": [
    {
     "data": {
      "text/plain": [
       "['__class__',\n",
       " '__delattr__',\n",
       " '__dict__',\n",
       " '__dir__',\n",
       " '__doc__',\n",
       " '__eq__',\n",
       " '__format__',\n",
       " '__ge__',\n",
       " '__getattribute__',\n",
       " '__getstate__',\n",
       " '__gt__',\n",
       " '__hash__',\n",
       " '__init__',\n",
       " '__init_subclass__',\n",
       " '__le__',\n",
       " '__lt__',\n",
       " '__module__',\n",
       " '__ne__',\n",
       " '__new__',\n",
       " '__reduce__',\n",
       " '__reduce_ex__',\n",
       " '__repr__',\n",
       " '__setattr__',\n",
       " '__setstate__',\n",
       " '__sizeof__',\n",
       " '__str__',\n",
       " '__subclasshook__',\n",
       " '__weakref__',\n",
       " '_check_n_features',\n",
       " '_get_param_names',\n",
       " '_get_tags',\n",
       " '_more_tags',\n",
       " '_repr_html_',\n",
       " '_repr_html_inner',\n",
       " '_repr_mimebundle_',\n",
       " '_validate_data',\n",
       " 'classes_',\n",
       " 'fit',\n",
       " 'fit_transform',\n",
       " 'get_params',\n",
       " 'inverse_transform',\n",
       " 'set_params',\n",
       " 'transform']"
      ]
     },
     "execution_count": 43,
     "metadata": {},
     "output_type": "execute_result"
    }
   ],
   "source": [
    "dir(enc_Sido)"
   ]
  },
  {
   "cell_type": "code",
   "execution_count": 25,
   "metadata": {},
   "outputs": [],
   "source": [
    "from sklearn.model_selection import train_test_split, "
   ]
  },
  {
   "cell_type": "code",
   "execution_count": 27,
   "metadata": {},
   "outputs": [],
   "source": [
    "train_y = train.pop('OC')\n",
    "train_x = train.copy()"
   ]
  },
  {
   "cell_type": "code",
   "execution_count": 28,
   "metadata": {},
   "outputs": [],
   "source": [
    "test_y = test.pop(\"OC\")\n",
    "test_x = test.copy()"
   ]
  },
  {
   "cell_type": "code",
   "execution_count": 370,
   "metadata": {},
   "outputs": [],
   "source": [
    "import xgboost as xgb"
   ]
  },
  {
   "cell_type": "code",
   "execution_count": 371,
   "metadata": {},
   "outputs": [],
   "source": [
    "clf = xgb.XGBRFClassifier()"
   ]
  },
  {
   "cell_type": "code",
   "execution_count": 372,
   "metadata": {},
   "outputs": [
    {
     "ename": "ValueError",
     "evalue": "DataFrame.dtypes for data must be int, float or bool.\n                Did not expect the data types in fields sido, instkind, ownerChange",
     "output_type": "error",
     "traceback": [
      "\u001b[1;31m---------------------------------------------------------------------------\u001b[0m",
      "\u001b[1;31mValueError\u001b[0m                                Traceback (most recent call last)",
      "\u001b[1;32m<ipython-input-372-bbb04494b381>\u001b[0m in \u001b[0;36m<module>\u001b[1;34m\u001b[0m\n\u001b[1;32m----> 1\u001b[1;33m \u001b[0mclf\u001b[0m\u001b[1;33m.\u001b[0m\u001b[0mfit\u001b[0m\u001b[1;33m(\u001b[0m\u001b[0mtrain_x\u001b[0m\u001b[1;33m,\u001b[0m \u001b[0mtrain_y\u001b[0m\u001b[1;33m)\u001b[0m\u001b[1;33m\u001b[0m\u001b[1;33m\u001b[0m\u001b[0m\n\u001b[0m",
      "\u001b[1;32mC:\\Anaconda3\\lib\\site-packages\\xgboost\\sklearn.py\u001b[0m in \u001b[0;36mfit\u001b[1;34m(self, X, y, sample_weight, base_margin, eval_set, eval_metric, early_stopping_rounds, verbose, xgb_model, sample_weight_eval_set, callbacks)\u001b[0m\n\u001b[0;32m    824\u001b[0m         train_dmatrix = DMatrix(X, label=training_labels, weight=sample_weight,\n\u001b[0;32m    825\u001b[0m                                 \u001b[0mbase_margin\u001b[0m\u001b[1;33m=\u001b[0m\u001b[0mbase_margin\u001b[0m\u001b[1;33m,\u001b[0m\u001b[1;33m\u001b[0m\u001b[1;33m\u001b[0m\u001b[0m\n\u001b[1;32m--> 826\u001b[1;33m                                 missing=self.missing, nthread=self.n_jobs)\n\u001b[0m\u001b[0;32m    827\u001b[0m \u001b[1;33m\u001b[0m\u001b[0m\n\u001b[0;32m    828\u001b[0m         self._Booster = train(xgb_options, train_dmatrix,\n",
      "\u001b[1;32mC:\\Anaconda3\\lib\\site-packages\\xgboost\\core.py\u001b[0m in \u001b[0;36m__init__\u001b[1;34m(self, data, label, weight, base_margin, missing, silent, feature_names, feature_types, nthread)\u001b[0m\n\u001b[0;32m    436\u001b[0m             \u001b[0mthreads\u001b[0m\u001b[1;33m=\u001b[0m\u001b[0mself\u001b[0m\u001b[1;33m.\u001b[0m\u001b[0mnthread\u001b[0m\u001b[1;33m,\u001b[0m\u001b[1;33m\u001b[0m\u001b[1;33m\u001b[0m\u001b[0m\n\u001b[0;32m    437\u001b[0m             \u001b[0mfeature_names\u001b[0m\u001b[1;33m=\u001b[0m\u001b[0mfeature_names\u001b[0m\u001b[1;33m,\u001b[0m\u001b[1;33m\u001b[0m\u001b[1;33m\u001b[0m\u001b[0m\n\u001b[1;32m--> 438\u001b[1;33m             feature_types=feature_types)\n\u001b[0m\u001b[0;32m    439\u001b[0m         \u001b[1;32massert\u001b[0m \u001b[0mhandle\u001b[0m \u001b[1;32mis\u001b[0m \u001b[1;32mnot\u001b[0m \u001b[1;32mNone\u001b[0m\u001b[1;33m\u001b[0m\u001b[1;33m\u001b[0m\u001b[0m\n\u001b[0;32m    440\u001b[0m         \u001b[0mself\u001b[0m\u001b[1;33m.\u001b[0m\u001b[0mhandle\u001b[0m \u001b[1;33m=\u001b[0m \u001b[0mhandle\u001b[0m\u001b[1;33m\u001b[0m\u001b[1;33m\u001b[0m\u001b[0m\n",
      "\u001b[1;32mC:\\Anaconda3\\lib\\site-packages\\xgboost\\data.py\u001b[0m in \u001b[0;36mdispatch_data_backend\u001b[1;34m(data, missing, threads, feature_names, feature_types)\u001b[0m\n\u001b[0;32m    502\u001b[0m     \u001b[1;32mif\u001b[0m \u001b[0m_is_pandas_df\u001b[0m\u001b[1;33m(\u001b[0m\u001b[0mdata\u001b[0m\u001b[1;33m)\u001b[0m\u001b[1;33m:\u001b[0m\u001b[1;33m\u001b[0m\u001b[1;33m\u001b[0m\u001b[0m\n\u001b[0;32m    503\u001b[0m         return _from_pandas_df(data, missing, threads,\n\u001b[1;32m--> 504\u001b[1;33m                                feature_names, feature_types)\n\u001b[0m\u001b[0;32m    505\u001b[0m     \u001b[1;32mif\u001b[0m \u001b[0m_is_pandas_series\u001b[0m\u001b[1;33m(\u001b[0m\u001b[0mdata\u001b[0m\u001b[1;33m)\u001b[0m\u001b[1;33m:\u001b[0m\u001b[1;33m\u001b[0m\u001b[1;33m\u001b[0m\u001b[0m\n\u001b[0;32m    506\u001b[0m         return _from_pandas_series(data, missing, threads, feature_names,\n",
      "\u001b[1;32mC:\\Anaconda3\\lib\\site-packages\\xgboost\\data.py\u001b[0m in \u001b[0;36m_from_pandas_df\u001b[1;34m(data, missing, nthread, feature_names, feature_types)\u001b[0m\n\u001b[0;32m    217\u001b[0m \u001b[1;32mdef\u001b[0m \u001b[0m_from_pandas_df\u001b[0m\u001b[1;33m(\u001b[0m\u001b[0mdata\u001b[0m\u001b[1;33m,\u001b[0m \u001b[0mmissing\u001b[0m\u001b[1;33m,\u001b[0m \u001b[0mnthread\u001b[0m\u001b[1;33m,\u001b[0m \u001b[0mfeature_names\u001b[0m\u001b[1;33m,\u001b[0m \u001b[0mfeature_types\u001b[0m\u001b[1;33m)\u001b[0m\u001b[1;33m:\u001b[0m\u001b[1;33m\u001b[0m\u001b[1;33m\u001b[0m\u001b[0m\n\u001b[0;32m    218\u001b[0m     data, feature_names, feature_types = _transform_pandas_df(\n\u001b[1;32m--> 219\u001b[1;33m         data, feature_names, feature_types)\n\u001b[0m\u001b[0;32m    220\u001b[0m     return _from_numpy_array(data, missing, nthread, feature_names,\n\u001b[0;32m    221\u001b[0m                              feature_types)\n",
      "\u001b[1;32mC:\\Anaconda3\\lib\\site-packages\\xgboost\\data.py\u001b[0m in \u001b[0;36m_transform_pandas_df\u001b[1;34m(data, feature_names, feature_types, meta, meta_type)\u001b[0m\n\u001b[0;32m    183\u001b[0m         msg = \"\"\"DataFrame.dtypes for data must be int, float or bool.\n\u001b[0;32m    184\u001b[0m                 Did not expect the data types in fields \"\"\"\n\u001b[1;32m--> 185\u001b[1;33m         \u001b[1;32mraise\u001b[0m \u001b[0mValueError\u001b[0m\u001b[1;33m(\u001b[0m\u001b[0mmsg\u001b[0m \u001b[1;33m+\u001b[0m \u001b[1;34m', '\u001b[0m\u001b[1;33m.\u001b[0m\u001b[0mjoin\u001b[0m\u001b[1;33m(\u001b[0m\u001b[0mbad_fields\u001b[0m\u001b[1;33m)\u001b[0m\u001b[1;33m)\u001b[0m\u001b[1;33m\u001b[0m\u001b[1;33m\u001b[0m\u001b[0m\n\u001b[0m\u001b[0;32m    186\u001b[0m \u001b[1;33m\u001b[0m\u001b[0m\n\u001b[0;32m    187\u001b[0m     \u001b[1;32mif\u001b[0m \u001b[0mfeature_names\u001b[0m \u001b[1;32mis\u001b[0m \u001b[1;32mNone\u001b[0m \u001b[1;32mand\u001b[0m \u001b[0mmeta\u001b[0m \u001b[1;32mis\u001b[0m \u001b[1;32mNone\u001b[0m\u001b[1;33m:\u001b[0m\u001b[1;33m\u001b[0m\u001b[1;33m\u001b[0m\u001b[0m\n",
      "\u001b[1;31mValueError\u001b[0m: DataFrame.dtypes for data must be int, float or bool.\n                Did not expect the data types in fields sido, instkind, ownerChange"
     ]
    }
   ],
   "source": [
    "clf.fit(train_x, train_y)"
   ]
  },
  {
   "cell_type": "code",
   "execution_count": null,
   "metadata": {},
   "outputs": [],
   "source": []
  }
 ],
 "metadata": {
  "kernelspec": {
   "display_name": "Python 3",
   "language": "python",
   "name": "python3"
  },
  "language_info": {
   "codemirror_mode": {
    "name": "ipython",
    "version": 3
   },
   "file_extension": ".py",
   "mimetype": "text/x-python",
   "name": "python",
   "nbconvert_exporter": "python",
   "pygments_lexer": "ipython3",
   "version": "3.7.6"
  }
 },
 "nbformat": 4,
 "nbformat_minor": 4
}
