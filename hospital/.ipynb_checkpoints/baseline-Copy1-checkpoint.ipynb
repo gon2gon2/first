{
 "cells": [
  {
   "cell_type": "markdown",
   "metadata": {},
   "source": [
    "\n",
    "### 병원, 시설 정보\n",
    "- *OC – 영업/폐업 분류, 2018년 폐업은 2017년 폐업으로 간주함*\n",
    "- inst_id - 각 파일에서의 병원 고유 번호\n",
    "- sido – 병원의 광역 지역 정보\n",
    "- sgg – 병원의 시군구 자료\n",
    "- openDate – 병원 설립일\n",
    "- bedCount - 병원이 갖추고 있는 병상의 수\n",
    "- instkind – 병원, 의원, 요양병원, 한의원, 종합병원 등 병원의 종류\n",
    "    - 종합병원 : 입원환자 100명 이상 수용 가능\n",
    "    - 병원 : 입원 환자 30명 이상 100명 미만 수용 가능\n",
    "    - 의원 : 입원 환자 30명 이하 수용 가능\n",
    "    - 한방 병원(한의원) : 침술과 한약으로 치료하는 의료 기관.\n",
    "- ownerChange – 대표자의 변동 \n",
    "\n",
    "### 2017년 데이터\n",
    "\n",
    "- revenue1 – 매출액, 2017(회계년도)년 데이터를 의미함\n",
    "- salescost1 – 매출원가, 2017(회계년도)년 데이터를 의미함\n",
    "- sga1 - 판매비와 관리비, 2017(회계년도)년 데이터를 의미함\n",
    "- salary1 – 급여, 2017(회계년도)년 데이터를 의미함\n",
    "- noi1 – 영업외수익, 2017(회계년도)년 데이터를 의미함\n",
    "- noe1 – 영업외비용, 2017(회계년도)년 데이터를 의미함\n",
    "- Interest1 – 이자비용, 2017(회계년도)년 데이터를 의미함\n",
    "- ctax1 – 법인세비용, 2017(회계년도)년 데이터를 의미함\n",
    "- Profit1 – 당기순이익, 2017(회계년도)년 데이터를 의미함\n",
    "- liquidAsset1 – 유동자산, 2017(회계년도)년 데이터를 의미함\n",
    "- quickAsset1 – 당좌자산, 2017(회계년도)년 데이터를 의미함\n",
    "- receivableS1 - 미수금(단기), 2017(회계년도)년 데이터를 의미함\n",
    "- inventoryAsset1 – 재고자산, 2017(회계년도)년 데이터를 의미함\n",
    "- nonCAsset1 – 비유동자산, 2017(회계년도)년 데이터를 의미함\n",
    "- tanAsset1 – 유형자산, 2017(회계년도)년 데이터를 의미함\n",
    "- OnonCAsset1 - 기타 비유동자산, 2017(회계년도)년 데이터를 의미함\n",
    "- receivableL1 – 장기미수금, 2017(회계년도)년 데이터를 의미함\n",
    "- debt1 – 부채총계, 2017(회계년도)년 데이터를 의미함\n",
    "- liquidLiabilities1 – 유동부채, 2017(회계년도)년 데이터를 의미함\n",
    "- shortLoan1 – 단기차입금, 2017(회계년도)년 데이터를 의미함\n",
    "- NCLiabilities1 – 비유동부채, 2017(회계년도)년 데이터를 의미함\n",
    "- longLoan1 – 장기차입금, 2017(회계년도)년 데이터를 의미함\n",
    "- netAsset1 – 순자산총계, 2017(회계년도)년 데이터를 의미함\n",
    "- surplus1 – 이익잉여금, 2017(회계년도)년 데이터를 의미함\n",
    "- employee1 – 고용한 총 직원의 수, 2017(회계년도)년 데이터를 의미함\n",
    "\n",
    "### 2016년 데이터\n",
    "\n",
    "- revenue2 – 매출액, 2016(회계년도)년 데이터를 의미함\n",
    "- salescost2 – 매출원가, 2016(회계년도)년 데이터를 의미함\n",
    "- sga2 - 판매비와 관리비, 2016(회계년도)년 데이터를 의미함\n",
    "- salary2 – 급여, 2016(회계년도)년 데이터를 의미함\n",
    "- noi2 – 영업외수익, 2016(회계년도)년 데이터를 의미함\n",
    "- noe2 – 영업외비용, 2016(회계년도)년 데이터를 의미함\n",
    "- interest2 – 이자비용, 2016(회계년도)년 데이터를 의미함\n",
    "- ctax2 – 법인세비용, 2016(회계년도)년 데이터를 의미함\n",
    "- profit2 – 당기순이익, 2016(회계년도)년 데이터를 의미함\n",
    "- liquidAsset2 – 유동자산, 2016(회계년도)년 데이터를 의미함\n",
    "- quickAsset2 – 당좌자산, 2016(회계년도)년 데이터를 의미함\n",
    "- receivableS2 - 미수금(단기), 2016(회계년도)년 데이터를 의미함\n",
    "- inventoryAsset2 – 재고자산, 2016(회계년도)년 데이터를 의미함\n",
    "- nonCAsset2 – 비유동자산, 2016(회계년도)년 데이터를 의미함\n",
    "- tanAsset2 – 유형자산, 2016(회계년도)년 데이터를 의미함\n",
    "- OnonCAsset2 - 기타 비유동자산, 2016(회계년도)년 데이터를 의미함\n",
    "- receivableL2 – 장기미수금, 2016(회계년도)년 데이터를 의미함\n",
    "- Debt2 – 부채총계, 2016(회계년도)년 데이터를 의미함\n",
    "- liquidLiabilities2 – 유동부채, 2016(회계년도)년 데이터를 의미함\n",
    "- shortLoan2 – 단기차입금, 2016(회계년도)년 데이터를 의미함\n",
    "- NCLiabilities2 – 비유동부채, 2016(회계년도)년 데이터를 의미함\n",
    "- longLoan2 – 장기차입금, 2016(회계년도)년 데이터를 의미함\n",
    "- netAsset2 – 순자산총계, 2016(회계년도)년 데이터를 의미함\n",
    "- surplus2 – 이익잉여금, 2016(회계년도)년 데이터를 의미함\n",
    "- employee2 – 고용한 총 직원의 수, 2016(회계년도)년 데이터를 의미함"
   ]
  },
  {
   "cell_type": "code",
   "execution_count": 1,
   "metadata": {},
   "outputs": [
    {
     "name": "stderr",
     "output_type": "stream",
     "text": [
      "\n",
      "Bad key \"axes.titlelocation\" on line 10 in\n",
      "C:\\Users\\gon2gon2\\.matplotlib\\stylelib\\mystyle.mplstyle.\n",
      "You probably need to get an updated matplotlibrc file from\n",
      "https://github.com/matplotlib/matplotlib/blob/v3.1.3/matplotlibrc.template\n",
      "or from the matplotlib source distribution\n",
      "\n",
      "Bad key \"axes.titlecolor\" on line 13 in\n",
      "C:\\Users\\gon2gon2\\.matplotlib\\stylelib\\mystyle.mplstyle.\n",
      "You probably need to get an updated matplotlibrc file from\n",
      "https://github.com/matplotlib/matplotlib/blob/v3.1.3/matplotlibrc.template\n",
      "or from the matplotlib source distribution\n"
     ]
    }
   ],
   "source": [
    "import os\n",
    "import pandas as pd\n",
    "import numpy as np\n",
    "\n",
    "import missingno as msno\n",
    "import matplotlib.pyplot as plt\n",
    "import seaborn as sns\n",
    "\n",
    "import warnings\n",
    "warnings.filterwarnings('ignore')"
   ]
  },
  {
   "cell_type": "code",
   "execution_count": 45,
   "metadata": {},
   "outputs": [],
   "source": [
    "train = pd.read_csv('./data/train.csv')\n",
    "test = pd.read_csv('./data/test.csv')\n",
    "ss = pd.read_csv('./data/submission_sample.csv')"
   ]
  },
  {
   "cell_type": "code",
   "execution_count": 29,
   "metadata": {},
   "outputs": [],
   "source": [
    "total = pd.concat([train, test])"
   ]
  },
  {
   "cell_type": "code",
   "execution_count": 3,
   "metadata": {},
   "outputs": [],
   "source": [
    "cols = train.columns"
   ]
  },
  {
   "cell_type": "code",
   "execution_count": 4,
   "metadata": {
    "scrolled": true
   },
   "outputs": [
    {
     "name": "stdout",
     "output_type": "stream",
     "text": [
      "Index(['inst_id', 'OC', 'sido', 'sgg', 'openDate', 'bedCount', 'instkind',\n",
      "       'revenue1', 'salescost1', 'sga1', 'salary1', 'noi1', 'noe1',\n",
      "       'interest1', 'ctax1', 'profit1', 'liquidAsset1', 'quickAsset1',\n",
      "       'receivableS1', 'inventoryAsset1', 'nonCAsset1', 'tanAsset1',\n",
      "       'OnonCAsset1', 'receivableL1', 'debt1', 'liquidLiabilities1',\n",
      "       'shortLoan1', 'NCLiabilities1', 'longLoan1', 'netAsset1', 'surplus1',\n",
      "       'revenue2', 'salescost2', 'sga2', 'salary2', 'noi2', 'noe2',\n",
      "       'interest2', 'ctax2', 'profit2', 'liquidAsset2', 'quickAsset2',\n",
      "       'receivableS2', 'inventoryAsset2', 'nonCAsset2', 'tanAsset2',\n",
      "       'OnonCAsset2', 'receivableL2', 'debt2', 'liquidLiabilities2',\n",
      "       'shortLoan2', 'NCLiabilities2', 'longLoan2', 'netAsset2', 'surplus2',\n",
      "       'employee1', 'employee2', 'ownerChange'],\n",
      "      dtype='object')\n"
     ]
    }
   ],
   "source": [
    "print(cols)"
   ]
  },
  {
   "cell_type": "code",
   "execution_count": 16,
   "metadata": {},
   "outputs": [],
   "source": [
    "def counter(df, col):\n",
    "    return df[col].value_counts()"
   ]
  },
  {
   "cell_type": "code",
   "execution_count": 27,
   "metadata": {},
   "outputs": [],
   "source": [
    "def diff(col):\n",
    "    return set(train[col].unique()) - set(test[col].unique())"
   ]
  },
  {
   "cell_type": "code",
   "execution_count": 44,
   "metadata": {},
   "outputs": [],
   "source": [
    "from sklearn.preprocessing import LabelEncoder as LE\n",
    "def encoding(col):\n",
    "    enc = LE()\n",
    "    total = pd.concat([train,test])\n",
    "    enc.fit(total[col])\n",
    "    train[col] = enc.transform(train[col])\n",
    "    test[col] = enc.transform(test[col])"
   ]
  },
  {
   "cell_type": "markdown",
   "metadata": {},
   "source": [
    "# 2, sido"
   ]
  },
  {
   "cell_type": "code",
   "execution_count": 19,
   "metadata": {
    "scrolled": false
   },
   "outputs": [
    {
     "data": {
      "text/plain": [
       "gyeonggi     49\n",
       "gyeongbuk    39\n",
       "gyeongnam    35\n",
       "busan        26\n",
       "choongnam    23\n",
       "jeonnam      21\n",
       "seoul        19\n",
       "jeonbuk      18\n",
       "daegu        14\n",
       "choongbuk    13\n",
       "daejeon      13\n",
       "gangwon      10\n",
       "incheon      10\n",
       "ulsan         8\n",
       "gwangju       2\n",
       "sejong        1\n",
       "Name: sido, dtype: int64"
      ]
     },
     "execution_count": 19,
     "metadata": {},
     "output_type": "execute_result"
    }
   ],
   "source": [
    "sido_train = counter(train,'sido')\n",
    "sido_test = counter(test,'sido')\n",
    "sido_train"
   ]
  },
  {
   "cell_type": "code",
   "execution_count": 30,
   "metadata": {},
   "outputs": [
    {
     "data": {
      "text/plain": [
       "gyeonggi     68\n",
       "gyeongbuk    58\n",
       "gyeongnam    46\n",
       "busan        43\n",
       "jeonbuk      31\n",
       "choongnam    30\n",
       "jeonnam      29\n",
       "seoul        27\n",
       "choongbuk    21\n",
       "daegu        17\n",
       "daejeon      14\n",
       "incheon      14\n",
       "ulsan        13\n",
       "gangwon      10\n",
       "jeju          3\n",
       "sejong        2\n",
       "gwangju       2\n",
       "Name: sido, dtype: int64"
      ]
     },
     "execution_count": 30,
     "metadata": {},
     "output_type": "execute_result"
    }
   ],
   "source": [
    "counter(total,'sido')"
   ]
  },
  {
   "cell_type": "code",
   "execution_count": null,
   "metadata": {},
   "outputs": [],
   "source": [
    "encoding('sido')"
   ]
  },
  {
   "cell_type": "markdown",
   "metadata": {},
   "source": [
    "# 3, sgg"
   ]
  },
  {
   "cell_type": "code",
   "execution_count": 49,
   "metadata": {},
   "outputs": [],
   "source": [
    "encoding('sgg')"
   ]
  },
  {
   "cell_type": "markdown",
   "metadata": {},
   "source": [
    "# 4, openDate"
   ]
  },
  {
   "cell_type": "code",
   "execution_count": 51,
   "metadata": {},
   "outputs": [
    {
     "data": {
      "text/plain": [
       "0"
      ]
     },
     "execution_count": 51,
     "metadata": {},
     "output_type": "execute_result"
    }
   ],
   "source": [
    "train['openDate'].isnull().sum()"
   ]
  },
  {
   "cell_type": "code",
   "execution_count": 60,
   "metadata": {
    "scrolled": true
   },
   "outputs": [
    {
     "data": {
      "text/plain": [
       "0"
      ]
     },
     "execution_count": 60,
     "metadata": {},
     "output_type": "execute_result"
    }
   ],
   "source": [
    "sum(test['openDate']==None)"
   ]
  },
  {
   "cell_type": "code",
   "execution_count": null,
   "metadata": {},
   "outputs": [],
   "source": [
    "test"
   ]
  },
  {
   "cell_type": "code",
   "execution_count": 69,
   "metadata": {},
   "outputs": [
    {
     "data": {
      "text/plain": [
       "120   NaN\n",
       "Name: openDate, dtype: float64"
      ]
     },
     "execution_count": 69,
     "metadata": {},
     "output_type": "execute_result"
    }
   ],
   "source": [
    "test[test['openDate'].isnull()].openDate"
   ]
  },
  {
   "cell_type": "code",
   "execution_count": 61,
   "metadata": {},
   "outputs": [
    {
     "ename": "AttributeError",
     "evalue": "'numpy.float64' object has no attribute 'isnull'",
     "output_type": "error",
     "traceback": [
      "\u001b[1;31m---------------------------------------------------------------------------\u001b[0m",
      "\u001b[1;31mAttributeError\u001b[0m                            Traceback (most recent call last)",
      "\u001b[1;32m<ipython-input-61-cd531102ca43>\u001b[0m in \u001b[0;36m<module>\u001b[1;34m\u001b[0m\n\u001b[0;32m      1\u001b[0m \u001b[1;32mfor\u001b[0m \u001b[0mi\u001b[0m \u001b[1;32min\u001b[0m \u001b[0mrange\u001b[0m\u001b[1;33m(\u001b[0m\u001b[0mlen\u001b[0m\u001b[1;33m(\u001b[0m\u001b[0mtest\u001b[0m\u001b[1;33m)\u001b[0m\u001b[1;33m)\u001b[0m\u001b[1;33m:\u001b[0m\u001b[1;33m\u001b[0m\u001b[1;33m\u001b[0m\u001b[0m\n\u001b[1;32m----> 2\u001b[1;33m     \u001b[1;32mif\u001b[0m \u001b[0mtest\u001b[0m\u001b[1;33m.\u001b[0m\u001b[0mloc\u001b[0m\u001b[1;33m[\u001b[0m\u001b[0mi\u001b[0m\u001b[1;33m,\u001b[0m\u001b[1;34m'openDate'\u001b[0m\u001b[1;33m]\u001b[0m\u001b[1;33m.\u001b[0m\u001b[0misnull\u001b[0m\u001b[1;33m(\u001b[0m\u001b[1;33m)\u001b[0m \u001b[1;33m==\u001b[0m \u001b[1;32mTrue\u001b[0m\u001b[1;33m:\u001b[0m\u001b[1;33m\u001b[0m\u001b[1;33m\u001b[0m\u001b[0m\n\u001b[0m\u001b[0;32m      3\u001b[0m         \u001b[0mprint\u001b[0m\u001b[1;33m(\u001b[0m\u001b[0mi\u001b[0m\u001b[1;33m)\u001b[0m\u001b[1;33m\u001b[0m\u001b[1;33m\u001b[0m\u001b[0m\n",
      "\u001b[1;31mAttributeError\u001b[0m: 'numpy.float64' object has no attribute 'isnull'"
     ]
    }
   ],
   "source": [
    "for i in range(len(test)):\n",
    "    if test.loc[i,'openDate'].isnull() == True:\n",
    "        print(i)"
   ]
  },
  {
   "cell_type": "code",
   "execution_count": null,
   "metadata": {},
   "outputs": [],
   "source": [
    "test"
   ]
  }
 ],
 "metadata": {
  "kernelspec": {
   "display_name": "Python 3",
   "language": "python",
   "name": "python3"
  },
  "language_info": {
   "codemirror_mode": {
    "name": "ipython",
    "version": 3
   },
   "file_extension": ".py",
   "mimetype": "text/x-python",
   "name": "python",
   "nbconvert_exporter": "python",
   "pygments_lexer": "ipython3",
   "version": "3.7.6"
  }
 },
 "nbformat": 4,
 "nbformat_minor": 4
}
