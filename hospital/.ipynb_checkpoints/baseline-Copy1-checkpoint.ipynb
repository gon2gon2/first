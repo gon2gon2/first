{
 "cells": [
  {
   "cell_type": "markdown",
   "metadata": {},
   "source": [
    "\n",
    "### 병원, 시설 정보\n",
    "- *OC – 영업/폐업 분류, 2018년 폐업은 2017년 폐업으로 간주함*\n",
    "- inst_id - 각 파일에서의 병원 고유 번호\n",
    "- sido – 병원의 광역 지역 정보\n",
    "- sgg – 병원의 시군구 자료\n",
    "- openDate – 병원 설립일\n",
    "- bedCount - 병원이 갖추고 있는 병상의 수\n",
    "- instkind – 병원, 의원, 요양병원, 한의원, 종합병원 등 병원의 종류\n",
    "    - 종합병원 : 입원환자 100명 이상 수용 가능\n",
    "    - 병원 : 입원 환자 30명 이상 100명 미만 수용 가능\n",
    "    - 의원 : 입원 환자 30명 이하 수용 가능\n",
    "    - 한방 병원(한의원) : 침술과 한약으로 치료하는 의료 기관.\n",
    "- ownerChange – 대표자의 변동 \n",
    "\n",
    "### 2017년 데이터\n",
    "\n",
    "- revenue1 – 매출액, 2017(회계년도)년 데이터를 의미함\n",
    "- salescost1 – 매출원가, 2017(회계년도)년 데이터를 의미함\n",
    "- sga1 - 판매비와 관리비, 2017(회계년도)년 데이터를 의미함\n",
    "- salary1 – 급여, 2017(회계년도)년 데이터를 의미함\n",
    "- noi1 – 영업외수익, 2017(회계년도)년 데이터를 의미함\n",
    "- noe1 – 영업외비용, 2017(회계년도)년 데이터를 의미함\n",
    "- Interest1 – 이자비용, 2017(회계년도)년 데이터를 의미함\n",
    "- ctax1 – 법인세비용, 2017(회계년도)년 데이터를 의미함\n",
    "- Profit1 – 당기순이익, 2017(회계년도)년 데이터를 의미함\n",
    "- liquidAsset1 – 유동자산, 2017(회계년도)년 데이터를 의미함\n",
    "- quickAsset1 – 당좌자산, 2017(회계년도)년 데이터를 의미함\n",
    "- receivableS1 - 미수금(단기), 2017(회계년도)년 데이터를 의미함\n",
    "- inventoryAsset1 – 재고자산, 2017(회계년도)년 데이터를 의미함\n",
    "- nonCAsset1 – 비유동자산, 2017(회계년도)년 데이터를 의미함\n",
    "- tanAsset1 – 유형자산, 2017(회계년도)년 데이터를 의미함\n",
    "- OnonCAsset1 - 기타 비유동자산, 2017(회계년도)년 데이터를 의미함\n",
    "- receivableL1 – 장기미수금, 2017(회계년도)년 데이터를 의미함\n",
    "- debt1 – 부채총계, 2017(회계년도)년 데이터를 의미함\n",
    "- liquidLiabilities1 – 유동부채, 2017(회계년도)년 데이터를 의미함\n",
    "- shortLoan1 – 단기차입금, 2017(회계년도)년 데이터를 의미함\n",
    "- NCLiabilities1 – 비유동부채, 2017(회계년도)년 데이터를 의미함\n",
    "- longLoan1 – 장기차입금, 2017(회계년도)년 데이터를 의미함\n",
    "- netAsset1 – 순자산총계, 2017(회계년도)년 데이터를 의미함\n",
    "- surplus1 – 이익잉여금, 2017(회계년도)년 데이터를 의미함\n",
    "- employee1 – 고용한 총 직원의 수, 2017(회계년도)년 데이터를 의미함\n",
    "\n",
    "### 2016년 데이터\n",
    "\n",
    "- revenue2 – 매출액, 2016(회계년도)년 데이터를 의미함\n",
    "- salescost2 – 매출원가, 2016(회계년도)년 데이터를 의미함\n",
    "- sga2 - 판매비와 관리비, 2016(회계년도)년 데이터를 의미함\n",
    "- salary2 – 급여, 2016(회계년도)년 데이터를 의미함\n",
    "- noi2 – 영업외수익, 2016(회계년도)년 데이터를 의미함\n",
    "- noe2 – 영업외비용, 2016(회계년도)년 데이터를 의미함\n",
    "- interest2 – 이자비용, 2016(회계년도)년 데이터를 의미함\n",
    "- ctax2 – 법인세비용, 2016(회계년도)년 데이터를 의미함\n",
    "- profit2 – 당기순이익, 2016(회계년도)년 데이터를 의미함\n",
    "- liquidAsset2 – 유동자산, 2016(회계년도)년 데이터를 의미함\n",
    "- quickAsset2 – 당좌자산, 2016(회계년도)년 데이터를 의미함\n",
    "- receivableS2 - 미수금(단기), 2016(회계년도)년 데이터를 의미함\n",
    "- inventoryAsset2 – 재고자산, 2016(회계년도)년 데이터를 의미함\n",
    "- nonCAsset2 – 비유동자산, 2016(회계년도)년 데이터를 의미함\n",
    "- tanAsset2 – 유형자산, 2016(회계년도)년 데이터를 의미함\n",
    "- OnonCAsset2 - 기타 비유동자산, 2016(회계년도)년 데이터를 의미함\n",
    "- receivableL2 – 장기미수금, 2016(회계년도)년 데이터를 의미함\n",
    "- Debt2 – 부채총계, 2016(회계년도)년 데이터를 의미함\n",
    "- liquidLiabilities2 – 유동부채, 2016(회계년도)년 데이터를 의미함\n",
    "- shortLoan2 – 단기차입금, 2016(회계년도)년 데이터를 의미함\n",
    "- NCLiabilities2 – 비유동부채, 2016(회계년도)년 데이터를 의미함\n",
    "- longLoan2 – 장기차입금, 2016(회계년도)년 데이터를 의미함\n",
    "- netAsset2 – 순자산총계, 2016(회계년도)년 데이터를 의미함\n",
    "- surplus2 – 이익잉여금, 2016(회계년도)년 데이터를 의미함\n",
    "- employee2 – 고용한 총 직원의 수, 2016(회계년도)년 데이터를 의미함"
   ]
  },
  {
   "cell_type": "code",
   "execution_count": 1,
   "metadata": {},
   "outputs": [
    {
     "name": "stderr",
     "output_type": "stream",
     "text": [
      "\n",
      "Bad key \"axes.titlelocation\" on line 10 in\n",
      "C:\\Users\\gon2gon2\\.matplotlib\\stylelib\\mystyle.mplstyle.\n",
      "You probably need to get an updated matplotlibrc file from\n",
      "https://github.com/matplotlib/matplotlib/blob/v3.1.3/matplotlibrc.template\n",
      "or from the matplotlib source distribution\n",
      "\n",
      "Bad key \"axes.titlecolor\" on line 13 in\n",
      "C:\\Users\\gon2gon2\\.matplotlib\\stylelib\\mystyle.mplstyle.\n",
      "You probably need to get an updated matplotlibrc file from\n",
      "https://github.com/matplotlib/matplotlib/blob/v3.1.3/matplotlibrc.template\n",
      "or from the matplotlib source distribution\n"
     ]
    }
   ],
   "source": [
    "import os\n",
    "import pandas as pd\n",
    "import numpy as np\n",
    "\n",
    "import missingno as msno\n",
    "import matplotlib.pyplot as plt\n",
    "import seaborn as sns\n",
    "\n",
    "import warnings\n",
    "warnings.filterwarnings('ignore')"
   ]
  },
  {
   "cell_type": "code",
   "execution_count": 2,
   "metadata": {},
   "outputs": [],
   "source": [
    "train = pd.read_csv('./data/train.csv')\n",
    "test = pd.read_csv('./data/test.csv')\n",
    "ss = pd.read_csv('./data/submission_sample.csv')"
   ]
  },
  {
   "cell_type": "code",
   "execution_count": 3,
   "metadata": {},
   "outputs": [],
   "source": [
    "total = pd.concat([train, test])"
   ]
  },
  {
   "cell_type": "code",
   "execution_count": 4,
   "metadata": {},
   "outputs": [],
   "source": [
    "cols = train.columns"
   ]
  },
  {
   "cell_type": "code",
   "execution_count": 5,
   "metadata": {},
   "outputs": [
    {
     "name": "stdout",
     "output_type": "stream",
     "text": [
      "Index(['inst_id', 'OC', 'sido', 'sgg', 'openDate', 'bedCount', 'instkind',\n",
      "       'revenue1', 'salescost1', 'sga1', 'salary1', 'noi1', 'noe1',\n",
      "       'interest1', 'ctax1', 'profit1', 'liquidAsset1', 'quickAsset1',\n",
      "       'receivableS1', 'inventoryAsset1', 'nonCAsset1', 'tanAsset1',\n",
      "       'OnonCAsset1', 'receivableL1', 'debt1', 'liquidLiabilities1',\n",
      "       'shortLoan1', 'NCLiabilities1', 'longLoan1', 'netAsset1', 'surplus1',\n",
      "       'revenue2', 'salescost2', 'sga2', 'salary2', 'noi2', 'noe2',\n",
      "       'interest2', 'ctax2', 'profit2', 'liquidAsset2', 'quickAsset2',\n",
      "       'receivableS2', 'inventoryAsset2', 'nonCAsset2', 'tanAsset2',\n",
      "       'OnonCAsset2', 'receivableL2', 'debt2', 'liquidLiabilities2',\n",
      "       'shortLoan2', 'NCLiabilities2', 'longLoan2', 'netAsset2', 'surplus2',\n",
      "       'employee1', 'employee2', 'ownerChange'],\n",
      "      dtype='object')\n"
     ]
    }
   ],
   "source": [
    "print(cols)"
   ]
  },
  {
   "cell_type": "code",
   "execution_count": 9,
   "metadata": {},
   "outputs": [],
   "source": [
    "def counter(df, col):\n",
    "    return df[col].value_counts()"
   ]
  },
  {
   "cell_type": "code",
   "execution_count": 10,
   "metadata": {},
   "outputs": [],
   "source": [
    "def diff(col):\n",
    "    return set(train[col].unique()) - set(test[col].unique())"
   ]
  },
  {
   "cell_type": "code",
   "execution_count": 11,
   "metadata": {},
   "outputs": [],
   "source": [
    "from sklearn.preprocessing import LabelEncoder as LE\n",
    "def encoding(col):\n",
    "    enc = LE()\n",
    "    total = pd.concat([train,test])\n",
    "    enc.fit(total[col])\n",
    "    train[col] = enc.transform(train[col])\n",
    "    test[col] = enc.transform(test[col])"
   ]
  },
  {
   "cell_type": "markdown",
   "metadata": {},
   "source": [
    "# 2, sido"
   ]
  },
  {
   "cell_type": "code",
   "execution_count": 12,
   "metadata": {
    "scrolled": false
   },
   "outputs": [
    {
     "data": {
      "text/plain": [
       "gyeonggi     49\n",
       "gyeongbuk    39\n",
       "gyeongnam    35\n",
       "busan        26\n",
       "choongnam    23\n",
       "jeonnam      21\n",
       "seoul        19\n",
       "jeonbuk      18\n",
       "daegu        14\n",
       "choongbuk    13\n",
       "daejeon      13\n",
       "incheon      10\n",
       "gangwon      10\n",
       "ulsan         8\n",
       "gwangju       2\n",
       "sejong        1\n",
       "Name: sido, dtype: int64"
      ]
     },
     "execution_count": 12,
     "metadata": {},
     "output_type": "execute_result"
    }
   ],
   "source": [
    "sido_train = counter(train,'sido')\n",
    "sido_test = counter(test,'sido')\n",
    "sido_train"
   ]
  },
  {
   "cell_type": "code",
   "execution_count": 13,
   "metadata": {},
   "outputs": [
    {
     "data": {
      "text/plain": [
       "gyeonggi     68\n",
       "gyeongbuk    58\n",
       "gyeongnam    46\n",
       "busan        43\n",
       "jeonbuk      31\n",
       "choongnam    30\n",
       "jeonnam      29\n",
       "seoul        27\n",
       "choongbuk    21\n",
       "daegu        17\n",
       "incheon      14\n",
       "daejeon      14\n",
       "ulsan        13\n",
       "gangwon      10\n",
       "jeju          3\n",
       "gwangju       2\n",
       "sejong        2\n",
       "Name: sido, dtype: int64"
      ]
     },
     "execution_count": 13,
     "metadata": {},
     "output_type": "execute_result"
    }
   ],
   "source": [
    "counter(total,'sido')"
   ]
  },
  {
   "cell_type": "code",
   "execution_count": 14,
   "metadata": {},
   "outputs": [],
   "source": [
    "encoding('sido')"
   ]
  },
  {
   "cell_type": "markdown",
   "metadata": {},
   "source": [
    "# 3, sgg"
   ]
  },
  {
   "cell_type": "code",
   "execution_count": 15,
   "metadata": {},
   "outputs": [],
   "source": [
    "encoding('sgg')"
   ]
  },
  {
   "cell_type": "markdown",
   "metadata": {},
   "source": [
    "# 4, openDate"
   ]
  },
  {
   "cell_type": "markdown",
   "metadata": {},
   "source": [
    "pass"
   ]
  },
  {
   "cell_type": "code",
   "execution_count": 22,
   "metadata": {},
   "outputs": [
    {
     "data": {
      "text/plain": [
       "'instkind'"
      ]
     },
     "execution_count": 22,
     "metadata": {},
     "output_type": "execute_result"
    }
   ],
   "source": [
    "cols[6]"
   ]
  },
  {
   "cell_type": "markdown",
   "metadata": {},
   "source": [
    "# 6, instkind"
   ]
  },
  {
   "cell_type": "code",
   "execution_count": 32,
   "metadata": {},
   "outputs": [],
   "source": [
    "train['instkind'] = train['instkind'].astype('str')\n",
    "test['instkind'] = test['instkind'].astype('str')\n",
    "total['instkind'] = total['instkind'].astype('str')"
   ]
  },
  {
   "cell_type": "code",
   "execution_count": 33,
   "metadata": {},
   "outputs": [
    {
     "data": {
      "text/plain": [
       "nursing_hospital        144\n",
       "hospital                 88\n",
       "general_hospital         37\n",
       "clinic                   18\n",
       "traditional_hospital      8\n",
       "traditional_clinic        4\n",
       "nan                       1\n",
       "dental_clinic             1\n",
       "Name: instkind, dtype: int64"
      ]
     },
     "execution_count": 33,
     "metadata": {},
     "output_type": "execute_result"
    }
   ],
   "source": [
    "counter(train, 'instkind')"
   ]
  },
  {
   "cell_type": "code",
   "execution_count": 34,
   "metadata": {},
   "outputs": [
    {
     "data": {
      "text/plain": [
       "nursing_hospital        63\n",
       "hospital                36\n",
       "general_hospital        19\n",
       "clinic                   4\n",
       "nan                      2\n",
       "traditional_clinic       2\n",
       "traditional_hospital     1\n",
       "Name: instkind, dtype: int64"
      ]
     },
     "execution_count": 34,
     "metadata": {},
     "output_type": "execute_result"
    }
   ],
   "source": [
    "counter(test, 'instkind')"
   ]
  },
  {
   "cell_type": "code",
   "execution_count": 35,
   "metadata": {},
   "outputs": [],
   "source": [
    "encoding('instkind')"
   ]
  },
  {
   "cell_type": "markdown",
   "metadata": {},
   "source": []
  },
  {
   "cell_type": "code",
   "execution_count": 37,
   "metadata": {},
   "outputs": [
    {
     "data": {
      "text/plain": [
       "'salescost1'"
      ]
     },
     "execution_count": 37,
     "metadata": {},
     "output_type": "execute_result"
    }
   ],
   "source": [
    "cols[8]"
   ]
  },
  {
   "cell_type": "code",
   "execution_count": 41,
   "metadata": {},
   "outputs": [],
   "source": [
    "import time\n",
    "for i in range(8,len(train.columns)):\n",
    "    train.iloc[:5,i]\n",
    "    time.sleep(3)"
   ]
  },
  {
   "cell_type": "code",
   "execution_count": 61,
   "metadata": {},
   "outputs": [
    {
     "data": {
      "text/html": [
       "<div>\n",
       "<style scoped>\n",
       "    .dataframe tbody tr th:only-of-type {\n",
       "        vertical-align: middle;\n",
       "    }\n",
       "\n",
       "    .dataframe tbody tr th {\n",
       "        vertical-align: top;\n",
       "    }\n",
       "\n",
       "    .dataframe thead th {\n",
       "        text-align: right;\n",
       "    }\n",
       "</style>\n",
       "<table border=\"1\" class=\"dataframe\">\n",
       "  <thead>\n",
       "    <tr style=\"text-align: right;\">\n",
       "      <th></th>\n",
       "      <th>shortLoan2</th>\n",
       "      <th>NCLiabilities2</th>\n",
       "      <th>longLoan2</th>\n",
       "      <th>netAsset2</th>\n",
       "      <th>surplus2</th>\n",
       "      <th>employee1</th>\n",
       "      <th>employee2</th>\n",
       "      <th>ownerChange</th>\n",
       "    </tr>\n",
       "  </thead>\n",
       "  <tbody>\n",
       "    <tr>\n",
       "      <th>0</th>\n",
       "      <td>0.000000e+00</td>\n",
       "      <td>5.361169e+08</td>\n",
       "      <td>3.900000e+08</td>\n",
       "      <td>2.619290e+09</td>\n",
       "      <td>1.271224e+09</td>\n",
       "      <td>62.0</td>\n",
       "      <td>64.0</td>\n",
       "      <td>same</td>\n",
       "    </tr>\n",
       "    <tr>\n",
       "      <th>1</th>\n",
       "      <td>NaN</td>\n",
       "      <td>NaN</td>\n",
       "      <td>NaN</td>\n",
       "      <td>NaN</td>\n",
       "      <td>NaN</td>\n",
       "      <td>801.0</td>\n",
       "      <td>813.0</td>\n",
       "      <td>same</td>\n",
       "    </tr>\n",
       "    <tr>\n",
       "      <th>2</th>\n",
       "      <td>0.000000e+00</td>\n",
       "      <td>0.000000e+00</td>\n",
       "      <td>0.000000e+00</td>\n",
       "      <td>0.000000e+00</td>\n",
       "      <td>0.000000e+00</td>\n",
       "      <td>234.0</td>\n",
       "      <td>1.0</td>\n",
       "      <td>same</td>\n",
       "    </tr>\n",
       "    <tr>\n",
       "      <th>3</th>\n",
       "      <td>9.219427e+09</td>\n",
       "      <td>2.073641e+10</td>\n",
       "      <td>1.510000e+10</td>\n",
       "      <td>1.295427e+10</td>\n",
       "      <td>7.740829e+09</td>\n",
       "      <td>663.0</td>\n",
       "      <td>663.0</td>\n",
       "      <td>same</td>\n",
       "    </tr>\n",
       "    <tr>\n",
       "      <th>4</th>\n",
       "      <td>1.759375e+10</td>\n",
       "      <td>2.136001e+10</td>\n",
       "      <td>1.410803e+10</td>\n",
       "      <td>5.561941e+06</td>\n",
       "      <td>9.025550e+09</td>\n",
       "      <td>206.0</td>\n",
       "      <td>197.0</td>\n",
       "      <td>same</td>\n",
       "    </tr>\n",
       "  </tbody>\n",
       "</table>\n",
       "</div>"
      ],
      "text/plain": [
       "     shortLoan2  NCLiabilities2     longLoan2     netAsset2      surplus2  \\\n",
       "0  0.000000e+00    5.361169e+08  3.900000e+08  2.619290e+09  1.271224e+09   \n",
       "1           NaN             NaN           NaN           NaN           NaN   \n",
       "2  0.000000e+00    0.000000e+00  0.000000e+00  0.000000e+00  0.000000e+00   \n",
       "3  9.219427e+09    2.073641e+10  1.510000e+10  1.295427e+10  7.740829e+09   \n",
       "4  1.759375e+10    2.136001e+10  1.410803e+10  5.561941e+06  9.025550e+09   \n",
       "\n",
       "   employee1  employee2 ownerChange  \n",
       "0       62.0       64.0        same  \n",
       "1      801.0      813.0        same  \n",
       "2      234.0        1.0        same  \n",
       "3      663.0      663.0        same  \n",
       "4      206.0      197.0        same  "
      ]
     },
     "execution_count": 61,
     "metadata": {},
     "output_type": "execute_result"
    }
   ],
   "source": [
    "train.iloc[:5,50:]"
   ]
  },
  {
   "cell_type": "code",
   "execution_count": 63,
   "metadata": {},
   "outputs": [],
   "source": [
    "def to_str(col):\n",
    "    train[col] = train[col].astype('str')\n",
    "    test[col] = test[col].astype('str')\n",
    "    total[col] = total[col].astype('str')"
   ]
  },
  {
   "cell_type": "code",
   "execution_count": 64,
   "metadata": {},
   "outputs": [],
   "source": [
    "to_str('ownerChange')"
   ]
  },
  {
   "cell_type": "code",
   "execution_count": 65,
   "metadata": {},
   "outputs": [],
   "source": [
    "encoding('ownerChange')"
   ]
  },
  {
   "cell_type": "code",
   "execution_count": 70,
   "metadata": {},
   "outputs": [],
   "source": [
    "from sklearn.model_selection import train_test_split\n",
    "import xgboost as xgb"
   ]
  },
  {
   "cell_type": "code",
   "execution_count": 73,
   "metadata": {},
   "outputs": [
    {
     "data": {
      "text/plain": [
       "0        open\n",
       "1        open\n",
       "2        open\n",
       "3        open\n",
       "4        open\n",
       "        ...  \n",
       "296      open\n",
       "297     close\n",
       "298     close\n",
       "299     close\n",
       "300      open\n",
       "Name: OC, Length: 301, dtype: object"
      ]
     },
     "execution_count": 73,
     "metadata": {},
     "output_type": "execute_result"
    }
   ],
   "source": [
    "train['OC']"
   ]
  },
  {
   "cell_type": "code",
   "execution_count": 76,
   "metadata": {},
   "outputs": [],
   "source": [
    "enc =LE()\n",
    "train['OC'] = enc.fit_transform(train['OC'])"
   ]
  },
  {
   "cell_type": "code",
   "execution_count": 77,
   "metadata": {},
   "outputs": [
    {
     "data": {
      "text/plain": [
       "0      1\n",
       "1      1\n",
       "2      1\n",
       "3      1\n",
       "4      1\n",
       "      ..\n",
       "296    1\n",
       "297    0\n",
       "298    0\n",
       "299    0\n",
       "300    1\n",
       "Name: OC, Length: 301, dtype: int32"
      ]
     },
     "execution_count": 77,
     "metadata": {},
     "output_type": "execute_result"
    }
   ],
   "source": [
    "train['OC']"
   ]
  },
  {
   "cell_type": "code",
   "execution_count": 94,
   "metadata": {
    "scrolled": true
   },
   "outputs": [
    {
     "data": {
      "text/plain": [
       "0       62.0\n",
       "1      801.0\n",
       "2      234.0\n",
       "3      663.0\n",
       "4      206.0\n",
       "       ...  \n",
       "296    193.0\n",
       "297     79.0\n",
       "298      NaN\n",
       "299    100.0\n",
       "300     15.0\n",
       "Name: employee1, Length: 301, dtype: float64"
      ]
     },
     "execution_count": 94,
     "metadata": {},
     "output_type": "execute_result"
    }
   ],
   "source": [
    "train['employee1']"
   ]
  },
  {
   "cell_type": "code",
   "execution_count": 84,
   "metadata": {},
   "outputs": [],
   "source": [
    "target = train.pop('OC')\n",
    "train_id = train.pop('inst_id')"
   ]
  },
  {
   "cell_type": "code",
   "execution_count": 85,
   "metadata": {},
   "outputs": [],
   "source": [
    "clf = xgb.XGBClassifier()"
   ]
  },
  {
   "cell_type": "code",
   "execution_count": 86,
   "metadata": {},
   "outputs": [
    {
     "data": {
      "text/plain": [
       "XGBClassifier(base_score=0.5, booster='gbtree', colsample_bylevel=1,\n",
       "              colsample_bynode=1, colsample_bytree=1, gamma=0, gpu_id=-1,\n",
       "              importance_type='gain', interaction_constraints='',\n",
       "              learning_rate=0.300000012, max_delta_step=0, max_depth=6,\n",
       "              min_child_weight=1, missing=nan, monotone_constraints='()',\n",
       "              n_estimators=100, n_jobs=0, num_parallel_tree=1, random_state=0,\n",
       "              reg_alpha=0, reg_lambda=1, scale_pos_weight=1, subsample=1,\n",
       "              tree_method='exact', validate_parameters=1, verbosity=None)"
      ]
     },
     "execution_count": 86,
     "metadata": {},
     "output_type": "execute_result"
    }
   ],
   "source": [
    "clf.fit(train,target)"
   ]
  },
  {
   "cell_type": "code",
   "execution_count": 87,
   "metadata": {},
   "outputs": [],
   "source": [
    "answer_sheet = test.pop('OC')\n",
    "test_id = test.pop('inst_id')"
   ]
  },
  {
   "cell_type": "code",
   "execution_count": 111,
   "metadata": {},
   "outputs": [],
   "source": [
    "test['employee1'] = test['employee1'].astype('str').str.replace(',','').astype('float')\n",
    "test['employee2'] = test['employee2'].astype('str').str.replace(',','').astype('float')"
   ]
  },
  {
   "cell_type": "code",
   "execution_count": 113,
   "metadata": {
    "scrolled": true
   },
   "outputs": [],
   "source": [
    "pred = clf.predict(test[train.columns])"
   ]
  },
  {
   "cell_type": "code",
   "execution_count": 116,
   "metadata": {},
   "outputs": [],
   "source": [
    "test['OC'] =pred"
   ]
  },
  {
   "cell_type": "code",
   "execution_count": 117,
   "metadata": {},
   "outputs": [
    {
     "data": {
      "text/html": [
       "<div>\n",
       "<style scoped>\n",
       "    .dataframe tbody tr th:only-of-type {\n",
       "        vertical-align: middle;\n",
       "    }\n",
       "\n",
       "    .dataframe tbody tr th {\n",
       "        vertical-align: top;\n",
       "    }\n",
       "\n",
       "    .dataframe thead th {\n",
       "        text-align: right;\n",
       "    }\n",
       "</style>\n",
       "<table border=\"1\" class=\"dataframe\">\n",
       "  <thead>\n",
       "    <tr style=\"text-align: right;\">\n",
       "      <th></th>\n",
       "      <th>OC</th>\n",
       "      <th>sido</th>\n",
       "      <th>sgg</th>\n",
       "      <th>openDate</th>\n",
       "      <th>bedCount</th>\n",
       "      <th>instkind</th>\n",
       "      <th>revenue1</th>\n",
       "      <th>salescost1</th>\n",
       "      <th>sga1</th>\n",
       "      <th>salary1</th>\n",
       "      <th>...</th>\n",
       "      <th>debt2</th>\n",
       "      <th>liquidLiabilities2</th>\n",
       "      <th>shortLoan2</th>\n",
       "      <th>NCLiabilities2</th>\n",
       "      <th>longLoan2</th>\n",
       "      <th>netAsset2</th>\n",
       "      <th>surplus2</th>\n",
       "      <th>employee1</th>\n",
       "      <th>employee2</th>\n",
       "      <th>ownerChange</th>\n",
       "    </tr>\n",
       "  </thead>\n",
       "  <tbody>\n",
       "    <tr>\n",
       "      <th>0</th>\n",
       "      <td>1</td>\n",
       "      <td>10</td>\n",
       "      <td>138</td>\n",
       "      <td>19981125.0</td>\n",
       "      <td>300.0</td>\n",
       "      <td>2</td>\n",
       "      <td>6.682486e+10</td>\n",
       "      <td>0.000000e+00</td>\n",
       "      <td>6.565709e+10</td>\n",
       "      <td>3.223695e+10</td>\n",
       "      <td>...</td>\n",
       "      <td>5.540643e+10</td>\n",
       "      <td>5.068443e+10</td>\n",
       "      <td>3.714334e+10</td>\n",
       "      <td>4.720000e+09</td>\n",
       "      <td>4.690000e+09</td>\n",
       "      <td>1.608540e+10</td>\n",
       "      <td>8.944587e+09</td>\n",
       "      <td>693.0</td>\n",
       "      <td>693.0</td>\n",
       "      <td>2</td>\n",
       "    </tr>\n",
       "    <tr>\n",
       "      <th>1</th>\n",
       "      <td>1</td>\n",
       "      <td>11</td>\n",
       "      <td>148</td>\n",
       "      <td>20160309.0</td>\n",
       "      <td>44.0</td>\n",
       "      <td>3</td>\n",
       "      <td>3.495758e+10</td>\n",
       "      <td>0.000000e+00</td>\n",
       "      <td>3.259270e+10</td>\n",
       "      <td>1.672254e+10</td>\n",
       "      <td>...</td>\n",
       "      <td>6.730838e+10</td>\n",
       "      <td>4.209828e+10</td>\n",
       "      <td>2.420000e+10</td>\n",
       "      <td>2.521009e+10</td>\n",
       "      <td>1.830000e+10</td>\n",
       "      <td>3.789135e+09</td>\n",
       "      <td>0.000000e+00</td>\n",
       "      <td>379.0</td>\n",
       "      <td>371.0</td>\n",
       "      <td>2</td>\n",
       "    </tr>\n",
       "    <tr>\n",
       "      <th>2</th>\n",
       "      <td>1</td>\n",
       "      <td>13</td>\n",
       "      <td>102</td>\n",
       "      <td>19890427.0</td>\n",
       "      <td>276.0</td>\n",
       "      <td>2</td>\n",
       "      <td>2.326031e+10</td>\n",
       "      <td>2.542571e+09</td>\n",
       "      <td>2.308749e+10</td>\n",
       "      <td>1.168734e+10</td>\n",
       "      <td>...</td>\n",
       "      <td>0.000000e+00</td>\n",
       "      <td>2.777589e+10</td>\n",
       "      <td>2.182278e+10</td>\n",
       "      <td>0.000000e+00</td>\n",
       "      <td>0.000000e+00</td>\n",
       "      <td>0.000000e+00</td>\n",
       "      <td>1.638540e+10</td>\n",
       "      <td>NaN</td>\n",
       "      <td>NaN</td>\n",
       "      <td>1</td>\n",
       "    </tr>\n",
       "    <tr>\n",
       "      <th>3</th>\n",
       "      <td>1</td>\n",
       "      <td>0</td>\n",
       "      <td>70</td>\n",
       "      <td>20100226.0</td>\n",
       "      <td>363.0</td>\n",
       "      <td>2</td>\n",
       "      <td>0.000000e+00</td>\n",
       "      <td>0.000000e+00</td>\n",
       "      <td>0.000000e+00</td>\n",
       "      <td>0.000000e+00</td>\n",
       "      <td>...</td>\n",
       "      <td>1.211517e+10</td>\n",
       "      <td>9.556237e+09</td>\n",
       "      <td>4.251867e+09</td>\n",
       "      <td>2.558931e+09</td>\n",
       "      <td>0.000000e+00</td>\n",
       "      <td>3.914284e+10</td>\n",
       "      <td>0.000000e+00</td>\n",
       "      <td>760.0</td>\n",
       "      <td>760.0</td>\n",
       "      <td>2</td>\n",
       "    </tr>\n",
       "    <tr>\n",
       "      <th>4</th>\n",
       "      <td>1</td>\n",
       "      <td>12</td>\n",
       "      <td>25</td>\n",
       "      <td>20040604.0</td>\n",
       "      <td>213.0</td>\n",
       "      <td>2</td>\n",
       "      <td>5.037025e+10</td>\n",
       "      <td>0.000000e+00</td>\n",
       "      <td>4.855803e+10</td>\n",
       "      <td>2.296346e+10</td>\n",
       "      <td>...</td>\n",
       "      <td>4.395973e+10</td>\n",
       "      <td>7.535567e+09</td>\n",
       "      <td>3.298427e+09</td>\n",
       "      <td>3.642417e+10</td>\n",
       "      <td>2.134712e+10</td>\n",
       "      <td>2.574488e+10</td>\n",
       "      <td>1.507269e+10</td>\n",
       "      <td>437.0</td>\n",
       "      <td>385.0</td>\n",
       "      <td>2</td>\n",
       "    </tr>\n",
       "    <tr>\n",
       "      <th>...</th>\n",
       "      <td>...</td>\n",
       "      <td>...</td>\n",
       "      <td>...</td>\n",
       "      <td>...</td>\n",
       "      <td>...</td>\n",
       "      <td>...</td>\n",
       "      <td>...</td>\n",
       "      <td>...</td>\n",
       "      <td>...</td>\n",
       "      <td>...</td>\n",
       "      <td>...</td>\n",
       "      <td>...</td>\n",
       "      <td>...</td>\n",
       "      <td>...</td>\n",
       "      <td>...</td>\n",
       "      <td>...</td>\n",
       "      <td>...</td>\n",
       "      <td>...</td>\n",
       "      <td>...</td>\n",
       "      <td>...</td>\n",
       "      <td>...</td>\n",
       "    </tr>\n",
       "    <tr>\n",
       "      <th>122</th>\n",
       "      <td>0</td>\n",
       "      <td>13</td>\n",
       "      <td>32</td>\n",
       "      <td>20011012.0</td>\n",
       "      <td>0.0</td>\n",
       "      <td>6</td>\n",
       "      <td>2.233031e+10</td>\n",
       "      <td>8.484657e+08</td>\n",
       "      <td>1.849255e+10</td>\n",
       "      <td>1.232241e+10</td>\n",
       "      <td>...</td>\n",
       "      <td>1.563217e+10</td>\n",
       "      <td>1.288180e+10</td>\n",
       "      <td>0.000000e+00</td>\n",
       "      <td>2.750371e+09</td>\n",
       "      <td>0.000000e+00</td>\n",
       "      <td>1.384958e+10</td>\n",
       "      <td>0.000000e+00</td>\n",
       "      <td>560.0</td>\n",
       "      <td>NaN</td>\n",
       "      <td>1</td>\n",
       "    </tr>\n",
       "    <tr>\n",
       "      <th>123</th>\n",
       "      <td>1</td>\n",
       "      <td>8</td>\n",
       "      <td>73</td>\n",
       "      <td>20010530.0</td>\n",
       "      <td>NaN</td>\n",
       "      <td>7</td>\n",
       "      <td>1.833906e+10</td>\n",
       "      <td>0.000000e+00</td>\n",
       "      <td>1.760117e+10</td>\n",
       "      <td>6.824241e+09</td>\n",
       "      <td>...</td>\n",
       "      <td>3.176628e+09</td>\n",
       "      <td>1.376742e+09</td>\n",
       "      <td>0.000000e+00</td>\n",
       "      <td>1.799886e+09</td>\n",
       "      <td>1.740000e+09</td>\n",
       "      <td>8.574502e+09</td>\n",
       "      <td>7.136681e+09</td>\n",
       "      <td>132.0</td>\n",
       "      <td>137.0</td>\n",
       "      <td>2</td>\n",
       "    </tr>\n",
       "    <tr>\n",
       "      <th>124</th>\n",
       "      <td>1</td>\n",
       "      <td>8</td>\n",
       "      <td>115</td>\n",
       "      <td>20010101.0</td>\n",
       "      <td>150.0</td>\n",
       "      <td>3</td>\n",
       "      <td>1.424266e+10</td>\n",
       "      <td>1.726174e+09</td>\n",
       "      <td>1.148722e+10</td>\n",
       "      <td>6.279155e+09</td>\n",
       "      <td>...</td>\n",
       "      <td>0.000000e+00</td>\n",
       "      <td>0.000000e+00</td>\n",
       "      <td>0.000000e+00</td>\n",
       "      <td>0.000000e+00</td>\n",
       "      <td>0.000000e+00</td>\n",
       "      <td>0.000000e+00</td>\n",
       "      <td>0.000000e+00</td>\n",
       "      <td>NaN</td>\n",
       "      <td>NaN</td>\n",
       "      <td>1</td>\n",
       "    </tr>\n",
       "    <tr>\n",
       "      <th>125</th>\n",
       "      <td>0</td>\n",
       "      <td>11</td>\n",
       "      <td>75</td>\n",
       "      <td>20010201.0</td>\n",
       "      <td>NaN</td>\n",
       "      <td>4</td>\n",
       "      <td>4.892710e+10</td>\n",
       "      <td>4.157148e+10</td>\n",
       "      <td>4.721485e+09</td>\n",
       "      <td>1.514547e+09</td>\n",
       "      <td>...</td>\n",
       "      <td>3.720397e+10</td>\n",
       "      <td>8.485918e+09</td>\n",
       "      <td>0.000000e+00</td>\n",
       "      <td>2.871805e+10</td>\n",
       "      <td>2.563120e+10</td>\n",
       "      <td>-2.050629e+08</td>\n",
       "      <td>0.000000e+00</td>\n",
       "      <td>363.0</td>\n",
       "      <td>343.0</td>\n",
       "      <td>2</td>\n",
       "    </tr>\n",
       "    <tr>\n",
       "      <th>126</th>\n",
       "      <td>0</td>\n",
       "      <td>1</td>\n",
       "      <td>162</td>\n",
       "      <td>19961216.0</td>\n",
       "      <td>96.0</td>\n",
       "      <td>3</td>\n",
       "      <td>1.092444e+10</td>\n",
       "      <td>1.168731e+09</td>\n",
       "      <td>8.709839e+09</td>\n",
       "      <td>3.784543e+09</td>\n",
       "      <td>...</td>\n",
       "      <td>0.000000e+00</td>\n",
       "      <td>0.000000e+00</td>\n",
       "      <td>0.000000e+00</td>\n",
       "      <td>0.000000e+00</td>\n",
       "      <td>0.000000e+00</td>\n",
       "      <td>0.000000e+00</td>\n",
       "      <td>0.000000e+00</td>\n",
       "      <td>NaN</td>\n",
       "      <td>NaN</td>\n",
       "      <td>1</td>\n",
       "    </tr>\n",
       "  </tbody>\n",
       "</table>\n",
       "<p>127 rows × 57 columns</p>\n",
       "</div>"
      ],
      "text/plain": [
       "     OC  sido  sgg    openDate  bedCount  instkind      revenue1  \\\n",
       "0     1    10  138  19981125.0     300.0         2  6.682486e+10   \n",
       "1     1    11  148  20160309.0      44.0         3  3.495758e+10   \n",
       "2     1    13  102  19890427.0     276.0         2  2.326031e+10   \n",
       "3     1     0   70  20100226.0     363.0         2  0.000000e+00   \n",
       "4     1    12   25  20040604.0     213.0         2  5.037025e+10   \n",
       "..   ..   ...  ...         ...       ...       ...           ...   \n",
       "122   0    13   32  20011012.0       0.0         6  2.233031e+10   \n",
       "123   1     8   73  20010530.0       NaN         7  1.833906e+10   \n",
       "124   1     8  115  20010101.0     150.0         3  1.424266e+10   \n",
       "125   0    11   75  20010201.0       NaN         4  4.892710e+10   \n",
       "126   0     1  162  19961216.0      96.0         3  1.092444e+10   \n",
       "\n",
       "       salescost1          sga1       salary1  ...         debt2  \\\n",
       "0    0.000000e+00  6.565709e+10  3.223695e+10  ...  5.540643e+10   \n",
       "1    0.000000e+00  3.259270e+10  1.672254e+10  ...  6.730838e+10   \n",
       "2    2.542571e+09  2.308749e+10  1.168734e+10  ...  0.000000e+00   \n",
       "3    0.000000e+00  0.000000e+00  0.000000e+00  ...  1.211517e+10   \n",
       "4    0.000000e+00  4.855803e+10  2.296346e+10  ...  4.395973e+10   \n",
       "..            ...           ...           ...  ...           ...   \n",
       "122  8.484657e+08  1.849255e+10  1.232241e+10  ...  1.563217e+10   \n",
       "123  0.000000e+00  1.760117e+10  6.824241e+09  ...  3.176628e+09   \n",
       "124  1.726174e+09  1.148722e+10  6.279155e+09  ...  0.000000e+00   \n",
       "125  4.157148e+10  4.721485e+09  1.514547e+09  ...  3.720397e+10   \n",
       "126  1.168731e+09  8.709839e+09  3.784543e+09  ...  0.000000e+00   \n",
       "\n",
       "     liquidLiabilities2    shortLoan2  NCLiabilities2     longLoan2  \\\n",
       "0          5.068443e+10  3.714334e+10    4.720000e+09  4.690000e+09   \n",
       "1          4.209828e+10  2.420000e+10    2.521009e+10  1.830000e+10   \n",
       "2          2.777589e+10  2.182278e+10    0.000000e+00  0.000000e+00   \n",
       "3          9.556237e+09  4.251867e+09    2.558931e+09  0.000000e+00   \n",
       "4          7.535567e+09  3.298427e+09    3.642417e+10  2.134712e+10   \n",
       "..                  ...           ...             ...           ...   \n",
       "122        1.288180e+10  0.000000e+00    2.750371e+09  0.000000e+00   \n",
       "123        1.376742e+09  0.000000e+00    1.799886e+09  1.740000e+09   \n",
       "124        0.000000e+00  0.000000e+00    0.000000e+00  0.000000e+00   \n",
       "125        8.485918e+09  0.000000e+00    2.871805e+10  2.563120e+10   \n",
       "126        0.000000e+00  0.000000e+00    0.000000e+00  0.000000e+00   \n",
       "\n",
       "        netAsset2      surplus2  employee1  employee2  ownerChange  \n",
       "0    1.608540e+10  8.944587e+09      693.0      693.0            2  \n",
       "1    3.789135e+09  0.000000e+00      379.0      371.0            2  \n",
       "2    0.000000e+00  1.638540e+10        NaN        NaN            1  \n",
       "3    3.914284e+10  0.000000e+00      760.0      760.0            2  \n",
       "4    2.574488e+10  1.507269e+10      437.0      385.0            2  \n",
       "..            ...           ...        ...        ...          ...  \n",
       "122  1.384958e+10  0.000000e+00      560.0        NaN            1  \n",
       "123  8.574502e+09  7.136681e+09      132.0      137.0            2  \n",
       "124  0.000000e+00  0.000000e+00        NaN        NaN            1  \n",
       "125 -2.050629e+08  0.000000e+00      363.0      343.0            2  \n",
       "126  0.000000e+00  0.000000e+00        NaN        NaN            1  \n",
       "\n",
       "[127 rows x 57 columns]"
      ]
     },
     "execution_count": 117,
     "metadata": {},
     "output_type": "execute_result"
    }
   ],
   "source": [
    "test"
   ]
  },
  {
   "cell_type": "code",
   "execution_count": 126,
   "metadata": {},
   "outputs": [
    {
     "data": {
      "text/plain": [
       "127"
      ]
     },
     "execution_count": 126,
     "metadata": {},
     "output_type": "execute_result"
    }
   ],
   "source": [
    "sum(test_id == ss['inst_id'])"
   ]
  },
  {
   "cell_type": "code",
   "execution_count": 121,
   "metadata": {},
   "outputs": [
    {
     "data": {
      "text/plain": [
       "127"
      ]
     },
     "execution_count": 121,
     "metadata": {},
     "output_type": "execute_result"
    }
   ],
   "source": [
    "len(ss)"
   ]
  },
  {
   "cell_type": "code",
   "execution_count": 138,
   "metadata": {},
   "outputs": [],
   "source": [
    "pred = pred.astype('int32')"
   ]
  },
  {
   "cell_type": "code",
   "execution_count": 132,
   "metadata": {
    "scrolled": true
   },
   "outputs": [],
   "source": [
    "ss['OC']=pred"
   ]
  },
  {
   "cell_type": "code",
   "execution_count": 140,
   "metadata": {},
   "outputs": [],
   "source": [
    "ss.to_csv('baseline.csv',index=False)"
   ]
  },
  {
   "cell_type": "code",
   "execution_count": 137,
   "metadata": {},
   "outputs": [
    {
     "data": {
      "text/plain": [
       "0      1\n",
       "1      1\n",
       "2      1\n",
       "3      1\n",
       "4      1\n",
       "      ..\n",
       "296    1\n",
       "297    0\n",
       "298    0\n",
       "299    0\n",
       "300    1\n",
       "Name: OC, Length: 301, dtype: int32"
      ]
     },
     "execution_count": 137,
     "metadata": {},
     "output_type": "execute_result"
    }
   ],
   "source": [
    "target"
   ]
  },
  {
   "cell_type": "code",
   "execution_count": 134,
   "metadata": {},
   "outputs": [
    {
     "data": {
      "text/html": [
       "<div>\n",
       "<style scoped>\n",
       "    .dataframe tbody tr th:only-of-type {\n",
       "        vertical-align: middle;\n",
       "    }\n",
       "\n",
       "    .dataframe tbody tr th {\n",
       "        vertical-align: top;\n",
       "    }\n",
       "\n",
       "    .dataframe thead th {\n",
       "        text-align: right;\n",
       "    }\n",
       "</style>\n",
       "<table border=\"1\" class=\"dataframe\">\n",
       "  <thead>\n",
       "    <tr style=\"text-align: right;\">\n",
       "      <th></th>\n",
       "      <th>inst_id</th>\n",
       "      <th>OC</th>\n",
       "    </tr>\n",
       "  </thead>\n",
       "  <tbody>\n",
       "    <tr>\n",
       "      <th>0</th>\n",
       "      <td>2</td>\n",
       "      <td>1</td>\n",
       "    </tr>\n",
       "    <tr>\n",
       "      <th>1</th>\n",
       "      <td>5</td>\n",
       "      <td>1</td>\n",
       "    </tr>\n",
       "    <tr>\n",
       "      <th>2</th>\n",
       "      <td>6</td>\n",
       "      <td>1</td>\n",
       "    </tr>\n",
       "    <tr>\n",
       "      <th>3</th>\n",
       "      <td>8</td>\n",
       "      <td>1</td>\n",
       "    </tr>\n",
       "    <tr>\n",
       "      <th>4</th>\n",
       "      <td>10</td>\n",
       "      <td>1</td>\n",
       "    </tr>\n",
       "    <tr>\n",
       "      <th>...</th>\n",
       "      <td>...</td>\n",
       "      <td>...</td>\n",
       "    </tr>\n",
       "    <tr>\n",
       "      <th>122</th>\n",
       "      <td>424</td>\n",
       "      <td>0</td>\n",
       "    </tr>\n",
       "    <tr>\n",
       "      <th>123</th>\n",
       "      <td>425</td>\n",
       "      <td>1</td>\n",
       "    </tr>\n",
       "    <tr>\n",
       "      <th>124</th>\n",
       "      <td>429</td>\n",
       "      <td>1</td>\n",
       "    </tr>\n",
       "    <tr>\n",
       "      <th>125</th>\n",
       "      <td>430</td>\n",
       "      <td>0</td>\n",
       "    </tr>\n",
       "    <tr>\n",
       "      <th>126</th>\n",
       "      <td>431</td>\n",
       "      <td>0</td>\n",
       "    </tr>\n",
       "  </tbody>\n",
       "</table>\n",
       "<p>127 rows × 2 columns</p>\n",
       "</div>"
      ],
      "text/plain": [
       "     inst_id  OC\n",
       "0          2   1\n",
       "1          5   1\n",
       "2          6   1\n",
       "3          8   1\n",
       "4         10   1\n",
       "..       ...  ..\n",
       "122      424   0\n",
       "123      425   1\n",
       "124      429   1\n",
       "125      430   0\n",
       "126      431   0\n",
       "\n",
       "[127 rows x 2 columns]"
      ]
     },
     "execution_count": 134,
     "metadata": {},
     "output_type": "execute_result"
    }
   ],
   "source": [
    "ss"
   ]
  }
 ],
 "metadata": {
  "kernelspec": {
   "display_name": "Python 3",
   "language": "python",
   "name": "python3"
  },
  "language_info": {
   "codemirror_mode": {
    "name": "ipython",
    "version": 3
   },
   "file_extension": ".py",
   "mimetype": "text/x-python",
   "name": "python",
   "nbconvert_exporter": "python",
   "pygments_lexer": "ipython3",
   "version": "3.7.6"
  }
 },
 "nbformat": 4,
 "nbformat_minor": 4
}
